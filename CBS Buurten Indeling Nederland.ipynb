{
 "cells": [
  {
   "cell_type": "markdown",
   "id": "785bc900",
   "metadata": {},
   "source": [
    "# ENEXIS Graduation Project"
   ]
  },
  {
   "cell_type": "markdown",
   "id": "0042c026",
   "metadata": {},
   "source": [
    "#### Creating auxiliary file with a directory of buurts, wijks, gemeenten and provinces in the Netherlands"
   ]
  },
  {
   "cell_type": "markdown",
   "id": "e97c5ba1",
   "metadata": {},
   "source": [
    "# CRISP-DM Phase 2: Data Understanding - CBS Data"
   ]
  },
  {
   "cell_type": "markdown",
   "id": "f98fdd4c",
   "metadata": {},
   "source": [
    "### Collect Initial Data"
   ]
  },
  {
   "cell_type": "code",
   "execution_count": 1,
   "id": "039bc40a",
   "metadata": {},
   "outputs": [],
   "source": [
    "import cbsodata\n",
    "import pandas as pd\n",
    "import seaborn as sns\n",
    "import matplotlib.pyplot as plt\n",
    "import nbconvert\n",
    "pd.set_option(\"max_rows\", 120)\n",
    "pd.options.mode.chained_assignment = None  # default='warn'"
   ]
  },
  {
   "cell_type": "code",
   "execution_count": 2,
   "id": "f7ffc337",
   "metadata": {},
   "outputs": [],
   "source": [
    "c_path = \"./data/\"\n",
    "v_file = \"brt2021\" # CBS file with buurts "
   ]
  },
  {
   "cell_type": "code",
   "execution_count": 3,
   "id": "e9e192cf",
   "metadata": {},
   "outputs": [],
   "source": [
    "df     = pd.read_csv(filepath_or_buffer = c_path + v_file + \".csv\",\n",
    "                         sep                = ';',\n",
    "                         decimal            = ',',\n",
    "                         thousands          = '.',\n",
    "                         encoding           = 'UTF-8')"
   ]
  },
  {
   "cell_type": "code",
   "execution_count": 4,
   "id": "98810e8b",
   "metadata": {},
   "outputs": [
    {
     "name": "stdout",
     "output_type": "stream",
     "text": [
      "<class 'pandas.core.frame.DataFrame'>\n",
      "RangeIndex: 14175 entries, 0 to 14174\n",
      "Data columns (total 8 columns):\n",
      " #   Column         Non-Null Count  Dtype \n",
      "---  ------         --------------  ----- \n",
      " 0   buurtcode2021  14175 non-null  int64 \n",
      " 1   buurtnaam2021  14175 non-null  object\n",
      " 2   GM_2021        14175 non-null  object\n",
      " 3   GM2021         14175 non-null  int64 \n",
      " 4   GM_NAAM        14175 non-null  object\n",
      " 5   WK_2021        14175 non-null  object\n",
      " 6   WK2021         14175 non-null  int64 \n",
      " 7   WK_NAAM        14175 non-null  object\n",
      "dtypes: int64(3), object(5)\n",
      "memory usage: 886.1+ KB\n"
     ]
    }
   ],
   "source": [
    "df.info()"
   ]
  },
  {
   "cell_type": "code",
   "execution_count": 5,
   "id": "d8080c94",
   "metadata": {},
   "outputs": [
    {
     "data": {
      "text/html": [
       "<div>\n",
       "<style scoped>\n",
       "    .dataframe tbody tr th:only-of-type {\n",
       "        vertical-align: middle;\n",
       "    }\n",
       "\n",
       "    .dataframe tbody tr th {\n",
       "        vertical-align: top;\n",
       "    }\n",
       "\n",
       "    .dataframe thead th {\n",
       "        text-align: right;\n",
       "    }\n",
       "</style>\n",
       "<table border=\"1\" class=\"dataframe\">\n",
       "  <thead>\n",
       "    <tr style=\"text-align: right;\">\n",
       "      <th></th>\n",
       "      <th>buurtcode2021</th>\n",
       "      <th>buurtnaam2021</th>\n",
       "      <th>GM_2021</th>\n",
       "      <th>GM2021</th>\n",
       "      <th>GM_NAAM</th>\n",
       "      <th>WK_2021</th>\n",
       "      <th>WK2021</th>\n",
       "      <th>WK_NAAM</th>\n",
       "    </tr>\n",
       "  </thead>\n",
       "  <tbody>\n",
       "    <tr>\n",
       "      <th>0</th>\n",
       "      <td>140000</td>\n",
       "      <td>Binnenstad-Noord</td>\n",
       "      <td>GM0014</td>\n",
       "      <td>14</td>\n",
       "      <td>Groningen</td>\n",
       "      <td>WK001400</td>\n",
       "      <td>1400</td>\n",
       "      <td>Centrum</td>\n",
       "    </tr>\n",
       "    <tr>\n",
       "      <th>1</th>\n",
       "      <td>140001</td>\n",
       "      <td>Binnenstad-Zuid</td>\n",
       "      <td>GM0014</td>\n",
       "      <td>14</td>\n",
       "      <td>Groningen</td>\n",
       "      <td>WK001400</td>\n",
       "      <td>1400</td>\n",
       "      <td>Centrum</td>\n",
       "    </tr>\n",
       "    <tr>\n",
       "      <th>2</th>\n",
       "      <td>140002</td>\n",
       "      <td>Binnenstad-Oost</td>\n",
       "      <td>GM0014</td>\n",
       "      <td>14</td>\n",
       "      <td>Groningen</td>\n",
       "      <td>WK001400</td>\n",
       "      <td>1400</td>\n",
       "      <td>Centrum</td>\n",
       "    </tr>\n",
       "    <tr>\n",
       "      <th>3</th>\n",
       "      <td>140003</td>\n",
       "      <td>Binnenstad-West</td>\n",
       "      <td>GM0014</td>\n",
       "      <td>14</td>\n",
       "      <td>Groningen</td>\n",
       "      <td>WK001400</td>\n",
       "      <td>1400</td>\n",
       "      <td>Centrum</td>\n",
       "    </tr>\n",
       "    <tr>\n",
       "      <th>4</th>\n",
       "      <td>140004</td>\n",
       "      <td>Noorderplantsoen</td>\n",
       "      <td>GM0014</td>\n",
       "      <td>14</td>\n",
       "      <td>Groningen</td>\n",
       "      <td>WK001400</td>\n",
       "      <td>1400</td>\n",
       "      <td>Centrum</td>\n",
       "    </tr>\n",
       "  </tbody>\n",
       "</table>\n",
       "</div>"
      ],
      "text/plain": [
       "   buurtcode2021     buurtnaam2021 GM_2021  GM2021    GM_NAAM   WK_2021  \\\n",
       "0         140000  Binnenstad-Noord  GM0014      14  Groningen  WK001400   \n",
       "1         140001   Binnenstad-Zuid  GM0014      14  Groningen  WK001400   \n",
       "2         140002   Binnenstad-Oost  GM0014      14  Groningen  WK001400   \n",
       "3         140003   Binnenstad-West  GM0014      14  Groningen  WK001400   \n",
       "4         140004  Noorderplantsoen  GM0014      14  Groningen  WK001400   \n",
       "\n",
       "   WK2021  WK_NAAM  \n",
       "0    1400  Centrum  \n",
       "1    1400  Centrum  \n",
       "2    1400  Centrum  \n",
       "3    1400  Centrum  \n",
       "4    1400  Centrum  "
      ]
     },
     "execution_count": 5,
     "metadata": {},
     "output_type": "execute_result"
    }
   ],
   "source": [
    "df.head()"
   ]
  },
  {
   "cell_type": "code",
   "execution_count": 6,
   "id": "bc35ce39",
   "metadata": {},
   "outputs": [],
   "source": [
    "df['BU_2021'] = df['buurtcode2021'].astype(str)"
   ]
  },
  {
   "cell_type": "code",
   "execution_count": 7,
   "id": "bc4b4c3a",
   "metadata": {},
   "outputs": [],
   "source": [
    "def makebuurt(code):\n",
    "    if len(code) == 6:\n",
    "        return 'BU00' + code\n",
    "    elif len(code) == 7:\n",
    "        return 'BU0' + code\n",
    "    else:\n",
    "        return 'BU' + code"
   ]
  },
  {
   "cell_type": "code",
   "execution_count": 8,
   "id": "18a3200c",
   "metadata": {},
   "outputs": [],
   "source": [
    "df['BU_2021'] = df['BU_2021'].apply(makebuurt)"
   ]
  },
  {
   "cell_type": "code",
   "execution_count": 9,
   "id": "ed9c3f94",
   "metadata": {},
   "outputs": [],
   "source": [
    "df = df[['BU_2021', 'buurtnaam2021', 'WK_2021', 'WK_NAAM', 'GM_2021', 'GM_NAAM']]"
   ]
  },
  {
   "cell_type": "code",
   "execution_count": 10,
   "id": "1a4a3abf",
   "metadata": {},
   "outputs": [],
   "source": [
    "df = df.rename(columns={'buurtnaam2021': 'BU_NAAM'})"
   ]
  },
  {
   "cell_type": "code",
   "execution_count": 11,
   "id": "816716bd",
   "metadata": {},
   "outputs": [
    {
     "data": {
      "text/html": [
       "<div>\n",
       "<style scoped>\n",
       "    .dataframe tbody tr th:only-of-type {\n",
       "        vertical-align: middle;\n",
       "    }\n",
       "\n",
       "    .dataframe tbody tr th {\n",
       "        vertical-align: top;\n",
       "    }\n",
       "\n",
       "    .dataframe thead th {\n",
       "        text-align: right;\n",
       "    }\n",
       "</style>\n",
       "<table border=\"1\" class=\"dataframe\">\n",
       "  <thead>\n",
       "    <tr style=\"text-align: right;\">\n",
       "      <th></th>\n",
       "      <th>BU_2021</th>\n",
       "      <th>BU_NAAM</th>\n",
       "      <th>WK_2021</th>\n",
       "      <th>WK_NAAM</th>\n",
       "      <th>GM_2021</th>\n",
       "      <th>GM_NAAM</th>\n",
       "    </tr>\n",
       "  </thead>\n",
       "  <tbody>\n",
       "    <tr>\n",
       "      <th>0</th>\n",
       "      <td>BU00140000</td>\n",
       "      <td>Binnenstad-Noord</td>\n",
       "      <td>WK001400</td>\n",
       "      <td>Centrum</td>\n",
       "      <td>GM0014</td>\n",
       "      <td>Groningen</td>\n",
       "    </tr>\n",
       "    <tr>\n",
       "      <th>1</th>\n",
       "      <td>BU00140001</td>\n",
       "      <td>Binnenstad-Zuid</td>\n",
       "      <td>WK001400</td>\n",
       "      <td>Centrum</td>\n",
       "      <td>GM0014</td>\n",
       "      <td>Groningen</td>\n",
       "    </tr>\n",
       "    <tr>\n",
       "      <th>2</th>\n",
       "      <td>BU00140002</td>\n",
       "      <td>Binnenstad-Oost</td>\n",
       "      <td>WK001400</td>\n",
       "      <td>Centrum</td>\n",
       "      <td>GM0014</td>\n",
       "      <td>Groningen</td>\n",
       "    </tr>\n",
       "    <tr>\n",
       "      <th>3</th>\n",
       "      <td>BU00140003</td>\n",
       "      <td>Binnenstad-West</td>\n",
       "      <td>WK001400</td>\n",
       "      <td>Centrum</td>\n",
       "      <td>GM0014</td>\n",
       "      <td>Groningen</td>\n",
       "    </tr>\n",
       "    <tr>\n",
       "      <th>4</th>\n",
       "      <td>BU00140004</td>\n",
       "      <td>Noorderplantsoen</td>\n",
       "      <td>WK001400</td>\n",
       "      <td>Centrum</td>\n",
       "      <td>GM0014</td>\n",
       "      <td>Groningen</td>\n",
       "    </tr>\n",
       "  </tbody>\n",
       "</table>\n",
       "</div>"
      ],
      "text/plain": [
       "      BU_2021           BU_NAAM   WK_2021  WK_NAAM GM_2021    GM_NAAM\n",
       "0  BU00140000  Binnenstad-Noord  WK001400  Centrum  GM0014  Groningen\n",
       "1  BU00140001   Binnenstad-Zuid  WK001400  Centrum  GM0014  Groningen\n",
       "2  BU00140002   Binnenstad-Oost  WK001400  Centrum  GM0014  Groningen\n",
       "3  BU00140003   Binnenstad-West  WK001400  Centrum  GM0014  Groningen\n",
       "4  BU00140004  Noorderplantsoen  WK001400  Centrum  GM0014  Groningen"
      ]
     },
     "execution_count": 11,
     "metadata": {},
     "output_type": "execute_result"
    }
   ],
   "source": [
    "df.head()"
   ]
  },
  {
   "cell_type": "code",
   "execution_count": 12,
   "id": "c1f1ba88",
   "metadata": {},
   "outputs": [],
   "source": [
    "v_file = \"gemeenten-alfabetisch-2021\"  # register of gemeentes per province\n",
    "df1     = pd.read_csv(filepath_or_buffer = c_path + v_file + \".csv\",\n",
    "                         sep                = ';',\n",
    "                         decimal            = ',',\n",
    "                         thousands          = '.',\n",
    "                         encoding           = 'UTF-8')"
   ]
  },
  {
   "cell_type": "code",
   "execution_count": 13,
   "id": "b4036dbd",
   "metadata": {},
   "outputs": [
    {
     "data": {
      "text/html": [
       "<div>\n",
       "<style scoped>\n",
       "    .dataframe tbody tr th:only-of-type {\n",
       "        vertical-align: middle;\n",
       "    }\n",
       "\n",
       "    .dataframe tbody tr th {\n",
       "        vertical-align: top;\n",
       "    }\n",
       "\n",
       "    .dataframe thead th {\n",
       "        text-align: right;\n",
       "    }\n",
       "</style>\n",
       "<table border=\"1\" class=\"dataframe\">\n",
       "  <thead>\n",
       "    <tr style=\"text-align: right;\">\n",
       "      <th></th>\n",
       "      <th>Gemeentecode</th>\n",
       "      <th>GemeentecodeGM</th>\n",
       "      <th>Gemeentenaam</th>\n",
       "      <th>Provinciecode</th>\n",
       "      <th>ProvinciecodePV</th>\n",
       "      <th>Provincienaam</th>\n",
       "    </tr>\n",
       "  </thead>\n",
       "  <tbody>\n",
       "    <tr>\n",
       "      <th>0</th>\n",
       "      <td>1680</td>\n",
       "      <td>GM1680</td>\n",
       "      <td>Aa en Hunze</td>\n",
       "      <td>22</td>\n",
       "      <td>PV22</td>\n",
       "      <td>Drenthe</td>\n",
       "    </tr>\n",
       "    <tr>\n",
       "      <th>1</th>\n",
       "      <td>358</td>\n",
       "      <td>GM0358</td>\n",
       "      <td>Aalsmeer</td>\n",
       "      <td>27</td>\n",
       "      <td>PV27</td>\n",
       "      <td>Noord-Holland</td>\n",
       "    </tr>\n",
       "    <tr>\n",
       "      <th>2</th>\n",
       "      <td>197</td>\n",
       "      <td>GM0197</td>\n",
       "      <td>Aalten</td>\n",
       "      <td>25</td>\n",
       "      <td>PV25</td>\n",
       "      <td>Gelderland</td>\n",
       "    </tr>\n",
       "    <tr>\n",
       "      <th>3</th>\n",
       "      <td>59</td>\n",
       "      <td>GM0059</td>\n",
       "      <td>Achtkarspelen</td>\n",
       "      <td>21</td>\n",
       "      <td>PV21</td>\n",
       "      <td>Fryslân</td>\n",
       "    </tr>\n",
       "    <tr>\n",
       "      <th>4</th>\n",
       "      <td>482</td>\n",
       "      <td>GM0482</td>\n",
       "      <td>Alblasserdam</td>\n",
       "      <td>28</td>\n",
       "      <td>PV28</td>\n",
       "      <td>Zuid-Holland</td>\n",
       "    </tr>\n",
       "  </tbody>\n",
       "</table>\n",
       "</div>"
      ],
      "text/plain": [
       "   Gemeentecode GemeentecodeGM   Gemeentenaam  Provinciecode ProvinciecodePV  \\\n",
       "0          1680         GM1680    Aa en Hunze             22            PV22   \n",
       "1           358         GM0358       Aalsmeer             27            PV27   \n",
       "2           197         GM0197         Aalten             25            PV25   \n",
       "3            59         GM0059  Achtkarspelen             21            PV21   \n",
       "4           482         GM0482   Alblasserdam             28            PV28   \n",
       "\n",
       "   Provincienaam  \n",
       "0        Drenthe  \n",
       "1  Noord-Holland  \n",
       "2     Gelderland  \n",
       "3        Fryslân  \n",
       "4   Zuid-Holland  "
      ]
     },
     "execution_count": 13,
     "metadata": {},
     "output_type": "execute_result"
    }
   ],
   "source": [
    "df1.head()"
   ]
  },
  {
   "cell_type": "code",
   "execution_count": 14,
   "id": "64636b4b",
   "metadata": {},
   "outputs": [
    {
     "name": "stdout",
     "output_type": "stream",
     "text": [
      "<class 'pandas.core.frame.DataFrame'>\n",
      "RangeIndex: 352 entries, 0 to 351\n",
      "Data columns (total 6 columns):\n",
      " #   Column           Non-Null Count  Dtype \n",
      "---  ------           --------------  ----- \n",
      " 0   Gemeentecode     352 non-null    int64 \n",
      " 1   GemeentecodeGM   352 non-null    object\n",
      " 2   Gemeentenaam     352 non-null    object\n",
      " 3   Provinciecode    352 non-null    int64 \n",
      " 4   ProvinciecodePV  352 non-null    object\n",
      " 5   Provincienaam    352 non-null    object\n",
      "dtypes: int64(2), object(4)\n",
      "memory usage: 16.6+ KB\n"
     ]
    }
   ],
   "source": [
    "df1.info()"
   ]
  },
  {
   "cell_type": "code",
   "execution_count": 15,
   "id": "6814d526",
   "metadata": {},
   "outputs": [],
   "source": [
    "df = df.merge(df1, left_on = 'GM_2021', right_on = 'GemeentecodeGM')"
   ]
  },
  {
   "cell_type": "code",
   "execution_count": 16,
   "id": "b5bddd2f",
   "metadata": {},
   "outputs": [
    {
     "data": {
      "text/plain": [
       "Index(['BU_2021', 'BU_NAAM', 'WK_2021', 'WK_NAAM', 'GM_2021', 'GM_NAAM',\n",
       "       'Gemeentecode', 'GemeentecodeGM', 'Gemeentenaam', 'Provinciecode',\n",
       "       'ProvinciecodePV', 'Provincienaam'],\n",
       "      dtype='object')"
      ]
     },
     "execution_count": 16,
     "metadata": {},
     "output_type": "execute_result"
    }
   ],
   "source": [
    "df.columns"
   ]
  },
  {
   "cell_type": "code",
   "execution_count": 17,
   "id": "6deba57a",
   "metadata": {},
   "outputs": [],
   "source": [
    "df.drop(columns = ['Gemeentecode', 'GemeentecodeGM', 'Gemeentenaam', 'Provinciecode'], inplace = True)"
   ]
  },
  {
   "cell_type": "code",
   "execution_count": 18,
   "id": "93bbcb0a",
   "metadata": {},
   "outputs": [
    {
     "data": {
      "text/html": [
       "<div>\n",
       "<style scoped>\n",
       "    .dataframe tbody tr th:only-of-type {\n",
       "        vertical-align: middle;\n",
       "    }\n",
       "\n",
       "    .dataframe tbody tr th {\n",
       "        vertical-align: top;\n",
       "    }\n",
       "\n",
       "    .dataframe thead th {\n",
       "        text-align: right;\n",
       "    }\n",
       "</style>\n",
       "<table border=\"1\" class=\"dataframe\">\n",
       "  <thead>\n",
       "    <tr style=\"text-align: right;\">\n",
       "      <th></th>\n",
       "      <th>BU_2021</th>\n",
       "      <th>BU_NAAM</th>\n",
       "      <th>WK_2021</th>\n",
       "      <th>WK_NAAM</th>\n",
       "      <th>GM_2021</th>\n",
       "      <th>GM_NAAM</th>\n",
       "      <th>ProvinciecodePV</th>\n",
       "      <th>Provincienaam</th>\n",
       "    </tr>\n",
       "  </thead>\n",
       "  <tbody>\n",
       "    <tr>\n",
       "      <th>0</th>\n",
       "      <td>BU00140000</td>\n",
       "      <td>Binnenstad-Noord</td>\n",
       "      <td>WK001400</td>\n",
       "      <td>Centrum</td>\n",
       "      <td>GM0014</td>\n",
       "      <td>Groningen</td>\n",
       "      <td>PV20</td>\n",
       "      <td>Groningen</td>\n",
       "    </tr>\n",
       "    <tr>\n",
       "      <th>1</th>\n",
       "      <td>BU00140001</td>\n",
       "      <td>Binnenstad-Zuid</td>\n",
       "      <td>WK001400</td>\n",
       "      <td>Centrum</td>\n",
       "      <td>GM0014</td>\n",
       "      <td>Groningen</td>\n",
       "      <td>PV20</td>\n",
       "      <td>Groningen</td>\n",
       "    </tr>\n",
       "    <tr>\n",
       "      <th>2</th>\n",
       "      <td>BU00140002</td>\n",
       "      <td>Binnenstad-Oost</td>\n",
       "      <td>WK001400</td>\n",
       "      <td>Centrum</td>\n",
       "      <td>GM0014</td>\n",
       "      <td>Groningen</td>\n",
       "      <td>PV20</td>\n",
       "      <td>Groningen</td>\n",
       "    </tr>\n",
       "    <tr>\n",
       "      <th>3</th>\n",
       "      <td>BU00140003</td>\n",
       "      <td>Binnenstad-West</td>\n",
       "      <td>WK001400</td>\n",
       "      <td>Centrum</td>\n",
       "      <td>GM0014</td>\n",
       "      <td>Groningen</td>\n",
       "      <td>PV20</td>\n",
       "      <td>Groningen</td>\n",
       "    </tr>\n",
       "    <tr>\n",
       "      <th>4</th>\n",
       "      <td>BU00140004</td>\n",
       "      <td>Noorderplantsoen</td>\n",
       "      <td>WK001400</td>\n",
       "      <td>Centrum</td>\n",
       "      <td>GM0014</td>\n",
       "      <td>Groningen</td>\n",
       "      <td>PV20</td>\n",
       "      <td>Groningen</td>\n",
       "    </tr>\n",
       "  </tbody>\n",
       "</table>\n",
       "</div>"
      ],
      "text/plain": [
       "      BU_2021           BU_NAAM   WK_2021  WK_NAAM GM_2021    GM_NAAM  \\\n",
       "0  BU00140000  Binnenstad-Noord  WK001400  Centrum  GM0014  Groningen   \n",
       "1  BU00140001   Binnenstad-Zuid  WK001400  Centrum  GM0014  Groningen   \n",
       "2  BU00140002   Binnenstad-Oost  WK001400  Centrum  GM0014  Groningen   \n",
       "3  BU00140003   Binnenstad-West  WK001400  Centrum  GM0014  Groningen   \n",
       "4  BU00140004  Noorderplantsoen  WK001400  Centrum  GM0014  Groningen   \n",
       "\n",
       "  ProvinciecodePV Provincienaam  \n",
       "0            PV20     Groningen  \n",
       "1            PV20     Groningen  \n",
       "2            PV20     Groningen  \n",
       "3            PV20     Groningen  \n",
       "4            PV20     Groningen  "
      ]
     },
     "execution_count": 18,
     "metadata": {},
     "output_type": "execute_result"
    }
   ],
   "source": [
    "df.head()"
   ]
  },
  {
   "cell_type": "code",
   "execution_count": 19,
   "id": "19974033",
   "metadata": {},
   "outputs": [
    {
     "name": "stdout",
     "output_type": "stream",
     "text": [
      "<class 'pandas.core.frame.DataFrame'>\n",
      "Int64Index: 14174 entries, 0 to 14173\n",
      "Data columns (total 8 columns):\n",
      " #   Column           Non-Null Count  Dtype \n",
      "---  ------           --------------  ----- \n",
      " 0   BU_2021          14174 non-null  object\n",
      " 1   BU_NAAM          14174 non-null  object\n",
      " 2   WK_2021          14174 non-null  object\n",
      " 3   WK_NAAM          14174 non-null  object\n",
      " 4   GM_2021          14174 non-null  object\n",
      " 5   GM_NAAM          14174 non-null  object\n",
      " 6   ProvinciecodePV  14174 non-null  object\n",
      " 7   Provincienaam    14174 non-null  object\n",
      "dtypes: object(8)\n",
      "memory usage: 996.6+ KB\n"
     ]
    }
   ],
   "source": [
    "df.info()"
   ]
  },
  {
   "cell_type": "code",
   "execution_count": 20,
   "id": "b6b87593",
   "metadata": {},
   "outputs": [
    {
     "data": {
      "text/html": [
       "<div>\n",
       "<style scoped>\n",
       "    .dataframe tbody tr th:only-of-type {\n",
       "        vertical-align: middle;\n",
       "    }\n",
       "\n",
       "    .dataframe tbody tr th {\n",
       "        vertical-align: top;\n",
       "    }\n",
       "\n",
       "    .dataframe thead th {\n",
       "        text-align: right;\n",
       "    }\n",
       "</style>\n",
       "<table border=\"1\" class=\"dataframe\">\n",
       "  <thead>\n",
       "    <tr style=\"text-align: right;\">\n",
       "      <th></th>\n",
       "      <th>BU_2021</th>\n",
       "      <th>BU_NAAM</th>\n",
       "      <th>WK_2021</th>\n",
       "      <th>WK_NAAM</th>\n",
       "      <th>GM_2021</th>\n",
       "      <th>GM_NAAM</th>\n",
       "      <th>ProvinciecodePV</th>\n",
       "      <th>Provincienaam</th>\n",
       "    </tr>\n",
       "  </thead>\n",
       "  <tbody>\n",
       "    <tr>\n",
       "      <th>count</th>\n",
       "      <td>14174</td>\n",
       "      <td>14174</td>\n",
       "      <td>14174</td>\n",
       "      <td>14174</td>\n",
       "      <td>14174</td>\n",
       "      <td>14174</td>\n",
       "      <td>14174</td>\n",
       "      <td>14174</td>\n",
       "    </tr>\n",
       "    <tr>\n",
       "      <th>unique</th>\n",
       "      <td>14174</td>\n",
       "      <td>13086</td>\n",
       "      <td>3330</td>\n",
       "      <td>3097</td>\n",
       "      <td>352</td>\n",
       "      <td>352</td>\n",
       "      <td>12</td>\n",
       "      <td>12</td>\n",
       "    </tr>\n",
       "    <tr>\n",
       "      <th>top</th>\n",
       "      <td>BU03630304</td>\n",
       "      <td>Groot binnenwater</td>\n",
       "      <td>WK029601</td>\n",
       "      <td>Wijk 00</td>\n",
       "      <td>GM0363</td>\n",
       "      <td>Amsterdam</td>\n",
       "      <td>PV28</td>\n",
       "      <td>Zuid-Holland</td>\n",
       "    </tr>\n",
       "    <tr>\n",
       "      <th>freq</th>\n",
       "      <td>1</td>\n",
       "      <td>51</td>\n",
       "      <td>39</td>\n",
       "      <td>112</td>\n",
       "      <td>481</td>\n",
       "      <td>481</td>\n",
       "      <td>2329</td>\n",
       "      <td>2329</td>\n",
       "    </tr>\n",
       "  </tbody>\n",
       "</table>\n",
       "</div>"
      ],
      "text/plain": [
       "           BU_2021            BU_NAAM   WK_2021  WK_NAAM GM_2021    GM_NAAM  \\\n",
       "count        14174              14174     14174    14174   14174      14174   \n",
       "unique       14174              13086      3330     3097     352        352   \n",
       "top     BU03630304  Groot binnenwater  WK029601  Wijk 00  GM0363  Amsterdam   \n",
       "freq             1                 51        39      112     481        481   \n",
       "\n",
       "       ProvinciecodePV Provincienaam  \n",
       "count            14174         14174  \n",
       "unique              12            12  \n",
       "top               PV28  Zuid-Holland  \n",
       "freq              2329          2329  "
      ]
     },
     "execution_count": 20,
     "metadata": {},
     "output_type": "execute_result"
    }
   ],
   "source": [
    "df.describe()"
   ]
  },
  {
   "cell_type": "code",
   "execution_count": 22,
   "id": "e30e236e",
   "metadata": {},
   "outputs": [],
   "source": [
    "df.to_csv(c_path + 'CSB Buurten Indeling.csv', encoding='utf-8', index_label= False)"
   ]
  },
  {
   "cell_type": "code",
   "execution_count": null,
   "id": "38926c84",
   "metadata": {},
   "outputs": [],
   "source": []
  }
 ],
 "metadata": {
  "kernelspec": {
   "display_name": "Python 3",
   "language": "python",
   "name": "python3"
  },
  "language_info": {
   "codemirror_mode": {
    "name": "ipython",
    "version": 3
   },
   "file_extension": ".py",
   "mimetype": "text/x-python",
   "name": "python",
   "nbconvert_exporter": "python",
   "pygments_lexer": "ipython3",
   "version": "3.9.7"
  }
 },
 "nbformat": 4,
 "nbformat_minor": 5
}
