{
 "cells": [
  {
   "cell_type": "markdown",
   "id": "785bc900",
   "metadata": {},
   "source": [
    "# ENEXIS Graduation Project"
   ]
  },
  {
   "cell_type": "markdown",
   "id": "0042c026",
   "metadata": {},
   "source": [
    "#### Create a model predicting the 'opwek' based on demographical data"
   ]
  },
  {
   "cell_type": "markdown",
   "id": "f98fdd4c",
   "metadata": {},
   "source": [
    "### Collect Initial Data"
   ]
  },
  {
   "cell_type": "code",
   "execution_count": 1,
   "id": "b5e95fb9",
   "metadata": {},
   "outputs": [],
   "source": [
    "import pandas as pd\n",
    "import sys\n",
    "import matplotlib.pyplot as plt\n",
    "import seaborn as sns\n",
    "import numpy as np\n",
    "\n",
    "from sklearn.tree import DecisionTreeRegressor\n",
    "from sklearn.metrics import mean_squared_error, r2_score\n",
    "from sklearn.model_selection import train_test_split"
   ]
  },
  {
   "cell_type": "markdown",
   "id": "7f4bc9e6",
   "metadata": {},
   "source": [
    "### Get the data"
   ]
  },
  {
   "cell_type": "code",
   "execution_count": 2,
   "id": "6d821611",
   "metadata": {},
   "outputs": [],
   "source": [
    "combined_dataset_name = 'combined_CBS_dataset_84583.csv'\n",
    "df = pd.read_csv(filepath_or_buffer = combined_dataset_name,\n",
    "                         sep                = ';',\n",
    "                         decimal            = ',',\n",
    "                         thousands          = '.',\n",
    "                         encoding           = 'unicode_escape')                                   # 1"
   ]
  },
  {
   "cell_type": "markdown",
   "id": "32c0af2e",
   "metadata": {},
   "source": [
    "## Models\n",
    "### Decision tree model Y=opgesteld vermogen, X=Demographic data"
   ]
  },
  {
   "cell_type": "code",
   "execution_count": 3,
   "id": "cf01e258",
   "metadata": {},
   "outputs": [
    {
     "name": "stdout",
     "output_type": "stream",
     "text": [
      "training set: 2218\n",
      "    test set: 555\n"
     ]
    },
    {
     "data": {
      "text/html": [
       "<div>\n",
       "<style scoped>\n",
       "    .dataframe tbody tr th:only-of-type {\n",
       "        vertical-align: middle;\n",
       "    }\n",
       "\n",
       "    .dataframe tbody tr th {\n",
       "        vertical-align: top;\n",
       "    }\n",
       "\n",
       "    .dataframe thead th {\n",
       "        text-align: right;\n",
       "    }\n",
       "</style>\n",
       "<table border=\"1\" class=\"dataframe\">\n",
       "  <thead>\n",
       "    <tr style=\"text-align: right;\">\n",
       "      <th></th>\n",
       "      <th>HuishoudensTotaal_28</th>\n",
       "      <th>GemiddeldeHuishoudensgrootte_32</th>\n",
       "      <th>Bevolkingsdichtheid_33</th>\n",
       "      <th>GemiddeldeWOZWaardeVanWoningen_35</th>\n",
       "      <th>PercentageEengezinswoning_36</th>\n",
       "      <th>Koopwoningen_40</th>\n",
       "      <th>InBezitWoningcorporatie_42</th>\n",
       "      <th>InBezitOverigeVerhuurders_43</th>\n",
       "      <th>BouwjaarVanaf2000_46</th>\n",
       "      <th>Gemiddeld_opleidingsniveau</th>\n",
       "      <th>Bedrijfsvestigingen_per_huishuidens</th>\n",
       "      <th>PersonenautoSPerHuishouden_102</th>\n",
       "      <th>AfstandTotSchool_108</th>\n",
       "      <th>Omgevingsadressendichtheid_116</th>\n",
       "    </tr>\n",
       "  </thead>\n",
       "  <tbody>\n",
       "    <tr>\n",
       "      <th>2040</th>\n",
       "      <td>2135</td>\n",
       "      <td>1.9</td>\n",
       "      <td>5745.0</td>\n",
       "      <td>229.0</td>\n",
       "      <td>56.0</td>\n",
       "      <td>57.0</td>\n",
       "      <td>37.0</td>\n",
       "      <td>6.0</td>\n",
       "      <td>0.0</td>\n",
       "      <td>2.046729</td>\n",
       "      <td>0.145199</td>\n",
       "      <td>1.0</td>\n",
       "      <td>0.6</td>\n",
       "      <td>2388.0</td>\n",
       "    </tr>\n",
       "    <tr>\n",
       "      <th>1875</th>\n",
       "      <td>970</td>\n",
       "      <td>1.9</td>\n",
       "      <td>10226.0</td>\n",
       "      <td>205.0</td>\n",
       "      <td>66.0</td>\n",
       "      <td>29.0</td>\n",
       "      <td>43.0</td>\n",
       "      <td>28.0</td>\n",
       "      <td>6.0</td>\n",
       "      <td>1.872483</td>\n",
       "      <td>0.139175</td>\n",
       "      <td>0.7</td>\n",
       "      <td>0.4</td>\n",
       "      <td>3143.0</td>\n",
       "    </tr>\n",
       "    <tr>\n",
       "      <th>594</th>\n",
       "      <td>255</td>\n",
       "      <td>2.4</td>\n",
       "      <td>1349.0</td>\n",
       "      <td>299.0</td>\n",
       "      <td>98.0</td>\n",
       "      <td>92.0</td>\n",
       "      <td>1.0</td>\n",
       "      <td>7.0</td>\n",
       "      <td>7.0</td>\n",
       "      <td>2.120000</td>\n",
       "      <td>0.254902</td>\n",
       "      <td>1.5</td>\n",
       "      <td>1.4</td>\n",
       "      <td>611.0</td>\n",
       "    </tr>\n",
       "    <tr>\n",
       "      <th>1058</th>\n",
       "      <td>395</td>\n",
       "      <td>2.3</td>\n",
       "      <td>2751.0</td>\n",
       "      <td>256.0</td>\n",
       "      <td>100.0</td>\n",
       "      <td>49.0</td>\n",
       "      <td>49.0</td>\n",
       "      <td>2.0</td>\n",
       "      <td>15.0</td>\n",
       "      <td>1.900000</td>\n",
       "      <td>0.151899</td>\n",
       "      <td>1.1</td>\n",
       "      <td>0.5</td>\n",
       "      <td>1177.0</td>\n",
       "    </tr>\n",
       "    <tr>\n",
       "      <th>1529</th>\n",
       "      <td>160</td>\n",
       "      <td>2.6</td>\n",
       "      <td>306.0</td>\n",
       "      <td>520.0</td>\n",
       "      <td>98.0</td>\n",
       "      <td>87.0</td>\n",
       "      <td>0.0</td>\n",
       "      <td>12.0</td>\n",
       "      <td>19.0</td>\n",
       "      <td>2.125000</td>\n",
       "      <td>0.593750</td>\n",
       "      <td>1.3</td>\n",
       "      <td>0.5</td>\n",
       "      <td>70.0</td>\n",
       "    </tr>\n",
       "  </tbody>\n",
       "</table>\n",
       "</div>"
      ],
      "text/plain": [
       "      HuishoudensTotaal_28  GemiddeldeHuishoudensgrootte_32  \\\n",
       "2040                  2135                              1.9   \n",
       "1875                   970                              1.9   \n",
       "594                    255                              2.4   \n",
       "1058                   395                              2.3   \n",
       "1529                   160                              2.6   \n",
       "\n",
       "      Bevolkingsdichtheid_33  GemiddeldeWOZWaardeVanWoningen_35  \\\n",
       "2040                  5745.0                              229.0   \n",
       "1875                 10226.0                              205.0   \n",
       "594                   1349.0                              299.0   \n",
       "1058                  2751.0                              256.0   \n",
       "1529                   306.0                              520.0   \n",
       "\n",
       "      PercentageEengezinswoning_36  Koopwoningen_40  \\\n",
       "2040                          56.0             57.0   \n",
       "1875                          66.0             29.0   \n",
       "594                           98.0             92.0   \n",
       "1058                         100.0             49.0   \n",
       "1529                          98.0             87.0   \n",
       "\n",
       "      InBezitWoningcorporatie_42  InBezitOverigeVerhuurders_43  \\\n",
       "2040                        37.0                           6.0   \n",
       "1875                        43.0                          28.0   \n",
       "594                          1.0                           7.0   \n",
       "1058                        49.0                           2.0   \n",
       "1529                         0.0                          12.0   \n",
       "\n",
       "      BouwjaarVanaf2000_46  Gemiddeld_opleidingsniveau  \\\n",
       "2040                   0.0                    2.046729   \n",
       "1875                   6.0                    1.872483   \n",
       "594                    7.0                    2.120000   \n",
       "1058                  15.0                    1.900000   \n",
       "1529                  19.0                    2.125000   \n",
       "\n",
       "      Bedrijfsvestigingen_per_huishuidens  PersonenautoSPerHuishouden_102  \\\n",
       "2040                             0.145199                             1.0   \n",
       "1875                             0.139175                             0.7   \n",
       "594                              0.254902                             1.5   \n",
       "1058                             0.151899                             1.1   \n",
       "1529                             0.593750                             1.3   \n",
       "\n",
       "      AfstandTotSchool_108  Omgevingsadressendichtheid_116  \n",
       "2040                   0.6                          2388.0  \n",
       "1875                   0.4                          3143.0  \n",
       "594                    1.4                           611.0  \n",
       "1058                   0.5                          1177.0  \n",
       "1529                   0.5                            70.0  "
      ]
     },
     "execution_count": 3,
     "metadata": {},
     "output_type": "execute_result"
    }
   ],
   "source": [
    "train_set, test_set = train_test_split(df, test_size=0.2)\n",
    "train_set_for_plots = train_set\n",
    "test_set_for_plots = test_set\n",
    "print(f\"training set: {len(train_set)}\\n    test set: {len(test_set)}\")\n",
    "\n",
    "y_column = 'Opgesteld_vermogen'\n",
    "columns_to_keep = ['HuishoudensTotaal_28']\n",
    "# HuishoudensTotaal_28\n",
    "colomns_to_drop = [\n",
    "    'Opgesteld_vermogen', \n",
    "    'Peildatum',\n",
    "    'CBS_Buurtcode',\n",
    "    'Aantal_aansluitingen_in_CBS-buurt',\n",
    "    'Aantal_aansluitingen_met_opwekinstallatie',\n",
    "    'Netbeheerder',\n",
    "    'Provincie',\n",
    "    'CBS_Buurt', \n",
    "    'Gemeente', \n",
    "    'WijkenEnBuurten',\n",
    "    'Gemeentenaam_1',\n",
    "    'SoortRegio_2',\n",
    "    'MeestVoorkomendePostcode_113'\n",
    "    ]\n",
    "\n",
    "Y_train_set = train_set[y_column]\n",
    "X_train_set = train_set.drop(colomns_to_drop, axis=1).copy()\n",
    "X_train_set.head()\n",
    "\n"
   ]
  },
  {
   "cell_type": "code",
   "execution_count": 4,
   "id": "b4cbab5d",
   "metadata": {},
   "outputs": [],
   "source": [
    "Y_test_set = train_set[y_column]\n",
    "X_test_set = train_set.drop(colomns_to_drop, axis=1).copy()"
   ]
  },
  {
   "cell_type": "markdown",
   "id": "a9d789ca",
   "metadata": {},
   "source": [
    "##### Create helper class"
   ]
  },
  {
   "cell_type": "code",
   "execution_count": 5,
   "id": "1532551f",
   "metadata": {},
   "outputs": [],
   "source": [
    "class Result:\n",
    "  def __init__(self, r_squared, mean_squared_error):\n",
    "    self.r_squared = r_squared\n",
    "    self.mean_squared_error = mean_squared_error"
   ]
  },
  {
   "cell_type": "code",
   "execution_count": 6,
   "id": "825e694f",
   "metadata": {},
   "outputs": [],
   "source": [
    "results = {}\n",
    "\n",
    "# Fit regression models\n",
    "for i in range(1, 20):\n",
    "    r = DecisionTreeRegressor(max_depth=i)\n",
    "    r.fit(X_train_set, Y_train_set)\n",
    "    y_predict = r.predict(X_test_set)\n",
    "    results[i] = Result(r2_score(Y_test_set, y_predict), mean_squared_error(Y_test_set, y_predict)) \n"
   ]
  },
  {
   "cell_type": "markdown",
   "id": "443a6a77",
   "metadata": {},
   "source": [
    "### Check the quality of the model"
   ]
  },
  {
   "cell_type": "code",
   "execution_count": 7,
   "id": "c0cd066a",
   "metadata": {},
   "outputs": [
    {
     "name": "stdout",
     "output_type": "stream",
     "text": [
      "Depth   1 :R squared: 0.13 -- Mean squared error: 498893\n",
      "Depth   2 :R squared: 0.20 -- Mean squared error: 458346\n",
      "Depth   3 :R squared: 0.29 -- Mean squared error: 405317\n",
      "Depth   4 :R squared: 0.83 -- Mean squared error: 95834\n",
      "Depth   5 :R squared: 0.86 -- Mean squared error: 79525\n",
      "Depth   6 :R squared: 0.89 -- Mean squared error: 62864\n",
      "Depth   7 :R squared: 0.92 -- Mean squared error: 47470\n",
      "Depth   8 :R squared: 0.95 -- Mean squared error: 27669\n",
      "Depth   9 :R squared: 0.96 -- Mean squared error: 20393\n",
      "Depth  10 :R squared: 0.98 -- Mean squared error: 14032\n",
      "Depth  11 :R squared: 0.98 -- Mean squared error: 9195\n",
      "Depth  12 :R squared: 0.99 -- Mean squared error: 6080\n",
      "Depth  13 :R squared: 0.99 -- Mean squared error: 4041\n",
      "Depth  14 :R squared: 1.00 -- Mean squared error: 2371\n",
      "Depth  15 :R squared: 1.00 -- Mean squared error: 1406\n",
      "Depth  16 :R squared: 1.00 -- Mean squared error: 854\n",
      "Depth  17 :R squared: 1.00 -- Mean squared error: 454\n",
      "Depth  18 :R squared: 1.00 -- Mean squared error: 184\n",
      "Depth  19 :R squared: 1.00 -- Mean squared error: 72\n"
     ]
    }
   ],
   "source": [
    "# # The coefficients\n",
    "\n",
    "for i in range(1,20):\n",
    "    print(\"Depth  %2.f\" % i, \":R squared: %.2f\" % results[i].r_squared,\n",
    "    \"-- Mean squared error: %.0f\" % results[i].mean_squared_error)\n"
   ]
  },
  {
   "cell_type": "markdown",
   "id": "fb820050",
   "metadata": {},
   "source": [
    "## Something is strange here, the R squared goes to 1 !!"
   ]
  }
 ],
 "metadata": {
  "kernelspec": {
   "display_name": "Python 3",
   "language": "python",
   "name": "python3"
  },
  "language_info": {
   "codemirror_mode": {
    "name": "ipython",
    "version": 3
   },
   "file_extension": ".py",
   "mimetype": "text/x-python",
   "name": "python",
   "nbconvert_exporter": "python",
   "pygments_lexer": "ipython3",
   "version": "3.9.7"
  }
 },
 "nbformat": 4,
 "nbformat_minor": 5
}
