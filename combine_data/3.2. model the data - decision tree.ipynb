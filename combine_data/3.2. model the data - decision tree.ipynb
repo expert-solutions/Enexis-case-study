{
 "cells": [
  {
   "cell_type": "markdown",
   "id": "785bc900",
   "metadata": {},
   "source": [
    "# ENEXIS Graduation Project"
   ]
  },
  {
   "cell_type": "markdown",
   "id": "0042c026",
   "metadata": {},
   "source": [
    "#### Create a model predicting the 'opwek' based on demographical data"
   ]
  },
  {
   "cell_type": "markdown",
   "id": "f98fdd4c",
   "metadata": {},
   "source": [
    "### Collect Initial Data"
   ]
  },
  {
   "cell_type": "code",
   "execution_count": 1,
   "id": "b5e95fb9",
   "metadata": {},
   "outputs": [],
   "source": [
    "import pandas as pd\n",
    "import sys\n",
    "import matplotlib.pyplot as plt\n",
    "import seaborn as sns\n",
    "import numpy as np\n",
    "\n",
    "from sklearn.tree import DecisionTreeRegressor\n",
    "from sklearn.metrics import mean_squared_error, r2_score\n",
    "from sklearn.model_selection import train_test_split"
   ]
  },
  {
   "cell_type": "markdown",
   "id": "7f4bc9e6",
   "metadata": {},
   "source": [
    "### Get the data"
   ]
  },
  {
   "cell_type": "code",
   "execution_count": 2,
   "id": "6d821611",
   "metadata": {},
   "outputs": [],
   "source": [
    "combined_dataset_name = 'combined_CBS_dataset_84583.csv'\n",
    "df = pd.read_csv(filepath_or_buffer = combined_dataset_name,\n",
    "                         sep                = ';',\n",
    "                         decimal            = ',',\n",
    "                         thousands          = '.',\n",
    "                         encoding           = 'unicode_escape')                                   # 1"
   ]
  },
  {
   "cell_type": "markdown",
   "id": "32c0af2e",
   "metadata": {},
   "source": [
    "## Models\n",
    "### Decision tree model Y=opgesteld vermogen, X=Demographic data"
   ]
  },
  {
   "cell_type": "code",
   "execution_count": 3,
   "id": "cf01e258",
   "metadata": {},
   "outputs": [
    {
     "name": "stdout",
     "output_type": "stream",
     "text": [
      "training set: 2218\n",
      "    test set: 555\n"
     ]
    },
    {
     "data": {
      "text/html": [
       "<div>\n",
       "<style scoped>\n",
       "    .dataframe tbody tr th:only-of-type {\n",
       "        vertical-align: middle;\n",
       "    }\n",
       "\n",
       "    .dataframe tbody tr th {\n",
       "        vertical-align: top;\n",
       "    }\n",
       "\n",
       "    .dataframe thead th {\n",
       "        text-align: right;\n",
       "    }\n",
       "</style>\n",
       "<table border=\"1\" class=\"dataframe\">\n",
       "  <thead>\n",
       "    <tr style=\"text-align: right;\">\n",
       "      <th></th>\n",
       "      <th>HuishoudensTotaal_28</th>\n",
       "      <th>GemiddeldeHuishoudensgrootte_32</th>\n",
       "      <th>Bevolkingsdichtheid_33</th>\n",
       "      <th>GemiddeldeWOZWaardeVanWoningen_35</th>\n",
       "      <th>PercentageEengezinswoning_36</th>\n",
       "      <th>Koopwoningen_40</th>\n",
       "      <th>InBezitWoningcorporatie_42</th>\n",
       "      <th>InBezitOverigeVerhuurders_43</th>\n",
       "      <th>BouwjaarVanaf2000_46</th>\n",
       "      <th>Gemiddeld_opleidingsniveau</th>\n",
       "      <th>Bedrijfsvestigingen_per_huishuidens</th>\n",
       "      <th>PersonenautoSPerHuishouden_102</th>\n",
       "      <th>AfstandTotSchool_108</th>\n",
       "      <th>Omgevingsadressendichtheid_116</th>\n",
       "    </tr>\n",
       "  </thead>\n",
       "  <tbody>\n",
       "    <tr>\n",
       "      <th>846</th>\n",
       "      <td>1880</td>\n",
       "      <td>1.7</td>\n",
       "      <td>2458.0</td>\n",
       "      <td>139.0</td>\n",
       "      <td>49.0</td>\n",
       "      <td>16.0</td>\n",
       "      <td>65.0</td>\n",
       "      <td>19.0</td>\n",
       "      <td>4.0</td>\n",
       "      <td>1.796813</td>\n",
       "      <td>0.093085</td>\n",
       "      <td>0.6</td>\n",
       "      <td>0.7</td>\n",
       "      <td>1479.0</td>\n",
       "    </tr>\n",
       "    <tr>\n",
       "      <th>1026</th>\n",
       "      <td>55</td>\n",
       "      <td>2.1</td>\n",
       "      <td>122.0</td>\n",
       "      <td>311.0</td>\n",
       "      <td>69.0</td>\n",
       "      <td>64.0</td>\n",
       "      <td>6.0</td>\n",
       "      <td>28.0</td>\n",
       "      <td>0.0</td>\n",
       "      <td>1.777778</td>\n",
       "      <td>0.363636</td>\n",
       "      <td>1.3</td>\n",
       "      <td>2.5</td>\n",
       "      <td>173.0</td>\n",
       "    </tr>\n",
       "    <tr>\n",
       "      <th>1464</th>\n",
       "      <td>75</td>\n",
       "      <td>2.8</td>\n",
       "      <td>15.0</td>\n",
       "      <td>510.0</td>\n",
       "      <td>91.0</td>\n",
       "      <td>81.0</td>\n",
       "      <td>0.0</td>\n",
       "      <td>19.0</td>\n",
       "      <td>3.0</td>\n",
       "      <td>2.062500</td>\n",
       "      <td>0.533333</td>\n",
       "      <td>1.9</td>\n",
       "      <td>1.7</td>\n",
       "      <td>190.0</td>\n",
       "    </tr>\n",
       "    <tr>\n",
       "      <th>2380</th>\n",
       "      <td>1000</td>\n",
       "      <td>2.3</td>\n",
       "      <td>4557.0</td>\n",
       "      <td>242.0</td>\n",
       "      <td>82.0</td>\n",
       "      <td>79.0</td>\n",
       "      <td>18.0</td>\n",
       "      <td>3.0</td>\n",
       "      <td>3.0</td>\n",
       "      <td>1.981928</td>\n",
       "      <td>0.095000</td>\n",
       "      <td>1.2</td>\n",
       "      <td>0.8</td>\n",
       "      <td>1277.0</td>\n",
       "    </tr>\n",
       "    <tr>\n",
       "      <th>2480</th>\n",
       "      <td>835</td>\n",
       "      <td>2.4</td>\n",
       "      <td>4107.0</td>\n",
       "      <td>255.0</td>\n",
       "      <td>91.0</td>\n",
       "      <td>77.0</td>\n",
       "      <td>17.0</td>\n",
       "      <td>6.0</td>\n",
       "      <td>6.0</td>\n",
       "      <td>1.980519</td>\n",
       "      <td>0.119760</td>\n",
       "      <td>1.1</td>\n",
       "      <td>0.8</td>\n",
       "      <td>1518.0</td>\n",
       "    </tr>\n",
       "  </tbody>\n",
       "</table>\n",
       "</div>"
      ],
      "text/plain": [
       "      HuishoudensTotaal_28  GemiddeldeHuishoudensgrootte_32  \\\n",
       "846                   1880                              1.7   \n",
       "1026                    55                              2.1   \n",
       "1464                    75                              2.8   \n",
       "2380                  1000                              2.3   \n",
       "2480                   835                              2.4   \n",
       "\n",
       "      Bevolkingsdichtheid_33  GemiddeldeWOZWaardeVanWoningen_35  \\\n",
       "846                   2458.0                              139.0   \n",
       "1026                   122.0                              311.0   \n",
       "1464                    15.0                              510.0   \n",
       "2380                  4557.0                              242.0   \n",
       "2480                  4107.0                              255.0   \n",
       "\n",
       "      PercentageEengezinswoning_36  Koopwoningen_40  \\\n",
       "846                           49.0             16.0   \n",
       "1026                          69.0             64.0   \n",
       "1464                          91.0             81.0   \n",
       "2380                          82.0             79.0   \n",
       "2480                          91.0             77.0   \n",
       "\n",
       "      InBezitWoningcorporatie_42  InBezitOverigeVerhuurders_43  \\\n",
       "846                         65.0                          19.0   \n",
       "1026                         6.0                          28.0   \n",
       "1464                         0.0                          19.0   \n",
       "2380                        18.0                           3.0   \n",
       "2480                        17.0                           6.0   \n",
       "\n",
       "      BouwjaarVanaf2000_46  Gemiddeld_opleidingsniveau  \\\n",
       "846                    4.0                    1.796813   \n",
       "1026                   0.0                    1.777778   \n",
       "1464                   3.0                    2.062500   \n",
       "2380                   3.0                    1.981928   \n",
       "2480                   6.0                    1.980519   \n",
       "\n",
       "      Bedrijfsvestigingen_per_huishuidens  PersonenautoSPerHuishouden_102  \\\n",
       "846                              0.093085                             0.6   \n",
       "1026                             0.363636                             1.3   \n",
       "1464                             0.533333                             1.9   \n",
       "2380                             0.095000                             1.2   \n",
       "2480                             0.119760                             1.1   \n",
       "\n",
       "      AfstandTotSchool_108  Omgevingsadressendichtheid_116  \n",
       "846                    0.7                          1479.0  \n",
       "1026                   2.5                           173.0  \n",
       "1464                   1.7                           190.0  \n",
       "2380                   0.8                          1277.0  \n",
       "2480                   0.8                          1518.0  "
      ]
     },
     "execution_count": 3,
     "metadata": {},
     "output_type": "execute_result"
    }
   ],
   "source": [
    "train_set, test_set = train_test_split(df, test_size=0.2)\n",
    "train_set_for_plots = train_set\n",
    "test_set_for_plots = test_set\n",
    "print(f\"training set: {len(train_set)}\\n    test set: {len(test_set)}\")\n",
    "\n",
    "y_column = 'Opgesteld_vermogen'\n",
    "columns_to_keep = ['HuishoudensTotaal_28']\n",
    "# HuishoudensTotaal_28\n",
    "colomns_to_drop = [\n",
    "    'Opgesteld_vermogen', \n",
    "    'Peildatum',\n",
    "    'CBS_Buurtcode',\n",
    "    'Aantal_aansluitingen_in_CBS-buurt',\n",
    "    'Aantal_aansluitingen_met_opwekinstallatie',\n",
    "    'Netbeheerder',\n",
    "    'Provincie',\n",
    "    'CBS_Buurt', \n",
    "    'Gemeente', \n",
    "    'WijkenEnBuurten',\n",
    "    'Gemeentenaam_1',\n",
    "    'SoortRegio_2',\n",
    "    'MeestVoorkomendePostcode_113'\n",
    "    ]\n",
    "\n",
    "Y_train_set = train_set[y_column]\n",
    "X_train_set = train_set.drop(colomns_to_drop, axis=1).copy()\n",
    "X_train_set.head()\n",
    "\n"
   ]
  },
  {
   "cell_type": "markdown",
   "id": "b8d9a682",
   "metadata": {},
   "source": [
    "### Some strange column values here"
   ]
  },
  {
   "cell_type": "code",
   "execution_count": 4,
   "id": "b4cbab5d",
   "metadata": {},
   "outputs": [],
   "source": [
    "Y_test_set = train_set[y_column]\n",
    "X_test_set = train_set.drop(colomns_to_drop, axis=1).copy()"
   ]
  },
  {
   "cell_type": "markdown",
   "id": "a9d789ca",
   "metadata": {},
   "source": [
    "##### Create helper class"
   ]
  },
  {
   "cell_type": "code",
   "execution_count": 5,
   "id": "1532551f",
   "metadata": {},
   "outputs": [],
   "source": [
    "class Result:\n",
    "  def __init__(self, r_squared, mean_squared_error):\n",
    "    self.r_squared = r_squared\n",
    "    self.mean_squared_error = mean_squared_error"
   ]
  },
  {
   "cell_type": "code",
   "execution_count": 6,
   "id": "825e694f",
   "metadata": {},
   "outputs": [],
   "source": [
    "results = {}\n",
    "\n",
    "# Fit regression models\n",
    "for i in range(1, 20):\n",
    "    r = DecisionTreeRegressor(max_depth=i)\n",
    "    r.fit(X_train_set, Y_train_set)\n",
    "    y_predict = r.predict(X_test_set)\n",
    "    results[i] = Result(r2_score(Y_test_set, y_predict), mean_squared_error(Y_test_set, y_predict)) \n"
   ]
  },
  {
   "cell_type": "markdown",
   "id": "443a6a77",
   "metadata": {},
   "source": [
    "### Check the quality of the model"
   ]
  },
  {
   "cell_type": "code",
   "execution_count": 7,
   "id": "c0cd066a",
   "metadata": {},
   "outputs": [
    {
     "name": "stdout",
     "output_type": "stream",
     "text": [
      "Depth   1 :R squared: 0.13 -- Mean squared error: 495804\n",
      "Depth   2 :R squared: 0.21 -- Mean squared error: 446263\n",
      "Depth   3 :R squared: 0.28 -- Mean squared error: 405924\n",
      "Depth   4 :R squared: 0.82 -- Mean squared error: 100086\n",
      "Depth   5 :R squared: 0.86 -- Mean squared error: 81552\n",
      "Depth   6 :R squared: 0.89 -- Mean squared error: 63849\n",
      "Depth   7 :R squared: 0.93 -- Mean squared error: 40074\n",
      "Depth   8 :R squared: 0.95 -- Mean squared error: 29198\n",
      "Depth   9 :R squared: 0.96 -- Mean squared error: 20667\n",
      "Depth  10 :R squared: 0.98 -- Mean squared error: 13518\n",
      "Depth  11 :R squared: 0.98 -- Mean squared error: 8519\n",
      "Depth  12 :R squared: 0.99 -- Mean squared error: 5043\n",
      "Depth  13 :R squared: 0.99 -- Mean squared error: 2968\n",
      "Depth  14 :R squared: 1.00 -- Mean squared error: 1634\n",
      "Depth  15 :R squared: 1.00 -- Mean squared error: 892\n",
      "Depth  16 :R squared: 1.00 -- Mean squared error: 490\n",
      "Depth  17 :R squared: 1.00 -- Mean squared error: 218\n",
      "Depth  18 :R squared: 1.00 -- Mean squared error: 83\n",
      "Depth  19 :R squared: 1.00 -- Mean squared error: 20\n"
     ]
    }
   ],
   "source": [
    "# # The coefficients\n",
    "\n",
    "for i in range(1,20):\n",
    "    print(\"Depth  %2.f\" % i, \":R squared: %.2f\" % results[i].r_squared,\n",
    "    \"-- Mean squared error: %.0f\" % results[i].mean_squared_error)\n"
   ]
  },
  {
   "cell_type": "markdown",
   "id": "fb820050",
   "metadata": {},
   "source": [
    "## Something is strange here, the R squared goes to 1 !!"
   ]
  }
 ],
 "metadata": {
  "kernelspec": {
   "display_name": "Python 3",
   "language": "python",
   "name": "python3"
  },
  "language_info": {
   "codemirror_mode": {
    "name": "ipython",
    "version": 3
   },
   "file_extension": ".py",
   "mimetype": "text/x-python",
   "name": "python",
   "nbconvert_exporter": "python",
   "pygments_lexer": "ipython3",
   "version": "3.9.7"
  }
 },
 "nbformat": 4,
 "nbformat_minor": 5
}
