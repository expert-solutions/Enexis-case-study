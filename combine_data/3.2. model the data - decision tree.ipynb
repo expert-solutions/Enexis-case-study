{
 "cells": [
  {
   "cell_type": "markdown",
   "id": "785bc900",
   "metadata": {},
   "source": [
    "# ENEXIS Graduation Project"
   ]
  },
  {
   "cell_type": "markdown",
   "id": "0042c026",
   "metadata": {},
   "source": [
    "#### Create a model predicting the 'opwek' based on demographical data"
   ]
  },
  {
   "cell_type": "markdown",
   "id": "f98fdd4c",
   "metadata": {},
   "source": [
    "### Collect Initial Data"
   ]
  },
  {
   "cell_type": "code",
   "execution_count": 13,
   "id": "b5e95fb9",
   "metadata": {},
   "outputs": [],
   "source": [
    "import pandas as pd\n",
    "import sys\n",
    "import matplotlib.pyplot as plt\n",
    "import seaborn as sns\n",
    "import numpy as np\n",
    "\n",
    "from sklearn.tree import DecisionTreeRegressor\n",
    "from sklearn.metrics import mean_squared_error, r2_score\n",
    "from sklearn.model_selection import train_test_split"
   ]
  },
  {
   "cell_type": "markdown",
   "id": "7f4bc9e6",
   "metadata": {},
   "source": [
    "### Get the data"
   ]
  },
  {
   "cell_type": "code",
   "execution_count": 14,
   "id": "6d821611",
   "metadata": {},
   "outputs": [],
   "source": [
    "combined_dataset_name = 'combined_CBS_dataset_84583.csv'\n",
    "df = pd.read_csv(filepath_or_buffer = combined_dataset_name,\n",
    "                         sep                = ',',\n",
    "                         decimal            = ',',\n",
    "                         thousands          = '.',\n",
    "                         encoding           = 'unicode_escape')                                   # 1"
   ]
  },
  {
   "cell_type": "markdown",
   "id": "32c0af2e",
   "metadata": {},
   "source": [
    "## Models\n",
    "### Decision tree model Y=opgesteld vermogen, X=Demographic data"
   ]
  },
  {
   "cell_type": "code",
   "execution_count": 15,
   "id": "cf01e258",
   "metadata": {},
   "outputs": [
    {
     "name": "stdout",
     "output_type": "stream",
     "text": [
      "training set: 2127\n",
      "    test set: 532\n"
     ]
    }
   ],
   "source": [
    "train_set, test_set = train_test_split(df, test_size=0.2)\n",
    "train_set_for_plots = train_set\n",
    "test_set_for_plots = test_set\n",
    "print(f\"training set: {len(train_set)}\\n    test set: {len(test_set)}\")\n",
    "\n",
    "y_column = 'Opgesteld_vermogen'\n",
    "columns_to_keep = ['HuishoudensTotaal_28']\n",
    "# HuishoudensTotaal_28\n",
    "colomns_to_drop = [\n",
    "    'Opgesteld_vermogen', \n",
    "    'Peildatum',\n",
    "    'CBS_Buurtcode',\n",
    "    'Aantal_aansluitingen_in_CBS-buurt',\n",
    "    'Aantal_aansluitingen_met_opwekinstallatie',\n",
    "    'Netbeheerder',\n",
    "    'Provincie',\n",
    "    'CBS_Buurt', \n",
    "    'Gemeente', \n",
    "    'WijkenEnBuurten',\n",
    "    'Gemeentenaam_1',\n",
    "    'SoortRegio_2',\n",
    "    'MeestVoorkomendePostcode_113'\n",
    "    ]\n",
    "\n",
    "Y_train_set = train_set[y_column]\n",
    "X_train_set = train_set.drop(colomns_to_drop, axis=1).copy()\n",
    "Y_test_set = train_set[y_column]\n",
    "X_test_set = train_set.drop(colomns_to_drop, axis=1).copy()\n"
   ]
  },
  {
   "cell_type": "code",
   "execution_count": 16,
   "id": "825e694f",
   "metadata": {},
   "outputs": [
    {
     "name": "stdout",
     "output_type": "stream",
     "text": [
      "r2 Score - depth= 1 : 0.14\n",
      "r2 Score - depth= 2 : 0.22\n",
      "r2 Score - depth= 3 : 0.29\n",
      "r2 Score - depth= 4 : 0.82\n",
      "r2 Score - depth= 5 : 0.86\n",
      "r2 Score - depth= 6 : 0.89\n",
      "r2 Score - depth= 7 : 0.91\n",
      "r2 Score - depth= 8 : 0.94\n",
      "r2 Score - depth= 9 : 0.96\n",
      "r2 Score - depth= 10 : 0.97\n",
      "r2 Score - depth= 11 : 0.98\n",
      "r2 Score - depth= 12 : 0.99\n",
      "r2 Score - depth= 13 : 0.99\n",
      "r2 Score - depth= 14 : 0.99\n",
      "r2 Score - depth= 15 : 1.00\n",
      "r2 Score - depth= 16 : 1.00\n",
      "r2 Score - depth= 17 : 1.00\n",
      "r2 Score - depth= 18 : 1.00\n",
      "r2 Score - depth= 19 : 1.00\n"
     ]
    }
   ],
   "source": [
    "# Fit regression models\n",
    "for i in range(1, 20):\n",
    "    r = None\n",
    "    y_predict = None\n",
    "    r = DecisionTreeRegressor(max_depth=i)\n",
    "    r.fit(X_train_set, Y_train_set)\n",
    "    y_predict = r.predict(X_test_set)\n",
    "    print(\"r2 Score - depth=\", i, \": %.2f\" % r2_score(Y_test_set, y_predict))\n",
    "# regr_1 = DecisionTreeRegressor(max_depth=2)\n",
    "# regr_2 = DecisionTreeRegressor(max_depth=15)\n",
    "\n",
    "# regr_1.fit(X_train_set, Y_train_set)\n",
    "# regr_2.fit(X_train_set, Y_train_set)\n",
    "\n",
    "# # Predict\n",
    "# y1_predicted = regr_1.predict(X_test_set)\n",
    "# y2_predicted = regr_2.predict(X_test_set)"
   ]
  },
  {
   "cell_type": "markdown",
   "id": "443a6a77",
   "metadata": {},
   "source": [
    "### Check the quality of the model"
   ]
  },
  {
   "cell_type": "code",
   "execution_count": 17,
   "id": "c0cd066a",
   "metadata": {},
   "outputs": [
    {
     "name": "stdout",
     "output_type": "stream",
     "text": [
      "r2 Score - depth=2: 0.22\n",
      "r2 Score - depth=5: 1.00\n"
     ]
    }
   ],
   "source": [
    "# # The coefficients\n",
    "# print(\"r2 Score - depth=2: %.2f\" % r2_score(Y_test_set, y1_predicted))\n",
    "# print(\"r2 Score - depth=5: %.2f\" % r2_score(Y_test_set, y2_predicted))\n",
    "\n",
    "# The mean squared error\n",
    "# print(\"Mean squared error: %.2f\" % mean_squared_error(Y_test_set, y1_predicted))\n",
    "# The coefficient of determination: 1 is perfect prediction\n",
    "# print(\"Coefficient of determination: %.2f\" % r2_score(Y_test_set, y1_predicted))\n"
   ]
  }
 ],
 "metadata": {
  "kernelspec": {
   "display_name": "Python 3",
   "language": "python",
   "name": "python3"
  },
  "language_info": {
   "codemirror_mode": {
    "name": "ipython",
    "version": 3
   },
   "file_extension": ".py",
   "mimetype": "text/x-python",
   "name": "python",
   "nbconvert_exporter": "python",
   "pygments_lexer": "ipython3",
   "version": "3.9.7"
  }
 },
 "nbformat": 4,
 "nbformat_minor": 5
}
