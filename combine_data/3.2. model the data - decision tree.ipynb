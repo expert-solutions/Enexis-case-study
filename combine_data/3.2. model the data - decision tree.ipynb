{
 "cells": [
  {
   "cell_type": "markdown",
   "id": "785bc900",
   "metadata": {},
   "source": [
    "# ENEXIS Graduation Project"
   ]
  },
  {
   "cell_type": "markdown",
   "id": "0042c026",
   "metadata": {},
   "source": [
    "#### Create a model predicting the 'opwek' based on demographical data"
   ]
  },
  {
   "cell_type": "markdown",
   "id": "f98fdd4c",
   "metadata": {},
   "source": [
    "### Collect Initial Data"
   ]
  },
  {
   "cell_type": "code",
   "execution_count": 39,
   "id": "b5e95fb9",
   "metadata": {},
   "outputs": [],
   "source": [
    "import pandas as pd\n",
    "import sys\n",
    "import matplotlib.pyplot as plt\n",
    "import seaborn as sns\n",
    "import numpy as np\n",
    "\n",
    "from sklearn.tree import DecisionTreeRegressor\n",
    "from sklearn.metrics import mean_squared_error, r2_score\n",
    "from sklearn.model_selection import train_test_split"
   ]
  },
  {
   "cell_type": "markdown",
   "id": "7f4bc9e6",
   "metadata": {},
   "source": [
    "### Get the data"
   ]
  },
  {
   "cell_type": "code",
   "execution_count": 40,
   "id": "6d821611",
   "metadata": {},
   "outputs": [],
   "source": [
    "combined_dataset_name = 'combined_CBS_dataset_84583.csv'\n",
    "df = pd.read_csv(filepath_or_buffer = combined_dataset_name,\n",
    "                         sep                = ',',\n",
    "                         decimal            = ',',\n",
    "                         thousands          = '.',\n",
    "                         encoding           = 'unicode_escape')                                   # 1"
   ]
  },
  {
   "cell_type": "markdown",
   "id": "32c0af2e",
   "metadata": {},
   "source": [
    "## Models\n",
    "### Decision tree model Y=opgesteld vermogen, X=Demographic data"
   ]
  },
  {
   "cell_type": "code",
   "execution_count": 41,
   "id": "cf01e258",
   "metadata": {},
   "outputs": [
    {
     "name": "stdout",
     "output_type": "stream",
     "text": [
      "training set: 2127\n",
      "    test set: 532\n"
     ]
    }
   ],
   "source": [
    "train_set, test_set = train_test_split(df, test_size=0.2)\n",
    "train_set_for_plots = train_set\n",
    "test_set_for_plots = test_set\n",
    "print(f\"training set: {len(train_set)}\\n    test set: {len(test_set)}\")\n",
    "\n",
    "y_column = 'Opgesteld_vermogen'\n",
    "columns_to_keep = ['HuishoudensTotaal_28']\n",
    "# HuishoudensTotaal_28\n",
    "colomns_to_drop = [\n",
    "    'Opgesteld_vermogen', \n",
    "    'Peildatum',\n",
    "    'CBS_Buurtcode',\n",
    "    'Aantal_aansluitingen_in_CBS-buurt',\n",
    "    'Aantal_aansluitingen_met_opwekinstallatie',\n",
    "    'Netbeheerder',\n",
    "    'Provincie',\n",
    "    'CBS_Buurt', \n",
    "    'Gemeente', \n",
    "    'WijkenEnBuurten',\n",
    "    'Gemeentenaam_1',\n",
    "    'SoortRegio_2',\n",
    "    'MeestVoorkomendePostcode_113'\n",
    "    ]\n",
    "\n",
    "Y_train_set = train_set[y_column]\n",
    "X_train_set = train_set.drop(colomns_to_drop, axis=1).copy()\n",
    "Y_test_set = train_set[y_column]\n",
    "X_test_set = train_set.drop(colomns_to_drop, axis=1).copy()\n"
   ]
  },
  {
   "cell_type": "markdown",
   "id": "a9d789ca",
   "metadata": {},
   "source": [
    "##### Create helper class"
   ]
  },
  {
   "cell_type": "code",
   "execution_count": 42,
   "id": "1532551f",
   "metadata": {},
   "outputs": [],
   "source": [
    "class Result:\n",
    "  def __init__(self, r_squared, mean_squared_error):\n",
    "    self.r_squared = r_squared\n",
    "    self.mean_squared_error = mean_squared_error"
   ]
  },
  {
   "cell_type": "code",
   "execution_count": 43,
   "id": "825e694f",
   "metadata": {},
   "outputs": [],
   "source": [
    "results = {}\n",
    "\n",
    "# Fit regression models\n",
    "for i in range(1, 20):\n",
    "    r = DecisionTreeRegressor(max_depth=i)\n",
    "    r.fit(X_train_set, Y_train_set)\n",
    "    y_predict = r.predict(X_test_set)\n",
    "    results[i] = Result(r2_score(Y_test_set, y_predict), mean_squared_error(Y_test_set, y_predict)) \n"
   ]
  },
  {
   "cell_type": "markdown",
   "id": "443a6a77",
   "metadata": {},
   "source": [
    "### Check the quality of the model"
   ]
  },
  {
   "cell_type": "code",
   "execution_count": 44,
   "id": "c0cd066a",
   "metadata": {},
   "outputs": [
    {
     "name": "stdout",
     "output_type": "stream",
     "text": [
      "Depth   1 :R squared: 0.31 -- Mean squared error: 20380168\n",
      "Depth   2 :R squared: 0.47 -- Mean squared error: 15688283\n",
      "Depth   3 :R squared: 0.62 -- Mean squared error: 11249939\n",
      "Depth   4 :R squared: 0.74 -- Mean squared error: 7785480\n",
      "Depth   5 :R squared: 0.79 -- Mean squared error: 6062953\n",
      "Depth   6 :R squared: 0.84 -- Mean squared error: 4788387\n",
      "Depth   7 :R squared: 0.89 -- Mean squared error: 3170192\n",
      "Depth   8 :R squared: 0.92 -- Mean squared error: 2320962\n",
      "Depth   9 :R squared: 0.95 -- Mean squared error: 1591097\n",
      "Depth  10 :R squared: 0.97 -- Mean squared error: 1018602\n",
      "Depth  11 :R squared: 0.98 -- Mean squared error: 645635\n",
      "Depth  12 :R squared: 0.99 -- Mean squared error: 383503\n",
      "Depth  13 :R squared: 0.99 -- Mean squared error: 213379\n",
      "Depth  14 :R squared: 1.00 -- Mean squared error: 117484\n",
      "Depth  15 :R squared: 1.00 -- Mean squared error: 71486\n",
      "Depth  16 :R squared: 1.00 -- Mean squared error: 39395\n",
      "Depth  17 :R squared: 1.00 -- Mean squared error: 19712\n",
      "Depth  18 :R squared: 1.00 -- Mean squared error: 9078\n",
      "Depth  19 :R squared: 1.00 -- Mean squared error: 3962\n"
     ]
    }
   ],
   "source": [
    "# # The coefficients\n",
    "\n",
    "for i in range(1,20):\n",
    "    print(\"Depth  %2.f\" % i, \":R squared: %.2f\" % results[i].r_squared,\n",
    "    \"-- Mean squared error: %.0f\" % results[i].mean_squared_error)\n"
   ]
  },
  {
   "cell_type": "markdown",
   "id": "fb820050",
   "metadata": {},
   "source": [
    "## Something is strange here, the test error seems to go to 0!!"
   ]
  }
 ],
 "metadata": {
  "kernelspec": {
   "display_name": "Python 3",
   "language": "python",
   "name": "python3"
  },
  "language_info": {
   "codemirror_mode": {
    "name": "ipython",
    "version": 3
   },
   "file_extension": ".py",
   "mimetype": "text/x-python",
   "name": "python",
   "nbconvert_exporter": "python",
   "pygments_lexer": "ipython3",
   "version": "3.9.7"
  }
 },
 "nbformat": 4,
 "nbformat_minor": 5
}
