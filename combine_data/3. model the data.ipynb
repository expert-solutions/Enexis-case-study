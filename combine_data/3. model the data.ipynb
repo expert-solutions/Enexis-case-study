{
 "cells": [
  {
   "cell_type": "markdown",
   "id": "785bc900",
   "metadata": {},
   "source": [
    "# ENEXIS Graduation Project"
   ]
  },
  {
   "cell_type": "markdown",
   "id": "0042c026",
   "metadata": {},
   "source": [
    "#### Create a model predicting the 'opwek' based on demographical data"
   ]
  },
  {
   "cell_type": "markdown",
   "id": "f98fdd4c",
   "metadata": {},
   "source": [
    "### Collect Initial Data"
   ]
  },
  {
   "cell_type": "code",
   "execution_count": 17,
   "id": "b5e95fb9",
   "metadata": {},
   "outputs": [],
   "source": [
    "import pandas as pd\n",
    "import sys\n",
    "import matplotlib.pyplot as plt\n",
    "import seaborn as sns\n",
    "import numpy as np\n",
    "# from sklearn import datasets, linear_model\n",
    "from sklearn.linear_model import LinearRegression\n",
    "from sklearn.metrics import mean_squared_error, r2_score\n",
    "from sklearn.model_selection import train_test_split"
   ]
  },
  {
   "cell_type": "markdown",
   "id": "7f4bc9e6",
   "metadata": {},
   "source": [
    "### Get the data"
   ]
  },
  {
   "cell_type": "code",
   "execution_count": 18,
   "id": "6d821611",
   "metadata": {},
   "outputs": [],
   "source": [
    "combined_dataset_name = 'combined_CBS_dataset_84583.csv'\n",
    "df = pd.read_csv(filepath_or_buffer = combined_dataset_name,\n",
    "                         sep                = ',',\n",
    "                         decimal            = ',',\n",
    "                         thousands          = '.',\n",
    "                         encoding           = 'unicode_escape')                                   # 1"
   ]
  },
  {
   "cell_type": "markdown",
   "id": "32c0af2e",
   "metadata": {},
   "source": [
    "## Models\n",
    "### Linear model Y=opgesteld vermogen, X=Aantal huishoudens"
   ]
  },
  {
   "cell_type": "code",
   "execution_count": 19,
   "id": "cf01e258",
   "metadata": {},
   "outputs": [
    {
     "name": "stdout",
     "output_type": "stream",
     "text": [
      "training set: 380\n",
      "    test set: 95\n"
     ]
    }
   ],
   "source": [
    "\n",
    "\n",
    "train_set, test_set = train_test_split(df, test_size=0.2)\n",
    "print(f\"training set: {len(train_set)}\\n    test set: {len(test_set)}\")\n",
    "\n",
    "y_column = 'Opgesteld_vermogen'\n",
    "columns_to_keep = ['HuishoudensTotaal_28']\n",
    "# HuishoudensTotaal_28\n",
    "colomns_to_drop = ['Opgesteld_vermogen','Netbeheerder','Provincie','CBS_Buurt', 'Gemeente', 'WijkenEnBuurten']\n",
    "\n",
    "Y_train_set = train_set[y_column]\n",
    "X_train_set = train_set.drop(colomns_to_drop, axis=1).copy()\n",
    "# X_train_set = train_set[columns_to_keep]\n",
    "Y_test_set = train_set[y_column]\n",
    "X_test_set = train_set.drop(colomns_to_drop, axis=1).copy()\n",
    "# X_test_set = train_set[columns_to_keep]\n"
   ]
  },
  {
   "cell_type": "code",
   "execution_count": 20,
   "id": "2214f5da",
   "metadata": {},
   "outputs": [
    {
     "data": {
      "text/html": [
       "<div>\n",
       "<style scoped>\n",
       "    .dataframe tbody tr th:only-of-type {\n",
       "        vertical-align: middle;\n",
       "    }\n",
       "\n",
       "    .dataframe tbody tr th {\n",
       "        vertical-align: top;\n",
       "    }\n",
       "\n",
       "    .dataframe thead th {\n",
       "        text-align: right;\n",
       "    }\n",
       "</style>\n",
       "<table border=\"1\" class=\"dataframe\">\n",
       "  <thead>\n",
       "    <tr style=\"text-align: right;\">\n",
       "      <th></th>\n",
       "      <th>Peildatum</th>\n",
       "      <th>CBS_Buurtcode</th>\n",
       "      <th>Aantal_aansluitingen_in_CBS-buurt</th>\n",
       "      <th>Aantal_aansluitingen_met_opwekinstallatie</th>\n",
       "      <th>HuishoudensTotaal_28</th>\n",
       "    </tr>\n",
       "  </thead>\n",
       "  <tbody>\n",
       "    <tr>\n",
       "      <th>373</th>\n",
       "      <td>2020070</td>\n",
       "      <td>173112000</td>\n",
       "      <td>2840</td>\n",
       "      <td>690</td>\n",
       "      <td>335</td>\n",
       "    </tr>\n",
       "    <tr>\n",
       "      <th>38</th>\n",
       "      <td>2020070</td>\n",
       "      <td>168021090</td>\n",
       "      <td>1060</td>\n",
       "      <td>260</td>\n",
       "      <td>45</td>\n",
       "    </tr>\n",
       "    <tr>\n",
       "      <th>361</th>\n",
       "      <td>2020070</td>\n",
       "      <td>173107000</td>\n",
       "      <td>12480</td>\n",
       "      <td>5200</td>\n",
       "      <td>1245</td>\n",
       "    </tr>\n",
       "    <tr>\n",
       "      <th>101</th>\n",
       "      <td>2020070</td>\n",
       "      <td>10608040</td>\n",
       "      <td>5170</td>\n",
       "      <td>690</td>\n",
       "      <td>490</td>\n",
       "    </tr>\n",
       "    <tr>\n",
       "      <th>7</th>\n",
       "      <td>2020070</td>\n",
       "      <td>168004000</td>\n",
       "      <td>720</td>\n",
       "      <td>160</td>\n",
       "      <td>90</td>\n",
       "    </tr>\n",
       "  </tbody>\n",
       "</table>\n",
       "</div>"
      ],
      "text/plain": [
       "     Peildatum  CBS_Buurtcode  Aantal_aansluitingen_in_CBS-buurt  \\\n",
       "373    2020070      173112000                               2840   \n",
       "38     2020070      168021090                               1060   \n",
       "361    2020070      173107000                              12480   \n",
       "101    2020070       10608040                               5170   \n",
       "7      2020070      168004000                                720   \n",
       "\n",
       "     Aantal_aansluitingen_met_opwekinstallatie  HuishoudensTotaal_28  \n",
       "373                                        690                   335  \n",
       "38                                         260                    45  \n",
       "361                                       5200                  1245  \n",
       "101                                        690                   490  \n",
       "7                                          160                    90  "
      ]
     },
     "execution_count": 20,
     "metadata": {},
     "output_type": "execute_result"
    }
   ],
   "source": [
    "X_test_set.head()"
   ]
  },
  {
   "cell_type": "code",
   "execution_count": 21,
   "id": "91a56403",
   "metadata": {},
   "outputs": [
    {
     "data": {
      "text/plain": [
       "LinearRegression()"
      ]
     },
     "execution_count": 21,
     "metadata": {},
     "output_type": "execute_result"
    }
   ],
   "source": [
    "\n",
    "\n",
    "lin_reg = LinearRegression()\n",
    "lin_reg.fit(X_train_set, Y_train_set)"
   ]
  },
  {
   "cell_type": "markdown",
   "id": "75499ec8",
   "metadata": {},
   "source": [
    "#### Check the quality of the model"
   ]
  },
  {
   "cell_type": "code",
   "execution_count": 22,
   "metadata": {},
   "outputs": [
    {
     "name": "stdout",
     "output_type": "stream",
     "text": [
      "Coefficients: \n",
      " [ 0.00000000e+00  2.50099907e-06  6.88429888e-01  3.02159601e+00\n",
      " -5.92417011e+00]\n",
      "Mean squared error: 1511606.37\n",
      "Coefficient of determination: 0.96\n"
     ]
    },
    {
     "data": {
      "image/png": "[encoded data removed]",
      "text/plain": [
       "<Figure size 432x288 with 1 Axes>"
      ]
     },
     "metadata": {},
     "output_type": "display_data"
    }
   ],
   "source": [
    "# Make predictions using the testing set\n",
    "y_pred = lin_reg.predict(X_test_set)\n",
    "\n",
    "# The coefficients\n",
    "print(\"Coefficients: \\n\", lin_reg.coef_)\n",
    "# The mean squared error\n",
    "print(\"Mean squared error: %.2f\" % mean_squared_error(Y_test_set, y_pred))\n",
    "# The coefficient of determination: 1 is perfect prediction\n",
    "print(\"Coefficient of determination: %.2f\" % r2_score(Y_test_set, y_pred))\n",
    "\n",
    "#fix the fact that x and y are not the same dimensions\n",
    "# x_s_huishoudens_totaal = X_test_set['HuishoudensTotaal_28']\n",
    "x_s_huishoudens_totaal = X_test_set['HuishoudensTotaal_28']\n",
    "# Plot outputs\n",
    "# plt.scatter(x_s_huishoudens_totaal, Y_test_set, color=\"green\")\n",
    "plt.scatter(x_s_huishoudens_totaal, Y_test_set, color=\"green\")\n",
    "\n",
    "plt.xlabel = 'Huishoudens total (#)'\n",
    "plt.xticks(())\n",
    "plt.ylabel = 'Opgesteld vermogen (wP)'\n",
    "plt.yticks(())\n",
    "\n",
    "plt.show()\n",
    "\n",
    "# plt.ylim(0, 12)"
   ]
  }
 ],
 "metadata": {
  "kernelspec": {
   "display_name": "Python 3",
   "language": "python",
   "name": "python3"
  },
  "language_info": {
   "codemirror_mode": {
    "name": "ipython",
    "version": 3
   },
   "file_extension": ".py",
   "mimetype": "text/x-python",
   "name": "python",
   "nbconvert_exporter": "python",
   "pygments_lexer": "ipython3",
   "version": "3.9.7"
  }
 },
 "nbformat": 4,
 "nbformat_minor": 5
}
