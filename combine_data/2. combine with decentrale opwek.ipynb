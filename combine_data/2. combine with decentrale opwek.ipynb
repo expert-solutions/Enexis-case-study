{
 "cells": [
  {
   "cell_type": "markdown",
   "id": "785bc900",
   "metadata": {},
   "source": [
    "# ENEXIS Graduation Project"
   ]
  },
  {
   "cell_type": "markdown",
   "id": "0042c026",
   "metadata": {},
   "source": [
    "#### Enexis decentrale opwek data are combined with data from the CBS database \"Kerncijfers\""
   ]
  },
  {
   "cell_type": "markdown",
   "id": "e97c5ba1",
   "metadata": {},
   "source": [
    "# CRISP-DM Phase 2: Data Understanding"
   ]
  },
  {
   "cell_type": "markdown",
   "id": "f98fdd4c",
   "metadata": {},
   "source": [
    "### Collect Initial Data"
   ]
  },
  {
   "cell_type": "code",
   "execution_count": 215,
   "id": "b5e95fb9",
   "metadata": {},
   "outputs": [],
   "source": [
    "import pandas as pd\n",
    "import sys\n",
    "import matplotlib.pyplot as plt\n",
    "import seaborn as sns"
   ]
  },
  {
   "cell_type": "code",
   "execution_count": 216,
   "id": "6d821611",
   "metadata": {},
   "outputs": [],
   "source": [
    "c_path = \"../data/\"\n",
    "v_file = (\"Enexis_decentrale_opwek_kv_(zon_pv)_01012020\",                                    # 0\n",
    "          \"Enexis_decentrale_opwek_kv_(zon_pv)_01072020\")                                    # 1"
   ]
  },
  {
   "cell_type": "code",
   "execution_count": 217,
   "id": "ccd12c79",
   "metadata": {},
   "outputs": [],
   "source": [
    "i = 1\n",
    "c_decimal = ','\n",
    "df_decentrale_opwek     = pd.read_csv(filepath_or_buffer = c_path + v_file[i] + \".csv\",\n",
    "                         sep                = ';',\n",
    "                         decimal            = c_decimal,\n",
    "                         thousands          = '.',\n",
    "                         encoding           = 'unicode_escape')"
   ]
  },
  {
   "cell_type": "markdown",
   "id": "a141b252",
   "metadata": {},
   "source": [
    "### Describe Data"
   ]
  },
  {
   "cell_type": "code",
   "execution_count": 218,
   "id": "9a74919d",
   "metadata": {},
   "outputs": [
    {
     "data": {
      "text/html": [
       "<div>\n",
       "<style scoped>\n",
       "    .dataframe tbody tr th:only-of-type {\n",
       "        vertical-align: middle;\n",
       "    }\n",
       "\n",
       "    .dataframe tbody tr th {\n",
       "        vertical-align: top;\n",
       "    }\n",
       "\n",
       "    .dataframe thead th {\n",
       "        text-align: right;\n",
       "    }\n",
       "</style>\n",
       "<table border=\"1\" class=\"dataframe\">\n",
       "  <thead>\n",
       "    <tr style=\"text-align: right;\">\n",
       "      <th></th>\n",
       "      <th>0</th>\n",
       "      <th>1</th>\n",
       "      <th>2</th>\n",
       "      <th>3</th>\n",
       "      <th>4</th>\n",
       "    </tr>\n",
       "  </thead>\n",
       "  <tbody>\n",
       "    <tr>\n",
       "      <th>ï»¿Peildatum</th>\n",
       "      <td>202007.0</td>\n",
       "      <td>202007.0</td>\n",
       "      <td>202007.0</td>\n",
       "      <td>202007.0</td>\n",
       "      <td>202007.0</td>\n",
       "    </tr>\n",
       "    <tr>\n",
       "      <th>Netbeheerder</th>\n",
       "      <td>Enexis</td>\n",
       "      <td>Enexis</td>\n",
       "      <td>Enexis</td>\n",
       "      <td>Enexis</td>\n",
       "      <td>Enexis</td>\n",
       "    </tr>\n",
       "    <tr>\n",
       "      <th>Provincie</th>\n",
       "      <td>Drenthe</td>\n",
       "      <td>Drenthe</td>\n",
       "      <td>Drenthe</td>\n",
       "      <td>Drenthe</td>\n",
       "      <td>Drenthe</td>\n",
       "    </tr>\n",
       "    <tr>\n",
       "      <th>Gemeente</th>\n",
       "      <td>Aa en Hunze</td>\n",
       "      <td>Aa en Hunze</td>\n",
       "      <td>Aa en Hunze</td>\n",
       "      <td>Aa en Hunze</td>\n",
       "      <td>Aa en Hunze</td>\n",
       "    </tr>\n",
       "    <tr>\n",
       "      <th>CBS Buurt</th>\n",
       "      <td>Annen</td>\n",
       "      <td>Verspreide huizen Annen</td>\n",
       "      <td>Eext</td>\n",
       "      <td>Verspreide huizen Eext</td>\n",
       "      <td>Anloo</td>\n",
       "    </tr>\n",
       "    <tr>\n",
       "      <th>CBS Buurtcode</th>\n",
       "      <td>16800000.0</td>\n",
       "      <td>16800009.0</td>\n",
       "      <td>16800100.0</td>\n",
       "      <td>16800109.0</td>\n",
       "      <td>16800200.0</td>\n",
       "    </tr>\n",
       "    <tr>\n",
       "      <th>Aantal aansluitingen in CBS-buurt</th>\n",
       "      <td>1491.0</td>\n",
       "      <td>116.0</td>\n",
       "      <td>559.0</td>\n",
       "      <td>127.0</td>\n",
       "      <td>127.0</td>\n",
       "    </tr>\n",
       "    <tr>\n",
       "      <th>Aantal aansluitingen met opwekinstallatie</th>\n",
       "      <td>447.0</td>\n",
       "      <td>29.0</td>\n",
       "      <td>143.0</td>\n",
       "      <td>24.0</td>\n",
       "      <td>29.0</td>\n",
       "    </tr>\n",
       "    <tr>\n",
       "      <th>Opgesteld vermogen</th>\n",
       "      <td>1866.0</td>\n",
       "      <td>243.0</td>\n",
       "      <td>565.0</td>\n",
       "      <td>150.0</td>\n",
       "      <td>129.0</td>\n",
       "    </tr>\n",
       "  </tbody>\n",
       "</table>\n",
       "</div>"
      ],
      "text/plain": [
       "                                                     0  \\\n",
       "ï»¿Peildatum                                  202007.0   \n",
       "Netbeheerder                                    Enexis   \n",
       "Provincie                                      Drenthe   \n",
       "Gemeente                                   Aa en Hunze   \n",
       "CBS Buurt                                        Annen   \n",
       "CBS Buurtcode                               16800000.0   \n",
       "Aantal aansluitingen in CBS-buurt               1491.0   \n",
       "Aantal aansluitingen met opwekinstallatie        447.0   \n",
       "Opgesteld vermogen                              1866.0   \n",
       "\n",
       "                                                                 1  \\\n",
       "ï»¿Peildatum                                              202007.0   \n",
       "Netbeheerder                                                Enexis   \n",
       "Provincie                                                  Drenthe   \n",
       "Gemeente                                               Aa en Hunze   \n",
       "CBS Buurt                                  Verspreide huizen Annen   \n",
       "CBS Buurtcode                                           16800009.0   \n",
       "Aantal aansluitingen in CBS-buurt                            116.0   \n",
       "Aantal aansluitingen met opwekinstallatie                     29.0   \n",
       "Opgesteld vermogen                                           243.0   \n",
       "\n",
       "                                                     2  \\\n",
       "ï»¿Peildatum                                  202007.0   \n",
       "Netbeheerder                                    Enexis   \n",
       "Provincie                                      Drenthe   \n",
       "Gemeente                                   Aa en Hunze   \n",
       "CBS Buurt                                         Eext   \n",
       "CBS Buurtcode                               16800100.0   \n",
       "Aantal aansluitingen in CBS-buurt                559.0   \n",
       "Aantal aansluitingen met opwekinstallatie        143.0   \n",
       "Opgesteld vermogen                               565.0   \n",
       "\n",
       "                                                                3            4  \n",
       "ï»¿Peildatum                                             202007.0     202007.0  \n",
       "Netbeheerder                                               Enexis       Enexis  \n",
       "Provincie                                                 Drenthe      Drenthe  \n",
       "Gemeente                                              Aa en Hunze  Aa en Hunze  \n",
       "CBS Buurt                                  Verspreide huizen Eext        Anloo  \n",
       "CBS Buurtcode                                          16800109.0   16800200.0  \n",
       "Aantal aansluitingen in CBS-buurt                           127.0        127.0  \n",
       "Aantal aansluitingen met opwekinstallatie                    24.0         29.0  \n",
       "Opgesteld vermogen                                          150.0        129.0  "
      ]
     },
     "execution_count": 218,
     "metadata": {},
     "output_type": "execute_result"
    }
   ],
   "source": [
    "df_decentrale_opwek.head().transpose()"
   ]
  },
  {
   "cell_type": "code",
   "execution_count": 219,
   "id": "4a241f87",
   "metadata": {},
   "outputs": [
    {
     "name": "stdout",
     "output_type": "stream",
     "text": [
      "<class 'pandas.core.frame.DataFrame'>\n",
      "RangeIndex: 4081 entries, 0 to 4080\n",
      "Data columns (total 9 columns):\n",
      " #   Column                                     Non-Null Count  Dtype  \n",
      "---  ------                                     --------------  -----  \n",
      " 0   ï»¿Peildatum                               4077 non-null   float64\n",
      " 1   Netbeheerder                               4077 non-null   object \n",
      " 2   Provincie                                  4076 non-null   object \n",
      " 3   Gemeente                                   4074 non-null   object \n",
      " 4   CBS Buurt                                  3946 non-null   object \n",
      " 5   CBS Buurtcode                              3946 non-null   float64\n",
      " 6   Aantal aansluitingen in CBS-buurt          4076 non-null   float64\n",
      " 7   Aantal aansluitingen met opwekinstallatie  4077 non-null   float64\n",
      " 8   Opgesteld vermogen                         4077 non-null   float64\n",
      "dtypes: float64(5), object(4)\n",
      "memory usage: 287.1+ KB\n"
     ]
    }
   ],
   "source": [
    "df_decentrale_opwek.info()"
   ]
  },
  {
   "cell_type": "code",
   "execution_count": 220,
   "id": "c03476b0",
   "metadata": {},
   "outputs": [],
   "source": [
    "df_decentrale_opwek.columns = df_decentrale_opwek.columns.str.strip()"
   ]
  },
  {
   "cell_type": "code",
   "execution_count": 221,
   "id": "d9e16cab",
   "metadata": {},
   "outputs": [],
   "source": [
    "df_decentrale_opwek.columns = df_decentrale_opwek.columns.str.replace(' ','_')"
   ]
  },
  {
   "cell_type": "code",
   "execution_count": 222,
   "id": "f7958190",
   "metadata": {},
   "outputs": [],
   "source": [
    "df_decentrale_opwek.rename(columns={'ï»¿Peildatum': 'Peildatum'}, inplace=True)"
   ]
  },
  {
   "cell_type": "code",
   "execution_count": 223,
   "id": "7c8340c8",
   "metadata": {},
   "outputs": [
    {
     "data": {
      "text/plain": [
       "Index(['Peildatum', 'Netbeheerder', 'Provincie', 'Gemeente', 'CBS_Buurt',\n",
       "       'CBS_Buurtcode', 'Aantal_aansluitingen_in_CBS-buurt',\n",
       "       'Aantal_aansluitingen_met_opwekinstallatie', 'Opgesteld_vermogen'],\n",
       "      dtype='object')"
      ]
     },
     "execution_count": 223,
     "metadata": {},
     "output_type": "execute_result"
    }
   ],
   "source": [
    "df_decentrale_opwek.columns"
   ]
  },
  {
   "cell_type": "markdown",
   "id": "9a2c17ec",
   "metadata": {},
   "source": [
    "### Combine the data sources"
   ]
  },
  {
   "cell_type": "code",
   "execution_count": 224,
   "id": "c2c07fa8",
   "metadata": {},
   "outputs": [
    {
     "name": "stdout",
     "output_type": "stream",
     "text": [
      "<class 'pandas.core.frame.DataFrame'>\n",
      "Int64Index: 3227 entries, 0 to 3226\n",
      "Data columns (total 30 columns):\n",
      " #   Column                                     Non-Null Count  Dtype  \n",
      "---  ------                                     --------------  -----  \n",
      " 0   Peildatum                                  3227 non-null   float64\n",
      " 1   Netbeheerder                               3227 non-null   object \n",
      " 2   Provincie                                  3227 non-null   object \n",
      " 3   Gemeente                                   3227 non-null   object \n",
      " 4   CBS_Buurt                                  3227 non-null   object \n",
      " 5   CBS_Buurtcode                              3227 non-null   float64\n",
      " 6   Aantal_aansluitingen_in_CBS-buurt          3227 non-null   float64\n",
      " 7   Aantal_aansluitingen_met_opwekinstallatie  3227 non-null   float64\n",
      " 8   Opgesteld_vermogen                         3227 non-null   float64\n",
      " 9   WijkenEnBuurten                            3227 non-null   object \n",
      " 10  Gemeentenaam_1                             3227 non-null   object \n",
      " 11  SoortRegio_2                               3227 non-null   object \n",
      " 12  MeestVoorkomendePostcode_113               3227 non-null   object \n",
      " 13  HuishoudensTotaal_28                       3227 non-null   int64  \n",
      " 14  GemiddeldeHuishoudensgrootte_32            3225 non-null   float64\n",
      " 15  Bevolkingsdichtheid_33                     3220 non-null   float64\n",
      " 16  GemiddeldeWoningwaarde_35                  2766 non-null   float64\n",
      " 17  PercentageEengezinswoning_36               3161 non-null   float64\n",
      " 18  Koopwoningen_40                            3161 non-null   float64\n",
      " 19  InBezitWoningcorporatie_42                 3161 non-null   float64\n",
      " 20  InBezitOverigeVerhuurders_43               3161 non-null   float64\n",
      " 21  BouwjaarVanaf2000_46                       3161 non-null   float64\n",
      " 22  GemiddeldElektriciteitsverbruikTotaal_47   3204 non-null   float64\n",
      " 23  GemiddeldAardgasverbruikTotaal_55          3181 non-null   float64\n",
      " 24  Gemiddeld_opleidingsniveau                 3061 non-null   float64\n",
      " 25  Percent_inkomensontvangers                 3225 non-null   float64\n",
      " 26  Bedrijfsvestigingen_per_huishuidens        3227 non-null   float64\n",
      " 27  PersonenautoSPerHuishouden_102             2909 non-null   float64\n",
      " 28  AfstandTotSchool_108                       3217 non-null   float64\n",
      " 29  Omgevingsadressendichtheid_116             3227 non-null   float64\n",
      "dtypes: float64(21), int64(1), object(8)\n",
      "memory usage: 781.5+ KB\n"
     ]
    }
   ],
   "source": [
    "#get the kerncijfers from the file\n",
    "dg_kerncijfers = pd.read_csv('CBS_dataset_84583NED.csv', )\n",
    "# dg_kerncijfers.info()\n",
    "\n",
    "dg_kerncijfers.rename(columns={'Codering_3': 'CBS_Buurtcode'}, inplace=True)\n",
    "df = pd.merge(df_decentrale_opwek, dg_kerncijfers, on='CBS_Buurtcode')\n",
    "\n",
    "df.info()"
   ]
  },
  {
   "cell_type": "markdown",
   "id": "1781add7",
   "metadata": {},
   "source": [
    "### Handle missing values"
   ]
  },
  {
   "cell_type": "code",
   "execution_count": 225,
   "id": "374ccf97",
   "metadata": {},
   "outputs": [
    {
     "data": {
      "text/plain": [
       "GemiddeldeWoningwaarde_35                   461\n",
       "PersonenautoSPerHuishouden_102              318\n",
       "Gemiddeld_opleidingsniveau                  166\n",
       "PercentageEengezinswoning_36                 66\n",
       "Koopwoningen_40                              66\n",
       "InBezitWoningcorporatie_42                   66\n",
       "InBezitOverigeVerhuurders_43                 66\n",
       "BouwjaarVanaf2000_46                         66\n",
       "GemiddeldAardgasverbruikTotaal_55            46\n",
       "GemiddeldElektriciteitsverbruikTotaal_47     23\n",
       "AfstandTotSchool_108                         10\n",
       "Bevolkingsdichtheid_33                        7\n",
       "GemiddeldeHuishoudensgrootte_32               2\n",
       "Percent_inkomensontvangers                    2\n",
       "dtype: int64"
      ]
     },
     "execution_count": 225,
     "metadata": {},
     "output_type": "execute_result"
    }
   ],
   "source": [
    "df.isna().sum()[df.isna().sum() != 0].sort_values(ascending = False)"
   ]
  },
  {
   "cell_type": "code",
   "execution_count": 226,
   "id": "0eeb323a",
   "metadata": {},
   "outputs": [
    {
     "data": {
      "text/html": [
       "<div>\n",
       "<style scoped>\n",
       "    .dataframe tbody tr th:only-of-type {\n",
       "        vertical-align: middle;\n",
       "    }\n",
       "\n",
       "    .dataframe tbody tr th {\n",
       "        vertical-align: top;\n",
       "    }\n",
       "\n",
       "    .dataframe thead th {\n",
       "        text-align: right;\n",
       "    }\n",
       "</style>\n",
       "<table border=\"1\" class=\"dataframe\">\n",
       "  <thead>\n",
       "    <tr style=\"text-align: right;\">\n",
       "      <th></th>\n",
       "      <th>Peildatum</th>\n",
       "      <th>Netbeheerder</th>\n",
       "      <th>Provincie</th>\n",
       "      <th>Gemeente</th>\n",
       "      <th>CBS_Buurt</th>\n",
       "      <th>CBS_Buurtcode</th>\n",
       "      <th>Aantal_aansluitingen_in_CBS-buurt</th>\n",
       "      <th>Aantal_aansluitingen_met_opwekinstallatie</th>\n",
       "      <th>Opgesteld_vermogen</th>\n",
       "      <th>WijkenEnBuurten</th>\n",
       "      <th>...</th>\n",
       "      <th>InBezitOverigeVerhuurders_43</th>\n",
       "      <th>BouwjaarVanaf2000_46</th>\n",
       "      <th>GemiddeldElektriciteitsverbruikTotaal_47</th>\n",
       "      <th>GemiddeldAardgasverbruikTotaal_55</th>\n",
       "      <th>Gemiddeld_opleidingsniveau</th>\n",
       "      <th>Percent_inkomensontvangers</th>\n",
       "      <th>Bedrijfsvestigingen_per_huishuidens</th>\n",
       "      <th>PersonenautoSPerHuishouden_102</th>\n",
       "      <th>AfstandTotSchool_108</th>\n",
       "      <th>Omgevingsadressendichtheid_116</th>\n",
       "    </tr>\n",
       "  </thead>\n",
       "  <tbody>\n",
       "  </tbody>\n",
       "</table>\n",
       "<p>0 rows × 30 columns</p>\n",
       "</div>"
      ],
      "text/plain": [
       "Empty DataFrame\n",
       "Columns: [Peildatum, Netbeheerder, Provincie, Gemeente, CBS_Buurt, CBS_Buurtcode, Aantal_aansluitingen_in_CBS-buurt, Aantal_aansluitingen_met_opwekinstallatie, Opgesteld_vermogen, WijkenEnBuurten, Gemeentenaam_1, SoortRegio_2, MeestVoorkomendePostcode_113, HuishoudensTotaal_28, GemiddeldeHuishoudensgrootte_32, Bevolkingsdichtheid_33, GemiddeldeWoningwaarde_35, PercentageEengezinswoning_36, Koopwoningen_40, InBezitWoningcorporatie_42, InBezitOverigeVerhuurders_43, BouwjaarVanaf2000_46, GemiddeldElektriciteitsverbruikTotaal_47, GemiddeldAardgasverbruikTotaal_55, Gemiddeld_opleidingsniveau, Percent_inkomensontvangers, Bedrijfsvestigingen_per_huishuidens, PersonenautoSPerHuishouden_102, AfstandTotSchool_108, Omgevingsadressendichtheid_116]\n",
       "Index: []\n",
       "\n",
       "[0 rows x 30 columns]"
      ]
     },
     "execution_count": 226,
     "metadata": {},
     "output_type": "execute_result"
    }
   ],
   "source": [
    "df[df['Opgesteld_vermogen'].isna()]"
   ]
  },
  {
   "cell_type": "code",
   "execution_count": 227,
   "id": "623f42cb",
   "metadata": {},
   "outputs": [],
   "source": [
    "df = df.drop(index = df[df['Opgesteld_vermogen'].isna()].index)"
   ]
  },
  {
   "cell_type": "code",
   "execution_count": 228,
   "id": "9e0d2450",
   "metadata": {},
   "outputs": [
    {
     "data": {
      "text/plain": [
       "GemiddeldeWoningwaarde_35                   461\n",
       "PersonenautoSPerHuishouden_102              318\n",
       "Gemiddeld_opleidingsniveau                  166\n",
       "PercentageEengezinswoning_36                 66\n",
       "Koopwoningen_40                              66\n",
       "InBezitWoningcorporatie_42                   66\n",
       "InBezitOverigeVerhuurders_43                 66\n",
       "BouwjaarVanaf2000_46                         66\n",
       "GemiddeldAardgasverbruikTotaal_55            46\n",
       "GemiddeldElektriciteitsverbruikTotaal_47     23\n",
       "AfstandTotSchool_108                         10\n",
       "Bevolkingsdichtheid_33                        7\n",
       "GemiddeldeHuishoudensgrootte_32               2\n",
       "Percent_inkomensontvangers                    2\n",
       "dtype: int64"
      ]
     },
     "execution_count": 228,
     "metadata": {},
     "output_type": "execute_result"
    }
   ],
   "source": [
    "df.isna().sum()[df.isna().sum() != 0].sort_values(ascending = False)"
   ]
  },
  {
   "cell_type": "code",
   "execution_count": 229,
   "id": "7867b26e",
   "metadata": {},
   "outputs": [
    {
     "data": {
      "text/html": [
       "<div>\n",
       "<style scoped>\n",
       "    .dataframe tbody tr th:only-of-type {\n",
       "        vertical-align: middle;\n",
       "    }\n",
       "\n",
       "    .dataframe tbody tr th {\n",
       "        vertical-align: top;\n",
       "    }\n",
       "\n",
       "    .dataframe thead th {\n",
       "        text-align: right;\n",
       "    }\n",
       "</style>\n",
       "<table border=\"1\" class=\"dataframe\">\n",
       "  <thead>\n",
       "    <tr style=\"text-align: right;\">\n",
       "      <th></th>\n",
       "      <th>Peildatum</th>\n",
       "      <th>Netbeheerder</th>\n",
       "      <th>Provincie</th>\n",
       "      <th>Gemeente</th>\n",
       "      <th>CBS_Buurt</th>\n",
       "      <th>CBS_Buurtcode</th>\n",
       "      <th>Aantal_aansluitingen_in_CBS-buurt</th>\n",
       "      <th>Aantal_aansluitingen_met_opwekinstallatie</th>\n",
       "      <th>Opgesteld_vermogen</th>\n",
       "      <th>WijkenEnBuurten</th>\n",
       "      <th>...</th>\n",
       "      <th>InBezitOverigeVerhuurders_43</th>\n",
       "      <th>BouwjaarVanaf2000_46</th>\n",
       "      <th>GemiddeldElektriciteitsverbruikTotaal_47</th>\n",
       "      <th>GemiddeldAardgasverbruikTotaal_55</th>\n",
       "      <th>Gemiddeld_opleidingsniveau</th>\n",
       "      <th>Percent_inkomensontvangers</th>\n",
       "      <th>Bedrijfsvestigingen_per_huishuidens</th>\n",
       "      <th>PersonenautoSPerHuishouden_102</th>\n",
       "      <th>AfstandTotSchool_108</th>\n",
       "      <th>Omgevingsadressendichtheid_116</th>\n",
       "    </tr>\n",
       "  </thead>\n",
       "  <tbody>\n",
       "  </tbody>\n",
       "</table>\n",
       "<p>0 rows × 30 columns</p>\n",
       "</div>"
      ],
      "text/plain": [
       "Empty DataFrame\n",
       "Columns: [Peildatum, Netbeheerder, Provincie, Gemeente, CBS_Buurt, CBS_Buurtcode, Aantal_aansluitingen_in_CBS-buurt, Aantal_aansluitingen_met_opwekinstallatie, Opgesteld_vermogen, WijkenEnBuurten, Gemeentenaam_1, SoortRegio_2, MeestVoorkomendePostcode_113, HuishoudensTotaal_28, GemiddeldeHuishoudensgrootte_32, Bevolkingsdichtheid_33, GemiddeldeWoningwaarde_35, PercentageEengezinswoning_36, Koopwoningen_40, InBezitWoningcorporatie_42, InBezitOverigeVerhuurders_43, BouwjaarVanaf2000_46, GemiddeldElektriciteitsverbruikTotaal_47, GemiddeldAardgasverbruikTotaal_55, Gemiddeld_opleidingsniveau, Percent_inkomensontvangers, Bedrijfsvestigingen_per_huishuidens, PersonenautoSPerHuishouden_102, AfstandTotSchool_108, Omgevingsadressendichtheid_116]\n",
       "Index: []\n",
       "\n",
       "[0 rows x 30 columns]"
      ]
     },
     "execution_count": 229,
     "metadata": {},
     "output_type": "execute_result"
    }
   ],
   "source": [
    "df[df['Provincie'].isna() | df['Gemeente'].isna()]"
   ]
  },
  {
   "cell_type": "code",
   "execution_count": 230,
   "id": "49c7a7bc",
   "metadata": {},
   "outputs": [],
   "source": [
    "df = df.drop(index = df[df['Provincie'].isna() | df['Gemeente'].isna()].index)"
   ]
  },
  {
   "cell_type": "code",
   "execution_count": 231,
   "id": "d86edf59",
   "metadata": {},
   "outputs": [],
   "source": [
    "df = df.drop(index = df[df['Aantal_aansluitingen_in_CBS-buurt'].isna()].index)"
   ]
  },
  {
   "cell_type": "code",
   "execution_count": 232,
   "id": "792978f0",
   "metadata": {},
   "outputs": [],
   "source": [
    "df = df.drop(index = df[df['CBS_Buurt'].isna()].index)"
   ]
  },
  {
   "cell_type": "code",
   "execution_count": 233,
   "id": "d2ba4056",
   "metadata": {},
   "outputs": [],
   "source": [
    "df = df.drop(index = df[df['CBS_Buurtcode'].isna()].index)"
   ]
  },
  {
   "cell_type": "code",
   "execution_count": 234,
   "id": "d26e205d",
   "metadata": {},
   "outputs": [],
   "source": [
    "df = df.drop(index = df[df['GemiddeldeWoningwaarde_35'].isna()].index)"
   ]
  },
  {
   "cell_type": "code",
   "execution_count": 235,
   "id": "1d01d3c1",
   "metadata": {},
   "outputs": [],
   "source": [
    "df = df.drop(index = df[df['Gemiddeld_opleidingsniveau'].isna()].index)\n",
    "df = df.drop(index = df[df['PersonenautoSPerHuishouden_102'].isna()].index)\n",
    "df = df.drop(index = df[df['GemiddeldAardgasverbruikTotaal_55'].isna()].index)\n",
    "df = df.drop(index = df[df['AfstandTotSchool_108'].isna()].index)\n",
    "df = df.drop(index = df[df['GemiddeldElektriciteitsverbruikTotaal_47'].isna()].index)"
   ]
  },
  {
   "cell_type": "code",
   "execution_count": 236,
   "id": "03d6f887",
   "metadata": {},
   "outputs": [
    {
     "data": {
      "text/plain": [
       "Series([], dtype: int64)"
      ]
     },
     "execution_count": 236,
     "metadata": {},
     "output_type": "execute_result"
    }
   ],
   "source": [
    "df.isna().sum()[df.isna().sum() != 0].sort_values(ascending = False)"
   ]
  },
  {
   "cell_type": "code",
   "execution_count": 237,
   "id": "51c6dbea",
   "metadata": {},
   "outputs": [
    {
     "data": {
      "text/html": [
       "<div>\n",
       "<style scoped>\n",
       "    .dataframe tbody tr th:only-of-type {\n",
       "        vertical-align: middle;\n",
       "    }\n",
       "\n",
       "    .dataframe tbody tr th {\n",
       "        vertical-align: top;\n",
       "    }\n",
       "\n",
       "    .dataframe thead th {\n",
       "        text-align: right;\n",
       "    }\n",
       "</style>\n",
       "<table border=\"1\" class=\"dataframe\">\n",
       "  <thead>\n",
       "    <tr style=\"text-align: right;\">\n",
       "      <th></th>\n",
       "      <th>0</th>\n",
       "      <th>1</th>\n",
       "      <th>2</th>\n",
       "      <th>3</th>\n",
       "      <th>4</th>\n",
       "      <th>9</th>\n",
       "      <th>13</th>\n",
       "      <th>19</th>\n",
       "      <th>20</th>\n",
       "      <th>22</th>\n",
       "      <th>...</th>\n",
       "      <th>3216</th>\n",
       "      <th>3217</th>\n",
       "      <th>3218</th>\n",
       "      <th>3219</th>\n",
       "      <th>3220</th>\n",
       "      <th>3221</th>\n",
       "      <th>3222</th>\n",
       "      <th>3223</th>\n",
       "      <th>3225</th>\n",
       "      <th>3226</th>\n",
       "    </tr>\n",
       "  </thead>\n",
       "  <tbody>\n",
       "    <tr>\n",
       "      <th>Peildatum</th>\n",
       "      <td>202007.0</td>\n",
       "      <td>202007.0</td>\n",
       "      <td>202007.0</td>\n",
       "      <td>202007.0</td>\n",
       "      <td>202007.0</td>\n",
       "      <td>202007.0</td>\n",
       "      <td>202007.0</td>\n",
       "      <td>202007.0</td>\n",
       "      <td>202007.0</td>\n",
       "      <td>202007.0</td>\n",
       "      <td>...</td>\n",
       "      <td>202007.0</td>\n",
       "      <td>202007.0</td>\n",
       "      <td>202007.0</td>\n",
       "      <td>202007.0</td>\n",
       "      <td>202007.0</td>\n",
       "      <td>202007.0</td>\n",
       "      <td>202007.0</td>\n",
       "      <td>202007.0</td>\n",
       "      <td>202007.0</td>\n",
       "      <td>202007.0</td>\n",
       "    </tr>\n",
       "    <tr>\n",
       "      <th>Netbeheerder</th>\n",
       "      <td>Enexis</td>\n",
       "      <td>Enexis</td>\n",
       "      <td>Enexis</td>\n",
       "      <td>Enexis</td>\n",
       "      <td>Enexis</td>\n",
       "      <td>Enexis</td>\n",
       "      <td>Enexis</td>\n",
       "      <td>Enexis</td>\n",
       "      <td>Enexis</td>\n",
       "      <td>Enexis</td>\n",
       "      <td>...</td>\n",
       "      <td>Enexis</td>\n",
       "      <td>Enexis</td>\n",
       "      <td>Enexis</td>\n",
       "      <td>Enexis</td>\n",
       "      <td>Enexis</td>\n",
       "      <td>Enexis</td>\n",
       "      <td>Enexis</td>\n",
       "      <td>Enexis</td>\n",
       "      <td>Enexis</td>\n",
       "      <td>Enexis</td>\n",
       "    </tr>\n",
       "    <tr>\n",
       "      <th>Provincie</th>\n",
       "      <td>Drenthe</td>\n",
       "      <td>Drenthe</td>\n",
       "      <td>Drenthe</td>\n",
       "      <td>Drenthe</td>\n",
       "      <td>Drenthe</td>\n",
       "      <td>Drenthe</td>\n",
       "      <td>Drenthe</td>\n",
       "      <td>Drenthe</td>\n",
       "      <td>Drenthe</td>\n",
       "      <td>Drenthe</td>\n",
       "      <td>...</td>\n",
       "      <td>Overijssel</td>\n",
       "      <td>Overijssel</td>\n",
       "      <td>Overijssel</td>\n",
       "      <td>Overijssel</td>\n",
       "      <td>Overijssel</td>\n",
       "      <td>Overijssel</td>\n",
       "      <td>Overijssel</td>\n",
       "      <td>Overijssel</td>\n",
       "      <td>Overijssel</td>\n",
       "      <td>Overijssel</td>\n",
       "    </tr>\n",
       "    <tr>\n",
       "      <th>Gemeente</th>\n",
       "      <td>Aa en Hunze</td>\n",
       "      <td>Aa en Hunze</td>\n",
       "      <td>Aa en Hunze</td>\n",
       "      <td>Aa en Hunze</td>\n",
       "      <td>Aa en Hunze</td>\n",
       "      <td>Aa en Hunze</td>\n",
       "      <td>Aa en Hunze</td>\n",
       "      <td>Aa en Hunze</td>\n",
       "      <td>Aa en Hunze</td>\n",
       "      <td>Aa en Hunze</td>\n",
       "      <td>...</td>\n",
       "      <td>Zwolle</td>\n",
       "      <td>Zwolle</td>\n",
       "      <td>Zwolle</td>\n",
       "      <td>Zwolle</td>\n",
       "      <td>Zwolle</td>\n",
       "      <td>Zwolle</td>\n",
       "      <td>Zwolle</td>\n",
       "      <td>Zwolle</td>\n",
       "      <td>Zwolle</td>\n",
       "      <td>Zwolle</td>\n",
       "    </tr>\n",
       "    <tr>\n",
       "      <th>CBS_Buurt</th>\n",
       "      <td>Annen</td>\n",
       "      <td>Verspreide huizen Annen</td>\n",
       "      <td>Eext</td>\n",
       "      <td>Verspreide huizen Eext</td>\n",
       "      <td>Anloo</td>\n",
       "      <td>Schipborg</td>\n",
       "      <td>Spijkerboor</td>\n",
       "      <td>Gasselte</td>\n",
       "      <td>Kostvlies</td>\n",
       "      <td>Gasselternijveen</td>\n",
       "      <td>...</td>\n",
       "      <td>Schelle-Zuid en Oldeneel</td>\n",
       "      <td>Katerveer-Engelse Werk</td>\n",
       "      <td>Oud Ittersum</td>\n",
       "      <td>Ittersumerlanden</td>\n",
       "      <td>Ittersumerbroek</td>\n",
       "      <td>Geren</td>\n",
       "      <td>Gerenlanden</td>\n",
       "      <td>Gerenbroek</td>\n",
       "      <td>Windesheim</td>\n",
       "      <td>Harculo en Hoogzutmen</td>\n",
       "    </tr>\n",
       "    <tr>\n",
       "      <th>CBS_Buurtcode</th>\n",
       "      <td>16800000.0</td>\n",
       "      <td>16800009.0</td>\n",
       "      <td>16800100.0</td>\n",
       "      <td>16800109.0</td>\n",
       "      <td>16800200.0</td>\n",
       "      <td>16800500.0</td>\n",
       "      <td>16800700.0</td>\n",
       "      <td>16801400.0</td>\n",
       "      <td>16801401.0</td>\n",
       "      <td>16801500.0</td>\n",
       "      <td>...</td>\n",
       "      <td>1935070.0</td>\n",
       "      <td>1935080.0</td>\n",
       "      <td>1935100.0</td>\n",
       "      <td>1935110.0</td>\n",
       "      <td>1935120.0</td>\n",
       "      <td>1935130.0</td>\n",
       "      <td>1935140.0</td>\n",
       "      <td>1935150.0</td>\n",
       "      <td>1935200.0</td>\n",
       "      <td>1935210.0</td>\n",
       "    </tr>\n",
       "  </tbody>\n",
       "</table>\n",
       "<p>6 rows × 2659 columns</p>\n",
       "</div>"
      ],
      "text/plain": [
       "                      0                        1            2     \\\n",
       "Peildatum         202007.0                 202007.0     202007.0   \n",
       "Netbeheerder        Enexis                   Enexis       Enexis   \n",
       "Provincie          Drenthe                  Drenthe      Drenthe   \n",
       "Gemeente       Aa en Hunze              Aa en Hunze  Aa en Hunze   \n",
       "CBS_Buurt            Annen  Verspreide huizen Annen         Eext   \n",
       "CBS_Buurtcode   16800000.0               16800009.0   16800100.0   \n",
       "\n",
       "                                 3            4            9            13    \\\n",
       "Peildatum                    202007.0     202007.0     202007.0     202007.0   \n",
       "Netbeheerder                   Enexis       Enexis       Enexis       Enexis   \n",
       "Provincie                     Drenthe      Drenthe      Drenthe      Drenthe   \n",
       "Gemeente                  Aa en Hunze  Aa en Hunze  Aa en Hunze  Aa en Hunze   \n",
       "CBS_Buurt      Verspreide huizen Eext        Anloo    Schipborg  Spijkerboor   \n",
       "CBS_Buurtcode              16800109.0   16800200.0   16800500.0   16800700.0   \n",
       "\n",
       "                      19           20                22    ...  \\\n",
       "Peildatum         202007.0     202007.0          202007.0  ...   \n",
       "Netbeheerder        Enexis       Enexis            Enexis  ...   \n",
       "Provincie          Drenthe      Drenthe           Drenthe  ...   \n",
       "Gemeente       Aa en Hunze  Aa en Hunze       Aa en Hunze  ...   \n",
       "CBS_Buurt         Gasselte    Kostvlies  Gasselternijveen  ...   \n",
       "CBS_Buurtcode   16801400.0   16801401.0        16801500.0  ...   \n",
       "\n",
       "                                   3216                    3217          3218  \\\n",
       "Peildatum                      202007.0                202007.0      202007.0   \n",
       "Netbeheerder                     Enexis                  Enexis        Enexis   \n",
       "Provincie                    Overijssel              Overijssel    Overijssel   \n",
       "Gemeente                         Zwolle                  Zwolle        Zwolle   \n",
       "CBS_Buurt      Schelle-Zuid en Oldeneel  Katerveer-Engelse Werk  Oud Ittersum   \n",
       "CBS_Buurtcode                 1935070.0               1935080.0     1935100.0   \n",
       "\n",
       "                           3219             3220        3221         3222  \\\n",
       "Peildatum              202007.0         202007.0    202007.0     202007.0   \n",
       "Netbeheerder             Enexis           Enexis      Enexis       Enexis   \n",
       "Provincie            Overijssel       Overijssel  Overijssel   Overijssel   \n",
       "Gemeente                 Zwolle           Zwolle      Zwolle       Zwolle   \n",
       "CBS_Buurt      Ittersumerlanden  Ittersumerbroek       Geren  Gerenlanden   \n",
       "CBS_Buurtcode         1935110.0        1935120.0   1935130.0    1935140.0   \n",
       "\n",
       "                     3223        3225                   3226  \n",
       "Peildatum        202007.0    202007.0               202007.0  \n",
       "Netbeheerder       Enexis      Enexis                 Enexis  \n",
       "Provincie      Overijssel  Overijssel             Overijssel  \n",
       "Gemeente           Zwolle      Zwolle                 Zwolle  \n",
       "CBS_Buurt      Gerenbroek  Windesheim  Harculo en Hoogzutmen  \n",
       "CBS_Buurtcode   1935150.0   1935200.0              1935210.0  \n",
       "\n",
       "[6 rows x 2659 columns]"
      ]
     },
     "execution_count": 237,
     "metadata": {},
     "output_type": "execute_result"
    }
   ],
   "source": [
    "df.transpose().head(6)"
   ]
  },
  {
   "cell_type": "code",
   "execution_count": 238,
   "id": "c767f308",
   "metadata": {},
   "outputs": [
    {
     "data": {
      "text/plain": [
       "Peildatum                                    0\n",
       "Netbeheerder                                 0\n",
       "Provincie                                    0\n",
       "Gemeente                                     0\n",
       "CBS_Buurt                                    0\n",
       "CBS_Buurtcode                                0\n",
       "Aantal_aansluitingen_in_CBS-buurt            0\n",
       "Aantal_aansluitingen_met_opwekinstallatie    0\n",
       "Opgesteld_vermogen                           0\n",
       "WijkenEnBuurten                              0\n",
       "Gemeentenaam_1                               0\n",
       "SoortRegio_2                                 0\n",
       "MeestVoorkomendePostcode_113                 0\n",
       "HuishoudensTotaal_28                         0\n",
       "GemiddeldeHuishoudensgrootte_32              0\n",
       "Bevolkingsdichtheid_33                       0\n",
       "GemiddeldeWoningwaarde_35                    0\n",
       "PercentageEengezinswoning_36                 0\n",
       "Koopwoningen_40                              0\n",
       "InBezitWoningcorporatie_42                   0\n",
       "InBezitOverigeVerhuurders_43                 0\n",
       "BouwjaarVanaf2000_46                         0\n",
       "GemiddeldElektriciteitsverbruikTotaal_47     0\n",
       "GemiddeldAardgasverbruikTotaal_55            0\n",
       "Gemiddeld_opleidingsniveau                   0\n",
       "Percent_inkomensontvangers                   0\n",
       "Bedrijfsvestigingen_per_huishuidens          0\n",
       "PersonenautoSPerHuishouden_102               0\n",
       "AfstandTotSchool_108                         0\n",
       "Omgevingsadressendichtheid_116               0\n",
       "dtype: int64"
      ]
     },
     "execution_count": 238,
     "metadata": {},
     "output_type": "execute_result"
    }
   ],
   "source": [
    "df.isna().sum()"
   ]
  },
  {
   "cell_type": "markdown",
   "id": "5667692f",
   "metadata": {},
   "source": [
    "# Write the data away for later processing"
   ]
  },
  {
   "cell_type": "code",
   "execution_count": 239,
   "id": "7fc9ff1c",
   "metadata": {},
   "outputs": [],
   "source": [
    "combined_dataset_name = 'combined_CBS_dataset_84583.csv'\n",
    "df.to_csv(path_or_buf = combined_dataset_name, index = False)"
   ]
  }
 ],
 "metadata": {
  "kernelspec": {
   "display_name": "Python 3",
   "language": "python",
   "name": "python3"
  },
  "language_info": {
   "codemirror_mode": {
    "name": "ipython",
    "version": 3
   },
   "file_extension": ".py",
   "mimetype": "text/x-python",
   "name": "python",
   "nbconvert_exporter": "python",
   "pygments_lexer": "ipython3",
   "version": "3.9.7"
  }
 },
 "nbformat": 4,
 "nbformat_minor": 5
}
