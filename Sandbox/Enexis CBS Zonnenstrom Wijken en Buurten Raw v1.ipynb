{
 "cells": [
  {
   "cell_type": "markdown",
   "id": "785bc900",
   "metadata": {},
   "source": [
    "# ENEXIS Graduation Project"
   ]
  },
  {
   "cell_type": "markdown",
   "id": "0042c026",
   "metadata": {},
   "source": [
    "#### Upload of data from CBS datasets \"Zonenstrom wijken en buurten\" of 2016- 2019"
   ]
  },
  {
   "cell_type": "code",
   "execution_count": 1,
   "id": "039bc40a",
   "metadata": {},
   "outputs": [],
   "source": [
    "import cbsodata\n",
    "import pandas as pd\n",
    "import seaborn as sns\n",
    "import matplotlib.pyplot as plt\n",
    "import nbconvert\n",
    "pd.set_option(\"max_rows\", 120)\n",
    "pd.options.mode.chained_assignment = None  # default='warn'"
   ]
  },
  {
   "cell_type": "markdown",
   "id": "1bec6038",
   "metadata": {},
   "source": [
    "Lets select a data set from CBS. "
   ]
  },
  {
   "cell_type": "code",
   "execution_count": 2,
   "id": "8701908a",
   "metadata": {},
   "outputs": [],
   "source": [
    "# https://opendata.cbs.nl/statline/portal.html?_la=nl&_catalog=CBS&tableId=85010NED&_theme=278\n",
    "\n",
    "datasets = ('85010NED', #Zonnestroom; wijken en buurten, 2019   # 0\n",
    "            '84772NED', #Zonnestroom; wijken en buurten, 2018   # 1\n",
    "            '84517NED', #Zonnestroom; wijken en buurten, 2017   # 2\n",
    "            '84131NED') #Zonnestroom; wijken en buurten, 2016   # 3"
   ]
  },
  {
   "cell_type": "code",
   "execution_count": 3,
   "id": "ccc083d4",
   "metadata": {},
   "outputs": [],
   "source": [
    "data_years = {'85010NED' : 2019, \n",
    "              '84772NED' : 2018,\n",
    "              '84517NED' : 2017,\n",
    "              '84131NED' : 2016}"
   ]
  },
  {
   "cell_type": "code",
   "execution_count": 20,
   "id": "e1d3f583",
   "metadata": {},
   "outputs": [],
   "source": [
    "df = pd.DataFrame()\n",
    "for i in range(len(datasets)):\n",
    "    df_new = pd.DataFrame(cbsodata.get_data(datasets[i]))\n",
    "    df_new['Year'] = data_years[datasets[i]]\n",
    "    df = pd.concat([df, df_new], axis = 0)"
   ]
  },
  {
   "cell_type": "code",
   "execution_count": 21,
   "id": "5881f7db",
   "metadata": {},
   "outputs": [
    {
     "name": "stdout",
     "output_type": "stream",
     "text": [
      "<class 'pandas.core.frame.DataFrame'>\n",
      "Int64Index: 66759 entries, 0 to 16196\n",
      "Data columns (total 9 columns):\n",
      " #   Column                               Non-Null Count  Dtype  \n",
      "---  ------                               --------------  -----  \n",
      " 0   ID                                   66759 non-null  int64  \n",
      " 1   WijkenEnBuurten                      66759 non-null  object \n",
      " 2   Gemeentenaam_1                       66759 non-null  object \n",
      " 3   SoortRegio_2                         66759 non-null  object \n",
      " 4   Codering_3                           66759 non-null  object \n",
      " 5   IndelingswijzigingWijkenEnBuurten_4  66759 non-null  object \n",
      " 6   AantalInstallatiesBijWoningen_5      53994 non-null  float64\n",
      " 7   OpgesteldVermogenVanZonnepanelen_6   53987 non-null  float64\n",
      " 8   Year                                 66759 non-null  int64  \n",
      "dtypes: float64(2), int64(2), object(5)\n",
      "memory usage: 5.1+ MB\n"
     ]
    }
   ],
   "source": [
    "df.info()"
   ]
  },
  {
   "cell_type": "code",
   "execution_count": 22,
   "id": "981596a2",
   "metadata": {},
   "outputs": [
    {
     "data": {
      "text/plain": [
       "(66759, 9)"
      ]
     },
     "execution_count": 22,
     "metadata": {},
     "output_type": "execute_result"
    }
   ],
   "source": [
    "df.shape"
   ]
  },
  {
   "cell_type": "code",
   "execution_count": 23,
   "id": "b6601e1e",
   "metadata": {},
   "outputs": [],
   "source": [
    "df_nans = df[df['OpgesteldVermogenVanZonnepanelen_6'].isnull()] # where are the missing values for the PV installations?"
   ]
  },
  {
   "cell_type": "code",
   "execution_count": 24,
   "id": "404bc917",
   "metadata": {},
   "outputs": [
    {
     "data": {
      "text/plain": [
       "2016    3826\n",
       "2017    3344\n",
       "2018    2921\n",
       "2019    2681\n",
       "Name: Year, dtype: int64"
      ]
     },
     "execution_count": 24,
     "metadata": {},
     "output_type": "execute_result"
    }
   ],
   "source": [
    "df_nans['Year'].value_counts() # the number seems to decrease over time. Hypothesis: the nans are in fact 0 values"
   ]
  },
  {
   "cell_type": "code",
   "execution_count": 25,
   "id": "84c802ab",
   "metadata": {},
   "outputs": [
    {
     "data": {
      "text/plain": [
       "Buurt         11892\n",
       "Wijk            795\n",
       "Gemeente         84\n",
       "                  1\n",
       "Name: SoortRegio_2, dtype: int64"
      ]
     },
     "execution_count": 25,
     "metadata": {},
     "output_type": "execute_result"
    }
   ],
   "source": [
    "df_nans['SoortRegio_2'].value_counts()"
   ]
  },
  {
   "cell_type": "code",
   "execution_count": 26,
   "id": "f283e4a1",
   "metadata": {},
   "outputs": [
    {
     "data": {
      "text/plain": [
       "Amsterdam                                   947\n",
       "Lelystad                                    375\n",
       "Tilburg                                     299\n",
       "Dordrecht                                   201\n",
       "Zwijndrecht                                 182\n",
       "                                           ... \n",
       "Slochteren                                    2\n",
       "Reusel-De Mierden                             2\n",
       "                                              1\n",
       "Borne                                         1\n",
       "Westerkwartier                                1\n",
       "Name: Gemeentenaam_1, Length: 365, dtype: int64"
      ]
     },
     "execution_count": 26,
     "metadata": {},
     "output_type": "execute_result"
    }
   ],
   "source": [
    "df_nans['Gemeentenaam_1'].value_counts()"
   ]
  },
  {
   "cell_type": "code",
   "execution_count": 27,
   "id": "770764fb",
   "metadata": {},
   "outputs": [
    {
     "data": {
      "text/html": [
       "<div>\n",
       "<style scoped>\n",
       "    .dataframe tbody tr th:only-of-type {\n",
       "        vertical-align: middle;\n",
       "    }\n",
       "\n",
       "    .dataframe tbody tr th {\n",
       "        vertical-align: top;\n",
       "    }\n",
       "\n",
       "    .dataframe thead th {\n",
       "        text-align: right;\n",
       "    }\n",
       "</style>\n",
       "<table border=\"1\" class=\"dataframe\">\n",
       "  <thead>\n",
       "    <tr style=\"text-align: right;\">\n",
       "      <th></th>\n",
       "      <th>ID</th>\n",
       "      <th>WijkenEnBuurten</th>\n",
       "      <th>Gemeentenaam_1</th>\n",
       "      <th>SoortRegio_2</th>\n",
       "      <th>Codering_3</th>\n",
       "      <th>IndelingswijzigingWijkenEnBuurten_4</th>\n",
       "      <th>AantalInstallatiesBijWoningen_5</th>\n",
       "      <th>OpgesteldVermogenVanZonnepanelen_6</th>\n",
       "      <th>Year</th>\n",
       "    </tr>\n",
       "  </thead>\n",
       "  <tbody>\n",
       "  </tbody>\n",
       "</table>\n",
       "</div>"
      ],
      "text/plain": [
       "Empty DataFrame\n",
       "Columns: [ID, WijkenEnBuurten, Gemeentenaam_1, SoortRegio_2, Codering_3, IndelingswijzigingWijkenEnBuurten_4, AantalInstallatiesBijWoningen_5, OpgesteldVermogenVanZonnepanelen_6, Year]\n",
       "Index: []"
      ]
     },
     "execution_count": 27,
     "metadata": {},
     "output_type": "execute_result"
    }
   ],
   "source": [
    "df[df['OpgesteldVermogenVanZonnepanelen_6'] == 0] # there are no 0 values, so the nans are most likely 0"
   ]
  },
  {
   "cell_type": "code",
   "execution_count": 28,
   "id": "aa702816",
   "metadata": {},
   "outputs": [
    {
     "data": {
      "text/html": [
       "<div>\n",
       "<style scoped>\n",
       "    .dataframe tbody tr th:only-of-type {\n",
       "        vertical-align: middle;\n",
       "    }\n",
       "\n",
       "    .dataframe tbody tr th {\n",
       "        vertical-align: top;\n",
       "    }\n",
       "\n",
       "    .dataframe thead th {\n",
       "        text-align: right;\n",
       "    }\n",
       "</style>\n",
       "<table border=\"1\" class=\"dataframe\">\n",
       "  <thead>\n",
       "    <tr style=\"text-align: right;\">\n",
       "      <th></th>\n",
       "      <th>ID</th>\n",
       "      <th>WijkenEnBuurten</th>\n",
       "      <th>Gemeentenaam_1</th>\n",
       "      <th>SoortRegio_2</th>\n",
       "      <th>Codering_3</th>\n",
       "      <th>IndelingswijzigingWijkenEnBuurten_4</th>\n",
       "      <th>AantalInstallatiesBijWoningen_5</th>\n",
       "      <th>OpgesteldVermogenVanZonnepanelen_6</th>\n",
       "      <th>Year</th>\n",
       "    </tr>\n",
       "  </thead>\n",
       "  <tbody>\n",
       "  </tbody>\n",
       "</table>\n",
       "</div>"
      ],
      "text/plain": [
       "Empty DataFrame\n",
       "Columns: [ID, WijkenEnBuurten, Gemeentenaam_1, SoortRegio_2, Codering_3, IndelingswijzigingWijkenEnBuurten_4, AantalInstallatiesBijWoningen_5, OpgesteldVermogenVanZonnepanelen_6, Year]\n",
       "Index: []"
      ]
     },
     "execution_count": 28,
     "metadata": {},
     "output_type": "execute_result"
    }
   ],
   "source": [
    "df[df['AantalInstallatiesBijWoningen_5'] == 0]"
   ]
  },
  {
   "cell_type": "markdown",
   "id": "633e487e",
   "metadata": {},
   "source": [
    "We shall replace all nans with 0"
   ]
  },
  {
   "cell_type": "code",
   "execution_count": 29,
   "id": "c5a3cf27",
   "metadata": {},
   "outputs": [],
   "source": [
    "df = df.fillna(0)"
   ]
  },
  {
   "cell_type": "code",
   "execution_count": 34,
   "id": "c49cd7ad",
   "metadata": {},
   "outputs": [],
   "source": [
    "df['SoortRegio_2'] = df['SoortRegio_2'].str.strip()"
   ]
  },
  {
   "cell_type": "code",
   "execution_count": 37,
   "id": "f5efb02e",
   "metadata": {},
   "outputs": [],
   "source": [
    "df = df[df['SoortRegio_2'] == 'Buurt']"
   ]
  },
  {
   "cell_type": "code",
   "execution_count": 39,
   "id": "945719f9",
   "metadata": {},
   "outputs": [],
   "source": [
    "df = df.drop(columns = ['ID', 'WijkenEnBuurten', 'Gemeentenaam_1', 'SoortRegio_2'], axis = 1)"
   ]
  },
  {
   "cell_type": "code",
   "execution_count": 40,
   "id": "b015ef67",
   "metadata": {},
   "outputs": [
    {
     "name": "stdout",
     "output_type": "stream",
     "text": [
      "<class 'pandas.core.frame.DataFrame'>\n",
      "Int64Index: 52933 entries, 3 to 16196\n",
      "Data columns (total 5 columns):\n",
      " #   Column                               Non-Null Count  Dtype  \n",
      "---  ------                               --------------  -----  \n",
      " 0   Codering_3                           52933 non-null  object \n",
      " 1   IndelingswijzigingWijkenEnBuurten_4  52933 non-null  object \n",
      " 2   AantalInstallatiesBijWoningen_5      52933 non-null  float64\n",
      " 3   OpgesteldVermogenVanZonnepanelen_6   52933 non-null  float64\n",
      " 4   Year                                 52933 non-null  int64  \n",
      "dtypes: float64(2), int64(1), object(2)\n",
      "memory usage: 2.4+ MB\n"
     ]
    }
   ],
   "source": [
    "df.info()"
   ]
  },
  {
   "cell_type": "code",
   "execution_count": 41,
   "id": "11f9d026",
   "metadata": {},
   "outputs": [
    {
     "data": {
      "text/html": [
       "<div>\n",
       "<style scoped>\n",
       "    .dataframe tbody tr th:only-of-type {\n",
       "        vertical-align: middle;\n",
       "    }\n",
       "\n",
       "    .dataframe tbody tr th {\n",
       "        vertical-align: top;\n",
       "    }\n",
       "\n",
       "    .dataframe thead th {\n",
       "        text-align: right;\n",
       "    }\n",
       "</style>\n",
       "<table border=\"1\" class=\"dataframe\">\n",
       "  <thead>\n",
       "    <tr style=\"text-align: right;\">\n",
       "      <th></th>\n",
       "      <th>Codering_3</th>\n",
       "      <th>IndelingswijzigingWijkenEnBuurten_4</th>\n",
       "      <th>AantalInstallatiesBijWoningen_5</th>\n",
       "      <th>OpgesteldVermogenVanZonnepanelen_6</th>\n",
       "      <th>Year</th>\n",
       "    </tr>\n",
       "  </thead>\n",
       "  <tbody>\n",
       "    <tr>\n",
       "      <th>3</th>\n",
       "      <td>BU16800000</td>\n",
       "      <td>1</td>\n",
       "      <td>396.0</td>\n",
       "      <td>1426.0</td>\n",
       "      <td>2019</td>\n",
       "    </tr>\n",
       "    <tr>\n",
       "      <th>4</th>\n",
       "      <td>BU16800009</td>\n",
       "      <td>1</td>\n",
       "      <td>12.0</td>\n",
       "      <td>50.0</td>\n",
       "      <td>2019</td>\n",
       "    </tr>\n",
       "    <tr>\n",
       "      <th>6</th>\n",
       "      <td>BU16800100</td>\n",
       "      <td>1</td>\n",
       "      <td>132.0</td>\n",
       "      <td>489.0</td>\n",
       "      <td>2019</td>\n",
       "    </tr>\n",
       "    <tr>\n",
       "      <th>7</th>\n",
       "      <td>BU16800109</td>\n",
       "      <td>1</td>\n",
       "      <td>12.0</td>\n",
       "      <td>57.0</td>\n",
       "      <td>2019</td>\n",
       "    </tr>\n",
       "    <tr>\n",
       "      <th>9</th>\n",
       "      <td>BU16800200</td>\n",
       "      <td>1</td>\n",
       "      <td>32.0</td>\n",
       "      <td>142.0</td>\n",
       "      <td>2019</td>\n",
       "    </tr>\n",
       "  </tbody>\n",
       "</table>\n",
       "</div>"
      ],
      "text/plain": [
       "   Codering_3 IndelingswijzigingWijkenEnBuurten_4  \\\n",
       "3  BU16800000                                   1   \n",
       "4  BU16800009                                   1   \n",
       "6  BU16800100                                   1   \n",
       "7  BU16800109                                   1   \n",
       "9  BU16800200                                   1   \n",
       "\n",
       "   AantalInstallatiesBijWoningen_5  OpgesteldVermogenVanZonnepanelen_6  Year  \n",
       "3                            396.0                              1426.0  2019  \n",
       "4                             12.0                                50.0  2019  \n",
       "6                            132.0                               489.0  2019  \n",
       "7                             12.0                                57.0  2019  \n",
       "9                             32.0                               142.0  2019  "
      ]
     },
     "execution_count": 41,
     "metadata": {},
     "output_type": "execute_result"
    }
   ],
   "source": [
    "df.head()"
   ]
  },
  {
   "cell_type": "code",
   "execution_count": 42,
   "id": "f778983f",
   "metadata": {},
   "outputs": [
    {
     "data": {
      "text/plain": [
       "1    47878\n",
       "3     3897\n",
       "2     1158\n",
       "Name: IndelingswijzigingWijkenEnBuurten_4, dtype: int64"
      ]
     },
     "execution_count": 42,
     "metadata": {},
     "output_type": "execute_result"
    }
   ],
   "source": [
    "df['IndelingswijzigingWijkenEnBuurten_4'].value_counts()"
   ]
  },
  {
   "cell_type": "code",
   "execution_count": 44,
   "id": "6deba57a",
   "metadata": {},
   "outputs": [],
   "source": [
    "c_path = \"./data/\"\n",
    "v_file = \"CSB Buurten Indeling\" "
   ]
  },
  {
   "cell_type": "code",
   "execution_count": 64,
   "id": "c2faea37",
   "metadata": {},
   "outputs": [],
   "source": [
    "df1     = pd.read_csv(filepath_or_buffer = c_path + v_file + \".csv\",\n",
    "                      encoding           = 'UTF-8')"
   ]
  },
  {
   "cell_type": "code",
   "execution_count": 65,
   "id": "49ca0ae8",
   "metadata": {},
   "outputs": [
    {
     "name": "stdout",
     "output_type": "stream",
     "text": [
      "<class 'pandas.core.frame.DataFrame'>\n",
      "Int64Index: 14174 entries, 0 to 14173\n",
      "Data columns (total 8 columns):\n",
      " #   Column           Non-Null Count  Dtype \n",
      "---  ------           --------------  ----- \n",
      " 0   BU_2021          14174 non-null  object\n",
      " 1   BU_NAAM          14174 non-null  object\n",
      " 2   WK_2021          14174 non-null  object\n",
      " 3   WK_NAAM          14174 non-null  object\n",
      " 4   GM_2021          14174 non-null  object\n",
      " 5   GM_NAAM          14174 non-null  object\n",
      " 6   ProvinciecodePV  14174 non-null  object\n",
      " 7   Provincienaam    14174 non-null  object\n",
      "dtypes: object(8)\n",
      "memory usage: 996.6+ KB\n"
     ]
    }
   ],
   "source": [
    "df1.info()"
   ]
  },
  {
   "cell_type": "code",
   "execution_count": 66,
   "id": "21fb35ad",
   "metadata": {},
   "outputs": [
    {
     "data": {
      "text/html": [
       "<div>\n",
       "<style scoped>\n",
       "    .dataframe tbody tr th:only-of-type {\n",
       "        vertical-align: middle;\n",
       "    }\n",
       "\n",
       "    .dataframe tbody tr th {\n",
       "        vertical-align: top;\n",
       "    }\n",
       "\n",
       "    .dataframe thead th {\n",
       "        text-align: right;\n",
       "    }\n",
       "</style>\n",
       "<table border=\"1\" class=\"dataframe\">\n",
       "  <thead>\n",
       "    <tr style=\"text-align: right;\">\n",
       "      <th></th>\n",
       "      <th>BU_2021</th>\n",
       "      <th>BU_NAAM</th>\n",
       "      <th>WK_2021</th>\n",
       "      <th>WK_NAAM</th>\n",
       "      <th>GM_2021</th>\n",
       "      <th>GM_NAAM</th>\n",
       "      <th>ProvinciecodePV</th>\n",
       "      <th>Provincienaam</th>\n",
       "    </tr>\n",
       "  </thead>\n",
       "  <tbody>\n",
       "    <tr>\n",
       "      <th>0</th>\n",
       "      <td>BU00140000</td>\n",
       "      <td>Binnenstad-Noord</td>\n",
       "      <td>WK001400</td>\n",
       "      <td>Centrum</td>\n",
       "      <td>GM0014</td>\n",
       "      <td>Groningen</td>\n",
       "      <td>PV20</td>\n",
       "      <td>Groningen</td>\n",
       "    </tr>\n",
       "    <tr>\n",
       "      <th>1</th>\n",
       "      <td>BU00140001</td>\n",
       "      <td>Binnenstad-Zuid</td>\n",
       "      <td>WK001400</td>\n",
       "      <td>Centrum</td>\n",
       "      <td>GM0014</td>\n",
       "      <td>Groningen</td>\n",
       "      <td>PV20</td>\n",
       "      <td>Groningen</td>\n",
       "    </tr>\n",
       "    <tr>\n",
       "      <th>2</th>\n",
       "      <td>BU00140002</td>\n",
       "      <td>Binnenstad-Oost</td>\n",
       "      <td>WK001400</td>\n",
       "      <td>Centrum</td>\n",
       "      <td>GM0014</td>\n",
       "      <td>Groningen</td>\n",
       "      <td>PV20</td>\n",
       "      <td>Groningen</td>\n",
       "    </tr>\n",
       "    <tr>\n",
       "      <th>3</th>\n",
       "      <td>BU00140003</td>\n",
       "      <td>Binnenstad-West</td>\n",
       "      <td>WK001400</td>\n",
       "      <td>Centrum</td>\n",
       "      <td>GM0014</td>\n",
       "      <td>Groningen</td>\n",
       "      <td>PV20</td>\n",
       "      <td>Groningen</td>\n",
       "    </tr>\n",
       "    <tr>\n",
       "      <th>4</th>\n",
       "      <td>BU00140004</td>\n",
       "      <td>Noorderplantsoen</td>\n",
       "      <td>WK001400</td>\n",
       "      <td>Centrum</td>\n",
       "      <td>GM0014</td>\n",
       "      <td>Groningen</td>\n",
       "      <td>PV20</td>\n",
       "      <td>Groningen</td>\n",
       "    </tr>\n",
       "  </tbody>\n",
       "</table>\n",
       "</div>"
      ],
      "text/plain": [
       "      BU_2021           BU_NAAM   WK_2021  WK_NAAM GM_2021    GM_NAAM  \\\n",
       "0  BU00140000  Binnenstad-Noord  WK001400  Centrum  GM0014  Groningen   \n",
       "1  BU00140001   Binnenstad-Zuid  WK001400  Centrum  GM0014  Groningen   \n",
       "2  BU00140002   Binnenstad-Oost  WK001400  Centrum  GM0014  Groningen   \n",
       "3  BU00140003   Binnenstad-West  WK001400  Centrum  GM0014  Groningen   \n",
       "4  BU00140004  Noorderplantsoen  WK001400  Centrum  GM0014  Groningen   \n",
       "\n",
       "  ProvinciecodePV Provincienaam  \n",
       "0            PV20     Groningen  \n",
       "1            PV20     Groningen  \n",
       "2            PV20     Groningen  \n",
       "3            PV20     Groningen  \n",
       "4            PV20     Groningen  "
      ]
     },
     "execution_count": 66,
     "metadata": {},
     "output_type": "execute_result"
    }
   ],
   "source": [
    "df1.head()"
   ]
  },
  {
   "cell_type": "code",
   "execution_count": 68,
   "id": "be2c0ecd",
   "metadata": {},
   "outputs": [],
   "source": [
    "df = df.merge(df1, left_on= 'Codering_3', right_on = 'BU_2021')"
   ]
  },
  {
   "cell_type": "code",
   "execution_count": 69,
   "id": "f5b6fdee",
   "metadata": {},
   "outputs": [
    {
     "name": "stdout",
     "output_type": "stream",
     "text": [
      "<class 'pandas.core.frame.DataFrame'>\n",
      "Int64Index: 46192 entries, 0 to 46191\n",
      "Data columns (total 13 columns):\n",
      " #   Column                               Non-Null Count  Dtype  \n",
      "---  ------                               --------------  -----  \n",
      " 0   Codering_3                           46192 non-null  object \n",
      " 1   IndelingswijzigingWijkenEnBuurten_4  46192 non-null  object \n",
      " 2   AantalInstallatiesBijWoningen_5      46192 non-null  float64\n",
      " 3   OpgesteldVermogenVanZonnepanelen_6   46192 non-null  float64\n",
      " 4   Year                                 46192 non-null  int64  \n",
      " 5   BU_2021                              46192 non-null  object \n",
      " 6   BU_NAAM                              46192 non-null  object \n",
      " 7   WK_2021                              46192 non-null  object \n",
      " 8   WK_NAAM                              46192 non-null  object \n",
      " 9   GM_2021                              46192 non-null  object \n",
      " 10  GM_NAAM                              46192 non-null  object \n",
      " 11  ProvinciecodePV                      46192 non-null  object \n",
      " 12  Provincienaam                        46192 non-null  object \n",
      "dtypes: float64(2), int64(1), object(10)\n",
      "memory usage: 4.9+ MB\n"
     ]
    }
   ],
   "source": [
    "df.info()"
   ]
  },
  {
   "cell_type": "code",
   "execution_count": 72,
   "id": "98206c48",
   "metadata": {},
   "outputs": [],
   "source": [
    "df = df.drop(columns = 'Codering_3', axis = 1)"
   ]
  },
  {
   "cell_type": "code",
   "execution_count": 74,
   "id": "bd43f54b",
   "metadata": {},
   "outputs": [],
   "source": [
    "df = df[['Year', 'BU_2021', 'BU_NAAM', 'WK_2021', 'WK_NAAM', 'GM_2021',\n",
    "       'GM_NAAM', 'ProvinciecodePV', 'Provincienaam', 'IndelingswijzigingWijkenEnBuurten_4',\n",
    "       'AantalInstallatiesBijWoningen_5', 'OpgesteldVermogenVanZonnepanelen_6']]"
   ]
  },
  {
   "cell_type": "code",
   "execution_count": 89,
   "id": "db99c521",
   "metadata": {},
   "outputs": [],
   "source": [
    "df['Year'] = pd.to_datetime(df.Year, format='%Y')"
   ]
  },
  {
   "cell_type": "code",
   "execution_count": 90,
   "id": "06101df8",
   "metadata": {},
   "outputs": [
    {
     "data": {
      "text/html": [
       "<div>\n",
       "<style scoped>\n",
       "    .dataframe tbody tr th:only-of-type {\n",
       "        vertical-align: middle;\n",
       "    }\n",
       "\n",
       "    .dataframe tbody tr th {\n",
       "        vertical-align: top;\n",
       "    }\n",
       "\n",
       "    .dataframe thead th {\n",
       "        text-align: right;\n",
       "    }\n",
       "</style>\n",
       "<table border=\"1\" class=\"dataframe\">\n",
       "  <thead>\n",
       "    <tr style=\"text-align: right;\">\n",
       "      <th></th>\n",
       "      <th>Year</th>\n",
       "      <th>BU_2021</th>\n",
       "      <th>BU_NAAM</th>\n",
       "      <th>WK_2021</th>\n",
       "      <th>WK_NAAM</th>\n",
       "      <th>GM_2021</th>\n",
       "      <th>GM_NAAM</th>\n",
       "      <th>ProvinciecodePV</th>\n",
       "      <th>Provincienaam</th>\n",
       "      <th>IndelingswijzigingWijkenEnBuurten_4</th>\n",
       "      <th>AantalInstallatiesBijWoningen_5</th>\n",
       "      <th>OpgesteldVermogenVanZonnepanelen_6</th>\n",
       "    </tr>\n",
       "  </thead>\n",
       "  <tbody>\n",
       "    <tr>\n",
       "      <th>0</th>\n",
       "      <td>2019-01-01</td>\n",
       "      <td>BU16800000</td>\n",
       "      <td>Annen</td>\n",
       "      <td>WK168000</td>\n",
       "      <td>Wijk 00 Annen</td>\n",
       "      <td>GM1680</td>\n",
       "      <td>Aa en Hunze</td>\n",
       "      <td>PV22</td>\n",
       "      <td>Drenthe</td>\n",
       "      <td>1</td>\n",
       "      <td>396.0</td>\n",
       "      <td>1426.0</td>\n",
       "    </tr>\n",
       "    <tr>\n",
       "      <th>1</th>\n",
       "      <td>2018-01-01</td>\n",
       "      <td>BU16800000</td>\n",
       "      <td>Annen</td>\n",
       "      <td>WK168000</td>\n",
       "      <td>Wijk 00 Annen</td>\n",
       "      <td>GM1680</td>\n",
       "      <td>Aa en Hunze</td>\n",
       "      <td>PV22</td>\n",
       "      <td>Drenthe</td>\n",
       "      <td>1</td>\n",
       "      <td>308.0</td>\n",
       "      <td>1068.0</td>\n",
       "    </tr>\n",
       "    <tr>\n",
       "      <th>2</th>\n",
       "      <td>2017-01-01</td>\n",
       "      <td>BU16800000</td>\n",
       "      <td>Annen</td>\n",
       "      <td>WK168000</td>\n",
       "      <td>Wijk 00 Annen</td>\n",
       "      <td>GM1680</td>\n",
       "      <td>Aa en Hunze</td>\n",
       "      <td>PV22</td>\n",
       "      <td>Drenthe</td>\n",
       "      <td>1</td>\n",
       "      <td>191.0</td>\n",
       "      <td>726.0</td>\n",
       "    </tr>\n",
       "    <tr>\n",
       "      <th>3</th>\n",
       "      <td>2016-01-01</td>\n",
       "      <td>BU16800000</td>\n",
       "      <td>Annen</td>\n",
       "      <td>WK168000</td>\n",
       "      <td>Wijk 00 Annen</td>\n",
       "      <td>GM1680</td>\n",
       "      <td>Aa en Hunze</td>\n",
       "      <td>PV22</td>\n",
       "      <td>Drenthe</td>\n",
       "      <td>1</td>\n",
       "      <td>128.0</td>\n",
       "      <td>504.0</td>\n",
       "    </tr>\n",
       "    <tr>\n",
       "      <th>4</th>\n",
       "      <td>2019-01-01</td>\n",
       "      <td>BU16800009</td>\n",
       "      <td>Verspreide huizen Annen</td>\n",
       "      <td>WK168000</td>\n",
       "      <td>Wijk 00 Annen</td>\n",
       "      <td>GM1680</td>\n",
       "      <td>Aa en Hunze</td>\n",
       "      <td>PV22</td>\n",
       "      <td>Drenthe</td>\n",
       "      <td>1</td>\n",
       "      <td>12.0</td>\n",
       "      <td>50.0</td>\n",
       "    </tr>\n",
       "  </tbody>\n",
       "</table>\n",
       "</div>"
      ],
      "text/plain": [
       "        Year     BU_2021                  BU_NAAM   WK_2021        WK_NAAM  \\\n",
       "0 2019-01-01  BU16800000                    Annen  WK168000  Wijk 00 Annen   \n",
       "1 2018-01-01  BU16800000                    Annen  WK168000  Wijk 00 Annen   \n",
       "2 2017-01-01  BU16800000                    Annen  WK168000  Wijk 00 Annen   \n",
       "3 2016-01-01  BU16800000                    Annen  WK168000  Wijk 00 Annen   \n",
       "4 2019-01-01  BU16800009  Verspreide huizen Annen  WK168000  Wijk 00 Annen   \n",
       "\n",
       "  GM_2021      GM_NAAM ProvinciecodePV Provincienaam  \\\n",
       "0  GM1680  Aa en Hunze            PV22       Drenthe   \n",
       "1  GM1680  Aa en Hunze            PV22       Drenthe   \n",
       "2  GM1680  Aa en Hunze            PV22       Drenthe   \n",
       "3  GM1680  Aa en Hunze            PV22       Drenthe   \n",
       "4  GM1680  Aa en Hunze            PV22       Drenthe   \n",
       "\n",
       "  IndelingswijzigingWijkenEnBuurten_4  AantalInstallatiesBijWoningen_5  \\\n",
       "0                                   1                            396.0   \n",
       "1                                   1                            308.0   \n",
       "2                                   1                            191.0   \n",
       "3                                   1                            128.0   \n",
       "4                                   1                             12.0   \n",
       "\n",
       "   OpgesteldVermogenVanZonnepanelen_6  \n",
       "0                              1426.0  \n",
       "1                              1068.0  \n",
       "2                               726.0  \n",
       "3                               504.0  \n",
       "4                                50.0  "
      ]
     },
     "execution_count": 90,
     "metadata": {},
     "output_type": "execute_result"
    }
   ],
   "source": [
    "df.head()"
   ]
  },
  {
   "cell_type": "code",
   "execution_count": null,
   "id": "a77df407",
   "metadata": {},
   "outputs": [],
   "source": []
  }
 ],
 "metadata": {
  "kernelspec": {
   "display_name": "Python 3",
   "language": "python",
   "name": "python3"
  },
  "language_info": {
   "codemirror_mode": {
    "name": "ipython",
    "version": 3
   },
   "file_extension": ".py",
   "mimetype": "text/x-python",
   "name": "python",
   "nbconvert_exporter": "python",
   "pygments_lexer": "ipython3",
   "version": "3.8.8"
  }
 },
 "nbformat": 4,
 "nbformat_minor": 5
}
