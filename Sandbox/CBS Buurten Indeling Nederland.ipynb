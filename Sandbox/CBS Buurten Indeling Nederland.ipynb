{
 "cells": [
  {
   "cell_type": "markdown",
   "id": "785bc900",
   "metadata": {},
   "source": [
    "# ENEXIS Graduation Project"
   ]
  },
  {
   "cell_type": "markdown",
   "id": "0042c026",
   "metadata": {},
   "source": [
    "#### Creating auxiliary file with a directory of buurts, wijks, gemeenten and provinces in the Netherlands"
   ]
  },
  {
   "cell_type": "markdown",
   "id": "e97c5ba1",
   "metadata": {},
   "source": [
    "# CRISP-DM Phase 2: Data Understanding - CBS Data"
   ]
  },
  {
   "cell_type": "markdown",
   "id": "f98fdd4c",
   "metadata": {},
   "source": [
    "### Collect Initial Data"
   ]
  },
  {
   "cell_type": "code",
   "execution_count": null,
   "id": "039bc40a",
   "metadata": {},
   "outputs": [],
   "source": [
    "import cbsodata\n",
    "import pandas as pd\n",
    "import seaborn as sns\n",
    "import matplotlib.pyplot as plt\n",
    "import nbconvert\n",
    "pd.set_option(\"max_rows\", 120)\n",
    "pd.options.mode.chained_assignment = None  # default='warn'"
   ]
  },
  {
   "cell_type": "code",
   "execution_count": null,
   "id": "f7ffc337",
   "metadata": {},
   "outputs": [],
   "source": [
    "c_path = \"./data/\"\n",
    "v_file = \"brt2021\" # CBS file with buurts "
   ]
  },
  {
   "cell_type": "code",
   "execution_count": null,
   "id": "e9e192cf",
   "metadata": {},
   "outputs": [],
   "source": [
    "df     = pd.read_csv(filepath_or_buffer = c_path + v_file + \".csv\",\n",
    "                         sep                = ';',\n",
    "                         decimal            = ',',\n",
    "                         thousands          = '.',\n",
    "                         encoding           = 'UTF-8')"
   ]
  },
  {
   "cell_type": "code",
   "execution_count": null,
   "id": "98810e8b",
   "metadata": {},
   "outputs": [],
   "source": [
    "df.info()"
   ]
  },
  {
   "cell_type": "code",
   "execution_count": null,
   "id": "d8080c94",
   "metadata": {},
   "outputs": [],
   "source": [
    "df.head()"
   ]
  },
  {
   "cell_type": "code",
   "execution_count": null,
   "id": "bc35ce39",
   "metadata": {},
   "outputs": [],
   "source": [
    "df['BU_2021'] = df['buurtcode2021'].astype(str)"
   ]
  },
  {
   "cell_type": "code",
   "execution_count": null,
   "id": "bc4b4c3a",
   "metadata": {},
   "outputs": [],
   "source": [
    "def makebuurt(code):\n",
    "    if len(code) == 6:\n",
    "        return 'BU00' + code\n",
    "    elif len(code) == 7:\n",
    "        return 'BU0' + code\n",
    "    else:\n",
    "        return 'BU' + code"
   ]
  },
  {
   "cell_type": "code",
   "execution_count": null,
   "id": "18a3200c",
   "metadata": {},
   "outputs": [],
   "source": [
    "df['BU_2021'] = df['BU_2021'].apply(makebuurt)"
   ]
  },
  {
   "cell_type": "code",
   "execution_count": null,
   "id": "ed9c3f94",
   "metadata": {},
   "outputs": [],
   "source": [
    "df = df[['BU_2021', 'buurtnaam2021', 'WK_2021', 'WK_NAAM', 'GM_2021', 'GM_NAAM']]"
   ]
  },
  {
   "cell_type": "code",
   "execution_count": null,
   "id": "1a4a3abf",
   "metadata": {},
   "outputs": [],
   "source": [
    "df = df.rename(columns={'buurtnaam2021': 'BU_NAAM'})"
   ]
  },
  {
   "cell_type": "code",
   "execution_count": null,
   "id": "816716bd",
   "metadata": {},
   "outputs": [],
   "source": [
    "df.head()"
   ]
  },
  {
   "cell_type": "code",
   "execution_count": null,
   "id": "c1f1ba88",
   "metadata": {},
   "outputs": [],
   "source": [
    "v_file = \"gemeenten-alfabetisch-2021\"  # register of gemeentes per province\n",
    "df1     = pd.read_csv(filepath_or_buffer = c_path + v_file + \".csv\",\n",
    "                         sep                = ';',\n",
    "                         decimal            = ',',\n",
    "                         thousands          = '.',\n",
    "                         encoding           = 'UTF-8')"
   ]
  },
  {
   "cell_type": "code",
   "execution_count": null,
   "id": "b4036dbd",
   "metadata": {},
   "outputs": [],
   "source": [
    "df1.head()"
   ]
  },
  {
   "cell_type": "code",
   "execution_count": null,
   "id": "64636b4b",
   "metadata": {},
   "outputs": [],
   "source": [
    "df1.info()"
   ]
  },
  {
   "cell_type": "code",
   "execution_count": null,
   "id": "6814d526",
   "metadata": {},
   "outputs": [],
   "source": [
    "df = df.merge(df1, left_on = 'GM_2021', right_on = 'GemeentecodeGM')"
   ]
  },
  {
   "cell_type": "code",
   "execution_count": null,
   "id": "b5bddd2f",
   "metadata": {},
   "outputs": [],
   "source": [
    "df.columns"
   ]
  },
  {
   "cell_type": "code",
   "execution_count": null,
   "id": "6deba57a",
   "metadata": {},
   "outputs": [],
   "source": [
    "df.drop(columns = ['Gemeentecode', 'GemeentecodeGM', 'Gemeentenaam', 'Provinciecode'], inplace = True)"
   ]
  },
  {
   "cell_type": "code",
   "execution_count": null,
   "id": "93bbcb0a",
   "metadata": {},
   "outputs": [],
   "source": [
    "df.head()"
   ]
  },
  {
   "cell_type": "code",
   "execution_count": null,
   "id": "19974033",
   "metadata": {},
   "outputs": [],
   "source": [
    "df.info()"
   ]
  },
  {
   "cell_type": "code",
   "execution_count": null,
   "id": "b6b87593",
   "metadata": {},
   "outputs": [],
   "source": [
    "df.describe()"
   ]
  },
  {
   "cell_type": "code",
   "execution_count": null,
   "id": "e30e236e",
   "metadata": {},
   "outputs": [],
   "source": [
    "df.to_csv(c_path + 'CSB Buurten Indeling.csv', encoding='utf-8', index_label= False)"
   ]
  },
  {
   "cell_type": "code",
   "execution_count": null,
   "id": "38926c84",
   "metadata": {},
   "outputs": [],
   "source": []
  }
 ],
 "metadata": {
  "kernelspec": {
   "display_name": "Python 3",
   "language": "python",
   "name": "python3"
  },
  "language_info": {
   "codemirror_mode": {
    "name": "ipython",
    "version": 3
   },
   "file_extension": ".py",
   "mimetype": "text/x-python",
   "name": "python",
   "nbconvert_exporter": "python",
   "pygments_lexer": "ipython3",
   "version": "3.9.7"
  }
 },
 "nbformat": 4,
 "nbformat_minor": 5
}
