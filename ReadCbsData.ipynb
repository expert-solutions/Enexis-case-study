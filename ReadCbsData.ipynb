{
 "cells": [
  {
   "cell_type": "code",
   "execution_count": null,
   "id": "8a9da92b",
   "metadata": {},
   "outputs": [],
   "source": [
    "import pandas as pd\n",
    "import cbsodata\n",
    "\n",
    "print(cbsodata.__version__)\n",
    "\n",
    "table_id = '83765NED'"
   ]
  },
  {
   "cell_type": "code",
   "execution_count": null,
   "id": "66150c3d",
   "metadata": {},
   "outputs": [],
   "source": [
    "# Downloading table list\n",
    "# toc = pd.DataFrame(cbsodata.get_table_list())\n",
    "\n",
    "tableInfos = cbsodata.get_meta(table_id=table_id, name='TableInfos')\n",
    "print(table_id, ':', tableInfos[0]['Summary'])"
   ]
  },
  {
   "cell_type": "markdown",
   "id": "40675113",
   "metadata": {},
   "source": [
    "Select all the information on my Municipality"
   ]
  },
  {
   "cell_type": "code",
   "execution_count": null,
   "metadata": {},
   "outputs": [],
   "source": [
    "filters=\"indexof(WijkenEnBuurten, '0809') eq 2\"\n",
    "dimensions_reduced = [\n",
    "        'WijkenEnBuurten',\n",
    "        'Codering_3',\n",
    "        'AantalInwoners_5',\n",
    "        'GemiddeldeWoningwaarde_35',\n",
    "        'GemiddeldElektriciteitsverbruikTotaal_47',\n",
    "        'GemiddeldAardgasverbruikTotaal_55',\n",
    "        'BedrijfsvestigingenTotaal_78']\n",
    "dimensions = [\n",
    "        'WijkenEnBuurten',\n",
    "        'Gemeentenaam_1',\n",
    "        'SoortRegio_2', \n",
    "        'Codering_3',\n",
    "        'AantalInwoners_5',\n",
    "        'GemiddeldeWoningwaarde_35',\n",
    "        'GemiddeldElektriciteitsverbruikTotaal_47',\n",
    "        'GemiddeldAardgasverbruikTotaal_55',\n",
    "        'PercentageWoningenMetStadsverwarming_63',\n",
    "        'BedrijfsvestigingenTotaal_78']\n",
    "\n",
    "wijkenEnBuurten =  pd.DataFrame(\n",
    "        cbsodata.get_data(\n",
    "                table_id=table_id, \n",
    "                filters=filters,\n",
    "                select=dimensions_reduced))\n",
    "wijkenEnBuurten"
   ]
  },
  {
   "cell_type": "markdown",
   "id": "93bb764f",
   "metadata": {},
   "source": []
  },
  {
   "cell_type": "markdown",
   "id": "17358f00",
   "metadata": {},
   "source": [
    "What looks to be a good criterium to see if we are dealing with an industrial zone, is to compare the number of companies to the number of residents."
   ]
  },
  {
   "cell_type": "code",
   "execution_count": null,
   "id": "e9da4d17",
   "metadata": {},
   "outputs": [],
   "source": [
    "wijkenEnBuurten['industial_zone'] = 2 * wijkenEnBuurten['BedrijfsvestigingenTotaal_78'] > wijkenEnBuurten['AantalInwoners_5']\n",
    "wijkenEnBuurten[wijkenEnBuurten['industial_zone'] == True]"
   ]
  }
 ],
 "metadata": {
  "kernelspec": {
   "display_name": "Python 3",
   "language": "python",
   "name": "python3"
  },
  "language_info": {
   "codemirror_mode": {
    "name": "ipython",
    "version": 3
   },
   "file_extension": ".py",
   "mimetype": "text/x-python",
   "name": "python",
   "nbconvert_exporter": "python",
   "pygments_lexer": "ipython3",
   "version": "3.9.7"
  }
 },
 "nbformat": 4,
 "nbformat_minor": 5
}
