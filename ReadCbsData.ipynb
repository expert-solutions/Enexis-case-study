{
 "cells": [
  {
   "cell_type": "code",
   "execution_count": null,
   "id": "8a9da92b",
   "metadata": {},
   "outputs": [],
   "source": [
    "import pandas as pd\n",
    "import cbsodata\n",
    "\n",
    "print(cbsodata.__version__)\n",
    "\n",
    "table_id = '83765NED' #wijken en buurten 2017"
   ]
  },
  {
   "cell_type": "code",
   "execution_count": null,
   "id": "66150c3d",
   "metadata": {},
   "outputs": [],
   "source": [
    "# Downloading table list\n",
    "# toc = pd.DataFrame(cbsodata.get_table_list())\n",
    "tableInfos = cbsodata.get_meta(table_id=table_id, name='TableInfos')\n",
    "print(table_id, ':', tableInfos[0]['Summary'])"
   ]
  },
  {
   "cell_type": "markdown",
   "id": "40675113",
   "metadata": {},
   "source": [
    "Select all the information on my Municipality"
   ]
  },
  {
   "cell_type": "code",
   "execution_count": null,
   "metadata": {},
   "outputs": [],
   "source": [
    "filters=\"indexof(WijkenEnBuurten, 'BU0809') eq 0\"\n",
    "# filters=\"not indexof(WijkenEnBuurten, 'GM0809') eq 0\"\n",
    "dimensions = [\n",
    "        'WijkenEnBuurten',\n",
    "        'Codering_3',\n",
    "        'AantalInwoners_5',\n",
    "      #  'GemiddeldeWoningwaarde_35',\n",
    "     #   'GemiddeldElektriciteitsverbruikTotaal_47',\n",
    "     #   'GemiddeldAardgasverbruikTotaal_55',\n",
    "        'BedrijfsvestigingenTotaal_78']\n",
    "\n",
    "wijkenEnBuurten =  pd.DataFrame(\n",
    "        cbsodata.get_data(\n",
    "                table_id=table_id, \n",
    "                filters=filters,\n",
    "                select=dimensions))"
   ]
  },
  {
   "cell_type": "markdown",
   "id": "93bb764f",
   "metadata": {},
   "source": []
  },
  {
   "cell_type": "markdown",
   "id": "17358f00",
   "metadata": {},
   "source": [
    "What looks to be a good criterium to see if we are dealing with an industrial zone, is to compare the number of companies to the number of residents."
   ]
  },
  {
   "cell_type": "code",
   "execution_count": null,
   "id": "a5971f36",
   "metadata": {},
   "outputs": [],
   "source": [
    "def isIndustrialZone(bedrijfsvestigingenTotaal, AantalInwoners):\n",
    "    # A first derivation of what could be an industrial zone\n",
    "    return 2 * bedrijfsvestigingenTotaal > AantalInwoners"
   ]
  },
  {
   "cell_type": "code",
   "execution_count": null,
   "id": "e9da4d17",
   "metadata": {},
   "outputs": [],
   "source": [
    "wijkenEnBuurten['industial_zone'] = isIndustrialZone(wijkenEnBuurten['BedrijfsvestigingenTotaal_78'], wijkenEnBuurten['AantalInwoners_5'])\n",
    "wijkenEnBuurten[wijkenEnBuurten['industial_zone'] == True]"
   ]
  },
  {
   "cell_type": "markdown",
   "id": "b3522141",
   "metadata": {},
   "source": [
    "Add to the 'decentrale opwek' data the new information on wheter we are dealing with an industrial zone or not.\n",
    "//TODO:\n"
   ]
  },
  {
   "cell_type": "code",
   "execution_count": 75,
   "id": "5a580a52",
   "metadata": {},
   "outputs": [],
   "source": [
    "def makebuurt(code): #taken from the python document of Greg :-)\n",
    "    if len(code) == 6:\n",
    "        return 'BU00' + code\n",
    "    elif len(code) == 7:\n",
    "        return 'BU0' + code\n",
    "    else:\n",
    "        return 'BU' + code"
   ]
  },
  {
   "cell_type": "code",
   "execution_count": 76,
   "id": "3162e791",
   "metadata": {},
   "outputs": [
    {
     "data": {
      "text/html": [
       "<div>\n",
       "<style scoped>\n",
       "    .dataframe tbody tr th:only-of-type {\n",
       "        vertical-align: middle;\n",
       "    }\n",
       "\n",
       "    .dataframe tbody tr th {\n",
       "        vertical-align: top;\n",
       "    }\n",
       "\n",
       "    .dataframe thead th {\n",
       "        text-align: right;\n",
       "    }\n",
       "</style>\n",
       "<table border=\"1\" class=\"dataframe\">\n",
       "  <thead>\n",
       "    <tr style=\"text-align: right;\">\n",
       "      <th></th>\n",
       "      <th>Peildatum</th>\n",
       "      <th>Netbeheerder</th>\n",
       "      <th>Provincie</th>\n",
       "      <th>Gemeente</th>\n",
       "      <th>CBS Buurt</th>\n",
       "      <th>CBS Buurtcode</th>\n",
       "      <th>Aantal aansluitingen in CBS-buurt</th>\n",
       "      <th>Aantal aansluitingen met opwekinstallatie</th>\n",
       "      <th>Opgesteld vermogen</th>\n",
       "      <th>Buurtcode</th>\n",
       "    </tr>\n",
       "  </thead>\n",
       "  <tbody>\n",
       "    <tr>\n",
       "      <th>0</th>\n",
       "      <td>202001.0</td>\n",
       "      <td>Enexis</td>\n",
       "      <td>Groningen</td>\n",
       "      <td>Appingedam</td>\n",
       "      <td>Appingedam-Centrum</td>\n",
       "      <td>30000.0</td>\n",
       "      <td>1.480</td>\n",
       "      <td>155.0</td>\n",
       "      <td>507.000</td>\n",
       "      <td>BU030000.0</td>\n",
       "    </tr>\n",
       "    <tr>\n",
       "      <th>1</th>\n",
       "      <td>202001.0</td>\n",
       "      <td>Enexis</td>\n",
       "      <td>Groningen</td>\n",
       "      <td>Appingedam</td>\n",
       "      <td>Appingedam-West</td>\n",
       "      <td>30001.0</td>\n",
       "      <td>1.331</td>\n",
       "      <td>479.0</td>\n",
       "      <td>1.685</td>\n",
       "      <td>BU030001.0</td>\n",
       "    </tr>\n",
       "    <tr>\n",
       "      <th>2</th>\n",
       "      <td>202001.0</td>\n",
       "      <td>Enexis</td>\n",
       "      <td>Groningen</td>\n",
       "      <td>Appingedam</td>\n",
       "      <td>Appingedam-Oost</td>\n",
       "      <td>30002.0</td>\n",
       "      <td>2.826</td>\n",
       "      <td>439.0</td>\n",
       "      <td>1.616</td>\n",
       "      <td>BU030002.0</td>\n",
       "    </tr>\n",
       "    <tr>\n",
       "      <th>3</th>\n",
       "      <td>202001.0</td>\n",
       "      <td>Enexis</td>\n",
       "      <td>Groningen</td>\n",
       "      <td>Appingedam</td>\n",
       "      <td>Verspreide huizen Damsterdiep en Eemskanaal</td>\n",
       "      <td>30007.0</td>\n",
       "      <td>230.000</td>\n",
       "      <td>97.0</td>\n",
       "      <td>405.000</td>\n",
       "      <td>BU030007.0</td>\n",
       "    </tr>\n",
       "    <tr>\n",
       "      <th>4</th>\n",
       "      <td>202001.0</td>\n",
       "      <td>Enexis</td>\n",
       "      <td>Groningen</td>\n",
       "      <td>Appingedam</td>\n",
       "      <td>Verspreide huizen ten zuiden van Eemskanaal</td>\n",
       "      <td>30008.0</td>\n",
       "      <td>102.000</td>\n",
       "      <td>21.0</td>\n",
       "      <td>61.000</td>\n",
       "      <td>BU030008.0</td>\n",
       "    </tr>\n",
       "  </tbody>\n",
       "</table>\n",
       "</div>"
      ],
      "text/plain": [
       "   Peildatum Netbeheerder  Provincie    Gemeente  \\\n",
       "0   202001.0       Enexis  Groningen  Appingedam   \n",
       "1   202001.0       Enexis  Groningen  Appingedam   \n",
       "2   202001.0       Enexis  Groningen  Appingedam   \n",
       "3   202001.0       Enexis  Groningen  Appingedam   \n",
       "4   202001.0       Enexis  Groningen  Appingedam   \n",
       "\n",
       "                                    CBS Buurt   CBS Buurtcode  \\\n",
       "0                           Appingedam-Centrum        30000.0   \n",
       "1                              Appingedam-West        30001.0   \n",
       "2                              Appingedam-Oost        30002.0   \n",
       "3  Verspreide huizen Damsterdiep en Eemskanaal        30007.0   \n",
       "4  Verspreide huizen ten zuiden van Eemskanaal        30008.0   \n",
       "\n",
       "   Aantal aansluitingen in CBS-buurt   \\\n",
       "0                               1.480   \n",
       "1                               1.331   \n",
       "2                               2.826   \n",
       "3                             230.000   \n",
       "4                             102.000   \n",
       "\n",
       "   Aantal aansluitingen met opwekinstallatie  Opgesteld vermogen   Buurtcode  \n",
       "0                                      155.0             507.000  BU030000.0  \n",
       "1                                      479.0               1.685  BU030001.0  \n",
       "2                                      439.0               1.616  BU030002.0  \n",
       "3                                       97.0             405.000  BU030007.0  \n",
       "4                                       21.0              61.000  BU030008.0  "
      ]
     },
     "execution_count": 76,
     "metadata": {},
     "output_type": "execute_result"
    }
   ],
   "source": [
    "datafilename = './data/Enexis_decentrale_opwek_kv_(zon_pv)_01012020.csv'\n",
    "df = pd.read_csv(datafilename, sep=';', encoding= 'UTF-8')\n",
    "df['Buurtcode']= df['CBS Buurtcode'].astype(str).apply(makebuurt)\n",
    "df.head()"
   ]
  }
 ],
 "metadata": {
  "kernelspec": {
   "display_name": "Python 3",
   "language": "python",
   "name": "python3"
  },
  "language_info": {
   "codemirror_mode": {
    "name": "ipython",
    "version": 3
   },
   "file_extension": ".py",
   "mimetype": "text/x-python",
   "name": "python",
   "nbconvert_exporter": "python",
   "pygments_lexer": "ipython3",
   "version": "3.9.7"
  }
 },
 "nbformat": 4,
 "nbformat_minor": 5
}
