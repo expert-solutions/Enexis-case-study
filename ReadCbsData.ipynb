{
 "cells": [
  {
   "cell_type": "code",
   "execution_count": 63,
   "id": "8a9da92b",
   "metadata": {},
   "outputs": [
    {
     "name": "stdout",
     "output_type": "stream",
     "text": [
      "1.3.4\n"
     ]
    }
   ],
   "source": [
    "import pandas as pd\n",
    "import cbsodata\n",
    "\n",
    "print(cbsodata.__version__)\n",
    "\n",
    "table_id = '83765NED'"
   ]
  },
  {
   "cell_type": "code",
   "execution_count": 64,
   "id": "66150c3d",
   "metadata": {},
   "outputs": [
    {
     "name": "stdout",
     "output_type": "stream",
     "text": [
      "83765NED : Kerncijfers over demografische en sociaal-economische kenmerken\n",
      "Uitgesplitst naar gemeenten, wijken en buurten\n"
     ]
    }
   ],
   "source": [
    "# Downloading table list\n",
    "# toc = pd.DataFrame(cbsodata.get_table_list())\n",
    "\n",
    "tableInfos = cbsodata.get_meta(table_id=table_id, name='TableInfos')\n",
    "print(table_id, ':', tableInfos[0]['Summary'])"
   ]
  },
  {
   "cell_type": "markdown",
   "id": "40675113",
   "metadata": {},
   "source": [
    "Select all the information on my Municipality"
   ]
  },
  {
   "cell_type": "code",
   "execution_count": 65,
   "metadata": {},
   "outputs": [],
   "source": [
    "filters=\"indexof(WijkenEnBuurten, 'BU0809') eq 0\"\n",
    "# filters=\"not indexof(WijkenEnBuurten, 'GM0809') eq 0\"\n",
    "dimensions = [\n",
    "        'WijkenEnBuurten',\n",
    "        'Codering_3',\n",
    "        'AantalInwoners_5',\n",
    "      #  'GemiddeldeWoningwaarde_35',\n",
    "     #   'GemiddeldElektriciteitsverbruikTotaal_47',\n",
    "     #   'GemiddeldAardgasverbruikTotaal_55',\n",
    "        'BedrijfsvestigingenTotaal_78']\n",
    "\n",
    "wijkenEnBuurten =  pd.DataFrame(\n",
    "        cbsodata.get_data(\n",
    "                table_id=table_id, \n",
    "                filters=filters,\n",
    "                select=dimensions))"
   ]
  },
  {
   "cell_type": "markdown",
   "id": "93bb764f",
   "metadata": {},
   "source": []
  },
  {
   "cell_type": "markdown",
   "id": "17358f00",
   "metadata": {},
   "source": [
    "What looks to be a good criterium to see if we are dealing with an industrial zone, is to compare the number of companies to the number of residents."
   ]
  },
  {
   "cell_type": "code",
   "execution_count": 66,
   "id": "a5971f36",
   "metadata": {},
   "outputs": [],
   "source": [
    "def isIndustrialZone(bedrijfsvestigingenTotaal, AantalInwoners):\n",
    "    # A first derivation of what could be an industrial zone\n",
    "    return 2 * bedrijfsvestigingenTotaal > AantalInwoners"
   ]
  },
  {
   "cell_type": "code",
   "execution_count": 67,
   "id": "e9da4d17",
   "metadata": {},
   "outputs": [
    {
     "data": {
      "text/html": [
       "<div>\n",
       "<style scoped>\n",
       "    .dataframe tbody tr th:only-of-type {\n",
       "        vertical-align: middle;\n",
       "    }\n",
       "\n",
       "    .dataframe tbody tr th {\n",
       "        vertical-align: top;\n",
       "    }\n",
       "\n",
       "    .dataframe thead th {\n",
       "        text-align: right;\n",
       "    }\n",
       "</style>\n",
       "<table border=\"1\" class=\"dataframe\">\n",
       "  <thead>\n",
       "    <tr style=\"text-align: right;\">\n",
       "      <th></th>\n",
       "      <th>WijkenEnBuurten</th>\n",
       "      <th>Codering_3</th>\n",
       "      <th>AantalInwoners_5</th>\n",
       "      <th>BedrijfsvestigingenTotaal_78</th>\n",
       "      <th>industial_zone</th>\n",
       "    </tr>\n",
       "  </thead>\n",
       "  <tbody>\n",
       "    <tr>\n",
       "      <th>11</th>\n",
       "      <td>De Kets (industrieterrein)</td>\n",
       "      <td>BU08091035</td>\n",
       "      <td>95</td>\n",
       "      <td>160</td>\n",
       "      <td>True</td>\n",
       "    </tr>\n",
       "    <tr>\n",
       "      <th>27</th>\n",
       "      <td>De Hoogt (Industrieterrein)</td>\n",
       "      <td>BU08093085</td>\n",
       "      <td>0</td>\n",
       "      <td>40</td>\n",
       "      <td>True</td>\n",
       "    </tr>\n",
       "    <tr>\n",
       "      <th>30</th>\n",
       "      <td>De Plakken</td>\n",
       "      <td>BU08093092</td>\n",
       "      <td>5</td>\n",
       "      <td>5</td>\n",
       "      <td>True</td>\n",
       "    </tr>\n",
       "  </tbody>\n",
       "</table>\n",
       "</div>"
      ],
      "text/plain": [
       "                WijkenEnBuurten  Codering_3  AantalInwoners_5  \\\n",
       "11   De Kets (industrieterrein)  BU08091035                95   \n",
       "27  De Hoogt (Industrieterrein)  BU08093085                 0   \n",
       "30                   De Plakken  BU08093092                 5   \n",
       "\n",
       "    BedrijfsvestigingenTotaal_78  industial_zone  \n",
       "11                           160            True  \n",
       "27                            40            True  \n",
       "30                             5            True  "
      ]
     },
     "execution_count": 67,
     "metadata": {},
     "output_type": "execute_result"
    }
   ],
   "source": [
    "wijkenEnBuurten['industial_zone'] = isIndustrialZone(wijkenEnBuurten['BedrijfsvestigingenTotaal_78'], wijkenEnBuurten['AantalInwoners_5'])\n",
    "wijkenEnBuurten[wijkenEnBuurten['industial_zone'] == True]"
   ]
  }
 ],
 "metadata": {
  "kernelspec": {
   "display_name": "Python 3",
   "language": "python",
   "name": "python3"
  },
  "language_info": {
   "codemirror_mode": {
    "name": "ipython",
    "version": 3
   },
   "file_extension": ".py",
   "mimetype": "text/x-python",
   "name": "python",
   "nbconvert_exporter": "python",
   "pygments_lexer": "ipython3",
   "version": "3.9.7"
  }
 },
 "nbformat": 4,
 "nbformat_minor": 5
}
