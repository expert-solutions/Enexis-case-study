{
 "cells": [
  {
   "cell_type": "markdown",
   "id": "785bc900",
   "metadata": {},
   "source": [
    "# ENEXIS Graduation Project"
   ]
  },
  {
   "cell_type": "markdown",
   "id": "0042c026",
   "metadata": {},
   "source": [
    "#### Enexis decentrale opwek data are combined with data from the CBS database \"Kerncijfers\""
   ]
  },
  {
   "cell_type": "markdown",
   "id": "e97c5ba1",
   "metadata": {},
   "source": [
    "# CRISP-DM Phase 2: Data Understanding"
   ]
  },
  {
   "cell_type": "markdown",
   "id": "f98fdd4c",
   "metadata": {},
   "source": [
    "### Collect Initial Data"
   ]
  },
  {
   "cell_type": "markdown",
   "id": "575f2fab",
   "metadata": {},
   "source": []
  },
  {
   "cell_type": "code",
   "execution_count": null,
   "id": "b5e95fb9",
   "metadata": {},
   "outputs": [],
   "source": [
    "import pandas as pd\n",
    "import sys\n",
    "import matplotlib.pyplot as plt\n",
    "import seaborn as sns"
   ]
  },
  {
   "cell_type": "code",
   "execution_count": null,
   "id": "6d821611",
   "metadata": {},
   "outputs": [],
   "source": [
    "c_path = \"../data/\"\n",
    "v_file = (\"Enexis_decentrale_opwek_kv_(zon_pv)_01012020\",                                    # 0\n",
    "          \"Enexis_decentrale_opwek_kv_(zon_pv)_01072020\")                                    # 1"
   ]
  },
  {
   "cell_type": "code",
   "execution_count": null,
   "id": "ccd12c79",
   "metadata": {},
   "outputs": [],
   "source": [
    "i = 1\n",
    "c_decimal = ','\n",
    "df_decentrale_opwek     = pd.read_csv(filepath_or_buffer = c_path + v_file[i] + \".csv\",\n",
    "                         sep                = ';',\n",
    "                         decimal            = c_decimal,\n",
    "                         thousands          = '.',\n",
    "                         encoding           = 'unicode_escape')"
   ]
  },
  {
   "cell_type": "markdown",
   "id": "a141b252",
   "metadata": {},
   "source": [
    "### Describe Data"
   ]
  },
  {
   "cell_type": "code",
   "execution_count": null,
   "id": "9a74919d",
   "metadata": {},
   "outputs": [],
   "source": [
    "df_decentrale_opwek.head().transpose()"
   ]
  },
  {
   "cell_type": "code",
   "execution_count": null,
   "id": "4a241f87",
   "metadata": {},
   "outputs": [],
   "source": [
    "df_decentrale_opwek.info()"
   ]
  },
  {
   "cell_type": "code",
   "execution_count": null,
   "id": "c03476b0",
   "metadata": {},
   "outputs": [],
   "source": [
    "df_decentrale_opwek.columns = df_decentrale_opwek.columns.str.strip()\n",
    "df_decentrale_opwek.head()"
   ]
  },
  {
   "cell_type": "code",
   "execution_count": null,
   "id": "d9e16cab",
   "metadata": {},
   "outputs": [],
   "source": [
    "df_decentrale_opwek.columns = df_decentrale_opwek.columns.str.replace(' ','_')\n"
   ]
  },
  {
   "cell_type": "code",
   "execution_count": null,
   "id": "f7958190",
   "metadata": {},
   "outputs": [],
   "source": [
    "df_decentrale_opwek.rename(columns={'ï»¿Peildatum': 'Peildatum'}, inplace=True)"
   ]
  },
  {
   "cell_type": "code",
   "execution_count": null,
   "id": "7c8340c8",
   "metadata": {},
   "outputs": [],
   "source": [
    "df_decentrale_opwek.columns"
   ]
  },
  {
   "cell_type": "markdown",
   "id": "cdd75d57",
   "metadata": {},
   "source": [
    "### remove faulty rows"
   ]
  },
  {
   "cell_type": "code",
   "execution_count": null,
   "id": "4500e13b",
   "metadata": {},
   "outputs": [],
   "source": []
  },
  {
   "cell_type": "markdown",
   "id": "9a2c17ec",
   "metadata": {},
   "source": [
    "### Combine the data sources"
   ]
  },
  {
   "cell_type": "code",
   "execution_count": null,
   "id": "c2c07fa8",
   "metadata": {},
   "outputs": [],
   "source": [
    "#get the kerncijfers from the file\n",
    "dg_kerncijfers = pd.read_csv('CBS_dataset_84799NED.csv', sep=';')\n",
    "# dg_kerncijfers.info()\n",
    "\n",
    "dg_kerncijfers.rename(columns={'Codering_3': 'CBS_Buurtcode'}, inplace=True)\n",
    "# dg_kerncijfers.head()\n",
    "df = pd.merge(df_decentrale_opwek, dg_kerncijfers, on='CBS_Buurtcode')\n",
    "\n",
    "# df.info()\n",
    "df.head()"
   ]
  },
  {
   "cell_type": "markdown",
   "id": "1781add7",
   "metadata": {},
   "source": [
    "### Handle missing values"
   ]
  },
  {
   "cell_type": "code",
   "execution_count": null,
   "id": "374ccf97",
   "metadata": {},
   "outputs": [],
   "source": [
    "df.isna().sum()[df.isna().sum() != 0].sort_values(ascending = False)"
   ]
  },
  {
   "cell_type": "code",
   "execution_count": null,
   "id": "0eeb323a",
   "metadata": {},
   "outputs": [],
   "source": [
    "df[df['Opgesteld_vermogen'].isna()]"
   ]
  },
  {
   "cell_type": "code",
   "execution_count": null,
   "id": "623f42cb",
   "metadata": {},
   "outputs": [],
   "source": [
    "df = df.drop(index = df[df['Opgesteld_vermogen'].isna()].index)"
   ]
  },
  {
   "cell_type": "code",
   "execution_count": null,
   "id": "9e0d2450",
   "metadata": {},
   "outputs": [],
   "source": [
    "df.isna().sum()[df.isna().sum() != 0].sort_values(ascending = False)"
   ]
  },
  {
   "cell_type": "markdown",
   "id": "6078c3d6",
   "metadata": {},
   "source": [
    "#### Too many missing values in the columns so remove the columns"
   ]
  },
  {
   "cell_type": "code",
   "execution_count": null,
   "id": "6d9417ca",
   "metadata": {},
   "outputs": [],
   "source": [
    "bad_colums = ['GemiddeldAardgasverbruikTotaal_55', 'Percent_inkomensontvangers']\n",
    "df = df.drop(columns=bad_colums)\n",
    "# df.info()"
   ]
  },
  {
   "cell_type": "code",
   "execution_count": null,
   "id": "7867b26e",
   "metadata": {},
   "outputs": [],
   "source": [
    "df[df['Provincie'].isna() | df['Gemeente'].isna()]\n",
    "# df.info()"
   ]
  },
  {
   "cell_type": "code",
   "execution_count": null,
   "id": "49c7a7bc",
   "metadata": {},
   "outputs": [],
   "source": [
    "df = df.drop(index = df[df['Provincie'].isna() | df['Gemeente'].isna()].index)\n",
    "# df.info()"
   ]
  },
  {
   "cell_type": "code",
   "execution_count": null,
   "id": "d86edf59",
   "metadata": {},
   "outputs": [],
   "source": [
    "df = df.drop(index = df[df['Aantal_aansluitingen_in_CBS-buurt'].isna()].index)\n",
    "# df.info()"
   ]
  },
  {
   "cell_type": "code",
   "execution_count": null,
   "id": "792978f0",
   "metadata": {},
   "outputs": [],
   "source": [
    "df = df.drop(index = df[df['CBS_Buurt'].isna()].index)"
   ]
  },
  {
   "cell_type": "code",
   "execution_count": null,
   "id": "d2ba4056",
   "metadata": {},
   "outputs": [],
   "source": [
    "df = df.drop(index = df[df['CBS_Buurtcode'].isna()].index)\n"
   ]
  },
  {
   "cell_type": "code",
   "execution_count": null,
   "id": "d26e205d",
   "metadata": {},
   "outputs": [],
   "source": [
    "df = df.drop(index = df[df['GemiddeldeWOZWaardeVanWoningen_35'].isna()].index)\n"
   ]
  },
  {
   "cell_type": "code",
   "execution_count": null,
   "id": "1d01d3c1",
   "metadata": {},
   "outputs": [],
   "source": [
    "df = df.drop(index = df[df['Gemiddeld_opleidingsniveau'].isna()].index)\n",
    "df = df.drop(index = df[df['PersonenautoSPerHuishouden_102'].isna()].index)\n",
    "df = df.drop(index = df[df['AfstandTotSchool_108'].isna()].index)"
   ]
  },
  {
   "cell_type": "code",
   "execution_count": null,
   "id": "03d6f887",
   "metadata": {},
   "outputs": [],
   "source": [
    "df.isna().sum()[df.isna().sum() != 0].sort_values(ascending = False)"
   ]
  },
  {
   "cell_type": "code",
   "execution_count": null,
   "id": "51c6dbea",
   "metadata": {},
   "outputs": [],
   "source": [
    "df.transpose().head(6)"
   ]
  },
  {
   "cell_type": "code",
   "execution_count": null,
   "id": "c767f308",
   "metadata": {},
   "outputs": [],
   "source": [
    "# df.isna().sum()"
   ]
  },
  {
   "cell_type": "markdown",
   "id": "5667692f",
   "metadata": {},
   "source": [
    "# Write the data away for later processing"
   ]
  },
  {
   "cell_type": "code",
   "execution_count": null,
   "id": "7fc9ff1c",
   "metadata": {},
   "outputs": [],
   "source": [
    "combined_dataset_name = 'combined_CBS_dataset_84583.csv'\n",
    "df.to_csv(path_or_buf = combined_dataset_name, decimal=',', sep=';', index = False)"
   ]
  }
 ],
 "metadata": {
  "kernelspec": {
   "display_name": "Python 3",
   "language": "python",
   "name": "python3"
  },
  "language_info": {
   "codemirror_mode": {
    "name": "ipython",
    "version": 3
   },
   "file_extension": ".py",
   "mimetype": "text/x-python",
   "name": "python",
   "nbconvert_exporter": "python",
   "pygments_lexer": "ipython3",
   "version": "3.9.7"
  }
 },
 "nbformat": 4,
 "nbformat_minor": 5
}
