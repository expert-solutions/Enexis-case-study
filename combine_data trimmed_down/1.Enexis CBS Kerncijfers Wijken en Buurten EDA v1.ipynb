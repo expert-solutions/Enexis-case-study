{
 "cells": [
  {
   "cell_type": "markdown",
   "id": "785bc900",
   "metadata": {},
   "source": [
    "# ENEXIS Graduation Project"
   ]
  },
  {
   "cell_type": "markdown",
   "id": "940c5fa1",
   "metadata": {},
   "source": [
    "### prerequisite: install cbs odata library"
   ]
  },
  {
   "cell_type": "code",
   "execution_count": null,
   "id": "b3f16c38",
   "metadata": {},
   "outputs": [],
   "source": [
    "pip install cbsodata"
   ]
  },
  {
   "cell_type": "code",
   "execution_count": null,
   "id": "039bc40a",
   "metadata": {},
   "outputs": [],
   "source": [
    "import cbsodata\n",
    "import pandas as pd\n",
    "import seaborn as sns\n",
    "import matplotlib.pyplot as plt\n",
    "import nbconvert\n",
    "# pd.set_option(\"max_rows\", 120)\n",
    "pd.options.mode.chained_assignment = None  # default='warn'"
   ]
  },
  {
   "cell_type": "markdown",
   "id": "1bec6038",
   "metadata": {},
   "source": [
    "Lets select a data set from CBS. One of the most comprehensive sets is \"Kerncijfers wijken en buurten\" which is actualized every year. It contains demographical data but also some data related to energy consumption, which can be linked to Enexis data via CBS area codes (Gemeente, Wijk and Buurt level). \"Kerncijfers wijken en buurten 2019\" is the most recent set containing largely complete data. In the sets of 2020 and 2021 many feature columns are yet empty."
   ]
  },
  {
   "cell_type": "code",
   "execution_count": null,
   "id": "8701908a",
   "metadata": {},
   "outputs": [],
   "source": [
    "a021 = '85039NED' #Kerncijfers wijken en buurten 2021\n",
    "a020 = '84799NED' #Kerncijfers wijken en buurten 2020\n",
    "a019 = '84583NED' #Kerncijfers wijken en buurten 2019\n",
    "a018 = '84286NED' #Kerncijfers wijken en buurten 2018\n",
    "a017 = '83765NED' #Kerncijfers wijken en buurten 2017\n",
    "a016 = '83487NED' #Kerncijfers wijken en buurten 2016\n",
    "\n",
    "a1 = '85126NED' #Energieverbruik woningen; wijkbuurt 2020\n",
    "a2 = '85010NED' #Zonnestroom; wijken en buurten, 2019\n",
    "a3 = '85080NED' #Woningen, hoofdverwarmingsinstallaties, gasinstallatie, cv warmtepomp, stadsverwarming, wijken en buurten 2020"
   ]
  },
  {
   "cell_type": "code",
   "execution_count": null,
   "id": "dcba9ed3",
   "metadata": {},
   "outputs": [],
   "source": [
    "selected_dataset = a020\n",
    "dataset_new_format = False\n",
    "if (selected_dataset == '85039NED') | (selected_dataset == '84799NED'):\n",
    "    dataset_new_format = True"
   ]
  },
  {
   "cell_type": "code",
   "execution_count": null,
   "id": "16b3a7c6",
   "metadata": {},
   "outputs": [],
   "source": [
    "df_kerncijfers = pd.DataFrame(cbsodata.get_data(selected_dataset))"
   ]
  },
  {
   "cell_type": "code",
   "execution_count": null,
   "id": "dad6295e",
   "metadata": {},
   "outputs": [],
   "source": [
    "for name in df_kerncijfers.columns:\n",
    "     print(name)"
   ]
  },
  {
   "cell_type": "code",
   "execution_count": null,
   "id": "11f6de9f",
   "metadata": {},
   "outputs": [],
   "source": [
    "# for col in df_orig.columns:\n",
    "#     print(col)"
   ]
  },
  {
   "cell_type": "code",
   "execution_count": null,
   "id": "e77c061e",
   "metadata": {
    "scrolled": true
   },
   "outputs": [],
   "source": [
    "df_kerncijfers.head(5).transpose()"
   ]
  },
  {
   "cell_type": "code",
   "execution_count": null,
   "id": "25b78031",
   "metadata": {},
   "outputs": [],
   "source": [
    "#remove whitespaces from beginning and end of string column labels\n",
    "df_kerncijfers = df_kerncijfers.apply(lambda x: x.str.strip() if x.dtype == \"object\" else x)   "
   ]
  },
  {
   "cell_type": "markdown",
   "id": "4a599f12",
   "metadata": {},
   "source": [
    "Data on the level of Buurt are selected for EDA"
   ]
  },
  {
   "cell_type": "code",
   "execution_count": null,
   "id": "aecbd561",
   "metadata": {},
   "outputs": [],
   "source": [
    "df = df_kerncijfers[df_kerncijfers['SoortRegio_2'] == 'Buurt']"
   ]
  },
  {
   "cell_type": "code",
   "execution_count": null,
   "id": "7cdbf64a",
   "metadata": {},
   "outputs": [],
   "source": [
    "df['IndelingswijzigingWijkenEnBuurten_4'].value_counts() # just checking how many changes have been made since previous year"
   ]
  },
  {
   "cell_type": "markdown",
   "id": "94e4b850",
   "metadata": {},
   "source": [
    "Some rows have 0 values for \"HuishoudensTotaal_28\" feature. To use this feature for feature engineering, I need to eliminate 0 values, so I replace them with 1. "
   ]
  },
  {
   "cell_type": "code",
   "execution_count": null,
   "id": "41e716e2",
   "metadata": {},
   "outputs": [],
   "source": [
    "df['HuishoudensTotaal_28'].replace({0 : 1}, inplace = True)"
   ]
  },
  {
   "cell_type": "markdown",
   "id": "b478f2ba",
   "metadata": {},
   "source": [
    "Changing Buurt codes into integers, so first remove \"BU\" letters at the beginning, and then changing the type into Int32"
   ]
  },
  {
   "cell_type": "code",
   "execution_count": null,
   "id": "9b44b73b",
   "metadata": {},
   "outputs": [],
   "source": [
    "df['Codering_3'] = df['Codering_3'].map(lambda x: x.lstrip('BU'))"
   ]
  },
  {
   "cell_type": "code",
   "execution_count": null,
   "id": "04c03192",
   "metadata": {},
   "outputs": [],
   "source": [
    "df['Codering_3'] = df['Codering_3'].astype(int)"
   ]
  },
  {
   "cell_type": "code",
   "execution_count": null,
   "id": "d4d7ae2c",
   "metadata": {},
   "outputs": [],
   "source": [
    "df.head()"
   ]
  },
  {
   "cell_type": "markdown",
   "id": "6c51038b",
   "metadata": {},
   "source": [
    "In order to use in the EDA, numeric features have to be intensive variables i.e. such which do not depend on the size of the system. For this reason, two new variables are created by dividing the existing extensive variables `AantalInkomensontvangers_70` and `BedrijfsvestigingenTotaal_91` by number of inhabitants and number of households, respectively. Another new variable is defined to describe average education level, as a kind of weighted average of `OpleidingsniveauLaag_64`, `OpleidingsniveauMiddelbaar_65` and `OpleidingsniveauHoog_66`, with respective weights of 1, 2 and 3. The new variable assumes values in the range of 1 to 3."
   ]
  },
  {
   "cell_type": "code",
   "execution_count": null,
   "id": "4c07e1a7",
   "metadata": {},
   "outputs": [],
   "source": [
    "df['Gemiddeld_opleidingsniveau'] = (df['OpleidingsniveauLaag_64'] * 1 + df['OpleidingsniveauMiddelbaar_65'] * 2 + \n",
    "                                df['OpleidingsniveauHoog_66'] * 3) / (df['OpleidingsniveauLaag_64'] + \n",
    "                                df['OpleidingsniveauMiddelbaar_65'] + df['OpleidingsniveauHoog_66'])"
   ]
  },
  {
   "cell_type": "code",
   "execution_count": null,
   "id": "74690804",
   "metadata": {},
   "outputs": [],
   "source": [
    "df['Percent_inkomensontvangers'] = df['AantalInkomensontvangers_70'] / df['AantalInwoners_5']"
   ]
  },
  {
   "cell_type": "code",
   "execution_count": null,
   "id": "498cde36",
   "metadata": {},
   "outputs": [],
   "source": [
    "df['Bedrijfsvestigingen_per_huishuidens'] = df['BedrijfsvestigingenTotaal_91'] / df['HuishoudensTotaal_28']"
   ]
  },
  {
   "cell_type": "markdown",
   "id": "1f89e518",
   "metadata": {},
   "source": [
    "We now make a slice of the dataframe df, containing only the selected features, and the newly added features. The features are stored in a list object `Selected_CBS_features`."
   ]
  },
  {
   "cell_type": "code",
   "execution_count": null,
   "id": "6567ef52",
   "metadata": {},
   "outputs": [],
   "source": [
    "Selected_CBS_features_old_format = ['WijkenEnBuurten',\n",
    " 'Gemeentenaam_1',\n",
    " 'SoortRegio_2',\n",
    " 'Codering_3',\n",
    " 'MeestVoorkomendePostcode_113',\n",
    " 'HuishoudensTotaal_28',\n",
    " 'GemiddeldeHuishoudensgrootte_32',\n",
    " 'Bevolkingsdichtheid_33',\n",
    "  'GemiddeldeWoningwaarde_35',\n",
    " 'PercentageEengezinswoning_36',\n",
    " 'Koopwoningen_40',\n",
    " 'InBezitWoningcorporatie_42',\n",
    " 'InBezitOverigeVerhuurders_43',\n",
    " 'BouwjaarVanaf2000_46',\n",
    " 'GemiddeldElektriciteitsverbruikTotaal_47',\n",
    " 'GemiddeldAardgasverbruikTotaal_55',\n",
    " 'Gemiddeld_opleidingsniveau',\n",
    " 'Percent_inkomensontvangers',\n",
    " 'Bedrijfsvestigingen_per_huishuidens',\n",
    " 'PersonenautoSPerHuishouden_102',\n",
    " 'AfstandTotSchool_108',\n",
    " 'Omgevingsadressendichtheid_116']\n",
    "\n",
    "Selected_CBS_features_new_format = ['WijkenEnBuurten',\n",
    " 'Gemeentenaam_1',\n",
    " 'SoortRegio_2',\n",
    " 'Codering_3',\n",
    " 'MeestVoorkomendePostcode_113',\n",
    " 'HuishoudensTotaal_28',\n",
    " 'GemiddeldeHuishoudensgrootte_32',\n",
    " 'Bevolkingsdichtheid_33',\n",
    " 'GemiddeldeWOZWaardeVanWoningen_35',\n",
    " 'PercentageEengezinswoning_36',\n",
    " 'Koopwoningen_40',\n",
    " 'InBezitWoningcorporatie_42',\n",
    " 'InBezitOverigeVerhuurders_43',\n",
    " 'BouwjaarVanaf2000_46',\n",
    " 'GemiddeldAardgasverbruikTotaal_55',\n",
    " 'Gemiddeld_opleidingsniveau',\n",
    " 'Percent_inkomensontvangers',\n",
    " 'Bedrijfsvestigingen_per_huishuidens',\n",
    " 'PersonenautoSPerHuishouden_102',\n",
    " 'AfstandTotSchool_108',\n",
    " 'Omgevingsadressendichtheid_116']"
   ]
  },
  {
   "cell_type": "code",
   "execution_count": null,
   "id": "870e2348",
   "metadata": {},
   "outputs": [],
   "source": [
    "features = Selected_CBS_features_old_format\n",
    "if(dataset_new_format):\n",
    "    features = Selected_CBS_features_new_format\n",
    "df = df[features]"
   ]
  },
  {
   "cell_type": "markdown",
   "id": "02b3e7c2",
   "metadata": {},
   "source": [
    "### Description of data"
   ]
  },
  {
   "cell_type": "markdown",
   "id": "0830b5d6",
   "metadata": {},
   "source": [
    "We now have the final set of features extracted from CBS dataset. Let's explore its main characteristics."
   ]
  },
  {
   "cell_type": "code",
   "execution_count": null,
   "id": "d522075c",
   "metadata": {},
   "outputs": [],
   "source": [
    "df.info()"
   ]
  },
  {
   "cell_type": "markdown",
   "id": "0d9bbd20",
   "metadata": {},
   "source": [
    "There is a hight amount of missing values, which will need to be handled later. For now we will perform an initial EDA with the set as it is."
   ]
  },
  {
   "cell_type": "code",
   "execution_count": null,
   "id": "e6e7aa29",
   "metadata": {},
   "outputs": [],
   "source": [
    "df.describe(include = 'all').transpose()"
   ]
  },
  {
   "cell_type": "code",
   "execution_count": null,
   "id": "c9dae2cd",
   "metadata": {},
   "outputs": [],
   "source": [
    "df.head().transpose()"
   ]
  },
  {
   "cell_type": "markdown",
   "id": "ba56c4a8",
   "metadata": {},
   "source": [
    "Lets first have a look on the distribution of the individual features, using a set of histograms."
   ]
  },
  {
   "cell_type": "code",
   "execution_count": null,
   "id": "4774dfc2",
   "metadata": {},
   "outputs": [],
   "source": [
    "df.drop('Codering_3', axis = 1).hist(bins=25, figsize=(16,14));"
   ]
  },
  {
   "cell_type": "markdown",
   "id": "08473b3d",
   "metadata": {},
   "source": [
    "### Explore correlations between average energy consumption and other features"
   ]
  },
  {
   "cell_type": "markdown",
   "id": "71f76ba3",
   "metadata": {},
   "source": [
    "Let's explore correlations between features. We will use correlation matrix with Pearson correlation coefficients. The most interesting for our subject is the average consumption of electricity, so the features will be ordered by decreasing correlation with `GemiddeldElektriciteitsverbruikTotaal_47`. \n",
    "Note: The dataset contains as well electricity and gas consumption data calculated separately per type of dwellings: Appartement, Tussenwoning, Hoekwoning, Twee-onder-één-kap-woning, Vrijstaande woning, as well as per ownership: Huurwoning and Eigen woning. These differences can be looked into at a later stage."
   ]
  },
  {
   "cell_type": "code",
   "execution_count": null,
   "id": "81d8e9c3",
   "metadata": {},
   "outputs": [],
   "source": [
    "df.info()"
   ]
  },
  {
   "cell_type": "code",
   "execution_count": null,
   "id": "d5974f9f",
   "metadata": {},
   "outputs": [],
   "source": [
    "# corr_matrix = df.corr().sort_values(by = 'GemiddeldElektriciteitsverbruikTotaal_47', ascending = False).transpose()\n",
    "# corr_matrix = corr_matrix.sort_values(by = 'GemiddeldElektriciteitsverbruikTotaal_47', ascending = False)"
   ]
  },
  {
   "cell_type": "code",
   "execution_count": null,
   "id": "85790232",
   "metadata": {},
   "outputs": [],
   "source": [
    "# plt.figure(figsize = (14,11))\n",
    "# sns.heatmap(data = corr_matrix, annot = True, fmt='.2f', cmap = 'RdBu_r', linewidths=.1, square=True, vmax=1, center = 0)"
   ]
  },
  {
   "cell_type": "markdown",
   "id": "03c0d48e",
   "metadata": {},
   "source": [
    "Let's focus on the correlation between average electricity consumption and other features. High positive / negative values mean strong positive / negative linear correlation, values close to 0 indicate a weak or non-linear correlation. "
   ]
  },
  {
   "cell_type": "code",
   "execution_count": null,
   "id": "532c0f78",
   "metadata": {},
   "outputs": [],
   "source": [
    "# plt.figure(figsize = (10,10))\n",
    "# sns.heatmap(data = corr_matrix[['GemiddeldElektriciteitsverbruikTotaal_47']], \n",
    "            # annot = True, fmt='.2f', cmap = 'RdBu_r', linewidths=.1, square=True, vmax=1, center = 0)"
   ]
  },
  {
   "cell_type": "markdown",
   "id": "c64632f4",
   "metadata": {},
   "source": [
    "Finally, let's visualize correlations between each individual numeric feature (on x axes) and average electricity consumption (y axis of each diagram)"
   ]
  },
  {
   "cell_type": "code",
   "execution_count": null,
   "id": "ac09a09a",
   "metadata": {},
   "outputs": [],
   "source": [
    "numerics = ['int16', 'int32', 'int64', 'float16', 'float32', 'float64']\n",
    "df_num = df.select_dtypes(include=numerics).drop('Codering_3', axis = 1)"
   ]
  },
  {
   "cell_type": "code",
   "execution_count": null,
   "id": "578e2b65",
   "metadata": {},
   "outputs": [],
   "source": [
    "# after the notebook Pima Indians Diabetes © 2020 by Laurence Frank and Daniel Kapitan. \n",
    "# https://jakevdp.github.io/PythonDataScienceHandbook/04.08-multiple-subplots.html \n",
    "# fig, ax = plt.subplots(5, 4, figsize=(15,15), sharey=True, gridspec_kw={'hspace': 0.3})\n",
    "# print('num columns', df_num.columns)\n",
    "# for i, col in enumerate(df_num.columns):\n",
    "#     # print(i//4, i%4)\n",
    "#     _ax=ax[i // 4, i % 4]\n",
    "#     sns.scatterplot(x=col, y='GemiddeldElektriciteitsverbruikTotaal_47', data=df_num, ax=_ax)"
   ]
  },
  {
   "cell_type": "markdown",
   "id": "f648bbc5",
   "metadata": {},
   "source": [
    "Finally, we write the dataset to a csv file, so that it can be used as input file in next stages of analysis."
   ]
  },
  {
   "cell_type": "code",
   "execution_count": null,
   "id": "cf00fe80",
   "metadata": {},
   "outputs": [],
   "source": [
    "# test to see if it works\n",
    "# dg = df.loc[:,['WijkenEnBuurten','Codering_3','HuishoudensTotaal_28']]\n",
    "# dg.to_csv(path_or_buf = 'test_CBS_dataset_' + selected_dataset + '.csv', index = False)"
   ]
  },
  {
   "cell_type": "code",
   "execution_count": null,
   "id": "077db233",
   "metadata": {},
   "outputs": [],
   "source": [
    "df.to_csv(path_or_buf = 'CBS_dataset_' + selected_dataset + '.csv', decimal=',', sep=';', index = False)"
   ]
  },
  {
   "cell_type": "code",
   "execution_count": null,
   "id": "203d5fa3",
   "metadata": {},
   "outputs": [],
   "source": [
    "#nbconvert.PDFExporter('Enexis CBS data EDA v1')"
   ]
  }
 ],
 "metadata": {
  "kernelspec": {
   "display_name": "Python 3",
   "language": "python",
   "name": "python3"
  },
  "language_info": {
   "codemirror_mode": {
    "name": "ipython",
    "version": 3
   },
   "file_extension": ".py",
   "mimetype": "text/x-python",
   "name": "python",
   "nbconvert_exporter": "python",
   "pygments_lexer": "ipython3",
   "version": "3.9.7"
  }
 },
 "nbformat": 4,
 "nbformat_minor": 5
}
