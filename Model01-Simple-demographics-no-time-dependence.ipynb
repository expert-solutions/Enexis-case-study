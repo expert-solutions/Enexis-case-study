{
 "cells": [
  {
   "cell_type": "markdown",
   "metadata": {},
   "source": [
    "### Basic model:\n",
    "Features: Income, Household composition, Property type\n",
    "Predict installed pV (aggregation level: buurt, no time dependency) "
   ]
  },
  {
   "cell_type": "markdown",
   "metadata": {},
   "source": [
    "Income: CBS data '84799NED' (Kerncijfers wijken en buurten 2020)"
   ]
  },
  {
   "cell_type": "code",
   "execution_count": 1,
   "metadata": {},
   "outputs": [],
   "source": [
    "# pip install cbsodata"
   ]
  },
  {
   "cell_type": "code",
   "execution_count": 2,
   "metadata": {},
   "outputs": [],
   "source": [
    "import cbsodata\n",
    "import pandas as pd\n",
    "import seaborn as sns\n",
    "import matplotlib.pyplot as plt"
   ]
  },
  {
   "cell_type": "code",
   "execution_count": 3,
   "metadata": {},
   "outputs": [],
   "source": [
    "#Read in (Kerncijfers wijken en buurten 2020\n",
    "kerncijfers_2020 = '84799NED'\n",
    "df_kerncijfers = pd.DataFrame(cbsodata.get_data(kerncijfers_2020))"
   ]
  },
  {
   "cell_type": "markdown",
   "metadata": {},
   "source": [
    "Remove unusable items"
   ]
  },
  {
   "cell_type": "code",
   "execution_count": 4,
   "metadata": {},
   "outputs": [],
   "source": [
    "df_kerncijfers = df_kerncijfers[df_kerncijfers['Codering_3'].isna() == False]"
   ]
  },
  {
   "cell_type": "markdown",
   "metadata": {},
   "source": [
    "Keep only the data on Buurt level"
   ]
  },
  {
   "cell_type": "code",
   "execution_count": 5,
   "metadata": {},
   "outputs": [],
   "source": [
    "#remove whitespaces from beginning and end of string column labels\n",
    "df_kerncijfers = df_kerncijfers.apply(lambda x: x.str.strip() if x.dtype == \"object\" else x)\n",
    "\n",
    "is_buurt = df_kerncijfers['SoortRegio_2']=='Buurt'\n",
    "df_kerncijfers = df_kerncijfers[is_buurt]"
   ]
  },
  {
   "cell_type": "markdown",
   "metadata": {},
   "source": [
    "### Feature #1 - Income"
   ]
  },
  {
   "cell_type": "markdown",
   "metadata": {},
   "source": [
    "Take a look at the number of buurten where the incomes are unknown"
   ]
  },
  {
   "cell_type": "code",
   "execution_count": 6,
   "metadata": {},
   "outputs": [
    {
     "name": "stdout",
     "output_type": "stream",
     "text": [
      "Income not specified in: 22 % of the buurten. Removing these entries.\n"
     ]
    }
   ],
   "source": [
    "fraction_unfilled_incomes = df_kerncijfers['GemiddeldInkomenPerInwoner_72'].isna().sum()/ df_kerncijfers['GemiddeldInkomenPerInwoner_72'].sum() *100\n",
    "print(\"Income not specified in: %.0f\" % fraction_unfilled_incomes, \"% of the buurten. Removing these entries.\")"
   ]
  },
  {
   "cell_type": "code",
   "execution_count": 7,
   "metadata": {},
   "outputs": [
    {
     "data": {
      "text/plain": [
       "<AxesSubplot:>"
      ]
     },
     "execution_count": 7,
     "metadata": {},
     "output_type": "execute_result"
    },
    {
     "data": {
      "image/png": "[encoded data removed]",
      "text/plain": [
       "<Figure size 576x432 with 1 Axes>"
      ]
     },
     "metadata": {
      "needs_background": "light"
     },
     "output_type": "display_data"
    }
   ],
   "source": [
    "cutoff_income = 60\n",
    "df_kerncijfers = df_kerncijfers[(df_kerncijfers['GemiddeldInkomenPerInwoner_72'].isna() == False)]\n",
    "\n",
    "df_income_specified = df_kerncijfers[df_kerncijfers['GemiddeldInkomenPerInwoner_72'] < cutoff_income]\n",
    "df_income_specified['GemiddeldInkomenPerInwoner_72'].hist(bins=54, figsize=(8, 6))"
   ]
  },
  {
   "cell_type": "markdown",
   "metadata": {},
   "source": [
    "### Feature #2 - Household composition"
   ]
  },
  {
   "cell_type": "code",
   "execution_count": 8,
   "metadata": {},
   "outputs": [
    {
     "name": "stdout",
     "output_type": "stream",
     "text": [
      "Average size of household not specified in: 0 % of the buurten. Removing these entries.\n"
     ]
    }
   ],
   "source": [
    "fraction_unfilled_huishoudensgroottes = df_kerncijfers['GemiddeldeHuishoudensgrootte_32'].isna().sum()/ df_kerncijfers['GemiddeldeHuishoudensgrootte_32'].sum() *100\n",
    "\n",
    "print(\"Average size of household not specified in: %.0f\" % fraction_unfilled_huishoudensgroottes, \"% of the buurten. Removing these entries.\")"
   ]
  },
  {
   "cell_type": "code",
   "execution_count": 9,
   "metadata": {},
   "outputs": [
    {
     "data": {
      "text/plain": [
       "<AxesSubplot:>"
      ]
     },
     "execution_count": 9,
     "metadata": {},
     "output_type": "execute_result"
    },
    {
     "data": {
      "image/png": "[encoded data removed]",
      "text/plain": [
       "<Figure size 576x432 with 1 Axes>"
      ]
     },
     "metadata": {
      "needs_background": "light"
     },
     "output_type": "display_data"
    }
   ],
   "source": [
    "cut_off_household_size = 5\n",
    "df_kerncijfers = df_kerncijfers[df_kerncijfers['GemiddeldeHuishoudensgrootte_32'].isna() == False]\n",
    "\n",
    "df_average_household_size_specified = df_kerncijfers[df_kerncijfers['GemiddeldeHuishoudensgrootte_32']<cut_off_household_size]\n",
    "df_average_household_size_specified['GemiddeldeHuishoudensgrootte_32'].hist(bins=140, figsize=(8, 6))"
   ]
  },
  {
   "cell_type": "markdown",
   "metadata": {},
   "source": [
    "### Feature #3 - Percentage owned property (koopwoningen)"
   ]
  },
  {
   "cell_type": "code",
   "execution_count": 10,
   "metadata": {},
   "outputs": [
    {
     "name": "stdout",
     "output_type": "stream",
     "text": [
      "Average percentage of owned properties not specified in: 0 % of the buurten.\n"
     ]
    }
   ],
   "source": [
    "fraction_unfilled_owned_property_percentage = df_kerncijfers['Koopwoningen_40'].isna().sum()/ df_kerncijfers['Koopwoningen_40'].sum() *100\n",
    "\n",
    "print(\"Average percentage of owned properties not specified in: %.0f\" % fraction_unfilled_owned_property_percentage, \"% of the buurten.\")\n"
   ]
  },
  {
   "cell_type": "markdown",
   "metadata": {},
   "source": [
    "Remove the 'BU' from the buurtcode and rename the column name so we can combine the datasets later"
   ]
  },
  {
   "cell_type": "code",
   "execution_count": 11,
   "metadata": {},
   "outputs": [
    {
     "name": "stdout",
     "output_type": "stream",
     "text": [
      "Number of buurten that don't start with 'BU':  0\n"
     ]
    }
   ],
   "source": [
    "has_buurtcode_starting_with_BU = df_kerncijfers['Codering_3'].str.find('BU') == 0\n",
    "buurtcodes_without_leading_BU = df_kerncijfers[has_buurtcode_starting_with_BU == False]\n",
    "print(\"Number of buurten that don't start with 'BU': \", len(buurtcodes_without_leading_BU))\n",
    "\n",
    "df_kerncijfers['CBS Buurtcode'] = pd.to_numeric(df_kerncijfers['Codering_3'].apply(lambda s:s.replace(\"BU\",\"\")))"
   ]
  },
  {
   "cell_type": "code",
   "execution_count": 12,
   "metadata": {},
   "outputs": [
    {
     "name": "stdout",
     "output_type": "stream",
     "text": [
      "Duplicate buurtcodes: 0\n"
     ]
    },
    {
     "data": {
      "text/html": [
       "<div>\n",
       "<style scoped>\n",
       "    .dataframe tbody tr th:only-of-type {\n",
       "        vertical-align: middle;\n",
       "    }\n",
       "\n",
       "    .dataframe tbody tr th {\n",
       "        vertical-align: top;\n",
       "    }\n",
       "\n",
       "    .dataframe thead th {\n",
       "        text-align: right;\n",
       "    }\n",
       "</style>\n",
       "<table border=\"1\" class=\"dataframe\">\n",
       "  <thead>\n",
       "    <tr style=\"text-align: right;\">\n",
       "      <th></th>\n",
       "      <th>ID</th>\n",
       "      <th>WijkenEnBuurten</th>\n",
       "      <th>Gemeentenaam_1</th>\n",
       "      <th>SoortRegio_2</th>\n",
       "      <th>Codering_3</th>\n",
       "      <th>IndelingswijzigingWijkenEnBuurten_4</th>\n",
       "      <th>AantalInwoners_5</th>\n",
       "      <th>Mannen_6</th>\n",
       "      <th>Vrouwen_7</th>\n",
       "      <th>k_0Tot15Jaar_8</th>\n",
       "      <th>...</th>\n",
       "      <th>AfstandTotSchool_108</th>\n",
       "      <th>ScholenBinnen3Km_109</th>\n",
       "      <th>OppervlakteTotaal_110</th>\n",
       "      <th>OppervlakteLand_111</th>\n",
       "      <th>OppervlakteWater_112</th>\n",
       "      <th>MeestVoorkomendePostcode_113</th>\n",
       "      <th>Dekkingspercentage_114</th>\n",
       "      <th>MateVanStedelijkheid_115</th>\n",
       "      <th>Omgevingsadressendichtheid_116</th>\n",
       "      <th>CBS Buurtcode</th>\n",
       "    </tr>\n",
       "  </thead>\n",
       "  <tbody>\n",
       "    <tr>\n",
       "      <th>3</th>\n",
       "      <td>3</td>\n",
       "      <td>Annen</td>\n",
       "      <td>Aa en Hunze</td>\n",
       "      <td>Buurt</td>\n",
       "      <td>BU16800000</td>\n",
       "      <td>1</td>\n",
       "      <td>3460</td>\n",
       "      <td>1685</td>\n",
       "      <td>1775</td>\n",
       "      <td>540</td>\n",
       "      <td>...</td>\n",
       "      <td>0.8</td>\n",
       "      <td>2.6</td>\n",
       "      <td>252</td>\n",
       "      <td>252</td>\n",
       "      <td>0</td>\n",
       "      <td>9468</td>\n",
       "      <td>1.0</td>\n",
       "      <td>5.0</td>\n",
       "      <td>411.0</td>\n",
       "      <td>16800000</td>\n",
       "    </tr>\n",
       "    <tr>\n",
       "      <th>54</th>\n",
       "      <td>54</td>\n",
       "      <td>Gieten</td>\n",
       "      <td>Aa en Hunze</td>\n",
       "      <td>Buurt</td>\n",
       "      <td>BU16801700</td>\n",
       "      <td>1</td>\n",
       "      <td>4885</td>\n",
       "      <td>2360</td>\n",
       "      <td>2525</td>\n",
       "      <td>675</td>\n",
       "      <td>...</td>\n",
       "      <td>0.7</td>\n",
       "      <td>3.0</td>\n",
       "      <td>407</td>\n",
       "      <td>407</td>\n",
       "      <td>0</td>\n",
       "      <td>9461</td>\n",
       "      <td>1.0</td>\n",
       "      <td>4.0</td>\n",
       "      <td>520.0</td>\n",
       "      <td>16801700</td>\n",
       "    </tr>\n",
       "    <tr>\n",
       "      <th>62</th>\n",
       "      <td>62</td>\n",
       "      <td>Rolde</td>\n",
       "      <td>Aa en Hunze</td>\n",
       "      <td>Buurt</td>\n",
       "      <td>BU16801900</td>\n",
       "      <td>1</td>\n",
       "      <td>3770</td>\n",
       "      <td>1840</td>\n",
       "      <td>1930</td>\n",
       "      <td>470</td>\n",
       "      <td>...</td>\n",
       "      <td>0.9</td>\n",
       "      <td>1.0</td>\n",
       "      <td>333</td>\n",
       "      <td>333</td>\n",
       "      <td>0</td>\n",
       "      <td>9451</td>\n",
       "      <td>1.0</td>\n",
       "      <td>5.0</td>\n",
       "      <td>451.0</td>\n",
       "      <td>16801900</td>\n",
       "    </tr>\n",
       "    <tr>\n",
       "      <th>79</th>\n",
       "      <td>79</td>\n",
       "      <td>Centrum</td>\n",
       "      <td>Aalsmeer</td>\n",
       "      <td>Buurt</td>\n",
       "      <td>BU03580000</td>\n",
       "      <td>1</td>\n",
       "      <td>2785</td>\n",
       "      <td>1335</td>\n",
       "      <td>1445</td>\n",
       "      <td>365</td>\n",
       "      <td>...</td>\n",
       "      <td>0.5</td>\n",
       "      <td>3.0</td>\n",
       "      <td>61</td>\n",
       "      <td>54</td>\n",
       "      <td>7</td>\n",
       "      <td>1431</td>\n",
       "      <td>1.0</td>\n",
       "      <td>3.0</td>\n",
       "      <td>1070.0</td>\n",
       "      <td>3580000</td>\n",
       "    </tr>\n",
       "    <tr>\n",
       "      <th>80</th>\n",
       "      <td>80</td>\n",
       "      <td>Stommeer</td>\n",
       "      <td>Aalsmeer</td>\n",
       "      <td>Buurt</td>\n",
       "      <td>BU03580001</td>\n",
       "      <td>1</td>\n",
       "      <td>6535</td>\n",
       "      <td>3175</td>\n",
       "      <td>3360</td>\n",
       "      <td>955</td>\n",
       "      <td>...</td>\n",
       "      <td>0.8</td>\n",
       "      <td>3.2</td>\n",
       "      <td>192</td>\n",
       "      <td>184</td>\n",
       "      <td>8</td>\n",
       "      <td>1431</td>\n",
       "      <td>1.0</td>\n",
       "      <td>3.0</td>\n",
       "      <td>1205.0</td>\n",
       "      <td>3580001</td>\n",
       "    </tr>\n",
       "    <tr>\n",
       "      <th>...</th>\n",
       "      <td>...</td>\n",
       "      <td>...</td>\n",
       "      <td>...</td>\n",
       "      <td>...</td>\n",
       "      <td>...</td>\n",
       "      <td>...</td>\n",
       "      <td>...</td>\n",
       "      <td>...</td>\n",
       "      <td>...</td>\n",
       "      <td>...</td>\n",
       "      <td>...</td>\n",
       "      <td>...</td>\n",
       "      <td>...</td>\n",
       "      <td>...</td>\n",
       "      <td>...</td>\n",
       "      <td>...</td>\n",
       "      <td>...</td>\n",
       "      <td>...</td>\n",
       "      <td>...</td>\n",
       "      <td>...</td>\n",
       "      <td>...</td>\n",
       "    </tr>\n",
       "    <tr>\n",
       "      <th>17324</th>\n",
       "      <td>17324</td>\n",
       "      <td>Schellerlanden</td>\n",
       "      <td>Zwolle</td>\n",
       "      <td>Buurt</td>\n",
       "      <td>BU01935030</td>\n",
       "      <td>1</td>\n",
       "      <td>2610</td>\n",
       "      <td>1260</td>\n",
       "      <td>1345</td>\n",
       "      <td>355</td>\n",
       "      <td>...</td>\n",
       "      <td>0.3</td>\n",
       "      <td>13.3</td>\n",
       "      <td>74</td>\n",
       "      <td>72</td>\n",
       "      <td>2</td>\n",
       "      <td>8017</td>\n",
       "      <td>3.0</td>\n",
       "      <td>2.0</td>\n",
       "      <td>1687.0</td>\n",
       "      <td>1935030</td>\n",
       "    </tr>\n",
       "    <tr>\n",
       "      <th>17327</th>\n",
       "      <td>17327</td>\n",
       "      <td>Oldenelerbroek</td>\n",
       "      <td>Zwolle</td>\n",
       "      <td>Buurt</td>\n",
       "      <td>BU01935060</td>\n",
       "      <td>1</td>\n",
       "      <td>3305</td>\n",
       "      <td>1610</td>\n",
       "      <td>1695</td>\n",
       "      <td>500</td>\n",
       "      <td>...</td>\n",
       "      <td>0.6</td>\n",
       "      <td>11.9</td>\n",
       "      <td>80</td>\n",
       "      <td>76</td>\n",
       "      <td>4</td>\n",
       "      <td>8016</td>\n",
       "      <td>1.0</td>\n",
       "      <td>3.0</td>\n",
       "      <td>1491.0</td>\n",
       "      <td>1935060</td>\n",
       "    </tr>\n",
       "    <tr>\n",
       "      <th>17332</th>\n",
       "      <td>17332</td>\n",
       "      <td>Ittersumerlanden</td>\n",
       "      <td>Zwolle</td>\n",
       "      <td>Buurt</td>\n",
       "      <td>BU01935110</td>\n",
       "      <td>1</td>\n",
       "      <td>3860</td>\n",
       "      <td>1830</td>\n",
       "      <td>2025</td>\n",
       "      <td>615</td>\n",
       "      <td>...</td>\n",
       "      <td>0.6</td>\n",
       "      <td>11.7</td>\n",
       "      <td>50</td>\n",
       "      <td>48</td>\n",
       "      <td>2</td>\n",
       "      <td>8014</td>\n",
       "      <td>1.0</td>\n",
       "      <td>2.0</td>\n",
       "      <td>2063.0</td>\n",
       "      <td>1935110</td>\n",
       "    </tr>\n",
       "    <tr>\n",
       "      <th>17335</th>\n",
       "      <td>17335</td>\n",
       "      <td>Gerenlanden</td>\n",
       "      <td>Zwolle</td>\n",
       "      <td>Buurt</td>\n",
       "      <td>BU01935140</td>\n",
       "      <td>1</td>\n",
       "      <td>3065</td>\n",
       "      <td>1520</td>\n",
       "      <td>1545</td>\n",
       "      <td>575</td>\n",
       "      <td>...</td>\n",
       "      <td>0.5</td>\n",
       "      <td>12.1</td>\n",
       "      <td>58</td>\n",
       "      <td>55</td>\n",
       "      <td>2</td>\n",
       "      <td>8014</td>\n",
       "      <td>1.0</td>\n",
       "      <td>2.0</td>\n",
       "      <td>1940.0</td>\n",
       "      <td>1935140</td>\n",
       "    </tr>\n",
       "    <tr>\n",
       "      <th>17336</th>\n",
       "      <td>17336</td>\n",
       "      <td>Gerenbroek</td>\n",
       "      <td>Zwolle</td>\n",
       "      <td>Buurt</td>\n",
       "      <td>BU01935150</td>\n",
       "      <td>1</td>\n",
       "      <td>3095</td>\n",
       "      <td>1565</td>\n",
       "      <td>1530</td>\n",
       "      <td>610</td>\n",
       "      <td>...</td>\n",
       "      <td>0.5</td>\n",
       "      <td>11.7</td>\n",
       "      <td>49</td>\n",
       "      <td>47</td>\n",
       "      <td>2</td>\n",
       "      <td>8014</td>\n",
       "      <td>1.0</td>\n",
       "      <td>2.0</td>\n",
       "      <td>1588.0</td>\n",
       "      <td>1935150</td>\n",
       "    </tr>\n",
       "  </tbody>\n",
       "</table>\n",
       "<p>1979 rows × 119 columns</p>\n",
       "</div>"
      ],
      "text/plain": [
       "          ID   WijkenEnBuurten Gemeentenaam_1 SoortRegio_2  Codering_3  \\\n",
       "3          3             Annen    Aa en Hunze        Buurt  BU16800000   \n",
       "54        54            Gieten    Aa en Hunze        Buurt  BU16801700   \n",
       "62        62             Rolde    Aa en Hunze        Buurt  BU16801900   \n",
       "79        79           Centrum       Aalsmeer        Buurt  BU03580000   \n",
       "80        80          Stommeer       Aalsmeer        Buurt  BU03580001   \n",
       "...      ...               ...            ...          ...         ...   \n",
       "17324  17324    Schellerlanden         Zwolle        Buurt  BU01935030   \n",
       "17327  17327    Oldenelerbroek         Zwolle        Buurt  BU01935060   \n",
       "17332  17332  Ittersumerlanden         Zwolle        Buurt  BU01935110   \n",
       "17335  17335       Gerenlanden         Zwolle        Buurt  BU01935140   \n",
       "17336  17336        Gerenbroek         Zwolle        Buurt  BU01935150   \n",
       "\n",
       "      IndelingswijzigingWijkenEnBuurten_4  AantalInwoners_5  Mannen_6  \\\n",
       "3                                       1              3460      1685   \n",
       "54                                      1              4885      2360   \n",
       "62                                      1              3770      1840   \n",
       "79                                      1              2785      1335   \n",
       "80                                      1              6535      3175   \n",
       "...                                   ...               ...       ...   \n",
       "17324                                   1              2610      1260   \n",
       "17327                                   1              3305      1610   \n",
       "17332                                   1              3860      1830   \n",
       "17335                                   1              3065      1520   \n",
       "17336                                   1              3095      1565   \n",
       "\n",
       "       Vrouwen_7  k_0Tot15Jaar_8  ...  AfstandTotSchool_108  \\\n",
       "3           1775             540  ...                   0.8   \n",
       "54          2525             675  ...                   0.7   \n",
       "62          1930             470  ...                   0.9   \n",
       "79          1445             365  ...                   0.5   \n",
       "80          3360             955  ...                   0.8   \n",
       "...          ...             ...  ...                   ...   \n",
       "17324       1345             355  ...                   0.3   \n",
       "17327       1695             500  ...                   0.6   \n",
       "17332       2025             615  ...                   0.6   \n",
       "17335       1545             575  ...                   0.5   \n",
       "17336       1530             610  ...                   0.5   \n",
       "\n",
       "       ScholenBinnen3Km_109  OppervlakteTotaal_110  OppervlakteLand_111  \\\n",
       "3                       2.6                    252                  252   \n",
       "54                      3.0                    407                  407   \n",
       "62                      1.0                    333                  333   \n",
       "79                      3.0                     61                   54   \n",
       "80                      3.2                    192                  184   \n",
       "...                     ...                    ...                  ...   \n",
       "17324                  13.3                     74                   72   \n",
       "17327                  11.9                     80                   76   \n",
       "17332                  11.7                     50                   48   \n",
       "17335                  12.1                     58                   55   \n",
       "17336                  11.7                     49                   47   \n",
       "\n",
       "       OppervlakteWater_112  MeestVoorkomendePostcode_113  \\\n",
       "3                         0                          9468   \n",
       "54                        0                          9461   \n",
       "62                        0                          9451   \n",
       "79                        7                          1431   \n",
       "80                        8                          1431   \n",
       "...                     ...                           ...   \n",
       "17324                     2                          8017   \n",
       "17327                     4                          8016   \n",
       "17332                     2                          8014   \n",
       "17335                     2                          8014   \n",
       "17336                     2                          8014   \n",
       "\n",
       "       Dekkingspercentage_114  MateVanStedelijkheid_115  \\\n",
       "3                         1.0                       5.0   \n",
       "54                        1.0                       4.0   \n",
       "62                        1.0                       5.0   \n",
       "79                        1.0                       3.0   \n",
       "80                        1.0                       3.0   \n",
       "...                       ...                       ...   \n",
       "17324                     3.0                       2.0   \n",
       "17327                     1.0                       3.0   \n",
       "17332                     1.0                       2.0   \n",
       "17335                     1.0                       2.0   \n",
       "17336                     1.0                       2.0   \n",
       "\n",
       "       Omgevingsadressendichtheid_116  CBS Buurtcode  \n",
       "3                               411.0       16800000  \n",
       "54                              520.0       16801700  \n",
       "62                              451.0       16801900  \n",
       "79                             1070.0        3580000  \n",
       "80                             1205.0        3580001  \n",
       "...                               ...            ...  \n",
       "17324                          1687.0        1935030  \n",
       "17327                          1491.0        1935060  \n",
       "17332                          2063.0        1935110  \n",
       "17335                          1940.0        1935140  \n",
       "17336                          1588.0        1935150  \n",
       "\n",
       "[1979 rows x 119 columns]"
      ]
     },
     "execution_count": 12,
     "metadata": {},
     "output_type": "execute_result"
    }
   ],
   "source": [
    "print(\"Duplicate buurtcodes: %.0f\" % df_kerncijfers.duplicated(['CBS Buurtcode']).sum())\n",
    "df_kerncijfers.astype({\"CBS Buurtcode\" : int})"
   ]
  },
  {
   "cell_type": "markdown",
   "metadata": {},
   "source": [
    "## Target variable - opgesteld vermogen"
   ]
  },
  {
   "cell_type": "markdown",
   "metadata": {},
   "source": [
    "Load the data from the Enexis supplied data file."
   ]
  },
  {
   "cell_type": "code",
   "execution_count": 13,
   "metadata": {},
   "outputs": [],
   "source": [
    "decentral_generation_072020 = './data/Enexis_decentrale_opwek_kv_(zon_pv)_01072020.csv'\n",
    "df_decentral_generation = pd.read_csv(decentral_generation_072020,\n",
    "                         sep                = ';',\n",
    "                         decimal            = ',',\n",
    "                         thousands          = '.',\n",
    "                         encoding           = 'unicode_escape')        "
   ]
  },
  {
   "cell_type": "markdown",
   "metadata": {},
   "source": [
    "Remove empty items"
   ]
  },
  {
   "cell_type": "code",
   "execution_count": 14,
   "metadata": {},
   "outputs": [],
   "source": [
    "df_decentral_generation = df_decentral_generation[df_decentral_generation['Opgesteld vermogen'].isna() == False]\n",
    "df_decentral_generation = df_decentral_generation[df_decentral_generation['CBS Buurtcode'].isna() == False]"
   ]
  },
  {
   "cell_type": "code",
   "execution_count": 15,
   "metadata": {},
   "outputs": [
    {
     "data": {
      "text/plain": [
       "<AxesSubplot:>"
      ]
     },
     "execution_count": 15,
     "metadata": {},
     "output_type": "execute_result"
    },
    {
     "data": {
      "image/png": "[encoded data removed]",
      "text/plain": [
       "<Figure size 576x432 with 1 Axes>"
      ]
     },
     "metadata": {
      "needs_background": "light"
     },
     "output_type": "display_data"
    }
   ],
   "source": [
    "cut_off_generation = 3000\n",
    "\n",
    "df_decentral_generation_specified = df_decentral_generation[df_decentral_generation['Opgesteld vermogen'] < cut_off_generation]\n",
    "df_decentral_generation_specified['Opgesteld vermogen'].hist(bins=53, figsize=(8, 6))"
   ]
  },
  {
   "cell_type": "code",
   "execution_count": 16,
   "metadata": {},
   "outputs": [
    {
     "name": "stdout",
     "output_type": "stream",
     "text": [
      "Duplicate buurtcodes: 0\n"
     ]
    },
    {
     "data": {
      "text/html": [
       "<div>\n",
       "<style scoped>\n",
       "    .dataframe tbody tr th:only-of-type {\n",
       "        vertical-align: middle;\n",
       "    }\n",
       "\n",
       "    .dataframe tbody tr th {\n",
       "        vertical-align: top;\n",
       "    }\n",
       "\n",
       "    .dataframe thead th {\n",
       "        text-align: right;\n",
       "    }\n",
       "</style>\n",
       "<table border=\"1\" class=\"dataframe\">\n",
       "  <thead>\n",
       "    <tr style=\"text-align: right;\">\n",
       "      <th></th>\n",
       "      <th>ï»¿Peildatum</th>\n",
       "      <th>Netbeheerder</th>\n",
       "      <th>Provincie</th>\n",
       "      <th>Gemeente</th>\n",
       "      <th>CBS Buurt</th>\n",
       "      <th>CBS Buurtcode</th>\n",
       "      <th>Aantal aansluitingen in CBS-buurt</th>\n",
       "      <th>Aantal aansluitingen met opwekinstallatie</th>\n",
       "      <th>Opgesteld vermogen</th>\n",
       "    </tr>\n",
       "  </thead>\n",
       "  <tbody>\n",
       "    <tr>\n",
       "      <th>0</th>\n",
       "      <td>202007.0</td>\n",
       "      <td>Enexis</td>\n",
       "      <td>Drenthe</td>\n",
       "      <td>Aa en Hunze</td>\n",
       "      <td>Annen</td>\n",
       "      <td>16800000</td>\n",
       "      <td>1491.0</td>\n",
       "      <td>447.0</td>\n",
       "      <td>1866.0</td>\n",
       "    </tr>\n",
       "    <tr>\n",
       "      <th>1</th>\n",
       "      <td>202007.0</td>\n",
       "      <td>Enexis</td>\n",
       "      <td>Drenthe</td>\n",
       "      <td>Aa en Hunze</td>\n",
       "      <td>Verspreide huizen Annen</td>\n",
       "      <td>16800009</td>\n",
       "      <td>116.0</td>\n",
       "      <td>29.0</td>\n",
       "      <td>243.0</td>\n",
       "    </tr>\n",
       "    <tr>\n",
       "      <th>2</th>\n",
       "      <td>202007.0</td>\n",
       "      <td>Enexis</td>\n",
       "      <td>Drenthe</td>\n",
       "      <td>Aa en Hunze</td>\n",
       "      <td>Eext</td>\n",
       "      <td>16800100</td>\n",
       "      <td>559.0</td>\n",
       "      <td>143.0</td>\n",
       "      <td>565.0</td>\n",
       "    </tr>\n",
       "    <tr>\n",
       "      <th>3</th>\n",
       "      <td>202007.0</td>\n",
       "      <td>Enexis</td>\n",
       "      <td>Drenthe</td>\n",
       "      <td>Aa en Hunze</td>\n",
       "      <td>Verspreide huizen Eext</td>\n",
       "      <td>16800109</td>\n",
       "      <td>127.0</td>\n",
       "      <td>24.0</td>\n",
       "      <td>150.0</td>\n",
       "    </tr>\n",
       "    <tr>\n",
       "      <th>4</th>\n",
       "      <td>202007.0</td>\n",
       "      <td>Enexis</td>\n",
       "      <td>Drenthe</td>\n",
       "      <td>Aa en Hunze</td>\n",
       "      <td>Anloo</td>\n",
       "      <td>16800200</td>\n",
       "      <td>127.0</td>\n",
       "      <td>29.0</td>\n",
       "      <td>129.0</td>\n",
       "    </tr>\n",
       "    <tr>\n",
       "      <th>...</th>\n",
       "      <td>...</td>\n",
       "      <td>...</td>\n",
       "      <td>...</td>\n",
       "      <td>...</td>\n",
       "      <td>...</td>\n",
       "      <td>...</td>\n",
       "      <td>...</td>\n",
       "      <td>...</td>\n",
       "      <td>...</td>\n",
       "    </tr>\n",
       "    <tr>\n",
       "      <th>4070</th>\n",
       "      <td>202007.0</td>\n",
       "      <td>Enexis</td>\n",
       "      <td>Overijssel</td>\n",
       "      <td>Zwolle</td>\n",
       "      <td>Gerenlanden</td>\n",
       "      <td>1935140</td>\n",
       "      <td>1218.0</td>\n",
       "      <td>323.0</td>\n",
       "      <td>992.0</td>\n",
       "    </tr>\n",
       "    <tr>\n",
       "      <th>4071</th>\n",
       "      <td>202007.0</td>\n",
       "      <td>Enexis</td>\n",
       "      <td>Overijssel</td>\n",
       "      <td>Zwolle</td>\n",
       "      <td>Gerenbroek</td>\n",
       "      <td>1935150</td>\n",
       "      <td>1217.0</td>\n",
       "      <td>315.0</td>\n",
       "      <td>949.0</td>\n",
       "    </tr>\n",
       "    <tr>\n",
       "      <th>4072</th>\n",
       "      <td>202007.0</td>\n",
       "      <td>Enexis</td>\n",
       "      <td>Overijssel</td>\n",
       "      <td>Zwolle</td>\n",
       "      <td>Oude Mars</td>\n",
       "      <td>1935160</td>\n",
       "      <td>59.0</td>\n",
       "      <td>19.0</td>\n",
       "      <td>127.0</td>\n",
       "    </tr>\n",
       "    <tr>\n",
       "      <th>4073</th>\n",
       "      <td>202007.0</td>\n",
       "      <td>Enexis</td>\n",
       "      <td>Overijssel</td>\n",
       "      <td>Zwolle</td>\n",
       "      <td>Windesheim</td>\n",
       "      <td>1935200</td>\n",
       "      <td>143.0</td>\n",
       "      <td>34.0</td>\n",
       "      <td>165.0</td>\n",
       "    </tr>\n",
       "    <tr>\n",
       "      <th>4074</th>\n",
       "      <td>202007.0</td>\n",
       "      <td>Enexis</td>\n",
       "      <td>Overijssel</td>\n",
       "      <td>Zwolle</td>\n",
       "      <td>Harculo en Hoogzutmen</td>\n",
       "      <td>1935210</td>\n",
       "      <td>261.0</td>\n",
       "      <td>65.0</td>\n",
       "      <td>490.0</td>\n",
       "    </tr>\n",
       "  </tbody>\n",
       "</table>\n",
       "<p>3946 rows × 9 columns</p>\n",
       "</div>"
      ],
      "text/plain": [
       "      ï»¿Peildatum Netbeheerder   Provincie     Gemeente  \\\n",
       "0         202007.0       Enexis     Drenthe  Aa en Hunze   \n",
       "1         202007.0       Enexis     Drenthe  Aa en Hunze   \n",
       "2         202007.0       Enexis     Drenthe  Aa en Hunze   \n",
       "3         202007.0       Enexis     Drenthe  Aa en Hunze   \n",
       "4         202007.0       Enexis     Drenthe  Aa en Hunze   \n",
       "...            ...          ...         ...          ...   \n",
       "4070      202007.0       Enexis  Overijssel       Zwolle   \n",
       "4071      202007.0       Enexis  Overijssel       Zwolle   \n",
       "4072      202007.0       Enexis  Overijssel       Zwolle   \n",
       "4073      202007.0       Enexis  Overijssel       Zwolle   \n",
       "4074      202007.0       Enexis  Overijssel       Zwolle   \n",
       "\n",
       "                    CBS Buurt  CBS Buurtcode  \\\n",
       "0                       Annen       16800000   \n",
       "1     Verspreide huizen Annen       16800009   \n",
       "2                        Eext       16800100   \n",
       "3      Verspreide huizen Eext       16800109   \n",
       "4                       Anloo       16800200   \n",
       "...                       ...            ...   \n",
       "4070              Gerenlanden        1935140   \n",
       "4071               Gerenbroek        1935150   \n",
       "4072                Oude Mars        1935160   \n",
       "4073               Windesheim        1935200   \n",
       "4074    Harculo en Hoogzutmen        1935210   \n",
       "\n",
       "      Aantal aansluitingen in CBS-buurt   \\\n",
       "0                                 1491.0   \n",
       "1                                  116.0   \n",
       "2                                  559.0   \n",
       "3                                  127.0   \n",
       "4                                  127.0   \n",
       "...                                  ...   \n",
       "4070                              1218.0   \n",
       "4071                              1217.0   \n",
       "4072                                59.0   \n",
       "4073                               143.0   \n",
       "4074                               261.0   \n",
       "\n",
       "      Aantal aansluitingen met opwekinstallatie  Opgesteld vermogen  \n",
       "0                                         447.0              1866.0  \n",
       "1                                          29.0               243.0  \n",
       "2                                         143.0               565.0  \n",
       "3                                          24.0               150.0  \n",
       "4                                          29.0               129.0  \n",
       "...                                         ...                 ...  \n",
       "4070                                      323.0               992.0  \n",
       "4071                                      315.0               949.0  \n",
       "4072                                       19.0               127.0  \n",
       "4073                                       34.0               165.0  \n",
       "4074                                       65.0               490.0  \n",
       "\n",
       "[3946 rows x 9 columns]"
      ]
     },
     "execution_count": 16,
     "metadata": {},
     "output_type": "execute_result"
    }
   ],
   "source": [
    "print(\"Duplicate buurtcodes: %.0f\" % df_decentral_generation.duplicated(['CBS Buurtcode']).sum())\n",
    "df_decentral_generation.astype({\"CBS Buurtcode\" : int})"
   ]
  },
  {
   "cell_type": "markdown",
   "metadata": {},
   "source": [
    "Check if the deduplication was successfull"
   ]
  },
  {
   "cell_type": "markdown",
   "metadata": {},
   "source": [
    "### Combine the demographic data with the generation data"
   ]
  },
  {
   "cell_type": "code",
   "execution_count": 17,
   "metadata": {},
   "outputs": [
    {
     "name": "stdout",
     "output_type": "stream",
     "text": [
      "Number of rows in 'kerncijfers': 1979\n",
      "Number of rows in 'generation data': 3946\n",
      "Number of rows in combined data set: 597\n"
     ]
    }
   ],
   "source": [
    "print(\"Number of rows in 'kerncijfers': %.0f\" % len(df_kerncijfers))\n",
    "print(\"Number of rows in 'generation data': %.0f\" % len(df_decentral_generation))\n",
    "\n",
    "df = pd.merge(df_kerncijfers, df_decentral_generation, on=\"CBS Buurtcode\", validate='one_to_one')\n",
    "print(\"Number of rows in combined data set: %.0f\" % len(df))\n"
   ]
  },
  {
   "cell_type": "markdown",
   "metadata": {},
   "source": [
    "#### To do: check why not more rows match on buurt code"
   ]
  },
  {
   "cell_type": "markdown",
   "metadata": {},
   "source": [
    "## Create a first model - linear model"
   ]
  },
  {
   "cell_type": "code",
   "execution_count": 18,
   "metadata": {},
   "outputs": [],
   "source": [
    "from sklearn.linear_model import LinearRegression\n",
    "from sklearn.metrics import mean_squared_error, r2_score\n",
    "from sklearn.model_selection import train_test_split\n",
    "\n",
    "import altair as alt"
   ]
  },
  {
   "cell_type": "code",
   "execution_count": 20,
   "metadata": {},
   "outputs": [
    {
     "name": "stdout",
     "output_type": "stream",
     "text": [
      "training set size: 477\n",
      "test set size: 120\n"
     ]
    },
    {
     "data": {
      "text/plain": [
       "LinearRegression()"
      ]
     },
     "execution_count": 20,
     "metadata": {},
     "output_type": "execute_result"
    }
   ],
   "source": [
    "opgesteld_vermogen = 'Opgesteld vermogen'\n",
    "columns_to_keep = [opgesteld_vermogen, 'GemiddeldInkomenPerInwoner_72', 'GemiddeldeHuishoudensgrootte_32', 'Koopwoningen_40']\n",
    "df = df[columns_to_keep]\n",
    "\n",
    "train_set, test_set = train_test_split(df, test_size=0.2)\n",
    "\n",
    "print(f\"training set size: {len(train_set)}\\ntest set size: {len(test_set)}\")\n",
    "\n",
    "Y_train_set = train_set[opgesteld_vermogen]\n",
    "X_train_set = train_set.drop(opgesteld_vermogen, axis=1).copy()\n",
    "\n",
    "Y_test_set = test_set[opgesteld_vermogen]\n",
    "X_test_set = test_set.drop(opgesteld_vermogen, axis=1).copy()\n",
    "\n",
    "lin_reg = LinearRegression()\n",
    "lin_reg.fit(X_train_set, Y_train_set)"
   ]
  },
  {
   "cell_type": "markdown",
   "metadata": {},
   "source": [
    "Plot the fit with income"
   ]
  },
  {
   "cell_type": "code",
   "execution_count": 21,
   "metadata": {},
   "outputs": [
    {
     "data": {
      "application/vnd.vegalite.v4+json": {
       "$schema": "https://vega.github.io/schema/vega-lite/v4.8.1.json",
       "config": {
        "view": {
         "continuousHeight": 300,
         "continuousWidth": 400
        }
       },
       "data": {
        "name": "data-da2a22633cec777720f0c8c778602576"
       },
       "datasets": {
        "data-da2a22633cec777720f0c8c778602576": [
         {
          "GemiddeldInkomenPerInwoner_72": 36.5,
          "GemiddeldeHuishoudensgrootte_32": 1.8,
          "Koopwoningen_40": 60,
          "Opgesteld vermogen": 588
         },
         {
          "GemiddeldInkomenPerInwoner_72": 27,
          "GemiddeldeHuishoudensgrootte_32": 2.8,
          "Koopwoningen_40": 68,
          "Opgesteld vermogen": 2155
         },
         {
          "GemiddeldInkomenPerInwoner_72": 28.9,
          "GemiddeldeHuishoudensgrootte_32": 2.2,
          "Koopwoningen_40": 62,
          "Opgesteld vermogen": 210
         },
         {
          "GemiddeldInkomenPerInwoner_72": 19.8,
          "GemiddeldeHuishoudensgrootte_32": 2,
          "Koopwoningen_40": 31,
          "Opgesteld vermogen": 160
         },
         {
          "GemiddeldInkomenPerInwoner_72": 27.2,
          "GemiddeldeHuishoudensgrootte_32": 2.3,
          "Koopwoningen_40": 73,
          "Opgesteld vermogen": 1303
         },
         {
          "GemiddeldInkomenPerInwoner_72": 20.8,
          "GemiddeldeHuishoudensgrootte_32": 2.1,
          "Koopwoningen_40": 37,
          "Opgesteld vermogen": 613
         },
         {
          "GemiddeldInkomenPerInwoner_72": 31,
          "GemiddeldeHuishoudensgrootte_32": 2.7,
          "Koopwoningen_40": 61,
          "Opgesteld vermogen": 762
         },
         {
          "GemiddeldInkomenPerInwoner_72": 26.6,
          "GemiddeldeHuishoudensgrootte_32": 2.2,
          "Koopwoningen_40": 54,
          "Opgesteld vermogen": 999
         },
         {
          "GemiddeldInkomenPerInwoner_72": 26.3,
          "GemiddeldeHuishoudensgrootte_32": 2.6,
          "Koopwoningen_40": 80,
          "Opgesteld vermogen": 949
         },
         {
          "GemiddeldInkomenPerInwoner_72": 24.2,
          "GemiddeldeHuishoudensgrootte_32": 2.1,
          "Koopwoningen_40": 42,
          "Opgesteld vermogen": 869
         },
         {
          "GemiddeldInkomenPerInwoner_72": 27.1,
          "GemiddeldeHuishoudensgrootte_32": 2.2,
          "Koopwoningen_40": 70,
          "Opgesteld vermogen": 717
         },
         {
          "GemiddeldInkomenPerInwoner_72": 28.5,
          "GemiddeldeHuishoudensgrootte_32": 2.1,
          "Koopwoningen_40": 71,
          "Opgesteld vermogen": 1618
         },
         {
          "GemiddeldInkomenPerInwoner_72": 25.3,
          "GemiddeldeHuishoudensgrootte_32": 2.3,
          "Koopwoningen_40": 75,
          "Opgesteld vermogen": 2082
         },
         {
          "GemiddeldInkomenPerInwoner_72": 20,
          "GemiddeldeHuishoudensgrootte_32": 2.2,
          "Koopwoningen_40": 55,
          "Opgesteld vermogen": 401
         },
         {
          "GemiddeldInkomenPerInwoner_72": 26,
          "GemiddeldeHuishoudensgrootte_32": 2,
          "Koopwoningen_40": 61,
          "Opgesteld vermogen": 1480
         },
         {
          "GemiddeldInkomenPerInwoner_72": 23.6,
          "GemiddeldeHuishoudensgrootte_32": 1.8,
          "Koopwoningen_40": 33,
          "Opgesteld vermogen": 255
         },
         {
          "GemiddeldInkomenPerInwoner_72": 25.7,
          "GemiddeldeHuishoudensgrootte_32": 2.8,
          "Koopwoningen_40": 86,
          "Opgesteld vermogen": 1488
         },
         {
          "GemiddeldInkomenPerInwoner_72": 28.1,
          "GemiddeldeHuishoudensgrootte_32": 2.3,
          "Koopwoningen_40": 60,
          "Opgesteld vermogen": 1115
         },
         {
          "GemiddeldInkomenPerInwoner_72": 21.8,
          "GemiddeldeHuishoudensgrootte_32": 1.7,
          "Koopwoningen_40": 37,
          "Opgesteld vermogen": 189
         },
         {
          "GemiddeldInkomenPerInwoner_72": 26.7,
          "GemiddeldeHuishoudensgrootte_32": 2,
          "Koopwoningen_40": 57,
          "Opgesteld vermogen": 475
         },
         {
          "GemiddeldInkomenPerInwoner_72": 22.1,
          "GemiddeldeHuishoudensgrootte_32": 1.6,
          "Koopwoningen_40": 12,
          "Opgesteld vermogen": 383
         },
         {
          "GemiddeldInkomenPerInwoner_72": 23.3,
          "GemiddeldeHuishoudensgrootte_32": 2.1,
          "Koopwoningen_40": 45,
          "Opgesteld vermogen": 491
         },
         {
          "GemiddeldInkomenPerInwoner_72": 28.9,
          "GemiddeldeHuishoudensgrootte_32": 2,
          "Koopwoningen_40": 56,
          "Opgesteld vermogen": 2162
         },
         {
          "GemiddeldInkomenPerInwoner_72": 28.4,
          "GemiddeldeHuishoudensgrootte_32": 2.3,
          "Koopwoningen_40": 81,
          "Opgesteld vermogen": 1296
         },
         {
          "GemiddeldInkomenPerInwoner_72": 28.7,
          "GemiddeldeHuishoudensgrootte_32": 2.5,
          "Koopwoningen_40": 71,
          "Opgesteld vermogen": 1404
         },
         {
          "GemiddeldInkomenPerInwoner_72": 25.3,
          "GemiddeldeHuishoudensgrootte_32": 2,
          "Koopwoningen_40": 55,
          "Opgesteld vermogen": 1053
         },
         {
          "GemiddeldInkomenPerInwoner_72": 26.5,
          "GemiddeldeHuishoudensgrootte_32": 2.5,
          "Koopwoningen_40": 79,
          "Opgesteld vermogen": 1048
         },
         {
          "GemiddeldInkomenPerInwoner_72": 27.8,
          "GemiddeldeHuishoudensgrootte_32": 2.3,
          "Koopwoningen_40": 71,
          "Opgesteld vermogen": 621
         },
         {
          "GemiddeldInkomenPerInwoner_72": 30.4,
          "GemiddeldeHuishoudensgrootte_32": 2.2,
          "Koopwoningen_40": 74,
          "Opgesteld vermogen": 2050
         },
         {
          "GemiddeldInkomenPerInwoner_72": 28.8,
          "GemiddeldeHuishoudensgrootte_32": 2.7,
          "Koopwoningen_40": 88,
          "Opgesteld vermogen": 695
         },
         {
          "GemiddeldInkomenPerInwoner_72": 25.8,
          "GemiddeldeHuishoudensgrootte_32": 2.5,
          "Koopwoningen_40": 67,
          "Opgesteld vermogen": 2399
         },
         {
          "GemiddeldInkomenPerInwoner_72": 22.3,
          "GemiddeldeHuishoudensgrootte_32": 2.1,
          "Koopwoningen_40": 58,
          "Opgesteld vermogen": 1499
         },
         {
          "GemiddeldInkomenPerInwoner_72": 22.1,
          "GemiddeldeHuishoudensgrootte_32": 2.1,
          "Koopwoningen_40": 46,
          "Opgesteld vermogen": 358
         },
         {
          "GemiddeldInkomenPerInwoner_72": 32.2,
          "GemiddeldeHuishoudensgrootte_32": 2.3,
          "Koopwoningen_40": 70,
          "Opgesteld vermogen": 1616
         },
         {
          "GemiddeldInkomenPerInwoner_72": 32.1,
          "GemiddeldeHuishoudensgrootte_32": 2.3,
          "Koopwoningen_40": 76,
          "Opgesteld vermogen": 1832
         },
         {
          "GemiddeldInkomenPerInwoner_72": 22.1,
          "GemiddeldeHuishoudensgrootte_32": 2.1,
          "Koopwoningen_40": 44,
          "Opgesteld vermogen": 409
         },
         {
          "GemiddeldInkomenPerInwoner_72": 25.7,
          "GemiddeldeHuishoudensgrootte_32": 2,
          "Koopwoningen_40": 57,
          "Opgesteld vermogen": 350
         },
         {
          "GemiddeldInkomenPerInwoner_72": 18.5,
          "GemiddeldeHuishoudensgrootte_32": 2,
          "Koopwoningen_40": 23,
          "Opgesteld vermogen": 566
         },
         {
          "GemiddeldInkomenPerInwoner_72": 33.5,
          "GemiddeldeHuishoudensgrootte_32": 2.4,
          "Koopwoningen_40": 68,
          "Opgesteld vermogen": 941
         },
         {
          "GemiddeldInkomenPerInwoner_72": 28.3,
          "GemiddeldeHuishoudensgrootte_32": 2.2,
          "Koopwoningen_40": 72,
          "Opgesteld vermogen": 898
         },
         {
          "GemiddeldInkomenPerInwoner_72": 27.3,
          "GemiddeldeHuishoudensgrootte_32": 1.8,
          "Koopwoningen_40": 46,
          "Opgesteld vermogen": 575
         },
         {
          "GemiddeldInkomenPerInwoner_72": 25.2,
          "GemiddeldeHuishoudensgrootte_32": 2.1,
          "Koopwoningen_40": 62,
          "Opgesteld vermogen": 519
         },
         {
          "GemiddeldInkomenPerInwoner_72": 23.6,
          "GemiddeldeHuishoudensgrootte_32": 1.9,
          "Koopwoningen_40": 53,
          "Opgesteld vermogen": 504
         },
         {
          "GemiddeldInkomenPerInwoner_72": 32.4,
          "GemiddeldeHuishoudensgrootte_32": 2,
          "Koopwoningen_40": 64,
          "Opgesteld vermogen": 1641
         },
         {
          "GemiddeldInkomenPerInwoner_72": 31.7,
          "GemiddeldeHuishoudensgrootte_32": 1.8,
          "Koopwoningen_40": 56,
          "Opgesteld vermogen": 1516
         },
         {
          "GemiddeldInkomenPerInwoner_72": 28.2,
          "GemiddeldeHuishoudensgrootte_32": 2.3,
          "Koopwoningen_40": 68,
          "Opgesteld vermogen": 3876
         },
         {
          "GemiddeldInkomenPerInwoner_72": 29.8,
          "GemiddeldeHuishoudensgrootte_32": 2.5,
          "Koopwoningen_40": 68,
          "Opgesteld vermogen": 1361
         },
         {
          "GemiddeldInkomenPerInwoner_72": 28.1,
          "GemiddeldeHuishoudensgrootte_32": 2.3,
          "Koopwoningen_40": 80,
          "Opgesteld vermogen": 1578
         },
         {
          "GemiddeldInkomenPerInwoner_72": 24.5,
          "GemiddeldeHuishoudensgrootte_32": 1.8,
          "Koopwoningen_40": 55,
          "Opgesteld vermogen": 1145
         },
         {
          "GemiddeldInkomenPerInwoner_72": 29.9,
          "GemiddeldeHuishoudensgrootte_32": 2.2,
          "Koopwoningen_40": 69,
          "Opgesteld vermogen": 1382
         },
         {
          "GemiddeldInkomenPerInwoner_72": 21.1,
          "GemiddeldeHuishoudensgrootte_32": 2.1,
          "Koopwoningen_40": 47,
          "Opgesteld vermogen": 566
         },
         {
          "GemiddeldInkomenPerInwoner_72": 27.3,
          "GemiddeldeHuishoudensgrootte_32": 2.4,
          "Koopwoningen_40": 71,
          "Opgesteld vermogen": 1643
         },
         {
          "GemiddeldInkomenPerInwoner_72": 24.2,
          "GemiddeldeHuishoudensgrootte_32": 1.9,
          "Koopwoningen_40": 51,
          "Opgesteld vermogen": 901
         },
         {
          "GemiddeldInkomenPerInwoner_72": 27.6,
          "GemiddeldeHuishoudensgrootte_32": 3.1,
          "Koopwoningen_40": 75,
          "Opgesteld vermogen": 2598
         },
         {
          "GemiddeldInkomenPerInwoner_72": 21.5,
          "GemiddeldeHuishoudensgrootte_32": 2.1,
          "Koopwoningen_40": 37,
          "Opgesteld vermogen": 680
         },
         {
          "GemiddeldInkomenPerInwoner_72": 25.9,
          "GemiddeldeHuishoudensgrootte_32": 2.4,
          "Koopwoningen_40": 78,
          "Opgesteld vermogen": 1736
         },
         {
          "GemiddeldInkomenPerInwoner_72": 27.5,
          "GemiddeldeHuishoudensgrootte_32": 2.4,
          "Koopwoningen_40": 67,
          "Opgesteld vermogen": 1142
         },
         {
          "GemiddeldInkomenPerInwoner_72": 29.8,
          "GemiddeldeHuishoudensgrootte_32": 2.7,
          "Koopwoningen_40": 88,
          "Opgesteld vermogen": 908
         },
         {
          "GemiddeldInkomenPerInwoner_72": 31.7,
          "GemiddeldeHuishoudensgrootte_32": 2.3,
          "Koopwoningen_40": 85,
          "Opgesteld vermogen": 1321
         },
         {
          "GemiddeldInkomenPerInwoner_72": 28.6,
          "GemiddeldeHuishoudensgrootte_32": 1.9,
          "Koopwoningen_40": 53,
          "Opgesteld vermogen": 407
         },
         {
          "GemiddeldInkomenPerInwoner_72": 22.4,
          "GemiddeldeHuishoudensgrootte_32": 1.9,
          "Koopwoningen_40": 44,
          "Opgesteld vermogen": 946
         },
         {
          "GemiddeldInkomenPerInwoner_72": 28.5,
          "GemiddeldeHuishoudensgrootte_32": 2.2,
          "Koopwoningen_40": 77,
          "Opgesteld vermogen": 1919
         },
         {
          "GemiddeldInkomenPerInwoner_72": 25.5,
          "GemiddeldeHuishoudensgrootte_32": 2.2,
          "Koopwoningen_40": 69,
          "Opgesteld vermogen": 1819
         },
         {
          "GemiddeldInkomenPerInwoner_72": 30.5,
          "GemiddeldeHuishoudensgrootte_32": 2.3,
          "Koopwoningen_40": 56,
          "Opgesteld vermogen": 811
         },
         {
          "GemiddeldInkomenPerInwoner_72": 20.5,
          "GemiddeldeHuishoudensgrootte_32": 2.3,
          "Koopwoningen_40": 55,
          "Opgesteld vermogen": 612
         },
         {
          "GemiddeldInkomenPerInwoner_72": 29.7,
          "GemiddeldeHuishoudensgrootte_32": 1.8,
          "Koopwoningen_40": 54,
          "Opgesteld vermogen": 537
         },
         {
          "GemiddeldInkomenPerInwoner_72": 21.7,
          "GemiddeldeHuishoudensgrootte_32": 2,
          "Koopwoningen_40": 46,
          "Opgesteld vermogen": 323
         },
         {
          "GemiddeldInkomenPerInwoner_72": 20.9,
          "GemiddeldeHuishoudensgrootte_32": 1.5,
          "Koopwoningen_40": 22,
          "Opgesteld vermogen": 374
         },
         {
          "GemiddeldInkomenPerInwoner_72": 27.8,
          "GemiddeldeHuishoudensgrootte_32": 2.2,
          "Koopwoningen_40": 75,
          "Opgesteld vermogen": 1483
         },
         {
          "GemiddeldInkomenPerInwoner_72": 19.8,
          "GemiddeldeHuishoudensgrootte_32": 1.4,
          "Koopwoningen_40": 15,
          "Opgesteld vermogen": 481
         },
         {
          "GemiddeldInkomenPerInwoner_72": 26.2,
          "GemiddeldeHuishoudensgrootte_32": 2.5,
          "Koopwoningen_40": 77,
          "Opgesteld vermogen": 706
         },
         {
          "GemiddeldInkomenPerInwoner_72": 28.8,
          "GemiddeldeHuishoudensgrootte_32": 2.3,
          "Koopwoningen_40": 69,
          "Opgesteld vermogen": 1277
         },
         {
          "GemiddeldInkomenPerInwoner_72": 27,
          "GemiddeldeHuishoudensgrootte_32": 2,
          "Koopwoningen_40": 62,
          "Opgesteld vermogen": 1085
         },
         {
          "GemiddeldInkomenPerInwoner_72": 22.9,
          "GemiddeldeHuishoudensgrootte_32": 1.3,
          "Koopwoningen_40": 14,
          "Opgesteld vermogen": 112
         },
         {
          "GemiddeldInkomenPerInwoner_72": 22.4,
          "GemiddeldeHuishoudensgrootte_32": 2.4,
          "Koopwoningen_40": 58,
          "Opgesteld vermogen": 1565
         },
         {
          "GemiddeldInkomenPerInwoner_72": 24.2,
          "GemiddeldeHuishoudensgrootte_32": 1.9,
          "Koopwoningen_40": 53,
          "Opgesteld vermogen": 241
         },
         {
          "GemiddeldInkomenPerInwoner_72": 20.2,
          "GemiddeldeHuishoudensgrootte_32": 1.8,
          "Koopwoningen_40": 23,
          "Opgesteld vermogen": 459
         },
         {
          "GemiddeldInkomenPerInwoner_72": 25.5,
          "GemiddeldeHuishoudensgrootte_32": 2.3,
          "Koopwoningen_40": 77,
          "Opgesteld vermogen": 1067
         },
         {
          "GemiddeldInkomenPerInwoner_72": 36.5,
          "GemiddeldeHuishoudensgrootte_32": 2.1,
          "Koopwoningen_40": 67,
          "Opgesteld vermogen": 840
         },
         {
          "GemiddeldInkomenPerInwoner_72": 28.9,
          "GemiddeldeHuishoudensgrootte_32": 1.4,
          "Koopwoningen_40": 27,
          "Opgesteld vermogen": 342
         },
         {
          "GemiddeldInkomenPerInwoner_72": 25,
          "GemiddeldeHuishoudensgrootte_32": 1.4,
          "Koopwoningen_40": 27,
          "Opgesteld vermogen": 292
         },
         {
          "GemiddeldInkomenPerInwoner_72": 35.7,
          "GemiddeldeHuishoudensgrootte_32": 1.4,
          "Koopwoningen_40": 28,
          "Opgesteld vermogen": 142
         },
         {
          "GemiddeldInkomenPerInwoner_72": 22.3,
          "GemiddeldeHuishoudensgrootte_32": 2.2,
          "Koopwoningen_40": 67,
          "Opgesteld vermogen": 1263
         },
         {
          "GemiddeldInkomenPerInwoner_72": 29.8,
          "GemiddeldeHuishoudensgrootte_32": 2.4,
          "Koopwoningen_40": 76,
          "Opgesteld vermogen": 1634
         },
         {
          "GemiddeldInkomenPerInwoner_72": 30.4,
          "GemiddeldeHuishoudensgrootte_32": 2.4,
          "Koopwoningen_40": 80,
          "Opgesteld vermogen": 1668
         },
         {
          "GemiddeldInkomenPerInwoner_72": 25.7,
          "GemiddeldeHuishoudensgrootte_32": 2.2,
          "Koopwoningen_40": 74,
          "Opgesteld vermogen": 1000
         },
         {
          "GemiddeldInkomenPerInwoner_72": 20.5,
          "GemiddeldeHuishoudensgrootte_32": 2.3,
          "Koopwoningen_40": 40,
          "Opgesteld vermogen": 418
         },
         {
          "GemiddeldInkomenPerInwoner_72": 32.4,
          "GemiddeldeHuishoudensgrootte_32": 2.2,
          "Koopwoningen_40": 78,
          "Opgesteld vermogen": 1461
         },
         {
          "GemiddeldInkomenPerInwoner_72": 29.1,
          "GemiddeldeHuishoudensgrootte_32": 2.3,
          "Koopwoningen_40": 73,
          "Opgesteld vermogen": 695
         },
         {
          "GemiddeldInkomenPerInwoner_72": 27.7,
          "GemiddeldeHuishoudensgrootte_32": 1.7,
          "Koopwoningen_40": 49,
          "Opgesteld vermogen": 587
         },
         {
          "GemiddeldInkomenPerInwoner_72": 27.9,
          "GemiddeldeHuishoudensgrootte_32": 2.1,
          "Koopwoningen_40": 69,
          "Opgesteld vermogen": 2406
         },
         {
          "GemiddeldInkomenPerInwoner_72": 21.9,
          "GemiddeldeHuishoudensgrootte_32": 2.2,
          "Koopwoningen_40": 65,
          "Opgesteld vermogen": 1308
         },
         {
          "GemiddeldInkomenPerInwoner_72": 23.9,
          "GemiddeldeHuishoudensgrootte_32": 1.8,
          "Koopwoningen_40": 42,
          "Opgesteld vermogen": 833
         },
         {
          "GemiddeldInkomenPerInwoner_72": 23.2,
          "GemiddeldeHuishoudensgrootte_32": 2.1,
          "Koopwoningen_40": 60,
          "Opgesteld vermogen": 1176
         },
         {
          "GemiddeldInkomenPerInwoner_72": 26,
          "GemiddeldeHuishoudensgrootte_32": 1.8,
          "Koopwoningen_40": 46,
          "Opgesteld vermogen": 1179
         },
         {
          "GemiddeldInkomenPerInwoner_72": 26.6,
          "GemiddeldeHuishoudensgrootte_32": 2.4,
          "Koopwoningen_40": 75,
          "Opgesteld vermogen": 2570
         },
         {
          "GemiddeldInkomenPerInwoner_72": 26.1,
          "GemiddeldeHuishoudensgrootte_32": 2.3,
          "Koopwoningen_40": 72,
          "Opgesteld vermogen": 2408
         },
         {
          "GemiddeldInkomenPerInwoner_72": 27.1,
          "GemiddeldeHuishoudensgrootte_32": 2.4,
          "Koopwoningen_40": 73,
          "Opgesteld vermogen": 969
         },
         {
          "GemiddeldInkomenPerInwoner_72": 26,
          "GemiddeldeHuishoudensgrootte_32": 2.1,
          "Koopwoningen_40": 67,
          "Opgesteld vermogen": 1917
         },
         {
          "GemiddeldInkomenPerInwoner_72": 36.7,
          "GemiddeldeHuishoudensgrootte_32": 2.4,
          "Koopwoningen_40": 83,
          "Opgesteld vermogen": 1419
         },
         {
          "GemiddeldInkomenPerInwoner_72": 30.8,
          "GemiddeldeHuishoudensgrootte_32": 2.4,
          "Koopwoningen_40": 84,
          "Opgesteld vermogen": 1096
         },
         {
          "GemiddeldInkomenPerInwoner_72": 27.3,
          "GemiddeldeHuishoudensgrootte_32": 2,
          "Koopwoningen_40": 61,
          "Opgesteld vermogen": 3268
         },
         {
          "GemiddeldInkomenPerInwoner_72": 30,
          "GemiddeldeHuishoudensgrootte_32": 1.7,
          "Koopwoningen_40": 38,
          "Opgesteld vermogen": 643
         },
         {
          "GemiddeldInkomenPerInwoner_72": 28.6,
          "GemiddeldeHuishoudensgrootte_32": 2,
          "Koopwoningen_40": 62,
          "Opgesteld vermogen": 1090
         },
         {
          "GemiddeldInkomenPerInwoner_72": 27.7,
          "GemiddeldeHuishoudensgrootte_32": 2.1,
          "Koopwoningen_40": 70,
          "Opgesteld vermogen": 1757
         },
         {
          "GemiddeldInkomenPerInwoner_72": 30.5,
          "GemiddeldeHuishoudensgrootte_32": 3.1,
          "Koopwoningen_40": 85,
          "Opgesteld vermogen": 1255
         },
         {
          "GemiddeldInkomenPerInwoner_72": 25.7,
          "GemiddeldeHuishoudensgrootte_32": 1.8,
          "Koopwoningen_40": 27,
          "Opgesteld vermogen": 350
         },
         {
          "GemiddeldInkomenPerInwoner_72": 29.2,
          "GemiddeldeHuishoudensgrootte_32": 2.4,
          "Koopwoningen_40": 78,
          "Opgesteld vermogen": 1725
         },
         {
          "GemiddeldInkomenPerInwoner_72": 27.8,
          "GemiddeldeHuishoudensgrootte_32": 3,
          "Koopwoningen_40": 93,
          "Opgesteld vermogen": 1092
         },
         {
          "GemiddeldInkomenPerInwoner_72": 21.1,
          "GemiddeldeHuishoudensgrootte_32": 1.7,
          "Koopwoningen_40": 33,
          "Opgesteld vermogen": 454
         },
         {
          "GemiddeldInkomenPerInwoner_72": 24.4,
          "GemiddeldeHuishoudensgrootte_32": 1.8,
          "Koopwoningen_40": 50,
          "Opgesteld vermogen": 1278
         },
         {
          "GemiddeldInkomenPerInwoner_72": 26.7,
          "GemiddeldeHuishoudensgrootte_32": 2.4,
          "Koopwoningen_40": 73,
          "Opgesteld vermogen": 786
         },
         {
          "GemiddeldInkomenPerInwoner_72": 29.1,
          "GemiddeldeHuishoudensgrootte_32": 2.3,
          "Koopwoningen_40": 71,
          "Opgesteld vermogen": 1390
         },
         {
          "GemiddeldInkomenPerInwoner_72": 26.3,
          "GemiddeldeHuishoudensgrootte_32": 2.4,
          "Koopwoningen_40": 68,
          "Opgesteld vermogen": 1227
         },
         {
          "GemiddeldInkomenPerInwoner_72": 22.6,
          "GemiddeldeHuishoudensgrootte_32": 2.1,
          "Koopwoningen_40": 70,
          "Opgesteld vermogen": 1213
         },
         {
          "GemiddeldInkomenPerInwoner_72": 25.9,
          "GemiddeldeHuishoudensgrootte_32": 2.1,
          "Koopwoningen_40": 49,
          "Opgesteld vermogen": 662
         },
         {
          "GemiddeldInkomenPerInwoner_72": 25,
          "GemiddeldeHuishoudensgrootte_32": 1.9,
          "Koopwoningen_40": 57,
          "Opgesteld vermogen": 655
         },
         {
          "GemiddeldInkomenPerInwoner_72": 25.9,
          "GemiddeldeHuishoudensgrootte_32": 2.3,
          "Koopwoningen_40": 65,
          "Opgesteld vermogen": 1329
         },
         {
          "GemiddeldInkomenPerInwoner_72": 34.5,
          "GemiddeldeHuishoudensgrootte_32": 2.6,
          "Koopwoningen_40": 86,
          "Opgesteld vermogen": 971
         },
         {
          "GemiddeldInkomenPerInwoner_72": 26.9,
          "GemiddeldeHuishoudensgrootte_32": 2.3,
          "Koopwoningen_40": 79,
          "Opgesteld vermogen": 2223
         },
         {
          "GemiddeldInkomenPerInwoner_72": 18.2,
          "GemiddeldeHuishoudensgrootte_32": 2.2,
          "Koopwoningen_40": 44,
          "Opgesteld vermogen": 218
         },
         {
          "GemiddeldInkomenPerInwoner_72": 27.4,
          "GemiddeldeHuishoudensgrootte_32": 2.2,
          "Koopwoningen_40": 70,
          "Opgesteld vermogen": 1670
         },
         {
          "GemiddeldInkomenPerInwoner_72": 27.7,
          "GemiddeldeHuishoudensgrootte_32": 2.3,
          "Koopwoningen_40": 80,
          "Opgesteld vermogen": 836
         },
         {
          "GemiddeldInkomenPerInwoner_72": 33.5,
          "GemiddeldeHuishoudensgrootte_32": 2.3,
          "Koopwoningen_40": 62,
          "Opgesteld vermogen": 208
         },
         {
          "GemiddeldInkomenPerInwoner_72": 34.2,
          "GemiddeldeHuishoudensgrootte_32": 2.8,
          "Koopwoningen_40": 86,
          "Opgesteld vermogen": 1463
         },
         {
          "GemiddeldInkomenPerInwoner_72": 26.4,
          "GemiddeldeHuishoudensgrootte_32": 2.3,
          "Koopwoningen_40": 75,
          "Opgesteld vermogen": 1140
         },
         {
          "GemiddeldInkomenPerInwoner_72": 24.4,
          "GemiddeldeHuishoudensgrootte_32": 2.2,
          "Koopwoningen_40": 74,
          "Opgesteld vermogen": 901
         },
         {
          "GemiddeldInkomenPerInwoner_72": 22.6,
          "GemiddeldeHuishoudensgrootte_32": 1.9,
          "Koopwoningen_40": 62,
          "Opgesteld vermogen": 1192
         },
         {
          "GemiddeldInkomenPerInwoner_72": 32.9,
          "GemiddeldeHuishoudensgrootte_32": 2.4,
          "Koopwoningen_40": 75,
          "Opgesteld vermogen": 2219
         },
         {
          "GemiddeldInkomenPerInwoner_72": 26.9,
          "GemiddeldeHuishoudensgrootte_32": 2.5,
          "Koopwoningen_40": 78,
          "Opgesteld vermogen": 992
         },
         {
          "GemiddeldInkomenPerInwoner_72": 27.6,
          "GemiddeldeHuishoudensgrootte_32": 2.2,
          "Koopwoningen_40": 77,
          "Opgesteld vermogen": 1762
         },
         {
          "GemiddeldInkomenPerInwoner_72": 26.4,
          "GemiddeldeHuishoudensgrootte_32": 2.2,
          "Koopwoningen_40": 74,
          "Opgesteld vermogen": 1500
         },
         {
          "GemiddeldInkomenPerInwoner_72": 27.6,
          "GemiddeldeHuishoudensgrootte_32": 1.8,
          "Koopwoningen_40": 48,
          "Opgesteld vermogen": 428
         },
         {
          "GemiddeldInkomenPerInwoner_72": 20,
          "GemiddeldeHuishoudensgrootte_32": 2.2,
          "Koopwoningen_40": 51,
          "Opgesteld vermogen": 376
         },
         {
          "GemiddeldInkomenPerInwoner_72": 25.8,
          "GemiddeldeHuishoudensgrootte_32": 2.3,
          "Koopwoningen_40": 68,
          "Opgesteld vermogen": 3017
         },
         {
          "GemiddeldInkomenPerInwoner_72": 23.7,
          "GemiddeldeHuishoudensgrootte_32": 1.4,
          "Koopwoningen_40": 32,
          "Opgesteld vermogen": 736
         },
         {
          "GemiddeldInkomenPerInwoner_72": 21.9,
          "GemiddeldeHuishoudensgrootte_32": 1.3,
          "Koopwoningen_40": 36,
          "Opgesteld vermogen": 73
         },
         {
          "GemiddeldInkomenPerInwoner_72": 24.8,
          "GemiddeldeHuishoudensgrootte_32": 2.4,
          "Koopwoningen_40": 69,
          "Opgesteld vermogen": 1010
         },
         {
          "GemiddeldInkomenPerInwoner_72": 20.1,
          "GemiddeldeHuishoudensgrootte_32": 2.2,
          "Koopwoningen_40": 39,
          "Opgesteld vermogen": 1757
         },
         {
          "GemiddeldInkomenPerInwoner_72": 29.1,
          "GemiddeldeHuishoudensgrootte_32": 2.7,
          "Koopwoningen_40": 86,
          "Opgesteld vermogen": 872
         },
         {
          "GemiddeldInkomenPerInwoner_72": 27.7,
          "GemiddeldeHuishoudensgrootte_32": 1.6,
          "Koopwoningen_40": 51,
          "Opgesteld vermogen": 514
         },
         {
          "GemiddeldInkomenPerInwoner_72": 24.7,
          "GemiddeldeHuishoudensgrootte_32": 2.2,
          "Koopwoningen_40": 66,
          "Opgesteld vermogen": 1929
         },
         {
          "GemiddeldInkomenPerInwoner_72": 31.6,
          "GemiddeldeHuishoudensgrootte_32": 2.2,
          "Koopwoningen_40": 80,
          "Opgesteld vermogen": 1843
         },
         {
          "GemiddeldInkomenPerInwoner_72": 27.2,
          "GemiddeldeHuishoudensgrootte_32": 2.3,
          "Koopwoningen_40": 70,
          "Opgesteld vermogen": 1476
         },
         {
          "GemiddeldInkomenPerInwoner_72": 26.9,
          "GemiddeldeHuishoudensgrootte_32": 2.4,
          "Koopwoningen_40": 75,
          "Opgesteld vermogen": 1157
         },
         {
          "GemiddeldInkomenPerInwoner_72": 20.6,
          "GemiddeldeHuishoudensgrootte_32": 1.5,
          "Koopwoningen_40": 25,
          "Opgesteld vermogen": 596
         },
         {
          "GemiddeldInkomenPerInwoner_72": 20.2,
          "GemiddeldeHuishoudensgrootte_32": 1.9,
          "Koopwoningen_40": 37,
          "Opgesteld vermogen": 818
         },
         {
          "GemiddeldInkomenPerInwoner_72": 25.4,
          "GemiddeldeHuishoudensgrootte_32": 2.1,
          "Koopwoningen_40": 66,
          "Opgesteld vermogen": 1664
         },
         {
          "GemiddeldInkomenPerInwoner_72": 24.7,
          "GemiddeldeHuishoudensgrootte_32": 2.4,
          "Koopwoningen_40": 69,
          "Opgesteld vermogen": 922
         },
         {
          "GemiddeldInkomenPerInwoner_72": 27.2,
          "GemiddeldeHuishoudensgrootte_32": 2.2,
          "Koopwoningen_40": 67,
          "Opgesteld vermogen": 2143
         },
         {
          "GemiddeldInkomenPerInwoner_72": 28.9,
          "GemiddeldeHuishoudensgrootte_32": 2.2,
          "Koopwoningen_40": 75,
          "Opgesteld vermogen": 1570
         },
         {
          "GemiddeldInkomenPerInwoner_72": 25.9,
          "GemiddeldeHuishoudensgrootte_32": 2.2,
          "Koopwoningen_40": 64,
          "Opgesteld vermogen": 747
         },
         {
          "GemiddeldInkomenPerInwoner_72": 21.6,
          "GemiddeldeHuishoudensgrootte_32": 2.2,
          "Koopwoningen_40": 45,
          "Opgesteld vermogen": 399
         },
         {
          "GemiddeldInkomenPerInwoner_72": 24.3,
          "GemiddeldeHuishoudensgrootte_32": 2.1,
          "Koopwoningen_40": 58,
          "Opgesteld vermogen": 626
         },
         {
          "GemiddeldInkomenPerInwoner_72": 33.4,
          "GemiddeldeHuishoudensgrootte_32": 2.9,
          "Koopwoningen_40": 89,
          "Opgesteld vermogen": 974
         },
         {
          "GemiddeldInkomenPerInwoner_72": 20.7,
          "GemiddeldeHuishoudensgrootte_32": 1.8,
          "Koopwoningen_40": 34,
          "Opgesteld vermogen": 618
         },
         {
          "GemiddeldInkomenPerInwoner_72": 31.8,
          "GemiddeldeHuishoudensgrootte_32": 2.8,
          "Koopwoningen_40": 91,
          "Opgesteld vermogen": 1388
         },
         {
          "GemiddeldInkomenPerInwoner_72": 23.2,
          "GemiddeldeHuishoudensgrootte_32": 1.7,
          "Koopwoningen_40": 50,
          "Opgesteld vermogen": 546
         },
         {
          "GemiddeldInkomenPerInwoner_72": 21,
          "GemiddeldeHuishoudensgrootte_32": 1.9,
          "Koopwoningen_40": 39,
          "Opgesteld vermogen": 1435
         },
         {
          "GemiddeldInkomenPerInwoner_72": 29.2,
          "GemiddeldeHuishoudensgrootte_32": 2.3,
          "Koopwoningen_40": 75,
          "Opgesteld vermogen": 1412
         },
         {
          "GemiddeldInkomenPerInwoner_72": 23.3,
          "GemiddeldeHuishoudensgrootte_32": 2.3,
          "Koopwoningen_40": 64,
          "Opgesteld vermogen": 2217
         },
         {
          "GemiddeldInkomenPerInwoner_72": 26.5,
          "GemiddeldeHuishoudensgrootte_32": 1.4,
          "Koopwoningen_40": 43,
          "Opgesteld vermogen": 593
         },
         {
          "GemiddeldInkomenPerInwoner_72": 25.5,
          "GemiddeldeHuishoudensgrootte_32": 2.3,
          "Koopwoningen_40": 69,
          "Opgesteld vermogen": 734
         },
         {
          "GemiddeldInkomenPerInwoner_72": 22.4,
          "GemiddeldeHuishoudensgrootte_32": 1.9,
          "Koopwoningen_40": 45,
          "Opgesteld vermogen": 889
         },
         {
          "GemiddeldInkomenPerInwoner_72": 26.7,
          "GemiddeldeHuishoudensgrootte_32": 2.8,
          "Koopwoningen_40": 81,
          "Opgesteld vermogen": 2722
         },
         {
          "GemiddeldInkomenPerInwoner_72": 26.8,
          "GemiddeldeHuishoudensgrootte_32": 2.3,
          "Koopwoningen_40": 63,
          "Opgesteld vermogen": 650
         },
         {
          "GemiddeldInkomenPerInwoner_72": 25.4,
          "GemiddeldeHuishoudensgrootte_32": 2.1,
          "Koopwoningen_40": 73,
          "Opgesteld vermogen": 1528
         },
         {
          "GemiddeldInkomenPerInwoner_72": 27.9,
          "GemiddeldeHuishoudensgrootte_32": 2.1,
          "Koopwoningen_40": 55,
          "Opgesteld vermogen": 703
         },
         {
          "GemiddeldInkomenPerInwoner_72": 20.1,
          "GemiddeldeHuishoudensgrootte_32": 1.9,
          "Koopwoningen_40": 37,
          "Opgesteld vermogen": 286
         },
         {
          "GemiddeldInkomenPerInwoner_72": 30.2,
          "GemiddeldeHuishoudensgrootte_32": 2,
          "Koopwoningen_40": 71,
          "Opgesteld vermogen": 1531
         },
         {
          "GemiddeldInkomenPerInwoner_72": 21.2,
          "GemiddeldeHuishoudensgrootte_32": 2.1,
          "Koopwoningen_40": 40,
          "Opgesteld vermogen": 323
         },
         {
          "GemiddeldInkomenPerInwoner_72": 26.5,
          "GemiddeldeHuishoudensgrootte_32": 2.1,
          "Koopwoningen_40": 76,
          "Opgesteld vermogen": 848
         },
         {
          "GemiddeldInkomenPerInwoner_72": 23.7,
          "GemiddeldeHuishoudensgrootte_32": 2.4,
          "Koopwoningen_40": 70,
          "Opgesteld vermogen": 679
         },
         {
          "GemiddeldInkomenPerInwoner_72": 25,
          "GemiddeldeHuishoudensgrootte_32": 1.8,
          "Koopwoningen_40": 44,
          "Opgesteld vermogen": 344
         },
         {
          "GemiddeldInkomenPerInwoner_72": 25.3,
          "GemiddeldeHuishoudensgrootte_32": 2.2,
          "Koopwoningen_40": 50,
          "Opgesteld vermogen": 1018
         },
         {
          "GemiddeldInkomenPerInwoner_72": 27.9,
          "GemiddeldeHuishoudensgrootte_32": 2.2,
          "Koopwoningen_40": 65,
          "Opgesteld vermogen": 839
         },
         {
          "GemiddeldInkomenPerInwoner_72": 31.2,
          "GemiddeldeHuishoudensgrootte_32": 1.7,
          "Koopwoningen_40": 41,
          "Opgesteld vermogen": 794
         },
         {
          "GemiddeldInkomenPerInwoner_72": 28.8,
          "GemiddeldeHuishoudensgrootte_32": 2.3,
          "Koopwoningen_40": 79,
          "Opgesteld vermogen": 2085
         },
         {
          "GemiddeldInkomenPerInwoner_72": 26.3,
          "GemiddeldeHuishoudensgrootte_32": 2.4,
          "Koopwoningen_40": 68,
          "Opgesteld vermogen": 1815
         },
         {
          "GemiddeldInkomenPerInwoner_72": 23.4,
          "GemiddeldeHuishoudensgrootte_32": 1.6,
          "Koopwoningen_40": 27,
          "Opgesteld vermogen": 414
         },
         {
          "GemiddeldInkomenPerInwoner_72": 28.4,
          "GemiddeldeHuishoudensgrootte_32": 2.4,
          "Koopwoningen_40": 77,
          "Opgesteld vermogen": 1358
         },
         {
          "GemiddeldInkomenPerInwoner_72": 24.9,
          "GemiddeldeHuishoudensgrootte_32": 2.3,
          "Koopwoningen_40": 59,
          "Opgesteld vermogen": 1100
         },
         {
          "GemiddeldInkomenPerInwoner_72": 30.9,
          "GemiddeldeHuishoudensgrootte_32": 2.3,
          "Koopwoningen_40": 65,
          "Opgesteld vermogen": 651
         },
         {
          "GemiddeldInkomenPerInwoner_72": 19.4,
          "GemiddeldeHuishoudensgrootte_32": 2,
          "Koopwoningen_40": 35,
          "Opgesteld vermogen": 990
         },
         {
          "GemiddeldInkomenPerInwoner_72": 26.6,
          "GemiddeldeHuishoudensgrootte_32": 2.4,
          "Koopwoningen_40": 70,
          "Opgesteld vermogen": 772
         },
         {
          "GemiddeldInkomenPerInwoner_72": 33.3,
          "GemiddeldeHuishoudensgrootte_32": 2,
          "Koopwoningen_40": 65,
          "Opgesteld vermogen": 505
         },
         {
          "GemiddeldInkomenPerInwoner_72": 26.2,
          "GemiddeldeHuishoudensgrootte_32": 2.2,
          "Koopwoningen_40": 69,
          "Opgesteld vermogen": 1773
         },
         {
          "GemiddeldInkomenPerInwoner_72": 19.6,
          "GemiddeldeHuishoudensgrootte_32": 1.9,
          "Koopwoningen_40": 34,
          "Opgesteld vermogen": 510
         },
         {
          "GemiddeldInkomenPerInwoner_72": 25.8,
          "GemiddeldeHuishoudensgrootte_32": 2.3,
          "Koopwoningen_40": 70,
          "Opgesteld vermogen": 1270
         },
         {
          "GemiddeldInkomenPerInwoner_72": 18.4,
          "GemiddeldeHuishoudensgrootte_32": 2.2,
          "Koopwoningen_40": 49,
          "Opgesteld vermogen": 614
         },
         {
          "GemiddeldInkomenPerInwoner_72": 25.3,
          "GemiddeldeHuishoudensgrootte_32": 2.2,
          "Koopwoningen_40": 70,
          "Opgesteld vermogen": 1521
         },
         {
          "GemiddeldInkomenPerInwoner_72": 21.8,
          "GemiddeldeHuishoudensgrootte_32": 1.2,
          "Koopwoningen_40": 13,
          "Opgesteld vermogen": 334
         },
         {
          "GemiddeldInkomenPerInwoner_72": 32.7,
          "GemiddeldeHuishoudensgrootte_32": 2.4,
          "Koopwoningen_40": 78,
          "Opgesteld vermogen": 863
         },
         {
          "GemiddeldInkomenPerInwoner_72": 25.6,
          "GemiddeldeHuishoudensgrootte_32": 1.9,
          "Koopwoningen_40": 57,
          "Opgesteld vermogen": 531
         },
         {
          "GemiddeldInkomenPerInwoner_72": 28.4,
          "GemiddeldeHuishoudensgrootte_32": 2.4,
          "Koopwoningen_40": 59,
          "Opgesteld vermogen": 775
         },
         {
          "GemiddeldInkomenPerInwoner_72": 24.7,
          "GemiddeldeHuishoudensgrootte_32": 1.9,
          "Koopwoningen_40": 47,
          "Opgesteld vermogen": 1769
         },
         {
          "GemiddeldInkomenPerInwoner_72": 24.4,
          "GemiddeldeHuishoudensgrootte_32": 2,
          "Koopwoningen_40": 59,
          "Opgesteld vermogen": 641
         },
         {
          "GemiddeldInkomenPerInwoner_72": 24.6,
          "GemiddeldeHuishoudensgrootte_32": 2.3,
          "Koopwoningen_40": 70,
          "Opgesteld vermogen": 1651
         },
         {
          "GemiddeldInkomenPerInwoner_72": 20.6,
          "GemiddeldeHuishoudensgrootte_32": 1.7,
          "Koopwoningen_40": 24,
          "Opgesteld vermogen": 432
         },
         {
          "GemiddeldInkomenPerInwoner_72": 31.6,
          "GemiddeldeHuishoudensgrootte_32": 2.5,
          "Koopwoningen_40": 90,
          "Opgesteld vermogen": 1491
         },
         {
          "GemiddeldInkomenPerInwoner_72": 21.9,
          "GemiddeldeHuishoudensgrootte_32": 1.9,
          "Koopwoningen_40": 46,
          "Opgesteld vermogen": 705
         },
         {
          "GemiddeldInkomenPerInwoner_72": 25.9,
          "GemiddeldeHuishoudensgrootte_32": 2.2,
          "Koopwoningen_40": 61,
          "Opgesteld vermogen": 1230
         },
         {
          "GemiddeldInkomenPerInwoner_72": 23.2,
          "GemiddeldeHuishoudensgrootte_32": 2,
          "Koopwoningen_40": 40,
          "Opgesteld vermogen": 629
         },
         {
          "GemiddeldInkomenPerInwoner_72": 26.7,
          "GemiddeldeHuishoudensgrootte_32": 2.1,
          "Koopwoningen_40": 65,
          "Opgesteld vermogen": 2632
         },
         {
          "GemiddeldInkomenPerInwoner_72": 30.7,
          "GemiddeldeHuishoudensgrootte_32": 2.3,
          "Koopwoningen_40": 78,
          "Opgesteld vermogen": 739
         },
         {
          "GemiddeldInkomenPerInwoner_72": 21.9,
          "GemiddeldeHuishoudensgrootte_32": 1.9,
          "Koopwoningen_40": 47,
          "Opgesteld vermogen": 1089
         },
         {
          "GemiddeldInkomenPerInwoner_72": 30.3,
          "GemiddeldeHuishoudensgrootte_32": 2.2,
          "Koopwoningen_40": 80,
          "Opgesteld vermogen": 2066
         },
         {
          "GemiddeldInkomenPerInwoner_72": 22.2,
          "GemiddeldeHuishoudensgrootte_32": 2.7,
          "Koopwoningen_40": 78,
          "Opgesteld vermogen": 445
         },
         {
          "GemiddeldInkomenPerInwoner_72": 15.9,
          "GemiddeldeHuishoudensgrootte_32": 2.3,
          "Koopwoningen_40": 31,
          "Opgesteld vermogen": 314
         },
         {
          "GemiddeldInkomenPerInwoner_72": 21.6,
          "GemiddeldeHuishoudensgrootte_32": 2.3,
          "Koopwoningen_40": 64,
          "Opgesteld vermogen": 499
         },
         {
          "GemiddeldInkomenPerInwoner_72": 24,
          "GemiddeldeHuishoudensgrootte_32": 2,
          "Koopwoningen_40": 60,
          "Opgesteld vermogen": 691
         },
         {
          "GemiddeldInkomenPerInwoner_72": 24.2,
          "GemiddeldeHuishoudensgrootte_32": 2.2,
          "Koopwoningen_40": 58,
          "Opgesteld vermogen": 1576
         },
         {
          "GemiddeldInkomenPerInwoner_72": 23.7,
          "GemiddeldeHuishoudensgrootte_32": 2.2,
          "Koopwoningen_40": 64,
          "Opgesteld vermogen": 1189
         },
         {
          "GemiddeldInkomenPerInwoner_72": 30.3,
          "GemiddeldeHuishoudensgrootte_32": 2.4,
          "Koopwoningen_40": 79,
          "Opgesteld vermogen": 1405
         },
         {
          "GemiddeldInkomenPerInwoner_72": 35,
          "GemiddeldeHuishoudensgrootte_32": 2.3,
          "Koopwoningen_40": 75,
          "Opgesteld vermogen": 1197
         },
         {
          "GemiddeldInkomenPerInwoner_72": 20.3,
          "GemiddeldeHuishoudensgrootte_32": 1.9,
          "Koopwoningen_40": 46,
          "Opgesteld vermogen": 418
         },
         {
          "GemiddeldInkomenPerInwoner_72": 27,
          "GemiddeldeHuishoudensgrootte_32": 2.7,
          "Koopwoningen_40": 88,
          "Opgesteld vermogen": 781
         },
         {
          "GemiddeldInkomenPerInwoner_72": 24.1,
          "GemiddeldeHuishoudensgrootte_32": 3.4,
          "Koopwoningen_40": 88,
          "Opgesteld vermogen": 1560
         },
         {
          "GemiddeldInkomenPerInwoner_72": 24.1,
          "GemiddeldeHuishoudensgrootte_32": 2.9,
          "Koopwoningen_40": 82,
          "Opgesteld vermogen": 1219
         },
         {
          "GemiddeldInkomenPerInwoner_72": 29.5,
          "GemiddeldeHuishoudensgrootte_32": 2.3,
          "Koopwoningen_40": 77,
          "Opgesteld vermogen": 995
         },
         {
          "GemiddeldInkomenPerInwoner_72": 25,
          "GemiddeldeHuishoudensgrootte_32": 2.3,
          "Koopwoningen_40": 57,
          "Opgesteld vermogen": 372
         },
         {
          "GemiddeldInkomenPerInwoner_72": 21,
          "GemiddeldeHuishoudensgrootte_32": 1.8,
          "Koopwoningen_40": 46,
          "Opgesteld vermogen": 358
         },
         {
          "GemiddeldInkomenPerInwoner_72": 24.3,
          "GemiddeldeHuishoudensgrootte_32": 2.3,
          "Koopwoningen_40": 71,
          "Opgesteld vermogen": 763
         },
         {
          "GemiddeldInkomenPerInwoner_72": 25.2,
          "GemiddeldeHuishoudensgrootte_32": 1.4,
          "Koopwoningen_40": 38,
          "Opgesteld vermogen": 636
         },
         {
          "GemiddeldInkomenPerInwoner_72": 28.3,
          "GemiddeldeHuishoudensgrootte_32": 1.9,
          "Koopwoningen_40": 55,
          "Opgesteld vermogen": 1562
         },
         {
          "GemiddeldInkomenPerInwoner_72": 25.2,
          "GemiddeldeHuishoudensgrootte_32": 2.3,
          "Koopwoningen_40": 66,
          "Opgesteld vermogen": 936
         },
         {
          "GemiddeldInkomenPerInwoner_72": 25.6,
          "GemiddeldeHuishoudensgrootte_32": 1.9,
          "Koopwoningen_40": 59,
          "Opgesteld vermogen": 1273
         },
         {
          "GemiddeldInkomenPerInwoner_72": 23.9,
          "GemiddeldeHuishoudensgrootte_32": 2.2,
          "Koopwoningen_40": 54,
          "Opgesteld vermogen": 1717
         },
         {
          "GemiddeldInkomenPerInwoner_72": 24.2,
          "GemiddeldeHuishoudensgrootte_32": 1.8,
          "Koopwoningen_40": 30,
          "Opgesteld vermogen": 1106
         },
         {
          "GemiddeldInkomenPerInwoner_72": 21.2,
          "GemiddeldeHuishoudensgrootte_32": 1.9,
          "Koopwoningen_40": 47,
          "Opgesteld vermogen": 2686
         },
         {
          "GemiddeldInkomenPerInwoner_72": 27,
          "GemiddeldeHuishoudensgrootte_32": 1.8,
          "Koopwoningen_40": 53,
          "Opgesteld vermogen": 371
         },
         {
          "GemiddeldInkomenPerInwoner_72": 28.6,
          "GemiddeldeHuishoudensgrootte_32": 2.5,
          "Koopwoningen_40": 82,
          "Opgesteld vermogen": 632
         },
         {
          "GemiddeldInkomenPerInwoner_72": 20.6,
          "GemiddeldeHuishoudensgrootte_32": 2.2,
          "Koopwoningen_40": 58,
          "Opgesteld vermogen": 486
         },
         {
          "GemiddeldInkomenPerInwoner_72": 23.4,
          "GemiddeldeHuishoudensgrootte_32": 2,
          "Koopwoningen_40": 59,
          "Opgesteld vermogen": 2689
         },
         {
          "GemiddeldInkomenPerInwoner_72": 25.4,
          "GemiddeldeHuishoudensgrootte_32": 1.8,
          "Koopwoningen_40": 43,
          "Opgesteld vermogen": 838
         },
         {
          "GemiddeldInkomenPerInwoner_72": 22.3,
          "GemiddeldeHuishoudensgrootte_32": 2,
          "Koopwoningen_40": 56,
          "Opgesteld vermogen": 3040
         },
         {
          "GemiddeldInkomenPerInwoner_72": 29.6,
          "GemiddeldeHuishoudensgrootte_32": 2.3,
          "Koopwoningen_40": 65,
          "Opgesteld vermogen": 926
         },
         {
          "GemiddeldInkomenPerInwoner_72": 25.9,
          "GemiddeldeHuishoudensgrootte_32": 2.1,
          "Koopwoningen_40": 55,
          "Opgesteld vermogen": 526
         },
         {
          "GemiddeldInkomenPerInwoner_72": 34.5,
          "GemiddeldeHuishoudensgrootte_32": 2.9,
          "Koopwoningen_40": 83,
          "Opgesteld vermogen": 709
         },
         {
          "GemiddeldInkomenPerInwoner_72": 26.7,
          "GemiddeldeHuishoudensgrootte_32": 1.6,
          "Koopwoningen_40": 44,
          "Opgesteld vermogen": 364
         },
         {
          "GemiddeldInkomenPerInwoner_72": 30.5,
          "GemiddeldeHuishoudensgrootte_32": 2.3,
          "Koopwoningen_40": 69,
          "Opgesteld vermogen": 1619
         },
         {
          "GemiddeldInkomenPerInwoner_72": 26.2,
          "GemiddeldeHuishoudensgrootte_32": 3.3,
          "Koopwoningen_40": 88,
          "Opgesteld vermogen": 1226
         },
         {
          "GemiddeldInkomenPerInwoner_72": 19.5,
          "GemiddeldeHuishoudensgrootte_32": 1.9,
          "Koopwoningen_40": 29,
          "Opgesteld vermogen": 523
         },
         {
          "GemiddeldInkomenPerInwoner_72": 28.7,
          "GemiddeldeHuishoudensgrootte_32": 1.8,
          "Koopwoningen_40": 52,
          "Opgesteld vermogen": 2726
         },
         {
          "GemiddeldInkomenPerInwoner_72": 21.5,
          "GemiddeldeHuishoudensgrootte_32": 1.9,
          "Koopwoningen_40": 31,
          "Opgesteld vermogen": 695
         },
         {
          "GemiddeldInkomenPerInwoner_72": 32.4,
          "GemiddeldeHuishoudensgrootte_32": 2.4,
          "Koopwoningen_40": 75,
          "Opgesteld vermogen": 1802
         },
         {
          "GemiddeldInkomenPerInwoner_72": 30.3,
          "GemiddeldeHuishoudensgrootte_32": 2.5,
          "Koopwoningen_40": 73,
          "Opgesteld vermogen": 485
         },
         {
          "GemiddeldInkomenPerInwoner_72": 24,
          "GemiddeldeHuishoudensgrootte_32": 1.9,
          "Koopwoningen_40": 55,
          "Opgesteld vermogen": 1083
         },
         {
          "GemiddeldInkomenPerInwoner_72": 24.5,
          "GemiddeldeHuishoudensgrootte_32": 1.4,
          "Koopwoningen_40": 27,
          "Opgesteld vermogen": 376
         },
         {
          "GemiddeldInkomenPerInwoner_72": 20.4,
          "GemiddeldeHuishoudensgrootte_32": 1.8,
          "Koopwoningen_40": 22,
          "Opgesteld vermogen": 2068
         },
         {
          "GemiddeldInkomenPerInwoner_72": 28.4,
          "GemiddeldeHuishoudensgrootte_32": 1.9,
          "Koopwoningen_40": 57,
          "Opgesteld vermogen": 821
         },
         {
          "GemiddeldInkomenPerInwoner_72": 26.9,
          "GemiddeldeHuishoudensgrootte_32": 2.1,
          "Koopwoningen_40": 68,
          "Opgesteld vermogen": 1287
         },
         {
          "GemiddeldInkomenPerInwoner_72": 27.4,
          "GemiddeldeHuishoudensgrootte_32": 2.3,
          "Koopwoningen_40": 68,
          "Opgesteld vermogen": 1597
         },
         {
          "GemiddeldInkomenPerInwoner_72": 25.2,
          "GemiddeldeHuishoudensgrootte_32": 2.1,
          "Koopwoningen_40": 59,
          "Opgesteld vermogen": 971
         },
         {
          "GemiddeldInkomenPerInwoner_72": 27.8,
          "GemiddeldeHuishoudensgrootte_32": 2.3,
          "Koopwoningen_40": 72,
          "Opgesteld vermogen": 2823
         },
         {
          "GemiddeldInkomenPerInwoner_72": 21.6,
          "GemiddeldeHuishoudensgrootte_32": 2.1,
          "Koopwoningen_40": 56,
          "Opgesteld vermogen": 2121
         },
         {
          "GemiddeldInkomenPerInwoner_72": 26,
          "GemiddeldeHuishoudensgrootte_32": 2,
          "Koopwoningen_40": 52,
          "Opgesteld vermogen": 1183
         },
         {
          "GemiddeldInkomenPerInwoner_72": 24.2,
          "GemiddeldeHuishoudensgrootte_32": 1.9,
          "Koopwoningen_40": 49,
          "Opgesteld vermogen": 1092
         },
         {
          "GemiddeldInkomenPerInwoner_72": 19.2,
          "GemiddeldeHuishoudensgrootte_32": 1.8,
          "Koopwoningen_40": 39,
          "Opgesteld vermogen": 498
         },
         {
          "GemiddeldInkomenPerInwoner_72": 20.4,
          "GemiddeldeHuishoudensgrootte_32": 2.1,
          "Koopwoningen_40": 36,
          "Opgesteld vermogen": 764
         },
         {
          "GemiddeldInkomenPerInwoner_72": 25.2,
          "GemiddeldeHuishoudensgrootte_32": 2.6,
          "Koopwoningen_40": 74,
          "Opgesteld vermogen": 1175
         },
         {
          "GemiddeldInkomenPerInwoner_72": 20.3,
          "GemiddeldeHuishoudensgrootte_32": 2.1,
          "Koopwoningen_40": 40,
          "Opgesteld vermogen": 349
         },
         {
          "GemiddeldInkomenPerInwoner_72": 18.6,
          "GemiddeldeHuishoudensgrootte_32": 2,
          "Koopwoningen_40": 19,
          "Opgesteld vermogen": 459
         },
         {
          "GemiddeldInkomenPerInwoner_72": 27.3,
          "GemiddeldeHuishoudensgrootte_32": 3,
          "Koopwoningen_40": 88,
          "Opgesteld vermogen": 1098
         },
         {
          "GemiddeldInkomenPerInwoner_72": 31.6,
          "GemiddeldeHuishoudensgrootte_32": 2.2,
          "Koopwoningen_40": 66,
          "Opgesteld vermogen": 793
         },
         {
          "GemiddeldInkomenPerInwoner_72": 23.4,
          "GemiddeldeHuishoudensgrootte_32": 1.9,
          "Koopwoningen_40": 64,
          "Opgesteld vermogen": 445
         },
         {
          "GemiddeldInkomenPerInwoner_72": 24,
          "GemiddeldeHuishoudensgrootte_32": 2.3,
          "Koopwoningen_40": 61,
          "Opgesteld vermogen": 1874
         },
         {
          "GemiddeldInkomenPerInwoner_72": 25.4,
          "GemiddeldeHuishoudensgrootte_32": 2.1,
          "Koopwoningen_40": 54,
          "Opgesteld vermogen": 234
         },
         {
          "GemiddeldInkomenPerInwoner_72": 20.1,
          "GemiddeldeHuishoudensgrootte_32": 2.1,
          "Koopwoningen_40": 29,
          "Opgesteld vermogen": 839
         },
         {
          "GemiddeldInkomenPerInwoner_72": 26.8,
          "GemiddeldeHuishoudensgrootte_32": 2.3,
          "Koopwoningen_40": 67,
          "Opgesteld vermogen": 766
         },
         {
          "GemiddeldInkomenPerInwoner_72": 24.6,
          "GemiddeldeHuishoudensgrootte_32": 2.2,
          "Koopwoningen_40": 54,
          "Opgesteld vermogen": 1592
         },
         {
          "GemiddeldInkomenPerInwoner_72": 25.2,
          "GemiddeldeHuishoudensgrootte_32": 2.2,
          "Koopwoningen_40": 66,
          "Opgesteld vermogen": 389
         },
         {
          "GemiddeldInkomenPerInwoner_72": 22,
          "GemiddeldeHuishoudensgrootte_32": 2.4,
          "Koopwoningen_40": 73,
          "Opgesteld vermogen": 876
         },
         {
          "GemiddeldInkomenPerInwoner_72": 25.8,
          "GemiddeldeHuishoudensgrootte_32": 2.3,
          "Koopwoningen_40": 66,
          "Opgesteld vermogen": 1720
         },
         {
          "GemiddeldInkomenPerInwoner_72": 26.3,
          "GemiddeldeHuishoudensgrootte_32": 2.2,
          "Koopwoningen_40": 60,
          "Opgesteld vermogen": 4006
         },
         {
          "GemiddeldInkomenPerInwoner_72": 28.1,
          "GemiddeldeHuishoudensgrootte_32": 2.4,
          "Koopwoningen_40": 76,
          "Opgesteld vermogen": 1560
         },
         {
          "GemiddeldInkomenPerInwoner_72": 24.2,
          "GemiddeldeHuishoudensgrootte_32": 2.3,
          "Koopwoningen_40": 54,
          "Opgesteld vermogen": 825
         },
         {
          "GemiddeldInkomenPerInwoner_72": 28.8,
          "GemiddeldeHuishoudensgrootte_32": 2.3,
          "Koopwoningen_40": 73,
          "Opgesteld vermogen": 1866
         },
         {
          "GemiddeldInkomenPerInwoner_72": 28.8,
          "GemiddeldeHuishoudensgrootte_32": 2.2,
          "Koopwoningen_40": 70,
          "Opgesteld vermogen": 1323
         },
         {
          "GemiddeldInkomenPerInwoner_72": 29.7,
          "GemiddeldeHuishoudensgrootte_32": 2.4,
          "Koopwoningen_40": 63,
          "Opgesteld vermogen": 609
         },
         {
          "GemiddeldInkomenPerInwoner_72": 26.5,
          "GemiddeldeHuishoudensgrootte_32": 2.1,
          "Koopwoningen_40": 54,
          "Opgesteld vermogen": 1293
         },
         {
          "GemiddeldInkomenPerInwoner_72": 26.6,
          "GemiddeldeHuishoudensgrootte_32": 2.3,
          "Koopwoningen_40": 75,
          "Opgesteld vermogen": 839
         },
         {
          "GemiddeldInkomenPerInwoner_72": 25.9,
          "GemiddeldeHuishoudensgrootte_32": 1.9,
          "Koopwoningen_40": 53,
          "Opgesteld vermogen": 1157
         },
         {
          "GemiddeldInkomenPerInwoner_72": 22.2,
          "GemiddeldeHuishoudensgrootte_32": 2.2,
          "Koopwoningen_40": 61,
          "Opgesteld vermogen": 1956
         },
         {
          "GemiddeldInkomenPerInwoner_72": 27.3,
          "GemiddeldeHuishoudensgrootte_32": 2.3,
          "Koopwoningen_40": 75,
          "Opgesteld vermogen": 4145
         },
         {
          "GemiddeldInkomenPerInwoner_72": 22.2,
          "GemiddeldeHuishoudensgrootte_32": 1.5,
          "Koopwoningen_40": 27,
          "Opgesteld vermogen": 400
         },
         {
          "GemiddeldInkomenPerInwoner_72": 26.6,
          "GemiddeldeHuishoudensgrootte_32": 2.2,
          "Koopwoningen_40": 61,
          "Opgesteld vermogen": 1966
         },
         {
          "GemiddeldInkomenPerInwoner_72": 31.8,
          "GemiddeldeHuishoudensgrootte_32": 2.9,
          "Koopwoningen_40": 72,
          "Opgesteld vermogen": 947
         },
         {
          "GemiddeldInkomenPerInwoner_72": 24.3,
          "GemiddeldeHuishoudensgrootte_32": 2.3,
          "Koopwoningen_40": 60,
          "Opgesteld vermogen": 632
         },
         {
          "GemiddeldInkomenPerInwoner_72": 24.4,
          "GemiddeldeHuishoudensgrootte_32": 2.2,
          "Koopwoningen_40": 65,
          "Opgesteld vermogen": 780
         },
         {
          "GemiddeldInkomenPerInwoner_72": 29,
          "GemiddeldeHuishoudensgrootte_32": 2.2,
          "Koopwoningen_40": 69,
          "Opgesteld vermogen": 1214
         },
         {
          "GemiddeldInkomenPerInwoner_72": 24.3,
          "GemiddeldeHuishoudensgrootte_32": 2.2,
          "Koopwoningen_40": 58,
          "Opgesteld vermogen": 636
         },
         {
          "GemiddeldInkomenPerInwoner_72": 30,
          "GemiddeldeHuishoudensgrootte_32": 2.2,
          "Koopwoningen_40": 68,
          "Opgesteld vermogen": 2088
         },
         {
          "GemiddeldInkomenPerInwoner_72": 28.6,
          "GemiddeldeHuishoudensgrootte_32": 2.3,
          "Koopwoningen_40": 70,
          "Opgesteld vermogen": 697
         },
         {
          "GemiddeldInkomenPerInwoner_72": 19.9,
          "GemiddeldeHuishoudensgrootte_32": 1.6,
          "Koopwoningen_40": 16,
          "Opgesteld vermogen": 325
         },
         {
          "GemiddeldInkomenPerInwoner_72": 27.1,
          "GemiddeldeHuishoudensgrootte_32": 2.4,
          "Koopwoningen_40": 75,
          "Opgesteld vermogen": 684
         },
         {
          "GemiddeldInkomenPerInwoner_72": 23.6,
          "GemiddeldeHuishoudensgrootte_32": 1.9,
          "Koopwoningen_40": 53,
          "Opgesteld vermogen": 1260
         },
         {
          "GemiddeldInkomenPerInwoner_72": 21.7,
          "GemiddeldeHuishoudensgrootte_32": 2,
          "Koopwoningen_40": 45,
          "Opgesteld vermogen": 429
         },
         {
          "GemiddeldInkomenPerInwoner_72": 25.8,
          "GemiddeldeHuishoudensgrootte_32": 2,
          "Koopwoningen_40": 44,
          "Opgesteld vermogen": 548
         },
         {
          "GemiddeldInkomenPerInwoner_72": 33.5,
          "GemiddeldeHuishoudensgrootte_32": 2.4,
          "Koopwoningen_40": 74,
          "Opgesteld vermogen": 1924
         },
         {
          "GemiddeldInkomenPerInwoner_72": 32.3,
          "GemiddeldeHuishoudensgrootte_32": 2.4,
          "Koopwoningen_40": 73,
          "Opgesteld vermogen": 1140
         },
         {
          "GemiddeldInkomenPerInwoner_72": 30.7,
          "GemiddeldeHuishoudensgrootte_32": 2.5,
          "Koopwoningen_40": 79,
          "Opgesteld vermogen": 1066
         },
         {
          "GemiddeldInkomenPerInwoner_72": 29.1,
          "GemiddeldeHuishoudensgrootte_32": 2.2,
          "Koopwoningen_40": 69,
          "Opgesteld vermogen": 1161
         },
         {
          "GemiddeldInkomenPerInwoner_72": 20.1,
          "GemiddeldeHuishoudensgrootte_32": 2.2,
          "Koopwoningen_40": 43,
          "Opgesteld vermogen": 204
         },
         {
          "GemiddeldInkomenPerInwoner_72": 27.2,
          "GemiddeldeHuishoudensgrootte_32": 2.1,
          "Koopwoningen_40": 76,
          "Opgesteld vermogen": 1735
         },
         {
          "GemiddeldInkomenPerInwoner_72": 29.2,
          "GemiddeldeHuishoudensgrootte_32": 2.3,
          "Koopwoningen_40": 78,
          "Opgesteld vermogen": 809
         },
         {
          "GemiddeldInkomenPerInwoner_72": 22.9,
          "GemiddeldeHuishoudensgrootte_32": 2,
          "Koopwoningen_40": 42,
          "Opgesteld vermogen": 519
         },
         {
          "GemiddeldInkomenPerInwoner_72": 24.8,
          "GemiddeldeHuishoudensgrootte_32": 2.3,
          "Koopwoningen_40": 71,
          "Opgesteld vermogen": 1177
         },
         {
          "GemiddeldInkomenPerInwoner_72": 26.6,
          "GemiddeldeHuishoudensgrootte_32": 2,
          "Koopwoningen_40": 48,
          "Opgesteld vermogen": 1384
         },
         {
          "GemiddeldInkomenPerInwoner_72": 39.9,
          "GemiddeldeHuishoudensgrootte_32": 2,
          "Koopwoningen_40": 66,
          "Opgesteld vermogen": 1659
         },
         {
          "GemiddeldInkomenPerInwoner_72": 23.6,
          "GemiddeldeHuishoudensgrootte_32": 1.9,
          "Koopwoningen_40": 27,
          "Opgesteld vermogen": 600
         },
         {
          "GemiddeldInkomenPerInwoner_72": 29.2,
          "GemiddeldeHuishoudensgrootte_32": 2.7,
          "Koopwoningen_40": 63,
          "Opgesteld vermogen": 969
         },
         {
          "GemiddeldInkomenPerInwoner_72": 28.5,
          "GemiddeldeHuishoudensgrootte_32": 2.1,
          "Koopwoningen_40": 75,
          "Opgesteld vermogen": 2025
         },
         {
          "GemiddeldInkomenPerInwoner_72": 26.6,
          "GemiddeldeHuishoudensgrootte_32": 2.4,
          "Koopwoningen_40": 62,
          "Opgesteld vermogen": 1433
         },
         {
          "GemiddeldInkomenPerInwoner_72": 27.4,
          "GemiddeldeHuishoudensgrootte_32": 2.2,
          "Koopwoningen_40": 71,
          "Opgesteld vermogen": 1032
         },
         {
          "GemiddeldInkomenPerInwoner_72": 27.2,
          "GemiddeldeHuishoudensgrootte_32": 2.1,
          "Koopwoningen_40": 67,
          "Opgesteld vermogen": 1210
         },
         {
          "GemiddeldInkomenPerInwoner_72": 26.4,
          "GemiddeldeHuishoudensgrootte_32": 2.3,
          "Koopwoningen_40": 68,
          "Opgesteld vermogen": 1149
         },
         {
          "GemiddeldInkomenPerInwoner_72": 23.4,
          "GemiddeldeHuishoudensgrootte_32": 2.3,
          "Koopwoningen_40": 66,
          "Opgesteld vermogen": 1815
         },
         {
          "GemiddeldInkomenPerInwoner_72": 31.1,
          "GemiddeldeHuishoudensgrootte_32": 2.4,
          "Koopwoningen_40": 86,
          "Opgesteld vermogen": 663
         },
         {
          "GemiddeldInkomenPerInwoner_72": 21,
          "GemiddeldeHuishoudensgrootte_32": 2.2,
          "Koopwoningen_40": 53,
          "Opgesteld vermogen": 834
         },
         {
          "GemiddeldInkomenPerInwoner_72": 32.9,
          "GemiddeldeHuishoudensgrootte_32": 2.4,
          "Koopwoningen_40": 86,
          "Opgesteld vermogen": 1453
         },
         {
          "GemiddeldInkomenPerInwoner_72": 30,
          "GemiddeldeHuishoudensgrootte_32": 2.1,
          "Koopwoningen_40": 57,
          "Opgesteld vermogen": 1627
         },
         {
          "GemiddeldInkomenPerInwoner_72": 32,
          "GemiddeldeHuishoudensgrootte_32": 2.3,
          "Koopwoningen_40": 73,
          "Opgesteld vermogen": 1713
         },
         {
          "GemiddeldInkomenPerInwoner_72": 20.4,
          "GemiddeldeHuishoudensgrootte_32": 1.3,
          "Koopwoningen_40": 12,
          "Opgesteld vermogen": 240
         },
         {
          "GemiddeldInkomenPerInwoner_72": 27.4,
          "GemiddeldeHuishoudensgrootte_32": 2.1,
          "Koopwoningen_40": 69,
          "Opgesteld vermogen": 2577
         },
         {
          "GemiddeldInkomenPerInwoner_72": 21.8,
          "GemiddeldeHuishoudensgrootte_32": 1.7,
          "Koopwoningen_40": 36,
          "Opgesteld vermogen": 302
         },
         {
          "GemiddeldInkomenPerInwoner_72": 30.3,
          "GemiddeldeHuishoudensgrootte_32": 2.2,
          "Koopwoningen_40": 69,
          "Opgesteld vermogen": 2544
         },
         {
          "GemiddeldInkomenPerInwoner_72": 27.5,
          "GemiddeldeHuishoudensgrootte_32": 2,
          "Koopwoningen_40": 50,
          "Opgesteld vermogen": 1269
         },
         {
          "GemiddeldInkomenPerInwoner_72": 22.3,
          "GemiddeldeHuishoudensgrootte_32": 2,
          "Koopwoningen_40": 49,
          "Opgesteld vermogen": 919
         },
         {
          "GemiddeldInkomenPerInwoner_72": 25.7,
          "GemiddeldeHuishoudensgrootte_32": 2.2,
          "Koopwoningen_40": 64,
          "Opgesteld vermogen": 1519
         },
         {
          "GemiddeldInkomenPerInwoner_72": 22.8,
          "GemiddeldeHuishoudensgrootte_32": 1.8,
          "Koopwoningen_40": 43,
          "Opgesteld vermogen": 737
         },
         {
          "GemiddeldInkomenPerInwoner_72": 26.3,
          "GemiddeldeHuishoudensgrootte_32": 2.2,
          "Koopwoningen_40": 61,
          "Opgesteld vermogen": 722
         },
         {
          "GemiddeldInkomenPerInwoner_72": 28.8,
          "GemiddeldeHuishoudensgrootte_32": 2.5,
          "Koopwoningen_40": 88,
          "Opgesteld vermogen": 1018
         },
         {
          "GemiddeldInkomenPerInwoner_72": 17.8,
          "GemiddeldeHuishoudensgrootte_32": 1.9,
          "Koopwoningen_40": 24,
          "Opgesteld vermogen": 302
         },
         {
          "GemiddeldInkomenPerInwoner_72": 32.7,
          "GemiddeldeHuishoudensgrootte_32": 2.8,
          "Koopwoningen_40": 87,
          "Opgesteld vermogen": 1211
         },
         {
          "GemiddeldInkomenPerInwoner_72": 22.9,
          "GemiddeldeHuishoudensgrootte_32": 2.3,
          "Koopwoningen_40": 62,
          "Opgesteld vermogen": 1249
         },
         {
          "GemiddeldInkomenPerInwoner_72": 27.2,
          "GemiddeldeHuishoudensgrootte_32": 2.2,
          "Koopwoningen_40": 65,
          "Opgesteld vermogen": 641
         },
         {
          "GemiddeldInkomenPerInwoner_72": 27.9,
          "GemiddeldeHuishoudensgrootte_32": 2.4,
          "Koopwoningen_40": 64,
          "Opgesteld vermogen": 625
         },
         {
          "GemiddeldInkomenPerInwoner_72": 25.4,
          "GemiddeldeHuishoudensgrootte_32": 2.3,
          "Koopwoningen_40": 69,
          "Opgesteld vermogen": 1603
         },
         {
          "GemiddeldInkomenPerInwoner_72": 21.4,
          "GemiddeldeHuishoudensgrootte_32": 2.2,
          "Koopwoningen_40": 44,
          "Opgesteld vermogen": 444
         },
         {
          "GemiddeldInkomenPerInwoner_72": 39.2,
          "GemiddeldeHuishoudensgrootte_32": 2.1,
          "Koopwoningen_40": 70,
          "Opgesteld vermogen": 697
         },
         {
          "GemiddeldInkomenPerInwoner_72": 24.3,
          "GemiddeldeHuishoudensgrootte_32": 2.4,
          "Koopwoningen_40": 64,
          "Opgesteld vermogen": 608
         },
         {
          "GemiddeldInkomenPerInwoner_72": 25.1,
          "GemiddeldeHuishoudensgrootte_32": 2.1,
          "Koopwoningen_40": 61,
          "Opgesteld vermogen": 825
         },
         {
          "GemiddeldInkomenPerInwoner_72": 21.8,
          "GemiddeldeHuishoudensgrootte_32": 2.2,
          "Koopwoningen_40": 60,
          "Opgesteld vermogen": 1077
         },
         {
          "GemiddeldInkomenPerInwoner_72": 26.2,
          "GemiddeldeHuishoudensgrootte_32": 1.9,
          "Koopwoningen_40": 53,
          "Opgesteld vermogen": 1744
         },
         {
          "GemiddeldInkomenPerInwoner_72": 27.7,
          "GemiddeldeHuishoudensgrootte_32": 1.7,
          "Koopwoningen_40": 43,
          "Opgesteld vermogen": 578
         },
         {
          "GemiddeldInkomenPerInwoner_72": 25.3,
          "GemiddeldeHuishoudensgrootte_32": 2.1,
          "Koopwoningen_40": 63,
          "Opgesteld vermogen": 987
         },
         {
          "GemiddeldInkomenPerInwoner_72": 35.7,
          "GemiddeldeHuishoudensgrootte_32": 2.3,
          "Koopwoningen_40": 82,
          "Opgesteld vermogen": 1117
         },
         {
          "GemiddeldInkomenPerInwoner_72": 19.1,
          "GemiddeldeHuishoudensgrootte_32": 1.8,
          "Koopwoningen_40": 19,
          "Opgesteld vermogen": 318
         },
         {
          "GemiddeldInkomenPerInwoner_72": 29.8,
          "GemiddeldeHuishoudensgrootte_32": 2.8,
          "Koopwoningen_40": 89,
          "Opgesteld vermogen": 2381
         },
         {
          "GemiddeldInkomenPerInwoner_72": 22.8,
          "GemiddeldeHuishoudensgrootte_32": 2.4,
          "Koopwoningen_40": 67,
          "Opgesteld vermogen": 932
         },
         {
          "GemiddeldInkomenPerInwoner_72": 33.5,
          "GemiddeldeHuishoudensgrootte_32": 2.3,
          "Koopwoningen_40": 81,
          "Opgesteld vermogen": 1973
         },
         {
          "GemiddeldInkomenPerInwoner_72": 35.4,
          "GemiddeldeHuishoudensgrootte_32": 1.6,
          "Koopwoningen_40": 49,
          "Opgesteld vermogen": 144
         },
         {
          "GemiddeldInkomenPerInwoner_72": 28.3,
          "GemiddeldeHuishoudensgrootte_32": 1.6,
          "Koopwoningen_40": 41,
          "Opgesteld vermogen": 301
         },
         {
          "GemiddeldInkomenPerInwoner_72": 26.1,
          "GemiddeldeHuishoudensgrootte_32": 2.3,
          "Koopwoningen_40": 76,
          "Opgesteld vermogen": 1645
         },
         {
          "GemiddeldInkomenPerInwoner_72": 23.6,
          "GemiddeldeHuishoudensgrootte_32": 1.3,
          "Koopwoningen_40": 39,
          "Opgesteld vermogen": 582
         },
         {
          "GemiddeldInkomenPerInwoner_72": 19.2,
          "GemiddeldeHuishoudensgrootte_32": 1.9,
          "Koopwoningen_40": 22,
          "Opgesteld vermogen": 119
         },
         {
          "GemiddeldInkomenPerInwoner_72": 21.3,
          "GemiddeldeHuishoudensgrootte_32": 2.1,
          "Koopwoningen_40": 37,
          "Opgesteld vermogen": 697
         },
         {
          "GemiddeldInkomenPerInwoner_72": 25.3,
          "GemiddeldeHuishoudensgrootte_32": 2.3,
          "Koopwoningen_40": 63,
          "Opgesteld vermogen": 2818
         },
         {
          "GemiddeldInkomenPerInwoner_72": 31.3,
          "GemiddeldeHuishoudensgrootte_32": 2.2,
          "Koopwoningen_40": 87,
          "Opgesteld vermogen": 753
         },
         {
          "GemiddeldInkomenPerInwoner_72": 34.5,
          "GemiddeldeHuishoudensgrootte_32": 2.3,
          "Koopwoningen_40": 79,
          "Opgesteld vermogen": 458
         },
         {
          "GemiddeldInkomenPerInwoner_72": 29.1,
          "GemiddeldeHuishoudensgrootte_32": 2.2,
          "Koopwoningen_40": 80,
          "Opgesteld vermogen": 1435
         },
         {
          "GemiddeldInkomenPerInwoner_72": 24.3,
          "GemiddeldeHuishoudensgrootte_32": 1.9,
          "Koopwoningen_40": 40,
          "Opgesteld vermogen": 378
         },
         {
          "GemiddeldInkomenPerInwoner_72": 35.7,
          "GemiddeldeHuishoudensgrootte_32": 2.3,
          "Koopwoningen_40": 72,
          "Opgesteld vermogen": 1013
         },
         {
          "GemiddeldInkomenPerInwoner_72": 30.3,
          "GemiddeldeHuishoudensgrootte_32": 2.5,
          "Koopwoningen_40": 79,
          "Opgesteld vermogen": 1076
         },
         {
          "GemiddeldInkomenPerInwoner_72": 25.8,
          "GemiddeldeHuishoudensgrootte_32": 2.3,
          "Koopwoningen_40": 66,
          "Opgesteld vermogen": 625
         },
         {
          "GemiddeldInkomenPerInwoner_72": 23.1,
          "GemiddeldeHuishoudensgrootte_32": 2.2,
          "Koopwoningen_40": 54,
          "Opgesteld vermogen": 382
         },
         {
          "GemiddeldInkomenPerInwoner_72": 24.4,
          "GemiddeldeHuishoudensgrootte_32": 2.8,
          "Koopwoningen_40": 69,
          "Opgesteld vermogen": 710
         },
         {
          "GemiddeldInkomenPerInwoner_72": 23.8,
          "GemiddeldeHuishoudensgrootte_32": 2.3,
          "Koopwoningen_40": 55,
          "Opgesteld vermogen": 906
         },
         {
          "GemiddeldInkomenPerInwoner_72": 29,
          "GemiddeldeHuishoudensgrootte_32": 2.2,
          "Koopwoningen_40": 63,
          "Opgesteld vermogen": 537
         },
         {
          "GemiddeldInkomenPerInwoner_72": 20.2,
          "GemiddeldeHuishoudensgrootte_32": 1.9,
          "Koopwoningen_40": 27,
          "Opgesteld vermogen": 601
         },
         {
          "GemiddeldInkomenPerInwoner_72": 34.9,
          "GemiddeldeHuishoudensgrootte_32": 2.1,
          "Koopwoningen_40": 73,
          "Opgesteld vermogen": 512
         },
         {
          "GemiddeldInkomenPerInwoner_72": 26,
          "GemiddeldeHuishoudensgrootte_32": 2.3,
          "Koopwoningen_40": 71,
          "Opgesteld vermogen": 1352
         },
         {
          "GemiddeldInkomenPerInwoner_72": 19.7,
          "GemiddeldeHuishoudensgrootte_32": 2.3,
          "Koopwoningen_40": 49,
          "Opgesteld vermogen": 953
         },
         {
          "GemiddeldInkomenPerInwoner_72": 29.2,
          "GemiddeldeHuishoudensgrootte_32": 2.4,
          "Koopwoningen_40": 75,
          "Opgesteld vermogen": 1497
         },
         {
          "GemiddeldInkomenPerInwoner_72": 25.5,
          "GemiddeldeHuishoudensgrootte_32": 2.1,
          "Koopwoningen_40": 67,
          "Opgesteld vermogen": 1415
         },
         {
          "GemiddeldInkomenPerInwoner_72": 28.4,
          "GemiddeldeHuishoudensgrootte_32": 2.2,
          "Koopwoningen_40": 68,
          "Opgesteld vermogen": 2772
         },
         {
          "GemiddeldInkomenPerInwoner_72": 27.5,
          "GemiddeldeHuishoudensgrootte_32": 2.3,
          "Koopwoningen_40": 69,
          "Opgesteld vermogen": 1372
         },
         {
          "GemiddeldInkomenPerInwoner_72": 27.8,
          "GemiddeldeHuishoudensgrootte_32": 2.3,
          "Koopwoningen_40": 73,
          "Opgesteld vermogen": 919
         },
         {
          "GemiddeldInkomenPerInwoner_72": 18.5,
          "GemiddeldeHuishoudensgrootte_32": 1.6,
          "Koopwoningen_40": 23,
          "Opgesteld vermogen": 458
         },
         {
          "GemiddeldInkomenPerInwoner_72": 23.6,
          "GemiddeldeHuishoudensgrootte_32": 2.2,
          "Koopwoningen_40": 56,
          "Opgesteld vermogen": 362
         },
         {
          "GemiddeldInkomenPerInwoner_72": 34.4,
          "GemiddeldeHuishoudensgrootte_32": 2.6,
          "Koopwoningen_40": 89,
          "Opgesteld vermogen": 1656
         },
         {
          "GemiddeldInkomenPerInwoner_72": 22.8,
          "GemiddeldeHuishoudensgrootte_32": 2.8,
          "Koopwoningen_40": 76,
          "Opgesteld vermogen": 1197
         },
         {
          "GemiddeldInkomenPerInwoner_72": 25.3,
          "GemiddeldeHuishoudensgrootte_32": 1.5,
          "Koopwoningen_40": 42,
          "Opgesteld vermogen": 555
         },
         {
          "GemiddeldInkomenPerInwoner_72": 29.5,
          "GemiddeldeHuishoudensgrootte_32": 2.4,
          "Koopwoningen_40": 71,
          "Opgesteld vermogen": 1382
         },
         {
          "GemiddeldInkomenPerInwoner_72": 23.9,
          "GemiddeldeHuishoudensgrootte_32": 2.4,
          "Koopwoningen_40": 54,
          "Opgesteld vermogen": 642
         },
         {
          "GemiddeldInkomenPerInwoner_72": 27.5,
          "GemiddeldeHuishoudensgrootte_32": 1.9,
          "Koopwoningen_40": 55,
          "Opgesteld vermogen": 1156
         },
         {
          "GemiddeldInkomenPerInwoner_72": 30.6,
          "GemiddeldeHuishoudensgrootte_32": 2.3,
          "Koopwoningen_40": 84,
          "Opgesteld vermogen": 1065
         },
         {
          "GemiddeldInkomenPerInwoner_72": 28.6,
          "GemiddeldeHuishoudensgrootte_32": 2.2,
          "Koopwoningen_40": 77,
          "Opgesteld vermogen": 1788
         },
         {
          "GemiddeldInkomenPerInwoner_72": 19.3,
          "GemiddeldeHuishoudensgrootte_32": 1.9,
          "Koopwoningen_40": 22,
          "Opgesteld vermogen": 498
         },
         {
          "GemiddeldInkomenPerInwoner_72": 24.4,
          "GemiddeldeHuishoudensgrootte_32": 2.2,
          "Koopwoningen_40": 61,
          "Opgesteld vermogen": 1333
         },
         {
          "GemiddeldInkomenPerInwoner_72": 25.7,
          "GemiddeldeHuishoudensgrootte_32": 2.4,
          "Koopwoningen_40": 75,
          "Opgesteld vermogen": 2655
         },
         {
          "GemiddeldInkomenPerInwoner_72": 26.4,
          "GemiddeldeHuishoudensgrootte_32": 2.4,
          "Koopwoningen_40": 80,
          "Opgesteld vermogen": 919
         },
         {
          "GemiddeldInkomenPerInwoner_72": 27.3,
          "GemiddeldeHuishoudensgrootte_32": 2.3,
          "Koopwoningen_40": 70,
          "Opgesteld vermogen": 641
         },
         {
          "GemiddeldInkomenPerInwoner_72": 28.4,
          "GemiddeldeHuishoudensgrootte_32": 2.4,
          "Koopwoningen_40": 71,
          "Opgesteld vermogen": 1281
         },
         {
          "GemiddeldInkomenPerInwoner_72": 33.4,
          "GemiddeldeHuishoudensgrootte_32": 2,
          "Koopwoningen_40": 53,
          "Opgesteld vermogen": 192
         },
         {
          "GemiddeldInkomenPerInwoner_72": 27.7,
          "GemiddeldeHuishoudensgrootte_32": 1.5,
          "Koopwoningen_40": 42,
          "Opgesteld vermogen": 495
         },
         {
          "GemiddeldInkomenPerInwoner_72": 29.1,
          "GemiddeldeHuishoudensgrootte_32": 2.1,
          "Koopwoningen_40": 78,
          "Opgesteld vermogen": 1969
         },
         {
          "GemiddeldInkomenPerInwoner_72": 24.6,
          "GemiddeldeHuishoudensgrootte_32": 1.9,
          "Koopwoningen_40": 32,
          "Opgesteld vermogen": 452
         },
         {
          "GemiddeldInkomenPerInwoner_72": 22.4,
          "GemiddeldeHuishoudensgrootte_32": 2.2,
          "Koopwoningen_40": 63,
          "Opgesteld vermogen": 638
         },
         {
          "GemiddeldInkomenPerInwoner_72": 24.6,
          "GemiddeldeHuishoudensgrootte_32": 2.4,
          "Koopwoningen_40": 65,
          "Opgesteld vermogen": 649
         },
         {
          "GemiddeldInkomenPerInwoner_72": 21.2,
          "GemiddeldeHuishoudensgrootte_32": 2.2,
          "Koopwoningen_40": 59,
          "Opgesteld vermogen": 1623
         },
         {
          "GemiddeldInkomenPerInwoner_72": 24.4,
          "GemiddeldeHuishoudensgrootte_32": 2.2,
          "Koopwoningen_40": 70,
          "Opgesteld vermogen": 638
         },
         {
          "GemiddeldInkomenPerInwoner_72": 30.3,
          "GemiddeldeHuishoudensgrootte_32": 2,
          "Koopwoningen_40": 69,
          "Opgesteld vermogen": 870
         },
         {
          "GemiddeldInkomenPerInwoner_72": 23,
          "GemiddeldeHuishoudensgrootte_32": 2.6,
          "Koopwoningen_40": 76,
          "Opgesteld vermogen": 957
         },
         {
          "GemiddeldInkomenPerInwoner_72": 26.2,
          "GemiddeldeHuishoudensgrootte_32": 2.2,
          "Koopwoningen_40": 63,
          "Opgesteld vermogen": 1325
         },
         {
          "GemiddeldInkomenPerInwoner_72": 24.3,
          "GemiddeldeHuishoudensgrootte_32": 1.4,
          "Koopwoningen_40": 28,
          "Opgesteld vermogen": 327
         },
         {
          "GemiddeldInkomenPerInwoner_72": 31.4,
          "GemiddeldeHuishoudensgrootte_32": 2.5,
          "Koopwoningen_40": 76,
          "Opgesteld vermogen": 964
         },
         {
          "GemiddeldInkomenPerInwoner_72": 26.3,
          "GemiddeldeHuishoudensgrootte_32": 2.1,
          "Koopwoningen_40": 69,
          "Opgesteld vermogen": 1265
         },
         {
          "GemiddeldInkomenPerInwoner_72": 23.6,
          "GemiddeldeHuishoudensgrootte_32": 2.2,
          "Koopwoningen_40": 56,
          "Opgesteld vermogen": 1054
         },
         {
          "GemiddeldInkomenPerInwoner_72": 30.5,
          "GemiddeldeHuishoudensgrootte_32": 2.4,
          "Koopwoningen_40": 65,
          "Opgesteld vermogen": 867
         },
         {
          "GemiddeldInkomenPerInwoner_72": 15.3,
          "GemiddeldeHuishoudensgrootte_32": 2,
          "Koopwoningen_40": 17,
          "Opgesteld vermogen": 568
         },
         {
          "GemiddeldInkomenPerInwoner_72": 24.2,
          "GemiddeldeHuishoudensgrootte_32": 1.5,
          "Koopwoningen_40": 22,
          "Opgesteld vermogen": 201
         },
         {
          "GemiddeldInkomenPerInwoner_72": 24.2,
          "GemiddeldeHuishoudensgrootte_32": 1.7,
          "Koopwoningen_40": 37,
          "Opgesteld vermogen": 1693
         },
         {
          "GemiddeldInkomenPerInwoner_72": 23.7,
          "GemiddeldeHuishoudensgrootte_32": 2,
          "Koopwoningen_40": 36,
          "Opgesteld vermogen": 773
         },
         {
          "GemiddeldInkomenPerInwoner_72": 21.5,
          "GemiddeldeHuishoudensgrootte_32": 2.1,
          "Koopwoningen_40": 55,
          "Opgesteld vermogen": 486
         },
         {
          "GemiddeldInkomenPerInwoner_72": 21.2,
          "GemiddeldeHuishoudensgrootte_32": 1.2,
          "Koopwoningen_40": 13,
          "Opgesteld vermogen": 316
         },
         {
          "GemiddeldInkomenPerInwoner_72": 19.4,
          "GemiddeldeHuishoudensgrootte_32": 2,
          "Koopwoningen_40": 47,
          "Opgesteld vermogen": 1485
         },
         {
          "GemiddeldInkomenPerInwoner_72": 26,
          "GemiddeldeHuishoudensgrootte_32": 2.3,
          "Koopwoningen_40": 55,
          "Opgesteld vermogen": 1680
         },
         {
          "GemiddeldInkomenPerInwoner_72": 23.5,
          "GemiddeldeHuishoudensgrootte_32": 1.6,
          "Koopwoningen_40": 39,
          "Opgesteld vermogen": 708
         },
         {
          "GemiddeldInkomenPerInwoner_72": 30.4,
          "GemiddeldeHuishoudensgrootte_32": 2.2,
          "Koopwoningen_40": 75,
          "Opgesteld vermogen": 1281
         },
         {
          "GemiddeldInkomenPerInwoner_72": 26.9,
          "GemiddeldeHuishoudensgrootte_32": 2.2,
          "Koopwoningen_40": 61,
          "Opgesteld vermogen": 1415
         },
         {
          "GemiddeldInkomenPerInwoner_72": 23.6,
          "GemiddeldeHuishoudensgrootte_32": 2.8,
          "Koopwoningen_40": 70,
          "Opgesteld vermogen": 709
         },
         {
          "GemiddeldInkomenPerInwoner_72": 27,
          "GemiddeldeHuishoudensgrootte_32": 2.4,
          "Koopwoningen_40": 77,
          "Opgesteld vermogen": 1534
         },
         {
          "GemiddeldInkomenPerInwoner_72": 30.1,
          "GemiddeldeHuishoudensgrootte_32": 1.4,
          "Koopwoningen_40": 19,
          "Opgesteld vermogen": 108
         },
         {
          "GemiddeldInkomenPerInwoner_72": 32.5,
          "GemiddeldeHuishoudensgrootte_32": 2.4,
          "Koopwoningen_40": 69,
          "Opgesteld vermogen": 454
         },
         {
          "GemiddeldInkomenPerInwoner_72": 28.1,
          "GemiddeldeHuishoudensgrootte_32": 2.2,
          "Koopwoningen_40": 76,
          "Opgesteld vermogen": 3872
         },
         {
          "GemiddeldInkomenPerInwoner_72": 25.7,
          "GemiddeldeHuishoudensgrootte_32": 2.3,
          "Koopwoningen_40": 73,
          "Opgesteld vermogen": 2008
         },
         {
          "GemiddeldInkomenPerInwoner_72": 26,
          "GemiddeldeHuishoudensgrootte_32": 1.6,
          "Koopwoningen_40": 51,
          "Opgesteld vermogen": 445
         },
         {
          "GemiddeldInkomenPerInwoner_72": 20.1,
          "GemiddeldeHuishoudensgrootte_32": 2.7,
          "Koopwoningen_40": 55,
          "Opgesteld vermogen": 1431
         },
         {
          "GemiddeldInkomenPerInwoner_72": 22.8,
          "GemiddeldeHuishoudensgrootte_32": 1.3,
          "Koopwoningen_40": 8,
          "Opgesteld vermogen": 161
         },
         {
          "GemiddeldInkomenPerInwoner_72": 26.1,
          "GemiddeldeHuishoudensgrootte_32": 2.3,
          "Koopwoningen_40": 60,
          "Opgesteld vermogen": 1489
         },
         {
          "GemiddeldInkomenPerInwoner_72": 32.3,
          "GemiddeldeHuishoudensgrootte_32": 2.4,
          "Koopwoningen_40": 72,
          "Opgesteld vermogen": 692
         },
         {
          "GemiddeldInkomenPerInwoner_72": 31.8,
          "GemiddeldeHuishoudensgrootte_32": 2.5,
          "Koopwoningen_40": 85,
          "Opgesteld vermogen": 901
         },
         {
          "GemiddeldInkomenPerInwoner_72": 41,
          "GemiddeldeHuishoudensgrootte_32": 2.3,
          "Koopwoningen_40": 77,
          "Opgesteld vermogen": 709
         },
         {
          "GemiddeldInkomenPerInwoner_72": 43.5,
          "GemiddeldeHuishoudensgrootte_32": 2,
          "Koopwoningen_40": 75,
          "Opgesteld vermogen": 659
         },
         {
          "GemiddeldInkomenPerInwoner_72": 30.2,
          "GemiddeldeHuishoudensgrootte_32": 2.6,
          "Koopwoningen_40": 88,
          "Opgesteld vermogen": 1185
         },
         {
          "GemiddeldInkomenPerInwoner_72": 26.2,
          "GemiddeldeHuishoudensgrootte_32": 2.3,
          "Koopwoningen_40": 64,
          "Opgesteld vermogen": 827
         },
         {
          "GemiddeldInkomenPerInwoner_72": 23.7,
          "GemiddeldeHuishoudensgrootte_32": 2.3,
          "Koopwoningen_40": 56,
          "Opgesteld vermogen": 1352
         },
         {
          "GemiddeldInkomenPerInwoner_72": 33.8,
          "GemiddeldeHuishoudensgrootte_32": 2.6,
          "Koopwoningen_40": 81,
          "Opgesteld vermogen": 1734
         },
         {
          "GemiddeldInkomenPerInwoner_72": 29.4,
          "GemiddeldeHuishoudensgrootte_32": 2.4,
          "Koopwoningen_40": 74,
          "Opgesteld vermogen": 1053
         },
         {
          "GemiddeldInkomenPerInwoner_72": 19.9,
          "GemiddeldeHuishoudensgrootte_32": 1.6,
          "Koopwoningen_40": 9,
          "Opgesteld vermogen": 467
         },
         {
          "GemiddeldInkomenPerInwoner_72": 24,
          "GemiddeldeHuishoudensgrootte_32": 2.2,
          "Koopwoningen_40": 70,
          "Opgesteld vermogen": 531
         },
         {
          "GemiddeldInkomenPerInwoner_72": 25.4,
          "GemiddeldeHuishoudensgrootte_32": 2.3,
          "Koopwoningen_40": 64,
          "Opgesteld vermogen": 748
         },
         {
          "GemiddeldInkomenPerInwoner_72": 38,
          "GemiddeldeHuishoudensgrootte_32": 2.5,
          "Koopwoningen_40": 78,
          "Opgesteld vermogen": 1061
         },
         {
          "GemiddeldInkomenPerInwoner_72": 24.4,
          "GemiddeldeHuishoudensgrootte_32": 2.2,
          "Koopwoningen_40": 64,
          "Opgesteld vermogen": 1165
         },
         {
          "GemiddeldInkomenPerInwoner_72": 21,
          "GemiddeldeHuishoudensgrootte_32": 2.1,
          "Koopwoningen_40": 49,
          "Opgesteld vermogen": 848
         },
         {
          "GemiddeldInkomenPerInwoner_72": 27.7,
          "GemiddeldeHuishoudensgrootte_32": 2.1,
          "Koopwoningen_40": 68,
          "Opgesteld vermogen": 1891
         },
         {
          "GemiddeldInkomenPerInwoner_72": 23.2,
          "GemiddeldeHuishoudensgrootte_32": 3.7,
          "Koopwoningen_40": 95,
          "Opgesteld vermogen": 503
         },
         {
          "GemiddeldInkomenPerInwoner_72": 25.8,
          "GemiddeldeHuishoudensgrootte_32": 2.2,
          "Koopwoningen_40": 79,
          "Opgesteld vermogen": 874
         },
         {
          "GemiddeldInkomenPerInwoner_72": 31.5,
          "GemiddeldeHuishoudensgrootte_32": 2.2,
          "Koopwoningen_40": 79,
          "Opgesteld vermogen": 422
         },
         {
          "GemiddeldInkomenPerInwoner_72": 29.1,
          "GemiddeldeHuishoudensgrootte_32": 2.2,
          "Koopwoningen_40": 57,
          "Opgesteld vermogen": 628
         },
         {
          "GemiddeldInkomenPerInwoner_72": 45.2,
          "GemiddeldeHuishoudensgrootte_32": 1.5,
          "Koopwoningen_40": 49,
          "Opgesteld vermogen": 51
         },
         {
          "GemiddeldInkomenPerInwoner_72": 25.1,
          "GemiddeldeHuishoudensgrootte_32": 2.1,
          "Koopwoningen_40": 61,
          "Opgesteld vermogen": 1121
         },
         {
          "GemiddeldInkomenPerInwoner_72": 26.9,
          "GemiddeldeHuishoudensgrootte_32": 1.9,
          "Koopwoningen_40": 43,
          "Opgesteld vermogen": 867
         },
         {
          "GemiddeldInkomenPerInwoner_72": 26.4,
          "GemiddeldeHuishoudensgrootte_32": 2.3,
          "Koopwoningen_40": 68,
          "Opgesteld vermogen": 727
         },
         {
          "GemiddeldInkomenPerInwoner_72": 30.1,
          "GemiddeldeHuishoudensgrootte_32": 1.5,
          "Koopwoningen_40": 52,
          "Opgesteld vermogen": 490
         },
         {
          "GemiddeldInkomenPerInwoner_72": 34.3,
          "GemiddeldeHuishoudensgrootte_32": 3.1,
          "Koopwoningen_40": 69,
          "Opgesteld vermogen": 700
         },
         {
          "GemiddeldInkomenPerInwoner_72": 27.9,
          "GemiddeldeHuishoudensgrootte_32": 2.3,
          "Koopwoningen_40": 74,
          "Opgesteld vermogen": 1128
         },
         {
          "GemiddeldInkomenPerInwoner_72": 24.9,
          "GemiddeldeHuishoudensgrootte_32": 2,
          "Koopwoningen_40": 54,
          "Opgesteld vermogen": 650
         },
         {
          "GemiddeldInkomenPerInwoner_72": 29.9,
          "GemiddeldeHuishoudensgrootte_32": 2.4,
          "Koopwoningen_40": 80,
          "Opgesteld vermogen": 671
         },
         {
          "GemiddeldInkomenPerInwoner_72": 29.8,
          "GemiddeldeHuishoudensgrootte_32": 2.3,
          "Koopwoningen_40": 75,
          "Opgesteld vermogen": 1783
         },
         {
          "GemiddeldInkomenPerInwoner_72": 30.2,
          "GemiddeldeHuishoudensgrootte_32": 2.2,
          "Koopwoningen_40": 84,
          "Opgesteld vermogen": 1207
         },
         {
          "GemiddeldInkomenPerInwoner_72": 28.4,
          "GemiddeldeHuishoudensgrootte_32": 2.1,
          "Koopwoningen_40": 61,
          "Opgesteld vermogen": 585
         },
         {
          "GemiddeldInkomenPerInwoner_72": 26.4,
          "GemiddeldeHuishoudensgrootte_32": 2.4,
          "Koopwoningen_40": 71,
          "Opgesteld vermogen": 969
         },
         {
          "GemiddeldInkomenPerInwoner_72": 22.7,
          "GemiddeldeHuishoudensgrootte_32": 2.3,
          "Koopwoningen_40": 43,
          "Opgesteld vermogen": 1273
         },
         {
          "GemiddeldInkomenPerInwoner_72": 29.6,
          "GemiddeldeHuishoudensgrootte_32": 2.5,
          "Koopwoningen_40": 69,
          "Opgesteld vermogen": 732
         },
         {
          "GemiddeldInkomenPerInwoner_72": 26.5,
          "GemiddeldeHuishoudensgrootte_32": 2.1,
          "Koopwoningen_40": 67,
          "Opgesteld vermogen": 2541
         },
         {
          "GemiddeldInkomenPerInwoner_72": 29.2,
          "GemiddeldeHuishoudensgrootte_32": 3.1,
          "Koopwoningen_40": 75,
          "Opgesteld vermogen": 694
         },
         {
          "GemiddeldInkomenPerInwoner_72": 24.7,
          "GemiddeldeHuishoudensgrootte_32": 2.1,
          "Koopwoningen_40": 51,
          "Opgesteld vermogen": 242
         },
         {
          "GemiddeldInkomenPerInwoner_72": 26.3,
          "GemiddeldeHuishoudensgrootte_32": 1.9,
          "Koopwoningen_40": 44,
          "Opgesteld vermogen": 570
         },
         {
          "GemiddeldInkomenPerInwoner_72": 27.6,
          "GemiddeldeHuishoudensgrootte_32": 2.4,
          "Koopwoningen_40": 72,
          "Opgesteld vermogen": 1153
         },
         {
          "GemiddeldInkomenPerInwoner_72": 29.6,
          "GemiddeldeHuishoudensgrootte_32": 2.2,
          "Koopwoningen_40": 68,
          "Opgesteld vermogen": 958
         },
         {
          "GemiddeldInkomenPerInwoner_72": 21.9,
          "GemiddeldeHuishoudensgrootte_32": 2.2,
          "Koopwoningen_40": 45,
          "Opgesteld vermogen": 1046
         },
         {
          "GemiddeldInkomenPerInwoner_72": 27.4,
          "GemiddeldeHuishoudensgrootte_32": 1.6,
          "Koopwoningen_40": 46,
          "Opgesteld vermogen": 194
         },
         {
          "GemiddeldInkomenPerInwoner_72": 36.2,
          "GemiddeldeHuishoudensgrootte_32": 2.4,
          "Koopwoningen_40": 96,
          "Opgesteld vermogen": 668
         },
         {
          "GemiddeldInkomenPerInwoner_72": 18.1,
          "GemiddeldeHuishoudensgrootte_32": 1.9,
          "Koopwoningen_40": 15,
          "Opgesteld vermogen": 319
         }
        ]
       },
       "layer": [
        {
         "encoding": {
          "x": {
           "field": "GemiddeldInkomenPerInwoner_72",
           "title": "# income",
           "type": "quantitative"
          },
          "y": {
           "field": "Opgesteld vermogen",
           "title": "Opgesteld vermogen",
           "type": "quantitative"
          }
         },
         "mark": "circle"
        },
        {
         "encoding": {
          "x": {
           "field": "GemiddeldInkomenPerInwoner_72",
           "title": "# income",
           "type": "quantitative"
          },
          "y": {
           "field": "Opgesteld vermogen",
           "title": "Opgesteld vermogen",
           "type": "quantitative"
          }
         },
         "mark": "line",
         "transform": [
          {
           "method": "linear",
           "on": "GemiddeldInkomenPerInwoner_72",
           "regression": "Opgesteld vermogen"
          }
         ]
        }
       ]
      },
      "text/plain": [
       "<VegaLite 4 object>\n",
       "\n",
       "If you see this message, it means the renderer has not been properly enabled\n",
       "for the frontend that you are using. For more information, see\n",
       "https://altair-viz.github.io/user_guide/troubleshooting.html\n"
      ]
     },
     "execution_count": 21,
     "metadata": {},
     "output_type": "execute_result"
    }
   ],
   "source": [
    "alt.renderers.enable('mimetype')\n",
    "\n",
    "base = alt.Chart(train_set).mark_circle().encode(\n",
    "    alt.X('GemiddeldInkomenPerInwoner_72',\n",
    "     title='# income'),\n",
    "       alt.Y(opgesteld_vermogen,\n",
    "     title='Opgesteld vermogen')\n",
    ")\n",
    "\n",
    "linear_fit = [\n",
    "    base.transform_regression(\n",
    "        \"GemiddeldInkomenPerInwoner_72\", opgesteld_vermogen, method=\"linear\"\n",
    "    )\n",
    "    .mark_line()   \n",
    "]\n",
    "\n",
    "alt.layer(base, *linear_fit)"
   ]
  },
  {
   "cell_type": "markdown",
   "metadata": {},
   "source": [
    "#### Check the quality of the model"
   ]
  },
  {
   "cell_type": "code",
   "execution_count": 22,
   "metadata": {},
   "outputs": [
    {
     "name": "stdout",
     "output_type": "stream",
     "text": [
      "Coefficients: \n",
      " [ -23.44659621 -262.17359744   23.36871748]\n",
      "Mean squared error: 639786.93\n",
      "Coefficient of determination: 0.16\n"
     ]
    }
   ],
   "source": [
    "# Make predictions using the testing set\n",
    "y_pred = lin_reg.predict(X_test_set)\n",
    "\n",
    "# The coefficients\n",
    "print(\"Coefficients: \\n\", lin_reg.coef_)\n",
    "# The mean squared error\n",
    "print(\"Mean squared error: %.2f\" % mean_squared_error(Y_test_set, y_pred))\n",
    "# The coefficient of determination: 1 is perfect prediction\n",
    "print(\"Coefficient of determination: %.2f\" % r2_score(Y_test_set, y_pred))"
   ]
  },
  {
   "cell_type": "markdown",
   "metadata": {},
   "source": [
    "## Create a first model - tree model"
   ]
  },
  {
   "cell_type": "code",
   "execution_count": 23,
   "metadata": {},
   "outputs": [],
   "source": [
    "from sklearn.tree import DecisionTreeRegressor"
   ]
  },
  {
   "cell_type": "markdown",
   "metadata": {},
   "source": [
    "Create helper class"
   ]
  },
  {
   "cell_type": "code",
   "execution_count": 24,
   "metadata": {},
   "outputs": [],
   "source": [
    "class Result:\n",
    "  def __init__(self, r_squared, mean_squared_error):\n",
    "    self.r_squared = r_squared\n",
    "    self.mean_squared_error = mean_squared_error"
   ]
  },
  {
   "cell_type": "code",
   "execution_count": 36,
   "metadata": {},
   "outputs": [],
   "source": [
    "results = {}\n",
    "\n",
    "max_range = 10\n",
    "\n",
    "# Fit regression models\n",
    "for i in range(1, max_range):\n",
    "    r = DecisionTreeRegressor(max_depth=i, random_state=3)\n",
    "    r.fit(X_train_set, Y_train_set)\n",
    "    y_predict = r.predict(X_test_set)\n",
    "    results[i] = Result(r2_score(Y_test_set, y_predict), mean_squared_error(Y_test_set, y_predict)) "
   ]
  },
  {
   "cell_type": "markdown",
   "metadata": {},
   "source": [
    "#### Check the quality of the models"
   ]
  },
  {
   "cell_type": "code",
   "execution_count": 38,
   "metadata": {},
   "outputs": [
    {
     "name": "stdout",
     "output_type": "stream",
     "text": [
      "Depth   1 :R squared: 0.17 -- Mean squared error: 629679\n",
      "Depth   2 :R squared: 0.19 -- Mean squared error: 619965\n",
      "Depth   3 :R squared: 0.19 -- Mean squared error: 615368\n",
      "Depth   4 :R squared: 0.18 -- Mean squared error: 624610\n",
      "Depth   5 :R squared: 0.16 -- Mean squared error: 642913\n",
      "Depth   6 :R squared: 0.21 -- Mean squared error: 601944\n",
      "Depth   7 :R squared: 0.14 -- Mean squared error: 657660\n",
      "Depth   8 :R squared: 0.15 -- Mean squared error: 649468\n",
      "Depth   9 :R squared: 0.02 -- Mean squared error: 747040\n"
     ]
    }
   ],
   "source": [
    "for i in range(1,max_range):\n",
    "    print(\"Depth  %2.f\" % i, \":R squared: %.2f\" % results[i].r_squared,\n",
    "    \"-- Mean squared error: %.0f\" % results[i].mean_squared_error)\n"
   ]
  },
  {
   "cell_type": "markdown",
   "metadata": {},
   "source": [
    "Best performance is at depth = 2 (Not the same over runs &#9785; though)"
   ]
  },
  {
   "cell_type": "code",
   "execution_count": 27,
   "metadata": {},
   "outputs": [
    {
     "name": "stdout",
     "output_type": "stream",
     "text": [
      "Depth   2 :R squared: 0.19 -- Mean squared error: 619965\n"
     ]
    }
   ],
   "source": [
    "optimum_depth = 2\n",
    "print(\"Depth  %2.f\" % optimum_depth, \":R squared: %.2f\" % results[optimum_depth].r_squared,\n",
    "    \"-- Mean squared error: %.0f\" % results[optimum_depth].mean_squared_error)"
   ]
  }
 ],
 "metadata": {
  "interpreter": {
   "hash": "1c56e9006d6b5ce0cef094ebbdbeb39503cd74f132401754f80b9c283ab9d6f3"
  },
  "kernelspec": {
   "display_name": "Python 3.9.7 ('base')",
   "language": "python",
   "name": "python3"
  },
  "language_info": {
   "codemirror_mode": {
    "name": "ipython",
    "version": 3
   },
   "file_extension": ".py",
   "mimetype": "text/x-python",
   "name": "python",
   "nbconvert_exporter": "python",
   "pygments_lexer": "ipython3",
   "version": "3.9.7"
  },
  "orig_nbformat": 4
 },
 "nbformat": 4,
 "nbformat_minor": 2
}
