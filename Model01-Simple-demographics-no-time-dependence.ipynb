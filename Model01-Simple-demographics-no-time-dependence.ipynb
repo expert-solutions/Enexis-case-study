{
 "cells": [
  {
   "cell_type": "markdown",
   "metadata": {},
   "source": [
    "### Basic model:\n",
    "Features: Income, Household composition, Property type\n",
    "Predict installed pV (aggregation level: buurt, no time dependency) "
   ]
  },
  {
   "cell_type": "markdown",
   "metadata": {},
   "source": [
    "Income: CBS data '84799NED' (Kerncijfers wijken en buurten 2020)"
   ]
  },
  {
   "cell_type": "markdown",
   "metadata": {},
   "source": []
  },
  {
   "cell_type": "code",
   "execution_count": 121,
   "metadata": {},
   "outputs": [],
   "source": [
    "# pip install cbsodata"
   ]
  },
  {
   "cell_type": "code",
   "execution_count": 122,
   "metadata": {},
   "outputs": [],
   "source": [
    "import cbsodata\n",
    "import pandas as pd\n",
    "import seaborn as sns\n",
    "import matplotlib.pyplot as plt"
   ]
  },
  {
   "cell_type": "code",
   "execution_count": 123,
   "metadata": {},
   "outputs": [
    {
     "data": {
      "text/html": [
       "<div>\n",
       "<style scoped>\n",
       "    .dataframe tbody tr th:only-of-type {\n",
       "        vertical-align: middle;\n",
       "    }\n",
       "\n",
       "    .dataframe tbody tr th {\n",
       "        vertical-align: top;\n",
       "    }\n",
       "\n",
       "    .dataframe thead th {\n",
       "        text-align: right;\n",
       "    }\n",
       "</style>\n",
       "<table border=\"1\" class=\"dataframe\">\n",
       "  <thead>\n",
       "    <tr style=\"text-align: right;\">\n",
       "      <th></th>\n",
       "      <th>ID</th>\n",
       "      <th>WijkenEnBuurten</th>\n",
       "      <th>Gemeentenaam_1</th>\n",
       "      <th>SoortRegio_2</th>\n",
       "      <th>Codering_3</th>\n",
       "      <th>IndelingswijzigingWijkenEnBuurten_4</th>\n",
       "      <th>AantalInwoners_5</th>\n",
       "      <th>Mannen_6</th>\n",
       "      <th>Vrouwen_7</th>\n",
       "      <th>k_0Tot15Jaar_8</th>\n",
       "      <th>...</th>\n",
       "      <th>AfstandTotKinderdagverblijf_107</th>\n",
       "      <th>AfstandTotSchool_108</th>\n",
       "      <th>ScholenBinnen3Km_109</th>\n",
       "      <th>OppervlakteTotaal_110</th>\n",
       "      <th>OppervlakteLand_111</th>\n",
       "      <th>OppervlakteWater_112</th>\n",
       "      <th>MeestVoorkomendePostcode_113</th>\n",
       "      <th>Dekkingspercentage_114</th>\n",
       "      <th>MateVanStedelijkheid_115</th>\n",
       "      <th>Omgevingsadressendichtheid_116</th>\n",
       "    </tr>\n",
       "  </thead>\n",
       "  <tbody>\n",
       "    <tr>\n",
       "      <th>0</th>\n",
       "      <td>0</td>\n",
       "      <td>Nederland</td>\n",
       "      <td>Nederland</td>\n",
       "      <td>Land</td>\n",
       "      <td>NL00</td>\n",
       "      <td>.</td>\n",
       "      <td>17407585</td>\n",
       "      <td>8648031</td>\n",
       "      <td>8759554</td>\n",
       "      <td>2726099</td>\n",
       "      <td>...</td>\n",
       "      <td>0.6</td>\n",
       "      <td>0.7</td>\n",
       "      <td>10.9</td>\n",
       "      <td>4154338</td>\n",
       "      <td>3367109</td>\n",
       "      <td>787228</td>\n",
       "      <td>.</td>\n",
       "      <td>NaN</td>\n",
       "      <td>2.0</td>\n",
       "      <td>2010.0</td>\n",
       "    </tr>\n",
       "    <tr>\n",
       "      <th>1</th>\n",
       "      <td>1</td>\n",
       "      <td>Aa en Hunze</td>\n",
       "      <td>Aa en Hunze</td>\n",
       "      <td>Gemeente</td>\n",
       "      <td>GM1680</td>\n",
       "      <td>.</td>\n",
       "      <td>25445</td>\n",
       "      <td>12708</td>\n",
       "      <td>12737</td>\n",
       "      <td>3460</td>\n",
       "      <td>...</td>\n",
       "      <td>1.2</td>\n",
       "      <td>1.2</td>\n",
       "      <td>1.8</td>\n",
       "      <td>27887</td>\n",
       "      <td>27609</td>\n",
       "      <td>279</td>\n",
       "      <td>.</td>\n",
       "      <td>NaN</td>\n",
       "      <td>5.0</td>\n",
       "      <td>281.0</td>\n",
       "    </tr>\n",
       "    <tr>\n",
       "      <th>2</th>\n",
       "      <td>2</td>\n",
       "      <td>Wijk 00 Annen</td>\n",
       "      <td>Aa en Hunze</td>\n",
       "      <td>Wijk</td>\n",
       "      <td>WK168000</td>\n",
       "      <td>1</td>\n",
       "      <td>3610</td>\n",
       "      <td>1760</td>\n",
       "      <td>1850</td>\n",
       "      <td>555</td>\n",
       "      <td>...</td>\n",
       "      <td>0.5</td>\n",
       "      <td>0.8</td>\n",
       "      <td>2.6</td>\n",
       "      <td>1478</td>\n",
       "      <td>1466</td>\n",
       "      <td>13</td>\n",
       "      <td>.</td>\n",
       "      <td>NaN</td>\n",
       "      <td>5.0</td>\n",
       "      <td>396.0</td>\n",
       "    </tr>\n",
       "    <tr>\n",
       "      <th>3</th>\n",
       "      <td>3</td>\n",
       "      <td>Annen</td>\n",
       "      <td>Aa en Hunze</td>\n",
       "      <td>Buurt</td>\n",
       "      <td>BU16800000</td>\n",
       "      <td>1</td>\n",
       "      <td>3460</td>\n",
       "      <td>1685</td>\n",
       "      <td>1775</td>\n",
       "      <td>540</td>\n",
       "      <td>...</td>\n",
       "      <td>0.5</td>\n",
       "      <td>0.8</td>\n",
       "      <td>2.6</td>\n",
       "      <td>252</td>\n",
       "      <td>252</td>\n",
       "      <td>0</td>\n",
       "      <td>9468</td>\n",
       "      <td>1.0</td>\n",
       "      <td>5.0</td>\n",
       "      <td>411.0</td>\n",
       "    </tr>\n",
       "    <tr>\n",
       "      <th>4</th>\n",
       "      <td>4</td>\n",
       "      <td>Verspreide huizen Annen</td>\n",
       "      <td>Aa en Hunze</td>\n",
       "      <td>Buurt</td>\n",
       "      <td>BU16800009</td>\n",
       "      <td>1</td>\n",
       "      <td>155</td>\n",
       "      <td>80</td>\n",
       "      <td>80</td>\n",
       "      <td>15</td>\n",
       "      <td>...</td>\n",
       "      <td>1.7</td>\n",
       "      <td>2.0</td>\n",
       "      <td>1.2</td>\n",
       "      <td>1226</td>\n",
       "      <td>1213</td>\n",
       "      <td>13</td>\n",
       "      <td>9468</td>\n",
       "      <td>1.0</td>\n",
       "      <td>5.0</td>\n",
       "      <td>60.0</td>\n",
       "    </tr>\n",
       "  </tbody>\n",
       "</table>\n",
       "<p>5 rows × 118 columns</p>\n",
       "</div>"
      ],
      "text/plain": [
       "   ID          WijkenEnBuurten                            Gemeentenaam_1  \\\n",
       "0   0                Nederland  Nederland                                  \n",
       "1   1              Aa en Hunze  Aa en Hunze                                \n",
       "2   2            Wijk 00 Annen  Aa en Hunze                                \n",
       "3   3                    Annen  Aa en Hunze                                \n",
       "4   4  Verspreide huizen Annen  Aa en Hunze                                \n",
       "\n",
       "  SoortRegio_2  Codering_3 IndelingswijzigingWijkenEnBuurten_4  \\\n",
       "0   Land        NL00                                         .   \n",
       "1   Gemeente    GM1680                                       .   \n",
       "2   Wijk        WK168000                                     1   \n",
       "3   Buurt       BU16800000                                   1   \n",
       "4   Buurt       BU16800009                                   1   \n",
       "\n",
       "   AantalInwoners_5  Mannen_6  Vrouwen_7  k_0Tot15Jaar_8  ...  \\\n",
       "0          17407585   8648031    8759554         2726099  ...   \n",
       "1             25445     12708      12737            3460  ...   \n",
       "2              3610      1760       1850             555  ...   \n",
       "3              3460      1685       1775             540  ...   \n",
       "4               155        80         80              15  ...   \n",
       "\n",
       "   AfstandTotKinderdagverblijf_107  AfstandTotSchool_108  \\\n",
       "0                              0.6                   0.7   \n",
       "1                              1.2                   1.2   \n",
       "2                              0.5                   0.8   \n",
       "3                              0.5                   0.8   \n",
       "4                              1.7                   2.0   \n",
       "\n",
       "   ScholenBinnen3Km_109  OppervlakteTotaal_110  OppervlakteLand_111  \\\n",
       "0                  10.9                4154338              3367109   \n",
       "1                   1.8                  27887                27609   \n",
       "2                   2.6                   1478                 1466   \n",
       "3                   2.6                    252                  252   \n",
       "4                   1.2                   1226                 1213   \n",
       "\n",
       "   OppervlakteWater_112  MeestVoorkomendePostcode_113  Dekkingspercentage_114  \\\n",
       "0                787228                             .                     NaN   \n",
       "1                   279                             .                     NaN   \n",
       "2                    13                             .                     NaN   \n",
       "3                     0                          9468                     1.0   \n",
       "4                    13                          9468                     1.0   \n",
       "\n",
       "   MateVanStedelijkheid_115  Omgevingsadressendichtheid_116  \n",
       "0                       2.0                          2010.0  \n",
       "1                       5.0                           281.0  \n",
       "2                       5.0                           396.0  \n",
       "3                       5.0                           411.0  \n",
       "4                       5.0                            60.0  \n",
       "\n",
       "[5 rows x 118 columns]"
      ]
     },
     "execution_count": 123,
     "metadata": {},
     "output_type": "execute_result"
    }
   ],
   "source": [
    "#Read in (Kerncijfers wijken en buurten 2020\n",
    "kerncijfers_2020 = '84799NED'\n",
    "df_kerncijfers = pd.DataFrame(cbsodata.get_data(kerncijfers_2020))\n",
    "df_kerncijfers.head()"
   ]
  },
  {
   "cell_type": "markdown",
   "metadata": {},
   "source": [
    "Remove unusable items"
   ]
  },
  {
   "cell_type": "code",
   "execution_count": 124,
   "metadata": {},
   "outputs": [],
   "source": [
    "df_kerncijfers = df_kerncijfers[df_kerncijfers['Codering_3'].isna() == False]"
   ]
  },
  {
   "cell_type": "markdown",
   "metadata": {},
   "source": [
    "Keep only the data on Buurt level"
   ]
  },
  {
   "cell_type": "code",
   "execution_count": 125,
   "metadata": {},
   "outputs": [],
   "source": [
    "#remove whitespaces from beginning and end of string column labels\n",
    "df_kerncijfers = df_kerncijfers.apply(lambda x: x.str.strip() if x.dtype == \"object\" else x)\n",
    "\n",
    "is_buurt = df_kerncijfers['SoortRegio_2']=='Buurt'\n",
    "df_kerncijfers = df_kerncijfers[is_buurt]"
   ]
  },
  {
   "cell_type": "markdown",
   "metadata": {},
   "source": [
    "### Feature #1 - Income"
   ]
  },
  {
   "cell_type": "markdown",
   "metadata": {},
   "source": [
    "Take a look at the number of buurten where the incomes are unknown"
   ]
  },
  {
   "cell_type": "code",
   "execution_count": 126,
   "metadata": {},
   "outputs": [
    {
     "name": "stdout",
     "output_type": "stream",
     "text": [
      "Income not specified in: 22 % of the buurten. Removing these entries.\n"
     ]
    }
   ],
   "source": [
    "fraction_unfilled_incomes = df_kerncijfers['GemiddeldInkomenPerInwoner_72'].isna().sum()/ df_kerncijfers['GemiddeldInkomenPerInwoner_72'].sum() *100\n",
    "print(\"Income not specified in: %.0f\" % fraction_unfilled_incomes, \"% of the buurten. Removing these entries.\")"
   ]
  },
  {
   "cell_type": "code",
   "execution_count": 127,
   "metadata": {},
   "outputs": [
    {
     "data": {
      "text/plain": [
       "<AxesSubplot:>"
      ]
     },
     "execution_count": 127,
     "metadata": {},
     "output_type": "execute_result"
    },
    {
     "data": {
      "image/png": "[encoded data removed]",
      "text/plain": [
       "<Figure size 576x432 with 1 Axes>"
      ]
     },
     "metadata": {
      "needs_background": "light"
     },
     "output_type": "display_data"
    }
   ],
   "source": [
    "cutoff_income = 60\n",
    "df_kerncijfers = df_kerncijfers[(df_kerncijfers['GemiddeldInkomenPerInwoner_72'].isna() == False)]\n",
    "\n",
    "df_income_specified = df_kerncijfers[df_kerncijfers['GemiddeldInkomenPerInwoner_72'] < cutoff_income]\n",
    "df_income_specified['GemiddeldInkomenPerInwoner_72'].hist(bins=54, figsize=(8, 6))"
   ]
  },
  {
   "cell_type": "markdown",
   "metadata": {},
   "source": [
    "### Feature #2 - Household composition"
   ]
  },
  {
   "cell_type": "code",
   "execution_count": 128,
   "metadata": {},
   "outputs": [
    {
     "name": "stdout",
     "output_type": "stream",
     "text": [
      "Average size of household not specified in: 0 % of the buurten. Removing these entries.\n"
     ]
    }
   ],
   "source": [
    "fraction_unfilled_huishoudensgroottes = df_kerncijfers['GemiddeldeHuishoudensgrootte_32'].isna().sum()/ df_kerncijfers['GemiddeldeHuishoudensgrootte_32'].sum() *100\n",
    "\n",
    "print(\"Average size of household not specified in: %.0f\" % fraction_unfilled_huishoudensgroottes, \"% of the buurten. Removing these entries.\")"
   ]
  },
  {
   "cell_type": "code",
   "execution_count": 129,
   "metadata": {},
   "outputs": [
    {
     "data": {
      "text/plain": [
       "<AxesSubplot:>"
      ]
     },
     "execution_count": 129,
     "metadata": {},
     "output_type": "execute_result"
    },
    {
     "data": {
      "image/png": "[encoded data removed]",
      "text/plain": [
       "<Figure size 576x432 with 1 Axes>"
      ]
     },
     "metadata": {
      "needs_background": "light"
     },
     "output_type": "display_data"
    }
   ],
   "source": [
    "cut_off_household_size = 5\n",
    "df_kerncijfers = df_kerncijfers[df_kerncijfers['GemiddeldeHuishoudensgrootte_32'].isna() == False]\n",
    "\n",
    "df_average_household_size_specified = df_kerncijfers[df_kerncijfers['GemiddeldeHuishoudensgrootte_32']<cut_off_household_size]\n",
    "df_average_household_size_specified['GemiddeldeHuishoudensgrootte_32'].hist(bins=140, figsize=(8, 6))"
   ]
  },
  {
   "cell_type": "markdown",
   "metadata": {},
   "source": [
    "### Feature #3 - Percentage owned property (koopwoningen)"
   ]
  },
  {
   "cell_type": "code",
   "execution_count": 130,
   "metadata": {},
   "outputs": [
    {
     "name": "stdout",
     "output_type": "stream",
     "text": [
      "Average percentage of owned properties not specified in: 0 % of the buurten.\n"
     ]
    }
   ],
   "source": [
    "fraction_unfilled_owned_property_percentage = df_kerncijfers['Koopwoningen_40'].isna().sum()/ df_kerncijfers['Koopwoningen_40'].sum() *100\n",
    "\n",
    "print(\"Average percentage of owned properties not specified in: %.0f\" % fraction_unfilled_owned_property_percentage, \"% of the buurten.\")\n"
   ]
  },
  {
   "cell_type": "markdown",
   "metadata": {},
   "source": [
    "Remove the 'BU' from the buurtcode and rename the column name so we can combine the datasets later"
   ]
  },
  {
   "cell_type": "code",
   "execution_count": 131,
   "metadata": {},
   "outputs": [
    {
     "name": "stdout",
     "output_type": "stream",
     "text": [
      "Number of buurten that don't start with 'BU':  0\n"
     ]
    }
   ],
   "source": [
    "has_buurtcode_starting_with_BU = df_kerncijfers['Codering_3'].str.find('BU') == 0\n",
    "buurtcodes_without_leading_BU = df_kerncijfers[has_buurtcode_starting_with_BU == False]\n",
    "print(\"Number of buurten that don't start with 'BU': \", len(buurtcodes_without_leading_BU))\n",
    "\n",
    "df_kerncijfers['CBS Buurtcode'] = pd.to_numeric(df_kerncijfers['Codering_3'].apply(lambda s:s.replace(\"BU\",\"\")))"
   ]
  },
  {
   "cell_type": "code",
   "execution_count": 132,
   "metadata": {},
   "outputs": [
    {
     "name": "stdout",
     "output_type": "stream",
     "text": [
      "Duplicate buurtcodes: 0\n"
     ]
    },
    {
     "data": {
      "text/html": [
       "<div>\n",
       "<style scoped>\n",
       "    .dataframe tbody tr th:only-of-type {\n",
       "        vertical-align: middle;\n",
       "    }\n",
       "\n",
       "    .dataframe tbody tr th {\n",
       "        vertical-align: top;\n",
       "    }\n",
       "\n",
       "    .dataframe thead th {\n",
       "        text-align: right;\n",
       "    }\n",
       "</style>\n",
       "<table border=\"1\" class=\"dataframe\">\n",
       "  <thead>\n",
       "    <tr style=\"text-align: right;\">\n",
       "      <th></th>\n",
       "      <th>ID</th>\n",
       "      <th>WijkenEnBuurten</th>\n",
       "      <th>Gemeentenaam_1</th>\n",
       "      <th>SoortRegio_2</th>\n",
       "      <th>Codering_3</th>\n",
       "      <th>IndelingswijzigingWijkenEnBuurten_4</th>\n",
       "      <th>AantalInwoners_5</th>\n",
       "      <th>Mannen_6</th>\n",
       "      <th>Vrouwen_7</th>\n",
       "      <th>k_0Tot15Jaar_8</th>\n",
       "      <th>...</th>\n",
       "      <th>AfstandTotSchool_108</th>\n",
       "      <th>ScholenBinnen3Km_109</th>\n",
       "      <th>OppervlakteTotaal_110</th>\n",
       "      <th>OppervlakteLand_111</th>\n",
       "      <th>OppervlakteWater_112</th>\n",
       "      <th>MeestVoorkomendePostcode_113</th>\n",
       "      <th>Dekkingspercentage_114</th>\n",
       "      <th>MateVanStedelijkheid_115</th>\n",
       "      <th>Omgevingsadressendichtheid_116</th>\n",
       "      <th>CBS Buurtcode</th>\n",
       "    </tr>\n",
       "  </thead>\n",
       "  <tbody>\n",
       "    <tr>\n",
       "      <th>3</th>\n",
       "      <td>3</td>\n",
       "      <td>Annen</td>\n",
       "      <td>Aa en Hunze</td>\n",
       "      <td>Buurt</td>\n",
       "      <td>BU16800000</td>\n",
       "      <td>1</td>\n",
       "      <td>3460</td>\n",
       "      <td>1685</td>\n",
       "      <td>1775</td>\n",
       "      <td>540</td>\n",
       "      <td>...</td>\n",
       "      <td>0.8</td>\n",
       "      <td>2.6</td>\n",
       "      <td>252</td>\n",
       "      <td>252</td>\n",
       "      <td>0</td>\n",
       "      <td>9468</td>\n",
       "      <td>1.0</td>\n",
       "      <td>5.0</td>\n",
       "      <td>411.0</td>\n",
       "      <td>16800000</td>\n",
       "    </tr>\n",
       "    <tr>\n",
       "      <th>54</th>\n",
       "      <td>54</td>\n",
       "      <td>Gieten</td>\n",
       "      <td>Aa en Hunze</td>\n",
       "      <td>Buurt</td>\n",
       "      <td>BU16801700</td>\n",
       "      <td>1</td>\n",
       "      <td>4885</td>\n",
       "      <td>2360</td>\n",
       "      <td>2525</td>\n",
       "      <td>675</td>\n",
       "      <td>...</td>\n",
       "      <td>0.7</td>\n",
       "      <td>3.0</td>\n",
       "      <td>407</td>\n",
       "      <td>407</td>\n",
       "      <td>0</td>\n",
       "      <td>9461</td>\n",
       "      <td>1.0</td>\n",
       "      <td>4.0</td>\n",
       "      <td>520.0</td>\n",
       "      <td>16801700</td>\n",
       "    </tr>\n",
       "    <tr>\n",
       "      <th>62</th>\n",
       "      <td>62</td>\n",
       "      <td>Rolde</td>\n",
       "      <td>Aa en Hunze</td>\n",
       "      <td>Buurt</td>\n",
       "      <td>BU16801900</td>\n",
       "      <td>1</td>\n",
       "      <td>3770</td>\n",
       "      <td>1840</td>\n",
       "      <td>1930</td>\n",
       "      <td>470</td>\n",
       "      <td>...</td>\n",
       "      <td>0.9</td>\n",
       "      <td>1.0</td>\n",
       "      <td>333</td>\n",
       "      <td>333</td>\n",
       "      <td>0</td>\n",
       "      <td>9451</td>\n",
       "      <td>1.0</td>\n",
       "      <td>5.0</td>\n",
       "      <td>451.0</td>\n",
       "      <td>16801900</td>\n",
       "    </tr>\n",
       "    <tr>\n",
       "      <th>79</th>\n",
       "      <td>79</td>\n",
       "      <td>Centrum</td>\n",
       "      <td>Aalsmeer</td>\n",
       "      <td>Buurt</td>\n",
       "      <td>BU03580000</td>\n",
       "      <td>1</td>\n",
       "      <td>2785</td>\n",
       "      <td>1335</td>\n",
       "      <td>1445</td>\n",
       "      <td>365</td>\n",
       "      <td>...</td>\n",
       "      <td>0.5</td>\n",
       "      <td>3.0</td>\n",
       "      <td>61</td>\n",
       "      <td>54</td>\n",
       "      <td>7</td>\n",
       "      <td>1431</td>\n",
       "      <td>1.0</td>\n",
       "      <td>3.0</td>\n",
       "      <td>1070.0</td>\n",
       "      <td>3580000</td>\n",
       "    </tr>\n",
       "    <tr>\n",
       "      <th>80</th>\n",
       "      <td>80</td>\n",
       "      <td>Stommeer</td>\n",
       "      <td>Aalsmeer</td>\n",
       "      <td>Buurt</td>\n",
       "      <td>BU03580001</td>\n",
       "      <td>1</td>\n",
       "      <td>6535</td>\n",
       "      <td>3175</td>\n",
       "      <td>3360</td>\n",
       "      <td>955</td>\n",
       "      <td>...</td>\n",
       "      <td>0.8</td>\n",
       "      <td>3.2</td>\n",
       "      <td>192</td>\n",
       "      <td>184</td>\n",
       "      <td>8</td>\n",
       "      <td>1431</td>\n",
       "      <td>1.0</td>\n",
       "      <td>3.0</td>\n",
       "      <td>1205.0</td>\n",
       "      <td>3580001</td>\n",
       "    </tr>\n",
       "  </tbody>\n",
       "</table>\n",
       "<p>5 rows × 119 columns</p>\n",
       "</div>"
      ],
      "text/plain": [
       "    ID WijkenEnBuurten Gemeentenaam_1 SoortRegio_2  Codering_3  \\\n",
       "3    3           Annen    Aa en Hunze        Buurt  BU16800000   \n",
       "54  54          Gieten    Aa en Hunze        Buurt  BU16801700   \n",
       "62  62           Rolde    Aa en Hunze        Buurt  BU16801900   \n",
       "79  79         Centrum       Aalsmeer        Buurt  BU03580000   \n",
       "80  80        Stommeer       Aalsmeer        Buurt  BU03580001   \n",
       "\n",
       "   IndelingswijzigingWijkenEnBuurten_4  AantalInwoners_5  Mannen_6  Vrouwen_7  \\\n",
       "3                                    1              3460      1685       1775   \n",
       "54                                   1              4885      2360       2525   \n",
       "62                                   1              3770      1840       1930   \n",
       "79                                   1              2785      1335       1445   \n",
       "80                                   1              6535      3175       3360   \n",
       "\n",
       "    k_0Tot15Jaar_8  ...  AfstandTotSchool_108  ScholenBinnen3Km_109  \\\n",
       "3              540  ...                   0.8                   2.6   \n",
       "54             675  ...                   0.7                   3.0   \n",
       "62             470  ...                   0.9                   1.0   \n",
       "79             365  ...                   0.5                   3.0   \n",
       "80             955  ...                   0.8                   3.2   \n",
       "\n",
       "    OppervlakteTotaal_110  OppervlakteLand_111  OppervlakteWater_112  \\\n",
       "3                     252                  252                     0   \n",
       "54                    407                  407                     0   \n",
       "62                    333                  333                     0   \n",
       "79                     61                   54                     7   \n",
       "80                    192                  184                     8   \n",
       "\n",
       "    MeestVoorkomendePostcode_113  Dekkingspercentage_114  \\\n",
       "3                           9468                     1.0   \n",
       "54                          9461                     1.0   \n",
       "62                          9451                     1.0   \n",
       "79                          1431                     1.0   \n",
       "80                          1431                     1.0   \n",
       "\n",
       "    MateVanStedelijkheid_115  Omgevingsadressendichtheid_116  CBS Buurtcode  \n",
       "3                        5.0                           411.0       16800000  \n",
       "54                       4.0                           520.0       16801700  \n",
       "62                       5.0                           451.0       16801900  \n",
       "79                       3.0                          1070.0        3580000  \n",
       "80                       3.0                          1205.0        3580001  \n",
       "\n",
       "[5 rows x 119 columns]"
      ]
     },
     "execution_count": 132,
     "metadata": {},
     "output_type": "execute_result"
    }
   ],
   "source": [
    "print(\"Duplicate buurtcodes: %.0f\" % df_kerncijfers.duplicated(['CBS Buurtcode']).sum())\n",
    "df_kerncijfers.astype({\"CBS Buurtcode\" : int})\n",
    "df_kerncijfers.head()"
   ]
  },
  {
   "cell_type": "markdown",
   "metadata": {},
   "source": [
    "Take a look at the # of households per buurt. We need this to be able to 'normalize' the installed pV"
   ]
  },
  {
   "cell_type": "code",
   "execution_count": 133,
   "metadata": {},
   "outputs": [
    {
     "name": "stdout",
     "output_type": "stream",
     "text": [
      "Huishoudens totaal has:  0  empty items.\n"
     ]
    }
   ],
   "source": [
    "print(\"Huishoudens totaal has: \", (df_kerncijfers['HuishoudensTotaal_28'].isna() == True).sum(), \" empty items.\")"
   ]
  },
  {
   "cell_type": "markdown",
   "metadata": {},
   "source": [
    "## Target variable - opgesteld vermogen"
   ]
  },
  {
   "cell_type": "markdown",
   "metadata": {},
   "source": [
    "Load the data from the Enexis supplied data file."
   ]
  },
  {
   "cell_type": "code",
   "execution_count": 134,
   "metadata": {},
   "outputs": [],
   "source": [
    "decentral_generation_072020 = './data/Enexis_decentrale_opwek_kv_(zon_pv)_01072020.csv'\n",
    "df_decentral_generation = pd.read_csv(decentral_generation_072020,\n",
    "                         sep                = ';',\n",
    "                         decimal            = ',',\n",
    "                         thousands          = '.',\n",
    "                         encoding           = 'unicode_escape')        "
   ]
  },
  {
   "cell_type": "markdown",
   "metadata": {},
   "source": [
    "Remove empty items"
   ]
  },
  {
   "cell_type": "code",
   "execution_count": 135,
   "metadata": {},
   "outputs": [],
   "source": [
    "df_decentral_generation = df_decentral_generation[df_decentral_generation['Opgesteld vermogen'].isna() == False]\n",
    "df_decentral_generation = df_decentral_generation[df_decentral_generation['CBS Buurtcode'].isna() == False]"
   ]
  },
  {
   "cell_type": "markdown",
   "metadata": {},
   "source": [
    "## Note: the unit of 'opgesteld vermogen' is kW"
   ]
  },
  {
   "cell_type": "code",
   "execution_count": 136,
   "metadata": {},
   "outputs": [
    {
     "data": {
      "text/plain": [
       "<AxesSubplot:>"
      ]
     },
     "execution_count": 136,
     "metadata": {},
     "output_type": "execute_result"
    },
    {
     "data": {
      "image/png": "[encoded data removed]",
      "text/plain": [
       "<Figure size 576x432 with 1 Axes>"
      ]
     },
     "metadata": {
      "needs_background": "light"
     },
     "output_type": "display_data"
    }
   ],
   "source": [
    "cut_off_generation = 3000\n",
    "\n",
    "df_decentral_generation_specified = df_decentral_generation[df_decentral_generation['Opgesteld vermogen'] < cut_off_generation]\n",
    "df_decentral_generation_specified['Opgesteld vermogen'].hist(bins=53, figsize=(8, 6))"
   ]
  },
  {
   "cell_type": "code",
   "execution_count": 137,
   "metadata": {},
   "outputs": [
    {
     "name": "stdout",
     "output_type": "stream",
     "text": [
      "Duplicate buurtcodes: 0\n"
     ]
    },
    {
     "data": {
      "text/html": [
       "<div>\n",
       "<style scoped>\n",
       "    .dataframe tbody tr th:only-of-type {\n",
       "        vertical-align: middle;\n",
       "    }\n",
       "\n",
       "    .dataframe tbody tr th {\n",
       "        vertical-align: top;\n",
       "    }\n",
       "\n",
       "    .dataframe thead th {\n",
       "        text-align: right;\n",
       "    }\n",
       "</style>\n",
       "<table border=\"1\" class=\"dataframe\">\n",
       "  <thead>\n",
       "    <tr style=\"text-align: right;\">\n",
       "      <th></th>\n",
       "      <th>ï»¿Peildatum</th>\n",
       "      <th>Netbeheerder</th>\n",
       "      <th>Provincie</th>\n",
       "      <th>Gemeente</th>\n",
       "      <th>CBS Buurt</th>\n",
       "      <th>CBS Buurtcode</th>\n",
       "      <th>Aantal aansluitingen in CBS-buurt</th>\n",
       "      <th>Aantal aansluitingen met opwekinstallatie</th>\n",
       "      <th>Opgesteld vermogen</th>\n",
       "    </tr>\n",
       "  </thead>\n",
       "  <tbody>\n",
       "    <tr>\n",
       "      <th>0</th>\n",
       "      <td>202007.0</td>\n",
       "      <td>Enexis</td>\n",
       "      <td>Drenthe</td>\n",
       "      <td>Aa en Hunze</td>\n",
       "      <td>Annen</td>\n",
       "      <td>16800000</td>\n",
       "      <td>1491.0</td>\n",
       "      <td>447.0</td>\n",
       "      <td>1866.0</td>\n",
       "    </tr>\n",
       "    <tr>\n",
       "      <th>1</th>\n",
       "      <td>202007.0</td>\n",
       "      <td>Enexis</td>\n",
       "      <td>Drenthe</td>\n",
       "      <td>Aa en Hunze</td>\n",
       "      <td>Verspreide huizen Annen</td>\n",
       "      <td>16800009</td>\n",
       "      <td>116.0</td>\n",
       "      <td>29.0</td>\n",
       "      <td>243.0</td>\n",
       "    </tr>\n",
       "    <tr>\n",
       "      <th>2</th>\n",
       "      <td>202007.0</td>\n",
       "      <td>Enexis</td>\n",
       "      <td>Drenthe</td>\n",
       "      <td>Aa en Hunze</td>\n",
       "      <td>Eext</td>\n",
       "      <td>16800100</td>\n",
       "      <td>559.0</td>\n",
       "      <td>143.0</td>\n",
       "      <td>565.0</td>\n",
       "    </tr>\n",
       "    <tr>\n",
       "      <th>3</th>\n",
       "      <td>202007.0</td>\n",
       "      <td>Enexis</td>\n",
       "      <td>Drenthe</td>\n",
       "      <td>Aa en Hunze</td>\n",
       "      <td>Verspreide huizen Eext</td>\n",
       "      <td>16800109</td>\n",
       "      <td>127.0</td>\n",
       "      <td>24.0</td>\n",
       "      <td>150.0</td>\n",
       "    </tr>\n",
       "    <tr>\n",
       "      <th>4</th>\n",
       "      <td>202007.0</td>\n",
       "      <td>Enexis</td>\n",
       "      <td>Drenthe</td>\n",
       "      <td>Aa en Hunze</td>\n",
       "      <td>Anloo</td>\n",
       "      <td>16800200</td>\n",
       "      <td>127.0</td>\n",
       "      <td>29.0</td>\n",
       "      <td>129.0</td>\n",
       "    </tr>\n",
       "    <tr>\n",
       "      <th>...</th>\n",
       "      <td>...</td>\n",
       "      <td>...</td>\n",
       "      <td>...</td>\n",
       "      <td>...</td>\n",
       "      <td>...</td>\n",
       "      <td>...</td>\n",
       "      <td>...</td>\n",
       "      <td>...</td>\n",
       "      <td>...</td>\n",
       "    </tr>\n",
       "    <tr>\n",
       "      <th>4070</th>\n",
       "      <td>202007.0</td>\n",
       "      <td>Enexis</td>\n",
       "      <td>Overijssel</td>\n",
       "      <td>Zwolle</td>\n",
       "      <td>Gerenlanden</td>\n",
       "      <td>1935140</td>\n",
       "      <td>1218.0</td>\n",
       "      <td>323.0</td>\n",
       "      <td>992.0</td>\n",
       "    </tr>\n",
       "    <tr>\n",
       "      <th>4071</th>\n",
       "      <td>202007.0</td>\n",
       "      <td>Enexis</td>\n",
       "      <td>Overijssel</td>\n",
       "      <td>Zwolle</td>\n",
       "      <td>Gerenbroek</td>\n",
       "      <td>1935150</td>\n",
       "      <td>1217.0</td>\n",
       "      <td>315.0</td>\n",
       "      <td>949.0</td>\n",
       "    </tr>\n",
       "    <tr>\n",
       "      <th>4072</th>\n",
       "      <td>202007.0</td>\n",
       "      <td>Enexis</td>\n",
       "      <td>Overijssel</td>\n",
       "      <td>Zwolle</td>\n",
       "      <td>Oude Mars</td>\n",
       "      <td>1935160</td>\n",
       "      <td>59.0</td>\n",
       "      <td>19.0</td>\n",
       "      <td>127.0</td>\n",
       "    </tr>\n",
       "    <tr>\n",
       "      <th>4073</th>\n",
       "      <td>202007.0</td>\n",
       "      <td>Enexis</td>\n",
       "      <td>Overijssel</td>\n",
       "      <td>Zwolle</td>\n",
       "      <td>Windesheim</td>\n",
       "      <td>1935200</td>\n",
       "      <td>143.0</td>\n",
       "      <td>34.0</td>\n",
       "      <td>165.0</td>\n",
       "    </tr>\n",
       "    <tr>\n",
       "      <th>4074</th>\n",
       "      <td>202007.0</td>\n",
       "      <td>Enexis</td>\n",
       "      <td>Overijssel</td>\n",
       "      <td>Zwolle</td>\n",
       "      <td>Harculo en Hoogzutmen</td>\n",
       "      <td>1935210</td>\n",
       "      <td>261.0</td>\n",
       "      <td>65.0</td>\n",
       "      <td>490.0</td>\n",
       "    </tr>\n",
       "  </tbody>\n",
       "</table>\n",
       "<p>3946 rows × 9 columns</p>\n",
       "</div>"
      ],
      "text/plain": [
       "      ï»¿Peildatum Netbeheerder   Provincie     Gemeente  \\\n",
       "0         202007.0       Enexis     Drenthe  Aa en Hunze   \n",
       "1         202007.0       Enexis     Drenthe  Aa en Hunze   \n",
       "2         202007.0       Enexis     Drenthe  Aa en Hunze   \n",
       "3         202007.0       Enexis     Drenthe  Aa en Hunze   \n",
       "4         202007.0       Enexis     Drenthe  Aa en Hunze   \n",
       "...            ...          ...         ...          ...   \n",
       "4070      202007.0       Enexis  Overijssel       Zwolle   \n",
       "4071      202007.0       Enexis  Overijssel       Zwolle   \n",
       "4072      202007.0       Enexis  Overijssel       Zwolle   \n",
       "4073      202007.0       Enexis  Overijssel       Zwolle   \n",
       "4074      202007.0       Enexis  Overijssel       Zwolle   \n",
       "\n",
       "                    CBS Buurt  CBS Buurtcode  \\\n",
       "0                       Annen       16800000   \n",
       "1     Verspreide huizen Annen       16800009   \n",
       "2                        Eext       16800100   \n",
       "3      Verspreide huizen Eext       16800109   \n",
       "4                       Anloo       16800200   \n",
       "...                       ...            ...   \n",
       "4070              Gerenlanden        1935140   \n",
       "4071               Gerenbroek        1935150   \n",
       "4072                Oude Mars        1935160   \n",
       "4073               Windesheim        1935200   \n",
       "4074    Harculo en Hoogzutmen        1935210   \n",
       "\n",
       "      Aantal aansluitingen in CBS-buurt   \\\n",
       "0                                 1491.0   \n",
       "1                                  116.0   \n",
       "2                                  559.0   \n",
       "3                                  127.0   \n",
       "4                                  127.0   \n",
       "...                                  ...   \n",
       "4070                              1218.0   \n",
       "4071                              1217.0   \n",
       "4072                                59.0   \n",
       "4073                               143.0   \n",
       "4074                               261.0   \n",
       "\n",
       "      Aantal aansluitingen met opwekinstallatie  Opgesteld vermogen  \n",
       "0                                         447.0              1866.0  \n",
       "1                                          29.0               243.0  \n",
       "2                                         143.0               565.0  \n",
       "3                                          24.0               150.0  \n",
       "4                                          29.0               129.0  \n",
       "...                                         ...                 ...  \n",
       "4070                                      323.0               992.0  \n",
       "4071                                      315.0               949.0  \n",
       "4072                                       19.0               127.0  \n",
       "4073                                       34.0               165.0  \n",
       "4074                                       65.0               490.0  \n",
       "\n",
       "[3946 rows x 9 columns]"
      ]
     },
     "execution_count": 137,
     "metadata": {},
     "output_type": "execute_result"
    }
   ],
   "source": [
    "print(\"Duplicate buurtcodes: %.0f\" % df_decentral_generation.duplicated(['CBS Buurtcode']).sum())\n",
    "df_decentral_generation.astype({\"CBS Buurtcode\" : int})"
   ]
  },
  {
   "cell_type": "markdown",
   "metadata": {},
   "source": [
    "Check if the deduplication was successfull"
   ]
  },
  {
   "cell_type": "markdown",
   "metadata": {},
   "source": [
    "### Combine the demographic data with the generation data"
   ]
  },
  {
   "cell_type": "code",
   "execution_count": 138,
   "metadata": {},
   "outputs": [
    {
     "name": "stdout",
     "output_type": "stream",
     "text": [
      "Number of rows in 'kerncijfers': 1979\n",
      "Number of rows in 'generation data': 3946\n",
      "Number of rows in combined data set: 597\n"
     ]
    }
   ],
   "source": [
    "print(\"Number of rows in 'kerncijfers': %.0f\" % len(df_kerncijfers))\n",
    "print(\"Number of rows in 'generation data': %.0f\" % len(df_decentral_generation))\n",
    "\n",
    "df = pd.merge(df_kerncijfers, df_decentral_generation, on=\"CBS Buurtcode\", validate='one_to_one')\n",
    "print(\"Number of rows in combined data set: %.0f\" % len(df))\n"
   ]
  },
  {
   "cell_type": "markdown",
   "metadata": {},
   "source": [
    "#### To do: check why not more rows match on buurt code"
   ]
  },
  {
   "cell_type": "markdown",
   "metadata": {},
   "source": [
    "### Introduce a normalized column. normalized_opgesteld_vermogen = opgesteld_vermogen / #households"
   ]
  },
  {
   "cell_type": "code",
   "execution_count": 139,
   "metadata": {},
   "outputs": [],
   "source": [
    "df[\"normalized_opgesteld_vermogen\"] = (df[\"Opgesteld vermogen\"] / df[\"HuishoudensTotaal_28\"])"
   ]
  },
  {
   "cell_type": "markdown",
   "metadata": {},
   "source": [
    "## Create a first model - linear model"
   ]
  },
  {
   "cell_type": "code",
   "execution_count": 140,
   "metadata": {},
   "outputs": [],
   "source": [
    "from sklearn.linear_model import LinearRegression\n",
    "from sklearn.metrics import mean_squared_error, r2_score\n",
    "from sklearn.model_selection import train_test_split\n",
    "\n",
    "import altair as alt"
   ]
  },
  {
   "cell_type": "code",
   "execution_count": 141,
   "metadata": {},
   "outputs": [
    {
     "name": "stdout",
     "output_type": "stream",
     "text": [
      "training set size: 477\n",
      "test set size: 120\n"
     ]
    },
    {
     "data": {
      "text/plain": [
       "LinearRegression()"
      ]
     },
     "execution_count": 141,
     "metadata": {},
     "output_type": "execute_result"
    }
   ],
   "source": [
    "opgesteld_vermogen = 'normalized_opgesteld_vermogen'\n",
    "columns_to_keep = [opgesteld_vermogen, 'GemiddeldInkomenPerInwoner_72', 'GemiddeldeHuishoudensgrootte_32', 'Koopwoningen_40']\n",
    "df = df[columns_to_keep]\n",
    "\n",
    "train_set, test_set = train_test_split(df, test_size=0.2)\n",
    "\n",
    "print(f\"training set size: {len(train_set)}\\ntest set size: {len(test_set)}\")\n",
    "\n",
    "Y_train_set = train_set[opgesteld_vermogen]\n",
    "X_train_set = train_set.drop(opgesteld_vermogen, axis=1).copy()\n",
    "\n",
    "Y_test_set = test_set[opgesteld_vermogen]\n",
    "X_test_set = test_set.drop(opgesteld_vermogen, axis=1).copy()\n",
    "\n",
    "lin_reg = LinearRegression()\n",
    "lin_reg.fit(X_train_set, Y_train_set)"
   ]
  },
  {
   "cell_type": "markdown",
   "metadata": {},
   "source": [
    "Plot the fit with income"
   ]
  },
  {
   "cell_type": "code",
   "execution_count": 142,
   "metadata": {},
   "outputs": [
    {
     "data": {
      "text/html": [
       "\n",
       "<div id=\"altair-viz-0012b7cecb2445cea5f50a6e860f03a7\"></div>\n",
       "<script type=\"text/javascript\">\n",
       "  (function(spec, embedOpt){\n",
       "    let outputDiv = document.currentScript.previousElementSibling;\n",
       "    if (outputDiv.id !== \"altair-viz-0012b7cecb2445cea5f50a6e860f03a7\") {\n",
       "      outputDiv = document.getElementById(\"altair-viz-0012b7cecb2445cea5f50a6e860f03a7\");\n",
       "    }\n",
       "    const paths = {\n",
       "      \"vega\": \"https://cdn.jsdelivr.net/npm//vega@5?noext\",\n",
       "      \"vega-lib\": \"https://cdn.jsdelivr.net/npm//vega-lib?noext\",\n",
       "      \"vega-lite\": \"https://cdn.jsdelivr.net/npm//vega-lite@4.8.1?noext\",\n",
       "      \"vega-embed\": \"https://cdn.jsdelivr.net/npm//vega-embed@6?noext\",\n",
       "    };\n",
       "\n",
       "    function loadScript(lib) {\n",
       "      return new Promise(function(resolve, reject) {\n",
       "        var s = document.createElement('script');\n",
       "        s.src = paths[lib];\n",
       "        s.async = true;\n",
       "        s.onload = () => resolve(paths[lib]);\n",
       "        s.onerror = () => reject(`Error loading script: ${paths[lib]}`);\n",
       "        document.getElementsByTagName(\"head\")[0].appendChild(s);\n",
       "      });\n",
       "    }\n",
       "\n",
       "    function showError(err) {\n",
       "      outputDiv.innerHTML = `<div class=\"error\" style=\"color:red;\">${err}</div>`;\n",
       "      throw err;\n",
       "    }\n",
       "\n",
       "    function displayChart(vegaEmbed) {\n",
       "      vegaEmbed(outputDiv, spec, embedOpt)\n",
       "        .catch(err => showError(`Javascript Error: ${err.message}<br>This usually means there's a typo in your chart specification. See the javascript console for the full traceback.`));\n",
       "    }\n",
       "\n",
       "    if(typeof define === \"function\" && define.amd) {\n",
       "      requirejs.config({paths});\n",
       "      require([\"vega-embed\"], displayChart, err => showError(`Error loading script: ${err.message}`));\n",
       "    } else if (typeof vegaEmbed === \"function\") {\n",
       "      displayChart(vegaEmbed);\n",
       "    } else {\n",
       "      loadScript(\"vega\")\n",
       "        .then(() => loadScript(\"vega-lite\"))\n",
       "        .then(() => loadScript(\"vega-embed\"))\n",
       "        .catch(showError)\n",
       "        .then(() => displayChart(vegaEmbed));\n",
       "    }\n",
       "  })({\"config\": {\"view\": {\"continuousWidth\": 400, \"continuousHeight\": 300}}, \"layer\": [{\"mark\": \"circle\", \"encoding\": {\"x\": {\"type\": \"quantitative\", \"field\": \"GemiddeldInkomenPerInwoner_72\", \"title\": \"# income\"}, \"y\": {\"type\": \"quantitative\", \"field\": \"normalized_opgesteld_vermogen\", \"title\": \"Opgesteld vermogen\"}}}, {\"mark\": \"line\", \"encoding\": {\"x\": {\"type\": \"quantitative\", \"field\": \"GemiddeldInkomenPerInwoner_72\", \"title\": \"# income\"}, \"y\": {\"type\": \"quantitative\", \"field\": \"normalized_opgesteld_vermogen\", \"title\": \"Opgesteld vermogen\"}}, \"transform\": [{\"on\": \"GemiddeldInkomenPerInwoner_72\", \"regression\": \"normalized_opgesteld_vermogen\", \"method\": \"linear\"}]}], \"data\": {\"name\": \"data-b42aa9a1bbf6048bf2362c674e18945e\"}, \"$schema\": \"https://vega.github.io/schema/vega-lite/v4.8.1.json\", \"datasets\": {\"data-b42aa9a1bbf6048bf2362c674e18945e\": [{\"normalized_opgesteld_vermogen\": 0.9525423728813559, \"GemiddeldInkomenPerInwoner_72\": 30.3, \"GemiddeldeHuishoudensgrootte_32\": 2.4, \"Koopwoningen_40\": 79.0}, {\"normalized_opgesteld_vermogen\": 1.0171052631578947, \"GemiddeldInkomenPerInwoner_72\": 24.6, \"GemiddeldeHuishoudensgrootte_32\": 2.1, \"Koopwoningen_40\": 58.0}, {\"normalized_opgesteld_vermogen\": 0.9596153846153846, \"GemiddeldInkomenPerInwoner_72\": 29.2, \"GemiddeldeHuishoudensgrootte_32\": 2.4, \"Koopwoningen_40\": 75.0}, {\"normalized_opgesteld_vermogen\": 0.9532967032967034, \"GemiddeldInkomenPerInwoner_72\": 27.2, \"GemiddeldeHuishoudensgrootte_32\": 2.1, \"Koopwoningen_40\": 76.0}, {\"normalized_opgesteld_vermogen\": 0.7310144927536232, \"GemiddeldInkomenPerInwoner_72\": 30.8, \"GemiddeldeHuishoudensgrootte_32\": 2.4, \"Koopwoningen_40\": 80.0}, {\"normalized_opgesteld_vermogen\": 0.6826388888888889, \"GemiddeldInkomenPerInwoner_72\": 26.6, \"GemiddeldeHuishoudensgrootte_32\": 2.2, \"Koopwoningen_40\": 61.0}, {\"normalized_opgesteld_vermogen\": 0.30334346504559273, \"GemiddeldInkomenPerInwoner_72\": 21.6, \"GemiddeldeHuishoudensgrootte_32\": 2.3, \"Koopwoningen_40\": 64.0}, {\"normalized_opgesteld_vermogen\": 0.42830188679245285, \"GemiddeldInkomenPerInwoner_72\": 32.5, \"GemiddeldeHuishoudensgrootte_32\": 2.4, \"Koopwoningen_40\": 69.0}, {\"normalized_opgesteld_vermogen\": 0.809433962264151, \"GemiddeldInkomenPerInwoner_72\": 26.9, \"GemiddeldeHuishoudensgrootte_32\": 2.1, \"Koopwoningen_40\": 68.0}, {\"normalized_opgesteld_vermogen\": 1.0615916955017302, \"GemiddeldInkomenPerInwoner_72\": 27.0, \"GemiddeldeHuishoudensgrootte_32\": 2.4, \"Koopwoningen_40\": 77.0}, {\"normalized_opgesteld_vermogen\": 0.22300884955752212, \"GemiddeldInkomenPerInwoner_72\": 24.3, \"GemiddeldeHuishoudensgrootte_32\": 1.9, \"Koopwoningen_40\": 40.0}, {\"normalized_opgesteld_vermogen\": 1.214795918367347, \"GemiddeldInkomenPerInwoner_72\": 29.8, \"GemiddeldeHuishoudensgrootte_32\": 2.8, \"Koopwoningen_40\": 89.0}, {\"normalized_opgesteld_vermogen\": 0.5298755186721992, \"GemiddeldInkomenPerInwoner_72\": 28.8, \"GemiddeldeHuishoudensgrootte_32\": 2.3, \"Koopwoningen_40\": 69.0}, {\"normalized_opgesteld_vermogen\": 0.38389694041867956, \"GemiddeldInkomenPerInwoner_72\": 22.6, \"GemiddeldeHuishoudensgrootte_32\": 1.9, \"Koopwoningen_40\": 62.0}, {\"normalized_opgesteld_vermogen\": 0.531317494600432, \"GemiddeldInkomenPerInwoner_72\": 25.9, \"GemiddeldeHuishoudensgrootte_32\": 2.2, \"Koopwoningen_40\": 61.0}, {\"normalized_opgesteld_vermogen\": 0.7397058823529412, \"GemiddeldInkomenPerInwoner_72\": 23.2, \"GemiddeldeHuishoudensgrootte_32\": 3.7, \"Koopwoningen_40\": 95.0}, {\"normalized_opgesteld_vermogen\": 0.525077399380805, \"GemiddeldInkomenPerInwoner_72\": 26.5, \"GemiddeldeHuishoudensgrootte_32\": 2.1, \"Koopwoningen_40\": 76.0}, {\"normalized_opgesteld_vermogen\": 0.13388157894736843, \"GemiddeldInkomenPerInwoner_72\": 28.6, \"GemiddeldeHuishoudensgrootte_32\": 1.9, \"Koopwoningen_40\": 53.0}, {\"normalized_opgesteld_vermogen\": 0.23935926773455377, \"GemiddeldInkomenPerInwoner_72\": 19.5, \"GemiddeldeHuishoudensgrootte_32\": 1.9, \"Koopwoningen_40\": 29.0}, {\"normalized_opgesteld_vermogen\": 0.4282517482517483, \"GemiddeldInkomenPerInwoner_72\": 21.8, \"GemiddeldeHuishoudensgrootte_32\": 2.2, \"Koopwoningen_40\": 63.0}, {\"normalized_opgesteld_vermogen\": 0.6046979865771812, \"GemiddeldInkomenPerInwoner_72\": 24.2, \"GemiddeldeHuishoudensgrootte_32\": 1.9, \"Koopwoningen_40\": 51.0}, {\"normalized_opgesteld_vermogen\": 0.6636986301369863, \"GemiddeldInkomenPerInwoner_72\": 26.4, \"GemiddeldeHuishoudensgrootte_32\": 2.4, \"Koopwoningen_40\": 71.0}, {\"normalized_opgesteld_vermogen\": 0.9301310043668122, \"GemiddeldInkomenPerInwoner_72\": 30.6, \"GemiddeldeHuishoudensgrootte_32\": 2.3, \"Koopwoningen_40\": 84.0}, {\"normalized_opgesteld_vermogen\": 0.48912280701754385, \"GemiddeldInkomenPerInwoner_72\": 21.3, \"GemiddeldeHuishoudensgrootte_32\": 2.1, \"Koopwoningen_40\": 37.0}, {\"normalized_opgesteld_vermogen\": 0.3148148148148148, \"GemiddeldInkomenPerInwoner_72\": 19.6, \"GemiddeldeHuishoudensgrootte_32\": 1.9, \"Koopwoningen_40\": 34.0}, {\"normalized_opgesteld_vermogen\": 0.5827067669172933, \"GemiddeldInkomenPerInwoner_72\": 28.4, \"GemiddeldeHuishoudensgrootte_32\": 2.4, \"Koopwoningen_40\": 59.0}, {\"normalized_opgesteld_vermogen\": 0.2627599243856333, \"GemiddeldInkomenPerInwoner_72\": 21.5, \"GemiddeldeHuishoudensgrootte_32\": 1.9, \"Koopwoningen_40\": 31.0}, {\"normalized_opgesteld_vermogen\": 0.7110320284697509, \"GemiddeldInkomenPerInwoner_72\": 26.6, \"GemiddeldeHuishoudensgrootte_32\": 2.2, \"Koopwoningen_40\": 54.0}, {\"normalized_opgesteld_vermogen\": 0.614516129032258, \"GemiddeldInkomenPerInwoner_72\": 31.0, \"GemiddeldeHuishoudensgrootte_32\": 2.7, \"Koopwoningen_40\": 61.0}, {\"normalized_opgesteld_vermogen\": 0.9387453874538746, \"GemiddeldInkomenPerInwoner_72\": 30.3, \"GemiddeldeHuishoudensgrootte_32\": 2.2, \"Koopwoningen_40\": 69.0}, {\"normalized_opgesteld_vermogen\": 0.7196581196581197, \"GemiddeldInkomenPerInwoner_72\": 22.3, \"GemiddeldeHuishoudensgrootte_32\": 2.2, \"Koopwoningen_40\": 67.0}, {\"normalized_opgesteld_vermogen\": 0.8402640264026403, \"GemiddeldInkomenPerInwoner_72\": 25.6, \"GemiddeldeHuishoudensgrootte_32\": 1.9, \"Koopwoningen_40\": 59.0}, {\"normalized_opgesteld_vermogen\": 0.6610309278350516, \"GemiddeldInkomenPerInwoner_72\": 25.4, \"GemiddeldeHuishoudensgrootte_32\": 2.3, \"Koopwoningen_40\": 69.0}, {\"normalized_opgesteld_vermogen\": 0.2513317191283293, \"GemiddeldInkomenPerInwoner_72\": 22.9, \"GemiddeldeHuishoudensgrootte_32\": 2.0, \"Koopwoningen_40\": 42.0}, {\"normalized_opgesteld_vermogen\": 0.30211764705882355, \"GemiddeldInkomenPerInwoner_72\": 23.9, \"GemiddeldeHuishoudensgrootte_32\": 2.4, \"Koopwoningen_40\": 54.0}, {\"normalized_opgesteld_vermogen\": 0.551056338028169, \"GemiddeldInkomenPerInwoner_72\": 22.4, \"GemiddeldeHuishoudensgrootte_32\": 2.4, \"Koopwoningen_40\": 58.0}, {\"normalized_opgesteld_vermogen\": 0.7618147448015122, \"GemiddeldInkomenPerInwoner_72\": 20.7, \"GemiddeldeHuishoudensgrootte_32\": 2.1, \"Koopwoningen_40\": 39.0}, {\"normalized_opgesteld_vermogen\": 0.4433234421364985, \"GemiddeldInkomenPerInwoner_72\": 25.9, \"GemiddeldeHuishoudensgrootte_32\": 2.2, \"Koopwoningen_40\": 64.0}, {\"normalized_opgesteld_vermogen\": 0.5875776397515527, \"GemiddeldInkomenPerInwoner_72\": 22.4, \"GemiddeldeHuishoudensgrootte_32\": 1.9, \"Koopwoningen_40\": 44.0}, {\"normalized_opgesteld_vermogen\": 0.747008547008547, \"GemiddeldInkomenPerInwoner_72\": 25.8, \"GemiddeldeHuishoudensgrootte_32\": 2.2, \"Koopwoningen_40\": 79.0}, {\"normalized_opgesteld_vermogen\": 1.2066265060240964, \"GemiddeldInkomenPerInwoner_72\": 24.0, \"GemiddeldeHuishoudensgrootte_32\": 2.2, \"Koopwoningen_40\": 60.0}, {\"normalized_opgesteld_vermogen\": 0.23682008368200838, \"GemiddeldInkomenPerInwoner_72\": 18.5, \"GemiddeldeHuishoudensgrootte_32\": 2.0, \"Koopwoningen_40\": 23.0}, {\"normalized_opgesteld_vermogen\": 0.44380165289256196, \"GemiddeldInkomenPerInwoner_72\": 29.0, \"GemiddeldeHuishoudensgrootte_32\": 2.2, \"Koopwoningen_40\": 63.0}, {\"normalized_opgesteld_vermogen\": 0.03756613756613757, \"GemiddeldInkomenPerInwoner_72\": 35.7, \"GemiddeldeHuishoudensgrootte_32\": 1.4, \"Koopwoningen_40\": 28.0}, {\"normalized_opgesteld_vermogen\": 0.7302857142857143, \"GemiddeldInkomenPerInwoner_72\": 24.4, \"GemiddeldeHuishoudensgrootte_32\": 1.8, \"Koopwoningen_40\": 50.0}, {\"normalized_opgesteld_vermogen\": 0.8492424242424242, \"GemiddeldInkomenPerInwoner_72\": 25.1, \"GemiddeldeHuishoudensgrootte_32\": 2.1, \"Koopwoningen_40\": 61.0}, {\"normalized_opgesteld_vermogen\": 1.020472440944882, \"GemiddeldInkomenPerInwoner_72\": 28.4, \"GemiddeldeHuishoudensgrootte_32\": 2.3, \"Koopwoningen_40\": 81.0}, {\"normalized_opgesteld_vermogen\": 0.6795031055900621, \"GemiddeldInkomenPerInwoner_72\": 32.4, \"GemiddeldeHuishoudensgrootte_32\": 2.0, \"Koopwoningen_40\": 64.0}, {\"normalized_opgesteld_vermogen\": 0.7763636363636364, \"GemiddeldInkomenPerInwoner_72\": 30.4, \"GemiddeldeHuishoudensgrootte_32\": 2.2, \"Koopwoningen_40\": 75.0}, {\"normalized_opgesteld_vermogen\": 0.4392712550607287, \"GemiddeldInkomenPerInwoner_72\": 27.0, \"GemiddeldeHuishoudensgrootte_32\": 2.0, \"Koopwoningen_40\": 62.0}, {\"normalized_opgesteld_vermogen\": 0.8333333333333334, \"GemiddeldInkomenPerInwoner_72\": 24.9, \"GemiddeldeHuishoudensgrootte_32\": 2.3, \"Koopwoningen_40\": 59.0}, {\"normalized_opgesteld_vermogen\": 0.5866666666666667, \"GemiddeldInkomenPerInwoner_72\": 27.7, \"GemiddeldeHuishoudensgrootte_32\": 2.3, \"Koopwoningen_40\": 80.0}, {\"normalized_opgesteld_vermogen\": 0.1136094674556213, \"GemiddeldInkomenPerInwoner_72\": 33.4, \"GemiddeldeHuishoudensgrootte_32\": 2.0, \"Koopwoningen_40\": 53.0}, {\"normalized_opgesteld_vermogen\": 0.47598784194528876, \"GemiddeldInkomenPerInwoner_72\": 21.7, \"GemiddeldeHuishoudensgrootte_32\": 2.2, \"Koopwoningen_40\": 65.0}, {\"normalized_opgesteld_vermogen\": 1.0820809248554912, \"GemiddeldInkomenPerInwoner_72\": 27.4, \"GemiddeldeHuishoudensgrootte_32\": 2.4, \"Koopwoningen_40\": 74.0}, {\"normalized_opgesteld_vermogen\": 0.2088235294117647, \"GemiddeldInkomenPerInwoner_72\": 21.4, \"GemiddeldeHuishoudensgrootte_32\": 1.9, \"Koopwoningen_40\": 64.0}, {\"normalized_opgesteld_vermogen\": 0.6648888888888889, \"GemiddeldInkomenPerInwoner_72\": 25.4, \"GemiddeldeHuishoudensgrootte_32\": 2.3, \"Koopwoningen_40\": 64.0}, {\"normalized_opgesteld_vermogen\": 0.2375, \"GemiddeldInkomenPerInwoner_72\": 26.7, \"GemiddeldeHuishoudensgrootte_32\": 2.0, \"Koopwoningen_40\": 57.0}, {\"normalized_opgesteld_vermogen\": 0.3018633540372671, \"GemiddeldInkomenPerInwoner_72\": 20.6, \"GemiddeldeHuishoudensgrootte_32\": 2.2, \"Koopwoningen_40\": 58.0}, {\"normalized_opgesteld_vermogen\": 0.10498338870431893, \"GemiddeldInkomenPerInwoner_72\": 22.2, \"GemiddeldeHuishoudensgrootte_32\": 1.7, \"Koopwoningen_40\": 35.0}, {\"normalized_opgesteld_vermogen\": 0.9184986595174263, \"GemiddeldInkomenPerInwoner_72\": 32.0, \"GemiddeldeHuishoudensgrootte_32\": 2.3, \"Koopwoningen_40\": 73.0}, {\"normalized_opgesteld_vermogen\": 0.8713636363636363, \"GemiddeldInkomenPerInwoner_72\": 26.0, \"GemiddeldeHuishoudensgrootte_32\": 2.1, \"Koopwoningen_40\": 67.0}, {\"normalized_opgesteld_vermogen\": 0.6963898916967509, \"GemiddeldInkomenPerInwoner_72\": 24.7, \"GemiddeldeHuishoudensgrootte_32\": 2.2, \"Koopwoningen_40\": 66.0}, {\"normalized_opgesteld_vermogen\": 0.809795918367347, \"GemiddeldInkomenPerInwoner_72\": 26.9, \"GemiddeldeHuishoudensgrootte_32\": 2.5, \"Koopwoningen_40\": 78.0}, {\"normalized_opgesteld_vermogen\": 0.6522193211488251, \"GemiddeldInkomenPerInwoner_72\": 22.9, \"GemiddeldeHuishoudensgrootte_32\": 2.3, \"Koopwoningen_40\": 62.0}, {\"normalized_opgesteld_vermogen\": 0.6690307328605201, \"GemiddeldInkomenPerInwoner_72\": 26.9, \"GemiddeldeHuishoudensgrootte_32\": 2.2, \"Koopwoningen_40\": 61.0}, {\"normalized_opgesteld_vermogen\": 0.5542105263157895, \"GemiddeldInkomenPerInwoner_72\": 25.3, \"GemiddeldeHuishoudensgrootte_32\": 2.0, \"Koopwoningen_40\": 55.0}, {\"normalized_opgesteld_vermogen\": 0.7764309764309765, \"GemiddeldInkomenPerInwoner_72\": 27.6, \"GemiddeldeHuishoudensgrootte_32\": 2.4, \"Koopwoningen_40\": 72.0}, {\"normalized_opgesteld_vermogen\": 1.1073929961089495, \"GemiddeldInkomenPerInwoner_72\": 27.8, \"GemiddeldeHuishoudensgrootte_32\": 2.2, \"Koopwoningen_40\": 81.0}, {\"normalized_opgesteld_vermogen\": 0.9971223021582734, \"GemiddeldInkomenPerInwoner_72\": 22.3, \"GemiddeldeHuishoudensgrootte_32\": 2.3, \"Koopwoningen_40\": 65.0}, {\"normalized_opgesteld_vermogen\": 0.11385390428211586, \"GemiddeldInkomenPerInwoner_72\": 24.6, \"GemiddeldeHuishoudensgrootte_32\": 1.9, \"Koopwoningen_40\": 32.0}, {\"normalized_opgesteld_vermogen\": 0.23154121863799282, \"GemiddeldInkomenPerInwoner_72\": 21.7, \"GemiddeldeHuishoudensgrootte_32\": 2.0, \"Koopwoningen_40\": 46.0}, {\"normalized_opgesteld_vermogen\": 0.7571045576407507, \"GemiddeldInkomenPerInwoner_72\": 29.2, \"GemiddeldeHuishoudensgrootte_32\": 2.3, \"Koopwoningen_40\": 75.0}, {\"normalized_opgesteld_vermogen\": 0.4237942122186495, \"GemiddeldInkomenPerInwoner_72\": 43.5, \"GemiddeldeHuishoudensgrootte_32\": 2.0, \"Koopwoningen_40\": 75.0}, {\"normalized_opgesteld_vermogen\": 0.874, \"GemiddeldInkomenPerInwoner_72\": 26.1, \"GemiddeldeHuishoudensgrootte_32\": 2.5, \"Koopwoningen_40\": 75.0}, {\"normalized_opgesteld_vermogen\": 0.7333333333333333, \"GemiddeldInkomenPerInwoner_72\": 23.0, \"GemiddeldeHuishoudensgrootte_32\": 2.6, \"Koopwoningen_40\": 76.0}, {\"normalized_opgesteld_vermogen\": 0.4706766917293233, \"GemiddeldInkomenPerInwoner_72\": 24.3, \"GemiddeldeHuishoudensgrootte_32\": 2.1, \"Koopwoningen_40\": 58.0}, {\"normalized_opgesteld_vermogen\": 0.4, \"GemiddeldInkomenPerInwoner_72\": 25.8, \"GemiddeldeHuishoudensgrootte_32\": 2.0, \"Koopwoningen_40\": 44.0}, {\"normalized_opgesteld_vermogen\": 0.1794238683127572, \"GemiddeldInkomenPerInwoner_72\": 18.2, \"GemiddeldeHuishoudensgrootte_32\": 2.2, \"Koopwoningen_40\": 44.0}, {\"normalized_opgesteld_vermogen\": 0.5859094176851186, \"GemiddeldInkomenPerInwoner_72\": 26.5, \"GemiddeldeHuishoudensgrootte_32\": 2.3, \"Koopwoningen_40\": 63.0}, {\"normalized_opgesteld_vermogen\": 0.965597667638484, \"GemiddeldInkomenPerInwoner_72\": 34.4, \"GemiddeldeHuishoudensgrootte_32\": 2.6, \"Koopwoningen_40\": 89.0}, {\"normalized_opgesteld_vermogen\": 1.5169398907103826, \"GemiddeldInkomenPerInwoner_72\": 31.8, \"GemiddeldeHuishoudensgrootte_32\": 2.8, \"Koopwoningen_40\": 91.0}, {\"normalized_opgesteld_vermogen\": 0.1079734219269103, \"GemiddeldInkomenPerInwoner_72\": 19.9, \"GemiddeldeHuishoudensgrootte_32\": 1.6, \"Koopwoningen_40\": 16.0}, {\"normalized_opgesteld_vermogen\": 0.21708542713567838, \"GemiddeldInkomenPerInwoner_72\": 20.6, \"GemiddeldeHuishoudensgrootte_32\": 1.7, \"Koopwoningen_40\": 24.0}, {\"normalized_opgesteld_vermogen\": 0.5675090252707581, \"GemiddeldInkomenPerInwoner_72\": 26.7, \"GemiddeldeHuishoudensgrootte_32\": 2.4, \"Koopwoningen_40\": 73.0}, {\"normalized_opgesteld_vermogen\": 0.46875, \"GemiddeldInkomenPerInwoner_72\": 24.2, \"GemiddeldeHuishoudensgrootte_32\": 2.3, \"Koopwoningen_40\": 54.0}, {\"normalized_opgesteld_vermogen\": 0.4683982683982684, \"GemiddeldInkomenPerInwoner_72\": 21.2, \"GemiddeldeHuishoudensgrootte_32\": 2.2, \"Koopwoningen_40\": 59.0}, {\"normalized_opgesteld_vermogen\": 0.19616438356164384, \"GemiddeldInkomenPerInwoner_72\": 22.1, \"GemiddeldeHuishoudensgrootte_32\": 2.1, \"Koopwoningen_40\": 46.0}, {\"normalized_opgesteld_vermogen\": 0.4666666666666667, \"GemiddeldInkomenPerInwoner_72\": 29.7, \"GemiddeldeHuishoudensgrootte_32\": 2.4, \"Koopwoningen_40\": 63.0}, {\"normalized_opgesteld_vermogen\": 0.5112107623318386, \"GemiddeldInkomenPerInwoner_72\": 32.3, \"GemiddeldeHuishoudensgrootte_32\": 2.4, \"Koopwoningen_40\": 73.0}, {\"normalized_opgesteld_vermogen\": 0.8696629213483146, \"GemiddeldInkomenPerInwoner_72\": 29.1, \"GemiddeldeHuishoudensgrootte_32\": 2.2, \"Koopwoningen_40\": 69.0}, {\"normalized_opgesteld_vermogen\": 0.484149855907781, \"GemiddeldInkomenPerInwoner_72\": 36.5, \"GemiddeldeHuishoudensgrootte_32\": 2.1, \"Koopwoningen_40\": 67.0}, {\"normalized_opgesteld_vermogen\": 0.40307017543859647, \"GemiddeldInkomenPerInwoner_72\": 22.3, \"GemiddeldeHuishoudensgrootte_32\": 2.0, \"Koopwoningen_40\": 49.0}, {\"normalized_opgesteld_vermogen\": 0.5088, \"GemiddeldInkomenPerInwoner_72\": 24.3, \"GemiddeldeHuishoudensgrootte_32\": 2.2, \"Koopwoningen_40\": 58.0}, {\"normalized_opgesteld_vermogen\": 1.0823529411764705, \"GemiddeldInkomenPerInwoner_72\": 32.2, \"GemiddeldeHuishoudensgrootte_32\": 2.7, \"Koopwoningen_40\": 80.0}, {\"normalized_opgesteld_vermogen\": 1.1341666666666668, \"GemiddeldInkomenPerInwoner_72\": 29.8, \"GemiddeldeHuishoudensgrootte_32\": 2.5, \"Koopwoningen_40\": 68.0}, {\"normalized_opgesteld_vermogen\": 1.231160572337043, \"GemiddeldInkomenPerInwoner_72\": 28.1, \"GemiddeldeHuishoudensgrootte_32\": 2.2, \"Koopwoningen_40\": 76.0}, {\"normalized_opgesteld_vermogen\": 0.6077669902912621, \"GemiddeldInkomenPerInwoner_72\": 21.5, \"GemiddeldeHuishoudensgrootte_32\": 2.3, \"Koopwoningen_40\": 59.0}, {\"normalized_opgesteld_vermogen\": 0.5989010989010989, \"GemiddeldInkomenPerInwoner_72\": 28.6, \"GemiddeldeHuishoudensgrootte_32\": 2.0, \"Koopwoningen_40\": 62.0}, {\"normalized_opgesteld_vermogen\": 0.1560355781448539, \"GemiddeldInkomenPerInwoner_72\": 17.5, \"GemiddeldeHuishoudensgrootte_32\": 1.5, \"Koopwoningen_40\": 21.0}, {\"normalized_opgesteld_vermogen\": 0.5318327974276528, \"GemiddeldInkomenPerInwoner_72\": 26.2, \"GemiddeldeHuishoudensgrootte_32\": 2.3, \"Koopwoningen_40\": 64.0}, {\"normalized_opgesteld_vermogen\": 1.0946524064171124, \"GemiddeldInkomenPerInwoner_72\": 30.7, \"GemiddeldeHuishoudensgrootte_32\": 2.6, \"Koopwoningen_40\": 71.0}, {\"normalized_opgesteld_vermogen\": 1.068141592920354, \"GemiddeldInkomenPerInwoner_72\": 30.2, \"GemiddeldeHuishoudensgrootte_32\": 2.2, \"Koopwoningen_40\": 84.0}, {\"normalized_opgesteld_vermogen\": 1.1538461538461537, \"GemiddeldInkomenPerInwoner_72\": 28.5, \"GemiddeldeHuishoudensgrootte_32\": 2.1, \"Koopwoningen_40\": 75.0}, {\"normalized_opgesteld_vermogen\": 0.7126903553299493, \"GemiddeldInkomenPerInwoner_72\": 28.7, \"GemiddeldeHuishoudensgrootte_32\": 2.5, \"Koopwoningen_40\": 71.0}, {\"normalized_opgesteld_vermogen\": 0.6212534059945504, \"GemiddeldInkomenPerInwoner_72\": 26.4, \"GemiddeldeHuishoudensgrootte_32\": 2.3, \"Koopwoningen_40\": 75.0}, {\"normalized_opgesteld_vermogen\": 0.3845433255269321, \"GemiddeldInkomenPerInwoner_72\": 28.4, \"GemiddeldeHuishoudensgrootte_32\": 1.9, \"Koopwoningen_40\": 57.0}, {\"normalized_opgesteld_vermogen\": 0.6007874015748031, \"GemiddeldInkomenPerInwoner_72\": 24.3, \"GemiddeldeHuishoudensgrootte_32\": 2.3, \"Koopwoningen_40\": 71.0}, {\"normalized_opgesteld_vermogen\": 0.3198910081743869, \"GemiddeldInkomenPerInwoner_72\": 33.3, \"GemiddeldeHuishoudensgrootte_32\": 1.9, \"Koopwoningen_40\": 50.0}, {\"normalized_opgesteld_vermogen\": 0.48970099667774086, \"GemiddeldInkomenPerInwoner_72\": 22.8, \"GemiddeldeHuishoudensgrootte_32\": 1.8, \"Koopwoningen_40\": 43.0}, {\"normalized_opgesteld_vermogen\": 0.6723214285714286, \"GemiddeldInkomenPerInwoner_72\": 31.3, \"GemiddeldeHuishoudensgrootte_32\": 2.2, \"Koopwoningen_40\": 87.0}, {\"normalized_opgesteld_vermogen\": 1.3098976109215017, \"GemiddeldInkomenPerInwoner_72\": 28.5, \"GemiddeldeHuishoudensgrootte_32\": 2.2, \"Koopwoningen_40\": 77.0}, {\"normalized_opgesteld_vermogen\": 0.5296610169491526, \"GemiddeldInkomenPerInwoner_72\": 25.8, \"GemiddeldeHuishoudensgrootte_32\": 2.3, \"Koopwoningen_40\": 66.0}, {\"normalized_opgesteld_vermogen\": 0.4995918367346939, \"GemiddeldInkomenPerInwoner_72\": 20.5, \"GemiddeldeHuishoudensgrootte_32\": 2.3, \"Koopwoningen_40\": 55.0}, {\"normalized_opgesteld_vermogen\": 0.5297520661157025, \"GemiddeldInkomenPerInwoner_72\": 27.2, \"GemiddeldeHuishoudensgrootte_32\": 2.2, \"Koopwoningen_40\": 65.0}, {\"normalized_opgesteld_vermogen\": 0.23346303501945526, \"GemiddeldInkomenPerInwoner_72\": 23.6, \"GemiddeldeHuishoudensgrootte_32\": 1.9, \"Koopwoningen_40\": 27.0}, {\"normalized_opgesteld_vermogen\": 0.681841432225064, \"GemiddeldInkomenPerInwoner_72\": 24.4, \"GemiddeldeHuishoudensgrootte_32\": 2.2, \"Koopwoningen_40\": 61.0}, {\"normalized_opgesteld_vermogen\": 0.08250428816466553, \"GemiddeldInkomenPerInwoner_72\": 19.8, \"GemiddeldeHuishoudensgrootte_32\": 1.4, \"Koopwoningen_40\": 15.0}, {\"normalized_opgesteld_vermogen\": 0.290625, \"GemiddeldInkomenPerInwoner_72\": 25.0, \"GemiddeldeHuishoudensgrootte_32\": 2.3, \"Koopwoningen_40\": 57.0}, {\"normalized_opgesteld_vermogen\": 0.7730841121495328, \"GemiddeldInkomenPerInwoner_72\": 20.4, \"GemiddeldeHuishoudensgrootte_32\": 1.8, \"Koopwoningen_40\": 22.0}, {\"normalized_opgesteld_vermogen\": 0.8523274478330658, \"GemiddeldInkomenPerInwoner_72\": 25.7, \"GemiddeldeHuishoudensgrootte_32\": 2.4, \"Koopwoningen_40\": 75.0}, {\"normalized_opgesteld_vermogen\": 0.5203252032520326, \"GemiddeldInkomenPerInwoner_72\": 22.9, \"GemiddeldeHuishoudensgrootte_32\": 2.1, \"Koopwoningen_40\": 51.0}, {\"normalized_opgesteld_vermogen\": 0.5085501858736059, \"GemiddeldInkomenPerInwoner_72\": 27.1, \"GemiddeldeHuishoudensgrootte_32\": 2.4, \"Koopwoningen_40\": 75.0}, {\"normalized_opgesteld_vermogen\": 0.16774193548387098, \"GemiddeldInkomenPerInwoner_72\": 25.4, \"GemiddeldeHuishoudensgrootte_32\": 2.1, \"Koopwoningen_40\": 54.0}, {\"normalized_opgesteld_vermogen\": 0.24084880636604775, \"GemiddeldInkomenPerInwoner_72\": 21.1, \"GemiddeldeHuishoudensgrootte_32\": 1.7, \"Koopwoningen_40\": 33.0}, {\"normalized_opgesteld_vermogen\": 0.460546875, \"GemiddeldInkomenPerInwoner_72\": 26.0, \"GemiddeldeHuishoudensgrootte_32\": 1.8, \"Koopwoningen_40\": 46.0}, {\"normalized_opgesteld_vermogen\": 0.5203517587939699, \"GemiddeldInkomenPerInwoner_72\": 27.3, \"GemiddeldeHuishoudensgrootte_32\": 1.9, \"Koopwoningen_40\": 48.0}, {\"normalized_opgesteld_vermogen\": 0.7227272727272728, \"GemiddeldInkomenPerInwoner_72\": 20.1, \"GemiddeldeHuishoudensgrootte_32\": 2.7, \"Koopwoningen_40\": 55.0}, {\"normalized_opgesteld_vermogen\": 0.936318407960199, \"GemiddeldInkomenPerInwoner_72\": 27.8, \"GemiddeldeHuishoudensgrootte_32\": 2.3, \"Koopwoningen_40\": 72.0}, {\"normalized_opgesteld_vermogen\": 0.2804289544235925, \"GemiddeldInkomenPerInwoner_72\": 21.9, \"GemiddeldeHuishoudensgrootte_32\": 2.2, \"Koopwoningen_40\": 45.0}, {\"normalized_opgesteld_vermogen\": 0.6996996996996997, \"GemiddeldInkomenPerInwoner_72\": 24.4, \"GemiddeldeHuishoudensgrootte_32\": 2.2, \"Koopwoningen_40\": 64.0}, {\"normalized_opgesteld_vermogen\": 0.8314049586776859, \"GemiddeldInkomenPerInwoner_72\": 24.8, \"GemiddeldeHuishoudensgrootte_32\": 2.9, \"Koopwoningen_40\": 83.0}, {\"normalized_opgesteld_vermogen\": 0.06505050505050505, \"GemiddeldInkomenPerInwoner_72\": 22.8, \"GemiddeldeHuishoudensgrootte_32\": 1.3, \"Koopwoningen_40\": 8.0}, {\"normalized_opgesteld_vermogen\": 0.44699453551912566, \"GemiddeldInkomenPerInwoner_72\": 20.2, \"GemiddeldeHuishoudensgrootte_32\": 1.9, \"Koopwoningen_40\": 37.0}, {\"normalized_opgesteld_vermogen\": 1.1007575757575758, \"GemiddeldInkomenPerInwoner_72\": 31.7, \"GemiddeldeHuishoudensgrootte_32\": 2.4, \"Koopwoningen_40\": 84.0}, {\"normalized_opgesteld_vermogen\": 1.0869300911854103, \"GemiddeldInkomenPerInwoner_72\": 28.6, \"GemiddeldeHuishoudensgrootte_32\": 2.2, \"Koopwoningen_40\": 77.0}, {\"normalized_opgesteld_vermogen\": 0.8417302798982188, \"GemiddeldInkomenPerInwoner_72\": 25.7, \"GemiddeldeHuishoudensgrootte_32\": 2.3, \"Koopwoningen_40\": 60.0}, {\"normalized_opgesteld_vermogen\": 0.3895582329317269, \"GemiddeldInkomenPerInwoner_72\": 22.4, \"GemiddeldeHuishoudensgrootte_32\": 2.1, \"Koopwoningen_40\": 42.0}, {\"normalized_opgesteld_vermogen\": 0.5092537313432836, \"GemiddeldInkomenPerInwoner_72\": 25.0, \"GemiddeldeHuishoudensgrootte_32\": 2.0, \"Koopwoningen_40\": 56.0}, {\"normalized_opgesteld_vermogen\": 0.6290909090909091, \"GemiddeldInkomenPerInwoner_72\": 32.3, \"GemiddeldeHuishoudensgrootte_32\": 2.4, \"Koopwoningen_40\": 72.0}, {\"normalized_opgesteld_vermogen\": 0.22293233082706768, \"GemiddeldInkomenPerInwoner_72\": 26.5, \"GemiddeldeHuishoudensgrootte_32\": 1.4, \"Koopwoningen_40\": 43.0}, {\"normalized_opgesteld_vermogen\": 0.33271461716937356, \"GemiddeldInkomenPerInwoner_72\": 27.1, \"GemiddeldeHuishoudensgrootte_32\": 2.2, \"Koopwoningen_40\": 70.0}, {\"normalized_opgesteld_vermogen\": 0.5058365758754864, \"GemiddeldInkomenPerInwoner_72\": 24.9, \"GemiddeldeHuishoudensgrootte_32\": 2.0, \"Koopwoningen_40\": 54.0}, {\"normalized_opgesteld_vermogen\": 0.4880294659300184, \"GemiddeldInkomenPerInwoner_72\": 26.2, \"GemiddeldeHuishoudensgrootte_32\": 2.2, \"Koopwoningen_40\": 63.0}, {\"normalized_opgesteld_vermogen\": 0.7660968660968661, \"GemiddeldInkomenPerInwoner_72\": 23.4, \"GemiddeldeHuishoudensgrootte_32\": 2.0, \"Koopwoningen_40\": 59.0}, {\"normalized_opgesteld_vermogen\": 0.38394160583941606, \"GemiddeldInkomenPerInwoner_72\": 25.9, \"GemiddeldeHuishoudensgrootte_32\": 2.1, \"Koopwoningen_40\": 55.0}, {\"normalized_opgesteld_vermogen\": 0.5292543021032505, \"GemiddeldInkomenPerInwoner_72\": 26.6, \"GemiddeldeHuishoudensgrootte_32\": 2.0, \"Koopwoningen_40\": 48.0}, {\"normalized_opgesteld_vermogen\": 0.5002949852507375, \"GemiddeldInkomenPerInwoner_72\": 21.0, \"GemiddeldeHuishoudensgrootte_32\": 2.1, \"Koopwoningen_40\": 49.0}, {\"normalized_opgesteld_vermogen\": 0.8877358490566037, \"GemiddeldInkomenPerInwoner_72\": 33.5, \"GemiddeldeHuishoudensgrootte_32\": 2.4, \"Koopwoningen_40\": 68.0}, {\"normalized_opgesteld_vermogen\": 0.7220630372492837, \"GemiddeldInkomenPerInwoner_72\": 23.6, \"GemiddeldeHuishoudensgrootte_32\": 1.9, \"Koopwoningen_40\": 53.0}, {\"normalized_opgesteld_vermogen\": 0.5390557939914163, \"GemiddeldInkomenPerInwoner_72\": 29.1, \"GemiddeldeHuishoudensgrootte_32\": 2.2, \"Koopwoningen_40\": 57.0}, {\"normalized_opgesteld_vermogen\": 1.0798206278026905, \"GemiddeldInkomenPerInwoner_72\": 26.1, \"GemiddeldeHuishoudensgrootte_32\": 2.3, \"Koopwoningen_40\": 72.0}, {\"normalized_opgesteld_vermogen\": 0.7471861471861472, \"GemiddeldInkomenPerInwoner_72\": 27.8, \"GemiddeldeHuishoudensgrootte_32\": 2.3, \"Koopwoningen_40\": 63.0}, {\"normalized_opgesteld_vermogen\": 0.36589861751152075, \"GemiddeldInkomenPerInwoner_72\": 31.2, \"GemiddeldeHuishoudensgrootte_32\": 1.7, \"Koopwoningen_40\": 41.0}, {\"normalized_opgesteld_vermogen\": 0.3382352941176471, \"GemiddeldInkomenPerInwoner_72\": 27.3, \"GemiddeldeHuishoudensgrootte_32\": 1.8, \"Koopwoningen_40\": 46.0}, {\"normalized_opgesteld_vermogen\": 0.17297297297297298, \"GemiddeldInkomenPerInwoner_72\": 23.7, \"GemiddeldeHuishoudensgrootte_32\": 1.4, \"Koopwoningen_40\": 32.0}, {\"normalized_opgesteld_vermogen\": 1.042296072507553, \"GemiddeldInkomenPerInwoner_72\": 29.2, \"GemiddeldeHuishoudensgrootte_32\": 2.4, \"Koopwoningen_40\": 78.0}, {\"normalized_opgesteld_vermogen\": 0.7559921414538311, \"GemiddeldInkomenPerInwoner_72\": 33.5, \"GemiddeldeHuishoudensgrootte_32\": 2.4, \"Koopwoningen_40\": 74.0}, {\"normalized_opgesteld_vermogen\": 0.29384615384615387, \"GemiddeldInkomenPerInwoner_72\": 23.1, \"GemiddeldeHuishoudensgrootte_32\": 2.2, \"Koopwoningen_40\": 54.0}, {\"normalized_opgesteld_vermogen\": 0.508, \"GemiddeldInkomenPerInwoner_72\": 22.4, \"GemiddeldeHuishoudensgrootte_32\": 1.9, \"Koopwoningen_40\": 45.0}, {\"normalized_opgesteld_vermogen\": 0.12328398384925976, \"GemiddeldInkomenPerInwoner_72\": 18.5, \"GemiddeldeHuishoudensgrootte_32\": 1.6, \"Koopwoningen_40\": 23.0}, {\"normalized_opgesteld_vermogen\": 0.43878437047756874, \"GemiddeldInkomenPerInwoner_72\": 31.7, \"GemiddeldeHuishoudensgrootte_32\": 1.8, \"Koopwoningen_40\": 56.0}, {\"normalized_opgesteld_vermogen\": 0.26990881458966565, \"GemiddeldInkomenPerInwoner_72\": 21.4, \"GemiddeldeHuishoudensgrootte_32\": 2.2, \"Koopwoningen_40\": 44.0}, {\"normalized_opgesteld_vermogen\": 0.5702531645569621, \"GemiddeldInkomenPerInwoner_72\": 24.4, \"GemiddeldeHuishoudensgrootte_32\": 2.2, \"Koopwoningen_40\": 74.0}, {\"normalized_opgesteld_vermogen\": 0.9052631578947369, \"GemiddeldInkomenPerInwoner_72\": 35.7, \"GemiddeldeHuishoudensgrootte_32\": 2.3, \"Koopwoningen_40\": 84.0}, {\"normalized_opgesteld_vermogen\": 0.10329670329670329, \"GemiddeldInkomenPerInwoner_72\": 30.9, \"GemiddeldeHuishoudensgrootte_32\": 1.7, \"Koopwoningen_40\": 51.0}, {\"normalized_opgesteld_vermogen\": 0.7814516129032258, \"GemiddeldInkomenPerInwoner_72\": 27.1, \"GemiddeldeHuishoudensgrootte_32\": 2.4, \"Koopwoningen_40\": 73.0}, {\"normalized_opgesteld_vermogen\": 0.9189814814814815, \"GemiddeldInkomenPerInwoner_72\": 24.0, \"GemiddeldeHuishoudensgrootte_32\": 2.3, \"Koopwoningen_40\": 63.0}, {\"normalized_opgesteld_vermogen\": 0.5842696629213483, \"GemiddeldInkomenPerInwoner_72\": 24.4, \"GemiddeldeHuishoudensgrootte_32\": 2.2, \"Koopwoningen_40\": 65.0}, {\"normalized_opgesteld_vermogen\": 0.7902040816326531, \"GemiddeldInkomenPerInwoner_72\": 25.0, \"GemiddeldeHuishoudensgrootte_32\": 2.1, \"Koopwoningen_40\": 64.0}, {\"normalized_opgesteld_vermogen\": 1.3415584415584416, \"GemiddeldInkomenPerInwoner_72\": 30.3, \"GemiddeldeHuishoudensgrootte_32\": 2.2, \"Koopwoningen_40\": 80.0}, {\"normalized_opgesteld_vermogen\": 0.37236842105263157, \"GemiddeldInkomenPerInwoner_72\": 21.1, \"GemiddeldeHuishoudensgrootte_32\": 2.1, \"Koopwoningen_40\": 47.0}, {\"normalized_opgesteld_vermogen\": 0.21420118343195266, \"GemiddeldInkomenPerInwoner_72\": 23.6, \"GemiddeldeHuishoudensgrootte_32\": 2.2, \"Koopwoningen_40\": 56.0}, {\"normalized_opgesteld_vermogen\": 0.20133333333333334, \"GemiddeldInkomenPerInwoner_72\": 17.8, \"GemiddeldeHuishoudensgrootte_32\": 1.9, \"Koopwoningen_40\": 24.0}, {\"normalized_opgesteld_vermogen\": 0.2636871508379888, \"GemiddeldInkomenPerInwoner_72\": 23.5, \"GemiddeldeHuishoudensgrootte_32\": 1.6, \"Koopwoningen_40\": 39.0}, {\"normalized_opgesteld_vermogen\": 0.5196347031963471, \"GemiddeldInkomenPerInwoner_72\": 24.6, \"GemiddeldeHuishoudensgrootte_32\": 2.3, \"Koopwoningen_40\": 65.0}, {\"normalized_opgesteld_vermogen\": 1.0511363636363635, \"GemiddeldInkomenPerInwoner_72\": 27.1, \"GemiddeldeHuishoudensgrootte_32\": 2.9, \"Koopwoningen_40\": 76.0}, {\"normalized_opgesteld_vermogen\": 0.8325301204819278, \"GemiddeldInkomenPerInwoner_72\": 29.5, \"GemiddeldeHuishoudensgrootte_32\": 2.4, \"Koopwoningen_40\": 71.0}, {\"normalized_opgesteld_vermogen\": 0.27661971830985915, \"GemiddeldInkomenPerInwoner_72\": 23.3, \"GemiddeldeHuishoudensgrootte_32\": 2.1, \"Koopwoningen_40\": 45.0}, {\"normalized_opgesteld_vermogen\": 0.9712550607287449, \"GemiddeldInkomenPerInwoner_72\": 25.8, \"GemiddeldeHuishoudensgrootte_32\": 2.5, \"Koopwoningen_40\": 67.0}, {\"normalized_opgesteld_vermogen\": 0.8815533980582524, \"GemiddeldInkomenPerInwoner_72\": 29.8, \"GemiddeldeHuishoudensgrootte_32\": 2.7, \"Koopwoningen_40\": 88.0}, {\"normalized_opgesteld_vermogen\": 0.4988888888888889, \"GemiddeldInkomenPerInwoner_72\": 28.3, \"GemiddeldeHuishoudensgrootte_32\": 2.2, \"Koopwoningen_40\": 72.0}, {\"normalized_opgesteld_vermogen\": 0.7983333333333333, \"GemiddeldInkomenPerInwoner_72\": 29.6, \"GemiddeldeHuishoudensgrootte_32\": 2.2, \"Koopwoningen_40\": 68.0}, {\"normalized_opgesteld_vermogen\": 0.28044692737430166, \"GemiddeldInkomenPerInwoner_72\": 19.4, \"GemiddeldeHuishoudensgrootte_32\": 2.0, \"Koopwoningen_40\": 31.0}, {\"normalized_opgesteld_vermogen\": 0.6487394957983194, \"GemiddeldInkomenPerInwoner_72\": 26.6, \"GemiddeldeHuishoudensgrootte_32\": 2.4, \"Koopwoningen_40\": 70.0}, {\"normalized_opgesteld_vermogen\": 0.9, \"GemiddeldInkomenPerInwoner_72\": 26.9, \"GemiddeldeHuishoudensgrootte_32\": 2.3, \"Koopwoningen_40\": 79.0}, {\"normalized_opgesteld_vermogen\": 0.3561111111111111, \"GemiddeldInkomenPerInwoner_72\": 27.3, \"GemiddeldeHuishoudensgrootte_32\": 2.3, \"Koopwoningen_40\": 70.0}, {\"normalized_opgesteld_vermogen\": 0.5019305019305019, \"GemiddeldInkomenPerInwoner_72\": 26.8, \"GemiddeldeHuishoudensgrootte_32\": 2.3, \"Koopwoningen_40\": 63.0}, {\"normalized_opgesteld_vermogen\": 0.8740524781341108, \"GemiddeldInkomenPerInwoner_72\": 26.8, \"GemiddeldeHuishoudensgrootte_32\": 2.1, \"Koopwoningen_40\": 70.0}, {\"normalized_opgesteld_vermogen\": 0.3723849372384937, \"GemiddeldInkomenPerInwoner_72\": 22.2, \"GemiddeldeHuishoudensgrootte_32\": 2.7, \"Koopwoningen_40\": 78.0}, {\"normalized_opgesteld_vermogen\": 0.34615384615384615, \"GemiddeldInkomenPerInwoner_72\": 21.6, \"GemiddeldeHuishoudensgrootte_32\": 1.8, \"Koopwoningen_40\": 53.0}, {\"normalized_opgesteld_vermogen\": 0.640251572327044, \"GemiddeldInkomenPerInwoner_72\": 25.3, \"GemiddeldeHuishoudensgrootte_32\": 2.2, \"Koopwoningen_40\": 50.0}, {\"normalized_opgesteld_vermogen\": 0.6696696696696697, \"GemiddeldInkomenPerInwoner_72\": 27.5, \"GemiddeldeHuishoudensgrootte_32\": 2.4, \"Koopwoningen_40\": 71.0}, {\"normalized_opgesteld_vermogen\": 0.8958041958041958, \"GemiddeldInkomenPerInwoner_72\": 28.4, \"GemiddeldeHuishoudensgrootte_32\": 2.4, \"Koopwoningen_40\": 71.0}, {\"normalized_opgesteld_vermogen\": 0.775, \"GemiddeldInkomenPerInwoner_72\": 22.1, \"GemiddeldeHuishoudensgrootte_32\": 2.2, \"Koopwoningen_40\": 54.0}, {\"normalized_opgesteld_vermogen\": 0.14041570438799075, \"GemiddeldInkomenPerInwoner_72\": 20.4, \"GemiddeldeHuishoudensgrootte_32\": 1.8, \"Koopwoningen_40\": 17.0}, {\"normalized_opgesteld_vermogen\": 0.878, \"GemiddeldInkomenPerInwoner_72\": 36.6, \"GemiddeldeHuishoudensgrootte_32\": 2.7, \"Koopwoningen_40\": 88.0}, {\"normalized_opgesteld_vermogen\": 0.2453488372093023, \"GemiddeldInkomenPerInwoner_72\": 31.5, \"GemiddeldeHuishoudensgrootte_32\": 2.2, \"Koopwoningen_40\": 79.0}, {\"normalized_opgesteld_vermogen\": 0.5306010928961749, \"GemiddeldInkomenPerInwoner_72\": 25.2, \"GemiddeldeHuishoudensgrootte_32\": 2.1, \"Koopwoningen_40\": 59.0}, {\"normalized_opgesteld_vermogen\": 1.1396610169491526, \"GemiddeldInkomenPerInwoner_72\": 27.8, \"GemiddeldeHuishoudensgrootte_32\": 2.3, \"Koopwoningen_40\": 73.0}, {\"normalized_opgesteld_vermogen\": 0.13531914893617022, \"GemiddeldInkomenPerInwoner_72\": 19.1, \"GemiddeldeHuishoudensgrootte_32\": 1.8, \"Koopwoningen_40\": 19.0}, {\"normalized_opgesteld_vermogen\": 0.2711764705882353, \"GemiddeldInkomenPerInwoner_72\": 19.6, \"GemiddeldeHuishoudensgrootte_32\": 2.2, \"Koopwoningen_40\": 27.0}, {\"normalized_opgesteld_vermogen\": 0.6815709969788519, \"GemiddeldInkomenPerInwoner_72\": 27.9, \"GemiddeldeHuishoudensgrootte_32\": 2.3, \"Koopwoningen_40\": 74.0}, {\"normalized_opgesteld_vermogen\": 0.5602240896358543, \"GemiddeldInkomenPerInwoner_72\": 25.7, \"GemiddeldeHuishoudensgrootte_32\": 2.2, \"Koopwoningen_40\": 74.0}, {\"normalized_opgesteld_vermogen\": 0.728021978021978, \"GemiddeldInkomenPerInwoner_72\": 31.5, \"GemiddeldeHuishoudensgrootte_32\": 2.1, \"Koopwoningen_40\": 68.0}, {\"normalized_opgesteld_vermogen\": 0.1323262839879154, \"GemiddeldInkomenPerInwoner_72\": 35.6, \"GemiddeldeHuishoudensgrootte_32\": 2.1, \"Koopwoningen_40\": 72.0}, {\"normalized_opgesteld_vermogen\": 0.29603340292275576, \"GemiddeldInkomenPerInwoner_72\": 41.0, \"GemiddeldeHuishoudensgrootte_32\": 2.3, \"Koopwoningen_40\": 77.0}, {\"normalized_opgesteld_vermogen\": 0.6240384615384615, \"GemiddeldInkomenPerInwoner_72\": 24.6, \"GemiddeldeHuishoudensgrootte_32\": 2.4, \"Koopwoningen_40\": 65.0}, {\"normalized_opgesteld_vermogen\": 0.1303529411764706, \"GemiddeldInkomenPerInwoner_72\": 24.9, \"GemiddeldeHuishoudensgrootte_32\": 1.3, \"Koopwoningen_40\": 25.0}, {\"normalized_opgesteld_vermogen\": 0.22606232294617565, \"GemiddeldInkomenPerInwoner_72\": 21.6, \"GemiddeldeHuishoudensgrootte_32\": 2.2, \"Koopwoningen_40\": 45.0}, {\"normalized_opgesteld_vermogen\": 0.2635245901639344, \"GemiddeldInkomenPerInwoner_72\": 30.0, \"GemiddeldeHuishoudensgrootte_32\": 1.7, \"Koopwoningen_40\": 38.0}, {\"normalized_opgesteld_vermogen\": 1.1084905660377358, \"GemiddeldInkomenPerInwoner_72\": 25.2, \"GemiddeldeHuishoudensgrootte_32\": 2.6, \"Koopwoningen_40\": 74.0}, {\"normalized_opgesteld_vermogen\": 0.7100817438692099, \"GemiddeldInkomenPerInwoner_72\": 27.2, \"GemiddeldeHuishoudensgrootte_32\": 2.3, \"Koopwoningen_40\": 73.0}, {\"normalized_opgesteld_vermogen\": 0.45242966751918157, \"GemiddeldInkomenPerInwoner_72\": 24.7, \"GemiddeldeHuishoudensgrootte_32\": 1.9, \"Koopwoningen_40\": 47.0}, {\"normalized_opgesteld_vermogen\": 1.5272108843537415, \"GemiddeldInkomenPerInwoner_72\": 23.2, \"GemiddeldeHuishoudensgrootte_32\": 2.2, \"Koopwoningen_40\": 73.0}, {\"normalized_opgesteld_vermogen\": 0.7711229946524064, \"GemiddeldInkomenPerInwoner_72\": 32.4, \"GemiddeldeHuishoudensgrootte_32\": 1.9, \"Koopwoningen_40\": 72.0}, {\"normalized_opgesteld_vermogen\": 1.3596638655462185, \"GemiddeldInkomenPerInwoner_72\": 28.5, \"GemiddeldeHuishoudensgrootte_32\": 2.1, \"Koopwoningen_40\": 71.0}, {\"normalized_opgesteld_vermogen\": 0.10488431876606684, \"GemiddeldInkomenPerInwoner_72\": 20.1, \"GemiddeldeHuishoudensgrootte_32\": 2.2, \"Koopwoningen_40\": 43.0}, {\"normalized_opgesteld_vermogen\": 0.42330097087378643, \"GemiddeldInkomenPerInwoner_72\": 24.8, \"GemiddeldeHuishoudensgrootte_32\": 1.9, \"Koopwoningen_40\": 53.0}, {\"normalized_opgesteld_vermogen\": 0.6214736842105263, \"GemiddeldInkomenPerInwoner_72\": 27.2, \"GemiddeldeHuishoudensgrootte_32\": 2.3, \"Koopwoningen_40\": 70.0}, {\"normalized_opgesteld_vermogen\": 0.4281391830559758, \"GemiddeldInkomenPerInwoner_72\": 25.5, \"GemiddeldeHuishoudensgrootte_32\": 2.1, \"Koopwoningen_40\": 67.0}, {\"normalized_opgesteld_vermogen\": 0.9258064516129032, \"GemiddeldInkomenPerInwoner_72\": 29.1, \"GemiddeldeHuishoudensgrootte_32\": 2.2, \"Koopwoningen_40\": 80.0}, {\"normalized_opgesteld_vermogen\": 1.2269525267993875, \"GemiddeldInkomenPerInwoner_72\": 26.3, \"GemiddeldeHuishoudensgrootte_32\": 2.2, \"Koopwoningen_40\": 60.0}, {\"normalized_opgesteld_vermogen\": 0.6480263157894737, \"GemiddeldInkomenPerInwoner_72\": 31.4, \"GemiddeldeHuishoudensgrootte_32\": 2.4, \"Koopwoningen_40\": 79.0}, {\"normalized_opgesteld_vermogen\": 1.2863945578231293, \"GemiddeldInkomenPerInwoner_72\": 27.7, \"GemiddeldeHuishoudensgrootte_32\": 2.1, \"Koopwoningen_40\": 68.0}, {\"normalized_opgesteld_vermogen\": 0.5142857142857142, \"GemiddeldInkomenPerInwoner_72\": 27.2, \"GemiddeldeHuishoudensgrootte_32\": 2.3, \"Koopwoningen_40\": 71.0}, {\"normalized_opgesteld_vermogen\": 0.6506172839506172, \"GemiddeldInkomenPerInwoner_72\": 23.6, \"GemiddeldeHuishoudensgrootte_32\": 2.2, \"Koopwoningen_40\": 56.0}, {\"normalized_opgesteld_vermogen\": 1.0296650717703348, \"GemiddeldInkomenPerInwoner_72\": 30.3, \"GemiddeldeHuishoudensgrootte_32\": 2.5, \"Koopwoningen_40\": 79.0}, {\"normalized_opgesteld_vermogen\": 0.7274285714285714, \"GemiddeldInkomenPerInwoner_72\": 22.7, \"GemiddeldeHuishoudensgrootte_32\": 2.3, \"Koopwoningen_40\": 43.0}, {\"normalized_opgesteld_vermogen\": 0.6089743589743589, \"GemiddeldInkomenPerInwoner_72\": 28.9, \"GemiddeldeHuishoudensgrootte_32\": 2.5, \"Koopwoningen_40\": 88.0}, {\"normalized_opgesteld_vermogen\": 0.933175355450237, \"GemiddeldInkomenPerInwoner_72\": 29.1, \"GemiddeldeHuishoudensgrootte_32\": 2.1, \"Koopwoningen_40\": 78.0}, {\"normalized_opgesteld_vermogen\": 0.07365728900255754, \"GemiddeldInkomenPerInwoner_72\": 35.4, \"GemiddeldeHuishoudensgrootte_32\": 1.6, \"Koopwoningen_40\": 49.0}, {\"normalized_opgesteld_vermogen\": 0.5748006379585326, \"GemiddeldInkomenPerInwoner_72\": 32.4, \"GemiddeldeHuishoudensgrootte_32\": 2.4, \"Koopwoningen_40\": 75.0}, {\"normalized_opgesteld_vermogen\": 0.40959595959595957, \"GemiddeldInkomenPerInwoner_72\": 30.5, \"GemiddeldeHuishoudensgrootte_32\": 2.3, \"Koopwoningen_40\": 56.0}, {\"normalized_opgesteld_vermogen\": 0.3914110429447853, \"GemiddeldInkomenPerInwoner_72\": 24.4, \"GemiddeldeHuishoudensgrootte_32\": 2.2, \"Koopwoningen_40\": 70.0}, {\"normalized_opgesteld_vermogen\": 0.2375, \"GemiddeldInkomenPerInwoner_72\": 21.2, \"GemiddeldeHuishoudensgrootte_32\": 2.1, \"Koopwoningen_40\": 40.0}, {\"normalized_opgesteld_vermogen\": 0.711764705882353, \"GemiddeldInkomenPerInwoner_72\": 26.5, \"GemiddeldeHuishoudensgrootte_32\": 2.1, \"Koopwoningen_40\": 67.0}, {\"normalized_opgesteld_vermogen\": 0.5088785046728972, \"GemiddeldInkomenPerInwoner_72\": 21.9, \"GemiddeldeHuishoudensgrootte_32\": 1.9, \"Koopwoningen_40\": 47.0}, {\"normalized_opgesteld_vermogen\": 0.9905084745762712, \"GemiddeldInkomenPerInwoner_72\": 32.4, \"GemiddeldeHuishoudensgrootte_32\": 2.2, \"Koopwoningen_40\": 78.0}, {\"normalized_opgesteld_vermogen\": 0.20326086956521738, \"GemiddeldInkomenPerInwoner_72\": 20.9, \"GemiddeldeHuishoudensgrootte_32\": 1.5, \"Koopwoningen_40\": 22.0}, {\"normalized_opgesteld_vermogen\": 0.5699530516431925, \"GemiddeldInkomenPerInwoner_72\": 29.0, \"GemiddeldeHuishoudensgrootte_32\": 2.2, \"Koopwoningen_40\": 69.0}, {\"normalized_opgesteld_vermogen\": 0.32529182879377433, \"GemiddeldInkomenPerInwoner_72\": 20.5, \"GemiddeldeHuishoudensgrootte_32\": 2.3, \"Koopwoningen_40\": 40.0}, {\"normalized_opgesteld_vermogen\": 0.07300613496932515, \"GemiddeldInkomenPerInwoner_72\": 19.2, \"GemiddeldeHuishoudensgrootte_32\": 1.9, \"Koopwoningen_40\": 22.0}, {\"normalized_opgesteld_vermogen\": 0.6668478260869565, \"GemiddeldInkomenPerInwoner_72\": 26.3, \"GemiddeldeHuishoudensgrootte_32\": 2.4, \"Koopwoningen_40\": 68.0}, {\"normalized_opgesteld_vermogen\": 0.802930402930403, \"GemiddeldInkomenPerInwoner_72\": 30.8, \"GemiddeldeHuishoudensgrootte_32\": 2.4, \"Koopwoningen_40\": 84.0}, {\"normalized_opgesteld_vermogen\": 0.2753541076487252, \"GemiddeldInkomenPerInwoner_72\": 21.5, \"GemiddeldeHuishoudensgrootte_32\": 2.1, \"Koopwoningen_40\": 55.0}, {\"normalized_opgesteld_vermogen\": 0.26309278350515464, \"GemiddeldInkomenPerInwoner_72\": 22.4, \"GemiddeldeHuishoudensgrootte_32\": 2.2, \"Koopwoningen_40\": 63.0}, {\"normalized_opgesteld_vermogen\": 0.7911458333333333, \"GemiddeldInkomenPerInwoner_72\": 25.7, \"GemiddeldeHuishoudensgrootte_32\": 2.2, \"Koopwoningen_40\": 64.0}, {\"normalized_opgesteld_vermogen\": 0.6351190476190476, \"GemiddeldInkomenPerInwoner_72\": 25.5, \"GemiddeldeHuishoudensgrootte_32\": 2.3, \"Koopwoningen_40\": 77.0}, {\"normalized_opgesteld_vermogen\": 0.23646408839779007, \"GemiddeldInkomenPerInwoner_72\": 19.4, \"GemiddeldeHuishoudensgrootte_32\": 2.3, \"Koopwoningen_40\": 34.0}, {\"normalized_opgesteld_vermogen\": 0.38174807197943444, \"GemiddeldInkomenPerInwoner_72\": 19.4, \"GemiddeldeHuishoudensgrootte_32\": 2.0, \"Koopwoningen_40\": 47.0}, {\"normalized_opgesteld_vermogen\": 0.801025641025641, \"GemiddeldInkomenPerInwoner_72\": 28.3, \"GemiddeldeHuishoudensgrootte_32\": 1.9, \"Koopwoningen_40\": 55.0}, {\"normalized_opgesteld_vermogen\": 0.28981288981288983, \"GemiddeldInkomenPerInwoner_72\": 39.2, \"GemiddeldeHuishoudensgrootte_32\": 2.1, \"Koopwoningen_40\": 70.0}, {\"normalized_opgesteld_vermogen\": 0.86875, \"GemiddeldInkomenPerInwoner_72\": 29.1, \"GemiddeldeHuishoudensgrootte_32\": 2.3, \"Koopwoningen_40\": 71.0}, {\"normalized_opgesteld_vermogen\": 0.177319587628866, \"GemiddeldInkomenPerInwoner_72\": 25.0, \"GemiddeldeHuishoudensgrootte_32\": 1.8, \"Koopwoningen_40\": 44.0}, {\"normalized_opgesteld_vermogen\": 1.2168, \"GemiddeldInkomenPerInwoner_72\": 25.3, \"GemiddeldeHuishoudensgrootte_32\": 2.2, \"Koopwoningen_40\": 70.0}, {\"normalized_opgesteld_vermogen\": 0.9182662538699691, \"GemiddeldInkomenPerInwoner_72\": 27.8, \"GemiddeldeHuishoudensgrootte_32\": 2.2, \"Koopwoningen_40\": 75.0}, {\"normalized_opgesteld_vermogen\": 0.792713567839196, \"GemiddeldInkomenPerInwoner_72\": 31.2, \"GemiddeldeHuishoudensgrootte_32\": 2.3, \"Koopwoningen_40\": 75.0}, {\"normalized_opgesteld_vermogen\": 0.6015075376884422, \"GemiddeldInkomenPerInwoner_72\": 35.0, \"GemiddeldeHuishoudensgrootte_32\": 2.3, \"Koopwoningen_40\": 75.0}, {\"normalized_opgesteld_vermogen\": 0.8037135278514589, \"GemiddeldInkomenPerInwoner_72\": 28.2, \"GemiddeldeHuishoudensgrootte_32\": 2.1, \"Koopwoningen_40\": 70.0}, {\"normalized_opgesteld_vermogen\": 0.909433962264151, \"GemiddeldInkomenPerInwoner_72\": 31.4, \"GemiddeldeHuishoudensgrootte_32\": 2.5, \"Koopwoningen_40\": 76.0}, {\"normalized_opgesteld_vermogen\": 0.08677563150074294, \"GemiddeldInkomenPerInwoner_72\": 25.0, \"GemiddeldeHuishoudensgrootte_32\": 1.4, \"Koopwoningen_40\": 27.0}, {\"normalized_opgesteld_vermogen\": 0.31746031746031744, \"GemiddeldInkomenPerInwoner_72\": 28.6, \"GemiddeldeHuishoudensgrootte_32\": 1.8, \"Koopwoningen_40\": 47.0}, {\"normalized_opgesteld_vermogen\": 0.3946768060836502, \"GemiddeldInkomenPerInwoner_72\": 25.2, \"GemiddeldeHuishoudensgrootte_32\": 2.1, \"Koopwoningen_40\": 62.0}, {\"normalized_opgesteld_vermogen\": 0.7523341523341524, \"GemiddeldInkomenPerInwoner_72\": 30.2, \"GemiddeldeHuishoudensgrootte_32\": 2.0, \"Koopwoningen_40\": 71.0}, {\"normalized_opgesteld_vermogen\": 0.0886178861788618, \"GemiddeldInkomenPerInwoner_72\": 24.3, \"GemiddeldeHuishoudensgrootte_32\": 1.4, \"Koopwoningen_40\": 28.0}, {\"normalized_opgesteld_vermogen\": 0.10874200426439233, \"GemiddeldInkomenPerInwoner_72\": 23.6, \"GemiddeldeHuishoudensgrootte_32\": 1.8, \"Koopwoningen_40\": 33.0}, {\"normalized_opgesteld_vermogen\": 0.9892514395393474, \"GemiddeldInkomenPerInwoner_72\": 27.4, \"GemiddeldeHuishoudensgrootte_32\": 2.1, \"Koopwoningen_40\": 69.0}, {\"normalized_opgesteld_vermogen\": 0.9413793103448276, \"GemiddeldInkomenPerInwoner_72\": 27.8, \"GemiddeldeHuishoudensgrootte_32\": 3.0, \"Koopwoningen_40\": 93.0}, {\"normalized_opgesteld_vermogen\": 0.9317073170731708, \"GemiddeldInkomenPerInwoner_72\": 25.4, \"GemiddeldeHuishoudensgrootte_32\": 2.1, \"Koopwoningen_40\": 73.0}, {\"normalized_opgesteld_vermogen\": 0.3545219638242894, \"GemiddeldInkomenPerInwoner_72\": 22.8, \"GemiddeldeHuishoudensgrootte_32\": 1.9, \"Koopwoningen_40\": 30.0}, {\"normalized_opgesteld_vermogen\": 0.4353535353535353, \"GemiddeldInkomenPerInwoner_72\": 26.5, \"GemiddeldeHuishoudensgrootte_32\": 2.1, \"Koopwoningen_40\": 54.0}, {\"normalized_opgesteld_vermogen\": 0.7728155339805826, \"GemiddeldInkomenPerInwoner_72\": 24.6, \"GemiddeldeHuishoudensgrootte_32\": 2.2, \"Koopwoningen_40\": 54.0}, {\"normalized_opgesteld_vermogen\": 0.871356783919598, \"GemiddeldInkomenPerInwoner_72\": 28.6, \"GemiddeldeHuishoudensgrootte_32\": 2.7, \"Koopwoningen_40\": 77.0}, {\"normalized_opgesteld_vermogen\": 0.5690048939641109, \"GemiddeldInkomenPerInwoner_72\": 26.2, \"GemiddeldeHuishoudensgrootte_32\": 1.9, \"Koopwoningen_40\": 53.0}, {\"normalized_opgesteld_vermogen\": 0.5028340080971659, \"GemiddeldInkomenPerInwoner_72\": 27.8, \"GemiddeldeHuishoudensgrootte_32\": 2.3, \"Koopwoningen_40\": 71.0}, {\"normalized_opgesteld_vermogen\": 0.12525951557093426, \"GemiddeldInkomenPerInwoner_72\": 19.9, \"GemiddeldeHuishoudensgrootte_32\": 2.0, \"Koopwoningen_40\": 37.0}, {\"normalized_opgesteld_vermogen\": 0.9264116575591985, \"GemiddeldInkomenPerInwoner_72\": 34.7, \"GemiddeldeHuishoudensgrootte_32\": 2.4, \"Koopwoningen_40\": 78.0}, {\"normalized_opgesteld_vermogen\": 0.36445623342175065, \"GemiddeldInkomenPerInwoner_72\": 27.3, \"GemiddeldeHuishoudensgrootte_32\": 1.8, \"Koopwoningen_40\": 37.0}, {\"normalized_opgesteld_vermogen\": 0.7089308176100629, \"GemiddeldInkomenPerInwoner_72\": 25.3, \"GemiddeldeHuishoudensgrootte_32\": 2.3, \"Koopwoningen_40\": 63.0}, {\"normalized_opgesteld_vermogen\": 1.114070351758794, \"GemiddeldInkomenPerInwoner_72\": 23.3, \"GemiddeldeHuishoudensgrootte_32\": 2.3, \"Koopwoningen_40\": 64.0}, {\"normalized_opgesteld_vermogen\": 0.2927835051546392, \"GemiddeldInkomenPerInwoner_72\": 15.3, \"GemiddeldeHuishoudensgrootte_32\": 2.0, \"Koopwoningen_40\": 17.0}, {\"normalized_opgesteld_vermogen\": 0.3568106312292359, \"GemiddeldInkomenPerInwoner_72\": 29.7, \"GemiddeldeHuishoudensgrootte_32\": 1.8, \"Koopwoningen_40\": 54.0}, {\"normalized_opgesteld_vermogen\": 0.3967654986522911, \"GemiddeldInkomenPerInwoner_72\": 26.7, \"GemiddeldeHuishoudensgrootte_32\": 2.0, \"Koopwoningen_40\": 65.0}, {\"normalized_opgesteld_vermogen\": 0.7389270976616231, \"GemiddeldInkomenPerInwoner_72\": 21.2, \"GemiddeldeHuishoudensgrootte_32\": 1.9, \"Koopwoningen_40\": 47.0}, {\"normalized_opgesteld_vermogen\": 1.1852173913043478, \"GemiddeldInkomenPerInwoner_72\": 28.7, \"GemiddeldeHuishoudensgrootte_32\": 1.8, \"Koopwoningen_40\": 52.0}, {\"normalized_opgesteld_vermogen\": 0.15766423357664233, \"GemiddeldInkomenPerInwoner_72\": 27.1, \"GemiddeldeHuishoudensgrootte_32\": 1.4, \"Koopwoningen_40\": 25.0}, {\"normalized_opgesteld_vermogen\": 0.5900249376558604, \"GemiddeldInkomenPerInwoner_72\": 26.0, \"GemiddeldeHuishoudensgrootte_32\": 2.0, \"Koopwoningen_40\": 52.0}, {\"normalized_opgesteld_vermogen\": 1.2094117647058824, \"GemiddeldInkomenPerInwoner_72\": 26.6, \"GemiddeldeHuishoudensgrootte_32\": 2.4, \"Koopwoningen_40\": 75.0}, {\"normalized_opgesteld_vermogen\": 0.5808695652173913, \"GemiddeldInkomenPerInwoner_72\": 36.2, \"GemiddeldeHuishoudensgrootte_32\": 2.4, \"Koopwoningen_40\": 96.0}, {\"normalized_opgesteld_vermogen\": 0.08553191489361703, \"GemiddeldInkomenPerInwoner_72\": 24.2, \"GemiddeldeHuishoudensgrootte_32\": 1.5, \"Koopwoningen_40\": 22.0}, {\"normalized_opgesteld_vermogen\": 0.6687022900763359, \"GemiddeldInkomenPerInwoner_72\": 22.0, \"GemiddeldeHuishoudensgrootte_32\": 2.4, \"Koopwoningen_40\": 73.0}, {\"normalized_opgesteld_vermogen\": 0.26907894736842103, \"GemiddeldInkomenPerInwoner_72\": 22.1, \"GemiddeldeHuishoudensgrootte_32\": 2.1, \"Koopwoningen_40\": 44.0}, {\"normalized_opgesteld_vermogen\": 0.9288793103448276, \"GemiddeldInkomenPerInwoner_72\": 27.0, \"GemiddeldeHuishoudensgrootte_32\": 2.8, \"Koopwoningen_40\": 68.0}, {\"normalized_opgesteld_vermogen\": 0.8089347079037801, \"GemiddeldInkomenPerInwoner_72\": 24.8, \"GemiddeldeHuishoudensgrootte_32\": 2.3, \"Koopwoningen_40\": 71.0}, {\"normalized_opgesteld_vermogen\": 0.36875, \"GemiddeldInkomenPerInwoner_72\": 24.0, \"GemiddeldeHuishoudensgrootte_32\": 2.2, \"Koopwoningen_40\": 70.0}, {\"normalized_opgesteld_vermogen\": 0.04308510638297872, \"GemiddeldInkomenPerInwoner_72\": 18.7, \"GemiddeldeHuishoudensgrootte_32\": 1.7, \"Koopwoningen_40\": 16.0}, {\"normalized_opgesteld_vermogen\": 0.6753623188405797, \"GemiddeldInkomenPerInwoner_72\": 22.8, \"GemiddeldeHuishoudensgrootte_32\": 2.4, \"Koopwoningen_40\": 67.0}, {\"normalized_opgesteld_vermogen\": 0.3430711610486891, \"GemiddeldInkomenPerInwoner_72\": 34.5, \"GemiddeldeHuishoudensgrootte_32\": 2.3, \"Koopwoningen_40\": 79.0}, {\"normalized_opgesteld_vermogen\": 1.036875, \"GemiddeldInkomenPerInwoner_72\": 39.9, \"GemiddeldeHuishoudensgrootte_32\": 2.0, \"Koopwoningen_40\": 66.0}, {\"normalized_opgesteld_vermogen\": 0.43136246786632393, \"GemiddeldInkomenPerInwoner_72\": 20.1, \"GemiddeldeHuishoudensgrootte_32\": 2.1, \"Koopwoningen_40\": 29.0}, {\"normalized_opgesteld_vermogen\": 0.6555395683453238, \"GemiddeldInkomenPerInwoner_72\": 29.4, \"GemiddeldeHuishoudensgrootte_32\": 2.3, \"Koopwoningen_40\": 69.0}, {\"normalized_opgesteld_vermogen\": 0.947565543071161, \"GemiddeldInkomenPerInwoner_72\": 26.3, \"GemiddeldeHuishoudensgrootte_32\": 2.1, \"Koopwoningen_40\": 69.0}, {\"normalized_opgesteld_vermogen\": 0.31528384279475985, \"GemiddeldInkomenPerInwoner_72\": 26.3, \"GemiddeldeHuishoudensgrootte_32\": 2.2, \"Koopwoningen_40\": 61.0}, {\"normalized_opgesteld_vermogen\": 1.0300970873786408, \"GemiddeldInkomenPerInwoner_72\": 38.0, \"GemiddeldeHuishoudensgrootte_32\": 2.5, \"Koopwoningen_40\": 78.0}, {\"normalized_opgesteld_vermogen\": 0.6794258373205742, \"GemiddeldInkomenPerInwoner_72\": 24.4, \"GemiddeldeHuishoudensgrootte_32\": 2.8, \"Koopwoningen_40\": 69.0}, {\"normalized_opgesteld_vermogen\": 0.25333333333333335, \"GemiddeldInkomenPerInwoner_72\": 26.3, \"GemiddeldeHuishoudensgrootte_32\": 1.9, \"Koopwoningen_40\": 44.0}, {\"normalized_opgesteld_vermogen\": 0.6717842323651452, \"GemiddeldInkomenPerInwoner_72\": 30.5, \"GemiddeldeHuishoudensgrootte_32\": 2.3, \"Koopwoningen_40\": 69.0}, {\"normalized_opgesteld_vermogen\": 0.2224032586558045, \"GemiddeldInkomenPerInwoner_72\": 23.2, \"GemiddeldeHuishoudensgrootte_32\": 1.7, \"Koopwoningen_40\": 50.0}, {\"normalized_opgesteld_vermogen\": 0.6336170212765957, \"GemiddeldInkomenPerInwoner_72\": 26.1, \"GemiddeldeHuishoudensgrootte_32\": 2.3, \"Koopwoningen_40\": 60.0}, {\"normalized_opgesteld_vermogen\": 1.2390390390390391, \"GemiddeldInkomenPerInwoner_72\": 24.6, \"GemiddeldeHuishoudensgrootte_32\": 2.3, \"Koopwoningen_40\": 70.0}, {\"normalized_opgesteld_vermogen\": 0.9829885057471265, \"GemiddeldInkomenPerInwoner_72\": 26.7, \"GemiddeldeHuishoudensgrootte_32\": 2.3, \"Koopwoningen_40\": 75.0}, {\"normalized_opgesteld_vermogen\": 0.6167441860465116, \"GemiddeldInkomenPerInwoner_72\": 31.1, \"GemiddeldeHuishoudensgrootte_32\": 2.4, \"Koopwoningen_40\": 86.0}, {\"normalized_opgesteld_vermogen\": 0.5779291553133515, \"GemiddeldInkomenPerInwoner_72\": 21.6, \"GemiddeldeHuishoudensgrootte_32\": 2.1, \"Koopwoningen_40\": 56.0}, {\"normalized_opgesteld_vermogen\": 0.9785388127853881, \"GemiddeldInkomenPerInwoner_72\": 27.2, \"GemiddeldeHuishoudensgrootte_32\": 2.2, \"Koopwoningen_40\": 67.0}, {\"normalized_opgesteld_vermogen\": 1.3060606060606061, \"GemiddeldInkomenPerInwoner_72\": 25.8, \"GemiddeldeHuishoudensgrootte_32\": 2.3, \"Koopwoningen_40\": 68.0}, {\"normalized_opgesteld_vermogen\": 0.775177304964539, \"GemiddeldInkomenPerInwoner_72\": 27.0, \"GemiddeldeHuishoudensgrootte_32\": 2.5, \"Koopwoningen_40\": 73.0}, {\"normalized_opgesteld_vermogen\": 1.216842105263158, \"GemiddeldInkomenPerInwoner_72\": 33.8, \"GemiddeldeHuishoudensgrootte_32\": 2.6, \"Koopwoningen_40\": 81.0}, {\"normalized_opgesteld_vermogen\": 0.4541139240506329, \"GemiddeldInkomenPerInwoner_72\": 21.0, \"GemiddeldeHuishoudensgrootte_32\": 1.9, \"Koopwoningen_40\": 39.0}, {\"normalized_opgesteld_vermogen\": 0.5254545454545455, \"GemiddeldInkomenPerInwoner_72\": 30.5, \"GemiddeldeHuishoudensgrootte_32\": 2.4, \"Koopwoningen_40\": 65.0}, {\"normalized_opgesteld_vermogen\": 0.1760233918128655, \"GemiddeldInkomenPerInwoner_72\": 28.3, \"GemiddeldeHuishoudensgrootte_32\": 1.6, \"Koopwoningen_40\": 41.0}, {\"normalized_opgesteld_vermogen\": 0.14663865546218488, \"GemiddeldInkomenPerInwoner_72\": 20.3, \"GemiddeldeHuishoudensgrootte_32\": 2.1, \"Koopwoningen_40\": 40.0}, {\"normalized_opgesteld_vermogen\": 1.1031746031746033, \"GemiddeldInkomenPerInwoner_72\": 28.8, \"GemiddeldeHuishoudensgrootte_32\": 2.3, \"Koopwoningen_40\": 79.0}, {\"normalized_opgesteld_vermogen\": 0.12642140468227425, \"GemiddeldInkomenPerInwoner_72\": 21.8, \"GemiddeldeHuishoudensgrootte_32\": 1.7, \"Koopwoningen_40\": 37.0}, {\"normalized_opgesteld_vermogen\": 0.9577669902912621, \"GemiddeldInkomenPerInwoner_72\": 33.5, \"GemiddeldeHuishoudensgrootte_32\": 2.3, \"Koopwoningen_40\": 81.0}, {\"normalized_opgesteld_vermogen\": 0.023776223776223775, \"GemiddeldInkomenPerInwoner_72\": 45.2, \"GemiddeldeHuishoudensgrootte_32\": 1.5, \"Koopwoningen_40\": 49.0}, {\"normalized_opgesteld_vermogen\": 0.8838461538461538, \"GemiddeldInkomenPerInwoner_72\": 26.4, \"GemiddeldeHuishoudensgrootte_32\": 2.3, \"Koopwoningen_40\": 68.0}, {\"normalized_opgesteld_vermogen\": 0.924, \"GemiddeldInkomenPerInwoner_72\": 28.4, \"GemiddeldeHuishoudensgrootte_32\": 2.2, \"Koopwoningen_40\": 68.0}, {\"normalized_opgesteld_vermogen\": 0.7609756097560976, \"GemiddeldInkomenPerInwoner_72\": 24.1, \"GemiddeldeHuishoudensgrootte_32\": 3.4, \"Koopwoningen_40\": 88.0}, {\"normalized_opgesteld_vermogen\": 0.17089201877934274, \"GemiddeldInkomenPerInwoner_72\": 26.7, \"GemiddeldeHuishoudensgrootte_32\": 1.6, \"Koopwoningen_40\": 44.0}, {\"normalized_opgesteld_vermogen\": 0.09156626506024096, \"GemiddeldInkomenPerInwoner_72\": 28.9, \"GemiddeldeHuishoudensgrootte_32\": 1.4, \"Koopwoningen_40\": 27.0}, {\"normalized_opgesteld_vermogen\": 0.22588832487309646, \"GemiddeldInkomenPerInwoner_72\": 26.0, \"GemiddeldeHuishoudensgrootte_32\": 1.6, \"Koopwoningen_40\": 51.0}, {\"normalized_opgesteld_vermogen\": 0.43806451612903224, \"GemiddeldInkomenPerInwoner_72\": 23.7, \"GemiddeldeHuishoudensgrootte_32\": 2.4, \"Koopwoningen_40\": 70.0}, {\"normalized_opgesteld_vermogen\": 0.5380165289256198, \"GemiddeldInkomenPerInwoner_72\": 30.9, \"GemiddeldeHuishoudensgrootte_32\": 2.3, \"Koopwoningen_40\": 65.0}, {\"normalized_opgesteld_vermogen\": 0.1373134328358209, \"GemiddeldInkomenPerInwoner_72\": 23.4, \"GemiddeldeHuishoudensgrootte_32\": 1.6, \"Koopwoningen_40\": 27.0}, {\"normalized_opgesteld_vermogen\": 0.7348017621145374, \"GemiddeldInkomenPerInwoner_72\": 30.4, \"GemiddeldeHuishoudensgrootte_32\": 2.4, \"Koopwoningen_40\": 80.0}, {\"normalized_opgesteld_vermogen\": 0.18385826771653543, \"GemiddeldInkomenPerInwoner_72\": 19.9, \"GemiddeldeHuishoudensgrootte_32\": 1.6, \"Koopwoningen_40\": 9.0}, {\"normalized_opgesteld_vermogen\": 0.762987012987013, \"GemiddeldInkomenPerInwoner_72\": 30.2, \"GemiddeldeHuishoudensgrootte_32\": 2.3, \"Koopwoningen_40\": 80.0}, {\"normalized_opgesteld_vermogen\": 0.03824604141291108, \"GemiddeldInkomenPerInwoner_72\": 38.7, \"GemiddeldeHuishoudensgrootte_32\": 1.5, \"Koopwoningen_40\": 33.0}, {\"normalized_opgesteld_vermogen\": 0.5805653710247349, \"GemiddeldInkomenPerInwoner_72\": 27.3, \"GemiddeldeHuishoudensgrootte_32\": 2.4, \"Koopwoningen_40\": 71.0}, {\"normalized_opgesteld_vermogen\": 0.9007751937984496, \"GemiddeldInkomenPerInwoner_72\": 26.6, \"GemiddeldeHuishoudensgrootte_32\": 2.1, \"Koopwoningen_40\": 71.0}, {\"normalized_opgesteld_vermogen\": 1.014709371293001, \"GemiddeldInkomenPerInwoner_72\": 25.4, \"GemiddeldeHuishoudensgrootte_32\": 2.2, \"Koopwoningen_40\": 60.0}, {\"normalized_opgesteld_vermogen\": 0.1881619937694704, \"GemiddeldInkomenPerInwoner_72\": 21.8, \"GemiddeldeHuishoudensgrootte_32\": 1.7, \"Koopwoningen_40\": 36.0}, {\"normalized_opgesteld_vermogen\": 0.6020905923344948, \"GemiddeldInkomenPerInwoner_72\": 22.0, \"GemiddeldeHuishoudensgrootte_32\": 2.0, \"Koopwoningen_40\": 52.0}, {\"normalized_opgesteld_vermogen\": 1.218018018018018, \"GemiddeldInkomenPerInwoner_72\": 26.0, \"GemiddeldeHuishoudensgrootte_32\": 2.3, \"Koopwoningen_40\": 71.0}, {\"normalized_opgesteld_vermogen\": 0.08446866485013624, \"GemiddeldInkomenPerInwoner_72\": 29.2, \"GemiddeldeHuishoudensgrootte_32\": 1.7, \"Koopwoningen_40\": 34.0}, {\"normalized_opgesteld_vermogen\": 0.9834586466165414, \"GemiddeldInkomenPerInwoner_72\": 21.9, \"GemiddeldeHuishoudensgrootte_32\": 2.2, \"Koopwoningen_40\": 65.0}, {\"normalized_opgesteld_vermogen\": 0.7921787709497207, \"GemiddeldInkomenPerInwoner_72\": 34.5, \"GemiddeldeHuishoudensgrootte_32\": 2.9, \"Koopwoningen_40\": 83.0}, {\"normalized_opgesteld_vermogen\": 0.32827004219409284, \"GemiddeldInkomenPerInwoner_72\": 25.2, \"GemiddeldeHuishoudensgrootte_32\": 2.2, \"Koopwoningen_40\": 66.0}, {\"normalized_opgesteld_vermogen\": 0.5668316831683168, \"GemiddeldInkomenPerInwoner_72\": 24.5, \"GemiddeldeHuishoudensgrootte_32\": 1.8, \"Koopwoningen_40\": 55.0}, {\"normalized_opgesteld_vermogen\": 0.3716417910447761, \"GemiddeldInkomenPerInwoner_72\": 19.3, \"GemiddeldeHuishoudensgrootte_32\": 1.9, \"Koopwoningen_40\": 22.0}, {\"normalized_opgesteld_vermogen\": 0.492604501607717, \"GemiddeldInkomenPerInwoner_72\": 26.8, \"GemiddeldeHuishoudensgrootte_32\": 2.3, \"Koopwoningen_40\": 67.0}, {\"normalized_opgesteld_vermogen\": 0.5978552278820375, \"GemiddeldInkomenPerInwoner_72\": 28.1, \"GemiddeldeHuishoudensgrootte_32\": 2.3, \"Koopwoningen_40\": 60.0}, {\"normalized_opgesteld_vermogen\": 0.9062200956937799, \"GemiddeldInkomenPerInwoner_72\": 31.8, \"GemiddeldeHuishoudensgrootte_32\": 2.9, \"Koopwoningen_40\": 72.0}, {\"normalized_opgesteld_vermogen\": 0.5698461538461539, \"GemiddeldInkomenPerInwoner_72\": 29.6, \"GemiddeldeHuishoudensgrootte_32\": 2.3, \"Koopwoningen_40\": 65.0}, {\"normalized_opgesteld_vermogen\": 1.1522012578616352, \"GemiddeldInkomenPerInwoner_72\": 32.1, \"GemiddeldeHuishoudensgrootte_32\": 2.3, \"Koopwoningen_40\": 76.0}, {\"normalized_opgesteld_vermogen\": 0.6705314009661836, \"GemiddeldInkomenPerInwoner_72\": 25.3, \"GemiddeldeHuishoudensgrootte_32\": 2.3, \"Koopwoningen_40\": 75.0}, {\"normalized_opgesteld_vermogen\": 0.94875, \"GemiddeldInkomenPerInwoner_72\": 26.2, \"GemiddeldeHuishoudensgrootte_32\": 2.3, \"Koopwoningen_40\": 68.0}, {\"normalized_opgesteld_vermogen\": 0.03126338329764454, \"GemiddeldInkomenPerInwoner_72\": 21.9, \"GemiddeldeHuishoudensgrootte_32\": 1.3, \"Koopwoningen_40\": 36.0}, {\"normalized_opgesteld_vermogen\": 1.1651331719128328, \"GemiddeldInkomenPerInwoner_72\": 27.9, \"GemiddeldeHuishoudensgrootte_32\": 2.1, \"Koopwoningen_40\": 69.0}, {\"normalized_opgesteld_vermogen\": 0.5432950191570881, \"GemiddeldInkomenPerInwoner_72\": 23.6, \"GemiddeldeHuishoudensgrootte_32\": 2.8, \"Koopwoningen_40\": 70.0}, {\"normalized_opgesteld_vermogen\": 1.4242424242424243, \"GemiddeldInkomenPerInwoner_72\": 26.1, \"GemiddeldeHuishoudensgrootte_32\": 2.3, \"Koopwoningen_40\": 76.0}, {\"normalized_opgesteld_vermogen\": 0.2448, \"GemiddeldInkomenPerInwoner_72\": 18.6, \"GemiddeldeHuishoudensgrootte_32\": 2.0, \"Koopwoningen_40\": 19.0}, {\"normalized_opgesteld_vermogen\": 0.2971887550200803, \"GemiddeldInkomenPerInwoner_72\": 19.9, \"GemiddeldeHuishoudensgrootte_32\": 2.0, \"Koopwoningen_40\": 25.0}, {\"normalized_opgesteld_vermogen\": 0.912540192926045, \"GemiddeldInkomenPerInwoner_72\": 36.7, \"GemiddeldeHuishoudensgrootte_32\": 2.4, \"Koopwoningen_40\": 83.0}, {\"normalized_opgesteld_vermogen\": 0.6060869565217392, \"GemiddeldInkomenPerInwoner_72\": 28.6, \"GemiddeldeHuishoudensgrootte_32\": 2.3, \"Koopwoningen_40\": 70.0}, {\"normalized_opgesteld_vermogen\": 0.5804545454545454, \"GemiddeldInkomenPerInwoner_72\": 23.6, \"GemiddeldeHuishoudensgrootte_32\": 2.1, \"Koopwoningen_40\": 58.0}, {\"normalized_opgesteld_vermogen\": 0.53984375, \"GemiddeldInkomenPerInwoner_72\": 24.0, \"GemiddeldeHuishoudensgrootte_32\": 2.0, \"Koopwoningen_40\": 60.0}, {\"normalized_opgesteld_vermogen\": 0.29170506912442395, \"GemiddeldInkomenPerInwoner_72\": 26.6, \"GemiddeldeHuishoudensgrootte_32\": 2.0, \"Koopwoningen_40\": 47.0}, {\"normalized_opgesteld_vermogen\": 0.8153846153846154, \"GemiddeldInkomenPerInwoner_72\": 31.8, \"GemiddeldeHuishoudensgrootte_32\": 2.5, \"Koopwoningen_40\": 85.0}, {\"normalized_opgesteld_vermogen\": 0.7631205673758865, \"GemiddeldInkomenPerInwoner_72\": 29.3, \"GemiddeldeHuishoudensgrootte_32\": 2.3, \"Koopwoningen_40\": 65.0}, {\"normalized_opgesteld_vermogen\": 1.0028708133971291, \"GemiddeldInkomenPerInwoner_72\": 26.5, \"GemiddeldeHuishoudensgrootte_32\": 2.5, \"Koopwoningen_40\": 79.0}, {\"normalized_opgesteld_vermogen\": 0.808910891089109, \"GemiddeldInkomenPerInwoner_72\": 27.3, \"GemiddeldeHuishoudensgrootte_32\": 2.0, \"Koopwoningen_40\": 61.0}, {\"normalized_opgesteld_vermogen\": 0.0627831715210356, \"GemiddeldInkomenPerInwoner_72\": 27.4, \"GemiddeldeHuishoudensgrootte_32\": 1.6, \"Koopwoningen_40\": 46.0}, {\"normalized_opgesteld_vermogen\": 1.0, \"GemiddeldInkomenPerInwoner_72\": 23.4, \"GemiddeldeHuishoudensgrootte_32\": 2.3, \"Koopwoningen_40\": 66.0}, {\"normalized_opgesteld_vermogen\": 0.17679012345679013, \"GemiddeldInkomenPerInwoner_72\": 21.0, \"GemiddeldeHuishoudensgrootte_32\": 1.8, \"Koopwoningen_40\": 46.0}, {\"normalized_opgesteld_vermogen\": 1.2396694214876034, \"GemiddeldInkomenPerInwoner_72\": 26.4, \"GemiddeldeHuishoudensgrootte_32\": 2.2, \"Koopwoningen_40\": 74.0}, {\"normalized_opgesteld_vermogen\": 0.811371237458194, \"GemiddeldInkomenPerInwoner_72\": 22.6, \"GemiddeldeHuishoudensgrootte_32\": 2.1, \"Koopwoningen_40\": 70.0}, {\"normalized_opgesteld_vermogen\": 1.0927113702623907, \"GemiddeldInkomenPerInwoner_72\": 24.0, \"GemiddeldeHuishoudensgrootte_32\": 2.3, \"Koopwoningen_40\": 61.0}, {\"normalized_opgesteld_vermogen\": 0.33018372703412074, \"GemiddeldInkomenPerInwoner_72\": 23.2, \"GemiddeldeHuishoudensgrootte_32\": 2.0, \"Koopwoningen_40\": 40.0}, {\"normalized_opgesteld_vermogen\": 0.8686274509803922, \"GemiddeldInkomenPerInwoner_72\": 25.9, \"GemiddeldeHuishoudensgrootte_32\": 2.3, \"Koopwoningen_40\": 65.0}, {\"normalized_opgesteld_vermogen\": 0.2715976331360947, \"GemiddeldInkomenPerInwoner_72\": 20.2, \"GemiddeldeHuishoudensgrootte_32\": 1.8, \"Koopwoningen_40\": 23.0}, {\"normalized_opgesteld_vermogen\": 0.7817567567567567, \"GemiddeldInkomenPerInwoner_72\": 26.9, \"GemiddeldeHuishoudensgrootte_32\": 2.4, \"Koopwoningen_40\": 75.0}, {\"normalized_opgesteld_vermogen\": 0.3463276836158192, \"GemiddeldInkomenPerInwoner_72\": 20.8, \"GemiddeldeHuishoudensgrootte_32\": 2.1, \"Koopwoningen_40\": 37.0}, {\"normalized_opgesteld_vermogen\": 0.5390029325513197, \"GemiddeldInkomenPerInwoner_72\": 26.5, \"GemiddeldeHuishoudensgrootte_32\": 2.0, \"Koopwoningen_40\": 51.0}, {\"normalized_opgesteld_vermogen\": 0.7730103806228373, \"GemiddeldInkomenPerInwoner_72\": 35.7, \"GemiddeldeHuishoudensgrootte_32\": 2.3, \"Koopwoningen_40\": 82.0}, {\"normalized_opgesteld_vermogen\": 0.4277580071174377, \"GemiddeldInkomenPerInwoner_72\": 20.2, \"GemiddeldeHuishoudensgrootte_32\": 1.9, \"Koopwoningen_40\": 27.0}, {\"normalized_opgesteld_vermogen\": 0.96, \"GemiddeldInkomenPerInwoner_72\": 26.0, \"GemiddeldeHuishoudensgrootte_32\": 2.3, \"Koopwoningen_40\": 55.0}, {\"normalized_opgesteld_vermogen\": 0.9656934306569344, \"GemiddeldInkomenPerInwoner_72\": 28.8, \"GemiddeldeHuishoudensgrootte_32\": 2.2, \"Koopwoningen_40\": 70.0}, {\"normalized_opgesteld_vermogen\": 0.35871886120996443, \"GemiddeldInkomenPerInwoner_72\": 23.6, \"GemiddeldeHuishoudensgrootte_32\": 1.9, \"Koopwoningen_40\": 53.0}, {\"normalized_opgesteld_vermogen\": 0.9085972850678733, \"GemiddeldInkomenPerInwoner_72\": 25.7, \"GemiddeldeHuishoudensgrootte_32\": 2.3, \"Koopwoningen_40\": 73.0}, {\"normalized_opgesteld_vermogen\": 0.5381995133819951, \"GemiddeldInkomenPerInwoner_72\": 24.2, \"GemiddeldeHuishoudensgrootte_32\": 1.8, \"Koopwoningen_40\": 30.0}, {\"normalized_opgesteld_vermogen\": 0.3179347826086957, \"GemiddeldInkomenPerInwoner_72\": 28.4, \"GemiddeldeHuishoudensgrootte_32\": 2.1, \"Koopwoningen_40\": 61.0}, {\"normalized_opgesteld_vermogen\": 1.0295081967213116, \"GemiddeldInkomenPerInwoner_72\": 28.9, \"GemiddeldeHuishoudensgrootte_32\": 2.2, \"Koopwoningen_40\": 75.0}, {\"normalized_opgesteld_vermogen\": 0.997583081570997, \"GemiddeldInkomenPerInwoner_72\": 24.6, \"GemiddeldeHuishoudensgrootte_32\": 2.3, \"Koopwoningen_40\": 70.0}, {\"normalized_opgesteld_vermogen\": 0.5689655172413793, \"GemiddeldInkomenPerInwoner_72\": 25.1, \"GemiddeldeHuishoudensgrootte_32\": 2.1, \"Koopwoningen_40\": 61.0}, {\"normalized_opgesteld_vermogen\": 0.32, \"GemiddeldInkomenPerInwoner_72\": 20.0, \"GemiddeldeHuishoudensgrootte_32\": 2.2, \"Koopwoningen_40\": 51.0}, {\"normalized_opgesteld_vermogen\": 0.47530864197530864, \"GemiddeldInkomenPerInwoner_72\": 20.2, \"GemiddeldeHuishoudensgrootte_32\": 2.1, \"Koopwoningen_40\": 51.0}, {\"normalized_opgesteld_vermogen\": 1.3639344262295081, \"GemiddeldInkomenPerInwoner_72\": 25.4, \"GemiddeldeHuishoudensgrootte_32\": 2.1, \"Koopwoningen_40\": 66.0}, {\"normalized_opgesteld_vermogen\": 0.7291666666666666, \"GemiddeldInkomenPerInwoner_72\": 34.3, \"GemiddeldeHuishoudensgrootte_32\": 3.1, \"Koopwoningen_40\": 69.0}, {\"normalized_opgesteld_vermogen\": 1.2481605351170568, \"GemiddeldInkomenPerInwoner_72\": 28.8, \"GemiddeldeHuishoudensgrootte_32\": 2.3, \"Koopwoningen_40\": 73.0}, {\"normalized_opgesteld_vermogen\": 0.6622641509433962, \"GemiddeldInkomenPerInwoner_72\": 29.4, \"GemiddeldeHuishoudensgrootte_32\": 2.4, \"Koopwoningen_40\": 74.0}, {\"normalized_opgesteld_vermogen\": 0.4817325800376648, \"GemiddeldInkomenPerInwoner_72\": 22.6, \"GemiddeldeHuishoudensgrootte_32\": 2.0, \"Koopwoningen_40\": 36.0}, {\"normalized_opgesteld_vermogen\": 0.8381818181818181, \"GemiddeldInkomenPerInwoner_72\": 24.7, \"GemiddeldeHuishoudensgrootte_32\": 2.4, \"Koopwoningen_40\": 69.0}, {\"normalized_opgesteld_vermogen\": 0.5722846441947566, \"GemiddeldInkomenPerInwoner_72\": 20.4, \"GemiddeldeHuishoudensgrootte_32\": 2.1, \"Koopwoningen_40\": 36.0}, {\"normalized_opgesteld_vermogen\": 0.46042780748663104, \"GemiddeldInkomenPerInwoner_72\": 23.9, \"GemiddeldeHuishoudensgrootte_32\": 2.1, \"Koopwoningen_40\": 51.0}, {\"normalized_opgesteld_vermogen\": 0.29168900804289544, \"GemiddeldInkomenPerInwoner_72\": 17.3, \"GemiddeldeHuishoudensgrootte_32\": 2.3, \"Koopwoningen_40\": 31.0}, {\"normalized_opgesteld_vermogen\": 0.7065502183406114, \"GemiddeldInkomenPerInwoner_72\": 29.2, \"GemiddeldeHuishoudensgrootte_32\": 2.3, \"Koopwoningen_40\": 78.0}, {\"normalized_opgesteld_vermogen\": 0.23481012658227848, \"GemiddeldInkomenPerInwoner_72\": 27.0, \"GemiddeldeHuishoudensgrootte_32\": 1.8, \"Koopwoningen_40\": 53.0}, {\"normalized_opgesteld_vermogen\": 0.6318725099601593, \"GemiddeldInkomenPerInwoner_72\": 31.6, \"GemiddeldeHuishoudensgrootte_32\": 2.2, \"Koopwoningen_40\": 66.0}, {\"normalized_opgesteld_vermogen\": 1.3231343283582089, \"GemiddeldInkomenPerInwoner_72\": 26.2, \"GemiddeldeHuishoudensgrootte_32\": 2.2, \"Koopwoningen_40\": 69.0}, {\"normalized_opgesteld_vermogen\": 0.9395348837209302, \"GemiddeldInkomenPerInwoner_72\": 24.8, \"GemiddeldeHuishoudensgrootte_32\": 2.4, \"Koopwoningen_40\": 69.0}, {\"normalized_opgesteld_vermogen\": 1.4160676532769556, \"GemiddeldInkomenPerInwoner_72\": 27.3, \"GemiddeldeHuishoudensgrootte_32\": 2.3, \"Koopwoningen_40\": 74.0}, {\"normalized_opgesteld_vermogen\": 0.9140703517587939, \"GemiddeldInkomenPerInwoner_72\": 25.5, \"GemiddeldeHuishoudensgrootte_32\": 2.2, \"Koopwoningen_40\": 69.0}, {\"normalized_opgesteld_vermogen\": 0.1539951573849879, \"GemiddeldInkomenPerInwoner_72\": 25.2, \"GemiddeldeHuishoudensgrootte_32\": 1.4, \"Koopwoningen_40\": 38.0}, {\"normalized_opgesteld_vermogen\": 1.217283950617284, \"GemiddeldInkomenPerInwoner_72\": 27.8, \"GemiddeldeHuishoudensgrootte_32\": 2.2, \"Koopwoningen_40\": 66.0}, {\"normalized_opgesteld_vermogen\": 0.9097014925373135, \"GemiddeldInkomenPerInwoner_72\": 24.1, \"GemiddeldeHuishoudensgrootte_32\": 2.9, \"Koopwoningen_40\": 82.0}, {\"normalized_opgesteld_vermogen\": 0.17613168724279835, \"GemiddeldInkomenPerInwoner_72\": 27.6, \"GemiddeldeHuishoudensgrootte_32\": 1.8, \"Koopwoningen_40\": 48.0}, {\"normalized_opgesteld_vermogen\": 0.5869918699186992, \"GemiddeldInkomenPerInwoner_72\": 24.0, \"GemiddeldeHuishoudensgrootte_32\": 1.9, \"Koopwoningen_40\": 55.0}, {\"normalized_opgesteld_vermogen\": 0.4489296636085627, \"GemiddeldInkomenPerInwoner_72\": 25.5, \"GemiddeldeHuishoudensgrootte_32\": 2.3, \"Koopwoningen_40\": 69.0}, {\"normalized_opgesteld_vermogen\": 0.9741626794258373, \"GemiddeldInkomenPerInwoner_72\": 28.8, \"GemiddeldeHuishoudensgrootte_32\": 2.5, \"Koopwoningen_40\": 88.0}, {\"normalized_opgesteld_vermogen\": 0.9570200573065902, \"GemiddeldInkomenPerInwoner_72\": 27.4, \"GemiddeldeHuishoudensgrootte_32\": 2.2, \"Koopwoningen_40\": 70.0}, {\"normalized_opgesteld_vermogen\": 0.5089887640449439, \"GemiddeldInkomenPerInwoner_72\": 23.8, \"GemiddeldeHuishoudensgrootte_32\": 2.3, \"Koopwoningen_40\": 55.0}, {\"normalized_opgesteld_vermogen\": 1.1399239543726236, \"GemiddeldInkomenPerInwoner_72\": 22.3, \"GemiddeldeHuishoudensgrootte_32\": 2.1, \"Koopwoningen_40\": 58.0}, {\"normalized_opgesteld_vermogen\": 0.44151898734177214, \"GemiddeldInkomenPerInwoner_72\": 29.1, \"GemiddeldeHuishoudensgrootte_32\": 2.7, \"Koopwoningen_40\": 86.0}, {\"normalized_opgesteld_vermogen\": 1.0128342245989306, \"GemiddeldInkomenPerInwoner_72\": 28.9, \"GemiddeldeHuishoudensgrootte_32\": 2.9, \"Koopwoningen_40\": 78.0}, {\"normalized_opgesteld_vermogen\": 0.5419354838709678, \"GemiddeldInkomenPerInwoner_72\": 23.2, \"GemiddeldeHuishoudensgrootte_32\": 2.1, \"Koopwoningen_40\": 60.0}, {\"normalized_opgesteld_vermogen\": 0.3955607476635514, \"GemiddeldInkomenPerInwoner_72\": 24.2, \"GemiddeldeHuishoudensgrootte_32\": 1.7, \"Koopwoningen_40\": 37.0}, {\"normalized_opgesteld_vermogen\": 0.8324786324786325, \"GemiddeldInkomenPerInwoner_72\": 33.4, \"GemiddeldeHuishoudensgrootte_32\": 2.9, \"Koopwoningen_40\": 89.0}, {\"normalized_opgesteld_vermogen\": 1.0274678111587983, \"GemiddeldInkomenPerInwoner_72\": 22.8, \"GemiddeldeHuishoudensgrootte_32\": 2.8, \"Koopwoningen_40\": 76.0}, {\"normalized_opgesteld_vermogen\": 0.9422222222222222, \"GemiddeldInkomenPerInwoner_72\": 23.6, \"GemiddeldeHuishoudensgrootte_32\": 2.3, \"Koopwoningen_40\": 60.0}, {\"normalized_opgesteld_vermogen\": 0.7272206303724928, \"GemiddeldInkomenPerInwoner_72\": 27.5, \"GemiddeldeHuishoudensgrootte_32\": 2.0, \"Koopwoningen_40\": 50.0}, {\"normalized_opgesteld_vermogen\": 0.7639130434782608, \"GemiddeldInkomenPerInwoner_72\": 20.1, \"GemiddeldeHuishoudensgrootte_32\": 2.2, \"Koopwoningen_40\": 39.0}, {\"normalized_opgesteld_vermogen\": 0.43478260869565216, \"GemiddeldInkomenPerInwoner_72\": 24.1, \"GemiddeldeHuishoudensgrootte_32\": 1.6, \"Koopwoningen_40\": 24.0}, {\"normalized_opgesteld_vermogen\": 0.6003809523809523, \"GemiddeldInkomenPerInwoner_72\": 34.2, \"GemiddeldeHuishoudensgrootte_32\": 2.1, \"Koopwoningen_40\": 64.0}, {\"normalized_opgesteld_vermogen\": 0.12468193384223919, \"GemiddeldInkomenPerInwoner_72\": 30.1, \"GemiddeldeHuishoudensgrootte_32\": 1.5, \"Koopwoningen_40\": 52.0}, {\"normalized_opgesteld_vermogen\": 0.5962264150943396, \"GemiddeldInkomenPerInwoner_72\": 28.6, \"GemiddeldeHuishoudensgrootte_32\": 2.5, \"Koopwoningen_40\": 82.0}, {\"normalized_opgesteld_vermogen\": 0.40716612377850164, \"GemiddeldInkomenPerInwoner_72\": 27.9, \"GemiddeldeHuishoudensgrootte_32\": 2.4, \"Koopwoningen_40\": 64.0}, {\"normalized_opgesteld_vermogen\": 0.4545882352941176, \"GemiddeldInkomenPerInwoner_72\": 24.1, \"GemiddeldeHuishoudensgrootte_32\": 2.3, \"Koopwoningen_40\": 68.0}, {\"normalized_opgesteld_vermogen\": 2.3364806866952788, \"GemiddeldInkomenPerInwoner_72\": 26.7, \"GemiddeldeHuishoudensgrootte_32\": 2.8, \"Koopwoningen_40\": 81.0}, {\"normalized_opgesteld_vermogen\": 0.6033557046979866, \"GemiddeldInkomenPerInwoner_72\": 26.8, \"GemiddeldeHuishoudensgrootte_32\": 2.1, \"Koopwoningen_40\": 65.0}, {\"normalized_opgesteld_vermogen\": 0.22950819672131148, \"GemiddeldInkomenPerInwoner_72\": 25.7, \"GemiddeldeHuishoudensgrootte_32\": 2.0, \"Koopwoningen_40\": 57.0}, {\"normalized_opgesteld_vermogen\": 0.5595463137996219, \"GemiddeldInkomenPerInwoner_72\": 26.0, \"GemiddeldeHuishoudensgrootte_32\": 2.0, \"Koopwoningen_40\": 61.0}, {\"normalized_opgesteld_vermogen\": 0.6909722222222222, \"GemiddeldInkomenPerInwoner_72\": 29.5, \"GemiddeldeHuishoudensgrootte_32\": 2.3, \"Koopwoningen_40\": 77.0}, {\"normalized_opgesteld_vermogen\": 0.6482456140350877, \"GemiddeldInkomenPerInwoner_72\": 30.7, \"GemiddeldeHuishoudensgrootte_32\": 2.3, \"Koopwoningen_40\": 78.0}, {\"normalized_opgesteld_vermogen\": 0.576303317535545, \"GemiddeldInkomenPerInwoner_72\": 24.3, \"GemiddeldeHuishoudensgrootte_32\": 2.4, \"Koopwoningen_40\": 64.0}, {\"normalized_opgesteld_vermogen\": 0.12167300380228137, \"GemiddeldInkomenPerInwoner_72\": 19.8, \"GemiddeldeHuishoudensgrootte_32\": 2.0, \"Koopwoningen_40\": 31.0}, {\"normalized_opgesteld_vermogen\": 0.7128205128205128, \"GemiddeldInkomenPerInwoner_72\": 21.0, \"GemiddeldeHuishoudensgrootte_32\": 2.2, \"Koopwoningen_40\": 53.0}, {\"normalized_opgesteld_vermogen\": 0.7297124600638978, \"GemiddeldInkomenPerInwoner_72\": 27.5, \"GemiddeldeHuishoudensgrootte_32\": 2.4, \"Koopwoningen_40\": 67.0}, {\"normalized_opgesteld_vermogen\": 0.34767025089605735, \"GemiddeldInkomenPerInwoner_72\": 30.3, \"GemiddeldeHuishoudensgrootte_32\": 2.5, \"Koopwoningen_40\": 73.0}, {\"normalized_opgesteld_vermogen\": 0.340053050397878, \"GemiddeldInkomenPerInwoner_72\": 24.4, \"GemiddeldeHuishoudensgrootte_32\": 2.0, \"Koopwoningen_40\": 59.0}, {\"normalized_opgesteld_vermogen\": 0.0609450337512054, \"GemiddeldInkomenPerInwoner_72\": 21.2, \"GemiddeldeHuishoudensgrootte_32\": 1.2, \"Koopwoningen_40\": 13.0}, {\"normalized_opgesteld_vermogen\": 0.8093922651933702, \"GemiddeldInkomenPerInwoner_72\": 25.3, \"GemiddeldeHuishoudensgrootte_32\": 2.3, \"Koopwoningen_40\": 61.0}, {\"normalized_opgesteld_vermogen\": 0.5672413793103448, \"GemiddeldInkomenPerInwoner_72\": 25.3, \"GemiddeldeHuishoudensgrootte_32\": 2.1, \"Koopwoningen_40\": 63.0}, {\"normalized_opgesteld_vermogen\": 1.1003257328990228, \"GemiddeldInkomenPerInwoner_72\": 30.5, \"GemiddeldeHuishoudensgrootte_32\": 2.1, \"Koopwoningen_40\": 73.0}, {\"normalized_opgesteld_vermogen\": 0.8338164251207729, \"GemiddeldInkomenPerInwoner_72\": 32.7, \"GemiddeldeHuishoudensgrootte_32\": 2.4, \"Koopwoningen_40\": 78.0}, {\"normalized_opgesteld_vermogen\": 1.2014869888475836, \"GemiddeldInkomenPerInwoner_72\": 32.2, \"GemiddeldeHuishoudensgrootte_32\": 2.3, \"Koopwoningen_40\": 70.0}, {\"normalized_opgesteld_vermogen\": 0.11793814432989691, \"GemiddeldInkomenPerInwoner_72\": 20.1, \"GemiddeldeHuishoudensgrootte_32\": 1.9, \"Koopwoningen_40\": 37.0}, {\"normalized_opgesteld_vermogen\": 0.5385185185185185, \"GemiddeldInkomenPerInwoner_72\": 26.4, \"GemiddeldeHuishoudensgrootte_32\": 2.3, \"Koopwoningen_40\": 68.0}, {\"normalized_opgesteld_vermogen\": 0.7099818511796733, \"GemiddeldInkomenPerInwoner_72\": 22.2, \"GemiddeldeHuishoudensgrootte_32\": 2.2, \"Koopwoningen_40\": 61.0}, {\"normalized_opgesteld_vermogen\": 0.17702127659574468, \"GemiddeldInkomenPerInwoner_72\": 33.5, \"GemiddeldeHuishoudensgrootte_32\": 2.3, \"Koopwoningen_40\": 62.0}, {\"normalized_opgesteld_vermogen\": 0.6086206896551725, \"GemiddeldInkomenPerInwoner_72\": 26.2, \"GemiddeldeHuishoudensgrootte_32\": 2.5, \"Koopwoningen_40\": 77.0}, {\"normalized_opgesteld_vermogen\": 0.7050420168067227, \"GemiddeldInkomenPerInwoner_72\": 27.9, \"GemiddeldeHuishoudensgrootte_32\": 2.2, \"Koopwoningen_40\": 65.0}, {\"normalized_opgesteld_vermogen\": 0.10718954248366012, \"GemiddeldInkomenPerInwoner_72\": 23.1, \"GemiddeldeHuishoudensgrootte_32\": 1.7, \"Koopwoningen_40\": 33.0}, {\"normalized_opgesteld_vermogen\": 0.3830409356725146, \"GemiddeldInkomenPerInwoner_72\": 25.0, \"GemiddeldeHuishoudensgrootte_32\": 1.9, \"Koopwoningen_40\": 57.0}, {\"normalized_opgesteld_vermogen\": 0.9339759036144578, \"GemiddeldInkomenPerInwoner_72\": 28.2, \"GemiddeldeHuishoudensgrootte_32\": 2.3, \"Koopwoningen_40\": 68.0}, {\"normalized_opgesteld_vermogen\": 0.34926624737945494, \"GemiddeldInkomenPerInwoner_72\": 23.9, \"GemiddeldeHuishoudensgrootte_32\": 1.8, \"Koopwoningen_40\": 42.0}, {\"normalized_opgesteld_vermogen\": 0.17248062015503876, \"GemiddeldInkomenPerInwoner_72\": 23.4, \"GemiddeldeHuishoudensgrootte_32\": 1.9, \"Koopwoningen_40\": 64.0}, {\"normalized_opgesteld_vermogen\": 0.3058201058201058, \"GemiddeldInkomenPerInwoner_72\": 27.7, \"GemiddeldeHuishoudensgrootte_32\": 1.7, \"Koopwoningen_40\": 43.0}, {\"normalized_opgesteld_vermogen\": 0.3958904109589041, \"GemiddeldInkomenPerInwoner_72\": 26.9, \"GemiddeldeHuishoudensgrootte_32\": 1.9, \"Koopwoningen_40\": 43.0}, {\"normalized_opgesteld_vermogen\": 1.0679738562091503, \"GemiddeldInkomenPerInwoner_72\": 29.8, \"GemiddeldeHuishoudensgrootte_32\": 2.4, \"Koopwoningen_40\": 76.0}, {\"normalized_opgesteld_vermogen\": 0.9475, \"GemiddeldInkomenPerInwoner_72\": 28.5, \"GemiddeldeHuishoudensgrootte_32\": 2.3, \"Koopwoningen_40\": 75.0}, {\"normalized_opgesteld_vermogen\": 0.799260628465804, \"GemiddeldInkomenPerInwoner_72\": 28.9, \"GemiddeldeHuishoudensgrootte_32\": 2.0, \"Koopwoningen_40\": 56.0}, {\"normalized_opgesteld_vermogen\": 1.0743682310469314, \"GemiddeldInkomenPerInwoner_72\": 25.7, \"GemiddeldeHuishoudensgrootte_32\": 2.8, \"Koopwoningen_40\": 86.0}, {\"normalized_opgesteld_vermogen\": 0.184375, \"GemiddeldInkomenPerInwoner_72\": 30.8, \"GemiddeldeHuishoudensgrootte_32\": 2.1, \"Koopwoningen_40\": 62.0}, {\"normalized_opgesteld_vermogen\": 0.05934065934065934, \"GemiddeldInkomenPerInwoner_72\": 30.1, \"GemiddeldeHuishoudensgrootte_32\": 1.4, \"Koopwoningen_40\": 19.0}, {\"normalized_opgesteld_vermogen\": 0.9350574712643678, \"GemiddeldInkomenPerInwoner_72\": 30.0, \"GemiddeldeHuishoudensgrootte_32\": 2.1, \"Koopwoningen_40\": 57.0}]}}, {\"mode\": \"vega-lite\"});\n",
       "</script>"
      ],
      "text/plain": [
       "alt.LayerChart(...)"
      ]
     },
     "execution_count": 142,
     "metadata": {},
     "output_type": "execute_result"
    }
   ],
   "source": [
    "alt.renderers.enable('default')\n",
    "\n",
    "base = alt.Chart(train_set).mark_circle().encode(\n",
    "    alt.X('GemiddeldInkomenPerInwoner_72',\n",
    "     title='# income'),\n",
    "       alt.Y(opgesteld_vermogen,\n",
    "     title='Opgesteld vermogen')\n",
    ")\n",
    "\n",
    "linear_fit = [\n",
    "    base.transform_regression(\n",
    "        \"GemiddeldInkomenPerInwoner_72\", opgesteld_vermogen, method=\"linear\"\n",
    "    )\n",
    "    .mark_line()   \n",
    "]\n",
    "\n",
    "graph = alt.layer(base, *linear_fit)\n",
    "graph"
   ]
  },
  {
   "cell_type": "markdown",
   "metadata": {},
   "source": [
    "#### Check the quality of the model"
   ]
  },
  {
   "cell_type": "code",
   "execution_count": 143,
   "metadata": {},
   "outputs": [
    {
     "name": "stdout",
     "output_type": "stream",
     "text": [
      "Coefficients: \n",
      " [-0.00899651  0.10489579  0.0128414 ]\n",
      "Mean squared error: 0.04\n",
      "Coefficient of determination: 0.63\n"
     ]
    }
   ],
   "source": [
    "# Make predictions using the testing set\n",
    "y_pred = lin_reg.predict(X_test_set)\n",
    "\n",
    "# The coefficients\n",
    "print(\"Coefficients: \\n\", lin_reg.coef_)\n",
    "# The mean squared error\n",
    "print(\"Mean squared error: %.2f\" % mean_squared_error(Y_test_set, y_pred))\n",
    "# The coefficient of determination: 1 is perfect prediction\n",
    "print(\"Coefficient of determination: %.2f\" % r2_score(Y_test_set, y_pred))"
   ]
  },
  {
   "cell_type": "markdown",
   "metadata": {},
   "source": [
    "## Create a first model - tree model"
   ]
  },
  {
   "cell_type": "code",
   "execution_count": 144,
   "metadata": {},
   "outputs": [],
   "source": [
    "from sklearn.tree import DecisionTreeRegressor"
   ]
  },
  {
   "cell_type": "markdown",
   "metadata": {},
   "source": [
    "Create helper class"
   ]
  },
  {
   "cell_type": "code",
   "execution_count": 145,
   "metadata": {},
   "outputs": [],
   "source": [
    "class Result:\n",
    "  def __init__(self, r_squared, mean_squared_error):\n",
    "    self.r_squared = r_squared\n",
    "    self.mean_squared_error = mean_squared_error"
   ]
  },
  {
   "cell_type": "code",
   "execution_count": 146,
   "metadata": {},
   "outputs": [],
   "source": [
    "results = {}\n",
    "\n",
    "max_range = 10\n",
    "\n",
    "# Fit regression models\n",
    "for i in range(1, max_range):\n",
    "    r = DecisionTreeRegressor(max_depth=i, random_state=3)\n",
    "    r.fit(X_train_set, Y_train_set)\n",
    "    y_predict = r.predict(X_test_set)\n",
    "    results[i] = Result(r2_score(Y_test_set, y_predict), mean_squared_error(Y_test_set, y_predict)) "
   ]
  },
  {
   "cell_type": "markdown",
   "metadata": {},
   "source": [
    "#### Check the quality of the models"
   ]
  },
  {
   "cell_type": "markdown",
   "metadata": {},
   "source": [
    "# Mark down"
   ]
  },
  {
   "cell_type": "code",
   "execution_count": null,
   "metadata": {},
   "outputs": [],
   "source": []
  },
  {
   "cell_type": "code",
   "execution_count": 147,
   "metadata": {},
   "outputs": [
    {
     "name": "stdout",
     "output_type": "stream",
     "text": [
      "Depth   1 :R squared: 0.45 -- Mean squared error: 0\n",
      "Depth   2 :R squared: 0.57 -- Mean squared error: 0\n",
      "Depth   3 :R squared: 0.60 -- Mean squared error: 0\n",
      "Depth   4 :R squared: 0.62 -- Mean squared error: 0\n",
      "Depth   5 :R squared: 0.62 -- Mean squared error: 0\n",
      "Depth   6 :R squared: 0.59 -- Mean squared error: 0\n",
      "Depth   7 :R squared: 0.59 -- Mean squared error: 0\n",
      "Depth   8 :R squared: 0.60 -- Mean squared error: 0\n",
      "Depth   9 :R squared: 0.53 -- Mean squared error: 0\n"
     ]
    }
   ],
   "source": [
    "for i in range(1,max_range):\n",
    "    print(\"Depth  %2.f\" % i, \":R squared: %.2f\" % results[i].r_squared,\n",
    "    \"-- Mean squared error: %.0f\" % results[i].mean_squared_error)\n"
   ]
  },
  {
   "cell_type": "markdown",
   "metadata": {},
   "source": [
    "Best performance is at depth = 2 (Not the same over runs &#9785; though)"
   ]
  },
  {
   "cell_type": "code",
   "execution_count": 148,
   "metadata": {},
   "outputs": [
    {
     "name": "stdout",
     "output_type": "stream",
     "text": [
      "Depth   2 :R squared: 0.57 -- Mean squared error: 0\n"
     ]
    }
   ],
   "source": [
    "optimum_depth = 2\n",
    "print(\"Depth  %2.f\" % optimum_depth, \":R squared: %.2f\" % results[optimum_depth].r_squared,\n",
    "    \"-- Mean squared error: %.0f\" % results[optimum_depth].mean_squared_error)"
   ]
  }
 ],
 "metadata": {
  "interpreter": {
   "hash": "1c56e9006d6b5ce0cef094ebbdbeb39503cd74f132401754f80b9c283ab9d6f3"
  },
  "kernelspec": {
   "display_name": "Python 3.9.7 ('base')",
   "language": "python",
   "name": "python3"
  },
  "language_info": {
   "codemirror_mode": {
    "name": "ipython",
    "version": 3
   },
   "file_extension": ".py",
   "mimetype": "text/x-python",
   "name": "python",
   "nbconvert_exporter": "python",
   "pygments_lexer": "ipython3",
   "version": "3.9.7"
  },
  "orig_nbformat": 4
 },
 "nbformat": 4,
 "nbformat_minor": 2
}
