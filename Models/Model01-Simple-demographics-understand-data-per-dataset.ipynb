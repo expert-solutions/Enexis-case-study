{
 "cells": [
  {
   "cell_type": "markdown",
   "metadata": {},
   "source": [
    "### Basic model: -- Zonnestroom - \n",
    "Features: Income, Household composition, Property type\n",
    "Predict installed pV per household (aggregation level: buurt, no time dependency) "
   ]
  },
  {
   "cell_type": "markdown",
   "metadata": {},
   "source": []
  },
  {
   "cell_type": "code",
   "execution_count": null,
   "metadata": {},
   "outputs": [],
   "source": [
    "# pip install cbsodata"
   ]
  },
  {
   "cell_type": "code",
   "execution_count": null,
   "metadata": {},
   "outputs": [],
   "source": [
    "import cbsodata\n",
    "import pandas as pd\n",
    "import seaborn as sns\n",
    "import matplotlib.pyplot as plt"
   ]
  },
  {
   "cell_type": "code",
   "execution_count": null,
   "metadata": {},
   "outputs": [],
   "source": [
    "#Read in (Zonnestroom; vermogen bedrijven en woningen, regio (indeling 2019)\n",
    "zonnestroom_2019 = '84783NED'\n",
    "df_zonnestroom_2019 = pd.DataFrame(cbsodata.get_data(zonnestroom_2019))\n",
    "df_zonnestroom_2019 = df_zonnestroom_2019[(df_zonnestroom_2019['RegioS'] == \"'s-Hertogenbosch\") & (df_zonnestroom_2019['BedrijfstakkenWoningen']=='Woningen')]\n",
    "\n",
    "df_zonnestroom_2019"
   ]
  },
  {
   "cell_type": "code",
   "execution_count": null,
   "metadata": {},
   "outputs": [],
   "source": [
    "import altair as alt\n",
    "\n",
    "alt.renderers.enable('default')\n",
    "\n",
    "chart = alt.Chart(df_zonnestroom_2019).mark_point().encode(\n",
    "    x=alt.X('Perioden', bin=False),\n",
    "    y=alt.Y(alt.repeat('column'), title='Installed PV'),\n",
    "    color=alt.ColorDatum(alt.repeat(\"column\"))\n",
    ").repeat(layer=['AantalInstallaties_1', 'OpgesteldVermogenVanZonnepanelen_2'])\n",
    "\n",
    "chart\n"
   ]
  }
 ],
 "metadata": {
  "interpreter": {
   "hash": "4b5eed231ec0c115323e225ce5385d6626cfb048417038261eb3d8b8d0f3984b"
  },
  "kernelspec": {
   "display_name": "Python 3.9.7 ('base')",
   "language": "python",
   "name": "python3"
  },
  "language_info": {
   "codemirror_mode": {
    "name": "ipython",
    "version": 3
   },
   "file_extension": ".py",
   "mimetype": "text/x-python",
   "name": "python",
   "nbconvert_exporter": "python",
   "pygments_lexer": "ipython3",
   "version": "3.9.7"
  },
  "orig_nbformat": 4
 },
 "nbformat": 4,
 "nbformat_minor": 2
}
