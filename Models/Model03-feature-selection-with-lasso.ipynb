{
 "cells": [
  {
   "cell_type": "markdown",
   "metadata": {
    "cell_id": "29191e28-49ca-4fcf-963e-0974fad0a712",
    "deepnote_cell_height": 122.78125,
    "deepnote_cell_type": "markdown"
   },
   "source": [
    "### Basic model:\n",
    "Features: Income, Household composition, Property type\n",
    "Predict installed pV per household (aggregation level: buurt, no time dependency) "
   ]
  },
  {
   "cell_type": "markdown",
   "metadata": {
    "cell_id": "00001-eed02633-2c1e-49fb-885b-1d04459d2465",
    "deepnote_cell_height": 52.390625,
    "deepnote_cell_type": "markdown"
   },
   "source": [
    "Income: CBS data '84799NED' (Kerncijfers wijken en buurten 2020)"
   ]
  },
  {
   "cell_type": "code",
   "execution_count": null,
   "metadata": {
    "cell_id": "00003-b90fef64-0eee-4766-8cf9-5fb22aab5647",
    "deepnote_cell_height": 81,
    "deepnote_cell_type": "code",
    "deepnote_to_be_reexecuted": false,
    "execution_millis": 42,
    "execution_start": 1651255429969,
    "source_hash": "4702f5e1"
   },
   "outputs": [],
   "source": [
    "# pip install cbsodata"
   ]
  },
  {
   "cell_type": "code",
   "execution_count": null,
   "metadata": {
    "cell_id": "00004-1db764fd-b1fb-415a-ae04-963381cb513e",
    "deepnote_cell_height": 135,
    "deepnote_cell_type": "code",
    "deepnote_to_be_reexecuted": false,
    "execution_millis": 1651,
    "execution_start": 1651255430012,
    "source_hash": "34b95db9"
   },
   "outputs": [],
   "source": [
    "import cbsodata\n",
    "import pandas as pd\n",
    "import seaborn as sns\n",
    "import matplotlib.pyplot as plt"
   ]
  },
  {
   "cell_type": "code",
   "execution_count": null,
   "metadata": {
    "cell_id": "00005-8a80cbe7-9f35-4243-b675-06e7fb45cfd4",
    "deepnote_cell_height": 465.875,
    "deepnote_cell_type": "code",
    "deepnote_to_be_reexecuted": false,
    "execution_millis": 71909,
    "execution_start": 1651255431666,
    "source_hash": "568187d1"
   },
   "outputs": [],
   "source": [
    "#Read in (Kerncijfers wijken en buurten 2020\n",
    "kerncijfers_2020 = '84799NED'\n",
    "df_kerncijfers = pd.DataFrame(cbsodata.get_data(kerncijfers_2020))\n",
    "df_kerncijfers.head()"
   ]
  },
  {
   "cell_type": "markdown",
   "metadata": {
    "cell_id": "00006-2c58d44d-a405-4f94-9e85-bfc4c71a9d22",
    "deepnote_cell_height": 52.390625,
    "deepnote_cell_type": "markdown"
   },
   "source": [
    "Remove unusable items"
   ]
  },
  {
   "cell_type": "code",
   "execution_count": null,
   "metadata": {
    "cell_id": "00007-515f5564-20e0-4031-a6de-b5c287c08ed3",
    "deepnote_cell_height": 81,
    "deepnote_cell_type": "code",
    "deepnote_to_be_reexecuted": false,
    "execution_millis": 0,
    "execution_start": 1651255503573,
    "source_hash": "af3a0ad7"
   },
   "outputs": [],
   "source": [
    "df_kerncijfers = df_kerncijfers[df_kerncijfers['Codering_3'].isna() == False]"
   ]
  },
  {
   "cell_type": "markdown",
   "metadata": {
    "cell_id": "00008-406a1c3e-2c49-4765-950b-909ae86eea45",
    "deepnote_cell_height": 52.390625,
    "deepnote_cell_type": "markdown"
   },
   "source": [
    "Keep only the data on Buurt level"
   ]
  },
  {
   "cell_type": "code",
   "execution_count": null,
   "metadata": {
    "cell_id": "00009-664bd7b6-2863-47f5-841e-0ed5e93a8f1e",
    "deepnote_cell_height": 153,
    "deepnote_cell_type": "code",
    "deepnote_to_be_reexecuted": false,
    "execution_millis": 35,
    "execution_start": 1651255503574,
    "source_hash": "bc9d917b"
   },
   "outputs": [],
   "source": [
    "#remove whitespaces from beginning and end of string column labels\n",
    "df_kerncijfers = df_kerncijfers.apply(lambda x: x.str.strip() if x.dtype == \"object\" else x)\n",
    "\n",
    "is_buurt = df_kerncijfers['SoortRegio_2']=='Buurt'\n",
    "df_kerncijfers = df_kerncijfers[is_buurt]"
   ]
  },
  {
   "cell_type": "markdown",
   "metadata": {
    "cell_id": "00010-dd45b3a9-18ae-4a40-8f40-f1237b4ed216",
    "deepnote_cell_height": 62,
    "deepnote_cell_type": "markdown"
   },
   "source": [
    "### Feature #1 - Income"
   ]
  },
  {
   "cell_type": "markdown",
   "metadata": {
    "cell_id": "00011-bc22bbac-2925-4917-81a0-7f0fe3039ac2",
    "deepnote_cell_height": 52.390625,
    "deepnote_cell_type": "markdown"
   },
   "source": [
    "Take a look at the number of buurten where the incomes are unknown"
   ]
  },
  {
   "cell_type": "code",
   "execution_count": null,
   "metadata": {
    "cell_id": "00012-d5abbbe6-d184-4b0e-85f8-3ae4042590b5",
    "deepnote_cell_height": 130.078125,
    "deepnote_cell_type": "code",
    "deepnote_to_be_reexecuted": false,
    "execution_millis": 8,
    "execution_start": 1651255503631,
    "source_hash": "9004dd86"
   },
   "outputs": [],
   "source": [
    "fraction_unfilled_incomes = df_kerncijfers['GemiddeldInkomenPerInwoner_72'].isna().sum()/ df_kerncijfers['GemiddeldInkomenPerInwoner_72'].sum() *100\n",
    "print(\"Income not specified in: %.0f\" % fraction_unfilled_incomes, \"% of the buurten. Removing these entries.\")"
   ]
  },
  {
   "cell_type": "code",
   "execution_count": null,
   "metadata": {
    "cell_id": "00013-72a58527-0329-4812-a9db-33a51fb71f54",
    "deepnote_cell_height": 580.1875,
    "deepnote_cell_type": "code",
    "deepnote_output_heights": [
     null,
     359
    ],
    "deepnote_to_be_reexecuted": false,
    "execution_millis": 700,
    "execution_start": 1651255503644,
    "source_hash": "46ed65"
   },
   "outputs": [],
   "source": [
    "cutoff_income = 60\n",
    "df_kerncijfers = df_kerncijfers[(df_kerncijfers['GemiddeldInkomenPerInwoner_72'].isna() == False)]\n",
    "\n",
    "df_income_specified = df_kerncijfers[df_kerncijfers['GemiddeldInkomenPerInwoner_72'] < cutoff_income]\n",
    "df_income_specified['GemiddeldInkomenPerInwoner_72'].hist(bins=54, figsize=(8, 6))"
   ]
  },
  {
   "cell_type": "markdown",
   "metadata": {
    "cell_id": "00014-16b047ed-d70f-493f-88d8-0e05d68bd5c6",
    "deepnote_cell_height": 62,
    "deepnote_cell_type": "markdown"
   },
   "source": [
    "### Feature #2 - Household composition"
   ]
  },
  {
   "cell_type": "code",
   "execution_count": null,
   "metadata": {
    "cell_id": "00015-7a324d69-9114-44d5-80d7-c4ffe6b48fb2",
    "deepnote_cell_height": 148.078125,
    "deepnote_cell_type": "code",
    "deepnote_to_be_reexecuted": false,
    "execution_millis": 337,
    "execution_start": 1651255504014,
    "source_hash": "5149bc34"
   },
   "outputs": [],
   "source": [
    "fraction_unfilled_huishoudensgroottes = df_kerncijfers['GemiddeldeHuishoudensgrootte_32'].isna().sum()/ df_kerncijfers['GemiddeldeHuishoudensgrootte_32'].sum() *100\n",
    "\n",
    "print(\"Average size of household not specified in: %.0f\" % fraction_unfilled_huishoudensgroottes, \"% of the buurten. Removing these entries.\")"
   ]
  },
  {
   "cell_type": "code",
   "execution_count": null,
   "metadata": {
    "cell_id": "00016-8e999bf6-f862-4b03-a657-cd32ab218d76",
    "deepnote_cell_height": 580.1875,
    "deepnote_cell_type": "code",
    "deepnote_output_heights": [
     null,
     359
    ],
    "deepnote_to_be_reexecuted": false,
    "execution_millis": 391,
    "execution_start": 1651255504022,
    "source_hash": "a8272a99"
   },
   "outputs": [],
   "source": [
    "cut_off_household_size = 5\n",
    "df_kerncijfers = df_kerncijfers[df_kerncijfers['GemiddeldeHuishoudensgrootte_32'].isna() == False]\n",
    "\n",
    "df_average_household_size_specified = df_kerncijfers[df_kerncijfers['GemiddeldeHuishoudensgrootte_32']<cut_off_household_size]\n",
    "df_average_household_size_specified['GemiddeldeHuishoudensgrootte_32'].hist(bins=140, figsize=(8, 6))"
   ]
  },
  {
   "cell_type": "markdown",
   "metadata": {
    "cell_id": "00017-dc859d9e-37b1-4452-a12f-aa07edb082fe",
    "deepnote_cell_height": 62,
    "deepnote_cell_type": "markdown"
   },
   "source": [
    "### Feature #3 - Percentage owned property (koopwoningen)"
   ]
  },
  {
   "cell_type": "code",
   "execution_count": null,
   "metadata": {
    "cell_id": "00018-8102579c-f4ad-4e1d-becd-66f33c97c187",
    "deepnote_cell_height": 166.078125,
    "deepnote_cell_type": "code",
    "deepnote_to_be_reexecuted": false,
    "execution_millis": 7,
    "execution_start": 1651255504417,
    "source_hash": "2a9e9a63"
   },
   "outputs": [],
   "source": [
    "fraction_unfilled_owned_property_percentage = df_kerncijfers['Koopwoningen_40'].isna().sum()/ df_kerncijfers['Koopwoningen_40'].sum() *100\n",
    "\n",
    "print(\"Average percentage of owned properties not specified in: %.0f\" % fraction_unfilled_owned_property_percentage, \"% of the buurten.\")\n"
   ]
  },
  {
   "cell_type": "markdown",
   "metadata": {
    "cell_id": "00019-f251c133-df38-4fe9-a9b2-3e4515aa779a",
    "deepnote_cell_height": 52.390625,
    "deepnote_cell_type": "markdown"
   },
   "source": [
    "Remove the 'BU' from the buurtcode and rename the column name so we can combine the datasets later"
   ]
  },
  {
   "cell_type": "code",
   "execution_count": null,
   "metadata": {
    "cell_id": "00020-6093814e-302e-4907-b5f9-97182ecdb83f",
    "deepnote_cell_height": 184.078125,
    "deepnote_cell_type": "code",
    "deepnote_to_be_reexecuted": false,
    "execution_millis": 12,
    "execution_start": 1651255504434,
    "source_hash": "68ab77b"
   },
   "outputs": [],
   "source": [
    "has_buurtcode_starting_with_BU = df_kerncijfers['Codering_3'].str.find('BU') == 0\n",
    "buurtcodes_without_leading_BU = df_kerncijfers[has_buurtcode_starting_with_BU == False]\n",
    "print(\"Number of buurten that don't start with 'BU': \", len(buurtcodes_without_leading_BU))\n",
    "\n",
    "df_kerncijfers['CBS Buurtcode'] = pd.to_numeric(df_kerncijfers['Codering_3'].apply(lambda s:s.replace(\"BU\",\"\")))"
   ]
  },
  {
   "cell_type": "code",
   "execution_count": null,
   "metadata": {
    "cell_id": "00021-17ce751b-ec04-4ca6-b56c-1f9b3bd4561d",
    "deepnote_cell_height": 493.96875,
    "deepnote_cell_type": "code",
    "deepnote_to_be_reexecuted": false,
    "execution_millis": 552,
    "execution_start": 1651255504444,
    "source_hash": "16e8c192"
   },
   "outputs": [],
   "source": [
    "print(\"Duplicate buurtcodes: %.0f\" % df_kerncijfers.duplicated(['CBS Buurtcode']).sum())\n",
    "df_kerncijfers.astype({\"CBS Buurtcode\" : int})\n",
    "df_kerncijfers.head()"
   ]
  },
  {
   "cell_type": "markdown",
   "metadata": {
    "cell_id": "00022-42504419-4f78-434e-a231-f9d86b1c4c64",
    "deepnote_cell_height": 52.390625,
    "deepnote_cell_type": "markdown"
   },
   "source": [
    "Take a look at the # of households per buurt. We need this to be able to 'normalize' the installed pV"
   ]
  },
  {
   "cell_type": "code",
   "execution_count": null,
   "metadata": {
    "cell_id": "00023-dbe2ca05-abb3-4e33-8c55-e602acda39bb",
    "deepnote_cell_height": 112.078125,
    "deepnote_cell_type": "code",
    "deepnote_to_be_reexecuted": false,
    "execution_millis": 46,
    "execution_start": 1651255504951,
    "source_hash": "9984dd69"
   },
   "outputs": [],
   "source": [
    "print(\"Huishoudens totaal has: \", (df_kerncijfers['HuishoudensTotaal_28'].isna() == True).sum(), \" empty items.\")"
   ]
  },
  {
   "cell_type": "code",
   "execution_count": null,
   "metadata": {},
   "outputs": [],
   "source": [
    "df_kerncijfers.info()"
   ]
  },
  {
   "cell_type": "markdown",
   "metadata": {
    "cell_id": "00024-76e18de0-2014-4c2b-962b-8cfcdb5377d9",
    "deepnote_cell_height": 70,
    "deepnote_cell_type": "markdown"
   },
   "source": [
    "## Target variable - opgesteld vermogen"
   ]
  },
  {
   "cell_type": "markdown",
   "metadata": {
    "cell_id": "00025-52d4cf5c-5278-4f08-aa91-278dd40cddfa",
    "deepnote_cell_height": 52.390625,
    "deepnote_cell_type": "markdown"
   },
   "source": [
    "Load the data from the Enexis supplied data file."
   ]
  },
  {
   "cell_type": "code",
   "execution_count": null,
   "metadata": {
    "cell_id": "00026-113a7b6d-b44c-4fe3-a6d3-bb6556bb5b7f",
    "deepnote_cell_height": 171,
    "deepnote_cell_type": "code",
    "deepnote_to_be_reexecuted": false,
    "execution_millis": 0,
    "execution_start": 1651255504952,
    "source_hash": "38535bd6"
   },
   "outputs": [],
   "source": [
    "decentral_generation_072020 = '../Data/Enexis_decentrale_opwek_kv_(zon_pv)_01072020.csv'\n",
    "df_decentral_generation = pd.read_csv(decentral_generation_072020,\n",
    "                         sep                = ';',\n",
    "                         decimal            = ',',\n",
    "                         thousands          = '.',\n",
    "                         encoding           = 'unicode_escape')        "
   ]
  },
  {
   "cell_type": "markdown",
   "metadata": {
    "cell_id": "00027-00df8b18-c8da-4ada-8ce1-753efcb4b708",
    "deepnote_cell_height": 52.390625,
    "deepnote_cell_type": "markdown"
   },
   "source": [
    "Remove empty items"
   ]
  },
  {
   "cell_type": "code",
   "execution_count": null,
   "metadata": {
    "cell_id": "00028-8627667f-29e5-4abd-91b3-10b237b567ce",
    "deepnote_cell_height": 99,
    "deepnote_cell_type": "code",
    "deepnote_to_be_reexecuted": false,
    "execution_millis": 6,
    "execution_start": 1651255504953,
    "source_hash": "8ae37612"
   },
   "outputs": [],
   "source": [
    "df_decentral_generation = df_decentral_generation[df_decentral_generation['Opgesteld vermogen'].isna() == False]\n",
    "df_decentral_generation = df_decentral_generation[df_decentral_generation['CBS Buurtcode'].isna() == False]"
   ]
  },
  {
   "cell_type": "markdown",
   "metadata": {
    "cell_id": "00029-fc0acf0c-9617-4869-9810-2b3d7809aa1a",
    "deepnote_cell_height": 70,
    "deepnote_cell_type": "markdown"
   },
   "source": [
    "## Note: the unit of 'opgesteld vermogen' is kW"
   ]
  },
  {
   "cell_type": "code",
   "execution_count": null,
   "metadata": {
    "cell_id": "00030-34038731-cc87-4825-9e80-4b6b93225e12",
    "deepnote_cell_height": 562.1875,
    "deepnote_cell_type": "code",
    "deepnote_output_heights": [
     21.1875,
     359
    ],
    "deepnote_to_be_reexecuted": false,
    "execution_millis": 55,
    "execution_start": 1651255504959,
    "source_hash": "13e1d4e3"
   },
   "outputs": [],
   "source": [
    "cut_off_generation = 3000\n",
    "\n",
    "df_decentral_generation_specified = df_decentral_generation[df_decentral_generation['Opgesteld vermogen'] < cut_off_generation]\n",
    "df_decentral_generation_specified['Opgesteld vermogen'].hist(bins=53, figsize=(8, 6))"
   ]
  },
  {
   "cell_type": "code",
   "execution_count": null,
   "metadata": {
    "cell_id": "00031-335273d4-9d68-45b8-b68a-3e2ccec7ddc9",
    "deepnote_cell_height": 680.96875,
    "deepnote_cell_type": "code",
    "deepnote_to_be_reexecuted": false,
    "execution_millis": 71,
    "execution_start": 1651255505015,
    "source_hash": "935b6fee"
   },
   "outputs": [],
   "source": [
    "print(\"Duplicate buurtcodes: %.0f\" % df_decentral_generation.duplicated(['CBS Buurtcode']).sum())\n",
    "df_decentral_generation.astype({\"CBS Buurtcode\" : int})"
   ]
  },
  {
   "cell_type": "markdown",
   "metadata": {
    "cell_id": "00032-30a06bd1-69d1-404f-9985-e40e9ad408b3",
    "deepnote_cell_height": 52.390625,
    "deepnote_cell_type": "markdown"
   },
   "source": [
    "Check if the deduplication was successfull"
   ]
  },
  {
   "cell_type": "markdown",
   "metadata": {
    "cell_id": "00033-c234eba2-c49b-4f2b-a8bb-bb867a62e24e",
    "deepnote_cell_height": 62,
    "deepnote_cell_type": "markdown"
   },
   "source": [
    "### Combine the demographic data with the generation data"
   ]
  },
  {
   "cell_type": "code",
   "execution_count": null,
   "metadata": {
    "cell_id": "00034-3abd3eb4-1dbf-4f1c-bddf-803f602a0d0e",
    "deepnote_cell_height": 242.25,
    "deepnote_cell_type": "code",
    "deepnote_to_be_reexecuted": false,
    "execution_millis": 22,
    "execution_start": 1651255505078,
    "source_hash": "5dd92077"
   },
   "outputs": [],
   "source": [
    "print(\"Number of rows in 'kerncijfers': %.0f\" % len(df_kerncijfers))\n",
    "print(\"Number of rows in 'generation data': %.0f\" % len(df_decentral_generation))\n",
    "\n",
    "df = pd.merge(df_kerncijfers, df_decentral_generation, on=\"CBS Buurtcode\", validate='one_to_one')\n",
    "print(\"Number of rows in combined data set: %.0f\" % len(df))\n"
   ]
  },
  {
   "cell_type": "markdown",
   "metadata": {
    "cell_id": "00035-4b4b17d3-89ce-4375-b688-b640441e94e9",
    "deepnote_cell_height": 54,
    "deepnote_cell_type": "markdown"
   },
   "source": [
    "#### To do: check why not more rows match on buurt code"
   ]
  },
  {
   "cell_type": "markdown",
   "metadata": {
    "cell_id": "00036-c87769b5-1e0e-437f-97e4-c103e20689c7",
    "deepnote_cell_height": 94,
    "deepnote_cell_type": "markdown"
   },
   "source": [
    "### Introduce a normalized column. normalized_opgesteld_vermogen = opgesteld_vermogen / #households"
   ]
  },
  {
   "cell_type": "code",
   "execution_count": null,
   "metadata": {
    "cell_id": "00037-270af5ba-834e-48c6-ac89-63fdf056d55f",
    "deepnote_cell_height": 81,
    "deepnote_cell_type": "code",
    "deepnote_to_be_reexecuted": false,
    "execution_millis": 6,
    "execution_start": 1651255505094,
    "source_hash": "d941223d"
   },
   "outputs": [],
   "source": [
    "df[\"normalized_opgesteld_vermogen\"] = (df[\"Opgesteld vermogen\"] / df[\"HuishoudensTotaal_28\"])"
   ]
  },
  {
   "cell_type": "code",
   "execution_count": null,
   "metadata": {},
   "outputs": [],
   "source": [
    "df.info()"
   ]
  },
  {
   "cell_type": "code",
   "execution_count": null,
   "metadata": {},
   "outputs": [],
   "source": [
    "df.head()"
   ]
  },
  {
   "cell_type": "markdown",
   "metadata": {},
   "source": [
    "## EDA - impact of demographic features on installed pv capacity"
   ]
  },
  {
   "cell_type": "markdown",
   "metadata": {},
   "source": [
    "Creating the list of features"
   ]
  },
  {
   "cell_type": "code",
   "execution_count": null,
   "metadata": {},
   "outputs": [],
   "source": [
    "metadata = pd.read_csv('../Data/84799NED_Metadata.csv',\n",
    "                         sep                = ';',\n",
    "                         decimal            = ',',\n",
    "                         thousands          = '.',\n",
    "                         encoding           = 'utf-8')  "
   ]
  },
  {
   "cell_type": "code",
   "execution_count": null,
   "metadata": {},
   "outputs": [],
   "source": [
    "metadata.head()"
   ]
  },
  {
   "cell_type": "code",
   "execution_count": null,
   "metadata": {},
   "outputs": [],
   "source": [
    "# features_ext = metadata[metadata['Variable type'] == 'Extensive']['Key'].to_list()"
   ]
  },
  {
   "cell_type": "code",
   "execution_count": null,
   "metadata": {},
   "outputs": [],
   "source": [
    "# let's keep the number of households as is, to take account of the correlation of the size of the buurt with installed PV\n",
    "# features_ext.remove('HuishoudensTotaal_28')"
   ]
  },
  {
   "cell_type": "code",
   "execution_count": null,
   "metadata": {},
   "outputs": [],
   "source": [
    "# features_ext"
   ]
  },
  {
   "cell_type": "code",
   "execution_count": null,
   "metadata": {},
   "outputs": [],
   "source": [
    "# Extensive features converted into intensive by deviding by number of households\n",
    "# for feat in features_ext:\n",
    "    # df[feat] = (df[feat] / df[\"HuishoudensTotaal_28\"])"
   ]
  },
  {
   "cell_type": "code",
   "execution_count": null,
   "metadata": {},
   "outputs": [],
   "source": [
    "features = [\n",
    " 'normalized_opgesteld_vermogen',\n",
    " 'Gemeentenaam_1',\n",
    " 'AantalInwoners_5',\n",
    " 'WestersTotaal_17',\n",
    " 'NietWestersTotaal_18',\n",
    " 'HuishoudensTotaal_28',\n",
    " 'GemiddeldeHuishoudensgrootte_32',\n",
    " 'Bevolkingsdichtheid_33',\n",
    " 'Woningvoorraad_34',\n",
    " #'GemiddeldeWoningwaarde_35',\n",
    " 'PercentageEengezinswoning_36',\n",
    " 'PercentageMeergezinswoning_37',\n",
    " 'PercentageBewoond_38',\n",
    " 'PercentageOnbewoond_39',\n",
    " 'Koopwoningen_40',\n",
    " 'InBezitWoningcorporatie_42',\n",
    " 'InBezitOverigeVerhuurders_43',\n",
    " 'BouwjaarVoor2000_45',\n",
    " 'BouwjaarVanaf2000_46',\n",
    " 'GemiddeldElektriciteitsverbruikTotaal_47',\n",
    " 'GemiddeldAardgasverbruikTotaal_55',\n",
    " 'PercentageWoningenMetStadsverwarming_63',\n",
    " 'OpleidingsniveauLaag_64',\n",
    " 'OpleidingsniveauMiddelbaar_65',\n",
    " 'OpleidingsniveauHoog_66',\n",
    " 'Nettoarbeidsparticipatie_67',\n",
    " 'PercentageWerknemers_68',\n",
    " 'PercentageZelfstandigen_69',\n",
    " 'AantalInkomensontvangers_70',\n",
    " 'GemiddeldInkomenPerInkomensontvanger_71',\n",
    " 'GemiddeldInkomenPerInwoner_72',\n",
    " 'GemGestandaardiseerdInkomenVanHuish_75',\n",
    " 'BedrijfsvestigingenTotaal_91',\n",
    " 'PersonenautoSTotaal_99',\n",
    " 'PersonenautoSPerHuishouden_102',\n",
    " 'PersonenautoSNaarOppervlakte_103',\n",
    " 'Motorfietsen_104',\n",
    " 'AfstandTotHuisartsenpraktijk_105',\n",
    " 'AfstandTotGroteSupermarkt_106',\n",
    " 'AfstandTotSchool_108',\n",
    " 'MeestVoorkomendePostcode_113',\n",
    " 'Dekkingspercentage_114',\n",
    " 'MateVanStedelijkheid_115',\n",
    " 'Omgevingsadressendichtheid_116']"
   ]
  },
  {
   "cell_type": "code",
   "execution_count": null,
   "metadata": {},
   "outputs": [],
   "source": [
    "df = df[features]"
   ]
  },
  {
   "cell_type": "code",
   "execution_count": null,
   "metadata": {},
   "outputs": [],
   "source": [
    "df.info()"
   ]
  },
  {
   "cell_type": "code",
   "execution_count": null,
   "metadata": {},
   "outputs": [],
   "source": [
    "corr_matrix = df.corr().sort_values(by = 'normalized_opgesteld_vermogen', ascending = False).transpose()\n",
    "corr_matrix = corr_matrix.sort_values(by = 'normalized_opgesteld_vermogen', ascending = False)"
   ]
  },
  {
   "cell_type": "code",
   "execution_count": null,
   "metadata": {},
   "outputs": [],
   "source": [
    "plt.figure(figsize = (14,11))\n",
    "sns.heatmap(data = corr_matrix, annot = False, fmt='.2f', cmap = 'RdBu_r', linewidths=.1, square=True, vmax=1, center = 0)"
   ]
  },
  {
   "cell_type": "code",
   "execution_count": null,
   "metadata": {},
   "outputs": [],
   "source": [
    "plt.figure(figsize = (2,15))\n",
    "sns.heatmap(data = corr_matrix[['normalized_opgesteld_vermogen']], \n",
    "            annot = True, fmt='.2f', cmap = 'RdBu_r', linewidths=.1, square=False, vmax=1, center = 0)"
   ]
  },
  {
   "cell_type": "code",
   "execution_count": null,
   "metadata": {},
   "outputs": [],
   "source": [
    "numerics = ['int16', 'int32', 'int64', 'float16', 'float32', 'float64']\n",
    "df_num = df.select_dtypes(include=numerics).drop('HuishoudensTotaal_28', axis = 1)"
   ]
  },
  {
   "cell_type": "code",
   "execution_count": null,
   "metadata": {
    "scrolled": false
   },
   "outputs": [],
   "source": [
    "fig, ax = plt.subplots(10, 4, figsize=(15,37), sharey=True, gridspec_kw={'hspace': 0.3})\n",
    "for i, col in enumerate(df_num.columns):\n",
    "    _ax=ax[i // 4, i % 4]\n",
    "    sns.scatterplot(x=col, y='normalized_opgesteld_vermogen', data=df_num, ax=_ax)"
   ]
  },
  {
   "cell_type": "code",
   "execution_count": null,
   "metadata": {},
   "outputs": [],
   "source": [
    "#df = df_num.copy()"
   ]
  },
  {
   "cell_type": "code",
   "execution_count": null,
   "metadata": {},
   "outputs": [],
   "source": [
    "df.isna().sum()"
   ]
  },
  {
   "cell_type": "code",
   "execution_count": null,
   "metadata": {},
   "outputs": [],
   "source": [
    "#df = df.dropna()"
   ]
  },
  {
   "cell_type": "markdown",
   "metadata": {},
   "source": [
    "Kom pak je lasso maar"
   ]
  },
  {
   "cell_type": "code",
   "execution_count": null,
   "metadata": {},
   "outputs": [],
   "source": [
    "import numpy as np\n",
    "from sklearn.preprocessing import StandardScaler, LabelEncoder\n",
    "from sklearn.pipeline import Pipeline\n",
    "from sklearn.model_selection import train_test_split, GridSearchCV\n",
    "from sklearn.linear_model import Lasso"
   ]
  },
  {
   "cell_type": "code",
   "execution_count": null,
   "metadata": {},
   "outputs": [],
   "source": [
    "pipeline = Pipeline([\n",
    "    ('scaler',StandardScaler()), \n",
    "    ('model',Lasso())])"
   ]
  },
  {
   "cell_type": "code",
   "execution_count": null,
   "metadata": {},
   "outputs": [],
   "source": [
    "search = GridSearchCV(pipeline,\n",
    "                      {'model__alpha':np.arange(0.01,100,0.01)},\n",
    "                      cv = 5, \n",
    "                      scoring=\"neg_mean_squared_error\",\n",
    "                      verbose=3, error_score=\"raise\")"
   ]
  },
  {
   "cell_type": "markdown",
   "metadata": {},
   "source": [
    "See what values cannot be used in the lassoing."
   ]
  },
  {
   "cell_type": "code",
   "execution_count": null,
   "metadata": {},
   "outputs": [],
   "source": [
    "opgesteld_vermogen = 'normalized_opgesteld_vermogen'\n",
    "feature_columns = df.loc[:, df.columns != opgesteld_vermogen]\n",
    "print(len(df.columns))\n",
    "print(len(feature_columns.columns))\n",
    "\n",
    "X_train, X_test, y_train, y_test = train_test_split(feature_columns, df[opgesteld_vermogen], test_size=0.33, random_state=42)\n"
   ]
  },
  {
   "cell_type": "code",
   "execution_count": null,
   "metadata": {},
   "outputs": [],
   "source": [
    "print(\"xtrain:\", X_train.shape, \"ytrain\", y_train.shape, \"xtest:\", X_test.shape, \"ytest:\", y_test.shape)"
   ]
  },
  {
   "cell_type": "code",
   "execution_count": null,
   "metadata": {},
   "outputs": [],
   "source": [
    "search.fit(X_train,y_train)"
   ]
  },
  {
   "cell_type": "code",
   "execution_count": null,
   "metadata": {},
   "outputs": [],
   "source": [
    "search.best_params_"
   ]
  },
  {
   "cell_type": "code",
   "execution_count": null,
   "metadata": {},
   "outputs": [],
   "source": [
    "coefficients = search.best_estimator_.named_steps['model'].coef_"
   ]
  },
  {
   "cell_type": "code",
   "execution_count": null,
   "metadata": {},
   "outputs": [],
   "source": [
    "importance = np.abs(coefficients)\n",
    "importance"
   ]
  },
  {
   "cell_type": "code",
   "execution_count": null,
   "metadata": {},
   "outputs": [],
   "source": [
    "np.array(feature_columns.columns)[importance > 0]"
   ]
  },
  {
   "cell_type": "code",
   "execution_count": null,
   "metadata": {},
   "outputs": [],
   "source": [
    "feature_columns.head()"
   ]
  },
  {
   "cell_type": "markdown",
   "metadata": {
    "cell_id": "00038-361631be-3c61-48f4-b999-b69a4b7395d4",
    "deepnote_cell_height": 70,
    "deepnote_cell_type": "markdown"
   },
   "source": [
    "## Create a first model - linear model (3 features)"
   ]
  },
  {
   "cell_type": "code",
   "execution_count": null,
   "metadata": {
    "cell_id": "00039-0b920453-fb80-45b0-b489-227a121e3c12",
    "deepnote_cell_height": 153,
    "deepnote_cell_type": "code",
    "deepnote_to_be_reexecuted": false,
    "execution_millis": 674,
    "execution_start": 1651255505103,
    "source_hash": "bf3d966"
   },
   "outputs": [],
   "source": [
    "from sklearn.linear_model import LinearRegression\n",
    "from sklearn.metrics import mean_squared_error, r2_score\n",
    "from sklearn.model_selection import train_test_split\n",
    "\n",
    "import altair as alt"
   ]
  },
  {
   "cell_type": "code",
   "execution_count": null,
   "metadata": {
    "cell_id": "00040-3fb8deec-caf6-4ebc-b0f9-e297abefda43",
    "deepnote_cell_height": 454.34375,
    "deepnote_cell_type": "code",
    "deepnote_output_heights": [
     null,
     21.1875
    ],
    "deepnote_to_be_reexecuted": false,
    "execution_millis": 11,
    "execution_start": 1651255505788,
    "source_hash": "635ce6fd"
   },
   "outputs": [],
   "source": [
    "opgesteld_vermogen = 'normalized_opgesteld_vermogen'\n",
    "columns_to_keep = [opgesteld_vermogen, 'GemiddeldInkomenPerInwoner_72', 'GemiddeldeHuishoudensgrootte_32', 'Koopwoningen_40']\n",
    "df1 = df[columns_to_keep]\n",
    "\n",
    "train_set, test_set = train_test_split(df1, test_size=0.2)\n",
    "\n",
    "print(f\"training set size: {len(train_set)}\\ntest set size: {len(test_set)}\")\n",
    "\n",
    "Y_train_set = train_set[opgesteld_vermogen]\n",
    "X_train_set = train_set.drop(opgesteld_vermogen, axis=1).copy()\n",
    "\n",
    "Y_test_set = test_set[opgesteld_vermogen]\n",
    "X_test_set = test_set.drop(opgesteld_vermogen, axis=1).copy()\n",
    "\n",
    "lin_reg = LinearRegression()\n",
    "lin_reg.fit(X_train_set, Y_train_set)"
   ]
  },
  {
   "cell_type": "markdown",
   "metadata": {
    "cell_id": "00041-fac0dec1-4a2f-441f-bb64-a8e5f952bcc1",
    "deepnote_cell_height": 52.390625,
    "deepnote_cell_type": "markdown"
   },
   "source": [
    "Plot the fit with income"
   ]
  },
  {
   "cell_type": "code",
   "execution_count": null,
   "metadata": {
    "cell_id": "00042-0b5f950b-d639-4afb-ac0b-cde4476f9efc",
    "deepnote_cell_height": 764,
    "deepnote_cell_type": "code",
    "deepnote_output_heights": [
     361
    ],
    "deepnote_to_be_reexecuted": false,
    "execution_millis": 43,
    "execution_start": 1651255505801,
    "source_hash": "7c07d515"
   },
   "outputs": [],
   "source": [
    "alt.renderers.enable('default')\n",
    "\n",
    "base = alt.Chart(train_set).mark_circle().encode(\n",
    "    alt.X('GemiddeldInkomenPerInwoner_72',\n",
    "     title='# income'),\n",
    "       alt.Y(opgesteld_vermogen,\n",
    "     title='Opgesteld vermogen')\n",
    ")\n",
    "\n",
    "linear_fit = [\n",
    "    base.transform_regression(\n",
    "        \"GemiddeldInkomenPerInwoner_72\", opgesteld_vermogen, method=\"linear\"\n",
    "    )\n",
    "    .mark_line()   \n",
    "]\n",
    "\n",
    "graph = alt.layer(base, *linear_fit)\n",
    "graph"
   ]
  },
  {
   "cell_type": "markdown",
   "metadata": {
    "cell_id": "00043-62257274-f438-4460-a9c9-bf4fcb03f179",
    "deepnote_cell_height": 54,
    "deepnote_cell_type": "markdown"
   },
   "source": [
    "#### Check the quality of the model"
   ]
  },
  {
   "cell_type": "code",
   "execution_count": null,
   "metadata": {
    "cell_id": "00044-b4cbefcc-61ef-4c56-9937-17063573b7ae",
    "deepnote_cell_height": 316.328125,
    "deepnote_cell_type": "code",
    "deepnote_to_be_reexecuted": false,
    "execution_millis": 5,
    "execution_start": 1651255505846,
    "source_hash": "839a68e2"
   },
   "outputs": [],
   "source": [
    "# Make predictions using the testing set\n",
    "y_pred = lin_reg.predict(X_test_set)\n",
    "\n",
    "# The coefficients\n",
    "print(\"Coefficients: \\n\", lin_reg.coef_)\n",
    "# The mean squared error\n",
    "print(\"Mean squared error: %.3f\" % mean_squared_error(Y_test_set, y_pred))\n",
    "# The coefficient of determination: 1 is perfect prediction\n",
    "print(\"Coefficient of determination: %.2f\" % r2_score(Y_test_set, y_pred))"
   ]
  },
  {
   "cell_type": "code",
   "execution_count": null,
   "metadata": {},
   "outputs": [],
   "source": []
  },
  {
   "cell_type": "markdown",
   "metadata": {},
   "source": [
    "## Linear regression model with standard scaler (all the features)"
   ]
  },
  {
   "cell_type": "code",
   "execution_count": null,
   "metadata": {},
   "outputs": [],
   "source": [
    "from sklearn.pipeline import make_pipeline, Pipeline \n",
    "from sklearn.impute import SimpleImputer\n",
    "from sklearn.preprocessing import MinMaxScaler, StandardScaler, RobustScaler, OneHotEncoder\n",
    "from sklearn.compose import ColumnTransformer\n",
    "from sklearn.linear_model import LassoCV, LinearRegression\n",
    "from sklearn.ensemble import RandomForestRegressor\n",
    "from sklearn.model_selection import train_test_split, cross_validate, GridSearchCV         \n",
    "from sklearn import metrics, set_config\n",
    "set_config(display=\"diagram\")\n",
    "RANDOM_STATE = 42\n",
    "TEST_SIZE = 0.5"
   ]
  },
  {
   "cell_type": "code",
   "execution_count": null,
   "metadata": {},
   "outputs": [],
   "source": [
    "X = df.drop(['normalized_opgesteld_vermogen'], axis = 1)"
   ]
  },
  {
   "cell_type": "code",
   "execution_count": null,
   "metadata": {},
   "outputs": [],
   "source": [
    "y = df['normalized_opgesteld_vermogen']"
   ]
  },
  {
   "cell_type": "code",
   "execution_count": null,
   "metadata": {},
   "outputs": [],
   "source": [
    "from sklearn.model_selection import train_test_split\n",
    "X_train, X_test, y_train, y_test = train_test_split(X, y, test_size=TEST_SIZE, random_state=RANDOM_STATE)"
   ]
  },
  {
   "cell_type": "code",
   "execution_count": null,
   "metadata": {},
   "outputs": [],
   "source": [
    "X_train.shape"
   ]
  },
  {
   "cell_type": "code",
   "execution_count": null,
   "metadata": {},
   "outputs": [],
   "source": [
    "categorical_features = ['Gemeentenaam_1', 'MeestVoorkomendePostcode_113']"
   ]
  },
  {
   "cell_type": "code",
   "execution_count": null,
   "metadata": {},
   "outputs": [],
   "source": [
    "numeric_features = X.columns.tolist()"
   ]
  },
  {
   "cell_type": "code",
   "execution_count": null,
   "metadata": {},
   "outputs": [],
   "source": [
    "numeric_features.remove('Gemeentenaam_1')"
   ]
  },
  {
   "cell_type": "code",
   "execution_count": null,
   "metadata": {},
   "outputs": [],
   "source": [
    "numeric_features.remove('MeestVoorkomendePostcode_113')"
   ]
  },
  {
   "cell_type": "code",
   "execution_count": null,
   "metadata": {},
   "outputs": [],
   "source": [
    "numeric_features"
   ]
  },
  {
   "cell_type": "code",
   "execution_count": null,
   "metadata": {},
   "outputs": [],
   "source": [
    "numerical_transformer = Pipeline(steps=[\n",
    "    ('imputer', SimpleImputer(strategy='median')),\n",
    "    ('scaler', StandardScaler())])"
   ]
  },
  {
   "cell_type": "code",
   "execution_count": null,
   "metadata": {},
   "outputs": [],
   "source": [
    "categorical_transformer = Pipeline(steps=[\n",
    "    ('imputer', SimpleImputer(strategy='constant', fill_value='missing')),\n",
    "    ('onehot', OneHotEncoder(handle_unknown='ignore'))])"
   ]
  },
  {
   "cell_type": "code",
   "execution_count": null,
   "metadata": {},
   "outputs": [],
   "source": [
    "preprocessor = ColumnTransformer(\n",
    "    transformers=[\n",
    "        ('num', numerical_transformer, numeric_features),\n",
    "        ('cat', categorical_transformer, categorical_features)])"
   ]
  },
  {
   "cell_type": "code",
   "execution_count": null,
   "metadata": {},
   "outputs": [],
   "source": [
    "model_LR = Pipeline(steps=[('preprocessor', preprocessor),\n",
    "                      ('estimator', LinearRegression())])"
   ]
  },
  {
   "cell_type": "code",
   "execution_count": null,
   "metadata": {},
   "outputs": [],
   "source": [
    "model_LR.fit(X_train, y_train)"
   ]
  },
  {
   "cell_type": "code",
   "execution_count": null,
   "metadata": {},
   "outputs": [],
   "source": [
    "y_pred = model_LR.predict(X_test)"
   ]
  },
  {
   "cell_type": "code",
   "execution_count": null,
   "metadata": {},
   "outputs": [],
   "source": [
    "r2_score(y_test, y_pred)"
   ]
  },
  {
   "cell_type": "code",
   "execution_count": null,
   "metadata": {},
   "outputs": [],
   "source": []
  },
  {
   "cell_type": "markdown",
   "metadata": {},
   "source": [
    "## Random forest model"
   ]
  },
  {
   "cell_type": "code",
   "execution_count": null,
   "metadata": {},
   "outputs": [],
   "source": [
    "model_RF = Pipeline(steps=[('preprocessor', preprocessor),\n",
    "                      ('estimator', RandomForestRegressor(n_jobs=-1,\n",
    "                                                          random_state=RANDOM_STATE,\n",
    "                                                          min_weight_fraction_leaf=0.005))])"
   ]
  },
  {
   "cell_type": "code",
   "execution_count": null,
   "metadata": {},
   "outputs": [],
   "source": [
    "model_RF.fit(X_train, y_train)"
   ]
  },
  {
   "cell_type": "code",
   "execution_count": null,
   "metadata": {},
   "outputs": [],
   "source": [
    "y_pred = model_RF.predict(X_test)"
   ]
  },
  {
   "cell_type": "code",
   "execution_count": null,
   "metadata": {},
   "outputs": [],
   "source": [
    "r2_score(y_test, y_pred)"
   ]
  },
  {
   "cell_type": "markdown",
   "metadata": {
    "cell_id": "00045-8b8d0e3a-5e65-4818-b1fa-19060eaa4163",
    "deepnote_cell_height": 70,
    "deepnote_cell_type": "markdown"
   },
   "source": [
    "## Create a first model - tree model"
   ]
  },
  {
   "cell_type": "code",
   "execution_count": null,
   "metadata": {
    "cell_id": "00046-ef5713f6-6b92-4b05-b33a-f77fda937cde",
    "deepnote_cell_height": 81,
    "deepnote_cell_type": "code",
    "deepnote_to_be_reexecuted": false,
    "execution_millis": 45,
    "execution_start": 1651255505895,
    "source_hash": "ea8ff8d2"
   },
   "outputs": [],
   "source": [
    "from sklearn.tree import DecisionTreeRegressor"
   ]
  },
  {
   "cell_type": "markdown",
   "metadata": {
    "cell_id": "00047-25cf4c26-ed16-4dad-9c83-aba80aff6465",
    "deepnote_cell_height": 52.390625,
    "deepnote_cell_type": "markdown"
   },
   "source": [
    "Create helper class"
   ]
  },
  {
   "cell_type": "code",
   "execution_count": null,
   "metadata": {
    "cell_id": "00048-cd6acd28-e885-4ca7-9a29-97c00a1196de",
    "deepnote_cell_height": 135,
    "deepnote_cell_type": "code",
    "deepnote_to_be_reexecuted": false,
    "execution_millis": 0,
    "execution_start": 1651255505940,
    "source_hash": "ab67dec7"
   },
   "outputs": [],
   "source": [
    "class Result:\n",
    "  def __init__(self, r_squared, mean_squared_error):\n",
    "    self.r_squared = r_squared\n",
    "    self.mean_squared_error = mean_squared_error"
   ]
  },
  {
   "cell_type": "code",
   "execution_count": null,
   "metadata": {
    "cell_id": "00049-e2c18daa-79a8-4f52-937c-49c1bd59d312",
    "deepnote_cell_height": 243,
    "deepnote_cell_type": "code",
    "deepnote_to_be_reexecuted": false,
    "execution_millis": 42,
    "execution_start": 1651255505941,
    "source_hash": "2498882e"
   },
   "outputs": [],
   "source": [
    "results = {}\n",
    "\n",
    "max_range = 10\n",
    "\n",
    "# Fit regression models\n",
    "for i in range(1, max_range):\n",
    "    r = DecisionTreeRegressor(max_depth=i, random_state=3)\n",
    "    r.fit(X_train_set, Y_train_set)\n",
    "    y_predict = r.predict(X_test_set)\n",
    "    results[i] = Result(r2_score(Y_test_set, y_predict), mean_squared_error(Y_test_set, y_predict)) "
   ]
  },
  {
   "cell_type": "markdown",
   "metadata": {
    "cell_id": "00050-f901f323-f9e6-454f-935c-730ff677f338",
    "deepnote_cell_height": 54,
    "deepnote_cell_type": "markdown"
   },
   "source": [
    "#### Check the quality of the models"
   ]
  },
  {
   "cell_type": "markdown",
   "metadata": {
    "cell_id": "00051-96496b9a-5e5e-4b7c-be68-d48329410539",
    "deepnote_cell_height": 82,
    "deepnote_cell_type": "markdown"
   },
   "source": [
    "# Mark down"
   ]
  },
  {
   "cell_type": "code",
   "execution_count": null,
   "metadata": {
    "cell_id": "00053-f978a2b3-9638-4048-87ed-fa8b20e11760",
    "deepnote_cell_height": 326.75,
    "deepnote_cell_type": "code",
    "deepnote_to_be_reexecuted": false,
    "execution_millis": 43,
    "execution_start": 1651255505985,
    "source_hash": "c7bc289d"
   },
   "outputs": [],
   "source": [
    "for i in range(1,max_range):\n",
    "    print(\"Depth  %2.f\" % i, \":R squared: %.2f\" % results[i].r_squared,\n",
    "    \"-- Mean squared error: %.0f\" % results[i].mean_squared_error)\n"
   ]
  },
  {
   "cell_type": "markdown",
   "metadata": {
    "cell_id": "00054-0fedc0af-266f-4876-b529-11bcd77a3133",
    "deepnote_cell_height": 52.390625,
    "deepnote_cell_type": "markdown"
   },
   "source": [
    "Best performance is at depth = 2 (Not the same over runs &#9785; though)"
   ]
  },
  {
   "cell_type": "code",
   "execution_count": null,
   "metadata": {
    "cell_id": "00055-935a190f-248c-4527-ab58-afc72ce1f766",
    "deepnote_cell_height": 148.078125,
    "deepnote_cell_type": "code",
    "deepnote_to_be_reexecuted": false,
    "execution_millis": 1,
    "execution_start": 1651255506028,
    "source_hash": "a199cda"
   },
   "outputs": [],
   "source": [
    "optimum_depth = 5\n",
    "print(\"Depth  %2.f\" % optimum_depth, \":R squared: %.2f\" % results[optimum_depth].r_squared,\n",
    "    \"-- Mean squared error: %.0f\" % results[optimum_depth].mean_squared_error)"
   ]
  },
  {
   "cell_type": "code",
   "execution_count": null,
   "metadata": {},
   "outputs": [],
   "source": []
  },
  {
   "cell_type": "code",
   "execution_count": null,
   "metadata": {},
   "outputs": [],
   "source": []
  },
  {
   "cell_type": "markdown",
   "metadata": {
    "created_in_deepnote_cell": true,
    "deepnote_cell_type": "markdown",
    "tags": []
   },
   "source": [
    "<a style='text-decoration:none;line-height:16px;display:flex;color:#5B5B62;padding:10px;justify-content:end;' href='https://deepnote.com?utm_source=created-in-deepnote-cell&projectId=d0604020-40e6-4d7d-a2ba-74ef2b385723' target=\"_blank\">\n",
    "<img alt='Created in deepnote.com' style='display:inline;max-height:16px;margin:0px;margin-right:7.5px;' src='data:image/svg+xml;base64,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' > </img>\n",
    "Created in <span style='font-weight:600;margin-left:4px;'>Deepnote</span></a>"
   ]
  }
 ],
 "metadata": {
  "deepnote": {},
  "deepnote_execution_queue": [],
  "deepnote_notebook_id": "12720a04-60d8-4075-b7a2-453c0eaf7919",
  "interpreter": {
   "hash": "4b5eed231ec0c115323e225ce5385d6626cfb048417038261eb3d8b8d0f3984b"
  },
  "kernelspec": {
   "display_name": "Python 3.9.7 ('base')",
   "language": "python",
   "name": "python3"
  },
  "language_info": {
   "codemirror_mode": {
    "name": "ipython",
    "version": 3
   },
   "file_extension": ".py",
   "mimetype": "text/x-python",
   "name": "python",
   "nbconvert_exporter": "python",
   "pygments_lexer": "ipython3",
   "version": "3.9.7"
  }
 },
 "nbformat": 4,
 "nbformat_minor": 2
}
