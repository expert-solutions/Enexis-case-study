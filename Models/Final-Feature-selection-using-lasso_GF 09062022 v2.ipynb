{
 "cells": [
  {
   "cell_type": "markdown",
   "id": "f65a3b57",
   "metadata": {
    "cell_id": "639f15a9-3752-44f3-a862-7b646986c305",
    "deepnote_cell_height": 82,
    "deepnote_cell_type": "markdown"
   },
   "source": [
    "# ENEXIS Graduation Project"
   ]
  },
  {
   "cell_type": "markdown",
   "id": "e4d2ae89",
   "metadata": {
    "cell_id": "00001-5275f279-2330-4b63-8b92-281680ccf4f1",
    "deepnote_cell_height": 94.78125,
    "deepnote_cell_type": "markdown"
   },
   "source": [
    "- Feature selection using lasso\n",
    "- Try different models using these features"
   ]
  },
  {
   "cell_type": "code",
   "execution_count": 1,
   "id": "c55b0d5f",
   "metadata": {
    "cell_id": "00002-a00b347e-23c4-47e0-9a5b-9dac9e9ef35b",
    "deepnote_cell_height": 189,
    "deepnote_cell_type": "code",
    "deepnote_to_be_reexecuted": false,
    "execution_millis": 912,
    "execution_start": 1654516469619,
    "source_hash": "7a4b7550"
   },
   "outputs": [],
   "source": [
    "import pandas as pd\n",
    "import numpy as np\n",
    "import seaborn as sns\n",
    "import matplotlib.pyplot as plt \n",
    "from sklearn.preprocessing import StandardScaler, LabelEncoder\n",
    "from sklearn.impute import SimpleImputer\n",
    "from sklearn.pipeline import Pipeline\n",
    "from sklearn.model_selection import train_test_split, GridSearchCV\n",
    "from sklearn.linear_model import Lasso, LassoCV"
   ]
  },
  {
   "cell_type": "markdown",
   "id": "7f3039a8",
   "metadata": {
    "cell_id": "00003-387bdbd1-8c87-461e-b0d5-a8074c5ea6d9",
    "deepnote_cell_height": 68,
    "deepnote_cell_type": "markdown"
   },
   "source": [
    "<a id='readpv'></a>\n",
    "#### Reading of PV installed capacity & demographics dataset"
   ]
  },
  {
   "cell_type": "code",
   "execution_count": 2,
   "id": "cd1a85d4",
   "metadata": {
    "cell_id": "00004-8d7d6422-cc83-4e3f-852e-369d583de015",
    "deepnote_cell_height": 99,
    "deepnote_cell_type": "code",
    "deepnote_to_be_reexecuted": false,
    "execution_millis": 13,
    "execution_start": 1654516470540,
    "source_hash": "205481a0"
   },
   "outputs": [],
   "source": [
    "c_path = \"../data/\"\n",
    "v_file = \"PV installed capacity & demographics-1006\""
   ]
  },
  {
   "cell_type": "code",
   "execution_count": 3,
   "id": "8aec4460",
   "metadata": {
    "cell_id": "00005-f022d6bf-f1ea-40f8-8d1b-a4295ae0dfcf",
    "deepnote_cell_height": 81,
    "deepnote_cell_type": "code",
    "deepnote_to_be_reexecuted": false,
    "execution_millis": 118,
    "execution_start": 1654516470560,
    "source_hash": "1d8cefb8"
   },
   "outputs": [],
   "source": [
    "df = pd.read_csv(filepath_or_buffer = c_path + v_file + \".csv\", encoding= 'UTF-8')"
   ]
  },
  {
   "cell_type": "code",
   "execution_count": 4,
   "id": "65007bd1",
   "metadata": {
    "scrolled": true
   },
   "outputs": [
    {
     "name": "stdout",
     "output_type": "stream",
     "text": [
      "<class 'pandas.core.frame.DataFrame'>\n",
      "RangeIndex: 10860 entries, 0 to 10859\n",
      "Data columns (total 34 columns):\n",
      " #   Column                                     Non-Null Count  Dtype  \n",
      "---  ------                                     --------------  -----  \n",
      " 0   Year                                       10860 non-null  int64  \n",
      " 1   BU_2021                                    10860 non-null  object \n",
      " 2   BU_NAAM                                    10860 non-null  object \n",
      " 3   WK_2021                                    10860 non-null  object \n",
      " 4   WK_NAAM                                    10860 non-null  object \n",
      " 5   GM_2021                                    10860 non-null  object \n",
      " 6   GM_NAAM                                    10860 non-null  object \n",
      " 7   ProvinciecodePV                            10860 non-null  object \n",
      " 8   Provincienaam                              10860 non-null  object \n",
      " 9   Aantal aansluitingen met opwekinstallatie  10860 non-null  float64\n",
      " 10  Opgesteld vermogen                         10860 non-null  float64\n",
      " 11  MeestVoorkomendePostcode_113               10860 non-null  int64  \n",
      " 12  HuishoudensTotaal_28                       10860 non-null  int64  \n",
      " 13  GemiddeldeHuishoudensgrootte_32            10860 non-null  float64\n",
      " 14  Bevolkingsdichtheid_33                     10860 non-null  float64\n",
      " 15  Woningvoorraad_34                          10860 non-null  int64  \n",
      " 16  GemiddeldeWoningwaarde_35                  10080 non-null  float64\n",
      " 17  PercentageEengezinswoning_36               10855 non-null  float64\n",
      " 18  Koopwoningen_40                            10855 non-null  float64\n",
      " 19  InBezitWoningcorporatie_42                 10855 non-null  float64\n",
      " 20  InBezitOverigeVerhuurders_43               10855 non-null  float64\n",
      " 21  BouwjaarVanaf2000_46                       10855 non-null  float64\n",
      " 22  GemiddeldElektriciteitsverbruikTotaal_47   10855 non-null  float64\n",
      " 23  GemiddeldAardgasverbruikTotaal_55          10797 non-null  float64\n",
      " 24  Gemiddeld_opleidingsniveau                 10595 non-null  float64\n",
      " 25  Percent_inkomensontvangers                 10860 non-null  float64\n",
      " 26  GemiddeldInkomenPerInwoner_72              10688 non-null  float64\n",
      " 27  Bedrijfsvestigingen_per_huishuidens        10860 non-null  float64\n",
      " 28  PersonenautoSPerHuishouden_102             10593 non-null  float64\n",
      " 29  AfstandTotSchool_108                       10855 non-null  float64\n",
      " 30  MateVanStedelijkheid_115                   10860 non-null  float64\n",
      " 31  OV_per_installatie                         10860 non-null  float64\n",
      " 32  Opgesteld_vermogen_per100houshoudens       10860 non-null  float64\n",
      " 33  PVinstallaties_per100houshoudens           10860 non-null  float64\n",
      "dtypes: float64(22), int64(4), object(8)\n",
      "memory usage: 2.8+ MB\n"
     ]
    }
   ],
   "source": [
    "df.info()"
   ]
  },
  {
   "cell_type": "markdown",
   "id": "299be34f",
   "metadata": {
    "cell_id": "00006-ed135c45-639a-448c-8cd3-e8305270c4a9",
    "deepnote_cell_height": 52.390625,
    "deepnote_cell_type": "markdown"
   },
   "source": [
    "Setup the pipeline"
   ]
  },
  {
   "cell_type": "code",
   "execution_count": 5,
   "id": "112ee13e",
   "metadata": {
    "cell_id": "00007-3d150eeb-f60d-43d3-ba58-0ab186e1304f",
    "deepnote_cell_height": 171,
    "deepnote_cell_type": "code",
    "deepnote_to_be_reexecuted": false,
    "execution_millis": 4,
    "execution_start": 1654516470688,
    "source_hash": "ccd7e4ec"
   },
   "outputs": [],
   "source": [
    "imputer = SimpleImputer(missing_values=np.nan, strategy='mean')\n",
    "\n",
    "pipeline_lasso = Pipeline([\n",
    "    ('impute', imputer),\n",
    "    ('scaler',StandardScaler()), \n",
    "    ('model',Lasso())])"
   ]
  },
  {
   "cell_type": "markdown",
   "id": "c93b98f8",
   "metadata": {
    "cell_id": "00008-59ad4fac-0389-4867-8887-cd1c33b30052",
    "deepnote_cell_height": 52.390625,
    "deepnote_cell_type": "markdown"
   },
   "source": [
    "Optimize the model on the alpha hyperparameter in the specified range"
   ]
  },
  {
   "cell_type": "code",
   "execution_count": 6,
   "id": "2fdef606",
   "metadata": {
    "cell_id": "00009-c73911b0-ab7f-4c4e-a6db-d111291ad077",
    "deepnote_cell_height": 153,
    "deepnote_cell_type": "code",
    "deepnote_to_be_reexecuted": false,
    "execution_millis": 9,
    "execution_start": 1654516470700,
    "source_hash": "abb83b06"
   },
   "outputs": [],
   "source": [
    "search = GridSearchCV(pipeline_lasso,\n",
    "                      {'model__alpha':np.arange(0.1,2,0.05)},\n",
    "                      cv = 5, \n",
    "                      scoring=\"neg_mean_squared_error\",\n",
    "                      verbose=2, error_score=\"raise\")"
   ]
  },
  {
   "cell_type": "markdown",
   "id": "a41c448e",
   "metadata": {
    "cell_id": "00010-5bf1fd51-7cdb-487a-a53f-d608d387f1cc",
    "deepnote_cell_height": 52.390625,
    "deepnote_cell_type": "markdown"
   },
   "source": [
    "Use only the 2019 data, since that is the most complete"
   ]
  },
  {
   "cell_type": "code",
   "execution_count": 7,
   "id": "4fed8aff",
   "metadata": {
    "cell_id": "00011-4a6de07d-9da7-4414-a5f9-01491267784c",
    "deepnote_cell_height": 99,
    "deepnote_cell_type": "code",
    "deepnote_to_be_reexecuted": false,
    "execution_millis": 13,
    "execution_start": 1654516470713,
    "source_hash": "23d5dfd5"
   },
   "outputs": [],
   "source": [
    "year = 'Year'\n",
    "df = df[df[year]==2019]"
   ]
  },
  {
   "cell_type": "code",
   "execution_count": 8,
   "id": "831d6116",
   "metadata": {
    "scrolled": true
   },
   "outputs": [
    {
     "name": "stdout",
     "output_type": "stream",
     "text": [
      "<class 'pandas.core.frame.DataFrame'>\n",
      "Int64Index: 1760 entries, 3 to 10857\n",
      "Data columns (total 34 columns):\n",
      " #   Column                                     Non-Null Count  Dtype  \n",
      "---  ------                                     --------------  -----  \n",
      " 0   Year                                       1760 non-null   int64  \n",
      " 1   BU_2021                                    1760 non-null   object \n",
      " 2   BU_NAAM                                    1760 non-null   object \n",
      " 3   WK_2021                                    1760 non-null   object \n",
      " 4   WK_NAAM                                    1760 non-null   object \n",
      " 5   GM_2021                                    1760 non-null   object \n",
      " 6   GM_NAAM                                    1760 non-null   object \n",
      " 7   ProvinciecodePV                            1760 non-null   object \n",
      " 8   Provincienaam                              1760 non-null   object \n",
      " 9   Aantal aansluitingen met opwekinstallatie  1760 non-null   float64\n",
      " 10  Opgesteld vermogen                         1760 non-null   float64\n",
      " 11  MeestVoorkomendePostcode_113               1760 non-null   int64  \n",
      " 12  HuishoudensTotaal_28                       1760 non-null   int64  \n",
      " 13  GemiddeldeHuishoudensgrootte_32            1760 non-null   float64\n",
      " 14  Bevolkingsdichtheid_33                     1760 non-null   float64\n",
      " 15  Woningvoorraad_34                          1760 non-null   int64  \n",
      " 16  GemiddeldeWoningwaarde_35                  1644 non-null   float64\n",
      " 17  PercentageEengezinswoning_36               1760 non-null   float64\n",
      " 18  Koopwoningen_40                            1760 non-null   float64\n",
      " 19  InBezitWoningcorporatie_42                 1760 non-null   float64\n",
      " 20  InBezitOverigeVerhuurders_43               1760 non-null   float64\n",
      " 21  BouwjaarVanaf2000_46                       1760 non-null   float64\n",
      " 22  GemiddeldElektriciteitsverbruikTotaal_47   1760 non-null   float64\n",
      " 23  GemiddeldAardgasverbruikTotaal_55          1750 non-null   float64\n",
      " 24  Gemiddeld_opleidingsniveau                 1721 non-null   float64\n",
      " 25  Percent_inkomensontvangers                 1760 non-null   float64\n",
      " 26  GemiddeldInkomenPerInwoner_72              1741 non-null   float64\n",
      " 27  Bedrijfsvestigingen_per_huishuidens        1760 non-null   float64\n",
      " 28  PersonenautoSPerHuishouden_102             1726 non-null   float64\n",
      " 29  AfstandTotSchool_108                       1760 non-null   float64\n",
      " 30  MateVanStedelijkheid_115                   1760 non-null   float64\n",
      " 31  OV_per_installatie                         1760 non-null   float64\n",
      " 32  Opgesteld_vermogen_per100houshoudens       1760 non-null   float64\n",
      " 33  PVinstallaties_per100houshoudens           1760 non-null   float64\n",
      "dtypes: float64(22), int64(4), object(8)\n",
      "memory usage: 481.2+ KB\n"
     ]
    }
   ],
   "source": [
    "df.info()"
   ]
  },
  {
   "cell_type": "markdown",
   "id": "06972283",
   "metadata": {
    "cell_id": "00012-0d591416-393c-4408-9774-c960cc21df50",
    "deepnote_cell_height": 52.390625,
    "deepnote_cell_type": "markdown"
   },
   "source": [
    "And since only one year has no variance, it can be removed from the data set"
   ]
  },
  {
   "cell_type": "code",
   "execution_count": 9,
   "id": "8c65246c",
   "metadata": {
    "cell_id": "00013-afb6db7b-3239-46ef-b6c9-e00a9f36266d",
    "deepnote_cell_height": 81,
    "deepnote_cell_type": "code",
    "deepnote_to_be_reexecuted": false,
    "execution_millis": 1,
    "execution_start": 1654516470771,
    "source_hash": "a0ec4e6b"
   },
   "outputs": [],
   "source": [
    "df = df.drop(columns=year)"
   ]
  },
  {
   "cell_type": "markdown",
   "id": "f6ae2097",
   "metadata": {
    "cell_id": "00014-b442cefe-32e1-4bd8-ae8a-a70748ba6447",
    "deepnote_cell_height": 52.390625,
    "deepnote_cell_type": "markdown"
   },
   "source": [
    "Further removal of string type columns"
   ]
  },
  {
   "cell_type": "code",
   "execution_count": 10,
   "id": "23e3abb7",
   "metadata": {
    "cell_id": "00015-a592b10f-5de1-48ee-a262-f88a7de3d0ab",
    "deepnote_cell_height": 289.75,
    "deepnote_cell_type": "code",
    "deepnote_to_be_reexecuted": false,
    "execution_millis": 63,
    "execution_start": 1654516470772,
    "source_hash": "f22d2611"
   },
   "outputs": [
    {
     "data": {
      "text/plain": [
       "BU_2021            object\n",
       "BU_NAAM            object\n",
       "WK_2021            object\n",
       "WK_NAAM            object\n",
       "GM_2021            object\n",
       "GM_NAAM            object\n",
       "ProvinciecodePV    object\n",
       "Provincienaam      object\n",
       "dtype: object"
      ]
     },
     "execution_count": 10,
     "metadata": {},
     "output_type": "execute_result"
    }
   ],
   "source": [
    "string_types = df.dtypes[df.dtypes == 'object']\n",
    "string_types"
   ]
  },
  {
   "cell_type": "code",
   "execution_count": 11,
   "id": "d390b812",
   "metadata": {
    "cell_id": "00016-fe005593-eee4-4f44-9950-b7b6f9326578",
    "deepnote_cell_height": 153,
    "deepnote_cell_type": "code",
    "deepnote_to_be_reexecuted": false,
    "execution_millis": 0,
    "execution_start": 1654516470816,
    "source_hash": "6023ac26"
   },
   "outputs": [],
   "source": [
    "string_type_columns = [\n",
    "    'BU_2021','BU_NAAM','WK_2021',\n",
    "    'WK_NAAM','GM_2021','GM_NAAM',\n",
    "    'ProvinciecodePV','Provincienaam']\n",
    "df = df.drop(columns=string_type_columns)"
   ]
  },
  {
   "cell_type": "markdown",
   "id": "760ddea2",
   "metadata": {
    "cell_id": "00017-2d6991f8-904f-4e38-968a-b87e9ab9eff2",
    "deepnote_cell_height": 52.390625,
    "deepnote_cell_type": "markdown"
   },
   "source": [
    "Remove columns that have derived columns"
   ]
  },
  {
   "cell_type": "code",
   "execution_count": 12,
   "id": "045bc8cb",
   "metadata": {
    "cell_id": "00018-5ea67c6f-5b2c-4b01-bd4c-593b0f3639f6",
    "deepnote_cell_height": 153,
    "deepnote_cell_type": "code",
    "deepnote_to_be_reexecuted": false,
    "execution_millis": 0,
    "execution_start": 1654516470817,
    "source_hash": "2cf96d31"
   },
   "outputs": [],
   "source": [
    "redundant_columns = [\n",
    "    'Aantal aansluitingen met opwekinstallatie', \n",
    "    'OV_per_installatie',\n",
    "    'PVinstallaties_per100houshoudens']\n",
    "df = df.drop(columns=redundant_columns)"
   ]
  },
  {
   "cell_type": "code",
   "execution_count": 13,
   "id": "cc527128",
   "metadata": {},
   "outputs": [
    {
     "data": {
      "text/plain": [
       "Index(['Opgesteld vermogen', 'MeestVoorkomendePostcode_113',\n",
       "       'HuishoudensTotaal_28', 'GemiddeldeHuishoudensgrootte_32',\n",
       "       'Bevolkingsdichtheid_33', 'Woningvoorraad_34',\n",
       "       'GemiddeldeWoningwaarde_35', 'PercentageEengezinswoning_36',\n",
       "       'Koopwoningen_40', 'InBezitWoningcorporatie_42',\n",
       "       'InBezitOverigeVerhuurders_43', 'BouwjaarVanaf2000_46',\n",
       "       'GemiddeldElektriciteitsverbruikTotaal_47',\n",
       "       'GemiddeldAardgasverbruikTotaal_55', 'Gemiddeld_opleidingsniveau',\n",
       "       'Percent_inkomensontvangers', 'GemiddeldInkomenPerInwoner_72',\n",
       "       'Bedrijfsvestigingen_per_huishuidens', 'PersonenautoSPerHuishouden_102',\n",
       "       'AfstandTotSchool_108', 'MateVanStedelijkheid_115',\n",
       "       'Opgesteld_vermogen_per100houshoudens'],\n",
       "      dtype='object')"
      ]
     },
     "execution_count": 13,
     "metadata": {},
     "output_type": "execute_result"
    }
   ],
   "source": [
    "df.columns"
   ]
  },
  {
   "cell_type": "code",
   "execution_count": 14,
   "id": "03d44904",
   "metadata": {},
   "outputs": [],
   "source": [
    "#df = df.drop(columns=['GemiddeldElektriciteitsverbruikTotaal_47', 'Woningvoorraad_34', 'Bedrijfsvestigingen_per_huishuidens'])"
   ]
  },
  {
   "cell_type": "code",
   "execution_count": 15,
   "id": "07759f59",
   "metadata": {},
   "outputs": [],
   "source": [
    "corr_matrix = df.corr().sort_values(by = 'Opgesteld_vermogen_per100houshoudens', ascending = False).transpose()\n",
    "corr_matrix = corr_matrix.sort_values(by = 'Opgesteld_vermogen_per100houshoudens', ascending = False)"
   ]
  },
  {
   "cell_type": "code",
   "execution_count": 16,
   "id": "10c7aeb3",
   "metadata": {},
   "outputs": [
    {
     "data": {
      "text/plain": [
       "<AxesSubplot:>"
      ]
     },
     "execution_count": 16,
     "metadata": {},
     "output_type": "execute_result"
    },
    {
     "data": {
      "image/png": "[encoded data removed]",
      "text/plain": [
       "<Figure size 1080x864 with 2 Axes>"
      ]
     },
     "metadata": {
      "needs_background": "light"
     },
     "output_type": "display_data"
    }
   ],
   "source": [
    "plt.figure(figsize = (15,12))\n",
    "sns.heatmap(data = corr_matrix, annot = False, fmt='.2f', cmap = 'RdBu_r', linewidths=.1, square=True, vmax=1, center = 0)"
   ]
  },
  {
   "cell_type": "code",
   "execution_count": 17,
   "id": "b649672f",
   "metadata": {
    "cell_id": "00019-3d4520e3-87aa-46cc-a05b-c1dcd9491918",
    "deepnote_cell_height": 189,
    "deepnote_cell_type": "code",
    "deepnote_to_be_reexecuted": false,
    "execution_millis": 46,
    "execution_start": 1654516470818,
    "source_hash": "b3c3bd51"
   },
   "outputs": [],
   "source": [
    "opgesteld_vermogen = 'Opgesteld_vermogen_per100houshoudens'\n",
    "\n",
    "df_y = df[opgesteld_vermogen]\n",
    "df_features = df.drop(columns=opgesteld_vermogen)\n",
    "df_features = df_features.drop(columns='Opgesteld vermogen')\n",
    "\n",
    "X_train, X_test, y_train, y_test = train_test_split(df_features, df_y, test_size=0.33, random_state=123)"
   ]
  },
  {
   "cell_type": "markdown",
   "id": "6a64b45b",
   "metadata": {
    "cell_id": "00020-9d53eead-2671-452e-88da-482900cb84af",
    "deepnote_cell_height": 52.390625,
    "deepnote_cell_type": "markdown"
   },
   "source": [
    "Do a grid search for the best features"
   ]
  },
  {
   "cell_type": "code",
   "execution_count": 18,
   "id": "c67d78a5",
   "metadata": {
    "cell_id": "00021-17297571-a1c1-4114-8264-04a2a9966e88",
    "deepnote_cell_height": 939.125,
    "deepnote_cell_type": "code",
    "deepnote_to_be_reexecuted": false,
    "execution_millis": 145157,
    "execution_start": 1654516470864,
    "scrolled": true,
    "source_hash": "acb807ca"
   },
   "outputs": [
    {
     "name": "stdout",
     "output_type": "stream",
     "text": [
      "Fitting 5 folds for each of 38 candidates, totalling 190 fits\n",
      "[CV] END ...................................model__alpha=0.1; total time=   0.0s\n",
      "[CV] END ...................................model__alpha=0.1; total time=   0.0s\n",
      "[CV] END ...................................model__alpha=0.1; total time=   0.0s\n",
      "[CV] END ...................................model__alpha=0.1; total time=   0.0s\n",
      "[CV] END ...................................model__alpha=0.1; total time=   0.0s\n",
      "[CV] END ...................model__alpha=0.15000000000000002; total time=   0.0s\n",
      "[CV] END ...................model__alpha=0.15000000000000002; total time=   0.0s\n",
      "[CV] END ...................model__alpha=0.15000000000000002; total time=   0.0s\n",
      "[CV] END ...................model__alpha=0.15000000000000002; total time=   0.0s\n",
      "[CV] END ...................model__alpha=0.15000000000000002; total time=   0.0s\n",
      "[CV] END ...................model__alpha=0.20000000000000004; total time=   0.0s\n",
      "[CV] END ...................model__alpha=0.20000000000000004; total time=   0.0s\n",
      "[CV] END ...................model__alpha=0.20000000000000004; total time=   0.0s\n",
      "[CV] END ...................model__alpha=0.20000000000000004; total time=   0.0s\n",
      "[CV] END ...................model__alpha=0.20000000000000004; total time=   0.0s\n",
      "[CV] END ...................model__alpha=0.25000000000000006; total time=   0.0s\n",
      "[CV] END ...................model__alpha=0.25000000000000006; total time=   0.0s\n",
      "[CV] END ...................model__alpha=0.25000000000000006; total time=   0.0s\n",
      "[CV] END ...................model__alpha=0.25000000000000006; total time=   0.0s\n",
      "[CV] END ...................model__alpha=0.25000000000000006; total time=   0.0s\n",
      "[CV] END ...................model__alpha=0.30000000000000004; total time=   0.0s\n",
      "[CV] END ...................model__alpha=0.30000000000000004; total time=   0.0s\n",
      "[CV] END ...................model__alpha=0.30000000000000004; total time=   0.0s\n",
      "[CV] END ...................model__alpha=0.30000000000000004; total time=   0.0s\n",
      "[CV] END ...................model__alpha=0.30000000000000004; total time=   0.0s\n",
      "[CV] END ....................model__alpha=0.3500000000000001; total time=   0.0s\n",
      "[CV] END ....................model__alpha=0.3500000000000001; total time=   0.0s\n",
      "[CV] END ....................model__alpha=0.3500000000000001; total time=   0.0s\n",
      "[CV] END ....................model__alpha=0.3500000000000001; total time=   0.0s\n",
      "[CV] END ....................model__alpha=0.3500000000000001; total time=   0.0s\n",
      "[CV] END ...................model__alpha=0.40000000000000013; total time=   0.0s\n",
      "[CV] END ...................model__alpha=0.40000000000000013; total time=   0.0s\n",
      "[CV] END ...................model__alpha=0.40000000000000013; total time=   0.0s\n",
      "[CV] END ...................model__alpha=0.40000000000000013; total time=   0.0s\n",
      "[CV] END ...................model__alpha=0.40000000000000013; total time=   0.0s\n",
      "[CV] END ...................model__alpha=0.45000000000000007; total time=   0.0s\n",
      "[CV] END ...................model__alpha=0.45000000000000007; total time=   0.0s\n",
      "[CV] END ...................model__alpha=0.45000000000000007; total time=   0.0s\n",
      "[CV] END ...................model__alpha=0.45000000000000007; total time=   0.0s\n",
      "[CV] END ...................model__alpha=0.45000000000000007; total time=   0.0s\n",
      "[CV] END ....................model__alpha=0.5000000000000001; total time=   0.0s\n",
      "[CV] END ....................model__alpha=0.5000000000000001; total time=   0.0s\n",
      "[CV] END ....................model__alpha=0.5000000000000001; total time=   0.0s\n",
      "[CV] END ....................model__alpha=0.5000000000000001; total time=   0.0s\n",
      "[CV] END ....................model__alpha=0.5000000000000001; total time=   0.0s\n",
      "[CV] END ....................model__alpha=0.5500000000000002; total time=   0.0s\n",
      "[CV] END ....................model__alpha=0.5500000000000002; total time=   0.0s\n",
      "[CV] END ....................model__alpha=0.5500000000000002; total time=   0.0s\n",
      "[CV] END ....................model__alpha=0.5500000000000002; total time=   0.0s\n",
      "[CV] END ....................model__alpha=0.5500000000000002; total time=   0.0s\n",
      "[CV] END ....................model__alpha=0.6000000000000002; total time=   0.0s\n",
      "[CV] END ....................model__alpha=0.6000000000000002; total time=   0.0s\n",
      "[CV] END ....................model__alpha=0.6000000000000002; total time=   0.0s\n",
      "[CV] END ....................model__alpha=0.6000000000000002; total time=   0.0s\n",
      "[CV] END ....................model__alpha=0.6000000000000002; total time=   0.0s\n",
      "[CV] END ....................model__alpha=0.6500000000000001; total time=   0.0s\n",
      "[CV] END ....................model__alpha=0.6500000000000001; total time=   0.0s\n",
      "[CV] END ....................model__alpha=0.6500000000000001; total time=   0.0s\n",
      "[CV] END ....................model__alpha=0.6500000000000001; total time=   0.0s\n",
      "[CV] END ....................model__alpha=0.6500000000000001; total time=   0.0s\n",
      "[CV] END ....................model__alpha=0.7000000000000002; total time=   0.0s\n",
      "[CV] END ....................model__alpha=0.7000000000000002; total time=   0.0s\n",
      "[CV] END ....................model__alpha=0.7000000000000002; total time=   0.0s\n",
      "[CV] END ....................model__alpha=0.7000000000000002; total time=   0.0s\n",
      "[CV] END ....................model__alpha=0.7000000000000002; total time=   0.0s\n",
      "[CV] END ....................model__alpha=0.7500000000000002; total time=   0.0s\n",
      "[CV] END ....................model__alpha=0.7500000000000002; total time=   0.0s\n",
      "[CV] END ....................model__alpha=0.7500000000000002; total time=   0.0s\n",
      "[CV] END ....................model__alpha=0.7500000000000002; total time=   0.0s\n",
      "[CV] END ....................model__alpha=0.7500000000000002; total time=   0.0s\n",
      "[CV] END ....................model__alpha=0.8000000000000002; total time=   0.0s\n",
      "[CV] END ....................model__alpha=0.8000000000000002; total time=   0.0s\n",
      "[CV] END ....................model__alpha=0.8000000000000002; total time=   0.0s\n",
      "[CV] END ....................model__alpha=0.8000000000000002; total time=   0.0s\n",
      "[CV] END ....................model__alpha=0.8000000000000002; total time=   0.0s\n",
      "[CV] END ....................model__alpha=0.8500000000000002; total time=   0.0s\n",
      "[CV] END ....................model__alpha=0.8500000000000002; total time=   0.0s\n",
      "[CV] END ....................model__alpha=0.8500000000000002; total time=   0.0s\n",
      "[CV] END ....................model__alpha=0.8500000000000002; total time=   0.0s\n",
      "[CV] END ....................model__alpha=0.8500000000000002; total time=   0.0s\n",
      "[CV] END ....................model__alpha=0.9000000000000002; total time=   0.0s\n",
      "[CV] END ....................model__alpha=0.9000000000000002; total time=   0.0s\n",
      "[CV] END ....................model__alpha=0.9000000000000002; total time=   0.0s\n",
      "[CV] END ....................model__alpha=0.9000000000000002; total time=   0.0s\n",
      "[CV] END ....................model__alpha=0.9000000000000002; total time=   0.0s\n",
      "[CV] END ....................model__alpha=0.9500000000000003; total time=   0.0s\n",
      "[CV] END ....................model__alpha=0.9500000000000003; total time=   0.0s\n",
      "[CV] END ....................model__alpha=0.9500000000000003; total time=   0.0s\n",
      "[CV] END ....................model__alpha=0.9500000000000003; total time=   0.0s\n",
      "[CV] END ....................model__alpha=0.9500000000000003; total time=   0.0s\n",
      "[CV] END ....................model__alpha=1.0000000000000004; total time=   0.0s\n",
      "[CV] END ....................model__alpha=1.0000000000000004; total time=   0.0s\n",
      "[CV] END ....................model__alpha=1.0000000000000004; total time=   0.0s\n",
      "[CV] END ....................model__alpha=1.0000000000000004; total time=   0.0s\n",
      "[CV] END ....................model__alpha=1.0000000000000004; total time=   0.0s\n",
      "[CV] END ....................model__alpha=1.0500000000000003; total time=   0.0s\n",
      "[CV] END ....................model__alpha=1.0500000000000003; total time=   0.0s\n",
      "[CV] END ....................model__alpha=1.0500000000000003; total time=   0.0s\n",
      "[CV] END ....................model__alpha=1.0500000000000003; total time=   0.0s\n",
      "[CV] END ....................model__alpha=1.0500000000000003; total time=   0.0s\n",
      "[CV] END ....................model__alpha=1.1000000000000005; total time=   0.0s\n",
      "[CV] END ....................model__alpha=1.1000000000000005; total time=   0.0s\n",
      "[CV] END ....................model__alpha=1.1000000000000005; total time=   0.0s\n",
      "[CV] END ....................model__alpha=1.1000000000000005; total time=   0.0s\n",
      "[CV] END ....................model__alpha=1.1000000000000005; total time=   0.0s\n",
      "[CV] END ....................model__alpha=1.1500000000000004; total time=   0.0s\n",
      "[CV] END ....................model__alpha=1.1500000000000004; total time=   0.0s\n",
      "[CV] END ....................model__alpha=1.1500000000000004; total time=   0.0s\n",
      "[CV] END ....................model__alpha=1.1500000000000004; total time=   0.0s\n",
      "[CV] END ....................model__alpha=1.1500000000000004; total time=   0.0s\n",
      "[CV] END ....................model__alpha=1.2000000000000004; total time=   0.0s\n",
      "[CV] END ....................model__alpha=1.2000000000000004; total time=   0.0s\n",
      "[CV] END ....................model__alpha=1.2000000000000004; total time=   0.0s\n",
      "[CV] END ....................model__alpha=1.2000000000000004; total time=   0.0s\n",
      "[CV] END ....................model__alpha=1.2000000000000004; total time=   0.0s\n",
      "[CV] END ....................model__alpha=1.2500000000000004; total time=   0.0s\n",
      "[CV] END ....................model__alpha=1.2500000000000004; total time=   0.0s\n",
      "[CV] END ....................model__alpha=1.2500000000000004; total time=   0.0s\n",
      "[CV] END ....................model__alpha=1.2500000000000004; total time=   0.0s\n",
      "[CV] END ....................model__alpha=1.2500000000000004; total time=   0.0s\n",
      "[CV] END ....................model__alpha=1.3000000000000005; total time=   0.0s\n",
      "[CV] END ....................model__alpha=1.3000000000000005; total time=   0.0s\n",
      "[CV] END ....................model__alpha=1.3000000000000005; total time=   0.0s\n",
      "[CV] END ....................model__alpha=1.3000000000000005; total time=   0.0s\n",
      "[CV] END ....................model__alpha=1.3000000000000005; total time=   0.0s\n",
      "[CV] END ....................model__alpha=1.3500000000000005; total time=   0.0s\n",
      "[CV] END ....................model__alpha=1.3500000000000005; total time=   0.0s\n",
      "[CV] END ....................model__alpha=1.3500000000000005; total time=   0.0s\n",
      "[CV] END ....................model__alpha=1.3500000000000005; total time=   0.0s\n",
      "[CV] END ....................model__alpha=1.3500000000000005; total time=   0.0s\n",
      "[CV] END ....................model__alpha=1.4000000000000006; total time=   0.0s\n",
      "[CV] END ....................model__alpha=1.4000000000000006; total time=   0.0s\n",
      "[CV] END ....................model__alpha=1.4000000000000006; total time=   0.0s\n",
      "[CV] END ....................model__alpha=1.4000000000000006; total time=   0.0s\n",
      "[CV] END ....................model__alpha=1.4000000000000006; total time=   0.0s\n",
      "[CV] END ....................model__alpha=1.4500000000000006; total time=   0.0s\n",
      "[CV] END ....................model__alpha=1.4500000000000006; total time=   0.0s\n",
      "[CV] END ....................model__alpha=1.4500000000000006; total time=   0.0s\n",
      "[CV] END ....................model__alpha=1.4500000000000006; total time=   0.0s\n",
      "[CV] END ....................model__alpha=1.4500000000000006; total time=   0.0s\n",
      "[CV] END ....................model__alpha=1.5000000000000004; total time=   0.0s\n",
      "[CV] END ....................model__alpha=1.5000000000000004; total time=   0.0s\n",
      "[CV] END ....................model__alpha=1.5000000000000004; total time=   0.0s\n",
      "[CV] END ....................model__alpha=1.5000000000000004; total time=   0.0s\n",
      "[CV] END ....................model__alpha=1.5000000000000004; total time=   0.0s\n",
      "[CV] END ....................model__alpha=1.5500000000000005; total time=   0.0s\n",
      "[CV] END ....................model__alpha=1.5500000000000005; total time=   0.0s\n",
      "[CV] END ....................model__alpha=1.5500000000000005; total time=   0.0s\n",
      "[CV] END ....................model__alpha=1.5500000000000005; total time=   0.0s\n",
      "[CV] END ....................model__alpha=1.5500000000000005; total time=   0.0s\n",
      "[CV] END ....................model__alpha=1.6000000000000005; total time=   0.0s\n",
      "[CV] END ....................model__alpha=1.6000000000000005; total time=   0.0s\n",
      "[CV] END ....................model__alpha=1.6000000000000005; total time=   0.0s\n",
      "[CV] END ....................model__alpha=1.6000000000000005; total time=   0.0s\n",
      "[CV] END ....................model__alpha=1.6000000000000005; total time=   0.0s\n",
      "[CV] END ....................model__alpha=1.6500000000000006; total time=   0.0s\n",
      "[CV] END ....................model__alpha=1.6500000000000006; total time=   0.0s\n",
      "[CV] END ....................model__alpha=1.6500000000000006; total time=   0.0s\n",
      "[CV] END ....................model__alpha=1.6500000000000006; total time=   0.0s\n",
      "[CV] END ....................model__alpha=1.6500000000000006; total time=   0.0s\n",
      "[CV] END ....................model__alpha=1.7000000000000006; total time=   0.0s\n",
      "[CV] END ....................model__alpha=1.7000000000000006; total time=   0.0s\n",
      "[CV] END ....................model__alpha=1.7000000000000006; total time=   0.0s\n",
      "[CV] END ....................model__alpha=1.7000000000000006; total time=   0.0s\n",
      "[CV] END ....................model__alpha=1.7000000000000006; total time=   0.0s\n",
      "[CV] END ....................model__alpha=1.7500000000000007; total time=   0.0s\n",
      "[CV] END ....................model__alpha=1.7500000000000007; total time=   0.0s\n",
      "[CV] END ....................model__alpha=1.7500000000000007; total time=   0.0s\n",
      "[CV] END ....................model__alpha=1.7500000000000007; total time=   0.0s\n",
      "[CV] END ....................model__alpha=1.7500000000000007; total time=   0.0s\n",
      "[CV] END ....................model__alpha=1.8000000000000007; total time=   0.0s\n",
      "[CV] END ....................model__alpha=1.8000000000000007; total time=   0.0s\n",
      "[CV] END ....................model__alpha=1.8000000000000007; total time=   0.0s\n",
      "[CV] END ....................model__alpha=1.8000000000000007; total time=   0.0s\n",
      "[CV] END ....................model__alpha=1.8000000000000007; total time=   0.0s\n",
      "[CV] END ....................model__alpha=1.8500000000000008; total time=   0.0s\n",
      "[CV] END ....................model__alpha=1.8500000000000008; total time=   0.0s\n",
      "[CV] END ....................model__alpha=1.8500000000000008; total time=   0.0s\n",
      "[CV] END ....................model__alpha=1.8500000000000008; total time=   0.0s\n",
      "[CV] END ....................model__alpha=1.8500000000000008; total time=   0.0s\n",
      "[CV] END ....................model__alpha=1.9000000000000008; total time=   0.0s\n",
      "[CV] END ....................model__alpha=1.9000000000000008; total time=   0.0s\n",
      "[CV] END ....................model__alpha=1.9000000000000008; total time=   0.0s\n",
      "[CV] END ....................model__alpha=1.9000000000000008; total time=   0.0s\n",
      "[CV] END ....................model__alpha=1.9000000000000008; total time=   0.0s\n",
      "[CV] END ....................model__alpha=1.9500000000000006; total time=   0.0s\n",
      "[CV] END ....................model__alpha=1.9500000000000006; total time=   0.0s\n",
      "[CV] END ....................model__alpha=1.9500000000000006; total time=   0.0s\n",
      "[CV] END ....................model__alpha=1.9500000000000006; total time=   0.0s\n",
      "[CV] END ....................model__alpha=1.9500000000000006; total time=   0.0s\n"
     ]
    },
    {
     "data": {
      "text/plain": [
       "GridSearchCV(cv=5, error_score='raise',\n",
       "             estimator=Pipeline(steps=[('impute', SimpleImputer()),\n",
       "                                       ('scaler', StandardScaler()),\n",
       "                                       ('model', Lasso())]),\n",
       "             param_grid={'model__alpha': array([0.1 , 0.15, 0.2 , 0.25, 0.3 , 0.35, 0.4 , 0.45, 0.5 , 0.55, 0.6 ,\n",
       "       0.65, 0.7 , 0.75, 0.8 , 0.85, 0.9 , 0.95, 1.  , 1.05, 1.1 , 1.15,\n",
       "       1.2 , 1.25, 1.3 , 1.35, 1.4 , 1.45, 1.5 , 1.55, 1.6 , 1.65, 1.7 ,\n",
       "       1.75, 1.8 , 1.85, 1.9 , 1.95])},\n",
       "             scoring='neg_mean_squared_error', verbose=2)"
      ]
     },
     "execution_count": 18,
     "metadata": {},
     "output_type": "execute_result"
    }
   ],
   "source": [
    "search.fit(X_train,y_train)"
   ]
  },
  {
   "cell_type": "markdown",
   "id": "00af1ed6",
   "metadata": {
    "cell_id": "00022-09beb5a0-6455-40f0-8ab5-1bcfbe209f1e",
    "deepnote_cell_height": 52.390625,
    "deepnote_cell_type": "markdown"
   },
   "source": [
    "Check the outcome of the grid search and evaluate the coefficients at the point of the best result"
   ]
  },
  {
   "cell_type": "code",
   "execution_count": 19,
   "id": "3bc50495",
   "metadata": {
    "cell_id": "00023-47aded85-8780-42e8-99d8-e0b2138e0ebb",
    "deepnote_cell_height": 118.1875,
    "deepnote_cell_type": "code",
    "deepnote_output_heights": [
     21.1875
    ],
    "deepnote_to_be_reexecuted": false,
    "execution_millis": 6,
    "execution_start": 1654516616027,
    "source_hash": "2a262666"
   },
   "outputs": [
    {
     "data": {
      "text/plain": [
       "{'model__alpha': 0.40000000000000013}"
      ]
     },
     "execution_count": 19,
     "metadata": {},
     "output_type": "execute_result"
    }
   ],
   "source": [
    "search.best_params_"
   ]
  },
  {
   "cell_type": "code",
   "execution_count": 20,
   "id": "5195bba9",
   "metadata": {
    "cell_id": "00024-38535aa9-c3e2-4993-9b76-d9623ac85f4d",
    "deepnote_cell_height": 81,
    "deepnote_cell_type": "code",
    "deepnote_to_be_reexecuted": false,
    "execution_start": 1654516616047,
    "source_hash": "5deb2267"
   },
   "outputs": [
    {
     "data": {
      "text/plain": [
       "array([  6.1189844 ,  -2.26444354,   6.8988843 ,  -3.07729618,\n",
       "        -0.        , -11.43544101,  -0.        ,   0.55729199,\n",
       "        -0.        ,  -2.15874121,   0.        ,  21.13475755,\n",
       "         8.18407015,   2.59987046,   0.94832775,  -0.        ,\n",
       "        25.50962787,  -5.31647073,   6.06585673,   6.41853484])"
      ]
     },
     "execution_count": 20,
     "metadata": {},
     "output_type": "execute_result"
    }
   ],
   "source": [
    "coefficients = search.best_estimator_.named_steps['model'].coef_\n",
    "coefficients"
   ]
  },
  {
   "cell_type": "markdown",
   "id": "f7d77ce2",
   "metadata": {
    "cell_id": "00025-820c1585-232d-41f9-a342-387c70125f3f",
    "deepnote_cell_height": 52.390625,
    "deepnote_cell_type": "markdown"
   },
   "source": [
    "What coefficients are NOT relevant:"
   ]
  },
  {
   "cell_type": "code",
   "execution_count": 21,
   "id": "b7ebdf77",
   "metadata": {
    "cell_id": "00026-faa1d66c-aaa2-4240-b9b5-1a57e1ec804c",
    "deepnote_cell_height": 156.5625,
    "deepnote_cell_type": "code",
    "deepnote_output_heights": [
     59.578125
    ],
    "deepnote_to_be_reexecuted": false,
    "execution_start": 1654516616060,
    "source_hash": "d71d66f6"
   },
   "outputs": [
    {
     "data": {
      "text/plain": [
       "array(['Woningvoorraad_34', 'PercentageEengezinswoning_36',\n",
       "       'InBezitWoningcorporatie_42', 'BouwjaarVanaf2000_46',\n",
       "       'GemiddeldInkomenPerInwoner_72'], dtype=object)"
      ]
     },
     "execution_count": 21,
     "metadata": {},
     "output_type": "execute_result"
    }
   ],
   "source": [
    "np.array(df_features.columns)[coefficients == 0]"
   ]
  },
  {
   "cell_type": "markdown",
   "id": "29a0ec48",
   "metadata": {
    "cell_id": "00027-9143b520-93e9-4cd8-80e9-e5226334fb5e",
    "deepnote_cell_height": 52.390625,
    "deepnote_cell_type": "markdown"
   },
   "source": [
    "What coefficients are relevant and should be taken into account:"
   ]
  },
  {
   "cell_type": "code",
   "execution_count": 22,
   "id": "7defbc03",
   "metadata": {
    "cell_id": "00028-4abf295a-0666-4158-b9d6-d1b38cf299d0",
    "deepnote_cell_height": 271.75,
    "deepnote_cell_type": "code",
    "deepnote_output_heights": [
     174.75
    ],
    "deepnote_to_be_reexecuted": false,
    "execution_millis": 1,
    "execution_start": 1654516616100,
    "source_hash": "3cb2644"
   },
   "outputs": [
    {
     "data": {
      "text/plain": [
       "array(['MeestVoorkomendePostcode_113', 'HuishoudensTotaal_28',\n",
       "       'GemiddeldeHuishoudensgrootte_32', 'Bevolkingsdichtheid_33',\n",
       "       'GemiddeldeWoningwaarde_35', 'Koopwoningen_40',\n",
       "       'InBezitOverigeVerhuurders_43',\n",
       "       'GemiddeldElektriciteitsverbruikTotaal_47',\n",
       "       'GemiddeldAardgasverbruikTotaal_55', 'Gemiddeld_opleidingsniveau',\n",
       "       'Percent_inkomensontvangers',\n",
       "       'Bedrijfsvestigingen_per_huishuidens',\n",
       "       'PersonenautoSPerHuishouden_102', 'AfstandTotSchool_108',\n",
       "       'MateVanStedelijkheid_115'], dtype=object)"
      ]
     },
     "execution_count": 22,
     "metadata": {},
     "output_type": "execute_result"
    }
   ],
   "source": [
    "np.array(df_features.columns)[coefficients != 0]"
   ]
  },
  {
   "cell_type": "markdown",
   "id": "8f576cce",
   "metadata": {
    "cell_id": "00029-1b64b244-f93d-4eed-a9e3-7a8900730a41",
    "deepnote_cell_height": 52.390625,
    "deepnote_cell_type": "markdown"
   },
   "source": [
    "Use the lasso model with the optimized values"
   ]
  },
  {
   "cell_type": "code",
   "execution_count": 23,
   "id": "8bb5b022",
   "metadata": {
    "cell_id": "00030-3e51dffd-507f-49b6-abc5-7db2aee992e1",
    "deepnote_cell_height": 243,
    "deepnote_cell_type": "code",
    "deepnote_to_be_reexecuted": false,
    "execution_start": 1654516616101,
    "source_hash": "4523e51c"
   },
   "outputs": [],
   "source": [
    "grid_search_selected_features = np.array(df_features.columns)[coefficients != 0]"
   ]
  },
  {
   "cell_type": "markdown",
   "id": "98329ef1",
   "metadata": {
    "cell_id": "00031-0cc4f21b-f02d-454b-a8b5-68f144db9d45",
    "deepnote_cell_height": 70,
    "deepnote_cell_type": "markdown"
   },
   "source": [
    "## Model using: Linear regression"
   ]
  },
  {
   "cell_type": "code",
   "execution_count": 24,
   "id": "cfb4f8eb",
   "metadata": {
    "cell_id": "00032-a1673406-bd54-4ed6-952e-612ce15fd464",
    "deepnote_cell_height": 81,
    "deepnote_cell_type": "code",
    "deepnote_to_be_reexecuted": false,
    "execution_millis": 0,
    "execution_start": 1654516616102,
    "source_hash": "9527aab5"
   },
   "outputs": [],
   "source": [
    "from sklearn.linear_model import LinearRegression"
   ]
  },
  {
   "cell_type": "code",
   "execution_count": 25,
   "id": "c791a4ed",
   "metadata": {},
   "outputs": [],
   "source": [
    "model_lr = LinearRegression()"
   ]
  },
  {
   "cell_type": "code",
   "execution_count": 26,
   "id": "1ccdd335",
   "metadata": {
    "cell_id": "00033-bde3a153-a8c3-4fd1-b939-5f6c69622b89",
    "deepnote_cell_height": 226.1875,
    "deepnote_cell_type": "code",
    "deepnote_output_heights": [
     21.1875
    ],
    "deepnote_to_be_reexecuted": false,
    "execution_millis": 2,
    "execution_start": 1654516616147,
    "source_hash": "58296321"
   },
   "outputs": [
    {
     "data": {
      "text/plain": [
       "0.570475563846488"
      ]
     },
     "execution_count": 26,
     "metadata": {},
     "output_type": "execute_result"
    }
   ],
   "source": [
    "pipeline_linear_regression = Pipeline([\n",
    "    ('impute', imputer),\n",
    "    ('scaler',StandardScaler()), \n",
    "    ('model',model_lr)])\n",
    "\n",
    "pipeline_linear_regression.fit(X_train, y_train)\n",
    "pipeline_linear_regression.score(X_test, y_test)"
   ]
  },
  {
   "cell_type": "code",
   "execution_count": 27,
   "id": "941115bf",
   "metadata": {},
   "outputs": [
    {
     "data": {
      "text/html": [
       "<div>\n",
       "<style scoped>\n",
       "    .dataframe tbody tr th:only-of-type {\n",
       "        vertical-align: middle;\n",
       "    }\n",
       "\n",
       "    .dataframe tbody tr th {\n",
       "        vertical-align: top;\n",
       "    }\n",
       "\n",
       "    .dataframe thead th {\n",
       "        text-align: right;\n",
       "    }\n",
       "</style>\n",
       "<table border=\"1\" class=\"dataframe\">\n",
       "  <thead>\n",
       "    <tr style=\"text-align: right;\">\n",
       "      <th></th>\n",
       "      <th>Coef</th>\n",
       "    </tr>\n",
       "  </thead>\n",
       "  <tbody>\n",
       "    <tr>\n",
       "      <th>GemiddeldeWoningwaarde_35</th>\n",
       "      <td>-13.860765</td>\n",
       "    </tr>\n",
       "    <tr>\n",
       "      <th>PersonenautoSPerHuishouden_102</th>\n",
       "      <td>-8.781537</td>\n",
       "    </tr>\n",
       "    <tr>\n",
       "      <th>HuishoudensTotaal_28</th>\n",
       "      <td>-7.781826</td>\n",
       "    </tr>\n",
       "    <tr>\n",
       "      <th>Bevolkingsdichtheid_33</th>\n",
       "      <td>-3.220857</td>\n",
       "    </tr>\n",
       "    <tr>\n",
       "      <th>PercentageEengezinswoning_36</th>\n",
       "      <td>-1.896768</td>\n",
       "    </tr>\n",
       "    <tr>\n",
       "      <th>GemiddeldInkomenPerInwoner_72</th>\n",
       "      <td>-0.769821</td>\n",
       "    </tr>\n",
       "    <tr>\n",
       "      <th>BouwjaarVanaf2000_46</th>\n",
       "      <td>0.098337</td>\n",
       "    </tr>\n",
       "    <tr>\n",
       "      <th>InBezitOverigeVerhuurders_43</th>\n",
       "      <td>0.548109</td>\n",
       "    </tr>\n",
       "    <tr>\n",
       "      <th>Percent_inkomensontvangers</th>\n",
       "      <td>0.942653</td>\n",
       "    </tr>\n",
       "    <tr>\n",
       "      <th>Gemiddeld_opleidingsniveau</th>\n",
       "      <td>4.137615</td>\n",
       "    </tr>\n",
       "    <tr>\n",
       "      <th>Woningvoorraad_34</th>\n",
       "      <td>5.354630</td>\n",
       "    </tr>\n",
       "    <tr>\n",
       "      <th>MeestVoorkomendePostcode_113</th>\n",
       "      <td>5.687840</td>\n",
       "    </tr>\n",
       "    <tr>\n",
       "      <th>AfstandTotSchool_108</th>\n",
       "      <td>6.173236</td>\n",
       "    </tr>\n",
       "    <tr>\n",
       "      <th>MateVanStedelijkheid_115</th>\n",
       "      <td>7.486654</td>\n",
       "    </tr>\n",
       "    <tr>\n",
       "      <th>GemiddeldeHuishoudensgrootte_32</th>\n",
       "      <td>7.859225</td>\n",
       "    </tr>\n",
       "    <tr>\n",
       "      <th>InBezitWoningcorporatie_42</th>\n",
       "      <td>8.611336</td>\n",
       "    </tr>\n",
       "    <tr>\n",
       "      <th>GemiddeldAardgasverbruikTotaal_55</th>\n",
       "      <td>9.436133</td>\n",
       "    </tr>\n",
       "    <tr>\n",
       "      <th>Koopwoningen_40</th>\n",
       "      <td>11.234983</td>\n",
       "    </tr>\n",
       "    <tr>\n",
       "      <th>GemiddeldElektriciteitsverbruikTotaal_47</th>\n",
       "      <td>22.740318</td>\n",
       "    </tr>\n",
       "    <tr>\n",
       "      <th>Bedrijfsvestigingen_per_huishuidens</th>\n",
       "      <td>26.203435</td>\n",
       "    </tr>\n",
       "  </tbody>\n",
       "</table>\n",
       "</div>"
      ],
      "text/plain": [
       "                                               Coef\n",
       "GemiddeldeWoningwaarde_35                -13.860765\n",
       "PersonenautoSPerHuishouden_102            -8.781537\n",
       "HuishoudensTotaal_28                      -7.781826\n",
       "Bevolkingsdichtheid_33                    -3.220857\n",
       "PercentageEengezinswoning_36              -1.896768\n",
       "GemiddeldInkomenPerInwoner_72             -0.769821\n",
       "BouwjaarVanaf2000_46                       0.098337\n",
       "InBezitOverigeVerhuurders_43               0.548109\n",
       "Percent_inkomensontvangers                 0.942653\n",
       "Gemiddeld_opleidingsniveau                 4.137615\n",
       "Woningvoorraad_34                          5.354630\n",
       "MeestVoorkomendePostcode_113               5.687840\n",
       "AfstandTotSchool_108                       6.173236\n",
       "MateVanStedelijkheid_115                   7.486654\n",
       "GemiddeldeHuishoudensgrootte_32            7.859225\n",
       "InBezitWoningcorporatie_42                 8.611336\n",
       "GemiddeldAardgasverbruikTotaal_55          9.436133\n",
       "Koopwoningen_40                           11.234983\n",
       "GemiddeldElektriciteitsverbruikTotaal_47  22.740318\n",
       "Bedrijfsvestigingen_per_huishuidens       26.203435"
      ]
     },
     "execution_count": 27,
     "metadata": {},
     "output_type": "execute_result"
    }
   ],
   "source": [
    "coefs_LR_surv = pd.DataFrame(data = model_lr.coef_, index=df_features.columns, columns = ['Coef']).sort_values(by = 'Coef')\n",
    "coefs_LR_surv"
   ]
  },
  {
   "cell_type": "code",
   "execution_count": 28,
   "id": "e389e09c",
   "metadata": {
    "scrolled": false
   },
   "outputs": [
    {
     "data": {
      "image/png": "[encoded data removed]",
      "text/plain": [
       "<Figure size 720x432 with 1 Axes>"
      ]
     },
     "metadata": {
      "needs_background": "light"
     },
     "output_type": "display_data"
    }
   ],
   "source": [
    "plt.figure(figsize=(10,6))\n",
    "sns.barplot(data = coefs_LR_surv, x = coefs_LR_surv.index, y = 'Coef', color = 'navy' )\n",
    "plt.xticks(rotation = 90)\n",
    "plt.show()"
   ]
  },
  {
   "cell_type": "markdown",
   "id": "5b4cd68a",
   "metadata": {
    "cell_id": "00034-cd142d0f-e0f7-456e-a347-dfd576c82260",
    "deepnote_cell_height": 70,
    "deepnote_cell_type": "markdown"
   },
   "source": [
    "## Model using: Support Vector machine"
   ]
  },
  {
   "cell_type": "code",
   "execution_count": 29,
   "id": "89339ee9",
   "metadata": {
    "cell_id": "00035-c60078a2-a946-4284-a933-83b0cd41f1ec",
    "deepnote_cell_height": 81,
    "deepnote_cell_type": "code",
    "deepnote_to_be_reexecuted": false,
    "execution_start": 1654516616192,
    "source_hash": "8719ccec"
   },
   "outputs": [],
   "source": [
    "from sklearn.svm import SVR"
   ]
  },
  {
   "cell_type": "code",
   "execution_count": 30,
   "id": "99d28eaf",
   "metadata": {
    "cell_id": "00036-eccf3146-c806-47f2-8b82-b1c91595fc0e",
    "deepnote_cell_height": 81,
    "deepnote_cell_type": "code",
    "deepnote_to_be_reexecuted": false,
    "execution_millis": 0,
    "execution_start": 1654516616193,
    "source_hash": "a5f4a563"
   },
   "outputs": [],
   "source": [
    "svm_regression = SVR(gamma='auto')"
   ]
  },
  {
   "cell_type": "code",
   "execution_count": 31,
   "id": "92037f08",
   "metadata": {
    "cell_id": "00037-d5e1fcc4-96e9-46eb-8073-4c04f1a35756",
    "deepnote_cell_height": 226.1875,
    "deepnote_cell_type": "code",
    "deepnote_output_heights": [
     21.1875
    ],
    "deepnote_to_be_reexecuted": false,
    "execution_millis": 353,
    "execution_start": 1654516616193,
    "source_hash": "7356e17f"
   },
   "outputs": [
    {
     "data": {
      "text/plain": [
       "0.19796553345010348"
      ]
     },
     "execution_count": 31,
     "metadata": {},
     "output_type": "execute_result"
    }
   ],
   "source": [
    "pipeline_svm = Pipeline([\n",
    "    ('impute', imputer),\n",
    "    ('scaler',StandardScaler()), \n",
    "    ('model',svm_regression)])\n",
    "\n",
    "pipeline_svm.fit(X_train, y_train, model__sample_weight=None)\n",
    "pipeline_svm.score(X_test, y_test)"
   ]
  },
  {
   "cell_type": "markdown",
   "id": "247230dd",
   "metadata": {
    "cell_id": "00038-a62d2cac-1e93-4ca9-b7d1-b43cc2bf5fc1",
    "deepnote_cell_height": 110,
    "deepnote_cell_type": "markdown"
   },
   "source": [
    "## Model using: Lasso (the one used for feature selection)"
   ]
  },
  {
   "cell_type": "code",
   "execution_count": 32,
   "id": "2e87f285",
   "metadata": {
    "cell_id": "00039-288c6674-0a2d-4fd4-8d91-55a959b49a5a",
    "deepnote_cell_height": 136.1875,
    "deepnote_cell_type": "code",
    "deepnote_output_heights": [
     21.1875
    ],
    "deepnote_to_be_reexecuted": false,
    "execution_millis": 3,
    "execution_start": 1654516616603,
    "source_hash": "af32c90d"
   },
   "outputs": [
    {
     "data": {
      "text/plain": [
       "0.554440196005545"
      ]
     },
     "execution_count": 32,
     "metadata": {},
     "output_type": "execute_result"
    }
   ],
   "source": [
    "pipeline_lasso.fit(X_train, y_train)\n",
    "pipeline_lasso.score(X_test, y_test)"
   ]
  },
  {
   "cell_type": "markdown",
   "id": "307abb2c",
   "metadata": {},
   "source": [
    "Using LassoCV"
   ]
  },
  {
   "cell_type": "code",
   "execution_count": 33,
   "id": "b6b5c596",
   "metadata": {},
   "outputs": [
    {
     "data": {
      "text/plain": [
       "0.5688779308189549"
      ]
     },
     "execution_count": 33,
     "metadata": {},
     "output_type": "execute_result"
    }
   ],
   "source": [
    "pipeline_lassoCV = Pipeline([\n",
    "    ('impute', imputer),\n",
    "    ('scaler',StandardScaler()), \n",
    "    ('model',LassoCV())])\n",
    "\n",
    "pipeline_lassoCV.fit(X_train, y_train, model__sample_weight=None)\n",
    "pipeline_lassoCV.score(X_test, y_test)"
   ]
  },
  {
   "cell_type": "markdown",
   "id": "949ea29f",
   "metadata": {},
   "source": [
    "## Model using: Gradient Boosting Regressor"
   ]
  },
  {
   "cell_type": "code",
   "execution_count": 34,
   "id": "f5decb2c",
   "metadata": {},
   "outputs": [],
   "source": [
    "from sklearn.ensemble import GradientBoostingRegressor"
   ]
  },
  {
   "cell_type": "code",
   "execution_count": 35,
   "id": "97095c6f",
   "metadata": {},
   "outputs": [],
   "source": [
    "model_gb = GradientBoostingRegressor()"
   ]
  },
  {
   "cell_type": "code",
   "execution_count": 36,
   "id": "59ed7b3b",
   "metadata": {},
   "outputs": [
    {
     "data": {
      "text/plain": [
       "0.5877330470187109"
      ]
     },
     "execution_count": 36,
     "metadata": {},
     "output_type": "execute_result"
    }
   ],
   "source": [
    "pipeline_rf = Pipeline([\n",
    "    ('impute', imputer),\n",
    "    ('scaler',StandardScaler()), \n",
    "    ('model',model_gb)])\n",
    "\n",
    "pipeline_rf.fit(X_train, y_train, model__sample_weight=None)\n",
    "pipeline_rf.score(X_test, y_test)"
   ]
  },
  {
   "cell_type": "code",
   "execution_count": 37,
   "id": "a7f9398b",
   "metadata": {},
   "outputs": [
    {
     "data": {
      "text/plain": [
       "array([0.03776121, 0.04103228, 0.01066458, 0.45618668, 0.02886646,\n",
       "       0.00672865, 0.0107188 , 0.03064316, 0.00596865, 0.00281468,\n",
       "       0.00901669, 0.08211184, 0.01131712, 0.00363044, 0.09722229,\n",
       "       0.0234938 , 0.05522484, 0.07190353, 0.00395762, 0.01073668])"
      ]
     },
     "execution_count": 37,
     "metadata": {},
     "output_type": "execute_result"
    }
   ],
   "source": [
    "model_gb.feature_importances_"
   ]
  },
  {
   "cell_type": "code",
   "execution_count": 38,
   "id": "eb4c0e30",
   "metadata": {},
   "outputs": [
    {
     "data": {
      "text/html": [
       "<div>\n",
       "<style scoped>\n",
       "    .dataframe tbody tr th:only-of-type {\n",
       "        vertical-align: middle;\n",
       "    }\n",
       "\n",
       "    .dataframe tbody tr th {\n",
       "        vertical-align: top;\n",
       "    }\n",
       "\n",
       "    .dataframe thead th {\n",
       "        text-align: right;\n",
       "    }\n",
       "</style>\n",
       "<table border=\"1\" class=\"dataframe\">\n",
       "  <thead>\n",
       "    <tr style=\"text-align: right;\">\n",
       "      <th></th>\n",
       "      <th>Coef</th>\n",
       "    </tr>\n",
       "  </thead>\n",
       "  <tbody>\n",
       "    <tr>\n",
       "      <th>InBezitOverigeVerhuurders_43</th>\n",
       "      <td>0.002815</td>\n",
       "    </tr>\n",
       "    <tr>\n",
       "      <th>Gemiddeld_opleidingsniveau</th>\n",
       "      <td>0.003630</td>\n",
       "    </tr>\n",
       "    <tr>\n",
       "      <th>AfstandTotSchool_108</th>\n",
       "      <td>0.003958</td>\n",
       "    </tr>\n",
       "    <tr>\n",
       "      <th>InBezitWoningcorporatie_42</th>\n",
       "      <td>0.005969</td>\n",
       "    </tr>\n",
       "    <tr>\n",
       "      <th>GemiddeldeWoningwaarde_35</th>\n",
       "      <td>0.006729</td>\n",
       "    </tr>\n",
       "    <tr>\n",
       "      <th>BouwjaarVanaf2000_46</th>\n",
       "      <td>0.009017</td>\n",
       "    </tr>\n",
       "    <tr>\n",
       "      <th>GemiddeldeHuishoudensgrootte_32</th>\n",
       "      <td>0.010665</td>\n",
       "    </tr>\n",
       "    <tr>\n",
       "      <th>PercentageEengezinswoning_36</th>\n",
       "      <td>0.010719</td>\n",
       "    </tr>\n",
       "    <tr>\n",
       "      <th>MateVanStedelijkheid_115</th>\n",
       "      <td>0.010737</td>\n",
       "    </tr>\n",
       "    <tr>\n",
       "      <th>GemiddeldAardgasverbruikTotaal_55</th>\n",
       "      <td>0.011317</td>\n",
       "    </tr>\n",
       "    <tr>\n",
       "      <th>GemiddeldInkomenPerInwoner_72</th>\n",
       "      <td>0.023494</td>\n",
       "    </tr>\n",
       "    <tr>\n",
       "      <th>Woningvoorraad_34</th>\n",
       "      <td>0.028866</td>\n",
       "    </tr>\n",
       "    <tr>\n",
       "      <th>Koopwoningen_40</th>\n",
       "      <td>0.030643</td>\n",
       "    </tr>\n",
       "    <tr>\n",
       "      <th>MeestVoorkomendePostcode_113</th>\n",
       "      <td>0.037761</td>\n",
       "    </tr>\n",
       "    <tr>\n",
       "      <th>HuishoudensTotaal_28</th>\n",
       "      <td>0.041032</td>\n",
       "    </tr>\n",
       "    <tr>\n",
       "      <th>Bedrijfsvestigingen_per_huishuidens</th>\n",
       "      <td>0.055225</td>\n",
       "    </tr>\n",
       "    <tr>\n",
       "      <th>PersonenautoSPerHuishouden_102</th>\n",
       "      <td>0.071904</td>\n",
       "    </tr>\n",
       "    <tr>\n",
       "      <th>GemiddeldElektriciteitsverbruikTotaal_47</th>\n",
       "      <td>0.082112</td>\n",
       "    </tr>\n",
       "    <tr>\n",
       "      <th>Percent_inkomensontvangers</th>\n",
       "      <td>0.097222</td>\n",
       "    </tr>\n",
       "    <tr>\n",
       "      <th>Bevolkingsdichtheid_33</th>\n",
       "      <td>0.456187</td>\n",
       "    </tr>\n",
       "  </tbody>\n",
       "</table>\n",
       "</div>"
      ],
      "text/plain": [
       "                                              Coef\n",
       "InBezitOverigeVerhuurders_43              0.002815\n",
       "Gemiddeld_opleidingsniveau                0.003630\n",
       "AfstandTotSchool_108                      0.003958\n",
       "InBezitWoningcorporatie_42                0.005969\n",
       "GemiddeldeWoningwaarde_35                 0.006729\n",
       "BouwjaarVanaf2000_46                      0.009017\n",
       "GemiddeldeHuishoudensgrootte_32           0.010665\n",
       "PercentageEengezinswoning_36              0.010719\n",
       "MateVanStedelijkheid_115                  0.010737\n",
       "GemiddeldAardgasverbruikTotaal_55         0.011317\n",
       "GemiddeldInkomenPerInwoner_72             0.023494\n",
       "Woningvoorraad_34                         0.028866\n",
       "Koopwoningen_40                           0.030643\n",
       "MeestVoorkomendePostcode_113              0.037761\n",
       "HuishoudensTotaal_28                      0.041032\n",
       "Bedrijfsvestigingen_per_huishuidens       0.055225\n",
       "PersonenautoSPerHuishouden_102            0.071904\n",
       "GemiddeldElektriciteitsverbruikTotaal_47  0.082112\n",
       "Percent_inkomensontvangers                0.097222\n",
       "Bevolkingsdichtheid_33                    0.456187"
      ]
     },
     "execution_count": 38,
     "metadata": {},
     "output_type": "execute_result"
    }
   ],
   "source": [
    "coefs_gb = pd.DataFrame(data = model_gb.feature_importances_, index=df_features.columns, columns = ['Coef']).sort_values(by = 'Coef')\n",
    "coefs_gb"
   ]
  },
  {
   "cell_type": "code",
   "execution_count": 39,
   "id": "31bd3a78",
   "metadata": {},
   "outputs": [
    {
     "data": {
      "image/png": "[encoded data removed]",
      "text/plain": [
       "<Figure size 720x432 with 1 Axes>"
      ]
     },
     "metadata": {
      "needs_background": "light"
     },
     "output_type": "display_data"
    }
   ],
   "source": [
    "plt.figure(figsize=(10,6))\n",
    "sns.barplot(data = coefs_gb, x = coefs_gb.index, y = 'Coef', color = 'navy' )\n",
    "plt.xticks(rotation = 90)\n",
    "plt.show()"
   ]
  },
  {
   "cell_type": "markdown",
   "id": "36903bf8",
   "metadata": {
    "cell_id": "00040-a678ca9e-55a3-49d4-9b6e-43b5d03994bc",
    "deepnote_cell_height": 70,
    "deepnote_cell_type": "markdown"
   },
   "source": [
    "## Model using: Decision tree"
   ]
  },
  {
   "cell_type": "code",
   "execution_count": 40,
   "id": "c6b50846",
   "metadata": {
    "cell_id": "00041-da51ebc1-2cb8-4c5b-a8d1-8c1ba94a390a",
    "deepnote_cell_height": 81,
    "deepnote_cell_type": "code",
    "deepnote_to_be_reexecuted": false,
    "execution_millis": 75,
    "execution_start": 1654516616604,
    "source_hash": "ea8ff8d2"
   },
   "outputs": [],
   "source": [
    "from sklearn.tree import DecisionTreeRegressor"
   ]
  },
  {
   "cell_type": "code",
   "execution_count": 41,
   "id": "627c4141",
   "metadata": {
    "cell_id": "00042-9f800b93-e406-411e-ada4-a5c0819813e3",
    "deepnote_cell_height": 524.75,
    "deepnote_cell_type": "code",
    "deepnote_to_be_reexecuted": false,
    "execution_millis": 168,
    "execution_start": 1654516616737,
    "source_hash": "f7b2b79a"
   },
   "outputs": [
    {
     "name": "stdout",
     "output_type": "stream",
     "text": [
      "Depth   1 :Score: 0.34\n",
      "Depth   2 :Score: 0.48\n",
      "Depth   3 :Score: 0.58\n",
      "Depth   4 :Score: 0.49\n",
      "Depth   5 :Score: 0.48\n",
      "Depth   6 :Score: 0.31\n",
      "Depth   7 :Score: 0.44\n",
      "Depth   8 :Score: 0.44\n",
      "Depth   9 :Score: 0.42\n"
     ]
    }
   ],
   "source": [
    "max_range = 10\n",
    "for i in range(1,max_range):\n",
    "\n",
    "    decision_tree_regressor = DecisionTreeRegressor(max_depth=i)\n",
    "\n",
    "    pipeline_decision_tree = Pipeline([\n",
    "        ('impute', imputer),\n",
    "        ('scaler',StandardScaler()), \n",
    "        ('model', decision_tree_regressor)])\n",
    "\n",
    "    pipeline_decision_tree.fit(X_train, y_train, model__sample_weight=None)\n",
    "    score = pipeline_decision_tree.score(X_test, y_test)\n",
    "\n",
    "    print(\"Depth  %2.f\" % i, \":Score: %.2f\" % score)\n"
   ]
  },
  {
   "cell_type": "markdown",
   "id": "e4b50e48",
   "metadata": {
    "cell_id": "00043-09f6aa07-c6ff-4cf0-9ecd-f3121f51fe62",
    "deepnote_cell_height": 70,
    "deepnote_cell_type": "markdown"
   },
   "source": [
    "## Model using: K nearest neighbours (KNN)"
   ]
  },
  {
   "cell_type": "code",
   "execution_count": 42,
   "id": "f0371799",
   "metadata": {
    "cell_id": "00044-14ed3051-9ffe-4827-8d4e-c99242be6fd3",
    "deepnote_cell_height": 81,
    "deepnote_cell_type": "code",
    "deepnote_to_be_reexecuted": false,
    "execution_millis": 1,
    "execution_start": 1654516616951,
    "source_hash": "314d23a4"
   },
   "outputs": [],
   "source": [
    "from sklearn.neighbors import KNeighborsRegressor"
   ]
  },
  {
   "cell_type": "code",
   "execution_count": 43,
   "id": "8c23bbc9",
   "metadata": {
    "cell_id": "00045-bdbc9ac7-0b81-49e5-aaf4-9ea00cbae403",
    "deepnote_cell_height": 506.75,
    "deepnote_cell_type": "code",
    "deepnote_to_be_reexecuted": false,
    "execution_millis": 413,
    "execution_start": 1654516616952,
    "source_hash": "9fc27650"
   },
   "outputs": [
    {
     "name": "stdout",
     "output_type": "stream",
     "text": [
      "Neighbours   1 :Score: 0.14\n",
      "Neighbours   2 :Score: 0.50\n",
      "Neighbours   3 :Score: 0.56\n",
      "Neighbours   4 :Score: 0.57\n",
      "Neighbours   5 :Score: 0.56\n",
      "Neighbours   6 :Score: 0.56\n",
      "Neighbours   7 :Score: 0.56\n",
      "Neighbours   8 :Score: 0.58\n",
      "Neighbours   9 :Score: 0.59\n",
      "Neighbours  10 :Score: 0.59\n",
      "Neighbours  11 :Score: 0.58\n",
      "Neighbours  12 :Score: 0.58\n",
      "Neighbours  13 :Score: 0.58\n",
      "Neighbours  14 :Score: 0.57\n"
     ]
    }
   ],
   "source": [
    "max_range = 15\n",
    "for i in range(1,max_range):\n",
    "\n",
    "    nearest_neighbour_regressor = KNeighborsRegressor(n_neighbors=i)\n",
    "\n",
    "    pipeline_nearest_neighbour = Pipeline([\n",
    "        ('impute', imputer),\n",
    "        ('scaler',StandardScaler()), \n",
    "        ('model', nearest_neighbour_regressor)])\n",
    "\n",
    "    pipeline_nearest_neighbour.fit(X_train, y_train)\n",
    "    score = pipeline_nearest_neighbour.score(X_test, y_test)\n",
    "\n",
    "    print(\"Neighbours  %2.f\" % i, \":Score: %.2f\" % score)"
   ]
  },
  {
   "cell_type": "markdown",
   "id": "b788967c",
   "metadata": {},
   "source": [
    "## Model using: Random Forest"
   ]
  },
  {
   "cell_type": "code",
   "execution_count": 44,
   "id": "a11000c7",
   "metadata": {},
   "outputs": [],
   "source": [
    "from sklearn.ensemble import RandomForestRegressor"
   ]
  },
  {
   "cell_type": "code",
   "execution_count": 45,
   "id": "0f619f06",
   "metadata": {},
   "outputs": [
    {
     "data": {
      "text/plain": [
       "0.6116430678616986"
      ]
     },
     "execution_count": 45,
     "metadata": {},
     "output_type": "execute_result"
    }
   ],
   "source": [
    "pipeline_rf = Pipeline([\n",
    "    ('impute', imputer),\n",
    "    ('scaler',StandardScaler()), \n",
    "    ('model',RandomForestRegressor())])\n",
    "\n",
    "pipeline_rf.fit(X_train, y_train, model__sample_weight=None)\n",
    "pipeline_rf.score(X_test, y_test)"
   ]
  },
  {
   "cell_type": "markdown",
   "id": "65878d4f",
   "metadata": {
    "cell_id": "41d2212a55d9430a8a33d85917e76eb8",
    "deepnote_cell_height": 482.375,
    "deepnote_cell_type": "markdown",
    "owner_user_id": "3a407f58-94ec-4c0a-b0a5-c938869484b1",
    "tags": []
   },
   "source": [
    "## Conclusion\n",
    "\n",
    "The best models for the data and the selected features are:\n",
    "- linear model\n",
    "- lasso model\n",
    "- KNN model (6 or 7 neighbours)\n",
    "\n",
    "The decision tree and SVM model are not as good as the above mentioned ones.\n",
    "\n",
    "The highest score is 0,43 for the linear model."
   ]
  },
  {
   "cell_type": "markdown",
   "id": "47086fee",
   "metadata": {
    "created_in_deepnote_cell": true,
    "deepnote_cell_type": "markdown",
    "tags": []
   },
   "source": [
    "<a style='text-decoration:none;line-height:16px;display:flex;color:#5B5B62;padding:10px;justify-content:end;' href='https://deepnote.com?utm_source=created-in-deepnote-cell&projectId=d0604020-40e6-4d7d-a2ba-74ef2b385723' target=\"_blank\">\n",
    "<img alt='Created in deepnote.com' style='display:inline;max-height:16px;margin:0px;margin-right:7.5px;' src='data:image/svg+xml;base64,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' > </img>\n",
    "Created in <span style='font-weight:600;margin-left:4px;'>Deepnote</span></a>"
   ]
  },
  {
   "cell_type": "markdown",
   "id": "644fe807",
   "metadata": {},
   "source": [
    "Best scenario"
   ]
  },
  {
   "cell_type": "code",
   "execution_count": null,
   "id": "f13ade67",
   "metadata": {},
   "outputs": [],
   "source": []
  },
  {
   "cell_type": "code",
   "execution_count": null,
   "metadata": {},
   "outputs": [],
   "source": []
  }
 ],
 "metadata": {
  "deepnote": {},
  "deepnote_execution_queue": [],
  "deepnote_notebook_id": "2299b636-c929-4337-8add-d2e5647a7991",
  "interpreter": {
   "hash": "4b5eed231ec0c115323e225ce5385d6626cfb048417038261eb3d8b8d0f3984b"
  },
  "kernelspec": {
   "display_name": "Python 3",
   "language": "python",
   "name": "python3"
  },
  "language_info": {
   "codemirror_mode": {
    "name": "ipython",
    "version": 3
   },
   "file_extension": ".py",
   "mimetype": "text/x-python",
   "name": "python",
   "nbconvert_exporter": "python",
   "pygments_lexer": "ipython3",
   "version": "3.9.7"
  }
 },
 "nbformat": 4,
 "nbformat_minor": 5
}
