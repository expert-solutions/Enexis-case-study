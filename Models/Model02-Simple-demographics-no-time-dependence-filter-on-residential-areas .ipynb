{
 "cells": [
  {
   "cell_type": "markdown",
   "metadata": {},
   "source": [
    "### Basic model:\n",
    "Features: Income, Household composition, Property type\n",
    "Predict installed pV per household (aggregation level: buurt, no time dependency) "
   ]
  },
  {
   "cell_type": "markdown",
   "metadata": {},
   "source": [
    "Income: CBS data '84799NED' (Kerncijfers wijken en buurten 2020)"
   ]
  },
  {
   "cell_type": "markdown",
   "metadata": {},
   "source": []
  },
  {
   "cell_type": "code",
   "execution_count": null,
   "metadata": {},
   "outputs": [],
   "source": [
    "# pip install cbsodata"
   ]
  },
  {
   "cell_type": "code",
   "execution_count": null,
   "metadata": {},
   "outputs": [],
   "source": [
    "import cbsodata\n",
    "import pandas as pd\n",
    "import seaborn as sns\n",
    "import matplotlib.pyplot as plt\n",
    "from pathlib import Path\n",
    "import os.path"
   ]
  },
  {
   "cell_type": "code",
   "execution_count": null,
   "metadata": {},
   "outputs": [],
   "source": [
    "#Read in (Kerncijfers wijken en buurten 2020\n",
    "kerncijfers_2020 = '84799NED'\n",
    "path_kerncijfers_2020 = Path('../Data/CBS/84799NED.csv')\n",
    "if(os.path.exists(path_kerncijfers_2020) == False):\n",
    "    print(\"File does not exist. Downloading from CBS....\")\n",
    "    df_temp = pd.DataFrame(cbsodata.get_data(kerncijfers_2020))\n",
    "    print(\"File downloaded.\")\n",
    "    df_temp.to_csv(path_or_buf=path_kerncijfers_2020)\n",
    "    print(\"File stored on local file stystem.\")\n",
    "    \n",
    "df_kerncijfers = pd.read_csv(path_kerncijfers_2020)\n",
    "df_kerncijfers.info()"
   ]
  },
  {
   "cell_type": "markdown",
   "metadata": {},
   "source": [
    "Remove unusable items"
   ]
  },
  {
   "cell_type": "code",
   "execution_count": null,
   "metadata": {},
   "outputs": [],
   "source": [
    "df_kerncijfers = df_kerncijfers[df_kerncijfers['Codering_3'].isna() == False]"
   ]
  },
  {
   "cell_type": "markdown",
   "metadata": {},
   "source": [
    "Keep only the data on Buurt level"
   ]
  },
  {
   "cell_type": "code",
   "execution_count": null,
   "metadata": {},
   "outputs": [],
   "source": [
    "#remove whitespaces from beginning and end of string column labels\n",
    "df_kerncijfers = df_kerncijfers.apply(lambda x: x.str.strip() if x.dtype == \"object\" else x)\n",
    "\n",
    "is_buurt = df_kerncijfers['SoortRegio_2']=='Buurt'\n",
    "df_kerncijfers = df_kerncijfers[is_buurt]\n",
    "\n",
    "df_kerncijfers.info()\n"
   ]
  },
  {
   "cell_type": "markdown",
   "metadata": {},
   "source": [
    "Filter out the non residential areas"
   ]
  },
  {
   "cell_type": "code",
   "execution_count": null,
   "metadata": {},
   "outputs": [],
   "source": [
    "df_kerncijfers['WijkenEnBuurten_lower_case'] = df_kerncijfers['WijkenEnBuurten'].str.lower()\n",
    "df_kerncijfers['Is_non_residential'] = (df_kerncijfers['WijkenEnBuurten_lower_case'].str.contains('bedrijventerrein') |\n",
    "    df_kerncijfers['WijkenEnBuurten_lower_case'].str.contains('bedrijvengebied') |\n",
    "    df_kerncijfers['WijkenEnBuurten_lower_case'].str.contains('landelijk') |\n",
    "    df_kerncijfers['WijkenEnBuurten_lower_case'].str.contains('kantoren') |\n",
    "    df_kerncijfers['WijkenEnBuurten_lower_case'].str.contains('industrieterrein') |\n",
    "    df_kerncijfers['WijkenEnBuurten_lower_case'].str.contains('industriegebied'))\n",
    "\n",
    "# df_kerncijfers[df_kerncijfers['Is_non_residential']==True].sum()\n",
    "\n",
    "df_kerncijfers = df_kerncijfers[df_kerncijfers['Is_non_residential'] == False]\n",
    "df_kerncijfers.info()"
   ]
  },
  {
   "cell_type": "markdown",
   "metadata": {},
   "source": [
    "### Feature #1 - Income"
   ]
  },
  {
   "cell_type": "markdown",
   "metadata": {},
   "source": [
    "Take a look at the number of buurten where the incomes are unknown"
   ]
  },
  {
   "cell_type": "code",
   "execution_count": null,
   "metadata": {},
   "outputs": [],
   "source": [
    "# dab = df_kerncijfers[df_kerncijfers['GemiddeldInkomenPerInwoner_72'].isna()]\n",
    "# dab.info()\n",
    "\n",
    "# dab[['WijkenEnBuurten', 'GemiddeldInkomenPerInwoner_72' ]].head()\n",
    "df_kerncijfers[df_kerncijfers['GemiddeldInkomenPerInwoner_72'].isna()].sum()"
   ]
  },
  {
   "cell_type": "code",
   "execution_count": null,
   "metadata": {},
   "outputs": [],
   "source": [
    "total_no_income = df_kerncijfers['GemiddeldInkomenPerInwoner_72'].isna().sum()\n",
    "fraction_unfilled_incomes = total_no_income / len(df_kerncijfers.index)  * 100\n",
    "\n",
    "print(\"Income not specified in: %.0f\" % fraction_unfilled_incomes, \"% of the buurten. Removing these entries.\")"
   ]
  },
  {
   "cell_type": "markdown",
   "metadata": {},
   "source": [
    "## 85% of the data points are not useable because not income is specified"
   ]
  },
  {
   "cell_type": "code",
   "execution_count": null,
   "metadata": {},
   "outputs": [],
   "source": [
    "cutoff_income = 60\n",
    "df_kerncijfers = df_kerncijfers[(df_kerncijfers['GemiddeldInkomenPerInwoner_72'].isna() == False)]\n",
    "\n",
    "\n",
    "df_income_specified = df_kerncijfers[df_kerncijfers['GemiddeldInkomenPerInwoner_72'] < cutoff_income]\n",
    "df_income_specified['GemiddeldInkomenPerInwoner_72'].hist(bins=54, figsize=(8, 6))\n",
    "\n",
    "df_kerncijfers.info()"
   ]
  },
  {
   "cell_type": "markdown",
   "metadata": {},
   "source": [
    "### Feature #2 - Household composition"
   ]
  },
  {
   "cell_type": "code",
   "execution_count": null,
   "metadata": {},
   "outputs": [],
   "source": [
    "fraction_unfilled_huishoudensgroottes = df_kerncijfers['GemiddeldeHuishoudensgrootte_32'].isna().sum()/ df_kerncijfers['GemiddeldeHuishoudensgrootte_32'].sum() *100\n",
    "\n",
    "print(\"Average size of household not specified in: %.0f\" % fraction_unfilled_huishoudensgroottes, \"% of the buurten. Removing these entries.\")"
   ]
  },
  {
   "cell_type": "code",
   "execution_count": null,
   "metadata": {},
   "outputs": [],
   "source": [
    "cut_off_household_size = 5\n",
    "df_kerncijfers = df_kerncijfers[df_kerncijfers['GemiddeldeHuishoudensgrootte_32'].isna() == False]\n",
    "\n",
    "df_average_household_size_specified = df_kerncijfers[df_kerncijfers['GemiddeldeHuishoudensgrootte_32']<cut_off_household_size]\n",
    "df_average_household_size_specified['GemiddeldeHuishoudensgrootte_32'].hist(bins=140, figsize=(8, 6))\n",
    "\n",
    "df_kerncijfers.info()"
   ]
  },
  {
   "cell_type": "markdown",
   "metadata": {},
   "source": [
    "### Feature #3 - Percentage owned property (koopwoningen)"
   ]
  },
  {
   "cell_type": "code",
   "execution_count": null,
   "metadata": {},
   "outputs": [],
   "source": [
    "fraction_unfilled_owned_property_percentage = df_kerncijfers['Koopwoningen_40'].isna().sum()/ df_kerncijfers['Koopwoningen_40'].sum() *100\n",
    "\n",
    "print(\"Average percentage of owned properties not specified in: %.0f\" % fraction_unfilled_owned_property_percentage, \"% of the buurten.\")\n"
   ]
  },
  {
   "cell_type": "markdown",
   "metadata": {},
   "source": [
    "Remove the 'BU' from the buurtcode and rename the column name so we can combine the datasets later"
   ]
  },
  {
   "cell_type": "code",
   "execution_count": null,
   "metadata": {},
   "outputs": [],
   "source": [
    "has_buurtcode_starting_with_BU = df_kerncijfers['Codering_3'].str.find('BU') == 0\n",
    "buurtcodes_without_leading_BU = df_kerncijfers[has_buurtcode_starting_with_BU == False]\n",
    "print(\"Number of buurten that don't start with 'BU': \", len(buurtcodes_without_leading_BU))\n",
    "\n",
    "df_kerncijfers['CBS Buurtcode'] = pd.to_numeric(df_kerncijfers['Codering_3'].apply(lambda s:s.replace(\"BU\",\"\")))\n",
    "\n",
    "df_kerncijfers.info()"
   ]
  },
  {
   "cell_type": "code",
   "execution_count": null,
   "metadata": {},
   "outputs": [],
   "source": [
    "print(\"Duplicate buurtcodes: %.0f\" % df_kerncijfers.duplicated(['CBS Buurtcode']).sum())\n",
    "df_kerncijfers.astype({\"CBS Buurtcode\" : int})\n",
    "df_kerncijfers.head()"
   ]
  },
  {
   "cell_type": "markdown",
   "metadata": {},
   "source": [
    "Take a look at the # of households per buurt. We need this to be able to 'normalize' the installed pV"
   ]
  },
  {
   "cell_type": "code",
   "execution_count": null,
   "metadata": {},
   "outputs": [],
   "source": [
    "print(\"Huishoudens totaal has: \", (df_kerncijfers['HuishoudensTotaal_28'].isna() == True).sum(), \" empty items.\")"
   ]
  },
  {
   "cell_type": "markdown",
   "metadata": {},
   "source": [
    "## Target variable - opgesteld vermogen"
   ]
  },
  {
   "cell_type": "markdown",
   "metadata": {},
   "source": [
    "Load the data from the Enexis supplied data file."
   ]
  },
  {
   "cell_type": "code",
   "execution_count": null,
   "metadata": {},
   "outputs": [],
   "source": [
    "decentral_generation_072020 = '../Data/Enexis_decentrale_opwek_kv_(zon_pv)_01072020.csv'\n",
    "df_decentral_generation = pd.read_csv(decentral_generation_072020,\n",
    "                         sep                = ';',\n",
    "                         decimal            = ',',\n",
    "                         thousands          = '.',\n",
    "                         encoding           = 'unicode_escape')\n",
    "df_decentral_generation.info()"
   ]
  },
  {
   "cell_type": "markdown",
   "metadata": {},
   "source": [
    "Remove empty items"
   ]
  },
  {
   "cell_type": "code",
   "execution_count": null,
   "metadata": {},
   "outputs": [],
   "source": [
    "df_decentral_generation = df_decentral_generation[df_decentral_generation['Opgesteld vermogen'].isna() == False]\n",
    "df_decentral_generation = df_decentral_generation[df_decentral_generation['CBS Buurtcode'].isna() == False]"
   ]
  },
  {
   "cell_type": "markdown",
   "metadata": {},
   "source": [
    "## Note: the unit of 'opgesteld vermogen' is kW"
   ]
  },
  {
   "cell_type": "code",
   "execution_count": null,
   "metadata": {},
   "outputs": [],
   "source": [
    "cut_off_generation = 3000\n",
    "\n",
    "df_decentral_generation_specified = df_decentral_generation[df_decentral_generation['Opgesteld vermogen'] < cut_off_generation]\n",
    "df_decentral_generation_specified['Opgesteld vermogen'].hist(bins=53, figsize=(8, 6))"
   ]
  },
  {
   "cell_type": "code",
   "execution_count": null,
   "metadata": {},
   "outputs": [],
   "source": [
    "print(\"Duplicate buurtcodes: %.0f\" % df_decentral_generation.duplicated(['CBS Buurtcode']).sum())\n",
    "df_decentral_generation.astype({\"CBS Buurtcode\" : int})"
   ]
  },
  {
   "cell_type": "markdown",
   "metadata": {},
   "source": [
    "Check if the deduplication was successfull"
   ]
  },
  {
   "cell_type": "markdown",
   "metadata": {},
   "source": [
    "### Combine the demographic data with the generation data"
   ]
  },
  {
   "cell_type": "code",
   "execution_count": null,
   "metadata": {},
   "outputs": [],
   "source": [
    "print(\"Number of rows in 'kerncijfers': %.0f\" % len(df_kerncijfers))\n",
    "print(\"Number of rows in 'generation data': %.0f\" % len(df_decentral_generation))\n",
    "\n",
    "df = pd.merge(df_kerncijfers, df_decentral_generation, on=\"CBS Buurtcode\", validate='one_to_one')\n",
    "print(\"Number of rows in combined data set: %.0f\" % len(df))\n"
   ]
  },
  {
   "cell_type": "markdown",
   "metadata": {},
   "source": [
    "#### To do: check why not more rows match on buurt code"
   ]
  },
  {
   "cell_type": "markdown",
   "metadata": {},
   "source": [
    "### Introduce a normalized column. normalized_opgesteld_vermogen = opgesteld_vermogen / #households"
   ]
  },
  {
   "cell_type": "code",
   "execution_count": null,
   "metadata": {},
   "outputs": [],
   "source": [
    "df[\"normalized_opgesteld_vermogen\"] = (df[\"Opgesteld vermogen\"] / df[\"HuishoudensTotaal_28\"])"
   ]
  },
  {
   "cell_type": "markdown",
   "metadata": {},
   "source": [
    "## Create a first model - linear model"
   ]
  },
  {
   "cell_type": "code",
   "execution_count": null,
   "metadata": {},
   "outputs": [],
   "source": [
    "from sklearn.linear_model import LinearRegression\n",
    "from sklearn.metrics import mean_squared_error, r2_score\n",
    "from sklearn.model_selection import train_test_split\n",
    "\n",
    "import altair as alt"
   ]
  },
  {
   "cell_type": "code",
   "execution_count": null,
   "metadata": {},
   "outputs": [],
   "source": [
    "opgesteld_vermogen = 'normalized_opgesteld_vermogen'\n",
    "columns_to_keep = [opgesteld_vermogen, 'GemiddeldInkomenPerInwoner_72', 'GemiddeldeHuishoudensgrootte_32', 'Koopwoningen_40']\n",
    "df = df[columns_to_keep]\n",
    "\n",
    "train_set, test_set = train_test_split(df, test_size=0.2)\n",
    "\n",
    "print(f\"training set size: {len(train_set)}\\ntest set size: {len(test_set)}\")\n",
    "\n",
    "Y_train_set = train_set[opgesteld_vermogen]\n",
    "X_train_set = train_set.drop(opgesteld_vermogen, axis=1).copy()\n",
    "\n",
    "Y_test_set = test_set[opgesteld_vermogen]\n",
    "X_test_set = test_set.drop(opgesteld_vermogen, axis=1).copy()\n",
    "\n",
    "lin_reg = LinearRegression()\n",
    "lin_reg.fit(X_train_set, Y_train_set)"
   ]
  },
  {
   "cell_type": "markdown",
   "metadata": {},
   "source": [
    "Plot the fit with income"
   ]
  },
  {
   "cell_type": "code",
   "execution_count": null,
   "metadata": {},
   "outputs": [],
   "source": [
    "alt.renderers.enable('default')\n",
    "\n",
    "base = alt.Chart(train_set).mark_circle().encode(\n",
    "    alt.X('GemiddeldInkomenPerInwoner_72',\n",
    "     title='# income'),\n",
    "       alt.Y(opgesteld_vermogen,\n",
    "     title='Opgesteld vermogen')\n",
    ")\n",
    "\n",
    "linear_fit = [\n",
    "    base.transform_regression(\n",
    "        \"GemiddeldInkomenPerInwoner_72\", opgesteld_vermogen, method=\"linear\"\n",
    "    )\n",
    "    .mark_line()   \n",
    "]\n",
    "\n",
    "graph = alt.layer(base, *linear_fit)\n",
    "graph"
   ]
  },
  {
   "cell_type": "markdown",
   "metadata": {},
   "source": [
    "#### Check the quality of the model"
   ]
  },
  {
   "cell_type": "code",
   "execution_count": null,
   "metadata": {},
   "outputs": [],
   "source": [
    "# Make predictions using the testing set\n",
    "y_pred = lin_reg.predict(X_test_set)\n",
    "\n",
    "# The coefficients\n",
    "print(\"Coefficients: \\n\", lin_reg.coef_)\n",
    "# The mean squared error\n",
    "print(\"Mean squared error: %.2f\" % mean_squared_error(Y_test_set, y_pred))\n",
    "# The coefficient of determination: 1 is perfect prediction\n",
    "print(\"Coefficient of determination: %.2f\" % r2_score(Y_test_set, y_pred))"
   ]
  },
  {
   "cell_type": "markdown",
   "metadata": {},
   "source": [
    "## Create a first model - tree model"
   ]
  },
  {
   "cell_type": "code",
   "execution_count": null,
   "metadata": {},
   "outputs": [],
   "source": [
    "from sklearn.tree import DecisionTreeRegressor"
   ]
  },
  {
   "cell_type": "markdown",
   "metadata": {},
   "source": [
    "Create helper class"
   ]
  },
  {
   "cell_type": "code",
   "execution_count": null,
   "metadata": {},
   "outputs": [],
   "source": [
    "class Result:\n",
    "  def __init__(self, r_squared, mean_squared_error):\n",
    "    self.r_squared = r_squared\n",
    "    self.mean_squared_error = mean_squared_error"
   ]
  },
  {
   "cell_type": "code",
   "execution_count": null,
   "metadata": {},
   "outputs": [],
   "source": [
    "results = {}\n",
    "\n",
    "max_range = 10\n",
    "\n",
    "# Fit regression models\n",
    "for i in range(1, max_range):\n",
    "    r = DecisionTreeRegressor(max_depth=i, random_state=3)\n",
    "    r.fit(X_train_set, Y_train_set)\n",
    "    y_predict = r.predict(X_test_set)\n",
    "    results[i] = Result(r2_score(Y_test_set, y_predict), mean_squared_error(Y_test_set, y_predict)) "
   ]
  },
  {
   "cell_type": "markdown",
   "metadata": {},
   "source": [
    "#### Check the quality of the models"
   ]
  },
  {
   "cell_type": "markdown",
   "metadata": {},
   "source": [
    "# Mark down"
   ]
  },
  {
   "cell_type": "code",
   "execution_count": null,
   "metadata": {},
   "outputs": [],
   "source": []
  },
  {
   "cell_type": "code",
   "execution_count": null,
   "metadata": {},
   "outputs": [],
   "source": [
    "for i in range(1,max_range):\n",
    "    print(\"Depth  %2.f\" % i, \":R squared: %.2f\" % results[i].r_squared,\n",
    "    \"-- Mean squared error: %.0f\" % results[i].mean_squared_error)\n"
   ]
  },
  {
   "cell_type": "markdown",
   "metadata": {},
   "source": [
    "Best performance is at depth = 2 (Not the same over runs &#9785; though)"
   ]
  },
  {
   "cell_type": "code",
   "execution_count": null,
   "metadata": {},
   "outputs": [],
   "source": [
    "optimum_depth = 2\n",
    "print(\"Depth  %2.f\" % optimum_depth, \":R squared: %.2f\" % results[optimum_depth].r_squared,\n",
    "    \"-- Mean squared error: %.0f\" % results[optimum_depth].mean_squared_error)"
   ]
  }
 ],
 "metadata": {
  "interpreter": {
   "hash": "4b5eed231ec0c115323e225ce5385d6626cfb048417038261eb3d8b8d0f3984b"
  },
  "kernelspec": {
   "display_name": "Python 3.9.7 ('base')",
   "language": "python",
   "name": "python3"
  },
  "language_info": {
   "codemirror_mode": {
    "name": "ipython",
    "version": 3
   },
   "file_extension": ".py",
   "mimetype": "text/x-python",
   "name": "python",
   "nbconvert_exporter": "python",
   "pygments_lexer": "ipython3",
   "version": "3.9.7"
  },
  "orig_nbformat": 4
 },
 "nbformat": 4,
 "nbformat_minor": 2
}
