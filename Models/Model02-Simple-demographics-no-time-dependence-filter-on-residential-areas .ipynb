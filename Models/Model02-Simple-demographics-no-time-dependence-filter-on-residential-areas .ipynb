{
 "cells": [
  {
   "cell_type": "markdown",
   "metadata": {},
   "source": [
    "### Basic model:\n",
    "Features: Income, Household composition, Property type\n",
    "Predict installed pV per household (aggregation level: buurt, no time dependency) "
   ]
  },
  {
   "cell_type": "markdown",
   "metadata": {},
   "source": [
    "Income: CBS data '84799NED' (Kerncijfers wijken en buurten 2020)"
   ]
  },
  {
   "cell_type": "markdown",
   "metadata": {},
   "source": []
  },
  {
   "cell_type": "code",
   "execution_count": 49,
   "metadata": {},
   "outputs": [],
   "source": [
    "# pip install cbsodata"
   ]
  },
  {
   "cell_type": "code",
   "execution_count": 50,
   "metadata": {},
   "outputs": [],
   "source": [
    "import cbsodata\n",
    "import pandas as pd\n",
    "import seaborn as sns\n",
    "import matplotlib.pyplot as plt\n",
    "from pathlib import Path\n",
    "import os.path"
   ]
  },
  {
   "cell_type": "code",
   "execution_count": 51,
   "metadata": {},
   "outputs": [
    {
     "name": "stdout",
     "output_type": "stream",
     "text": [
      "<class 'pandas.core.frame.DataFrame'>\n",
      "RangeIndex: 17341 entries, 0 to 17340\n",
      "Columns: 119 entries, Unnamed: 0 to Omgevingsadressendichtheid_116\n",
      "dtypes: float64(74), int64(39), object(6)\n",
      "memory usage: 15.7+ MB\n"
     ]
    }
   ],
   "source": [
    "#Read in (Kerncijfers wijken en buurten 2020\n",
    "kerncijfers_2020 = '84799NED'\n",
    "path_kerncijfers_2020 = Path('../Data/CBS/84799NED.csv')\n",
    "if(os.path.exists(path_kerncijfers_2020) == False):\n",
    "    print(\"File does not exist. Downloading from CBS....\")\n",
    "    df_temp = pd.DataFrame(cbsodata.get_data(kerncijfers_2020))\n",
    "    print(\"File downloaded.\")\n",
    "    df_temp.to_csv(path_or_buf=path_kerncijfers_2020)\n",
    "    print(\"File stored on local file stystem.\")\n",
    "    \n",
    "df_kerncijfers = pd.read_csv(path_kerncijfers_2020)\n",
    "df_kerncijfers.info()"
   ]
  },
  {
   "cell_type": "markdown",
   "metadata": {},
   "source": [
    "Remove unusable items"
   ]
  },
  {
   "cell_type": "code",
   "execution_count": 52,
   "metadata": {},
   "outputs": [],
   "source": [
    "df_kerncijfers = df_kerncijfers[df_kerncijfers['Codering_3'].isna() == False]"
   ]
  },
  {
   "cell_type": "markdown",
   "metadata": {},
   "source": [
    "Keep only the data on Buurt level"
   ]
  },
  {
   "cell_type": "code",
   "execution_count": 53,
   "metadata": {},
   "outputs": [
    {
     "name": "stdout",
     "output_type": "stream",
     "text": [
      "<class 'pandas.core.frame.DataFrame'>\n",
      "Int64Index: 13808 entries, 3 to 17340\n",
      "Columns: 119 entries, Unnamed: 0 to Omgevingsadressendichtheid_116\n",
      "dtypes: float64(74), int64(39), object(6)\n",
      "memory usage: 12.6+ MB\n"
     ]
    }
   ],
   "source": [
    "#remove whitespaces from beginning and end of string column labels\n",
    "df_kerncijfers = df_kerncijfers.apply(lambda x: x.str.strip() if x.dtype == \"object\" else x)\n",
    "\n",
    "is_buurt = df_kerncijfers['SoortRegio_2']=='Buurt'\n",
    "df_kerncijfers = df_kerncijfers[is_buurt]\n",
    "\n",
    "df_kerncijfers.info()\n"
   ]
  },
  {
   "cell_type": "markdown",
   "metadata": {},
   "source": [
    "Filter out the non residential areas"
   ]
  },
  {
   "cell_type": "code",
   "execution_count": 54,
   "metadata": {},
   "outputs": [
    {
     "name": "stdout",
     "output_type": "stream",
     "text": [
      "<class 'pandas.core.frame.DataFrame'>\n",
      "Int64Index: 13406 entries, 3 to 17340\n",
      "Columns: 121 entries, Unnamed: 0 to Is_non_residential\n",
      "dtypes: bool(1), float64(74), int64(39), object(7)\n",
      "memory usage: 12.4+ MB\n"
     ]
    }
   ],
   "source": [
    "df_kerncijfers['WijkenEnBuurten_lower_case'] = df_kerncijfers['WijkenEnBuurten'].str.lower()\n",
    "df_kerncijfers['Is_non_residential'] = (df_kerncijfers['WijkenEnBuurten_lower_case'].str.contains('bedrijventerrein') |\n",
    "    df_kerncijfers['WijkenEnBuurten_lower_case'].str.contains('bedrijvengebied') |\n",
    "    df_kerncijfers['WijkenEnBuurten_lower_case'].str.contains('landelijk') |\n",
    "    df_kerncijfers['WijkenEnBuurten_lower_case'].str.contains('kantoren') |\n",
    "    df_kerncijfers['WijkenEnBuurten_lower_case'].str.contains('industrieterrein') |\n",
    "    df_kerncijfers['WijkenEnBuurten_lower_case'].str.contains('industriegebied'))\n",
    "\n",
    "df_kerncijfers = df_kerncijfers[df_kerncijfers['Is_non_residential'] == False]\n",
    "df_kerncijfers.info()"
   ]
  },
  {
   "cell_type": "markdown",
   "metadata": {},
   "source": [
    "### Feature #1 - Income"
   ]
  },
  {
   "cell_type": "markdown",
   "metadata": {},
   "source": [
    "Take a look at the number of buurten where the incomes are unknown"
   ]
  },
  {
   "cell_type": "code",
   "execution_count": 55,
   "metadata": {},
   "outputs": [
    {
     "data": {
      "text/plain": [
       "Unnamed: 0                                                                 98674641\n",
       "ID                                                                         98674641\n",
       "WijkenEnBuurten                   Verspreide huizen AnnenEextVerspreide huizen E...\n",
       "Gemeentenaam_1                    Aa en HunzeAa en HunzeAa en HunzeAa en HunzeAa...\n",
       "SoortRegio_2                      BuurtBuurtBuurtBuurtBuurtBuurtBuurtBuurtBuurtB...\n",
       "                                                        ...                        \n",
       "Dekkingspercentage_114                                                      14121.0\n",
       "MateVanStedelijkheid_115                                                    42875.0\n",
       "Omgevingsadressendichtheid_116                                           11744485.0\n",
       "WijkenEnBuurten_lower_case        verspreide huizen anneneextverspreide huizen e...\n",
       "Is_non_residential                                                                0\n",
       "Length: 121, dtype: object"
      ]
     },
     "execution_count": 55,
     "metadata": {},
     "output_type": "execute_result"
    }
   ],
   "source": [
    "# dab = df_kerncijfers[df_kerncijfers['GemiddeldInkomenPerInwoner_72'].isna()]\n",
    "# dab.info()\n",
    "\n",
    "# dab[['WijkenEnBuurten', 'GemiddeldInkomenPerInwoner_72' ]].head()\n",
    "df_kerncijfers[df_kerncijfers['GemiddeldInkomenPerInwoner_72'].isna()].sum()"
   ]
  },
  {
   "cell_type": "code",
   "execution_count": 56,
   "metadata": {},
   "outputs": [
    {
     "name": "stdout",
     "output_type": "stream",
     "text": [
      "Income not specified in: 85 % of the buurten.\n"
     ]
    }
   ],
   "source": [
    "total_no_income = df_kerncijfers['GemiddeldInkomenPerInwoner_72'].isna().sum()\n",
    "fraction_unfilled_incomes = total_no_income / len(df_kerncijfers.index)  * 100\n",
    "\n",
    "print(\"Income not specified in: %.0f\" % fraction_unfilled_incomes, \"% of the buurten.\")"
   ]
  },
  {
   "cell_type": "markdown",
   "metadata": {},
   "source": [
    "## 85% of the data incomes are not filled.\n",
    "\n",
    "Approach #1: impute the missing values with the mean, so we have enough items to train our model"
   ]
  },
  {
   "cell_type": "code",
   "execution_count": 57,
   "metadata": {},
   "outputs": [
    {
     "name": "stdout",
     "output_type": "stream",
     "text": [
      "<class 'pandas.core.frame.DataFrame'>\n",
      "Int64Index: 13406 entries, 3 to 17340\n",
      "Columns: 121 entries, Unnamed: 0 to Is_non_residential\n",
      "dtypes: bool(1), float64(74), int64(39), object(7)\n",
      "memory usage: 12.4+ MB\n"
     ]
    },
    {
     "data": {
      "image/png": "[encoded data removed]",
      "text/plain": [
       "<Figure size 576x432 with 1 Axes>"
      ]
     },
     "metadata": {
      "needs_background": "light"
     },
     "output_type": "display_data"
    }
   ],
   "source": [
    "cutoff_income = 60\n",
    "\n",
    "df_income_specified = df_kerncijfers[df_kerncijfers['GemiddeldInkomenPerInwoner_72'] < cutoff_income]\n",
    "df_income_specified['GemiddeldInkomenPerInwoner_72'].hist(bins=54, figsize=(8, 6))\n",
    "\n",
    "df_kerncijfers.info()"
   ]
  },
  {
   "cell_type": "code",
   "execution_count": 58,
   "metadata": {},
   "outputs": [
    {
     "data": {
      "text/plain": [
       "3        28.800000\n",
       "4        27.428933\n",
       "6        27.428933\n",
       "7        27.428933\n",
       "9        27.428933\n",
       "           ...    \n",
       "17335    26.900000\n",
       "17336    26.300000\n",
       "17337    27.428933\n",
       "17339    27.428933\n",
       "17340    27.428933\n",
       "Name: GemiddeldInkomenPerInwoner_72, Length: 13406, dtype: float64"
      ]
     },
     "execution_count": 58,
     "metadata": {},
     "output_type": "execute_result"
    }
   ],
   "source": [
    "#impute the incomes\n",
    "mean_income = df_kerncijfers['GemiddeldInkomenPerInwoner_72'].mean()\n",
    "df_kerncijfers['GemiddeldInkomenPerInwoner_72'].fillna(mean_income)"
   ]
  },
  {
   "cell_type": "markdown",
   "metadata": {},
   "source": [
    "### Feature #2 - Household composition"
   ]
  },
  {
   "cell_type": "code",
   "execution_count": 59,
   "metadata": {},
   "outputs": [
    {
     "name": "stdout",
     "output_type": "stream",
     "text": [
      "Average size of household not specified in: 1 % of the buurten. Removing these entries.\n"
     ]
    }
   ],
   "source": [
    "fraction_unfilled_huishoudensgroottes = df_kerncijfers['GemiddeldeHuishoudensgrootte_32'].isna().sum()/ df_kerncijfers['GemiddeldeHuishoudensgrootte_32'].sum() *100\n",
    "\n",
    "print(\"Average size of household not specified in: %.0f\" % fraction_unfilled_huishoudensgroottes, \"% of the buurten. Removing these entries.\")"
   ]
  },
  {
   "cell_type": "code",
   "execution_count": 60,
   "metadata": {},
   "outputs": [
    {
     "name": "stdout",
     "output_type": "stream",
     "text": [
      "<class 'pandas.core.frame.DataFrame'>\n",
      "Int64Index: 13099 entries, 3 to 17340\n",
      "Columns: 121 entries, Unnamed: 0 to Is_non_residential\n",
      "dtypes: bool(1), float64(74), int64(39), object(7)\n",
      "memory usage: 12.1+ MB\n"
     ]
    },
    {
     "data": {
      "image/png": "[encoded data removed]",
      "text/plain": [
       "<Figure size 576x432 with 1 Axes>"
      ]
     },
     "metadata": {
      "needs_background": "light"
     },
     "output_type": "display_data"
    }
   ],
   "source": [
    "cut_off_household_size = 5\n",
    "df_kerncijfers = df_kerncijfers[df_kerncijfers['GemiddeldeHuishoudensgrootte_32'].isna() == False]\n",
    "\n",
    "df_average_household_size_specified = df_kerncijfers[df_kerncijfers['GemiddeldeHuishoudensgrootte_32']<cut_off_household_size]\n",
    "df_average_household_size_specified['GemiddeldeHuishoudensgrootte_32'].hist(bins=140, figsize=(8, 6))\n",
    "\n",
    "df_kerncijfers.info()"
   ]
  },
  {
   "cell_type": "markdown",
   "metadata": {},
   "source": [
    "### Feature #3 - Percentage owned property (koopwoningen)"
   ]
  },
  {
   "cell_type": "code",
   "execution_count": 61,
   "metadata": {},
   "outputs": [
    {
     "name": "stdout",
     "output_type": "stream",
     "text": [
      "Average percentage of owned properties not specified in: 0 % of the buurten.\n"
     ]
    }
   ],
   "source": [
    "fraction_unfilled_owned_property_percentage = df_kerncijfers['Koopwoningen_40'].isna().sum()/ df_kerncijfers['Koopwoningen_40'].sum() *100\n",
    "\n",
    "print(\"Average percentage of owned properties not specified in: %.0f\" % fraction_unfilled_owned_property_percentage, \"% of the buurten.\")\n"
   ]
  },
  {
   "cell_type": "markdown",
   "metadata": {},
   "source": [
    "Remove the 'BU' from the buurtcode and rename the column name so we can combine the datasets later"
   ]
  },
  {
   "cell_type": "code",
   "execution_count": 62,
   "metadata": {},
   "outputs": [
    {
     "name": "stdout",
     "output_type": "stream",
     "text": [
      "Number of buurten that don't start with 'BU':  0\n",
      "<class 'pandas.core.frame.DataFrame'>\n",
      "Int64Index: 13099 entries, 3 to 17340\n",
      "Columns: 122 entries, Unnamed: 0 to CBS Buurtcode\n",
      "dtypes: bool(1), float64(74), int64(40), object(7)\n",
      "memory usage: 12.2+ MB\n"
     ]
    }
   ],
   "source": [
    "has_buurtcode_starting_with_BU = df_kerncijfers['Codering_3'].str.find('BU') == 0\n",
    "buurtcodes_without_leading_BU = df_kerncijfers[has_buurtcode_starting_with_BU == False]\n",
    "print(\"Number of buurten that don't start with 'BU': \", len(buurtcodes_without_leading_BU))\n",
    "\n",
    "df_kerncijfers['CBS Buurtcode'] = pd.to_numeric(df_kerncijfers['Codering_3'].apply(lambda s:s.replace(\"BU\",\"\")))\n",
    "\n",
    "df_kerncijfers.info()"
   ]
  },
  {
   "cell_type": "code",
   "execution_count": 63,
   "metadata": {},
   "outputs": [
    {
     "name": "stdout",
     "output_type": "stream",
     "text": [
      "Duplicate buurtcodes: 0\n"
     ]
    },
    {
     "data": {
      "text/html": [
       "<div>\n",
       "<style scoped>\n",
       "    .dataframe tbody tr th:only-of-type {\n",
       "        vertical-align: middle;\n",
       "    }\n",
       "\n",
       "    .dataframe tbody tr th {\n",
       "        vertical-align: top;\n",
       "    }\n",
       "\n",
       "    .dataframe thead th {\n",
       "        text-align: right;\n",
       "    }\n",
       "</style>\n",
       "<table border=\"1\" class=\"dataframe\">\n",
       "  <thead>\n",
       "    <tr style=\"text-align: right;\">\n",
       "      <th></th>\n",
       "      <th>Unnamed: 0</th>\n",
       "      <th>ID</th>\n",
       "      <th>WijkenEnBuurten</th>\n",
       "      <th>Gemeentenaam_1</th>\n",
       "      <th>SoortRegio_2</th>\n",
       "      <th>Codering_3</th>\n",
       "      <th>IndelingswijzigingWijkenEnBuurten_4</th>\n",
       "      <th>AantalInwoners_5</th>\n",
       "      <th>Mannen_6</th>\n",
       "      <th>Vrouwen_7</th>\n",
       "      <th>...</th>\n",
       "      <th>OppervlakteTotaal_110</th>\n",
       "      <th>OppervlakteLand_111</th>\n",
       "      <th>OppervlakteWater_112</th>\n",
       "      <th>MeestVoorkomendePostcode_113</th>\n",
       "      <th>Dekkingspercentage_114</th>\n",
       "      <th>MateVanStedelijkheid_115</th>\n",
       "      <th>Omgevingsadressendichtheid_116</th>\n",
       "      <th>WijkenEnBuurten_lower_case</th>\n",
       "      <th>Is_non_residential</th>\n",
       "      <th>CBS Buurtcode</th>\n",
       "    </tr>\n",
       "  </thead>\n",
       "  <tbody>\n",
       "    <tr>\n",
       "      <th>3</th>\n",
       "      <td>3</td>\n",
       "      <td>3</td>\n",
       "      <td>Annen</td>\n",
       "      <td>Aa en Hunze</td>\n",
       "      <td>Buurt</td>\n",
       "      <td>BU16800000</td>\n",
       "      <td>1</td>\n",
       "      <td>3460</td>\n",
       "      <td>1685</td>\n",
       "      <td>1775</td>\n",
       "      <td>...</td>\n",
       "      <td>252</td>\n",
       "      <td>252</td>\n",
       "      <td>0</td>\n",
       "      <td>9468</td>\n",
       "      <td>1.0</td>\n",
       "      <td>5.0</td>\n",
       "      <td>411.0</td>\n",
       "      <td>annen</td>\n",
       "      <td>False</td>\n",
       "      <td>16800000</td>\n",
       "    </tr>\n",
       "    <tr>\n",
       "      <th>4</th>\n",
       "      <td>4</td>\n",
       "      <td>4</td>\n",
       "      <td>Verspreide huizen Annen</td>\n",
       "      <td>Aa en Hunze</td>\n",
       "      <td>Buurt</td>\n",
       "      <td>BU16800009</td>\n",
       "      <td>1</td>\n",
       "      <td>155</td>\n",
       "      <td>80</td>\n",
       "      <td>80</td>\n",
       "      <td>...</td>\n",
       "      <td>1226</td>\n",
       "      <td>1213</td>\n",
       "      <td>13</td>\n",
       "      <td>9468</td>\n",
       "      <td>1.0</td>\n",
       "      <td>5.0</td>\n",
       "      <td>60.0</td>\n",
       "      <td>verspreide huizen annen</td>\n",
       "      <td>False</td>\n",
       "      <td>16800009</td>\n",
       "    </tr>\n",
       "    <tr>\n",
       "      <th>6</th>\n",
       "      <td>6</td>\n",
       "      <td>6</td>\n",
       "      <td>Eext</td>\n",
       "      <td>Aa en Hunze</td>\n",
       "      <td>Buurt</td>\n",
       "      <td>BU16800100</td>\n",
       "      <td>1</td>\n",
       "      <td>1255</td>\n",
       "      <td>640</td>\n",
       "      <td>615</td>\n",
       "      <td>...</td>\n",
       "      <td>171</td>\n",
       "      <td>170</td>\n",
       "      <td>1</td>\n",
       "      <td>9463</td>\n",
       "      <td>1.0</td>\n",
       "      <td>5.0</td>\n",
       "      <td>144.0</td>\n",
       "      <td>eext</td>\n",
       "      <td>False</td>\n",
       "      <td>16800100</td>\n",
       "    </tr>\n",
       "    <tr>\n",
       "      <th>7</th>\n",
       "      <td>7</td>\n",
       "      <td>7</td>\n",
       "      <td>Verspreide huizen Eext</td>\n",
       "      <td>Aa en Hunze</td>\n",
       "      <td>Buurt</td>\n",
       "      <td>BU16800109</td>\n",
       "      <td>1</td>\n",
       "      <td>175</td>\n",
       "      <td>90</td>\n",
       "      <td>85</td>\n",
       "      <td>...</td>\n",
       "      <td>1618</td>\n",
       "      <td>1611</td>\n",
       "      <td>6</td>\n",
       "      <td>9463</td>\n",
       "      <td>1.0</td>\n",
       "      <td>5.0</td>\n",
       "      <td>36.0</td>\n",
       "      <td>verspreide huizen eext</td>\n",
       "      <td>False</td>\n",
       "      <td>16800109</td>\n",
       "    </tr>\n",
       "    <tr>\n",
       "      <th>9</th>\n",
       "      <td>9</td>\n",
       "      <td>9</td>\n",
       "      <td>Anloo</td>\n",
       "      <td>Aa en Hunze</td>\n",
       "      <td>Buurt</td>\n",
       "      <td>BU16800200</td>\n",
       "      <td>1</td>\n",
       "      <td>320</td>\n",
       "      <td>150</td>\n",
       "      <td>170</td>\n",
       "      <td>...</td>\n",
       "      <td>57</td>\n",
       "      <td>57</td>\n",
       "      <td>0</td>\n",
       "      <td>9467</td>\n",
       "      <td>1.0</td>\n",
       "      <td>5.0</td>\n",
       "      <td>126.0</td>\n",
       "      <td>anloo</td>\n",
       "      <td>False</td>\n",
       "      <td>16800200</td>\n",
       "    </tr>\n",
       "  </tbody>\n",
       "</table>\n",
       "<p>5 rows × 122 columns</p>\n",
       "</div>"
      ],
      "text/plain": [
       "   Unnamed: 0  ID          WijkenEnBuurten Gemeentenaam_1 SoortRegio_2  \\\n",
       "3           3   3                    Annen    Aa en Hunze        Buurt   \n",
       "4           4   4  Verspreide huizen Annen    Aa en Hunze        Buurt   \n",
       "6           6   6                     Eext    Aa en Hunze        Buurt   \n",
       "7           7   7   Verspreide huizen Eext    Aa en Hunze        Buurt   \n",
       "9           9   9                    Anloo    Aa en Hunze        Buurt   \n",
       "\n",
       "   Codering_3 IndelingswijzigingWijkenEnBuurten_4  AantalInwoners_5  Mannen_6  \\\n",
       "3  BU16800000                                   1              3460      1685   \n",
       "4  BU16800009                                   1               155        80   \n",
       "6  BU16800100                                   1              1255       640   \n",
       "7  BU16800109                                   1               175        90   \n",
       "9  BU16800200                                   1               320       150   \n",
       "\n",
       "   Vrouwen_7  ...  OppervlakteTotaal_110  OppervlakteLand_111  \\\n",
       "3       1775  ...                    252                  252   \n",
       "4         80  ...                   1226                 1213   \n",
       "6        615  ...                    171                  170   \n",
       "7         85  ...                   1618                 1611   \n",
       "9        170  ...                     57                   57   \n",
       "\n",
       "   OppervlakteWater_112  MeestVoorkomendePostcode_113  Dekkingspercentage_114  \\\n",
       "3                     0                          9468                     1.0   \n",
       "4                    13                          9468                     1.0   \n",
       "6                     1                          9463                     1.0   \n",
       "7                     6                          9463                     1.0   \n",
       "9                     0                          9467                     1.0   \n",
       "\n",
       "   MateVanStedelijkheid_115  Omgevingsadressendichtheid_116  \\\n",
       "3                       5.0                           411.0   \n",
       "4                       5.0                            60.0   \n",
       "6                       5.0                           144.0   \n",
       "7                       5.0                            36.0   \n",
       "9                       5.0                           126.0   \n",
       "\n",
       "   WijkenEnBuurten_lower_case  Is_non_residential  CBS Buurtcode  \n",
       "3                       annen               False       16800000  \n",
       "4     verspreide huizen annen               False       16800009  \n",
       "6                        eext               False       16800100  \n",
       "7      verspreide huizen eext               False       16800109  \n",
       "9                       anloo               False       16800200  \n",
       "\n",
       "[5 rows x 122 columns]"
      ]
     },
     "execution_count": 63,
     "metadata": {},
     "output_type": "execute_result"
    }
   ],
   "source": [
    "print(\"Duplicate buurtcodes: %.0f\" % df_kerncijfers.duplicated(['CBS Buurtcode']).sum())\n",
    "df_kerncijfers.astype({\"CBS Buurtcode\" : int})\n",
    "df_kerncijfers.head()"
   ]
  },
  {
   "cell_type": "markdown",
   "metadata": {},
   "source": [
    "Take a look at the # of households per buurt. We need this to be able to 'normalize' the installed pV"
   ]
  },
  {
   "cell_type": "code",
   "execution_count": 64,
   "metadata": {},
   "outputs": [
    {
     "name": "stdout",
     "output_type": "stream",
     "text": [
      "Huishoudens totaal has:  0  empty items.\n"
     ]
    }
   ],
   "source": [
    "print(\"Huishoudens totaal has: \", (df_kerncijfers['HuishoudensTotaal_28'].isna() == True).sum(), \" empty items.\")"
   ]
  },
  {
   "cell_type": "markdown",
   "metadata": {},
   "source": [
    "## Target variable - opgesteld vermogen"
   ]
  },
  {
   "cell_type": "markdown",
   "metadata": {},
   "source": [
    "Load the data from the Enexis supplied data file."
   ]
  },
  {
   "cell_type": "code",
   "execution_count": 65,
   "metadata": {},
   "outputs": [
    {
     "name": "stdout",
     "output_type": "stream",
     "text": [
      "<class 'pandas.core.frame.DataFrame'>\n",
      "RangeIndex: 4081 entries, 0 to 4080\n",
      "Data columns (total 9 columns):\n",
      " #   Column                                     Non-Null Count  Dtype  \n",
      "---  ------                                     --------------  -----  \n",
      " 0   ï»¿Peildatum                               4077 non-null   float64\n",
      " 1   Netbeheerder                               4077 non-null   object \n",
      " 2   Provincie                                  4076 non-null   object \n",
      " 3   Gemeente                                   4074 non-null   object \n",
      " 4   CBS Buurt                                  3946 non-null   object \n",
      " 5   CBS Buurtcode                              3946 non-null   float64\n",
      " 6   Aantal aansluitingen in CBS-buurt          4076 non-null   float64\n",
      " 7   Aantal aansluitingen met opwekinstallatie  4077 non-null   float64\n",
      " 8   Opgesteld vermogen                         4077 non-null   float64\n",
      "dtypes: float64(5), object(4)\n",
      "memory usage: 287.1+ KB\n"
     ]
    }
   ],
   "source": [
    "decentral_generation_072020 = '../Data/Enexis_decentrale_opwek_kv_(zon_pv)_01072020.csv'\n",
    "df_decentral_generation = pd.read_csv(decentral_generation_072020,\n",
    "                         sep                = ';',\n",
    "                         decimal            = ',',\n",
    "                         thousands          = '.',\n",
    "                         encoding           = 'unicode_escape')\n",
    "df_decentral_generation.info()"
   ]
  },
  {
   "cell_type": "markdown",
   "metadata": {},
   "source": [
    "Remove empty items"
   ]
  },
  {
   "cell_type": "code",
   "execution_count": 66,
   "metadata": {},
   "outputs": [],
   "source": [
    "df_decentral_generation = df_decentral_generation[df_decentral_generation['Opgesteld vermogen'].isna() == False]\n",
    "df_decentral_generation = df_decentral_generation[df_decentral_generation['CBS Buurtcode'].isna() == False]"
   ]
  },
  {
   "cell_type": "markdown",
   "metadata": {},
   "source": [
    "## Note: the unit of 'opgesteld vermogen' is kW"
   ]
  },
  {
   "cell_type": "code",
   "execution_count": 67,
   "metadata": {},
   "outputs": [
    {
     "data": {
      "text/plain": [
       "<AxesSubplot:>"
      ]
     },
     "execution_count": 67,
     "metadata": {},
     "output_type": "execute_result"
    },
    {
     "data": {
      "image/png": "[encoded data removed]",
      "text/plain": [
       "<Figure size 576x432 with 1 Axes>"
      ]
     },
     "metadata": {
      "needs_background": "light"
     },
     "output_type": "display_data"
    }
   ],
   "source": [
    "cut_off_generation = 3000\n",
    "\n",
    "df_decentral_generation_specified = df_decentral_generation[df_decentral_generation['Opgesteld vermogen'] < cut_off_generation]\n",
    "df_decentral_generation_specified['Opgesteld vermogen'].hist(bins=53, figsize=(8, 6))"
   ]
  },
  {
   "cell_type": "code",
   "execution_count": 68,
   "metadata": {},
   "outputs": [
    {
     "name": "stdout",
     "output_type": "stream",
     "text": [
      "Duplicate buurtcodes: 0\n"
     ]
    },
    {
     "data": {
      "text/html": [
       "<div>\n",
       "<style scoped>\n",
       "    .dataframe tbody tr th:only-of-type {\n",
       "        vertical-align: middle;\n",
       "    }\n",
       "\n",
       "    .dataframe tbody tr th {\n",
       "        vertical-align: top;\n",
       "    }\n",
       "\n",
       "    .dataframe thead th {\n",
       "        text-align: right;\n",
       "    }\n",
       "</style>\n",
       "<table border=\"1\" class=\"dataframe\">\n",
       "  <thead>\n",
       "    <tr style=\"text-align: right;\">\n",
       "      <th></th>\n",
       "      <th>ï»¿Peildatum</th>\n",
       "      <th>Netbeheerder</th>\n",
       "      <th>Provincie</th>\n",
       "      <th>Gemeente</th>\n",
       "      <th>CBS Buurt</th>\n",
       "      <th>CBS Buurtcode</th>\n",
       "      <th>Aantal aansluitingen in CBS-buurt</th>\n",
       "      <th>Aantal aansluitingen met opwekinstallatie</th>\n",
       "      <th>Opgesteld vermogen</th>\n",
       "    </tr>\n",
       "  </thead>\n",
       "  <tbody>\n",
       "    <tr>\n",
       "      <th>0</th>\n",
       "      <td>202007.0</td>\n",
       "      <td>Enexis</td>\n",
       "      <td>Drenthe</td>\n",
       "      <td>Aa en Hunze</td>\n",
       "      <td>Annen</td>\n",
       "      <td>16800000</td>\n",
       "      <td>1491.0</td>\n",
       "      <td>447.0</td>\n",
       "      <td>1866.0</td>\n",
       "    </tr>\n",
       "    <tr>\n",
       "      <th>1</th>\n",
       "      <td>202007.0</td>\n",
       "      <td>Enexis</td>\n",
       "      <td>Drenthe</td>\n",
       "      <td>Aa en Hunze</td>\n",
       "      <td>Verspreide huizen Annen</td>\n",
       "      <td>16800009</td>\n",
       "      <td>116.0</td>\n",
       "      <td>29.0</td>\n",
       "      <td>243.0</td>\n",
       "    </tr>\n",
       "    <tr>\n",
       "      <th>2</th>\n",
       "      <td>202007.0</td>\n",
       "      <td>Enexis</td>\n",
       "      <td>Drenthe</td>\n",
       "      <td>Aa en Hunze</td>\n",
       "      <td>Eext</td>\n",
       "      <td>16800100</td>\n",
       "      <td>559.0</td>\n",
       "      <td>143.0</td>\n",
       "      <td>565.0</td>\n",
       "    </tr>\n",
       "    <tr>\n",
       "      <th>3</th>\n",
       "      <td>202007.0</td>\n",
       "      <td>Enexis</td>\n",
       "      <td>Drenthe</td>\n",
       "      <td>Aa en Hunze</td>\n",
       "      <td>Verspreide huizen Eext</td>\n",
       "      <td>16800109</td>\n",
       "      <td>127.0</td>\n",
       "      <td>24.0</td>\n",
       "      <td>150.0</td>\n",
       "    </tr>\n",
       "    <tr>\n",
       "      <th>4</th>\n",
       "      <td>202007.0</td>\n",
       "      <td>Enexis</td>\n",
       "      <td>Drenthe</td>\n",
       "      <td>Aa en Hunze</td>\n",
       "      <td>Anloo</td>\n",
       "      <td>16800200</td>\n",
       "      <td>127.0</td>\n",
       "      <td>29.0</td>\n",
       "      <td>129.0</td>\n",
       "    </tr>\n",
       "    <tr>\n",
       "      <th>...</th>\n",
       "      <td>...</td>\n",
       "      <td>...</td>\n",
       "      <td>...</td>\n",
       "      <td>...</td>\n",
       "      <td>...</td>\n",
       "      <td>...</td>\n",
       "      <td>...</td>\n",
       "      <td>...</td>\n",
       "      <td>...</td>\n",
       "    </tr>\n",
       "    <tr>\n",
       "      <th>4070</th>\n",
       "      <td>202007.0</td>\n",
       "      <td>Enexis</td>\n",
       "      <td>Overijssel</td>\n",
       "      <td>Zwolle</td>\n",
       "      <td>Gerenlanden</td>\n",
       "      <td>1935140</td>\n",
       "      <td>1218.0</td>\n",
       "      <td>323.0</td>\n",
       "      <td>992.0</td>\n",
       "    </tr>\n",
       "    <tr>\n",
       "      <th>4071</th>\n",
       "      <td>202007.0</td>\n",
       "      <td>Enexis</td>\n",
       "      <td>Overijssel</td>\n",
       "      <td>Zwolle</td>\n",
       "      <td>Gerenbroek</td>\n",
       "      <td>1935150</td>\n",
       "      <td>1217.0</td>\n",
       "      <td>315.0</td>\n",
       "      <td>949.0</td>\n",
       "    </tr>\n",
       "    <tr>\n",
       "      <th>4072</th>\n",
       "      <td>202007.0</td>\n",
       "      <td>Enexis</td>\n",
       "      <td>Overijssel</td>\n",
       "      <td>Zwolle</td>\n",
       "      <td>Oude Mars</td>\n",
       "      <td>1935160</td>\n",
       "      <td>59.0</td>\n",
       "      <td>19.0</td>\n",
       "      <td>127.0</td>\n",
       "    </tr>\n",
       "    <tr>\n",
       "      <th>4073</th>\n",
       "      <td>202007.0</td>\n",
       "      <td>Enexis</td>\n",
       "      <td>Overijssel</td>\n",
       "      <td>Zwolle</td>\n",
       "      <td>Windesheim</td>\n",
       "      <td>1935200</td>\n",
       "      <td>143.0</td>\n",
       "      <td>34.0</td>\n",
       "      <td>165.0</td>\n",
       "    </tr>\n",
       "    <tr>\n",
       "      <th>4074</th>\n",
       "      <td>202007.0</td>\n",
       "      <td>Enexis</td>\n",
       "      <td>Overijssel</td>\n",
       "      <td>Zwolle</td>\n",
       "      <td>Harculo en Hoogzutmen</td>\n",
       "      <td>1935210</td>\n",
       "      <td>261.0</td>\n",
       "      <td>65.0</td>\n",
       "      <td>490.0</td>\n",
       "    </tr>\n",
       "  </tbody>\n",
       "</table>\n",
       "<p>3946 rows × 9 columns</p>\n",
       "</div>"
      ],
      "text/plain": [
       "      ï»¿Peildatum Netbeheerder   Provincie     Gemeente  \\\n",
       "0         202007.0       Enexis     Drenthe  Aa en Hunze   \n",
       "1         202007.0       Enexis     Drenthe  Aa en Hunze   \n",
       "2         202007.0       Enexis     Drenthe  Aa en Hunze   \n",
       "3         202007.0       Enexis     Drenthe  Aa en Hunze   \n",
       "4         202007.0       Enexis     Drenthe  Aa en Hunze   \n",
       "...            ...          ...         ...          ...   \n",
       "4070      202007.0       Enexis  Overijssel       Zwolle   \n",
       "4071      202007.0       Enexis  Overijssel       Zwolle   \n",
       "4072      202007.0       Enexis  Overijssel       Zwolle   \n",
       "4073      202007.0       Enexis  Overijssel       Zwolle   \n",
       "4074      202007.0       Enexis  Overijssel       Zwolle   \n",
       "\n",
       "                    CBS Buurt  CBS Buurtcode  \\\n",
       "0                       Annen       16800000   \n",
       "1     Verspreide huizen Annen       16800009   \n",
       "2                        Eext       16800100   \n",
       "3      Verspreide huizen Eext       16800109   \n",
       "4                       Anloo       16800200   \n",
       "...                       ...            ...   \n",
       "4070              Gerenlanden        1935140   \n",
       "4071               Gerenbroek        1935150   \n",
       "4072                Oude Mars        1935160   \n",
       "4073               Windesheim        1935200   \n",
       "4074    Harculo en Hoogzutmen        1935210   \n",
       "\n",
       "      Aantal aansluitingen in CBS-buurt   \\\n",
       "0                                 1491.0   \n",
       "1                                  116.0   \n",
       "2                                  559.0   \n",
       "3                                  127.0   \n",
       "4                                  127.0   \n",
       "...                                  ...   \n",
       "4070                              1218.0   \n",
       "4071                              1217.0   \n",
       "4072                                59.0   \n",
       "4073                               143.0   \n",
       "4074                               261.0   \n",
       "\n",
       "      Aantal aansluitingen met opwekinstallatie  Opgesteld vermogen  \n",
       "0                                         447.0              1866.0  \n",
       "1                                          29.0               243.0  \n",
       "2                                         143.0               565.0  \n",
       "3                                          24.0               150.0  \n",
       "4                                          29.0               129.0  \n",
       "...                                         ...                 ...  \n",
       "4070                                      323.0               992.0  \n",
       "4071                                      315.0               949.0  \n",
       "4072                                       19.0               127.0  \n",
       "4073                                       34.0               165.0  \n",
       "4074                                       65.0               490.0  \n",
       "\n",
       "[3946 rows x 9 columns]"
      ]
     },
     "execution_count": 68,
     "metadata": {},
     "output_type": "execute_result"
    }
   ],
   "source": [
    "print(\"Duplicate buurtcodes: %.0f\" % df_decentral_generation.duplicated(['CBS Buurtcode']).sum())\n",
    "df_decentral_generation.astype({\"CBS Buurtcode\" : int})"
   ]
  },
  {
   "cell_type": "markdown",
   "metadata": {},
   "source": [
    "Check if the deduplication was successfull"
   ]
  },
  {
   "cell_type": "markdown",
   "metadata": {},
   "source": [
    "### Combine the demographic data with the generation data"
   ]
  },
  {
   "cell_type": "code",
   "execution_count": 69,
   "metadata": {},
   "outputs": [
    {
     "name": "stdout",
     "output_type": "stream",
     "text": [
      "Number of rows in 'kerncijfers': 13099\n",
      "Number of rows in 'generation data': 3946\n",
      "Number of rows in combined data set: 3117\n"
     ]
    }
   ],
   "source": [
    "print(\"Number of rows in 'kerncijfers': %.0f\" % len(df_kerncijfers))\n",
    "print(\"Number of rows in 'generation data': %.0f\" % len(df_decentral_generation))\n",
    "\n",
    "df = pd.merge(df_kerncijfers, df_decentral_generation, on=\"CBS Buurtcode\", validate='one_to_one')\n",
    "print(\"Number of rows in combined data set: %.0f\" % len(df))\n"
   ]
  },
  {
   "cell_type": "markdown",
   "metadata": {},
   "source": [
    "#### To do: check why not more rows match on buurt code"
   ]
  },
  {
   "cell_type": "markdown",
   "metadata": {},
   "source": [
    "### Introduce a normalized column. normalized_opgesteld_vermogen = opgesteld_vermogen / #households"
   ]
  },
  {
   "cell_type": "code",
   "execution_count": 70,
   "metadata": {},
   "outputs": [],
   "source": [
    "df[\"normalized_opgesteld_vermogen\"] = (df[\"Opgesteld vermogen\"] / df[\"HuishoudensTotaal_28\"])"
   ]
  },
  {
   "cell_type": "markdown",
   "metadata": {},
   "source": [
    "## Create a first model - linear model"
   ]
  },
  {
   "cell_type": "code",
   "execution_count": 71,
   "metadata": {},
   "outputs": [],
   "source": [
    "from sklearn.linear_model import LinearRegression\n",
    "from sklearn.metrics import mean_squared_error, r2_score\n",
    "from sklearn.model_selection import train_test_split\n",
    "\n",
    "import altair as alt"
   ]
  },
  {
   "cell_type": "code",
   "execution_count": 72,
   "metadata": {},
   "outputs": [
    {
     "name": "stdout",
     "output_type": "stream",
     "text": [
      "training set size: 2493\n",
      "test set size: 624\n"
     ]
    },
    {
     "ename": "ValueError",
     "evalue": "Input contains NaN, infinity or a value too large for dtype('float64').",
     "output_type": "error",
     "traceback": [
      "\u001b[1;31m---------------------------------------------------------------------------\u001b[0m",
      "\u001b[1;31mValueError\u001b[0m                                Traceback (most recent call last)",
      "\u001b[1;32mc:\\Repos\\jads\\Enexis\\Enexis-case-study\\Models\\Model02-Simple-demographics-no-time-dependence-filter-on-residential-areas .ipynb Cell 46'\u001b[0m in \u001b[0;36m<cell line: 17>\u001b[1;34m()\u001b[0m\n\u001b[0;32m     <a href='vscode-notebook-cell:/c%3A/Repos/jads/Enexis/Enexis-case-study/Models/Model02-Simple-demographics-no-time-dependence-filter-on-residential-areas%20.ipynb#ch0000044?line=13'>14</a>\u001b[0m X_test_set \u001b[39m=\u001b[39m test_set\u001b[39m.\u001b[39mdrop(opgesteld_vermogen, axis\u001b[39m=\u001b[39m\u001b[39m1\u001b[39m)\u001b[39m.\u001b[39mcopy()\n\u001b[0;32m     <a href='vscode-notebook-cell:/c%3A/Repos/jads/Enexis/Enexis-case-study/Models/Model02-Simple-demographics-no-time-dependence-filter-on-residential-areas%20.ipynb#ch0000044?line=15'>16</a>\u001b[0m lin_reg \u001b[39m=\u001b[39m LinearRegression()\n\u001b[1;32m---> <a href='vscode-notebook-cell:/c%3A/Repos/jads/Enexis/Enexis-case-study/Models/Model02-Simple-demographics-no-time-dependence-filter-on-residential-areas%20.ipynb#ch0000044?line=16'>17</a>\u001b[0m lin_reg\u001b[39m.\u001b[39;49mfit(X_train_set, Y_train_set)\n",
      "File \u001b[1;32mc:\\Users\\cjf_v\\miniconda3\\lib\\site-packages\\sklearn\\linear_model\\_base.py:662\u001b[0m, in \u001b[0;36mLinearRegression.fit\u001b[1;34m(self, X, y, sample_weight)\u001b[0m\n\u001b[0;32m    <a href='file:///c%3A/Users/cjf_v/miniconda3/lib/site-packages/sklearn/linear_model/_base.py?line=657'>658</a>\u001b[0m n_jobs_ \u001b[39m=\u001b[39m \u001b[39mself\u001b[39m\u001b[39m.\u001b[39mn_jobs\n\u001b[0;32m    <a href='file:///c%3A/Users/cjf_v/miniconda3/lib/site-packages/sklearn/linear_model/_base.py?line=659'>660</a>\u001b[0m accept_sparse \u001b[39m=\u001b[39m \u001b[39mFalse\u001b[39;00m \u001b[39mif\u001b[39;00m \u001b[39mself\u001b[39m\u001b[39m.\u001b[39mpositive \u001b[39melse\u001b[39;00m [\u001b[39m\"\u001b[39m\u001b[39mcsr\u001b[39m\u001b[39m\"\u001b[39m, \u001b[39m\"\u001b[39m\u001b[39mcsc\u001b[39m\u001b[39m\"\u001b[39m, \u001b[39m\"\u001b[39m\u001b[39mcoo\u001b[39m\u001b[39m\"\u001b[39m]\n\u001b[1;32m--> <a href='file:///c%3A/Users/cjf_v/miniconda3/lib/site-packages/sklearn/linear_model/_base.py?line=661'>662</a>\u001b[0m X, y \u001b[39m=\u001b[39m \u001b[39mself\u001b[39;49m\u001b[39m.\u001b[39;49m_validate_data(\n\u001b[0;32m    <a href='file:///c%3A/Users/cjf_v/miniconda3/lib/site-packages/sklearn/linear_model/_base.py?line=662'>663</a>\u001b[0m     X, y, accept_sparse\u001b[39m=\u001b[39;49maccept_sparse, y_numeric\u001b[39m=\u001b[39;49m\u001b[39mTrue\u001b[39;49;00m, multi_output\u001b[39m=\u001b[39;49m\u001b[39mTrue\u001b[39;49;00m\n\u001b[0;32m    <a href='file:///c%3A/Users/cjf_v/miniconda3/lib/site-packages/sklearn/linear_model/_base.py?line=663'>664</a>\u001b[0m )\n\u001b[0;32m    <a href='file:///c%3A/Users/cjf_v/miniconda3/lib/site-packages/sklearn/linear_model/_base.py?line=665'>666</a>\u001b[0m \u001b[39mif\u001b[39;00m sample_weight \u001b[39mis\u001b[39;00m \u001b[39mnot\u001b[39;00m \u001b[39mNone\u001b[39;00m:\n\u001b[0;32m    <a href='file:///c%3A/Users/cjf_v/miniconda3/lib/site-packages/sklearn/linear_model/_base.py?line=666'>667</a>\u001b[0m     sample_weight \u001b[39m=\u001b[39m _check_sample_weight(sample_weight, X, dtype\u001b[39m=\u001b[39mX\u001b[39m.\u001b[39mdtype)\n",
      "File \u001b[1;32mc:\\Users\\cjf_v\\miniconda3\\lib\\site-packages\\sklearn\\base.py:576\u001b[0m, in \u001b[0;36mBaseEstimator._validate_data\u001b[1;34m(self, X, y, reset, validate_separately, **check_params)\u001b[0m\n\u001b[0;32m    <a href='file:///c%3A/Users/cjf_v/miniconda3/lib/site-packages/sklearn/base.py?line=573'>574</a>\u001b[0m         y \u001b[39m=\u001b[39m check_array(y, \u001b[39m*\u001b[39m\u001b[39m*\u001b[39mcheck_y_params)\n\u001b[0;32m    <a href='file:///c%3A/Users/cjf_v/miniconda3/lib/site-packages/sklearn/base.py?line=574'>575</a>\u001b[0m     \u001b[39melse\u001b[39;00m:\n\u001b[1;32m--> <a href='file:///c%3A/Users/cjf_v/miniconda3/lib/site-packages/sklearn/base.py?line=575'>576</a>\u001b[0m         X, y \u001b[39m=\u001b[39m check_X_y(X, y, \u001b[39m*\u001b[39m\u001b[39m*\u001b[39mcheck_params)\n\u001b[0;32m    <a href='file:///c%3A/Users/cjf_v/miniconda3/lib/site-packages/sklearn/base.py?line=576'>577</a>\u001b[0m     out \u001b[39m=\u001b[39m X, y\n\u001b[0;32m    <a href='file:///c%3A/Users/cjf_v/miniconda3/lib/site-packages/sklearn/base.py?line=578'>579</a>\u001b[0m \u001b[39mif\u001b[39;00m \u001b[39mnot\u001b[39;00m no_val_X \u001b[39mand\u001b[39;00m check_params\u001b[39m.\u001b[39mget(\u001b[39m\"\u001b[39m\u001b[39mensure_2d\u001b[39m\u001b[39m\"\u001b[39m, \u001b[39mTrue\u001b[39;00m):\n",
      "File \u001b[1;32mc:\\Users\\cjf_v\\miniconda3\\lib\\site-packages\\sklearn\\utils\\validation.py:956\u001b[0m, in \u001b[0;36mcheck_X_y\u001b[1;34m(X, y, accept_sparse, accept_large_sparse, dtype, order, copy, force_all_finite, ensure_2d, allow_nd, multi_output, ensure_min_samples, ensure_min_features, y_numeric, estimator)\u001b[0m\n\u001b[0;32m    <a href='file:///c%3A/Users/cjf_v/miniconda3/lib/site-packages/sklearn/utils/validation.py?line=952'>953</a>\u001b[0m \u001b[39mif\u001b[39;00m y \u001b[39mis\u001b[39;00m \u001b[39mNone\u001b[39;00m:\n\u001b[0;32m    <a href='file:///c%3A/Users/cjf_v/miniconda3/lib/site-packages/sklearn/utils/validation.py?line=953'>954</a>\u001b[0m     \u001b[39mraise\u001b[39;00m \u001b[39mValueError\u001b[39;00m(\u001b[39m\"\u001b[39m\u001b[39my cannot be None\u001b[39m\u001b[39m\"\u001b[39m)\n\u001b[1;32m--> <a href='file:///c%3A/Users/cjf_v/miniconda3/lib/site-packages/sklearn/utils/validation.py?line=955'>956</a>\u001b[0m X \u001b[39m=\u001b[39m check_array(\n\u001b[0;32m    <a href='file:///c%3A/Users/cjf_v/miniconda3/lib/site-packages/sklearn/utils/validation.py?line=956'>957</a>\u001b[0m     X,\n\u001b[0;32m    <a href='file:///c%3A/Users/cjf_v/miniconda3/lib/site-packages/sklearn/utils/validation.py?line=957'>958</a>\u001b[0m     accept_sparse\u001b[39m=\u001b[39;49maccept_sparse,\n\u001b[0;32m    <a href='file:///c%3A/Users/cjf_v/miniconda3/lib/site-packages/sklearn/utils/validation.py?line=958'>959</a>\u001b[0m     accept_large_sparse\u001b[39m=\u001b[39;49maccept_large_sparse,\n\u001b[0;32m    <a href='file:///c%3A/Users/cjf_v/miniconda3/lib/site-packages/sklearn/utils/validation.py?line=959'>960</a>\u001b[0m     dtype\u001b[39m=\u001b[39;49mdtype,\n\u001b[0;32m    <a href='file:///c%3A/Users/cjf_v/miniconda3/lib/site-packages/sklearn/utils/validation.py?line=960'>961</a>\u001b[0m     order\u001b[39m=\u001b[39;49morder,\n\u001b[0;32m    <a href='file:///c%3A/Users/cjf_v/miniconda3/lib/site-packages/sklearn/utils/validation.py?line=961'>962</a>\u001b[0m     copy\u001b[39m=\u001b[39;49mcopy,\n\u001b[0;32m    <a href='file:///c%3A/Users/cjf_v/miniconda3/lib/site-packages/sklearn/utils/validation.py?line=962'>963</a>\u001b[0m     force_all_finite\u001b[39m=\u001b[39;49mforce_all_finite,\n\u001b[0;32m    <a href='file:///c%3A/Users/cjf_v/miniconda3/lib/site-packages/sklearn/utils/validation.py?line=963'>964</a>\u001b[0m     ensure_2d\u001b[39m=\u001b[39;49mensure_2d,\n\u001b[0;32m    <a href='file:///c%3A/Users/cjf_v/miniconda3/lib/site-packages/sklearn/utils/validation.py?line=964'>965</a>\u001b[0m     allow_nd\u001b[39m=\u001b[39;49mallow_nd,\n\u001b[0;32m    <a href='file:///c%3A/Users/cjf_v/miniconda3/lib/site-packages/sklearn/utils/validation.py?line=965'>966</a>\u001b[0m     ensure_min_samples\u001b[39m=\u001b[39;49mensure_min_samples,\n\u001b[0;32m    <a href='file:///c%3A/Users/cjf_v/miniconda3/lib/site-packages/sklearn/utils/validation.py?line=966'>967</a>\u001b[0m     ensure_min_features\u001b[39m=\u001b[39;49mensure_min_features,\n\u001b[0;32m    <a href='file:///c%3A/Users/cjf_v/miniconda3/lib/site-packages/sklearn/utils/validation.py?line=967'>968</a>\u001b[0m     estimator\u001b[39m=\u001b[39;49mestimator,\n\u001b[0;32m    <a href='file:///c%3A/Users/cjf_v/miniconda3/lib/site-packages/sklearn/utils/validation.py?line=968'>969</a>\u001b[0m )\n\u001b[0;32m    <a href='file:///c%3A/Users/cjf_v/miniconda3/lib/site-packages/sklearn/utils/validation.py?line=970'>971</a>\u001b[0m y \u001b[39m=\u001b[39m _check_y(y, multi_output\u001b[39m=\u001b[39mmulti_output, y_numeric\u001b[39m=\u001b[39my_numeric)\n\u001b[0;32m    <a href='file:///c%3A/Users/cjf_v/miniconda3/lib/site-packages/sklearn/utils/validation.py?line=972'>973</a>\u001b[0m check_consistent_length(X, y)\n",
      "File \u001b[1;32mc:\\Users\\cjf_v\\miniconda3\\lib\\site-packages\\sklearn\\utils\\validation.py:792\u001b[0m, in \u001b[0;36mcheck_array\u001b[1;34m(array, accept_sparse, accept_large_sparse, dtype, order, copy, force_all_finite, ensure_2d, allow_nd, ensure_min_samples, ensure_min_features, estimator)\u001b[0m\n\u001b[0;32m    <a href='file:///c%3A/Users/cjf_v/miniconda3/lib/site-packages/sklearn/utils/validation.py?line=785'>786</a>\u001b[0m         \u001b[39mraise\u001b[39;00m \u001b[39mValueError\u001b[39;00m(\n\u001b[0;32m    <a href='file:///c%3A/Users/cjf_v/miniconda3/lib/site-packages/sklearn/utils/validation.py?line=786'>787</a>\u001b[0m             \u001b[39m\"\u001b[39m\u001b[39mFound array with dim \u001b[39m\u001b[39m%d\u001b[39;00m\u001b[39m. \u001b[39m\u001b[39m%s\u001b[39;00m\u001b[39m expected <= 2.\u001b[39m\u001b[39m\"\u001b[39m\n\u001b[0;32m    <a href='file:///c%3A/Users/cjf_v/miniconda3/lib/site-packages/sklearn/utils/validation.py?line=787'>788</a>\u001b[0m             \u001b[39m%\u001b[39m (array\u001b[39m.\u001b[39mndim, estimator_name)\n\u001b[0;32m    <a href='file:///c%3A/Users/cjf_v/miniconda3/lib/site-packages/sklearn/utils/validation.py?line=788'>789</a>\u001b[0m         )\n\u001b[0;32m    <a href='file:///c%3A/Users/cjf_v/miniconda3/lib/site-packages/sklearn/utils/validation.py?line=790'>791</a>\u001b[0m     \u001b[39mif\u001b[39;00m force_all_finite:\n\u001b[1;32m--> <a href='file:///c%3A/Users/cjf_v/miniconda3/lib/site-packages/sklearn/utils/validation.py?line=791'>792</a>\u001b[0m         _assert_all_finite(array, allow_nan\u001b[39m=\u001b[39;49mforce_all_finite \u001b[39m==\u001b[39;49m \u001b[39m\"\u001b[39;49m\u001b[39mallow-nan\u001b[39;49m\u001b[39m\"\u001b[39;49m)\n\u001b[0;32m    <a href='file:///c%3A/Users/cjf_v/miniconda3/lib/site-packages/sklearn/utils/validation.py?line=793'>794</a>\u001b[0m \u001b[39mif\u001b[39;00m ensure_min_samples \u001b[39m>\u001b[39m \u001b[39m0\u001b[39m:\n\u001b[0;32m    <a href='file:///c%3A/Users/cjf_v/miniconda3/lib/site-packages/sklearn/utils/validation.py?line=794'>795</a>\u001b[0m     n_samples \u001b[39m=\u001b[39m _num_samples(array)\n",
      "File \u001b[1;32mc:\\Users\\cjf_v\\miniconda3\\lib\\site-packages\\sklearn\\utils\\validation.py:114\u001b[0m, in \u001b[0;36m_assert_all_finite\u001b[1;34m(X, allow_nan, msg_dtype)\u001b[0m\n\u001b[0;32m    <a href='file:///c%3A/Users/cjf_v/miniconda3/lib/site-packages/sklearn/utils/validation.py?line=106'>107</a>\u001b[0m     \u001b[39mif\u001b[39;00m (\n\u001b[0;32m    <a href='file:///c%3A/Users/cjf_v/miniconda3/lib/site-packages/sklearn/utils/validation.py?line=107'>108</a>\u001b[0m         allow_nan\n\u001b[0;32m    <a href='file:///c%3A/Users/cjf_v/miniconda3/lib/site-packages/sklearn/utils/validation.py?line=108'>109</a>\u001b[0m         \u001b[39mand\u001b[39;00m np\u001b[39m.\u001b[39misinf(X)\u001b[39m.\u001b[39many()\n\u001b[0;32m    <a href='file:///c%3A/Users/cjf_v/miniconda3/lib/site-packages/sklearn/utils/validation.py?line=109'>110</a>\u001b[0m         \u001b[39mor\u001b[39;00m \u001b[39mnot\u001b[39;00m allow_nan\n\u001b[0;32m    <a href='file:///c%3A/Users/cjf_v/miniconda3/lib/site-packages/sklearn/utils/validation.py?line=110'>111</a>\u001b[0m         \u001b[39mand\u001b[39;00m \u001b[39mnot\u001b[39;00m np\u001b[39m.\u001b[39misfinite(X)\u001b[39m.\u001b[39mall()\n\u001b[0;32m    <a href='file:///c%3A/Users/cjf_v/miniconda3/lib/site-packages/sklearn/utils/validation.py?line=111'>112</a>\u001b[0m     ):\n\u001b[0;32m    <a href='file:///c%3A/Users/cjf_v/miniconda3/lib/site-packages/sklearn/utils/validation.py?line=112'>113</a>\u001b[0m         type_err \u001b[39m=\u001b[39m \u001b[39m\"\u001b[39m\u001b[39minfinity\u001b[39m\u001b[39m\"\u001b[39m \u001b[39mif\u001b[39;00m allow_nan \u001b[39melse\u001b[39;00m \u001b[39m\"\u001b[39m\u001b[39mNaN, infinity\u001b[39m\u001b[39m\"\u001b[39m\n\u001b[1;32m--> <a href='file:///c%3A/Users/cjf_v/miniconda3/lib/site-packages/sklearn/utils/validation.py?line=113'>114</a>\u001b[0m         \u001b[39mraise\u001b[39;00m \u001b[39mValueError\u001b[39;00m(\n\u001b[0;32m    <a href='file:///c%3A/Users/cjf_v/miniconda3/lib/site-packages/sklearn/utils/validation.py?line=114'>115</a>\u001b[0m             msg_err\u001b[39m.\u001b[39mformat(\n\u001b[0;32m    <a href='file:///c%3A/Users/cjf_v/miniconda3/lib/site-packages/sklearn/utils/validation.py?line=115'>116</a>\u001b[0m                 type_err, msg_dtype \u001b[39mif\u001b[39;00m msg_dtype \u001b[39mis\u001b[39;00m \u001b[39mnot\u001b[39;00m \u001b[39mNone\u001b[39;00m \u001b[39melse\u001b[39;00m X\u001b[39m.\u001b[39mdtype\n\u001b[0;32m    <a href='file:///c%3A/Users/cjf_v/miniconda3/lib/site-packages/sklearn/utils/validation.py?line=116'>117</a>\u001b[0m             )\n\u001b[0;32m    <a href='file:///c%3A/Users/cjf_v/miniconda3/lib/site-packages/sklearn/utils/validation.py?line=117'>118</a>\u001b[0m         )\n\u001b[0;32m    <a href='file:///c%3A/Users/cjf_v/miniconda3/lib/site-packages/sklearn/utils/validation.py?line=118'>119</a>\u001b[0m \u001b[39m# for object dtype data, we only check for NaNs (GH-13254)\u001b[39;00m\n\u001b[0;32m    <a href='file:///c%3A/Users/cjf_v/miniconda3/lib/site-packages/sklearn/utils/validation.py?line=119'>120</a>\u001b[0m \u001b[39melif\u001b[39;00m X\u001b[39m.\u001b[39mdtype \u001b[39m==\u001b[39m np\u001b[39m.\u001b[39mdtype(\u001b[39m\"\u001b[39m\u001b[39mobject\u001b[39m\u001b[39m\"\u001b[39m) \u001b[39mand\u001b[39;00m \u001b[39mnot\u001b[39;00m allow_nan:\n",
      "\u001b[1;31mValueError\u001b[0m: Input contains NaN, infinity or a value too large for dtype('float64')."
     ]
    }
   ],
   "source": [
    "opgesteld_vermogen = 'normalized_opgesteld_vermogen'\n",
    "columns_to_keep = [opgesteld_vermogen, 'GemiddeldInkomenPerInwoner_72', 'GemiddeldeHuishoudensgrootte_32', 'Koopwoningen_40']\n",
    "# columns_to_keep = [opgesteld_vermogen, 'GemiddeldeHuishoudensgrootte_32', 'Koopwoningen_40']\n",
    "df = df[columns_to_keep]\n",
    "\n",
    "train_set, test_set = train_test_split(df, test_size=0.2)\n",
    "\n",
    "print(f\"training set size: {len(train_set)}\\ntest set size: {len(test_set)}\")\n",
    "\n",
    "Y_train_set = train_set[opgesteld_vermogen]\n",
    "X_train_set = train_set.drop(opgesteld_vermogen, axis=1).copy()\n",
    "\n",
    "Y_test_set = test_set[opgesteld_vermogen]\n",
    "X_test_set = test_set.drop(opgesteld_vermogen, axis=1).copy()\n",
    "\n",
    "lin_reg = LinearRegression()\n",
    "lin_reg.fit(X_train_set, Y_train_set)"
   ]
  },
  {
   "cell_type": "markdown",
   "metadata": {},
   "source": [
    "Plot the fit with income"
   ]
  },
  {
   "cell_type": "code",
   "execution_count": null,
   "metadata": {},
   "outputs": [
    {
     "data": {
      "text/html": [
       "\n",
       "<div id=\"altair-viz-94865c08e8ff4f0fbd2542f3a8117806\"></div>\n",
       "<script type=\"text/javascript\">\n",
       "  var VEGA_DEBUG = (typeof VEGA_DEBUG == \"undefined\") ? {} : VEGA_DEBUG;\n",
       "  (function(spec, embedOpt){\n",
       "    let outputDiv = document.currentScript.previousElementSibling;\n",
       "    if (outputDiv.id !== \"altair-viz-94865c08e8ff4f0fbd2542f3a8117806\") {\n",
       "      outputDiv = document.getElementById(\"altair-viz-94865c08e8ff4f0fbd2542f3a8117806\");\n",
       "    }\n",
       "    const paths = {\n",
       "      \"vega\": \"https://cdn.jsdelivr.net/npm//vega@5?noext\",\n",
       "      \"vega-lib\": \"https://cdn.jsdelivr.net/npm//vega-lib?noext\",\n",
       "      \"vega-lite\": \"https://cdn.jsdelivr.net/npm//vega-lite@4.17.0?noext\",\n",
       "      \"vega-embed\": \"https://cdn.jsdelivr.net/npm//vega-embed@6?noext\",\n",
       "    };\n",
       "\n",
       "    function maybeLoadScript(lib, version) {\n",
       "      var key = `${lib.replace(\"-\", \"\")}_version`;\n",
       "      return (VEGA_DEBUG[key] == version) ?\n",
       "        Promise.resolve(paths[lib]) :\n",
       "        new Promise(function(resolve, reject) {\n",
       "          var s = document.createElement('script');\n",
       "          document.getElementsByTagName(\"head\")[0].appendChild(s);\n",
       "          s.async = true;\n",
       "          s.onload = () => {\n",
       "            VEGA_DEBUG[key] = version;\n",
       "            return resolve(paths[lib]);\n",
       "          };\n",
       "          s.onerror = () => reject(`Error loading script: ${paths[lib]}`);\n",
       "          s.src = paths[lib];\n",
       "        });\n",
       "    }\n",
       "\n",
       "    function showError(err) {\n",
       "      outputDiv.innerHTML = `<div class=\"error\" style=\"color:red;\">${err}</div>`;\n",
       "      throw err;\n",
       "    }\n",
       "\n",
       "    function displayChart(vegaEmbed) {\n",
       "      vegaEmbed(outputDiv, spec, embedOpt)\n",
       "        .catch(err => showError(`Javascript Error: ${err.message}<br>This usually means there's a typo in your chart specification. See the javascript console for the full traceback.`));\n",
       "    }\n",
       "\n",
       "    if(typeof define === \"function\" && define.amd) {\n",
       "      requirejs.config({paths});\n",
       "      require([\"vega-embed\"], displayChart, err => showError(`Error loading script: ${err.message}`));\n",
       "    } else {\n",
       "      maybeLoadScript(\"vega\", \"5\")\n",
       "        .then(() => maybeLoadScript(\"vega-lite\", \"4.17.0\"))\n",
       "        .then(() => maybeLoadScript(\"vega-embed\", \"6\"))\n",
       "        .catch(showError)\n",
       "        .then(() => displayChart(vegaEmbed));\n",
       "    }\n",
       "  })({\"config\": {\"view\": {\"continuousWidth\": 400, \"continuousHeight\": 300}}, \"layer\": [{\"mark\": \"circle\", \"encoding\": {\"x\": {\"field\": \"GemiddeldInkomenPerInwoner_72\", \"title\": \"# income\", \"type\": \"quantitative\"}, \"y\": {\"field\": \"normalized_opgesteld_vermogen\", \"title\": \"Opgesteld vermogen\", \"type\": \"quantitative\"}}}, {\"mark\": \"line\", \"encoding\": {\"x\": {\"field\": \"GemiddeldInkomenPerInwoner_72\", \"title\": \"# income\", \"type\": \"quantitative\"}, \"y\": {\"field\": \"normalized_opgesteld_vermogen\", \"title\": \"Opgesteld vermogen\", \"type\": \"quantitative\"}}, \"transform\": [{\"on\": \"GemiddeldInkomenPerInwoner_72\", \"regression\": \"normalized_opgesteld_vermogen\", \"method\": \"linear\"}]}], \"data\": {\"name\": \"data-5b76e27f68f49b24aa7c33277c7e03b4\"}, \"$schema\": \"https://vega.github.io/schema/vega-lite/v4.17.0.json\", \"datasets\": {\"data-5b76e27f68f49b24aa7c33277c7e03b4\": [{\"normalized_opgesteld_vermogen\": 0.38394160583941606, \"GemiddeldInkomenPerInwoner_72\": 25.9, \"GemiddeldeHuishoudensgrootte_32\": 2.1, \"Koopwoningen_40\": 55.0}, {\"normalized_opgesteld_vermogen\": 0.9264116575591985, \"GemiddeldInkomenPerInwoner_72\": 34.7, \"GemiddeldeHuishoudensgrootte_32\": 2.4, \"Koopwoningen_40\": 78.0}, {\"normalized_opgesteld_vermogen\": 1.1457943925233645, \"GemiddeldInkomenPerInwoner_72\": 26.2, \"GemiddeldeHuishoudensgrootte_32\": 3.3, \"Koopwoningen_40\": 88.0}, {\"normalized_opgesteld_vermogen\": 0.2711764705882353, \"GemiddeldInkomenPerInwoner_72\": 19.6, \"GemiddeldeHuishoudensgrootte_32\": 2.2, \"Koopwoningen_40\": 27.0}, {\"normalized_opgesteld_vermogen\": 1.2863945578231293, \"GemiddeldInkomenPerInwoner_72\": 27.7, \"GemiddeldeHuishoudensgrootte_32\": 2.1, \"Koopwoningen_40\": 68.0}, {\"normalized_opgesteld_vermogen\": 1.0679738562091503, \"GemiddeldInkomenPerInwoner_72\": 29.8, \"GemiddeldeHuishoudensgrootte_32\": 2.4, \"Koopwoningen_40\": 76.0}, {\"normalized_opgesteld_vermogen\": 0.6815709969788519, \"GemiddeldInkomenPerInwoner_72\": 27.9, \"GemiddeldeHuishoudensgrootte_32\": 2.3, \"Koopwoningen_40\": 74.0}, {\"normalized_opgesteld_vermogen\": 0.697841726618705, \"GemiddeldInkomenPerInwoner_72\": 29.3, \"GemiddeldeHuishoudensgrootte_32\": 2.1, \"Koopwoningen_40\": 71.0}, {\"normalized_opgesteld_vermogen\": 0.13531914893617022, \"GemiddeldInkomenPerInwoner_72\": 19.1, \"GemiddeldeHuishoudensgrootte_32\": 1.8, \"Koopwoningen_40\": 19.0}, {\"normalized_opgesteld_vermogen\": 0.2786666666666667, \"GemiddeldInkomenPerInwoner_72\": 20.3, \"GemiddeldeHuishoudensgrootte_32\": 1.9, \"Koopwoningen_40\": 46.0}, {\"normalized_opgesteld_vermogen\": 0.28826291079812205, \"GemiddeldInkomenPerInwoner_72\": 18.4, \"GemiddeldeHuishoudensgrootte_32\": 2.2, \"Koopwoningen_40\": 49.0}, {\"normalized_opgesteld_vermogen\": 0.7196581196581197, \"GemiddeldInkomenPerInwoner_72\": 22.3, \"GemiddeldeHuishoudensgrootte_32\": 2.2, \"Koopwoningen_40\": 67.0}, {\"normalized_opgesteld_vermogen\": 0.8836120401337793, \"GemiddeldInkomenPerInwoner_72\": 31.7, \"GemiddeldeHuishoudensgrootte_32\": 2.3, \"Koopwoningen_40\": 85.0}, {\"normalized_opgesteld_vermogen\": 0.924, \"GemiddeldInkomenPerInwoner_72\": 28.4, \"GemiddeldeHuishoudensgrootte_32\": 2.2, \"Koopwoningen_40\": 68.0}, {\"normalized_opgesteld_vermogen\": 0.29559748427672955, \"GemiddeldInkomenPerInwoner_72\": 21.9, \"GemiddeldeHuishoudensgrootte_32\": 1.9, \"Koopwoningen_40\": 46.0}, {\"normalized_opgesteld_vermogen\": 0.7763636363636364, \"GemiddeldInkomenPerInwoner_72\": 30.4, \"GemiddeldeHuishoudensgrootte_32\": 2.2, \"Koopwoningen_40\": 75.0}, {\"normalized_opgesteld_vermogen\": 0.2804289544235925, \"GemiddeldInkomenPerInwoner_72\": 21.9, \"GemiddeldeHuishoudensgrootte_32\": 2.2, \"Koopwoningen_40\": 45.0}, {\"normalized_opgesteld_vermogen\": 0.4817325800376648, \"GemiddeldInkomenPerInwoner_72\": 22.6, \"GemiddeldeHuishoudensgrootte_32\": 2.0, \"Koopwoningen_40\": 36.0}, {\"normalized_opgesteld_vermogen\": 0.2453488372093023, \"GemiddeldInkomenPerInwoner_72\": 31.5, \"GemiddeldeHuishoudensgrootte_32\": 2.2, \"Koopwoningen_40\": 79.0}, {\"normalized_opgesteld_vermogen\": 0.5748006379585326, \"GemiddeldInkomenPerInwoner_72\": 32.4, \"GemiddeldeHuishoudensgrootte_32\": 2.4, \"Koopwoningen_40\": 75.0}, {\"normalized_opgesteld_vermogen\": 0.3561111111111111, \"GemiddeldInkomenPerInwoner_72\": 27.3, \"GemiddeldeHuishoudensgrootte_32\": 2.3, \"Koopwoningen_40\": 70.0}, {\"normalized_opgesteld_vermogen\": 1.1073929961089495, \"GemiddeldInkomenPerInwoner_72\": 27.8, \"GemiddeldeHuishoudensgrootte_32\": 2.2, \"Koopwoningen_40\": 81.0}, {\"normalized_opgesteld_vermogen\": 0.8523274478330658, \"GemiddeldInkomenPerInwoner_72\": 25.7, \"GemiddeldeHuishoudensgrootte_32\": 2.4, \"Koopwoningen_40\": 75.0}, {\"normalized_opgesteld_vermogen\": 0.5203517587939699, \"GemiddeldInkomenPerInwoner_72\": 27.3, \"GemiddeldeHuishoudensgrootte_32\": 1.9, \"Koopwoningen_40\": 48.0}, {\"normalized_opgesteld_vermogen\": 0.2448, \"GemiddeldInkomenPerInwoner_72\": 18.6, \"GemiddeldeHuishoudensgrootte_32\": 2.0, \"Koopwoningen_40\": 19.0}, {\"normalized_opgesteld_vermogen\": 0.3568106312292359, \"GemiddeldInkomenPerInwoner_72\": 29.7, \"GemiddeldeHuishoudensgrootte_32\": 1.8, \"Koopwoningen_40\": 54.0}, {\"normalized_opgesteld_vermogen\": 0.1881619937694704, \"GemiddeldInkomenPerInwoner_72\": 21.8, \"GemiddeldeHuishoudensgrootte_32\": 1.7, \"Koopwoningen_40\": 36.0}, {\"normalized_opgesteld_vermogen\": 0.8092307692307692, \"GemiddeldInkomenPerInwoner_72\": 28.1, \"GemiddeldeHuishoudensgrootte_32\": 2.3, \"Koopwoningen_40\": 80.0}, {\"normalized_opgesteld_vermogen\": 0.36589861751152075, \"GemiddeldInkomenPerInwoner_72\": 31.2, \"GemiddeldeHuishoudensgrootte_32\": 1.7, \"Koopwoningen_40\": 41.0}, {\"normalized_opgesteld_vermogen\": 0.5842696629213483, \"GemiddeldInkomenPerInwoner_72\": 24.4, \"GemiddeldeHuishoudensgrootte_32\": 2.2, \"Koopwoningen_40\": 65.0}, {\"normalized_opgesteld_vermogen\": 0.7618147448015122, \"GemiddeldInkomenPerInwoner_72\": 20.7, \"GemiddeldeHuishoudensgrootte_32\": 2.1, \"Koopwoningen_40\": 39.0}, {\"normalized_opgesteld_vermogen\": 0.460546875, \"GemiddeldInkomenPerInwoner_72\": 26.0, \"GemiddeldeHuishoudensgrootte_32\": 1.8, \"Koopwoningen_40\": 46.0}, {\"normalized_opgesteld_vermogen\": 0.4600397614314115, \"GemiddeldInkomenPerInwoner_72\": 25.9, \"GemiddeldeHuishoudensgrootte_32\": 1.9, \"Koopwoningen_40\": 53.0}, {\"normalized_opgesteld_vermogen\": 0.40716612377850164, \"GemiddeldInkomenPerInwoner_72\": 27.9, \"GemiddeldeHuishoudensgrootte_32\": 2.4, \"Koopwoningen_40\": 64.0}, {\"normalized_opgesteld_vermogen\": 0.4237942122186495, \"GemiddeldInkomenPerInwoner_72\": 43.5, \"GemiddeldeHuishoudensgrootte_32\": 2.0, \"Koopwoningen_40\": 75.0}, {\"normalized_opgesteld_vermogen\": 1.1787139689578714, \"GemiddeldInkomenPerInwoner_72\": 31.7, \"GemiddeldeHuishoudensgrootte_32\": 2.3, \"Koopwoningen_40\": 81.0}, {\"normalized_opgesteld_vermogen\": 0.10773480662983426, \"GemiddeldInkomenPerInwoner_72\": 18.1, \"GemiddeldeHuishoudensgrootte_32\": 2.2, \"Koopwoningen_40\": 25.0}, {\"normalized_opgesteld_vermogen\": 0.7902040816326531, \"GemiddeldInkomenPerInwoner_72\": 25.0, \"GemiddeldeHuishoudensgrootte_32\": 2.1, \"Koopwoningen_40\": 64.0}, {\"normalized_opgesteld_vermogen\": 0.5203252032520326, \"GemiddeldInkomenPerInwoner_72\": 22.9, \"GemiddeldeHuishoudensgrootte_32\": 2.1, \"Koopwoningen_40\": 51.0}, {\"normalized_opgesteld_vermogen\": 0.7929618768328446, \"GemiddeldInkomenPerInwoner_72\": 23.7, \"GemiddeldeHuishoudensgrootte_32\": 2.3, \"Koopwoningen_40\": 56.0}, {\"normalized_opgesteld_vermogen\": 0.2224032586558045, \"GemiddeldInkomenPerInwoner_72\": 23.2, \"GemiddeldeHuishoudensgrootte_32\": 1.7, \"Koopwoningen_40\": 50.0}, {\"normalized_opgesteld_vermogen\": 0.21420118343195266, \"GemiddeldInkomenPerInwoner_72\": 23.6, \"GemiddeldeHuishoudensgrootte_32\": 2.2, \"Koopwoningen_40\": 56.0}, {\"normalized_opgesteld_vermogen\": 0.3058201058201058, \"GemiddeldInkomenPerInwoner_72\": 27.7, \"GemiddeldeHuishoudensgrootte_32\": 1.7, \"Koopwoningen_40\": 43.0}, {\"normalized_opgesteld_vermogen\": 0.21595925297113752, \"GemiddeldInkomenPerInwoner_72\": 20.7, \"GemiddeldeHuishoudensgrootte_32\": 1.8, \"Koopwoningen_40\": 27.0}, {\"normalized_opgesteld_vermogen\": 1.2390390390390391, \"GemiddeldInkomenPerInwoner_72\": 24.6, \"GemiddeldeHuishoudensgrootte_32\": 2.3, \"Koopwoningen_40\": 70.0}, {\"normalized_opgesteld_vermogen\": 1.2425, \"GemiddeldInkomenPerInwoner_72\": 31.6, \"GemiddeldeHuishoudensgrootte_32\": 2.5, \"Koopwoningen_40\": 90.0}, {\"normalized_opgesteld_vermogen\": 0.36445623342175065, \"GemiddeldInkomenPerInwoner_72\": 27.3, \"GemiddeldeHuishoudensgrootte_32\": 1.8, \"Koopwoningen_40\": 37.0}, {\"normalized_opgesteld_vermogen\": 0.5306010928961749, \"GemiddeldInkomenPerInwoner_72\": 25.2, \"GemiddeldeHuishoudensgrootte_32\": 2.1, \"Koopwoningen_40\": 59.0}, {\"normalized_opgesteld_vermogen\": 0.775, \"GemiddeldInkomenPerInwoner_72\": 22.1, \"GemiddeldeHuishoudensgrootte_32\": 2.2, \"Koopwoningen_40\": 54.0}, {\"normalized_opgesteld_vermogen\": 0.5690048939641109, \"GemiddeldInkomenPerInwoner_72\": 26.2, \"GemiddeldeHuishoudensgrootte_32\": 1.9, \"Koopwoningen_40\": 53.0}, {\"normalized_opgesteld_vermogen\": 0.48954545454545456, \"GemiddeldInkomenPerInwoner_72\": 21.8, \"GemiddeldeHuishoudensgrootte_32\": 2.2, \"Koopwoningen_40\": 60.0}, {\"normalized_opgesteld_vermogen\": 1.0, \"GemiddeldInkomenPerInwoner_72\": 23.4, \"GemiddeldeHuishoudensgrootte_32\": 2.3, \"Koopwoningen_40\": 66.0}, {\"normalized_opgesteld_vermogen\": 0.878, \"GemiddeldInkomenPerInwoner_72\": 36.6, \"GemiddeldeHuishoudensgrootte_32\": 2.7, \"Koopwoningen_40\": 88.0}, {\"normalized_opgesteld_vermogen\": 0.7817567567567567, \"GemiddeldInkomenPerInwoner_72\": 26.9, \"GemiddeldeHuishoudensgrootte_32\": 2.4, \"Koopwoningen_40\": 75.0}, {\"normalized_opgesteld_vermogen\": 0.22293233082706768, \"GemiddeldInkomenPerInwoner_72\": 26.5, \"GemiddeldeHuishoudensgrootte_32\": 1.4, \"Koopwoningen_40\": 43.0}, {\"normalized_opgesteld_vermogen\": 0.8178010471204189, \"GemiddeldInkomenPerInwoner_72\": 27.0, \"GemiddeldeHuishoudensgrootte_32\": 2.7, \"Koopwoningen_40\": 88.0}, {\"normalized_opgesteld_vermogen\": 0.6622641509433962, \"GemiddeldInkomenPerInwoner_72\": 29.4, \"GemiddeldeHuishoudensgrootte_32\": 2.4, \"Koopwoningen_40\": 74.0}, {\"normalized_opgesteld_vermogen\": 0.5019305019305019, \"GemiddeldInkomenPerInwoner_72\": 26.8, \"GemiddeldeHuishoudensgrootte_32\": 2.3, \"Koopwoningen_40\": 63.0}, {\"normalized_opgesteld_vermogen\": 0.9007751937984496, \"GemiddeldInkomenPerInwoner_72\": 26.6, \"GemiddeldeHuishoudensgrootte_32\": 2.1, \"Koopwoningen_40\": 71.0}, {\"normalized_opgesteld_vermogen\": 0.662111801242236, \"GemiddeldInkomenPerInwoner_72\": 30.7, \"GemiddeldeHuishoudensgrootte_32\": 2.5, \"Koopwoningen_40\": 79.0}, {\"normalized_opgesteld_vermogen\": 0.9085972850678733, \"GemiddeldInkomenPerInwoner_72\": 25.7, \"GemiddeldeHuishoudensgrootte_32\": 2.3, \"Koopwoningen_40\": 73.0}, {\"normalized_opgesteld_vermogen\": 0.8007633587786259, \"GemiddeldInkomenPerInwoner_72\": 27.0, \"GemiddeldeHuishoudensgrootte_32\": 2.4, \"Koopwoningen_40\": 79.0}, {\"normalized_opgesteld_vermogen\": 0.15012594458438286, \"GemiddeldInkomenPerInwoner_72\": 20.6, \"GemiddeldeHuishoudensgrootte_32\": 1.5, \"Koopwoningen_40\": 25.0}, {\"normalized_opgesteld_vermogen\": 0.7572602739726028, \"GemiddeldInkomenPerInwoner_72\": 29.9, \"GemiddeldeHuishoudensgrootte_32\": 2.2, \"Koopwoningen_40\": 69.0}, {\"normalized_opgesteld_vermogen\": 0.12468193384223919, \"GemiddeldInkomenPerInwoner_72\": 30.1, \"GemiddeldeHuishoudensgrootte_32\": 1.5, \"Koopwoningen_40\": 52.0}, {\"normalized_opgesteld_vermogen\": 0.33018372703412074, \"GemiddeldInkomenPerInwoner_72\": 23.2, \"GemiddeldeHuishoudensgrootte_32\": 2.0, \"Koopwoningen_40\": 40.0}, {\"normalized_opgesteld_vermogen\": 0.17089201877934274, \"GemiddeldInkomenPerInwoner_72\": 26.7, \"GemiddeldeHuishoudensgrootte_32\": 1.6, \"Koopwoningen_40\": 44.0}, {\"normalized_opgesteld_vermogen\": 1.0296650717703348, \"GemiddeldInkomenPerInwoner_72\": 30.3, \"GemiddeldeHuishoudensgrootte_32\": 2.5, \"Koopwoningen_40\": 79.0}, {\"normalized_opgesteld_vermogen\": 0.9288793103448276, \"GemiddeldInkomenPerInwoner_72\": 27.0, \"GemiddeldeHuishoudensgrootte_32\": 2.8, \"Koopwoningen_40\": 68.0}, {\"normalized_opgesteld_vermogen\": 0.6336170212765957, \"GemiddeldInkomenPerInwoner_72\": 26.1, \"GemiddeldeHuishoudensgrootte_32\": 2.3, \"Koopwoningen_40\": 60.0}, {\"normalized_opgesteld_vermogen\": 0.9387453874538746, \"GemiddeldInkomenPerInwoner_72\": 30.3, \"GemiddeldeHuishoudensgrootte_32\": 2.2, \"Koopwoningen_40\": 69.0}, {\"normalized_opgesteld_vermogen\": 0.8333333333333334, \"GemiddeldInkomenPerInwoner_72\": 24.9, \"GemiddeldeHuishoudensgrootte_32\": 2.3, \"Koopwoningen_40\": 59.0}, {\"normalized_opgesteld_vermogen\": 0.7978354978354978, \"GemiddeldInkomenPerInwoner_72\": 31.6, \"GemiddeldeHuishoudensgrootte_32\": 2.2, \"Koopwoningen_40\": 80.0}, {\"normalized_opgesteld_vermogen\": 0.96, \"GemiddeldInkomenPerInwoner_72\": 26.0, \"GemiddeldeHuishoudensgrootte_32\": 2.3, \"Koopwoningen_40\": 55.0}, {\"normalized_opgesteld_vermogen\": 0.6690307328605201, \"GemiddeldInkomenPerInwoner_72\": 26.9, \"GemiddeldeHuishoudensgrootte_32\": 2.2, \"Koopwoningen_40\": 61.0}, {\"normalized_opgesteld_vermogen\": 0.7631205673758865, \"GemiddeldInkomenPerInwoner_72\": 29.3, \"GemiddeldeHuishoudensgrootte_32\": 2.3, \"Koopwoningen_40\": 65.0}, {\"normalized_opgesteld_vermogen\": 1.3231343283582089, \"GemiddeldInkomenPerInwoner_72\": 26.2, \"GemiddeldeHuishoudensgrootte_32\": 2.2, \"Koopwoningen_40\": 69.0}, {\"normalized_opgesteld_vermogen\": 0.4988888888888889, \"GemiddeldInkomenPerInwoner_72\": 28.3, \"GemiddeldeHuishoudensgrootte_32\": 2.2, \"Koopwoningen_40\": 72.0}, {\"normalized_opgesteld_vermogen\": 0.23481012658227848, \"GemiddeldInkomenPerInwoner_72\": 27.0, \"GemiddeldeHuishoudensgrootte_32\": 1.8, \"Koopwoningen_40\": 53.0}, {\"normalized_opgesteld_vermogen\": 1.1396610169491526, \"GemiddeldInkomenPerInwoner_72\": 27.8, \"GemiddeldeHuishoudensgrootte_32\": 2.3, \"Koopwoningen_40\": 73.0}, {\"normalized_opgesteld_vermogen\": 0.8153846153846154, \"GemiddeldInkomenPerInwoner_72\": 31.8, \"GemiddeldeHuishoudensgrootte_32\": 2.5, \"Koopwoningen_40\": 85.0}, {\"normalized_opgesteld_vermogen\": 0.6696696696696697, \"GemiddeldInkomenPerInwoner_72\": 27.5, \"GemiddeldeHuishoudensgrootte_32\": 2.4, \"Koopwoningen_40\": 71.0}, {\"normalized_opgesteld_vermogen\": 0.7576, \"GemiddeldInkomenPerInwoner_72\": 28.2, \"GemiddeldeHuishoudensgrootte_32\": 2.5, \"Koopwoningen_40\": 73.0}, {\"normalized_opgesteld_vermogen\": 0.7220630372492837, \"GemiddeldInkomenPerInwoner_72\": 23.6, \"GemiddeldeHuishoudensgrootte_32\": 1.9, \"Koopwoningen_40\": 53.0}, {\"normalized_opgesteld_vermogen\": 0.7571045576407507, \"GemiddeldInkomenPerInwoner_72\": 29.2, \"GemiddeldeHuishoudensgrootte_32\": 2.3, \"Koopwoningen_40\": 75.0}, {\"normalized_opgesteld_vermogen\": 0.6668478260869565, \"GemiddeldInkomenPerInwoner_72\": 26.3, \"GemiddeldeHuishoudensgrootte_32\": 2.4, \"Koopwoningen_40\": 68.0}, {\"normalized_opgesteld_vermogen\": 0.640251572327044, \"GemiddeldInkomenPerInwoner_72\": 25.3, \"GemiddeldeHuishoudensgrootte_32\": 2.2, \"Koopwoningen_40\": 50.0}, {\"normalized_opgesteld_vermogen\": 0.6167441860465116, \"GemiddeldInkomenPerInwoner_72\": 31.1, \"GemiddeldeHuishoudensgrootte_32\": 2.4, \"Koopwoningen_40\": 86.0}, {\"normalized_opgesteld_vermogen\": 1.2481605351170568, \"GemiddeldInkomenPerInwoner_72\": 28.8, \"GemiddeldeHuishoudensgrootte_32\": 2.3, \"Koopwoningen_40\": 73.0}, {\"normalized_opgesteld_vermogen\": 1.1399239543726236, \"GemiddeldInkomenPerInwoner_72\": 22.3, \"GemiddeldeHuishoudensgrootte_32\": 2.1, \"Koopwoningen_40\": 58.0}, {\"normalized_opgesteld_vermogen\": 1.014709371293001, \"GemiddeldInkomenPerInwoner_72\": 25.4, \"GemiddeldeHuishoudensgrootte_32\": 2.2, \"Koopwoningen_40\": 60.0}, {\"normalized_opgesteld_vermogen\": 0.31746031746031744, \"GemiddeldInkomenPerInwoner_72\": 28.6, \"GemiddeldeHuishoudensgrootte_32\": 1.8, \"Koopwoningen_40\": 47.0}, {\"normalized_opgesteld_vermogen\": 0.48970099667774086, \"GemiddeldInkomenPerInwoner_72\": 22.8, \"GemiddeldeHuishoudensgrootte_32\": 1.8, \"Koopwoningen_40\": 43.0}, {\"normalized_opgesteld_vermogen\": 0.5808695652173913, \"GemiddeldInkomenPerInwoner_72\": 36.2, \"GemiddeldeHuishoudensgrootte_32\": 2.4, \"Koopwoningen_40\": 96.0}, {\"normalized_opgesteld_vermogen\": 1.5938650306748465, \"GemiddeldInkomenPerInwoner_72\": 27.6, \"GemiddeldeHuishoudensgrootte_32\": 3.1, \"Koopwoningen_40\": 75.0}, {\"normalized_opgesteld_vermogen\": 0.6857142857142857, \"GemiddeldInkomenPerInwoner_72\": 27.4, \"GemiddeldeHuishoudensgrootte_32\": 2.2, \"Koopwoningen_40\": 71.0}, {\"normalized_opgesteld_vermogen\": 0.29384615384615387, \"GemiddeldInkomenPerInwoner_72\": 23.1, \"GemiddeldeHuishoudensgrootte_32\": 2.2, \"Koopwoningen_40\": 54.0}, {\"normalized_opgesteld_vermogen\": 0.2927835051546392, \"GemiddeldInkomenPerInwoner_72\": 15.3, \"GemiddeldeHuishoudensgrootte_32\": 2.0, \"Koopwoningen_40\": 17.0}, {\"normalized_opgesteld_vermogen\": 0.1373134328358209, \"GemiddeldInkomenPerInwoner_72\": 23.4, \"GemiddeldeHuishoudensgrootte_32\": 1.6, \"Koopwoningen_40\": 27.0}, {\"normalized_opgesteld_vermogen\": 1.3098976109215017, \"GemiddeldInkomenPerInwoner_72\": 28.5, \"GemiddeldeHuishoudensgrootte_32\": 2.2, \"Koopwoningen_40\": 77.0}, {\"normalized_opgesteld_vermogen\": 0.03756613756613757, \"GemiddeldInkomenPerInwoner_72\": 35.7, \"GemiddeldeHuishoudensgrootte_32\": 1.4, \"Koopwoningen_40\": 28.0}, {\"normalized_opgesteld_vermogen\": 0.8940886699507389, \"GemiddeldInkomenPerInwoner_72\": 26.3, \"GemiddeldeHuishoudensgrootte_32\": 2.4, \"Koopwoningen_40\": 68.0}, {\"normalized_opgesteld_vermogen\": 1.0820809248554912, \"GemiddeldInkomenPerInwoner_72\": 27.4, \"GemiddeldeHuishoudensgrootte_32\": 2.4, \"Koopwoningen_40\": 74.0}, {\"normalized_opgesteld_vermogen\": 0.799260628465804, \"GemiddeldInkomenPerInwoner_72\": 28.9, \"GemiddeldeHuishoudensgrootte_32\": 2.0, \"Koopwoningen_40\": 56.0}, {\"normalized_opgesteld_vermogen\": 0.5380165289256198, \"GemiddeldInkomenPerInwoner_72\": 30.9, \"GemiddeldeHuishoudensgrootte_32\": 2.3, \"Koopwoningen_40\": 65.0}, {\"normalized_opgesteld_vermogen\": 0.44380165289256196, \"GemiddeldInkomenPerInwoner_72\": 29.0, \"GemiddeldeHuishoudensgrootte_32\": 2.2, \"Koopwoningen_40\": 63.0}, {\"normalized_opgesteld_vermogen\": 0.07365728900255754, \"GemiddeldInkomenPerInwoner_72\": 35.4, \"GemiddeldeHuishoudensgrootte_32\": 1.6, \"Koopwoningen_40\": 49.0}, {\"normalized_opgesteld_vermogen\": 0.3148148148148148, \"GemiddeldInkomenPerInwoner_72\": 19.6, \"GemiddeldeHuishoudensgrootte_32\": 1.9, \"Koopwoningen_40\": 34.0}, {\"normalized_opgesteld_vermogen\": 0.6909722222222222, \"GemiddeldInkomenPerInwoner_72\": 29.5, \"GemiddeldeHuishoudensgrootte_32\": 2.3, \"Koopwoningen_40\": 77.0}, {\"normalized_opgesteld_vermogen\": 0.20544747081712061, \"GemiddeldInkomenPerInwoner_72\": 22.8, \"GemiddeldeHuishoudensgrootte_32\": 2.2, \"Koopwoningen_40\": 66.0}, {\"normalized_opgesteld_vermogen\": 0.5698461538461539, \"GemiddeldInkomenPerInwoner_72\": 29.6, \"GemiddeldeHuishoudensgrootte_32\": 2.3, \"Koopwoningen_40\": 65.0}, {\"normalized_opgesteld_vermogen\": 0.33271461716937356, \"GemiddeldInkomenPerInwoner_72\": 27.1, \"GemiddeldeHuishoudensgrootte_32\": 2.2, \"Koopwoningen_40\": 70.0}, {\"normalized_opgesteld_vermogen\": 0.7639130434782608, \"GemiddeldInkomenPerInwoner_72\": 20.1, \"GemiddeldeHuishoudensgrootte_32\": 2.2, \"Koopwoningen_40\": 39.0}, {\"normalized_opgesteld_vermogen\": 0.4433234421364985, \"GemiddeldInkomenPerInwoner_72\": 25.9, \"GemiddeldeHuishoudensgrootte_32\": 2.2, \"Koopwoningen_40\": 64.0}, {\"normalized_opgesteld_vermogen\": 1.0171052631578947, \"GemiddeldInkomenPerInwoner_72\": 24.6, \"GemiddeldeHuishoudensgrootte_32\": 2.1, \"Koopwoningen_40\": 58.0}, {\"normalized_opgesteld_vermogen\": 0.9896253602305476, \"GemiddeldInkomenPerInwoner_72\": 23.9, \"GemiddeldeHuishoudensgrootte_32\": 2.2, \"Koopwoningen_40\": 54.0}, {\"normalized_opgesteld_vermogen\": 0.7387596899224806, \"GemiddeldInkomenPerInwoner_72\": 19.7, \"GemiddeldeHuishoudensgrootte_32\": 2.3, \"Koopwoningen_40\": 49.0}, {\"normalized_opgesteld_vermogen\": 0.6794258373205742, \"GemiddeldInkomenPerInwoner_72\": 24.4, \"GemiddeldeHuishoudensgrootte_32\": 2.8, \"Koopwoningen_40\": 69.0}, {\"normalized_opgesteld_vermogen\": 0.49657142857142855, \"GemiddeldInkomenPerInwoner_72\": 24.2, \"GemiddeldeHuishoudensgrootte_32\": 2.1, \"Koopwoningen_40\": 42.0}, {\"normalized_opgesteld_vermogen\": 0.25333333333333335, \"GemiddeldInkomenPerInwoner_72\": 26.3, \"GemiddeldeHuishoudensgrootte_32\": 1.9, \"Koopwoningen_40\": 44.0}, {\"normalized_opgesteld_vermogen\": 0.8815533980582524, \"GemiddeldInkomenPerInwoner_72\": 29.8, \"GemiddeldeHuishoudensgrootte_32\": 2.7, \"Koopwoningen_40\": 88.0}, {\"normalized_opgesteld_vermogen\": 1.114070351758794, \"GemiddeldInkomenPerInwoner_72\": 23.3, \"GemiddeldeHuishoudensgrootte_32\": 2.3, \"Koopwoningen_40\": 64.0}, {\"normalized_opgesteld_vermogen\": 0.508, \"GemiddeldInkomenPerInwoner_72\": 22.4, \"GemiddeldeHuishoudensgrootte_32\": 1.9, \"Koopwoningen_40\": 45.0}, {\"normalized_opgesteld_vermogen\": 0.5196347031963471, \"GemiddeldInkomenPerInwoner_72\": 24.6, \"GemiddeldeHuishoudensgrootte_32\": 2.3, \"Koopwoningen_40\": 65.0}, {\"normalized_opgesteld_vermogen\": 0.9570200573065902, \"GemiddeldInkomenPerInwoner_72\": 27.4, \"GemiddeldeHuishoudensgrootte_32\": 2.2, \"Koopwoningen_40\": 70.0}, {\"normalized_opgesteld_vermogen\": 1.0946524064171124, \"GemiddeldInkomenPerInwoner_72\": 30.7, \"GemiddeldeHuishoudensgrootte_32\": 2.6, \"Koopwoningen_40\": 71.0}, {\"normalized_opgesteld_vermogen\": 0.2627599243856333, \"GemiddeldInkomenPerInwoner_72\": 21.5, \"GemiddeldeHuishoudensgrootte_32\": 1.9, \"Koopwoningen_40\": 31.0}, {\"normalized_opgesteld_vermogen\": 0.22950819672131148, \"GemiddeldInkomenPerInwoner_72\": 25.7, \"GemiddeldeHuishoudensgrootte_32\": 2.0, \"Koopwoningen_40\": 57.0}, {\"normalized_opgesteld_vermogen\": 0.30334346504559273, \"GemiddeldInkomenPerInwoner_72\": 21.6, \"GemiddeldeHuishoudensgrootte_32\": 2.3, \"Koopwoningen_40\": 64.0}, {\"normalized_opgesteld_vermogen\": 0.5827067669172933, \"GemiddeldInkomenPerInwoner_72\": 28.4, \"GemiddeldeHuishoudensgrootte_32\": 2.4, \"Koopwoningen_40\": 59.0}, {\"normalized_opgesteld_vermogen\": 0.8417302798982188, \"GemiddeldInkomenPerInwoner_72\": 25.7, \"GemiddeldeHuishoudensgrootte_32\": 2.3, \"Koopwoningen_40\": 60.0}, {\"normalized_opgesteld_vermogen\": 0.32839506172839505, \"GemiddeldInkomenPerInwoner_72\": 32.6, \"GemiddeldeHuishoudensgrootte_32\": 1.8, \"Koopwoningen_40\": 60.0}, {\"normalized_opgesteld_vermogen\": 1.2086378737541528, \"GemiddeldInkomenPerInwoner_72\": 28.6, \"GemiddeldeHuishoudensgrootte_32\": 2.1, \"Koopwoningen_40\": 71.0}, {\"normalized_opgesteld_vermogen\": 0.759375, \"GemiddeldInkomenPerInwoner_72\": 29.3, \"GemiddeldeHuishoudensgrootte_32\": 2.4, \"Koopwoningen_40\": 72.0}, {\"normalized_opgesteld_vermogen\": 0.8314049586776859, \"GemiddeldInkomenPerInwoner_72\": 24.8, \"GemiddeldeHuishoudensgrootte_32\": 2.9, \"Koopwoningen_40\": 83.0}, {\"normalized_opgesteld_vermogen\": 0.9892514395393474, \"GemiddeldInkomenPerInwoner_72\": 27.4, \"GemiddeldeHuishoudensgrootte_32\": 2.1, \"Koopwoningen_40\": 69.0}, {\"normalized_opgesteld_vermogen\": 0.3949874686716792, \"GemiddeldInkomenPerInwoner_72\": 24.2, \"GemiddeldeHuishoudensgrootte_32\": 2.2, \"Koopwoningen_40\": 58.0}, {\"normalized_opgesteld_vermogen\": 0.48912280701754385, \"GemiddeldInkomenPerInwoner_72\": 21.3, \"GemiddeldeHuishoudensgrootte_32\": 2.1, \"Koopwoningen_40\": 37.0}, {\"normalized_opgesteld_vermogen\": 0.7242105263157895, \"GemiddeldInkomenPerInwoner_72\": 25.8, \"GemiddeldeHuishoudensgrootte_32\": 2.3, \"Koopwoningen_40\": 66.0}, {\"normalized_opgesteld_vermogen\": 0.40307017543859647, \"GemiddeldInkomenPerInwoner_72\": 22.3, \"GemiddeldeHuishoudensgrootte_32\": 2.0, \"Koopwoningen_40\": 49.0}, {\"normalized_opgesteld_vermogen\": 1.4160676532769556, \"GemiddeldInkomenPerInwoner_72\": 27.3, \"GemiddeldeHuishoudensgrootte_32\": 2.3, \"Koopwoningen_40\": 74.0}, {\"normalized_opgesteld_vermogen\": 0.29170506912442395, \"GemiddeldInkomenPerInwoner_72\": 26.6, \"GemiddeldeHuishoudensgrootte_32\": 2.0, \"Koopwoningen_40\": 47.0}, {\"normalized_opgesteld_vermogen\": 0.3914110429447853, \"GemiddeldInkomenPerInwoner_72\": 24.4, \"GemiddeldeHuishoudensgrootte_32\": 2.2, \"Koopwoningen_40\": 70.0}, {\"normalized_opgesteld_vermogen\": 0.6205357142857143, \"GemiddeldInkomenPerInwoner_72\": 28.8, \"GemiddeldeHuishoudensgrootte_32\": 2.7, \"Koopwoningen_40\": 88.0}, {\"normalized_opgesteld_vermogen\": 0.2375, \"GemiddeldInkomenPerInwoner_72\": 26.7, \"GemiddeldeHuishoudensgrootte_32\": 2.0, \"Koopwoningen_40\": 57.0}, {\"normalized_opgesteld_vermogen\": 1.042296072507553, \"GemiddeldInkomenPerInwoner_72\": 29.2, \"GemiddeldeHuishoudensgrootte_32\": 2.4, \"Koopwoningen_40\": 78.0}, {\"normalized_opgesteld_vermogen\": 2.3364806866952788, \"GemiddeldInkomenPerInwoner_72\": 26.7, \"GemiddeldeHuishoudensgrootte_32\": 2.8, \"Koopwoningen_40\": 81.0}, {\"normalized_opgesteld_vermogen\": 0.4863768115942029, \"GemiddeldInkomenPerInwoner_72\": 26.6, \"GemiddeldeHuishoudensgrootte_32\": 2.3, \"Koopwoningen_40\": 75.0}, {\"normalized_opgesteld_vermogen\": 0.965597667638484, \"GemiddeldInkomenPerInwoner_72\": 34.4, \"GemiddeldeHuishoudensgrootte_32\": 2.6, \"Koopwoningen_40\": 89.0}, {\"normalized_opgesteld_vermogen\": 0.1890499194847021, \"GemiddeldInkomenPerInwoner_72\": 27.7, \"GemiddeldeHuishoudensgrootte_32\": 1.7, \"Koopwoningen_40\": 49.0}, {\"normalized_opgesteld_vermogen\": 0.2971887550200803, \"GemiddeldInkomenPerInwoner_72\": 19.9, \"GemiddeldeHuishoudensgrootte_32\": 2.0, \"Koopwoningen_40\": 25.0}, {\"normalized_opgesteld_vermogen\": 0.24153846153846154, \"GemiddeldInkomenPerInwoner_72\": 15.9, \"GemiddeldeHuishoudensgrootte_32\": 2.3, \"Koopwoningen_40\": 31.0}, {\"normalized_opgesteld_vermogen\": 1.3060606060606061, \"GemiddeldInkomenPerInwoner_72\": 25.8, \"GemiddeldeHuishoudensgrootte_32\": 2.3, \"Koopwoningen_40\": 68.0}, {\"normalized_opgesteld_vermogen\": 0.874, \"GemiddeldInkomenPerInwoner_72\": 26.1, \"GemiddeldeHuishoudensgrootte_32\": 2.5, \"Koopwoningen_40\": 75.0}, {\"normalized_opgesteld_vermogen\": 0.681841432225064, \"GemiddeldInkomenPerInwoner_72\": 24.4, \"GemiddeldeHuishoudensgrootte_32\": 2.2, \"Koopwoningen_40\": 61.0}, {\"normalized_opgesteld_vermogen\": 0.8325301204819278, \"GemiddeldInkomenPerInwoner_72\": 29.5, \"GemiddeldeHuishoudensgrootte_32\": 2.4, \"Koopwoningen_40\": 71.0}, {\"normalized_opgesteld_vermogen\": 0.484149855907781, \"GemiddeldInkomenPerInwoner_72\": 36.5, \"GemiddeldeHuishoudensgrootte_32\": 2.1, \"Koopwoningen_40\": 67.0}, {\"normalized_opgesteld_vermogen\": 0.45242966751918157, \"GemiddeldInkomenPerInwoner_72\": 24.7, \"GemiddeldeHuishoudensgrootte_32\": 1.9, \"Koopwoningen_40\": 47.0}, {\"normalized_opgesteld_vermogen\": 0.9, \"GemiddeldInkomenPerInwoner_72\": 26.9, \"GemiddeldeHuishoudensgrootte_32\": 2.3, \"Koopwoningen_40\": 79.0}, {\"normalized_opgesteld_vermogen\": 1.0680851063829788, \"GemiddeldInkomenPerInwoner_72\": 30.5, \"GemiddeldeHuishoudensgrootte_32\": 3.1, \"Koopwoningen_40\": 85.0}, {\"normalized_opgesteld_vermogen\": 0.9525423728813559, \"GemiddeldInkomenPerInwoner_72\": 30.3, \"GemiddeldeHuishoudensgrootte_32\": 2.4, \"Koopwoningen_40\": 79.0}, {\"normalized_opgesteld_vermogen\": 0.9062200956937799, \"GemiddeldInkomenPerInwoner_72\": 31.8, \"GemiddeldeHuishoudensgrootte_32\": 2.9, \"Koopwoningen_40\": 72.0}, {\"normalized_opgesteld_vermogen\": 0.6290909090909091, \"GemiddeldInkomenPerInwoner_72\": 32.3, \"GemiddeldeHuishoudensgrootte_32\": 2.4, \"Koopwoningen_40\": 72.0}, {\"normalized_opgesteld_vermogen\": 0.7089308176100629, \"GemiddeldInkomenPerInwoner_72\": 25.3, \"GemiddeldeHuishoudensgrootte_32\": 2.3, \"Koopwoningen_40\": 63.0}, {\"normalized_opgesteld_vermogen\": 1.0511363636363635, \"GemiddeldInkomenPerInwoner_72\": 27.1, \"GemiddeldeHuishoudensgrootte_32\": 2.9, \"Koopwoningen_40\": 76.0}, {\"normalized_opgesteld_vermogen\": 1.1341666666666668, \"GemiddeldInkomenPerInwoner_72\": 29.8, \"GemiddeldeHuishoudensgrootte_32\": 2.5, \"Koopwoningen_40\": 68.0}, {\"normalized_opgesteld_vermogen\": 0.4683982683982684, \"GemiddeldInkomenPerInwoner_72\": 21.2, \"GemiddeldeHuishoudensgrootte_32\": 2.2, \"Koopwoningen_40\": 59.0}, {\"normalized_opgesteld_vermogen\": 0.07300613496932515, \"GemiddeldInkomenPerInwoner_72\": 19.2, \"GemiddeldeHuishoudensgrootte_32\": 1.9, \"Koopwoningen_40\": 22.0}, {\"normalized_opgesteld_vermogen\": 0.492604501607717, \"GemiddeldInkomenPerInwoner_72\": 26.8, \"GemiddeldeHuishoudensgrootte_32\": 2.3, \"Koopwoningen_40\": 67.0}, {\"normalized_opgesteld_vermogen\": 0.997583081570997, \"GemiddeldInkomenPerInwoner_72\": 24.6, \"GemiddeldeHuishoudensgrootte_32\": 2.3, \"Koopwoningen_40\": 70.0}, {\"normalized_opgesteld_vermogen\": 0.03758389261744966, \"GemiddeldInkomenPerInwoner_72\": 22.9, \"GemiddeldeHuishoudensgrootte_32\": 1.3, \"Koopwoningen_40\": 14.0}, {\"normalized_opgesteld_vermogen\": 0.3967654986522911, \"GemiddeldInkomenPerInwoner_72\": 26.7, \"GemiddeldeHuishoudensgrootte_32\": 2.0, \"Koopwoningen_40\": 65.0}, {\"normalized_opgesteld_vermogen\": 0.10825439783491204, \"GemiddeldInkomenPerInwoner_72\": 22.2, \"GemiddeldeHuishoudensgrootte_32\": 1.5, \"Koopwoningen_40\": 27.0}, {\"normalized_opgesteld_vermogen\": 1.0295081967213116, \"GemiddeldInkomenPerInwoner_72\": 28.9, \"GemiddeldeHuishoudensgrootte_32\": 2.2, \"Koopwoningen_40\": 75.0}, {\"normalized_opgesteld_vermogen\": 1.2014869888475836, \"GemiddeldInkomenPerInwoner_72\": 32.2, \"GemiddeldeHuishoudensgrootte_32\": 2.3, \"Koopwoningen_40\": 70.0}, {\"normalized_opgesteld_vermogen\": 0.2715976331360947, \"GemiddeldInkomenPerInwoner_72\": 20.2, \"GemiddeldeHuishoudensgrootte_32\": 1.8, \"Koopwoningen_40\": 23.0}, {\"normalized_opgesteld_vermogen\": 0.023776223776223775, \"GemiddeldInkomenPerInwoner_72\": 45.2, \"GemiddeldeHuishoudensgrootte_32\": 1.5, \"Koopwoningen_40\": 49.0}, {\"normalized_opgesteld_vermogen\": 0.08677563150074294, \"GemiddeldInkomenPerInwoner_72\": 25.0, \"GemiddeldeHuishoudensgrootte_32\": 1.4, \"Koopwoningen_40\": 27.0}, {\"normalized_opgesteld_vermogen\": 0.4282517482517483, \"GemiddeldInkomenPerInwoner_72\": 21.8, \"GemiddeldeHuishoudensgrootte_32\": 2.2, \"Koopwoningen_40\": 63.0}, {\"normalized_opgesteld_vermogen\": 0.6086206896551725, \"GemiddeldInkomenPerInwoner_72\": 26.2, \"GemiddeldeHuishoudensgrootte_32\": 2.5, \"Koopwoningen_40\": 77.0}, {\"normalized_opgesteld_vermogen\": 0.5088785046728972, \"GemiddeldInkomenPerInwoner_72\": 21.9, \"GemiddeldeHuishoudensgrootte_32\": 1.9, \"Koopwoningen_40\": 47.0}, {\"normalized_opgesteld_vermogen\": 0.4533333333333333, \"GemiddeldInkomenPerInwoner_72\": 21.5, \"GemiddeldeHuishoudensgrootte_32\": 2.1, \"Koopwoningen_40\": 37.0}, {\"normalized_opgesteld_vermogen\": 0.42330097087378643, \"GemiddeldInkomenPerInwoner_72\": 24.8, \"GemiddeldeHuishoudensgrootte_32\": 1.9, \"Koopwoningen_40\": 53.0}, {\"normalized_opgesteld_vermogen\": 0.13388157894736843, \"GemiddeldInkomenPerInwoner_72\": 28.6, \"GemiddeldeHuishoudensgrootte_32\": 1.9, \"Koopwoningen_40\": 53.0}, {\"normalized_opgesteld_vermogen\": 0.5804545454545454, \"GemiddeldInkomenPerInwoner_72\": 23.6, \"GemiddeldeHuishoudensgrootte_32\": 2.1, \"Koopwoningen_40\": 58.0}, {\"normalized_opgesteld_vermogen\": 0.32868852459016396, \"GemiddeldInkomenPerInwoner_72\": 20.0, \"GemiddeldeHuishoudensgrootte_32\": 2.2, \"Koopwoningen_40\": 55.0}, {\"normalized_opgesteld_vermogen\": 0.03824604141291108, \"GemiddeldInkomenPerInwoner_72\": 38.7, \"GemiddeldeHuishoudensgrootte_32\": 1.5, \"Koopwoningen_40\": 33.0}, {\"normalized_opgesteld_vermogen\": 0.6963898916967509, \"GemiddeldInkomenPerInwoner_72\": 24.7, \"GemiddeldeHuishoudensgrootte_32\": 2.2, \"Koopwoningen_40\": 66.0}, {\"normalized_opgesteld_vermogen\": 1.5169398907103826, \"GemiddeldInkomenPerInwoner_72\": 31.8, \"GemiddeldeHuishoudensgrootte_32\": 2.8, \"Koopwoningen_40\": 91.0}, {\"normalized_opgesteld_vermogen\": 0.7128205128205128, \"GemiddeldInkomenPerInwoner_72\": 21.0, \"GemiddeldeHuishoudensgrootte_32\": 2.2, \"Koopwoningen_40\": 53.0}, {\"normalized_opgesteld_vermogen\": 0.8838461538461538, \"GemiddeldInkomenPerInwoner_72\": 26.4, \"GemiddeldeHuishoudensgrootte_32\": 2.3, \"Koopwoningen_40\": 68.0}, {\"normalized_opgesteld_vermogen\": 0.17702127659574468, \"GemiddeldInkomenPerInwoner_72\": 33.5, \"GemiddeldeHuishoudensgrootte_32\": 2.3, \"Koopwoningen_40\": 62.0}, {\"normalized_opgesteld_vermogen\": 0.5419354838709678, \"GemiddeldInkomenPerInwoner_72\": 23.2, \"GemiddeldeHuishoudensgrootte_32\": 2.1, \"Koopwoningen_40\": 60.0}, {\"normalized_opgesteld_vermogen\": 0.9350574712643678, \"GemiddeldInkomenPerInwoner_72\": 30.0, \"GemiddeldeHuishoudensgrootte_32\": 2.1, \"Koopwoningen_40\": 57.0}, {\"normalized_opgesteld_vermogen\": 1.0869300911854103, \"GemiddeldInkomenPerInwoner_72\": 28.6, \"GemiddeldeHuishoudensgrootte_32\": 2.2, \"Koopwoningen_40\": 77.0}, {\"normalized_opgesteld_vermogen\": 0.44151898734177214, \"GemiddeldInkomenPerInwoner_72\": 29.1, \"GemiddeldeHuishoudensgrootte_32\": 2.7, \"Koopwoningen_40\": 86.0}, {\"normalized_opgesteld_vermogen\": 0.3268608414239482, \"GemiddeldInkomenPerInwoner_72\": 33.3, \"GemiddeldeHuishoudensgrootte_32\": 2.0, \"Koopwoningen_40\": 65.0}, {\"normalized_opgesteld_vermogen\": 0.6648888888888889, \"GemiddeldInkomenPerInwoner_72\": 25.4, \"GemiddeldeHuishoudensgrootte_32\": 2.3, \"Koopwoningen_40\": 64.0}, {\"normalized_opgesteld_vermogen\": 0.936318407960199, \"GemiddeldInkomenPerInwoner_72\": 27.8, \"GemiddeldeHuishoudensgrootte_32\": 2.3, \"Koopwoningen_40\": 72.0}, {\"normalized_opgesteld_vermogen\": 0.11524752475247525, \"GemiddeldInkomenPerInwoner_72\": 23.6, \"GemiddeldeHuishoudensgrootte_32\": 1.3, \"Koopwoningen_40\": 39.0}, {\"normalized_opgesteld_vermogen\": 0.44699453551912566, \"GemiddeldInkomenPerInwoner_72\": 20.2, \"GemiddeldeHuishoudensgrootte_32\": 1.9, \"Koopwoningen_40\": 37.0}, {\"normalized_opgesteld_vermogen\": 1.2066265060240964, \"GemiddeldInkomenPerInwoner_72\": 24.0, \"GemiddeldeHuishoudensgrootte_32\": 2.2, \"Koopwoningen_40\": 60.0}, {\"normalized_opgesteld_vermogen\": 1.0743682310469314, \"GemiddeldInkomenPerInwoner_72\": 25.7, \"GemiddeldeHuishoudensgrootte_32\": 2.8, \"Koopwoningen_40\": 86.0}, {\"normalized_opgesteld_vermogen\": 0.9475, \"GemiddeldInkomenPerInwoner_72\": 28.5, \"GemiddeldeHuishoudensgrootte_32\": 2.3, \"Koopwoningen_40\": 75.0}, {\"normalized_opgesteld_vermogen\": 0.9596153846153846, \"GemiddeldInkomenPerInwoner_72\": 29.2, \"GemiddeldeHuishoudensgrootte_32\": 2.4, \"Koopwoningen_40\": 75.0}, {\"normalized_opgesteld_vermogen\": 1.0177777777777777, \"GemiddeldInkomenPerInwoner_72\": 24.5, \"GemiddeldeHuishoudensgrootte_32\": 2.3, \"Koopwoningen_40\": 72.0}, {\"normalized_opgesteld_vermogen\": 0.30211764705882355, \"GemiddeldInkomenPerInwoner_72\": 23.9, \"GemiddeldeHuishoudensgrootte_32\": 2.4, \"Koopwoningen_40\": 54.0}, {\"normalized_opgesteld_vermogen\": 0.5298755186721992, \"GemiddeldInkomenPerInwoner_72\": 28.8, \"GemiddeldeHuishoudensgrootte_32\": 2.3, \"Koopwoningen_40\": 69.0}, {\"normalized_opgesteld_vermogen\": 0.1783132530120482, \"GemiddeldInkomenPerInwoner_72\": 22.9, \"GemiddeldeHuishoudensgrootte_32\": 1.7, \"Koopwoningen_40\": 29.0}, {\"normalized_opgesteld_vermogen\": 1.217283950617284, \"GemiddeldInkomenPerInwoner_72\": 27.8, \"GemiddeldeHuishoudensgrootte_32\": 2.2, \"Koopwoningen_40\": 66.0}, {\"normalized_opgesteld_vermogen\": 0.5675090252707581, \"GemiddeldInkomenPerInwoner_72\": 26.7, \"GemiddeldeHuishoudensgrootte_32\": 2.4, \"Koopwoningen_40\": 73.0}, {\"normalized_opgesteld_vermogen\": 0.808910891089109, \"GemiddeldInkomenPerInwoner_72\": 27.3, \"GemiddeldeHuishoudensgrootte_32\": 2.0, \"Koopwoningen_40\": 61.0}, {\"normalized_opgesteld_vermogen\": 0.38174807197943444, \"GemiddeldInkomenPerInwoner_72\": 19.4, \"GemiddeldeHuishoudensgrootte_32\": 2.0, \"Koopwoningen_40\": 47.0}, {\"normalized_opgesteld_vermogen\": 0.6506172839506172, \"GemiddeldInkomenPerInwoner_72\": 23.6, \"GemiddeldeHuishoudensgrootte_32\": 2.2, \"Koopwoningen_40\": 56.0}, {\"normalized_opgesteld_vermogen\": 0.15766423357664233, \"GemiddeldInkomenPerInwoner_72\": 27.1, \"GemiddeldeHuishoudensgrootte_32\": 1.4, \"Koopwoningen_40\": 25.0}, {\"normalized_opgesteld_vermogen\": 1.0798206278026905, \"GemiddeldInkomenPerInwoner_72\": 26.1, \"GemiddeldeHuishoudensgrootte_32\": 2.3, \"Koopwoningen_40\": 72.0}, {\"normalized_opgesteld_vermogen\": 0.5085501858736059, \"GemiddeldInkomenPerInwoner_72\": 27.1, \"GemiddeldeHuishoudensgrootte_32\": 2.4, \"Koopwoningen_40\": 75.0}, {\"normalized_opgesteld_vermogen\": 0.6345762711864407, \"GemiddeldInkomenPerInwoner_72\": 25.2, \"GemiddeldeHuishoudensgrootte_32\": 2.3, \"Koopwoningen_40\": 66.0}, {\"normalized_opgesteld_vermogen\": 0.6483091787439613, \"GemiddeldInkomenPerInwoner_72\": 29.9, \"GemiddeldeHuishoudensgrootte_32\": 2.4, \"Koopwoningen_40\": 80.0}, {\"normalized_opgesteld_vermogen\": 0.8686274509803922, \"GemiddeldInkomenPerInwoner_72\": 25.9, \"GemiddeldeHuishoudensgrootte_32\": 2.3, \"Koopwoningen_40\": 65.0}, {\"normalized_opgesteld_vermogen\": 0.8093922651933702, \"GemiddeldInkomenPerInwoner_72\": 25.3, \"GemiddeldeHuishoudensgrootte_32\": 2.3, \"Koopwoningen_40\": 61.0}, {\"normalized_opgesteld_vermogen\": 1.0244897959183674, \"GemiddeldInkomenPerInwoner_72\": 27.7, \"GemiddeldeHuishoudensgrootte_32\": 2.1, \"Koopwoningen_40\": 70.0}, {\"normalized_opgesteld_vermogen\": 0.295, \"GemiddeldInkomenPerInwoner_72\": 25.6, \"GemiddeldeHuishoudensgrootte_32\": 1.9, \"Koopwoningen_40\": 57.0}, {\"normalized_opgesteld_vermogen\": 0.5630648330058939, \"GemiddeldInkomenPerInwoner_72\": 26.6, \"GemiddeldeHuishoudensgrootte_32\": 2.4, \"Koopwoningen_40\": 62.0}, {\"normalized_opgesteld_vermogen\": 0.12167300380228137, \"GemiddeldInkomenPerInwoner_72\": 19.8, \"GemiddeldeHuishoudensgrootte_32\": 2.0, \"Koopwoningen_40\": 31.0}, {\"normalized_opgesteld_vermogen\": 0.36875, \"GemiddeldInkomenPerInwoner_72\": 24.0, \"GemiddeldeHuishoudensgrootte_32\": 2.2, \"Koopwoningen_40\": 70.0}, {\"normalized_opgesteld_vermogen\": 0.809795918367347, \"GemiddeldInkomenPerInwoner_72\": 26.9, \"GemiddeldeHuishoudensgrootte_32\": 2.5, \"Koopwoningen_40\": 78.0}, {\"normalized_opgesteld_vermogen\": 0.947565543071161, \"GemiddeldInkomenPerInwoner_72\": 26.3, \"GemiddeldeHuishoudensgrootte_32\": 2.1, \"Koopwoningen_40\": 69.0}, {\"normalized_opgesteld_vermogen\": 0.7333333333333333, \"GemiddeldInkomenPerInwoner_72\": 23.0, \"GemiddeldeHuishoudensgrootte_32\": 2.6, \"Koopwoningen_40\": 76.0}, {\"normalized_opgesteld_vermogen\": 0.6996996996996997, \"GemiddeldInkomenPerInwoner_72\": 24.4, \"GemiddeldeHuishoudensgrootte_32\": 2.2, \"Koopwoningen_40\": 64.0}, {\"normalized_opgesteld_vermogen\": 1.297991967871486, \"GemiddeldInkomenPerInwoner_72\": 25.5, \"GemiddeldeHuishoudensgrootte_32\": 2.5, \"Koopwoningen_40\": 81.0}, {\"normalized_opgesteld_vermogen\": 0.0627831715210356, \"GemiddeldInkomenPerInwoner_72\": 27.4, \"GemiddeldeHuishoudensgrootte_32\": 1.6, \"Koopwoningen_40\": 46.0}, {\"normalized_opgesteld_vermogen\": 0.6826388888888889, \"GemiddeldInkomenPerInwoner_72\": 26.6, \"GemiddeldeHuishoudensgrootte_32\": 2.2, \"Koopwoningen_40\": 61.0}, {\"normalized_opgesteld_vermogen\": 0.3381313131313131, \"GemiddeldInkomenPerInwoner_72\": 28.5, \"GemiddeldeHuishoudensgrootte_32\": 2.2, \"Koopwoningen_40\": 62.0}, {\"normalized_opgesteld_vermogen\": 0.9971223021582734, \"GemiddeldInkomenPerInwoner_72\": 22.3, \"GemiddeldeHuishoudensgrootte_32\": 2.3, \"Koopwoningen_40\": 65.0}, {\"normalized_opgesteld_vermogen\": 0.10874200426439233, \"GemiddeldInkomenPerInwoner_72\": 23.6, \"GemiddeldeHuishoudensgrootte_32\": 1.8, \"Koopwoningen_40\": 33.0}, {\"normalized_opgesteld_vermogen\": 0.9339759036144578, \"GemiddeldInkomenPerInwoner_72\": 28.2, \"GemiddeldeHuishoudensgrootte_32\": 2.3, \"Koopwoningen_40\": 68.0}, {\"normalized_opgesteld_vermogen\": 0.1125748502994012, \"GemiddeldInkomenPerInwoner_72\": 24.5, \"GemiddeldeHuishoudensgrootte_32\": 1.4, \"Koopwoningen_40\": 27.0}, {\"normalized_opgesteld_vermogen\": 0.6089743589743589, \"GemiddeldInkomenPerInwoner_72\": 28.9, \"GemiddeldeHuishoudensgrootte_32\": 2.5, \"Koopwoningen_40\": 88.0}, {\"normalized_opgesteld_vermogen\": 1.2168, \"GemiddeldInkomenPerInwoner_72\": 25.3, \"GemiddeldeHuishoudensgrootte_32\": 2.2, \"Koopwoningen_40\": 70.0}, {\"normalized_opgesteld_vermogen\": 0.8713636363636363, \"GemiddeldInkomenPerInwoner_72\": 26.0, \"GemiddeldeHuishoudensgrootte_32\": 2.1, \"Koopwoningen_40\": 67.0}, {\"normalized_opgesteld_vermogen\": 1.218018018018018, \"GemiddeldInkomenPerInwoner_72\": 26.0, \"GemiddeldeHuishoudensgrootte_32\": 2.3, \"Koopwoningen_40\": 71.0}, {\"normalized_opgesteld_vermogen\": 0.7098507462686567, \"GemiddeldInkomenPerInwoner_72\": 23.7, \"GemiddeldeHuishoudensgrootte_32\": 2.2, \"Koopwoningen_40\": 64.0}, {\"normalized_opgesteld_vermogen\": 0.47598784194528876, \"GemiddeldInkomenPerInwoner_72\": 21.7, \"GemiddeldeHuishoudensgrootte_32\": 2.2, \"Koopwoningen_40\": 65.0}, {\"normalized_opgesteld_vermogen\": 1.1265116279069767, \"GemiddeldInkomenPerInwoner_72\": 32.7, \"GemiddeldeHuishoudensgrootte_32\": 2.8, \"Koopwoningen_40\": 87.0}, {\"normalized_opgesteld_vermogen\": 0.7389270976616231, \"GemiddeldInkomenPerInwoner_72\": 21.2, \"GemiddeldeHuishoudensgrootte_32\": 1.9, \"Koopwoningen_40\": 47.0}, {\"normalized_opgesteld_vermogen\": 0.5875776397515527, \"GemiddeldInkomenPerInwoner_72\": 22.4, \"GemiddeldeHuishoudensgrootte_32\": 1.9, \"Koopwoningen_40\": 44.0}, {\"normalized_opgesteld_vermogen\": 0.4281391830559758, \"GemiddeldInkomenPerInwoner_72\": 25.5, \"GemiddeldeHuishoudensgrootte_32\": 2.1, \"Koopwoningen_40\": 67.0}, {\"normalized_opgesteld_vermogen\": 0.05934065934065934, \"GemiddeldInkomenPerInwoner_72\": 30.1, \"GemiddeldeHuishoudensgrootte_32\": 1.4, \"Koopwoningen_40\": 19.0}, {\"normalized_opgesteld_vermogen\": 0.6007874015748031, \"GemiddeldInkomenPerInwoner_72\": 24.3, \"GemiddeldeHuishoudensgrootte_32\": 2.3, \"Koopwoningen_40\": 71.0}, {\"normalized_opgesteld_vermogen\": 0.8402640264026403, \"GemiddeldInkomenPerInwoner_72\": 25.6, \"GemiddeldeHuishoudensgrootte_32\": 1.9, \"Koopwoningen_40\": 59.0}, {\"normalized_opgesteld_vermogen\": 0.19616438356164384, \"GemiddeldInkomenPerInwoner_72\": 22.1, \"GemiddeldeHuishoudensgrootte_32\": 2.1, \"Koopwoningen_40\": 46.0}, {\"normalized_opgesteld_vermogen\": 0.7730103806228373, \"GemiddeldInkomenPerInwoner_72\": 35.7, \"GemiddeldeHuishoudensgrootte_32\": 2.3, \"Koopwoningen_40\": 82.0}, {\"normalized_opgesteld_vermogen\": 1.3415584415584416, \"GemiddeldInkomenPerInwoner_72\": 30.3, \"GemiddeldeHuishoudensgrootte_32\": 2.2, \"Koopwoningen_40\": 80.0}, {\"normalized_opgesteld_vermogen\": 0.1539951573849879, \"GemiddeldInkomenPerInwoner_72\": 25.2, \"GemiddeldeHuishoudensgrootte_32\": 1.4, \"Koopwoningen_40\": 38.0}, {\"normalized_opgesteld_vermogen\": 0.9853061224489796, \"GemiddeldInkomenPerInwoner_72\": 26.7, \"GemiddeldeHuishoudensgrootte_32\": 2.9, \"Koopwoningen_40\": 79.0}, {\"normalized_opgesteld_vermogen\": 0.32529182879377433, \"GemiddeldInkomenPerInwoner_72\": 20.5, \"GemiddeldeHuishoudensgrootte_32\": 2.3, \"Koopwoningen_40\": 40.0}, {\"normalized_opgesteld_vermogen\": 0.10488431876606684, \"GemiddeldInkomenPerInwoner_72\": 20.1, \"GemiddeldeHuishoudensgrootte_32\": 2.2, \"Koopwoningen_40\": 43.0}, {\"normalized_opgesteld_vermogen\": 1.4242424242424243, \"GemiddeldInkomenPerInwoner_72\": 26.1, \"GemiddeldeHuishoudensgrootte_32\": 2.3, \"Koopwoningen_40\": 76.0}, {\"normalized_opgesteld_vermogen\": 0.26990881458966565, \"GemiddeldInkomenPerInwoner_72\": 21.4, \"GemiddeldeHuishoudensgrootte_32\": 2.2, \"Koopwoningen_40\": 44.0}, {\"normalized_opgesteld_vermogen\": 0.6584541062801932, \"GemiddeldInkomenPerInwoner_72\": 25.2, \"GemiddeldeHuishoudensgrootte_32\": 2.0, \"Koopwoningen_40\": 54.0}, {\"normalized_opgesteld_vermogen\": 0.5142857142857142, \"GemiddeldInkomenPerInwoner_72\": 27.2, \"GemiddeldeHuishoudensgrootte_32\": 2.3, \"Koopwoningen_40\": 71.0}, {\"normalized_opgesteld_vermogen\": 0.15934664246823957, \"GemiddeldInkomenPerInwoner_72\": 24.8, \"GemiddeldeHuishoudensgrootte_32\": 1.6, \"Koopwoningen_40\": 30.0}, {\"normalized_opgesteld_vermogen\": 0.6354098360655738, \"GemiddeldInkomenPerInwoner_72\": 29.2, \"GemiddeldeHuishoudensgrootte_32\": 2.7, \"Koopwoningen_40\": 63.0}, {\"normalized_opgesteld_vermogen\": 0.23346303501945526, \"GemiddeldInkomenPerInwoner_72\": 23.6, \"GemiddeldeHuishoudensgrootte_32\": 1.9, \"Koopwoningen_40\": 27.0}, {\"normalized_opgesteld_vermogen\": 0.9395348837209302, \"GemiddeldInkomenPerInwoner_72\": 24.8, \"GemiddeldeHuishoudensgrootte_32\": 2.4, \"Koopwoningen_40\": 69.0}, {\"normalized_opgesteld_vermogen\": 0.5390029325513197, \"GemiddeldInkomenPerInwoner_72\": 26.5, \"GemiddeldeHuishoudensgrootte_32\": 2.0, \"Koopwoningen_40\": 51.0}, {\"normalized_opgesteld_vermogen\": 0.46042780748663104, \"GemiddeldInkomenPerInwoner_72\": 23.9, \"GemiddeldeHuishoudensgrootte_32\": 2.1, \"Koopwoningen_40\": 51.0}, {\"normalized_opgesteld_vermogen\": 0.8696629213483146, \"GemiddeldInkomenPerInwoner_72\": 29.1, \"GemiddeldeHuishoudensgrootte_32\": 2.2, \"Koopwoningen_40\": 69.0}, {\"normalized_opgesteld_vermogen\": 0.5867803837953092, \"GemiddeldInkomenPerInwoner_72\": 27.9, \"GemiddeldeHuishoudensgrootte_32\": 2.4, \"Koopwoningen_40\": 71.0}, {\"normalized_opgesteld_vermogen\": 0.7100817438692099, \"GemiddeldInkomenPerInwoner_72\": 27.2, \"GemiddeldeHuishoudensgrootte_32\": 2.3, \"Koopwoningen_40\": 73.0}, {\"normalized_opgesteld_vermogen\": 0.4666666666666667, \"GemiddeldInkomenPerInwoner_72\": 29.7, \"GemiddeldeHuishoudensgrootte_32\": 2.4, \"Koopwoningen_40\": 63.0}, {\"normalized_opgesteld_vermogen\": 1.036875, \"GemiddeldInkomenPerInwoner_72\": 39.9, \"GemiddeldeHuishoudensgrootte_32\": 2.0, \"Koopwoningen_40\": 66.0}, {\"normalized_opgesteld_vermogen\": 0.40959595959595957, \"GemiddeldInkomenPerInwoner_72\": 30.5, \"GemiddeldeHuishoudensgrootte_32\": 2.3, \"Koopwoningen_40\": 56.0}, {\"normalized_opgesteld_vermogen\": 0.4880294659300184, \"GemiddeldInkomenPerInwoner_72\": 26.2, \"GemiddeldeHuishoudensgrootte_32\": 2.2, \"Koopwoningen_40\": 63.0}, {\"normalized_opgesteld_vermogen\": 0.22289156626506024, \"GemiddeldInkomenPerInwoner_72\": 25.3, \"GemiddeldeHuishoudensgrootte_32\": 1.5, \"Koopwoningen_40\": 42.0}, {\"normalized_opgesteld_vermogen\": 1.068141592920354, \"GemiddeldInkomenPerInwoner_72\": 30.2, \"GemiddeldeHuishoudensgrootte_32\": 2.2, \"Koopwoningen_40\": 84.0}, {\"normalized_opgesteld_vermogen\": 0.5002949852507375, \"GemiddeldInkomenPerInwoner_72\": 21.0, \"GemiddeldeHuishoudensgrootte_32\": 2.1, \"Koopwoningen_40\": 49.0}, {\"normalized_opgesteld_vermogen\": 0.8571428571428571, \"GemiddeldInkomenPerInwoner_72\": 28.1, \"GemiddeldeHuishoudensgrootte_32\": 2.4, \"Koopwoningen_40\": 76.0}, {\"normalized_opgesteld_vermogen\": 0.23154121863799282, \"GemiddeldInkomenPerInwoner_72\": 21.7, \"GemiddeldeHuishoudensgrootte_32\": 2.0, \"Koopwoningen_40\": 46.0}, {\"normalized_opgesteld_vermogen\": 0.8286713286713286, \"GemiddeldInkomenPerInwoner_72\": 30.2, \"GemiddeldeHuishoudensgrootte_32\": 2.6, \"Koopwoningen_40\": 88.0}, {\"normalized_opgesteld_vermogen\": 0.6015075376884422, \"GemiddeldInkomenPerInwoner_72\": 35.0, \"GemiddeldeHuishoudensgrootte_32\": 2.3, \"Koopwoningen_40\": 75.0}, {\"normalized_opgesteld_vermogen\": 0.28981288981288983, \"GemiddeldInkomenPerInwoner_72\": 39.2, \"GemiddeldeHuishoudensgrootte_32\": 2.1, \"Koopwoningen_40\": 70.0}, {\"normalized_opgesteld_vermogen\": 0.20326086956521738, \"GemiddeldInkomenPerInwoner_72\": 20.9, \"GemiddeldeHuishoudensgrootte_32\": 1.5, \"Koopwoningen_40\": 22.0}, {\"normalized_opgesteld_vermogen\": 0.4392712550607287, \"GemiddeldInkomenPerInwoner_72\": 27.0, \"GemiddeldeHuishoudensgrootte_32\": 2.0, \"Koopwoningen_40\": 62.0}, {\"normalized_opgesteld_vermogen\": 0.1921259842519685, \"GemiddeldInkomenPerInwoner_72\": 20.4, \"GemiddeldeHuishoudensgrootte_32\": 2.0, \"Koopwoningen_40\": 37.0}, {\"normalized_opgesteld_vermogen\": 0.2296983758700696, \"GemiddeldInkomenPerInwoner_72\": 27.7, \"GemiddeldeHuishoudensgrootte_32\": 1.5, \"Koopwoningen_40\": 42.0}, {\"normalized_opgesteld_vermogen\": 0.9656934306569344, \"GemiddeldInkomenPerInwoner_72\": 28.8, \"GemiddeldeHuishoudensgrootte_32\": 2.2, \"Koopwoningen_40\": 70.0}, {\"normalized_opgesteld_vermogen\": 0.775177304964539, \"GemiddeldInkomenPerInwoner_72\": 27.0, \"GemiddeldeHuishoudensgrootte_32\": 2.5, \"Koopwoningen_40\": 73.0}, {\"normalized_opgesteld_vermogen\": 0.6723214285714286, \"GemiddeldInkomenPerInwoner_72\": 31.3, \"GemiddeldeHuishoudensgrootte_32\": 2.2, \"Koopwoningen_40\": 87.0}, {\"normalized_opgesteld_vermogen\": 0.5112107623318386, \"GemiddeldInkomenPerInwoner_72\": 32.3, \"GemiddeldeHuishoudensgrootte_32\": 2.4, \"Koopwoningen_40\": 73.0}, {\"normalized_opgesteld_vermogen\": 0.43878437047756874, \"GemiddeldInkomenPerInwoner_72\": 31.7, \"GemiddeldeHuishoudensgrootte_32\": 1.8, \"Koopwoningen_40\": 56.0}, {\"normalized_opgesteld_vermogen\": 1.214795918367347, \"GemiddeldInkomenPerInwoner_72\": 29.8, \"GemiddeldeHuishoudensgrootte_32\": 2.8, \"Koopwoningen_40\": 89.0}, {\"normalized_opgesteld_vermogen\": 0.6795031055900621, \"GemiddeldInkomenPerInwoner_72\": 32.4, \"GemiddeldeHuishoudensgrootte_32\": 2.0, \"Koopwoningen_40\": 64.0}, {\"normalized_opgesteld_vermogen\": 0.9140703517587939, \"GemiddeldInkomenPerInwoner_72\": 25.5, \"GemiddeldeHuishoudensgrootte_32\": 2.2, \"Koopwoningen_40\": 69.0}, {\"normalized_opgesteld_vermogen\": 0.4541139240506329, \"GemiddeldInkomenPerInwoner_72\": 21.0, \"GemiddeldeHuishoudensgrootte_32\": 1.9, \"Koopwoningen_40\": 39.0}, {\"normalized_opgesteld_vermogen\": 0.9905084745762712, \"GemiddeldInkomenPerInwoner_72\": 32.4, \"GemiddeldeHuishoudensgrootte_32\": 2.2, \"Koopwoningen_40\": 78.0}, {\"normalized_opgesteld_vermogen\": 0.9422222222222222, \"GemiddeldInkomenPerInwoner_72\": 23.6, \"GemiddeldeHuishoudensgrootte_32\": 2.3, \"Koopwoningen_40\": 60.0}, {\"normalized_opgesteld_vermogen\": 0.5869918699186992, \"GemiddeldInkomenPerInwoner_72\": 24.0, \"GemiddeldeHuishoudensgrootte_32\": 1.9, \"Koopwoningen_40\": 55.0}, {\"normalized_opgesteld_vermogen\": 0.9189814814814815, \"GemiddeldInkomenPerInwoner_72\": 24.0, \"GemiddeldeHuishoudensgrootte_32\": 2.3, \"Koopwoningen_40\": 63.0}, {\"normalized_opgesteld_vermogen\": 1.2269525267993875, \"GemiddeldInkomenPerInwoner_72\": 26.3, \"GemiddeldeHuishoudensgrootte_32\": 2.2, \"Koopwoningen_40\": 60.0}, {\"normalized_opgesteld_vermogen\": 0.7291666666666666, \"GemiddeldInkomenPerInwoner_72\": 34.3, \"GemiddeldeHuishoudensgrootte_32\": 3.1, \"Koopwoningen_40\": 69.0}, {\"normalized_opgesteld_vermogen\": 0.27661971830985915, \"GemiddeldInkomenPerInwoner_72\": 23.3, \"GemiddeldeHuishoudensgrootte_32\": 2.1, \"Koopwoningen_40\": 45.0}, {\"normalized_opgesteld_vermogen\": 0.340053050397878, \"GemiddeldInkomenPerInwoner_72\": 24.4, \"GemiddeldeHuishoudensgrootte_32\": 2.0, \"Koopwoningen_40\": 59.0}, {\"normalized_opgesteld_vermogen\": 0.17297297297297298, \"GemiddeldInkomenPerInwoner_72\": 23.7, \"GemiddeldeHuishoudensgrootte_32\": 1.4, \"Koopwoningen_40\": 32.0}, {\"normalized_opgesteld_vermogen\": 0.6717842323651452, \"GemiddeldInkomenPerInwoner_72\": 30.5, \"GemiddeldeHuishoudensgrootte_32\": 2.3, \"Koopwoningen_40\": 69.0}, {\"normalized_opgesteld_vermogen\": 0.20133333333333334, \"GemiddeldInkomenPerInwoner_72\": 17.8, \"GemiddeldeHuishoudensgrootte_32\": 1.9, \"Koopwoningen_40\": 24.0}, {\"normalized_opgesteld_vermogen\": 0.614516129032258, \"GemiddeldInkomenPerInwoner_72\": 31.0, \"GemiddeldeHuishoudensgrootte_32\": 2.7, \"Koopwoningen_40\": 61.0}, {\"normalized_opgesteld_vermogen\": 0.04308510638297872, \"GemiddeldInkomenPerInwoner_72\": 18.7, \"GemiddeldeHuishoudensgrootte_32\": 1.7, \"Koopwoningen_40\": 16.0}, {\"normalized_opgesteld_vermogen\": 0.6480263157894737, \"GemiddeldInkomenPerInwoner_72\": 31.4, \"GemiddeldeHuishoudensgrootte_32\": 2.4, \"Koopwoningen_40\": 79.0}, {\"normalized_opgesteld_vermogen\": 0.5218961625282167, \"GemiddeldInkomenPerInwoner_72\": 27.5, \"GemiddeldeHuishoudensgrootte_32\": 1.9, \"Koopwoningen_40\": 55.0}, {\"normalized_opgesteld_vermogen\": 0.3845433255269321, \"GemiddeldInkomenPerInwoner_72\": 28.4, \"GemiddeldeHuishoudensgrootte_32\": 1.9, \"Koopwoningen_40\": 57.0}, {\"normalized_opgesteld_vermogen\": 0.0886178861788618, \"GemiddeldInkomenPerInwoner_72\": 24.3, \"GemiddeldeHuishoudensgrootte_32\": 1.4, \"Koopwoningen_40\": 28.0}, {\"normalized_opgesteld_vermogen\": 0.08250428816466553, \"GemiddeldInkomenPerInwoner_72\": 19.8, \"GemiddeldeHuishoudensgrootte_32\": 1.4, \"Koopwoningen_40\": 15.0}, {\"normalized_opgesteld_vermogen\": 0.48771929824561405, \"GemiddeldInkomenPerInwoner_72\": 29.1, \"GemiddeldeHuishoudensgrootte_32\": 2.3, \"Koopwoningen_40\": 73.0}, {\"normalized_opgesteld_vermogen\": 0.6482456140350877, \"GemiddeldInkomenPerInwoner_72\": 30.7, \"GemiddeldeHuishoudensgrootte_32\": 2.3, \"Koopwoningen_40\": 78.0}, {\"normalized_opgesteld_vermogen\": 1.5272108843537415, \"GemiddeldInkomenPerInwoner_72\": 23.2, \"GemiddeldeHuishoudensgrootte_32\": 2.2, \"Koopwoningen_40\": 73.0}, {\"normalized_opgesteld_vermogen\": 0.43806451612903224, \"GemiddeldInkomenPerInwoner_72\": 23.7, \"GemiddeldeHuishoudensgrootte_32\": 2.4, \"Koopwoningen_40\": 70.0}, {\"normalized_opgesteld_vermogen\": 0.5385185185185185, \"GemiddeldInkomenPerInwoner_72\": 26.4, \"GemiddeldeHuishoudensgrootte_32\": 2.3, \"Koopwoningen_40\": 68.0}, {\"normalized_opgesteld_vermogen\": 0.802930402930403, \"GemiddeldInkomenPerInwoner_72\": 30.8, \"GemiddeldeHuishoudensgrootte_32\": 2.4, \"Koopwoningen_40\": 84.0}, {\"normalized_opgesteld_vermogen\": 0.762987012987013, \"GemiddeldInkomenPerInwoner_72\": 30.2, \"GemiddeldeHuishoudensgrootte_32\": 2.3, \"Koopwoningen_40\": 80.0}, {\"normalized_opgesteld_vermogen\": 0.3830409356725146, \"GemiddeldInkomenPerInwoner_72\": 25.0, \"GemiddeldeHuishoudensgrootte_32\": 1.9, \"Koopwoningen_40\": 57.0}, {\"normalized_opgesteld_vermogen\": 0.8877358490566037, \"GemiddeldInkomenPerInwoner_72\": 33.5, \"GemiddeldeHuishoudensgrootte_32\": 2.4, \"Koopwoningen_40\": 68.0}, {\"normalized_opgesteld_vermogen\": 0.7050420168067227, \"GemiddeldInkomenPerInwoner_72\": 27.9, \"GemiddeldeHuishoudensgrootte_32\": 2.2, \"Koopwoningen_40\": 65.0}, {\"normalized_opgesteld_vermogen\": 0.6120689655172413, \"GemiddeldInkomenPerInwoner_72\": 22.5, \"GemiddeldeHuishoudensgrootte_32\": 2.4, \"Koopwoningen_40\": 70.0}, {\"normalized_opgesteld_vermogen\": 0.66875, \"GemiddeldInkomenPerInwoner_72\": 29.8, \"GemiddeldeHuishoudensgrootte_32\": 2.5, \"Koopwoningen_40\": 92.0}, {\"normalized_opgesteld_vermogen\": 0.6090909090909091, \"GemiddeldInkomenPerInwoner_72\": 25.2, \"GemiddeldeHuishoudensgrootte_32\": 2.1, \"Koopwoningen_40\": 56.0}, {\"normalized_opgesteld_vermogen\": 0.7764309764309765, \"GemiddeldInkomenPerInwoner_72\": 27.6, \"GemiddeldeHuishoudensgrootte_32\": 2.4, \"Koopwoningen_40\": 72.0}, {\"normalized_opgesteld_vermogen\": 0.7272206303724928, \"GemiddeldInkomenPerInwoner_72\": 27.5, \"GemiddeldeHuishoudensgrootte_32\": 2.0, \"Koopwoningen_40\": 50.0}, {\"normalized_opgesteld_vermogen\": 0.35871886120996443, \"GemiddeldInkomenPerInwoner_72\": 23.6, \"GemiddeldeHuishoudensgrootte_32\": 1.9, \"Koopwoningen_40\": 53.0}, {\"normalized_opgesteld_vermogen\": 0.9317073170731708, \"GemiddeldInkomenPerInwoner_72\": 25.4, \"GemiddeldeHuishoudensgrootte_32\": 2.1, \"Koopwoningen_40\": 73.0}, {\"normalized_opgesteld_vermogen\": 1.1522012578616352, \"GemiddeldInkomenPerInwoner_72\": 32.1, \"GemiddeldeHuishoudensgrootte_32\": 2.3, \"Koopwoningen_40\": 76.0}, {\"normalized_opgesteld_vermogen\": 0.86875, \"GemiddeldInkomenPerInwoner_72\": 29.1, \"GemiddeldeHuishoudensgrootte_32\": 2.3, \"Koopwoningen_40\": 71.0}, {\"normalized_opgesteld_vermogen\": 0.22606232294617565, \"GemiddeldInkomenPerInwoner_72\": 21.6, \"GemiddeldeHuishoudensgrootte_32\": 2.2, \"Koopwoningen_40\": 45.0}, {\"normalized_opgesteld_vermogen\": 0.8381818181818181, \"GemiddeldInkomenPerInwoner_72\": 24.7, \"GemiddeldeHuishoudensgrootte_32\": 2.4, \"Koopwoningen_40\": 69.0}, {\"normalized_opgesteld_vermogen\": 0.912540192926045, \"GemiddeldInkomenPerInwoner_72\": 36.7, \"GemiddeldeHuishoudensgrootte_32\": 2.4, \"Koopwoningen_40\": 83.0}, {\"normalized_opgesteld_vermogen\": 0.20336134453781513, \"GemiddeldInkomenPerInwoner_72\": 24.7, \"GemiddeldeHuishoudensgrootte_32\": 2.1, \"Koopwoningen_40\": 51.0}, {\"normalized_opgesteld_vermogen\": 0.5432950191570881, \"GemiddeldInkomenPerInwoner_72\": 23.6, \"GemiddeldeHuishoudensgrootte_32\": 2.8, \"Koopwoningen_40\": 70.0}, {\"normalized_opgesteld_vermogen\": 0.747008547008547, \"GemiddeldInkomenPerInwoner_72\": 25.8, \"GemiddeldeHuishoudensgrootte_32\": 2.2, \"Koopwoningen_40\": 79.0}, {\"normalized_opgesteld_vermogen\": 0.4, \"GemiddeldInkomenPerInwoner_72\": 25.8, \"GemiddeldeHuishoudensgrootte_32\": 2.0, \"Koopwoningen_40\": 44.0}, {\"normalized_opgesteld_vermogen\": 0.5805653710247349, \"GemiddeldInkomenPerInwoner_72\": 27.3, \"GemiddeldeHuishoudensgrootte_32\": 2.4, \"Koopwoningen_40\": 71.0}, {\"normalized_opgesteld_vermogen\": 0.6077669902912621, \"GemiddeldInkomenPerInwoner_72\": 21.5, \"GemiddeldeHuishoudensgrootte_32\": 2.3, \"Koopwoningen_40\": 59.0}, {\"normalized_opgesteld_vermogen\": 0.2635245901639344, \"GemiddeldInkomenPerInwoner_72\": 30.0, \"GemiddeldeHuishoudensgrootte_32\": 1.7, \"Koopwoningen_40\": 38.0}, {\"normalized_opgesteld_vermogen\": 1.1611111111111112, \"GemiddeldInkomenPerInwoner_72\": 34.2, \"GemiddeldeHuishoudensgrootte_32\": 2.8, \"Koopwoningen_40\": 86.0}, {\"normalized_opgesteld_vermogen\": 0.08553191489361703, \"GemiddeldInkomenPerInwoner_72\": 24.2, \"GemiddeldeHuishoudensgrootte_32\": 1.5, \"Koopwoningen_40\": 22.0}, {\"normalized_opgesteld_vermogen\": 0.23003003003003003, \"GemiddeldInkomenPerInwoner_72\": 22.1, \"GemiddeldeHuishoudensgrootte_32\": 1.6, \"Koopwoningen_40\": 12.0}, {\"normalized_opgesteld_vermogen\": 0.7911458333333333, \"GemiddeldInkomenPerInwoner_72\": 25.7, \"GemiddeldeHuishoudensgrootte_32\": 2.2, \"Koopwoningen_40\": 64.0}, {\"normalized_opgesteld_vermogen\": 0.2088235294117647, \"GemiddeldInkomenPerInwoner_72\": 21.4, \"GemiddeldeHuishoudensgrootte_32\": 1.9, \"Koopwoningen_40\": 64.0}, {\"normalized_opgesteld_vermogen\": 0.5978552278820375, \"GemiddeldInkomenPerInwoner_72\": 28.1, \"GemiddeldeHuishoudensgrootte_32\": 2.3, \"Koopwoningen_40\": 60.0}, {\"normalized_opgesteld_vermogen\": 0.9834586466165414, \"GemiddeldInkomenPerInwoner_72\": 21.9, \"GemiddeldeHuishoudensgrootte_32\": 2.2, \"Koopwoningen_40\": 65.0}, {\"normalized_opgesteld_vermogen\": 0.309375, \"GemiddeldInkomenPerInwoner_72\": 19.4, \"GemiddeldeHuishoudensgrootte_32\": 2.0, \"Koopwoningen_40\": 35.0}, {\"normalized_opgesteld_vermogen\": 0.728021978021978, \"GemiddeldInkomenPerInwoner_72\": 31.5, \"GemiddeldeHuishoudensgrootte_32\": 2.1, \"Koopwoningen_40\": 68.0}, {\"normalized_opgesteld_vermogen\": 1.3596638655462185, \"GemiddeldInkomenPerInwoner_72\": 28.5, \"GemiddeldeHuishoudensgrootte_32\": 2.1, \"Koopwoningen_40\": 71.0}, {\"normalized_opgesteld_vermogen\": 0.551056338028169, \"GemiddeldInkomenPerInwoner_72\": 22.4, \"GemiddeldeHuishoudensgrootte_32\": 2.4, \"Koopwoningen_40\": 58.0}, {\"normalized_opgesteld_vermogen\": 0.53984375, \"GemiddeldInkomenPerInwoner_72\": 24.0, \"GemiddeldeHuishoudensgrootte_32\": 2.0, \"Koopwoningen_40\": 60.0}, {\"normalized_opgesteld_vermogen\": 1.0300970873786408, \"GemiddeldInkomenPerInwoner_72\": 38.0, \"GemiddeldeHuishoudensgrootte_32\": 2.5, \"Koopwoningen_40\": 78.0}, {\"normalized_opgesteld_vermogen\": 0.7658333333333334, \"GemiddeldInkomenPerInwoner_72\": 26.4, \"GemiddeldeHuishoudensgrootte_32\": 2.4, \"Koopwoningen_40\": 80.0}, {\"normalized_opgesteld_vermogen\": 0.7634069400630915, \"GemiddeldInkomenPerInwoner_72\": 27.2, \"GemiddeldeHuishoudensgrootte_32\": 2.1, \"Koopwoningen_40\": 67.0}, {\"normalized_opgesteld_vermogen\": 0.7941422594142259, \"GemiddeldInkomenPerInwoner_72\": 26.3, \"GemiddeldeHuishoudensgrootte_32\": 2.6, \"Koopwoningen_40\": 80.0}, {\"normalized_opgesteld_vermogen\": 0.6753623188405797, \"GemiddeldInkomenPerInwoner_72\": 22.8, \"GemiddeldeHuishoudensgrootte_32\": 2.4, \"Koopwoningen_40\": 67.0}, {\"normalized_opgesteld_vermogen\": 0.5595463137996219, \"GemiddeldInkomenPerInwoner_72\": 26.0, \"GemiddeldeHuishoudensgrootte_32\": 2.0, \"Koopwoningen_40\": 61.0}, {\"normalized_opgesteld_vermogen\": 0.2753541076487252, \"GemiddeldInkomenPerInwoner_72\": 21.5, \"GemiddeldeHuishoudensgrootte_32\": 2.1, \"Koopwoningen_40\": 55.0}, {\"normalized_opgesteld_vermogen\": 0.2680161943319838, \"GemiddeldInkomenPerInwoner_72\": 25.9, \"GemiddeldeHuishoudensgrootte_32\": 2.1, \"Koopwoningen_40\": 49.0}, {\"normalized_opgesteld_vermogen\": 0.5859094176851186, \"GemiddeldInkomenPerInwoner_72\": 26.5, \"GemiddeldeHuishoudensgrootte_32\": 2.3, \"Koopwoningen_40\": 63.0}, {\"normalized_opgesteld_vermogen\": 1.1003257328990228, \"GemiddeldInkomenPerInwoner_72\": 30.5, \"GemiddeldeHuishoudensgrootte_32\": 2.1, \"Koopwoningen_40\": 73.0}, {\"normalized_opgesteld_vermogen\": 1.0823529411764705, \"GemiddeldInkomenPerInwoner_72\": 32.2, \"GemiddeldeHuishoudensgrootte_32\": 2.7, \"Koopwoningen_40\": 80.0}, {\"normalized_opgesteld_vermogen\": 0.9052631578947369, \"GemiddeldInkomenPerInwoner_72\": 35.7, \"GemiddeldeHuishoudensgrootte_32\": 2.3, \"Koopwoningen_40\": 84.0}, {\"normalized_opgesteld_vermogen\": 0.7227272727272728, \"GemiddeldInkomenPerInwoner_72\": 20.1, \"GemiddeldeHuishoudensgrootte_32\": 2.7, \"Koopwoningen_40\": 55.0}, {\"normalized_opgesteld_vermogen\": 0.3382352941176471, \"GemiddeldInkomenPerInwoner_72\": 27.3, \"GemiddeldeHuishoudensgrootte_32\": 1.8, \"Koopwoningen_40\": 46.0}, {\"normalized_opgesteld_vermogen\": 0.43136246786632393, \"GemiddeldInkomenPerInwoner_72\": 20.1, \"GemiddeldeHuishoudensgrootte_32\": 2.1, \"Koopwoningen_40\": 29.0}, {\"normalized_opgesteld_vermogen\": 0.09583931133428981, \"GemiddeldInkomenPerInwoner_72\": 21.8, \"GemiddeldeHuishoudensgrootte_32\": 1.2, \"Koopwoningen_40\": 13.0}, {\"normalized_opgesteld_vermogen\": 0.16774193548387098, \"GemiddeldInkomenPerInwoner_72\": 25.4, \"GemiddeldeHuishoudensgrootte_32\": 2.1, \"Koopwoningen_40\": 54.0}, {\"normalized_opgesteld_vermogen\": 0.4353535353535353, \"GemiddeldInkomenPerInwoner_72\": 26.5, \"GemiddeldeHuishoudensgrootte_32\": 2.1, \"Koopwoningen_40\": 54.0}, {\"normalized_opgesteld_vermogen\": 0.809433962264151, \"GemiddeldInkomenPerInwoner_72\": 26.9, \"GemiddeldeHuishoudensgrootte_32\": 2.1, \"Koopwoningen_40\": 68.0}, {\"normalized_opgesteld_vermogen\": 0.22227979274611398, \"GemiddeldInkomenPerInwoner_72\": 21.7, \"GemiddeldeHuishoudensgrootte_32\": 2.0, \"Koopwoningen_40\": 45.0}, {\"normalized_opgesteld_vermogen\": 0.12642140468227425, \"GemiddeldInkomenPerInwoner_72\": 21.8, \"GemiddeldeHuishoudensgrootte_32\": 1.7, \"Koopwoningen_40\": 37.0}, {\"normalized_opgesteld_vermogen\": 0.6046979865771812, \"GemiddeldInkomenPerInwoner_72\": 24.2, \"GemiddeldeHuishoudensgrootte_32\": 1.9, \"Koopwoningen_40\": 51.0}, {\"normalized_opgesteld_vermogen\": 0.525077399380805, \"GemiddeldInkomenPerInwoner_72\": 26.5, \"GemiddeldeHuishoudensgrootte_32\": 2.1, \"Koopwoningen_40\": 76.0}, {\"normalized_opgesteld_vermogen\": 0.5866666666666667, \"GemiddeldInkomenPerInwoner_72\": 27.7, \"GemiddeldeHuishoudensgrootte_32\": 2.3, \"Koopwoningen_40\": 80.0}, {\"normalized_opgesteld_vermogen\": 0.7126903553299493, \"GemiddeldInkomenPerInwoner_72\": 28.7, \"GemiddeldeHuishoudensgrootte_32\": 2.5, \"Koopwoningen_40\": 71.0}, {\"normalized_opgesteld_vermogen\": 0.4706766917293233, \"GemiddeldInkomenPerInwoner_72\": 24.3, \"GemiddeldeHuishoudensgrootte_32\": 2.1, \"Koopwoningen_40\": 58.0}, {\"normalized_opgesteld_vermogen\": 0.7983333333333333, \"GemiddeldInkomenPerInwoner_72\": 29.6, \"GemiddeldeHuishoudensgrootte_32\": 2.2, \"Koopwoningen_40\": 68.0}, {\"normalized_opgesteld_vermogen\": 0.09156626506024096, \"GemiddeldInkomenPerInwoner_72\": 28.9, \"GemiddeldeHuishoudensgrootte_32\": 1.4, \"Koopwoningen_40\": 27.0}, {\"normalized_opgesteld_vermogen\": 0.3179347826086957, \"GemiddeldInkomenPerInwoner_72\": 28.4, \"GemiddeldeHuishoudensgrootte_32\": 2.1, \"Koopwoningen_40\": 61.0}, {\"normalized_opgesteld_vermogen\": 0.1794238683127572, \"GemiddeldInkomenPerInwoner_72\": 18.2, \"GemiddeldeHuishoudensgrootte_32\": 2.2, \"Koopwoningen_40\": 44.0}, {\"normalized_opgesteld_vermogen\": 0.17679012345679013, \"GemiddeldInkomenPerInwoner_72\": 21.0, \"GemiddeldeHuishoudensgrootte_32\": 1.8, \"Koopwoningen_40\": 46.0}, {\"normalized_opgesteld_vermogen\": 0.5689655172413793, \"GemiddeldInkomenPerInwoner_72\": 25.1, \"GemiddeldeHuishoudensgrootte_32\": 2.1, \"Koopwoningen_40\": 61.0}, {\"normalized_opgesteld_vermogen\": 0.909433962264151, \"GemiddeldInkomenPerInwoner_72\": 31.4, \"GemiddeldeHuishoudensgrootte_32\": 2.5, \"Koopwoningen_40\": 76.0}, {\"normalized_opgesteld_vermogen\": 0.6020905923344948, \"GemiddeldInkomenPerInwoner_72\": 22.0, \"GemiddeldeHuishoudensgrootte_32\": 2.0, \"Koopwoningen_40\": 52.0}, {\"normalized_opgesteld_vermogen\": 1.0274678111587983, \"GemiddeldInkomenPerInwoner_72\": 22.8, \"GemiddeldeHuishoudensgrootte_32\": 2.8, \"Koopwoningen_40\": 76.0}, {\"normalized_opgesteld_vermogen\": 0.2040983606557377, \"GemiddeldInkomenPerInwoner_72\": 19.2, \"GemiddeldeHuishoudensgrootte_32\": 1.8, \"Koopwoningen_40\": 39.0}, {\"normalized_opgesteld_vermogen\": 0.7056768558951965, \"GemiddeldInkomenPerInwoner_72\": 24.2, \"GemiddeldeHuishoudensgrootte_32\": 2.4, \"Koopwoningen_40\": 71.0}, {\"normalized_opgesteld_vermogen\": 0.4995918367346939, \"GemiddeldInkomenPerInwoner_72\": 20.5, \"GemiddeldeHuishoudensgrootte_32\": 2.3, \"Koopwoningen_40\": 55.0}, {\"normalized_opgesteld_vermogen\": 0.9413793103448276, \"GemiddeldInkomenPerInwoner_72\": 27.8, \"GemiddeldeHuishoudensgrootte_32\": 3.0, \"Koopwoningen_40\": 93.0}, {\"normalized_opgesteld_vermogen\": 0.1760233918128655, \"GemiddeldInkomenPerInwoner_72\": 28.3, \"GemiddeldeHuishoudensgrootte_32\": 1.6, \"Koopwoningen_40\": 41.0}, {\"normalized_opgesteld_vermogen\": 0.8740524781341108, \"GemiddeldInkomenPerInwoner_72\": 26.8, \"GemiddeldeHuishoudensgrootte_32\": 2.1, \"Koopwoningen_40\": 70.0}, {\"normalized_opgesteld_vermogen\": 0.3946768060836502, \"GemiddeldInkomenPerInwoner_72\": 25.2, \"GemiddeldeHuishoudensgrootte_32\": 2.1, \"Koopwoningen_40\": 62.0}, {\"normalized_opgesteld_vermogen\": 0.38389694041867956, \"GemiddeldInkomenPerInwoner_72\": 22.6, \"GemiddeldeHuishoudensgrootte_32\": 1.9, \"Koopwoningen_40\": 62.0}, {\"normalized_opgesteld_vermogen\": 0.5381995133819951, \"GemiddeldInkomenPerInwoner_72\": 24.2, \"GemiddeldeHuishoudensgrootte_32\": 1.8, \"Koopwoningen_40\": 30.0}, {\"normalized_opgesteld_vermogen\": 0.6705314009661836, \"GemiddeldInkomenPerInwoner_72\": 25.3, \"GemiddeldeHuishoudensgrootte_32\": 2.3, \"Koopwoningen_40\": 75.0}, {\"normalized_opgesteld_vermogen\": 0.6610309278350516, \"GemiddeldInkomenPerInwoner_72\": 25.4, \"GemiddeldeHuishoudensgrootte_32\": 2.3, \"Koopwoningen_40\": 69.0}, {\"normalized_opgesteld_vermogen\": 0.41897018970189703, \"GemiddeldInkomenPerInwoner_72\": 23.7, \"GemiddeldeHuishoudensgrootte_32\": 2.0, \"Koopwoningen_40\": 36.0}, {\"normalized_opgesteld_vermogen\": 0.7523341523341524, \"GemiddeldInkomenPerInwoner_72\": 30.2, \"GemiddeldeHuishoudensgrootte_32\": 2.0, \"Koopwoningen_40\": 71.0}, {\"normalized_opgesteld_vermogen\": 0.7728155339805826, \"GemiddeldInkomenPerInwoner_72\": 24.6, \"GemiddeldeHuishoudensgrootte_32\": 2.2, \"Koopwoningen_40\": 54.0}, {\"normalized_opgesteld_vermogen\": 0.8338164251207729, \"GemiddeldInkomenPerInwoner_72\": 32.7, \"GemiddeldeHuishoudensgrootte_32\": 2.4, \"Koopwoningen_40\": 78.0}, {\"normalized_opgesteld_vermogen\": 0.184375, \"GemiddeldInkomenPerInwoner_72\": 30.8, \"GemiddeldeHuishoudensgrootte_32\": 2.1, \"Koopwoningen_40\": 62.0}, {\"normalized_opgesteld_vermogen\": 0.2375, \"GemiddeldInkomenPerInwoner_72\": 21.2, \"GemiddeldeHuishoudensgrootte_32\": 2.1, \"Koopwoningen_40\": 40.0}, {\"normalized_opgesteld_vermogen\": 0.08446866485013624, \"GemiddeldInkomenPerInwoner_72\": 29.2, \"GemiddeldeHuishoudensgrootte_32\": 1.7, \"Koopwoningen_40\": 34.0}, {\"normalized_opgesteld_vermogen\": 0.3151515151515151, \"GemiddeldInkomenPerInwoner_72\": 24.2, \"GemiddeldeHuishoudensgrootte_32\": 1.9, \"Koopwoningen_40\": 49.0}, {\"normalized_opgesteld_vermogen\": 0.18927911275415896, \"GemiddeldInkomenPerInwoner_72\": 34.9, \"GemiddeldeHuishoudensgrootte_32\": 2.1, \"Koopwoningen_40\": 73.0}, {\"normalized_opgesteld_vermogen\": 0.4489296636085627, \"GemiddeldInkomenPerInwoner_72\": 25.5, \"GemiddeldeHuishoudensgrootte_32\": 2.3, \"Koopwoningen_40\": 69.0}, {\"normalized_opgesteld_vermogen\": 0.7609756097560976, \"GemiddeldInkomenPerInwoner_72\": 24.1, \"GemiddeldeHuishoudensgrootte_32\": 3.4, \"Koopwoningen_40\": 88.0}, {\"normalized_opgesteld_vermogen\": 0.9741626794258373, \"GemiddeldInkomenPerInwoner_72\": 28.8, \"GemiddeldeHuishoudensgrootte_32\": 2.5, \"Koopwoningen_40\": 88.0}, {\"normalized_opgesteld_vermogen\": 0.14663865546218488, \"GemiddeldInkomenPerInwoner_72\": 20.3, \"GemiddeldeHuishoudensgrootte_32\": 2.1, \"Koopwoningen_40\": 40.0}, {\"normalized_opgesteld_vermogen\": 0.1079734219269103, \"GemiddeldInkomenPerInwoner_72\": 19.9, \"GemiddeldeHuishoudensgrootte_32\": 1.6, \"Koopwoningen_40\": 16.0}, {\"normalized_opgesteld_vermogen\": 1.1084905660377358, \"GemiddeldInkomenPerInwoner_72\": 25.2, \"GemiddeldeHuishoudensgrootte_32\": 2.6, \"Koopwoningen_40\": 74.0}, {\"normalized_opgesteld_vermogen\": 0.15085508550855087, \"GemiddeldInkomenPerInwoner_72\": 25.4, \"GemiddeldeHuishoudensgrootte_32\": 1.8, \"Koopwoningen_40\": 43.0}, {\"normalized_opgesteld_vermogen\": 0.5088, \"GemiddeldInkomenPerInwoner_72\": 24.3, \"GemiddeldeHuishoudensgrootte_32\": 2.2, \"Koopwoningen_40\": 58.0}, {\"normalized_opgesteld_vermogen\": 0.2513317191283293, \"GemiddeldInkomenPerInwoner_72\": 22.9, \"GemiddeldeHuishoudensgrootte_32\": 2.0, \"Koopwoningen_40\": 42.0}, {\"normalized_opgesteld_vermogen\": 0.6522193211488251, \"GemiddeldInkomenPerInwoner_72\": 22.9, \"GemiddeldeHuishoudensgrootte_32\": 2.3, \"Koopwoningen_40\": 62.0}, {\"normalized_opgesteld_vermogen\": 0.9097014925373135, \"GemiddeldInkomenPerInwoner_72\": 24.1, \"GemiddeldeHuishoudensgrootte_32\": 2.9, \"Koopwoningen_40\": 82.0}, {\"normalized_opgesteld_vermogen\": 0.8324786324786325, \"GemiddeldInkomenPerInwoner_72\": 33.4, \"GemiddeldeHuishoudensgrootte_32\": 2.9, \"Koopwoningen_40\": 89.0}, {\"normalized_opgesteld_vermogen\": 0.6555395683453238, \"GemiddeldInkomenPerInwoner_72\": 29.4, \"GemiddeldeHuishoudensgrootte_32\": 2.3, \"Koopwoningen_40\": 69.0}, {\"normalized_opgesteld_vermogen\": 0.5779291553133515, \"GemiddeldInkomenPerInwoner_72\": 21.6, \"GemiddeldeHuishoudensgrootte_32\": 2.1, \"Koopwoningen_40\": 56.0}, {\"normalized_opgesteld_vermogen\": 0.290625, \"GemiddeldInkomenPerInwoner_72\": 25.0, \"GemiddeldeHuishoudensgrootte_32\": 2.3, \"Koopwoningen_40\": 57.0}, {\"normalized_opgesteld_vermogen\": 1.1606837606837608, \"GemiddeldInkomenPerInwoner_72\": 28.4, \"GemiddeldeHuishoudensgrootte_32\": 2.4, \"Koopwoningen_40\": 77.0}, {\"normalized_opgesteld_vermogen\": 0.10498338870431893, \"GemiddeldInkomenPerInwoner_72\": 22.2, \"GemiddeldeHuishoudensgrootte_32\": 1.7, \"Koopwoningen_40\": 35.0}, {\"normalized_opgesteld_vermogen\": 0.9829885057471265, \"GemiddeldInkomenPerInwoner_72\": 26.7, \"GemiddeldeHuishoudensgrootte_32\": 2.3, \"Koopwoningen_40\": 75.0}, {\"normalized_opgesteld_vermogen\": 0.32827004219409284, \"GemiddeldInkomenPerInwoner_72\": 25.2, \"GemiddeldeHuishoudensgrootte_32\": 2.2, \"Koopwoningen_40\": 66.0}, {\"normalized_opgesteld_vermogen\": 0.06505050505050505, \"GemiddeldInkomenPerInwoner_72\": 22.8, \"GemiddeldeHuishoudensgrootte_32\": 1.3, \"Koopwoningen_40\": 8.0}, {\"normalized_opgesteld_vermogen\": 0.43478260869565216, \"GemiddeldInkomenPerInwoner_72\": 24.1, \"GemiddeldeHuishoudensgrootte_32\": 1.6, \"Koopwoningen_40\": 24.0}, {\"normalized_opgesteld_vermogen\": 1.2396694214876034, \"GemiddeldInkomenPerInwoner_72\": 26.4, \"GemiddeldeHuishoudensgrootte_32\": 2.2, \"Koopwoningen_40\": 74.0}, {\"normalized_opgesteld_vermogen\": 0.26907894736842103, \"GemiddeldInkomenPerInwoner_72\": 22.1, \"GemiddeldeHuishoudensgrootte_32\": 2.1, \"Koopwoningen_40\": 44.0}, {\"normalized_opgesteld_vermogen\": 0.7035897435897436, \"GemiddeldInkomenPerInwoner_72\": 27.5, \"GemiddeldeHuishoudensgrootte_32\": 2.3, \"Koopwoningen_40\": 69.0}, {\"normalized_opgesteld_vermogen\": 0.7660968660968661, \"GemiddeldInkomenPerInwoner_72\": 23.4, \"GemiddeldeHuishoudensgrootte_32\": 2.0, \"Koopwoningen_40\": 59.0}, {\"normalized_opgesteld_vermogen\": 0.14041570438799075, \"GemiddeldInkomenPerInwoner_72\": 20.4, \"GemiddeldeHuishoudensgrootte_32\": 1.8, \"Koopwoningen_40\": 17.0}, {\"normalized_opgesteld_vermogen\": 0.933175355450237, \"GemiddeldInkomenPerInwoner_72\": 29.1, \"GemiddeldeHuishoudensgrootte_32\": 2.1, \"Koopwoningen_40\": 78.0}, {\"normalized_opgesteld_vermogen\": 0.6318725099601593, \"GemiddeldInkomenPerInwoner_72\": 31.6, \"GemiddeldeHuishoudensgrootte_32\": 2.2, \"Koopwoningen_40\": 66.0}, {\"normalized_opgesteld_vermogen\": 0.8492424242424242, \"GemiddeldInkomenPerInwoner_72\": 25.1, \"GemiddeldeHuishoudensgrootte_32\": 2.1, \"Koopwoningen_40\": 61.0}, {\"normalized_opgesteld_vermogen\": 0.46875, \"GemiddeldInkomenPerInwoner_72\": 24.2, \"GemiddeldeHuishoudensgrootte_32\": 2.3, \"Koopwoningen_40\": 54.0}, {\"normalized_opgesteld_vermogen\": 0.3958904109589041, \"GemiddeldInkomenPerInwoner_72\": 26.9, \"GemiddeldeHuishoudensgrootte_32\": 1.9, \"Koopwoningen_40\": 43.0}, {\"normalized_opgesteld_vermogen\": 0.759504132231405, \"GemiddeldInkomenPerInwoner_72\": 27.8, \"GemiddeldeHuishoudensgrootte_32\": 2.3, \"Koopwoningen_40\": 73.0}, {\"normalized_opgesteld_vermogen\": 1.020472440944882, \"GemiddeldInkomenPerInwoner_72\": 28.4, \"GemiddeldeHuishoudensgrootte_32\": 2.3, \"Koopwoningen_40\": 81.0}, {\"normalized_opgesteld_vermogen\": 0.28044692737430166, \"GemiddeldInkomenPerInwoner_72\": 19.4, \"GemiddeldeHuishoudensgrootte_32\": 2.0, \"Koopwoningen_40\": 31.0}, {\"normalized_opgesteld_vermogen\": 0.3716417910447761, \"GemiddeldInkomenPerInwoner_72\": 19.3, \"GemiddeldeHuishoudensgrootte_32\": 1.9, \"Koopwoningen_40\": 22.0}, {\"normalized_opgesteld_vermogen\": 0.1323262839879154, \"GemiddeldInkomenPerInwoner_72\": 35.6, \"GemiddeldeHuishoudensgrootte_32\": 2.1, \"Koopwoningen_40\": 72.0}, {\"normalized_opgesteld_vermogen\": 0.20396825396825397, \"GemiddeldInkomenPerInwoner_72\": 27.7, \"GemiddeldeHuishoudensgrootte_32\": 1.6, \"Koopwoningen_40\": 51.0}, {\"normalized_opgesteld_vermogen\": 0.711764705882353, \"GemiddeldInkomenPerInwoner_72\": 26.5, \"GemiddeldeHuishoudensgrootte_32\": 2.1, \"Koopwoningen_40\": 67.0}, {\"normalized_opgesteld_vermogen\": 0.6977987421383648, \"GemiddeldInkomenPerInwoner_72\": 32.9, \"GemiddeldeHuishoudensgrootte_32\": 2.4, \"Koopwoningen_40\": 75.0}, {\"normalized_opgesteld_vermogen\": 0.6487394957983194, \"GemiddeldInkomenPerInwoner_72\": 26.6, \"GemiddeldeHuishoudensgrootte_32\": 2.4, \"Koopwoningen_40\": 70.0}, {\"normalized_opgesteld_vermogen\": 0.8908256880733945, \"GemiddeldInkomenPerInwoner_72\": 34.5, \"GemiddeldeHuishoudensgrootte_32\": 2.6, \"Koopwoningen_40\": 86.0}, {\"normalized_opgesteld_vermogen\": 0.5702531645569621, \"GemiddeldInkomenPerInwoner_72\": 24.4, \"GemiddeldeHuishoudensgrootte_32\": 2.2, \"Koopwoningen_40\": 74.0}, {\"normalized_opgesteld_vermogen\": 0.7839506172839507, \"GemiddeldInkomenPerInwoner_72\": 25.8, \"GemiddeldeHuishoudensgrootte_32\": 2.3, \"Koopwoningen_40\": 70.0}, {\"normalized_opgesteld_vermogen\": 0.5668316831683168, \"GemiddeldInkomenPerInwoner_72\": 24.5, \"GemiddeldeHuishoudensgrootte_32\": 1.8, \"Koopwoningen_40\": 55.0}, {\"normalized_opgesteld_vermogen\": 0.37236842105263157, \"GemiddeldInkomenPerInwoner_72\": 21.1, \"GemiddeldeHuishoudensgrootte_32\": 2.1, \"Koopwoningen_40\": 47.0}, {\"normalized_opgesteld_vermogen\": 0.3463276836158192, \"GemiddeldInkomenPerInwoner_72\": 20.8, \"GemiddeldeHuishoudensgrootte_32\": 2.1, \"Koopwoningen_40\": 37.0}, {\"normalized_opgesteld_vermogen\": 0.24084880636604775, \"GemiddeldInkomenPerInwoner_72\": 21.1, \"GemiddeldeHuishoudensgrootte_32\": 1.7, \"Koopwoningen_40\": 33.0}, {\"normalized_opgesteld_vermogen\": 0.29168900804289544, \"GemiddeldInkomenPerInwoner_72\": 17.3, \"GemiddeldeHuishoudensgrootte_32\": 2.3, \"Koopwoningen_40\": 31.0}, {\"normalized_opgesteld_vermogen\": 0.7559921414538311, \"GemiddeldInkomenPerInwoner_72\": 33.5, \"GemiddeldeHuishoudensgrootte_32\": 2.4, \"Koopwoningen_40\": 74.0}, {\"normalized_opgesteld_vermogen\": 0.576303317535545, \"GemiddeldInkomenPerInwoner_72\": 24.3, \"GemiddeldeHuishoudensgrootte_32\": 2.4, \"Koopwoningen_40\": 64.0}, {\"normalized_opgesteld_vermogen\": 0.1303529411764706, \"GemiddeldInkomenPerInwoner_72\": 24.9, \"GemiddeldeHuishoudensgrootte_32\": 1.3, \"Koopwoningen_40\": 25.0}, {\"normalized_opgesteld_vermogen\": 0.32, \"GemiddeldInkomenPerInwoner_72\": 20.0, \"GemiddeldeHuishoudensgrootte_32\": 2.2, \"Koopwoningen_40\": 51.0}, {\"normalized_opgesteld_vermogen\": 0.29603340292275576, \"GemiddeldInkomenPerInwoner_72\": 41.0, \"GemiddeldeHuishoudensgrootte_32\": 2.3, \"Koopwoningen_40\": 77.0}, {\"normalized_opgesteld_vermogen\": 0.10329670329670329, \"GemiddeldInkomenPerInwoner_72\": 30.9, \"GemiddeldeHuishoudensgrootte_32\": 1.7, \"Koopwoningen_40\": 51.0}, {\"normalized_opgesteld_vermogen\": 1.231160572337043, \"GemiddeldInkomenPerInwoner_72\": 28.1, \"GemiddeldeHuishoudensgrootte_32\": 2.2, \"Koopwoningen_40\": 76.0}, {\"normalized_opgesteld_vermogen\": 0.8958041958041958, \"GemiddeldInkomenPerInwoner_72\": 28.4, \"GemiddeldeHuishoudensgrootte_32\": 2.4, \"Koopwoningen_40\": 71.0}, {\"normalized_opgesteld_vermogen\": 0.5989010989010989, \"GemiddeldInkomenPerInwoner_72\": 28.6, \"GemiddeldeHuishoudensgrootte_32\": 2.0, \"Koopwoningen_40\": 62.0}, {\"normalized_opgesteld_vermogen\": 0.8089347079037801, \"GemiddeldInkomenPerInwoner_72\": 24.8, \"GemiddeldeHuishoudensgrootte_32\": 2.3, \"Koopwoningen_40\": 71.0}, {\"normalized_opgesteld_vermogen\": 0.07058823529411765, \"GemiddeldInkomenPerInwoner_72\": 20.4, \"GemiddeldeHuishoudensgrootte_32\": 1.3, \"Koopwoningen_40\": 12.0}, {\"normalized_opgesteld_vermogen\": 0.16120401337792642, \"GemiddeldInkomenPerInwoner_72\": 24.2, \"GemiddeldeHuishoudensgrootte_32\": 1.9, \"Koopwoningen_40\": 53.0}, {\"normalized_opgesteld_vermogen\": 0.8370892018779342, \"GemiddeldInkomenPerInwoner_72\": 29.8, \"GemiddeldeHuishoudensgrootte_32\": 2.3, \"Koopwoningen_40\": 75.0}, {\"normalized_opgesteld_vermogen\": 0.7209932279909707, \"GemiddeldInkomenPerInwoner_72\": 27.4, \"GemiddeldeHuishoudensgrootte_32\": 2.3, \"Koopwoningen_40\": 68.0}, {\"normalized_opgesteld_vermogen\": 0.22300884955752212, \"GemiddeldInkomenPerInwoner_72\": 24.3, \"GemiddeldeHuishoudensgrootte_32\": 1.9, \"Koopwoningen_40\": 40.0}, {\"normalized_opgesteld_vermogen\": 0.4545882352941176, \"GemiddeldInkomenPerInwoner_72\": 24.1, \"GemiddeldeHuishoudensgrootte_32\": 2.3, \"Koopwoningen_40\": 68.0}, {\"normalized_opgesteld_vermogen\": 0.6980482204362801, \"GemiddeldInkomenPerInwoner_72\": 22.3, \"GemiddeldeHuishoudensgrootte_32\": 2.0, \"Koopwoningen_40\": 56.0}, {\"normalized_opgesteld_vermogen\": 0.3018633540372671, \"GemiddeldInkomenPerInwoner_72\": 20.6, \"GemiddeldeHuishoudensgrootte_32\": 2.2, \"Koopwoningen_40\": 58.0}, {\"normalized_opgesteld_vermogen\": 0.27476635514018694, \"GemiddeldInkomenPerInwoner_72\": 36.5, \"GemiddeldeHuishoudensgrootte_32\": 1.8, \"Koopwoningen_40\": 60.0}]}}, {\"mode\": \"vega-lite\"});\n",
       "</script>"
      ],
      "text/plain": [
       "alt.LayerChart(...)"
      ]
     },
     "execution_count": 486,
     "metadata": {},
     "output_type": "execute_result"
    }
   ],
   "source": [
    "alt.renderers.enable('default')\n",
    "\n",
    "base = alt.Chart(train_set).mark_circle().encode(\n",
    "    alt.X('GemiddeldInkomenPerInwoner_72',\n",
    "     title='# income'),\n",
    "       alt.Y(opgesteld_vermogen,\n",
    "     title='Opgesteld vermogen')\n",
    ")\n",
    "\n",
    "linear_fit = [\n",
    "    base.transform_regression(\n",
    "        \"GemiddeldInkomenPerInwoner_72\", opgesteld_vermogen, method=\"linear\"\n",
    "    )\n",
    "    .mark_line()   \n",
    "]\n",
    "\n",
    "graph = alt.layer(base, *linear_fit)\n",
    "graph"
   ]
  },
  {
   "cell_type": "markdown",
   "metadata": {},
   "source": [
    "#### Check the quality of the model"
   ]
  },
  {
   "cell_type": "code",
   "execution_count": null,
   "metadata": {},
   "outputs": [
    {
     "name": "stdout",
     "output_type": "stream",
     "text": [
      "Coefficients: \n",
      " [-0.00831757  0.18883239  0.01199666]\n",
      "Mean squared error: 0.06\n",
      "Coefficient of determination: 0.43\n"
     ]
    }
   ],
   "source": [
    "# Make predictions using the testing set\n",
    "y_pred = lin_reg.predict(X_test_set)\n",
    "\n",
    "# The coefficients\n",
    "print(\"Coefficients: \\n\", lin_reg.coef_)\n",
    "# The mean squared error\n",
    "print(\"Mean squared error: %.2f\" % mean_squared_error(Y_test_set, y_pred))\n",
    "# The coefficient of determination: 1 is perfect prediction\n",
    "print(\"Coefficient of determination: %.2f\" % r2_score(Y_test_set, y_pred))"
   ]
  },
  {
   "cell_type": "markdown",
   "metadata": {},
   "source": [
    "## Create a first model - tree model"
   ]
  },
  {
   "cell_type": "code",
   "execution_count": null,
   "metadata": {},
   "outputs": [],
   "source": [
    "from sklearn.tree import DecisionTreeRegressor"
   ]
  },
  {
   "cell_type": "markdown",
   "metadata": {},
   "source": [
    "Create helper class"
   ]
  },
  {
   "cell_type": "code",
   "execution_count": null,
   "metadata": {},
   "outputs": [],
   "source": [
    "class Result:\n",
    "  def __init__(self, r_squared, mean_squared_error):\n",
    "    self.r_squared = r_squared\n",
    "    self.mean_squared_error = mean_squared_error"
   ]
  },
  {
   "cell_type": "code",
   "execution_count": null,
   "metadata": {},
   "outputs": [],
   "source": [
    "results = {}\n",
    "\n",
    "max_range = 10\n",
    "\n",
    "# Fit regression models\n",
    "for i in range(1, max_range):\n",
    "    r = DecisionTreeRegressor(max_depth=i, random_state=3)\n",
    "    r.fit(X_train_set, Y_train_set)\n",
    "    y_predict = r.predict(X_test_set)\n",
    "    results[i] = Result(r2_score(Y_test_set, y_predict), mean_squared_error(Y_test_set, y_predict)) "
   ]
  },
  {
   "cell_type": "markdown",
   "metadata": {},
   "source": [
    "#### Check the quality of the models"
   ]
  },
  {
   "cell_type": "markdown",
   "metadata": {},
   "source": [
    "# Mark down"
   ]
  },
  {
   "cell_type": "code",
   "execution_count": null,
   "metadata": {},
   "outputs": [],
   "source": []
  },
  {
   "cell_type": "code",
   "execution_count": null,
   "metadata": {},
   "outputs": [
    {
     "name": "stdout",
     "output_type": "stream",
     "text": [
      "Depth   1 :R squared: 0.36 -- Mean squared error: 0\n",
      "Depth   2 :R squared: 0.44 -- Mean squared error: 0\n",
      "Depth   3 :R squared: 0.47 -- Mean squared error: 0\n",
      "Depth   4 :R squared: 0.45 -- Mean squared error: 0\n",
      "Depth   5 :R squared: 0.42 -- Mean squared error: 0\n",
      "Depth   6 :R squared: 0.30 -- Mean squared error: 0\n",
      "Depth   7 :R squared: 0.25 -- Mean squared error: 0\n",
      "Depth   8 :R squared: 0.31 -- Mean squared error: 0\n",
      "Depth   9 :R squared: 0.29 -- Mean squared error: 0\n"
     ]
    }
   ],
   "source": [
    "for i in range(1,max_range):\n",
    "    print(\"Depth  %2.f\" % i, \":R squared: %.2f\" % results[i].r_squared,\n",
    "    \"-- Mean squared error: %.0f\" % results[i].mean_squared_error)\n"
   ]
  },
  {
   "cell_type": "markdown",
   "metadata": {},
   "source": [
    "Best performance is at depth = 2 (Not the same over runs &#9785; though)"
   ]
  },
  {
   "cell_type": "code",
   "execution_count": null,
   "metadata": {},
   "outputs": [
    {
     "name": "stdout",
     "output_type": "stream",
     "text": [
      "Depth   2 :R squared: 0.44 -- Mean squared error: 0\n"
     ]
    }
   ],
   "source": [
    "optimum_depth = 2\n",
    "print(\"Depth  %2.f\" % optimum_depth, \":R squared: %.2f\" % results[optimum_depth].r_squared,\n",
    "    \"-- Mean squared error: %.0f\" % results[optimum_depth].mean_squared_error)"
   ]
  }
 ],
 "metadata": {
  "interpreter": {
   "hash": "4b5eed231ec0c115323e225ce5385d6626cfb048417038261eb3d8b8d0f3984b"
  },
  "kernelspec": {
   "display_name": "Python 3.9.7 ('base')",
   "language": "python",
   "name": "python3"
  },
  "language_info": {
   "codemirror_mode": {
    "name": "ipython",
    "version": 3
   },
   "file_extension": ".py",
   "mimetype": "text/x-python",
   "name": "python",
   "nbconvert_exporter": "python",
   "pygments_lexer": "ipython3",
   "version": "3.9.7"
  },
  "orig_nbformat": 4
 },
 "nbformat": 4,
 "nbformat_minor": 2
}
