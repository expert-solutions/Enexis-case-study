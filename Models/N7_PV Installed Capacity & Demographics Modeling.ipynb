{
 "cells": [
  {
   "cell_type": "markdown",
   "id": "f65a3b57",
   "metadata": {
    "cell_id": "639f15a9-3752-44f3-a862-7b646986c305",
    "deepnote_cell_height": 82,
    "deepnote_cell_type": "markdown"
   },
   "source": [
    "# ENEXIS Graduation Project"
   ]
  },
  {
   "cell_type": "markdown",
   "id": "e4d2ae89",
   "metadata": {
    "cell_id": "00001-5275f279-2330-4b63-8b92-281680ccf4f1",
    "deepnote_cell_height": 94.78125,
    "deepnote_cell_type": "markdown"
   },
   "source": [
    "- Feature selection using lasso\n",
    "- Try different models using these features"
   ]
  },
  {
   "cell_type": "code",
   "execution_count": 3,
   "id": "c55b0d5f",
   "metadata": {
    "cell_id": "00002-a00b347e-23c4-47e0-9a5b-9dac9e9ef35b",
    "deepnote_cell_height": 189,
    "deepnote_cell_type": "code",
    "deepnote_to_be_reexecuted": false,
    "execution_millis": 912,
    "execution_start": 1654516469619,
    "source_hash": "7a4b7550"
   },
   "outputs": [],
   "source": [
    "import pandas as pd\n",
    "import numpy as np\n",
    "import seaborn as sns\n",
    "import matplotlib.pyplot as plt \n",
    "import warnings\n",
    "from sklearn.preprocessing import MinMaxScaler, StandardScaler, RobustScaler, OneHotEncoder\n",
    "from sklearn.impute import SimpleImputer\n",
    "from sklearn.compose import ColumnTransformer\n",
    "from sklearn.pipeline import Pipeline\n",
    "from sklearn.model_selection import train_test_split, GridSearchCV\n",
    "from sklearn.linear_model import Lasso, LassoCV, LassoLarsCV, RidgeCV, LinearRegression \n",
    "from sklearn.metrics import r2_score\n",
    "from sklearn import metrics, set_config\n",
    "set_config(display=\"diagram\")\n",
    "warnings.filterwarnings(action=\"ignore\", message=\"^internal gelsd\")\n",
    "TEST_SIZE = 0.2\n",
    "RANDOM_STATE = 123"
   ]
  },
  {
   "cell_type": "markdown",
   "id": "064277d2",
   "metadata": {},
   "source": [
    "Reading of PV installed capacity & demographics dataset"
   ]
  },
  {
   "cell_type": "code",
   "execution_count": 4,
   "id": "cd1a85d4",
   "metadata": {
    "cell_id": "00004-8d7d6422-cc83-4e3f-852e-369d583de015",
    "deepnote_cell_height": 99,
    "deepnote_cell_type": "code",
    "deepnote_to_be_reexecuted": false,
    "execution_millis": 13,
    "execution_start": 1654516470540,
    "source_hash": "205481a0"
   },
   "outputs": [],
   "source": [
    "c_path = \"../Data/\"\n",
    "v_file = \"PV installed capacity & demographics-n7\""
   ]
  },
  {
   "cell_type": "code",
   "execution_count": 5,
   "id": "8aec4460",
   "metadata": {
    "cell_id": "00005-f022d6bf-f1ea-40f8-8d1b-a4295ae0dfcf",
    "deepnote_cell_height": 81,
    "deepnote_cell_type": "code",
    "deepnote_to_be_reexecuted": false,
    "execution_millis": 118,
    "execution_start": 1654516470560,
    "source_hash": "1d8cefb8"
   },
   "outputs": [
    {
     "ename": "FileNotFoundError",
     "evalue": "[Errno 2] No such file or directory: './Data/PV installed capacity & demographics.csv'",
     "output_type": "error",
     "traceback": [
      "\u001b[1;31m---------------------------------------------------------------------------\u001b[0m",
      "\u001b[1;31mFileNotFoundError\u001b[0m                         Traceback (most recent call last)",
      "\u001b[1;32mc:\\Repos\\jads\\Enexis\\Enexis-case-study\\Models\\after burner - N6_PV Installed Capacity & Demographics Modeling.ipynb Cell 6'\u001b[0m in \u001b[0;36m<cell line: 1>\u001b[1;34m()\u001b[0m\n\u001b[1;32m----> <a href='vscode-notebook-cell:/c%3A/Repos/jads/Enexis/Enexis-case-study/Models/after%20burner%20-%20N6_PV%20Installed%20Capacity%20%26%20Demographics%20Modeling.ipynb#ch0000005?line=0'>1</a>\u001b[0m df_orig \u001b[39m=\u001b[39m pd\u001b[39m.\u001b[39;49mread_csv(filepath_or_buffer \u001b[39m=\u001b[39;49m c_path \u001b[39m+\u001b[39;49m v_file \u001b[39m+\u001b[39;49m \u001b[39m\"\u001b[39;49m\u001b[39m.csv\u001b[39;49m\u001b[39m\"\u001b[39;49m, encoding\u001b[39m=\u001b[39;49m \u001b[39m'\u001b[39;49m\u001b[39mUTF-8\u001b[39;49m\u001b[39m'\u001b[39;49m)\n",
      "File \u001b[1;32mc:\\Users\\cjf_v\\miniconda3\\lib\\site-packages\\pandas\\util\\_decorators.py:311\u001b[0m, in \u001b[0;36mdeprecate_nonkeyword_arguments.<locals>.decorate.<locals>.wrapper\u001b[1;34m(*args, **kwargs)\u001b[0m\n\u001b[0;32m    <a href='file:///c%3A/Users/cjf_v/miniconda3/lib/site-packages/pandas/util/_decorators.py?line=304'>305</a>\u001b[0m \u001b[39mif\u001b[39;00m \u001b[39mlen\u001b[39m(args) \u001b[39m>\u001b[39m num_allow_args:\n\u001b[0;32m    <a href='file:///c%3A/Users/cjf_v/miniconda3/lib/site-packages/pandas/util/_decorators.py?line=305'>306</a>\u001b[0m     warnings\u001b[39m.\u001b[39mwarn(\n\u001b[0;32m    <a href='file:///c%3A/Users/cjf_v/miniconda3/lib/site-packages/pandas/util/_decorators.py?line=306'>307</a>\u001b[0m         msg\u001b[39m.\u001b[39mformat(arguments\u001b[39m=\u001b[39marguments),\n\u001b[0;32m    <a href='file:///c%3A/Users/cjf_v/miniconda3/lib/site-packages/pandas/util/_decorators.py?line=307'>308</a>\u001b[0m         \u001b[39mFutureWarning\u001b[39;00m,\n\u001b[0;32m    <a href='file:///c%3A/Users/cjf_v/miniconda3/lib/site-packages/pandas/util/_decorators.py?line=308'>309</a>\u001b[0m         stacklevel\u001b[39m=\u001b[39mstacklevel,\n\u001b[0;32m    <a href='file:///c%3A/Users/cjf_v/miniconda3/lib/site-packages/pandas/util/_decorators.py?line=309'>310</a>\u001b[0m     )\n\u001b[1;32m--> <a href='file:///c%3A/Users/cjf_v/miniconda3/lib/site-packages/pandas/util/_decorators.py?line=310'>311</a>\u001b[0m \u001b[39mreturn\u001b[39;00m func(\u001b[39m*\u001b[39margs, \u001b[39m*\u001b[39m\u001b[39m*\u001b[39mkwargs)\n",
      "File \u001b[1;32mc:\\Users\\cjf_v\\miniconda3\\lib\\site-packages\\pandas\\io\\parsers\\readers.py:680\u001b[0m, in \u001b[0;36mread_csv\u001b[1;34m(filepath_or_buffer, sep, delimiter, header, names, index_col, usecols, squeeze, prefix, mangle_dupe_cols, dtype, engine, converters, true_values, false_values, skipinitialspace, skiprows, skipfooter, nrows, na_values, keep_default_na, na_filter, verbose, skip_blank_lines, parse_dates, infer_datetime_format, keep_date_col, date_parser, dayfirst, cache_dates, iterator, chunksize, compression, thousands, decimal, lineterminator, quotechar, quoting, doublequote, escapechar, comment, encoding, encoding_errors, dialect, error_bad_lines, warn_bad_lines, on_bad_lines, delim_whitespace, low_memory, memory_map, float_precision, storage_options)\u001b[0m\n\u001b[0;32m    <a href='file:///c%3A/Users/cjf_v/miniconda3/lib/site-packages/pandas/io/parsers/readers.py?line=664'>665</a>\u001b[0m kwds_defaults \u001b[39m=\u001b[39m _refine_defaults_read(\n\u001b[0;32m    <a href='file:///c%3A/Users/cjf_v/miniconda3/lib/site-packages/pandas/io/parsers/readers.py?line=665'>666</a>\u001b[0m     dialect,\n\u001b[0;32m    <a href='file:///c%3A/Users/cjf_v/miniconda3/lib/site-packages/pandas/io/parsers/readers.py?line=666'>667</a>\u001b[0m     delimiter,\n\u001b[1;32m   (...)\u001b[0m\n\u001b[0;32m    <a href='file:///c%3A/Users/cjf_v/miniconda3/lib/site-packages/pandas/io/parsers/readers.py?line=675'>676</a>\u001b[0m     defaults\u001b[39m=\u001b[39m{\u001b[39m\"\u001b[39m\u001b[39mdelimiter\u001b[39m\u001b[39m\"\u001b[39m: \u001b[39m\"\u001b[39m\u001b[39m,\u001b[39m\u001b[39m\"\u001b[39m},\n\u001b[0;32m    <a href='file:///c%3A/Users/cjf_v/miniconda3/lib/site-packages/pandas/io/parsers/readers.py?line=676'>677</a>\u001b[0m )\n\u001b[0;32m    <a href='file:///c%3A/Users/cjf_v/miniconda3/lib/site-packages/pandas/io/parsers/readers.py?line=677'>678</a>\u001b[0m kwds\u001b[39m.\u001b[39mupdate(kwds_defaults)\n\u001b[1;32m--> <a href='file:///c%3A/Users/cjf_v/miniconda3/lib/site-packages/pandas/io/parsers/readers.py?line=679'>680</a>\u001b[0m \u001b[39mreturn\u001b[39;00m _read(filepath_or_buffer, kwds)\n",
      "File \u001b[1;32mc:\\Users\\cjf_v\\miniconda3\\lib\\site-packages\\pandas\\io\\parsers\\readers.py:575\u001b[0m, in \u001b[0;36m_read\u001b[1;34m(filepath_or_buffer, kwds)\u001b[0m\n\u001b[0;32m    <a href='file:///c%3A/Users/cjf_v/miniconda3/lib/site-packages/pandas/io/parsers/readers.py?line=571'>572</a>\u001b[0m _validate_names(kwds\u001b[39m.\u001b[39mget(\u001b[39m\"\u001b[39m\u001b[39mnames\u001b[39m\u001b[39m\"\u001b[39m, \u001b[39mNone\u001b[39;00m))\n\u001b[0;32m    <a href='file:///c%3A/Users/cjf_v/miniconda3/lib/site-packages/pandas/io/parsers/readers.py?line=573'>574</a>\u001b[0m \u001b[39m# Create the parser.\u001b[39;00m\n\u001b[1;32m--> <a href='file:///c%3A/Users/cjf_v/miniconda3/lib/site-packages/pandas/io/parsers/readers.py?line=574'>575</a>\u001b[0m parser \u001b[39m=\u001b[39m TextFileReader(filepath_or_buffer, \u001b[39m*\u001b[39m\u001b[39m*\u001b[39mkwds)\n\u001b[0;32m    <a href='file:///c%3A/Users/cjf_v/miniconda3/lib/site-packages/pandas/io/parsers/readers.py?line=576'>577</a>\u001b[0m \u001b[39mif\u001b[39;00m chunksize \u001b[39mor\u001b[39;00m iterator:\n\u001b[0;32m    <a href='file:///c%3A/Users/cjf_v/miniconda3/lib/site-packages/pandas/io/parsers/readers.py?line=577'>578</a>\u001b[0m     \u001b[39mreturn\u001b[39;00m parser\n",
      "File \u001b[1;32mc:\\Users\\cjf_v\\miniconda3\\lib\\site-packages\\pandas\\io\\parsers\\readers.py:933\u001b[0m, in \u001b[0;36mTextFileReader.__init__\u001b[1;34m(self, f, engine, **kwds)\u001b[0m\n\u001b[0;32m    <a href='file:///c%3A/Users/cjf_v/miniconda3/lib/site-packages/pandas/io/parsers/readers.py?line=929'>930</a>\u001b[0m     \u001b[39mself\u001b[39m\u001b[39m.\u001b[39moptions[\u001b[39m\"\u001b[39m\u001b[39mhas_index_names\u001b[39m\u001b[39m\"\u001b[39m] \u001b[39m=\u001b[39m kwds[\u001b[39m\"\u001b[39m\u001b[39mhas_index_names\u001b[39m\u001b[39m\"\u001b[39m]\n\u001b[0;32m    <a href='file:///c%3A/Users/cjf_v/miniconda3/lib/site-packages/pandas/io/parsers/readers.py?line=931'>932</a>\u001b[0m \u001b[39mself\u001b[39m\u001b[39m.\u001b[39mhandles: IOHandles \u001b[39m|\u001b[39m \u001b[39mNone\u001b[39;00m \u001b[39m=\u001b[39m \u001b[39mNone\u001b[39;00m\n\u001b[1;32m--> <a href='file:///c%3A/Users/cjf_v/miniconda3/lib/site-packages/pandas/io/parsers/readers.py?line=932'>933</a>\u001b[0m \u001b[39mself\u001b[39m\u001b[39m.\u001b[39m_engine \u001b[39m=\u001b[39m \u001b[39mself\u001b[39;49m\u001b[39m.\u001b[39;49m_make_engine(f, \u001b[39mself\u001b[39;49m\u001b[39m.\u001b[39;49mengine)\n",
      "File \u001b[1;32mc:\\Users\\cjf_v\\miniconda3\\lib\\site-packages\\pandas\\io\\parsers\\readers.py:1217\u001b[0m, in \u001b[0;36mTextFileReader._make_engine\u001b[1;34m(self, f, engine)\u001b[0m\n\u001b[0;32m   <a href='file:///c%3A/Users/cjf_v/miniconda3/lib/site-packages/pandas/io/parsers/readers.py?line=1212'>1213</a>\u001b[0m     mode \u001b[39m=\u001b[39m \u001b[39m\"\u001b[39m\u001b[39mrb\u001b[39m\u001b[39m\"\u001b[39m\n\u001b[0;32m   <a href='file:///c%3A/Users/cjf_v/miniconda3/lib/site-packages/pandas/io/parsers/readers.py?line=1213'>1214</a>\u001b[0m \u001b[39m# error: No overload variant of \"get_handle\" matches argument types\u001b[39;00m\n\u001b[0;32m   <a href='file:///c%3A/Users/cjf_v/miniconda3/lib/site-packages/pandas/io/parsers/readers.py?line=1214'>1215</a>\u001b[0m \u001b[39m# \"Union[str, PathLike[str], ReadCsvBuffer[bytes], ReadCsvBuffer[str]]\"\u001b[39;00m\n\u001b[0;32m   <a href='file:///c%3A/Users/cjf_v/miniconda3/lib/site-packages/pandas/io/parsers/readers.py?line=1215'>1216</a>\u001b[0m \u001b[39m# , \"str\", \"bool\", \"Any\", \"Any\", \"Any\", \"Any\", \"Any\"\u001b[39;00m\n\u001b[1;32m-> <a href='file:///c%3A/Users/cjf_v/miniconda3/lib/site-packages/pandas/io/parsers/readers.py?line=1216'>1217</a>\u001b[0m \u001b[39mself\u001b[39m\u001b[39m.\u001b[39mhandles \u001b[39m=\u001b[39m get_handle(  \u001b[39m# type: ignore[call-overload]\u001b[39;49;00m\n\u001b[0;32m   <a href='file:///c%3A/Users/cjf_v/miniconda3/lib/site-packages/pandas/io/parsers/readers.py?line=1217'>1218</a>\u001b[0m     f,\n\u001b[0;32m   <a href='file:///c%3A/Users/cjf_v/miniconda3/lib/site-packages/pandas/io/parsers/readers.py?line=1218'>1219</a>\u001b[0m     mode,\n\u001b[0;32m   <a href='file:///c%3A/Users/cjf_v/miniconda3/lib/site-packages/pandas/io/parsers/readers.py?line=1219'>1220</a>\u001b[0m     encoding\u001b[39m=\u001b[39;49m\u001b[39mself\u001b[39;49m\u001b[39m.\u001b[39;49moptions\u001b[39m.\u001b[39;49mget(\u001b[39m\"\u001b[39;49m\u001b[39mencoding\u001b[39;49m\u001b[39m\"\u001b[39;49m, \u001b[39mNone\u001b[39;49;00m),\n\u001b[0;32m   <a href='file:///c%3A/Users/cjf_v/miniconda3/lib/site-packages/pandas/io/parsers/readers.py?line=1220'>1221</a>\u001b[0m     compression\u001b[39m=\u001b[39;49m\u001b[39mself\u001b[39;49m\u001b[39m.\u001b[39;49moptions\u001b[39m.\u001b[39;49mget(\u001b[39m\"\u001b[39;49m\u001b[39mcompression\u001b[39;49m\u001b[39m\"\u001b[39;49m, \u001b[39mNone\u001b[39;49;00m),\n\u001b[0;32m   <a href='file:///c%3A/Users/cjf_v/miniconda3/lib/site-packages/pandas/io/parsers/readers.py?line=1221'>1222</a>\u001b[0m     memory_map\u001b[39m=\u001b[39;49m\u001b[39mself\u001b[39;49m\u001b[39m.\u001b[39;49moptions\u001b[39m.\u001b[39;49mget(\u001b[39m\"\u001b[39;49m\u001b[39mmemory_map\u001b[39;49m\u001b[39m\"\u001b[39;49m, \u001b[39mFalse\u001b[39;49;00m),\n\u001b[0;32m   <a href='file:///c%3A/Users/cjf_v/miniconda3/lib/site-packages/pandas/io/parsers/readers.py?line=1222'>1223</a>\u001b[0m     is_text\u001b[39m=\u001b[39;49mis_text,\n\u001b[0;32m   <a href='file:///c%3A/Users/cjf_v/miniconda3/lib/site-packages/pandas/io/parsers/readers.py?line=1223'>1224</a>\u001b[0m     errors\u001b[39m=\u001b[39;49m\u001b[39mself\u001b[39;49m\u001b[39m.\u001b[39;49moptions\u001b[39m.\u001b[39;49mget(\u001b[39m\"\u001b[39;49m\u001b[39mencoding_errors\u001b[39;49m\u001b[39m\"\u001b[39;49m, \u001b[39m\"\u001b[39;49m\u001b[39mstrict\u001b[39;49m\u001b[39m\"\u001b[39;49m),\n\u001b[0;32m   <a href='file:///c%3A/Users/cjf_v/miniconda3/lib/site-packages/pandas/io/parsers/readers.py?line=1224'>1225</a>\u001b[0m     storage_options\u001b[39m=\u001b[39;49m\u001b[39mself\u001b[39;49m\u001b[39m.\u001b[39;49moptions\u001b[39m.\u001b[39;49mget(\u001b[39m\"\u001b[39;49m\u001b[39mstorage_options\u001b[39;49m\u001b[39m\"\u001b[39;49m, \u001b[39mNone\u001b[39;49;00m),\n\u001b[0;32m   <a href='file:///c%3A/Users/cjf_v/miniconda3/lib/site-packages/pandas/io/parsers/readers.py?line=1225'>1226</a>\u001b[0m )\n\u001b[0;32m   <a href='file:///c%3A/Users/cjf_v/miniconda3/lib/site-packages/pandas/io/parsers/readers.py?line=1226'>1227</a>\u001b[0m \u001b[39massert\u001b[39;00m \u001b[39mself\u001b[39m\u001b[39m.\u001b[39mhandles \u001b[39mis\u001b[39;00m \u001b[39mnot\u001b[39;00m \u001b[39mNone\u001b[39;00m\n\u001b[0;32m   <a href='file:///c%3A/Users/cjf_v/miniconda3/lib/site-packages/pandas/io/parsers/readers.py?line=1227'>1228</a>\u001b[0m f \u001b[39m=\u001b[39m \u001b[39mself\u001b[39m\u001b[39m.\u001b[39mhandles\u001b[39m.\u001b[39mhandle\n",
      "File \u001b[1;32mc:\\Users\\cjf_v\\miniconda3\\lib\\site-packages\\pandas\\io\\common.py:789\u001b[0m, in \u001b[0;36mget_handle\u001b[1;34m(path_or_buf, mode, encoding, compression, memory_map, is_text, errors, storage_options)\u001b[0m\n\u001b[0;32m    <a href='file:///c%3A/Users/cjf_v/miniconda3/lib/site-packages/pandas/io/common.py?line=783'>784</a>\u001b[0m \u001b[39melif\u001b[39;00m \u001b[39misinstance\u001b[39m(handle, \u001b[39mstr\u001b[39m):\n\u001b[0;32m    <a href='file:///c%3A/Users/cjf_v/miniconda3/lib/site-packages/pandas/io/common.py?line=784'>785</a>\u001b[0m     \u001b[39m# Check whether the filename is to be opened in binary mode.\u001b[39;00m\n\u001b[0;32m    <a href='file:///c%3A/Users/cjf_v/miniconda3/lib/site-packages/pandas/io/common.py?line=785'>786</a>\u001b[0m     \u001b[39m# Binary mode does not support 'encoding' and 'newline'.\u001b[39;00m\n\u001b[0;32m    <a href='file:///c%3A/Users/cjf_v/miniconda3/lib/site-packages/pandas/io/common.py?line=786'>787</a>\u001b[0m     \u001b[39mif\u001b[39;00m ioargs\u001b[39m.\u001b[39mencoding \u001b[39mand\u001b[39;00m \u001b[39m\"\u001b[39m\u001b[39mb\u001b[39m\u001b[39m\"\u001b[39m \u001b[39mnot\u001b[39;00m \u001b[39min\u001b[39;00m ioargs\u001b[39m.\u001b[39mmode:\n\u001b[0;32m    <a href='file:///c%3A/Users/cjf_v/miniconda3/lib/site-packages/pandas/io/common.py?line=787'>788</a>\u001b[0m         \u001b[39m# Encoding\u001b[39;00m\n\u001b[1;32m--> <a href='file:///c%3A/Users/cjf_v/miniconda3/lib/site-packages/pandas/io/common.py?line=788'>789</a>\u001b[0m         handle \u001b[39m=\u001b[39m \u001b[39mopen\u001b[39;49m(\n\u001b[0;32m    <a href='file:///c%3A/Users/cjf_v/miniconda3/lib/site-packages/pandas/io/common.py?line=789'>790</a>\u001b[0m             handle,\n\u001b[0;32m    <a href='file:///c%3A/Users/cjf_v/miniconda3/lib/site-packages/pandas/io/common.py?line=790'>791</a>\u001b[0m             ioargs\u001b[39m.\u001b[39;49mmode,\n\u001b[0;32m    <a href='file:///c%3A/Users/cjf_v/miniconda3/lib/site-packages/pandas/io/common.py?line=791'>792</a>\u001b[0m             encoding\u001b[39m=\u001b[39;49mioargs\u001b[39m.\u001b[39;49mencoding,\n\u001b[0;32m    <a href='file:///c%3A/Users/cjf_v/miniconda3/lib/site-packages/pandas/io/common.py?line=792'>793</a>\u001b[0m             errors\u001b[39m=\u001b[39;49merrors,\n\u001b[0;32m    <a href='file:///c%3A/Users/cjf_v/miniconda3/lib/site-packages/pandas/io/common.py?line=793'>794</a>\u001b[0m             newline\u001b[39m=\u001b[39;49m\u001b[39m\"\u001b[39;49m\u001b[39m\"\u001b[39;49m,\n\u001b[0;32m    <a href='file:///c%3A/Users/cjf_v/miniconda3/lib/site-packages/pandas/io/common.py?line=794'>795</a>\u001b[0m         )\n\u001b[0;32m    <a href='file:///c%3A/Users/cjf_v/miniconda3/lib/site-packages/pandas/io/common.py?line=795'>796</a>\u001b[0m     \u001b[39melse\u001b[39;00m:\n\u001b[0;32m    <a href='file:///c%3A/Users/cjf_v/miniconda3/lib/site-packages/pandas/io/common.py?line=796'>797</a>\u001b[0m         \u001b[39m# Binary mode\u001b[39;00m\n\u001b[0;32m    <a href='file:///c%3A/Users/cjf_v/miniconda3/lib/site-packages/pandas/io/common.py?line=797'>798</a>\u001b[0m         handle \u001b[39m=\u001b[39m \u001b[39mopen\u001b[39m(handle, ioargs\u001b[39m.\u001b[39mmode)\n",
      "\u001b[1;31mFileNotFoundError\u001b[0m: [Errno 2] No such file or directory: './Data/PV installed capacity & demographics.csv'"
     ]
    }
   ],
   "source": [
    "df_orig = pd.read_csv(filepath_or_buffer = c_path + v_file + \".csv\", encoding= 'UTF-8')"
   ]
  },
  {
   "cell_type": "code",
   "execution_count": null,
   "id": "4fed8aff",
   "metadata": {
    "cell_id": "00011-4a6de07d-9da7-4414-a5f9-01491267784c",
    "deepnote_cell_height": 99,
    "deepnote_cell_type": "code",
    "deepnote_to_be_reexecuted": false,
    "execution_millis": 13,
    "execution_start": 1654516470713,
    "source_hash": "23d5dfd5"
   },
   "outputs": [],
   "source": [
    "df_orig = df_orig[df_orig['Year'] == 2019]"
   ]
  },
  {
   "cell_type": "code",
   "execution_count": null,
   "id": "8c65246c",
   "metadata": {
    "cell_id": "00013-afb6db7b-3239-46ef-b6c9-e00a9f36266d",
    "deepnote_cell_height": 81,
    "deepnote_cell_type": "code",
    "deepnote_to_be_reexecuted": false,
    "execution_millis": 1,
    "execution_start": 1654516470771,
    "source_hash": "a0ec4e6b"
   },
   "outputs": [],
   "source": [
    "df_orig  = df_orig.drop('Year', axis = 1)"
   ]
  },
  {
   "cell_type": "code",
   "execution_count": null,
   "id": "831d6116",
   "metadata": {
    "scrolled": true
   },
   "outputs": [
    {
     "name": "stdout",
     "output_type": "stream",
     "text": [
      "<class 'pandas.core.frame.DataFrame'>\n",
      "Int64Index: 1760 entries, 3 to 10857\n",
      "Data columns (total 33 columns):\n",
      " #   Column                                     Non-Null Count  Dtype  \n",
      "---  ------                                     --------------  -----  \n",
      " 0   BU_2021                                    1760 non-null   object \n",
      " 1   BU_NAAM                                    1760 non-null   object \n",
      " 2   WK_2021                                    1760 non-null   object \n",
      " 3   WK_NAAM                                    1760 non-null   object \n",
      " 4   GM_2021                                    1760 non-null   object \n",
      " 5   GM_NAAM                                    1760 non-null   object \n",
      " 6   ProvinciecodePV                            1760 non-null   object \n",
      " 7   Provincienaam                              1760 non-null   object \n",
      " 8   Aantal aansluitingen met opwekinstallatie  1760 non-null   float64\n",
      " 9   Opgesteld vermogen                         1760 non-null   float64\n",
      " 10  MeestVoorkomendePostcode_113               1760 non-null   int64  \n",
      " 11  HuishoudensTotaal_28                       1760 non-null   int64  \n",
      " 12  GemiddeldeHuishoudensgrootte_32            1760 non-null   float64\n",
      " 13  Bevolkingsdichtheid_33                     1760 non-null   float64\n",
      " 14  Woningvoorraad_34                          1760 non-null   int64  \n",
      " 15  GemiddeldeWoningwaarde_35                  1644 non-null   float64\n",
      " 16  PercentageEengezinswoning_36               1760 non-null   float64\n",
      " 17  Koopwoningen_40                            1760 non-null   float64\n",
      " 18  InBezitWoningcorporatie_42                 1760 non-null   float64\n",
      " 19  InBezitOverigeVerhuurders_43               1760 non-null   float64\n",
      " 20  BouwjaarVanaf2000_46                       1760 non-null   float64\n",
      " 21  GemiddeldElektriciteitsverbruikTotaal_47   1760 non-null   float64\n",
      " 22  GemiddeldAardgasverbruikTotaal_55          1750 non-null   float64\n",
      " 23  Gemiddeld_opleidingsniveau                 1721 non-null   float64\n",
      " 24  Percent_inkomensontvangers                 1760 non-null   float64\n",
      " 25  GemiddeldInkomenPerInwoner_72              1741 non-null   float64\n",
      " 26  Bedrijfsvestigingen_per_huishuidens        1760 non-null   float64\n",
      " 27  PersonenautoSPerHuishouden_102             1726 non-null   float64\n",
      " 28  AfstandTotSchool_108                       1760 non-null   float64\n",
      " 29  MateVanStedelijkheid_115                   1760 non-null   float64\n",
      " 30  OV_per_installatie                         1760 non-null   float64\n",
      " 31  Opgesteld_vermogen_per100houshoudens       1760 non-null   float64\n",
      " 32  PVinstallaties_per100houshoudens           1760 non-null   float64\n",
      "dtypes: float64(22), int64(3), object(8)\n",
      "memory usage: 467.5+ KB\n"
     ]
    }
   ],
   "source": [
    "df_orig.info()"
   ]
  },
  {
   "cell_type": "code",
   "execution_count": null,
   "id": "da4c8718",
   "metadata": {},
   "outputs": [],
   "source": [
    "df = df_orig"
   ]
  },
  {
   "cell_type": "markdown",
   "id": "3a34ab02",
   "metadata": {},
   "source": [
    "#### Data understanding - correlation matrix"
   ]
  },
  {
   "cell_type": "code",
   "execution_count": null,
   "id": "07759f59",
   "metadata": {},
   "outputs": [],
   "source": [
    "corr_matrix = df.corr().sort_values(by = 'Opgesteld_vermogen_per100houshoudens', ascending = False).transpose()\n",
    "corr_matrix = corr_matrix.sort_values(by = 'Opgesteld_vermogen_per100houshoudens', ascending = False)"
   ]
  },
  {
   "cell_type": "code",
   "execution_count": null,
   "id": "10c7aeb3",
   "metadata": {},
   "outputs": [
    {
     "data": {
      "text/plain": [
       "<AxesSubplot:>"
      ]
     },
     "execution_count": 9,
     "metadata": {},
     "output_type": "execute_result"
    },
    {
     "data": {
      "image/png": "[encoded data removed]",
      "text/plain": [
       "<Figure size 1080x864 with 2 Axes>"
      ]
     },
     "metadata": {
      "needs_background": "light"
     },
     "output_type": "display_data"
    }
   ],
   "source": [
    "plt.figure(figsize = (15,12))\n",
    "sns.heatmap(data = corr_matrix, annot = False, fmt='.2f', cmap = 'RdBu_r', linewidths=.1, square=True, vmax=1, center = 0)"
   ]
  },
  {
   "cell_type": "markdown",
   "id": "7f3039a8",
   "metadata": {
    "cell_id": "00003-387bdbd1-8c87-461e-b0d5-a8074c5ea6d9",
    "deepnote_cell_height": 68,
    "deepnote_cell_type": "markdown"
   },
   "source": [
    "<a id='readpv'></a>\n",
    "### Feature selection for modeling"
   ]
  },
  {
   "cell_type": "code",
   "execution_count": null,
   "id": "4f528970",
   "metadata": {},
   "outputs": [],
   "source": [
    "all_columns = ['HuishoudensTotaal_28', 'GemiddeldeHuishoudensgrootte_32',\n",
    "       'Bevolkingsdichtheid_33', 'Woningvoorraad_34',\n",
    "       'GemiddeldeWoningwaarde_35', 'PercentageEengezinswoning_36',\n",
    "       'Koopwoningen_40', 'InBezitWoningcorporatie_42',\n",
    "       'InBezitOverigeVerhuurders_43', 'BouwjaarVanaf2000_46',\n",
    "       'GemiddeldElektriciteitsverbruikTotaal_47',\n",
    "       'GemiddeldAardgasverbruikTotaal_55', 'Gemiddeld_opleidingsniveau',\n",
    "       'Percent_inkomensontvangers', 'GemiddeldInkomenPerInwoner_72',\n",
    "       'Bedrijfsvestigingen_per_huishuidens', 'PersonenautoSPerHuishouden_102',\n",
    "       'AfstandTotSchool_108', 'MateVanStedelijkheid_115']"
   ]
  },
  {
   "cell_type": "code",
   "execution_count": null,
   "id": "a4315f58",
   "metadata": {},
   "outputs": [],
   "source": [
    "categorical_features = ['GM_NAAM', 'Provincienaam']"
   ]
  },
  {
   "cell_type": "code",
   "execution_count": null,
   "id": "04ed05aa",
   "metadata": {},
   "outputs": [],
   "source": [
    "numeric_features = ['HuishoudensTotaal_28', 'GemiddeldeHuishoudensgrootte_32',\n",
    "       'Bevolkingsdichtheid_33', 'Woningvoorraad_34',\n",
    "       'GemiddeldeWoningwaarde_35', 'PercentageEengezinswoning_36',\n",
    "       'Koopwoningen_40', 'InBezitWoningcorporatie_42',\n",
    "       'InBezitOverigeVerhuurders_43', 'BouwjaarVanaf2000_46',\n",
    "       'GemiddeldElektriciteitsverbruikTotaal_47',\n",
    "       'GemiddeldAardgasverbruikTotaal_55', 'Gemiddeld_opleidingsniveau',\n",
    "       'Percent_inkomensontvangers', 'GemiddeldInkomenPerInwoner_72',\n",
    "       'Bedrijfsvestigingen_per_huishuidens', 'PersonenautoSPerHuishouden_102',\n",
    "       'AfstandTotSchool_108', 'MateVanStedelijkheid_115']"
   ]
  },
  {
   "cell_type": "code",
   "execution_count": null,
   "id": "bee96e9d",
   "metadata": {},
   "outputs": [],
   "source": [
    "df = pd.merge(df[categorical_features], df[numeric_features], left_index=True, right_index=True)\n",
    "df = df.join(df_orig['Opgesteld_vermogen_per100houshoudens'])"
   ]
  },
  {
   "cell_type": "code",
   "execution_count": null,
   "id": "e2a1810d",
   "metadata": {},
   "outputs": [
    {
     "name": "stdout",
     "output_type": "stream",
     "text": [
      "<class 'pandas.core.frame.DataFrame'>\n",
      "Int64Index: 1760 entries, 3 to 10857\n",
      "Data columns (total 22 columns):\n",
      " #   Column                                    Non-Null Count  Dtype  \n",
      "---  ------                                    --------------  -----  \n",
      " 0   GM_NAAM                                   1760 non-null   object \n",
      " 1   Provincienaam                             1760 non-null   object \n",
      " 2   HuishoudensTotaal_28                      1760 non-null   int64  \n",
      " 3   GemiddeldeHuishoudensgrootte_32           1760 non-null   float64\n",
      " 4   Bevolkingsdichtheid_33                    1760 non-null   float64\n",
      " 5   Woningvoorraad_34                         1760 non-null   int64  \n",
      " 6   GemiddeldeWoningwaarde_35                 1644 non-null   float64\n",
      " 7   PercentageEengezinswoning_36              1760 non-null   float64\n",
      " 8   Koopwoningen_40                           1760 non-null   float64\n",
      " 9   InBezitWoningcorporatie_42                1760 non-null   float64\n",
      " 10  InBezitOverigeVerhuurders_43              1760 non-null   float64\n",
      " 11  BouwjaarVanaf2000_46                      1760 non-null   float64\n",
      " 12  GemiddeldElektriciteitsverbruikTotaal_47  1760 non-null   float64\n",
      " 13  GemiddeldAardgasverbruikTotaal_55         1750 non-null   float64\n",
      " 14  Gemiddeld_opleidingsniveau                1721 non-null   float64\n",
      " 15  Percent_inkomensontvangers                1760 non-null   float64\n",
      " 16  GemiddeldInkomenPerInwoner_72             1741 non-null   float64\n",
      " 17  Bedrijfsvestigingen_per_huishuidens       1760 non-null   float64\n",
      " 18  PersonenautoSPerHuishouden_102            1726 non-null   float64\n",
      " 19  AfstandTotSchool_108                      1760 non-null   float64\n",
      " 20  MateVanStedelijkheid_115                  1760 non-null   float64\n",
      " 21  Opgesteld_vermogen_per100houshoudens      1760 non-null   float64\n",
      "dtypes: float64(18), int64(2), object(2)\n",
      "memory usage: 380.8+ KB\n"
     ]
    }
   ],
   "source": [
    "df.info()"
   ]
  },
  {
   "cell_type": "code",
   "execution_count": null,
   "id": "b649672f",
   "metadata": {
    "cell_id": "00019-3d4520e3-87aa-46cc-a05b-c1dcd9491918",
    "deepnote_cell_height": 189,
    "deepnote_cell_type": "code",
    "deepnote_to_be_reexecuted": false,
    "execution_millis": 46,
    "execution_start": 1654516470818,
    "source_hash": "b3c3bd51"
   },
   "outputs": [],
   "source": [
    "y = df['Opgesteld_vermogen_per100houshoudens']\n",
    "X = df.drop('Opgesteld_vermogen_per100houshoudens', axis = 1)\n",
    "\n",
    "X_train, X_test, y_train, y_test = train_test_split(X, y, test_size=TEST_SIZE, random_state=RANDOM_STATE)"
   ]
  },
  {
   "cell_type": "markdown",
   "id": "299be34f",
   "metadata": {
    "cell_id": "00006-ed135c45-639a-448c-8cd3-e8305270c4a9",
    "deepnote_cell_height": 52.390625,
    "deepnote_cell_type": "markdown"
   },
   "source": [
    "Setup the pipeline"
   ]
  },
  {
   "cell_type": "code",
   "execution_count": null,
   "id": "b2d974a4",
   "metadata": {},
   "outputs": [],
   "source": [
    "# Applying SimpleImputer and StandardScaler\n",
    "\n",
    "numerical_transformer = Pipeline(steps=[\n",
    "    ('imputer', SimpleImputer(strategy='median')),\n",
    "    ('scaler', StandardScaler())])"
   ]
  },
  {
   "cell_type": "code",
   "execution_count": null,
   "id": "cd126ead",
   "metadata": {},
   "outputs": [],
   "source": [
    "# Applying SimpleImputer and then OneHotEncoder\n",
    "\n",
    "categorical_transformer = Pipeline(steps=[\n",
    "    ('imputer', SimpleImputer(strategy='constant', fill_value='missing')),\n",
    "    ('onehot', OneHotEncoder(handle_unknown='ignore'))])"
   ]
  },
  {
   "cell_type": "code",
   "execution_count": null,
   "id": "4475ed93",
   "metadata": {},
   "outputs": [],
   "source": [
    "preprocessor = ColumnTransformer(\n",
    "    transformers=[\n",
    "        ('num', numerical_transformer, numeric_features),\n",
    "        ('cat', categorical_transformer, categorical_features)])"
   ]
  },
  {
   "cell_type": "markdown",
   "id": "98329ef1",
   "metadata": {
    "cell_id": "00031-0cc4f21b-f02d-454b-a8b5-68f144db9d45",
    "deepnote_cell_height": 70,
    "deepnote_cell_type": "markdown"
   },
   "source": [
    "## Model using: Linear regression"
   ]
  },
  {
   "cell_type": "code",
   "execution_count": null,
   "id": "c791a4ed",
   "metadata": {},
   "outputs": [],
   "source": [
    "lr = LinearRegression()"
   ]
  },
  {
   "cell_type": "code",
   "execution_count": null,
   "id": "f4a0266b",
   "metadata": {},
   "outputs": [],
   "source": [
    "model_lr = Pipeline(steps=[('preprocessor', preprocessor),\n",
    "                      ('estimator', lr)])"
   ]
  },
  {
   "cell_type": "code",
   "execution_count": null,
   "id": "b1ee1f04",
   "metadata": {},
   "outputs": [
    {
     "data": {
      "text/html": [
       "<style>#sk-b0304efb-0e05-45aa-9931-885393d823ba {color: black;background-color: white;}#sk-b0304efb-0e05-45aa-9931-885393d823ba pre{padding: 0;}#sk-b0304efb-0e05-45aa-9931-885393d823ba div.sk-toggleable {background-color: white;}#sk-b0304efb-0e05-45aa-9931-885393d823ba label.sk-toggleable__label {cursor: pointer;display: block;width: 100%;margin-bottom: 0;padding: 0.3em;box-sizing: border-box;text-align: center;}#sk-b0304efb-0e05-45aa-9931-885393d823ba label.sk-toggleable__label-arrow:before {content: \"▸\";float: left;margin-right: 0.25em;color: #696969;}#sk-b0304efb-0e05-45aa-9931-885393d823ba label.sk-toggleable__label-arrow:hover:before {color: black;}#sk-b0304efb-0e05-45aa-9931-885393d823ba div.sk-estimator:hover label.sk-toggleable__label-arrow:before {color: black;}#sk-b0304efb-0e05-45aa-9931-885393d823ba div.sk-toggleable__content {max-height: 0;max-width: 0;overflow: hidden;text-align: left;background-color: #f0f8ff;}#sk-b0304efb-0e05-45aa-9931-885393d823ba div.sk-toggleable__content pre {margin: 0.2em;color: black;border-radius: 0.25em;background-color: #f0f8ff;}#sk-b0304efb-0e05-45aa-9931-885393d823ba input.sk-toggleable__control:checked~div.sk-toggleable__content {max-height: 200px;max-width: 100%;overflow: auto;}#sk-b0304efb-0e05-45aa-9931-885393d823ba input.sk-toggleable__control:checked~label.sk-toggleable__label-arrow:before {content: \"▾\";}#sk-b0304efb-0e05-45aa-9931-885393d823ba div.sk-estimator input.sk-toggleable__control:checked~label.sk-toggleable__label {background-color: #d4ebff;}#sk-b0304efb-0e05-45aa-9931-885393d823ba div.sk-label input.sk-toggleable__control:checked~label.sk-toggleable__label {background-color: #d4ebff;}#sk-b0304efb-0e05-45aa-9931-885393d823ba input.sk-hidden--visually {border: 0;clip: rect(1px 1px 1px 1px);clip: rect(1px, 1px, 1px, 1px);height: 1px;margin: -1px;overflow: hidden;padding: 0;position: absolute;width: 1px;}#sk-b0304efb-0e05-45aa-9931-885393d823ba div.sk-estimator {font-family: monospace;background-color: #f0f8ff;border: 1px dotted black;border-radius: 0.25em;box-sizing: border-box;margin-bottom: 0.5em;}#sk-b0304efb-0e05-45aa-9931-885393d823ba div.sk-estimator:hover {background-color: #d4ebff;}#sk-b0304efb-0e05-45aa-9931-885393d823ba div.sk-parallel-item::after {content: \"\";width: 100%;border-bottom: 1px solid gray;flex-grow: 1;}#sk-b0304efb-0e05-45aa-9931-885393d823ba div.sk-label:hover label.sk-toggleable__label {background-color: #d4ebff;}#sk-b0304efb-0e05-45aa-9931-885393d823ba div.sk-serial::before {content: \"\";position: absolute;border-left: 1px solid gray;box-sizing: border-box;top: 2em;bottom: 0;left: 50%;}#sk-b0304efb-0e05-45aa-9931-885393d823ba div.sk-serial {display: flex;flex-direction: column;align-items: center;background-color: white;padding-right: 0.2em;padding-left: 0.2em;}#sk-b0304efb-0e05-45aa-9931-885393d823ba div.sk-item {z-index: 1;}#sk-b0304efb-0e05-45aa-9931-885393d823ba div.sk-parallel {display: flex;align-items: stretch;justify-content: center;background-color: white;}#sk-b0304efb-0e05-45aa-9931-885393d823ba div.sk-parallel::before {content: \"\";position: absolute;border-left: 1px solid gray;box-sizing: border-box;top: 2em;bottom: 0;left: 50%;}#sk-b0304efb-0e05-45aa-9931-885393d823ba div.sk-parallel-item {display: flex;flex-direction: column;position: relative;background-color: white;}#sk-b0304efb-0e05-45aa-9931-885393d823ba div.sk-parallel-item:first-child::after {align-self: flex-end;width: 50%;}#sk-b0304efb-0e05-45aa-9931-885393d823ba div.sk-parallel-item:last-child::after {align-self: flex-start;width: 50%;}#sk-b0304efb-0e05-45aa-9931-885393d823ba div.sk-parallel-item:only-child::after {width: 0;}#sk-b0304efb-0e05-45aa-9931-885393d823ba div.sk-dashed-wrapped {border: 1px dashed gray;margin: 0 0.4em 0.5em 0.4em;box-sizing: border-box;padding-bottom: 0.4em;background-color: white;position: relative;}#sk-b0304efb-0e05-45aa-9931-885393d823ba div.sk-label label {font-family: monospace;font-weight: bold;background-color: white;display: inline-block;line-height: 1.2em;}#sk-b0304efb-0e05-45aa-9931-885393d823ba div.sk-label-container {position: relative;z-index: 2;text-align: center;}#sk-b0304efb-0e05-45aa-9931-885393d823ba div.sk-container {/* jupyter's `normalize.less` sets `[hidden] { display: none; }` but bootstrap.min.css set `[hidden] { display: none !important; }` so we also need the `!important` here to be able to override the default hidden behavior on the sphinx rendered scikit-learn.org. See: https://github.com/scikit-learn/scikit-learn/issues/21755 */display: inline-block !important;position: relative;}#sk-b0304efb-0e05-45aa-9931-885393d823ba div.sk-text-repr-fallback {display: none;}</style><div id=\"sk-b0304efb-0e05-45aa-9931-885393d823ba\" class=\"sk-top-container\"><div class=\"sk-text-repr-fallback\"><pre>Pipeline(steps=[(&#x27;preprocessor&#x27;,\n",
       "                 ColumnTransformer(transformers=[(&#x27;num&#x27;,\n",
       "                                                  Pipeline(steps=[(&#x27;imputer&#x27;,\n",
       "                                                                   SimpleImputer(strategy=&#x27;median&#x27;)),\n",
       "                                                                  (&#x27;scaler&#x27;,\n",
       "                                                                   StandardScaler())]),\n",
       "                                                  [&#x27;HuishoudensTotaal_28&#x27;,\n",
       "                                                   &#x27;GemiddeldeHuishoudensgrootte_32&#x27;,\n",
       "                                                   &#x27;Bevolkingsdichtheid_33&#x27;,\n",
       "                                                   &#x27;Woningvoorraad_34&#x27;,\n",
       "                                                   &#x27;GemiddeldeWoningwaarde_35&#x27;,\n",
       "                                                   &#x27;PercentageEengezinswoning_36&#x27;,\n",
       "                                                   &#x27;Koopwoningen_40&#x27;,\n",
       "                                                   &#x27;InBezit...\n",
       "                                                   &#x27;GemiddeldInkomenPerInwoner_72&#x27;,\n",
       "                                                   &#x27;Bedrijfsvestigingen_per_huishuidens&#x27;,\n",
       "                                                   &#x27;PersonenautoSPerHuishouden_102&#x27;,\n",
       "                                                   &#x27;AfstandTotSchool_108&#x27;,\n",
       "                                                   &#x27;MateVanStedelijkheid_115&#x27;]),\n",
       "                                                 (&#x27;cat&#x27;,\n",
       "                                                  Pipeline(steps=[(&#x27;imputer&#x27;,\n",
       "                                                                   SimpleImputer(fill_value=&#x27;missing&#x27;,\n",
       "                                                                                 strategy=&#x27;constant&#x27;)),\n",
       "                                                                  (&#x27;onehot&#x27;,\n",
       "                                                                   OneHotEncoder(handle_unknown=&#x27;ignore&#x27;))]),\n",
       "                                                  [&#x27;GM_NAAM&#x27;,\n",
       "                                                   &#x27;Provincienaam&#x27;])])),\n",
       "                (&#x27;estimator&#x27;, LinearRegression())])</pre><b>Please rerun this cell to show the HTML repr or trust the notebook.</b></div><div class=\"sk-container\" hidden><div class=\"sk-item sk-dashed-wrapped\"><div class=\"sk-label-container\"><div class=\"sk-label sk-toggleable\"><input class=\"sk-toggleable__control sk-hidden--visually\" id=\"72423ee9-b35c-4058-9052-6446d47f7241\" type=\"checkbox\" ><label for=\"72423ee9-b35c-4058-9052-6446d47f7241\" class=\"sk-toggleable__label sk-toggleable__label-arrow\">Pipeline</label><div class=\"sk-toggleable__content\"><pre>Pipeline(steps=[(&#x27;preprocessor&#x27;,\n",
       "                 ColumnTransformer(transformers=[(&#x27;num&#x27;,\n",
       "                                                  Pipeline(steps=[(&#x27;imputer&#x27;,\n",
       "                                                                   SimpleImputer(strategy=&#x27;median&#x27;)),\n",
       "                                                                  (&#x27;scaler&#x27;,\n",
       "                                                                   StandardScaler())]),\n",
       "                                                  [&#x27;HuishoudensTotaal_28&#x27;,\n",
       "                                                   &#x27;GemiddeldeHuishoudensgrootte_32&#x27;,\n",
       "                                                   &#x27;Bevolkingsdichtheid_33&#x27;,\n",
       "                                                   &#x27;Woningvoorraad_34&#x27;,\n",
       "                                                   &#x27;GemiddeldeWoningwaarde_35&#x27;,\n",
       "                                                   &#x27;PercentageEengezinswoning_36&#x27;,\n",
       "                                                   &#x27;Koopwoningen_40&#x27;,\n",
       "                                                   &#x27;InBezit...\n",
       "                                                   &#x27;GemiddeldInkomenPerInwoner_72&#x27;,\n",
       "                                                   &#x27;Bedrijfsvestigingen_per_huishuidens&#x27;,\n",
       "                                                   &#x27;PersonenautoSPerHuishouden_102&#x27;,\n",
       "                                                   &#x27;AfstandTotSchool_108&#x27;,\n",
       "                                                   &#x27;MateVanStedelijkheid_115&#x27;]),\n",
       "                                                 (&#x27;cat&#x27;,\n",
       "                                                  Pipeline(steps=[(&#x27;imputer&#x27;,\n",
       "                                                                   SimpleImputer(fill_value=&#x27;missing&#x27;,\n",
       "                                                                                 strategy=&#x27;constant&#x27;)),\n",
       "                                                                  (&#x27;onehot&#x27;,\n",
       "                                                                   OneHotEncoder(handle_unknown=&#x27;ignore&#x27;))]),\n",
       "                                                  [&#x27;GM_NAAM&#x27;,\n",
       "                                                   &#x27;Provincienaam&#x27;])])),\n",
       "                (&#x27;estimator&#x27;, LinearRegression())])</pre></div></div></div><div class=\"sk-serial\"><div class=\"sk-item sk-dashed-wrapped\"><div class=\"sk-label-container\"><div class=\"sk-label sk-toggleable\"><input class=\"sk-toggleable__control sk-hidden--visually\" id=\"6966ed39-753b-4afa-a9c4-bf8fec5b2d1c\" type=\"checkbox\" ><label for=\"6966ed39-753b-4afa-a9c4-bf8fec5b2d1c\" class=\"sk-toggleable__label sk-toggleable__label-arrow\">preprocessor: ColumnTransformer</label><div class=\"sk-toggleable__content\"><pre>ColumnTransformer(transformers=[(&#x27;num&#x27;,\n",
       "                                 Pipeline(steps=[(&#x27;imputer&#x27;,\n",
       "                                                  SimpleImputer(strategy=&#x27;median&#x27;)),\n",
       "                                                 (&#x27;scaler&#x27;, StandardScaler())]),\n",
       "                                 [&#x27;HuishoudensTotaal_28&#x27;,\n",
       "                                  &#x27;GemiddeldeHuishoudensgrootte_32&#x27;,\n",
       "                                  &#x27;Bevolkingsdichtheid_33&#x27;, &#x27;Woningvoorraad_34&#x27;,\n",
       "                                  &#x27;GemiddeldeWoningwaarde_35&#x27;,\n",
       "                                  &#x27;PercentageEengezinswoning_36&#x27;,\n",
       "                                  &#x27;Koopwoningen_40&#x27;,\n",
       "                                  &#x27;InBezitWoningcorporatie_42&#x27;,\n",
       "                                  &#x27;InBezitOve...\n",
       "                                  &#x27;Percent_inkomensontvangers&#x27;,\n",
       "                                  &#x27;GemiddeldInkomenPerInwoner_72&#x27;,\n",
       "                                  &#x27;Bedrijfsvestigingen_per_huishuidens&#x27;,\n",
       "                                  &#x27;PersonenautoSPerHuishouden_102&#x27;,\n",
       "                                  &#x27;AfstandTotSchool_108&#x27;,\n",
       "                                  &#x27;MateVanStedelijkheid_115&#x27;]),\n",
       "                                (&#x27;cat&#x27;,\n",
       "                                 Pipeline(steps=[(&#x27;imputer&#x27;,\n",
       "                                                  SimpleImputer(fill_value=&#x27;missing&#x27;,\n",
       "                                                                strategy=&#x27;constant&#x27;)),\n",
       "                                                 (&#x27;onehot&#x27;,\n",
       "                                                  OneHotEncoder(handle_unknown=&#x27;ignore&#x27;))]),\n",
       "                                 [&#x27;GM_NAAM&#x27;, &#x27;Provincienaam&#x27;])])</pre></div></div></div><div class=\"sk-parallel\"><div class=\"sk-parallel-item\"><div class=\"sk-item\"><div class=\"sk-label-container\"><div class=\"sk-label sk-toggleable\"><input class=\"sk-toggleable__control sk-hidden--visually\" id=\"0581400f-e671-4cd2-8ecb-ec4c1bedd732\" type=\"checkbox\" ><label for=\"0581400f-e671-4cd2-8ecb-ec4c1bedd732\" class=\"sk-toggleable__label sk-toggleable__label-arrow\">num</label><div class=\"sk-toggleable__content\"><pre>[&#x27;HuishoudensTotaal_28&#x27;, &#x27;GemiddeldeHuishoudensgrootte_32&#x27;, &#x27;Bevolkingsdichtheid_33&#x27;, &#x27;Woningvoorraad_34&#x27;, &#x27;GemiddeldeWoningwaarde_35&#x27;, &#x27;PercentageEengezinswoning_36&#x27;, &#x27;Koopwoningen_40&#x27;, &#x27;InBezitWoningcorporatie_42&#x27;, &#x27;InBezitOverigeVerhuurders_43&#x27;, &#x27;BouwjaarVanaf2000_46&#x27;, &#x27;GemiddeldElektriciteitsverbruikTotaal_47&#x27;, &#x27;GemiddeldAardgasverbruikTotaal_55&#x27;, &#x27;Gemiddeld_opleidingsniveau&#x27;, &#x27;Percent_inkomensontvangers&#x27;, &#x27;GemiddeldInkomenPerInwoner_72&#x27;, &#x27;Bedrijfsvestigingen_per_huishuidens&#x27;, &#x27;PersonenautoSPerHuishouden_102&#x27;, &#x27;AfstandTotSchool_108&#x27;, &#x27;MateVanStedelijkheid_115&#x27;]</pre></div></div></div><div class=\"sk-serial\"><div class=\"sk-item\"><div class=\"sk-serial\"><div class=\"sk-item\"><div class=\"sk-estimator sk-toggleable\"><input class=\"sk-toggleable__control sk-hidden--visually\" id=\"0fc8e672-06ce-45c9-8968-bb7e16b4d67c\" type=\"checkbox\" ><label for=\"0fc8e672-06ce-45c9-8968-bb7e16b4d67c\" class=\"sk-toggleable__label sk-toggleable__label-arrow\">SimpleImputer</label><div class=\"sk-toggleable__content\"><pre>SimpleImputer(strategy=&#x27;median&#x27;)</pre></div></div></div><div class=\"sk-item\"><div class=\"sk-estimator sk-toggleable\"><input class=\"sk-toggleable__control sk-hidden--visually\" id=\"62310501-443d-4019-98f5-65b924e201ae\" type=\"checkbox\" ><label for=\"62310501-443d-4019-98f5-65b924e201ae\" class=\"sk-toggleable__label sk-toggleable__label-arrow\">StandardScaler</label><div class=\"sk-toggleable__content\"><pre>StandardScaler()</pre></div></div></div></div></div></div></div></div><div class=\"sk-parallel-item\"><div class=\"sk-item\"><div class=\"sk-label-container\"><div class=\"sk-label sk-toggleable\"><input class=\"sk-toggleable__control sk-hidden--visually\" id=\"dd17a52b-1183-45b1-9347-494ae339cbd0\" type=\"checkbox\" ><label for=\"dd17a52b-1183-45b1-9347-494ae339cbd0\" class=\"sk-toggleable__label sk-toggleable__label-arrow\">cat</label><div class=\"sk-toggleable__content\"><pre>[&#x27;GM_NAAM&#x27;, &#x27;Provincienaam&#x27;]</pre></div></div></div><div class=\"sk-serial\"><div class=\"sk-item\"><div class=\"sk-serial\"><div class=\"sk-item\"><div class=\"sk-estimator sk-toggleable\"><input class=\"sk-toggleable__control sk-hidden--visually\" id=\"0e283689-893f-4b40-9291-65ae6fa04c48\" type=\"checkbox\" ><label for=\"0e283689-893f-4b40-9291-65ae6fa04c48\" class=\"sk-toggleable__label sk-toggleable__label-arrow\">SimpleImputer</label><div class=\"sk-toggleable__content\"><pre>SimpleImputer(fill_value=&#x27;missing&#x27;, strategy=&#x27;constant&#x27;)</pre></div></div></div><div class=\"sk-item\"><div class=\"sk-estimator sk-toggleable\"><input class=\"sk-toggleable__control sk-hidden--visually\" id=\"b823ed21-08dd-4955-be59-111197315da4\" type=\"checkbox\" ><label for=\"b823ed21-08dd-4955-be59-111197315da4\" class=\"sk-toggleable__label sk-toggleable__label-arrow\">OneHotEncoder</label><div class=\"sk-toggleable__content\"><pre>OneHotEncoder(handle_unknown=&#x27;ignore&#x27;)</pre></div></div></div></div></div></div></div></div></div></div><div class=\"sk-item\"><div class=\"sk-estimator sk-toggleable\"><input class=\"sk-toggleable__control sk-hidden--visually\" id=\"a4c53f83-1e87-4ab8-b874-a4f5ade0be0d\" type=\"checkbox\" ><label for=\"a4c53f83-1e87-4ab8-b874-a4f5ade0be0d\" class=\"sk-toggleable__label sk-toggleable__label-arrow\">LinearRegression</label><div class=\"sk-toggleable__content\"><pre>LinearRegression()</pre></div></div></div></div></div></div></div>"
      ],
      "text/plain": [
       "Pipeline(steps=[('preprocessor',\n",
       "                 ColumnTransformer(transformers=[('num',\n",
       "                                                  Pipeline(steps=[('imputer',\n",
       "                                                                   SimpleImputer(strategy='median')),\n",
       "                                                                  ('scaler',\n",
       "                                                                   StandardScaler())]),\n",
       "                                                  ['HuishoudensTotaal_28',\n",
       "                                                   'GemiddeldeHuishoudensgrootte_32',\n",
       "                                                   'Bevolkingsdichtheid_33',\n",
       "                                                   'Woningvoorraad_34',\n",
       "                                                   'GemiddeldeWoningwaarde_35',\n",
       "                                                   'PercentageEengezinswoning_36',\n",
       "                                                   'Koopwoningen_40',\n",
       "                                                   'InBezit...\n",
       "                                                   'GemiddeldInkomenPerInwoner_72',\n",
       "                                                   'Bedrijfsvestigingen_per_huishuidens',\n",
       "                                                   'PersonenautoSPerHuishouden_102',\n",
       "                                                   'AfstandTotSchool_108',\n",
       "                                                   'MateVanStedelijkheid_115']),\n",
       "                                                 ('cat',\n",
       "                                                  Pipeline(steps=[('imputer',\n",
       "                                                                   SimpleImputer(fill_value='missing',\n",
       "                                                                                 strategy='constant')),\n",
       "                                                                  ('onehot',\n",
       "                                                                   OneHotEncoder(handle_unknown='ignore'))]),\n",
       "                                                  ['GM_NAAM',\n",
       "                                                   'Provincienaam'])])),\n",
       "                ('estimator', LinearRegression())])"
      ]
     },
     "execution_count": 21,
     "metadata": {},
     "output_type": "execute_result"
    }
   ],
   "source": [
    "model_lr.fit(X_train, y_train)"
   ]
  },
  {
   "cell_type": "code",
   "execution_count": null,
   "id": "579c52ef",
   "metadata": {},
   "outputs": [],
   "source": [
    "y_pred = model_lr.predict(X_test)"
   ]
  },
  {
   "cell_type": "code",
   "execution_count": null,
   "id": "4b3d93ed",
   "metadata": {},
   "outputs": [
    {
     "name": "stdout",
     "output_type": "stream",
     "text": [
      "Mean absolute error:     34.11615982626062\n",
      "Mean squared root error: 57.53423991677557\n",
      "R2 score:                0.5865759199463702\n"
     ]
    }
   ],
   "source": [
    "print(f\"Mean absolute error:     {metrics.mean_absolute_error(y_test, y_pred)}\")\n",
    "print(f\"Mean squared root error: {metrics.mean_squared_error(y_test, y_pred, squared=False)}\") \n",
    "print(f\"R2 score:                {metrics.r2_score(y_test, y_pred)}\")"
   ]
  },
  {
   "cell_type": "code",
   "execution_count": null,
   "id": "941115bf",
   "metadata": {},
   "outputs": [],
   "source": [
    "#coefs_LR_surv = pd.DataFrame(data = lr.coef_, index=df.columns, columns = ['Coef']).sort_values(by = 'Coef')\n",
    "#coefs_LR_surv"
   ]
  },
  {
   "cell_type": "code",
   "execution_count": null,
   "id": "e389e09c",
   "metadata": {
    "scrolled": true
   },
   "outputs": [],
   "source": [
    "#plt.figure(figsize=(10,6))\n",
    "#sns.barplot(data = coefs_LR_surv, x = coefs_LR_surv.index, y = 'Coef', color = 'navy' )\n",
    "#plt.xticks(rotation = 90)\n",
    "#plt.show()"
   ]
  },
  {
   "cell_type": "markdown",
   "id": "5b4cd68a",
   "metadata": {
    "cell_id": "00034-cd142d0f-e0f7-456e-a347-dfd576c82260",
    "deepnote_cell_height": 70,
    "deepnote_cell_type": "markdown"
   },
   "source": [
    "## Model using: Support Vector machine"
   ]
  },
  {
   "cell_type": "code",
   "execution_count": null,
   "id": "89339ee9",
   "metadata": {
    "cell_id": "00035-c60078a2-a946-4284-a933-83b0cd41f1ec",
    "deepnote_cell_height": 81,
    "deepnote_cell_type": "code",
    "deepnote_to_be_reexecuted": false,
    "execution_start": 1654516616192,
    "source_hash": "8719ccec"
   },
   "outputs": [],
   "source": [
    "from sklearn.svm import SVR"
   ]
  },
  {
   "cell_type": "code",
   "execution_count": null,
   "id": "99d28eaf",
   "metadata": {
    "cell_id": "00036-eccf3146-c806-47f2-8b82-b1c91595fc0e",
    "deepnote_cell_height": 81,
    "deepnote_cell_type": "code",
    "deepnote_to_be_reexecuted": false,
    "execution_millis": 0,
    "execution_start": 1654516616193,
    "source_hash": "a5f4a563"
   },
   "outputs": [],
   "source": [
    "svm_regression = SVR(gamma='auto')"
   ]
  },
  {
   "cell_type": "code",
   "execution_count": null,
   "id": "6c383c5a",
   "metadata": {},
   "outputs": [],
   "source": [
    "model_svr = Pipeline(steps=[('preprocessor', preprocessor),\n",
    "                      ('estimator', svm_regression)])"
   ]
  },
  {
   "cell_type": "code",
   "execution_count": null,
   "id": "d78b73ae",
   "metadata": {},
   "outputs": [
    {
     "data": {
      "text/html": [
       "<style>#sk-76f51265-9ed2-49f2-a1da-dac6afdbd1ad {color: black;background-color: white;}#sk-76f51265-9ed2-49f2-a1da-dac6afdbd1ad pre{padding: 0;}#sk-76f51265-9ed2-49f2-a1da-dac6afdbd1ad div.sk-toggleable {background-color: white;}#sk-76f51265-9ed2-49f2-a1da-dac6afdbd1ad label.sk-toggleable__label {cursor: pointer;display: block;width: 100%;margin-bottom: 0;padding: 0.3em;box-sizing: border-box;text-align: center;}#sk-76f51265-9ed2-49f2-a1da-dac6afdbd1ad label.sk-toggleable__label-arrow:before {content: \"▸\";float: left;margin-right: 0.25em;color: #696969;}#sk-76f51265-9ed2-49f2-a1da-dac6afdbd1ad label.sk-toggleable__label-arrow:hover:before {color: black;}#sk-76f51265-9ed2-49f2-a1da-dac6afdbd1ad div.sk-estimator:hover label.sk-toggleable__label-arrow:before {color: black;}#sk-76f51265-9ed2-49f2-a1da-dac6afdbd1ad div.sk-toggleable__content {max-height: 0;max-width: 0;overflow: hidden;text-align: left;background-color: #f0f8ff;}#sk-76f51265-9ed2-49f2-a1da-dac6afdbd1ad div.sk-toggleable__content pre {margin: 0.2em;color: black;border-radius: 0.25em;background-color: #f0f8ff;}#sk-76f51265-9ed2-49f2-a1da-dac6afdbd1ad input.sk-toggleable__control:checked~div.sk-toggleable__content {max-height: 200px;max-width: 100%;overflow: auto;}#sk-76f51265-9ed2-49f2-a1da-dac6afdbd1ad input.sk-toggleable__control:checked~label.sk-toggleable__label-arrow:before {content: \"▾\";}#sk-76f51265-9ed2-49f2-a1da-dac6afdbd1ad div.sk-estimator input.sk-toggleable__control:checked~label.sk-toggleable__label {background-color: #d4ebff;}#sk-76f51265-9ed2-49f2-a1da-dac6afdbd1ad div.sk-label input.sk-toggleable__control:checked~label.sk-toggleable__label {background-color: #d4ebff;}#sk-76f51265-9ed2-49f2-a1da-dac6afdbd1ad input.sk-hidden--visually {border: 0;clip: rect(1px 1px 1px 1px);clip: rect(1px, 1px, 1px, 1px);height: 1px;margin: -1px;overflow: hidden;padding: 0;position: absolute;width: 1px;}#sk-76f51265-9ed2-49f2-a1da-dac6afdbd1ad div.sk-estimator {font-family: monospace;background-color: #f0f8ff;border: 1px dotted black;border-radius: 0.25em;box-sizing: border-box;margin-bottom: 0.5em;}#sk-76f51265-9ed2-49f2-a1da-dac6afdbd1ad div.sk-estimator:hover {background-color: #d4ebff;}#sk-76f51265-9ed2-49f2-a1da-dac6afdbd1ad div.sk-parallel-item::after {content: \"\";width: 100%;border-bottom: 1px solid gray;flex-grow: 1;}#sk-76f51265-9ed2-49f2-a1da-dac6afdbd1ad div.sk-label:hover label.sk-toggleable__label {background-color: #d4ebff;}#sk-76f51265-9ed2-49f2-a1da-dac6afdbd1ad div.sk-serial::before {content: \"\";position: absolute;border-left: 1px solid gray;box-sizing: border-box;top: 2em;bottom: 0;left: 50%;}#sk-76f51265-9ed2-49f2-a1da-dac6afdbd1ad div.sk-serial {display: flex;flex-direction: column;align-items: center;background-color: white;padding-right: 0.2em;padding-left: 0.2em;}#sk-76f51265-9ed2-49f2-a1da-dac6afdbd1ad div.sk-item {z-index: 1;}#sk-76f51265-9ed2-49f2-a1da-dac6afdbd1ad div.sk-parallel {display: flex;align-items: stretch;justify-content: center;background-color: white;}#sk-76f51265-9ed2-49f2-a1da-dac6afdbd1ad div.sk-parallel::before {content: \"\";position: absolute;border-left: 1px solid gray;box-sizing: border-box;top: 2em;bottom: 0;left: 50%;}#sk-76f51265-9ed2-49f2-a1da-dac6afdbd1ad div.sk-parallel-item {display: flex;flex-direction: column;position: relative;background-color: white;}#sk-76f51265-9ed2-49f2-a1da-dac6afdbd1ad div.sk-parallel-item:first-child::after {align-self: flex-end;width: 50%;}#sk-76f51265-9ed2-49f2-a1da-dac6afdbd1ad div.sk-parallel-item:last-child::after {align-self: flex-start;width: 50%;}#sk-76f51265-9ed2-49f2-a1da-dac6afdbd1ad div.sk-parallel-item:only-child::after {width: 0;}#sk-76f51265-9ed2-49f2-a1da-dac6afdbd1ad div.sk-dashed-wrapped {border: 1px dashed gray;margin: 0 0.4em 0.5em 0.4em;box-sizing: border-box;padding-bottom: 0.4em;background-color: white;position: relative;}#sk-76f51265-9ed2-49f2-a1da-dac6afdbd1ad div.sk-label label {font-family: monospace;font-weight: bold;background-color: white;display: inline-block;line-height: 1.2em;}#sk-76f51265-9ed2-49f2-a1da-dac6afdbd1ad div.sk-label-container {position: relative;z-index: 2;text-align: center;}#sk-76f51265-9ed2-49f2-a1da-dac6afdbd1ad div.sk-container {/* jupyter's `normalize.less` sets `[hidden] { display: none; }` but bootstrap.min.css set `[hidden] { display: none !important; }` so we also need the `!important` here to be able to override the default hidden behavior on the sphinx rendered scikit-learn.org. See: https://github.com/scikit-learn/scikit-learn/issues/21755 */display: inline-block !important;position: relative;}#sk-76f51265-9ed2-49f2-a1da-dac6afdbd1ad div.sk-text-repr-fallback {display: none;}</style><div id=\"sk-76f51265-9ed2-49f2-a1da-dac6afdbd1ad\" class=\"sk-top-container\"><div class=\"sk-text-repr-fallback\"><pre>Pipeline(steps=[(&#x27;preprocessor&#x27;,\n",
       "                 ColumnTransformer(transformers=[(&#x27;num&#x27;,\n",
       "                                                  Pipeline(steps=[(&#x27;imputer&#x27;,\n",
       "                                                                   SimpleImputer(strategy=&#x27;median&#x27;)),\n",
       "                                                                  (&#x27;scaler&#x27;,\n",
       "                                                                   StandardScaler())]),\n",
       "                                                  [&#x27;HuishoudensTotaal_28&#x27;,\n",
       "                                                   &#x27;GemiddeldeHuishoudensgrootte_32&#x27;,\n",
       "                                                   &#x27;Bevolkingsdichtheid_33&#x27;,\n",
       "                                                   &#x27;Woningvoorraad_34&#x27;,\n",
       "                                                   &#x27;GemiddeldeWoningwaarde_35&#x27;,\n",
       "                                                   &#x27;PercentageEengezinswoning_36&#x27;,\n",
       "                                                   &#x27;Koopwoningen_40&#x27;,\n",
       "                                                   &#x27;InBezit...\n",
       "                                                   &#x27;GemiddeldInkomenPerInwoner_72&#x27;,\n",
       "                                                   &#x27;Bedrijfsvestigingen_per_huishuidens&#x27;,\n",
       "                                                   &#x27;PersonenautoSPerHuishouden_102&#x27;,\n",
       "                                                   &#x27;AfstandTotSchool_108&#x27;,\n",
       "                                                   &#x27;MateVanStedelijkheid_115&#x27;]),\n",
       "                                                 (&#x27;cat&#x27;,\n",
       "                                                  Pipeline(steps=[(&#x27;imputer&#x27;,\n",
       "                                                                   SimpleImputer(fill_value=&#x27;missing&#x27;,\n",
       "                                                                                 strategy=&#x27;constant&#x27;)),\n",
       "                                                                  (&#x27;onehot&#x27;,\n",
       "                                                                   OneHotEncoder(handle_unknown=&#x27;ignore&#x27;))]),\n",
       "                                                  [&#x27;GM_NAAM&#x27;,\n",
       "                                                   &#x27;Provincienaam&#x27;])])),\n",
       "                (&#x27;estimator&#x27;, SVR(gamma=&#x27;auto&#x27;))])</pre><b>Please rerun this cell to show the HTML repr or trust the notebook.</b></div><div class=\"sk-container\" hidden><div class=\"sk-item sk-dashed-wrapped\"><div class=\"sk-label-container\"><div class=\"sk-label sk-toggleable\"><input class=\"sk-toggleable__control sk-hidden--visually\" id=\"b310bbcc-1368-4420-8c03-7b2d102c8542\" type=\"checkbox\" ><label for=\"b310bbcc-1368-4420-8c03-7b2d102c8542\" class=\"sk-toggleable__label sk-toggleable__label-arrow\">Pipeline</label><div class=\"sk-toggleable__content\"><pre>Pipeline(steps=[(&#x27;preprocessor&#x27;,\n",
       "                 ColumnTransformer(transformers=[(&#x27;num&#x27;,\n",
       "                                                  Pipeline(steps=[(&#x27;imputer&#x27;,\n",
       "                                                                   SimpleImputer(strategy=&#x27;median&#x27;)),\n",
       "                                                                  (&#x27;scaler&#x27;,\n",
       "                                                                   StandardScaler())]),\n",
       "                                                  [&#x27;HuishoudensTotaal_28&#x27;,\n",
       "                                                   &#x27;GemiddeldeHuishoudensgrootte_32&#x27;,\n",
       "                                                   &#x27;Bevolkingsdichtheid_33&#x27;,\n",
       "                                                   &#x27;Woningvoorraad_34&#x27;,\n",
       "                                                   &#x27;GemiddeldeWoningwaarde_35&#x27;,\n",
       "                                                   &#x27;PercentageEengezinswoning_36&#x27;,\n",
       "                                                   &#x27;Koopwoningen_40&#x27;,\n",
       "                                                   &#x27;InBezit...\n",
       "                                                   &#x27;GemiddeldInkomenPerInwoner_72&#x27;,\n",
       "                                                   &#x27;Bedrijfsvestigingen_per_huishuidens&#x27;,\n",
       "                                                   &#x27;PersonenautoSPerHuishouden_102&#x27;,\n",
       "                                                   &#x27;AfstandTotSchool_108&#x27;,\n",
       "                                                   &#x27;MateVanStedelijkheid_115&#x27;]),\n",
       "                                                 (&#x27;cat&#x27;,\n",
       "                                                  Pipeline(steps=[(&#x27;imputer&#x27;,\n",
       "                                                                   SimpleImputer(fill_value=&#x27;missing&#x27;,\n",
       "                                                                                 strategy=&#x27;constant&#x27;)),\n",
       "                                                                  (&#x27;onehot&#x27;,\n",
       "                                                                   OneHotEncoder(handle_unknown=&#x27;ignore&#x27;))]),\n",
       "                                                  [&#x27;GM_NAAM&#x27;,\n",
       "                                                   &#x27;Provincienaam&#x27;])])),\n",
       "                (&#x27;estimator&#x27;, SVR(gamma=&#x27;auto&#x27;))])</pre></div></div></div><div class=\"sk-serial\"><div class=\"sk-item sk-dashed-wrapped\"><div class=\"sk-label-container\"><div class=\"sk-label sk-toggleable\"><input class=\"sk-toggleable__control sk-hidden--visually\" id=\"b0be1321-fea4-4d9c-bd1c-cf1834b1508e\" type=\"checkbox\" ><label for=\"b0be1321-fea4-4d9c-bd1c-cf1834b1508e\" class=\"sk-toggleable__label sk-toggleable__label-arrow\">preprocessor: ColumnTransformer</label><div class=\"sk-toggleable__content\"><pre>ColumnTransformer(transformers=[(&#x27;num&#x27;,\n",
       "                                 Pipeline(steps=[(&#x27;imputer&#x27;,\n",
       "                                                  SimpleImputer(strategy=&#x27;median&#x27;)),\n",
       "                                                 (&#x27;scaler&#x27;, StandardScaler())]),\n",
       "                                 [&#x27;HuishoudensTotaal_28&#x27;,\n",
       "                                  &#x27;GemiddeldeHuishoudensgrootte_32&#x27;,\n",
       "                                  &#x27;Bevolkingsdichtheid_33&#x27;, &#x27;Woningvoorraad_34&#x27;,\n",
       "                                  &#x27;GemiddeldeWoningwaarde_35&#x27;,\n",
       "                                  &#x27;PercentageEengezinswoning_36&#x27;,\n",
       "                                  &#x27;Koopwoningen_40&#x27;,\n",
       "                                  &#x27;InBezitWoningcorporatie_42&#x27;,\n",
       "                                  &#x27;InBezitOve...\n",
       "                                  &#x27;Percent_inkomensontvangers&#x27;,\n",
       "                                  &#x27;GemiddeldInkomenPerInwoner_72&#x27;,\n",
       "                                  &#x27;Bedrijfsvestigingen_per_huishuidens&#x27;,\n",
       "                                  &#x27;PersonenautoSPerHuishouden_102&#x27;,\n",
       "                                  &#x27;AfstandTotSchool_108&#x27;,\n",
       "                                  &#x27;MateVanStedelijkheid_115&#x27;]),\n",
       "                                (&#x27;cat&#x27;,\n",
       "                                 Pipeline(steps=[(&#x27;imputer&#x27;,\n",
       "                                                  SimpleImputer(fill_value=&#x27;missing&#x27;,\n",
       "                                                                strategy=&#x27;constant&#x27;)),\n",
       "                                                 (&#x27;onehot&#x27;,\n",
       "                                                  OneHotEncoder(handle_unknown=&#x27;ignore&#x27;))]),\n",
       "                                 [&#x27;GM_NAAM&#x27;, &#x27;Provincienaam&#x27;])])</pre></div></div></div><div class=\"sk-parallel\"><div class=\"sk-parallel-item\"><div class=\"sk-item\"><div class=\"sk-label-container\"><div class=\"sk-label sk-toggleable\"><input class=\"sk-toggleable__control sk-hidden--visually\" id=\"5e44d3e2-6c5a-4922-b57a-a08ea8a5717b\" type=\"checkbox\" ><label for=\"5e44d3e2-6c5a-4922-b57a-a08ea8a5717b\" class=\"sk-toggleable__label sk-toggleable__label-arrow\">num</label><div class=\"sk-toggleable__content\"><pre>[&#x27;HuishoudensTotaal_28&#x27;, &#x27;GemiddeldeHuishoudensgrootte_32&#x27;, &#x27;Bevolkingsdichtheid_33&#x27;, &#x27;Woningvoorraad_34&#x27;, &#x27;GemiddeldeWoningwaarde_35&#x27;, &#x27;PercentageEengezinswoning_36&#x27;, &#x27;Koopwoningen_40&#x27;, &#x27;InBezitWoningcorporatie_42&#x27;, &#x27;InBezitOverigeVerhuurders_43&#x27;, &#x27;BouwjaarVanaf2000_46&#x27;, &#x27;GemiddeldElektriciteitsverbruikTotaal_47&#x27;, &#x27;GemiddeldAardgasverbruikTotaal_55&#x27;, &#x27;Gemiddeld_opleidingsniveau&#x27;, &#x27;Percent_inkomensontvangers&#x27;, &#x27;GemiddeldInkomenPerInwoner_72&#x27;, &#x27;Bedrijfsvestigingen_per_huishuidens&#x27;, &#x27;PersonenautoSPerHuishouden_102&#x27;, &#x27;AfstandTotSchool_108&#x27;, &#x27;MateVanStedelijkheid_115&#x27;]</pre></div></div></div><div class=\"sk-serial\"><div class=\"sk-item\"><div class=\"sk-serial\"><div class=\"sk-item\"><div class=\"sk-estimator sk-toggleable\"><input class=\"sk-toggleable__control sk-hidden--visually\" id=\"1f5a2596-d11a-469b-bed3-961dbe410e90\" type=\"checkbox\" ><label for=\"1f5a2596-d11a-469b-bed3-961dbe410e90\" class=\"sk-toggleable__label sk-toggleable__label-arrow\">SimpleImputer</label><div class=\"sk-toggleable__content\"><pre>SimpleImputer(strategy=&#x27;median&#x27;)</pre></div></div></div><div class=\"sk-item\"><div class=\"sk-estimator sk-toggleable\"><input class=\"sk-toggleable__control sk-hidden--visually\" id=\"b19c2fb8-f4b7-465a-b129-36df365896aa\" type=\"checkbox\" ><label for=\"b19c2fb8-f4b7-465a-b129-36df365896aa\" class=\"sk-toggleable__label sk-toggleable__label-arrow\">StandardScaler</label><div class=\"sk-toggleable__content\"><pre>StandardScaler()</pre></div></div></div></div></div></div></div></div><div class=\"sk-parallel-item\"><div class=\"sk-item\"><div class=\"sk-label-container\"><div class=\"sk-label sk-toggleable\"><input class=\"sk-toggleable__control sk-hidden--visually\" id=\"989018c5-3de2-414d-97ba-e266aa524f73\" type=\"checkbox\" ><label for=\"989018c5-3de2-414d-97ba-e266aa524f73\" class=\"sk-toggleable__label sk-toggleable__label-arrow\">cat</label><div class=\"sk-toggleable__content\"><pre>[&#x27;GM_NAAM&#x27;, &#x27;Provincienaam&#x27;]</pre></div></div></div><div class=\"sk-serial\"><div class=\"sk-item\"><div class=\"sk-serial\"><div class=\"sk-item\"><div class=\"sk-estimator sk-toggleable\"><input class=\"sk-toggleable__control sk-hidden--visually\" id=\"12ec3ba6-21f4-4361-8c92-7f7c6a2da3c2\" type=\"checkbox\" ><label for=\"12ec3ba6-21f4-4361-8c92-7f7c6a2da3c2\" class=\"sk-toggleable__label sk-toggleable__label-arrow\">SimpleImputer</label><div class=\"sk-toggleable__content\"><pre>SimpleImputer(fill_value=&#x27;missing&#x27;, strategy=&#x27;constant&#x27;)</pre></div></div></div><div class=\"sk-item\"><div class=\"sk-estimator sk-toggleable\"><input class=\"sk-toggleable__control sk-hidden--visually\" id=\"38696824-bd1d-435a-930b-1ec5b6cbda0b\" type=\"checkbox\" ><label for=\"38696824-bd1d-435a-930b-1ec5b6cbda0b\" class=\"sk-toggleable__label sk-toggleable__label-arrow\">OneHotEncoder</label><div class=\"sk-toggleable__content\"><pre>OneHotEncoder(handle_unknown=&#x27;ignore&#x27;)</pre></div></div></div></div></div></div></div></div></div></div><div class=\"sk-item\"><div class=\"sk-estimator sk-toggleable\"><input class=\"sk-toggleable__control sk-hidden--visually\" id=\"4e5a04a6-f1db-47a9-9d12-8a51880100f2\" type=\"checkbox\" ><label for=\"4e5a04a6-f1db-47a9-9d12-8a51880100f2\" class=\"sk-toggleable__label sk-toggleable__label-arrow\">SVR</label><div class=\"sk-toggleable__content\"><pre>SVR(gamma=&#x27;auto&#x27;)</pre></div></div></div></div></div></div></div>"
      ],
      "text/plain": [
       "Pipeline(steps=[('preprocessor',\n",
       "                 ColumnTransformer(transformers=[('num',\n",
       "                                                  Pipeline(steps=[('imputer',\n",
       "                                                                   SimpleImputer(strategy='median')),\n",
       "                                                                  ('scaler',\n",
       "                                                                   StandardScaler())]),\n",
       "                                                  ['HuishoudensTotaal_28',\n",
       "                                                   'GemiddeldeHuishoudensgrootte_32',\n",
       "                                                   'Bevolkingsdichtheid_33',\n",
       "                                                   'Woningvoorraad_34',\n",
       "                                                   'GemiddeldeWoningwaarde_35',\n",
       "                                                   'PercentageEengezinswoning_36',\n",
       "                                                   'Koopwoningen_40',\n",
       "                                                   'InBezit...\n",
       "                                                   'GemiddeldInkomenPerInwoner_72',\n",
       "                                                   'Bedrijfsvestigingen_per_huishuidens',\n",
       "                                                   'PersonenautoSPerHuishouden_102',\n",
       "                                                   'AfstandTotSchool_108',\n",
       "                                                   'MateVanStedelijkheid_115']),\n",
       "                                                 ('cat',\n",
       "                                                  Pipeline(steps=[('imputer',\n",
       "                                                                   SimpleImputer(fill_value='missing',\n",
       "                                                                                 strategy='constant')),\n",
       "                                                                  ('onehot',\n",
       "                                                                   OneHotEncoder(handle_unknown='ignore'))]),\n",
       "                                                  ['GM_NAAM',\n",
       "                                                   'Provincienaam'])])),\n",
       "                ('estimator', SVR(gamma='auto'))])"
      ]
     },
     "execution_count": 29,
     "metadata": {},
     "output_type": "execute_result"
    }
   ],
   "source": [
    "model_svr.fit(X_train, y_train)"
   ]
  },
  {
   "cell_type": "code",
   "execution_count": null,
   "id": "32a88677",
   "metadata": {},
   "outputs": [],
   "source": [
    "y_pred = model_svr.predict(X_test)"
   ]
  },
  {
   "cell_type": "code",
   "execution_count": null,
   "id": "60acc508",
   "metadata": {},
   "outputs": [
    {
     "name": "stdout",
     "output_type": "stream",
     "text": [
      "Mean absolute error:     39.69715105806851\n",
      "Mean squared root error: 76.56643353286613\n",
      "R2 score:                0.26781665645774255\n"
     ]
    }
   ],
   "source": [
    "print(f\"Mean absolute error:     {metrics.mean_absolute_error(y_test, y_pred)}\")\n",
    "print(f\"Mean squared root error: {metrics.mean_squared_error(y_test, y_pred, squared=False)}\") \n",
    "print(f\"R2 score:                {metrics.r2_score(y_test, y_pred)}\")"
   ]
  },
  {
   "cell_type": "markdown",
   "id": "247230dd",
   "metadata": {
    "cell_id": "00038-a62d2cac-1e93-4ca9-b7d1-b43cc2bf5fc1",
    "deepnote_cell_height": 110,
    "deepnote_cell_type": "markdown"
   },
   "source": [
    "## Model using: Lasso  / Ridge"
   ]
  },
  {
   "cell_type": "code",
   "execution_count": null,
   "id": "f15210fa",
   "metadata": {},
   "outputs": [],
   "source": [
    "lasso = LassoCV(\n",
    "    #alphas       = [0.01, 0.02, 0.03, 0.1, 0.5, 1, 3, 5],\n",
    "    eps          = 0.001,\n",
    "    n_alphas     = 10,\n",
    "    cv           = 5,\n",
    "    random_state = RANDOM_STATE,\n",
    "    n_jobs       = -1,\n",
    "    max_iter     = 10000\n",
    "    )"
   ]
  },
  {
   "cell_type": "code",
   "execution_count": null,
   "id": "171061f3",
   "metadata": {},
   "outputs": [],
   "source": [
    "#lasso = RidgeCV()"
   ]
  },
  {
   "cell_type": "code",
   "execution_count": null,
   "id": "21f79bb7",
   "metadata": {},
   "outputs": [],
   "source": [
    "model_lasso = Pipeline(steps=[('preprocessor', preprocessor),\n",
    "                      ('estimator', lasso)])"
   ]
  },
  {
   "cell_type": "code",
   "execution_count": null,
   "id": "5a1d1daa",
   "metadata": {},
   "outputs": [
    {
     "data": {
      "text/html": [
       "<style>#sk-5b742523-85a1-4d54-989e-4aef6d3ebfd3 {color: black;background-color: white;}#sk-5b742523-85a1-4d54-989e-4aef6d3ebfd3 pre{padding: 0;}#sk-5b742523-85a1-4d54-989e-4aef6d3ebfd3 div.sk-toggleable {background-color: white;}#sk-5b742523-85a1-4d54-989e-4aef6d3ebfd3 label.sk-toggleable__label {cursor: pointer;display: block;width: 100%;margin-bottom: 0;padding: 0.3em;box-sizing: border-box;text-align: center;}#sk-5b742523-85a1-4d54-989e-4aef6d3ebfd3 label.sk-toggleable__label-arrow:before {content: \"▸\";float: left;margin-right: 0.25em;color: #696969;}#sk-5b742523-85a1-4d54-989e-4aef6d3ebfd3 label.sk-toggleable__label-arrow:hover:before {color: black;}#sk-5b742523-85a1-4d54-989e-4aef6d3ebfd3 div.sk-estimator:hover label.sk-toggleable__label-arrow:before {color: black;}#sk-5b742523-85a1-4d54-989e-4aef6d3ebfd3 div.sk-toggleable__content {max-height: 0;max-width: 0;overflow: hidden;text-align: left;background-color: #f0f8ff;}#sk-5b742523-85a1-4d54-989e-4aef6d3ebfd3 div.sk-toggleable__content pre {margin: 0.2em;color: black;border-radius: 0.25em;background-color: #f0f8ff;}#sk-5b742523-85a1-4d54-989e-4aef6d3ebfd3 input.sk-toggleable__control:checked~div.sk-toggleable__content {max-height: 200px;max-width: 100%;overflow: auto;}#sk-5b742523-85a1-4d54-989e-4aef6d3ebfd3 input.sk-toggleable__control:checked~label.sk-toggleable__label-arrow:before {content: \"▾\";}#sk-5b742523-85a1-4d54-989e-4aef6d3ebfd3 div.sk-estimator input.sk-toggleable__control:checked~label.sk-toggleable__label {background-color: #d4ebff;}#sk-5b742523-85a1-4d54-989e-4aef6d3ebfd3 div.sk-label input.sk-toggleable__control:checked~label.sk-toggleable__label {background-color: #d4ebff;}#sk-5b742523-85a1-4d54-989e-4aef6d3ebfd3 input.sk-hidden--visually {border: 0;clip: rect(1px 1px 1px 1px);clip: rect(1px, 1px, 1px, 1px);height: 1px;margin: -1px;overflow: hidden;padding: 0;position: absolute;width: 1px;}#sk-5b742523-85a1-4d54-989e-4aef6d3ebfd3 div.sk-estimator {font-family: monospace;background-color: #f0f8ff;border: 1px dotted black;border-radius: 0.25em;box-sizing: border-box;margin-bottom: 0.5em;}#sk-5b742523-85a1-4d54-989e-4aef6d3ebfd3 div.sk-estimator:hover {background-color: #d4ebff;}#sk-5b742523-85a1-4d54-989e-4aef6d3ebfd3 div.sk-parallel-item::after {content: \"\";width: 100%;border-bottom: 1px solid gray;flex-grow: 1;}#sk-5b742523-85a1-4d54-989e-4aef6d3ebfd3 div.sk-label:hover label.sk-toggleable__label {background-color: #d4ebff;}#sk-5b742523-85a1-4d54-989e-4aef6d3ebfd3 div.sk-serial::before {content: \"\";position: absolute;border-left: 1px solid gray;box-sizing: border-box;top: 2em;bottom: 0;left: 50%;}#sk-5b742523-85a1-4d54-989e-4aef6d3ebfd3 div.sk-serial {display: flex;flex-direction: column;align-items: center;background-color: white;padding-right: 0.2em;padding-left: 0.2em;}#sk-5b742523-85a1-4d54-989e-4aef6d3ebfd3 div.sk-item {z-index: 1;}#sk-5b742523-85a1-4d54-989e-4aef6d3ebfd3 div.sk-parallel {display: flex;align-items: stretch;justify-content: center;background-color: white;}#sk-5b742523-85a1-4d54-989e-4aef6d3ebfd3 div.sk-parallel::before {content: \"\";position: absolute;border-left: 1px solid gray;box-sizing: border-box;top: 2em;bottom: 0;left: 50%;}#sk-5b742523-85a1-4d54-989e-4aef6d3ebfd3 div.sk-parallel-item {display: flex;flex-direction: column;position: relative;background-color: white;}#sk-5b742523-85a1-4d54-989e-4aef6d3ebfd3 div.sk-parallel-item:first-child::after {align-self: flex-end;width: 50%;}#sk-5b742523-85a1-4d54-989e-4aef6d3ebfd3 div.sk-parallel-item:last-child::after {align-self: flex-start;width: 50%;}#sk-5b742523-85a1-4d54-989e-4aef6d3ebfd3 div.sk-parallel-item:only-child::after {width: 0;}#sk-5b742523-85a1-4d54-989e-4aef6d3ebfd3 div.sk-dashed-wrapped {border: 1px dashed gray;margin: 0 0.4em 0.5em 0.4em;box-sizing: border-box;padding-bottom: 0.4em;background-color: white;position: relative;}#sk-5b742523-85a1-4d54-989e-4aef6d3ebfd3 div.sk-label label {font-family: monospace;font-weight: bold;background-color: white;display: inline-block;line-height: 1.2em;}#sk-5b742523-85a1-4d54-989e-4aef6d3ebfd3 div.sk-label-container {position: relative;z-index: 2;text-align: center;}#sk-5b742523-85a1-4d54-989e-4aef6d3ebfd3 div.sk-container {/* jupyter's `normalize.less` sets `[hidden] { display: none; }` but bootstrap.min.css set `[hidden] { display: none !important; }` so we also need the `!important` here to be able to override the default hidden behavior on the sphinx rendered scikit-learn.org. See: https://github.com/scikit-learn/scikit-learn/issues/21755 */display: inline-block !important;position: relative;}#sk-5b742523-85a1-4d54-989e-4aef6d3ebfd3 div.sk-text-repr-fallback {display: none;}</style><div id=\"sk-5b742523-85a1-4d54-989e-4aef6d3ebfd3\" class=\"sk-top-container\"><div class=\"sk-text-repr-fallback\"><pre>Pipeline(steps=[(&#x27;preprocessor&#x27;,\n",
       "                 ColumnTransformer(transformers=[(&#x27;num&#x27;,\n",
       "                                                  Pipeline(steps=[(&#x27;imputer&#x27;,\n",
       "                                                                   SimpleImputer(strategy=&#x27;median&#x27;)),\n",
       "                                                                  (&#x27;scaler&#x27;,\n",
       "                                                                   StandardScaler())]),\n",
       "                                                  [&#x27;HuishoudensTotaal_28&#x27;,\n",
       "                                                   &#x27;GemiddeldeHuishoudensgrootte_32&#x27;,\n",
       "                                                   &#x27;Bevolkingsdichtheid_33&#x27;,\n",
       "                                                   &#x27;Woningvoorraad_34&#x27;,\n",
       "                                                   &#x27;GemiddeldeWoningwaarde_35&#x27;,\n",
       "                                                   &#x27;PercentageEengezinswoning_36&#x27;,\n",
       "                                                   &#x27;Koopwoningen_40&#x27;,\n",
       "                                                   &#x27;InBezit...\n",
       "                                                   &#x27;Bedrijfsvestigingen_per_huishuidens&#x27;,\n",
       "                                                   &#x27;PersonenautoSPerHuishouden_102&#x27;,\n",
       "                                                   &#x27;AfstandTotSchool_108&#x27;,\n",
       "                                                   &#x27;MateVanStedelijkheid_115&#x27;]),\n",
       "                                                 (&#x27;cat&#x27;,\n",
       "                                                  Pipeline(steps=[(&#x27;imputer&#x27;,\n",
       "                                                                   SimpleImputer(fill_value=&#x27;missing&#x27;,\n",
       "                                                                                 strategy=&#x27;constant&#x27;)),\n",
       "                                                                  (&#x27;onehot&#x27;,\n",
       "                                                                   OneHotEncoder(handle_unknown=&#x27;ignore&#x27;))]),\n",
       "                                                  [&#x27;GM_NAAM&#x27;,\n",
       "                                                   &#x27;Provincienaam&#x27;])])),\n",
       "                (&#x27;estimator&#x27;,\n",
       "                 LassoCV(cv=5, max_iter=10000, n_alphas=10, n_jobs=-1,\n",
       "                         random_state=123))])</pre><b>Please rerun this cell to show the HTML repr or trust the notebook.</b></div><div class=\"sk-container\" hidden><div class=\"sk-item sk-dashed-wrapped\"><div class=\"sk-label-container\"><div class=\"sk-label sk-toggleable\"><input class=\"sk-toggleable__control sk-hidden--visually\" id=\"072963d2-6736-4286-9923-61f7f4cad4d7\" type=\"checkbox\" ><label for=\"072963d2-6736-4286-9923-61f7f4cad4d7\" class=\"sk-toggleable__label sk-toggleable__label-arrow\">Pipeline</label><div class=\"sk-toggleable__content\"><pre>Pipeline(steps=[(&#x27;preprocessor&#x27;,\n",
       "                 ColumnTransformer(transformers=[(&#x27;num&#x27;,\n",
       "                                                  Pipeline(steps=[(&#x27;imputer&#x27;,\n",
       "                                                                   SimpleImputer(strategy=&#x27;median&#x27;)),\n",
       "                                                                  (&#x27;scaler&#x27;,\n",
       "                                                                   StandardScaler())]),\n",
       "                                                  [&#x27;HuishoudensTotaal_28&#x27;,\n",
       "                                                   &#x27;GemiddeldeHuishoudensgrootte_32&#x27;,\n",
       "                                                   &#x27;Bevolkingsdichtheid_33&#x27;,\n",
       "                                                   &#x27;Woningvoorraad_34&#x27;,\n",
       "                                                   &#x27;GemiddeldeWoningwaarde_35&#x27;,\n",
       "                                                   &#x27;PercentageEengezinswoning_36&#x27;,\n",
       "                                                   &#x27;Koopwoningen_40&#x27;,\n",
       "                                                   &#x27;InBezit...\n",
       "                                                   &#x27;Bedrijfsvestigingen_per_huishuidens&#x27;,\n",
       "                                                   &#x27;PersonenautoSPerHuishouden_102&#x27;,\n",
       "                                                   &#x27;AfstandTotSchool_108&#x27;,\n",
       "                                                   &#x27;MateVanStedelijkheid_115&#x27;]),\n",
       "                                                 (&#x27;cat&#x27;,\n",
       "                                                  Pipeline(steps=[(&#x27;imputer&#x27;,\n",
       "                                                                   SimpleImputer(fill_value=&#x27;missing&#x27;,\n",
       "                                                                                 strategy=&#x27;constant&#x27;)),\n",
       "                                                                  (&#x27;onehot&#x27;,\n",
       "                                                                   OneHotEncoder(handle_unknown=&#x27;ignore&#x27;))]),\n",
       "                                                  [&#x27;GM_NAAM&#x27;,\n",
       "                                                   &#x27;Provincienaam&#x27;])])),\n",
       "                (&#x27;estimator&#x27;,\n",
       "                 LassoCV(cv=5, max_iter=10000, n_alphas=10, n_jobs=-1,\n",
       "                         random_state=123))])</pre></div></div></div><div class=\"sk-serial\"><div class=\"sk-item sk-dashed-wrapped\"><div class=\"sk-label-container\"><div class=\"sk-label sk-toggleable\"><input class=\"sk-toggleable__control sk-hidden--visually\" id=\"03dd878a-6233-41fe-9df2-478c4f47ea99\" type=\"checkbox\" ><label for=\"03dd878a-6233-41fe-9df2-478c4f47ea99\" class=\"sk-toggleable__label sk-toggleable__label-arrow\">preprocessor: ColumnTransformer</label><div class=\"sk-toggleable__content\"><pre>ColumnTransformer(transformers=[(&#x27;num&#x27;,\n",
       "                                 Pipeline(steps=[(&#x27;imputer&#x27;,\n",
       "                                                  SimpleImputer(strategy=&#x27;median&#x27;)),\n",
       "                                                 (&#x27;scaler&#x27;, StandardScaler())]),\n",
       "                                 [&#x27;HuishoudensTotaal_28&#x27;,\n",
       "                                  &#x27;GemiddeldeHuishoudensgrootte_32&#x27;,\n",
       "                                  &#x27;Bevolkingsdichtheid_33&#x27;, &#x27;Woningvoorraad_34&#x27;,\n",
       "                                  &#x27;GemiddeldeWoningwaarde_35&#x27;,\n",
       "                                  &#x27;PercentageEengezinswoning_36&#x27;,\n",
       "                                  &#x27;Koopwoningen_40&#x27;,\n",
       "                                  &#x27;InBezitWoningcorporatie_42&#x27;,\n",
       "                                  &#x27;InBezitOve...\n",
       "                                  &#x27;Percent_inkomensontvangers&#x27;,\n",
       "                                  &#x27;GemiddeldInkomenPerInwoner_72&#x27;,\n",
       "                                  &#x27;Bedrijfsvestigingen_per_huishuidens&#x27;,\n",
       "                                  &#x27;PersonenautoSPerHuishouden_102&#x27;,\n",
       "                                  &#x27;AfstandTotSchool_108&#x27;,\n",
       "                                  &#x27;MateVanStedelijkheid_115&#x27;]),\n",
       "                                (&#x27;cat&#x27;,\n",
       "                                 Pipeline(steps=[(&#x27;imputer&#x27;,\n",
       "                                                  SimpleImputer(fill_value=&#x27;missing&#x27;,\n",
       "                                                                strategy=&#x27;constant&#x27;)),\n",
       "                                                 (&#x27;onehot&#x27;,\n",
       "                                                  OneHotEncoder(handle_unknown=&#x27;ignore&#x27;))]),\n",
       "                                 [&#x27;GM_NAAM&#x27;, &#x27;Provincienaam&#x27;])])</pre></div></div></div><div class=\"sk-parallel\"><div class=\"sk-parallel-item\"><div class=\"sk-item\"><div class=\"sk-label-container\"><div class=\"sk-label sk-toggleable\"><input class=\"sk-toggleable__control sk-hidden--visually\" id=\"f6051fba-727d-477b-91dc-fbddd6c0427e\" type=\"checkbox\" ><label for=\"f6051fba-727d-477b-91dc-fbddd6c0427e\" class=\"sk-toggleable__label sk-toggleable__label-arrow\">num</label><div class=\"sk-toggleable__content\"><pre>[&#x27;HuishoudensTotaal_28&#x27;, &#x27;GemiddeldeHuishoudensgrootte_32&#x27;, &#x27;Bevolkingsdichtheid_33&#x27;, &#x27;Woningvoorraad_34&#x27;, &#x27;GemiddeldeWoningwaarde_35&#x27;, &#x27;PercentageEengezinswoning_36&#x27;, &#x27;Koopwoningen_40&#x27;, &#x27;InBezitWoningcorporatie_42&#x27;, &#x27;InBezitOverigeVerhuurders_43&#x27;, &#x27;BouwjaarVanaf2000_46&#x27;, &#x27;GemiddeldElektriciteitsverbruikTotaal_47&#x27;, &#x27;GemiddeldAardgasverbruikTotaal_55&#x27;, &#x27;Gemiddeld_opleidingsniveau&#x27;, &#x27;Percent_inkomensontvangers&#x27;, &#x27;GemiddeldInkomenPerInwoner_72&#x27;, &#x27;Bedrijfsvestigingen_per_huishuidens&#x27;, &#x27;PersonenautoSPerHuishouden_102&#x27;, &#x27;AfstandTotSchool_108&#x27;, &#x27;MateVanStedelijkheid_115&#x27;]</pre></div></div></div><div class=\"sk-serial\"><div class=\"sk-item\"><div class=\"sk-serial\"><div class=\"sk-item\"><div class=\"sk-estimator sk-toggleable\"><input class=\"sk-toggleable__control sk-hidden--visually\" id=\"f2ce9b78-e519-49ff-b9b3-5210a357b551\" type=\"checkbox\" ><label for=\"f2ce9b78-e519-49ff-b9b3-5210a357b551\" class=\"sk-toggleable__label sk-toggleable__label-arrow\">SimpleImputer</label><div class=\"sk-toggleable__content\"><pre>SimpleImputer(strategy=&#x27;median&#x27;)</pre></div></div></div><div class=\"sk-item\"><div class=\"sk-estimator sk-toggleable\"><input class=\"sk-toggleable__control sk-hidden--visually\" id=\"11652eb0-dc77-4957-bb23-4fea47727c53\" type=\"checkbox\" ><label for=\"11652eb0-dc77-4957-bb23-4fea47727c53\" class=\"sk-toggleable__label sk-toggleable__label-arrow\">StandardScaler</label><div class=\"sk-toggleable__content\"><pre>StandardScaler()</pre></div></div></div></div></div></div></div></div><div class=\"sk-parallel-item\"><div class=\"sk-item\"><div class=\"sk-label-container\"><div class=\"sk-label sk-toggleable\"><input class=\"sk-toggleable__control sk-hidden--visually\" id=\"75bdd0de-ec33-466d-acea-63e96f0891e9\" type=\"checkbox\" ><label for=\"75bdd0de-ec33-466d-acea-63e96f0891e9\" class=\"sk-toggleable__label sk-toggleable__label-arrow\">cat</label><div class=\"sk-toggleable__content\"><pre>[&#x27;GM_NAAM&#x27;, &#x27;Provincienaam&#x27;]</pre></div></div></div><div class=\"sk-serial\"><div class=\"sk-item\"><div class=\"sk-serial\"><div class=\"sk-item\"><div class=\"sk-estimator sk-toggleable\"><input class=\"sk-toggleable__control sk-hidden--visually\" id=\"7a689d12-2938-4ff4-b383-57aec4a49bc1\" type=\"checkbox\" ><label for=\"7a689d12-2938-4ff4-b383-57aec4a49bc1\" class=\"sk-toggleable__label sk-toggleable__label-arrow\">SimpleImputer</label><div class=\"sk-toggleable__content\"><pre>SimpleImputer(fill_value=&#x27;missing&#x27;, strategy=&#x27;constant&#x27;)</pre></div></div></div><div class=\"sk-item\"><div class=\"sk-estimator sk-toggleable\"><input class=\"sk-toggleable__control sk-hidden--visually\" id=\"0b862c03-38bc-471e-b4a0-4d895daef3ff\" type=\"checkbox\" ><label for=\"0b862c03-38bc-471e-b4a0-4d895daef3ff\" class=\"sk-toggleable__label sk-toggleable__label-arrow\">OneHotEncoder</label><div class=\"sk-toggleable__content\"><pre>OneHotEncoder(handle_unknown=&#x27;ignore&#x27;)</pre></div></div></div></div></div></div></div></div></div></div><div class=\"sk-item\"><div class=\"sk-estimator sk-toggleable\"><input class=\"sk-toggleable__control sk-hidden--visually\" id=\"1a4e3e06-835a-40ed-af77-590a1666e3ce\" type=\"checkbox\" ><label for=\"1a4e3e06-835a-40ed-af77-590a1666e3ce\" class=\"sk-toggleable__label sk-toggleable__label-arrow\">LassoCV</label><div class=\"sk-toggleable__content\"><pre>LassoCV(cv=5, max_iter=10000, n_alphas=10, n_jobs=-1, random_state=123)</pre></div></div></div></div></div></div></div>"
      ],
      "text/plain": [
       "Pipeline(steps=[('preprocessor',\n",
       "                 ColumnTransformer(transformers=[('num',\n",
       "                                                  Pipeline(steps=[('imputer',\n",
       "                                                                   SimpleImputer(strategy='median')),\n",
       "                                                                  ('scaler',\n",
       "                                                                   StandardScaler())]),\n",
       "                                                  ['HuishoudensTotaal_28',\n",
       "                                                   'GemiddeldeHuishoudensgrootte_32',\n",
       "                                                   'Bevolkingsdichtheid_33',\n",
       "                                                   'Woningvoorraad_34',\n",
       "                                                   'GemiddeldeWoningwaarde_35',\n",
       "                                                   'PercentageEengezinswoning_36',\n",
       "                                                   'Koopwoningen_40',\n",
       "                                                   'InBezit...\n",
       "                                                   'Bedrijfsvestigingen_per_huishuidens',\n",
       "                                                   'PersonenautoSPerHuishouden_102',\n",
       "                                                   'AfstandTotSchool_108',\n",
       "                                                   'MateVanStedelijkheid_115']),\n",
       "                                                 ('cat',\n",
       "                                                  Pipeline(steps=[('imputer',\n",
       "                                                                   SimpleImputer(fill_value='missing',\n",
       "                                                                                 strategy='constant')),\n",
       "                                                                  ('onehot',\n",
       "                                                                   OneHotEncoder(handle_unknown='ignore'))]),\n",
       "                                                  ['GM_NAAM',\n",
       "                                                   'Provincienaam'])])),\n",
       "                ('estimator',\n",
       "                 LassoCV(cv=5, max_iter=10000, n_alphas=10, n_jobs=-1,\n",
       "                         random_state=123))])"
      ]
     },
     "execution_count": 35,
     "metadata": {},
     "output_type": "execute_result"
    }
   ],
   "source": [
    "model_lasso.fit(X_train, y_train)"
   ]
  },
  {
   "cell_type": "code",
   "execution_count": null,
   "id": "2fec83e1",
   "metadata": {},
   "outputs": [],
   "source": [
    "y_pred = model_lasso.predict(X_test)"
   ]
  },
  {
   "cell_type": "code",
   "execution_count": null,
   "id": "69b5d338",
   "metadata": {},
   "outputs": [
    {
     "name": "stdout",
     "output_type": "stream",
     "text": [
      "Mean absolute error:     33.49358327161288\n",
      "Mean squared root error: 57.90080348329548\n",
      "R2 score:                0.5812911026637394\n"
     ]
    }
   ],
   "source": [
    "print(f\"Mean absolute error:     {metrics.mean_absolute_error(y_test, y_pred)}\")\n",
    "print(f\"Mean squared root error: {metrics.mean_squared_error(y_test, y_pred, squared=False)}\") \n",
    "print(f\"R2 score:                {metrics.r2_score(y_test, y_pred)}\")"
   ]
  },
  {
   "cell_type": "markdown",
   "id": "949ea29f",
   "metadata": {},
   "source": [
    "## Model using: Gradient Boosting Regressor"
   ]
  },
  {
   "cell_type": "code",
   "execution_count": null,
   "id": "f5decb2c",
   "metadata": {},
   "outputs": [],
   "source": [
    "from sklearn.ensemble import GradientBoostingRegressor"
   ]
  },
  {
   "cell_type": "code",
   "execution_count": null,
   "id": "430938ac",
   "metadata": {},
   "outputs": [],
   "source": [
    "GBRegressor = GradientBoostingRegressor()"
   ]
  },
  {
   "cell_type": "code",
   "execution_count": null,
   "id": "8e091595",
   "metadata": {},
   "outputs": [],
   "source": [
    "model_gb = Pipeline(steps=[('preprocessor', preprocessor),\n",
    "                      ('estimator', GBRegressor)])"
   ]
  },
  {
   "cell_type": "code",
   "execution_count": null,
   "id": "d8a6167b",
   "metadata": {},
   "outputs": [
    {
     "data": {
      "text/html": [
       "<style>#sk-baf47f7e-988a-4863-a6aa-fb80f9fc2071 {color: black;background-color: white;}#sk-baf47f7e-988a-4863-a6aa-fb80f9fc2071 pre{padding: 0;}#sk-baf47f7e-988a-4863-a6aa-fb80f9fc2071 div.sk-toggleable {background-color: white;}#sk-baf47f7e-988a-4863-a6aa-fb80f9fc2071 label.sk-toggleable__label {cursor: pointer;display: block;width: 100%;margin-bottom: 0;padding: 0.3em;box-sizing: border-box;text-align: center;}#sk-baf47f7e-988a-4863-a6aa-fb80f9fc2071 label.sk-toggleable__label-arrow:before {content: \"▸\";float: left;margin-right: 0.25em;color: #696969;}#sk-baf47f7e-988a-4863-a6aa-fb80f9fc2071 label.sk-toggleable__label-arrow:hover:before {color: black;}#sk-baf47f7e-988a-4863-a6aa-fb80f9fc2071 div.sk-estimator:hover label.sk-toggleable__label-arrow:before {color: black;}#sk-baf47f7e-988a-4863-a6aa-fb80f9fc2071 div.sk-toggleable__content {max-height: 0;max-width: 0;overflow: hidden;text-align: left;background-color: #f0f8ff;}#sk-baf47f7e-988a-4863-a6aa-fb80f9fc2071 div.sk-toggleable__content pre {margin: 0.2em;color: black;border-radius: 0.25em;background-color: #f0f8ff;}#sk-baf47f7e-988a-4863-a6aa-fb80f9fc2071 input.sk-toggleable__control:checked~div.sk-toggleable__content {max-height: 200px;max-width: 100%;overflow: auto;}#sk-baf47f7e-988a-4863-a6aa-fb80f9fc2071 input.sk-toggleable__control:checked~label.sk-toggleable__label-arrow:before {content: \"▾\";}#sk-baf47f7e-988a-4863-a6aa-fb80f9fc2071 div.sk-estimator input.sk-toggleable__control:checked~label.sk-toggleable__label {background-color: #d4ebff;}#sk-baf47f7e-988a-4863-a6aa-fb80f9fc2071 div.sk-label input.sk-toggleable__control:checked~label.sk-toggleable__label {background-color: #d4ebff;}#sk-baf47f7e-988a-4863-a6aa-fb80f9fc2071 input.sk-hidden--visually {border: 0;clip: rect(1px 1px 1px 1px);clip: rect(1px, 1px, 1px, 1px);height: 1px;margin: -1px;overflow: hidden;padding: 0;position: absolute;width: 1px;}#sk-baf47f7e-988a-4863-a6aa-fb80f9fc2071 div.sk-estimator {font-family: monospace;background-color: #f0f8ff;border: 1px dotted black;border-radius: 0.25em;box-sizing: border-box;margin-bottom: 0.5em;}#sk-baf47f7e-988a-4863-a6aa-fb80f9fc2071 div.sk-estimator:hover {background-color: #d4ebff;}#sk-baf47f7e-988a-4863-a6aa-fb80f9fc2071 div.sk-parallel-item::after {content: \"\";width: 100%;border-bottom: 1px solid gray;flex-grow: 1;}#sk-baf47f7e-988a-4863-a6aa-fb80f9fc2071 div.sk-label:hover label.sk-toggleable__label {background-color: #d4ebff;}#sk-baf47f7e-988a-4863-a6aa-fb80f9fc2071 div.sk-serial::before {content: \"\";position: absolute;border-left: 1px solid gray;box-sizing: border-box;top: 2em;bottom: 0;left: 50%;}#sk-baf47f7e-988a-4863-a6aa-fb80f9fc2071 div.sk-serial {display: flex;flex-direction: column;align-items: center;background-color: white;padding-right: 0.2em;padding-left: 0.2em;}#sk-baf47f7e-988a-4863-a6aa-fb80f9fc2071 div.sk-item {z-index: 1;}#sk-baf47f7e-988a-4863-a6aa-fb80f9fc2071 div.sk-parallel {display: flex;align-items: stretch;justify-content: center;background-color: white;}#sk-baf47f7e-988a-4863-a6aa-fb80f9fc2071 div.sk-parallel::before {content: \"\";position: absolute;border-left: 1px solid gray;box-sizing: border-box;top: 2em;bottom: 0;left: 50%;}#sk-baf47f7e-988a-4863-a6aa-fb80f9fc2071 div.sk-parallel-item {display: flex;flex-direction: column;position: relative;background-color: white;}#sk-baf47f7e-988a-4863-a6aa-fb80f9fc2071 div.sk-parallel-item:first-child::after {align-self: flex-end;width: 50%;}#sk-baf47f7e-988a-4863-a6aa-fb80f9fc2071 div.sk-parallel-item:last-child::after {align-self: flex-start;width: 50%;}#sk-baf47f7e-988a-4863-a6aa-fb80f9fc2071 div.sk-parallel-item:only-child::after {width: 0;}#sk-baf47f7e-988a-4863-a6aa-fb80f9fc2071 div.sk-dashed-wrapped {border: 1px dashed gray;margin: 0 0.4em 0.5em 0.4em;box-sizing: border-box;padding-bottom: 0.4em;background-color: white;position: relative;}#sk-baf47f7e-988a-4863-a6aa-fb80f9fc2071 div.sk-label label {font-family: monospace;font-weight: bold;background-color: white;display: inline-block;line-height: 1.2em;}#sk-baf47f7e-988a-4863-a6aa-fb80f9fc2071 div.sk-label-container {position: relative;z-index: 2;text-align: center;}#sk-baf47f7e-988a-4863-a6aa-fb80f9fc2071 div.sk-container {/* jupyter's `normalize.less` sets `[hidden] { display: none; }` but bootstrap.min.css set `[hidden] { display: none !important; }` so we also need the `!important` here to be able to override the default hidden behavior on the sphinx rendered scikit-learn.org. See: https://github.com/scikit-learn/scikit-learn/issues/21755 */display: inline-block !important;position: relative;}#sk-baf47f7e-988a-4863-a6aa-fb80f9fc2071 div.sk-text-repr-fallback {display: none;}</style><div id=\"sk-baf47f7e-988a-4863-a6aa-fb80f9fc2071\" class=\"sk-top-container\"><div class=\"sk-text-repr-fallback\"><pre>Pipeline(steps=[(&#x27;preprocessor&#x27;,\n",
       "                 ColumnTransformer(transformers=[(&#x27;num&#x27;,\n",
       "                                                  Pipeline(steps=[(&#x27;imputer&#x27;,\n",
       "                                                                   SimpleImputer(strategy=&#x27;median&#x27;)),\n",
       "                                                                  (&#x27;scaler&#x27;,\n",
       "                                                                   StandardScaler())]),\n",
       "                                                  [&#x27;HuishoudensTotaal_28&#x27;,\n",
       "                                                   &#x27;GemiddeldeHuishoudensgrootte_32&#x27;,\n",
       "                                                   &#x27;Bevolkingsdichtheid_33&#x27;,\n",
       "                                                   &#x27;Woningvoorraad_34&#x27;,\n",
       "                                                   &#x27;GemiddeldeWoningwaarde_35&#x27;,\n",
       "                                                   &#x27;PercentageEengezinswoning_36&#x27;,\n",
       "                                                   &#x27;Koopwoningen_40&#x27;,\n",
       "                                                   &#x27;InBezit...\n",
       "                                                   &#x27;GemiddeldInkomenPerInwoner_72&#x27;,\n",
       "                                                   &#x27;Bedrijfsvestigingen_per_huishuidens&#x27;,\n",
       "                                                   &#x27;PersonenautoSPerHuishouden_102&#x27;,\n",
       "                                                   &#x27;AfstandTotSchool_108&#x27;,\n",
       "                                                   &#x27;MateVanStedelijkheid_115&#x27;]),\n",
       "                                                 (&#x27;cat&#x27;,\n",
       "                                                  Pipeline(steps=[(&#x27;imputer&#x27;,\n",
       "                                                                   SimpleImputer(fill_value=&#x27;missing&#x27;,\n",
       "                                                                                 strategy=&#x27;constant&#x27;)),\n",
       "                                                                  (&#x27;onehot&#x27;,\n",
       "                                                                   OneHotEncoder(handle_unknown=&#x27;ignore&#x27;))]),\n",
       "                                                  [&#x27;GM_NAAM&#x27;,\n",
       "                                                   &#x27;Provincienaam&#x27;])])),\n",
       "                (&#x27;estimator&#x27;, GradientBoostingRegressor())])</pre><b>Please rerun this cell to show the HTML repr or trust the notebook.</b></div><div class=\"sk-container\" hidden><div class=\"sk-item sk-dashed-wrapped\"><div class=\"sk-label-container\"><div class=\"sk-label sk-toggleable\"><input class=\"sk-toggleable__control sk-hidden--visually\" id=\"e8ae26d9-5e72-4575-bf5d-95515c71dc97\" type=\"checkbox\" ><label for=\"e8ae26d9-5e72-4575-bf5d-95515c71dc97\" class=\"sk-toggleable__label sk-toggleable__label-arrow\">Pipeline</label><div class=\"sk-toggleable__content\"><pre>Pipeline(steps=[(&#x27;preprocessor&#x27;,\n",
       "                 ColumnTransformer(transformers=[(&#x27;num&#x27;,\n",
       "                                                  Pipeline(steps=[(&#x27;imputer&#x27;,\n",
       "                                                                   SimpleImputer(strategy=&#x27;median&#x27;)),\n",
       "                                                                  (&#x27;scaler&#x27;,\n",
       "                                                                   StandardScaler())]),\n",
       "                                                  [&#x27;HuishoudensTotaal_28&#x27;,\n",
       "                                                   &#x27;GemiddeldeHuishoudensgrootte_32&#x27;,\n",
       "                                                   &#x27;Bevolkingsdichtheid_33&#x27;,\n",
       "                                                   &#x27;Woningvoorraad_34&#x27;,\n",
       "                                                   &#x27;GemiddeldeWoningwaarde_35&#x27;,\n",
       "                                                   &#x27;PercentageEengezinswoning_36&#x27;,\n",
       "                                                   &#x27;Koopwoningen_40&#x27;,\n",
       "                                                   &#x27;InBezit...\n",
       "                                                   &#x27;GemiddeldInkomenPerInwoner_72&#x27;,\n",
       "                                                   &#x27;Bedrijfsvestigingen_per_huishuidens&#x27;,\n",
       "                                                   &#x27;PersonenautoSPerHuishouden_102&#x27;,\n",
       "                                                   &#x27;AfstandTotSchool_108&#x27;,\n",
       "                                                   &#x27;MateVanStedelijkheid_115&#x27;]),\n",
       "                                                 (&#x27;cat&#x27;,\n",
       "                                                  Pipeline(steps=[(&#x27;imputer&#x27;,\n",
       "                                                                   SimpleImputer(fill_value=&#x27;missing&#x27;,\n",
       "                                                                                 strategy=&#x27;constant&#x27;)),\n",
       "                                                                  (&#x27;onehot&#x27;,\n",
       "                                                                   OneHotEncoder(handle_unknown=&#x27;ignore&#x27;))]),\n",
       "                                                  [&#x27;GM_NAAM&#x27;,\n",
       "                                                   &#x27;Provincienaam&#x27;])])),\n",
       "                (&#x27;estimator&#x27;, GradientBoostingRegressor())])</pre></div></div></div><div class=\"sk-serial\"><div class=\"sk-item sk-dashed-wrapped\"><div class=\"sk-label-container\"><div class=\"sk-label sk-toggleable\"><input class=\"sk-toggleable__control sk-hidden--visually\" id=\"4cfdf03f-7412-4d9f-a9ec-e443bf1ef08d\" type=\"checkbox\" ><label for=\"4cfdf03f-7412-4d9f-a9ec-e443bf1ef08d\" class=\"sk-toggleable__label sk-toggleable__label-arrow\">preprocessor: ColumnTransformer</label><div class=\"sk-toggleable__content\"><pre>ColumnTransformer(transformers=[(&#x27;num&#x27;,\n",
       "                                 Pipeline(steps=[(&#x27;imputer&#x27;,\n",
       "                                                  SimpleImputer(strategy=&#x27;median&#x27;)),\n",
       "                                                 (&#x27;scaler&#x27;, StandardScaler())]),\n",
       "                                 [&#x27;HuishoudensTotaal_28&#x27;,\n",
       "                                  &#x27;GemiddeldeHuishoudensgrootte_32&#x27;,\n",
       "                                  &#x27;Bevolkingsdichtheid_33&#x27;, &#x27;Woningvoorraad_34&#x27;,\n",
       "                                  &#x27;GemiddeldeWoningwaarde_35&#x27;,\n",
       "                                  &#x27;PercentageEengezinswoning_36&#x27;,\n",
       "                                  &#x27;Koopwoningen_40&#x27;,\n",
       "                                  &#x27;InBezitWoningcorporatie_42&#x27;,\n",
       "                                  &#x27;InBezitOve...\n",
       "                                  &#x27;Percent_inkomensontvangers&#x27;,\n",
       "                                  &#x27;GemiddeldInkomenPerInwoner_72&#x27;,\n",
       "                                  &#x27;Bedrijfsvestigingen_per_huishuidens&#x27;,\n",
       "                                  &#x27;PersonenautoSPerHuishouden_102&#x27;,\n",
       "                                  &#x27;AfstandTotSchool_108&#x27;,\n",
       "                                  &#x27;MateVanStedelijkheid_115&#x27;]),\n",
       "                                (&#x27;cat&#x27;,\n",
       "                                 Pipeline(steps=[(&#x27;imputer&#x27;,\n",
       "                                                  SimpleImputer(fill_value=&#x27;missing&#x27;,\n",
       "                                                                strategy=&#x27;constant&#x27;)),\n",
       "                                                 (&#x27;onehot&#x27;,\n",
       "                                                  OneHotEncoder(handle_unknown=&#x27;ignore&#x27;))]),\n",
       "                                 [&#x27;GM_NAAM&#x27;, &#x27;Provincienaam&#x27;])])</pre></div></div></div><div class=\"sk-parallel\"><div class=\"sk-parallel-item\"><div class=\"sk-item\"><div class=\"sk-label-container\"><div class=\"sk-label sk-toggleable\"><input class=\"sk-toggleable__control sk-hidden--visually\" id=\"a8729eec-e19a-4be7-8a93-45bd9a3f7c86\" type=\"checkbox\" ><label for=\"a8729eec-e19a-4be7-8a93-45bd9a3f7c86\" class=\"sk-toggleable__label sk-toggleable__label-arrow\">num</label><div class=\"sk-toggleable__content\"><pre>[&#x27;HuishoudensTotaal_28&#x27;, &#x27;GemiddeldeHuishoudensgrootte_32&#x27;, &#x27;Bevolkingsdichtheid_33&#x27;, &#x27;Woningvoorraad_34&#x27;, &#x27;GemiddeldeWoningwaarde_35&#x27;, &#x27;PercentageEengezinswoning_36&#x27;, &#x27;Koopwoningen_40&#x27;, &#x27;InBezitWoningcorporatie_42&#x27;, &#x27;InBezitOverigeVerhuurders_43&#x27;, &#x27;BouwjaarVanaf2000_46&#x27;, &#x27;GemiddeldElektriciteitsverbruikTotaal_47&#x27;, &#x27;GemiddeldAardgasverbruikTotaal_55&#x27;, &#x27;Gemiddeld_opleidingsniveau&#x27;, &#x27;Percent_inkomensontvangers&#x27;, &#x27;GemiddeldInkomenPerInwoner_72&#x27;, &#x27;Bedrijfsvestigingen_per_huishuidens&#x27;, &#x27;PersonenautoSPerHuishouden_102&#x27;, &#x27;AfstandTotSchool_108&#x27;, &#x27;MateVanStedelijkheid_115&#x27;]</pre></div></div></div><div class=\"sk-serial\"><div class=\"sk-item\"><div class=\"sk-serial\"><div class=\"sk-item\"><div class=\"sk-estimator sk-toggleable\"><input class=\"sk-toggleable__control sk-hidden--visually\" id=\"d0ad25df-2dec-43a9-a7f3-4d5ac7492f29\" type=\"checkbox\" ><label for=\"d0ad25df-2dec-43a9-a7f3-4d5ac7492f29\" class=\"sk-toggleable__label sk-toggleable__label-arrow\">SimpleImputer</label><div class=\"sk-toggleable__content\"><pre>SimpleImputer(strategy=&#x27;median&#x27;)</pre></div></div></div><div class=\"sk-item\"><div class=\"sk-estimator sk-toggleable\"><input class=\"sk-toggleable__control sk-hidden--visually\" id=\"43f4623f-590f-4362-9aa4-da19d806bf08\" type=\"checkbox\" ><label for=\"43f4623f-590f-4362-9aa4-da19d806bf08\" class=\"sk-toggleable__label sk-toggleable__label-arrow\">StandardScaler</label><div class=\"sk-toggleable__content\"><pre>StandardScaler()</pre></div></div></div></div></div></div></div></div><div class=\"sk-parallel-item\"><div class=\"sk-item\"><div class=\"sk-label-container\"><div class=\"sk-label sk-toggleable\"><input class=\"sk-toggleable__control sk-hidden--visually\" id=\"8cd96f9c-8690-4ef8-9f87-8524b25cc0cc\" type=\"checkbox\" ><label for=\"8cd96f9c-8690-4ef8-9f87-8524b25cc0cc\" class=\"sk-toggleable__label sk-toggleable__label-arrow\">cat</label><div class=\"sk-toggleable__content\"><pre>[&#x27;GM_NAAM&#x27;, &#x27;Provincienaam&#x27;]</pre></div></div></div><div class=\"sk-serial\"><div class=\"sk-item\"><div class=\"sk-serial\"><div class=\"sk-item\"><div class=\"sk-estimator sk-toggleable\"><input class=\"sk-toggleable__control sk-hidden--visually\" id=\"32073073-afec-4bd5-82c1-45f8e948f588\" type=\"checkbox\" ><label for=\"32073073-afec-4bd5-82c1-45f8e948f588\" class=\"sk-toggleable__label sk-toggleable__label-arrow\">SimpleImputer</label><div class=\"sk-toggleable__content\"><pre>SimpleImputer(fill_value=&#x27;missing&#x27;, strategy=&#x27;constant&#x27;)</pre></div></div></div><div class=\"sk-item\"><div class=\"sk-estimator sk-toggleable\"><input class=\"sk-toggleable__control sk-hidden--visually\" id=\"d5abf06c-ed0b-4f76-b2de-ed2913c83555\" type=\"checkbox\" ><label for=\"d5abf06c-ed0b-4f76-b2de-ed2913c83555\" class=\"sk-toggleable__label sk-toggleable__label-arrow\">OneHotEncoder</label><div class=\"sk-toggleable__content\"><pre>OneHotEncoder(handle_unknown=&#x27;ignore&#x27;)</pre></div></div></div></div></div></div></div></div></div></div><div class=\"sk-item\"><div class=\"sk-estimator sk-toggleable\"><input class=\"sk-toggleable__control sk-hidden--visually\" id=\"302b62b9-ae5b-45ea-b57b-d4f5138e8ed0\" type=\"checkbox\" ><label for=\"302b62b9-ae5b-45ea-b57b-d4f5138e8ed0\" class=\"sk-toggleable__label sk-toggleable__label-arrow\">GradientBoostingRegressor</label><div class=\"sk-toggleable__content\"><pre>GradientBoostingRegressor()</pre></div></div></div></div></div></div></div>"
      ],
      "text/plain": [
       "Pipeline(steps=[('preprocessor',\n",
       "                 ColumnTransformer(transformers=[('num',\n",
       "                                                  Pipeline(steps=[('imputer',\n",
       "                                                                   SimpleImputer(strategy='median')),\n",
       "                                                                  ('scaler',\n",
       "                                                                   StandardScaler())]),\n",
       "                                                  ['HuishoudensTotaal_28',\n",
       "                                                   'GemiddeldeHuishoudensgrootte_32',\n",
       "                                                   'Bevolkingsdichtheid_33',\n",
       "                                                   'Woningvoorraad_34',\n",
       "                                                   'GemiddeldeWoningwaarde_35',\n",
       "                                                   'PercentageEengezinswoning_36',\n",
       "                                                   'Koopwoningen_40',\n",
       "                                                   'InBezit...\n",
       "                                                   'GemiddeldInkomenPerInwoner_72',\n",
       "                                                   'Bedrijfsvestigingen_per_huishuidens',\n",
       "                                                   'PersonenautoSPerHuishouden_102',\n",
       "                                                   'AfstandTotSchool_108',\n",
       "                                                   'MateVanStedelijkheid_115']),\n",
       "                                                 ('cat',\n",
       "                                                  Pipeline(steps=[('imputer',\n",
       "                                                                   SimpleImputer(fill_value='missing',\n",
       "                                                                                 strategy='constant')),\n",
       "                                                                  ('onehot',\n",
       "                                                                   OneHotEncoder(handle_unknown='ignore'))]),\n",
       "                                                  ['GM_NAAM',\n",
       "                                                   'Provincienaam'])])),\n",
       "                ('estimator', GradientBoostingRegressor())])"
      ]
     },
     "execution_count": 41,
     "metadata": {},
     "output_type": "execute_result"
    }
   ],
   "source": [
    "model_gb.fit(X_train, y_train)"
   ]
  },
  {
   "cell_type": "code",
   "execution_count": null,
   "id": "a360ba64",
   "metadata": {},
   "outputs": [],
   "source": [
    "y_pred = model_gb.predict(X_test)"
   ]
  },
  {
   "cell_type": "code",
   "execution_count": null,
   "id": "2e2216e0",
   "metadata": {},
   "outputs": [
    {
     "name": "stdout",
     "output_type": "stream",
     "text": [
      "Mean absolute error:     32.42591340919149\n",
      "Mean squared root error: 54.73139325475927\n",
      "R2 score:                0.6258756147582089\n"
     ]
    }
   ],
   "source": [
    "print(f\"Mean absolute error:     {metrics.mean_absolute_error(y_test, y_pred)}\")\n",
    "print(f\"Mean squared root error: {metrics.mean_squared_error(y_test, y_pred, squared=False)}\") \n",
    "print(f\"R2 score:                {metrics.r2_score(y_test, y_pred)}\")"
   ]
  },
  {
   "cell_type": "markdown",
   "id": "36903bf8",
   "metadata": {
    "cell_id": "00040-a678ca9e-55a3-49d4-9b6e-43b5d03994bc",
    "deepnote_cell_height": 70,
    "deepnote_cell_type": "markdown"
   },
   "source": [
    "## Model using: Decision tree"
   ]
  },
  {
   "cell_type": "code",
   "execution_count": null,
   "id": "c6b50846",
   "metadata": {
    "cell_id": "00041-da51ebc1-2cb8-4c5b-a8d1-8c1ba94a390a",
    "deepnote_cell_height": 81,
    "deepnote_cell_type": "code",
    "deepnote_to_be_reexecuted": false,
    "execution_millis": 75,
    "execution_start": 1654516616604,
    "source_hash": "ea8ff8d2"
   },
   "outputs": [],
   "source": [
    "from sklearn.tree import DecisionTreeRegressor"
   ]
  },
  {
   "cell_type": "code",
   "execution_count": null,
   "id": "e0f263ed",
   "metadata": {},
   "outputs": [],
   "source": [
    "decision_tree_regressor = DecisionTreeRegressor(max_depth = 3)"
   ]
  },
  {
   "cell_type": "code",
   "execution_count": null,
   "id": "ff0114ae",
   "metadata": {},
   "outputs": [],
   "source": [
    "model_dt = Pipeline(steps=[('preprocessor', preprocessor),\n",
    "                      ('estimator', decision_tree_regressor)])"
   ]
  },
  {
   "cell_type": "code",
   "execution_count": null,
   "id": "d7be15f6",
   "metadata": {},
   "outputs": [
    {
     "data": {
      "text/html": [
       "<style>#sk-defe4c07-db65-4c4a-ad74-944c754552ff {color: black;background-color: white;}#sk-defe4c07-db65-4c4a-ad74-944c754552ff pre{padding: 0;}#sk-defe4c07-db65-4c4a-ad74-944c754552ff div.sk-toggleable {background-color: white;}#sk-defe4c07-db65-4c4a-ad74-944c754552ff label.sk-toggleable__label {cursor: pointer;display: block;width: 100%;margin-bottom: 0;padding: 0.3em;box-sizing: border-box;text-align: center;}#sk-defe4c07-db65-4c4a-ad74-944c754552ff label.sk-toggleable__label-arrow:before {content: \"▸\";float: left;margin-right: 0.25em;color: #696969;}#sk-defe4c07-db65-4c4a-ad74-944c754552ff label.sk-toggleable__label-arrow:hover:before {color: black;}#sk-defe4c07-db65-4c4a-ad74-944c754552ff div.sk-estimator:hover label.sk-toggleable__label-arrow:before {color: black;}#sk-defe4c07-db65-4c4a-ad74-944c754552ff div.sk-toggleable__content {max-height: 0;max-width: 0;overflow: hidden;text-align: left;background-color: #f0f8ff;}#sk-defe4c07-db65-4c4a-ad74-944c754552ff div.sk-toggleable__content pre {margin: 0.2em;color: black;border-radius: 0.25em;background-color: #f0f8ff;}#sk-defe4c07-db65-4c4a-ad74-944c754552ff input.sk-toggleable__control:checked~div.sk-toggleable__content {max-height: 200px;max-width: 100%;overflow: auto;}#sk-defe4c07-db65-4c4a-ad74-944c754552ff input.sk-toggleable__control:checked~label.sk-toggleable__label-arrow:before {content: \"▾\";}#sk-defe4c07-db65-4c4a-ad74-944c754552ff div.sk-estimator input.sk-toggleable__control:checked~label.sk-toggleable__label {background-color: #d4ebff;}#sk-defe4c07-db65-4c4a-ad74-944c754552ff div.sk-label input.sk-toggleable__control:checked~label.sk-toggleable__label {background-color: #d4ebff;}#sk-defe4c07-db65-4c4a-ad74-944c754552ff input.sk-hidden--visually {border: 0;clip: rect(1px 1px 1px 1px);clip: rect(1px, 1px, 1px, 1px);height: 1px;margin: -1px;overflow: hidden;padding: 0;position: absolute;width: 1px;}#sk-defe4c07-db65-4c4a-ad74-944c754552ff div.sk-estimator {font-family: monospace;background-color: #f0f8ff;border: 1px dotted black;border-radius: 0.25em;box-sizing: border-box;margin-bottom: 0.5em;}#sk-defe4c07-db65-4c4a-ad74-944c754552ff div.sk-estimator:hover {background-color: #d4ebff;}#sk-defe4c07-db65-4c4a-ad74-944c754552ff div.sk-parallel-item::after {content: \"\";width: 100%;border-bottom: 1px solid gray;flex-grow: 1;}#sk-defe4c07-db65-4c4a-ad74-944c754552ff div.sk-label:hover label.sk-toggleable__label {background-color: #d4ebff;}#sk-defe4c07-db65-4c4a-ad74-944c754552ff div.sk-serial::before {content: \"\";position: absolute;border-left: 1px solid gray;box-sizing: border-box;top: 2em;bottom: 0;left: 50%;}#sk-defe4c07-db65-4c4a-ad74-944c754552ff div.sk-serial {display: flex;flex-direction: column;align-items: center;background-color: white;padding-right: 0.2em;padding-left: 0.2em;}#sk-defe4c07-db65-4c4a-ad74-944c754552ff div.sk-item {z-index: 1;}#sk-defe4c07-db65-4c4a-ad74-944c754552ff div.sk-parallel {display: flex;align-items: stretch;justify-content: center;background-color: white;}#sk-defe4c07-db65-4c4a-ad74-944c754552ff div.sk-parallel::before {content: \"\";position: absolute;border-left: 1px solid gray;box-sizing: border-box;top: 2em;bottom: 0;left: 50%;}#sk-defe4c07-db65-4c4a-ad74-944c754552ff div.sk-parallel-item {display: flex;flex-direction: column;position: relative;background-color: white;}#sk-defe4c07-db65-4c4a-ad74-944c754552ff div.sk-parallel-item:first-child::after {align-self: flex-end;width: 50%;}#sk-defe4c07-db65-4c4a-ad74-944c754552ff div.sk-parallel-item:last-child::after {align-self: flex-start;width: 50%;}#sk-defe4c07-db65-4c4a-ad74-944c754552ff div.sk-parallel-item:only-child::after {width: 0;}#sk-defe4c07-db65-4c4a-ad74-944c754552ff div.sk-dashed-wrapped {border: 1px dashed gray;margin: 0 0.4em 0.5em 0.4em;box-sizing: border-box;padding-bottom: 0.4em;background-color: white;position: relative;}#sk-defe4c07-db65-4c4a-ad74-944c754552ff div.sk-label label {font-family: monospace;font-weight: bold;background-color: white;display: inline-block;line-height: 1.2em;}#sk-defe4c07-db65-4c4a-ad74-944c754552ff div.sk-label-container {position: relative;z-index: 2;text-align: center;}#sk-defe4c07-db65-4c4a-ad74-944c754552ff div.sk-container {/* jupyter's `normalize.less` sets `[hidden] { display: none; }` but bootstrap.min.css set `[hidden] { display: none !important; }` so we also need the `!important` here to be able to override the default hidden behavior on the sphinx rendered scikit-learn.org. See: https://github.com/scikit-learn/scikit-learn/issues/21755 */display: inline-block !important;position: relative;}#sk-defe4c07-db65-4c4a-ad74-944c754552ff div.sk-text-repr-fallback {display: none;}</style><div id=\"sk-defe4c07-db65-4c4a-ad74-944c754552ff\" class=\"sk-top-container\"><div class=\"sk-text-repr-fallback\"><pre>Pipeline(steps=[(&#x27;preprocessor&#x27;,\n",
       "                 ColumnTransformer(transformers=[(&#x27;num&#x27;,\n",
       "                                                  Pipeline(steps=[(&#x27;imputer&#x27;,\n",
       "                                                                   SimpleImputer(strategy=&#x27;median&#x27;)),\n",
       "                                                                  (&#x27;scaler&#x27;,\n",
       "                                                                   StandardScaler())]),\n",
       "                                                  [&#x27;HuishoudensTotaal_28&#x27;,\n",
       "                                                   &#x27;GemiddeldeHuishoudensgrootte_32&#x27;,\n",
       "                                                   &#x27;Bevolkingsdichtheid_33&#x27;,\n",
       "                                                   &#x27;Woningvoorraad_34&#x27;,\n",
       "                                                   &#x27;GemiddeldeWoningwaarde_35&#x27;,\n",
       "                                                   &#x27;PercentageEengezinswoning_36&#x27;,\n",
       "                                                   &#x27;Koopwoningen_40&#x27;,\n",
       "                                                   &#x27;InBezit...\n",
       "                                                   &#x27;GemiddeldInkomenPerInwoner_72&#x27;,\n",
       "                                                   &#x27;Bedrijfsvestigingen_per_huishuidens&#x27;,\n",
       "                                                   &#x27;PersonenautoSPerHuishouden_102&#x27;,\n",
       "                                                   &#x27;AfstandTotSchool_108&#x27;,\n",
       "                                                   &#x27;MateVanStedelijkheid_115&#x27;]),\n",
       "                                                 (&#x27;cat&#x27;,\n",
       "                                                  Pipeline(steps=[(&#x27;imputer&#x27;,\n",
       "                                                                   SimpleImputer(fill_value=&#x27;missing&#x27;,\n",
       "                                                                                 strategy=&#x27;constant&#x27;)),\n",
       "                                                                  (&#x27;onehot&#x27;,\n",
       "                                                                   OneHotEncoder(handle_unknown=&#x27;ignore&#x27;))]),\n",
       "                                                  [&#x27;GM_NAAM&#x27;,\n",
       "                                                   &#x27;Provincienaam&#x27;])])),\n",
       "                (&#x27;estimator&#x27;, DecisionTreeRegressor(max_depth=3))])</pre><b>Please rerun this cell to show the HTML repr or trust the notebook.</b></div><div class=\"sk-container\" hidden><div class=\"sk-item sk-dashed-wrapped\"><div class=\"sk-label-container\"><div class=\"sk-label sk-toggleable\"><input class=\"sk-toggleable__control sk-hidden--visually\" id=\"fcbc98c2-5c89-45e4-b296-bbc947807100\" type=\"checkbox\" ><label for=\"fcbc98c2-5c89-45e4-b296-bbc947807100\" class=\"sk-toggleable__label sk-toggleable__label-arrow\">Pipeline</label><div class=\"sk-toggleable__content\"><pre>Pipeline(steps=[(&#x27;preprocessor&#x27;,\n",
       "                 ColumnTransformer(transformers=[(&#x27;num&#x27;,\n",
       "                                                  Pipeline(steps=[(&#x27;imputer&#x27;,\n",
       "                                                                   SimpleImputer(strategy=&#x27;median&#x27;)),\n",
       "                                                                  (&#x27;scaler&#x27;,\n",
       "                                                                   StandardScaler())]),\n",
       "                                                  [&#x27;HuishoudensTotaal_28&#x27;,\n",
       "                                                   &#x27;GemiddeldeHuishoudensgrootte_32&#x27;,\n",
       "                                                   &#x27;Bevolkingsdichtheid_33&#x27;,\n",
       "                                                   &#x27;Woningvoorraad_34&#x27;,\n",
       "                                                   &#x27;GemiddeldeWoningwaarde_35&#x27;,\n",
       "                                                   &#x27;PercentageEengezinswoning_36&#x27;,\n",
       "                                                   &#x27;Koopwoningen_40&#x27;,\n",
       "                                                   &#x27;InBezit...\n",
       "                                                   &#x27;GemiddeldInkomenPerInwoner_72&#x27;,\n",
       "                                                   &#x27;Bedrijfsvestigingen_per_huishuidens&#x27;,\n",
       "                                                   &#x27;PersonenautoSPerHuishouden_102&#x27;,\n",
       "                                                   &#x27;AfstandTotSchool_108&#x27;,\n",
       "                                                   &#x27;MateVanStedelijkheid_115&#x27;]),\n",
       "                                                 (&#x27;cat&#x27;,\n",
       "                                                  Pipeline(steps=[(&#x27;imputer&#x27;,\n",
       "                                                                   SimpleImputer(fill_value=&#x27;missing&#x27;,\n",
       "                                                                                 strategy=&#x27;constant&#x27;)),\n",
       "                                                                  (&#x27;onehot&#x27;,\n",
       "                                                                   OneHotEncoder(handle_unknown=&#x27;ignore&#x27;))]),\n",
       "                                                  [&#x27;GM_NAAM&#x27;,\n",
       "                                                   &#x27;Provincienaam&#x27;])])),\n",
       "                (&#x27;estimator&#x27;, DecisionTreeRegressor(max_depth=3))])</pre></div></div></div><div class=\"sk-serial\"><div class=\"sk-item sk-dashed-wrapped\"><div class=\"sk-label-container\"><div class=\"sk-label sk-toggleable\"><input class=\"sk-toggleable__control sk-hidden--visually\" id=\"74446783-354d-4e74-82c5-57b4c0c9c1ad\" type=\"checkbox\" ><label for=\"74446783-354d-4e74-82c5-57b4c0c9c1ad\" class=\"sk-toggleable__label sk-toggleable__label-arrow\">preprocessor: ColumnTransformer</label><div class=\"sk-toggleable__content\"><pre>ColumnTransformer(transformers=[(&#x27;num&#x27;,\n",
       "                                 Pipeline(steps=[(&#x27;imputer&#x27;,\n",
       "                                                  SimpleImputer(strategy=&#x27;median&#x27;)),\n",
       "                                                 (&#x27;scaler&#x27;, StandardScaler())]),\n",
       "                                 [&#x27;HuishoudensTotaal_28&#x27;,\n",
       "                                  &#x27;GemiddeldeHuishoudensgrootte_32&#x27;,\n",
       "                                  &#x27;Bevolkingsdichtheid_33&#x27;, &#x27;Woningvoorraad_34&#x27;,\n",
       "                                  &#x27;GemiddeldeWoningwaarde_35&#x27;,\n",
       "                                  &#x27;PercentageEengezinswoning_36&#x27;,\n",
       "                                  &#x27;Koopwoningen_40&#x27;,\n",
       "                                  &#x27;InBezitWoningcorporatie_42&#x27;,\n",
       "                                  &#x27;InBezitOve...\n",
       "                                  &#x27;Percent_inkomensontvangers&#x27;,\n",
       "                                  &#x27;GemiddeldInkomenPerInwoner_72&#x27;,\n",
       "                                  &#x27;Bedrijfsvestigingen_per_huishuidens&#x27;,\n",
       "                                  &#x27;PersonenautoSPerHuishouden_102&#x27;,\n",
       "                                  &#x27;AfstandTotSchool_108&#x27;,\n",
       "                                  &#x27;MateVanStedelijkheid_115&#x27;]),\n",
       "                                (&#x27;cat&#x27;,\n",
       "                                 Pipeline(steps=[(&#x27;imputer&#x27;,\n",
       "                                                  SimpleImputer(fill_value=&#x27;missing&#x27;,\n",
       "                                                                strategy=&#x27;constant&#x27;)),\n",
       "                                                 (&#x27;onehot&#x27;,\n",
       "                                                  OneHotEncoder(handle_unknown=&#x27;ignore&#x27;))]),\n",
       "                                 [&#x27;GM_NAAM&#x27;, &#x27;Provincienaam&#x27;])])</pre></div></div></div><div class=\"sk-parallel\"><div class=\"sk-parallel-item\"><div class=\"sk-item\"><div class=\"sk-label-container\"><div class=\"sk-label sk-toggleable\"><input class=\"sk-toggleable__control sk-hidden--visually\" id=\"593e4590-09e2-43e5-aa07-708cf6a78921\" type=\"checkbox\" ><label for=\"593e4590-09e2-43e5-aa07-708cf6a78921\" class=\"sk-toggleable__label sk-toggleable__label-arrow\">num</label><div class=\"sk-toggleable__content\"><pre>[&#x27;HuishoudensTotaal_28&#x27;, &#x27;GemiddeldeHuishoudensgrootte_32&#x27;, &#x27;Bevolkingsdichtheid_33&#x27;, &#x27;Woningvoorraad_34&#x27;, &#x27;GemiddeldeWoningwaarde_35&#x27;, &#x27;PercentageEengezinswoning_36&#x27;, &#x27;Koopwoningen_40&#x27;, &#x27;InBezitWoningcorporatie_42&#x27;, &#x27;InBezitOverigeVerhuurders_43&#x27;, &#x27;BouwjaarVanaf2000_46&#x27;, &#x27;GemiddeldElektriciteitsverbruikTotaal_47&#x27;, &#x27;GemiddeldAardgasverbruikTotaal_55&#x27;, &#x27;Gemiddeld_opleidingsniveau&#x27;, &#x27;Percent_inkomensontvangers&#x27;, &#x27;GemiddeldInkomenPerInwoner_72&#x27;, &#x27;Bedrijfsvestigingen_per_huishuidens&#x27;, &#x27;PersonenautoSPerHuishouden_102&#x27;, &#x27;AfstandTotSchool_108&#x27;, &#x27;MateVanStedelijkheid_115&#x27;]</pre></div></div></div><div class=\"sk-serial\"><div class=\"sk-item\"><div class=\"sk-serial\"><div class=\"sk-item\"><div class=\"sk-estimator sk-toggleable\"><input class=\"sk-toggleable__control sk-hidden--visually\" id=\"7fd288ba-87d8-400f-bc95-604eb0f3564e\" type=\"checkbox\" ><label for=\"7fd288ba-87d8-400f-bc95-604eb0f3564e\" class=\"sk-toggleable__label sk-toggleable__label-arrow\">SimpleImputer</label><div class=\"sk-toggleable__content\"><pre>SimpleImputer(strategy=&#x27;median&#x27;)</pre></div></div></div><div class=\"sk-item\"><div class=\"sk-estimator sk-toggleable\"><input class=\"sk-toggleable__control sk-hidden--visually\" id=\"a44cf369-f405-484a-87f2-8424265b92e1\" type=\"checkbox\" ><label for=\"a44cf369-f405-484a-87f2-8424265b92e1\" class=\"sk-toggleable__label sk-toggleable__label-arrow\">StandardScaler</label><div class=\"sk-toggleable__content\"><pre>StandardScaler()</pre></div></div></div></div></div></div></div></div><div class=\"sk-parallel-item\"><div class=\"sk-item\"><div class=\"sk-label-container\"><div class=\"sk-label sk-toggleable\"><input class=\"sk-toggleable__control sk-hidden--visually\" id=\"6727a7ad-b9c2-4e79-8924-510cfde95268\" type=\"checkbox\" ><label for=\"6727a7ad-b9c2-4e79-8924-510cfde95268\" class=\"sk-toggleable__label sk-toggleable__label-arrow\">cat</label><div class=\"sk-toggleable__content\"><pre>[&#x27;GM_NAAM&#x27;, &#x27;Provincienaam&#x27;]</pre></div></div></div><div class=\"sk-serial\"><div class=\"sk-item\"><div class=\"sk-serial\"><div class=\"sk-item\"><div class=\"sk-estimator sk-toggleable\"><input class=\"sk-toggleable__control sk-hidden--visually\" id=\"29a4e53b-e488-4241-9884-467f4411e4ec\" type=\"checkbox\" ><label for=\"29a4e53b-e488-4241-9884-467f4411e4ec\" class=\"sk-toggleable__label sk-toggleable__label-arrow\">SimpleImputer</label><div class=\"sk-toggleable__content\"><pre>SimpleImputer(fill_value=&#x27;missing&#x27;, strategy=&#x27;constant&#x27;)</pre></div></div></div><div class=\"sk-item\"><div class=\"sk-estimator sk-toggleable\"><input class=\"sk-toggleable__control sk-hidden--visually\" id=\"e2a68093-acf5-4e9b-b616-91790e251094\" type=\"checkbox\" ><label for=\"e2a68093-acf5-4e9b-b616-91790e251094\" class=\"sk-toggleable__label sk-toggleable__label-arrow\">OneHotEncoder</label><div class=\"sk-toggleable__content\"><pre>OneHotEncoder(handle_unknown=&#x27;ignore&#x27;)</pre></div></div></div></div></div></div></div></div></div></div><div class=\"sk-item\"><div class=\"sk-estimator sk-toggleable\"><input class=\"sk-toggleable__control sk-hidden--visually\" id=\"ed929b97-0492-4941-95cf-c44a1dba038d\" type=\"checkbox\" ><label for=\"ed929b97-0492-4941-95cf-c44a1dba038d\" class=\"sk-toggleable__label sk-toggleable__label-arrow\">DecisionTreeRegressor</label><div class=\"sk-toggleable__content\"><pre>DecisionTreeRegressor(max_depth=3)</pre></div></div></div></div></div></div></div>"
      ],
      "text/plain": [
       "Pipeline(steps=[('preprocessor',\n",
       "                 ColumnTransformer(transformers=[('num',\n",
       "                                                  Pipeline(steps=[('imputer',\n",
       "                                                                   SimpleImputer(strategy='median')),\n",
       "                                                                  ('scaler',\n",
       "                                                                   StandardScaler())]),\n",
       "                                                  ['HuishoudensTotaal_28',\n",
       "                                                   'GemiddeldeHuishoudensgrootte_32',\n",
       "                                                   'Bevolkingsdichtheid_33',\n",
       "                                                   'Woningvoorraad_34',\n",
       "                                                   'GemiddeldeWoningwaarde_35',\n",
       "                                                   'PercentageEengezinswoning_36',\n",
       "                                                   'Koopwoningen_40',\n",
       "                                                   'InBezit...\n",
       "                                                   'GemiddeldInkomenPerInwoner_72',\n",
       "                                                   'Bedrijfsvestigingen_per_huishuidens',\n",
       "                                                   'PersonenautoSPerHuishouden_102',\n",
       "                                                   'AfstandTotSchool_108',\n",
       "                                                   'MateVanStedelijkheid_115']),\n",
       "                                                 ('cat',\n",
       "                                                  Pipeline(steps=[('imputer',\n",
       "                                                                   SimpleImputer(fill_value='missing',\n",
       "                                                                                 strategy='constant')),\n",
       "                                                                  ('onehot',\n",
       "                                                                   OneHotEncoder(handle_unknown='ignore'))]),\n",
       "                                                  ['GM_NAAM',\n",
       "                                                   'Provincienaam'])])),\n",
       "                ('estimator', DecisionTreeRegressor(max_depth=3))])"
      ]
     },
     "execution_count": 47,
     "metadata": {},
     "output_type": "execute_result"
    }
   ],
   "source": [
    "model_dt.fit(X_train, y_train)"
   ]
  },
  {
   "cell_type": "code",
   "execution_count": null,
   "id": "52d7726f",
   "metadata": {},
   "outputs": [],
   "source": [
    "y_pred = model_dt.predict(X_test)"
   ]
  },
  {
   "cell_type": "code",
   "execution_count": null,
   "id": "72c34ddf",
   "metadata": {},
   "outputs": [
    {
     "name": "stdout",
     "output_type": "stream",
     "text": [
      "Mean absolute error:     36.976217257969346\n",
      "Mean squared root error: 60.387590976559366\n",
      "R2 score:                0.5445523996552935\n"
     ]
    }
   ],
   "source": [
    "print(f\"Mean absolute error:     {metrics.mean_absolute_error(y_test, y_pred)}\")\n",
    "print(f\"Mean squared root error: {metrics.mean_squared_error(y_test, y_pred, squared=False)}\") \n",
    "print(f\"R2 score:                {metrics.r2_score(y_test, y_pred)}\")"
   ]
  },
  {
   "cell_type": "code",
   "execution_count": null,
   "id": "5209239a",
   "metadata": {},
   "outputs": [],
   "source": []
  },
  {
   "cell_type": "markdown",
   "id": "e4b50e48",
   "metadata": {
    "cell_id": "00043-09f6aa07-c6ff-4cf0-9ecd-f3121f51fe62",
    "deepnote_cell_height": 70,
    "deepnote_cell_type": "markdown"
   },
   "source": [
    "## Model using: K nearest neighbours (KNN)"
   ]
  },
  {
   "cell_type": "code",
   "execution_count": null,
   "id": "f0371799",
   "metadata": {
    "cell_id": "00044-14ed3051-9ffe-4827-8d4e-c99242be6fd3",
    "deepnote_cell_height": 81,
    "deepnote_cell_type": "code",
    "deepnote_to_be_reexecuted": false,
    "execution_millis": 1,
    "execution_start": 1654516616951,
    "source_hash": "314d23a4"
   },
   "outputs": [],
   "source": [
    "from sklearn.neighbors import KNeighborsRegressor"
   ]
  },
  {
   "cell_type": "code",
   "execution_count": null,
   "id": "8977d7e8",
   "metadata": {},
   "outputs": [],
   "source": [
    "nearest_neighbour_regressor = KNeighborsRegressor(n_neighbors=5)"
   ]
  },
  {
   "cell_type": "code",
   "execution_count": null,
   "id": "3e1d5520",
   "metadata": {},
   "outputs": [],
   "source": [
    "model_knn = Pipeline(steps=[('preprocessor', preprocessor),\n",
    "                      ('estimator', nearest_neighbour_regressor)])"
   ]
  },
  {
   "cell_type": "code",
   "execution_count": null,
   "id": "a119c5ee",
   "metadata": {},
   "outputs": [
    {
     "data": {
      "text/html": [
       "<style>#sk-2d5597a6-2460-4c69-9f5a-43ea19c28ac5 {color: black;background-color: white;}#sk-2d5597a6-2460-4c69-9f5a-43ea19c28ac5 pre{padding: 0;}#sk-2d5597a6-2460-4c69-9f5a-43ea19c28ac5 div.sk-toggleable {background-color: white;}#sk-2d5597a6-2460-4c69-9f5a-43ea19c28ac5 label.sk-toggleable__label {cursor: pointer;display: block;width: 100%;margin-bottom: 0;padding: 0.3em;box-sizing: border-box;text-align: center;}#sk-2d5597a6-2460-4c69-9f5a-43ea19c28ac5 label.sk-toggleable__label-arrow:before {content: \"▸\";float: left;margin-right: 0.25em;color: #696969;}#sk-2d5597a6-2460-4c69-9f5a-43ea19c28ac5 label.sk-toggleable__label-arrow:hover:before {color: black;}#sk-2d5597a6-2460-4c69-9f5a-43ea19c28ac5 div.sk-estimator:hover label.sk-toggleable__label-arrow:before {color: black;}#sk-2d5597a6-2460-4c69-9f5a-43ea19c28ac5 div.sk-toggleable__content {max-height: 0;max-width: 0;overflow: hidden;text-align: left;background-color: #f0f8ff;}#sk-2d5597a6-2460-4c69-9f5a-43ea19c28ac5 div.sk-toggleable__content pre {margin: 0.2em;color: black;border-radius: 0.25em;background-color: #f0f8ff;}#sk-2d5597a6-2460-4c69-9f5a-43ea19c28ac5 input.sk-toggleable__control:checked~div.sk-toggleable__content {max-height: 200px;max-width: 100%;overflow: auto;}#sk-2d5597a6-2460-4c69-9f5a-43ea19c28ac5 input.sk-toggleable__control:checked~label.sk-toggleable__label-arrow:before {content: \"▾\";}#sk-2d5597a6-2460-4c69-9f5a-43ea19c28ac5 div.sk-estimator input.sk-toggleable__control:checked~label.sk-toggleable__label {background-color: #d4ebff;}#sk-2d5597a6-2460-4c69-9f5a-43ea19c28ac5 div.sk-label input.sk-toggleable__control:checked~label.sk-toggleable__label {background-color: #d4ebff;}#sk-2d5597a6-2460-4c69-9f5a-43ea19c28ac5 input.sk-hidden--visually {border: 0;clip: rect(1px 1px 1px 1px);clip: rect(1px, 1px, 1px, 1px);height: 1px;margin: -1px;overflow: hidden;padding: 0;position: absolute;width: 1px;}#sk-2d5597a6-2460-4c69-9f5a-43ea19c28ac5 div.sk-estimator {font-family: monospace;background-color: #f0f8ff;border: 1px dotted black;border-radius: 0.25em;box-sizing: border-box;margin-bottom: 0.5em;}#sk-2d5597a6-2460-4c69-9f5a-43ea19c28ac5 div.sk-estimator:hover {background-color: #d4ebff;}#sk-2d5597a6-2460-4c69-9f5a-43ea19c28ac5 div.sk-parallel-item::after {content: \"\";width: 100%;border-bottom: 1px solid gray;flex-grow: 1;}#sk-2d5597a6-2460-4c69-9f5a-43ea19c28ac5 div.sk-label:hover label.sk-toggleable__label {background-color: #d4ebff;}#sk-2d5597a6-2460-4c69-9f5a-43ea19c28ac5 div.sk-serial::before {content: \"\";position: absolute;border-left: 1px solid gray;box-sizing: border-box;top: 2em;bottom: 0;left: 50%;}#sk-2d5597a6-2460-4c69-9f5a-43ea19c28ac5 div.sk-serial {display: flex;flex-direction: column;align-items: center;background-color: white;padding-right: 0.2em;padding-left: 0.2em;}#sk-2d5597a6-2460-4c69-9f5a-43ea19c28ac5 div.sk-item {z-index: 1;}#sk-2d5597a6-2460-4c69-9f5a-43ea19c28ac5 div.sk-parallel {display: flex;align-items: stretch;justify-content: center;background-color: white;}#sk-2d5597a6-2460-4c69-9f5a-43ea19c28ac5 div.sk-parallel::before {content: \"\";position: absolute;border-left: 1px solid gray;box-sizing: border-box;top: 2em;bottom: 0;left: 50%;}#sk-2d5597a6-2460-4c69-9f5a-43ea19c28ac5 div.sk-parallel-item {display: flex;flex-direction: column;position: relative;background-color: white;}#sk-2d5597a6-2460-4c69-9f5a-43ea19c28ac5 div.sk-parallel-item:first-child::after {align-self: flex-end;width: 50%;}#sk-2d5597a6-2460-4c69-9f5a-43ea19c28ac5 div.sk-parallel-item:last-child::after {align-self: flex-start;width: 50%;}#sk-2d5597a6-2460-4c69-9f5a-43ea19c28ac5 div.sk-parallel-item:only-child::after {width: 0;}#sk-2d5597a6-2460-4c69-9f5a-43ea19c28ac5 div.sk-dashed-wrapped {border: 1px dashed gray;margin: 0 0.4em 0.5em 0.4em;box-sizing: border-box;padding-bottom: 0.4em;background-color: white;position: relative;}#sk-2d5597a6-2460-4c69-9f5a-43ea19c28ac5 div.sk-label label {font-family: monospace;font-weight: bold;background-color: white;display: inline-block;line-height: 1.2em;}#sk-2d5597a6-2460-4c69-9f5a-43ea19c28ac5 div.sk-label-container {position: relative;z-index: 2;text-align: center;}#sk-2d5597a6-2460-4c69-9f5a-43ea19c28ac5 div.sk-container {/* jupyter's `normalize.less` sets `[hidden] { display: none; }` but bootstrap.min.css set `[hidden] { display: none !important; }` so we also need the `!important` here to be able to override the default hidden behavior on the sphinx rendered scikit-learn.org. See: https://github.com/scikit-learn/scikit-learn/issues/21755 */display: inline-block !important;position: relative;}#sk-2d5597a6-2460-4c69-9f5a-43ea19c28ac5 div.sk-text-repr-fallback {display: none;}</style><div id=\"sk-2d5597a6-2460-4c69-9f5a-43ea19c28ac5\" class=\"sk-top-container\"><div class=\"sk-text-repr-fallback\"><pre>Pipeline(steps=[(&#x27;preprocessor&#x27;,\n",
       "                 ColumnTransformer(transformers=[(&#x27;num&#x27;,\n",
       "                                                  Pipeline(steps=[(&#x27;imputer&#x27;,\n",
       "                                                                   SimpleImputer(strategy=&#x27;median&#x27;)),\n",
       "                                                                  (&#x27;scaler&#x27;,\n",
       "                                                                   StandardScaler())]),\n",
       "                                                  [&#x27;HuishoudensTotaal_28&#x27;,\n",
       "                                                   &#x27;GemiddeldeHuishoudensgrootte_32&#x27;,\n",
       "                                                   &#x27;Bevolkingsdichtheid_33&#x27;,\n",
       "                                                   &#x27;Woningvoorraad_34&#x27;,\n",
       "                                                   &#x27;GemiddeldeWoningwaarde_35&#x27;,\n",
       "                                                   &#x27;PercentageEengezinswoning_36&#x27;,\n",
       "                                                   &#x27;Koopwoningen_40&#x27;,\n",
       "                                                   &#x27;InBezit...\n",
       "                                                   &#x27;GemiddeldInkomenPerInwoner_72&#x27;,\n",
       "                                                   &#x27;Bedrijfsvestigingen_per_huishuidens&#x27;,\n",
       "                                                   &#x27;PersonenautoSPerHuishouden_102&#x27;,\n",
       "                                                   &#x27;AfstandTotSchool_108&#x27;,\n",
       "                                                   &#x27;MateVanStedelijkheid_115&#x27;]),\n",
       "                                                 (&#x27;cat&#x27;,\n",
       "                                                  Pipeline(steps=[(&#x27;imputer&#x27;,\n",
       "                                                                   SimpleImputer(fill_value=&#x27;missing&#x27;,\n",
       "                                                                                 strategy=&#x27;constant&#x27;)),\n",
       "                                                                  (&#x27;onehot&#x27;,\n",
       "                                                                   OneHotEncoder(handle_unknown=&#x27;ignore&#x27;))]),\n",
       "                                                  [&#x27;GM_NAAM&#x27;,\n",
       "                                                   &#x27;Provincienaam&#x27;])])),\n",
       "                (&#x27;estimator&#x27;, KNeighborsRegressor())])</pre><b>Please rerun this cell to show the HTML repr or trust the notebook.</b></div><div class=\"sk-container\" hidden><div class=\"sk-item sk-dashed-wrapped\"><div class=\"sk-label-container\"><div class=\"sk-label sk-toggleable\"><input class=\"sk-toggleable__control sk-hidden--visually\" id=\"2d37b937-3246-4483-8267-8df102ab254c\" type=\"checkbox\" ><label for=\"2d37b937-3246-4483-8267-8df102ab254c\" class=\"sk-toggleable__label sk-toggleable__label-arrow\">Pipeline</label><div class=\"sk-toggleable__content\"><pre>Pipeline(steps=[(&#x27;preprocessor&#x27;,\n",
       "                 ColumnTransformer(transformers=[(&#x27;num&#x27;,\n",
       "                                                  Pipeline(steps=[(&#x27;imputer&#x27;,\n",
       "                                                                   SimpleImputer(strategy=&#x27;median&#x27;)),\n",
       "                                                                  (&#x27;scaler&#x27;,\n",
       "                                                                   StandardScaler())]),\n",
       "                                                  [&#x27;HuishoudensTotaal_28&#x27;,\n",
       "                                                   &#x27;GemiddeldeHuishoudensgrootte_32&#x27;,\n",
       "                                                   &#x27;Bevolkingsdichtheid_33&#x27;,\n",
       "                                                   &#x27;Woningvoorraad_34&#x27;,\n",
       "                                                   &#x27;GemiddeldeWoningwaarde_35&#x27;,\n",
       "                                                   &#x27;PercentageEengezinswoning_36&#x27;,\n",
       "                                                   &#x27;Koopwoningen_40&#x27;,\n",
       "                                                   &#x27;InBezit...\n",
       "                                                   &#x27;GemiddeldInkomenPerInwoner_72&#x27;,\n",
       "                                                   &#x27;Bedrijfsvestigingen_per_huishuidens&#x27;,\n",
       "                                                   &#x27;PersonenautoSPerHuishouden_102&#x27;,\n",
       "                                                   &#x27;AfstandTotSchool_108&#x27;,\n",
       "                                                   &#x27;MateVanStedelijkheid_115&#x27;]),\n",
       "                                                 (&#x27;cat&#x27;,\n",
       "                                                  Pipeline(steps=[(&#x27;imputer&#x27;,\n",
       "                                                                   SimpleImputer(fill_value=&#x27;missing&#x27;,\n",
       "                                                                                 strategy=&#x27;constant&#x27;)),\n",
       "                                                                  (&#x27;onehot&#x27;,\n",
       "                                                                   OneHotEncoder(handle_unknown=&#x27;ignore&#x27;))]),\n",
       "                                                  [&#x27;GM_NAAM&#x27;,\n",
       "                                                   &#x27;Provincienaam&#x27;])])),\n",
       "                (&#x27;estimator&#x27;, KNeighborsRegressor())])</pre></div></div></div><div class=\"sk-serial\"><div class=\"sk-item sk-dashed-wrapped\"><div class=\"sk-label-container\"><div class=\"sk-label sk-toggleable\"><input class=\"sk-toggleable__control sk-hidden--visually\" id=\"bf20c1c6-5d81-464b-8cae-fb4461ac5328\" type=\"checkbox\" ><label for=\"bf20c1c6-5d81-464b-8cae-fb4461ac5328\" class=\"sk-toggleable__label sk-toggleable__label-arrow\">preprocessor: ColumnTransformer</label><div class=\"sk-toggleable__content\"><pre>ColumnTransformer(transformers=[(&#x27;num&#x27;,\n",
       "                                 Pipeline(steps=[(&#x27;imputer&#x27;,\n",
       "                                                  SimpleImputer(strategy=&#x27;median&#x27;)),\n",
       "                                                 (&#x27;scaler&#x27;, StandardScaler())]),\n",
       "                                 [&#x27;HuishoudensTotaal_28&#x27;,\n",
       "                                  &#x27;GemiddeldeHuishoudensgrootte_32&#x27;,\n",
       "                                  &#x27;Bevolkingsdichtheid_33&#x27;, &#x27;Woningvoorraad_34&#x27;,\n",
       "                                  &#x27;GemiddeldeWoningwaarde_35&#x27;,\n",
       "                                  &#x27;PercentageEengezinswoning_36&#x27;,\n",
       "                                  &#x27;Koopwoningen_40&#x27;,\n",
       "                                  &#x27;InBezitWoningcorporatie_42&#x27;,\n",
       "                                  &#x27;InBezitOve...\n",
       "                                  &#x27;Percent_inkomensontvangers&#x27;,\n",
       "                                  &#x27;GemiddeldInkomenPerInwoner_72&#x27;,\n",
       "                                  &#x27;Bedrijfsvestigingen_per_huishuidens&#x27;,\n",
       "                                  &#x27;PersonenautoSPerHuishouden_102&#x27;,\n",
       "                                  &#x27;AfstandTotSchool_108&#x27;,\n",
       "                                  &#x27;MateVanStedelijkheid_115&#x27;]),\n",
       "                                (&#x27;cat&#x27;,\n",
       "                                 Pipeline(steps=[(&#x27;imputer&#x27;,\n",
       "                                                  SimpleImputer(fill_value=&#x27;missing&#x27;,\n",
       "                                                                strategy=&#x27;constant&#x27;)),\n",
       "                                                 (&#x27;onehot&#x27;,\n",
       "                                                  OneHotEncoder(handle_unknown=&#x27;ignore&#x27;))]),\n",
       "                                 [&#x27;GM_NAAM&#x27;, &#x27;Provincienaam&#x27;])])</pre></div></div></div><div class=\"sk-parallel\"><div class=\"sk-parallel-item\"><div class=\"sk-item\"><div class=\"sk-label-container\"><div class=\"sk-label sk-toggleable\"><input class=\"sk-toggleable__control sk-hidden--visually\" id=\"01050dec-b04e-48c7-87db-0183ed26fd15\" type=\"checkbox\" ><label for=\"01050dec-b04e-48c7-87db-0183ed26fd15\" class=\"sk-toggleable__label sk-toggleable__label-arrow\">num</label><div class=\"sk-toggleable__content\"><pre>[&#x27;HuishoudensTotaal_28&#x27;, &#x27;GemiddeldeHuishoudensgrootte_32&#x27;, &#x27;Bevolkingsdichtheid_33&#x27;, &#x27;Woningvoorraad_34&#x27;, &#x27;GemiddeldeWoningwaarde_35&#x27;, &#x27;PercentageEengezinswoning_36&#x27;, &#x27;Koopwoningen_40&#x27;, &#x27;InBezitWoningcorporatie_42&#x27;, &#x27;InBezitOverigeVerhuurders_43&#x27;, &#x27;BouwjaarVanaf2000_46&#x27;, &#x27;GemiddeldElektriciteitsverbruikTotaal_47&#x27;, &#x27;GemiddeldAardgasverbruikTotaal_55&#x27;, &#x27;Gemiddeld_opleidingsniveau&#x27;, &#x27;Percent_inkomensontvangers&#x27;, &#x27;GemiddeldInkomenPerInwoner_72&#x27;, &#x27;Bedrijfsvestigingen_per_huishuidens&#x27;, &#x27;PersonenautoSPerHuishouden_102&#x27;, &#x27;AfstandTotSchool_108&#x27;, &#x27;MateVanStedelijkheid_115&#x27;]</pre></div></div></div><div class=\"sk-serial\"><div class=\"sk-item\"><div class=\"sk-serial\"><div class=\"sk-item\"><div class=\"sk-estimator sk-toggleable\"><input class=\"sk-toggleable__control sk-hidden--visually\" id=\"0f74a616-7e07-4f0f-98a8-c4b4d0774576\" type=\"checkbox\" ><label for=\"0f74a616-7e07-4f0f-98a8-c4b4d0774576\" class=\"sk-toggleable__label sk-toggleable__label-arrow\">SimpleImputer</label><div class=\"sk-toggleable__content\"><pre>SimpleImputer(strategy=&#x27;median&#x27;)</pre></div></div></div><div class=\"sk-item\"><div class=\"sk-estimator sk-toggleable\"><input class=\"sk-toggleable__control sk-hidden--visually\" id=\"0c027c27-b776-424e-8da1-3baccba14f77\" type=\"checkbox\" ><label for=\"0c027c27-b776-424e-8da1-3baccba14f77\" class=\"sk-toggleable__label sk-toggleable__label-arrow\">StandardScaler</label><div class=\"sk-toggleable__content\"><pre>StandardScaler()</pre></div></div></div></div></div></div></div></div><div class=\"sk-parallel-item\"><div class=\"sk-item\"><div class=\"sk-label-container\"><div class=\"sk-label sk-toggleable\"><input class=\"sk-toggleable__control sk-hidden--visually\" id=\"88ba1a9a-ef4b-472b-9238-622641d930a8\" type=\"checkbox\" ><label for=\"88ba1a9a-ef4b-472b-9238-622641d930a8\" class=\"sk-toggleable__label sk-toggleable__label-arrow\">cat</label><div class=\"sk-toggleable__content\"><pre>[&#x27;GM_NAAM&#x27;, &#x27;Provincienaam&#x27;]</pre></div></div></div><div class=\"sk-serial\"><div class=\"sk-item\"><div class=\"sk-serial\"><div class=\"sk-item\"><div class=\"sk-estimator sk-toggleable\"><input class=\"sk-toggleable__control sk-hidden--visually\" id=\"cf085f39-f258-47ad-8017-484e62f46557\" type=\"checkbox\" ><label for=\"cf085f39-f258-47ad-8017-484e62f46557\" class=\"sk-toggleable__label sk-toggleable__label-arrow\">SimpleImputer</label><div class=\"sk-toggleable__content\"><pre>SimpleImputer(fill_value=&#x27;missing&#x27;, strategy=&#x27;constant&#x27;)</pre></div></div></div><div class=\"sk-item\"><div class=\"sk-estimator sk-toggleable\"><input class=\"sk-toggleable__control sk-hidden--visually\" id=\"a95f18fa-a1d9-410c-b9c6-3d6627f71568\" type=\"checkbox\" ><label for=\"a95f18fa-a1d9-410c-b9c6-3d6627f71568\" class=\"sk-toggleable__label sk-toggleable__label-arrow\">OneHotEncoder</label><div class=\"sk-toggleable__content\"><pre>OneHotEncoder(handle_unknown=&#x27;ignore&#x27;)</pre></div></div></div></div></div></div></div></div></div></div><div class=\"sk-item\"><div class=\"sk-estimator sk-toggleable\"><input class=\"sk-toggleable__control sk-hidden--visually\" id=\"3cc4eedc-50f3-4277-9e3b-7fe81d444432\" type=\"checkbox\" ><label for=\"3cc4eedc-50f3-4277-9e3b-7fe81d444432\" class=\"sk-toggleable__label sk-toggleable__label-arrow\">KNeighborsRegressor</label><div class=\"sk-toggleable__content\"><pre>KNeighborsRegressor()</pre></div></div></div></div></div></div></div>"
      ],
      "text/plain": [
       "Pipeline(steps=[('preprocessor',\n",
       "                 ColumnTransformer(transformers=[('num',\n",
       "                                                  Pipeline(steps=[('imputer',\n",
       "                                                                   SimpleImputer(strategy='median')),\n",
       "                                                                  ('scaler',\n",
       "                                                                   StandardScaler())]),\n",
       "                                                  ['HuishoudensTotaal_28',\n",
       "                                                   'GemiddeldeHuishoudensgrootte_32',\n",
       "                                                   'Bevolkingsdichtheid_33',\n",
       "                                                   'Woningvoorraad_34',\n",
       "                                                   'GemiddeldeWoningwaarde_35',\n",
       "                                                   'PercentageEengezinswoning_36',\n",
       "                                                   'Koopwoningen_40',\n",
       "                                                   'InBezit...\n",
       "                                                   'GemiddeldInkomenPerInwoner_72',\n",
       "                                                   'Bedrijfsvestigingen_per_huishuidens',\n",
       "                                                   'PersonenautoSPerHuishouden_102',\n",
       "                                                   'AfstandTotSchool_108',\n",
       "                                                   'MateVanStedelijkheid_115']),\n",
       "                                                 ('cat',\n",
       "                                                  Pipeline(steps=[('imputer',\n",
       "                                                                   SimpleImputer(fill_value='missing',\n",
       "                                                                                 strategy='constant')),\n",
       "                                                                  ('onehot',\n",
       "                                                                   OneHotEncoder(handle_unknown='ignore'))]),\n",
       "                                                  ['GM_NAAM',\n",
       "                                                   'Provincienaam'])])),\n",
       "                ('estimator', KNeighborsRegressor())])"
      ]
     },
     "execution_count": 53,
     "metadata": {},
     "output_type": "execute_result"
    }
   ],
   "source": [
    "model_knn.fit(X_train, y_train)"
   ]
  },
  {
   "cell_type": "code",
   "execution_count": null,
   "id": "801beabe",
   "metadata": {},
   "outputs": [],
   "source": [
    "y_pred = model_knn.predict(X_test)"
   ]
  },
  {
   "cell_type": "code",
   "execution_count": null,
   "id": "2b55989b",
   "metadata": {},
   "outputs": [
    {
     "name": "stdout",
     "output_type": "stream",
     "text": [
      "Mean absolute error:     32.49554536035594\n",
      "Mean squared root error: 58.81343496206357\n",
      "R2 score:                0.5679877135573903\n"
     ]
    }
   ],
   "source": [
    "print(f\"Mean absolute error:     {metrics.mean_absolute_error(y_test, y_pred)}\")\n",
    "print(f\"Mean squared root error: {metrics.mean_squared_error(y_test, y_pred, squared=False)}\") \n",
    "print(f\"R2 score:                {metrics.r2_score(y_test, y_pred)}\")"
   ]
  },
  {
   "cell_type": "markdown",
   "id": "b788967c",
   "metadata": {},
   "source": [
    "## Model using: Random Forest"
   ]
  },
  {
   "cell_type": "code",
   "execution_count": null,
   "id": "a11000c7",
   "metadata": {},
   "outputs": [],
   "source": [
    "from sklearn.ensemble import RandomForestRegressor"
   ]
  },
  {
   "cell_type": "code",
   "execution_count": null,
   "id": "c5a538ce",
   "metadata": {},
   "outputs": [],
   "source": [
    "rf_regressor = RandomForestRegressor()"
   ]
  },
  {
   "cell_type": "code",
   "execution_count": null,
   "id": "f6939e7b",
   "metadata": {},
   "outputs": [],
   "source": [
    "model_rf = Pipeline(steps=[('preprocessor', preprocessor),\n",
    "                      ('estimator', rf_regressor)])"
   ]
  },
  {
   "cell_type": "code",
   "execution_count": null,
   "id": "cfa57f82",
   "metadata": {},
   "outputs": [
    {
     "data": {
      "text/html": [
       "<style>#sk-9cb01405-7f0c-4080-be71-f0f079152ae6 {color: black;background-color: white;}#sk-9cb01405-7f0c-4080-be71-f0f079152ae6 pre{padding: 0;}#sk-9cb01405-7f0c-4080-be71-f0f079152ae6 div.sk-toggleable {background-color: white;}#sk-9cb01405-7f0c-4080-be71-f0f079152ae6 label.sk-toggleable__label {cursor: pointer;display: block;width: 100%;margin-bottom: 0;padding: 0.3em;box-sizing: border-box;text-align: center;}#sk-9cb01405-7f0c-4080-be71-f0f079152ae6 label.sk-toggleable__label-arrow:before {content: \"▸\";float: left;margin-right: 0.25em;color: #696969;}#sk-9cb01405-7f0c-4080-be71-f0f079152ae6 label.sk-toggleable__label-arrow:hover:before {color: black;}#sk-9cb01405-7f0c-4080-be71-f0f079152ae6 div.sk-estimator:hover label.sk-toggleable__label-arrow:before {color: black;}#sk-9cb01405-7f0c-4080-be71-f0f079152ae6 div.sk-toggleable__content {max-height: 0;max-width: 0;overflow: hidden;text-align: left;background-color: #f0f8ff;}#sk-9cb01405-7f0c-4080-be71-f0f079152ae6 div.sk-toggleable__content pre {margin: 0.2em;color: black;border-radius: 0.25em;background-color: #f0f8ff;}#sk-9cb01405-7f0c-4080-be71-f0f079152ae6 input.sk-toggleable__control:checked~div.sk-toggleable__content {max-height: 200px;max-width: 100%;overflow: auto;}#sk-9cb01405-7f0c-4080-be71-f0f079152ae6 input.sk-toggleable__control:checked~label.sk-toggleable__label-arrow:before {content: \"▾\";}#sk-9cb01405-7f0c-4080-be71-f0f079152ae6 div.sk-estimator input.sk-toggleable__control:checked~label.sk-toggleable__label {background-color: #d4ebff;}#sk-9cb01405-7f0c-4080-be71-f0f079152ae6 div.sk-label input.sk-toggleable__control:checked~label.sk-toggleable__label {background-color: #d4ebff;}#sk-9cb01405-7f0c-4080-be71-f0f079152ae6 input.sk-hidden--visually {border: 0;clip: rect(1px 1px 1px 1px);clip: rect(1px, 1px, 1px, 1px);height: 1px;margin: -1px;overflow: hidden;padding: 0;position: absolute;width: 1px;}#sk-9cb01405-7f0c-4080-be71-f0f079152ae6 div.sk-estimator {font-family: monospace;background-color: #f0f8ff;border: 1px dotted black;border-radius: 0.25em;box-sizing: border-box;margin-bottom: 0.5em;}#sk-9cb01405-7f0c-4080-be71-f0f079152ae6 div.sk-estimator:hover {background-color: #d4ebff;}#sk-9cb01405-7f0c-4080-be71-f0f079152ae6 div.sk-parallel-item::after {content: \"\";width: 100%;border-bottom: 1px solid gray;flex-grow: 1;}#sk-9cb01405-7f0c-4080-be71-f0f079152ae6 div.sk-label:hover label.sk-toggleable__label {background-color: #d4ebff;}#sk-9cb01405-7f0c-4080-be71-f0f079152ae6 div.sk-serial::before {content: \"\";position: absolute;border-left: 1px solid gray;box-sizing: border-box;top: 2em;bottom: 0;left: 50%;}#sk-9cb01405-7f0c-4080-be71-f0f079152ae6 div.sk-serial {display: flex;flex-direction: column;align-items: center;background-color: white;padding-right: 0.2em;padding-left: 0.2em;}#sk-9cb01405-7f0c-4080-be71-f0f079152ae6 div.sk-item {z-index: 1;}#sk-9cb01405-7f0c-4080-be71-f0f079152ae6 div.sk-parallel {display: flex;align-items: stretch;justify-content: center;background-color: white;}#sk-9cb01405-7f0c-4080-be71-f0f079152ae6 div.sk-parallel::before {content: \"\";position: absolute;border-left: 1px solid gray;box-sizing: border-box;top: 2em;bottom: 0;left: 50%;}#sk-9cb01405-7f0c-4080-be71-f0f079152ae6 div.sk-parallel-item {display: flex;flex-direction: column;position: relative;background-color: white;}#sk-9cb01405-7f0c-4080-be71-f0f079152ae6 div.sk-parallel-item:first-child::after {align-self: flex-end;width: 50%;}#sk-9cb01405-7f0c-4080-be71-f0f079152ae6 div.sk-parallel-item:last-child::after {align-self: flex-start;width: 50%;}#sk-9cb01405-7f0c-4080-be71-f0f079152ae6 div.sk-parallel-item:only-child::after {width: 0;}#sk-9cb01405-7f0c-4080-be71-f0f079152ae6 div.sk-dashed-wrapped {border: 1px dashed gray;margin: 0 0.4em 0.5em 0.4em;box-sizing: border-box;padding-bottom: 0.4em;background-color: white;position: relative;}#sk-9cb01405-7f0c-4080-be71-f0f079152ae6 div.sk-label label {font-family: monospace;font-weight: bold;background-color: white;display: inline-block;line-height: 1.2em;}#sk-9cb01405-7f0c-4080-be71-f0f079152ae6 div.sk-label-container {position: relative;z-index: 2;text-align: center;}#sk-9cb01405-7f0c-4080-be71-f0f079152ae6 div.sk-container {/* jupyter's `normalize.less` sets `[hidden] { display: none; }` but bootstrap.min.css set `[hidden] { display: none !important; }` so we also need the `!important` here to be able to override the default hidden behavior on the sphinx rendered scikit-learn.org. See: https://github.com/scikit-learn/scikit-learn/issues/21755 */display: inline-block !important;position: relative;}#sk-9cb01405-7f0c-4080-be71-f0f079152ae6 div.sk-text-repr-fallback {display: none;}</style><div id=\"sk-9cb01405-7f0c-4080-be71-f0f079152ae6\" class=\"sk-top-container\"><div class=\"sk-text-repr-fallback\"><pre>Pipeline(steps=[(&#x27;preprocessor&#x27;,\n",
       "                 ColumnTransformer(transformers=[(&#x27;num&#x27;,\n",
       "                                                  Pipeline(steps=[(&#x27;imputer&#x27;,\n",
       "                                                                   SimpleImputer(strategy=&#x27;median&#x27;)),\n",
       "                                                                  (&#x27;scaler&#x27;,\n",
       "                                                                   StandardScaler())]),\n",
       "                                                  [&#x27;HuishoudensTotaal_28&#x27;,\n",
       "                                                   &#x27;GemiddeldeHuishoudensgrootte_32&#x27;,\n",
       "                                                   &#x27;Bevolkingsdichtheid_33&#x27;,\n",
       "                                                   &#x27;Woningvoorraad_34&#x27;,\n",
       "                                                   &#x27;GemiddeldeWoningwaarde_35&#x27;,\n",
       "                                                   &#x27;PercentageEengezinswoning_36&#x27;,\n",
       "                                                   &#x27;Koopwoningen_40&#x27;,\n",
       "                                                   &#x27;InBezit...\n",
       "                                                   &#x27;GemiddeldInkomenPerInwoner_72&#x27;,\n",
       "                                                   &#x27;Bedrijfsvestigingen_per_huishuidens&#x27;,\n",
       "                                                   &#x27;PersonenautoSPerHuishouden_102&#x27;,\n",
       "                                                   &#x27;AfstandTotSchool_108&#x27;,\n",
       "                                                   &#x27;MateVanStedelijkheid_115&#x27;]),\n",
       "                                                 (&#x27;cat&#x27;,\n",
       "                                                  Pipeline(steps=[(&#x27;imputer&#x27;,\n",
       "                                                                   SimpleImputer(fill_value=&#x27;missing&#x27;,\n",
       "                                                                                 strategy=&#x27;constant&#x27;)),\n",
       "                                                                  (&#x27;onehot&#x27;,\n",
       "                                                                   OneHotEncoder(handle_unknown=&#x27;ignore&#x27;))]),\n",
       "                                                  [&#x27;GM_NAAM&#x27;,\n",
       "                                                   &#x27;Provincienaam&#x27;])])),\n",
       "                (&#x27;estimator&#x27;, RandomForestRegressor())])</pre><b>Please rerun this cell to show the HTML repr or trust the notebook.</b></div><div class=\"sk-container\" hidden><div class=\"sk-item sk-dashed-wrapped\"><div class=\"sk-label-container\"><div class=\"sk-label sk-toggleable\"><input class=\"sk-toggleable__control sk-hidden--visually\" id=\"8a7075ba-64f4-470d-a0b2-a73a8062c2bd\" type=\"checkbox\" ><label for=\"8a7075ba-64f4-470d-a0b2-a73a8062c2bd\" class=\"sk-toggleable__label sk-toggleable__label-arrow\">Pipeline</label><div class=\"sk-toggleable__content\"><pre>Pipeline(steps=[(&#x27;preprocessor&#x27;,\n",
       "                 ColumnTransformer(transformers=[(&#x27;num&#x27;,\n",
       "                                                  Pipeline(steps=[(&#x27;imputer&#x27;,\n",
       "                                                                   SimpleImputer(strategy=&#x27;median&#x27;)),\n",
       "                                                                  (&#x27;scaler&#x27;,\n",
       "                                                                   StandardScaler())]),\n",
       "                                                  [&#x27;HuishoudensTotaal_28&#x27;,\n",
       "                                                   &#x27;GemiddeldeHuishoudensgrootte_32&#x27;,\n",
       "                                                   &#x27;Bevolkingsdichtheid_33&#x27;,\n",
       "                                                   &#x27;Woningvoorraad_34&#x27;,\n",
       "                                                   &#x27;GemiddeldeWoningwaarde_35&#x27;,\n",
       "                                                   &#x27;PercentageEengezinswoning_36&#x27;,\n",
       "                                                   &#x27;Koopwoningen_40&#x27;,\n",
       "                                                   &#x27;InBezit...\n",
       "                                                   &#x27;GemiddeldInkomenPerInwoner_72&#x27;,\n",
       "                                                   &#x27;Bedrijfsvestigingen_per_huishuidens&#x27;,\n",
       "                                                   &#x27;PersonenautoSPerHuishouden_102&#x27;,\n",
       "                                                   &#x27;AfstandTotSchool_108&#x27;,\n",
       "                                                   &#x27;MateVanStedelijkheid_115&#x27;]),\n",
       "                                                 (&#x27;cat&#x27;,\n",
       "                                                  Pipeline(steps=[(&#x27;imputer&#x27;,\n",
       "                                                                   SimpleImputer(fill_value=&#x27;missing&#x27;,\n",
       "                                                                                 strategy=&#x27;constant&#x27;)),\n",
       "                                                                  (&#x27;onehot&#x27;,\n",
       "                                                                   OneHotEncoder(handle_unknown=&#x27;ignore&#x27;))]),\n",
       "                                                  [&#x27;GM_NAAM&#x27;,\n",
       "                                                   &#x27;Provincienaam&#x27;])])),\n",
       "                (&#x27;estimator&#x27;, RandomForestRegressor())])</pre></div></div></div><div class=\"sk-serial\"><div class=\"sk-item sk-dashed-wrapped\"><div class=\"sk-label-container\"><div class=\"sk-label sk-toggleable\"><input class=\"sk-toggleable__control sk-hidden--visually\" id=\"da1281b1-5508-4675-9a95-e0b24f3ea0f3\" type=\"checkbox\" ><label for=\"da1281b1-5508-4675-9a95-e0b24f3ea0f3\" class=\"sk-toggleable__label sk-toggleable__label-arrow\">preprocessor: ColumnTransformer</label><div class=\"sk-toggleable__content\"><pre>ColumnTransformer(transformers=[(&#x27;num&#x27;,\n",
       "                                 Pipeline(steps=[(&#x27;imputer&#x27;,\n",
       "                                                  SimpleImputer(strategy=&#x27;median&#x27;)),\n",
       "                                                 (&#x27;scaler&#x27;, StandardScaler())]),\n",
       "                                 [&#x27;HuishoudensTotaal_28&#x27;,\n",
       "                                  &#x27;GemiddeldeHuishoudensgrootte_32&#x27;,\n",
       "                                  &#x27;Bevolkingsdichtheid_33&#x27;, &#x27;Woningvoorraad_34&#x27;,\n",
       "                                  &#x27;GemiddeldeWoningwaarde_35&#x27;,\n",
       "                                  &#x27;PercentageEengezinswoning_36&#x27;,\n",
       "                                  &#x27;Koopwoningen_40&#x27;,\n",
       "                                  &#x27;InBezitWoningcorporatie_42&#x27;,\n",
       "                                  &#x27;InBezitOve...\n",
       "                                  &#x27;Percent_inkomensontvangers&#x27;,\n",
       "                                  &#x27;GemiddeldInkomenPerInwoner_72&#x27;,\n",
       "                                  &#x27;Bedrijfsvestigingen_per_huishuidens&#x27;,\n",
       "                                  &#x27;PersonenautoSPerHuishouden_102&#x27;,\n",
       "                                  &#x27;AfstandTotSchool_108&#x27;,\n",
       "                                  &#x27;MateVanStedelijkheid_115&#x27;]),\n",
       "                                (&#x27;cat&#x27;,\n",
       "                                 Pipeline(steps=[(&#x27;imputer&#x27;,\n",
       "                                                  SimpleImputer(fill_value=&#x27;missing&#x27;,\n",
       "                                                                strategy=&#x27;constant&#x27;)),\n",
       "                                                 (&#x27;onehot&#x27;,\n",
       "                                                  OneHotEncoder(handle_unknown=&#x27;ignore&#x27;))]),\n",
       "                                 [&#x27;GM_NAAM&#x27;, &#x27;Provincienaam&#x27;])])</pre></div></div></div><div class=\"sk-parallel\"><div class=\"sk-parallel-item\"><div class=\"sk-item\"><div class=\"sk-label-container\"><div class=\"sk-label sk-toggleable\"><input class=\"sk-toggleable__control sk-hidden--visually\" id=\"bf21e229-822e-417b-82f9-96d872b6d3e6\" type=\"checkbox\" ><label for=\"bf21e229-822e-417b-82f9-96d872b6d3e6\" class=\"sk-toggleable__label sk-toggleable__label-arrow\">num</label><div class=\"sk-toggleable__content\"><pre>[&#x27;HuishoudensTotaal_28&#x27;, &#x27;GemiddeldeHuishoudensgrootte_32&#x27;, &#x27;Bevolkingsdichtheid_33&#x27;, &#x27;Woningvoorraad_34&#x27;, &#x27;GemiddeldeWoningwaarde_35&#x27;, &#x27;PercentageEengezinswoning_36&#x27;, &#x27;Koopwoningen_40&#x27;, &#x27;InBezitWoningcorporatie_42&#x27;, &#x27;InBezitOverigeVerhuurders_43&#x27;, &#x27;BouwjaarVanaf2000_46&#x27;, &#x27;GemiddeldElektriciteitsverbruikTotaal_47&#x27;, &#x27;GemiddeldAardgasverbruikTotaal_55&#x27;, &#x27;Gemiddeld_opleidingsniveau&#x27;, &#x27;Percent_inkomensontvangers&#x27;, &#x27;GemiddeldInkomenPerInwoner_72&#x27;, &#x27;Bedrijfsvestigingen_per_huishuidens&#x27;, &#x27;PersonenautoSPerHuishouden_102&#x27;, &#x27;AfstandTotSchool_108&#x27;, &#x27;MateVanStedelijkheid_115&#x27;]</pre></div></div></div><div class=\"sk-serial\"><div class=\"sk-item\"><div class=\"sk-serial\"><div class=\"sk-item\"><div class=\"sk-estimator sk-toggleable\"><input class=\"sk-toggleable__control sk-hidden--visually\" id=\"5e9b4f64-b7b1-4a71-9d0c-31d9a4d7973d\" type=\"checkbox\" ><label for=\"5e9b4f64-b7b1-4a71-9d0c-31d9a4d7973d\" class=\"sk-toggleable__label sk-toggleable__label-arrow\">SimpleImputer</label><div class=\"sk-toggleable__content\"><pre>SimpleImputer(strategy=&#x27;median&#x27;)</pre></div></div></div><div class=\"sk-item\"><div class=\"sk-estimator sk-toggleable\"><input class=\"sk-toggleable__control sk-hidden--visually\" id=\"916de337-f20c-473d-a2cc-5d9566df9358\" type=\"checkbox\" ><label for=\"916de337-f20c-473d-a2cc-5d9566df9358\" class=\"sk-toggleable__label sk-toggleable__label-arrow\">StandardScaler</label><div class=\"sk-toggleable__content\"><pre>StandardScaler()</pre></div></div></div></div></div></div></div></div><div class=\"sk-parallel-item\"><div class=\"sk-item\"><div class=\"sk-label-container\"><div class=\"sk-label sk-toggleable\"><input class=\"sk-toggleable__control sk-hidden--visually\" id=\"78ba1307-9c87-4952-a43a-6e88ec3d075a\" type=\"checkbox\" ><label for=\"78ba1307-9c87-4952-a43a-6e88ec3d075a\" class=\"sk-toggleable__label sk-toggleable__label-arrow\">cat</label><div class=\"sk-toggleable__content\"><pre>[&#x27;GM_NAAM&#x27;, &#x27;Provincienaam&#x27;]</pre></div></div></div><div class=\"sk-serial\"><div class=\"sk-item\"><div class=\"sk-serial\"><div class=\"sk-item\"><div class=\"sk-estimator sk-toggleable\"><input class=\"sk-toggleable__control sk-hidden--visually\" id=\"f57bb5a0-bff2-41ff-9d7b-3172085d3148\" type=\"checkbox\" ><label for=\"f57bb5a0-bff2-41ff-9d7b-3172085d3148\" class=\"sk-toggleable__label sk-toggleable__label-arrow\">SimpleImputer</label><div class=\"sk-toggleable__content\"><pre>SimpleImputer(fill_value=&#x27;missing&#x27;, strategy=&#x27;constant&#x27;)</pre></div></div></div><div class=\"sk-item\"><div class=\"sk-estimator sk-toggleable\"><input class=\"sk-toggleable__control sk-hidden--visually\" id=\"1a16cbdd-d6f6-45ea-ab12-9991acb3de22\" type=\"checkbox\" ><label for=\"1a16cbdd-d6f6-45ea-ab12-9991acb3de22\" class=\"sk-toggleable__label sk-toggleable__label-arrow\">OneHotEncoder</label><div class=\"sk-toggleable__content\"><pre>OneHotEncoder(handle_unknown=&#x27;ignore&#x27;)</pre></div></div></div></div></div></div></div></div></div></div><div class=\"sk-item\"><div class=\"sk-estimator sk-toggleable\"><input class=\"sk-toggleable__control sk-hidden--visually\" id=\"994577fe-a13b-482b-8faf-0dcb7ef5af71\" type=\"checkbox\" ><label for=\"994577fe-a13b-482b-8faf-0dcb7ef5af71\" class=\"sk-toggleable__label sk-toggleable__label-arrow\">RandomForestRegressor</label><div class=\"sk-toggleable__content\"><pre>RandomForestRegressor()</pre></div></div></div></div></div></div></div>"
      ],
      "text/plain": [
       "Pipeline(steps=[('preprocessor',\n",
       "                 ColumnTransformer(transformers=[('num',\n",
       "                                                  Pipeline(steps=[('imputer',\n",
       "                                                                   SimpleImputer(strategy='median')),\n",
       "                                                                  ('scaler',\n",
       "                                                                   StandardScaler())]),\n",
       "                                                  ['HuishoudensTotaal_28',\n",
       "                                                   'GemiddeldeHuishoudensgrootte_32',\n",
       "                                                   'Bevolkingsdichtheid_33',\n",
       "                                                   'Woningvoorraad_34',\n",
       "                                                   'GemiddeldeWoningwaarde_35',\n",
       "                                                   'PercentageEengezinswoning_36',\n",
       "                                                   'Koopwoningen_40',\n",
       "                                                   'InBezit...\n",
       "                                                   'GemiddeldInkomenPerInwoner_72',\n",
       "                                                   'Bedrijfsvestigingen_per_huishuidens',\n",
       "                                                   'PersonenautoSPerHuishouden_102',\n",
       "                                                   'AfstandTotSchool_108',\n",
       "                                                   'MateVanStedelijkheid_115']),\n",
       "                                                 ('cat',\n",
       "                                                  Pipeline(steps=[('imputer',\n",
       "                                                                   SimpleImputer(fill_value='missing',\n",
       "                                                                                 strategy='constant')),\n",
       "                                                                  ('onehot',\n",
       "                                                                   OneHotEncoder(handle_unknown='ignore'))]),\n",
       "                                                  ['GM_NAAM',\n",
       "                                                   'Provincienaam'])])),\n",
       "                ('estimator', RandomForestRegressor())])"
      ]
     },
     "execution_count": 59,
     "metadata": {},
     "output_type": "execute_result"
    }
   ],
   "source": [
    "model_rf.fit(X_train, y_train)"
   ]
  },
  {
   "cell_type": "code",
   "execution_count": null,
   "id": "9488aea4",
   "metadata": {},
   "outputs": [],
   "source": [
    "y_pred = model_rf.predict(X_test)"
   ]
  },
  {
   "cell_type": "code",
   "execution_count": null,
   "id": "be2f9426",
   "metadata": {},
   "outputs": [],
   "source": [
    "y_pred_all = model_rf.predict(X)"
   ]
  },
  {
   "cell_type": "code",
   "execution_count": null,
   "id": "05581db9",
   "metadata": {},
   "outputs": [
    {
     "name": "stdout",
     "output_type": "stream",
     "text": [
      "Mean absolute error:     32.07328042536159\n",
      "Mean squared root error: 55.33133287417648\n",
      "R2 score:                0.6176287130669129\n"
     ]
    }
   ],
   "source": [
    "print(f\"Mean absolute error:     {metrics.mean_absolute_error(y_test, y_pred)}\")\n",
    "print(f\"Mean squared root error: {metrics.mean_squared_error(y_test, y_pred, squared=False)}\") \n",
    "print(f\"R2 score:                {metrics.r2_score(y_test, y_pred)}\")"
   ]
  },
  {
   "cell_type": "code",
   "execution_count": null,
   "id": "bccce106",
   "metadata": {},
   "outputs": [
    {
     "data": {
      "text/html": [
       "<div>\n",
       "<style scoped>\n",
       "    .dataframe tbody tr th:only-of-type {\n",
       "        vertical-align: middle;\n",
       "    }\n",
       "\n",
       "    .dataframe tbody tr th {\n",
       "        vertical-align: top;\n",
       "    }\n",
       "\n",
       "    .dataframe thead th {\n",
       "        text-align: right;\n",
       "    }\n",
       "</style>\n",
       "<table border=\"1\" class=\"dataframe\">\n",
       "  <thead>\n",
       "    <tr style=\"text-align: right;\">\n",
       "      <th></th>\n",
       "      <th>y_test</th>\n",
       "      <th>y_pred</th>\n",
       "      <th>diff_y</th>\n",
       "      <th>diff_y_rel</th>\n",
       "      <th>diff_y_abs</th>\n",
       "      <th>diff_y_rel_abs</th>\n",
       "    </tr>\n",
       "  </thead>\n",
       "  <tbody>\n",
       "    <tr>\n",
       "      <th>0</th>\n",
       "      <td>65.000000</td>\n",
       "      <td>61.291869</td>\n",
       "      <td>-3.708131</td>\n",
       "      <td>-0.060500</td>\n",
       "      <td>3.708131</td>\n",
       "      <td>0.060500</td>\n",
       "    </tr>\n",
       "    <tr>\n",
       "      <th>1</th>\n",
       "      <td>83.692308</td>\n",
       "      <td>80.162448</td>\n",
       "      <td>-3.529859</td>\n",
       "      <td>-0.044034</td>\n",
       "      <td>3.529859</td>\n",
       "      <td>0.044034</td>\n",
       "    </tr>\n",
       "    <tr>\n",
       "      <th>2</th>\n",
       "      <td>84.360902</td>\n",
       "      <td>84.729688</td>\n",
       "      <td>0.368786</td>\n",
       "      <td>0.004353</td>\n",
       "      <td>0.368786</td>\n",
       "      <td>0.004353</td>\n",
       "    </tr>\n",
       "    <tr>\n",
       "      <th>3</th>\n",
       "      <td>114.545455</td>\n",
       "      <td>117.467404</td>\n",
       "      <td>2.921949</td>\n",
       "      <td>0.024875</td>\n",
       "      <td>2.921949</td>\n",
       "      <td>0.024875</td>\n",
       "    </tr>\n",
       "    <tr>\n",
       "      <th>4</th>\n",
       "      <td>30.145773</td>\n",
       "      <td>33.778185</td>\n",
       "      <td>3.632412</td>\n",
       "      <td>0.107537</td>\n",
       "      <td>3.632412</td>\n",
       "      <td>0.107537</td>\n",
       "    </tr>\n",
       "  </tbody>\n",
       "</table>\n",
       "</div>"
      ],
      "text/plain": [
       "       y_test      y_pred    diff_y  diff_y_rel  diff_y_abs  diff_y_rel_abs\n",
       "0   65.000000   61.291869 -3.708131   -0.060500    3.708131        0.060500\n",
       "1   83.692308   80.162448 -3.529859   -0.044034    3.529859        0.044034\n",
       "2   84.360902   84.729688  0.368786    0.004353    0.368786        0.004353\n",
       "3  114.545455  117.467404  2.921949    0.024875    2.921949        0.024875\n",
       "4   30.145773   33.778185  3.632412    0.107537    3.632412        0.107537"
      ]
     },
     "execution_count": 63,
     "metadata": {},
     "output_type": "execute_result"
    }
   ],
   "source": [
    "# Creating dataframe of predicted vs real values of y - test set\n",
    "\n",
    "df1 = pd.DataFrame(y_test).reset_index(drop = True)\n",
    "df2 = pd.DataFrame(y_pred, columns = ['y_pred']).reset_index(drop = True)\n",
    "results = pd.concat([df1, df2], join = 'outer', ignore_index = True, axis = 1)\n",
    "results.columns = ['y_test', 'y_pred']\n",
    "results['diff_y'] = results['y_pred'] - results['y_test']\n",
    "results['diff_y_rel'] = results['diff_y'] / results['y_pred']\n",
    "results['diff_y_abs'] = abs(results['y_pred'] - results['y_test'])\n",
    "results['diff_y_rel_abs'] = abs(results['diff_y'] / results['y_pred'])\n",
    "results.head()"
   ]
  },
  {
   "cell_type": "code",
   "execution_count": null,
   "id": "70bceb4d",
   "metadata": {},
   "outputs": [
    {
     "data": {
      "text/html": [
       "<div>\n",
       "<style scoped>\n",
       "    .dataframe tbody tr th:only-of-type {\n",
       "        vertical-align: middle;\n",
       "    }\n",
       "\n",
       "    .dataframe tbody tr th {\n",
       "        vertical-align: top;\n",
       "    }\n",
       "\n",
       "    .dataframe thead th {\n",
       "        text-align: right;\n",
       "    }\n",
       "</style>\n",
       "<table border=\"1\" class=\"dataframe\">\n",
       "  <thead>\n",
       "    <tr style=\"text-align: right;\">\n",
       "      <th></th>\n",
       "      <th>y_test</th>\n",
       "      <th>y_pred</th>\n",
       "      <th>diff_y</th>\n",
       "      <th>diff_y_rel</th>\n",
       "      <th>diff_y_abs</th>\n",
       "      <th>diff_y_rel_abs</th>\n",
       "    </tr>\n",
       "  </thead>\n",
       "  <tbody>\n",
       "    <tr>\n",
       "      <th>0</th>\n",
       "      <td>108.120805</td>\n",
       "      <td>98.571813</td>\n",
       "      <td>-9.548992</td>\n",
       "      <td>-0.096873</td>\n",
       "      <td>9.548992</td>\n",
       "      <td>0.096873</td>\n",
       "    </tr>\n",
       "    <tr>\n",
       "      <th>1</th>\n",
       "      <td>353.846154</td>\n",
       "      <td>306.674060</td>\n",
       "      <td>-47.172094</td>\n",
       "      <td>-0.153818</td>\n",
       "      <td>47.172094</td>\n",
       "      <td>0.153818</td>\n",
       "    </tr>\n",
       "    <tr>\n",
       "      <th>2</th>\n",
       "      <td>92.897196</td>\n",
       "      <td>91.458676</td>\n",
       "      <td>-1.438520</td>\n",
       "      <td>-0.015729</td>\n",
       "      <td>1.438520</td>\n",
       "      <td>0.015729</td>\n",
       "    </tr>\n",
       "    <tr>\n",
       "      <th>3</th>\n",
       "      <td>181.111111</td>\n",
       "      <td>183.573162</td>\n",
       "      <td>2.462051</td>\n",
       "      <td>0.013412</td>\n",
       "      <td>2.462051</td>\n",
       "      <td>0.013412</td>\n",
       "    </tr>\n",
       "    <tr>\n",
       "      <th>4</th>\n",
       "      <td>82.758621</td>\n",
       "      <td>101.464314</td>\n",
       "      <td>18.705693</td>\n",
       "      <td>0.184357</td>\n",
       "      <td>18.705693</td>\n",
       "      <td>0.184357</td>\n",
       "    </tr>\n",
       "  </tbody>\n",
       "</table>\n",
       "</div>"
      ],
      "text/plain": [
       "       y_test      y_pred     diff_y  diff_y_rel  diff_y_abs  diff_y_rel_abs\n",
       "0  108.120805   98.571813  -9.548992   -0.096873    9.548992        0.096873\n",
       "1  353.846154  306.674060 -47.172094   -0.153818   47.172094        0.153818\n",
       "2   92.897196   91.458676  -1.438520   -0.015729    1.438520        0.015729\n",
       "3  181.111111  183.573162   2.462051    0.013412    2.462051        0.013412\n",
       "4   82.758621  101.464314  18.705693    0.184357   18.705693        0.184357"
      ]
     },
     "execution_count": 64,
     "metadata": {},
     "output_type": "execute_result"
    }
   ],
   "source": [
    "# Creating dataframe of predicted vs real values of y - full dataset\n",
    "\n",
    "df1 = pd.DataFrame(y).reset_index(drop = True)\n",
    "df2 = pd.DataFrame(y_pred_all, columns = ['y_pred']).reset_index(drop = True)\n",
    "results_full = pd.concat([df1, df2], join = 'outer', ignore_index = True, axis = 1)\n",
    "results_full.columns = ['y_test', 'y_pred']\n",
    "results_full['diff_y'] = results_full['y_pred'] - results_full['y_test']\n",
    "results_full['diff_y_rel'] = results_full['diff_y'] / results_full['y_pred']\n",
    "results_full['diff_y_abs'] = abs(results_full['y_pred'] - results_full['y_test'])\n",
    "results_full['diff_y_rel_abs'] = abs(results_full['diff_y'] / results_full['y_pred'])\n",
    "results_full.head()\n"
   ]
  },
  {
   "cell_type": "code",
   "execution_count": null,
   "id": "1a1f5b84",
   "metadata": {},
   "outputs": [
    {
     "data": {
      "text/html": [
       "<div>\n",
       "<style scoped>\n",
       "    .dataframe tbody tr th:only-of-type {\n",
       "        vertical-align: middle;\n",
       "    }\n",
       "\n",
       "    .dataframe tbody tr th {\n",
       "        vertical-align: top;\n",
       "    }\n",
       "\n",
       "    .dataframe thead th {\n",
       "        text-align: right;\n",
       "    }\n",
       "</style>\n",
       "<table border=\"1\" class=\"dataframe\">\n",
       "  <thead>\n",
       "    <tr style=\"text-align: right;\">\n",
       "      <th></th>\n",
       "      <th>y_test</th>\n",
       "      <th>y_pred</th>\n",
       "      <th>diff_y</th>\n",
       "      <th>diff_y_rel</th>\n",
       "      <th>diff_y_abs</th>\n",
       "      <th>diff_y_rel_abs</th>\n",
       "    </tr>\n",
       "  </thead>\n",
       "  <tbody>\n",
       "    <tr>\n",
       "      <th>count</th>\n",
       "      <td>352.000000</td>\n",
       "      <td>352.000000</td>\n",
       "      <td>352.000000</td>\n",
       "      <td>352.000000</td>\n",
       "      <td>352.000000</td>\n",
       "      <td>352.000000</td>\n",
       "    </tr>\n",
       "    <tr>\n",
       "      <th>mean</th>\n",
       "      <td>100.398311</td>\n",
       "      <td>98.013739</td>\n",
       "      <td>-2.384572</td>\n",
       "      <td>-0.018670</td>\n",
       "      <td>32.073280</td>\n",
       "      <td>0.319689</td>\n",
       "    </tr>\n",
       "    <tr>\n",
       "      <th>std</th>\n",
       "      <td>89.607894</td>\n",
       "      <td>68.379582</td>\n",
       "      <td>55.358616</td>\n",
       "      <td>0.439581</td>\n",
       "      <td>45.151442</td>\n",
       "      <td>0.301809</td>\n",
       "    </tr>\n",
       "    <tr>\n",
       "      <th>min</th>\n",
       "      <td>4.654731</td>\n",
       "      <td>6.160899</td>\n",
       "      <td>-494.365137</td>\n",
       "      <td>-2.315757</td>\n",
       "      <td>0.105680</td>\n",
       "      <td>0.002080</td>\n",
       "    </tr>\n",
       "    <tr>\n",
       "      <th>25%</th>\n",
       "      <td>47.083137</td>\n",
       "      <td>50.914034</td>\n",
       "      <td>-17.355573</td>\n",
       "      <td>-0.232012</td>\n",
       "      <td>7.055875</td>\n",
       "      <td>0.109898</td>\n",
       "    </tr>\n",
       "    <tr>\n",
       "      <th>50%</th>\n",
       "      <td>75.500858</td>\n",
       "      <td>81.169486</td>\n",
       "      <td>2.134214</td>\n",
       "      <td>0.046625</td>\n",
       "      <td>18.475620</td>\n",
       "      <td>0.240306</td>\n",
       "    </tr>\n",
       "    <tr>\n",
       "      <th>75%</th>\n",
       "      <td>125.838415</td>\n",
       "      <td>133.891873</td>\n",
       "      <td>20.693723</td>\n",
       "      <td>0.250567</td>\n",
       "      <td>40.129809</td>\n",
       "      <td>0.452177</td>\n",
       "    </tr>\n",
       "    <tr>\n",
       "      <th>max</th>\n",
       "      <td>772.000000</td>\n",
       "      <td>390.439179</td>\n",
       "      <td>181.005170</td>\n",
       "      <td>0.888316</td>\n",
       "      <td>494.365137</td>\n",
       "      <td>2.315757</td>\n",
       "    </tr>\n",
       "  </tbody>\n",
       "</table>\n",
       "</div>"
      ],
      "text/plain": [
       "           y_test      y_pred      diff_y  diff_y_rel  diff_y_abs  \\\n",
       "count  352.000000  352.000000  352.000000  352.000000  352.000000   \n",
       "mean   100.398311   98.013739   -2.384572   -0.018670   32.073280   \n",
       "std     89.607894   68.379582   55.358616    0.439581   45.151442   \n",
       "min      4.654731    6.160899 -494.365137   -2.315757    0.105680   \n",
       "25%     47.083137   50.914034  -17.355573   -0.232012    7.055875   \n",
       "50%     75.500858   81.169486    2.134214    0.046625   18.475620   \n",
       "75%    125.838415  133.891873   20.693723    0.250567   40.129809   \n",
       "max    772.000000  390.439179  181.005170    0.888316  494.365137   \n",
       "\n",
       "       diff_y_rel_abs  \n",
       "count      352.000000  \n",
       "mean         0.319689  \n",
       "std          0.301809  \n",
       "min          0.002080  \n",
       "25%          0.109898  \n",
       "50%          0.240306  \n",
       "75%          0.452177  \n",
       "max          2.315757  "
      ]
     },
     "execution_count": 65,
     "metadata": {},
     "output_type": "execute_result"
    }
   ],
   "source": [
    "results.describe()"
   ]
  },
  {
   "cell_type": "code",
   "execution_count": null,
   "id": "4a57e0b8",
   "metadata": {},
   "outputs": [
    {
     "name": "stdout",
     "output_type": "stream",
     "text": [
      "2.1342142353947438\n",
      "18.475619618799833\n"
     ]
    }
   ],
   "source": [
    "print(results['diff_y'].median())\n",
    "print(results['diff_y_abs'].median())"
   ]
  },
  {
   "cell_type": "code",
   "execution_count": null,
   "id": "481376c5",
   "metadata": {},
   "outputs": [
    {
     "name": "stdout",
     "output_type": "stream",
     "text": [
      "0.04662494443399172\n",
      "0.24030642414430975\n"
     ]
    }
   ],
   "source": [
    "print(results['diff_y_rel'].median())\n",
    "print(results['diff_y_rel_abs'].median())"
   ]
  },
  {
   "cell_type": "code",
   "execution_count": null,
   "id": "c79eb430",
   "metadata": {},
   "outputs": [
    {
     "data": {
      "text/plain": [
       "<AxesSubplot:>"
      ]
     },
     "execution_count": 73,
     "metadata": {},
     "output_type": "execute_result"
    },
    {
     "data": {
      "image/png": "[encoded data removed]",
      "text/plain": [
       "<Figure size 432x288 with 1 Axes>"
      ]
     },
     "metadata": {
      "needs_background": "light"
     },
     "output_type": "display_data"
    }
   ],
   "source": [
    "results['diff_y_rel'].hist(bins = 50, range = [-2, 2])"
   ]
  },
  {
   "cell_type": "code",
   "execution_count": null,
   "id": "b3c69c45",
   "metadata": {},
   "outputs": [
    {
     "data": {
      "text/plain": [
       "<AxesSubplot:>"
      ]
     },
     "execution_count": 69,
     "metadata": {},
     "output_type": "execute_result"
    },
    {
     "data": {
      "image/png": "[encoded data removed]",
      "text/plain": [
       "<Figure size 432x288 with 1 Axes>"
      ]
     },
     "metadata": {
      "needs_background": "light"
     },
     "output_type": "display_data"
    }
   ],
   "source": [
    "results['diff_y_rel_abs'].hist(bins = 25, range = [0, 2])"
   ]
  },
  {
   "cell_type": "code",
   "execution_count": null,
   "id": "3205714f",
   "metadata": {},
   "outputs": [
    {
     "data": {
      "text/plain": [
       "Text(400, 500, 'r-squared = 0.618')"
      ]
     },
     "execution_count": 70,
     "metadata": {},
     "output_type": "execute_result"
    },
    {
     "data": {
      "image/png": "[encoded data removed]",
      "text/plain": [
       "<Figure size 576x576 with 1 Axes>"
      ]
     },
     "metadata": {
      "needs_background": "light"
     },
     "output_type": "display_data"
    }
   ],
   "source": [
    "plt.figure(figsize = (8,8))\n",
    "ax = sns.scatterplot(data = results, x = 'y_test', y = 'y_pred', alpha = 0.2)\n",
    "ax.set(xlim=(0,600),ylim=(0,600))\n",
    "ax.annotate(\"r-squared = {:.3f}\".format(r2_score(y_test, y_pred)), (400,500))"
   ]
  },
  {
   "cell_type": "code",
   "execution_count": null,
   "id": "9ec7cc5f",
   "metadata": {},
   "outputs": [
    {
     "data": {
      "text/plain": [
       "Text(400, 500, 'r-squared = 0.859')"
      ]
     },
     "execution_count": 71,
     "metadata": {},
     "output_type": "execute_result"
    },
    {
     "data": {
      "image/png": "[encoded data removed]",
      "text/plain": [
       "<Figure size 576x576 with 1 Axes>"
      ]
     },
     "metadata": {
      "needs_background": "light"
     },
     "output_type": "display_data"
    }
   ],
   "source": [
    "plt.figure(figsize = (8,8))\n",
    "ax = sns.scatterplot(data = results_full, x = 'y_test', y = 'y_pred', alpha = 0.2)\n",
    "ax.set(xlim=(0,600),ylim=(0,600))\n",
    "ax.annotate(\"r-squared = {:.3f}\".format(r2_score(y, y_pred_all)), (400,500))"
   ]
  },
  {
   "cell_type": "code",
   "execution_count": null,
   "id": "7a5f8da5",
   "metadata": {},
   "outputs": [],
   "source": []
  },
  {
   "cell_type": "markdown",
   "id": "65878d4f",
   "metadata": {
    "cell_id": "41d2212a55d9430a8a33d85917e76eb8",
    "deepnote_cell_height": 482.375,
    "deepnote_cell_type": "markdown",
    "owner_user_id": "3a407f58-94ec-4c0a-b0a5-c938869484b1",
    "tags": []
   },
   "source": [
    "## Conclusion\n",
    "\n",
    "The best models for the data and the selected features are:\n",
    "- linear model\n",
    "- lasso model\n",
    "- KNN model (6 or 7 neighbours)\n",
    "\n",
    "The decision tree and SVM model are not as good as the above mentioned ones.\n",
    "\n",
    "The highest score is 0,43 for the linear model."
   ]
  },
  {
   "cell_type": "markdown",
   "id": "47086fee",
   "metadata": {
    "created_in_deepnote_cell": true,
    "deepnote_cell_type": "markdown",
    "tags": []
   },
   "source": [
    "<a style='text-decoration:none;line-height:16px;display:flex;color:#5B5B62;padding:10px;justify-content:end;' href='https://deepnote.com?utm_source=created-in-deepnote-cell&projectId=d0604020-40e6-4d7d-a2ba-74ef2b385723' target=\"_blank\">\n",
    "<img alt='Created in deepnote.com' style='display:inline;max-height:16px;margin:0px;margin-right:7.5px;' src='data:image/svg+xml;base64,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' > </img>\n",
    "Created in <span style='font-weight:600;margin-left:4px;'>Deepnote</span></a>"
   ]
  }
 ],
 "metadata": {
  "deepnote": {},
  "deepnote_execution_queue": [],
  "deepnote_notebook_id": "2299b636-c929-4337-8add-d2e5647a7991",
  "interpreter": {
   "hash": "4b5eed231ec0c115323e225ce5385d6626cfb048417038261eb3d8b8d0f3984b"
  },
  "kernelspec": {
   "display_name": "Python 3",
   "language": "python",
   "name": "python3"
  },
  "language_info": {
   "codemirror_mode": {
    "name": "ipython",
    "version": 3
   },
   "file_extension": ".py",
   "mimetype": "text/x-python",
   "name": "python",
   "nbconvert_exporter": "python",
   "pygments_lexer": "ipython3",
   "version": "3.9.7"
  }
 },
 "nbformat": 4,
 "nbformat_minor": 5
}
