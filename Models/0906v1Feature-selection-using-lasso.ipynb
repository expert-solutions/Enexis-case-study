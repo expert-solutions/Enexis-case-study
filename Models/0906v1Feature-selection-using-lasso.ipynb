{
 "cells": [
  {
   "cell_type": "markdown",
   "source": "# ENEXIS Graduation Project",
   "metadata": {
    "cell_id": "639f15a9-3752-44f3-a862-7b646986c305",
    "deepnote_app_coordinates": {
     "x": 0,
     "y": null,
     "w": 12,
     "h": 5
    },
    "deepnote_cell_type": "markdown",
    "deepnote_cell_height": 134
   }
  },
  {
   "cell_type": "markdown",
   "source": "- Feature selection using lasso\n- Try different models using these features",
   "metadata": {
    "cell_id": "00001-5275f279-2330-4b63-8b92-281680ccf4f1",
    "deepnote_app_coordinates": {
     "x": 0,
     "y": 6,
     "w": 12,
     "h": 5
    },
    "deepnote_cell_type": "markdown",
    "deepnote_cell_height": 94.796875
   }
  },
  {
   "cell_type": "code",
   "metadata": {
    "cell_id": "00002-a00b347e-23c4-47e0-9a5b-9dac9e9ef35b",
    "deepnote_to_be_reexecuted": false,
    "source_hash": "7a4b7550",
    "execution_start": 1654790820504,
    "execution_millis": 3865,
    "deepnote_app_coordinates": {
     "x": 0,
     "y": 12,
     "w": 12,
     "h": 5
    },
    "deepnote_cell_type": "code",
    "deepnote_cell_height": 189
   },
   "source": "import pandas as pd\nimport numpy as np\nfrom sklearn.preprocessing import StandardScaler, LabelEncoder\nfrom sklearn.impute import SimpleImputer\nfrom sklearn.pipeline import Pipeline\nfrom sklearn.model_selection import train_test_split, GridSearchCV\nfrom sklearn.linear_model import Lasso",
   "outputs": [],
   "execution_count": null
  },
  {
   "cell_type": "markdown",
   "source": "<a id='readpv'></a>\n#### Reading of PV installed capacity & demographics dataset",
   "metadata": {
    "cell_id": "00003-387bdbd1-8c87-461e-b0d5-a8074c5ea6d9",
    "deepnote_app_coordinates": {
     "x": 0,
     "y": 18,
     "w": 12,
     "h": 5
    },
    "deepnote_cell_type": "markdown",
    "deepnote_cell_height": 92
   }
  },
  {
   "cell_type": "code",
   "metadata": {
    "cell_id": "00004-8d7d6422-cc83-4e3f-852e-369d583de015",
    "deepnote_to_be_reexecuted": false,
    "source_hash": "205481a0",
    "execution_start": 1654790824404,
    "execution_millis": 18,
    "deepnote_app_coordinates": {
     "x": 0,
     "y": 24,
     "w": 12,
     "h": 5
    },
    "deepnote_cell_type": "code",
    "deepnote_cell_height": 99
   },
   "source": "c_path = \"../data/\"\nv_file = \"PV installed capacity & demographics\"",
   "outputs": [],
   "execution_count": null
  },
  {
   "cell_type": "code",
   "metadata": {
    "cell_id": "00005-f022d6bf-f1ea-40f8-8d1b-a4295ae0dfcf",
    "deepnote_to_be_reexecuted": false,
    "source_hash": "380722ca",
    "execution_start": 1654790824472,
    "execution_millis": 600,
    "deepnote_app_coordinates": {
     "x": 0,
     "y": 30,
     "w": 12,
     "h": 5
    },
    "deepnote_cell_type": "code",
    "deepnote_cell_height": 136.171875
   },
   "source": "df = pd.read_csv(filepath_or_buffer = c_path + v_file + \".csv\", encoding= 'UTF-8')\nlen(df)",
   "outputs": [
    {
     "output_type": "execute_result",
     "execution_count": 3,
     "data": {
      "text/plain": "18686"
     },
     "metadata": {}
    }
   ],
   "execution_count": null
  },
  {
   "cell_type": "markdown",
   "source": "Setup the pipeline",
   "metadata": {
    "cell_id": "00006-ed135c45-639a-448c-8cd3-e8305270c4a9",
    "deepnote_app_coordinates": {
     "x": 0,
     "y": 36,
     "w": 12,
     "h": 5
    },
    "deepnote_cell_type": "markdown",
    "deepnote_cell_height": 52.390625
   }
  },
  {
   "cell_type": "code",
   "metadata": {
    "cell_id": "00007-3d150eeb-f60d-43d3-ba58-0ab186e1304f",
    "deepnote_to_be_reexecuted": false,
    "source_hash": "ccd7e4ec",
    "execution_start": 1654790825113,
    "execution_millis": 2,
    "deepnote_app_coordinates": {
     "x": 0,
     "y": 42,
     "w": 12,
     "h": 5
    },
    "deepnote_cell_type": "code",
    "deepnote_cell_height": 171
   },
   "source": "imputer = SimpleImputer(missing_values=np.nan, strategy='mean')\n\npipeline_lasso = Pipeline([\n    ('impute', imputer),\n    ('scaler',StandardScaler()), \n    ('model',Lasso())])",
   "outputs": [],
   "execution_count": null
  },
  {
   "cell_type": "markdown",
   "source": "Optimize the model on the alpha hyperparameter in the specified range",
   "metadata": {
    "cell_id": "00008-59ad4fac-0389-4867-8887-cd1c33b30052",
    "deepnote_app_coordinates": {
     "x": 0,
     "y": 48,
     "w": 12,
     "h": 5
    },
    "deepnote_cell_type": "markdown",
    "deepnote_cell_height": 74.796875
   }
  },
  {
   "cell_type": "code",
   "metadata": {
    "cell_id": "00009-c73911b0-ab7f-4c4e-a6db-d111291ad077",
    "deepnote_to_be_reexecuted": false,
    "source_hash": "abb83b06",
    "execution_start": 1654790825189,
    "execution_millis": 274354483,
    "deepnote_app_coordinates": {
     "x": 0,
     "y": 54,
     "w": 12,
     "h": 5
    },
    "deepnote_cell_type": "code",
    "deepnote_cell_height": 153
   },
   "source": "search = GridSearchCV(pipeline_lasso,\n                      {'model__alpha':np.arange(0.5,10,0.01)},\n                      cv = 5, \n                      scoring=\"neg_mean_squared_error\",\n                      verbose=3, error_score=\"raise\")",
   "outputs": [],
   "execution_count": null
  },
  {
   "cell_type": "markdown",
   "source": "Use only the 2019 data, since that is the most complete",
   "metadata": {
    "cell_id": "00010-5bf1fd51-7cdb-487a-a53f-d608d387f1cc",
    "deepnote_app_coordinates": {
     "x": 0,
     "y": 60,
     "w": 12,
     "h": 5
    },
    "deepnote_cell_type": "markdown",
    "deepnote_cell_height": 52.390625
   }
  },
  {
   "cell_type": "code",
   "metadata": {
    "cell_id": "00011-4a6de07d-9da7-4414-a5f9-01491267784c",
    "deepnote_to_be_reexecuted": false,
    "source_hash": "23d5dfd5",
    "execution_start": 1654790825283,
    "execution_millis": 274354561,
    "deepnote_app_coordinates": {
     "x": 0,
     "y": 66,
     "w": 12,
     "h": 5
    },
    "deepnote_cell_type": "code",
    "deepnote_cell_height": 99
   },
   "source": "year = 'Year'\ndf = df[df[year]=='2019-01-01']",
   "outputs": [],
   "execution_count": null
  },
  {
   "cell_type": "markdown",
   "source": "And since only one year has no variance, it can be removed from the data set",
   "metadata": {
    "cell_id": "00012-0d591416-393c-4408-9774-c960cc21df50",
    "deepnote_app_coordinates": {
     "x": 0,
     "y": 72,
     "w": 12,
     "h": 5
    },
    "deepnote_cell_type": "markdown",
    "deepnote_cell_height": 74.796875
   }
  },
  {
   "cell_type": "code",
   "metadata": {
    "cell_id": "00013-afb6db7b-3239-46ef-b6c9-e00a9f36266d",
    "deepnote_to_be_reexecuted": false,
    "source_hash": "a0ec4e6b",
    "execution_start": 1654790825354,
    "execution_millis": 274354540,
    "deepnote_app_coordinates": {
     "x": 0,
     "y": 78,
     "w": 12,
     "h": 5
    },
    "deepnote_cell_type": "code",
    "deepnote_cell_height": 81
   },
   "source": "df = df.drop(columns=year)",
   "outputs": [],
   "execution_count": null
  },
  {
   "cell_type": "markdown",
   "source": "Further removal of string type columns",
   "metadata": {
    "cell_id": "00014-b442cefe-32e1-4bd8-ae8a-a70748ba6447",
    "deepnote_app_coordinates": {
     "x": 0,
     "y": 84,
     "w": 12,
     "h": 5
    },
    "deepnote_cell_type": "markdown",
    "deepnote_cell_height": 52.390625
   }
  },
  {
   "cell_type": "code",
   "metadata": {
    "cell_id": "00015-a592b10f-5de1-48ee-a262-f88a7de3d0ab",
    "deepnote_to_be_reexecuted": false,
    "source_hash": "f22d2611",
    "execution_start": 1654790825398,
    "execution_millis": 1,
    "deepnote_app_coordinates": {
     "x": 0,
     "y": 90,
     "w": 12,
     "h": 5
    },
    "deepnote_cell_type": "code",
    "deepnote_cell_height": 289.78125
   },
   "source": "string_types = df.dtypes[df.dtypes == 'object']\nstring_types",
   "outputs": [
    {
     "output_type": "execute_result",
     "execution_count": 8,
     "data": {
      "text/plain": "BU_2021            object\nBU_NAAM            object\nWK_2021            object\nWK_NAAM            object\nGM_2021            object\nGM_NAAM            object\nProvinciecodePV    object\nProvincienaam      object\ndtype: object"
     },
     "metadata": {}
    }
   ],
   "execution_count": null
  },
  {
   "cell_type": "code",
   "metadata": {
    "cell_id": "00016-fe005593-eee4-4f44-9950-b7b6f9326578",
    "deepnote_to_be_reexecuted": false,
    "source_hash": "6023ac26",
    "execution_start": 1654790825462,
    "execution_millis": 543,
    "deepnote_app_coordinates": {
     "x": 0,
     "y": 96,
     "w": 12,
     "h": 5
    },
    "deepnote_cell_type": "code",
    "deepnote_cell_height": 153
   },
   "source": "string_type_columns = [\n    'BU_2021','BU_NAAM','WK_2021',\n    'WK_NAAM','GM_2021','GM_NAAM',\n    'ProvinciecodePV','Provincienaam']\ndf = df.drop(columns=string_type_columns)",
   "outputs": [],
   "execution_count": null
  },
  {
   "cell_type": "markdown",
   "source": "Remove columns that have derived columns",
   "metadata": {
    "cell_id": "00017-2d6991f8-904f-4e38-968a-b87e9ab9eff2",
    "deepnote_app_coordinates": {
     "x": 0,
     "y": 102,
     "w": 12,
     "h": 5
    },
    "deepnote_cell_type": "markdown",
    "deepnote_cell_height": 52.390625
   }
  },
  {
   "cell_type": "code",
   "metadata": {
    "cell_id": "00018-5ea67c6f-5b2c-4b01-bd4c-593b0f3639f6",
    "deepnote_to_be_reexecuted": false,
    "source_hash": "2cf96d31",
    "execution_start": 1654790825519,
    "execution_millis": 274354628,
    "deepnote_app_coordinates": {
     "x": 0,
     "y": 108,
     "w": 12,
     "h": 5
    },
    "deepnote_cell_type": "code",
    "deepnote_cell_height": 153
   },
   "source": "redundant_columns = [\n    'Aantal aansluitingen met opwekinstallatie', \n    'OV_per_installatie',\n    'PVinstallaties_per100houshoudens']\ndf = df.drop(columns=redundant_columns)",
   "outputs": [],
   "execution_count": null
  },
  {
   "cell_type": "code",
   "metadata": {
    "cell_id": "00019-3d4520e3-87aa-46cc-a05b-c1dcd9491918",
    "deepnote_to_be_reexecuted": false,
    "source_hash": "b3c3bd51",
    "execution_start": 1654790825567,
    "execution_millis": 274354700,
    "deepnote_app_coordinates": {
     "x": 0,
     "y": 114,
     "w": 12,
     "h": 5
    },
    "deepnote_cell_type": "code",
    "deepnote_cell_height": 189
   },
   "source": "opgesteld_vermogen = 'Opgesteld_vermogen_per100houshoudens'\n\ndf_y = df[opgesteld_vermogen]\ndf_features = df.drop(columns=opgesteld_vermogen)\ndf_features = df_features.drop(columns='Opgesteld vermogen')\n\nX_train, X_test, y_train, y_test = train_test_split(df_features, df_y, test_size=0.33, random_state=123)",
   "outputs": [],
   "execution_count": null
  },
  {
   "cell_type": "markdown",
   "source": "Do a grid search for the best features",
   "metadata": {
    "cell_id": "00020-9d53eead-2671-452e-88da-482900cb84af",
    "deepnote_app_coordinates": {
     "x": 0,
     "y": 120,
     "w": 12,
     "h": 5
    },
    "deepnote_cell_type": "markdown",
    "deepnote_cell_height": 52.390625
   }
  },
  {
   "cell_type": "code",
   "metadata": {
    "cell_id": "00021-17297571-a1c1-4114-8264-04a2a9966e88",
    "deepnote_to_be_reexecuted": false,
    "source_hash": "acb807ca",
    "execution_start": 1654790825606,
    "execution_millis": 352047,
    "deepnote_app_coordinates": {
     "x": 0,
     "y": 126,
     "w": 12,
     "h": 5
    },
    "deepnote_cell_type": "code",
    "deepnote_cell_height": 939.171875
   },
   "source": "search.fit(X_train,y_train)",
   "outputs": [
    {
     "name": "stdout",
     "text": "[CV 2/5] END model__alpha=8.000000000000007;, score=-1614.102 total time=   0.1s\n[CV 3/5] END model__alpha=8.000000000000007;, score=-1882.173 total time=   0.1s\n[CV 4/5] END model__alpha=8.000000000000007;, score=-1236.433 total time=   0.1s\n[CV 5/5] END model__alpha=8.000000000000007;, score=-1210.499 total time=   0.1s\n[CV 1/5] END model__alpha=8.010000000000007;, score=-1274.730 total time=   0.1s\n[CV 2/5] END model__alpha=8.010000000000007;, score=-1614.356 total time=   0.1s\n[CV 3/5] END model__alpha=8.010000000000007;, score=-1882.404 total time=   0.1s\n[CV 4/5] END model__alpha=8.010000000000007;, score=-1236.600 total time=   0.1s\n[CV 5/5] END model__alpha=8.010000000000007;, score=-1210.706 total time=   0.1s\n[CV 1/5] END model__alpha=8.020000000000007;, score=-1274.829 total time=   0.1s\n[CV 2/5] END model__alpha=8.020000000000007;, score=-1614.610 total time=   0.1s\n[CV 3/5] END model__alpha=8.020000000000007;, score=-1882.636 total time=   0.1s\n[CV 4/5] END model__alpha=8.020000000000007;, score=-1236.767 total time=   0.0s\n[CV 5/5] END model__alpha=8.020000000000007;, score=-1210.914 total time=   0.1s\n[CV 1/5] END model__alpha=8.030000000000006;, score=-1274.928 total time=   0.1s\n[CV 2/5] END model__alpha=8.030000000000006;, score=-1614.865 total time=   0.1s\n[CV 3/5] END model__alpha=8.030000000000006;, score=-1882.868 total time=   0.1s\n[CV 4/5] END model__alpha=8.030000000000006;, score=-1236.935 total time=   0.1s\n[CV 5/5] END model__alpha=8.030000000000006;, score=-1211.121 total time=   0.1s\n[CV 1/5] END model__alpha=8.040000000000006;, score=-1275.026 total time=   0.1s\n[CV 2/5] END model__alpha=8.040000000000006;, score=-1615.119 total time=   0.1s\n[CV 3/5] END model__alpha=8.040000000000006;, score=-1883.099 total time=   0.1s\n[CV 4/5] END model__alpha=8.040000000000006;, score=-1237.102 total time=   0.1s\n[CV 5/5] END model__alpha=8.040000000000006;, score=-1211.329 total time=   0.1s\n[CV 1/5] END model__alpha=8.050000000000008;, score=-1275.124 total time=   0.1s\n[CV 2/5] END model__alpha=8.050000000000008;, score=-1615.374 total time=   0.1s\n[CV 3/5] END model__alpha=8.050000000000008;, score=-1883.331 total time=   0.1s\n[CV 4/5] END model__alpha=8.050000000000008;, score=-1237.270 total time=   0.1s\n[CV 5/5] END model__alpha=8.050000000000008;, score=-1211.537 total time=   0.0s\n[CV 1/5] END model__alpha=8.060000000000006;, score=-1275.222 total time=   0.0s\n[CV 2/5] END model__alpha=8.060000000000006;, score=-1615.630 total time=   0.1s\n[CV 3/5] END model__alpha=8.060000000000006;, score=-1883.564 total time=   0.0s\n[CV 4/5] END model__alpha=8.060000000000006;, score=-1237.438 total time=   0.1s\n[CV 5/5] END model__alpha=8.060000000000006;, score=-1211.746 total time=   0.1s\n[CV 1/5] END model__alpha=8.070000000000007;, score=-1275.320 total time=   0.1s\n[CV 2/5] END model__alpha=8.070000000000007;, score=-1615.885 total time=   0.1s\n[CV 3/5] END model__alpha=8.070000000000007;, score=-1883.796 total time=   0.1s\n[CV 4/5] END model__alpha=8.070000000000007;, score=-1237.607 total time=   0.1s\n[CV 5/5] END model__alpha=8.070000000000007;, score=-1211.955 total time=   0.1s\n[CV 1/5] END model__alpha=8.080000000000007;, score=-1275.417 total time=   0.1s\n[CV 2/5] END model__alpha=8.080000000000007;, score=-1616.146 total time=   0.1s\n[CV 3/5] END model__alpha=8.080000000000007;, score=-1884.029 total time=   0.1s\n[CV 4/5] END model__alpha=8.080000000000007;, score=-1237.775 total time=   0.1s\n[CV 5/5] END model__alpha=8.080000000000007;, score=-1212.164 total time=   0.1s\n[CV 1/5] END model__alpha=8.090000000000007;, score=-1275.515 total time=   0.1s\n[CV 2/5] END model__alpha=8.090000000000007;, score=-1616.401 total time=   0.1s\n[CV 3/5] END model__alpha=8.090000000000007;, score=-1884.262 total time=   0.1s\n[CV 4/5] END model__alpha=8.090000000000007;, score=-1237.944 total time=   0.1s\n[CV 5/5] END model__alpha=8.090000000000007;, score=-1212.373 total time=   0.1s\n[CV 1/5] END model__alpha=8.100000000000007;, score=-1275.613 total time=   0.1s\n[CV 2/5] END model__alpha=8.100000000000007;, score=-1616.657 total time=   0.1s\n[CV 3/5] END model__alpha=8.100000000000007;, score=-1884.495 total time=   0.1s\n[CV 4/5] END model__alpha=8.100000000000007;, score=-1238.113 total time=   0.0s\n[CV 5/5] END model__alpha=8.100000000000007;, score=-1212.582 total time=   0.1s\n[CV 1/5] END model__alpha=8.110000000000007;, score=-1275.712 total time=   0.1s\n[CV 2/5] END model__alpha=8.110000000000007;, score=-1616.914 total time=   0.1s\n[CV 3/5] END model__alpha=8.110000000000007;, score=-1884.729 total time=   0.1s\n[CV 4/5] END model__alpha=8.110000000000007;, score=-1238.283 total time=   0.1s\n[CV 5/5] END model__alpha=8.110000000000007;, score=-1212.792 total time=   0.1s\n[CV 1/5] END model__alpha=8.120000000000006;, score=-1275.810 total time=   0.1s\n[CV 2/5] END model__alpha=8.120000000000006;, score=-1617.170 total time=   0.1s\n[CV 3/5] END model__alpha=8.120000000000006;, score=-1884.963 total time=   0.1s\n[CV 4/5] END model__alpha=8.120000000000006;, score=-1238.452 total time=   0.1s\n[CV 5/5] END model__alpha=8.120000000000006;, score=-1213.002 total time=   0.1s\n[CV 1/5] END model__alpha=8.130000000000006;, score=-1275.909 total time=   0.1s\n[CV 2/5] END model__alpha=8.130000000000006;, score=-1617.427 total time=   0.1s\n[CV 3/5] END model__alpha=8.130000000000006;, score=-1885.197 total time=   0.1s\n[CV 4/5] END model__alpha=8.130000000000006;, score=-1238.622 total time=   0.1s\n[CV 5/5] END model__alpha=8.130000000000006;, score=-1213.213 total time=   0.1s\n[CV 1/5] END model__alpha=8.140000000000008;, score=-1276.007 total time=   0.1s\n[CV 2/5] END model__alpha=8.140000000000008;, score=-1617.684 total time=   0.1s\n[CV 3/5] END model__alpha=8.140000000000008;, score=-1885.431 total time=   0.1s\n[CV 4/5] END model__alpha=8.140000000000008;, score=-1238.792 total time=   0.1s\n[CV 5/5] END model__alpha=8.140000000000008;, score=-1213.423 total time=   0.1s\n[CV 1/5] END model__alpha=8.150000000000006;, score=-1276.106 total time=   0.1s\n[CV 2/5] END model__alpha=8.150000000000006;, score=-1617.941 total time=   0.1s\n[CV 3/5] END model__alpha=8.150000000000006;, score=-1885.666 total time=   0.1s\n[CV 4/5] END model__alpha=8.150000000000006;, score=-1238.962 total time=   0.1s\n[CV 5/5] END model__alpha=8.150000000000006;, score=-1213.634 total time=   0.1s\n[CV 1/5] END model__alpha=8.160000000000007;, score=-1276.206 total time=   0.1s\n[CV 2/5] END model__alpha=8.160000000000007;, score=-1618.198 total time=   0.1s\n[CV 3/5] END model__alpha=8.160000000000007;, score=-1885.900 total time=   0.1s\n[CV 4/5] END model__alpha=8.160000000000007;, score=-1239.133 total time=   0.1s\n[CV 5/5] END model__alpha=8.160000000000007;, score=-1213.845 total time=   0.1s\n[CV 1/5] END model__alpha=8.170000000000007;, score=-1276.305 total time=   0.1s\n[CV 2/5] END model__alpha=8.170000000000007;, score=-1618.456 total time=   0.1s\n[CV 3/5] END model__alpha=8.170000000000007;, score=-1886.135 total time=   0.1s\n[CV 4/5] END model__alpha=8.170000000000007;, score=-1239.304 total time=   0.1s\n[CV 5/5] END model__alpha=8.170000000000007;, score=-1214.056 total time=   0.1s\n[CV 1/5] END model__alpha=8.180000000000007;, score=-1276.405 total time=   0.1s\n[CV 2/5] END model__alpha=8.180000000000007;, score=-1618.714 total time=   0.1s\n[CV 3/5] END model__alpha=8.180000000000007;, score=-1886.371 total time=   0.1s\n[CV 4/5] END model__alpha=8.180000000000007;, score=-1239.475 total time=   0.1s\n[CV 5/5] END model__alpha=8.180000000000007;, score=-1214.268 total time=   0.1s\n[CV 1/5] END model__alpha=8.190000000000007;, score=-1276.505 total time=   0.1s\n[CV 2/5] END model__alpha=8.190000000000007;, score=-1618.972 total time=   0.1s\n[CV 3/5] END model__alpha=8.190000000000007;, score=-1886.606 total time=   0.1s\n[CV 4/5] END model__alpha=8.190000000000007;, score=-1239.646 total time=   0.1s\n[CV 5/5] END model__alpha=8.190000000000007;, score=-1214.480 total time=   0.1s\n[CV 1/5] END model__alpha=8.200000000000006;, score=-1276.605 total time=   0.1s\n[CV 2/5] END model__alpha=8.200000000000006;, score=-1619.231 total time=   0.1s\n[CV 3/5] END model__alpha=8.200000000000006;, score=-1886.842 total time=   0.1s\n[CV 4/5] END model__alpha=8.200000000000006;, score=-1239.818 total time=   0.0s\n[CV 5/5] END model__alpha=8.200000000000006;, score=-1214.692 total time=   0.1s\n[CV 1/5] END model__alpha=8.210000000000008;, score=-1276.706 total time=   0.1s\n[CV 2/5] END model__alpha=8.210000000000008;, score=-1619.489 total time=   0.1s\n[CV 3/5] END model__alpha=8.210000000000008;, score=-1887.080 total time=   0.1s\n[CV 4/5] END model__alpha=8.210000000000008;, score=-1239.990 total time=   0.1s\n[CV 5/5] END model__alpha=8.210000000000008;, score=-1214.905 total time=   0.1s\n[CV 1/5] END model__alpha=8.220000000000006;, score=-1276.807 total time=   0.0s\n[CV 2/5] END model__alpha=8.220000000000006;, score=-1619.749 total time=   0.1s\n[CV 3/5] END model__alpha=8.220000000000006;, score=-1887.316 total time=   0.1s\n[CV 4/5] END model__alpha=8.220000000000006;, score=-1240.162 total time=   0.1s\n[CV 5/5] END model__alpha=8.220000000000006;, score=-1215.117 total time=   0.1s\n[CV 1/5] END model__alpha=8.230000000000008;, score=-1276.908 total time=   0.1s\n[CV 2/5] END model__alpha=8.230000000000008;, score=-1620.008 total time=   0.1s\n[CV 3/5] END model__alpha=8.230000000000008;, score=-1887.552 total time=   0.1s\n[CV 4/5] END model__alpha=8.230000000000008;, score=-1240.334 total time=   0.1s\n[CV 5/5] END model__alpha=8.230000000000008;, score=-1215.330 total time=   0.1s\n[CV 1/5] END model__alpha=8.240000000000007;, score=-1277.009 total time=   0.1s\n[CV 2/5] END model__alpha=8.240000000000007;, score=-1620.267 total time=   0.1s\n[CV 3/5] END model__alpha=8.240000000000007;, score=-1887.789 total time=   0.1s\n[CV 4/5] END model__alpha=8.240000000000007;, score=-1240.507 total time=   0.1s\n[CV 5/5] END model__alpha=8.240000000000007;, score=-1215.544 total time=   0.1s\n[CV 1/5] END model__alpha=8.250000000000007;, score=-1277.110 total time=   0.1s\n[CV 2/5] END model__alpha=8.250000000000007;, score=-1620.527 total time=   0.0s\n[CV 3/5] END model__alpha=8.250000000000007;, score=-1888.026 total time=   0.1s\n[CV 4/5] END model__alpha=8.250000000000007;, score=-1240.680 total time=   0.1s\n[CV 5/5] END model__alpha=8.250000000000007;, score=-1215.757 total time=   0.0s\n[CV 1/5] END model__alpha=8.260000000000007;, score=-1277.212 total time=   0.1s\n[CV 2/5] END model__alpha=8.260000000000007;, score=-1620.787 total time=   0.1s\n[CV 3/5] END model__alpha=8.260000000000007;, score=-1888.264 total time=   0.1s\n[CV 4/5] END model__alpha=8.260000000000007;, score=-1240.853 total time=   0.1s\n[CV 5/5] END model__alpha=8.260000000000007;, score=-1215.971 total time=   0.1s\n[CV 1/5] END model__alpha=8.270000000000007;, score=-1277.314 total time=   0.1s\n[CV 2/5] END model__alpha=8.270000000000007;, score=-1621.047 total time=   0.1s\n[CV 3/5] END model__alpha=8.270000000000007;, score=-1888.501 total time=   0.1s\n[CV 4/5] END model__alpha=8.270000000000007;, score=-1241.026 total time=   0.1s\n[CV 5/5] END model__alpha=8.270000000000007;, score=-1216.190 total time=   0.1s\n[CV 1/5] END model__alpha=8.280000000000006;, score=-1277.416 total time=   0.1s\n[CV 2/5] END model__alpha=8.280000000000006;, score=-1621.308 total time=   0.1s\n[CV 3/5] END model__alpha=8.280000000000006;, score=-1888.739 total time=   0.1s\n[CV 4/5] END model__alpha=8.280000000000006;, score=-1241.200 total time=   0.1s\n[CV 5/5] END model__alpha=8.280000000000006;, score=-1216.405 total time=   0.1s\n[CV 1/5] END model__alpha=8.290000000000006;, score=-1277.522 total time=   0.0s\n[CV 2/5] END model__alpha=8.290000000000006;, score=-1621.568 total time=   0.0s\n[CV 3/5] END model__alpha=8.290000000000006;, score=-1888.977 total time=   0.1s\n[CV 4/5] END model__alpha=8.290000000000006;, score=-1241.374 total time=   0.1s\n[CV 5/5] END model__alpha=8.290000000000006;, score=-1216.619 total time=   0.1s\n[CV 1/5] END model__alpha=8.300000000000008;, score=-1277.625 total time=   0.1s\n[CV 2/5] END model__alpha=8.300000000000008;, score=-1621.829 total time=   0.1s\n[CV 3/5] END model__alpha=8.300000000000008;, score=-1889.215 total time=   0.1s\n[CV 4/5] END model__alpha=8.300000000000008;, score=-1241.548 total time=   0.1s\n[CV 5/5] END model__alpha=8.300000000000008;, score=-1216.834 total time=   0.1s\n[CV 1/5] END model__alpha=8.310000000000006;, score=-1277.727 total time=   0.1s\n[CV 2/5] END model__alpha=8.310000000000006;, score=-1622.090 total time=   0.1s\n[CV 3/5] END model__alpha=8.310000000000006;, score=-1889.454 total time=   0.1s\n[CV 4/5] END model__alpha=8.310000000000006;, score=-1241.722 total time=   0.1s\n[CV 5/5] END model__alpha=8.310000000000006;, score=-1217.049 total time=   0.1s\n[CV 1/5] END model__alpha=8.320000000000007;, score=-1277.830 total time=   0.1s\n[CV 2/5] END model__alpha=8.320000000000007;, score=-1622.357 total time=   0.1s\n[CV 3/5] END model__alpha=8.320000000000007;, score=-1889.693 total time=   0.1s\n[CV 4/5] END model__alpha=8.320000000000007;, score=-1241.897 total time=   0.0s\n[CV 5/5] END model__alpha=8.320000000000007;, score=-1217.265 total time=   0.1s\n[CV 1/5] END model__alpha=8.330000000000007;, score=-1277.933 total time=   0.1s\n[CV 2/5] END model__alpha=8.330000000000007;, score=-1622.618 total time=   0.1s\n[CV 3/5] END model__alpha=8.330000000000007;, score=-1889.932 total time=   0.1s\n[CV 4/5] END model__alpha=8.330000000000007;, score=-1242.071 total time=   0.1s\n[CV 5/5] END model__alpha=8.330000000000007;, score=-1217.480 total time=   0.1s\n[CV 1/5] END model__alpha=8.340000000000007;, score=-1278.037 total time=   0.1s\n[CV 2/5] END model__alpha=8.340000000000007;, score=-1622.880 total time=   0.1s\n[CV 3/5] END model__alpha=8.340000000000007;, score=-1890.171 total time=   0.1s\n[CV 4/5] END model__alpha=8.340000000000007;, score=-1242.247 total time=   0.1s\n[CV 5/5] END model__alpha=8.340000000000007;, score=-1217.696 total time=   0.1s\n[CV 1/5] END model__alpha=8.350000000000007;, score=-1278.141 total time=   0.1s\n[CV 2/5] END model__alpha=8.350000000000007;, score=-1623.142 total time=   0.1s\n[CV 3/5] END model__alpha=8.350000000000007;, score=-1890.411 total time=   0.1s\n[CV 4/5] END model__alpha=8.350000000000007;, score=-1242.422 total time=   0.1s\n[CV 5/5] END model__alpha=8.350000000000007;, score=-1217.912 total time=   0.1s\n[CV 1/5] END model__alpha=8.360000000000007;, score=-1278.244 total time=   0.1s\n[CV 2/5] END model__alpha=8.360000000000007;, score=-1623.404 total time=   0.1s\n[CV 3/5] END model__alpha=8.360000000000007;, score=-1890.651 total time=   0.1s\n[CV 4/5] END model__alpha=8.360000000000007;, score=-1242.597 total time=   0.0s\n[CV 5/5] END model__alpha=8.360000000000007;, score=-1218.129 total time=   0.1s\n[CV 1/5] END model__alpha=8.370000000000008;, score=-1278.349 total time=   0.1s\n[CV 2/5] END model__alpha=8.370000000000008;, score=-1623.666 total time=   0.1s\n[CV 3/5] END model__alpha=8.370000000000008;, score=-1890.891 total time=   0.1s\n[CV 4/5] END model__alpha=8.370000000000008;, score=-1242.773 total time=   0.0s\n[CV 5/5] END model__alpha=8.370000000000008;, score=-1218.346 total time=   0.1s\n[CV 1/5] END model__alpha=8.380000000000006;, score=-1278.453 total time=   0.1s\n[CV 2/5] END model__alpha=8.380000000000006;, score=-1623.929 total time=   0.1s\n[CV 3/5] END model__alpha=8.380000000000006;, score=-1891.131 total time=   0.1s\n[CV 4/5] END model__alpha=8.380000000000006;, score=-1242.949 total time=   0.1s\n[CV 5/5] END model__alpha=8.380000000000006;, score=-1218.563 total time=   0.0s\n[CV 1/5] END model__alpha=8.390000000000008;, score=-1278.558 total time=   0.1s\n[CV 2/5] END model__alpha=8.390000000000008;, score=-1624.192 total time=   0.1s\n[CV 3/5] END model__alpha=8.390000000000008;, score=-1891.372 total time=   0.0s\n[CV 4/5] END model__alpha=8.390000000000008;, score=-1243.126 total time=   0.0s\n[CV 5/5] END model__alpha=8.390000000000008;, score=-1218.780 total time=   0.0s\n[CV 1/5] END model__alpha=8.400000000000007;, score=-1278.663 total time=   0.0s\n[CV 2/5] END model__alpha=8.400000000000007;, score=-1624.455 total time=   0.0s\n[CV 3/5] END model__alpha=8.400000000000007;, score=-1891.613 total time=   0.1s\n[CV 4/5] END model__alpha=8.400000000000007;, score=-1243.302 total time=   0.1s\n[CV 5/5] END model__alpha=8.400000000000007;, score=-1218.997 total time=   0.1s\n[CV 1/5] END model__alpha=8.410000000000007;, score=-1278.768 total time=   0.1s\n[CV 2/5] END model__alpha=8.410000000000007;, score=-1624.718 total time=   0.1s\n[CV 3/5] END model__alpha=8.410000000000007;, score=-1891.854 total time=   0.1s\n[CV 4/5] END model__alpha=8.410000000000007;, score=-1243.479 total time=   0.1s\n[CV 5/5] END model__alpha=8.410000000000007;, score=-1219.215 total time=   0.1s\n[CV 1/5] END model__alpha=8.420000000000007;, score=-1278.873 total time=   0.1s\n[CV 2/5] END model__alpha=8.420000000000007;, score=-1624.982 total time=   0.1s\n[CV 3/5] END model__alpha=8.420000000000007;, score=-1892.095 total time=   0.1s\n[CV 4/5] END model__alpha=8.420000000000007;, score=-1243.656 total time=   0.1s\n[CV 5/5] END model__alpha=8.420000000000007;, score=-1219.433 total time=   0.1s\n[CV 1/5] END model__alpha=8.430000000000007;, score=-1278.979 total time=   0.1s\n[CV 2/5] END model__alpha=8.430000000000007;, score=-1625.246 total time=   0.1s\n[CV 3/5] END model__alpha=8.430000000000007;, score=-1892.337 total time=   0.1s\n[CV 4/5] END model__alpha=8.430000000000007;, score=-1243.834 total time=   0.1s\n[CV 5/5] END model__alpha=8.430000000000007;, score=-1219.651 total time=   0.1s\n[CV 1/5] END model__alpha=8.440000000000007;, score=-1279.085 total time=   0.1s\n[CV 2/5] END model__alpha=8.440000000000007;, score=-1625.510 total time=   0.1s\n[CV 3/5] END model__alpha=8.440000000000007;, score=-1892.580 total time=   0.1s\n[CV 4/5] END model__alpha=8.440000000000007;, score=-1244.011 total time=   0.1s\n[CV 5/5] END model__alpha=8.440000000000007;, score=-1219.870 total time=   0.1s\n[CV 1/5] END model__alpha=8.450000000000006;, score=-1279.191 total time=   0.1s\n[CV 2/5] END model__alpha=8.450000000000006;, score=-1625.775 total time=   0.1s\n[CV 3/5] END model__alpha=8.450000000000006;, score=-1892.822 total time=   0.1s\n[CV 4/5] END model__alpha=8.450000000000006;, score=-1244.189 total time=   0.1s\n[CV 5/5] END model__alpha=8.450000000000006;, score=-1220.089 total time=   0.1s\n[CV 1/5] END model__alpha=8.460000000000008;, score=-1279.297 total time=   0.1s\n[CV 2/5] END model__alpha=8.460000000000008;, score=-1626.040 total time=   0.1s\n[CV 3/5] END model__alpha=8.460000000000008;, score=-1893.065 total time=   0.1s\n[CV 4/5] END model__alpha=8.460000000000008;, score=-1244.367 total time=   0.1s\n[CV 5/5] END model__alpha=8.460000000000008;, score=-1220.308 total time=   0.1s\n[CV 1/5] END model__alpha=8.470000000000006;, score=-1279.404 total time=   0.1s\n[CV 2/5] END model__alpha=8.470000000000006;, score=-1626.304 total time=   0.1s\n[CV 3/5] END model__alpha=8.470000000000006;, score=-1893.307 total time=   0.0s\n[CV 4/5] END model__alpha=8.470000000000006;, score=-1244.546 total time=   0.1s\n[CV 5/5] END model__alpha=8.470000000000006;, score=-1220.527 total time=   0.1s\n[CV 1/5] END model__alpha=8.480000000000008;, score=-1279.510 total time=   0.1s\n[CV 2/5] END model__alpha=8.480000000000008;, score=-1626.570 total time=   0.1s\n[CV 3/5] END model__alpha=8.480000000000008;, score=-1893.550 total time=   0.1s\n[CV 4/5] END model__alpha=8.480000000000008;, score=-1244.724 total time=   0.1s\n[CV 5/5] END model__alpha=8.480000000000008;, score=-1220.747 total time=   0.1s\n[CV 1/5] END model__alpha=8.490000000000007;, score=-1279.617 total time=   0.1s\n[CV 2/5] END model__alpha=8.490000000000007;, score=-1626.835 total time=   0.1s\n[CV 3/5] END model__alpha=8.490000000000007;, score=-1893.793 total time=   0.1s\n[CV 4/5] END model__alpha=8.490000000000007;, score=-1244.903 total time=   0.1s\n[CV 5/5] END model__alpha=8.490000000000007;, score=-1220.967 total time=   0.1s\n[CV 1/5] END model__alpha=8.500000000000007;, score=-1279.725 total time=   0.1s\n[CV 2/5] END model__alpha=8.500000000000007;, score=-1627.101 total time=   0.1s\n[CV 3/5] END model__alpha=8.500000000000007;, score=-1894.037 total time=   0.1s\n[CV 4/5] END model__alpha=8.500000000000007;, score=-1245.082 total time=   0.1s\n[CV 5/5] END model__alpha=8.500000000000007;, score=-1221.187 total time=   0.1s\n[CV 1/5] END model__alpha=8.510000000000007;, score=-1279.832 total time=   0.1s\n[CV 2/5] END model__alpha=8.510000000000007;, score=-1627.367 total time=   0.1s\n[CV 3/5] END model__alpha=8.510000000000007;, score=-1894.280 total time=   0.1s\n[CV 4/5] END model__alpha=8.510000000000007;, score=-1245.261 total time=   0.1s\n[CV 5/5] END model__alpha=8.510000000000007;, score=-1221.408 total time=   0.1s\n[CV 1/5] END model__alpha=8.520000000000007;, score=-1279.940 total time=   0.1s\n[CV 2/5] END model__alpha=8.520000000000007;, score=-1627.633 total time=   0.1s\n[CV 3/5] END model__alpha=8.520000000000007;, score=-1894.524 total time=   0.1s\n[CV 4/5] END model__alpha=8.520000000000007;, score=-1245.441 total time=   0.1s\n[CV 5/5] END model__alpha=8.520000000000007;, score=-1221.628 total time=   0.1s\n[CV 1/5] END model__alpha=8.530000000000006;, score=-1280.048 total time=   0.1s\n[CV 2/5] END model__alpha=8.530000000000006;, score=-1627.899 total time=   0.1s\n[CV 3/5] END model__alpha=8.530000000000006;, score=-1894.768 total time=   0.1s\n[CV 4/5] END model__alpha=8.530000000000006;, score=-1245.621 total time=   0.1s\n[CV 5/5] END model__alpha=8.530000000000006;, score=-1221.849 total time=   0.1s\n[CV 1/5] END model__alpha=8.540000000000006;, score=-1280.159 total time=   0.1s\n[CV 2/5] END model__alpha=8.540000000000006;, score=-1628.166 total time=   0.1s\n[CV 3/5] END model__alpha=8.540000000000006;, score=-1895.013 total time=   0.1s\n[CV 4/5] END model__alpha=8.540000000000006;, score=-1245.801 total time=   0.1s\n[CV 5/5] END model__alpha=8.540000000000006;, score=-1222.071 total time=   0.0s\n[CV 1/5] END model__alpha=8.550000000000008;, score=-1280.268 total time=   0.0s\n[CV 2/5] END model__alpha=8.550000000000008;, score=-1628.433 total time=   0.0s\n[CV 3/5] END model__alpha=8.550000000000008;, score=-1895.257 total time=   0.1s\n[CV 4/5] END model__alpha=8.550000000000008;, score=-1245.981 total time=   0.1s\n[CV 5/5] END model__alpha=8.550000000000008;, score=-1222.292 total time=   0.1s\n[CV 1/5] END model__alpha=8.560000000000008;, score=-1280.376 total time=   0.1s\n[CV 2/5] END model__alpha=8.560000000000008;, score=-1628.700 total time=   0.1s\n[CV 3/5] END model__alpha=8.560000000000008;, score=-1895.502 total time=   0.1s\n[CV 4/5] END model__alpha=8.560000000000008;, score=-1246.162 total time=   0.1s\n[CV 5/5] END model__alpha=8.560000000000008;, score=-1222.514 total time=   0.1s\n[CV 1/5] END model__alpha=8.570000000000007;, score=-1280.485 total time=   0.1s\n[CV 2/5] END model__alpha=8.570000000000007;, score=-1628.967 total time=   0.1s\n[CV 3/5] END model__alpha=8.570000000000007;, score=-1895.748 total time=   0.1s\n[CV 4/5] END model__alpha=8.570000000000007;, score=-1246.343 total time=   0.1s\n[CV 5/5] END model__alpha=8.570000000000007;, score=-1222.736 total time=   0.1s\n[CV 1/5] END model__alpha=8.580000000000007;, score=-1280.594 total time=   0.1s\n[CV 2/5] END model__alpha=8.580000000000007;, score=-1629.239 total time=   0.1s\n[CV 3/5] END model__alpha=8.580000000000007;, score=-1895.993 total time=   0.1s\n[CV 4/5] END model__alpha=8.580000000000007;, score=-1246.524 total time=   0.1s\n[CV 5/5] END model__alpha=8.580000000000007;, score=-1222.958 total time=   0.1s\n[CV 1/5] END model__alpha=8.590000000000007;, score=-1280.703 total time=   0.1s\n[CV 2/5] END model__alpha=8.590000000000007;, score=-1629.507 total time=   0.1s\n[CV 3/5] END model__alpha=8.590000000000007;, score=-1896.239 total time=   0.1s\n[CV 4/5] END model__alpha=8.590000000000007;, score=-1246.705 total time=   0.1s\n[CV 5/5] END model__alpha=8.590000000000007;, score=-1223.181 total time=   0.1s\n[CV 1/5] END model__alpha=8.600000000000007;, score=-1280.812 total time=   0.1s\n[CV 2/5] END model__alpha=8.600000000000007;, score=-1629.775 total time=   0.1s\n[CV 3/5] END model__alpha=8.600000000000007;, score=-1896.484 total time=   0.1s\n[CV 4/5] END model__alpha=8.600000000000007;, score=-1246.887 total time=   0.0s\n[CV 5/5] END model__alpha=8.600000000000007;, score=-1223.404 total time=   0.0s\n[CV 1/5] END model__alpha=8.610000000000007;, score=-1280.922 total time=   0.1s\n[CV 2/5] END model__alpha=8.610000000000007;, score=-1630.043 total time=   0.1s\n[CV 3/5] END model__alpha=8.610000000000007;, score=-1896.731 total time=   0.1s\n[CV 4/5] END model__alpha=8.610000000000007;, score=-1247.068 total time=   0.1s\n[CV 5/5] END model__alpha=8.610000000000007;, score=-1223.627 total time=   0.1s\n[CV 1/5] END model__alpha=8.620000000000008;, score=-1281.032 total time=   0.1s\n[CV 2/5] END model__alpha=8.620000000000008;, score=-1630.311 total time=   0.1s\n[CV 3/5] END model__alpha=8.620000000000008;, score=-1896.977 total time=   0.1s\n[CV 4/5] END model__alpha=8.620000000000008;, score=-1247.251 total time=   0.1s\n[CV 5/5] END model__alpha=8.620000000000008;, score=-1223.850 total time=   0.1s\n[CV 1/5] END model__alpha=8.630000000000008;, score=-1281.142 total time=   0.1s\n[CV 2/5] END model__alpha=8.630000000000008;, score=-1630.580 total time=   0.1s\n[CV 3/5] END model__alpha=8.630000000000008;, score=-1897.224 total time=   0.0s\n[CV 4/5] END model__alpha=8.630000000000008;, score=-1247.433 total time=   0.1s\n[CV 5/5] END model__alpha=8.630000000000008;, score=-1224.074 total time=   0.1s\n[CV 1/5] END model__alpha=8.640000000000008;, score=-1281.252 total time=   0.1s\n[CV 2/5] END model__alpha=8.640000000000008;, score=-1630.849 total time=   0.1s\n[CV 3/5] END model__alpha=8.640000000000008;, score=-1897.472 total time=   0.1s\n[CV 4/5] END model__alpha=8.640000000000008;, score=-1247.615 total time=   0.1s\n[CV 5/5] END model__alpha=8.640000000000008;, score=-1224.298 total time=   0.1s\n[CV 1/5] END model__alpha=8.650000000000007;, score=-1281.363 total time=   0.1s\n[CV 2/5] END model__alpha=8.650000000000007;, score=-1631.118 total time=   0.1s\n[CV 3/5] END model__alpha=8.650000000000007;, score=-1897.719 total time=   0.1s\n[CV 4/5] END model__alpha=8.650000000000007;, score=-1247.798 total time=   0.1s\n[CV 5/5] END model__alpha=8.650000000000007;, score=-1224.522 total time=   0.0s\n[CV 1/5] END model__alpha=8.660000000000007;, score=-1281.474 total time=   0.0s\n[CV 2/5] END model__alpha=8.660000000000007;, score=-1631.387 total time=   0.1s\n[CV 3/5] END model__alpha=8.660000000000007;, score=-1897.967 total time=   0.1s\n[CV 4/5] END model__alpha=8.660000000000007;, score=-1247.981 total time=   0.1s\n[CV 5/5] END model__alpha=8.660000000000007;, score=-1224.746 total time=   0.1s\n[CV 1/5] END model__alpha=8.670000000000007;, score=-1281.585 total time=   0.1s\n[CV 2/5] END model__alpha=8.670000000000007;, score=-1631.657 total time=   0.1s\n[CV 3/5] END model__alpha=8.670000000000007;, score=-1898.214 total time=   0.1s\n[CV 4/5] END model__alpha=8.670000000000007;, score=-1248.165 total time=   0.1s\n[CV 5/5] END model__alpha=8.670000000000007;, score=-1224.971 total time=   0.1s\n[CV 1/5] END model__alpha=8.680000000000007;, score=-1281.696 total time=   0.1s\n[CV 2/5] END model__alpha=8.680000000000007;, score=-1631.927 total time=   0.1s\n[CV 3/5] END model__alpha=8.680000000000007;, score=-1898.462 total time=   0.1s\n[CV 4/5] END model__alpha=8.680000000000007;, score=-1248.348 total time=   0.1s\n[CV 5/5] END model__alpha=8.680000000000007;, score=-1225.196 total time=   0.1s\n[CV 1/5] END model__alpha=8.690000000000007;, score=-1281.808 total time=   0.1s\n[CV 2/5] END model__alpha=8.690000000000007;, score=-1632.197 total time=   0.1s\n[CV 3/5] END model__alpha=8.690000000000007;, score=-1898.711 total time=   0.1s\n[CV 4/5] END model__alpha=8.690000000000007;, score=-1248.532 total time=   0.1s\n[CV 5/5] END model__alpha=8.690000000000007;, score=-1225.421 total time=   0.1s\n[CV 1/5] END model__alpha=8.700000000000006;, score=-1281.920 total time=   0.1s\n[CV 2/5] END model__alpha=8.700000000000006;, score=-1632.467 total time=   0.1s\n[CV 3/5] END model__alpha=8.700000000000006;, score=-1898.959 total time=   0.1s\n[CV 4/5] END model__alpha=8.700000000000006;, score=-1248.716 total time=   0.1s\n[CV 5/5] END model__alpha=8.700000000000006;, score=-1225.647 total time=   0.1s\n[CV 1/5] END model__alpha=8.710000000000008;, score=-1282.032 total time=   0.1s\n[CV 2/5] END model__alpha=8.710000000000008;, score=-1632.737 total time=   0.1s\n[CV 3/5] END model__alpha=8.710000000000008;, score=-1899.208 total time=   0.1s\n[CV 4/5] END model__alpha=8.710000000000008;, score=-1248.900 total time=   0.1s\n[CV 5/5] END model__alpha=8.710000000000008;, score=-1225.872 total time=   0.1s\n[CV 1/5] END model__alpha=8.720000000000008;, score=-1282.144 total time=   0.0s\n[CV 2/5] END model__alpha=8.720000000000008;, score=-1633.008 total time=   0.0s\n[CV 3/5] END model__alpha=8.720000000000008;, score=-1899.457 total time=   0.0s\n[CV 4/5] END model__alpha=8.720000000000008;, score=-1249.085 total time=   0.0s\n[CV 5/5] END model__alpha=8.720000000000008;, score=-1226.099 total time=   0.0s\n[CV 1/5] END model__alpha=8.730000000000008;, score=-1282.257 total time=   0.0s\n[CV 2/5] END model__alpha=8.730000000000008;, score=-1633.279 total time=   0.0s\n[CV 3/5] END model__alpha=8.730000000000008;, score=-1899.706 total time=   0.0s\n[CV 4/5] END model__alpha=8.730000000000008;, score=-1249.270 total time=   0.1s\n[CV 5/5] END model__alpha=8.730000000000008;, score=-1226.325 total time=   0.0s\n[CV 1/5] END model__alpha=8.740000000000007;, score=-1282.369 total time=   0.1s\n[CV 2/5] END model__alpha=8.740000000000007;, score=-1633.551 total time=   0.1s\n[CV 3/5] END model__alpha=8.740000000000007;, score=-1899.955 total time=   0.1s\n[CV 4/5] END model__alpha=8.740000000000007;, score=-1249.455 total time=   0.1s\n[CV 5/5] END model__alpha=8.740000000000007;, score=-1226.551 total time=   0.0s\n[CV 1/5] END model__alpha=8.750000000000007;, score=-1282.482 total time=   0.0s\n[CV 2/5] END model__alpha=8.750000000000007;, score=-1633.822 total time=   0.1s\n[CV 3/5] END model__alpha=8.750000000000007;, score=-1900.205 total time=   0.1s\n[CV 4/5] END model__alpha=8.750000000000007;, score=-1249.640 total time=   0.1s\n[CV 5/5] END model__alpha=8.750000000000007;, score=-1226.778 total time=   0.1s\n[CV 1/5] END model__alpha=8.760000000000007;, score=-1282.596 total time=   0.1s\n[CV 2/5] END model__alpha=8.760000000000007;, score=-1634.094 total time=   0.1s\n[CV 3/5] END model__alpha=8.760000000000007;, score=-1900.455 total time=   0.1s\n[CV 4/5] END model__alpha=8.760000000000007;, score=-1249.826 total time=   0.0s\n[CV 5/5] END model__alpha=8.760000000000007;, score=-1227.005 total time=   0.1s\n[CV 1/5] END model__alpha=8.770000000000007;, score=-1282.709 total time=   0.0s\n[CV 2/5] END model__alpha=8.770000000000007;, score=-1634.366 total time=   0.1s\n[CV 3/5] END model__alpha=8.770000000000007;, score=-1900.705 total time=   0.1s\n[CV 4/5] END model__alpha=8.770000000000007;, score=-1250.012 total time=   0.1s\n[CV 5/5] END model__alpha=8.770000000000007;, score=-1227.233 total time=   0.1s\n[CV 1/5] END model__alpha=8.780000000000008;, score=-1282.826 total time=   0.1s\n[CV 2/5] END model__alpha=8.780000000000008;, score=-1634.638 total time=   0.0s\n[CV 3/5] END model__alpha=8.780000000000008;, score=-1900.956 total time=   0.1s\n[CV 4/5] END model__alpha=8.780000000000008;, score=-1250.198 total time=   0.1s\n[CV 5/5] END model__alpha=8.780000000000008;, score=-1227.460 total time=   0.1s\n[CV 1/5] END model__alpha=8.790000000000008;, score=-1282.940 total time=   0.1s\n[CV 2/5] END model__alpha=8.790000000000008;, score=-1634.911 total time=   0.0s\n[CV 3/5] END model__alpha=8.790000000000008;, score=-1901.206 total time=   0.1s\n[CV 4/5] END model__alpha=8.790000000000008;, score=-1250.384 total time=   0.1s\n[CV 5/5] END model__alpha=8.790000000000008;, score=-1227.688 total time=   0.1s\n[CV 1/5] END model__alpha=8.800000000000008;, score=-1283.054 total time=   0.1s\n[CV 2/5] END model__alpha=8.800000000000008;, score=-1635.189 total time=   0.1s\n[CV 3/5] END model__alpha=8.800000000000008;, score=-1901.457 total time=   0.1s\n[CV 4/5] END model__alpha=8.800000000000008;, score=-1250.571 total time=   0.0s\n[CV 5/5] END model__alpha=8.800000000000008;, score=-1227.916 total time=   0.1s\n[CV 1/5] END model__alpha=8.810000000000008;, score=-1283.168 total time=   0.1s\n[CV 2/5] END model__alpha=8.810000000000008;, score=-1635.462 total time=   0.0s\n[CV 3/5] END model__alpha=8.810000000000008;, score=-1901.708 total time=   0.1s\n[CV 4/5] END model__alpha=8.810000000000008;, score=-1250.757 total time=   0.1s\n[CV 5/5] END model__alpha=8.810000000000008;, score=-1228.145 total time=   0.1s\n[CV 1/5] END model__alpha=8.820000000000007;, score=-1283.283 total time=   0.1s\n[CV 2/5] END model__alpha=8.820000000000007;, score=-1635.735 total time=   0.1s\n[CV 3/5] END model__alpha=8.820000000000007;, score=-1901.960 total time=   0.1s\n[CV 4/5] END model__alpha=8.820000000000007;, score=-1250.945 total time=   0.1s\n[CV 5/5] END model__alpha=8.820000000000007;, score=-1228.374 total time=   0.1s\n[CV 1/5] END model__alpha=8.830000000000007;, score=-1283.397 total time=   0.1s\n[CV 2/5] END model__alpha=8.830000000000007;, score=-1636.008 total time=   0.1s\n[CV 3/5] END model__alpha=8.830000000000007;, score=-1902.213 total time=   0.1s\n[CV 4/5] END model__alpha=8.830000000000007;, score=-1251.132 total time=   0.1s\n[CV 5/5] END model__alpha=8.830000000000007;, score=-1228.603 total time=   0.1s\n[CV 1/5] END model__alpha=8.840000000000007;, score=-1283.512 total time=   0.0s\n[CV 2/5] END model__alpha=8.840000000000007;, score=-1636.282 total time=   0.0s\n[CV 3/5] END model__alpha=8.840000000000007;, score=-1902.465 total time=   0.1s\n[CV 4/5] END model__alpha=8.840000000000007;, score=-1251.319 total time=   0.1s\n[CV 5/5] END model__alpha=8.840000000000007;, score=-1228.832 total time=   0.1s\n[CV 1/5] END model__alpha=8.850000000000007;, score=-1283.627 total time=   0.1s\n[CV 2/5] END model__alpha=8.850000000000007;, score=-1636.555 total time=   0.1s\n[CV 3/5] END model__alpha=8.850000000000007;, score=-1902.717 total time=   0.1s\n[CV 4/5] END model__alpha=8.850000000000007;, score=-1251.507 total time=   0.1s\n[CV 5/5] END model__alpha=8.850000000000007;, score=-1229.061 total time=   0.0s\n[CV 1/5] END model__alpha=8.860000000000007;, score=-1283.743 total time=   0.1s\n[CV 2/5] END model__alpha=8.860000000000007;, score=-1636.830 total time=   0.1s\n[CV 3/5] END model__alpha=8.860000000000007;, score=-1902.969 total time=   0.1s\n[CV 4/5] END model__alpha=8.860000000000007;, score=-1251.695 total time=   0.1s\n[CV 5/5] END model__alpha=8.860000000000007;, score=-1229.291 total time=   0.1s\n[CV 1/5] END model__alpha=8.870000000000008;, score=-1283.858 total time=   0.1s\n[CV 2/5] END model__alpha=8.870000000000008;, score=-1637.104 total time=   0.1s\n[CV 3/5] END model__alpha=8.870000000000008;, score=-1903.222 total time=   0.1s\n[CV 4/5] END model__alpha=8.870000000000008;, score=-1251.884 total time=   0.1s\n[CV 5/5] END model__alpha=8.870000000000008;, score=-1229.521 total time=   0.0s\n[CV 1/5] END model__alpha=8.880000000000008;, score=-1283.974 total time=   0.0s\n[CV 2/5] END model__alpha=8.880000000000008;, score=-1637.378 total time=   0.1s\n[CV 3/5] END model__alpha=8.880000000000008;, score=-1903.475 total time=   0.0s\n[CV 4/5] END model__alpha=8.880000000000008;, score=-1252.072 total time=   0.0s\n[CV 5/5] END model__alpha=8.880000000000008;, score=-1229.751 total time=   0.0s\n[CV 1/5] END model__alpha=8.890000000000008;, score=-1284.090 total time=   0.0s\n[CV 2/5] END model__alpha=8.890000000000008;, score=-1637.653 total time=   0.0s\n[CV 3/5] END model__alpha=8.890000000000008;, score=-1903.728 total time=   0.1s\n[CV 4/5] END model__alpha=8.890000000000008;, score=-1252.261 total time=   0.1s\n[CV 5/5] END model__alpha=8.890000000000008;, score=-1229.982 total time=   0.0s\n[CV 1/5] END model__alpha=8.900000000000007;, score=-1284.206 total time=   0.1s\n[CV 2/5] END model__alpha=8.900000000000007;, score=-1637.928 total time=   0.1s\n[CV 3/5] END model__alpha=8.900000000000007;, score=-1903.981 total time=   0.1s\n[CV 4/5] END model__alpha=8.900000000000007;, score=-1252.450 total time=   0.0s\n[CV 5/5] END model__alpha=8.900000000000007;, score=-1230.213 total time=   0.1s\n[CV 1/5] END model__alpha=8.910000000000007;, score=-1284.323 total time=   0.1s\n[CV 2/5] END model__alpha=8.910000000000007;, score=-1638.204 total time=   0.0s\n[CV 3/5] END model__alpha=8.910000000000007;, score=-1904.236 total time=   0.1s\n[CV 4/5] END model__alpha=8.910000000000007;, score=-1252.639 total time=   0.1s\n[CV 5/5] END model__alpha=8.910000000000007;, score=-1230.444 total time=   0.1s\n[CV 1/5] END model__alpha=8.920000000000007;, score=-1284.440 total time=   0.0s\n[CV 2/5] END model__alpha=8.920000000000007;, score=-1638.479 total time=   0.1s\n[CV 3/5] END model__alpha=8.920000000000007;, score=-1904.490 total time=   0.1s\n[CV 4/5] END model__alpha=8.920000000000007;, score=-1252.829 total time=   0.1s\n[CV 5/5] END model__alpha=8.920000000000007;, score=-1230.675 total time=   0.1s\n[CV 1/5] END model__alpha=8.930000000000007;, score=-1284.560 total time=   0.1s\n[CV 2/5] END model__alpha=8.930000000000007;, score=-1638.755 total time=   0.1s\n[CV 3/5] END model__alpha=8.930000000000007;, score=-1904.744 total time=   0.1s\n[CV 4/5] END model__alpha=8.930000000000007;, score=-1253.019 total time=   0.1s\n[CV 5/5] END model__alpha=8.930000000000007;, score=-1230.907 total time=   0.1s\n[CV 1/5] END model__alpha=8.940000000000008;, score=-1284.677 total time=   0.1s\n[CV 2/5] END model__alpha=8.940000000000008;, score=-1639.031 total time=   0.1s\n[CV 3/5] END model__alpha=8.940000000000008;, score=-1904.999 total time=   0.1s\n[CV 4/5] END model__alpha=8.940000000000008;, score=-1253.209 total time=   0.1s\n[CV 5/5] END model__alpha=8.940000000000008;, score=-1231.139 total time=   0.1s\n[CV 1/5] END model__alpha=8.950000000000008;, score=-1284.794 total time=   0.1s\n[CV 2/5] END model__alpha=8.950000000000008;, score=-1639.307 total time=   0.1s\n[CV 3/5] END model__alpha=8.950000000000008;, score=-1905.253 total time=   0.1s\n[CV 4/5] END model__alpha=8.950000000000008;, score=-1253.399 total time=   0.1s\n[CV 5/5] END model__alpha=8.950000000000008;, score=-1231.371 total time=   0.1s\n[CV 1/5] END model__alpha=8.960000000000008;, score=-1284.912 total time=   0.1s\n[CV 2/5] END model__alpha=8.960000000000008;, score=-1639.583 total time=   0.1s\n[CV 3/5] END model__alpha=8.960000000000008;, score=-1905.508 total time=   0.0s\n[CV 4/5] END model__alpha=8.960000000000008;, score=-1253.590 total time=   0.1s\n[CV 5/5] END model__alpha=8.960000000000008;, score=-1231.603 total time=   0.1s\n[CV 1/5] END model__alpha=8.970000000000008;, score=-1285.029 total time=   0.1s\n[CV 2/5] END model__alpha=8.970000000000008;, score=-1639.860 total time=   0.1s\n[CV 3/5] END model__alpha=8.970000000000008;, score=-1905.764 total time=   0.1s\n[CV 4/5] END model__alpha=8.970000000000008;, score=-1253.781 total time=   0.1s\n[CV 5/5] END model__alpha=8.970000000000008;, score=-1231.836 total time=   0.1s\n[CV 1/5] END model__alpha=8.980000000000008;, score=-1285.147 total time=   0.1s\n[CV 2/5] END model__alpha=8.980000000000008;, score=-1640.137 total time=   0.1s\n[CV 3/5] END model__alpha=8.980000000000008;, score=-1906.019 total time=   0.1s\n[CV 4/5] END model__alpha=8.980000000000008;, score=-1253.972 total time=   0.1s\n[CV 5/5] END model__alpha=8.980000000000008;, score=-1232.069 total time=   0.1s\n[CV 1/5] END model__alpha=8.990000000000007;, score=-1285.266 total time=   0.1s\n[CV 2/5] END model__alpha=8.990000000000007;, score=-1640.419 total time=   0.1s\n[CV 3/5] END model__alpha=8.990000000000007;, score=-1906.275 total time=   0.1s\n[CV 4/5] END model__alpha=8.990000000000007;, score=-1254.163 total time=   0.1s\n[CV 5/5] END model__alpha=8.990000000000007;, score=-1232.302 total time=   0.1s\n[CV 1/5] END model__alpha=9.000000000000007;, score=-1285.384 total time=   0.1s\n[CV 2/5] END model__alpha=9.000000000000007;, score=-1640.696 total time=   0.1s\n[CV 3/5] END model__alpha=9.000000000000007;, score=-1906.532 total time=   0.0s\n[CV 4/5] END model__alpha=9.000000000000007;, score=-1254.355 total time=   0.0s\n[CV 5/5] END model__alpha=9.000000000000007;, score=-1232.536 total time=   0.1s\n[CV 1/5] END model__alpha=9.010000000000007;, score=-1285.503 total time=   0.1s\n[CV 2/5] END model__alpha=9.010000000000007;, score=-1640.973 total time=   0.1s\n[CV 3/5] END model__alpha=9.010000000000007;, score=-1906.788 total time=   0.1s\n[CV 4/5] END model__alpha=9.010000000000007;, score=-1254.546 total time=   0.1s\n[CV 5/5] END model__alpha=9.010000000000007;, score=-1232.770 total time=   0.1s\n[CV 1/5] END model__alpha=9.020000000000007;, score=-1285.622 total time=   0.1s\n[CV 2/5] END model__alpha=9.020000000000007;, score=-1641.250 total time=   0.1s\n[CV 3/5] END model__alpha=9.020000000000007;, score=-1907.044 total time=   0.1s\n[CV 4/5] END model__alpha=9.020000000000007;, score=-1254.738 total time=   0.1s\n[CV 5/5] END model__alpha=9.020000000000007;, score=-1233.004 total time=   0.1s\n[CV 1/5] END model__alpha=9.030000000000008;, score=-1285.745 total time=   0.1s\n[CV 2/5] END model__alpha=9.030000000000008;, score=-1641.528 total time=   0.1s\n[CV 3/5] END model__alpha=9.030000000000008;, score=-1907.301 total time=   0.0s\n[CV 4/5] END model__alpha=9.030000000000008;, score=-1254.931 total time=   0.0s\n[CV 5/5] END model__alpha=9.030000000000008;, score=-1233.238 total time=   0.1s\n[CV 1/5] END model__alpha=9.040000000000008;, score=-1285.865 total time=   0.0s\n[CV 2/5] END model__alpha=9.040000000000008;, score=-1641.806 total time=   0.0s\n[CV 3/5] END model__alpha=9.040000000000008;, score=-1907.558 total time=   0.1s\n[CV 4/5] END model__alpha=9.040000000000008;, score=-1255.123 total time=   0.1s\n[CV 5/5] END model__alpha=9.040000000000008;, score=-1233.473 total time=   0.1s\n[CV 1/5] END model__alpha=9.050000000000008;, score=-1285.984 total time=   0.1s\n[CV 2/5] END model__alpha=9.050000000000008;, score=-1642.084 total time=   0.1s\n[CV 3/5] END model__alpha=9.050000000000008;, score=-1907.816 total time=   0.1s\n[CV 4/5] END model__alpha=9.050000000000008;, score=-1255.316 total time=   0.1s\n[CV 5/5] END model__alpha=9.050000000000008;, score=-1233.707 total time=   0.1s\n[CV 1/5] END model__alpha=9.060000000000008;, score=-1286.104 total time=   0.1s\n[CV 2/5] END model__alpha=9.060000000000008;, score=-1642.363 total time=   0.1s\n[CV 3/5] END model__alpha=9.060000000000008;, score=-1908.073 total time=   0.1s\n[CV 4/5] END model__alpha=9.060000000000008;, score=-1255.509 total time=   0.1s\n[CV 5/5] END model__alpha=9.060000000000008;, score=-1233.942 total time=   0.1s\n[CV 1/5] END model__alpha=9.070000000000007;, score=-1286.224 total time=   0.0s\n[CV 2/5] END model__alpha=9.070000000000007;, score=-1642.646 total time=   0.1s\n[CV 3/5] END model__alpha=9.070000000000007;, score=-1908.331 total time=   0.0s\n[CV 4/5] END model__alpha=9.070000000000007;, score=-1255.702 total time=   0.0s\n[CV 5/5] END model__alpha=9.070000000000007;, score=-1234.178 total time=   0.1s\n[CV 1/5] END model__alpha=9.080000000000007;, score=-1286.344 total time=   0.1s\n[CV 2/5] END model__alpha=9.080000000000007;, score=-1642.924 total time=   0.1s\n[CV 3/5] END model__alpha=9.080000000000007;, score=-1908.588 total time=   0.1s\n[CV 4/5] END model__alpha=9.080000000000007;, score=-1255.896 total time=   0.1s\n[CV 5/5] END model__alpha=9.080000000000007;, score=-1234.413 total time=   0.1s\n[CV 1/5] END model__alpha=9.090000000000007;, score=-1286.465 total time=   0.1s\n[CV 2/5] END model__alpha=9.090000000000007;, score=-1643.202 total time=   0.1s\n[CV 3/5] END model__alpha=9.090000000000007;, score=-1908.844 total time=   0.0s\n[CV 4/5] END model__alpha=9.090000000000007;, score=-1256.090 total time=   0.1s\n[CV 5/5] END model__alpha=9.090000000000007;, score=-1234.649 total time=   0.1s\n[CV 1/5] END model__alpha=9.100000000000009;, score=-1286.585 total time=   0.1s\n[CV 2/5] END model__alpha=9.100000000000009;, score=-1643.482 total time=   0.1s\n[CV 3/5] END model__alpha=9.100000000000009;, score=-1909.103 total time=   0.1s\n[CV 4/5] END model__alpha=9.100000000000009;, score=-1256.284 total time=   0.1s\n[CV 5/5] END model__alpha=9.100000000000009;, score=-1234.886 total time=   0.1s\n[CV 1/5] END model__alpha=9.110000000000008;, score=-1286.706 total time=   0.1s\n[CV 2/5] END model__alpha=9.110000000000008;, score=-1643.762 total time=   0.1s\n[CV 3/5] END model__alpha=9.110000000000008;, score=-1909.361 total time=   0.1s\n[CV 4/5] END model__alpha=9.110000000000008;, score=-1256.478 total time=   0.1s\n[CV 5/5] END model__alpha=9.110000000000008;, score=-1235.122 total time=   0.1s\n[CV 1/5] END model__alpha=9.120000000000008;, score=-1286.831 total time=   0.1s\n[CV 2/5] END model__alpha=9.120000000000008;, score=-1644.046 total time=   0.1s\n[CV 3/5] END model__alpha=9.120000000000008;, score=-1909.621 total time=   0.0s\n[CV 4/5] END model__alpha=9.120000000000008;, score=-1256.673 total time=   0.1s\n[CV 5/5] END model__alpha=9.120000000000008;, score=-1235.359 total time=   0.0s\n[CV 1/5] END model__alpha=9.130000000000008;, score=-1286.952 total time=   0.1s\n[CV 2/5] END model__alpha=9.130000000000008;, score=-1644.326 total time=   0.1s\n[CV 3/5] END model__alpha=9.130000000000008;, score=-1909.880 total time=   0.1s\n[CV 4/5] END model__alpha=9.130000000000008;, score=-1256.868 total time=   0.1s\n[CV 5/5] END model__alpha=9.130000000000008;, score=-1235.596 total time=   0.1s\n[CV 1/5] END model__alpha=9.140000000000008;, score=-1287.073 total time=   0.0s\n[CV 2/5] END model__alpha=9.140000000000008;, score=-1644.606 total time=   0.1s\n[CV 3/5] END model__alpha=9.140000000000008;, score=-1910.140 total time=   0.1s\n[CV 4/5] END model__alpha=9.140000000000008;, score=-1257.063 total time=   0.0s\n[CV 5/5] END model__alpha=9.140000000000008;, score=-1235.833 total time=   0.1s\n[CV 1/5] END model__alpha=9.150000000000007;, score=-1287.195 total time=   0.1s\n[CV 2/5] END model__alpha=9.150000000000007;, score=-1644.886 total time=   0.1s\n[CV 3/5] END model__alpha=9.150000000000007;, score=-1910.399 total time=   0.1s\n[CV 4/5] END model__alpha=9.150000000000007;, score=-1257.258 total time=   0.0s\n[CV 5/5] END model__alpha=9.150000000000007;, score=-1236.070 total time=   0.0s\n[CV 1/5] END model__alpha=9.160000000000007;, score=-1287.320 total time=   0.1s\n[CV 2/5] END model__alpha=9.160000000000007;, score=-1645.171 total time=   0.1s\n[CV 3/5] END model__alpha=9.160000000000007;, score=-1910.659 total time=   0.1s\n[CV 4/5] END model__alpha=9.160000000000007;, score=-1257.456 total time=   0.0s\n[CV 5/5] END model__alpha=9.160000000000007;, score=-1236.308 total time=   0.1s\n[CV 1/5] END model__alpha=9.170000000000007;, score=-1287.441 total time=   0.0s\n[CV 2/5] END model__alpha=9.170000000000007;, score=-1645.451 total time=   0.0s\n[CV 3/5] END model__alpha=9.170000000000007;, score=-1910.921 total time=   0.1s\n[CV 4/5] END model__alpha=9.170000000000007;, score=-1257.652 total time=   0.0s\n[CV 5/5] END model__alpha=9.170000000000007;, score=-1236.546 total time=   0.0s\n[CV 1/5] END model__alpha=9.180000000000007;, score=-1287.565 total time=   0.0s\n[CV 2/5] END model__alpha=9.180000000000007;, score=-1645.730 total time=   0.1s\n[CV 3/5] END model__alpha=9.180000000000007;, score=-1911.181 total time=   0.1s\n[CV 4/5] END model__alpha=9.180000000000007;, score=-1257.848 total time=   0.0s\n[CV 5/5] END model__alpha=9.180000000000007;, score=-1236.784 total time=   0.1s\n[CV 1/5] END model__alpha=9.190000000000008;, score=-1287.684 total time=   0.0s\n[CV 2/5] END model__alpha=9.190000000000008;, score=-1646.012 total time=   0.1s\n[CV 3/5] END model__alpha=9.190000000000008;, score=-1911.442 total time=   0.0s\n[CV 4/5] END model__alpha=9.190000000000008;, score=-1258.044 total time=   0.1s\n[CV 5/5] END model__alpha=9.190000000000008;, score=-1237.023 total time=   0.1s\n[CV 1/5] END model__alpha=9.200000000000008;, score=-1287.802 total time=   0.1s\n[CV 2/5] END model__alpha=9.200000000000008;, score=-1646.289 total time=   0.1s\n[CV 3/5] END model__alpha=9.200000000000008;, score=-1911.703 total time=   0.1s\n[CV 4/5] END model__alpha=9.200000000000008;, score=-1258.241 total time=   0.1s\n[CV 5/5] END model__alpha=9.200000000000008;, score=-1237.262 total time=   0.0s\n[CV 1/5] END model__alpha=9.210000000000008;, score=-1287.926 total time=   0.1s\n[CV 2/5] END model__alpha=9.210000000000008;, score=-1646.566 total time=   0.1s\n[CV 3/5] END model__alpha=9.210000000000008;, score=-1911.964 total time=   0.1s\n[CV 4/5] END model__alpha=9.210000000000008;, score=-1258.438 total time=   0.1s\n[CV 5/5] END model__alpha=9.210000000000008;, score=-1237.501 total time=   0.1s\n[CV 1/5] END model__alpha=9.220000000000008;, score=-1288.048 total time=   0.0s\n[CV 2/5] END model__alpha=9.220000000000008;, score=-1646.851 total time=   0.1s\n[CV 3/5] END model__alpha=9.220000000000008;, score=-1912.226 total time=   0.1s\n[CV 4/5] END model__alpha=9.220000000000008;, score=-1258.635 total time=   0.1s\n[CV 5/5] END model__alpha=9.220000000000008;, score=-1237.740 total time=   0.0s\n[CV 1/5] END model__alpha=9.230000000000008;, score=-1288.174 total time=   0.0s\n[CV 2/5] END model__alpha=9.230000000000008;, score=-1647.131 total time=   0.0s\n[CV 3/5] END model__alpha=9.230000000000008;, score=-1912.487 total time=   0.0s\n[CV 4/5] END model__alpha=9.230000000000008;, score=-1258.832 total time=   0.0s\n[CV 5/5] END model__alpha=9.230000000000008;, score=-1237.980 total time=   0.1s\n[CV 1/5] END model__alpha=9.240000000000007;, score=-1288.297 total time=   0.1s\n[CV 2/5] END model__alpha=9.240000000000007;, score=-1647.418 total time=   0.1s\n[CV 3/5] END model__alpha=9.240000000000007;, score=-1912.750 total time=   0.1s\n[CV 4/5] END model__alpha=9.240000000000007;, score=-1259.029 total time=   0.1s\n[CV 5/5] END model__alpha=9.240000000000007;, score=-1238.220 total time=   0.1s\n[CV 1/5] END model__alpha=9.250000000000007;, score=-1288.421 total time=   0.1s\n[CV 2/5] END model__alpha=9.250000000000007;, score=-1647.701 total time=   0.1s\n[CV 3/5] END model__alpha=9.250000000000007;, score=-1913.012 total time=   0.1s\n[CV 4/5] END model__alpha=9.250000000000007;, score=-1259.227 total time=   0.1s\n[CV 5/5] END model__alpha=9.250000000000007;, score=-1238.460 total time=   0.1s\n[CV 1/5] END model__alpha=9.260000000000009;, score=-1288.545 total time=   0.1s\n[CV 2/5] END model__alpha=9.260000000000009;, score=-1647.983 total time=   0.0s\n[CV 3/5] END model__alpha=9.260000000000009;, score=-1913.274 total time=   0.1s\n[CV 4/5] END model__alpha=9.260000000000009;, score=-1259.425 total time=   0.0s\n[CV 5/5] END model__alpha=9.260000000000009;, score=-1238.700 total time=   0.0s\n[CV 1/5] END model__alpha=9.270000000000008;, score=-1288.673 total time=   0.0s\n[CV 2/5] END model__alpha=9.270000000000008;, score=-1648.266 total time=   0.0s\n[CV 3/5] END model__alpha=9.270000000000008;, score=-1913.537 total time=   0.1s\n[CV 4/5] END model__alpha=9.270000000000008;, score=-1259.624 total time=   0.1s\n[CV 5/5] END model__alpha=9.270000000000008;, score=-1238.941 total time=   0.0s\n[CV 1/5] END model__alpha=9.280000000000008;, score=-1288.797 total time=   0.1s\n[CV 2/5] END model__alpha=9.280000000000008;, score=-1648.554 total time=   0.0s\n[CV 3/5] END model__alpha=9.280000000000008;, score=-1913.802 total time=   0.1s\n[CV 4/5] END model__alpha=9.280000000000008;, score=-1259.822 total time=   0.1s\n[CV 5/5] END model__alpha=9.280000000000008;, score=-1239.182 total time=   0.1s\n[CV 1/5] END model__alpha=9.290000000000008;, score=-1288.922 total time=   0.1s\n[CV 2/5] END model__alpha=9.290000000000008;, score=-1648.838 total time=   0.0s\n[CV 3/5] END model__alpha=9.290000000000008;, score=-1914.065 total time=   0.1s\n[CV 4/5] END model__alpha=9.290000000000008;, score=-1260.021 total time=   0.1s\n[CV 5/5] END model__alpha=9.290000000000008;, score=-1239.423 total time=   0.1s\n[CV 1/5] END model__alpha=9.300000000000008;, score=-1289.048 total time=   0.1s\n[CV 2/5] END model__alpha=9.300000000000008;, score=-1649.123 total time=   0.0s\n[CV 3/5] END model__alpha=9.300000000000008;, score=-1914.329 total time=   0.1s\n[CV 4/5] END model__alpha=9.300000000000008;, score=-1260.220 total time=   0.1s\n[CV 5/5] END model__alpha=9.300000000000008;, score=-1239.665 total time=   0.1s\n[CV 1/5] END model__alpha=9.310000000000008;, score=-1289.173 total time=   0.1s\n[CV 2/5] END model__alpha=9.310000000000008;, score=-1649.407 total time=   0.1s\n[CV 3/5] END model__alpha=9.310000000000008;, score=-1914.592 total time=   0.1s\n[CV 4/5] END model__alpha=9.310000000000008;, score=-1260.419 total time=   0.1s\n[CV 5/5] END model__alpha=9.310000000000008;, score=-1239.906 total time=   0.1s\n[CV 1/5] END model__alpha=9.320000000000007;, score=-1289.299 total time=   0.1s\n[CV 2/5] END model__alpha=9.320000000000007;, score=-1649.692 total time=   0.1s\n[CV 3/5] END model__alpha=9.320000000000007;, score=-1914.857 total time=   0.1s\n[CV 4/5] END model__alpha=9.320000000000007;, score=-1260.619 total time=   0.1s\n[CV 5/5] END model__alpha=9.320000000000007;, score=-1240.148 total time=   0.1s\n[CV 1/5] END model__alpha=9.330000000000007;, score=-1289.425 total time=   0.1s\n[CV 2/5] END model__alpha=9.330000000000007;, score=-1649.977 total time=   0.1s\n[CV 3/5] END model__alpha=9.330000000000007;, score=-1915.121 total time=   0.1s\n[CV 4/5] END model__alpha=9.330000000000007;, score=-1260.819 total time=   0.1s\n[CV 5/5] END model__alpha=9.330000000000007;, score=-1240.391 total time=   0.1s\n[CV 1/5] END model__alpha=9.340000000000007;, score=-1289.551 total time=   0.1s\n[CV 2/5] END model__alpha=9.340000000000007;, score=-1650.262 total time=   0.1s\n[CV 3/5] END model__alpha=9.340000000000007;, score=-1915.386 total time=   0.1s\n[CV 4/5] END model__alpha=9.340000000000007;, score=-1261.019 total time=   0.1s\n[CV 5/5] END model__alpha=9.340000000000007;, score=-1240.633 total time=   0.1s\n[CV 1/5] END model__alpha=9.350000000000009;, score=-1289.678 total time=   0.1s\n[CV 2/5] END model__alpha=9.350000000000009;, score=-1650.548 total time=   0.1s\n[CV 3/5] END model__alpha=9.350000000000009;, score=-1915.651 total time=   0.1s\n[CV 4/5] END model__alpha=9.350000000000009;, score=-1261.219 total time=   0.1s\n[CV 5/5] END model__alpha=9.350000000000009;, score=-1240.876 total time=   0.1s\n[CV 1/5] END model__alpha=9.360000000000008;, score=-1289.808 total time=   0.1s\n[CV 2/5] END model__alpha=9.360000000000008;, score=-1650.833 total time=   0.1s\n[CV 3/5] END model__alpha=9.360000000000008;, score=-1915.916 total time=   0.1s\n[CV 4/5] END model__alpha=9.360000000000008;, score=-1261.419 total time=   0.1s\n[CV 5/5] END model__alpha=9.360000000000008;, score=-1241.119 total time=   0.1s\n[CV 1/5] END model__alpha=9.370000000000008;, score=-1289.935 total time=   0.1s\n[CV 2/5] END model__alpha=9.370000000000008;, score=-1651.119 total time=   0.1s\n[CV 3/5] END model__alpha=9.370000000000008;, score=-1916.181 total time=   0.1s\n[CV 4/5] END model__alpha=9.370000000000008;, score=-1261.620 total time=   0.1s\n[CV 5/5] END model__alpha=9.370000000000008;, score=-1241.363 total time=   0.1s\n[CV 1/5] END model__alpha=9.380000000000008;, score=-1290.063 total time=   0.1s\n[CV 2/5] END model__alpha=9.380000000000008;, score=-1651.406 total time=   0.1s\n[CV 3/5] END model__alpha=9.380000000000008;, score=-1916.447 total time=   0.1s\n[CV 4/5] END model__alpha=9.380000000000008;, score=-1261.821 total time=   0.1s\n[CV 5/5] END model__alpha=9.380000000000008;, score=-1241.606 total time=   0.1s\n[CV 1/5] END model__alpha=9.390000000000008;, score=-1290.190 total time=   0.1s\n[CV 2/5] END model__alpha=9.390000000000008;, score=-1651.697 total time=   0.1s\n[CV 3/5] END model__alpha=9.390000000000008;, score=-1916.713 total time=   0.1s\n[CV 4/5] END model__alpha=9.390000000000008;, score=-1262.023 total time=   0.1s\n[CV 5/5] END model__alpha=9.390000000000008;, score=-1241.850 total time=   0.1s\n[CV 1/5] END model__alpha=9.400000000000007;, score=-1290.318 total time=   0.1s\n[CV 2/5] END model__alpha=9.400000000000007;, score=-1651.984 total time=   0.1s\n[CV 3/5] END model__alpha=9.400000000000007;, score=-1916.979 total time=   0.1s\n[CV 4/5] END model__alpha=9.400000000000007;, score=-1262.224 total time=   0.1s\n[CV 5/5] END model__alpha=9.400000000000007;, score=-1242.094 total time=   0.1s\n[CV 1/5] END model__alpha=9.410000000000007;, score=-1290.446 total time=   0.1s\n[CV 2/5] END model__alpha=9.410000000000007;, score=-1652.271 total time=   0.0s\n[CV 3/5] END model__alpha=9.410000000000007;, score=-1917.245 total time=   0.0s\n[CV 4/5] END model__alpha=9.410000000000007;, score=-1262.426 total time=   0.1s\n[CV 5/5] END model__alpha=9.410000000000007;, score=-1242.339 total time=   0.1s\n[CV 1/5] END model__alpha=9.420000000000009;, score=-1290.575 total time=   0.1s\n[CV 2/5] END model__alpha=9.420000000000009;, score=-1652.559 total time=   0.1s\n[CV 3/5] END model__alpha=9.420000000000009;, score=-1917.512 total time=   0.1s\n[CV 4/5] END model__alpha=9.420000000000009;, score=-1262.628 total time=   0.1s\n[CV 5/5] END model__alpha=9.420000000000009;, score=-1242.583 total time=   0.1s\n[CV 1/5] END model__alpha=9.430000000000009;, score=-1290.703 total time=   0.1s\n[CV 2/5] END model__alpha=9.430000000000009;, score=-1652.846 total time=   0.1s\n[CV 3/5] END model__alpha=9.430000000000009;, score=-1917.779 total time=   0.1s\n[CV 4/5] END model__alpha=9.430000000000009;, score=-1262.830 total time=   0.1s\n[CV 5/5] END model__alpha=9.430000000000009;, score=-1242.828 total time=   0.1s\n[CV 1/5] END model__alpha=9.440000000000008;, score=-1290.832 total time=   0.1s\n[CV 2/5] END model__alpha=9.440000000000008;, score=-1653.134 total time=   0.1s\n[CV 3/5] END model__alpha=9.440000000000008;, score=-1918.046 total time=   0.1s\n[CV 4/5] END model__alpha=9.440000000000008;, score=-1263.033 total time=   0.1s\n[CV 5/5] END model__alpha=9.440000000000008;, score=-1243.074 total time=   0.1s\n[CV 1/5] END model__alpha=9.450000000000008;, score=-1290.961 total time=   0.1s\n[CV 2/5] END model__alpha=9.450000000000008;, score=-1653.422 total time=   0.1s\n[CV 3/5] END model__alpha=9.450000000000008;, score=-1918.314 total time=   0.1s\n[CV 4/5] END model__alpha=9.450000000000008;, score=-1263.235 total time=   0.1s\n[CV 5/5] END model__alpha=9.450000000000008;, score=-1243.319 total time=   0.1s\n[CV 1/5] END model__alpha=9.460000000000008;, score=-1291.091 total time=   0.0s\n[CV 2/5] END model__alpha=9.460000000000008;, score=-1653.711 total time=   0.1s\n[CV 3/5] END model__alpha=9.460000000000008;, score=-1918.581 total time=   0.1s\n[CV 4/5] END model__alpha=9.460000000000008;, score=-1263.438 total time=   0.1s\n[CV 5/5] END model__alpha=9.460000000000008;, score=-1243.565 total time=   0.1s\n[CV 1/5] END model__alpha=9.470000000000008;, score=-1291.220 total time=   0.1s\n[CV 2/5] END model__alpha=9.470000000000008;, score=-1653.999 total time=   0.1s\n[CV 3/5] END model__alpha=9.470000000000008;, score=-1918.849 total time=   0.1s\n[CV 4/5] END model__alpha=9.470000000000008;, score=-1263.642 total time=   0.1s\n[CV 5/5] END model__alpha=9.470000000000008;, score=-1243.811 total time=   0.1s\n[CV 1/5] END model__alpha=9.480000000000008;, score=-1291.350 total time=   0.1s\n[CV 2/5] END model__alpha=9.480000000000008;, score=-1654.288 total time=   0.1s\n[CV 3/5] END model__alpha=9.480000000000008;, score=-1919.118 total time=   0.1s\n[CV 4/5] END model__alpha=9.480000000000008;, score=-1263.845 total time=   0.1s\n[CV 5/5] END model__alpha=9.480000000000008;, score=-1244.056 total time=   0.1s\n[CV 1/5] END model__alpha=9.490000000000007;, score=-1291.480 total time=   0.1s\n[CV 2/5] END model__alpha=9.490000000000007;, score=-1654.577 total time=   0.1s\n[CV 3/5] END model__alpha=9.490000000000007;, score=-1919.386 total time=   0.1s\n[CV 4/5] END model__alpha=9.490000000000007;, score=-1264.049 total time=   0.1s\n[CV 5/5] END model__alpha=9.490000000000007;, score=-1244.299 total time=   0.1s\n[CV 1/5] END model__alpha=9.500000000000007;, score=-1291.610 total time=   0.1s\n[CV 2/5] END model__alpha=9.500000000000007;, score=-1654.866 total time=   0.1s\n[CV 3/5] END model__alpha=9.500000000000007;, score=-1919.655 total time=   0.1s\n[CV 4/5] END model__alpha=9.500000000000007;, score=-1264.253 total time=   0.1s\n[CV 5/5] END model__alpha=9.500000000000007;, score=-1244.541 total time=   0.1s\n[CV 1/5] END model__alpha=9.510000000000009;, score=-1291.741 total time=   0.1s\n[CV 2/5] END model__alpha=9.510000000000009;, score=-1655.156 total time=   0.1s\n[CV 3/5] END model__alpha=9.510000000000009;, score=-1919.924 total time=   0.1s\n[CV 4/5] END model__alpha=9.510000000000009;, score=-1264.457 total time=   0.1s\n[CV 5/5] END model__alpha=9.510000000000009;, score=-1244.781 total time=   0.1s\n[CV 1/5] END model__alpha=9.520000000000008;, score=-1291.872 total time=   0.1s\n[CV 2/5] END model__alpha=9.520000000000008;, score=-1655.446 total time=   0.1s\n[CV 3/5] END model__alpha=9.520000000000008;, score=-1920.193 total time=   0.1s\n[CV 4/5] END model__alpha=9.520000000000008;, score=-1264.662 total time=   0.1s\n[CV 5/5] END model__alpha=9.520000000000008;, score=-1245.020 total time=   0.1s\n[CV 1/5] END model__alpha=9.530000000000008;, score=-1292.003 total time=   0.1s\n[CV 2/5] END model__alpha=9.530000000000008;, score=-1655.736 total time=   0.0s\n[CV 3/5] END model__alpha=9.530000000000008;, score=-1920.462 total time=   0.0s\n[CV 4/5] END model__alpha=9.530000000000008;, score=-1264.867 total time=   0.0s\n[CV 5/5] END model__alpha=9.530000000000008;, score=-1245.260 total time=   0.1s\n[CV 1/5] END model__alpha=9.540000000000008;, score=-1292.134 total time=   0.1s\n[CV 2/5] END model__alpha=9.540000000000008;, score=-1656.026 total time=   0.1s\n[CV 3/5] END model__alpha=9.540000000000008;, score=-1920.732 total time=   0.0s\n[CV 4/5] END model__alpha=9.540000000000008;, score=-1265.072 total time=   0.1s\n[CV 5/5] END model__alpha=9.540000000000008;, score=-1245.501 total time=   0.1s\n[CV 1/5] END model__alpha=9.550000000000008;, score=-1292.265 total time=   0.1s\n[CV 2/5] END model__alpha=9.550000000000008;, score=-1656.317 total time=   0.0s\n[CV 3/5] END model__alpha=9.550000000000008;, score=-1921.002 total time=   0.0s\n[CV 4/5] END model__alpha=9.550000000000008;, score=-1265.277 total time=   0.0s\n[CV 5/5] END model__alpha=9.550000000000008;, score=-1245.742 total time=   0.1s\n[CV 1/5] END model__alpha=9.560000000000008;, score=-1292.397 total time=   0.1s\n[CV 2/5] END model__alpha=9.560000000000008;, score=-1656.607 total time=   0.1s\n[CV 3/5] END model__alpha=9.560000000000008;, score=-1921.272 total time=   0.1s\n[CV 4/5] END model__alpha=9.560000000000008;, score=-1265.483 total time=   0.1s\n[CV 5/5] END model__alpha=9.560000000000008;, score=-1245.982 total time=   0.1s\n[CV 1/5] END model__alpha=9.570000000000007;, score=-1292.529 total time=   0.1s\n[CV 2/5] END model__alpha=9.570000000000007;, score=-1656.899 total time=   0.1s\n[CV 3/5] END model__alpha=9.570000000000007;, score=-1921.543 total time=   0.0s\n[CV 4/5] END model__alpha=9.570000000000007;, score=-1265.688 total time=   0.0s\n[CV 5/5] END model__alpha=9.570000000000007;, score=-1246.224 total time=   0.1s\n[CV 1/5] END model__alpha=9.580000000000009;, score=-1292.661 total time=   0.1s\n[CV 2/5] END model__alpha=9.580000000000009;, score=-1657.190 total time=   0.1s\n[CV 3/5] END model__alpha=9.580000000000009;, score=-1921.813 total time=   0.1s\n[CV 4/5] END model__alpha=9.580000000000009;, score=-1265.894 total time=   0.1s\n[CV 5/5] END model__alpha=9.580000000000009;, score=-1246.465 total time=   0.1s\n[CV 1/5] END model__alpha=9.590000000000009;, score=-1292.793 total time=   0.1s\n[CV 2/5] END model__alpha=9.590000000000009;, score=-1657.482 total time=   0.0s\n[CV 3/5] END model__alpha=9.590000000000009;, score=-1922.084 total time=   0.0s\n[CV 4/5] END model__alpha=9.590000000000009;, score=-1266.101 total time=   0.1s\n[CV 5/5] END model__alpha=9.590000000000009;, score=-1246.707 total time=   0.1s\n[CV 1/5] END model__alpha=9.600000000000009;, score=-1292.926 total time=   0.0s\n[CV 2/5] END model__alpha=9.600000000000009;, score=-1657.773 total time=   0.1s\n[CV 3/5] END model__alpha=9.600000000000009;, score=-1922.356 total time=   0.1s\n[CV 4/5] END model__alpha=9.600000000000009;, score=-1266.307 total time=   0.1s\n[CV 5/5] END model__alpha=9.600000000000009;, score=-1246.949 total time=   0.1s\n[CV 1/5] END model__alpha=9.610000000000008;, score=-1293.059 total time=   0.1s\n[CV 2/5] END model__alpha=9.610000000000008;, score=-1658.066 total time=   0.1s\n[CV 3/5] END model__alpha=9.610000000000008;, score=-1922.627 total time=   0.1s\n[CV 4/5] END model__alpha=9.610000000000008;, score=-1266.514 total time=   0.1s\n[CV 5/5] END model__alpha=9.610000000000008;, score=-1247.194 total time=   0.1s\n[CV 1/5] END model__alpha=9.620000000000008;, score=-1293.192 total time=   0.1s\n[CV 2/5] END model__alpha=9.620000000000008;, score=-1658.358 total time=   0.1s\n[CV 3/5] END model__alpha=9.620000000000008;, score=-1922.899 total time=   0.1s\n[CV 4/5] END model__alpha=9.620000000000008;, score=-1266.721 total time=   0.1s\n[CV 5/5] END model__alpha=9.620000000000008;, score=-1247.436 total time=   0.1s\n[CV 1/5] END model__alpha=9.630000000000008;, score=-1293.325 total time=   0.1s\n[CV 2/5] END model__alpha=9.630000000000008;, score=-1658.650 total time=   0.0s\n[CV 3/5] END model__alpha=9.630000000000008;, score=-1923.171 total time=   0.0s\n[CV 4/5] END model__alpha=9.630000000000008;, score=-1266.928 total time=   0.0s\n[CV 5/5] END model__alpha=9.630000000000008;, score=-1247.679 total time=   0.1s\n[CV 1/5] END model__alpha=9.640000000000008;, score=-1293.458 total time=   0.1s\n[CV 2/5] END model__alpha=9.640000000000008;, score=-1658.943 total time=   0.1s\n[CV 3/5] END model__alpha=9.640000000000008;, score=-1923.443 total time=   0.1s\n[CV 4/5] END model__alpha=9.640000000000008;, score=-1267.136 total time=   0.1s\n[CV 5/5] END model__alpha=9.640000000000008;, score=-1247.922 total time=   0.1s\n[CV 1/5] END model__alpha=9.650000000000007;, score=-1293.592 total time=   0.1s\n[CV 2/5] END model__alpha=9.650000000000007;, score=-1659.236 total time=   0.1s\n[CV 3/5] END model__alpha=9.650000000000007;, score=-1923.715 total time=   0.1s\n[CV 4/5] END model__alpha=9.650000000000007;, score=-1267.344 total time=   0.1s\n[CV 5/5] END model__alpha=9.650000000000007;, score=-1248.165 total time=   0.1s\n[CV 1/5] END model__alpha=9.660000000000007;, score=-1293.726 total time=   0.1s\n[CV 2/5] END model__alpha=9.660000000000007;, score=-1659.529 total time=   0.0s\n[CV 3/5] END model__alpha=9.660000000000007;, score=-1923.988 total time=   0.1s\n[CV 4/5] END model__alpha=9.660000000000007;, score=-1267.552 total time=   0.0s\n[CV 5/5] END model__alpha=9.660000000000007;, score=-1248.408 total time=   0.1s\n[CV 1/5] END model__alpha=9.670000000000009;, score=-1293.860 total time=   0.1s\n[CV 2/5] END model__alpha=9.670000000000009;, score=-1659.823 total time=   0.1s\n[CV 3/5] END model__alpha=9.670000000000009;, score=-1924.261 total time=   0.1s\n[CV 4/5] END model__alpha=9.670000000000009;, score=-1267.760 total time=   0.1s\n[CV 5/5] END model__alpha=9.670000000000009;, score=-1248.652 total time=   0.1s\n[CV 1/5] END model__alpha=9.680000000000009;, score=-1293.995 total time=   0.1s\n[CV 2/5] END model__alpha=9.680000000000009;, score=-1660.117 total time=   0.1s\n[CV 3/5] END model__alpha=9.680000000000009;, score=-1924.534 total time=   0.1s\n[CV 4/5] END model__alpha=9.680000000000009;, score=-1267.968 total time=   0.1s\n[CV 5/5] END model__alpha=9.680000000000009;, score=-1248.896 total time=   0.1s\n[CV 1/5] END model__alpha=9.690000000000008;, score=-1294.129 total time=   0.1s\n[CV 2/5] END model__alpha=9.690000000000008;, score=-1660.411 total time=   0.0s\n[CV 3/5] END model__alpha=9.690000000000008;, score=-1924.808 total time=   0.0s\n[CV 4/5] END model__alpha=9.690000000000008;, score=-1268.177 total time=   0.0s\n[CV 5/5] END model__alpha=9.690000000000008;, score=-1249.140 total time=   0.1s\n[CV 1/5] END model__alpha=9.700000000000008;, score=-1294.264 total time=   0.1s\n[CV 2/5] END model__alpha=9.700000000000008;, score=-1660.705 total time=   0.1s\n[CV 3/5] END model__alpha=9.700000000000008;, score=-1925.082 total time=   0.1s\n[CV 4/5] END model__alpha=9.700000000000008;, score=-1268.386 total time=   0.0s\n[CV 5/5] END model__alpha=9.700000000000008;, score=-1249.387 total time=   0.0s\n[CV 1/5] END model__alpha=9.710000000000008;, score=-1294.399 total time=   0.1s\n[CV 2/5] END model__alpha=9.710000000000008;, score=-1660.999 total time=   0.1s\n[CV 3/5] END model__alpha=9.710000000000008;, score=-1925.356 total time=   0.1s\n[CV 4/5] END model__alpha=9.710000000000008;, score=-1268.595 total time=   0.1s\n[CV 5/5] END model__alpha=9.710000000000008;, score=-1249.631 total time=   0.1s\n[CV 1/5] END model__alpha=9.720000000000008;, score=-1294.534 total time=   0.1s\n[CV 2/5] END model__alpha=9.720000000000008;, score=-1661.294 total time=   0.1s\n[CV 3/5] END model__alpha=9.720000000000008;, score=-1925.630 total time=   0.1s\n[CV 4/5] END model__alpha=9.720000000000008;, score=-1268.805 total time=   0.1s\n[CV 5/5] END model__alpha=9.720000000000008;, score=-1249.876 total time=   0.1s\n[CV 1/5] END model__alpha=9.730000000000008;, score=-1294.670 total time=   0.1s\n[CV 2/5] END model__alpha=9.730000000000008;, score=-1661.589 total time=   0.1s\n[CV 3/5] END model__alpha=9.730000000000008;, score=-1925.904 total time=   0.1s\n[CV 4/5] END model__alpha=9.730000000000008;, score=-1269.015 total time=   0.1s\n[CV 5/5] END model__alpha=9.730000000000008;, score=-1250.120 total time=   0.1s\n[CV 1/5] END model__alpha=9.740000000000009;, score=-1294.806 total time=   0.1s\n[CV 2/5] END model__alpha=9.740000000000009;, score=-1661.884 total time=   0.1s\n[CV 3/5] END model__alpha=9.740000000000009;, score=-1926.179 total time=   0.1s\n[CV 4/5] END model__alpha=9.740000000000009;, score=-1269.225 total time=   0.1s\n[CV 5/5] END model__alpha=9.740000000000009;, score=-1250.376 total time=   0.1s\n[CV 1/5] END model__alpha=9.750000000000009;, score=-1294.942 total time=   0.1s\n[CV 2/5] END model__alpha=9.750000000000009;, score=-1662.179 total time=   0.1s\n[CV 3/5] END model__alpha=9.750000000000009;, score=-1926.454 total time=   0.1s\n[CV 4/5] END model__alpha=9.750000000000009;, score=-1269.435 total time=   0.1s\n[CV 5/5] END model__alpha=9.750000000000009;, score=-1250.632 total time=   0.1s\n[CV 1/5] END model__alpha=9.760000000000009;, score=-1295.078 total time=   0.1s\n[CV 2/5] END model__alpha=9.760000000000009;, score=-1662.475 total time=   0.0s\n[CV 3/5] END model__alpha=9.760000000000009;, score=-1926.730 total time=   0.1s\n[CV 4/5] END model__alpha=9.760000000000009;, score=-1269.645 total time=   0.1s\n[CV 5/5] END model__alpha=9.760000000000009;, score=-1250.887 total time=   0.1s\n[CV 1/5] END model__alpha=9.770000000000008;, score=-1295.214 total time=   0.1s\n[CV 2/5] END model__alpha=9.770000000000008;, score=-1662.771 total time=   0.1s\n[CV 3/5] END model__alpha=9.770000000000008;, score=-1927.005 total time=   0.1s\n[CV 4/5] END model__alpha=9.770000000000008;, score=-1269.856 total time=   0.1s\n[CV 5/5] END model__alpha=9.770000000000008;, score=-1251.142 total time=   0.1s\n[CV 1/5] END model__alpha=9.780000000000008;, score=-1295.351 total time=   0.1s\n[CV 2/5] END model__alpha=9.780000000000008;, score=-1663.067 total time=   0.1s\n[CV 3/5] END model__alpha=9.780000000000008;, score=-1927.281 total time=   0.1s\n[CV 4/5] END model__alpha=9.780000000000008;, score=-1270.067 total time=   0.1s\n[CV 5/5] END model__alpha=9.780000000000008;, score=-1251.397 total time=   0.1s\n[CV 1/5] END model__alpha=9.790000000000008;, score=-1295.488 total time=   0.1s\n[CV 2/5] END model__alpha=9.790000000000008;, score=-1663.363 total time=   0.1s\n[CV 3/5] END model__alpha=9.790000000000008;, score=-1927.557 total time=   0.1s\n[CV 4/5] END model__alpha=9.790000000000008;, score=-1270.279 total time=   0.0s\n[CV 5/5] END model__alpha=9.790000000000008;, score=-1251.653 total time=   0.0s\n[CV 1/5] END model__alpha=9.800000000000008;, score=-1295.625 total time=   0.0s\n[CV 2/5] END model__alpha=9.800000000000008;, score=-1663.660 total time=   0.1s\n[CV 3/5] END model__alpha=9.800000000000008;, score=-1927.833 total time=   0.1s\n[CV 4/5] END model__alpha=9.800000000000008;, score=-1270.490 total time=   0.1s\n[CV 5/5] END model__alpha=9.800000000000008;, score=-1251.908 total time=   0.1s\n[CV 1/5] END model__alpha=9.810000000000008;, score=-1295.763 total time=   0.1s\n[CV 2/5] END model__alpha=9.810000000000008;, score=-1663.956 total time=   0.0s\n[CV 3/5] END model__alpha=9.810000000000008;, score=-1928.110 total time=   0.0s\n[CV 4/5] END model__alpha=9.810000000000008;, score=-1270.702 total time=   0.0s\n[CV 5/5] END model__alpha=9.810000000000008;, score=-1252.164 total time=   0.0s\n[CV 1/5] END model__alpha=9.820000000000007;, score=-1295.900 total time=   0.0s\n[CV 2/5] END model__alpha=9.820000000000007;, score=-1664.253 total time=   0.0s\n[CV 3/5] END model__alpha=9.820000000000007;, score=-1928.386 total time=   0.0s\n[CV 4/5] END model__alpha=9.820000000000007;, score=-1270.914 total time=   0.0s\n[CV 5/5] END model__alpha=9.820000000000007;, score=-1252.421 total time=   0.0s\n[CV 1/5] END model__alpha=9.830000000000009;, score=-1296.038 total time=   0.0s\n[CV 2/5] END model__alpha=9.830000000000009;, score=-1664.556 total time=   0.1s\n[CV 3/5] END model__alpha=9.830000000000009;, score=-1928.664 total time=   0.1s\n[CV 4/5] END model__alpha=9.830000000000009;, score=-1271.126 total time=   0.0s\n[CV 5/5] END model__alpha=9.830000000000009;, score=-1252.677 total time=   0.0s\n[CV 1/5] END model__alpha=9.840000000000009;, score=-1296.176 total time=   0.0s\n[CV 2/5] END model__alpha=9.840000000000009;, score=-1664.853 total time=   0.0s\n[CV 3/5] END model__alpha=9.840000000000009;, score=-1928.941 total time=   0.1s\n[CV 4/5] END model__alpha=9.840000000000009;, score=-1271.339 total time=   0.1s\n[CV 5/5] END model__alpha=9.840000000000009;, score=-1252.934 total time=   0.1s\n[CV 1/5] END model__alpha=9.850000000000009;, score=-1296.314 total time=   0.1s\n[CV 2/5] END model__alpha=9.850000000000009;, score=-1665.151 total time=   0.1s\n[CV 3/5] END model__alpha=9.850000000000009;, score=-1929.218 total time=   0.0s\n[CV 4/5] END model__alpha=9.850000000000009;, score=-1271.551 total time=   0.0s\n[CV 5/5] END model__alpha=9.850000000000009;, score=-1253.191 total time=   0.0s\n[CV 1/5] END model__alpha=9.860000000000008;, score=-1296.453 total time=   0.1s\n[CV 2/5] END model__alpha=9.860000000000008;, score=-1665.449 total time=   0.1s\n[CV 3/5] END model__alpha=9.860000000000008;, score=-1929.496 total time=   0.1s\n[CV 4/5] END model__alpha=9.860000000000008;, score=-1271.764 total time=   0.1s\n[CV 5/5] END model__alpha=9.860000000000008;, score=-1253.448 total time=   0.1s\n[CV 1/5] END model__alpha=9.870000000000008;, score=-1296.592 total time=   0.0s\n[CV 2/5] END model__alpha=9.870000000000008;, score=-1665.747 total time=   0.0s\n[CV 3/5] END model__alpha=9.870000000000008;, score=-1929.774 total time=   0.0s\n[CV 4/5] END model__alpha=9.870000000000008;, score=-1271.978 total time=   0.1s\n[CV 5/5] END model__alpha=9.870000000000008;, score=-1253.706 total time=   0.1s\n[CV 1/5] END model__alpha=9.880000000000008;, score=-1296.731 total time=   0.1s\n[CV 2/5] END model__alpha=9.880000000000008;, score=-1666.046 total time=   0.1s\n[CV 3/5] END model__alpha=9.880000000000008;, score=-1930.053 total time=   0.1s\n[CV 4/5] END model__alpha=9.880000000000008;, score=-1272.191 total time=   0.1s\n[CV 5/5] END model__alpha=9.880000000000008;, score=-1253.963 total time=   0.0s\n[CV 1/5] END model__alpha=9.890000000000008;, score=-1296.874 total time=   0.1s\n[CV 2/5] END model__alpha=9.890000000000008;, score=-1666.344 total time=   0.1s\n[CV 3/5] END model__alpha=9.890000000000008;, score=-1930.331 total time=   0.0s\n[CV 4/5] END model__alpha=9.890000000000008;, score=-1272.405 total time=   0.1s\n[CV 5/5] END model__alpha=9.890000000000008;, score=-1254.221 total time=   0.1s\n[CV 1/5] END .model__alpha=9.90000000000001;, score=-1297.013 total time=   0.1s\n[CV 2/5] END .model__alpha=9.90000000000001;, score=-1666.643 total time=   0.1s\n[CV 3/5] END .model__alpha=9.90000000000001;, score=-1930.610 total time=   0.1s\n[CV 4/5] END .model__alpha=9.90000000000001;, score=-1272.619 total time=   0.1s\n[CV 5/5] END .model__alpha=9.90000000000001;, score=-1254.480 total time=   0.1s\n[CV 1/5] END model__alpha=9.910000000000009;, score=-1297.153 total time=   0.1s\n[CV 2/5] END model__alpha=9.910000000000009;, score=-1666.943 total time=   0.0s\n[CV 3/5] END model__alpha=9.910000000000009;, score=-1930.889 total time=   0.0s\n[CV 4/5] END model__alpha=9.910000000000009;, score=-1272.833 total time=   0.1s\n[CV 5/5] END model__alpha=9.910000000000009;, score=-1254.738 total time=   0.1s\n[CV 1/5] END model__alpha=9.920000000000009;, score=-1297.293 total time=   0.0s\n[CV 2/5] END model__alpha=9.920000000000009;, score=-1667.242 total time=   0.0s\n[CV 3/5] END model__alpha=9.920000000000009;, score=-1931.168 total time=   0.1s\n[CV 4/5] END model__alpha=9.920000000000009;, score=-1273.048 total time=   0.0s\n[CV 5/5] END model__alpha=9.920000000000009;, score=-1254.997 total time=   0.0s\n[CV 1/5] END model__alpha=9.930000000000009;, score=-1297.433 total time=   0.1s\n[CV 2/5] END model__alpha=9.930000000000009;, score=-1667.542 total time=   0.1s\n[CV 3/5] END model__alpha=9.930000000000009;, score=-1931.448 total time=   0.1s\n[CV 4/5] END model__alpha=9.930000000000009;, score=-1273.262 total time=   0.1s\n[CV 5/5] END model__alpha=9.930000000000009;, score=-1255.259 total time=   0.0s\n[CV 1/5] END model__alpha=9.940000000000008;, score=-1297.573 total time=   0.1s\n[CV 2/5] END model__alpha=9.940000000000008;, score=-1667.842 total time=   0.1s\n[CV 3/5] END model__alpha=9.940000000000008;, score=-1931.728 total time=   0.0s\n[CV 4/5] END model__alpha=9.940000000000008;, score=-1273.477 total time=   0.1s\n[CV 5/5] END model__alpha=9.940000000000008;, score=-1255.518 total time=   0.1s\n[CV 1/5] END model__alpha=9.950000000000008;, score=-1297.714 total time=   0.1s\n[CV 2/5] END model__alpha=9.950000000000008;, score=-1668.142 total time=   0.1s\n[CV 3/5] END model__alpha=9.950000000000008;, score=-1932.008 total time=   0.1s\n[CV 4/5] END model__alpha=9.950000000000008;, score=-1273.693 total time=   0.0s\n[CV 5/5] END model__alpha=9.950000000000008;, score=-1255.778 total time=   0.1s\n[CV 1/5] END model__alpha=9.960000000000008;, score=-1297.855 total time=   0.1s\n[CV 2/5] END model__alpha=9.960000000000008;, score=-1668.442 total time=   0.1s\n[CV 3/5] END model__alpha=9.960000000000008;, score=-1932.288 total time=   0.1s\n[CV 4/5] END model__alpha=9.960000000000008;, score=-1273.908 total time=   0.1s\n[CV 5/5] END model__alpha=9.960000000000008;, score=-1256.038 total time=   0.1s\n[CV 1/5] END model__alpha=9.970000000000008;, score=-1297.996 total time=   0.1s\n[CV 2/5] END model__alpha=9.970000000000008;, score=-1668.743 total time=   0.1s\n[CV 3/5] END model__alpha=9.970000000000008;, score=-1932.569 total time=   0.1s\n[CV 4/5] END model__alpha=9.970000000000008;, score=-1274.124 total time=   0.1s\n[CV 5/5] END model__alpha=9.970000000000008;, score=-1256.298 total time=   0.1s\n[CV 1/5] END model__alpha=9.980000000000008;, score=-1298.137 total time=   0.1s\n[CV 2/5] END model__alpha=9.980000000000008;, score=-1669.044 total time=   0.1s\n[CV 3/5] END model__alpha=9.980000000000008;, score=-1932.850 total time=   0.1s\n[CV 4/5] END model__alpha=9.980000000000008;, score=-1274.340 total time=   0.1s\n[CV 5/5] END model__alpha=9.980000000000008;, score=-1256.558 total time=   0.1s\n[CV 1/5] END model__alpha=9.990000000000009;, score=-1298.279 total time=   0.1s\n[CV 2/5] END model__alpha=9.990000000000009;, score=-1669.345 total time=   0.1s\n[CV 3/5] END model__alpha=9.990000000000009;, score=-1933.131 total time=   0.1s\n[CV 4/5] END model__alpha=9.990000000000009;, score=-1274.556 total time=   0.1s\n[CV 5/5] END model__alpha=9.990000000000009;, score=-1256.818 total time=   0.0s\n",
     "output_type": "stream"
    },
    {
     "output_type": "execute_result",
     "execution_count": 12,
     "data": {
      "text/plain": "GridSearchCV(cv=5, error_score='raise',\n             estimator=Pipeline(steps=[('impute', SimpleImputer()),\n                                       ('scaler', StandardScaler()),\n                                       ('model', Lasso())]),\n             param_grid={'model__alpha': array([0.5 , 0.51, 0.52, 0.53, 0.54, 0.55, 0.56, 0.57, 0.58, 0.59, 0.6 ,\n       0.61, 0.62, 0.63, 0.64, 0.65, 0.66, 0.67, 0.68, 0.69, 0.7 , 0.71,\n       0.72, 0.73, 0.74, 0.75, 0.76, 0.77, 0.78, 0.79, 0.8 , 0.81, 0.82,\n       0.83, 0.84, 0.85, 0...\n       9.3 , 9.31, 9.32, 9.33, 9.34, 9.35, 9.36, 9.37, 9.38, 9.39, 9.4 ,\n       9.41, 9.42, 9.43, 9.44, 9.45, 9.46, 9.47, 9.48, 9.49, 9.5 , 9.51,\n       9.52, 9.53, 9.54, 9.55, 9.56, 9.57, 9.58, 9.59, 9.6 , 9.61, 9.62,\n       9.63, 9.64, 9.65, 9.66, 9.67, 9.68, 9.69, 9.7 , 9.71, 9.72, 9.73,\n       9.74, 9.75, 9.76, 9.77, 9.78, 9.79, 9.8 , 9.81, 9.82, 9.83, 9.84,\n       9.85, 9.86, 9.87, 9.88, 9.89, 9.9 , 9.91, 9.92, 9.93, 9.94, 9.95,\n       9.96, 9.97, 9.98, 9.99])},\n             scoring='neg_mean_squared_error', verbose=3)",
      "text/html": "<style>#sk-container-id-1 {color: black;background-color: white;}#sk-container-id-1 pre{padding: 0;}#sk-container-id-1 div.sk-toggleable {background-color: white;}#sk-container-id-1 label.sk-toggleable__label {cursor: pointer;display: block;width: 100%;margin-bottom: 0;padding: 0.3em;box-sizing: border-box;text-align: center;}#sk-container-id-1 label.sk-toggleable__label-arrow:before {content: \"▸\";float: left;margin-right: 0.25em;color: #696969;}#sk-container-id-1 label.sk-toggleable__label-arrow:hover:before {color: black;}#sk-container-id-1 div.sk-estimator:hover label.sk-toggleable__label-arrow:before {color: black;}#sk-container-id-1 div.sk-toggleable__content {max-height: 0;max-width: 0;overflow: hidden;text-align: left;background-color: #f0f8ff;}#sk-container-id-1 div.sk-toggleable__content pre {margin: 0.2em;color: black;border-radius: 0.25em;background-color: #f0f8ff;}#sk-container-id-1 input.sk-toggleable__control:checked~div.sk-toggleable__content {max-height: 200px;max-width: 100%;overflow: auto;}#sk-container-id-1 input.sk-toggleable__control:checked~label.sk-toggleable__label-arrow:before {content: \"▾\";}#sk-container-id-1 div.sk-estimator input.sk-toggleable__control:checked~label.sk-toggleable__label {background-color: #d4ebff;}#sk-container-id-1 div.sk-label input.sk-toggleable__control:checked~label.sk-toggleable__label {background-color: #d4ebff;}#sk-container-id-1 input.sk-hidden--visually {border: 0;clip: rect(1px 1px 1px 1px);clip: rect(1px, 1px, 1px, 1px);height: 1px;margin: -1px;overflow: hidden;padding: 0;position: absolute;width: 1px;}#sk-container-id-1 div.sk-estimator {font-family: monospace;background-color: #f0f8ff;border: 1px dotted black;border-radius: 0.25em;box-sizing: border-box;margin-bottom: 0.5em;}#sk-container-id-1 div.sk-estimator:hover {background-color: #d4ebff;}#sk-container-id-1 div.sk-parallel-item::after {content: \"\";width: 100%;border-bottom: 1px solid gray;flex-grow: 1;}#sk-container-id-1 div.sk-label:hover label.sk-toggleable__label {background-color: #d4ebff;}#sk-container-id-1 div.sk-serial::before {content: \"\";position: absolute;border-left: 1px solid gray;box-sizing: border-box;top: 0;bottom: 0;left: 50%;z-index: 0;}#sk-container-id-1 div.sk-serial {display: flex;flex-direction: column;align-items: center;background-color: white;padding-right: 0.2em;padding-left: 0.2em;position: relative;}#sk-container-id-1 div.sk-item {position: relative;z-index: 1;}#sk-container-id-1 div.sk-parallel {display: flex;align-items: stretch;justify-content: center;background-color: white;position: relative;}#sk-container-id-1 div.sk-item::before, #sk-container-id-1 div.sk-parallel-item::before {content: \"\";position: absolute;border-left: 1px solid gray;box-sizing: border-box;top: 0;bottom: 0;left: 50%;z-index: -1;}#sk-container-id-1 div.sk-parallel-item {display: flex;flex-direction: column;z-index: 1;position: relative;background-color: white;}#sk-container-id-1 div.sk-parallel-item:first-child::after {align-self: flex-end;width: 50%;}#sk-container-id-1 div.sk-parallel-item:last-child::after {align-self: flex-start;width: 50%;}#sk-container-id-1 div.sk-parallel-item:only-child::after {width: 0;}#sk-container-id-1 div.sk-dashed-wrapped {border: 1px dashed gray;margin: 0 0.4em 0.5em 0.4em;box-sizing: border-box;padding-bottom: 0.4em;background-color: white;}#sk-container-id-1 div.sk-label label {font-family: monospace;font-weight: bold;display: inline-block;line-height: 1.2em;}#sk-container-id-1 div.sk-label-container {text-align: center;}#sk-container-id-1 div.sk-container {/* jupyter's `normalize.less` sets `[hidden] { display: none; }` but bootstrap.min.css set `[hidden] { display: none !important; }` so we also need the `!important` here to be able to override the default hidden behavior on the sphinx rendered scikit-learn.org. See: https://github.com/scikit-learn/scikit-learn/issues/21755 */display: inline-block !important;position: relative;}#sk-container-id-1 div.sk-text-repr-fallback {display: none;}</style><div id=\"sk-container-id-1\" class=\"sk-top-container\"><div class=\"sk-text-repr-fallback\"><pre>GridSearchCV(cv=5, error_score=&#x27;raise&#x27;,\n             estimator=Pipeline(steps=[(&#x27;impute&#x27;, SimpleImputer()),\n                                       (&#x27;scaler&#x27;, StandardScaler()),\n                                       (&#x27;model&#x27;, Lasso())]),\n             param_grid={&#x27;model__alpha&#x27;: array([0.5 , 0.51, 0.52, 0.53, 0.54, 0.55, 0.56, 0.57, 0.58, 0.59, 0.6 ,\n       0.61, 0.62, 0.63, 0.64, 0.65, 0.66, 0.67, 0.68, 0.69, 0.7 , 0.71,\n       0.72, 0.73, 0.74, 0.75, 0.76, 0.77, 0.78, 0.79, 0.8 , 0.81, 0.82,\n       0.83, 0.84, 0.85, 0...\n       9.3 , 9.31, 9.32, 9.33, 9.34, 9.35, 9.36, 9.37, 9.38, 9.39, 9.4 ,\n       9.41, 9.42, 9.43, 9.44, 9.45, 9.46, 9.47, 9.48, 9.49, 9.5 , 9.51,\n       9.52, 9.53, 9.54, 9.55, 9.56, 9.57, 9.58, 9.59, 9.6 , 9.61, 9.62,\n       9.63, 9.64, 9.65, 9.66, 9.67, 9.68, 9.69, 9.7 , 9.71, 9.72, 9.73,\n       9.74, 9.75, 9.76, 9.77, 9.78, 9.79, 9.8 , 9.81, 9.82, 9.83, 9.84,\n       9.85, 9.86, 9.87, 9.88, 9.89, 9.9 , 9.91, 9.92, 9.93, 9.94, 9.95,\n       9.96, 9.97, 9.98, 9.99])},\n             scoring=&#x27;neg_mean_squared_error&#x27;, verbose=3)</pre><b>In a Jupyter environment, please rerun this cell to show the HTML representation or trust the notebook. <br />On GitHub, the HTML representation is unable to render, please try loading this page with nbviewer.org.</b></div><div class=\"sk-container\" hidden><div class=\"sk-item sk-dashed-wrapped\"><div class=\"sk-label-container\"><div class=\"sk-label sk-toggleable\"><input class=\"sk-toggleable__control sk-hidden--visually\" id=\"sk-estimator-id-1\" type=\"checkbox\" ><label for=\"sk-estimator-id-1\" class=\"sk-toggleable__label sk-toggleable__label-arrow\">GridSearchCV</label><div class=\"sk-toggleable__content\"><pre>GridSearchCV(cv=5, error_score=&#x27;raise&#x27;,\n             estimator=Pipeline(steps=[(&#x27;impute&#x27;, SimpleImputer()),\n                                       (&#x27;scaler&#x27;, StandardScaler()),\n                                       (&#x27;model&#x27;, Lasso())]),\n             param_grid={&#x27;model__alpha&#x27;: array([0.5 , 0.51, 0.52, 0.53, 0.54, 0.55, 0.56, 0.57, 0.58, 0.59, 0.6 ,\n       0.61, 0.62, 0.63, 0.64, 0.65, 0.66, 0.67, 0.68, 0.69, 0.7 , 0.71,\n       0.72, 0.73, 0.74, 0.75, 0.76, 0.77, 0.78, 0.79, 0.8 , 0.81, 0.82,\n       0.83, 0.84, 0.85, 0...\n       9.3 , 9.31, 9.32, 9.33, 9.34, 9.35, 9.36, 9.37, 9.38, 9.39, 9.4 ,\n       9.41, 9.42, 9.43, 9.44, 9.45, 9.46, 9.47, 9.48, 9.49, 9.5 , 9.51,\n       9.52, 9.53, 9.54, 9.55, 9.56, 9.57, 9.58, 9.59, 9.6 , 9.61, 9.62,\n       9.63, 9.64, 9.65, 9.66, 9.67, 9.68, 9.69, 9.7 , 9.71, 9.72, 9.73,\n       9.74, 9.75, 9.76, 9.77, 9.78, 9.79, 9.8 , 9.81, 9.82, 9.83, 9.84,\n       9.85, 9.86, 9.87, 9.88, 9.89, 9.9 , 9.91, 9.92, 9.93, 9.94, 9.95,\n       9.96, 9.97, 9.98, 9.99])},\n             scoring=&#x27;neg_mean_squared_error&#x27;, verbose=3)</pre></div></div></div><div class=\"sk-parallel\"><div class=\"sk-parallel-item\"><div class=\"sk-item\"><div class=\"sk-label-container\"><div class=\"sk-label sk-toggleable\"><input class=\"sk-toggleable__control sk-hidden--visually\" id=\"sk-estimator-id-2\" type=\"checkbox\" ><label for=\"sk-estimator-id-2\" class=\"sk-toggleable__label sk-toggleable__label-arrow\">estimator: Pipeline</label><div class=\"sk-toggleable__content\"><pre>Pipeline(steps=[(&#x27;impute&#x27;, SimpleImputer()), (&#x27;scaler&#x27;, StandardScaler()),\n                (&#x27;model&#x27;, Lasso())])</pre></div></div></div><div class=\"sk-serial\"><div class=\"sk-item\"><div class=\"sk-serial\"><div class=\"sk-item\"><div class=\"sk-estimator sk-toggleable\"><input class=\"sk-toggleable__control sk-hidden--visually\" id=\"sk-estimator-id-3\" type=\"checkbox\" ><label for=\"sk-estimator-id-3\" class=\"sk-toggleable__label sk-toggleable__label-arrow\">SimpleImputer</label><div class=\"sk-toggleable__content\"><pre>SimpleImputer()</pre></div></div></div><div class=\"sk-item\"><div class=\"sk-estimator sk-toggleable\"><input class=\"sk-toggleable__control sk-hidden--visually\" id=\"sk-estimator-id-4\" type=\"checkbox\" ><label for=\"sk-estimator-id-4\" class=\"sk-toggleable__label sk-toggleable__label-arrow\">StandardScaler</label><div class=\"sk-toggleable__content\"><pre>StandardScaler()</pre></div></div></div><div class=\"sk-item\"><div class=\"sk-estimator sk-toggleable\"><input class=\"sk-toggleable__control sk-hidden--visually\" id=\"sk-estimator-id-5\" type=\"checkbox\" ><label for=\"sk-estimator-id-5\" class=\"sk-toggleable__label sk-toggleable__label-arrow\">Lasso</label><div class=\"sk-toggleable__content\"><pre>Lasso()</pre></div></div></div></div></div></div></div></div></div></div></div></div>"
     },
     "metadata": {}
    }
   ],
   "execution_count": null
  },
  {
   "cell_type": "markdown",
   "source": "Check the outcome of the grid search and evaluate the coefficients at the point of the best result",
   "metadata": {
    "cell_id": "00022-09beb5a0-6455-40f0-8ab5-1bcfbe209f1e",
    "deepnote_app_coordinates": {
     "x": 0,
     "y": 132,
     "w": 12,
     "h": 5
    },
    "deepnote_cell_type": "markdown",
    "deepnote_cell_height": 74.796875
   }
  },
  {
   "cell_type": "code",
   "metadata": {
    "cell_id": "00023-47aded85-8780-42e8-99d8-e0b2138e0ebb",
    "deepnote_to_be_reexecuted": false,
    "source_hash": "2a262666",
    "execution_start": 1654791177669,
    "execution_millis": 15,
    "deepnote_app_coordinates": {
     "x": 0,
     "y": 138,
     "w": 12,
     "h": 5
    },
    "deepnote_cell_type": "code",
    "deepnote_cell_height": 118.171875
   },
   "source": "search.best_params_",
   "outputs": [
    {
     "output_type": "execute_result",
     "execution_count": 13,
     "data": {
      "text/plain": "{'model__alpha': 0.7000000000000002}"
     },
     "metadata": {}
    }
   ],
   "execution_count": null
  },
  {
   "cell_type": "code",
   "metadata": {
    "cell_id": "00024-38535aa9-c3e2-4993-9b76-d9623ac85f4d",
    "deepnote_to_be_reexecuted": false,
    "source_hash": "5deb2267",
    "execution_start": 1654791177715,
    "deepnote_app_coordinates": {
     "x": 0,
     "y": 144,
     "w": 12,
     "h": 5
    },
    "execution_millis": 6,
    "deepnote_cell_type": "code",
    "deepnote_cell_height": 81
   },
   "source": "coefficients = search.best_estimator_.named_steps['model'].coef_",
   "outputs": [],
   "execution_count": null
  },
  {
   "cell_type": "markdown",
   "source": "What coefficients are NOT relevant:",
   "metadata": {
    "cell_id": "00025-820c1585-232d-41f9-a342-387c70125f3f",
    "deepnote_app_coordinates": {
     "x": 0,
     "y": 150,
     "w": 12,
     "h": 5
    },
    "deepnote_cell_type": "markdown",
    "deepnote_cell_height": 52.390625
   }
  },
  {
   "cell_type": "code",
   "metadata": {
    "cell_id": "00026-faa1d66c-aaa2-4240-b9b5-1a57e1ec804c",
    "deepnote_to_be_reexecuted": false,
    "source_hash": "d71d66f6",
    "execution_start": 1654791177764,
    "deepnote_app_coordinates": {
     "x": 0,
     "y": 156,
     "w": 12,
     "h": 5
    },
    "execution_millis": 274561682,
    "deepnote_cell_type": "code",
    "deepnote_cell_height": 156.578125
   },
   "source": "np.array(df_features.columns)[coefficients == 0]",
   "outputs": [
    {
     "output_type": "execute_result",
     "execution_count": 15,
     "data": {
      "text/plain": "array(['Woningvoorraad_34', 'InBezitWoningcorporatie_42',\n       'GemiddeldElektriciteitsverbruikTotaal_47',\n       'Percent_inkomensontvangers'], dtype=object)"
     },
     "metadata": {}
    }
   ],
   "execution_count": null
  },
  {
   "cell_type": "markdown",
   "source": "What coefficients are relevant and should be taken into account:",
   "metadata": {
    "cell_id": "00027-9143b520-93e9-4cd8-80e9-e5226334fb5e",
    "deepnote_app_coordinates": {
     "x": 0,
     "y": 162,
     "w": 12,
     "h": 5
    },
    "deepnote_cell_type": "markdown",
    "deepnote_cell_height": 74.796875
   }
  },
  {
   "cell_type": "code",
   "metadata": {
    "cell_id": "00028-4abf295a-0666-4158-b9d6-d1b38cf299d0",
    "deepnote_to_be_reexecuted": false,
    "source_hash": "3cb2644",
    "execution_start": 1654791177859,
    "execution_millis": 274561719,
    "deepnote_app_coordinates": {
     "x": 0,
     "y": 168,
     "w": 12,
     "h": 5
    },
    "deepnote_cell_type": "code",
    "deepnote_cell_height": 271.78125
   },
   "source": "np.array(df_features.columns)[coefficients != 0]",
   "outputs": [
    {
     "output_type": "execute_result",
     "execution_count": 16,
     "data": {
      "text/plain": "array(['MeestVoorkomendePostcode_113', 'HuishoudensTotaal_28',\n       'GemiddeldeHuishoudensgrootte_32', 'Bevolkingsdichtheid_33',\n       'GemiddeldeWoningwaarde_35', 'PercentageEengezinswoning_36',\n       'Koopwoningen_40', 'InBezitOverigeVerhuurders_43',\n       'BouwjaarVanaf2000_46', 'GemiddeldAardgasverbruikTotaal_55',\n       'Gemiddeld_opleidingsniveau',\n       'Bedrijfsvestigingen_per_huishuidens',\n       'PersonenautoSPerHuishouden_102', 'AfstandTotSchool_108',\n       'MateVanStedelijkheid_115'], dtype=object)"
     },
     "metadata": {}
    }
   ],
   "execution_count": null
  },
  {
   "cell_type": "markdown",
   "source": "Use the lasso model with the optimized values",
   "metadata": {
    "cell_id": "00029-1b64b244-f93d-4eed-a9e3-7a8900730a41",
    "deepnote_app_coordinates": {
     "x": 0,
     "y": 174,
     "w": 12,
     "h": 5
    },
    "deepnote_cell_type": "markdown",
    "deepnote_cell_height": 52.390625
   }
  },
  {
   "cell_type": "code",
   "metadata": {
    "cell_id": "00030-3e51dffd-507f-49b6-abc5-7db2aee992e1",
    "deepnote_to_be_reexecuted": false,
    "source_hash": "4523e51c",
    "execution_start": 1654791177903,
    "deepnote_app_coordinates": {
     "x": 0,
     "y": 180,
     "w": 12,
     "h": 5
    },
    "execution_millis": 274561714,
    "deepnote_cell_type": "code",
    "deepnote_cell_height": 243
   },
   "source": "grid_search_selected_features = ['MeestVoorkomendePostcode_113', 'HuishoudensTotaal_28',\n       'GemiddeldeHuishoudensgrootte_32', 'Bevolkingsdichtheid_33',\n       'GemiddeldeWoningwaarde_35', 'PercentageEengezinswoning_36',\n       'Koopwoningen_40', 'InBezitOverigeVerhuurders_43',\n       'BouwjaarVanaf2000_46', 'GemiddeldAardgasverbruikTotaal_55',\n       'Gemiddeld_opleidingsniveau',\n       'Bedrijfsvestigingen_per_huishuidens',\n       'PersonenautoSPerHuishouden_102', 'AfstandTotSchool_108',\n       'MateVanStedelijkheid_115']\n",
   "outputs": [],
   "execution_count": null
  },
  {
   "cell_type": "markdown",
   "source": "## Model using: Linear regression",
   "metadata": {
    "cell_id": "00031-0cc4f21b-f02d-454b-a8b5-68f144db9d45",
    "deepnote_app_coordinates": {
     "x": 0,
     "y": 186,
     "w": 12,
     "h": 5
    },
    "deepnote_cell_type": "markdown",
    "deepnote_cell_height": 110
   }
  },
  {
   "cell_type": "code",
   "metadata": {
    "cell_id": "00032-a1673406-bd54-4ed6-952e-612ce15fd464",
    "deepnote_to_be_reexecuted": false,
    "source_hash": "9527aab5",
    "execution_start": 1654791177903,
    "execution_millis": 274561759,
    "deepnote_app_coordinates": {
     "x": 0,
     "y": 192,
     "w": 12,
     "h": 5
    },
    "deepnote_cell_type": "code",
    "deepnote_cell_height": 81
   },
   "source": "from sklearn.linear_model import LinearRegression",
   "outputs": [],
   "execution_count": null
  },
  {
   "cell_type": "code",
   "metadata": {
    "cell_id": "00033-bde3a153-a8c3-4fd1-b939-5f6c69622b89",
    "deepnote_to_be_reexecuted": false,
    "source_hash": "58296321",
    "execution_start": 1654791177904,
    "execution_millis": 69,
    "deepnote_app_coordinates": {
     "x": 0,
     "y": 198,
     "w": 12,
     "h": 5
    },
    "owner_user_id": "3a407f58-94ec-4c0a-b0a5-c938869484b1",
    "deepnote_cell_type": "code",
    "deepnote_cell_height": 226.171875
   },
   "source": "pipeline_linear_regression = Pipeline([\n    ('impute', imputer),\n    ('scaler',StandardScaler()), \n    ('model',LinearRegression())])\n\npipeline_linear_regression.fit(X_train, y_train)\npipeline_linear_regression.score(X_test, y_test)",
   "outputs": [
    {
     "output_type": "execute_result",
     "execution_count": 19,
     "data": {
      "text/plain": "0.42734011525501703"
     },
     "metadata": {}
    }
   ],
   "execution_count": null
  },
  {
   "cell_type": "markdown",
   "source": "## Model using: Support Vector machine",
   "metadata": {
    "cell_id": "00034-cd142d0f-e0f7-456e-a347-dfd576c82260",
    "deepnote_app_coordinates": {
     "x": 0,
     "y": 204,
     "w": 12,
     "h": 5
    },
    "deepnote_cell_type": "markdown",
    "deepnote_cell_height": 110
   }
  },
  {
   "cell_type": "code",
   "metadata": {
    "cell_id": "00035-c60078a2-a946-4284-a933-83b0cd41f1ec",
    "deepnote_to_be_reexecuted": false,
    "source_hash": "8719ccec",
    "execution_start": 1654791177995,
    "deepnote_app_coordinates": {
     "x": 0,
     "y": 210,
     "w": 12,
     "h": 5
    },
    "execution_millis": 31,
    "deepnote_cell_type": "code",
    "deepnote_cell_height": 81
   },
   "source": "from sklearn.svm import SVR",
   "outputs": [],
   "execution_count": null
  },
  {
   "cell_type": "code",
   "metadata": {
    "cell_id": "00036-eccf3146-c806-47f2-8b82-b1c91595fc0e",
    "deepnote_to_be_reexecuted": false,
    "source_hash": "a5f4a563",
    "execution_start": 1654791178071,
    "execution_millis": 29,
    "deepnote_app_coordinates": {
     "x": 0,
     "y": 216,
     "w": 12,
     "h": 5
    },
    "deepnote_cell_type": "code",
    "deepnote_cell_height": 81
   },
   "source": "svm_regression = SVR(gamma='auto')",
   "outputs": [],
   "execution_count": null
  },
  {
   "cell_type": "code",
   "metadata": {
    "cell_id": "00037-d5e1fcc4-96e9-46eb-8073-4c04f1a35756",
    "deepnote_to_be_reexecuted": false,
    "source_hash": "7356e17f",
    "execution_start": 1654791178178,
    "execution_millis": 704,
    "deepnote_app_coordinates": {
     "x": 0,
     "y": 222,
     "w": 12,
     "h": 5
    },
    "deepnote_cell_type": "code",
    "deepnote_cell_height": 226.171875
   },
   "source": "pipeline_svm = Pipeline([\n    ('impute', imputer),\n    ('scaler',StandardScaler()), \n    ('model',svm_regression)])\n\npipeline_svm.fit(X_train, y_train, model__sample_weight=None)\npipeline_svm.score(X_test, y_test)",
   "outputs": [
    {
     "output_type": "execute_result",
     "execution_count": 22,
     "data": {
      "text/plain": "0.37010206079399444"
     },
     "metadata": {}
    }
   ],
   "execution_count": null
  },
  {
   "cell_type": "markdown",
   "source": "## Model using: Lasso (the one used for feature selection)",
   "metadata": {
    "cell_id": "00038-a62d2cac-1e93-4ca9-b7d1-b43cc2bf5fc1",
    "deepnote_app_coordinates": {
     "x": 0,
     "y": 228,
     "w": 12,
     "h": 5
    },
    "deepnote_cell_type": "markdown",
    "deepnote_cell_height": 150
   }
  },
  {
   "cell_type": "code",
   "metadata": {
    "cell_id": "00039-288c6674-0a2d-4fd4-8d91-55a959b49a5a",
    "deepnote_to_be_reexecuted": false,
    "source_hash": "af32c90d",
    "execution_start": 1654791178893,
    "execution_millis": 117,
    "deepnote_app_coordinates": {
     "x": 0,
     "y": 234,
     "w": 12,
     "h": 5
    },
    "deepnote_cell_type": "code",
    "deepnote_cell_height": 136.171875
   },
   "source": "pipeline_lasso.fit(X_train, y_train)\npipeline_lasso.score(X_test, y_test)",
   "outputs": [
    {
     "output_type": "execute_result",
     "execution_count": 23,
     "data": {
      "text/plain": "0.42585802602490463"
     },
     "metadata": {}
    }
   ],
   "execution_count": null
  },
  {
   "cell_type": "markdown",
   "source": "## Model using: Decision tree",
   "metadata": {
    "cell_id": "00040-a678ca9e-55a3-49d4-9b6e-43b5d03994bc",
    "deepnote_app_coordinates": {
     "x": 0,
     "y": 240,
     "w": 12,
     "h": 5
    },
    "deepnote_cell_type": "markdown",
    "deepnote_cell_height": 70
   }
  },
  {
   "cell_type": "code",
   "metadata": {
    "cell_id": "00041-da51ebc1-2cb8-4c5b-a8d1-8c1ba94a390a",
    "deepnote_to_be_reexecuted": false,
    "source_hash": "ea8ff8d2",
    "execution_start": 1654791179041,
    "execution_millis": 118,
    "deepnote_app_coordinates": {
     "x": 0,
     "y": 246,
     "w": 12,
     "h": 5
    },
    "deepnote_cell_type": "code",
    "deepnote_cell_height": 81
   },
   "source": "from sklearn.tree import DecisionTreeRegressor",
   "outputs": [],
   "execution_count": null
  },
  {
   "cell_type": "code",
   "metadata": {
    "cell_id": "00042-9f800b93-e406-411e-ada4-a5c0819813e3",
    "deepnote_to_be_reexecuted": false,
    "source_hash": "f7b2b79a",
    "execution_start": 1654791179176,
    "execution_millis": 892,
    "deepnote_app_coordinates": {
     "x": 0,
     "y": 252,
     "w": 12,
     "h": 5
    },
    "deepnote_cell_type": "code",
    "deepnote_cell_height": 523.1875
   },
   "source": "max_range = 10\nfor i in range(1,max_range):\n\n    decision_tree_regressor = DecisionTreeRegressor(max_depth=i)\n\n    pipeline_decision_tree = Pipeline([\n        ('impute', imputer),\n        ('scaler',StandardScaler()), \n        ('model', decision_tree_regressor)])\n\n    pipeline_decision_tree.fit(X_train, y_train, model__sample_weight=None)\n    score = pipeline_decision_tree.score(X_test, y_test)\n\n    print(\"Depth  %2.f\" % i, \":Score: %.2f\" % score)\n",
   "outputs": [
    {
     "name": "stdout",
     "text": "Depth   1 :Score: 0.25\nDepth   2 :Score: 0.37\nDepth   3 :Score: 0.38\nDepth   4 :Score: 0.37\nDepth   5 :Score: 0.34\nDepth   6 :Score: 0.33\nDepth   7 :Score: 0.22\nDepth   8 :Score: 0.21\nDepth   9 :Score: 0.19\n",
     "output_type": "stream"
    }
   ],
   "execution_count": null
  },
  {
   "cell_type": "markdown",
   "source": "## Model using: K nearest neighbours (KNN)",
   "metadata": {
    "cell_id": "00043-09f6aa07-c6ff-4cf0-9ecd-f3121f51fe62",
    "deepnote_app_coordinates": {
     "x": 0,
     "y": 258,
     "w": 12,
     "h": 5
    },
    "deepnote_cell_type": "markdown",
    "deepnote_cell_height": 110
   }
  },
  {
   "cell_type": "code",
   "metadata": {
    "cell_id": "00044-14ed3051-9ffe-4827-8d4e-c99242be6fd3",
    "deepnote_to_be_reexecuted": false,
    "source_hash": "314d23a4",
    "execution_start": 1654791179725,
    "execution_millis": 12,
    "deepnote_app_coordinates": {
     "x": 0,
     "y": 264,
     "w": 12,
     "h": 5
    },
    "deepnote_cell_type": "code",
    "deepnote_cell_height": 81
   },
   "source": "from sklearn.neighbors import KNeighborsRegressor",
   "outputs": [],
   "execution_count": null
  },
  {
   "cell_type": "code",
   "metadata": {
    "cell_id": "00045-bdbc9ac7-0b81-49e5-aaf4-9ea00cbae403",
    "deepnote_to_be_reexecuted": false,
    "source_hash": "9fc27650",
    "execution_start": 1654791179753,
    "execution_millis": 1664,
    "deepnote_app_coordinates": {
     "x": 0,
     "y": 270,
     "w": 12,
     "h": 5
    },
    "deepnote_cell_type": "code",
    "deepnote_cell_height": 505.1875
   },
   "source": "max_range = 10\nfor i in range(1,max_range):\n\n    nearest_neighbour_regressor = KNeighborsRegressor(n_neighbors=i)\n\n    pipeline_nearest_neighbour = Pipeline([\n        ('impute', imputer),\n        ('scaler',StandardScaler()), \n        ('model', nearest_neighbour_regressor)])\n\n    pipeline_nearest_neighbour.fit(X_train, y_train)\n    score = pipeline_nearest_neighbour.score(X_test, y_test)\n\n    print(\"Neighbours  %2.f\" % i, \":Score: %.2f\" % score)",
   "outputs": [
    {
     "name": "stdout",
     "text": "Neighbours   1 :Score: 0.03\nNeighbours   2 :Score: 0.29\nNeighbours   3 :Score: 0.36\nNeighbours   4 :Score: 0.38\nNeighbours   5 :Score: 0.39\nNeighbours   6 :Score: 0.41\nNeighbours   7 :Score: 0.41\nNeighbours   8 :Score: 0.40\nNeighbours   9 :Score: 0.40\n",
     "output_type": "stream"
    }
   ],
   "execution_count": null
  },
  {
   "cell_type": "markdown",
   "source": "## Conclusion\n\nThe best models for the data and the selected features are:\n- linear model\n- lasso model\n- KNN model (6 or 7 neighbours)\n\nThe decision tree and SVM model are not as good as the above mentioned ones.\n\nThe highest score is 0,43 for the linear model.",
   "metadata": {
    "cell_id": "41d2212a55d9430a8a33d85917e76eb8",
    "tags": [],
    "deepnote_app_coordinates": {
     "x": 0,
     "y": 276,
     "w": 12,
     "h": 5
    },
    "deepnote_cell_type": "markdown",
    "deepnote_cell_height": 313.1875
   }
  },
  {
   "cell_type": "markdown",
   "source": "<a style='text-decoration:none;line-height:16px;display:flex;color:#5B5B62;padding:10px;justify-content:end;' href='https://deepnote.com?utm_source=created-in-deepnote-cell&projectId=d0604020-40e6-4d7d-a2ba-74ef2b385723' target=\"_blank\">\n<img alt='Created in deepnote.com' style='display:inline;max-height:16px;margin:0px;margin-right:7.5px;' src='data:image/svg+xml;base64,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' > </img>\nCreated in <span style='font-weight:600;margin-left:4px;'>Deepnote</span></a>",
   "metadata": {
    "tags": [],
    "created_in_deepnote_cell": true,
    "deepnote_cell_type": "markdown"
   }
  }
 ],
 "nbformat": 4,
 "nbformat_minor": 5,
 "metadata": {
  "interpreter": {
   "hash": "4b5eed231ec0c115323e225ce5385d6626cfb048417038261eb3d8b8d0f3984b"
  },
  "kernelspec": {
   "display_name": "Python 3.9.7 ('base')",
   "language": "python",
   "name": "python3"
  },
  "language_info": {
   "codemirror_mode": {
    "name": "ipython",
    "version": 3
   },
   "file_extension": ".py",
   "mimetype": "text/x-python",
   "name": "python",
   "nbconvert_exporter": "python",
   "pygments_lexer": "ipython3",
   "version": "3.9.7"
  },
  "deepnote_notebook_id": "2299b636-c929-4337-8add-d2e5647a7991",
  "deepnote": {},
  "deepnote_execution_queue": [],
  "deepnote_app_layout": "article"
 }
}