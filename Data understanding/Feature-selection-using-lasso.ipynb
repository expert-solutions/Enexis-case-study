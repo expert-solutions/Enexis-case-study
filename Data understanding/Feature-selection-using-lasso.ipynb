{
 "cells": [
  {
   "cell_type": "markdown",
   "id": "785bc900",
   "metadata": {},
   "source": [
    "# ENEXIS Graduation Project"
   ]
  },
  {
   "cell_type": "markdown",
   "id": "0a09e445",
   "metadata": {},
   "source": [
    "####  Feature selection using lasso"
   ]
  },
  {
   "cell_type": "code",
   "execution_count": null,
   "id": "63db04d5",
   "metadata": {},
   "outputs": [],
   "source": [
    "import pandas as pd\n",
    "import numpy as np\n",
    "from sklearn.preprocessing import StandardScaler, LabelEncoder\n",
    "from sklearn.impute import SimpleImputer\n",
    "from sklearn.pipeline import Pipeline\n",
    "from sklearn.model_selection import train_test_split, GridSearchCV\n",
    "from sklearn.linear_model import Lasso"
   ]
  },
  {
   "cell_type": "markdown",
   "id": "2c829b68",
   "metadata": {},
   "source": [
    "<a id='readpv'></a>\n",
    "#### Reading of PV installed capacity & demographics dataset"
   ]
  },
  {
   "cell_type": "code",
   "execution_count": null,
   "id": "207acc9f",
   "metadata": {},
   "outputs": [],
   "source": [
    "c_path = \"../Data/\"\n",
    "v_file = \"PV installed capacity & demographics\""
   ]
  },
  {
   "cell_type": "code",
   "execution_count": null,
   "id": "c1e5bad0",
   "metadata": {},
   "outputs": [],
   "source": [
    "df = pd.read_csv(filepath_or_buffer = c_path + v_file + \".csv\", encoding= 'UTF-8')"
   ]
  },
  {
   "cell_type": "markdown",
   "id": "8616d75a",
   "metadata": {},
   "source": [
    "Setup the pipeline"
   ]
  },
  {
   "cell_type": "code",
   "execution_count": null,
   "id": "1bb6b39f",
   "metadata": {},
   "outputs": [],
   "source": [
    "imputer = SimpleImputer(missing_values=np.nan, strategy='mean')\n",
    "\n",
    "pipeline = Pipeline([\n",
    "    ('impute', imputer),\n",
    "    ('scaler',StandardScaler()), \n",
    "    ('model',Lasso())])"
   ]
  },
  {
   "cell_type": "markdown",
   "id": "98baeb62",
   "metadata": {},
   "source": [
    "Optimize the model on the alpha hyperparameter in the specified range"
   ]
  },
  {
   "cell_type": "code",
   "execution_count": null,
   "id": "1af10f7d",
   "metadata": {},
   "outputs": [],
   "source": [
    "search = GridSearchCV(pipeline,\n",
    "                      {'model__alpha':np.arange(0.01,10,0.001)},\n",
    "                      cv = 5, \n",
    "                      scoring=\"neg_mean_squared_error\",\n",
    "                      verbose=3, error_score=\"raise\")"
   ]
  },
  {
   "cell_type": "markdown",
   "id": "568d6ac6",
   "metadata": {},
   "source": [
    "Use only the 2019 data, since that is the most complete"
   ]
  },
  {
   "cell_type": "code",
   "execution_count": null,
   "id": "5a018ae6",
   "metadata": {},
   "outputs": [],
   "source": [
    "year = 'Year'\n",
    "df = df[df[year]=='2019-01-01']"
   ]
  },
  {
   "cell_type": "markdown",
   "id": "7077e073",
   "metadata": {},
   "source": [
    "And since only one year has no variance, it can be removed from the data set"
   ]
  },
  {
   "cell_type": "code",
   "execution_count": null,
   "id": "7d4e35d6",
   "metadata": {},
   "outputs": [],
   "source": [
    "df = df.drop(columns=year)"
   ]
  },
  {
   "cell_type": "markdown",
   "id": "daa3d9c5",
   "metadata": {},
   "source": [
    "Further removal of string type columns"
   ]
  },
  {
   "cell_type": "code",
   "execution_count": null,
   "id": "6ed9d297",
   "metadata": {},
   "outputs": [],
   "source": [
    "string_types = df.dtypes[df.dtypes == 'object']\n",
    "string_types"
   ]
  },
  {
   "cell_type": "code",
   "execution_count": null,
   "id": "9fd79954",
   "metadata": {},
   "outputs": [],
   "source": [
    "string_type_columns = [\n",
    "    'BU_2021','BU_NAAM','WK_2021',\n",
    "    'WK_NAAM','GM_2021','GM_NAAM',\n",
    "    'ProvinciecodePV','Provincienaam']\n",
    "df = df.drop(columns=string_type_columns)"
   ]
  },
  {
   "cell_type": "markdown",
   "id": "ab17856b",
   "metadata": {},
   "source": [
    "Remove columns that have derived columns"
   ]
  },
  {
   "cell_type": "code",
   "execution_count": null,
   "id": "82313c98",
   "metadata": {},
   "outputs": [],
   "source": [
    "redundant_columns = [\n",
    "    'Aantal aansluitingen met opwekinstallatie', \n",
    "    'OV_per_installatie',\n",
    "    'PVinstallaties_per100houshoudens']\n",
    "df = df.drop(columns=redundant_columns)"
   ]
  },
  {
   "cell_type": "code",
   "execution_count": null,
   "id": "fc3b358f",
   "metadata": {},
   "outputs": [],
   "source": [
    "opgesteld_vermogen = 'Opgesteld_vermogen_per100houshoudens'\n",
    "\n",
    "df_y = df[opgesteld_vermogen]\n",
    "df_features = df.drop(columns=opgesteld_vermogen)\n",
    "df_features = df_features.drop(columns='Opgesteld vermogen')\n",
    "\n",
    "X_train, X_test, y_train, y_test = train_test_split(df_features, df_y, test_size=0.33, random_state=123)"
   ]
  },
  {
   "cell_type": "markdown",
   "id": "547f4fa8",
   "metadata": {},
   "source": [
    "Do a grid search for the best features"
   ]
  },
  {
   "cell_type": "code",
   "execution_count": null,
   "id": "08eb052f",
   "metadata": {},
   "outputs": [],
   "source": [
    "search.fit(X_train,y_train)"
   ]
  },
  {
   "cell_type": "markdown",
   "id": "dc6053cd",
   "metadata": {},
   "source": [
    "Check the outcome of the grid search and evaluate the coefficients at the point of the best result"
   ]
  },
  {
   "cell_type": "code",
   "execution_count": null,
   "id": "1ec8cc07",
   "metadata": {},
   "outputs": [],
   "source": [
    "search.best_params_"
   ]
  },
  {
   "cell_type": "code",
   "execution_count": null,
   "id": "3b23fdc1",
   "metadata": {},
   "outputs": [],
   "source": [
    "coefficients = search.best_estimator_.named_steps['model'].coef_"
   ]
  },
  {
   "cell_type": "markdown",
   "id": "0bcabaad",
   "metadata": {},
   "source": [
    "What coefficients are NOT relevant:"
   ]
  },
  {
   "cell_type": "code",
   "execution_count": null,
   "id": "3b34f531",
   "metadata": {},
   "outputs": [],
   "source": [
    "np.array(df_features.columns)[coefficients == 0]"
   ]
  },
  {
   "cell_type": "markdown",
   "id": "3d6c42ae",
   "metadata": {},
   "source": [
    "Here we see that the average value of the property is NOT a good feature. "
   ]
  },
  {
   "cell_type": "markdown",
   "id": "420ca108",
   "metadata": {},
   "source": [
    "What coefficients are relevant and should be taken into account:"
   ]
  },
  {
   "cell_type": "code",
   "execution_count": null,
   "id": "62bba15f",
   "metadata": {},
   "outputs": [],
   "source": [
    "np.array(df_features.columns)[coefficients != 0]"
   ]
  }
 ],
 "metadata": {
  "interpreter": {
   "hash": "4b5eed231ec0c115323e225ce5385d6626cfb048417038261eb3d8b8d0f3984b"
  },
  "kernelspec": {
   "display_name": "Python 3.9.7 ('base')",
   "language": "python",
   "name": "python3"
  },
  "language_info": {
   "codemirror_mode": {
    "name": "ipython",
    "version": 3
   },
   "file_extension": ".py",
   "mimetype": "text/x-python",
   "name": "python",
   "nbconvert_exporter": "python",
   "pygments_lexer": "ipython3",
   "version": "3.9.7"
  }
 },
 "nbformat": 4,
 "nbformat_minor": 5
}
