{
 "cells": [
  {
   "cell_type": "markdown",
   "metadata": {
    "cell_id": "123acf56-c2bd-4c7e-aa0e-c1a72fe8213a",
    "deepnote_app_coordinates": {
     "h": 6,
     "w": 12,
     "x": 0,
     "y": 0
    },
    "deepnote_cell_height": 221.96875,
    "deepnote_cell_type": "markdown"
   },
   "source": [
    "### Data understanding: installed pV CBS versus Enexis data\n",
    "What does the data look like? \n",
    "We take a look at the installed pV in time. What are the differences and what are the similarities between a set of selected municipalities (Den Bosch, Arnhem, Best and Loon op Zand). And how does the CBS data on installed pV compare to the data from the Enexis files that we use? This notebook helps us understand."
   ]
  },
  {
   "cell_type": "code",
   "execution_count": null,
   "metadata": {
    "cell_id": "00002-b036a20f-e683-4d29-99ce-5904adcef5c8",
    "deepnote_cell_height": 791,
    "deepnote_cell_type": "code",
    "deepnote_to_be_reexecuted": false,
    "execution_millis": 36347,
    "execution_start": 1652893360543,
    "source_hash": "f11e9a3d"
   },
   "outputs": [],
   "source": [
    "# !pip install cbsodata\n",
    "!pip install --upgrade pip\n",
    "!pip install altair --upgrade\n",
    "\n",
    "!pip install jupyter pandas vega\n",
    "!pip install --upgrade notebook  # need jupyter_client >= 4.2 for sys-prefix below"
   ]
  },
  {
   "cell_type": "code",
   "execution_count": null,
   "metadata": {
    "cell_id": "00003-14bb1399-af96-4377-b3e8-abb9ef5c6497",
    "deepnote_cell_height": 153,
    "deepnote_cell_type": "code",
    "deepnote_to_be_reexecuted": false,
    "execution_millis": 5096,
    "execution_start": 1652893396905,
    "source_hash": "eef3ff8e"
   },
   "outputs": [],
   "source": [
    "import cbsodata\n",
    "import pandas as pd\n",
    "import seaborn as sns\n",
    "import matplotlib.pyplot as pl\n",
    "import altair as alt"
   ]
  },
  {
   "cell_type": "code",
   "execution_count": null,
   "metadata": {
    "cell_id": "00004-7bfb58a1-7968-40f8-a298-0e6624c83ec2",
    "deepnote_cell_height": 645.875,
    "deepnote_cell_type": "code",
    "deepnote_table_loading": false,
    "deepnote_table_state": {
     "filters": [],
     "pageIndex": 3,
     "pageSize": 10,
     "sortBy": []
    },
    "deepnote_to_be_reexecuted": false,
    "execution_millis": 10171,
    "execution_start": 1652893402014,
    "source_hash": "d9c1e932"
   },
   "outputs": [],
   "source": [
    "#Read in (Zonnestroom; vermogen bedrijven en woningen, regio (indeling 2019)\n",
    "zonnestroom_2019 = '84783NED'\n",
    "df_zonnestroom_2019 = pd.DataFrame(cbsodata.get_data(zonnestroom_2019))\n",
    "df_zonnestroom_2019 = df_zonnestroom_2019[\n",
    "    (\n",
    "(df_zonnestroom_2019['RegioS'] == \"'s-Hertogenbosch\") |\n",
    "(df_zonnestroom_2019['RegioS'] == \"Loon op Zand\") |\n",
    "# (df_zonnestroom_2019['RegioS'] == \"Arnhem\") |\n",
    "(df_zonnestroom_2019['RegioS'] == \"Best\")\n",
    "    )\n",
    "    &  (df_zonnestroom_2019['BedrijfstakkenWoningen']=='Woningen')\n",
    "   ]\n",
    "\n",
    "#set the period to december to get the split between the 2 data sources right.\n",
    "df_zonnestroom_2019['Perioden'] = df_zonnestroom_2019['Perioden'] + \"-12\"\n",
    "\n",
    "df_zonnestroom_2019.head()"
   ]
  },
  {
   "cell_type": "code",
   "execution_count": null,
   "metadata": {
    "cell_id": "bd0759383a0f43de86db5fed6c145af4",
    "deepnote_cell_type": "visualization",
    "deepnote_to_be_reexecuted": false,
    "execution_millis": 3,
    "execution_start": 1652893411886,
    "source_hash": "b623e53d"
   },
   "outputs": [],
   "source": []
  },
  {
   "cell_type": "markdown",
   "metadata": {
    "cell_id": "d803325a48254dd589da18ad38c4fc05",
    "deepnote_cell_type": "text-cell-h3",
    "is_collapsed": false,
    "tags": []
   },
   "source": [
    "### Check if we're at version 4.2.0 so we can use the right graphs."
   ]
  },
  {
   "cell_type": "code",
   "execution_count": null,
   "metadata": {
    "cell_id": "0adec4131b1c424c8b5d9d904a838cb4",
    "deepnote_cell_height": 118.1875,
    "deepnote_cell_type": "code",
    "deepnote_output_heights": [
     21.1875
    ],
    "deepnote_to_be_reexecuted": false,
    "execution_millis": 1,
    "execution_start": 1652893411902,
    "source_hash": "852dbdeb",
    "tags": []
   },
   "outputs": [],
   "source": [
    "alt.__version__"
   ]
  },
  {
   "cell_type": "code",
   "execution_count": null,
   "metadata": {
    "cell_id": "6afc74da8c83478489dcef00c8c0517f",
    "deepnote_cell_height": 543,
    "deepnote_cell_type": "code",
    "deepnote_output_heights": [
     374
    ],
    "deepnote_to_be_reexecuted": false,
    "execution_millis": 231,
    "execution_start": 1652893411963,
    "source_hash": "c3d170da",
    "tags": []
   },
   "outputs": [],
   "source": [
    "alt.Chart(df_zonnestroom_2019).mark_line().encode(\n",
    "    x=alt.X(\"Perioden\", bin=False, title='Year'),\n",
    "    y=alt.Y(alt.repeat('layer'), aggregate='mean', title=\"Installed pV - number vs. power\"),\n",
    "    color=alt.ColorDatum(alt.repeat('layer'))\n",
    ").repeat(layer=[\"AantalInstallaties_1\", \"OpgesteldVermogenVanZonnepanelen_2\"])"
   ]
  },
  {
   "cell_type": "markdown",
   "metadata": {
    "cell_id": "9f513088376944f9afdb17f0727e96dd",
    "deepnote_cell_type": "text-cell-h3",
    "is_collapsed": false,
    "tags": []
   },
   "source": [
    "### Comparing municipalities"
   ]
  },
  {
   "cell_type": "code",
   "execution_count": null,
   "metadata": {
    "cell_id": "00005-13f4b198-f351-4c40-930a-b7f38208ddd9",
    "deepnote_cell_height": 919.53125,
    "deepnote_cell_type": "code",
    "deepnote_output_heights": [
     606.546875
    ],
    "deepnote_to_be_reexecuted": false,
    "execution_millis": 16,
    "execution_start": 1652896428081,
    "source_hash": "fd023edf"
   },
   "outputs": [],
   "source": [
    "chart = alt.Chart(df_zonnestroom_2019).mark_point().encode(\n",
    "    alt.X(alt.repeat(\"column\"), type='ordinal', title='Year'),\n",
    "    alt.Y(alt.repeat(\"row\"), type='quantitative'),\n",
    "    color='RegioS:N'\n",
    ").properties(\n",
    "    width=375,\n",
    "    height=250\n",
    ").repeat(\n",
    "    column=['Perioden'],\n",
    "    row=['AantalInstallaties_1', 'OpgesteldVermogenVanZonnepanelen_2'],\n",
    "    \n",
    ").interactive()\n",
    "chart"
   ]
  },
  {
   "cell_type": "markdown",
   "metadata": {
    "cell_id": "3cd3a9ca43254bc48ffcfa2193fed858",
    "deepnote_app_coordinates": {
     "h": 4,
     "w": 12,
     "x": 0,
     "y": 66
    },
    "deepnote_cell_type": "text-cell-h3",
    "is_collapsed": false,
    "tags": []
   },
   "source": [
    "### Compare the CBS data with the Enexis data"
   ]
  },
  {
   "cell_type": "markdown",
   "metadata": {
    "cell_id": "1895e46af65e46fe8187bf5d10572095",
    "deepnote_app_coordinates": {
     "h": 3,
     "w": 13,
     "x": 0,
     "y": 70
    },
    "deepnote_cell_type": "text-cell-p",
    "is_collapsed": false,
    "tags": []
   },
   "source": [
    "CBS data goes from 2012 to 2019 at the end of the year, and the Enexis data is from 1-1-2020."
   ]
  },
  {
   "cell_type": "markdown",
   "metadata": {
    "cell_id": "b58af8b45366405390cbe3093753712b",
    "deepnote_cell_type": "text-cell-p",
    "is_collapsed": false,
    "tags": []
   },
   "source": [
    "Load the enexis 2020 data:"
   ]
  },
  {
   "cell_type": "code",
   "execution_count": null,
   "metadata": {
    "cell_id": "ff1935ced17643549dfea71f23a76703",
    "deepnote_cell_height": 81,
    "deepnote_cell_type": "code",
    "deepnote_to_be_reexecuted": false,
    "execution_millis": 1,
    "execution_start": 1652893412124,
    "source_hash": "9b82ee11",
    "tags": []
   },
   "outputs": [],
   "source": [
    "import pandas as pd"
   ]
  },
  {
   "cell_type": "markdown",
   "metadata": {},
   "source": [
    "Helper methods for recurring work"
   ]
  },
  {
   "cell_type": "code",
   "execution_count": null,
   "metadata": {},
   "outputs": [],
   "source": [
    "def load_enexis_data(file_name):\n",
    "  return pd.read_csv(file_name,\n",
    "                         sep                = ';',\n",
    "                         decimal            = ',',\n",
    "                         thousands          = '.',\n",
    "                         encoding           = 'unicode_escape')"
   ]
  },
  {
   "cell_type": "code",
   "execution_count": null,
   "metadata": {},
   "outputs": [],
   "source": [
    "def filter_on_4_municipalities(df):\n",
    "    return df[    \n",
    "    (df['Gemeente']=='Arnhem') |\n",
    "    (df['Gemeente']=='Best') |\n",
    "    (df['Gemeente']==\"'s-Hertogenbosch\") |\n",
    "    (df['Gemeente']==\"s-Hertogenbosch\") |\n",
    "    (df['Gemeente']=='Loon op Zand') \n",
    "]"
   ]
  },
  {
   "cell_type": "code",
   "execution_count": null,
   "metadata": {},
   "outputs": [],
   "source": [
    "def summarize_number_of_connections(df):\n",
    "    return df.groupby('Gemeente')['Aantal aansluitingen met opwekinstallatie'].sum()"
   ]
  },
  {
   "cell_type": "code",
   "execution_count": null,
   "metadata": {},
   "outputs": [],
   "source": [
    "def summarize_opgesteld_vermogen(df):\n",
    "    return df.groupby('Gemeente')['Opgesteld vermogen'].sum()"
   ]
  },
  {
   "cell_type": "markdown",
   "metadata": {},
   "source": [
    "Load the data for the 4 Enexis datapoints in the 'decentrale opwek' files"
   ]
  },
  {
   "cell_type": "code",
   "execution_count": null,
   "metadata": {
    "cell_id": "f46b0108272842c1b946d76b78c18fcc",
    "deepnote_cell_height": 171,
    "deepnote_cell_type": "code",
    "deepnote_to_be_reexecuted": false,
    "execution_millis": 45,
    "execution_start": 1652893412125,
    "source_hash": "57270238",
    "tags": []
   },
   "outputs": [],
   "source": [
    "decentral_generation_012020 = load_enexis_data('../data/Enexis_decentrale_opwek_kv_(zon_pv)_01012020.csv')\n",
    "decentral_generation_012020 = filter_on_4_municipalities(decentral_generation_012020)\n",
    "\n",
    "decentral_generation_072020 = load_enexis_data('../data/Enexis_decentrale_opwek_kv_(zon_pv)_01072020.csv')\n",
    "decentral_generation_072020 = filter_on_4_municipalities(decentral_generation_072020)\n",
    "\n",
    "decentral_generation_012021 = load_enexis_data('../data/Enexis_decentrale_opwek_kv_(zon_pv)_01012021.csv')\n",
    "decentral_generation_012021 = filter_on_4_municipalities(decentral_generation_012021)\n",
    "\n",
    "decentral_generation_072021 = load_enexis_data('../data/Enexis_decentrale_opwek_kv_(zon_pv)_01072021.csv')\n",
    "decentral_generation_072021 = filter_on_4_municipalities(decentral_generation_072021)   \n",
    "\n",
    "decentral_generation_012022 = load_enexis_data('../data/Enexis_decentrale_opwek_kv_(zon_pv)_01012022.csv')\n",
    "decentral_generation_012022 = filter_on_4_municipalities(decentral_generation_012022)     "
   ]
  },
  {
   "cell_type": "markdown",
   "metadata": {
    "cell_id": "e07e85136f044796b769afd01ac6b81d",
    "deepnote_cell_type": "text-cell-p",
    "is_collapsed": false,
    "tags": []
   },
   "source": [
    "Keep only data from selected municipalities and get the total number of pv connections there:"
   ]
  },
  {
   "cell_type": "code",
   "execution_count": null,
   "metadata": {
    "cell_id": "ded6c925539a4bd8bfc537760b5b3d9d",
    "deepnote_cell_height": 374.953125,
    "deepnote_cell_type": "code",
    "deepnote_output_heights": [
     97.96875
    ],
    "deepnote_to_be_reexecuted": false,
    "execution_millis": 68,
    "execution_start": 1652893412170,
    "source_hash": "3101d9eb",
    "tags": []
   },
   "outputs": [],
   "source": [
    "totalNumberOfPVConnections012020 = summarize_number_of_connections(decentral_generation_012020)\n",
    "totalNumberOfPVConnections072020 = summarize_number_of_connections(decentral_generation_072020)\n",
    "totalNumberOfPVConnections012021 = summarize_number_of_connections(decentral_generation_012021)\n",
    "totalNumberOfPVConnections072021 = summarize_number_of_connections(decentral_generation_072021)\n",
    "totalNumberOfPVConnections012022 = summarize_number_of_connections(decentral_generation_012022)"
   ]
  },
  {
   "cell_type": "markdown",
   "metadata": {
    "cell_id": "62cf6517f5694275b87a210108826faf",
    "deepnote_cell_type": "text-cell-p",
    "is_collapsed": false,
    "tags": []
   },
   "source": [
    "Note that 'Arnhem' is not part of the Enexis data. This is because it is not in their servicing area."
   ]
  },
  {
   "cell_type": "markdown",
   "metadata": {
    "cell_id": "dda2c276e5b449b9be4f6710b9d2eb8f",
    "deepnote_cell_type": "text-cell-p",
    "is_collapsed": false,
    "tags": []
   },
   "source": [
    "Do the same for the generative power ('opgesteld vermogen'):"
   ]
  },
  {
   "cell_type": "code",
   "execution_count": null,
   "metadata": {
    "cell_id": "98f216a4fbed424399a2e3414bc07c82",
    "deepnote_cell_height": 356.953125,
    "deepnote_cell_type": "code",
    "deepnote_output_heights": [
     97.96875
    ],
    "deepnote_to_be_reexecuted": false,
    "execution_millis": 2,
    "execution_start": 1652893412356,
    "source_hash": "f57234ca",
    "tags": []
   },
   "outputs": [],
   "source": [
    "totalOpgesteldVermogen012020 = summarize_opgesteld_vermogen(decentral_generation_012020)\n",
    "totalOpgesteldVermogen072020 = summarize_opgesteld_vermogen(decentral_generation_072020)\n",
    "totalOpgesteldVermogen012021 = summarize_opgesteld_vermogen(decentral_generation_012021)\n",
    "totalOpgesteldVermogen072021 = summarize_opgesteld_vermogen(decentral_generation_072021)\n",
    "totalOpgesteldVermogen012022 = summarize_opgesteld_vermogen(decentral_generation_012022)"
   ]
  },
  {
   "cell_type": "code",
   "execution_count": null,
   "metadata": {},
   "outputs": [],
   "source": [
    "def create_row(id, regio, period, installations, generative_power):\n",
    "    return {\"ID\":id, \"BedrijfstakkenWoningen\":\"Woningen\",\n",
    "        \"RegioS\":regio, \"Perioden\":period,\n",
    "        \"AantalInstallaties_1\":installations, \"OpgesteldVermogenVanZonnepanelen_2\":generative_power}"
   ]
  },
  {
   "cell_type": "markdown",
   "metadata": {
    "cell_id": "68af80f61b934b0c9cb164028fbbb0d3",
    "deepnote_cell_type": "text-cell-p",
    "is_collapsed": false,
    "tags": []
   },
   "source": [
    "Add the data to the CBS data and create one graph from it."
   ]
  },
  {
   "cell_type": "code",
   "execution_count": null,
   "metadata": {
    "cell_id": "2637c0b5e3ef4ed788cc01249d66773b",
    "deepnote_cell_height": 717.875,
    "deepnote_cell_type": "code",
    "deepnote_to_be_reexecuted": false,
    "execution_millis": 55,
    "execution_start": 1652896089743,
    "source_hash": "80ee2e7a",
    "tags": []
   },
   "outputs": [],
   "source": [
    "best = \"Best\"\n",
    "den_bosch = \"'s-Hertogenbosch\"\n",
    "den_bosch_july_2020 = \"s-Hertogenbosch\"\n",
    "loon_op_zand = \"Loon op Zand\"\n",
    "\n",
    "bestRow01012020 = create_row(67890,\"Best (Enexis)\", \"2020-1\", totalNumberOfPVConnections012020[best], totalOpgesteldVermogen012020[best] )\n",
    "sHertogenboschRow01012020 =  create_row(67891, \"'s-Hertogenbosch (Enexis)\", \"2020-1\", totalNumberOfPVConnections012020[den_bosch], totalOpgesteldVermogen012020[den_bosch] ) \n",
    "loonOpZandRow01012020 = create_row(67892, \"Loon op Zand (Enexis)\", \"2020-1\", totalNumberOfPVConnections012020[loon_op_zand], totalOpgesteldVermogen012020[loon_op_zand] )\n",
    "\n",
    "bestRow01072020 = create_row(67893,\"Best (Enexis)\", \"2020-7\", totalNumberOfPVConnections072020[best], totalOpgesteldVermogen072020[best] )\n",
    "sHertogenboschRow01072020 =  create_row(67894,  \"'s-Hertogenbosch (Enexis)\", \"2020-7\", totalNumberOfPVConnections072020[den_bosch_july_2020], totalOpgesteldVermogen072020[den_bosch_july_2020] ) \n",
    "loonOpZandRow01072020 = create_row(67895, \"Loon op Zand (Enexis)\", \"2020-7\", totalNumberOfPVConnections072020[loon_op_zand], totalOpgesteldVermogen072020[loon_op_zand] )\n",
    "\n",
    "bestRow01012021 = create_row(67896,\"Best (Enexis)\", \"2021-1\", totalNumberOfPVConnections012021[best], totalOpgesteldVermogen012021[best] )\n",
    "sHertogenboschRow01012021 =  create_row(67897, \"'s-Hertogenbosch (Enexis)\", \"2021-1\", totalNumberOfPVConnections012021[den_bosch], totalOpgesteldVermogen012021[den_bosch] ) \n",
    "loonOpZandRow01012021 = create_row(67898, \"Loon op Zand (Enexis)\", \"2021-1\", totalNumberOfPVConnections012021[loon_op_zand], totalOpgesteldVermogen012021[loon_op_zand] )\n",
    "\n",
    "bestRow01072021 = create_row(67899,\"Best (Enexis)\", \"2021-7\", totalNumberOfPVConnections072021[best], totalOpgesteldVermogen072021[best] )\n",
    "sHertogenboschRow01072021 =  create_row(67900, \"'s-Hertogenbosch (Enexis)\", \"2021-7\", totalNumberOfPVConnections072021[den_bosch], totalOpgesteldVermogen072021[den_bosch] ) \n",
    "loonOpZandRow01072021 = create_row(67901, \"Loon op Zand (Enexis)\", \"2021-7\", totalNumberOfPVConnections072021[loon_op_zand], totalOpgesteldVermogen072021[loon_op_zand] )\n",
    "\n",
    "bestRow01012022 = create_row(67902,\"Best (Enexis)\", \"2022-1\", totalNumberOfPVConnections012022[best], totalOpgesteldVermogen012022[best] )\n",
    "sHertogenboschRow01012022 =  create_row(67903, \"'s-Hertogenbosch (Enexis)\", \"2022-1\", totalNumberOfPVConnections012022[den_bosch], totalOpgesteldVermogen012022[den_bosch] ) \n",
    "loonOpZandRow01012022 = create_row(67904, \"Loon op Zand (Enexis)\", \"2022-1\", totalNumberOfPVConnections012022[loon_op_zand], totalOpgesteldVermogen012022[loon_op_zand] )\n",
    "\n",
    "df = df_zonnestroom_2019.append(bestRow01012020, ignore_index=True)\n",
    "df = df.append(sHertogenboschRow01012020, ignore_index=True)\n",
    "df = df.append(loonOpZandRow01012020, ignore_index=True)\n",
    "\n",
    "df = df.append(bestRow01072020, ignore_index=True)\n",
    "df = df.append(sHertogenboschRow01072020, ignore_index=True)\n",
    "df = df.append(loonOpZandRow01072020, ignore_index=True)\n",
    "\n",
    "df = df.append(bestRow01012021, ignore_index=True)\n",
    "df = df.append(sHertogenboschRow01012021, ignore_index=True)\n",
    "df = df.append(loonOpZandRow01012021, ignore_index=True)\n",
    "\n",
    "df = df.append(bestRow01072021, ignore_index=True)\n",
    "df = df.append(sHertogenboschRow01072021, ignore_index=True)\n",
    "df = df.append(loonOpZandRow01072021, ignore_index=True)\n",
    "\n",
    "df = df.append(bestRow01012022, ignore_index=True)\n",
    "df = df.append(sHertogenboschRow01012022, ignore_index=True)\n",
    "df = df.append(loonOpZandRow01012022, ignore_index=True)\n"
   ]
  },
  {
   "cell_type": "markdown",
   "metadata": {},
   "source": [
    "Logarithmic scale"
   ]
  },
  {
   "cell_type": "code",
   "execution_count": null,
   "metadata": {
    "cell_id": "d0e92fb819af4e7085f2b84a616ed140",
    "deepnote_app_coordinates": {
     "h": 5,
     "w": 12,
     "x": 0,
     "y": 0
    },
    "deepnote_cell_height": 919.53125,
    "deepnote_cell_type": "code",
    "deepnote_output_heights": [
     606.546875
    ],
    "deepnote_to_be_reexecuted": false,
    "execution_millis": 45,
    "execution_start": 1652896626692,
    "source_hash": "d7ef9226",
    "tags": []
   },
   "outputs": [],
   "source": [
    "combinedDataChart_log_scale = alt.Chart(df).mark_point().encode(\n",
    "    alt.X(alt.repeat(\"column\"), type='temporal', title='Year'),\n",
    "    alt.Y(alt.repeat(\"row\"), type='quantitative',\n",
    "    scale=alt.Scale(type=\"log\")),\n",
    "    color='RegioS:N'\n",
    ").properties(\n",
    "    width=500,\n",
    "    height=400\n",
    ").repeat(\n",
    "    column=['Perioden'],\n",
    "    row=['AantalInstallaties_1', 'OpgesteldVermogenVanZonnepanelen_2'],\n",
    "    \n",
    ")\n",
    "combinedDataChart_log_scale"
   ]
  },
  {
   "cell_type": "markdown",
   "metadata": {},
   "source": [
    "Non-logarithmic scale"
   ]
  },
  {
   "cell_type": "code",
   "execution_count": null,
   "metadata": {},
   "outputs": [],
   "source": [
    "combinedDataChart = alt.Chart(df).mark_point().encode(\n",
    "    alt.X(alt.repeat(\"column\"), type='temporal', title='Year'),\n",
    "    alt.Y(alt.repeat(\"row\"), type='quantitative'),\n",
    "    color='RegioS:N'\n",
    ").properties(\n",
    "    width=500,\n",
    "    height=400\n",
    ").repeat(\n",
    "    column=['Perioden'],\n",
    "    row=['AantalInstallaties_1', 'OpgesteldVermogenVanZonnepanelen_2'],\n",
    "    \n",
    ")\n",
    "combinedDataChart"
   ]
  },
  {
   "cell_type": "markdown",
   "metadata": {
    "cell_id": "a6081b9215614540a96011be8f00a6c8",
    "deepnote_app_coordinates": {
     "h": 3,
     "w": 12,
     "x": 0,
     "y": 108
    },
    "deepnote_cell_type": "text-cell-h2",
    "is_collapsed": false,
    "tags": []
   },
   "source": [
    "## Observations:"
   ]
  },
  {
   "cell_type": "markdown",
   "metadata": {
    "cell_id": "b2b16c9fed424e2f8c1fe92ad593fab0",
    "deepnote_app_coordinates": {
     "h": 2,
     "w": 8,
     "x": 0,
     "y": 131
    },
    "deepnote_cell_type": "text-cell-p",
    "is_collapsed": false,
    "tags": []
   },
   "source": [
    "Comparing municipalities shows the same general form of the data, depending mainly on the size of the municipality."
   ]
  },
  {
   "cell_type": "markdown",
   "metadata": {
    "cell_id": "7c3d7bc55fed49d88ab4827e8687f392",
    "deepnote_app_coordinates": {
     "h": 2,
     "w": 8,
     "x": 0,
     "y": 128
    },
    "deepnote_cell_type": "text-cell-p",
    "is_collapsed": false,
    "tags": []
   },
   "source": [
    "The CBS zonnestroom data 2019 accounts for the data of all of 2019, up to 31-12-2019. The Enexis data is of 1-1-2020, so these values (even though they are spaced 'a year' apart, are about the same information. Therefore the zonnestroom data has been set to december of the year. In the graphs there is no value for Arnhem on 1-1-2020, that is because it is not in the Enexis service area. Therefore the 'Arnhem data' has been left out of the graphs."
   ]
  },
  {
   "cell_type": "markdown",
   "metadata": {
    "cell_id": "49d7b1413dd34a5eb335750cd554299b",
    "deepnote_app_coordinates": {
     "h": 2,
     "w": 8,
     "x": 0,
     "y": 125
    },
    "deepnote_cell_type": "text-cell-p",
    "is_collapsed": false,
    "owner_user_id": "3a407f58-94ec-4c0a-b0a5-c938869484b1",
    "tags": []
   },
   "source": [
    "For the municipalities observed, we see close alignment between the CBS zonnestroom and Enexis data for the number of installations. For the installed power we see that the Enexis values are slightly higher."
   ]
  },
  {
   "cell_type": "markdown",
   "metadata": {
    "created_in_deepnote_cell": true,
    "deepnote_cell_type": "markdown",
    "tags": []
   },
   "source": [
    "<a style='text-decoration:none;line-height:16px;display:flex;color:#5B5B62;padding:10px;justify-content:end;' href='https://deepnote.com?utm_source=created-in-deepnote-cell&projectId=d0604020-40e6-4d7d-a2ba-74ef2b385723' target=\"_blank\">\n",
    "<img alt='Created in deepnote.com' style='display:inline;max-height:16px;margin:0px;margin-right:7.5px;' src='data:image/svg+xml;base64,PD94bWwgdmVyc2lvbj0iMS4wIiBlbmNvZGluZz0iVVRGLTgiPz4KPHN2ZyB3aWR0aD0iODBweCIgaGVpZ2h0PSI4MHB4IiB2aWV3Qm94PSIwIDAgODAgODAiIHZlcnNpb249IjEuMSIgeG1sbnM9Imh0dHA6Ly93d3cudzMub3JnLzIwMDAvc3ZnIiB4bWxuczp4bGluaz0iaHR0cDovL3d3dy53My5vcmcvMTk5OS94bGluayI+CiAgICA8IS0tIEdlbmVyYXRvcjogU2tldGNoIDU0LjEgKDc2NDkwKSAtIGh0dHBzOi8vc2tldGNoYXBwLmNvbSAtLT4KICAgIDx0aXRsZT5Hcm91cCAzPC90aXRsZT4KICAgIDxkZXNjPkNyZWF0ZWQgd2l0aCBTa2V0Y2guPC9kZXNjPgogICAgPGcgaWQ9IkxhbmRpbmciIHN0cm9rZT0ibm9uZSIgc3Ryb2tlLXdpZHRoPSIxIiBmaWxsPSJub25lIiBmaWxsLXJ1bGU9ImV2ZW5vZGQiPgogICAgICAgIDxnIGlkPSJBcnRib2FyZCIgdHJhbnNmb3JtPSJ0cmFuc2xhdGUoLTEyMzUuMDAwMDAwLCAtNzkuMDAwMDAwKSI+CiAgICAgICAgICAgIDxnIGlkPSJHcm91cC0zIiB0cmFuc2Zvcm09InRyYW5zbGF0ZSgxMjM1LjAwMDAwMCwgNzkuMDAwMDAwKSI+CiAgICAgICAgICAgICAgICA8cG9seWdvbiBpZD0iUGF0aC0yMCIgZmlsbD0iIzAyNjVCNCIgcG9pbnRzPSIyLjM3NjIzNzYyIDgwIDM4LjA0NzY2NjcgODAgNTcuODIxNzgyMiA3My44MDU3NTkyIDU3LjgyMTc4MjIgMzIuNzU5MjczOSAzOS4xNDAyMjc4IDMxLjY4MzE2ODMiPjwvcG9seWdvbj4KICAgICAgICAgICAgICAgIDxwYXRoIGQ9Ik0zNS4wMDc3MTgsODAgQzQyLjkwNjIwMDcsNzYuNDU0OTM1OCA0Ny41NjQ5MTY3LDcxLjU0MjI2NzEgNDguOTgzODY2LDY1LjI2MTk5MzkgQzUxLjExMjI4OTksNTUuODQxNTg0MiA0MS42NzcxNzk1LDQ5LjIxMjIyODQgMjUuNjIzOTg0Niw0OS4yMTIyMjg0IEMyNS40ODQ5Mjg5LDQ5LjEyNjg0NDggMjkuODI2MTI5Niw0My4yODM4MjQ4IDM4LjY0NzU4NjksMzEuNjgzMTY4MyBMNzIuODcxMjg3MSwzMi41NTQ0MjUgTDY1LjI4MDk3Myw2Ny42NzYzNDIxIEw1MS4xMTIyODk5LDc3LjM3NjE0NCBMMzUuMDA3NzE4LDgwIFoiIGlkPSJQYXRoLTIyIiBmaWxsPSIjMDAyODY4Ij48L3BhdGg+CiAgICAgICAgICAgICAgICA8cGF0aCBkPSJNMCwzNy43MzA0NDA1IEwyNy4xMTQ1MzcsMC4yNTcxMTE0MzYgQzYyLjM3MTUxMjMsLTEuOTkwNzE3MDEgODAsMTAuNTAwMzkyNyA4MCwzNy43MzA0NDA1IEM4MCw2NC45NjA0ODgyIDY0Ljc3NjUwMzgsNzkuMDUwMzQxNCAzNC4zMjk1MTEzLDgwIEM0Ny4wNTUzNDg5LDc3LjU2NzA4MDggNTMuNDE4MjY3Nyw3MC4zMTM2MTAzIDUzLjQxODI2NzcsNTguMjM5NTg4NSBDNTMuNDE4MjY3Nyw0MC4xMjg1NTU3IDM2LjMwMzk1NDQsMzcuNzMwNDQwNSAyNS4yMjc0MTcsMzcuNzMwNDQwNSBDMTcuODQzMDU4NiwzNy43MzA0NDA1IDkuNDMzOTE5NjYsMzcuNzMwNDQwNSAwLDM3LjczMDQ0MDUgWiIgaWQ9IlBhdGgtMTkiIGZpbGw9IiMzNzkzRUYiPjwvcGF0aD4KICAgICAgICAgICAgPC9nPgogICAgICAgIDwvZz4KICAgIDwvZz4KPC9zdmc+' > </img>\n",
    "Created in <span style='font-weight:600;margin-left:4px;'>Deepnote</span></a>"
   ]
  }
 ],
 "metadata": {
  "deepnote": {},
  "deepnote_app_layout": "article",
  "deepnote_execution_queue": [],
  "deepnote_notebook_id": "1390749e-c47b-42ca-940b-336d0fe94e64",
  "interpreter": {
   "hash": "4b5eed231ec0c115323e225ce5385d6626cfb048417038261eb3d8b8d0f3984b"
  },
  "kernelspec": {
   "display_name": "Python 3.9.7 ('base')",
   "language": "python",
   "name": "python3"
  },
  "language_info": {
   "codemirror_mode": {
    "name": "ipython",
    "version": 3
   },
   "file_extension": ".py",
   "mimetype": "text/x-python",
   "name": "python",
   "nbconvert_exporter": "python",
   "pygments_lexer": "ipython3",
   "version": "3.9.7"
  },
  "orig_nbformat": 4
 },
 "nbformat": 4,
 "nbformat_minor": 2
}
