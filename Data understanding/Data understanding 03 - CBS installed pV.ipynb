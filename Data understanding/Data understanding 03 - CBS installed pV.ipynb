{
 "cells": [
  {
   "cell_type": "markdown",
   "metadata": {
    "cell_id": "123acf56-c2bd-4c7e-aa0e-c1a72fe8213a",
    "deepnote_cell_height": 122.78125,
    "deepnote_cell_type": "markdown"
   },
   "source": [
    "### Data understanding 03 - CBS installed pV\n",
    "What does the data look like? \n",
    "We take a look at the development of the installed pV in time. What are the differences and what are the simularities between a set of selected municipalities (Den Bosch, Arnhem, Best and Loon op Zand)"
   ]
  },
  {
   "cell_type": "code",
   "execution_count": 1,
   "metadata": {
    "cell_id": "00002-b036a20f-e683-4d29-99ce-5904adcef5c8",
    "deepnote_cell_height": 791,
    "deepnote_cell_type": "code",
    "deepnote_to_be_reexecuted": false,
    "execution_millis": 19141,
    "execution_start": 1652637070144,
    "source_hash": "f11e9a3d"
   },
   "outputs": [
    {
     "name": "stdout",
     "output_type": "stream",
     "text": [
      "Requirement already satisfied: pip in c:\\users\\cjf_v\\miniconda3\\lib\\site-packages (21.2.4)\n",
      "Collecting pip\n"
     ]
    },
    {
     "name": "stderr",
     "output_type": "stream",
     "text": [
      "WARNING: Error parsing requirements for statsmodels: [Errno 2] No such file or directory: 'c:\\\\users\\\\cjf_v\\\\miniconda3\\\\lib\\\\site-packages\\\\statsmodels-0.13.1.dist-info\\\\METADATA'\n"
     ]
    },
    {
     "name": "stdout",
     "output_type": "stream",
     "text": [
      "  Downloading pip-22.1-py3-none-any.whl (2.1 MB)\n",
      "Installing collected packages: pip\n",
      "  Attempting uninstall: pip\n",
      "    Found existing installation: pip 21.2.4\n",
      "    Uninstalling pip-21.2.4:\n",
      "      Successfully uninstalled pip-21.2.4\n",
      "Successfully installed pip-22.1\n",
      "Requirement already satisfied: altair in c:\\users\\cjf_v\\miniconda3\\lib\\site-packages (4.2.0)\n",
      "Requirement already satisfied: numpy in c:\\users\\cjf_v\\miniconda3\\lib\\site-packages (from altair) (1.21.5)\n",
      "Requirement already satisfied: jsonschema>=3.0 in c:\\users\\cjf_v\\miniconda3\\lib\\site-packages (from altair) (3.2.0)\n",
      "Requirement already satisfied: toolz in c:\\users\\cjf_v\\miniconda3\\lib\\site-packages (from altair) (0.11.2)\n",
      "Requirement already satisfied: entrypoints in c:\\users\\cjf_v\\miniconda3\\lib\\site-packages (from altair) (0.3)\n",
      "Requirement already satisfied: jinja2 in c:\\users\\cjf_v\\miniconda3\\lib\\site-packages (from altair) (3.0.3)\n",
      "Requirement already satisfied: pandas>=0.18 in c:\\users\\cjf_v\\miniconda3\\lib\\site-packages (from altair) (1.4.2)\n",
      "Requirement already satisfied: pyrsistent>=0.14.0 in c:\\users\\cjf_v\\miniconda3\\lib\\site-packages (from jsonschema>=3.0->altair) (0.18.0)\n",
      "Requirement already satisfied: attrs>=17.4.0 in c:\\users\\cjf_v\\miniconda3\\lib\\site-packages (from jsonschema>=3.0->altair) (21.4.0)\n",
      "Requirement already satisfied: six>=1.11.0 in c:\\users\\cjf_v\\miniconda3\\lib\\site-packages (from jsonschema>=3.0->altair) (1.16.0)\n",
      "Requirement already satisfied: setuptools in c:\\users\\cjf_v\\miniconda3\\lib\\site-packages (from jsonschema>=3.0->altair) (58.0.4)\n",
      "Requirement already satisfied: pytz>=2020.1 in c:\\users\\cjf_v\\miniconda3\\lib\\site-packages (from pandas>=0.18->altair) (2021.3)\n",
      "Requirement already satisfied: python-dateutil>=2.8.1 in c:\\users\\cjf_v\\miniconda3\\lib\\site-packages (from pandas>=0.18->altair) (2.8.2)\n",
      "Requirement already satisfied: MarkupSafe>=2.0 in c:\\users\\cjf_v\\miniconda3\\lib\\site-packages (from jinja2->altair) (2.0.1)\n"
     ]
    },
    {
     "name": "stderr",
     "output_type": "stream",
     "text": [
      "WARNING: Error parsing requirements for statsmodels: [Errno 2] No such file or directory: 'c:\\\\users\\\\cjf_v\\\\miniconda3\\\\lib\\\\site-packages\\\\statsmodels-0.13.1.dist-info\\\\METADATA'\n"
     ]
    },
    {
     "name": "stdout",
     "output_type": "stream",
     "text": [
      "Requirement already satisfied: jupyter in c:\\users\\cjf_v\\miniconda3\\lib\\site-packages (1.0.0)\n",
      "Requirement already satisfied: pandas in c:\\users\\cjf_v\\miniconda3\\lib\\site-packages (1.4.2)\n",
      "Collecting vega\n",
      "  Downloading vega-3.6.0-py3-none-any.whl (1.3 MB)\n",
      "     ---------------------------------------- 1.3/1.3 MB 2.8 MB/s eta 0:00:00\n",
      "Requirement already satisfied: notebook in c:\\users\\cjf_v\\miniconda3\\lib\\site-packages (from jupyter) (6.4.8)\n",
      "Requirement already satisfied: nbconvert in c:\\users\\cjf_v\\miniconda3\\lib\\site-packages (from jupyter) (6.1.0)\n",
      "Requirement already satisfied: qtconsole in c:\\users\\cjf_v\\miniconda3\\lib\\site-packages (from jupyter) (5.3.0)\n",
      "Requirement already satisfied: ipykernel in c:\\users\\cjf_v\\miniconda3\\lib\\site-packages (from jupyter) (6.9.1)\n",
      "Requirement already satisfied: jupyter-console in c:\\users\\cjf_v\\miniconda3\\lib\\site-packages (from jupyter) (6.4.3)\n",
      "Requirement already satisfied: ipywidgets in c:\\users\\cjf_v\\miniconda3\\lib\\site-packages (from jupyter) (7.6.5)\n",
      "Requirement already satisfied: python-dateutil>=2.8.1 in c:\\users\\cjf_v\\miniconda3\\lib\\site-packages (from pandas) (2.8.2)\n",
      "Requirement already satisfied: pytz>=2020.1 in c:\\users\\cjf_v\\miniconda3\\lib\\site-packages (from pandas) (2021.3)\n",
      "Requirement already satisfied: numpy>=1.18.5 in c:\\users\\cjf_v\\miniconda3\\lib\\site-packages (from pandas) (1.21.5)\n",
      "Requirement already satisfied: six>=1.5 in c:\\users\\cjf_v\\miniconda3\\lib\\site-packages (from python-dateutil>=2.8.1->pandas) (1.16.0)\n",
      "Requirement already satisfied: ipython>=7.23.1 in c:\\users\\cjf_v\\miniconda3\\lib\\site-packages (from ipykernel->jupyter) (8.2.0)\n",
      "Requirement already satisfied: jupyter-client<8.0 in c:\\users\\cjf_v\\miniconda3\\lib\\site-packages (from ipykernel->jupyter) (7.1.2)\n",
      "Requirement already satisfied: traitlets<6.0,>=5.1.0 in c:\\users\\cjf_v\\miniconda3\\lib\\site-packages (from ipykernel->jupyter) (5.1.1)\n",
      "Requirement already satisfied: tornado<7.0,>=4.2 in c:\\users\\cjf_v\\miniconda3\\lib\\site-packages (from ipykernel->jupyter) (6.1)\n",
      "Requirement already satisfied: debugpy<2.0,>=1.0.0 in c:\\users\\cjf_v\\miniconda3\\lib\\site-packages (from ipykernel->jupyter) (1.5.1)\n",
      "Requirement already satisfied: matplotlib-inline<0.2.0,>=0.1.0 in c:\\users\\cjf_v\\miniconda3\\lib\\site-packages (from ipykernel->jupyter) (0.1.2)\n",
      "Requirement already satisfied: nest-asyncio in c:\\users\\cjf_v\\miniconda3\\lib\\site-packages (from ipykernel->jupyter) (1.5.1)\n",
      "Requirement already satisfied: nbformat>=4.2.0 in c:\\users\\cjf_v\\miniconda3\\lib\\site-packages (from ipywidgets->jupyter) (5.1.3)\n",
      "Requirement already satisfied: widgetsnbextension~=3.5.0 in c:\\users\\cjf_v\\miniconda3\\lib\\site-packages (from ipywidgets->jupyter) (3.5.2)\n",
      "Requirement already satisfied: ipython-genutils~=0.2.0 in c:\\users\\cjf_v\\miniconda3\\lib\\site-packages (from ipywidgets->jupyter) (0.2.0)\n",
      "Requirement already satisfied: jupyterlab-widgets>=1.0.0 in c:\\users\\cjf_v\\miniconda3\\lib\\site-packages (from ipywidgets->jupyter) (1.0.0)\n",
      "Requirement already satisfied: prompt-toolkit!=3.0.0,!=3.0.1,<3.1.0,>=2.0.0 in c:\\users\\cjf_v\\miniconda3\\lib\\site-packages (from jupyter-console->jupyter) (3.0.20)\n",
      "Requirement already satisfied: pygments in c:\\users\\cjf_v\\miniconda3\\lib\\site-packages (from jupyter-console->jupyter) (2.11.2)\n",
      "Requirement already satisfied: jupyter-core in c:\\users\\cjf_v\\miniconda3\\lib\\site-packages (from nbconvert->jupyter) (4.9.2)\n",
      "Requirement already satisfied: pandocfilters>=1.4.1 in c:\\users\\cjf_v\\miniconda3\\lib\\site-packages (from nbconvert->jupyter) (1.5.0)\n",
      "Requirement already satisfied: bleach in c:\\users\\cjf_v\\miniconda3\\lib\\site-packages (from nbconvert->jupyter) (4.1.0)\n",
      "Requirement already satisfied: jinja2>=2.4 in c:\\users\\cjf_v\\miniconda3\\lib\\site-packages (from nbconvert->jupyter) (3.0.3)\n",
      "Requirement already satisfied: mistune<2,>=0.8.1 in c:\\users\\cjf_v\\miniconda3\\lib\\site-packages (from nbconvert->jupyter) (0.8.4)\n",
      "Requirement already satisfied: jupyterlab-pygments in c:\\users\\cjf_v\\miniconda3\\lib\\site-packages (from nbconvert->jupyter) (0.1.2)\n",
      "Requirement already satisfied: nbclient<0.6.0,>=0.5.0 in c:\\users\\cjf_v\\miniconda3\\lib\\site-packages (from nbconvert->jupyter) (0.5.11)\n",
      "Requirement already satisfied: defusedxml in c:\\users\\cjf_v\\miniconda3\\lib\\site-packages (from nbconvert->jupyter) (0.7.1)\n",
      "Requirement already satisfied: testpath in c:\\users\\cjf_v\\miniconda3\\lib\\site-packages (from nbconvert->jupyter) (0.5.0)\n",
      "Requirement already satisfied: entrypoints>=0.2.2 in c:\\users\\cjf_v\\miniconda3\\lib\\site-packages (from nbconvert->jupyter) (0.3)\n",
      "Requirement already satisfied: argon2-cffi in c:\\users\\cjf_v\\miniconda3\\lib\\site-packages (from notebook->jupyter) (21.3.0)\n",
      "Requirement already satisfied: Send2Trash>=1.8.0 in c:\\users\\cjf_v\\miniconda3\\lib\\site-packages (from notebook->jupyter) (1.8.0)\n",
      "Requirement already satisfied: prometheus-client in c:\\users\\cjf_v\\miniconda3\\lib\\site-packages (from notebook->jupyter) (0.13.1)\n",
      "Requirement already satisfied: terminado>=0.8.3 in c:\\users\\cjf_v\\miniconda3\\lib\\site-packages (from notebook->jupyter) (0.13.1)\n",
      "Requirement already satisfied: pyzmq>=17 in c:\\users\\cjf_v\\miniconda3\\lib\\site-packages (from notebook->jupyter) (22.3.0)\n",
      "Requirement already satisfied: qtpy>=2.0.1 in c:\\users\\cjf_v\\miniconda3\\lib\\site-packages (from qtconsole->jupyter) (2.0.1)\n",
      "Requirement already satisfied: setuptools>=18.5 in c:\\users\\cjf_v\\miniconda3\\lib\\site-packages (from ipython>=7.23.1->ipykernel->jupyter) (58.0.4)\n",
      "Requirement already satisfied: decorator in c:\\users\\cjf_v\\miniconda3\\lib\\site-packages (from ipython>=7.23.1->ipykernel->jupyter) (5.1.1)\n",
      "Requirement already satisfied: colorama in c:\\users\\cjf_v\\miniconda3\\lib\\site-packages (from ipython>=7.23.1->ipykernel->jupyter) (0.4.4)\n",
      "Requirement already satisfied: stack-data in c:\\users\\cjf_v\\miniconda3\\lib\\site-packages (from ipython>=7.23.1->ipykernel->jupyter) (0.2.0)\n",
      "Requirement already satisfied: pickleshare in c:\\users\\cjf_v\\miniconda3\\lib\\site-packages (from ipython>=7.23.1->ipykernel->jupyter) (0.7.5)\n",
      "Requirement already satisfied: backcall in c:\\users\\cjf_v\\miniconda3\\lib\\site-packages (from ipython>=7.23.1->ipykernel->jupyter) (0.2.0)\n",
      "Requirement already satisfied: jedi>=0.16 in c:\\users\\cjf_v\\miniconda3\\lib\\site-packages (from ipython>=7.23.1->ipykernel->jupyter) (0.18.1)\n",
      "Requirement already satisfied: MarkupSafe>=2.0 in c:\\users\\cjf_v\\miniconda3\\lib\\site-packages (from jinja2>=2.4->nbconvert->jupyter) (2.0.1)\n",
      "Requirement already satisfied: pywin32>=1.0 in c:\\users\\cjf_v\\miniconda3\\lib\\site-packages (from jupyter-core->nbconvert->jupyter) (302)\n",
      "Requirement already satisfied: jsonschema!=2.5.0,>=2.4 in c:\\users\\cjf_v\\miniconda3\\lib\\site-packages (from nbformat>=4.2.0->ipywidgets->jupyter) (3.2.0)\n",
      "Requirement already satisfied: wcwidth in c:\\users\\cjf_v\\miniconda3\\lib\\site-packages (from prompt-toolkit!=3.0.0,!=3.0.1,<3.1.0,>=2.0.0->jupyter-console->jupyter) (0.2.5)\n",
      "Requirement already satisfied: packaging in c:\\users\\cjf_v\\miniconda3\\lib\\site-packages (from qtpy>=2.0.1->qtconsole->jupyter) (21.3)\n",
      "Requirement already satisfied: pywinpty>=1.1.0 in c:\\users\\cjf_v\\miniconda3\\lib\\site-packages (from terminado>=0.8.3->notebook->jupyter) (2.0.2)\n",
      "Requirement already satisfied: argon2-cffi-bindings in c:\\users\\cjf_v\\miniconda3\\lib\\site-packages (from argon2-cffi->notebook->jupyter) (21.2.0)\n",
      "Requirement already satisfied: webencodings in c:\\users\\cjf_v\\miniconda3\\lib\\site-packages (from bleach->nbconvert->jupyter) (0.5.1)\n",
      "Requirement already satisfied: parso<0.9.0,>=0.8.0 in c:\\users\\cjf_v\\miniconda3\\lib\\site-packages (from jedi>=0.16->ipython>=7.23.1->ipykernel->jupyter) (0.8.3)\n",
      "Requirement already satisfied: pyrsistent>=0.14.0 in c:\\users\\cjf_v\\miniconda3\\lib\\site-packages (from jsonschema!=2.5.0,>=2.4->nbformat>=4.2.0->ipywidgets->jupyter) (0.18.0)\n",
      "Requirement already satisfied: attrs>=17.4.0 in c:\\users\\cjf_v\\miniconda3\\lib\\site-packages (from jsonschema!=2.5.0,>=2.4->nbformat>=4.2.0->ipywidgets->jupyter) (21.4.0)\n",
      "Requirement already satisfied: cffi>=1.0.1 in c:\\users\\cjf_v\\miniconda3\\lib\\site-packages (from argon2-cffi-bindings->argon2-cffi->notebook->jupyter) (1.15.0)\n",
      "Requirement already satisfied: pyparsing!=3.0.5,>=2.0.2 in c:\\users\\cjf_v\\miniconda3\\lib\\site-packages (from packaging->qtpy>=2.0.1->qtconsole->jupyter) (3.0.4)\n",
      "Requirement already satisfied: pure-eval in c:\\users\\cjf_v\\miniconda3\\lib\\site-packages (from stack-data->ipython>=7.23.1->ipykernel->jupyter) (0.2.2)\n",
      "Requirement already satisfied: asttokens in c:\\users\\cjf_v\\miniconda3\\lib\\site-packages (from stack-data->ipython>=7.23.1->ipykernel->jupyter) (2.0.5)\n",
      "Requirement already satisfied: executing in c:\\users\\cjf_v\\miniconda3\\lib\\site-packages (from stack-data->ipython>=7.23.1->ipykernel->jupyter) (0.8.3)\n",
      "Requirement already satisfied: pycparser in c:\\users\\cjf_v\\miniconda3\\lib\\site-packages (from cffi>=1.0.1->argon2-cffi-bindings->argon2-cffi->notebook->jupyter) (2.21)\n",
      "Installing collected packages: vega\n",
      "Successfully installed vega-3.6.0\n"
     ]
    },
    {
     "name": "stderr",
     "output_type": "stream",
     "text": [
      "WARNING: Error parsing requirements for statsmodels: [Errno 2] No such file or directory: 'c:\\\\users\\\\cjf_v\\\\miniconda3\\\\lib\\\\site-packages\\\\statsmodels-0.13.1.dist-info\\\\METADATA'\n",
      "ERROR: Invalid requirement: '#'\n"
     ]
    }
   ],
   "source": [
    "# !pip install cbsodata\n",
    "!pip install --upgrade pip\n",
    "!pip install altair --upgrade\n",
    "\n",
    "!pip install jupyter pandas vega\n",
    "!pip install --upgrade notebook  # need jupyter_client >= 4.2 for sys-prefix below"
   ]
  },
  {
   "cell_type": "code",
   "execution_count": 2,
   "metadata": {
    "cell_id": "00003-14bb1399-af96-4377-b3e8-abb9ef5c6497",
    "deepnote_cell_height": 153,
    "deepnote_cell_type": "code",
    "deepnote_to_be_reexecuted": false,
    "execution_millis": 2840,
    "execution_start": 1652637089285,
    "source_hash": "eef3ff8e"
   },
   "outputs": [],
   "source": [
    "import cbsodata\n",
    "import pandas as pd\n",
    "import seaborn as sns\n",
    "import matplotlib.pyplot as pl\n",
    "import altair as alt"
   ]
  },
  {
   "cell_type": "code",
   "execution_count": 3,
   "metadata": {
    "cell_id": "00004-7bfb58a1-7968-40f8-a298-0e6624c83ec2",
    "deepnote_cell_height": 522.875,
    "deepnote_cell_type": "code",
    "deepnote_table_loading": false,
    "deepnote_table_state": {
     "filters": [],
     "pageIndex": 3,
     "pageSize": 10,
     "sortBy": []
    },
    "deepnote_to_be_reexecuted": false,
    "execution_millis": 9019,
    "execution_start": 1652637092131,
    "source_hash": "8e701c88"
   },
   "outputs": [
    {
     "data": {
      "text/html": [
       "<div>\n",
       "<style scoped>\n",
       "    .dataframe tbody tr th:only-of-type {\n",
       "        vertical-align: middle;\n",
       "    }\n",
       "\n",
       "    .dataframe tbody tr th {\n",
       "        vertical-align: top;\n",
       "    }\n",
       "\n",
       "    .dataframe thead th {\n",
       "        text-align: right;\n",
       "    }\n",
       "</style>\n",
       "<table border=\"1\" class=\"dataframe\">\n",
       "  <thead>\n",
       "    <tr style=\"text-align: right;\">\n",
       "      <th></th>\n",
       "      <th>ID</th>\n",
       "      <th>BedrijfstakkenWoningen</th>\n",
       "      <th>RegioS</th>\n",
       "      <th>Perioden</th>\n",
       "      <th>AantalInstallaties_1</th>\n",
       "      <th>OpgesteldVermogenVanZonnepanelen_2</th>\n",
       "    </tr>\n",
       "  </thead>\n",
       "  <tbody>\n",
       "    <tr>\n",
       "      <th>3672</th>\n",
       "      <td>3672</td>\n",
       "      <td>Woningen</td>\n",
       "      <td>Arnhem</td>\n",
       "      <td>2012</td>\n",
       "      <td>336.0</td>\n",
       "      <td>694.0</td>\n",
       "    </tr>\n",
       "    <tr>\n",
       "      <th>3673</th>\n",
       "      <td>3673</td>\n",
       "      <td>Woningen</td>\n",
       "      <td>Arnhem</td>\n",
       "      <td>2013</td>\n",
       "      <td>778.0</td>\n",
       "      <td>2005.0</td>\n",
       "    </tr>\n",
       "    <tr>\n",
       "      <th>3674</th>\n",
       "      <td>3674</td>\n",
       "      <td>Woningen</td>\n",
       "      <td>Arnhem</td>\n",
       "      <td>2014</td>\n",
       "      <td>1135.0</td>\n",
       "      <td>3124.0</td>\n",
       "    </tr>\n",
       "    <tr>\n",
       "      <th>3675</th>\n",
       "      <td>3675</td>\n",
       "      <td>Woningen</td>\n",
       "      <td>Arnhem</td>\n",
       "      <td>2015</td>\n",
       "      <td>1772.0</td>\n",
       "      <td>4619.0</td>\n",
       "    </tr>\n",
       "    <tr>\n",
       "      <th>3676</th>\n",
       "      <td>3676</td>\n",
       "      <td>Woningen</td>\n",
       "      <td>Arnhem</td>\n",
       "      <td>2016</td>\n",
       "      <td>2530.0</td>\n",
       "      <td>7197.0</td>\n",
       "    </tr>\n",
       "    <tr>\n",
       "      <th>3677</th>\n",
       "      <td>3677</td>\n",
       "      <td>Woningen</td>\n",
       "      <td>Arnhem</td>\n",
       "      <td>2017</td>\n",
       "      <td>3182.0</td>\n",
       "      <td>9199.0</td>\n",
       "    </tr>\n",
       "    <tr>\n",
       "      <th>3678</th>\n",
       "      <td>3678</td>\n",
       "      <td>Woningen</td>\n",
       "      <td>Arnhem</td>\n",
       "      <td>2018</td>\n",
       "      <td>4952.0</td>\n",
       "      <td>14754.0</td>\n",
       "    </tr>\n",
       "    <tr>\n",
       "      <th>3679</th>\n",
       "      <td>3679</td>\n",
       "      <td>Woningen</td>\n",
       "      <td>Arnhem</td>\n",
       "      <td>2019</td>\n",
       "      <td>6384.0</td>\n",
       "      <td>20182.0</td>\n",
       "    </tr>\n",
       "    <tr>\n",
       "      <th>3816</th>\n",
       "      <td>3816</td>\n",
       "      <td>Woningen</td>\n",
       "      <td>Best</td>\n",
       "      <td>2012</td>\n",
       "      <td>81.0</td>\n",
       "      <td>253.0</td>\n",
       "    </tr>\n",
       "    <tr>\n",
       "      <th>3817</th>\n",
       "      <td>3817</td>\n",
       "      <td>Woningen</td>\n",
       "      <td>Best</td>\n",
       "      <td>2013</td>\n",
       "      <td>290.0</td>\n",
       "      <td>1054.0</td>\n",
       "    </tr>\n",
       "    <tr>\n",
       "      <th>3818</th>\n",
       "      <td>3818</td>\n",
       "      <td>Woningen</td>\n",
       "      <td>Best</td>\n",
       "      <td>2014</td>\n",
       "      <td>462.0</td>\n",
       "      <td>1630.0</td>\n",
       "    </tr>\n",
       "    <tr>\n",
       "      <th>3819</th>\n",
       "      <td>3819</td>\n",
       "      <td>Woningen</td>\n",
       "      <td>Best</td>\n",
       "      <td>2015</td>\n",
       "      <td>597.0</td>\n",
       "      <td>2224.0</td>\n",
       "    </tr>\n",
       "    <tr>\n",
       "      <th>3820</th>\n",
       "      <td>3820</td>\n",
       "      <td>Woningen</td>\n",
       "      <td>Best</td>\n",
       "      <td>2016</td>\n",
       "      <td>738.0</td>\n",
       "      <td>2727.0</td>\n",
       "    </tr>\n",
       "    <tr>\n",
       "      <th>3821</th>\n",
       "      <td>3821</td>\n",
       "      <td>Woningen</td>\n",
       "      <td>Best</td>\n",
       "      <td>2017</td>\n",
       "      <td>1023.0</td>\n",
       "      <td>3813.0</td>\n",
       "    </tr>\n",
       "    <tr>\n",
       "      <th>3822</th>\n",
       "      <td>3822</td>\n",
       "      <td>Woningen</td>\n",
       "      <td>Best</td>\n",
       "      <td>2018</td>\n",
       "      <td>1549.0</td>\n",
       "      <td>5660.0</td>\n",
       "    </tr>\n",
       "    <tr>\n",
       "      <th>3823</th>\n",
       "      <td>3823</td>\n",
       "      <td>Woningen</td>\n",
       "      <td>Best</td>\n",
       "      <td>2019</td>\n",
       "      <td>2444.0</td>\n",
       "      <td>9138.0</td>\n",
       "    </tr>\n",
       "    <tr>\n",
       "      <th>4608</th>\n",
       "      <td>4608</td>\n",
       "      <td>Woningen</td>\n",
       "      <td>'s-Hertogenbosch</td>\n",
       "      <td>2012</td>\n",
       "      <td>371.0</td>\n",
       "      <td>985.0</td>\n",
       "    </tr>\n",
       "    <tr>\n",
       "      <th>4609</th>\n",
       "      <td>4609</td>\n",
       "      <td>Woningen</td>\n",
       "      <td>'s-Hertogenbosch</td>\n",
       "      <td>2013</td>\n",
       "      <td>901.0</td>\n",
       "      <td>2859.0</td>\n",
       "    </tr>\n",
       "    <tr>\n",
       "      <th>4610</th>\n",
       "      <td>4610</td>\n",
       "      <td>Woningen</td>\n",
       "      <td>'s-Hertogenbosch</td>\n",
       "      <td>2014</td>\n",
       "      <td>1270.0</td>\n",
       "      <td>4269.0</td>\n",
       "    </tr>\n",
       "    <tr>\n",
       "      <th>4611</th>\n",
       "      <td>4611</td>\n",
       "      <td>Woningen</td>\n",
       "      <td>'s-Hertogenbosch</td>\n",
       "      <td>2015</td>\n",
       "      <td>1687.0</td>\n",
       "      <td>5748.0</td>\n",
       "    </tr>\n",
       "    <tr>\n",
       "      <th>4612</th>\n",
       "      <td>4612</td>\n",
       "      <td>Woningen</td>\n",
       "      <td>'s-Hertogenbosch</td>\n",
       "      <td>2016</td>\n",
       "      <td>2170.0</td>\n",
       "      <td>7464.0</td>\n",
       "    </tr>\n",
       "    <tr>\n",
       "      <th>4613</th>\n",
       "      <td>4613</td>\n",
       "      <td>Woningen</td>\n",
       "      <td>'s-Hertogenbosch</td>\n",
       "      <td>2017</td>\n",
       "      <td>2910.0</td>\n",
       "      <td>9936.0</td>\n",
       "    </tr>\n",
       "    <tr>\n",
       "      <th>4614</th>\n",
       "      <td>4614</td>\n",
       "      <td>Woningen</td>\n",
       "      <td>'s-Hertogenbosch</td>\n",
       "      <td>2018</td>\n",
       "      <td>4103.0</td>\n",
       "      <td>14162.0</td>\n",
       "    </tr>\n",
       "    <tr>\n",
       "      <th>4615</th>\n",
       "      <td>4615</td>\n",
       "      <td>Woningen</td>\n",
       "      <td>'s-Hertogenbosch</td>\n",
       "      <td>2019</td>\n",
       "      <td>6245.0</td>\n",
       "      <td>22106.0</td>\n",
       "    </tr>\n",
       "    <tr>\n",
       "      <th>4944</th>\n",
       "      <td>4944</td>\n",
       "      <td>Woningen</td>\n",
       "      <td>Loon op Zand</td>\n",
       "      <td>2012</td>\n",
       "      <td>62.0</td>\n",
       "      <td>196.0</td>\n",
       "    </tr>\n",
       "    <tr>\n",
       "      <th>4945</th>\n",
       "      <td>4945</td>\n",
       "      <td>Woningen</td>\n",
       "      <td>Loon op Zand</td>\n",
       "      <td>2013</td>\n",
       "      <td>138.0</td>\n",
       "      <td>491.0</td>\n",
       "    </tr>\n",
       "    <tr>\n",
       "      <th>4946</th>\n",
       "      <td>4946</td>\n",
       "      <td>Woningen</td>\n",
       "      <td>Loon op Zand</td>\n",
       "      <td>2014</td>\n",
       "      <td>209.0</td>\n",
       "      <td>772.0</td>\n",
       "    </tr>\n",
       "    <tr>\n",
       "      <th>4947</th>\n",
       "      <td>4947</td>\n",
       "      <td>Woningen</td>\n",
       "      <td>Loon op Zand</td>\n",
       "      <td>2015</td>\n",
       "      <td>274.0</td>\n",
       "      <td>1062.0</td>\n",
       "    </tr>\n",
       "    <tr>\n",
       "      <th>4948</th>\n",
       "      <td>4948</td>\n",
       "      <td>Woningen</td>\n",
       "      <td>Loon op Zand</td>\n",
       "      <td>2016</td>\n",
       "      <td>379.0</td>\n",
       "      <td>1424.0</td>\n",
       "    </tr>\n",
       "    <tr>\n",
       "      <th>4949</th>\n",
       "      <td>4949</td>\n",
       "      <td>Woningen</td>\n",
       "      <td>Loon op Zand</td>\n",
       "      <td>2017</td>\n",
       "      <td>527.0</td>\n",
       "      <td>1878.0</td>\n",
       "    </tr>\n",
       "    <tr>\n",
       "      <th>4950</th>\n",
       "      <td>4950</td>\n",
       "      <td>Woningen</td>\n",
       "      <td>Loon op Zand</td>\n",
       "      <td>2018</td>\n",
       "      <td>761.0</td>\n",
       "      <td>2669.0</td>\n",
       "    </tr>\n",
       "    <tr>\n",
       "      <th>4951</th>\n",
       "      <td>4951</td>\n",
       "      <td>Woningen</td>\n",
       "      <td>Loon op Zand</td>\n",
       "      <td>2019</td>\n",
       "      <td>1042.0</td>\n",
       "      <td>3914.0</td>\n",
       "    </tr>\n",
       "  </tbody>\n",
       "</table>\n",
       "</div>"
      ],
      "text/plain": [
       "        ID BedrijfstakkenWoningen            RegioS Perioden  \\\n",
       "3672  3672               Woningen            Arnhem     2012   \n",
       "3673  3673               Woningen            Arnhem     2013   \n",
       "3674  3674               Woningen            Arnhem     2014   \n",
       "3675  3675               Woningen            Arnhem     2015   \n",
       "3676  3676               Woningen            Arnhem     2016   \n",
       "3677  3677               Woningen            Arnhem     2017   \n",
       "3678  3678               Woningen            Arnhem     2018   \n",
       "3679  3679               Woningen            Arnhem     2019   \n",
       "3816  3816               Woningen              Best     2012   \n",
       "3817  3817               Woningen              Best     2013   \n",
       "3818  3818               Woningen              Best     2014   \n",
       "3819  3819               Woningen              Best     2015   \n",
       "3820  3820               Woningen              Best     2016   \n",
       "3821  3821               Woningen              Best     2017   \n",
       "3822  3822               Woningen              Best     2018   \n",
       "3823  3823               Woningen              Best     2019   \n",
       "4608  4608               Woningen  's-Hertogenbosch     2012   \n",
       "4609  4609               Woningen  's-Hertogenbosch     2013   \n",
       "4610  4610               Woningen  's-Hertogenbosch     2014   \n",
       "4611  4611               Woningen  's-Hertogenbosch     2015   \n",
       "4612  4612               Woningen  's-Hertogenbosch     2016   \n",
       "4613  4613               Woningen  's-Hertogenbosch     2017   \n",
       "4614  4614               Woningen  's-Hertogenbosch     2018   \n",
       "4615  4615               Woningen  's-Hertogenbosch     2019   \n",
       "4944  4944               Woningen      Loon op Zand     2012   \n",
       "4945  4945               Woningen      Loon op Zand     2013   \n",
       "4946  4946               Woningen      Loon op Zand     2014   \n",
       "4947  4947               Woningen      Loon op Zand     2015   \n",
       "4948  4948               Woningen      Loon op Zand     2016   \n",
       "4949  4949               Woningen      Loon op Zand     2017   \n",
       "4950  4950               Woningen      Loon op Zand     2018   \n",
       "4951  4951               Woningen      Loon op Zand     2019   \n",
       "\n",
       "      AantalInstallaties_1  OpgesteldVermogenVanZonnepanelen_2  \n",
       "3672                 336.0                               694.0  \n",
       "3673                 778.0                              2005.0  \n",
       "3674                1135.0                              3124.0  \n",
       "3675                1772.0                              4619.0  \n",
       "3676                2530.0                              7197.0  \n",
       "3677                3182.0                              9199.0  \n",
       "3678                4952.0                             14754.0  \n",
       "3679                6384.0                             20182.0  \n",
       "3816                  81.0                               253.0  \n",
       "3817                 290.0                              1054.0  \n",
       "3818                 462.0                              1630.0  \n",
       "3819                 597.0                              2224.0  \n",
       "3820                 738.0                              2727.0  \n",
       "3821                1023.0                              3813.0  \n",
       "3822                1549.0                              5660.0  \n",
       "3823                2444.0                              9138.0  \n",
       "4608                 371.0                               985.0  \n",
       "4609                 901.0                              2859.0  \n",
       "4610                1270.0                              4269.0  \n",
       "4611                1687.0                              5748.0  \n",
       "4612                2170.0                              7464.0  \n",
       "4613                2910.0                              9936.0  \n",
       "4614                4103.0                             14162.0  \n",
       "4615                6245.0                             22106.0  \n",
       "4944                  62.0                               196.0  \n",
       "4945                 138.0                               491.0  \n",
       "4946                 209.0                               772.0  \n",
       "4947                 274.0                              1062.0  \n",
       "4948                 379.0                              1424.0  \n",
       "4949                 527.0                              1878.0  \n",
       "4950                 761.0                              2669.0  \n",
       "4951                1042.0                              3914.0  "
      ]
     },
     "execution_count": 3,
     "metadata": {},
     "output_type": "execute_result"
    }
   ],
   "source": [
    "#Read in (Zonnestroom; vermogen bedrijven en woningen, regio (indeling 2019)\n",
    "zonnestroom_2019 = '84783NED'\n",
    "df_zonnestroom_2019 = pd.DataFrame(cbsodata.get_data(zonnestroom_2019))\n",
    "df_zonnestroom_2019 = df_zonnestroom_2019[\n",
    "    (\n",
    "(df_zonnestroom_2019['RegioS'] == \"'s-Hertogenbosch\") |\n",
    "(df_zonnestroom_2019['RegioS'] == \"Loon op Zand\") |\n",
    "(df_zonnestroom_2019['RegioS'] == \"Arnhem\") |\n",
    "(df_zonnestroom_2019['RegioS'] == \"Best\")\n",
    "    )\n",
    "    &  (df_zonnestroom_2019['BedrijfstakkenWoningen']=='Woningen')\n",
    "   ]\n",
    "\n",
    "df_zonnestroom_2019"
   ]
  },
  {
   "cell_type": "markdown",
   "metadata": {
    "cell_id": "d803325a48254dd589da18ad38c4fc05",
    "deepnote_cell_type": "text-cell-h3",
    "is_collapsed": false,
    "tags": []
   },
   "source": [
    "### Check if we're at version 4.2.0 so we can use the right graphs."
   ]
  },
  {
   "cell_type": "code",
   "execution_count": 4,
   "metadata": {
    "cell_id": "0adec4131b1c424c8b5d9d904a838cb4",
    "deepnote_cell_height": 118.1875,
    "deepnote_cell_type": "code",
    "deepnote_output_heights": [
     21.1875
    ],
    "deepnote_to_be_reexecuted": false,
    "execution_millis": 206,
    "execution_start": 1652637101006,
    "source_hash": "852dbdeb",
    "tags": []
   },
   "outputs": [
    {
     "data": {
      "text/plain": [
       "'4.2.0'"
      ]
     },
     "execution_count": 4,
     "metadata": {},
     "output_type": "execute_result"
    }
   ],
   "source": [
    "alt.__version__"
   ]
  },
  {
   "cell_type": "code",
   "execution_count": 5,
   "metadata": {
    "cell_id": "6afc74da8c83478489dcef00c8c0517f",
    "deepnote_cell_height": 543,
    "deepnote_cell_type": "code",
    "deepnote_output_heights": [
     374
    ],
    "deepnote_to_be_reexecuted": false,
    "execution_millis": 197,
    "execution_start": 1652637101020,
    "source_hash": "c3d170da",
    "tags": []
   },
   "outputs": [
    {
     "data": {
      "text/html": [
       "\n",
       "<div id=\"altair-viz-3f857ea8f9c44a3592696273229f198a\"></div>\n",
       "<script type=\"text/javascript\">\n",
       "  var VEGA_DEBUG = (typeof VEGA_DEBUG == \"undefined\") ? {} : VEGA_DEBUG;\n",
       "  (function(spec, embedOpt){\n",
       "    let outputDiv = document.currentScript.previousElementSibling;\n",
       "    if (outputDiv.id !== \"altair-viz-3f857ea8f9c44a3592696273229f198a\") {\n",
       "      outputDiv = document.getElementById(\"altair-viz-3f857ea8f9c44a3592696273229f198a\");\n",
       "    }\n",
       "    const paths = {\n",
       "      \"vega\": \"https://cdn.jsdelivr.net/npm//vega@5?noext\",\n",
       "      \"vega-lib\": \"https://cdn.jsdelivr.net/npm//vega-lib?noext\",\n",
       "      \"vega-lite\": \"https://cdn.jsdelivr.net/npm//vega-lite@4.17.0?noext\",\n",
       "      \"vega-embed\": \"https://cdn.jsdelivr.net/npm//vega-embed@6?noext\",\n",
       "    };\n",
       "\n",
       "    function maybeLoadScript(lib, version) {\n",
       "      var key = `${lib.replace(\"-\", \"\")}_version`;\n",
       "      return (VEGA_DEBUG[key] == version) ?\n",
       "        Promise.resolve(paths[lib]) :\n",
       "        new Promise(function(resolve, reject) {\n",
       "          var s = document.createElement('script');\n",
       "          document.getElementsByTagName(\"head\")[0].appendChild(s);\n",
       "          s.async = true;\n",
       "          s.onload = () => {\n",
       "            VEGA_DEBUG[key] = version;\n",
       "            return resolve(paths[lib]);\n",
       "          };\n",
       "          s.onerror = () => reject(`Error loading script: ${paths[lib]}`);\n",
       "          s.src = paths[lib];\n",
       "        });\n",
       "    }\n",
       "\n",
       "    function showError(err) {\n",
       "      outputDiv.innerHTML = `<div class=\"error\" style=\"color:red;\">${err}</div>`;\n",
       "      throw err;\n",
       "    }\n",
       "\n",
       "    function displayChart(vegaEmbed) {\n",
       "      vegaEmbed(outputDiv, spec, embedOpt)\n",
       "        .catch(err => showError(`Javascript Error: ${err.message}<br>This usually means there's a typo in your chart specification. See the javascript console for the full traceback.`));\n",
       "    }\n",
       "\n",
       "    if(typeof define === \"function\" && define.amd) {\n",
       "      requirejs.config({paths});\n",
       "      require([\"vega-embed\"], displayChart, err => showError(`Error loading script: ${err.message}`));\n",
       "    } else {\n",
       "      maybeLoadScript(\"vega\", \"5\")\n",
       "        .then(() => maybeLoadScript(\"vega-lite\", \"4.17.0\"))\n",
       "        .then(() => maybeLoadScript(\"vega-embed\", \"6\"))\n",
       "        .catch(showError)\n",
       "        .then(() => displayChart(vegaEmbed));\n",
       "    }\n",
       "  })({\"config\": {\"view\": {\"continuousWidth\": 400, \"continuousHeight\": 300}}, \"repeat\": {\"layer\": [\"AantalInstallaties_1\", \"OpgesteldVermogenVanZonnepanelen_2\"]}, \"spec\": {\"data\": {\"name\": \"data-065d17693aea585c86516ee32c65f4df\"}, \"mark\": \"line\", \"encoding\": {\"color\": {\"datum\": {\"repeat\": \"layer\"}}, \"x\": {\"bin\": false, \"field\": \"Perioden\", \"title\": \"Year\", \"type\": \"nominal\"}, \"y\": {\"aggregate\": \"mean\", \"field\": {\"repeat\": \"layer\"}, \"title\": \"Installed pV - number vs. power\"}}}, \"$schema\": \"https://vega.github.io/schema/vega-lite/v4.17.0.json\", \"datasets\": {\"data-065d17693aea585c86516ee32c65f4df\": [{\"ID\": 3672, \"BedrijfstakkenWoningen\": \"Woningen\", \"RegioS\": \"Arnhem\", \"Perioden\": \"2012\", \"AantalInstallaties_1\": 336.0, \"OpgesteldVermogenVanZonnepanelen_2\": 694.0}, {\"ID\": 3673, \"BedrijfstakkenWoningen\": \"Woningen\", \"RegioS\": \"Arnhem\", \"Perioden\": \"2013\", \"AantalInstallaties_1\": 778.0, \"OpgesteldVermogenVanZonnepanelen_2\": 2005.0}, {\"ID\": 3674, \"BedrijfstakkenWoningen\": \"Woningen\", \"RegioS\": \"Arnhem\", \"Perioden\": \"2014\", \"AantalInstallaties_1\": 1135.0, \"OpgesteldVermogenVanZonnepanelen_2\": 3124.0}, {\"ID\": 3675, \"BedrijfstakkenWoningen\": \"Woningen\", \"RegioS\": \"Arnhem\", \"Perioden\": \"2015\", \"AantalInstallaties_1\": 1772.0, \"OpgesteldVermogenVanZonnepanelen_2\": 4619.0}, {\"ID\": 3676, \"BedrijfstakkenWoningen\": \"Woningen\", \"RegioS\": \"Arnhem\", \"Perioden\": \"2016\", \"AantalInstallaties_1\": 2530.0, \"OpgesteldVermogenVanZonnepanelen_2\": 7197.0}, {\"ID\": 3677, \"BedrijfstakkenWoningen\": \"Woningen\", \"RegioS\": \"Arnhem\", \"Perioden\": \"2017\", \"AantalInstallaties_1\": 3182.0, \"OpgesteldVermogenVanZonnepanelen_2\": 9199.0}, {\"ID\": 3678, \"BedrijfstakkenWoningen\": \"Woningen\", \"RegioS\": \"Arnhem\", \"Perioden\": \"2018\", \"AantalInstallaties_1\": 4952.0, \"OpgesteldVermogenVanZonnepanelen_2\": 14754.0}, {\"ID\": 3679, \"BedrijfstakkenWoningen\": \"Woningen\", \"RegioS\": \"Arnhem\", \"Perioden\": \"2019\", \"AantalInstallaties_1\": 6384.0, \"OpgesteldVermogenVanZonnepanelen_2\": 20182.0}, {\"ID\": 3816, \"BedrijfstakkenWoningen\": \"Woningen\", \"RegioS\": \"Best\", \"Perioden\": \"2012\", \"AantalInstallaties_1\": 81.0, \"OpgesteldVermogenVanZonnepanelen_2\": 253.0}, {\"ID\": 3817, \"BedrijfstakkenWoningen\": \"Woningen\", \"RegioS\": \"Best\", \"Perioden\": \"2013\", \"AantalInstallaties_1\": 290.0, \"OpgesteldVermogenVanZonnepanelen_2\": 1054.0}, {\"ID\": 3818, \"BedrijfstakkenWoningen\": \"Woningen\", \"RegioS\": \"Best\", \"Perioden\": \"2014\", \"AantalInstallaties_1\": 462.0, \"OpgesteldVermogenVanZonnepanelen_2\": 1630.0}, {\"ID\": 3819, \"BedrijfstakkenWoningen\": \"Woningen\", \"RegioS\": \"Best\", \"Perioden\": \"2015\", \"AantalInstallaties_1\": 597.0, \"OpgesteldVermogenVanZonnepanelen_2\": 2224.0}, {\"ID\": 3820, \"BedrijfstakkenWoningen\": \"Woningen\", \"RegioS\": \"Best\", \"Perioden\": \"2016\", \"AantalInstallaties_1\": 738.0, \"OpgesteldVermogenVanZonnepanelen_2\": 2727.0}, {\"ID\": 3821, \"BedrijfstakkenWoningen\": \"Woningen\", \"RegioS\": \"Best\", \"Perioden\": \"2017\", \"AantalInstallaties_1\": 1023.0, \"OpgesteldVermogenVanZonnepanelen_2\": 3813.0}, {\"ID\": 3822, \"BedrijfstakkenWoningen\": \"Woningen\", \"RegioS\": \"Best\", \"Perioden\": \"2018\", \"AantalInstallaties_1\": 1549.0, \"OpgesteldVermogenVanZonnepanelen_2\": 5660.0}, {\"ID\": 3823, \"BedrijfstakkenWoningen\": \"Woningen\", \"RegioS\": \"Best\", \"Perioden\": \"2019\", \"AantalInstallaties_1\": 2444.0, \"OpgesteldVermogenVanZonnepanelen_2\": 9138.0}, {\"ID\": 4608, \"BedrijfstakkenWoningen\": \"Woningen\", \"RegioS\": \"'s-Hertogenbosch\", \"Perioden\": \"2012\", \"AantalInstallaties_1\": 371.0, \"OpgesteldVermogenVanZonnepanelen_2\": 985.0}, {\"ID\": 4609, \"BedrijfstakkenWoningen\": \"Woningen\", \"RegioS\": \"'s-Hertogenbosch\", \"Perioden\": \"2013\", \"AantalInstallaties_1\": 901.0, \"OpgesteldVermogenVanZonnepanelen_2\": 2859.0}, {\"ID\": 4610, \"BedrijfstakkenWoningen\": \"Woningen\", \"RegioS\": \"'s-Hertogenbosch\", \"Perioden\": \"2014\", \"AantalInstallaties_1\": 1270.0, \"OpgesteldVermogenVanZonnepanelen_2\": 4269.0}, {\"ID\": 4611, \"BedrijfstakkenWoningen\": \"Woningen\", \"RegioS\": \"'s-Hertogenbosch\", \"Perioden\": \"2015\", \"AantalInstallaties_1\": 1687.0, \"OpgesteldVermogenVanZonnepanelen_2\": 5748.0}, {\"ID\": 4612, \"BedrijfstakkenWoningen\": \"Woningen\", \"RegioS\": \"'s-Hertogenbosch\", \"Perioden\": \"2016\", \"AantalInstallaties_1\": 2170.0, \"OpgesteldVermogenVanZonnepanelen_2\": 7464.0}, {\"ID\": 4613, \"BedrijfstakkenWoningen\": \"Woningen\", \"RegioS\": \"'s-Hertogenbosch\", \"Perioden\": \"2017\", \"AantalInstallaties_1\": 2910.0, \"OpgesteldVermogenVanZonnepanelen_2\": 9936.0}, {\"ID\": 4614, \"BedrijfstakkenWoningen\": \"Woningen\", \"RegioS\": \"'s-Hertogenbosch\", \"Perioden\": \"2018\", \"AantalInstallaties_1\": 4103.0, \"OpgesteldVermogenVanZonnepanelen_2\": 14162.0}, {\"ID\": 4615, \"BedrijfstakkenWoningen\": \"Woningen\", \"RegioS\": \"'s-Hertogenbosch\", \"Perioden\": \"2019\", \"AantalInstallaties_1\": 6245.0, \"OpgesteldVermogenVanZonnepanelen_2\": 22106.0}, {\"ID\": 4944, \"BedrijfstakkenWoningen\": \"Woningen\", \"RegioS\": \"Loon op Zand\", \"Perioden\": \"2012\", \"AantalInstallaties_1\": 62.0, \"OpgesteldVermogenVanZonnepanelen_2\": 196.0}, {\"ID\": 4945, \"BedrijfstakkenWoningen\": \"Woningen\", \"RegioS\": \"Loon op Zand\", \"Perioden\": \"2013\", \"AantalInstallaties_1\": 138.0, \"OpgesteldVermogenVanZonnepanelen_2\": 491.0}, {\"ID\": 4946, \"BedrijfstakkenWoningen\": \"Woningen\", \"RegioS\": \"Loon op Zand\", \"Perioden\": \"2014\", \"AantalInstallaties_1\": 209.0, \"OpgesteldVermogenVanZonnepanelen_2\": 772.0}, {\"ID\": 4947, \"BedrijfstakkenWoningen\": \"Woningen\", \"RegioS\": \"Loon op Zand\", \"Perioden\": \"2015\", \"AantalInstallaties_1\": 274.0, \"OpgesteldVermogenVanZonnepanelen_2\": 1062.0}, {\"ID\": 4948, \"BedrijfstakkenWoningen\": \"Woningen\", \"RegioS\": \"Loon op Zand\", \"Perioden\": \"2016\", \"AantalInstallaties_1\": 379.0, \"OpgesteldVermogenVanZonnepanelen_2\": 1424.0}, {\"ID\": 4949, \"BedrijfstakkenWoningen\": \"Woningen\", \"RegioS\": \"Loon op Zand\", \"Perioden\": \"2017\", \"AantalInstallaties_1\": 527.0, \"OpgesteldVermogenVanZonnepanelen_2\": 1878.0}, {\"ID\": 4950, \"BedrijfstakkenWoningen\": \"Woningen\", \"RegioS\": \"Loon op Zand\", \"Perioden\": \"2018\", \"AantalInstallaties_1\": 761.0, \"OpgesteldVermogenVanZonnepanelen_2\": 2669.0}, {\"ID\": 4951, \"BedrijfstakkenWoningen\": \"Woningen\", \"RegioS\": \"Loon op Zand\", \"Perioden\": \"2019\", \"AantalInstallaties_1\": 1042.0, \"OpgesteldVermogenVanZonnepanelen_2\": 3914.0}]}}, {\"mode\": \"vega-lite\"});\n",
       "</script>"
      ],
      "text/plain": [
       "alt.RepeatChart(...)"
      ]
     },
     "execution_count": 5,
     "metadata": {},
     "output_type": "execute_result"
    }
   ],
   "source": [
    "alt.Chart(df_zonnestroom_2019).mark_line().encode(\n",
    "    x=alt.X(\"Perioden\", bin=False, title='Year'),\n",
    "    y=alt.Y(alt.repeat('layer'), aggregate='mean', title=\"Installed pV - number vs. power\"),\n",
    "    color=alt.ColorDatum(alt.repeat('layer'))\n",
    ").repeat(layer=[\"AantalInstallaties_1\", \"OpgesteldVermogenVanZonnepanelen_2\"])"
   ]
  },
  {
   "cell_type": "markdown",
   "metadata": {
    "cell_id": "9f513088376944f9afdb17f0727e96dd",
    "deepnote_cell_type": "text-cell-h3",
    "is_collapsed": false,
    "tags": []
   },
   "source": [
    "### Comparing municipalities"
   ]
  },
  {
   "cell_type": "code",
   "execution_count": 6,
   "metadata": {
    "cell_id": "00005-13f4b198-f351-4c40-930a-b7f38208ddd9",
    "deepnote_cell_height": 924,
    "deepnote_cell_type": "code",
    "deepnote_output_heights": [
     611,
     21.1875
    ],
    "deepnote_to_be_reexecuted": false,
    "execution_millis": 151,
    "execution_start": 1652637101070,
    "source_hash": "a714786c"
   },
   "outputs": [
    {
     "data": {
      "text/html": [
       "\n",
       "<div id=\"altair-viz-a1e81102801e4100941ff49e626a1f46\"></div>\n",
       "<script type=\"text/javascript\">\n",
       "  var VEGA_DEBUG = (typeof VEGA_DEBUG == \"undefined\") ? {} : VEGA_DEBUG;\n",
       "  (function(spec, embedOpt){\n",
       "    let outputDiv = document.currentScript.previousElementSibling;\n",
       "    if (outputDiv.id !== \"altair-viz-a1e81102801e4100941ff49e626a1f46\") {\n",
       "      outputDiv = document.getElementById(\"altair-viz-a1e81102801e4100941ff49e626a1f46\");\n",
       "    }\n",
       "    const paths = {\n",
       "      \"vega\": \"https://cdn.jsdelivr.net/npm//vega@5?noext\",\n",
       "      \"vega-lib\": \"https://cdn.jsdelivr.net/npm//vega-lib?noext\",\n",
       "      \"vega-lite\": \"https://cdn.jsdelivr.net/npm//vega-lite@4.17.0?noext\",\n",
       "      \"vega-embed\": \"https://cdn.jsdelivr.net/npm//vega-embed@6?noext\",\n",
       "    };\n",
       "\n",
       "    function maybeLoadScript(lib, version) {\n",
       "      var key = `${lib.replace(\"-\", \"\")}_version`;\n",
       "      return (VEGA_DEBUG[key] == version) ?\n",
       "        Promise.resolve(paths[lib]) :\n",
       "        new Promise(function(resolve, reject) {\n",
       "          var s = document.createElement('script');\n",
       "          document.getElementsByTagName(\"head\")[0].appendChild(s);\n",
       "          s.async = true;\n",
       "          s.onload = () => {\n",
       "            VEGA_DEBUG[key] = version;\n",
       "            return resolve(paths[lib]);\n",
       "          };\n",
       "          s.onerror = () => reject(`Error loading script: ${paths[lib]}`);\n",
       "          s.src = paths[lib];\n",
       "        });\n",
       "    }\n",
       "\n",
       "    function showError(err) {\n",
       "      outputDiv.innerHTML = `<div class=\"error\" style=\"color:red;\">${err}</div>`;\n",
       "      throw err;\n",
       "    }\n",
       "\n",
       "    function displayChart(vegaEmbed) {\n",
       "      vegaEmbed(outputDiv, spec, embedOpt)\n",
       "        .catch(err => showError(`Javascript Error: ${err.message}<br>This usually means there's a typo in your chart specification. See the javascript console for the full traceback.`));\n",
       "    }\n",
       "\n",
       "    if(typeof define === \"function\" && define.amd) {\n",
       "      requirejs.config({paths});\n",
       "      require([\"vega-embed\"], displayChart, err => showError(`Error loading script: ${err.message}`));\n",
       "    } else {\n",
       "      maybeLoadScript(\"vega\", \"5\")\n",
       "        .then(() => maybeLoadScript(\"vega-lite\", \"4.17.0\"))\n",
       "        .then(() => maybeLoadScript(\"vega-embed\", \"6\"))\n",
       "        .catch(showError)\n",
       "        .then(() => displayChart(vegaEmbed));\n",
       "    }\n",
       "  })({\"config\": {\"view\": {\"continuousWidth\": 400, \"continuousHeight\": 300}}, \"repeat\": {\"column\": [\"Perioden\"], \"row\": [\"AantalInstallaties_1\", \"OpgesteldVermogenVanZonnepanelen_2\"]}, \"spec\": {\"data\": {\"name\": \"data-065d17693aea585c86516ee32c65f4df\"}, \"mark\": \"point\", \"encoding\": {\"color\": {\"field\": \"RegioS\", \"type\": \"nominal\"}, \"x\": {\"field\": {\"repeat\": \"column\"}, \"title\": \"Year\", \"type\": \"ordinal\"}, \"y\": {\"field\": {\"repeat\": \"row\"}, \"type\": \"quantitative\"}}, \"height\": 250, \"selection\": {\"selector001\": {\"type\": \"interval\", \"bind\": \"scales\", \"encodings\": [\"x\", \"y\"]}}, \"width\": 250}, \"$schema\": \"https://vega.github.io/schema/vega-lite/v4.17.0.json\", \"datasets\": {\"data-065d17693aea585c86516ee32c65f4df\": [{\"ID\": 3672, \"BedrijfstakkenWoningen\": \"Woningen\", \"RegioS\": \"Arnhem\", \"Perioden\": \"2012\", \"AantalInstallaties_1\": 336.0, \"OpgesteldVermogenVanZonnepanelen_2\": 694.0}, {\"ID\": 3673, \"BedrijfstakkenWoningen\": \"Woningen\", \"RegioS\": \"Arnhem\", \"Perioden\": \"2013\", \"AantalInstallaties_1\": 778.0, \"OpgesteldVermogenVanZonnepanelen_2\": 2005.0}, {\"ID\": 3674, \"BedrijfstakkenWoningen\": \"Woningen\", \"RegioS\": \"Arnhem\", \"Perioden\": \"2014\", \"AantalInstallaties_1\": 1135.0, \"OpgesteldVermogenVanZonnepanelen_2\": 3124.0}, {\"ID\": 3675, \"BedrijfstakkenWoningen\": \"Woningen\", \"RegioS\": \"Arnhem\", \"Perioden\": \"2015\", \"AantalInstallaties_1\": 1772.0, \"OpgesteldVermogenVanZonnepanelen_2\": 4619.0}, {\"ID\": 3676, \"BedrijfstakkenWoningen\": \"Woningen\", \"RegioS\": \"Arnhem\", \"Perioden\": \"2016\", \"AantalInstallaties_1\": 2530.0, \"OpgesteldVermogenVanZonnepanelen_2\": 7197.0}, {\"ID\": 3677, \"BedrijfstakkenWoningen\": \"Woningen\", \"RegioS\": \"Arnhem\", \"Perioden\": \"2017\", \"AantalInstallaties_1\": 3182.0, \"OpgesteldVermogenVanZonnepanelen_2\": 9199.0}, {\"ID\": 3678, \"BedrijfstakkenWoningen\": \"Woningen\", \"RegioS\": \"Arnhem\", \"Perioden\": \"2018\", \"AantalInstallaties_1\": 4952.0, \"OpgesteldVermogenVanZonnepanelen_2\": 14754.0}, {\"ID\": 3679, \"BedrijfstakkenWoningen\": \"Woningen\", \"RegioS\": \"Arnhem\", \"Perioden\": \"2019\", \"AantalInstallaties_1\": 6384.0, \"OpgesteldVermogenVanZonnepanelen_2\": 20182.0}, {\"ID\": 3816, \"BedrijfstakkenWoningen\": \"Woningen\", \"RegioS\": \"Best\", \"Perioden\": \"2012\", \"AantalInstallaties_1\": 81.0, \"OpgesteldVermogenVanZonnepanelen_2\": 253.0}, {\"ID\": 3817, \"BedrijfstakkenWoningen\": \"Woningen\", \"RegioS\": \"Best\", \"Perioden\": \"2013\", \"AantalInstallaties_1\": 290.0, \"OpgesteldVermogenVanZonnepanelen_2\": 1054.0}, {\"ID\": 3818, \"BedrijfstakkenWoningen\": \"Woningen\", \"RegioS\": \"Best\", \"Perioden\": \"2014\", \"AantalInstallaties_1\": 462.0, \"OpgesteldVermogenVanZonnepanelen_2\": 1630.0}, {\"ID\": 3819, \"BedrijfstakkenWoningen\": \"Woningen\", \"RegioS\": \"Best\", \"Perioden\": \"2015\", \"AantalInstallaties_1\": 597.0, \"OpgesteldVermogenVanZonnepanelen_2\": 2224.0}, {\"ID\": 3820, \"BedrijfstakkenWoningen\": \"Woningen\", \"RegioS\": \"Best\", \"Perioden\": \"2016\", \"AantalInstallaties_1\": 738.0, \"OpgesteldVermogenVanZonnepanelen_2\": 2727.0}, {\"ID\": 3821, \"BedrijfstakkenWoningen\": \"Woningen\", \"RegioS\": \"Best\", \"Perioden\": \"2017\", \"AantalInstallaties_1\": 1023.0, \"OpgesteldVermogenVanZonnepanelen_2\": 3813.0}, {\"ID\": 3822, \"BedrijfstakkenWoningen\": \"Woningen\", \"RegioS\": \"Best\", \"Perioden\": \"2018\", \"AantalInstallaties_1\": 1549.0, \"OpgesteldVermogenVanZonnepanelen_2\": 5660.0}, {\"ID\": 3823, \"BedrijfstakkenWoningen\": \"Woningen\", \"RegioS\": \"Best\", \"Perioden\": \"2019\", \"AantalInstallaties_1\": 2444.0, \"OpgesteldVermogenVanZonnepanelen_2\": 9138.0}, {\"ID\": 4608, \"BedrijfstakkenWoningen\": \"Woningen\", \"RegioS\": \"'s-Hertogenbosch\", \"Perioden\": \"2012\", \"AantalInstallaties_1\": 371.0, \"OpgesteldVermogenVanZonnepanelen_2\": 985.0}, {\"ID\": 4609, \"BedrijfstakkenWoningen\": \"Woningen\", \"RegioS\": \"'s-Hertogenbosch\", \"Perioden\": \"2013\", \"AantalInstallaties_1\": 901.0, \"OpgesteldVermogenVanZonnepanelen_2\": 2859.0}, {\"ID\": 4610, \"BedrijfstakkenWoningen\": \"Woningen\", \"RegioS\": \"'s-Hertogenbosch\", \"Perioden\": \"2014\", \"AantalInstallaties_1\": 1270.0, \"OpgesteldVermogenVanZonnepanelen_2\": 4269.0}, {\"ID\": 4611, \"BedrijfstakkenWoningen\": \"Woningen\", \"RegioS\": \"'s-Hertogenbosch\", \"Perioden\": \"2015\", \"AantalInstallaties_1\": 1687.0, \"OpgesteldVermogenVanZonnepanelen_2\": 5748.0}, {\"ID\": 4612, \"BedrijfstakkenWoningen\": \"Woningen\", \"RegioS\": \"'s-Hertogenbosch\", \"Perioden\": \"2016\", \"AantalInstallaties_1\": 2170.0, \"OpgesteldVermogenVanZonnepanelen_2\": 7464.0}, {\"ID\": 4613, \"BedrijfstakkenWoningen\": \"Woningen\", \"RegioS\": \"'s-Hertogenbosch\", \"Perioden\": \"2017\", \"AantalInstallaties_1\": 2910.0, \"OpgesteldVermogenVanZonnepanelen_2\": 9936.0}, {\"ID\": 4614, \"BedrijfstakkenWoningen\": \"Woningen\", \"RegioS\": \"'s-Hertogenbosch\", \"Perioden\": \"2018\", \"AantalInstallaties_1\": 4103.0, \"OpgesteldVermogenVanZonnepanelen_2\": 14162.0}, {\"ID\": 4615, \"BedrijfstakkenWoningen\": \"Woningen\", \"RegioS\": \"'s-Hertogenbosch\", \"Perioden\": \"2019\", \"AantalInstallaties_1\": 6245.0, \"OpgesteldVermogenVanZonnepanelen_2\": 22106.0}, {\"ID\": 4944, \"BedrijfstakkenWoningen\": \"Woningen\", \"RegioS\": \"Loon op Zand\", \"Perioden\": \"2012\", \"AantalInstallaties_1\": 62.0, \"OpgesteldVermogenVanZonnepanelen_2\": 196.0}, {\"ID\": 4945, \"BedrijfstakkenWoningen\": \"Woningen\", \"RegioS\": \"Loon op Zand\", \"Perioden\": \"2013\", \"AantalInstallaties_1\": 138.0, \"OpgesteldVermogenVanZonnepanelen_2\": 491.0}, {\"ID\": 4946, \"BedrijfstakkenWoningen\": \"Woningen\", \"RegioS\": \"Loon op Zand\", \"Perioden\": \"2014\", \"AantalInstallaties_1\": 209.0, \"OpgesteldVermogenVanZonnepanelen_2\": 772.0}, {\"ID\": 4947, \"BedrijfstakkenWoningen\": \"Woningen\", \"RegioS\": \"Loon op Zand\", \"Perioden\": \"2015\", \"AantalInstallaties_1\": 274.0, \"OpgesteldVermogenVanZonnepanelen_2\": 1062.0}, {\"ID\": 4948, \"BedrijfstakkenWoningen\": \"Woningen\", \"RegioS\": \"Loon op Zand\", \"Perioden\": \"2016\", \"AantalInstallaties_1\": 379.0, \"OpgesteldVermogenVanZonnepanelen_2\": 1424.0}, {\"ID\": 4949, \"BedrijfstakkenWoningen\": \"Woningen\", \"RegioS\": \"Loon op Zand\", \"Perioden\": \"2017\", \"AantalInstallaties_1\": 527.0, \"OpgesteldVermogenVanZonnepanelen_2\": 1878.0}, {\"ID\": 4950, \"BedrijfstakkenWoningen\": \"Woningen\", \"RegioS\": \"Loon op Zand\", \"Perioden\": \"2018\", \"AantalInstallaties_1\": 761.0, \"OpgesteldVermogenVanZonnepanelen_2\": 2669.0}, {\"ID\": 4951, \"BedrijfstakkenWoningen\": \"Woningen\", \"RegioS\": \"Loon op Zand\", \"Perioden\": \"2019\", \"AantalInstallaties_1\": 1042.0, \"OpgesteldVermogenVanZonnepanelen_2\": 3914.0}]}}, {\"mode\": \"vega-lite\"});\n",
       "</script>"
      ],
      "text/plain": [
       "alt.RepeatChart(...)"
      ]
     },
     "execution_count": 6,
     "metadata": {},
     "output_type": "execute_result"
    }
   ],
   "source": [
    "chart = alt.Chart(df_zonnestroom_2019).mark_point().encode(\n",
    "    alt.X(alt.repeat(\"column\"), type='ordinal', title='Year'),\n",
    "    alt.Y(alt.repeat(\"row\"), type='quantitative'),\n",
    "    color='RegioS:N'\n",
    ").properties(\n",
    "    width=250,\n",
    "    height=250\n",
    ").repeat(\n",
    "    column=['Perioden'],\n",
    "    row=['AantalInstallaties_1', 'OpgesteldVermogenVanZonnepanelen_2'],\n",
    "    \n",
    ").interactive()\n",
    "chart"
   ]
  },
  {
   "cell_type": "markdown",
   "metadata": {
    "cell_id": "3cd3a9ca43254bc48ffcfa2193fed858",
    "deepnote_cell_type": "text-cell-h3",
    "is_collapsed": false,
    "tags": []
   },
   "source": [
    "### Compare the CBS data with the Enexis data"
   ]
  },
  {
   "cell_type": "markdown",
   "metadata": {
    "cell_id": "1895e46af65e46fe8187bf5d10572095",
    "deepnote_cell_type": "text-cell-p",
    "is_collapsed": false,
    "tags": []
   },
   "source": [
    "CBS data goes from 2012 to 2019, and the Enexis data is from 2020 and 2021. Comparing on the same date is therefore not possible. However, we can compare the 2019 CBS data with the 2020 Enexis data and see if there are things to notice."
   ]
  },
  {
   "cell_type": "markdown",
   "metadata": {
    "cell_id": "b58af8b45366405390cbe3093753712b",
    "deepnote_cell_type": "text-cell-p",
    "is_collapsed": false,
    "tags": []
   },
   "source": [
    "Load the enexis 2020 data:"
   ]
  },
  {
   "cell_type": "code",
   "execution_count": 7,
   "metadata": {
    "cell_id": "ff1935ced17643549dfea71f23a76703",
    "deepnote_cell_height": 81,
    "deepnote_cell_type": "code",
    "deepnote_to_be_reexecuted": false,
    "execution_millis": 1,
    "execution_start": 1652637101156,
    "source_hash": "9b82ee11",
    "tags": []
   },
   "outputs": [],
   "source": [
    "import pandas as pd"
   ]
  },
  {
   "cell_type": "code",
   "execution_count": 8,
   "metadata": {
    "cell_id": "f46b0108272842c1b946d76b78c18fcc",
    "deepnote_cell_height": 171,
    "deepnote_cell_type": "code",
    "deepnote_to_be_reexecuted": false,
    "execution_millis": 1,
    "execution_start": 1652637101157,
    "source_hash": "57270238",
    "tags": []
   },
   "outputs": [],
   "source": [
    "decentral_generation_012020 = '../data/Enexis_decentrale_opwek_kv_(zon_pv)_01012020.csv'\n",
    "df_decentral_generation = pd.read_csv(decentral_generation_012020,\n",
    "                         sep                = ';',\n",
    "                         decimal            = ',',\n",
    "                         thousands          = '.',\n",
    "                         encoding           = 'unicode_escape')        "
   ]
  },
  {
   "cell_type": "markdown",
   "metadata": {
    "cell_id": "e07e85136f044796b769afd01ac6b81d",
    "deepnote_cell_type": "text-cell-p",
    "is_collapsed": false,
    "tags": []
   },
   "source": [
    "Keep only data from selected municipalities and get the total number of pv connections there:"
   ]
  },
  {
   "cell_type": "code",
   "execution_count": 9,
   "metadata": {
    "cell_id": "ded6c925539a4bd8bfc537760b5b3d9d",
    "deepnote_cell_height": 374.953125,
    "deepnote_cell_type": "code",
    "deepnote_output_heights": [
     97.96875
    ],
    "deepnote_to_be_reexecuted": false,
    "execution_millis": 2,
    "execution_start": 1652637737260,
    "source_hash": "3101d9eb",
    "tags": []
   },
   "outputs": [
    {
     "data": {
      "text/plain": [
       "Gemeente\n",
       "'s-Hertogenbosch    6332.0\n",
       "Best                2478.0\n",
       "Loon op Zand        1145.0\n",
       "Name: Aantal aansluitingen met opwekinstallatie, dtype: float64"
      ]
     },
     "execution_count": 9,
     "metadata": {},
     "output_type": "execute_result"
    }
   ],
   "source": [
    "df_decentral_generation = df_decentral_generation[    \n",
    "    (df_decentral_generation['Gemeente']=='Arnhem') |\n",
    "    (df_decentral_generation['Gemeente']=='Best') |\n",
    "    (df_decentral_generation['Gemeente']==\"'s-Hertogenbosch\") |\n",
    "    (df_decentral_generation['Gemeente']=='Loon op Zand') \n",
    "]\n",
    "\n",
    "totalNumberOfPVConnections = df_decentral_generation.groupby('Gemeente')['Aantal aansluitingen met opwekinstallatie'].sum()\n",
    "\n",
    "totalNumberOfPVConnections\n"
   ]
  },
  {
   "cell_type": "markdown",
   "metadata": {
    "cell_id": "fa2c76bbe782497fb55e1603937574f3",
    "deepnote_cell_height": 114,
    "deepnote_cell_type": "markdown",
    "tags": []
   },
   "source": [
    "![Picture title](image-20220515-200203.png)"
   ]
  },
  {
   "cell_type": "markdown",
   "metadata": {
    "cell_id": "62cf6517f5694275b87a210108826faf",
    "deepnote_cell_type": "text-cell-p",
    "is_collapsed": false,
    "tags": []
   },
   "source": [
    "Note that 'Arnhem' is not part of the Enexis data. Possibly it is not in their servicing area."
   ]
  },
  {
   "cell_type": "markdown",
   "metadata": {
    "cell_id": "dda2c276e5b449b9be4f6710b9d2eb8f",
    "deepnote_cell_type": "text-cell-p",
    "is_collapsed": false,
    "tags": []
   },
   "source": [
    "Do the same for the generative power ('opgesteld vermogen'):"
   ]
  },
  {
   "cell_type": "code",
   "execution_count": 11,
   "metadata": {
    "cell_id": "98f216a4fbed424399a2e3414bc07c82",
    "deepnote_cell_height": 356.953125,
    "deepnote_cell_type": "code",
    "deepnote_output_heights": [
     97.96875
    ],
    "deepnote_to_be_reexecuted": false,
    "execution_millis": 3,
    "execution_start": 1652637101256,
    "source_hash": "f57234ca",
    "tags": []
   },
   "outputs": [
    {
     "data": {
      "text/plain": [
       "Gemeente\n",
       "'s-Hertogenbosch    25406.0\n",
       "Best                10147.0\n",
       "Loon op Zand         5156.0\n",
       "Name: Opgesteld vermogen, dtype: float64"
      ]
     },
     "execution_count": 11,
     "metadata": {},
     "output_type": "execute_result"
    }
   ],
   "source": [
    "df_decentral_generation = df_decentral_generation[    \n",
    "    (df_decentral_generation['Gemeente']=='Best') |\n",
    "    (df_decentral_generation['Gemeente']=='Arnhem') |\n",
    "    (df_decentral_generation['Gemeente']==\"'s-Hertogenbosch\") |\n",
    "    (df_decentral_generation['Gemeente']=='Loon op Zand') \n",
    "]\n",
    "\n",
    "totalNumberOfPVConnections = df_decentral_generation.groupby('Gemeente')['Opgesteld vermogen'].sum()\n",
    "\n",
    "totalNumberOfPVConnections"
   ]
  },
  {
   "cell_type": "markdown",
   "metadata": {
    "cell_id": "12da489d34794d6b83e34d04364fa62e",
    "deepnote_cell_type": "text-cell-p",
    "is_collapsed": false,
    "tags": []
   },
   "source": [
    "Get the data we want and put it in a data frame. This is done by hand, since it is only for once."
   ]
  },
  {
   "cell_type": "code",
   "execution_count": 12,
   "metadata": {
    "cell_id": "5872e3d0046f4f5aa4bc40a145e3a9ed",
    "deepnote_cell_height": 262.328125,
    "deepnote_cell_type": "code",
    "deepnote_to_be_reexecuted": false,
    "execution_millis": 388,
    "execution_start": 1652637810382,
    "source_hash": "cae86f3a",
    "tags": []
   },
   "outputs": [
    {
     "name": "stdout",
     "output_type": "stream",
     "text": [
      "       Municipality  NumberOfInstallations  OpgesteldVermogenVanZonnepanelen\n",
      "0              Best                 2478.0                           10147.0\n",
      "1  's-Hertogenbosch                 6332.0                           25406.0\n",
      "2      Loon op Zand                 1145.0                            5156.0\n"
     ]
    }
   ],
   "source": [
    "data = {'Municipality': ['Best', \"'s-Hertogenbosch\", 'Loon op Zand'], \n",
    "'NumberOfInstallations': [2478.0, 6332.0, 1145.0],\n",
    "'OpgesteldVermogenVanZonnepanelen': [10147.0, 25406.0, 5156.0]}\n",
    "df = pd.DataFrame(data)\n",
    "\n",
    "print(df)"
   ]
  },
  {
   "cell_type": "markdown",
   "metadata": {
    "cell_id": "a6081b9215614540a96011be8f00a6c8",
    "deepnote_cell_type": "text-cell-h2",
    "is_collapsed": false,
    "tags": []
   },
   "source": [
    "## Conclusion:"
   ]
  },
  {
   "cell_type": "markdown",
   "metadata": {
    "cell_id": "56eb73eab372440f85b3646f51bfe788",
    "deepnote_cell_type": "text-cell-p",
    "is_collapsed": false,
    "tags": []
   },
   "source": [
    "The number of installations in 's-Hertogenbosch in 2020 (Enexis data) is still higher than that of the CBS data in 2019, but the increase seems too low. The years before the number increased from 4k to 6k, and the next year it goes from 6k to 6.3k. This is possible of course, but not likely."
   ]
  },
  {
   "cell_type": "markdown",
   "metadata": {
    "created_in_deepnote_cell": true,
    "deepnote_cell_type": "markdown",
    "tags": []
   },
   "source": [
    "<a style='text-decoration:none;line-height:16px;display:flex;color:#5B5B62;padding:10px;justify-content:end;' href='https://deepnote.com?utm_source=created-in-deepnote-cell&projectId=d0604020-40e6-4d7d-a2ba-74ef2b385723' target=\"_blank\">\n",
    "<img alt='Created in deepnote.com' style='display:inline;max-height:16px;margin:0px;margin-right:7.5px;' src='data:image/svg+xml;base64,PD94bWwgdmVyc2lvbj0iMS4wIiBlbmNvZGluZz0iVVRGLTgiPz4KPHN2ZyB3aWR0aD0iODBweCIgaGVpZ2h0PSI4MHB4IiB2aWV3Qm94PSIwIDAgODAgODAiIHZlcnNpb249IjEuMSIgeG1sbnM9Imh0dHA6Ly93d3cudzMub3JnLzIwMDAvc3ZnIiB4bWxuczp4bGluaz0iaHR0cDovL3d3dy53My5vcmcvMTk5OS94bGluayI+CiAgICA8IS0tIEdlbmVyYXRvcjogU2tldGNoIDU0LjEgKDc2NDkwKSAtIGh0dHBzOi8vc2tldGNoYXBwLmNvbSAtLT4KICAgIDx0aXRsZT5Hcm91cCAzPC90aXRsZT4KICAgIDxkZXNjPkNyZWF0ZWQgd2l0aCBTa2V0Y2guPC9kZXNjPgogICAgPGcgaWQ9IkxhbmRpbmciIHN0cm9rZT0ibm9uZSIgc3Ryb2tlLXdpZHRoPSIxIiBmaWxsPSJub25lIiBmaWxsLXJ1bGU9ImV2ZW5vZGQiPgogICAgICAgIDxnIGlkPSJBcnRib2FyZCIgdHJhbnNmb3JtPSJ0cmFuc2xhdGUoLTEyMzUuMDAwMDAwLCAtNzkuMDAwMDAwKSI+CiAgICAgICAgICAgIDxnIGlkPSJHcm91cC0zIiB0cmFuc2Zvcm09InRyYW5zbGF0ZSgxMjM1LjAwMDAwMCwgNzkuMDAwMDAwKSI+CiAgICAgICAgICAgICAgICA8cG9seWdvbiBpZD0iUGF0aC0yMCIgZmlsbD0iIzAyNjVCNCIgcG9pbnRzPSIyLjM3NjIzNzYyIDgwIDM4LjA0NzY2NjcgODAgNTcuODIxNzgyMiA3My44MDU3NTkyIDU3LjgyMTc4MjIgMzIuNzU5MjczOSAzOS4xNDAyMjc4IDMxLjY4MzE2ODMiPjwvcG9seWdvbj4KICAgICAgICAgICAgICAgIDxwYXRoIGQ9Ik0zNS4wMDc3MTgsODAgQzQyLjkwNjIwMDcsNzYuNDU0OTM1OCA0Ny41NjQ5MTY3LDcxLjU0MjI2NzEgNDguOTgzODY2LDY1LjI2MTk5MzkgQzUxLjExMjI4OTksNTUuODQxNTg0MiA0MS42NzcxNzk1LDQ5LjIxMjIyODQgMjUuNjIzOTg0Niw0OS4yMTIyMjg0IEMyNS40ODQ5Mjg5LDQ5LjEyNjg0NDggMjkuODI2MTI5Niw0My4yODM4MjQ4IDM4LjY0NzU4NjksMzEuNjgzMTY4MyBMNzIuODcxMjg3MSwzMi41NTQ0MjUgTDY1LjI4MDk3Myw2Ny42NzYzNDIxIEw1MS4xMTIyODk5LDc3LjM3NjE0NCBMMzUuMDA3NzE4LDgwIFoiIGlkPSJQYXRoLTIyIiBmaWxsPSIjMDAyODY4Ij48L3BhdGg+CiAgICAgICAgICAgICAgICA8cGF0aCBkPSJNMCwzNy43MzA0NDA1IEwyNy4xMTQ1MzcsMC4yNTcxMTE0MzYgQzYyLjM3MTUxMjMsLTEuOTkwNzE3MDEgODAsMTAuNTAwMzkyNyA4MCwzNy43MzA0NDA1IEM4MCw2NC45NjA0ODgyIDY0Ljc3NjUwMzgsNzkuMDUwMzQxNCAzNC4zMjk1MTEzLDgwIEM0Ny4wNTUzNDg5LDc3LjU2NzA4MDggNTMuNDE4MjY3Nyw3MC4zMTM2MTAzIDUzLjQxODI2NzcsNTguMjM5NTg4NSBDNTMuNDE4MjY3Nyw0MC4xMjg1NTU3IDM2LjMwMzk1NDQsMzcuNzMwNDQwNSAyNS4yMjc0MTcsMzcuNzMwNDQwNSBDMTcuODQzMDU4NiwzNy43MzA0NDA1IDkuNDMzOTE5NjYsMzcuNzMwNDQwNSAwLDM3LjczMDQ0MDUgWiIgaWQ9IlBhdGgtMTkiIGZpbGw9IiMzNzkzRUYiPjwvcGF0aD4KICAgICAgICAgICAgPC9nPgogICAgICAgIDwvZz4KICAgIDwvZz4KPC9zdmc+' > </img>\n",
    "Created in <span style='font-weight:600;margin-left:4px;'>Deepnote</span></a>"
   ]
  }
 ],
 "metadata": {
  "deepnote": {},
  "deepnote_execution_queue": [],
  "deepnote_notebook_id": "1390749e-c47b-42ca-940b-336d0fe94e64",
  "interpreter": {
   "hash": "4b5eed231ec0c115323e225ce5385d6626cfb048417038261eb3d8b8d0f3984b"
  },
  "kernelspec": {
   "display_name": "Python 3.9.7 ('base')",
   "language": "python",
   "name": "python3"
  },
  "language_info": {
   "codemirror_mode": {
    "name": "ipython",
    "version": 3
   },
   "file_extension": ".py",
   "mimetype": "text/x-python",
   "name": "python",
   "nbconvert_exporter": "python",
   "pygments_lexer": "ipython3",
   "version": "3.9.7"
  },
  "orig_nbformat": 4
 },
 "nbformat": 4,
 "nbformat_minor": 2
}
