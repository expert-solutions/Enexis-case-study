{
 "cells": [
  {
   "cell_type": "markdown",
   "metadata": {
    "cell_id": "123acf56-c2bd-4c7e-aa0e-c1a72fe8213a",
    "deepnote_app_coordinates": {
     "h": 6,
     "w": 12,
     "x": 0,
     "y": 0
    },
    "deepnote_cell_height": 221.96875,
    "deepnote_cell_type": "markdown"
   },
   "source": [
    "### Data understanding: installed pV CBS versus Enexis data\n",
    "What does the data look like? \n",
    "We take a look at the installed pV in time. What are the differences and what are the similarities between a set of selected municipalities (Den Bosch, Arnhem, Best and Loon op Zand). And how does the CBS data on installed pV compare to the data from the Enexis files that we use? This notebook helps us understand."
   ]
  },
  {
   "cell_type": "code",
   "execution_count": 31,
   "metadata": {
    "cell_id": "00002-b036a20f-e683-4d29-99ce-5904adcef5c8",
    "deepnote_cell_height": 791,
    "deepnote_cell_type": "code",
    "deepnote_to_be_reexecuted": false,
    "execution_millis": 36347,
    "execution_start": 1652893360543,
    "source_hash": "f11e9a3d"
   },
   "outputs": [
    {
     "name": "stdout",
     "output_type": "stream",
     "text": [
      "Requirement already satisfied: pip in c:\\users\\cjf_v\\miniconda3\\lib\\site-packages (22.1)\n",
      "Collecting pip\n",
      "  Using cached pip-22.1.1-py3-none-any.whl (2.1 MB)\n"
     ]
    },
    {
     "name": "stderr",
     "output_type": "stream",
     "text": [
      "ERROR: To modify pip, please run the following command:\n",
      "C:\\Users\\cjf_v\\miniconda3\\python.exe -m pip install --upgrade pip\n"
     ]
    },
    {
     "name": "stdout",
     "output_type": "stream",
     "text": [
      "Requirement already satisfied: altair in c:\\users\\cjf_v\\miniconda3\\lib\\site-packages (4.2.0)\n",
      "Requirement already satisfied: entrypoints in c:\\users\\cjf_v\\miniconda3\\lib\\site-packages (from altair) (0.4)\n",
      "Requirement already satisfied: jinja2 in c:\\users\\cjf_v\\miniconda3\\lib\\site-packages (from altair) (3.0.3)\n",
      "Requirement already satisfied: jsonschema>=3.0 in c:\\users\\cjf_v\\miniconda3\\lib\\site-packages (from altair) (4.4.0)\n",
      "Requirement already satisfied: toolz in c:\\users\\cjf_v\\miniconda3\\lib\\site-packages (from altair) (0.11.2)\n",
      "Requirement already satisfied: pandas>=0.18 in c:\\users\\cjf_v\\miniconda3\\lib\\site-packages (from altair) (1.4.2)\n",
      "Requirement already satisfied: numpy in c:\\users\\cjf_v\\miniconda3\\lib\\site-packages (from altair) (1.21.5)\n",
      "Requirement already satisfied: attrs>=17.4.0 in c:\\users\\cjf_v\\miniconda3\\lib\\site-packages (from jsonschema>=3.0->altair) (21.4.0)\n",
      "Requirement already satisfied: pyrsistent!=0.17.0,!=0.17.1,!=0.17.2,>=0.14.0 in c:\\users\\cjf_v\\miniconda3\\lib\\site-packages (from jsonschema>=3.0->altair) (0.18.0)\n",
      "Requirement already satisfied: pytz>=2020.1 in c:\\users\\cjf_v\\miniconda3\\lib\\site-packages (from pandas>=0.18->altair) (2021.3)\n",
      "Requirement already satisfied: python-dateutil>=2.8.1 in c:\\users\\cjf_v\\miniconda3\\lib\\site-packages (from pandas>=0.18->altair) (2.8.2)\n",
      "Requirement already satisfied: MarkupSafe>=2.0 in c:\\users\\cjf_v\\miniconda3\\lib\\site-packages (from jinja2->altair) (2.0.1)\n",
      "Requirement already satisfied: six>=1.5 in c:\\users\\cjf_v\\miniconda3\\lib\\site-packages (from python-dateutil>=2.8.1->pandas>=0.18->altair) (1.16.0)\n"
     ]
    },
    {
     "name": "stderr",
     "output_type": "stream",
     "text": [
      "WARNING: Error parsing requirements for statsmodels: [Errno 2] No such file or directory: 'c:\\\\users\\\\cjf_v\\\\miniconda3\\\\lib\\\\site-packages\\\\statsmodels-0.13.1.dist-info\\\\METADATA'\n"
     ]
    },
    {
     "name": "stdout",
     "output_type": "stream",
     "text": [
      "Requirement already satisfied: jupyter in c:\\users\\cjf_v\\miniconda3\\lib\\site-packages (1.0.0)\n",
      "Requirement already satisfied: pandas in c:\\users\\cjf_v\\miniconda3\\lib\\site-packages (1.4.2)\n",
      "Requirement already satisfied: vega in c:\\users\\cjf_v\\miniconda3\\lib\\site-packages (3.6.0)\n",
      "Requirement already satisfied: notebook in c:\\users\\cjf_v\\miniconda3\\lib\\site-packages (from jupyter) (6.4.11)\n",
      "Requirement already satisfied: jupyter-console in c:\\users\\cjf_v\\miniconda3\\lib\\site-packages (from jupyter) (6.4.3)\n"
     ]
    },
    {
     "name": "stderr",
     "output_type": "stream",
     "text": [
      "WARNING: Error parsing requirements for statsmodels: [Errno 2] No such file or directory: 'c:\\\\users\\\\cjf_v\\\\miniconda3\\\\lib\\\\site-packages\\\\statsmodels-0.13.1.dist-info\\\\METADATA'\n"
     ]
    },
    {
     "name": "stdout",
     "output_type": "stream",
     "text": [
      "Requirement already satisfied: qtconsole in c:\\users\\cjf_v\\miniconda3\\lib\\site-packages (from jupyter) (5.3.0)\n",
      "Requirement already satisfied: ipykernel in c:\\users\\cjf_v\\miniconda3\\lib\\site-packages (from jupyter) (6.9.1)\n",
      "Requirement already satisfied: nbconvert in c:\\users\\cjf_v\\miniconda3\\lib\\site-packages (from jupyter) (6.4.4)\n",
      "Requirement already satisfied: ipywidgets in c:\\users\\cjf_v\\miniconda3\\lib\\site-packages (from jupyter) (7.6.5)\n",
      "Requirement already satisfied: python-dateutil>=2.8.1 in c:\\users\\cjf_v\\miniconda3\\lib\\site-packages (from pandas) (2.8.2)\n",
      "Requirement already satisfied: pytz>=2020.1 in c:\\users\\cjf_v\\miniconda3\\lib\\site-packages (from pandas) (2021.3)\n",
      "Requirement already satisfied: numpy>=1.18.5 in c:\\users\\cjf_v\\miniconda3\\lib\\site-packages (from pandas) (1.21.5)\n",
      "Requirement already satisfied: six>=1.5 in c:\\users\\cjf_v\\miniconda3\\lib\\site-packages (from python-dateutil>=2.8.1->pandas) (1.16.0)\n",
      "Requirement already satisfied: debugpy<2.0,>=1.0.0 in c:\\users\\cjf_v\\miniconda3\\lib\\site-packages (from ipykernel->jupyter) (1.5.1)\n",
      "Requirement already satisfied: tornado<7.0,>=4.2 in c:\\users\\cjf_v\\miniconda3\\lib\\site-packages (from ipykernel->jupyter) (6.1)\n",
      "Requirement already satisfied: ipython>=7.23.1 in c:\\users\\cjf_v\\miniconda3\\lib\\site-packages (from ipykernel->jupyter) (8.3.0)\n",
      "Requirement already satisfied: matplotlib-inline<0.2.0,>=0.1.0 in c:\\users\\cjf_v\\miniconda3\\lib\\site-packages (from ipykernel->jupyter) (0.1.2)\n",
      "Requirement already satisfied: nest-asyncio in c:\\users\\cjf_v\\miniconda3\\lib\\site-packages (from ipykernel->jupyter) (1.5.5)\n",
      "Requirement already satisfied: jupyter-client<8.0 in c:\\users\\cjf_v\\miniconda3\\lib\\site-packages (from ipykernel->jupyter) (7.2.2)\n",
      "Requirement already satisfied: traitlets<6.0,>=5.1.0 in c:\\users\\cjf_v\\miniconda3\\lib\\site-packages (from ipykernel->jupyter) (5.1.1)\n",
      "Requirement already satisfied: nbformat>=4.2.0 in c:\\users\\cjf_v\\miniconda3\\lib\\site-packages (from ipywidgets->jupyter) (5.3.0)\n",
      "Requirement already satisfied: ipython-genutils~=0.2.0 in c:\\users\\cjf_v\\miniconda3\\lib\\site-packages (from ipywidgets->jupyter) (0.2.0)\n",
      "Requirement already satisfied: jupyterlab-widgets>=1.0.0 in c:\\users\\cjf_v\\miniconda3\\lib\\site-packages (from ipywidgets->jupyter) (1.0.0)\n",
      "Requirement already satisfied: widgetsnbextension~=3.5.0 in c:\\users\\cjf_v\\miniconda3\\lib\\site-packages (from ipywidgets->jupyter) (3.5.2)\n",
      "Requirement already satisfied: prompt-toolkit!=3.0.0,!=3.0.1,<3.1.0,>=2.0.0 in c:\\users\\cjf_v\\miniconda3\\lib\\site-packages (from jupyter-console->jupyter) (3.0.20)\n",
      "Requirement already satisfied: pygments in c:\\users\\cjf_v\\miniconda3\\lib\\site-packages (from jupyter-console->jupyter) (2.11.2)\n",
      "Requirement already satisfied: jupyter-core in c:\\users\\cjf_v\\miniconda3\\lib\\site-packages (from nbconvert->jupyter) (4.10.0)\n",
      "Requirement already satisfied: nbclient<0.6.0,>=0.5.0 in c:\\users\\cjf_v\\miniconda3\\lib\\site-packages (from nbconvert->jupyter) (0.5.13)\n",
      "Requirement already satisfied: pandocfilters>=1.4.1 in c:\\users\\cjf_v\\miniconda3\\lib\\site-packages (from nbconvert->jupyter) (1.5.0)\n",
      "Requirement already satisfied: mistune<2,>=0.8.1 in c:\\users\\cjf_v\\miniconda3\\lib\\site-packages (from nbconvert->jupyter) (0.8.4)\n",
      "Requirement already satisfied: entrypoints>=0.2.2 in c:\\users\\cjf_v\\miniconda3\\lib\\site-packages (from nbconvert->jupyter) (0.4)\n",
      "Requirement already satisfied: beautifulsoup4 in c:\\users\\cjf_v\\miniconda3\\lib\\site-packages (from nbconvert->jupyter) (4.11.1)\n",
      "Requirement already satisfied: testpath in c:\\users\\cjf_v\\miniconda3\\lib\\site-packages (from nbconvert->jupyter) (0.5.0)\n",
      "Requirement already satisfied: defusedxml in c:\\users\\cjf_v\\miniconda3\\lib\\site-packages (from nbconvert->jupyter) (0.7.1)\n",
      "Requirement already satisfied: jinja2>=2.4 in c:\\users\\cjf_v\\miniconda3\\lib\\site-packages (from nbconvert->jupyter) (3.0.3)\n",
      "Requirement already satisfied: bleach in c:\\users\\cjf_v\\miniconda3\\lib\\site-packages (from nbconvert->jupyter) (4.1.0)\n",
      "Requirement already satisfied: jupyterlab-pygments in c:\\users\\cjf_v\\miniconda3\\lib\\site-packages (from nbconvert->jupyter) (0.1.2)\n",
      "Requirement already satisfied: argon2-cffi in c:\\users\\cjf_v\\miniconda3\\lib\\site-packages (from notebook->jupyter) (21.3.0)\n",
      "Requirement already satisfied: prometheus-client in c:\\users\\cjf_v\\miniconda3\\lib\\site-packages (from notebook->jupyter) (0.13.1)\n",
      "Requirement already satisfied: terminado>=0.8.3 in c:\\users\\cjf_v\\miniconda3\\lib\\site-packages (from notebook->jupyter) (0.13.1)\n",
      "Requirement already satisfied: Send2Trash>=1.8.0 in c:\\users\\cjf_v\\miniconda3\\lib\\site-packages (from notebook->jupyter) (1.8.0)\n",
      "Requirement already satisfied: pyzmq>=17 in c:\\users\\cjf_v\\miniconda3\\lib\\site-packages (from notebook->jupyter) (22.3.0)\n",
      "Requirement already satisfied: qtpy>=2.0.1 in c:\\users\\cjf_v\\miniconda3\\lib\\site-packages (from qtconsole->jupyter) (2.0.1)\n",
      "Requirement already satisfied: decorator in c:\\users\\cjf_v\\miniconda3\\lib\\site-packages (from ipython>=7.23.1->ipykernel->jupyter) (5.1.1)\n",
      "Requirement already satisfied: jedi>=0.16 in c:\\users\\cjf_v\\miniconda3\\lib\\site-packages (from ipython>=7.23.1->ipykernel->jupyter) (0.18.1)\n",
      "Requirement already satisfied: pickleshare in c:\\users\\cjf_v\\miniconda3\\lib\\site-packages (from ipython>=7.23.1->ipykernel->jupyter) (0.7.5)\n",
      "Requirement already satisfied: colorama in c:\\users\\cjf_v\\miniconda3\\lib\\site-packages (from ipython>=7.23.1->ipykernel->jupyter) (0.4.4)\n",
      "Requirement already satisfied: backcall in c:\\users\\cjf_v\\miniconda3\\lib\\site-packages (from ipython>=7.23.1->ipykernel->jupyter) (0.2.0)\n",
      "Requirement already satisfied: setuptools>=18.5 in c:\\users\\cjf_v\\miniconda3\\lib\\site-packages (from ipython>=7.23.1->ipykernel->jupyter) (61.2.0)\n",
      "Requirement already satisfied: stack-data in c:\\users\\cjf_v\\miniconda3\\lib\\site-packages (from ipython>=7.23.1->ipykernel->jupyter) (0.2.0)\n",
      "Requirement already satisfied: MarkupSafe>=2.0 in c:\\users\\cjf_v\\miniconda3\\lib\\site-packages (from jinja2>=2.4->nbconvert->jupyter) (2.0.1)\n",
      "Requirement already satisfied: pywin32>=1.0 in c:\\users\\cjf_v\\miniconda3\\lib\\site-packages (from jupyter-core->nbconvert->jupyter) (302)\n",
      "Requirement already satisfied: fastjsonschema in c:\\users\\cjf_v\\miniconda3\\lib\\site-packages (from nbformat>=4.2.0->ipywidgets->jupyter) (2.15.1)\n",
      "Requirement already satisfied: jsonschema>=2.6 in c:\\users\\cjf_v\\miniconda3\\lib\\site-packages (from nbformat>=4.2.0->ipywidgets->jupyter) (4.4.0)\n",
      "Requirement already satisfied: wcwidth in c:\\users\\cjf_v\\miniconda3\\lib\\site-packages (from prompt-toolkit!=3.0.0,!=3.0.1,<3.1.0,>=2.0.0->jupyter-console->jupyter) (0.2.5)\n",
      "Requirement already satisfied: packaging in c:\\users\\cjf_v\\miniconda3\\lib\\site-packages (from qtpy>=2.0.1->qtconsole->jupyter) (21.3)\n",
      "Requirement already satisfied: pywinpty>=1.1.0 in c:\\users\\cjf_v\\miniconda3\\lib\\site-packages (from terminado>=0.8.3->notebook->jupyter) (2.0.2)\n",
      "Requirement already satisfied: argon2-cffi-bindings in c:\\users\\cjf_v\\miniconda3\\lib\\site-packages (from argon2-cffi->notebook->jupyter) (21.2.0)\n",
      "Requirement already satisfied: soupsieve>1.2 in c:\\users\\cjf_v\\miniconda3\\lib\\site-packages (from beautifulsoup4->nbconvert->jupyter) (2.3.1)\n",
      "Requirement already satisfied: webencodings in c:\\users\\cjf_v\\miniconda3\\lib\\site-packages (from bleach->nbconvert->jupyter) (0.5.1)\n",
      "Requirement already satisfied: parso<0.9.0,>=0.8.0 in c:\\users\\cjf_v\\miniconda3\\lib\\site-packages (from jedi>=0.16->ipython>=7.23.1->ipykernel->jupyter) (0.8.3)\n",
      "Requirement already satisfied: pyrsistent!=0.17.0,!=0.17.1,!=0.17.2,>=0.14.0 in c:\\users\\cjf_v\\miniconda3\\lib\\site-packages (from jsonschema>=2.6->nbformat>=4.2.0->ipywidgets->jupyter) (0.18.0)\n",
      "Requirement already satisfied: attrs>=17.4.0 in c:\\users\\cjf_v\\miniconda3\\lib\\site-packages (from jsonschema>=2.6->nbformat>=4.2.0->ipywidgets->jupyter) (21.4.0)\n",
      "Requirement already satisfied: cffi>=1.0.1 in c:\\users\\cjf_v\\miniconda3\\lib\\site-packages (from argon2-cffi-bindings->argon2-cffi->notebook->jupyter) (1.15.0)\n",
      "Requirement already satisfied: pyparsing!=3.0.5,>=2.0.2 in c:\\users\\cjf_v\\miniconda3\\lib\\site-packages (from packaging->qtpy>=2.0.1->qtconsole->jupyter) (3.0.4)\n",
      "Requirement already satisfied: pure-eval in c:\\users\\cjf_v\\miniconda3\\lib\\site-packages (from stack-data->ipython>=7.23.1->ipykernel->jupyter) (0.2.2)\n",
      "Requirement already satisfied: asttokens in c:\\users\\cjf_v\\miniconda3\\lib\\site-packages (from stack-data->ipython>=7.23.1->ipykernel->jupyter) (2.0.5)\n",
      "Requirement already satisfied: executing in c:\\users\\cjf_v\\miniconda3\\lib\\site-packages (from stack-data->ipython>=7.23.1->ipykernel->jupyter) (0.8.3)\n",
      "Requirement already satisfied: pycparser in c:\\users\\cjf_v\\miniconda3\\lib\\site-packages (from cffi>=1.0.1->argon2-cffi-bindings->argon2-cffi->notebook->jupyter) (2.21)\n"
     ]
    },
    {
     "name": "stderr",
     "output_type": "stream",
     "text": [
      "ERROR: Invalid requirement: '#'\n"
     ]
    }
   ],
   "source": [
    "# !pip install cbsodata\n",
    "!pip install --upgrade pip\n",
    "!pip install altair --upgrade\n",
    "\n",
    "!pip install jupyter pandas vega\n",
    "!pip install --upgrade notebook  # need jupyter_client >= 4.2 for sys-prefix below"
   ]
  },
  {
   "cell_type": "code",
   "execution_count": 32,
   "metadata": {
    "cell_id": "00003-14bb1399-af96-4377-b3e8-abb9ef5c6497",
    "deepnote_cell_height": 153,
    "deepnote_cell_type": "code",
    "deepnote_to_be_reexecuted": false,
    "execution_millis": 5096,
    "execution_start": 1652893396905,
    "source_hash": "eef3ff8e"
   },
   "outputs": [],
   "source": [
    "import cbsodata\n",
    "import pandas as pd\n",
    "import seaborn as sns\n",
    "import matplotlib.pyplot as pl\n",
    "import altair as alt"
   ]
  },
  {
   "cell_type": "code",
   "execution_count": 33,
   "metadata": {
    "cell_id": "00004-7bfb58a1-7968-40f8-a298-0e6624c83ec2",
    "deepnote_cell_height": 645.875,
    "deepnote_cell_type": "code",
    "deepnote_table_loading": false,
    "deepnote_table_state": {
     "filters": [],
     "pageIndex": 3,
     "pageSize": 10,
     "sortBy": []
    },
    "deepnote_to_be_reexecuted": false,
    "execution_millis": 10171,
    "execution_start": 1652893402014,
    "source_hash": "d9c1e932"
   },
   "outputs": [
    {
     "data": {
      "text/html": [
       "<div>\n",
       "<style scoped>\n",
       "    .dataframe tbody tr th:only-of-type {\n",
       "        vertical-align: middle;\n",
       "    }\n",
       "\n",
       "    .dataframe tbody tr th {\n",
       "        vertical-align: top;\n",
       "    }\n",
       "\n",
       "    .dataframe thead th {\n",
       "        text-align: right;\n",
       "    }\n",
       "</style>\n",
       "<table border=\"1\" class=\"dataframe\">\n",
       "  <thead>\n",
       "    <tr style=\"text-align: right;\">\n",
       "      <th></th>\n",
       "      <th>ID</th>\n",
       "      <th>BedrijfstakkenWoningen</th>\n",
       "      <th>RegioS</th>\n",
       "      <th>Perioden</th>\n",
       "      <th>AantalInstallaties_1</th>\n",
       "      <th>OpgesteldVermogenVanZonnepanelen_2</th>\n",
       "    </tr>\n",
       "  </thead>\n",
       "  <tbody>\n",
       "    <tr>\n",
       "      <th>3672</th>\n",
       "      <td>3672</td>\n",
       "      <td>Woningen</td>\n",
       "      <td>Arnhem</td>\n",
       "      <td>2012</td>\n",
       "      <td>336.0</td>\n",
       "      <td>694.0</td>\n",
       "    </tr>\n",
       "    <tr>\n",
       "      <th>3673</th>\n",
       "      <td>3673</td>\n",
       "      <td>Woningen</td>\n",
       "      <td>Arnhem</td>\n",
       "      <td>2013</td>\n",
       "      <td>778.0</td>\n",
       "      <td>2005.0</td>\n",
       "    </tr>\n",
       "    <tr>\n",
       "      <th>3674</th>\n",
       "      <td>3674</td>\n",
       "      <td>Woningen</td>\n",
       "      <td>Arnhem</td>\n",
       "      <td>2014</td>\n",
       "      <td>1135.0</td>\n",
       "      <td>3124.0</td>\n",
       "    </tr>\n",
       "    <tr>\n",
       "      <th>3675</th>\n",
       "      <td>3675</td>\n",
       "      <td>Woningen</td>\n",
       "      <td>Arnhem</td>\n",
       "      <td>2015</td>\n",
       "      <td>1772.0</td>\n",
       "      <td>4619.0</td>\n",
       "    </tr>\n",
       "    <tr>\n",
       "      <th>3676</th>\n",
       "      <td>3676</td>\n",
       "      <td>Woningen</td>\n",
       "      <td>Arnhem</td>\n",
       "      <td>2016</td>\n",
       "      <td>2530.0</td>\n",
       "      <td>7197.0</td>\n",
       "    </tr>\n",
       "  </tbody>\n",
       "</table>\n",
       "</div>"
      ],
      "text/plain": [
       "        ID BedrijfstakkenWoningen  RegioS Perioden  AantalInstallaties_1  \\\n",
       "3672  3672               Woningen  Arnhem     2012                 336.0   \n",
       "3673  3673               Woningen  Arnhem     2013                 778.0   \n",
       "3674  3674               Woningen  Arnhem     2014                1135.0   \n",
       "3675  3675               Woningen  Arnhem     2015                1772.0   \n",
       "3676  3676               Woningen  Arnhem     2016                2530.0   \n",
       "\n",
       "      OpgesteldVermogenVanZonnepanelen_2  \n",
       "3672                               694.0  \n",
       "3673                              2005.0  \n",
       "3674                              3124.0  \n",
       "3675                              4619.0  \n",
       "3676                              7197.0  "
      ]
     },
     "execution_count": 33,
     "metadata": {},
     "output_type": "execute_result"
    }
   ],
   "source": [
    "#Read in (Zonnestroom; vermogen bedrijven en woningen, regio (indeling 2019)\n",
    "zonnestroom_2019 = '84783NED'\n",
    "df_zonnestroom_2019 = pd.DataFrame(cbsodata.get_data(zonnestroom_2019))\n",
    "df_zonnestroom_2019 = df_zonnestroom_2019[\n",
    "    (\n",
    "(df_zonnestroom_2019['RegioS'] == \"'s-Hertogenbosch\") |\n",
    "(df_zonnestroom_2019['RegioS'] == \"Loon op Zand\") |\n",
    "(df_zonnestroom_2019['RegioS'] == \"Arnhem\") |\n",
    "(df_zonnestroom_2019['RegioS'] == \"Best\")\n",
    "    )\n",
    "    &  (df_zonnestroom_2019['BedrijfstakkenWoningen']=='Woningen')\n",
    "   ]\n",
    "\n",
    "df_zonnestroom_2019.head()"
   ]
  },
  {
   "cell_type": "code",
   "execution_count": null,
   "metadata": {
    "cell_id": "bd0759383a0f43de86db5fed6c145af4",
    "deepnote_cell_type": "visualization",
    "deepnote_to_be_reexecuted": false,
    "execution_millis": 3,
    "execution_start": 1652893411886,
    "source_hash": "b623e53d"
   },
   "outputs": [],
   "source": []
  },
  {
   "cell_type": "markdown",
   "metadata": {
    "cell_id": "d803325a48254dd589da18ad38c4fc05",
    "deepnote_cell_type": "text-cell-h3",
    "is_collapsed": false,
    "tags": []
   },
   "source": [
    "### Check if we're at version 4.2.0 so we can use the right graphs."
   ]
  },
  {
   "cell_type": "code",
   "execution_count": 34,
   "metadata": {
    "cell_id": "0adec4131b1c424c8b5d9d904a838cb4",
    "deepnote_cell_height": 118.1875,
    "deepnote_cell_type": "code",
    "deepnote_output_heights": [
     21.1875
    ],
    "deepnote_to_be_reexecuted": false,
    "execution_millis": 1,
    "execution_start": 1652893411902,
    "source_hash": "852dbdeb",
    "tags": []
   },
   "outputs": [
    {
     "data": {
      "text/plain": [
       "'4.2.0'"
      ]
     },
     "execution_count": 34,
     "metadata": {},
     "output_type": "execute_result"
    }
   ],
   "source": [
    "alt.__version__"
   ]
  },
  {
   "cell_type": "code",
   "execution_count": 35,
   "metadata": {
    "cell_id": "6afc74da8c83478489dcef00c8c0517f",
    "deepnote_cell_height": 543,
    "deepnote_cell_type": "code",
    "deepnote_output_heights": [
     374
    ],
    "deepnote_to_be_reexecuted": false,
    "execution_millis": 231,
    "execution_start": 1652893411963,
    "source_hash": "c3d170da",
    "tags": []
   },
   "outputs": [
    {
     "data": {
      "text/html": [
       "\n",
       "<div id=\"altair-viz-7cb80e9565594fd2b6a0dbe18be419f3\"></div>\n",
       "<script type=\"text/javascript\">\n",
       "  var VEGA_DEBUG = (typeof VEGA_DEBUG == \"undefined\") ? {} : VEGA_DEBUG;\n",
       "  (function(spec, embedOpt){\n",
       "    let outputDiv = document.currentScript.previousElementSibling;\n",
       "    if (outputDiv.id !== \"altair-viz-7cb80e9565594fd2b6a0dbe18be419f3\") {\n",
       "      outputDiv = document.getElementById(\"altair-viz-7cb80e9565594fd2b6a0dbe18be419f3\");\n",
       "    }\n",
       "    const paths = {\n",
       "      \"vega\": \"https://cdn.jsdelivr.net/npm//vega@5?noext\",\n",
       "      \"vega-lib\": \"https://cdn.jsdelivr.net/npm//vega-lib?noext\",\n",
       "      \"vega-lite\": \"https://cdn.jsdelivr.net/npm//vega-lite@4.17.0?noext\",\n",
       "      \"vega-embed\": \"https://cdn.jsdelivr.net/npm//vega-embed@6?noext\",\n",
       "    };\n",
       "\n",
       "    function maybeLoadScript(lib, version) {\n",
       "      var key = `${lib.replace(\"-\", \"\")}_version`;\n",
       "      return (VEGA_DEBUG[key] == version) ?\n",
       "        Promise.resolve(paths[lib]) :\n",
       "        new Promise(function(resolve, reject) {\n",
       "          var s = document.createElement('script');\n",
       "          document.getElementsByTagName(\"head\")[0].appendChild(s);\n",
       "          s.async = true;\n",
       "          s.onload = () => {\n",
       "            VEGA_DEBUG[key] = version;\n",
       "            return resolve(paths[lib]);\n",
       "          };\n",
       "          s.onerror = () => reject(`Error loading script: ${paths[lib]}`);\n",
       "          s.src = paths[lib];\n",
       "        });\n",
       "    }\n",
       "\n",
       "    function showError(err) {\n",
       "      outputDiv.innerHTML = `<div class=\"error\" style=\"color:red;\">${err}</div>`;\n",
       "      throw err;\n",
       "    }\n",
       "\n",
       "    function displayChart(vegaEmbed) {\n",
       "      vegaEmbed(outputDiv, spec, embedOpt)\n",
       "        .catch(err => showError(`Javascript Error: ${err.message}<br>This usually means there's a typo in your chart specification. See the javascript console for the full traceback.`));\n",
       "    }\n",
       "\n",
       "    if(typeof define === \"function\" && define.amd) {\n",
       "      requirejs.config({paths});\n",
       "      require([\"vega-embed\"], displayChart, err => showError(`Error loading script: ${err.message}`));\n",
       "    } else {\n",
       "      maybeLoadScript(\"vega\", \"5\")\n",
       "        .then(() => maybeLoadScript(\"vega-lite\", \"4.17.0\"))\n",
       "        .then(() => maybeLoadScript(\"vega-embed\", \"6\"))\n",
       "        .catch(showError)\n",
       "        .then(() => displayChart(vegaEmbed));\n",
       "    }\n",
       "  })({\"config\": {\"view\": {\"continuousWidth\": 400, \"continuousHeight\": 300}}, \"repeat\": {\"layer\": [\"AantalInstallaties_1\", \"OpgesteldVermogenVanZonnepanelen_2\"]}, \"spec\": {\"data\": {\"name\": \"data-065d17693aea585c86516ee32c65f4df\"}, \"mark\": \"line\", \"encoding\": {\"color\": {\"datum\": {\"repeat\": \"layer\"}}, \"x\": {\"bin\": false, \"field\": \"Perioden\", \"title\": \"Year\", \"type\": \"nominal\"}, \"y\": {\"aggregate\": \"mean\", \"field\": {\"repeat\": \"layer\"}, \"title\": \"Installed pV - number vs. power\"}}}, \"$schema\": \"https://vega.github.io/schema/vega-lite/v4.17.0.json\", \"datasets\": {\"data-065d17693aea585c86516ee32c65f4df\": [{\"ID\": 3672, \"BedrijfstakkenWoningen\": \"Woningen\", \"RegioS\": \"Arnhem\", \"Perioden\": \"2012\", \"AantalInstallaties_1\": 336.0, \"OpgesteldVermogenVanZonnepanelen_2\": 694.0}, {\"ID\": 3673, \"BedrijfstakkenWoningen\": \"Woningen\", \"RegioS\": \"Arnhem\", \"Perioden\": \"2013\", \"AantalInstallaties_1\": 778.0, \"OpgesteldVermogenVanZonnepanelen_2\": 2005.0}, {\"ID\": 3674, \"BedrijfstakkenWoningen\": \"Woningen\", \"RegioS\": \"Arnhem\", \"Perioden\": \"2014\", \"AantalInstallaties_1\": 1135.0, \"OpgesteldVermogenVanZonnepanelen_2\": 3124.0}, {\"ID\": 3675, \"BedrijfstakkenWoningen\": \"Woningen\", \"RegioS\": \"Arnhem\", \"Perioden\": \"2015\", \"AantalInstallaties_1\": 1772.0, \"OpgesteldVermogenVanZonnepanelen_2\": 4619.0}, {\"ID\": 3676, \"BedrijfstakkenWoningen\": \"Woningen\", \"RegioS\": \"Arnhem\", \"Perioden\": \"2016\", \"AantalInstallaties_1\": 2530.0, \"OpgesteldVermogenVanZonnepanelen_2\": 7197.0}, {\"ID\": 3677, \"BedrijfstakkenWoningen\": \"Woningen\", \"RegioS\": \"Arnhem\", \"Perioden\": \"2017\", \"AantalInstallaties_1\": 3182.0, \"OpgesteldVermogenVanZonnepanelen_2\": 9199.0}, {\"ID\": 3678, \"BedrijfstakkenWoningen\": \"Woningen\", \"RegioS\": \"Arnhem\", \"Perioden\": \"2018\", \"AantalInstallaties_1\": 4952.0, \"OpgesteldVermogenVanZonnepanelen_2\": 14754.0}, {\"ID\": 3679, \"BedrijfstakkenWoningen\": \"Woningen\", \"RegioS\": \"Arnhem\", \"Perioden\": \"2019\", \"AantalInstallaties_1\": 6384.0, \"OpgesteldVermogenVanZonnepanelen_2\": 20182.0}, {\"ID\": 3816, \"BedrijfstakkenWoningen\": \"Woningen\", \"RegioS\": \"Best\", \"Perioden\": \"2012\", \"AantalInstallaties_1\": 81.0, \"OpgesteldVermogenVanZonnepanelen_2\": 253.0}, {\"ID\": 3817, \"BedrijfstakkenWoningen\": \"Woningen\", \"RegioS\": \"Best\", \"Perioden\": \"2013\", \"AantalInstallaties_1\": 290.0, \"OpgesteldVermogenVanZonnepanelen_2\": 1054.0}, {\"ID\": 3818, \"BedrijfstakkenWoningen\": \"Woningen\", \"RegioS\": \"Best\", \"Perioden\": \"2014\", \"AantalInstallaties_1\": 462.0, \"OpgesteldVermogenVanZonnepanelen_2\": 1630.0}, {\"ID\": 3819, \"BedrijfstakkenWoningen\": \"Woningen\", \"RegioS\": \"Best\", \"Perioden\": \"2015\", \"AantalInstallaties_1\": 597.0, \"OpgesteldVermogenVanZonnepanelen_2\": 2224.0}, {\"ID\": 3820, \"BedrijfstakkenWoningen\": \"Woningen\", \"RegioS\": \"Best\", \"Perioden\": \"2016\", \"AantalInstallaties_1\": 738.0, \"OpgesteldVermogenVanZonnepanelen_2\": 2727.0}, {\"ID\": 3821, \"BedrijfstakkenWoningen\": \"Woningen\", \"RegioS\": \"Best\", \"Perioden\": \"2017\", \"AantalInstallaties_1\": 1023.0, \"OpgesteldVermogenVanZonnepanelen_2\": 3813.0}, {\"ID\": 3822, \"BedrijfstakkenWoningen\": \"Woningen\", \"RegioS\": \"Best\", \"Perioden\": \"2018\", \"AantalInstallaties_1\": 1549.0, \"OpgesteldVermogenVanZonnepanelen_2\": 5660.0}, {\"ID\": 3823, \"BedrijfstakkenWoningen\": \"Woningen\", \"RegioS\": \"Best\", \"Perioden\": \"2019\", \"AantalInstallaties_1\": 2444.0, \"OpgesteldVermogenVanZonnepanelen_2\": 9138.0}, {\"ID\": 4608, \"BedrijfstakkenWoningen\": \"Woningen\", \"RegioS\": \"'s-Hertogenbosch\", \"Perioden\": \"2012\", \"AantalInstallaties_1\": 371.0, \"OpgesteldVermogenVanZonnepanelen_2\": 985.0}, {\"ID\": 4609, \"BedrijfstakkenWoningen\": \"Woningen\", \"RegioS\": \"'s-Hertogenbosch\", \"Perioden\": \"2013\", \"AantalInstallaties_1\": 901.0, \"OpgesteldVermogenVanZonnepanelen_2\": 2859.0}, {\"ID\": 4610, \"BedrijfstakkenWoningen\": \"Woningen\", \"RegioS\": \"'s-Hertogenbosch\", \"Perioden\": \"2014\", \"AantalInstallaties_1\": 1270.0, \"OpgesteldVermogenVanZonnepanelen_2\": 4269.0}, {\"ID\": 4611, \"BedrijfstakkenWoningen\": \"Woningen\", \"RegioS\": \"'s-Hertogenbosch\", \"Perioden\": \"2015\", \"AantalInstallaties_1\": 1687.0, \"OpgesteldVermogenVanZonnepanelen_2\": 5748.0}, {\"ID\": 4612, \"BedrijfstakkenWoningen\": \"Woningen\", \"RegioS\": \"'s-Hertogenbosch\", \"Perioden\": \"2016\", \"AantalInstallaties_1\": 2170.0, \"OpgesteldVermogenVanZonnepanelen_2\": 7464.0}, {\"ID\": 4613, \"BedrijfstakkenWoningen\": \"Woningen\", \"RegioS\": \"'s-Hertogenbosch\", \"Perioden\": \"2017\", \"AantalInstallaties_1\": 2910.0, \"OpgesteldVermogenVanZonnepanelen_2\": 9936.0}, {\"ID\": 4614, \"BedrijfstakkenWoningen\": \"Woningen\", \"RegioS\": \"'s-Hertogenbosch\", \"Perioden\": \"2018\", \"AantalInstallaties_1\": 4103.0, \"OpgesteldVermogenVanZonnepanelen_2\": 14162.0}, {\"ID\": 4615, \"BedrijfstakkenWoningen\": \"Woningen\", \"RegioS\": \"'s-Hertogenbosch\", \"Perioden\": \"2019\", \"AantalInstallaties_1\": 6245.0, \"OpgesteldVermogenVanZonnepanelen_2\": 22106.0}, {\"ID\": 4944, \"BedrijfstakkenWoningen\": \"Woningen\", \"RegioS\": \"Loon op Zand\", \"Perioden\": \"2012\", \"AantalInstallaties_1\": 62.0, \"OpgesteldVermogenVanZonnepanelen_2\": 196.0}, {\"ID\": 4945, \"BedrijfstakkenWoningen\": \"Woningen\", \"RegioS\": \"Loon op Zand\", \"Perioden\": \"2013\", \"AantalInstallaties_1\": 138.0, \"OpgesteldVermogenVanZonnepanelen_2\": 491.0}, {\"ID\": 4946, \"BedrijfstakkenWoningen\": \"Woningen\", \"RegioS\": \"Loon op Zand\", \"Perioden\": \"2014\", \"AantalInstallaties_1\": 209.0, \"OpgesteldVermogenVanZonnepanelen_2\": 772.0}, {\"ID\": 4947, \"BedrijfstakkenWoningen\": \"Woningen\", \"RegioS\": \"Loon op Zand\", \"Perioden\": \"2015\", \"AantalInstallaties_1\": 274.0, \"OpgesteldVermogenVanZonnepanelen_2\": 1062.0}, {\"ID\": 4948, \"BedrijfstakkenWoningen\": \"Woningen\", \"RegioS\": \"Loon op Zand\", \"Perioden\": \"2016\", \"AantalInstallaties_1\": 379.0, \"OpgesteldVermogenVanZonnepanelen_2\": 1424.0}, {\"ID\": 4949, \"BedrijfstakkenWoningen\": \"Woningen\", \"RegioS\": \"Loon op Zand\", \"Perioden\": \"2017\", \"AantalInstallaties_1\": 527.0, \"OpgesteldVermogenVanZonnepanelen_2\": 1878.0}, {\"ID\": 4950, \"BedrijfstakkenWoningen\": \"Woningen\", \"RegioS\": \"Loon op Zand\", \"Perioden\": \"2018\", \"AantalInstallaties_1\": 761.0, \"OpgesteldVermogenVanZonnepanelen_2\": 2669.0}, {\"ID\": 4951, \"BedrijfstakkenWoningen\": \"Woningen\", \"RegioS\": \"Loon op Zand\", \"Perioden\": \"2019\", \"AantalInstallaties_1\": 1042.0, \"OpgesteldVermogenVanZonnepanelen_2\": 3914.0}]}}, {\"mode\": \"vega-lite\"});\n",
       "</script>"
      ],
      "text/plain": [
       "alt.RepeatChart(...)"
      ]
     },
     "execution_count": 35,
     "metadata": {},
     "output_type": "execute_result"
    }
   ],
   "source": [
    "alt.Chart(df_zonnestroom_2019).mark_line().encode(\n",
    "    x=alt.X(\"Perioden\", bin=False, title='Year'),\n",
    "    y=alt.Y(alt.repeat('layer'), aggregate='mean', title=\"Installed pV - number vs. power\"),\n",
    "    color=alt.ColorDatum(alt.repeat('layer'))\n",
    ").repeat(layer=[\"AantalInstallaties_1\", \"OpgesteldVermogenVanZonnepanelen_2\"])"
   ]
  },
  {
   "cell_type": "markdown",
   "metadata": {
    "cell_id": "9f513088376944f9afdb17f0727e96dd",
    "deepnote_cell_type": "text-cell-h3",
    "is_collapsed": false,
    "tags": []
   },
   "source": [
    "### Comparing municipalities"
   ]
  },
  {
   "cell_type": "code",
   "execution_count": 36,
   "metadata": {
    "cell_id": "00005-13f4b198-f351-4c40-930a-b7f38208ddd9",
    "deepnote_cell_height": 919.53125,
    "deepnote_cell_type": "code",
    "deepnote_output_heights": [
     606.546875
    ],
    "deepnote_to_be_reexecuted": false,
    "execution_millis": 16,
    "execution_start": 1652896428081,
    "source_hash": "fd023edf"
   },
   "outputs": [
    {
     "data": {
      "text/html": [
       "\n",
       "<div id=\"altair-viz-61949426c7e34d1a911c213bff375e3c\"></div>\n",
       "<script type=\"text/javascript\">\n",
       "  var VEGA_DEBUG = (typeof VEGA_DEBUG == \"undefined\") ? {} : VEGA_DEBUG;\n",
       "  (function(spec, embedOpt){\n",
       "    let outputDiv = document.currentScript.previousElementSibling;\n",
       "    if (outputDiv.id !== \"altair-viz-61949426c7e34d1a911c213bff375e3c\") {\n",
       "      outputDiv = document.getElementById(\"altair-viz-61949426c7e34d1a911c213bff375e3c\");\n",
       "    }\n",
       "    const paths = {\n",
       "      \"vega\": \"https://cdn.jsdelivr.net/npm//vega@5?noext\",\n",
       "      \"vega-lib\": \"https://cdn.jsdelivr.net/npm//vega-lib?noext\",\n",
       "      \"vega-lite\": \"https://cdn.jsdelivr.net/npm//vega-lite@4.17.0?noext\",\n",
       "      \"vega-embed\": \"https://cdn.jsdelivr.net/npm//vega-embed@6?noext\",\n",
       "    };\n",
       "\n",
       "    function maybeLoadScript(lib, version) {\n",
       "      var key = `${lib.replace(\"-\", \"\")}_version`;\n",
       "      return (VEGA_DEBUG[key] == version) ?\n",
       "        Promise.resolve(paths[lib]) :\n",
       "        new Promise(function(resolve, reject) {\n",
       "          var s = document.createElement('script');\n",
       "          document.getElementsByTagName(\"head\")[0].appendChild(s);\n",
       "          s.async = true;\n",
       "          s.onload = () => {\n",
       "            VEGA_DEBUG[key] = version;\n",
       "            return resolve(paths[lib]);\n",
       "          };\n",
       "          s.onerror = () => reject(`Error loading script: ${paths[lib]}`);\n",
       "          s.src = paths[lib];\n",
       "        });\n",
       "    }\n",
       "\n",
       "    function showError(err) {\n",
       "      outputDiv.innerHTML = `<div class=\"error\" style=\"color:red;\">${err}</div>`;\n",
       "      throw err;\n",
       "    }\n",
       "\n",
       "    function displayChart(vegaEmbed) {\n",
       "      vegaEmbed(outputDiv, spec, embedOpt)\n",
       "        .catch(err => showError(`Javascript Error: ${err.message}<br>This usually means there's a typo in your chart specification. See the javascript console for the full traceback.`));\n",
       "    }\n",
       "\n",
       "    if(typeof define === \"function\" && define.amd) {\n",
       "      requirejs.config({paths});\n",
       "      require([\"vega-embed\"], displayChart, err => showError(`Error loading script: ${err.message}`));\n",
       "    } else {\n",
       "      maybeLoadScript(\"vega\", \"5\")\n",
       "        .then(() => maybeLoadScript(\"vega-lite\", \"4.17.0\"))\n",
       "        .then(() => maybeLoadScript(\"vega-embed\", \"6\"))\n",
       "        .catch(showError)\n",
       "        .then(() => displayChart(vegaEmbed));\n",
       "    }\n",
       "  })({\"config\": {\"view\": {\"continuousWidth\": 400, \"continuousHeight\": 300}}, \"repeat\": {\"column\": [\"Perioden\"], \"row\": [\"AantalInstallaties_1\", \"OpgesteldVermogenVanZonnepanelen_2\"]}, \"spec\": {\"data\": {\"name\": \"data-065d17693aea585c86516ee32c65f4df\"}, \"mark\": \"point\", \"encoding\": {\"color\": {\"field\": \"RegioS\", \"type\": \"nominal\"}, \"x\": {\"field\": {\"repeat\": \"column\"}, \"title\": \"Year\", \"type\": \"ordinal\"}, \"y\": {\"field\": {\"repeat\": \"row\"}, \"type\": \"quantitative\"}}, \"height\": 250, \"selection\": {\"selector002\": {\"type\": \"interval\", \"bind\": \"scales\", \"encodings\": [\"x\", \"y\"]}}, \"width\": 375}, \"$schema\": \"https://vega.github.io/schema/vega-lite/v4.17.0.json\", \"datasets\": {\"data-065d17693aea585c86516ee32c65f4df\": [{\"ID\": 3672, \"BedrijfstakkenWoningen\": \"Woningen\", \"RegioS\": \"Arnhem\", \"Perioden\": \"2012\", \"AantalInstallaties_1\": 336.0, \"OpgesteldVermogenVanZonnepanelen_2\": 694.0}, {\"ID\": 3673, \"BedrijfstakkenWoningen\": \"Woningen\", \"RegioS\": \"Arnhem\", \"Perioden\": \"2013\", \"AantalInstallaties_1\": 778.0, \"OpgesteldVermogenVanZonnepanelen_2\": 2005.0}, {\"ID\": 3674, \"BedrijfstakkenWoningen\": \"Woningen\", \"RegioS\": \"Arnhem\", \"Perioden\": \"2014\", \"AantalInstallaties_1\": 1135.0, \"OpgesteldVermogenVanZonnepanelen_2\": 3124.0}, {\"ID\": 3675, \"BedrijfstakkenWoningen\": \"Woningen\", \"RegioS\": \"Arnhem\", \"Perioden\": \"2015\", \"AantalInstallaties_1\": 1772.0, \"OpgesteldVermogenVanZonnepanelen_2\": 4619.0}, {\"ID\": 3676, \"BedrijfstakkenWoningen\": \"Woningen\", \"RegioS\": \"Arnhem\", \"Perioden\": \"2016\", \"AantalInstallaties_1\": 2530.0, \"OpgesteldVermogenVanZonnepanelen_2\": 7197.0}, {\"ID\": 3677, \"BedrijfstakkenWoningen\": \"Woningen\", \"RegioS\": \"Arnhem\", \"Perioden\": \"2017\", \"AantalInstallaties_1\": 3182.0, \"OpgesteldVermogenVanZonnepanelen_2\": 9199.0}, {\"ID\": 3678, \"BedrijfstakkenWoningen\": \"Woningen\", \"RegioS\": \"Arnhem\", \"Perioden\": \"2018\", \"AantalInstallaties_1\": 4952.0, \"OpgesteldVermogenVanZonnepanelen_2\": 14754.0}, {\"ID\": 3679, \"BedrijfstakkenWoningen\": \"Woningen\", \"RegioS\": \"Arnhem\", \"Perioden\": \"2019\", \"AantalInstallaties_1\": 6384.0, \"OpgesteldVermogenVanZonnepanelen_2\": 20182.0}, {\"ID\": 3816, \"BedrijfstakkenWoningen\": \"Woningen\", \"RegioS\": \"Best\", \"Perioden\": \"2012\", \"AantalInstallaties_1\": 81.0, \"OpgesteldVermogenVanZonnepanelen_2\": 253.0}, {\"ID\": 3817, \"BedrijfstakkenWoningen\": \"Woningen\", \"RegioS\": \"Best\", \"Perioden\": \"2013\", \"AantalInstallaties_1\": 290.0, \"OpgesteldVermogenVanZonnepanelen_2\": 1054.0}, {\"ID\": 3818, \"BedrijfstakkenWoningen\": \"Woningen\", \"RegioS\": \"Best\", \"Perioden\": \"2014\", \"AantalInstallaties_1\": 462.0, \"OpgesteldVermogenVanZonnepanelen_2\": 1630.0}, {\"ID\": 3819, \"BedrijfstakkenWoningen\": \"Woningen\", \"RegioS\": \"Best\", \"Perioden\": \"2015\", \"AantalInstallaties_1\": 597.0, \"OpgesteldVermogenVanZonnepanelen_2\": 2224.0}, {\"ID\": 3820, \"BedrijfstakkenWoningen\": \"Woningen\", \"RegioS\": \"Best\", \"Perioden\": \"2016\", \"AantalInstallaties_1\": 738.0, \"OpgesteldVermogenVanZonnepanelen_2\": 2727.0}, {\"ID\": 3821, \"BedrijfstakkenWoningen\": \"Woningen\", \"RegioS\": \"Best\", \"Perioden\": \"2017\", \"AantalInstallaties_1\": 1023.0, \"OpgesteldVermogenVanZonnepanelen_2\": 3813.0}, {\"ID\": 3822, \"BedrijfstakkenWoningen\": \"Woningen\", \"RegioS\": \"Best\", \"Perioden\": \"2018\", \"AantalInstallaties_1\": 1549.0, \"OpgesteldVermogenVanZonnepanelen_2\": 5660.0}, {\"ID\": 3823, \"BedrijfstakkenWoningen\": \"Woningen\", \"RegioS\": \"Best\", \"Perioden\": \"2019\", \"AantalInstallaties_1\": 2444.0, \"OpgesteldVermogenVanZonnepanelen_2\": 9138.0}, {\"ID\": 4608, \"BedrijfstakkenWoningen\": \"Woningen\", \"RegioS\": \"'s-Hertogenbosch\", \"Perioden\": \"2012\", \"AantalInstallaties_1\": 371.0, \"OpgesteldVermogenVanZonnepanelen_2\": 985.0}, {\"ID\": 4609, \"BedrijfstakkenWoningen\": \"Woningen\", \"RegioS\": \"'s-Hertogenbosch\", \"Perioden\": \"2013\", \"AantalInstallaties_1\": 901.0, \"OpgesteldVermogenVanZonnepanelen_2\": 2859.0}, {\"ID\": 4610, \"BedrijfstakkenWoningen\": \"Woningen\", \"RegioS\": \"'s-Hertogenbosch\", \"Perioden\": \"2014\", \"AantalInstallaties_1\": 1270.0, \"OpgesteldVermogenVanZonnepanelen_2\": 4269.0}, {\"ID\": 4611, \"BedrijfstakkenWoningen\": \"Woningen\", \"RegioS\": \"'s-Hertogenbosch\", \"Perioden\": \"2015\", \"AantalInstallaties_1\": 1687.0, \"OpgesteldVermogenVanZonnepanelen_2\": 5748.0}, {\"ID\": 4612, \"BedrijfstakkenWoningen\": \"Woningen\", \"RegioS\": \"'s-Hertogenbosch\", \"Perioden\": \"2016\", \"AantalInstallaties_1\": 2170.0, \"OpgesteldVermogenVanZonnepanelen_2\": 7464.0}, {\"ID\": 4613, \"BedrijfstakkenWoningen\": \"Woningen\", \"RegioS\": \"'s-Hertogenbosch\", \"Perioden\": \"2017\", \"AantalInstallaties_1\": 2910.0, \"OpgesteldVermogenVanZonnepanelen_2\": 9936.0}, {\"ID\": 4614, \"BedrijfstakkenWoningen\": \"Woningen\", \"RegioS\": \"'s-Hertogenbosch\", \"Perioden\": \"2018\", \"AantalInstallaties_1\": 4103.0, \"OpgesteldVermogenVanZonnepanelen_2\": 14162.0}, {\"ID\": 4615, \"BedrijfstakkenWoningen\": \"Woningen\", \"RegioS\": \"'s-Hertogenbosch\", \"Perioden\": \"2019\", \"AantalInstallaties_1\": 6245.0, \"OpgesteldVermogenVanZonnepanelen_2\": 22106.0}, {\"ID\": 4944, \"BedrijfstakkenWoningen\": \"Woningen\", \"RegioS\": \"Loon op Zand\", \"Perioden\": \"2012\", \"AantalInstallaties_1\": 62.0, \"OpgesteldVermogenVanZonnepanelen_2\": 196.0}, {\"ID\": 4945, \"BedrijfstakkenWoningen\": \"Woningen\", \"RegioS\": \"Loon op Zand\", \"Perioden\": \"2013\", \"AantalInstallaties_1\": 138.0, \"OpgesteldVermogenVanZonnepanelen_2\": 491.0}, {\"ID\": 4946, \"BedrijfstakkenWoningen\": \"Woningen\", \"RegioS\": \"Loon op Zand\", \"Perioden\": \"2014\", \"AantalInstallaties_1\": 209.0, \"OpgesteldVermogenVanZonnepanelen_2\": 772.0}, {\"ID\": 4947, \"BedrijfstakkenWoningen\": \"Woningen\", \"RegioS\": \"Loon op Zand\", \"Perioden\": \"2015\", \"AantalInstallaties_1\": 274.0, \"OpgesteldVermogenVanZonnepanelen_2\": 1062.0}, {\"ID\": 4948, \"BedrijfstakkenWoningen\": \"Woningen\", \"RegioS\": \"Loon op Zand\", \"Perioden\": \"2016\", \"AantalInstallaties_1\": 379.0, \"OpgesteldVermogenVanZonnepanelen_2\": 1424.0}, {\"ID\": 4949, \"BedrijfstakkenWoningen\": \"Woningen\", \"RegioS\": \"Loon op Zand\", \"Perioden\": \"2017\", \"AantalInstallaties_1\": 527.0, \"OpgesteldVermogenVanZonnepanelen_2\": 1878.0}, {\"ID\": 4950, \"BedrijfstakkenWoningen\": \"Woningen\", \"RegioS\": \"Loon op Zand\", \"Perioden\": \"2018\", \"AantalInstallaties_1\": 761.0, \"OpgesteldVermogenVanZonnepanelen_2\": 2669.0}, {\"ID\": 4951, \"BedrijfstakkenWoningen\": \"Woningen\", \"RegioS\": \"Loon op Zand\", \"Perioden\": \"2019\", \"AantalInstallaties_1\": 1042.0, \"OpgesteldVermogenVanZonnepanelen_2\": 3914.0}]}}, {\"mode\": \"vega-lite\"});\n",
       "</script>"
      ],
      "text/plain": [
       "alt.RepeatChart(...)"
      ]
     },
     "execution_count": 36,
     "metadata": {},
     "output_type": "execute_result"
    }
   ],
   "source": [
    "chart = alt.Chart(df_zonnestroom_2019).mark_point().encode(\n",
    "    alt.X(alt.repeat(\"column\"), type='ordinal', title='Year'),\n",
    "    alt.Y(alt.repeat(\"row\"), type='quantitative'),\n",
    "    color='RegioS:N'\n",
    ").properties(\n",
    "    width=375,\n",
    "    height=250\n",
    ").repeat(\n",
    "    column=['Perioden'],\n",
    "    row=['AantalInstallaties_1', 'OpgesteldVermogenVanZonnepanelen_2'],\n",
    "    \n",
    ").interactive()\n",
    "chart"
   ]
  },
  {
   "cell_type": "markdown",
   "metadata": {
    "cell_id": "3cd3a9ca43254bc48ffcfa2193fed858",
    "deepnote_app_coordinates": {
     "h": 4,
     "w": 12,
     "x": 0,
     "y": 66
    },
    "deepnote_cell_type": "text-cell-h3",
    "is_collapsed": false,
    "tags": []
   },
   "source": [
    "### Compare the CBS data with the Enexis data"
   ]
  },
  {
   "cell_type": "markdown",
   "metadata": {
    "cell_id": "1895e46af65e46fe8187bf5d10572095",
    "deepnote_app_coordinates": {
     "h": 3,
     "w": 13,
     "x": 0,
     "y": 70
    },
    "deepnote_cell_type": "text-cell-p",
    "is_collapsed": false,
    "tags": []
   },
   "source": [
    "CBS data goes from 2012 to 2019 at the end of the year, and the Enexis data is from 1-1-2020."
   ]
  },
  {
   "cell_type": "markdown",
   "metadata": {
    "cell_id": "b58af8b45366405390cbe3093753712b",
    "deepnote_cell_type": "text-cell-p",
    "is_collapsed": false,
    "tags": []
   },
   "source": [
    "Load the enexis 2020 data:"
   ]
  },
  {
   "cell_type": "code",
   "execution_count": 37,
   "metadata": {
    "cell_id": "ff1935ced17643549dfea71f23a76703",
    "deepnote_cell_height": 81,
    "deepnote_cell_type": "code",
    "deepnote_to_be_reexecuted": false,
    "execution_millis": 1,
    "execution_start": 1652893412124,
    "source_hash": "9b82ee11",
    "tags": []
   },
   "outputs": [],
   "source": [
    "import pandas as pd"
   ]
  },
  {
   "cell_type": "markdown",
   "metadata": {},
   "source": [
    "Helper methods for recurring work"
   ]
  },
  {
   "cell_type": "code",
   "execution_count": 38,
   "metadata": {},
   "outputs": [],
   "source": [
    "def load_enexis_data(file_name):\n",
    "  return pd.read_csv(file_name,\n",
    "                         sep                = ';',\n",
    "                         decimal            = ',',\n",
    "                         thousands          = '.',\n",
    "                         encoding           = 'unicode_escape')"
   ]
  },
  {
   "cell_type": "code",
   "execution_count": 39,
   "metadata": {},
   "outputs": [],
   "source": [
    "def filter_on_4_municipalities(df):\n",
    "    return df[    \n",
    "    (df['Gemeente']=='Arnhem') |\n",
    "    (df['Gemeente']=='Best') |\n",
    "    (df['Gemeente']==\"'s-Hertogenbosch\") |\n",
    "    (df['Gemeente']==\"s-Hertogenbosch\") |\n",
    "    (df['Gemeente']=='Loon op Zand') \n",
    "]"
   ]
  },
  {
   "cell_type": "code",
   "execution_count": 40,
   "metadata": {},
   "outputs": [],
   "source": [
    "def summarize_number_of_connections(df):\n",
    "    return df.groupby('Gemeente')['Aantal aansluitingen met opwekinstallatie'].sum()"
   ]
  },
  {
   "cell_type": "code",
   "execution_count": 41,
   "metadata": {},
   "outputs": [],
   "source": [
    "def summarize_opgesteld_vermogen(df):\n",
    "    return df.groupby('Gemeente')['Opgesteld vermogen'].sum()"
   ]
  },
  {
   "cell_type": "markdown",
   "metadata": {},
   "source": [
    "Load the data for the 4 Enexis datapoints in the 'decentrale opwek' files"
   ]
  },
  {
   "cell_type": "code",
   "execution_count": 42,
   "metadata": {
    "cell_id": "f46b0108272842c1b946d76b78c18fcc",
    "deepnote_cell_height": 171,
    "deepnote_cell_type": "code",
    "deepnote_to_be_reexecuted": false,
    "execution_millis": 45,
    "execution_start": 1652893412125,
    "source_hash": "57270238",
    "tags": []
   },
   "outputs": [],
   "source": [
    "decentral_generation_012020 = load_enexis_data('../data/Enexis_decentrale_opwek_kv_(zon_pv)_01012020.csv')\n",
    "decentral_generation_012020 = filter_on_4_municipalities(decentral_generation_012020)\n",
    "\n",
    "decentral_generation_072020 = load_enexis_data('../data/Enexis_decentrale_opwek_kv_(zon_pv)_01072020.csv')\n",
    "decentral_generation_072020 = filter_on_4_municipalities(decentral_generation_072020)\n",
    "\n",
    "decentral_generation_012021 = load_enexis_data('../data/Enexis_decentrale_opwek_kv_(zon_pv)_01012021.csv')\n",
    "decentral_generation_012021 = filter_on_4_municipalities(decentral_generation_012021)\n",
    "\n",
    "decentral_generation_072021 = load_enexis_data('../data/Enexis_decentrale_opwek_kv_(zon_pv)_01072021.csv')\n",
    "decentral_generation_072021 = filter_on_4_municipalities(decentral_generation_072021)   \n",
    "\n",
    "decentral_generation_012022 = load_enexis_data('../data/Enexis_decentrale_opwek_kv_(zon_pv)_01012022.csv')\n",
    "decentral_generation_012022 = filter_on_4_municipalities(decentral_generation_012022)     "
   ]
  },
  {
   "cell_type": "markdown",
   "metadata": {
    "cell_id": "e07e85136f044796b769afd01ac6b81d",
    "deepnote_cell_type": "text-cell-p",
    "is_collapsed": false,
    "tags": []
   },
   "source": [
    "Keep only data from selected municipalities and get the total number of pv connections there:"
   ]
  },
  {
   "cell_type": "code",
   "execution_count": 43,
   "metadata": {
    "cell_id": "ded6c925539a4bd8bfc537760b5b3d9d",
    "deepnote_cell_height": 374.953125,
    "deepnote_cell_type": "code",
    "deepnote_output_heights": [
     97.96875
    ],
    "deepnote_to_be_reexecuted": false,
    "execution_millis": 68,
    "execution_start": 1652893412170,
    "source_hash": "3101d9eb",
    "tags": []
   },
   "outputs": [],
   "source": [
    "totalNumberOfPVConnections012020 = summarize_number_of_connections(decentral_generation_012020)\n",
    "totalNumberOfPVConnections072020 = summarize_number_of_connections(decentral_generation_072020)\n",
    "totalNumberOfPVConnections012021 = summarize_number_of_connections(decentral_generation_012021)\n",
    "totalNumberOfPVConnections072021 = summarize_number_of_connections(decentral_generation_072021)\n",
    "totalNumberOfPVConnections012022 = summarize_number_of_connections(decentral_generation_012022)"
   ]
  },
  {
   "cell_type": "markdown",
   "metadata": {
    "cell_id": "62cf6517f5694275b87a210108826faf",
    "deepnote_cell_type": "text-cell-p",
    "is_collapsed": false,
    "tags": []
   },
   "source": [
    "Note that 'Arnhem' is not part of the Enexis data. This is because it is not in their servicing area."
   ]
  },
  {
   "cell_type": "markdown",
   "metadata": {
    "cell_id": "dda2c276e5b449b9be4f6710b9d2eb8f",
    "deepnote_cell_type": "text-cell-p",
    "is_collapsed": false,
    "tags": []
   },
   "source": [
    "Do the same for the generative power ('opgesteld vermogen'):"
   ]
  },
  {
   "cell_type": "code",
   "execution_count": 44,
   "metadata": {
    "cell_id": "98f216a4fbed424399a2e3414bc07c82",
    "deepnote_cell_height": 356.953125,
    "deepnote_cell_type": "code",
    "deepnote_output_heights": [
     97.96875
    ],
    "deepnote_to_be_reexecuted": false,
    "execution_millis": 2,
    "execution_start": 1652893412356,
    "source_hash": "f57234ca",
    "tags": []
   },
   "outputs": [],
   "source": [
    "totalOpgesteldVermogen012020 = summarize_opgesteld_vermogen(decentral_generation_012020)\n",
    "totalOpgesteldVermogen072020 = summarize_opgesteld_vermogen(decentral_generation_072020)\n",
    "totalOpgesteldVermogen012021 = summarize_opgesteld_vermogen(decentral_generation_012021)\n",
    "totalOpgesteldVermogen072021 = summarize_opgesteld_vermogen(decentral_generation_072021)\n",
    "totalOpgesteldVermogen012022 = summarize_opgesteld_vermogen(decentral_generation_012022)"
   ]
  },
  {
   "cell_type": "code",
   "execution_count": 45,
   "metadata": {},
   "outputs": [],
   "source": [
    "def create_row(id, regio, period, installations, generative_power):\n",
    "    return {\"ID\":id, \"BedrijfstakkenWoningen\":\"Woningen\",\n",
    "        \"RegioS\":regio, \"Perioden\":period,\n",
    "        \"AantalInstallaties_1\":installations, \"OpgesteldVermogenVanZonnepanelen_2\":generative_power}"
   ]
  },
  {
   "cell_type": "markdown",
   "metadata": {
    "cell_id": "68af80f61b934b0c9cb164028fbbb0d3",
    "deepnote_cell_type": "text-cell-p",
    "is_collapsed": false,
    "tags": []
   },
   "source": [
    "Add the data to the CBS data and create one graph from it."
   ]
  },
  {
   "cell_type": "code",
   "execution_count": 50,
   "metadata": {
    "cell_id": "2637c0b5e3ef4ed788cc01249d66773b",
    "deepnote_cell_height": 717.875,
    "deepnote_cell_type": "code",
    "deepnote_to_be_reexecuted": false,
    "execution_millis": 55,
    "execution_start": 1652896089743,
    "source_hash": "80ee2e7a",
    "tags": []
   },
   "outputs": [
    {
     "name": "stderr",
     "output_type": "stream",
     "text": [
      "C:\\Users\\cjf_v\\AppData\\Local\\Temp\\ipykernel_16160\\738870607.py:26: FutureWarning: The frame.append method is deprecated and will be removed from pandas in a future version. Use pandas.concat instead.\n",
      "  df = df_zonnestroom_2019.append(bestRow01012020, ignore_index=True)\n",
      "C:\\Users\\cjf_v\\AppData\\Local\\Temp\\ipykernel_16160\\738870607.py:27: FutureWarning: The frame.append method is deprecated and will be removed from pandas in a future version. Use pandas.concat instead.\n",
      "  df = df.append(sHertogenboschRow01012020, ignore_index=True)\n",
      "C:\\Users\\cjf_v\\AppData\\Local\\Temp\\ipykernel_16160\\738870607.py:28: FutureWarning: The frame.append method is deprecated and will be removed from pandas in a future version. Use pandas.concat instead.\n",
      "  df = df.append(loonOpZandRow01012020, ignore_index=True)\n",
      "C:\\Users\\cjf_v\\AppData\\Local\\Temp\\ipykernel_16160\\738870607.py:30: FutureWarning: The frame.append method is deprecated and will be removed from pandas in a future version. Use pandas.concat instead.\n",
      "  df = df.append(bestRow01072020, ignore_index=True)\n",
      "C:\\Users\\cjf_v\\AppData\\Local\\Temp\\ipykernel_16160\\738870607.py:31: FutureWarning: The frame.append method is deprecated and will be removed from pandas in a future version. Use pandas.concat instead.\n",
      "  df = df.append(sHertogenboschRow01072020, ignore_index=True)\n",
      "C:\\Users\\cjf_v\\AppData\\Local\\Temp\\ipykernel_16160\\738870607.py:32: FutureWarning: The frame.append method is deprecated and will be removed from pandas in a future version. Use pandas.concat instead.\n",
      "  df = df.append(loonOpZandRow01072020, ignore_index=True)\n",
      "C:\\Users\\cjf_v\\AppData\\Local\\Temp\\ipykernel_16160\\738870607.py:34: FutureWarning: The frame.append method is deprecated and will be removed from pandas in a future version. Use pandas.concat instead.\n",
      "  df = df.append(bestRow01012021, ignore_index=True)\n",
      "C:\\Users\\cjf_v\\AppData\\Local\\Temp\\ipykernel_16160\\738870607.py:35: FutureWarning: The frame.append method is deprecated and will be removed from pandas in a future version. Use pandas.concat instead.\n",
      "  df = df.append(sHertogenboschRow01012021, ignore_index=True)\n",
      "C:\\Users\\cjf_v\\AppData\\Local\\Temp\\ipykernel_16160\\738870607.py:36: FutureWarning: The frame.append method is deprecated and will be removed from pandas in a future version. Use pandas.concat instead.\n",
      "  df = df.append(loonOpZandRow01012021, ignore_index=True)\n",
      "C:\\Users\\cjf_v\\AppData\\Local\\Temp\\ipykernel_16160\\738870607.py:38: FutureWarning: The frame.append method is deprecated and will be removed from pandas in a future version. Use pandas.concat instead.\n",
      "  df = df.append(bestRow01072021, ignore_index=True)\n",
      "C:\\Users\\cjf_v\\AppData\\Local\\Temp\\ipykernel_16160\\738870607.py:39: FutureWarning: The frame.append method is deprecated and will be removed from pandas in a future version. Use pandas.concat instead.\n",
      "  df = df.append(sHertogenboschRow01072021, ignore_index=True)\n",
      "C:\\Users\\cjf_v\\AppData\\Local\\Temp\\ipykernel_16160\\738870607.py:40: FutureWarning: The frame.append method is deprecated and will be removed from pandas in a future version. Use pandas.concat instead.\n",
      "  df = df.append(loonOpZandRow01072021, ignore_index=True)\n",
      "C:\\Users\\cjf_v\\AppData\\Local\\Temp\\ipykernel_16160\\738870607.py:42: FutureWarning: The frame.append method is deprecated and will be removed from pandas in a future version. Use pandas.concat instead.\n",
      "  df = df.append(bestRow01012022, ignore_index=True)\n",
      "C:\\Users\\cjf_v\\AppData\\Local\\Temp\\ipykernel_16160\\738870607.py:43: FutureWarning: The frame.append method is deprecated and will be removed from pandas in a future version. Use pandas.concat instead.\n",
      "  df = df.append(sHertogenboschRow01012022, ignore_index=True)\n",
      "C:\\Users\\cjf_v\\AppData\\Local\\Temp\\ipykernel_16160\\738870607.py:44: FutureWarning: The frame.append method is deprecated and will be removed from pandas in a future version. Use pandas.concat instead.\n",
      "  df = df.append(loonOpZandRow01012022, ignore_index=True)\n"
     ]
    }
   ],
   "source": [
    "best = \"Best\"\n",
    "den_bosch = \"'s-Hertogenbosch\"\n",
    "den_bosch_july_2020 = \"s-Hertogenbosch\"\n",
    "loon_op_zand = \"Loon op Zand\"\n",
    "\n",
    "bestRow01012020 = create_row(67890,\"Best (Enexis 2020-1)\", \"Enexis 2020-1\", totalNumberOfPVConnections012020[best], totalOpgesteldVermogen012020[best] )\n",
    "sHertogenboschRow01012020 =  create_row(67891, \"'s-Hertogenbosch (Enexis 2020-1)\", \"Enexis 2020-1\", totalNumberOfPVConnections012020[den_bosch], totalOpgesteldVermogen012020[den_bosch] ) \n",
    "loonOpZandRow01012020 = create_row(67892, \"Loon op Zand (Enexis 2020-1)\", \"Enexis 2020-1\", totalNumberOfPVConnections012020[loon_op_zand], totalOpgesteldVermogen012020[loon_op_zand] )\n",
    "\n",
    "bestRow01072020 = create_row(67893,\"Best (Enexis 2020-7)\", \"Enexis 2020-7\", totalNumberOfPVConnections072020[best], totalOpgesteldVermogen072020[best] )\n",
    "sHertogenboschRow01072020 =  create_row(67894,  \"'s-Hertogenbosch (Enexis 2020-7)\", \"Enexis 2020-7\", totalNumberOfPVConnections072020[den_bosch_july_2020], totalOpgesteldVermogen072020[den_bosch_july_2020] ) \n",
    "loonOpZandRow01072020 = create_row(67895, \"Loon op Zand (Enexis 2020-7)\", \"Enexis 2020-7\", totalNumberOfPVConnections072020[loon_op_zand], totalOpgesteldVermogen072020[loon_op_zand] )\n",
    "\n",
    "bestRow01012021 = create_row(67896,\"Best (Enexis 2021-1)\", \"Enexis 2021-1\", totalNumberOfPVConnections012021[best], totalOpgesteldVermogen012021[best] )\n",
    "sHertogenboschRow01012021 =  create_row(67897, \"'s-Hertogenbosch (Enexis 2021-1)\", \"Enexis 2021-1\", totalNumberOfPVConnections012021[den_bosch], totalOpgesteldVermogen012021[den_bosch] ) \n",
    "loonOpZandRow01012021 = create_row(67898, \"Loon op Zand (Enexis 2021-1)\", \"Enexis 2021-1\", totalNumberOfPVConnections012021[loon_op_zand], totalOpgesteldVermogen012021[loon_op_zand] )\n",
    "\n",
    "bestRow01072021 = create_row(67899,\"Best (Enexis 2021-7)\", \"Enexis 2021-7\", totalNumberOfPVConnections072021[best], totalOpgesteldVermogen072021[best] )\n",
    "sHertogenboschRow01072021 =  create_row(67900, \"'s-Hertogenbosch (Enexis 2021-7)\", \"Enexis 2021-7\", totalNumberOfPVConnections072021[den_bosch], totalOpgesteldVermogen072021[den_bosch] ) \n",
    "loonOpZandRow01072021 = create_row(67901, \"Loon op Zand (Enexis 2021-7)\", \"Enexis 2021-7\", totalNumberOfPVConnections072021[loon_op_zand], totalOpgesteldVermogen072021[loon_op_zand] )\n",
    "\n",
    "bestRow01012022 = create_row(67902,\"Best (Enexis 2022-1)\", \"Enexis 2022-1\", totalNumberOfPVConnections012022[best], totalOpgesteldVermogen012022[best] )\n",
    "sHertogenboschRow01012022 =  create_row(67903, \"'s-Hertogenbosch (Enexis 2022-1)\", \"Enexis 2022-1\", totalNumberOfPVConnections012022[den_bosch], totalOpgesteldVermogen012022[den_bosch] ) \n",
    "loonOpZandRow01012022 = create_row(67904, \"Loon op Zand (Enexis 2022-1)\", \"Enexis 2022-1\", totalNumberOfPVConnections012022[loon_op_zand], totalOpgesteldVermogen012022[loon_op_zand] )\n",
    "\n",
    "df = df_zonnestroom_2019.append(bestRow01012020, ignore_index=True)\n",
    "df = df.append(sHertogenboschRow01012020, ignore_index=True)\n",
    "df = df.append(loonOpZandRow01012020, ignore_index=True)\n",
    "\n",
    "df = df.append(bestRow01072020, ignore_index=True)\n",
    "df = df.append(sHertogenboschRow01072020, ignore_index=True)\n",
    "df = df.append(loonOpZandRow01072020, ignore_index=True)\n",
    "\n",
    "df = df.append(bestRow01012021, ignore_index=True)\n",
    "df = df.append(sHertogenboschRow01012021, ignore_index=True)\n",
    "df = df.append(loonOpZandRow01012021, ignore_index=True)\n",
    "\n",
    "df = df.append(bestRow01072021, ignore_index=True)\n",
    "df = df.append(sHertogenboschRow01072021, ignore_index=True)\n",
    "df = df.append(loonOpZandRow01072021, ignore_index=True)\n",
    "\n",
    "df = df.append(bestRow01012022, ignore_index=True)\n",
    "df = df.append(sHertogenboschRow01012022, ignore_index=True)\n",
    "df = df.append(loonOpZandRow01012022, ignore_index=True)\n"
   ]
  },
  {
   "cell_type": "code",
   "execution_count": 51,
   "metadata": {
    "cell_id": "d0e92fb819af4e7085f2b84a616ed140",
    "deepnote_app_coordinates": {
     "h": 5,
     "w": 12,
     "x": 0,
     "y": 0
    },
    "deepnote_cell_height": 919.53125,
    "deepnote_cell_type": "code",
    "deepnote_output_heights": [
     606.546875
    ],
    "deepnote_to_be_reexecuted": false,
    "execution_millis": 45,
    "execution_start": 1652896626692,
    "source_hash": "d7ef9226",
    "tags": []
   },
   "outputs": [
    {
     "data": {
      "text/html": [
       "\n",
       "<div id=\"altair-viz-c31a9397c77140fca9655c1409656899\"></div>\n",
       "<script type=\"text/javascript\">\n",
       "  var VEGA_DEBUG = (typeof VEGA_DEBUG == \"undefined\") ? {} : VEGA_DEBUG;\n",
       "  (function(spec, embedOpt){\n",
       "    let outputDiv = document.currentScript.previousElementSibling;\n",
       "    if (outputDiv.id !== \"altair-viz-c31a9397c77140fca9655c1409656899\") {\n",
       "      outputDiv = document.getElementById(\"altair-viz-c31a9397c77140fca9655c1409656899\");\n",
       "    }\n",
       "    const paths = {\n",
       "      \"vega\": \"https://cdn.jsdelivr.net/npm//vega@5?noext\",\n",
       "      \"vega-lib\": \"https://cdn.jsdelivr.net/npm//vega-lib?noext\",\n",
       "      \"vega-lite\": \"https://cdn.jsdelivr.net/npm//vega-lite@4.17.0?noext\",\n",
       "      \"vega-embed\": \"https://cdn.jsdelivr.net/npm//vega-embed@6?noext\",\n",
       "    };\n",
       "\n",
       "    function maybeLoadScript(lib, version) {\n",
       "      var key = `${lib.replace(\"-\", \"\")}_version`;\n",
       "      return (VEGA_DEBUG[key] == version) ?\n",
       "        Promise.resolve(paths[lib]) :\n",
       "        new Promise(function(resolve, reject) {\n",
       "          var s = document.createElement('script');\n",
       "          document.getElementsByTagName(\"head\")[0].appendChild(s);\n",
       "          s.async = true;\n",
       "          s.onload = () => {\n",
       "            VEGA_DEBUG[key] = version;\n",
       "            return resolve(paths[lib]);\n",
       "          };\n",
       "          s.onerror = () => reject(`Error loading script: ${paths[lib]}`);\n",
       "          s.src = paths[lib];\n",
       "        });\n",
       "    }\n",
       "\n",
       "    function showError(err) {\n",
       "      outputDiv.innerHTML = `<div class=\"error\" style=\"color:red;\">${err}</div>`;\n",
       "      throw err;\n",
       "    }\n",
       "\n",
       "    function displayChart(vegaEmbed) {\n",
       "      vegaEmbed(outputDiv, spec, embedOpt)\n",
       "        .catch(err => showError(`Javascript Error: ${err.message}<br>This usually means there's a typo in your chart specification. See the javascript console for the full traceback.`));\n",
       "    }\n",
       "\n",
       "    if(typeof define === \"function\" && define.amd) {\n",
       "      requirejs.config({paths});\n",
       "      require([\"vega-embed\"], displayChart, err => showError(`Error loading script: ${err.message}`));\n",
       "    } else {\n",
       "      maybeLoadScript(\"vega\", \"5\")\n",
       "        .then(() => maybeLoadScript(\"vega-lite\", \"4.17.0\"))\n",
       "        .then(() => maybeLoadScript(\"vega-embed\", \"6\"))\n",
       "        .catch(showError)\n",
       "        .then(() => displayChart(vegaEmbed));\n",
       "    }\n",
       "  })({\"config\": {\"view\": {\"continuousWidth\": 400, \"continuousHeight\": 300}}, \"repeat\": {\"column\": [\"Perioden\"], \"row\": [\"AantalInstallaties_1\", \"OpgesteldVermogenVanZonnepanelen_2\"]}, \"spec\": {\"data\": {\"name\": \"data-7fd05383e2235aa058a2211e4963ca8c\"}, \"mark\": \"point\", \"encoding\": {\"color\": {\"field\": \"RegioS\", \"type\": \"nominal\"}, \"x\": {\"field\": {\"repeat\": \"column\"}, \"title\": \"Year\", \"type\": \"ordinal\"}, \"y\": {\"field\": {\"repeat\": \"row\"}, \"type\": \"quantitative\"}}, \"height\": 190, \"width\": 375}, \"$schema\": \"https://vega.github.io/schema/vega-lite/v4.17.0.json\", \"datasets\": {\"data-7fd05383e2235aa058a2211e4963ca8c\": [{\"ID\": 3672, \"BedrijfstakkenWoningen\": \"Woningen\", \"RegioS\": \"Arnhem\", \"Perioden\": \"2012\", \"AantalInstallaties_1\": 336.0, \"OpgesteldVermogenVanZonnepanelen_2\": 694.0}, {\"ID\": 3673, \"BedrijfstakkenWoningen\": \"Woningen\", \"RegioS\": \"Arnhem\", \"Perioden\": \"2013\", \"AantalInstallaties_1\": 778.0, \"OpgesteldVermogenVanZonnepanelen_2\": 2005.0}, {\"ID\": 3674, \"BedrijfstakkenWoningen\": \"Woningen\", \"RegioS\": \"Arnhem\", \"Perioden\": \"2014\", \"AantalInstallaties_1\": 1135.0, \"OpgesteldVermogenVanZonnepanelen_2\": 3124.0}, {\"ID\": 3675, \"BedrijfstakkenWoningen\": \"Woningen\", \"RegioS\": \"Arnhem\", \"Perioden\": \"2015\", \"AantalInstallaties_1\": 1772.0, \"OpgesteldVermogenVanZonnepanelen_2\": 4619.0}, {\"ID\": 3676, \"BedrijfstakkenWoningen\": \"Woningen\", \"RegioS\": \"Arnhem\", \"Perioden\": \"2016\", \"AantalInstallaties_1\": 2530.0, \"OpgesteldVermogenVanZonnepanelen_2\": 7197.0}, {\"ID\": 3677, \"BedrijfstakkenWoningen\": \"Woningen\", \"RegioS\": \"Arnhem\", \"Perioden\": \"2017\", \"AantalInstallaties_1\": 3182.0, \"OpgesteldVermogenVanZonnepanelen_2\": 9199.0}, {\"ID\": 3678, \"BedrijfstakkenWoningen\": \"Woningen\", \"RegioS\": \"Arnhem\", \"Perioden\": \"2018\", \"AantalInstallaties_1\": 4952.0, \"OpgesteldVermogenVanZonnepanelen_2\": 14754.0}, {\"ID\": 3679, \"BedrijfstakkenWoningen\": \"Woningen\", \"RegioS\": \"Arnhem\", \"Perioden\": \"2019\", \"AantalInstallaties_1\": 6384.0, \"OpgesteldVermogenVanZonnepanelen_2\": 20182.0}, {\"ID\": 3816, \"BedrijfstakkenWoningen\": \"Woningen\", \"RegioS\": \"Best\", \"Perioden\": \"2012\", \"AantalInstallaties_1\": 81.0, \"OpgesteldVermogenVanZonnepanelen_2\": 253.0}, {\"ID\": 3817, \"BedrijfstakkenWoningen\": \"Woningen\", \"RegioS\": \"Best\", \"Perioden\": \"2013\", \"AantalInstallaties_1\": 290.0, \"OpgesteldVermogenVanZonnepanelen_2\": 1054.0}, {\"ID\": 3818, \"BedrijfstakkenWoningen\": \"Woningen\", \"RegioS\": \"Best\", \"Perioden\": \"2014\", \"AantalInstallaties_1\": 462.0, \"OpgesteldVermogenVanZonnepanelen_2\": 1630.0}, {\"ID\": 3819, \"BedrijfstakkenWoningen\": \"Woningen\", \"RegioS\": \"Best\", \"Perioden\": \"2015\", \"AantalInstallaties_1\": 597.0, \"OpgesteldVermogenVanZonnepanelen_2\": 2224.0}, {\"ID\": 3820, \"BedrijfstakkenWoningen\": \"Woningen\", \"RegioS\": \"Best\", \"Perioden\": \"2016\", \"AantalInstallaties_1\": 738.0, \"OpgesteldVermogenVanZonnepanelen_2\": 2727.0}, {\"ID\": 3821, \"BedrijfstakkenWoningen\": \"Woningen\", \"RegioS\": \"Best\", \"Perioden\": \"2017\", \"AantalInstallaties_1\": 1023.0, \"OpgesteldVermogenVanZonnepanelen_2\": 3813.0}, {\"ID\": 3822, \"BedrijfstakkenWoningen\": \"Woningen\", \"RegioS\": \"Best\", \"Perioden\": \"2018\", \"AantalInstallaties_1\": 1549.0, \"OpgesteldVermogenVanZonnepanelen_2\": 5660.0}, {\"ID\": 3823, \"BedrijfstakkenWoningen\": \"Woningen\", \"RegioS\": \"Best\", \"Perioden\": \"2019\", \"AantalInstallaties_1\": 2444.0, \"OpgesteldVermogenVanZonnepanelen_2\": 9138.0}, {\"ID\": 4608, \"BedrijfstakkenWoningen\": \"Woningen\", \"RegioS\": \"'s-Hertogenbosch\", \"Perioden\": \"2012\", \"AantalInstallaties_1\": 371.0, \"OpgesteldVermogenVanZonnepanelen_2\": 985.0}, {\"ID\": 4609, \"BedrijfstakkenWoningen\": \"Woningen\", \"RegioS\": \"'s-Hertogenbosch\", \"Perioden\": \"2013\", \"AantalInstallaties_1\": 901.0, \"OpgesteldVermogenVanZonnepanelen_2\": 2859.0}, {\"ID\": 4610, \"BedrijfstakkenWoningen\": \"Woningen\", \"RegioS\": \"'s-Hertogenbosch\", \"Perioden\": \"2014\", \"AantalInstallaties_1\": 1270.0, \"OpgesteldVermogenVanZonnepanelen_2\": 4269.0}, {\"ID\": 4611, \"BedrijfstakkenWoningen\": \"Woningen\", \"RegioS\": \"'s-Hertogenbosch\", \"Perioden\": \"2015\", \"AantalInstallaties_1\": 1687.0, \"OpgesteldVermogenVanZonnepanelen_2\": 5748.0}, {\"ID\": 4612, \"BedrijfstakkenWoningen\": \"Woningen\", \"RegioS\": \"'s-Hertogenbosch\", \"Perioden\": \"2016\", \"AantalInstallaties_1\": 2170.0, \"OpgesteldVermogenVanZonnepanelen_2\": 7464.0}, {\"ID\": 4613, \"BedrijfstakkenWoningen\": \"Woningen\", \"RegioS\": \"'s-Hertogenbosch\", \"Perioden\": \"2017\", \"AantalInstallaties_1\": 2910.0, \"OpgesteldVermogenVanZonnepanelen_2\": 9936.0}, {\"ID\": 4614, \"BedrijfstakkenWoningen\": \"Woningen\", \"RegioS\": \"'s-Hertogenbosch\", \"Perioden\": \"2018\", \"AantalInstallaties_1\": 4103.0, \"OpgesteldVermogenVanZonnepanelen_2\": 14162.0}, {\"ID\": 4615, \"BedrijfstakkenWoningen\": \"Woningen\", \"RegioS\": \"'s-Hertogenbosch\", \"Perioden\": \"2019\", \"AantalInstallaties_1\": 6245.0, \"OpgesteldVermogenVanZonnepanelen_2\": 22106.0}, {\"ID\": 4944, \"BedrijfstakkenWoningen\": \"Woningen\", \"RegioS\": \"Loon op Zand\", \"Perioden\": \"2012\", \"AantalInstallaties_1\": 62.0, \"OpgesteldVermogenVanZonnepanelen_2\": 196.0}, {\"ID\": 4945, \"BedrijfstakkenWoningen\": \"Woningen\", \"RegioS\": \"Loon op Zand\", \"Perioden\": \"2013\", \"AantalInstallaties_1\": 138.0, \"OpgesteldVermogenVanZonnepanelen_2\": 491.0}, {\"ID\": 4946, \"BedrijfstakkenWoningen\": \"Woningen\", \"RegioS\": \"Loon op Zand\", \"Perioden\": \"2014\", \"AantalInstallaties_1\": 209.0, \"OpgesteldVermogenVanZonnepanelen_2\": 772.0}, {\"ID\": 4947, \"BedrijfstakkenWoningen\": \"Woningen\", \"RegioS\": \"Loon op Zand\", \"Perioden\": \"2015\", \"AantalInstallaties_1\": 274.0, \"OpgesteldVermogenVanZonnepanelen_2\": 1062.0}, {\"ID\": 4948, \"BedrijfstakkenWoningen\": \"Woningen\", \"RegioS\": \"Loon op Zand\", \"Perioden\": \"2016\", \"AantalInstallaties_1\": 379.0, \"OpgesteldVermogenVanZonnepanelen_2\": 1424.0}, {\"ID\": 4949, \"BedrijfstakkenWoningen\": \"Woningen\", \"RegioS\": \"Loon op Zand\", \"Perioden\": \"2017\", \"AantalInstallaties_1\": 527.0, \"OpgesteldVermogenVanZonnepanelen_2\": 1878.0}, {\"ID\": 4950, \"BedrijfstakkenWoningen\": \"Woningen\", \"RegioS\": \"Loon op Zand\", \"Perioden\": \"2018\", \"AantalInstallaties_1\": 761.0, \"OpgesteldVermogenVanZonnepanelen_2\": 2669.0}, {\"ID\": 4951, \"BedrijfstakkenWoningen\": \"Woningen\", \"RegioS\": \"Loon op Zand\", \"Perioden\": \"2019\", \"AantalInstallaties_1\": 1042.0, \"OpgesteldVermogenVanZonnepanelen_2\": 3914.0}, {\"ID\": 67890, \"BedrijfstakkenWoningen\": \"Woningen\", \"RegioS\": \"Best (Enexis 2020-1)\", \"Perioden\": \"Enexis 2020-1\", \"AantalInstallaties_1\": 2478.0, \"OpgesteldVermogenVanZonnepanelen_2\": 10147.0}, {\"ID\": 67891, \"BedrijfstakkenWoningen\": \"Woningen\", \"RegioS\": \"'s-Hertogenbosch (Enexis 2020-1)\", \"Perioden\": \"Enexis 2020-1\", \"AantalInstallaties_1\": 6332.0, \"OpgesteldVermogenVanZonnepanelen_2\": 25406.0}, {\"ID\": 67892, \"BedrijfstakkenWoningen\": \"Woningen\", \"RegioS\": \"Loon op Zand (Enexis 2020-1)\", \"Perioden\": \"Enexis 2020-1\", \"AantalInstallaties_1\": 1145.0, \"OpgesteldVermogenVanZonnepanelen_2\": 5156.0}, {\"ID\": 67893, \"BedrijfstakkenWoningen\": \"Woningen\", \"RegioS\": \"Best (Enexis 2020-7)\", \"Perioden\": \"Enexis 2020-7\", \"AantalInstallaties_1\": 2831.0, \"OpgesteldVermogenVanZonnepanelen_2\": 11972.0}, {\"ID\": 67894, \"BedrijfstakkenWoningen\": \"Woningen\", \"RegioS\": \"'s-Hertogenbosch (Enexis 2020-7)\", \"Perioden\": \"Enexis 2020-7\", \"AantalInstallaties_1\": 7784.0, \"OpgesteldVermogenVanZonnepanelen_2\": 31834.0}, {\"ID\": 67895, \"BedrijfstakkenWoningen\": \"Woningen\", \"RegioS\": \"Loon op Zand (Enexis 2020-7)\", \"Perioden\": \"Enexis 2020-7\", \"AantalInstallaties_1\": 1367.0, \"OpgesteldVermogenVanZonnepanelen_2\": 6077.0}, {\"ID\": 67896, \"BedrijfstakkenWoningen\": \"Woningen\", \"RegioS\": \"Best (Enexis 2021-1)\", \"Perioden\": \"Enexis 2021-1\", \"AantalInstallaties_1\": 3292.0, \"OpgesteldVermogenVanZonnepanelen_2\": 13657.0}, {\"ID\": 67897, \"BedrijfstakkenWoningen\": \"Woningen\", \"RegioS\": \"'s-Hertogenbosch (Enexis 2021-1)\", \"Perioden\": \"Enexis 2021-1\", \"AantalInstallaties_1\": 9326.0, \"OpgesteldVermogenVanZonnepanelen_2\": 37442.0}, {\"ID\": 67898, \"BedrijfstakkenWoningen\": \"Woningen\", \"RegioS\": \"Loon op Zand (Enexis 2021-1)\", \"Perioden\": \"Enexis 2021-1\", \"AantalInstallaties_1\": 1635.0, \"OpgesteldVermogenVanZonnepanelen_2\": 7240.0}, {\"ID\": 67899, \"BedrijfstakkenWoningen\": \"Woningen\", \"RegioS\": \"Best (Enexis 2021-7)\", \"Perioden\": \"Enexis 2021-7\", \"AantalInstallaties_1\": 3718.0, \"OpgesteldVermogenVanZonnepanelen_2\": 15791.0}, {\"ID\": 67900, \"BedrijfstakkenWoningen\": \"Woningen\", \"RegioS\": \"'s-Hertogenbosch (Enexis 2021-7)\", \"Perioden\": \"Enexis 2021-7\", \"AantalInstallaties_1\": 11217.0, \"OpgesteldVermogenVanZonnepanelen_2\": 44117.0}, {\"ID\": 67901, \"BedrijfstakkenWoningen\": \"Woningen\", \"RegioS\": \"Loon op Zand (Enexis 2021-7)\", \"Perioden\": \"Enexis 2021-7\", \"AantalInstallaties_1\": 1934.0, \"OpgesteldVermogenVanZonnepanelen_2\": 8498.0}, {\"ID\": 67902, \"BedrijfstakkenWoningen\": \"Woningen\", \"RegioS\": \"Best (Enexis 2022-1)\", \"Perioden\": \"Enexis 2022-1\", \"AantalInstallaties_1\": 4212.0, \"OpgesteldVermogenVanZonnepanelen_2\": 18880.0}, {\"ID\": 67903, \"BedrijfstakkenWoningen\": \"Woningen\", \"RegioS\": \"'s-Hertogenbosch (Enexis 2022-1)\", \"Perioden\": \"Enexis 2022-1\", \"AantalInstallaties_1\": 13348.0, \"OpgesteldVermogenVanZonnepanelen_2\": 54323.0}, {\"ID\": 67904, \"BedrijfstakkenWoningen\": \"Woningen\", \"RegioS\": \"Loon op Zand (Enexis 2022-1)\", \"Perioden\": \"Enexis 2022-1\", \"AantalInstallaties_1\": 2281.0, \"OpgesteldVermogenVanZonnepanelen_2\": 11272.0}]}}, {\"mode\": \"vega-lite\"});\n",
       "</script>"
      ],
      "text/plain": [
       "alt.RepeatChart(...)"
      ]
     },
     "execution_count": 51,
     "metadata": {},
     "output_type": "execute_result"
    }
   ],
   "source": [
    "combinedDataChart = alt.Chart(df).mark_point().encode(\n",
    "    alt.X(alt.repeat(\"column\"), type='ordinal', title='Year'),\n",
    "    alt.Y(alt.repeat(\"row\"), type='quantitative'),\n",
    "    color='RegioS:N'\n",
    ").properties(\n",
    "    width=375,\n",
    "    height=190\n",
    ").repeat(\n",
    "    column=['Perioden'],\n",
    "    row=['AantalInstallaties_1', 'OpgesteldVermogenVanZonnepanelen_2'],\n",
    "    \n",
    ")\n",
    "combinedDataChart"
   ]
  },
  {
   "cell_type": "markdown",
   "metadata": {
    "cell_id": "a6081b9215614540a96011be8f00a6c8",
    "deepnote_app_coordinates": {
     "h": 3,
     "w": 12,
     "x": 0,
     "y": 108
    },
    "deepnote_cell_type": "text-cell-h2",
    "is_collapsed": false,
    "tags": []
   },
   "source": [
    "## Observations:"
   ]
  },
  {
   "cell_type": "markdown",
   "metadata": {
    "cell_id": "b2b16c9fed424e2f8c1fe92ad593fab0",
    "deepnote_app_coordinates": {
     "h": 2,
     "w": 8,
     "x": 0,
     "y": 131
    },
    "deepnote_cell_type": "text-cell-p",
    "is_collapsed": false,
    "tags": []
   },
   "source": [
    "Comparing municipalities shows the same general form of the data, depending mainly on the size of the municipality."
   ]
  },
  {
   "cell_type": "markdown",
   "metadata": {
    "cell_id": "7c3d7bc55fed49d88ab4827e8687f392",
    "deepnote_app_coordinates": {
     "h": 2,
     "w": 8,
     "x": 0,
     "y": 128
    },
    "deepnote_cell_type": "text-cell-p",
    "is_collapsed": false,
    "tags": []
   },
   "source": [
    "The CBS zonnestroom data 2019 accounts for the data of all of 2019, up to 31-12-2019. The Enexis data is of 1-1-2020, so these values (even though they are spaced 'a year' apart, are about the same information. In the graphs there is no value for Arnhem on 1-1-2020, that is because it is not in the Enexis service area."
   ]
  },
  {
   "cell_type": "markdown",
   "metadata": {
    "cell_id": "49d7b1413dd34a5eb335750cd554299b",
    "deepnote_app_coordinates": {
     "h": 2,
     "w": 8,
     "x": 0,
     "y": 125
    },
    "deepnote_cell_type": "text-cell-p",
    "is_collapsed": false,
    "owner_user_id": "3a407f58-94ec-4c0a-b0a5-c938869484b1",
    "tags": []
   },
   "source": [
    "For the municipalities observed, we see close alignment between the CBS zonnestroom and Enexis data for the number of installations. For the installed power we see that the Enexis values are slightly higher."
   ]
  },
  {
   "cell_type": "markdown",
   "metadata": {
    "created_in_deepnote_cell": true,
    "deepnote_cell_type": "markdown",
    "tags": []
   },
   "source": [
    "<a style='text-decoration:none;line-height:16px;display:flex;color:#5B5B62;padding:10px;justify-content:end;' href='https://deepnote.com?utm_source=created-in-deepnote-cell&projectId=d0604020-40e6-4d7d-a2ba-74ef2b385723' target=\"_blank\">\n",
    "<img alt='Created in deepnote.com' style='display:inline;max-height:16px;margin:0px;margin-right:7.5px;' src='data:image/svg+xml;base64,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' > </img>\n",
    "Created in <span style='font-weight:600;margin-left:4px;'>Deepnote</span></a>"
   ]
  }
 ],
 "metadata": {
  "deepnote": {},
  "deepnote_app_layout": "article",
  "deepnote_execution_queue": [],
  "deepnote_notebook_id": "1390749e-c47b-42ca-940b-336d0fe94e64",
  "interpreter": {
   "hash": "4b5eed231ec0c115323e225ce5385d6626cfb048417038261eb3d8b8d0f3984b"
  },
  "kernelspec": {
   "display_name": "Python 3.9.7 ('base')",
   "language": "python",
   "name": "python3"
  },
  "language_info": {
   "codemirror_mode": {
    "name": "ipython",
    "version": 3
   },
   "file_extension": ".py",
   "mimetype": "text/x-python",
   "name": "python",
   "nbconvert_exporter": "python",
   "pygments_lexer": "ipython3",
   "version": "3.9.7"
  },
  "orig_nbformat": 4
 },
 "nbformat": 4,
 "nbformat_minor": 2
}
