{
 "cells": [
  {
   "cell_type": "markdown",
   "metadata": {
    "cell_id": "123acf56-c2bd-4c7e-aa0e-c1a72fe8213a",
    "deepnote_app_coordinates": {
     "h": 6,
     "w": 12,
     "x": 0,
     "y": 0
    },
    "deepnote_cell_height": 221.96875,
    "deepnote_cell_type": "markdown"
   },
   "source": [
    "### Data understanding: installed pV CBS versus Enexis data\n",
    "What does the data look like? \n",
    "We take a look at the installed pV in time. What are the differences and what are the similarities between a set of selected municipalities (Den Bosch, Arnhem, Best and Loon op Zand). And how does the CBS data on installed pV compare to the data from the Enexis files that we use? This notebook helps us understand."
   ]
  },
  {
   "cell_type": "code",
   "execution_count": 1,
   "metadata": {
    "cell_id": "00002-b036a20f-e683-4d29-99ce-5904adcef5c8",
    "deepnote_cell_height": 791,
    "deepnote_cell_type": "code",
    "deepnote_to_be_reexecuted": false,
    "execution_millis": 36347,
    "execution_start": 1652893360543,
    "source_hash": "f11e9a3d"
   },
   "outputs": [
    {
     "name": "stdout",
     "output_type": "stream",
     "text": [
      "Requirement already satisfied: pip in /root/venv/lib/python3.9/site-packages (21.2.3)\n",
      "Collecting pip\n",
      "  Downloading pip-22.1-py3-none-any.whl (2.1 MB)\n",
      "\u001b[K     |████████████████████████████████| 2.1 MB 16.2 MB/s \n",
      "\u001b[?25hInstalling collected packages: pip\n",
      "  Attempting uninstall: pip\n",
      "    Found existing installation: pip 21.2.3\n",
      "    Uninstalling pip-21.2.3:\n",
      "      Successfully uninstalled pip-21.2.3\n",
      "Successfully installed pip-22.1\n",
      "Requirement already satisfied: altair in /shared-libs/python3.9/py/lib/python3.9/site-packages (4.1.0)\n",
      "Collecting altair\n",
      "  Downloading altair-4.2.0-py3-none-any.whl (812 kB)\n",
      "\u001b[2K     \u001b[90m━━━━━━━━━━━━━━━━━━━━━━━━━━━━━━━━━━━━━━\u001b[0m \u001b[32m812.8/812.8 kB\u001b[0m \u001b[31m19.2 MB/s\u001b[0m eta \u001b[36m0:00:00\u001b[0m\n",
      "\u001b[?25hRequirement already satisfied: toolz in /shared-libs/python3.9/py/lib/python3.9/site-packages (from altair) (0.11.2)\n",
      "Requirement already satisfied: entrypoints in /shared-libs/python3.9/py-core/lib/python3.9/site-packages (from altair) (0.4)\n",
      "Requirement already satisfied: numpy in /shared-libs/python3.9/py/lib/python3.9/site-packages (from altair) (1.22.3)\n",
      "Requirement already satisfied: jsonschema>=3.0 in /shared-libs/python3.9/py-core/lib/python3.9/site-packages (from altair) (3.2.0)\n",
      "Requirement already satisfied: jinja2 in /shared-libs/python3.9/py-core/lib/python3.9/site-packages (from altair) (2.11.3)\n",
      "Requirement already satisfied: pandas>=0.18 in /shared-libs/python3.9/py/lib/python3.9/site-packages (from altair) (1.2.5)\n",
      "Requirement already satisfied: six>=1.11.0 in /shared-libs/python3.9/py-core/lib/python3.9/site-packages (from jsonschema>=3.0->altair) (1.16.0)\n",
      "Requirement already satisfied: pyrsistent>=0.14.0 in /shared-libs/python3.9/py-core/lib/python3.9/site-packages (from jsonschema>=3.0->altair) (0.18.1)\n",
      "Requirement already satisfied: attrs>=17.4.0 in /shared-libs/python3.9/py-core/lib/python3.9/site-packages (from jsonschema>=3.0->altair) (21.4.0)\n",
      "Requirement already satisfied: setuptools in /root/venv/lib/python3.9/site-packages (from jsonschema>=3.0->altair) (57.4.0)\n",
      "Requirement already satisfied: python-dateutil>=2.7.3 in /shared-libs/python3.9/py-core/lib/python3.9/site-packages (from pandas>=0.18->altair) (2.8.2)\n",
      "Requirement already satisfied: pytz>=2017.3 in /shared-libs/python3.9/py/lib/python3.9/site-packages (from pandas>=0.18->altair) (2022.1)\n",
      "Requirement already satisfied: MarkupSafe>=0.23 in /shared-libs/python3.9/py-core/lib/python3.9/site-packages (from jinja2->altair) (2.0.1)\n",
      "Installing collected packages: altair\n",
      "  Attempting uninstall: altair\n",
      "    Found existing installation: altair 4.1.0\n",
      "    Not uninstalling altair at /shared-libs/python3.9/py/lib/python3.9/site-packages, outside environment /root/venv\n",
      "    Can't uninstall 'altair'. No files were found to uninstall.\n",
      "Successfully installed altair-4.2.0\n",
      "Collecting jupyter\n",
      "  Downloading jupyter-1.0.0-py2.py3-none-any.whl (2.7 kB)\n",
      "Requirement already satisfied: pandas in /shared-libs/python3.9/py/lib/python3.9/site-packages (1.2.5)\n",
      "Collecting vega\n",
      "  Downloading vega-3.6.0-py3-none-any.whl (1.3 MB)\n",
      "\u001b[2K     \u001b[90m━━━━━━━━━━━━━━━━━━━━━━━━━━━━━━━━━━━━━━━━\u001b[0m \u001b[32m1.3/1.3 MB\u001b[0m \u001b[31m25.1 MB/s\u001b[0m eta \u001b[36m0:00:00\u001b[0m\n",
      "\u001b[?25hRequirement already satisfied: nbconvert in /shared-libs/python3.9/py-core/lib/python3.9/site-packages (from jupyter) (6.0.7)\n",
      "Requirement already satisfied: notebook in /shared-libs/python3.9/py-core/lib/python3.9/site-packages (from jupyter) (6.3.0)\n",
      "Collecting ipywidgets\n",
      "  Downloading ipywidgets-7.7.0-py2.py3-none-any.whl (123 kB)\n",
      "\u001b[2K     \u001b[90m━━━━━━━━━━━━━━━━━━━━━━━━━━━━━━━━━━━━━━\u001b[0m \u001b[32m123.4/123.4 kB\u001b[0m \u001b[31m19.7 MB/s\u001b[0m eta \u001b[36m0:00:00\u001b[0m\n",
      "\u001b[?25hCollecting jupyter-console\n",
      "  Downloading jupyter_console-6.4.3-py3-none-any.whl (22 kB)\n",
      "Requirement already satisfied: ipykernel in /shared-libs/python3.9/py-core/lib/python3.9/site-packages (from jupyter) (5.5.5)\n",
      "Collecting qtconsole\n",
      "  Downloading qtconsole-5.3.0-py3-none-any.whl (120 kB)\n",
      "\u001b[2K     \u001b[90m━━━━━━━━━━━━━━━━━━━━━━━━━━━━━━━━━━━━━━\u001b[0m \u001b[32m120.6/120.6 kB\u001b[0m \u001b[31m19.6 MB/s\u001b[0m eta \u001b[36m0:00:00\u001b[0m\n",
      "\u001b[?25hRequirement already satisfied: pytz>=2017.3 in /shared-libs/python3.9/py/lib/python3.9/site-packages (from pandas) (2022.1)\n",
      "Requirement already satisfied: numpy>=1.16.5 in /shared-libs/python3.9/py/lib/python3.9/site-packages (from pandas) (1.22.3)\n",
      "Requirement already satisfied: python-dateutil>=2.7.3 in /shared-libs/python3.9/py-core/lib/python3.9/site-packages (from pandas) (2.8.2)\n",
      "Requirement already satisfied: six>=1.5 in /shared-libs/python3.9/py-core/lib/python3.9/site-packages (from python-dateutil>=2.7.3->pandas) (1.16.0)\n",
      "Requirement already satisfied: ipython>=5.0.0 in /shared-libs/python3.9/py-core/lib/python3.9/site-packages (from ipykernel->jupyter) (7.33.0)\n",
      "Requirement already satisfied: tornado>=4.2 in /shared-libs/python3.9/py-core/lib/python3.9/site-packages (from ipykernel->jupyter) (6.1)\n",
      "Requirement already satisfied: jupyter-client in /shared-libs/python3.9/py-core/lib/python3.9/site-packages (from ipykernel->jupyter) (6.1.12)\n",
      "Requirement already satisfied: traitlets>=4.1.0 in /shared-libs/python3.9/py-core/lib/python3.9/site-packages (from ipykernel->jupyter) (4.3.3)\n",
      "Collecting jupyterlab-widgets>=1.0.0\n",
      "  Downloading jupyterlab_widgets-1.1.0-py3-none-any.whl (245 kB)\n",
      "\u001b[2K     \u001b[90m━━━━━━━━━━━━━━━━━━━━━━━━━━━━━━━━━━━━━━\u001b[0m \u001b[32m245.1/245.1 kB\u001b[0m \u001b[31m21.3 MB/s\u001b[0m eta \u001b[36m0:00:00\u001b[0m\n",
      "\u001b[?25hCollecting widgetsnbextension~=3.6.0\n",
      "  Downloading widgetsnbextension-3.6.0-py2.py3-none-any.whl (1.6 MB)\n",
      "\u001b[2K     \u001b[90m━━━━━━━━━━━━━━━━━━━━━━━━━━━━━━━━━━━━━━━━\u001b[0m \u001b[32m1.6/1.6 MB\u001b[0m \u001b[31m16.0 MB/s\u001b[0m eta \u001b[36m0:00:00\u001b[0m\n",
      "\u001b[?25hRequirement already satisfied: ipython-genutils~=0.2.0 in /shared-libs/python3.9/py-core/lib/python3.9/site-packages (from ipywidgets->jupyter) (0.2.0)\n",
      "Requirement already satisfied: nbformat>=4.2.0 in /shared-libs/python3.9/py-core/lib/python3.9/site-packages (from ipywidgets->jupyter) (5.1.3)\n",
      "Requirement already satisfied: pygments in /shared-libs/python3.9/py-core/lib/python3.9/site-packages (from jupyter-console->jupyter) (2.12.0)\n",
      "Requirement already satisfied: prompt-toolkit!=3.0.0,!=3.0.1,<3.1.0,>=2.0.0 in /shared-libs/python3.9/py-core/lib/python3.9/site-packages (from jupyter-console->jupyter) (3.0.29)\n",
      "Collecting jupyter-client\n",
      "  Downloading jupyter_client-7.3.1-py3-none-any.whl (130 kB)\n",
      "\u001b[2K     \u001b[90m━━━━━━━━━━━━━━━━━━━━━━━━━━━━━━━━━━━━━━\u001b[0m \u001b[32m131.0/131.0 kB\u001b[0m \u001b[31m12.8 MB/s\u001b[0m eta \u001b[36m0:00:00\u001b[0m\n",
      "\u001b[?25hRequirement already satisfied: pandocfilters>=1.4.1 in /shared-libs/python3.9/py-core/lib/python3.9/site-packages (from nbconvert->jupyter) (1.5.0)\n",
      "Requirement already satisfied: bleach in /shared-libs/python3.9/py-core/lib/python3.9/site-packages (from nbconvert->jupyter) (5.0.0)\n",
      "Requirement already satisfied: defusedxml in /shared-libs/python3.9/py-core/lib/python3.9/site-packages (from nbconvert->jupyter) (0.7.1)\n",
      "Requirement already satisfied: jinja2>=2.4 in /shared-libs/python3.9/py-core/lib/python3.9/site-packages (from nbconvert->jupyter) (2.11.3)\n",
      "Requirement already satisfied: jupyter-core in /shared-libs/python3.9/py-core/lib/python3.9/site-packages (from nbconvert->jupyter) (4.7.1)\n",
      "Requirement already satisfied: testpath in /shared-libs/python3.9/py-core/lib/python3.9/site-packages (from nbconvert->jupyter) (0.6.0)\n",
      "Requirement already satisfied: entrypoints>=0.2.2 in /shared-libs/python3.9/py-core/lib/python3.9/site-packages (from nbconvert->jupyter) (0.4)\n",
      "Requirement already satisfied: nbclient<0.6.0,>=0.5.0 in /shared-libs/python3.9/py-core/lib/python3.9/site-packages (from nbconvert->jupyter) (0.5.9)\n",
      "Requirement already satisfied: mistune<2,>=0.8.1 in /shared-libs/python3.9/py-core/lib/python3.9/site-packages (from nbconvert->jupyter) (0.8.4)\n",
      "Requirement already satisfied: jupyterlab-pygments in /shared-libs/python3.9/py-core/lib/python3.9/site-packages (from nbconvert->jupyter) (0.2.2)\n",
      "Requirement already satisfied: prometheus-client in /shared-libs/python3.9/py-core/lib/python3.9/site-packages (from notebook->jupyter) (0.14.1)\n",
      "Requirement already satisfied: pyzmq>=17 in /shared-libs/python3.9/py-core/lib/python3.9/site-packages (from notebook->jupyter) (22.3.0)\n",
      "Requirement already satisfied: Send2Trash>=1.5.0 in /shared-libs/python3.9/py-core/lib/python3.9/site-packages (from notebook->jupyter) (1.8.0)\n",
      "Requirement already satisfied: argon2-cffi in /shared-libs/python3.9/py-core/lib/python3.9/site-packages (from notebook->jupyter) (21.3.0)\n",
      "Collecting notebook\n",
      "  Downloading notebook-6.4.11-py3-none-any.whl (9.9 MB)\n",
      "\u001b[2K     \u001b[90m━━━━━━━━━━━━━━━━━━━━━━━━━━━━━━━━━━━━━━━━\u001b[0m \u001b[32m9.9/9.9 MB\u001b[0m \u001b[31m37.8 MB/s\u001b[0m eta \u001b[36m0:00:00\u001b[0m\n",
      "\u001b[?25hRequirement already satisfied: nest-asyncio>=1.5 in /shared-libs/python3.9/py-core/lib/python3.9/site-packages (from notebook->jupyter) (1.5.5)\n",
      "Requirement already satisfied: terminado>=0.8.3 in /shared-libs/python3.9/py-core/lib/python3.9/site-packages (from notebook->jupyter) (0.13.3)\n",
      "Collecting qtpy>=2.0.1\n",
      "  Downloading QtPy-2.1.0-py3-none-any.whl (68 kB)\n",
      "\u001b[2K     \u001b[90m━━━━━━━━━━━━━━━━━━━━━━━━━━━━━━━━━━━━━━━━\u001b[0m \u001b[32m68.2/68.2 kB\u001b[0m \u001b[31m10.4 MB/s\u001b[0m eta \u001b[36m0:00:00\u001b[0m\n",
      "\u001b[?25hRequirement already satisfied: matplotlib-inline in /shared-libs/python3.9/py-core/lib/python3.9/site-packages (from ipython>=5.0.0->ipykernel->jupyter) (0.1.3)\n",
      "Requirement already satisfied: setuptools>=18.5 in /root/venv/lib/python3.9/site-packages (from ipython>=5.0.0->ipykernel->jupyter) (57.4.0)\n",
      "Requirement already satisfied: pickleshare in /shared-libs/python3.9/py-core/lib/python3.9/site-packages (from ipython>=5.0.0->ipykernel->jupyter) (0.7.5)\n",
      "Requirement already satisfied: jedi>=0.16 in /shared-libs/python3.9/py-core/lib/python3.9/site-packages (from ipython>=5.0.0->ipykernel->jupyter) (0.17.2)\n",
      "Requirement already satisfied: decorator in /shared-libs/python3.9/py-core/lib/python3.9/site-packages (from ipython>=5.0.0->ipykernel->jupyter) (5.1.1)\n",
      "Requirement already satisfied: pexpect>4.3 in /shared-libs/python3.9/py-core/lib/python3.9/site-packages (from ipython>=5.0.0->ipykernel->jupyter) (4.8.0)\n",
      "Requirement already satisfied: backcall in /shared-libs/python3.9/py-core/lib/python3.9/site-packages (from ipython>=5.0.0->ipykernel->jupyter) (0.2.0)\n",
      "Requirement already satisfied: MarkupSafe>=0.23 in /shared-libs/python3.9/py-core/lib/python3.9/site-packages (from jinja2>=2.4->nbconvert->jupyter) (2.0.1)\n",
      "Collecting jupyter-core\n",
      "  Downloading jupyter_core-4.10.0-py3-none-any.whl (87 kB)\n",
      "\u001b[2K     \u001b[90m━━━━━━━━━━━━━━━━━━━━━━━━━━━━━━━━━━━━━━━━\u001b[0m \u001b[32m87.3/87.3 kB\u001b[0m \u001b[31m14.4 MB/s\u001b[0m eta \u001b[36m0:00:00\u001b[0m\n",
      "\u001b[?25hRequirement already satisfied: jsonschema!=2.5.0,>=2.4 in /shared-libs/python3.9/py-core/lib/python3.9/site-packages (from nbformat>=4.2.0->ipywidgets->jupyter) (3.2.0)\n",
      "Requirement already satisfied: wcwidth in /shared-libs/python3.9/py-core/lib/python3.9/site-packages (from prompt-toolkit!=3.0.0,!=3.0.1,<3.1.0,>=2.0.0->jupyter-console->jupyter) (0.2.5)\n",
      "Requirement already satisfied: packaging in /shared-libs/python3.9/py/lib/python3.9/site-packages (from qtpy>=2.0.1->qtconsole->jupyter) (21.3)\n",
      "Requirement already satisfied: ptyprocess in /shared-libs/python3.9/py-core/lib/python3.9/site-packages (from terminado>=0.8.3->notebook->jupyter) (0.7.0)\n",
      "Requirement already satisfied: argon2-cffi-bindings in /shared-libs/python3.9/py-core/lib/python3.9/site-packages (from argon2-cffi->notebook->jupyter) (21.2.0)\n",
      "Requirement already satisfied: webencodings in /shared-libs/python3.9/py-core/lib/python3.9/site-packages (from bleach->nbconvert->jupyter) (0.5.1)\n",
      "Requirement already satisfied: parso<0.8.0,>=0.7.0 in /shared-libs/python3.9/py-core/lib/python3.9/site-packages (from jedi>=0.16->ipython>=5.0.0->ipykernel->jupyter) (0.7.1)\n",
      "Requirement already satisfied: pyrsistent>=0.14.0 in /shared-libs/python3.9/py-core/lib/python3.9/site-packages (from jsonschema!=2.5.0,>=2.4->nbformat>=4.2.0->ipywidgets->jupyter) (0.18.1)\n",
      "Requirement already satisfied: attrs>=17.4.0 in /shared-libs/python3.9/py-core/lib/python3.9/site-packages (from jsonschema!=2.5.0,>=2.4->nbformat>=4.2.0->ipywidgets->jupyter) (21.4.0)\n",
      "Requirement already satisfied: cffi>=1.0.1 in /shared-libs/python3.9/py-core/lib/python3.9/site-packages (from argon2-cffi-bindings->argon2-cffi->notebook->jupyter) (1.15.0)\n",
      "Requirement already satisfied: pyparsing!=3.0.5,>=2.0.2 in /shared-libs/python3.9/py/lib/python3.9/site-packages (from packaging->qtpy>=2.0.1->qtconsole->jupyter) (3.0.8)\n",
      "Requirement already satisfied: pycparser in /shared-libs/python3.9/py-core/lib/python3.9/site-packages (from cffi>=1.0.1->argon2-cffi-bindings->argon2-cffi->notebook->jupyter) (2.21)\n",
      "Installing collected packages: jupyterlab-widgets, qtpy, jupyter-core, jupyter-client, qtconsole, jupyter-console, notebook, widgetsnbextension, ipywidgets, jupyter, vega\n",
      "  Attempting uninstall: jupyter-core\n",
      "    Found existing installation: jupyter-core 4.7.1\n",
      "    Not uninstalling jupyter-core at /shared-libs/python3.9/py-core/lib/python3.9/site-packages, outside environment /root/venv\n",
      "    Can't uninstall 'jupyter-core'. No files were found to uninstall.\n",
      "  Attempting uninstall: jupyter-client\n",
      "    Found existing installation: jupyter-client 6.1.12\n",
      "    Not uninstalling jupyter-client at /shared-libs/python3.9/py-core/lib/python3.9/site-packages, outside environment /root/venv\n",
      "    Can't uninstall 'jupyter-client'. No files were found to uninstall.\n",
      "  Attempting uninstall: notebook\n",
      "    Found existing installation: notebook 6.3.0\n",
      "    Not uninstalling notebook at /shared-libs/python3.9/py-core/lib/python3.9/site-packages, outside environment /root/venv\n",
      "    Can't uninstall 'notebook'. No files were found to uninstall.\n",
      "Successfully installed ipywidgets-7.7.0 jupyter-1.0.0 jupyter-client-7.3.1 jupyter-console-6.4.3 jupyter-core-4.10.0 jupyterlab-widgets-1.1.0 notebook-6.4.11 qtconsole-5.3.0 qtpy-2.1.0 vega-3.6.0 widgetsnbextension-3.6.0\n",
      "Requirement already satisfied: notebook in /shared-libs/python3.9/py-core/lib/python3.9/site-packages (6.3.0)\n",
      "Collecting notebook\n",
      "  Using cached notebook-6.4.11-py3-none-any.whl (9.9 MB)\n",
      "Requirement already satisfied: pyzmq>=17 in /shared-libs/python3.9/py-core/lib/python3.9/site-packages (from notebook) (22.3.0)\n",
      "Requirement already satisfied: Send2Trash>=1.8.0 in /shared-libs/python3.9/py-core/lib/python3.9/site-packages (from notebook) (1.8.0)\n",
      "Requirement already satisfied: jinja2 in /shared-libs/python3.9/py-core/lib/python3.9/site-packages (from notebook) (2.11.3)\n",
      "Requirement already satisfied: terminado>=0.8.3 in /shared-libs/python3.9/py-core/lib/python3.9/site-packages (from notebook) (0.13.3)\n",
      "Requirement already satisfied: jupyter-client>=5.3.4 in /shared-libs/python3.9/py-core/lib/python3.9/site-packages (from notebook) (6.1.12)\n",
      "Requirement already satisfied: traitlets>=4.2.1 in /shared-libs/python3.9/py-core/lib/python3.9/site-packages (from notebook) (4.3.3)\n",
      "Requirement already satisfied: ipython-genutils in /shared-libs/python3.9/py-core/lib/python3.9/site-packages (from notebook) (0.2.0)\n",
      "Requirement already satisfied: prometheus-client in /shared-libs/python3.9/py-core/lib/python3.9/site-packages (from notebook) (0.14.1)\n",
      "Requirement already satisfied: nbconvert>=5 in /shared-libs/python3.9/py-core/lib/python3.9/site-packages (from notebook) (6.0.7)\n",
      "Requirement already satisfied: ipykernel in /shared-libs/python3.9/py-core/lib/python3.9/site-packages (from notebook) (5.5.5)\n",
      "Requirement already satisfied: nbformat in /shared-libs/python3.9/py-core/lib/python3.9/site-packages (from notebook) (5.1.3)\n",
      "Requirement already satisfied: nest-asyncio>=1.5 in /shared-libs/python3.9/py-core/lib/python3.9/site-packages (from notebook) (1.5.5)\n",
      "Requirement already satisfied: argon2-cffi in /shared-libs/python3.9/py-core/lib/python3.9/site-packages (from notebook) (21.3.0)\n",
      "Requirement already satisfied: jupyter-core>=4.6.1 in /shared-libs/python3.9/py-core/lib/python3.9/site-packages (from notebook) (4.7.1)\n",
      "Requirement already satisfied: tornado>=6.1 in /shared-libs/python3.9/py-core/lib/python3.9/site-packages (from notebook) (6.1)\n",
      "Requirement already satisfied: python-dateutil>=2.1 in /shared-libs/python3.9/py-core/lib/python3.9/site-packages (from jupyter-client>=5.3.4->notebook) (2.8.2)\n",
      "Requirement already satisfied: defusedxml in /shared-libs/python3.9/py-core/lib/python3.9/site-packages (from nbconvert>=5->notebook) (0.7.1)\n",
      "Requirement already satisfied: mistune<2,>=0.8.1 in /shared-libs/python3.9/py-core/lib/python3.9/site-packages (from nbconvert>=5->notebook) (0.8.4)\n",
      "Requirement already satisfied: entrypoints>=0.2.2 in /shared-libs/python3.9/py-core/lib/python3.9/site-packages (from nbconvert>=5->notebook) (0.4)\n",
      "Requirement already satisfied: pandocfilters>=1.4.1 in /shared-libs/python3.9/py-core/lib/python3.9/site-packages (from nbconvert>=5->notebook) (1.5.0)\n",
      "Requirement already satisfied: nbclient<0.6.0,>=0.5.0 in /shared-libs/python3.9/py-core/lib/python3.9/site-packages (from nbconvert>=5->notebook) (0.5.9)\n",
      "Requirement already satisfied: jupyterlab-pygments in /shared-libs/python3.9/py-core/lib/python3.9/site-packages (from nbconvert>=5->notebook) (0.2.2)\n",
      "Requirement already satisfied: testpath in /shared-libs/python3.9/py-core/lib/python3.9/site-packages (from nbconvert>=5->notebook) (0.6.0)\n",
      "Requirement already satisfied: pygments>=2.4.1 in /shared-libs/python3.9/py-core/lib/python3.9/site-packages (from nbconvert>=5->notebook) (2.12.0)\n",
      "Requirement already satisfied: bleach in /shared-libs/python3.9/py-core/lib/python3.9/site-packages (from nbconvert>=5->notebook) (5.0.0)\n",
      "Requirement already satisfied: MarkupSafe>=0.23 in /shared-libs/python3.9/py-core/lib/python3.9/site-packages (from jinja2->notebook) (2.0.1)\n",
      "Requirement already satisfied: jsonschema!=2.5.0,>=2.4 in /shared-libs/python3.9/py-core/lib/python3.9/site-packages (from nbformat->notebook) (3.2.0)\n",
      "Requirement already satisfied: ptyprocess in /shared-libs/python3.9/py-core/lib/python3.9/site-packages (from terminado>=0.8.3->notebook) (0.7.0)\n",
      "Requirement already satisfied: decorator in /shared-libs/python3.9/py-core/lib/python3.9/site-packages (from traitlets>=4.2.1->notebook) (5.1.1)\n",
      "Requirement already satisfied: six in /shared-libs/python3.9/py-core/lib/python3.9/site-packages (from traitlets>=4.2.1->notebook) (1.16.0)\n",
      "Requirement already satisfied: argon2-cffi-bindings in /shared-libs/python3.9/py-core/lib/python3.9/site-packages (from argon2-cffi->notebook) (21.2.0)\n",
      "Requirement already satisfied: ipython>=5.0.0 in /shared-libs/python3.9/py-core/lib/python3.9/site-packages (from ipykernel->notebook) (7.33.0)\n",
      "Requirement already satisfied: prompt-toolkit!=3.0.0,!=3.0.1,<3.1.0,>=2.0.0 in /shared-libs/python3.9/py-core/lib/python3.9/site-packages (from ipython>=5.0.0->ipykernel->notebook) (3.0.29)\n",
      "Requirement already satisfied: setuptools>=18.5 in /root/venv/lib/python3.9/site-packages (from ipython>=5.0.0->ipykernel->notebook) (57.4.0)\n",
      "Requirement already satisfied: matplotlib-inline in /shared-libs/python3.9/py-core/lib/python3.9/site-packages (from ipython>=5.0.0->ipykernel->notebook) (0.1.3)\n",
      "Requirement already satisfied: pickleshare in /shared-libs/python3.9/py-core/lib/python3.9/site-packages (from ipython>=5.0.0->ipykernel->notebook) (0.7.5)\n",
      "Requirement already satisfied: backcall in /shared-libs/python3.9/py-core/lib/python3.9/site-packages (from ipython>=5.0.0->ipykernel->notebook) (0.2.0)\n",
      "Requirement already satisfied: pexpect>4.3 in /shared-libs/python3.9/py-core/lib/python3.9/site-packages (from ipython>=5.0.0->ipykernel->notebook) (4.8.0)\n",
      "Requirement already satisfied: jedi>=0.16 in /shared-libs/python3.9/py-core/lib/python3.9/site-packages (from ipython>=5.0.0->ipykernel->notebook) (0.17.2)\n",
      "Requirement already satisfied: pyrsistent>=0.14.0 in /shared-libs/python3.9/py-core/lib/python3.9/site-packages (from jsonschema!=2.5.0,>=2.4->nbformat->notebook) (0.18.1)\n",
      "Requirement already satisfied: attrs>=17.4.0 in /shared-libs/python3.9/py-core/lib/python3.9/site-packages (from jsonschema!=2.5.0,>=2.4->nbformat->notebook) (21.4.0)\n",
      "Requirement already satisfied: cffi>=1.0.1 in /shared-libs/python3.9/py-core/lib/python3.9/site-packages (from argon2-cffi-bindings->argon2-cffi->notebook) (1.15.0)\n",
      "Requirement already satisfied: webencodings in /shared-libs/python3.9/py-core/lib/python3.9/site-packages (from bleach->nbconvert>=5->notebook) (0.5.1)\n",
      "Requirement already satisfied: pycparser in /shared-libs/python3.9/py-core/lib/python3.9/site-packages (from cffi>=1.0.1->argon2-cffi-bindings->argon2-cffi->notebook) (2.21)\n",
      "Requirement already satisfied: parso<0.8.0,>=0.7.0 in /shared-libs/python3.9/py-core/lib/python3.9/site-packages (from jedi>=0.16->ipython>=5.0.0->ipykernel->notebook) (0.7.1)\n",
      "Requirement already satisfied: wcwidth in /shared-libs/python3.9/py-core/lib/python3.9/site-packages (from prompt-toolkit!=3.0.0,!=3.0.1,<3.1.0,>=2.0.0->ipython>=5.0.0->ipykernel->notebook) (0.2.5)\n",
      "Installing collected packages: notebook\n",
      "  Attempting uninstall: notebook\n",
      "    Found existing installation: notebook 6.3.0\n",
      "    Not uninstalling notebook at /shared-libs/python3.9/py-core/lib/python3.9/site-packages, outside environment /root/venv\n",
      "    Can't uninstall 'notebook'. No files were found to uninstall.\n",
      "Successfully installed notebook-6.4.11\n"
     ]
    }
   ],
   "source": [
    "# !pip install cbsodata\n",
    "!pip install --upgrade pip\n",
    "!pip install altair --upgrade\n",
    "\n",
    "!pip install jupyter pandas vega\n",
    "!pip install --upgrade notebook  # need jupyter_client >= 4.2 for sys-prefix below"
   ]
  },
  {
   "cell_type": "code",
   "execution_count": 2,
   "metadata": {
    "cell_id": "00003-14bb1399-af96-4377-b3e8-abb9ef5c6497",
    "deepnote_cell_height": 153,
    "deepnote_cell_type": "code",
    "deepnote_to_be_reexecuted": false,
    "execution_millis": 5096,
    "execution_start": 1652893396905,
    "source_hash": "eef3ff8e"
   },
   "outputs": [],
   "source": [
    "import cbsodata\n",
    "import pandas as pd\n",
    "import seaborn as sns\n",
    "import matplotlib.pyplot as pl\n",
    "import altair as alt"
   ]
  },
  {
   "cell_type": "code",
   "execution_count": 3,
   "metadata": {
    "cell_id": "00004-7bfb58a1-7968-40f8-a298-0e6624c83ec2",
    "deepnote_cell_height": 645.875,
    "deepnote_cell_type": "code",
    "deepnote_table_loading": false,
    "deepnote_table_state": {
     "filters": [],
     "pageIndex": 3,
     "pageSize": 10,
     "sortBy": []
    },
    "deepnote_to_be_reexecuted": false,
    "execution_millis": 10171,
    "execution_start": 1652893402014,
    "source_hash": "d9c1e932"
   },
   "outputs": [
    {
     "data": {
      "application/vnd.deepnote.dataframe.v3+json": {
       "column_count": 6,
       "columns": [
        {
         "dtype": "int64",
         "name": "ID",
         "stats": {
          "histogram": [
           {
            "bin_end": 3672.4,
            "bin_start": 3672,
            "count": 1
           },
           {
            "bin_end": 3672.8,
            "bin_start": 3672.4,
            "count": 0
           },
           {
            "bin_end": 3673.2,
            "bin_start": 3672.8,
            "count": 1
           },
           {
            "bin_end": 3673.6,
            "bin_start": 3673.2,
            "count": 0
           },
           {
            "bin_end": 3674,
            "bin_start": 3673.6,
            "count": 0
           },
           {
            "bin_end": 3674.4,
            "bin_start": 3674,
            "count": 1
           },
           {
            "bin_end": 3674.8,
            "bin_start": 3674.4,
            "count": 0
           },
           {
            "bin_end": 3675.2,
            "bin_start": 3674.8,
            "count": 1
           },
           {
            "bin_end": 3675.6,
            "bin_start": 3675.2,
            "count": 0
           },
           {
            "bin_end": 3676,
            "bin_start": 3675.6,
            "count": 1
           }
          ],
          "max": "3676",
          "min": "3672",
          "nan_count": 0,
          "unique_count": 5
         }
        },
        {
         "dtype": "object",
         "name": "BedrijfstakkenWoningen",
         "stats": {
          "categories": [
           {
            "count": 5,
            "name": "Woningen"
           }
          ],
          "nan_count": 0,
          "unique_count": 1
         }
        },
        {
         "dtype": "object",
         "name": "RegioS",
         "stats": {
          "categories": [
           {
            "count": 5,
            "name": "Arnhem"
           }
          ],
          "nan_count": 0,
          "unique_count": 1
         }
        },
        {
         "dtype": "object",
         "name": "Perioden",
         "stats": {
          "categories": [
           {
            "count": 1,
            "name": "2012"
           },
           {
            "count": 1,
            "name": "2013"
           },
           {
            "count": 3,
            "name": "3 others"
           }
          ],
          "nan_count": 0,
          "unique_count": 5
         }
        },
        {
         "dtype": "float64",
         "name": "AantalInstallaties_1",
         "stats": {
          "histogram": [
           {
            "bin_end": 555.4,
            "bin_start": 336,
            "count": 1
           },
           {
            "bin_end": 774.8,
            "bin_start": 555.4,
            "count": 0
           },
           {
            "bin_end": 994.2,
            "bin_start": 774.8,
            "count": 1
           },
           {
            "bin_end": 1213.6,
            "bin_start": 994.2,
            "count": 1
           },
           {
            "bin_end": 1433,
            "bin_start": 1213.6,
            "count": 0
           },
           {
            "bin_end": 1652.4,
            "bin_start": 1433,
            "count": 0
           },
           {
            "bin_end": 1871.8,
            "bin_start": 1652.4,
            "count": 1
           },
           {
            "bin_end": 2091.2,
            "bin_start": 1871.8,
            "count": 0
           },
           {
            "bin_end": 2310.6000000000004,
            "bin_start": 2091.2,
            "count": 0
           },
           {
            "bin_end": 2530,
            "bin_start": 2310.6000000000004,
            "count": 1
           }
          ],
          "max": "2530.0",
          "min": "336.0",
          "nan_count": 0,
          "unique_count": 5
         }
        },
        {
         "dtype": "float64",
         "name": "OpgesteldVermogenVanZonnepanelen_2",
         "stats": {
          "histogram": [
           {
            "bin_end": 1344.3,
            "bin_start": 694,
            "count": 1
           },
           {
            "bin_end": 1994.6,
            "bin_start": 1344.3,
            "count": 0
           },
           {
            "bin_end": 2644.8999999999996,
            "bin_start": 1994.6,
            "count": 1
           },
           {
            "bin_end": 3295.2,
            "bin_start": 2644.8999999999996,
            "count": 1
           },
           {
            "bin_end": 3945.5,
            "bin_start": 3295.2,
            "count": 0
           },
           {
            "bin_end": 4595.799999999999,
            "bin_start": 3945.5,
            "count": 0
           },
           {
            "bin_end": 5246.099999999999,
            "bin_start": 4595.799999999999,
            "count": 1
           },
           {
            "bin_end": 5896.4,
            "bin_start": 5246.099999999999,
            "count": 0
           },
           {
            "bin_end": 6546.7,
            "bin_start": 5896.4,
            "count": 0
           },
           {
            "bin_end": 7197,
            "bin_start": 6546.7,
            "count": 1
           }
          ],
          "max": "7197.0",
          "min": "694.0",
          "nan_count": 0,
          "unique_count": 5
         }
        },
        {
         "dtype": "int64",
         "name": "_deepnote_index_column"
        }
       ],
       "row_count": 5,
       "rows": [
        {
         "AantalInstallaties_1": 336,
         "BedrijfstakkenWoningen": "Woningen",
         "ID": 3672,
         "OpgesteldVermogenVanZonnepanelen_2": 694,
         "Perioden": "2012",
         "RegioS": "Arnhem",
         "_deepnote_index_column": 3672
        },
        {
         "AantalInstallaties_1": 778,
         "BedrijfstakkenWoningen": "Woningen",
         "ID": 3673,
         "OpgesteldVermogenVanZonnepanelen_2": 2005,
         "Perioden": "2013",
         "RegioS": "Arnhem",
         "_deepnote_index_column": 3673
        },
        {
         "AantalInstallaties_1": 1135,
         "BedrijfstakkenWoningen": "Woningen",
         "ID": 3674,
         "OpgesteldVermogenVanZonnepanelen_2": 3124,
         "Perioden": "2014",
         "RegioS": "Arnhem",
         "_deepnote_index_column": 3674
        },
        {
         "AantalInstallaties_1": 1772,
         "BedrijfstakkenWoningen": "Woningen",
         "ID": 3675,
         "OpgesteldVermogenVanZonnepanelen_2": 4619,
         "Perioden": "2015",
         "RegioS": "Arnhem",
         "_deepnote_index_column": 3675
        },
        {
         "AantalInstallaties_1": 2530,
         "BedrijfstakkenWoningen": "Woningen",
         "ID": 3676,
         "OpgesteldVermogenVanZonnepanelen_2": 7197,
         "Perioden": "2016",
         "RegioS": "Arnhem",
         "_deepnote_index_column": 3676
        }
       ]
      },
      "text/html": [
       "<div>\n",
       "<style scoped>\n",
       "    .dataframe tbody tr th:only-of-type {\n",
       "        vertical-align: middle;\n",
       "    }\n",
       "\n",
       "    .dataframe tbody tr th {\n",
       "        vertical-align: top;\n",
       "    }\n",
       "\n",
       "    .dataframe thead th {\n",
       "        text-align: right;\n",
       "    }\n",
       "</style>\n",
       "<table border=\"1\" class=\"dataframe\">\n",
       "  <thead>\n",
       "    <tr style=\"text-align: right;\">\n",
       "      <th></th>\n",
       "      <th>ID</th>\n",
       "      <th>BedrijfstakkenWoningen</th>\n",
       "      <th>RegioS</th>\n",
       "      <th>Perioden</th>\n",
       "      <th>AantalInstallaties_1</th>\n",
       "      <th>OpgesteldVermogenVanZonnepanelen_2</th>\n",
       "    </tr>\n",
       "  </thead>\n",
       "  <tbody>\n",
       "    <tr>\n",
       "      <th>3672</th>\n",
       "      <td>3672</td>\n",
       "      <td>Woningen</td>\n",
       "      <td>Arnhem</td>\n",
       "      <td>2012</td>\n",
       "      <td>336.0</td>\n",
       "      <td>694.0</td>\n",
       "    </tr>\n",
       "    <tr>\n",
       "      <th>3673</th>\n",
       "      <td>3673</td>\n",
       "      <td>Woningen</td>\n",
       "      <td>Arnhem</td>\n",
       "      <td>2013</td>\n",
       "      <td>778.0</td>\n",
       "      <td>2005.0</td>\n",
       "    </tr>\n",
       "    <tr>\n",
       "      <th>3674</th>\n",
       "      <td>3674</td>\n",
       "      <td>Woningen</td>\n",
       "      <td>Arnhem</td>\n",
       "      <td>2014</td>\n",
       "      <td>1135.0</td>\n",
       "      <td>3124.0</td>\n",
       "    </tr>\n",
       "    <tr>\n",
       "      <th>3675</th>\n",
       "      <td>3675</td>\n",
       "      <td>Woningen</td>\n",
       "      <td>Arnhem</td>\n",
       "      <td>2015</td>\n",
       "      <td>1772.0</td>\n",
       "      <td>4619.0</td>\n",
       "    </tr>\n",
       "    <tr>\n",
       "      <th>3676</th>\n",
       "      <td>3676</td>\n",
       "      <td>Woningen</td>\n",
       "      <td>Arnhem</td>\n",
       "      <td>2016</td>\n",
       "      <td>2530.0</td>\n",
       "      <td>7197.0</td>\n",
       "    </tr>\n",
       "  </tbody>\n",
       "</table>\n",
       "</div>"
      ],
      "text/plain": [
       "        ID BedrijfstakkenWoningen  RegioS Perioden  AantalInstallaties_1  \\\n",
       "3672  3672               Woningen  Arnhem     2012                 336.0   \n",
       "3673  3673               Woningen  Arnhem     2013                 778.0   \n",
       "3674  3674               Woningen  Arnhem     2014                1135.0   \n",
       "3675  3675               Woningen  Arnhem     2015                1772.0   \n",
       "3676  3676               Woningen  Arnhem     2016                2530.0   \n",
       "\n",
       "      OpgesteldVermogenVanZonnepanelen_2  \n",
       "3672                               694.0  \n",
       "3673                              2005.0  \n",
       "3674                              3124.0  \n",
       "3675                              4619.0  \n",
       "3676                              7197.0  "
      ]
     },
     "execution_count": 3,
     "metadata": {},
     "output_type": "execute_result"
    }
   ],
   "source": [
    "#Read in (Zonnestroom; vermogen bedrijven en woningen, regio (indeling 2019)\n",
    "zonnestroom_2019 = '84783NED'\n",
    "df_zonnestroom_2019 = pd.DataFrame(cbsodata.get_data(zonnestroom_2019))\n",
    "df_zonnestroom_2019 = df_zonnestroom_2019[\n",
    "    (\n",
    "(df_zonnestroom_2019['RegioS'] == \"'s-Hertogenbosch\") |\n",
    "(df_zonnestroom_2019['RegioS'] == \"Loon op Zand\") |\n",
    "(df_zonnestroom_2019['RegioS'] == \"Arnhem\") |\n",
    "(df_zonnestroom_2019['RegioS'] == \"Best\")\n",
    "    )\n",
    "    &  (df_zonnestroom_2019['BedrijfstakkenWoningen']=='Woningen')\n",
    "   ]\n",
    "\n",
    "df_zonnestroom_2019.head()"
   ]
  },
  {
   "cell_type": "code",
   "execution_count": 3,
   "metadata": {
    "cell_id": "bd0759383a0f43de86db5fed6c145af4",
    "deepnote_cell_type": "visualization",
    "deepnote_to_be_reexecuted": false,
    "execution_millis": 3,
    "execution_start": 1652893411886,
    "source_hash": "b623e53d"
   },
   "outputs": [],
   "source": []
  },
  {
   "cell_type": "markdown",
   "metadata": {
    "cell_id": "d803325a48254dd589da18ad38c4fc05",
    "deepnote_cell_type": "text-cell-h3",
    "is_collapsed": false,
    "tags": []
   },
   "source": [
    "### Check if we're at version 4.2.0 so we can use the right graphs."
   ]
  },
  {
   "cell_type": "code",
   "execution_count": 4,
   "metadata": {
    "cell_id": "0adec4131b1c424c8b5d9d904a838cb4",
    "deepnote_cell_height": 118.1875,
    "deepnote_cell_type": "code",
    "deepnote_output_heights": [
     21.1875
    ],
    "deepnote_to_be_reexecuted": false,
    "execution_millis": 1,
    "execution_start": 1652893411902,
    "source_hash": "852dbdeb",
    "tags": []
   },
   "outputs": [
    {
     "data": {
      "text/plain": [
       "'4.2.0'"
      ]
     },
     "execution_count": 4,
     "metadata": {},
     "output_type": "execute_result"
    }
   ],
   "source": [
    "alt.__version__"
   ]
  },
  {
   "cell_type": "code",
   "execution_count": 5,
   "metadata": {
    "cell_id": "6afc74da8c83478489dcef00c8c0517f",
    "deepnote_cell_height": 543,
    "deepnote_cell_type": "code",
    "deepnote_output_heights": [
     374
    ],
    "deepnote_to_be_reexecuted": false,
    "execution_millis": 231,
    "execution_start": 1652893411963,
    "source_hash": "c3d170da",
    "tags": []
   },
   "outputs": [
    {
     "data": {
      "text/html": [
       "\n",
       "<div id=\"altair-viz-1da22b050b0b4623bdb64e3f4923033d\"></div>\n",
       "<script type=\"text/javascript\">\n",
       "  var VEGA_DEBUG = (typeof VEGA_DEBUG == \"undefined\") ? {} : VEGA_DEBUG;\n",
       "  (function(spec, embedOpt){\n",
       "    let outputDiv = document.currentScript.previousElementSibling;\n",
       "    if (outputDiv.id !== \"altair-viz-1da22b050b0b4623bdb64e3f4923033d\") {\n",
       "      outputDiv = document.getElementById(\"altair-viz-1da22b050b0b4623bdb64e3f4923033d\");\n",
       "    }\n",
       "    const paths = {\n",
       "      \"vega\": \"https://cdn.jsdelivr.net/npm//vega@5?noext\",\n",
       "      \"vega-lib\": \"https://cdn.jsdelivr.net/npm//vega-lib?noext\",\n",
       "      \"vega-lite\": \"https://cdn.jsdelivr.net/npm//vega-lite@4.17.0?noext\",\n",
       "      \"vega-embed\": \"https://cdn.jsdelivr.net/npm//vega-embed@6?noext\",\n",
       "    };\n",
       "\n",
       "    function maybeLoadScript(lib, version) {\n",
       "      var key = `${lib.replace(\"-\", \"\")}_version`;\n",
       "      return (VEGA_DEBUG[key] == version) ?\n",
       "        Promise.resolve(paths[lib]) :\n",
       "        new Promise(function(resolve, reject) {\n",
       "          var s = document.createElement('script');\n",
       "          document.getElementsByTagName(\"head\")[0].appendChild(s);\n",
       "          s.async = true;\n",
       "          s.onload = () => {\n",
       "            VEGA_DEBUG[key] = version;\n",
       "            return resolve(paths[lib]);\n",
       "          };\n",
       "          s.onerror = () => reject(`Error loading script: ${paths[lib]}`);\n",
       "          s.src = paths[lib];\n",
       "        });\n",
       "    }\n",
       "\n",
       "    function showError(err) {\n",
       "      outputDiv.innerHTML = `<div class=\"error\" style=\"color:red;\">${err}</div>`;\n",
       "      throw err;\n",
       "    }\n",
       "\n",
       "    function displayChart(vegaEmbed) {\n",
       "      vegaEmbed(outputDiv, spec, embedOpt)\n",
       "        .catch(err => showError(`Javascript Error: ${err.message}<br>This usually means there's a typo in your chart specification. See the javascript console for the full traceback.`));\n",
       "    }\n",
       "\n",
       "    if(typeof define === \"function\" && define.amd) {\n",
       "      requirejs.config({paths});\n",
       "      require([\"vega-embed\"], displayChart, err => showError(`Error loading script: ${err.message}`));\n",
       "    } else {\n",
       "      maybeLoadScript(\"vega\", \"5\")\n",
       "        .then(() => maybeLoadScript(\"vega-lite\", \"4.17.0\"))\n",
       "        .then(() => maybeLoadScript(\"vega-embed\", \"6\"))\n",
       "        .catch(showError)\n",
       "        .then(() => displayChart(vegaEmbed));\n",
       "    }\n",
       "  })({\"config\": {\"view\": {\"continuousWidth\": 400, \"continuousHeight\": 300}}, \"repeat\": {\"layer\": [\"AantalInstallaties_1\", \"OpgesteldVermogenVanZonnepanelen_2\"]}, \"spec\": {\"data\": {\"name\": \"data-065d17693aea585c86516ee32c65f4df\"}, \"mark\": \"line\", \"encoding\": {\"color\": {\"datum\": {\"repeat\": \"layer\"}}, \"x\": {\"bin\": false, \"field\": \"Perioden\", \"title\": \"Year\", \"type\": \"nominal\"}, \"y\": {\"aggregate\": \"mean\", \"field\": {\"repeat\": \"layer\"}, \"title\": \"Installed pV - number vs. power\"}}}, \"$schema\": \"https://vega.github.io/schema/vega-lite/v4.17.0.json\", \"datasets\": {\"data-065d17693aea585c86516ee32c65f4df\": [{\"ID\": 3672, \"BedrijfstakkenWoningen\": \"Woningen\", \"RegioS\": \"Arnhem\", \"Perioden\": \"2012\", \"AantalInstallaties_1\": 336.0, \"OpgesteldVermogenVanZonnepanelen_2\": 694.0}, {\"ID\": 3673, \"BedrijfstakkenWoningen\": \"Woningen\", \"RegioS\": \"Arnhem\", \"Perioden\": \"2013\", \"AantalInstallaties_1\": 778.0, \"OpgesteldVermogenVanZonnepanelen_2\": 2005.0}, {\"ID\": 3674, \"BedrijfstakkenWoningen\": \"Woningen\", \"RegioS\": \"Arnhem\", \"Perioden\": \"2014\", \"AantalInstallaties_1\": 1135.0, \"OpgesteldVermogenVanZonnepanelen_2\": 3124.0}, {\"ID\": 3675, \"BedrijfstakkenWoningen\": \"Woningen\", \"RegioS\": \"Arnhem\", \"Perioden\": \"2015\", \"AantalInstallaties_1\": 1772.0, \"OpgesteldVermogenVanZonnepanelen_2\": 4619.0}, {\"ID\": 3676, \"BedrijfstakkenWoningen\": \"Woningen\", \"RegioS\": \"Arnhem\", \"Perioden\": \"2016\", \"AantalInstallaties_1\": 2530.0, \"OpgesteldVermogenVanZonnepanelen_2\": 7197.0}, {\"ID\": 3677, \"BedrijfstakkenWoningen\": \"Woningen\", \"RegioS\": \"Arnhem\", \"Perioden\": \"2017\", \"AantalInstallaties_1\": 3182.0, \"OpgesteldVermogenVanZonnepanelen_2\": 9199.0}, {\"ID\": 3678, \"BedrijfstakkenWoningen\": \"Woningen\", \"RegioS\": \"Arnhem\", \"Perioden\": \"2018\", \"AantalInstallaties_1\": 4952.0, \"OpgesteldVermogenVanZonnepanelen_2\": 14754.0}, {\"ID\": 3679, \"BedrijfstakkenWoningen\": \"Woningen\", \"RegioS\": \"Arnhem\", \"Perioden\": \"2019\", \"AantalInstallaties_1\": 6384.0, \"OpgesteldVermogenVanZonnepanelen_2\": 20182.0}, {\"ID\": 3816, \"BedrijfstakkenWoningen\": \"Woningen\", \"RegioS\": \"Best\", \"Perioden\": \"2012\", \"AantalInstallaties_1\": 81.0, \"OpgesteldVermogenVanZonnepanelen_2\": 253.0}, {\"ID\": 3817, \"BedrijfstakkenWoningen\": \"Woningen\", \"RegioS\": \"Best\", \"Perioden\": \"2013\", \"AantalInstallaties_1\": 290.0, \"OpgesteldVermogenVanZonnepanelen_2\": 1054.0}, {\"ID\": 3818, \"BedrijfstakkenWoningen\": \"Woningen\", \"RegioS\": \"Best\", \"Perioden\": \"2014\", \"AantalInstallaties_1\": 462.0, \"OpgesteldVermogenVanZonnepanelen_2\": 1630.0}, {\"ID\": 3819, \"BedrijfstakkenWoningen\": \"Woningen\", \"RegioS\": \"Best\", \"Perioden\": \"2015\", \"AantalInstallaties_1\": 597.0, \"OpgesteldVermogenVanZonnepanelen_2\": 2224.0}, {\"ID\": 3820, \"BedrijfstakkenWoningen\": \"Woningen\", \"RegioS\": \"Best\", \"Perioden\": \"2016\", \"AantalInstallaties_1\": 738.0, \"OpgesteldVermogenVanZonnepanelen_2\": 2727.0}, {\"ID\": 3821, \"BedrijfstakkenWoningen\": \"Woningen\", \"RegioS\": \"Best\", \"Perioden\": \"2017\", \"AantalInstallaties_1\": 1023.0, \"OpgesteldVermogenVanZonnepanelen_2\": 3813.0}, {\"ID\": 3822, \"BedrijfstakkenWoningen\": \"Woningen\", \"RegioS\": \"Best\", \"Perioden\": \"2018\", \"AantalInstallaties_1\": 1549.0, \"OpgesteldVermogenVanZonnepanelen_2\": 5660.0}, {\"ID\": 3823, \"BedrijfstakkenWoningen\": \"Woningen\", \"RegioS\": \"Best\", \"Perioden\": \"2019\", \"AantalInstallaties_1\": 2444.0, \"OpgesteldVermogenVanZonnepanelen_2\": 9138.0}, {\"ID\": 4608, \"BedrijfstakkenWoningen\": \"Woningen\", \"RegioS\": \"'s-Hertogenbosch\", \"Perioden\": \"2012\", \"AantalInstallaties_1\": 371.0, \"OpgesteldVermogenVanZonnepanelen_2\": 985.0}, {\"ID\": 4609, \"BedrijfstakkenWoningen\": \"Woningen\", \"RegioS\": \"'s-Hertogenbosch\", \"Perioden\": \"2013\", \"AantalInstallaties_1\": 901.0, \"OpgesteldVermogenVanZonnepanelen_2\": 2859.0}, {\"ID\": 4610, \"BedrijfstakkenWoningen\": \"Woningen\", \"RegioS\": \"'s-Hertogenbosch\", \"Perioden\": \"2014\", \"AantalInstallaties_1\": 1270.0, \"OpgesteldVermogenVanZonnepanelen_2\": 4269.0}, {\"ID\": 4611, \"BedrijfstakkenWoningen\": \"Woningen\", \"RegioS\": \"'s-Hertogenbosch\", \"Perioden\": \"2015\", \"AantalInstallaties_1\": 1687.0, \"OpgesteldVermogenVanZonnepanelen_2\": 5748.0}, {\"ID\": 4612, \"BedrijfstakkenWoningen\": \"Woningen\", \"RegioS\": \"'s-Hertogenbosch\", \"Perioden\": \"2016\", \"AantalInstallaties_1\": 2170.0, \"OpgesteldVermogenVanZonnepanelen_2\": 7464.0}, {\"ID\": 4613, \"BedrijfstakkenWoningen\": \"Woningen\", \"RegioS\": \"'s-Hertogenbosch\", \"Perioden\": \"2017\", \"AantalInstallaties_1\": 2910.0, \"OpgesteldVermogenVanZonnepanelen_2\": 9936.0}, {\"ID\": 4614, \"BedrijfstakkenWoningen\": \"Woningen\", \"RegioS\": \"'s-Hertogenbosch\", \"Perioden\": \"2018\", \"AantalInstallaties_1\": 4103.0, \"OpgesteldVermogenVanZonnepanelen_2\": 14162.0}, {\"ID\": 4615, \"BedrijfstakkenWoningen\": \"Woningen\", \"RegioS\": \"'s-Hertogenbosch\", \"Perioden\": \"2019\", \"AantalInstallaties_1\": 6245.0, \"OpgesteldVermogenVanZonnepanelen_2\": 22106.0}, {\"ID\": 4944, \"BedrijfstakkenWoningen\": \"Woningen\", \"RegioS\": \"Loon op Zand\", \"Perioden\": \"2012\", \"AantalInstallaties_1\": 62.0, \"OpgesteldVermogenVanZonnepanelen_2\": 196.0}, {\"ID\": 4945, \"BedrijfstakkenWoningen\": \"Woningen\", \"RegioS\": \"Loon op Zand\", \"Perioden\": \"2013\", \"AantalInstallaties_1\": 138.0, \"OpgesteldVermogenVanZonnepanelen_2\": 491.0}, {\"ID\": 4946, \"BedrijfstakkenWoningen\": \"Woningen\", \"RegioS\": \"Loon op Zand\", \"Perioden\": \"2014\", \"AantalInstallaties_1\": 209.0, \"OpgesteldVermogenVanZonnepanelen_2\": 772.0}, {\"ID\": 4947, \"BedrijfstakkenWoningen\": \"Woningen\", \"RegioS\": \"Loon op Zand\", \"Perioden\": \"2015\", \"AantalInstallaties_1\": 274.0, \"OpgesteldVermogenVanZonnepanelen_2\": 1062.0}, {\"ID\": 4948, \"BedrijfstakkenWoningen\": \"Woningen\", \"RegioS\": \"Loon op Zand\", \"Perioden\": \"2016\", \"AantalInstallaties_1\": 379.0, \"OpgesteldVermogenVanZonnepanelen_2\": 1424.0}, {\"ID\": 4949, \"BedrijfstakkenWoningen\": \"Woningen\", \"RegioS\": \"Loon op Zand\", \"Perioden\": \"2017\", \"AantalInstallaties_1\": 527.0, \"OpgesteldVermogenVanZonnepanelen_2\": 1878.0}, {\"ID\": 4950, \"BedrijfstakkenWoningen\": \"Woningen\", \"RegioS\": \"Loon op Zand\", \"Perioden\": \"2018\", \"AantalInstallaties_1\": 761.0, \"OpgesteldVermogenVanZonnepanelen_2\": 2669.0}, {\"ID\": 4951, \"BedrijfstakkenWoningen\": \"Woningen\", \"RegioS\": \"Loon op Zand\", \"Perioden\": \"2019\", \"AantalInstallaties_1\": 1042.0, \"OpgesteldVermogenVanZonnepanelen_2\": 3914.0}]}}, {\"mode\": \"vega-lite\"});\n",
       "</script>"
      ],
      "text/plain": [
       "alt.RepeatChart(...)"
      ]
     },
     "execution_count": 5,
     "metadata": {},
     "output_type": "execute_result"
    }
   ],
   "source": [
    "alt.Chart(df_zonnestroom_2019).mark_line().encode(\n",
    "    x=alt.X(\"Perioden\", bin=False, title='Year'),\n",
    "    y=alt.Y(alt.repeat('layer'), aggregate='mean', title=\"Installed pV - number vs. power\"),\n",
    "    color=alt.ColorDatum(alt.repeat('layer'))\n",
    ").repeat(layer=[\"AantalInstallaties_1\", \"OpgesteldVermogenVanZonnepanelen_2\"])"
   ]
  },
  {
   "cell_type": "markdown",
   "metadata": {
    "cell_id": "9f513088376944f9afdb17f0727e96dd",
    "deepnote_cell_type": "text-cell-h3",
    "is_collapsed": false,
    "tags": []
   },
   "source": [
    "### Comparing municipalities"
   ]
  },
  {
   "cell_type": "code",
   "execution_count": 42,
   "metadata": {
    "cell_id": "00005-13f4b198-f351-4c40-930a-b7f38208ddd9",
    "deepnote_cell_height": 919.53125,
    "deepnote_cell_type": "code",
    "deepnote_output_heights": [
     606.546875
    ],
    "deepnote_to_be_reexecuted": false,
    "execution_millis": 16,
    "execution_start": 1652896428081,
    "source_hash": "fd023edf"
   },
   "outputs": [
    {
     "data": {
      "text/html": [
       "\n",
       "<div id=\"altair-viz-3c6fe40caca642d4a38b497756c4721b\"></div>\n",
       "<script type=\"text/javascript\">\n",
       "  var VEGA_DEBUG = (typeof VEGA_DEBUG == \"undefined\") ? {} : VEGA_DEBUG;\n",
       "  (function(spec, embedOpt){\n",
       "    let outputDiv = document.currentScript.previousElementSibling;\n",
       "    if (outputDiv.id !== \"altair-viz-3c6fe40caca642d4a38b497756c4721b\") {\n",
       "      outputDiv = document.getElementById(\"altair-viz-3c6fe40caca642d4a38b497756c4721b\");\n",
       "    }\n",
       "    const paths = {\n",
       "      \"vega\": \"https://cdn.jsdelivr.net/npm//vega@5?noext\",\n",
       "      \"vega-lib\": \"https://cdn.jsdelivr.net/npm//vega-lib?noext\",\n",
       "      \"vega-lite\": \"https://cdn.jsdelivr.net/npm//vega-lite@4.17.0?noext\",\n",
       "      \"vega-embed\": \"https://cdn.jsdelivr.net/npm//vega-embed@6?noext\",\n",
       "    };\n",
       "\n",
       "    function maybeLoadScript(lib, version) {\n",
       "      var key = `${lib.replace(\"-\", \"\")}_version`;\n",
       "      return (VEGA_DEBUG[key] == version) ?\n",
       "        Promise.resolve(paths[lib]) :\n",
       "        new Promise(function(resolve, reject) {\n",
       "          var s = document.createElement('script');\n",
       "          document.getElementsByTagName(\"head\")[0].appendChild(s);\n",
       "          s.async = true;\n",
       "          s.onload = () => {\n",
       "            VEGA_DEBUG[key] = version;\n",
       "            return resolve(paths[lib]);\n",
       "          };\n",
       "          s.onerror = () => reject(`Error loading script: ${paths[lib]}`);\n",
       "          s.src = paths[lib];\n",
       "        });\n",
       "    }\n",
       "\n",
       "    function showError(err) {\n",
       "      outputDiv.innerHTML = `<div class=\"error\" style=\"color:red;\">${err}</div>`;\n",
       "      throw err;\n",
       "    }\n",
       "\n",
       "    function displayChart(vegaEmbed) {\n",
       "      vegaEmbed(outputDiv, spec, embedOpt)\n",
       "        .catch(err => showError(`Javascript Error: ${err.message}<br>This usually means there's a typo in your chart specification. See the javascript console for the full traceback.`));\n",
       "    }\n",
       "\n",
       "    if(typeof define === \"function\" && define.amd) {\n",
       "      requirejs.config({paths});\n",
       "      require([\"vega-embed\"], displayChart, err => showError(`Error loading script: ${err.message}`));\n",
       "    } else {\n",
       "      maybeLoadScript(\"vega\", \"5\")\n",
       "        .then(() => maybeLoadScript(\"vega-lite\", \"4.17.0\"))\n",
       "        .then(() => maybeLoadScript(\"vega-embed\", \"6\"))\n",
       "        .catch(showError)\n",
       "        .then(() => displayChart(vegaEmbed));\n",
       "    }\n",
       "  })({\"config\": {\"view\": {\"continuousWidth\": 400, \"continuousHeight\": 300}}, \"repeat\": {\"column\": [\"Perioden\"], \"row\": [\"AantalInstallaties_1\", \"OpgesteldVermogenVanZonnepanelen_2\"]}, \"spec\": {\"data\": {\"name\": \"data-065d17693aea585c86516ee32c65f4df\"}, \"mark\": \"point\", \"encoding\": {\"color\": {\"field\": \"RegioS\", \"type\": \"nominal\"}, \"x\": {\"field\": {\"repeat\": \"column\"}, \"title\": \"Year\", \"type\": \"ordinal\"}, \"y\": {\"field\": {\"repeat\": \"row\"}, \"type\": \"quantitative\"}}, \"height\": 250, \"selection\": {\"selector009\": {\"type\": \"interval\", \"bind\": \"scales\", \"encodings\": [\"x\", \"y\"]}}, \"width\": 375}, \"$schema\": \"https://vega.github.io/schema/vega-lite/v4.17.0.json\", \"datasets\": {\"data-065d17693aea585c86516ee32c65f4df\": [{\"ID\": 3672, \"BedrijfstakkenWoningen\": \"Woningen\", \"RegioS\": \"Arnhem\", \"Perioden\": \"2012\", \"AantalInstallaties_1\": 336.0, \"OpgesteldVermogenVanZonnepanelen_2\": 694.0}, {\"ID\": 3673, \"BedrijfstakkenWoningen\": \"Woningen\", \"RegioS\": \"Arnhem\", \"Perioden\": \"2013\", \"AantalInstallaties_1\": 778.0, \"OpgesteldVermogenVanZonnepanelen_2\": 2005.0}, {\"ID\": 3674, \"BedrijfstakkenWoningen\": \"Woningen\", \"RegioS\": \"Arnhem\", \"Perioden\": \"2014\", \"AantalInstallaties_1\": 1135.0, \"OpgesteldVermogenVanZonnepanelen_2\": 3124.0}, {\"ID\": 3675, \"BedrijfstakkenWoningen\": \"Woningen\", \"RegioS\": \"Arnhem\", \"Perioden\": \"2015\", \"AantalInstallaties_1\": 1772.0, \"OpgesteldVermogenVanZonnepanelen_2\": 4619.0}, {\"ID\": 3676, \"BedrijfstakkenWoningen\": \"Woningen\", \"RegioS\": \"Arnhem\", \"Perioden\": \"2016\", \"AantalInstallaties_1\": 2530.0, \"OpgesteldVermogenVanZonnepanelen_2\": 7197.0}, {\"ID\": 3677, \"BedrijfstakkenWoningen\": \"Woningen\", \"RegioS\": \"Arnhem\", \"Perioden\": \"2017\", \"AantalInstallaties_1\": 3182.0, \"OpgesteldVermogenVanZonnepanelen_2\": 9199.0}, {\"ID\": 3678, \"BedrijfstakkenWoningen\": \"Woningen\", \"RegioS\": \"Arnhem\", \"Perioden\": \"2018\", \"AantalInstallaties_1\": 4952.0, \"OpgesteldVermogenVanZonnepanelen_2\": 14754.0}, {\"ID\": 3679, \"BedrijfstakkenWoningen\": \"Woningen\", \"RegioS\": \"Arnhem\", \"Perioden\": \"2019\", \"AantalInstallaties_1\": 6384.0, \"OpgesteldVermogenVanZonnepanelen_2\": 20182.0}, {\"ID\": 3816, \"BedrijfstakkenWoningen\": \"Woningen\", \"RegioS\": \"Best\", \"Perioden\": \"2012\", \"AantalInstallaties_1\": 81.0, \"OpgesteldVermogenVanZonnepanelen_2\": 253.0}, {\"ID\": 3817, \"BedrijfstakkenWoningen\": \"Woningen\", \"RegioS\": \"Best\", \"Perioden\": \"2013\", \"AantalInstallaties_1\": 290.0, \"OpgesteldVermogenVanZonnepanelen_2\": 1054.0}, {\"ID\": 3818, \"BedrijfstakkenWoningen\": \"Woningen\", \"RegioS\": \"Best\", \"Perioden\": \"2014\", \"AantalInstallaties_1\": 462.0, \"OpgesteldVermogenVanZonnepanelen_2\": 1630.0}, {\"ID\": 3819, \"BedrijfstakkenWoningen\": \"Woningen\", \"RegioS\": \"Best\", \"Perioden\": \"2015\", \"AantalInstallaties_1\": 597.0, \"OpgesteldVermogenVanZonnepanelen_2\": 2224.0}, {\"ID\": 3820, \"BedrijfstakkenWoningen\": \"Woningen\", \"RegioS\": \"Best\", \"Perioden\": \"2016\", \"AantalInstallaties_1\": 738.0, \"OpgesteldVermogenVanZonnepanelen_2\": 2727.0}, {\"ID\": 3821, \"BedrijfstakkenWoningen\": \"Woningen\", \"RegioS\": \"Best\", \"Perioden\": \"2017\", \"AantalInstallaties_1\": 1023.0, \"OpgesteldVermogenVanZonnepanelen_2\": 3813.0}, {\"ID\": 3822, \"BedrijfstakkenWoningen\": \"Woningen\", \"RegioS\": \"Best\", \"Perioden\": \"2018\", \"AantalInstallaties_1\": 1549.0, \"OpgesteldVermogenVanZonnepanelen_2\": 5660.0}, {\"ID\": 3823, \"BedrijfstakkenWoningen\": \"Woningen\", \"RegioS\": \"Best\", \"Perioden\": \"2019\", \"AantalInstallaties_1\": 2444.0, \"OpgesteldVermogenVanZonnepanelen_2\": 9138.0}, {\"ID\": 4608, \"BedrijfstakkenWoningen\": \"Woningen\", \"RegioS\": \"'s-Hertogenbosch\", \"Perioden\": \"2012\", \"AantalInstallaties_1\": 371.0, \"OpgesteldVermogenVanZonnepanelen_2\": 985.0}, {\"ID\": 4609, \"BedrijfstakkenWoningen\": \"Woningen\", \"RegioS\": \"'s-Hertogenbosch\", \"Perioden\": \"2013\", \"AantalInstallaties_1\": 901.0, \"OpgesteldVermogenVanZonnepanelen_2\": 2859.0}, {\"ID\": 4610, \"BedrijfstakkenWoningen\": \"Woningen\", \"RegioS\": \"'s-Hertogenbosch\", \"Perioden\": \"2014\", \"AantalInstallaties_1\": 1270.0, \"OpgesteldVermogenVanZonnepanelen_2\": 4269.0}, {\"ID\": 4611, \"BedrijfstakkenWoningen\": \"Woningen\", \"RegioS\": \"'s-Hertogenbosch\", \"Perioden\": \"2015\", \"AantalInstallaties_1\": 1687.0, \"OpgesteldVermogenVanZonnepanelen_2\": 5748.0}, {\"ID\": 4612, \"BedrijfstakkenWoningen\": \"Woningen\", \"RegioS\": \"'s-Hertogenbosch\", \"Perioden\": \"2016\", \"AantalInstallaties_1\": 2170.0, \"OpgesteldVermogenVanZonnepanelen_2\": 7464.0}, {\"ID\": 4613, \"BedrijfstakkenWoningen\": \"Woningen\", \"RegioS\": \"'s-Hertogenbosch\", \"Perioden\": \"2017\", \"AantalInstallaties_1\": 2910.0, \"OpgesteldVermogenVanZonnepanelen_2\": 9936.0}, {\"ID\": 4614, \"BedrijfstakkenWoningen\": \"Woningen\", \"RegioS\": \"'s-Hertogenbosch\", \"Perioden\": \"2018\", \"AantalInstallaties_1\": 4103.0, \"OpgesteldVermogenVanZonnepanelen_2\": 14162.0}, {\"ID\": 4615, \"BedrijfstakkenWoningen\": \"Woningen\", \"RegioS\": \"'s-Hertogenbosch\", \"Perioden\": \"2019\", \"AantalInstallaties_1\": 6245.0, \"OpgesteldVermogenVanZonnepanelen_2\": 22106.0}, {\"ID\": 4944, \"BedrijfstakkenWoningen\": \"Woningen\", \"RegioS\": \"Loon op Zand\", \"Perioden\": \"2012\", \"AantalInstallaties_1\": 62.0, \"OpgesteldVermogenVanZonnepanelen_2\": 196.0}, {\"ID\": 4945, \"BedrijfstakkenWoningen\": \"Woningen\", \"RegioS\": \"Loon op Zand\", \"Perioden\": \"2013\", \"AantalInstallaties_1\": 138.0, \"OpgesteldVermogenVanZonnepanelen_2\": 491.0}, {\"ID\": 4946, \"BedrijfstakkenWoningen\": \"Woningen\", \"RegioS\": \"Loon op Zand\", \"Perioden\": \"2014\", \"AantalInstallaties_1\": 209.0, \"OpgesteldVermogenVanZonnepanelen_2\": 772.0}, {\"ID\": 4947, \"BedrijfstakkenWoningen\": \"Woningen\", \"RegioS\": \"Loon op Zand\", \"Perioden\": \"2015\", \"AantalInstallaties_1\": 274.0, \"OpgesteldVermogenVanZonnepanelen_2\": 1062.0}, {\"ID\": 4948, \"BedrijfstakkenWoningen\": \"Woningen\", \"RegioS\": \"Loon op Zand\", \"Perioden\": \"2016\", \"AantalInstallaties_1\": 379.0, \"OpgesteldVermogenVanZonnepanelen_2\": 1424.0}, {\"ID\": 4949, \"BedrijfstakkenWoningen\": \"Woningen\", \"RegioS\": \"Loon op Zand\", \"Perioden\": \"2017\", \"AantalInstallaties_1\": 527.0, \"OpgesteldVermogenVanZonnepanelen_2\": 1878.0}, {\"ID\": 4950, \"BedrijfstakkenWoningen\": \"Woningen\", \"RegioS\": \"Loon op Zand\", \"Perioden\": \"2018\", \"AantalInstallaties_1\": 761.0, \"OpgesteldVermogenVanZonnepanelen_2\": 2669.0}, {\"ID\": 4951, \"BedrijfstakkenWoningen\": \"Woningen\", \"RegioS\": \"Loon op Zand\", \"Perioden\": \"2019\", \"AantalInstallaties_1\": 1042.0, \"OpgesteldVermogenVanZonnepanelen_2\": 3914.0}]}}, {\"mode\": \"vega-lite\"});\n",
       "</script>"
      ],
      "text/plain": [
       "alt.RepeatChart(...)"
      ]
     },
     "execution_count": 42,
     "metadata": {},
     "output_type": "execute_result"
    }
   ],
   "source": [
    "chart = alt.Chart(df_zonnestroom_2019).mark_point().encode(\n",
    "    alt.X(alt.repeat(\"column\"), type='ordinal', title='Year'),\n",
    "    alt.Y(alt.repeat(\"row\"), type='quantitative'),\n",
    "    color='RegioS:N'\n",
    ").properties(\n",
    "    width=375,\n",
    "    height=250\n",
    ").repeat(\n",
    "    column=['Perioden'],\n",
    "    row=['AantalInstallaties_1', 'OpgesteldVermogenVanZonnepanelen_2'],\n",
    "    \n",
    ").interactive()\n",
    "chart"
   ]
  },
  {
   "cell_type": "markdown",
   "metadata": {
    "cell_id": "3cd3a9ca43254bc48ffcfa2193fed858",
    "deepnote_app_coordinates": {
     "h": 4,
     "w": 12,
     "x": 0,
     "y": 66
    },
    "deepnote_cell_type": "text-cell-h3",
    "is_collapsed": false,
    "tags": []
   },
   "source": [
    "### Compare the CBS data with the Enexis data"
   ]
  },
  {
   "cell_type": "markdown",
   "metadata": {
    "cell_id": "1895e46af65e46fe8187bf5d10572095",
    "deepnote_app_coordinates": {
     "h": 3,
     "w": 13,
     "x": 0,
     "y": 70
    },
    "deepnote_cell_type": "text-cell-p",
    "is_collapsed": false,
    "tags": []
   },
   "source": [
    "CBS data goes from 2012 to 2019 at the end of the year, and the Enexis data is from 1-1-2020."
   ]
  },
  {
   "cell_type": "markdown",
   "metadata": {
    "cell_id": "b58af8b45366405390cbe3093753712b",
    "deepnote_cell_type": "text-cell-p",
    "is_collapsed": false,
    "tags": []
   },
   "source": [
    "Load the enexis 2020 data:"
   ]
  },
  {
   "cell_type": "code",
   "execution_count": 7,
   "metadata": {
    "cell_id": "ff1935ced17643549dfea71f23a76703",
    "deepnote_cell_height": 81,
    "deepnote_cell_type": "code",
    "deepnote_to_be_reexecuted": false,
    "execution_millis": 1,
    "execution_start": 1652893412124,
    "source_hash": "9b82ee11",
    "tags": []
   },
   "outputs": [],
   "source": [
    "import pandas as pd"
   ]
  },
  {
   "cell_type": "code",
   "execution_count": 8,
   "metadata": {
    "cell_id": "f46b0108272842c1b946d76b78c18fcc",
    "deepnote_cell_height": 171,
    "deepnote_cell_type": "code",
    "deepnote_to_be_reexecuted": false,
    "execution_millis": 45,
    "execution_start": 1652893412125,
    "source_hash": "57270238",
    "tags": []
   },
   "outputs": [],
   "source": [
    "decentral_generation_012020 = '../data/Enexis_decentrale_opwek_kv_(zon_pv)_01012020.csv'\n",
    "df_decentral_generation = pd.read_csv(decentral_generation_012020,\n",
    "                         sep                = ';',\n",
    "                         decimal            = ',',\n",
    "                         thousands          = '.',\n",
    "                         encoding           = 'unicode_escape')        "
   ]
  },
  {
   "cell_type": "markdown",
   "metadata": {
    "cell_id": "e07e85136f044796b769afd01ac6b81d",
    "deepnote_cell_type": "text-cell-p",
    "is_collapsed": false,
    "tags": []
   },
   "source": [
    "Keep only data from selected municipalities and get the total number of pv connections there:"
   ]
  },
  {
   "cell_type": "code",
   "execution_count": 9,
   "metadata": {
    "cell_id": "ded6c925539a4bd8bfc537760b5b3d9d",
    "deepnote_cell_height": 374.953125,
    "deepnote_cell_type": "code",
    "deepnote_output_heights": [
     97.96875
    ],
    "deepnote_to_be_reexecuted": false,
    "execution_millis": 68,
    "execution_start": 1652893412170,
    "source_hash": "3101d9eb",
    "tags": []
   },
   "outputs": [
    {
     "data": {
      "text/plain": [
       "Gemeente\n",
       "'s-Hertogenbosch    6332.0\n",
       "Best                2478.0\n",
       "Loon op Zand        1145.0\n",
       "Name: Aantal aansluitingen met opwekinstallatie, dtype: float64"
      ]
     },
     "execution_count": 9,
     "metadata": {},
     "output_type": "execute_result"
    }
   ],
   "source": [
    "df_decentral_generation = df_decentral_generation[    \n",
    "    (df_decentral_generation['Gemeente']=='Arnhem') |\n",
    "    (df_decentral_generation['Gemeente']=='Best') |\n",
    "    (df_decentral_generation['Gemeente']==\"'s-Hertogenbosch\") |\n",
    "    (df_decentral_generation['Gemeente']=='Loon op Zand') \n",
    "]\n",
    "\n",
    "totalNumberOfPVConnections = df_decentral_generation.groupby('Gemeente')['Aantal aansluitingen met opwekinstallatie'].sum()\n",
    "\n",
    "totalNumberOfPVConnections\n"
   ]
  },
  {
   "cell_type": "markdown",
   "metadata": {
    "cell_id": "62cf6517f5694275b87a210108826faf",
    "deepnote_cell_type": "text-cell-p",
    "is_collapsed": false,
    "tags": []
   },
   "source": [
    "Note that 'Arnhem' is not part of the Enexis data. This is because it is not in their servicing area."
   ]
  },
  {
   "cell_type": "code",
   "execution_count": 10,
   "metadata": {
    "cell_id": "a5867589a5264324a4b76d2fa8b2a19f",
    "deepnote_cell_height": 616.875,
    "deepnote_cell_type": "code",
    "deepnote_table_loading": false,
    "deepnote_table_state": {
     "filters": [],
     "pageIndex": 4,
     "pageSize": 10,
     "sortBy": []
    },
    "deepnote_to_be_reexecuted": false,
    "execution_millis": 88,
    "execution_start": 1652893412212,
    "source_hash": "2b9ea02c",
    "tags": []
   },
   "outputs": [
    {
     "data": {
      "application/vnd.deepnote.dataframe.v3+json": {
       "column_count": 9,
       "columns": [
        {
         "dtype": "float64",
         "name": "ï»¿Peildatum",
         "stats": {
          "histogram": [
           {
            "bin_end": 202000.6,
            "bin_start": 202000.5,
            "count": 0
           },
           {
            "bin_end": 202000.7,
            "bin_start": 202000.6,
            "count": 0
           },
           {
            "bin_end": 202000.8,
            "bin_start": 202000.7,
            "count": 0
           },
           {
            "bin_end": 202000.9,
            "bin_start": 202000.8,
            "count": 0
           },
           {
            "bin_end": 202001,
            "bin_start": 202000.9,
            "count": 0
           },
           {
            "bin_end": 202001.1,
            "bin_start": 202001,
            "count": 50
           },
           {
            "bin_end": 202001.2,
            "bin_start": 202001.1,
            "count": 0
           },
           {
            "bin_end": 202001.3,
            "bin_start": 202001.2,
            "count": 0
           },
           {
            "bin_end": 202001.4,
            "bin_start": 202001.3,
            "count": 0
           },
           {
            "bin_end": 202001.5,
            "bin_start": 202001.4,
            "count": 0
           }
          ],
          "max": "202001.0",
          "min": "202001.0",
          "nan_count": 0,
          "unique_count": 1
         }
        },
        {
         "dtype": "object",
         "name": "Netbeheerder",
         "stats": {
          "categories": [
           {
            "count": 50,
            "name": "Enexis"
           }
          ],
          "nan_count": 0,
          "unique_count": 1
         }
        },
        {
         "dtype": "object",
         "name": "Provincie",
         "stats": {
          "categories": [
           {
            "count": 50,
            "name": "Noord-Brabant"
           }
          ],
          "nan_count": 0,
          "unique_count": 1
         }
        },
        {
         "dtype": "object",
         "name": "Gemeente",
         "stats": {
          "categories": [
           {
            "count": 27,
            "name": "Loon op Zand"
           },
           {
            "count": 22,
            "name": "'s-Hertogenbosch"
           },
           {
            "count": 1,
            "name": "Best"
           }
          ],
          "nan_count": 0,
          "unique_count": 3
         }
        },
        {
         "dtype": "object",
         "name": "CBS Buurt ",
         "stats": {
          "categories": [
           {
            "count": 1,
            "name": "Lokeren"
           },
           {
            "count": 46,
            "name": "46 others"
           },
           {
            "count": 3,
            "name": "Missing"
           }
          ],
          "nan_count": 3,
          "unique_count": 47
         }
        },
        {
         "dtype": "float64",
         "name": "CBS Buurtcode",
         "stats": {
          "histogram": [
           {
            "bin_end": 7974313.1,
            "bin_start": 7961004,
            "count": 20
           },
           {
            "bin_end": 7987622.2,
            "bin_start": 7974313.1,
            "count": 0
           },
           {
            "bin_end": 8000931.3,
            "bin_start": 7987622.2,
            "count": 0
           },
           {
            "bin_end": 8014240.4,
            "bin_start": 8000931.3,
            "count": 0
           },
           {
            "bin_end": 8027549.5,
            "bin_start": 8014240.4,
            "count": 0
           },
           {
            "bin_end": 8040858.6,
            "bin_start": 8027549.5,
            "count": 0
           },
           {
            "bin_end": 8054167.7,
            "bin_start": 8040858.6,
            "count": 0
           },
           {
            "bin_end": 8067476.8,
            "bin_start": 8054167.7,
            "count": 0
           },
           {
            "bin_end": 8080785.9,
            "bin_start": 8067476.8,
            "count": 0
           },
           {
            "bin_end": 8094095,
            "bin_start": 8080785.9,
            "count": 26
           }
          ],
          "max": "8094095.0",
          "min": "7961004.0",
          "nan_count": 4,
          "unique_count": 46
         }
        },
        {
         "dtype": "float64",
         "name": "Aantal aansluitingen in CBS-buurt ",
         "stats": {
          "histogram": [
           {
            "bin_end": 943,
            "bin_start": 52,
            "count": 39
           },
           {
            "bin_end": 1834,
            "bin_start": 943,
            "count": 7
           },
           {
            "bin_end": 2725,
            "bin_start": 1834,
            "count": 2
           },
           {
            "bin_end": 3616,
            "bin_start": 2725,
            "count": 0
           },
           {
            "bin_end": 4507,
            "bin_start": 3616,
            "count": 1
           },
           {
            "bin_end": 5398,
            "bin_start": 4507,
            "count": 0
           },
           {
            "bin_end": 6289,
            "bin_start": 5398,
            "count": 0
           },
           {
            "bin_end": 7180,
            "bin_start": 6289,
            "count": 0
           },
           {
            "bin_end": 8071,
            "bin_start": 7180,
            "count": 0
           },
           {
            "bin_end": 8962,
            "bin_start": 8071,
            "count": 1
           }
          ],
          "max": "8962.0",
          "min": "52.0",
          "nan_count": 0,
          "unique_count": 49
         }
        },
        {
         "dtype": "float64",
         "name": "Aantal aansluitingen met opwekinstallatie",
         "stats": {
          "histogram": [
           {
            "bin_end": 83.1,
            "bin_start": 10,
            "count": 33
           },
           {
            "bin_end": 156.2,
            "bin_start": 83.1,
            "count": 13
           },
           {
            "bin_end": 229.29999999999998,
            "bin_start": 156.2,
            "count": 2
           },
           {
            "bin_end": 302.4,
            "bin_start": 229.29999999999998,
            "count": 1
           },
           {
            "bin_end": 375.5,
            "bin_start": 302.4,
            "count": 0
           },
           {
            "bin_end": 448.59999999999997,
            "bin_start": 375.5,
            "count": 0
           },
           {
            "bin_end": 521.6999999999999,
            "bin_start": 448.59999999999997,
            "count": 0
           },
           {
            "bin_end": 594.8,
            "bin_start": 521.6999999999999,
            "count": 0
           },
           {
            "bin_end": 667.9,
            "bin_start": 594.8,
            "count": 0
           },
           {
            "bin_end": 741,
            "bin_start": 667.9,
            "count": 1
           }
          ],
          "max": "741.0",
          "min": "10.0",
          "nan_count": 0,
          "unique_count": 38
         }
        },
        {
         "dtype": "float64",
         "name": "Opgesteld vermogen",
         "stats": {
          "histogram": [
           {
            "bin_end": 359.1,
            "bin_start": 47,
            "count": 36
           },
           {
            "bin_end": 671.2,
            "bin_start": 359.1,
            "count": 9
           },
           {
            "bin_end": 983.3000000000001,
            "bin_start": 671.2,
            "count": 3
           },
           {
            "bin_end": 1295.4,
            "bin_start": 983.3000000000001,
            "count": 1
           },
           {
            "bin_end": 1607.5,
            "bin_start": 1295.4,
            "count": 0
           },
           {
            "bin_end": 1919.6000000000001,
            "bin_start": 1607.5,
            "count": 0
           },
           {
            "bin_end": 2231.7000000000003,
            "bin_start": 1919.6000000000001,
            "count": 0
           },
           {
            "bin_end": 2543.8,
            "bin_start": 2231.7000000000003,
            "count": 0
           },
           {
            "bin_end": 2855.9,
            "bin_start": 2543.8,
            "count": 0
           },
           {
            "bin_end": 3168,
            "bin_start": 2855.9,
            "count": 1
           }
          ],
          "max": "3168.0",
          "min": "47.0",
          "nan_count": 0,
          "unique_count": 45
         }
        },
        {
         "dtype": "int64",
         "name": "_deepnote_index_column"
        }
       ],
       "row_count": 50,
       "rows": [
        {
         "Aantal aansluitingen in CBS-buurt ": 158,
         "Aantal aansluitingen met opwekinstallatie": 30,
         "CBS Buurt ": "Mussenhoek",
         "CBS Buurtcode": 8093071,
         "Gemeente": "Loon op Zand",
         "Netbeheerder": "Enexis",
         "Opgesteld vermogen": 148,
         "Provincie": "Noord-Brabant",
         "_deepnote_index_column": 1568,
         "ï»¿Peildatum": 202001
        },
        {
         "Aantal aansluitingen in CBS-buurt ": 615,
         "Aantal aansluitingen met opwekinstallatie": 69,
         "CBS Buurt ": "Molenwijk (noord)",
         "CBS Buurtcode": 8093080,
         "Gemeente": "Loon op Zand",
         "Netbeheerder": "Enexis",
         "Opgesteld vermogen": 234,
         "Provincie": "Noord-Brabant",
         "_deepnote_index_column": 1569,
         "ï»¿Peildatum": 202001
        },
        {
         "Aantal aansluitingen in CBS-buurt ": 589,
         "Aantal aansluitingen met opwekinstallatie": 49,
         "CBS Buurt ": "Molenwijk (zuid)",
         "CBS Buurtcode": 8093081,
         "Gemeente": "Loon op Zand",
         "Netbeheerder": "Enexis",
         "Opgesteld vermogen": 174,
         "Provincie": "Noord-Brabant",
         "_deepnote_index_column": 1570,
         "ï»¿Peildatum": 202001
        },
        {
         "Aantal aansluitingen in CBS-buurt ": 71,
         "Aantal aansluitingen met opwekinstallatie": 15,
         "CBS Buurt ": "Bergeind",
         "CBS Buurtcode": 8093090,
         "Gemeente": "Loon op Zand",
         "Netbeheerder": "Enexis",
         "Opgesteld vermogen": 249,
         "Provincie": "Noord-Brabant",
         "_deepnote_index_column": 1571,
         "ï»¿Peildatum": 202001
        },
        {
         "Aantal aansluitingen in CBS-buurt ": 146,
         "Aantal aansluitingen met opwekinstallatie": 36,
         "CBS Buurt ": "Oost-Loon",
         "CBS Buurtcode": 8093091,
         "Gemeente": "Loon op Zand",
         "Netbeheerder": "Enexis",
         "Opgesteld vermogen": 224,
         "Provincie": "Noord-Brabant",
         "_deepnote_index_column": 1572,
         "ï»¿Peildatum": 202001
        },
        {
         "Aantal aansluitingen in CBS-buurt ": 277,
         "Aantal aansluitingen met opwekinstallatie": 28,
         "CBS Buurt ": "De Moer",
         "CBS Buurtcode": 8094095,
         "Gemeente": "Loon op Zand",
         "Netbeheerder": "Enexis",
         "Opgesteld vermogen": 200,
         "Provincie": "Noord-Brabant",
         "_deepnote_index_column": 1573,
         "ï»¿Peildatum": 202001
        },
        {
         "Aantal aansluitingen in CBS-buurt ": 617,
         "Aantal aansluitingen met opwekinstallatie": 143,
         "CBS Buurt ": "nan",
         "CBS Buurtcode": "nan",
         "Gemeente": "Best",
         "Netbeheerder": "Enexis",
         "Opgesteld vermogen": 739,
         "Provincie": "Noord-Brabant",
         "_deepnote_index_column": 3789,
         "ï»¿Peildatum": 202001
        },
        {
         "Aantal aansluitingen in CBS-buurt ": 601,
         "Aantal aansluitingen met opwekinstallatie": 41,
         "CBS Buurt ": "nan",
         "CBS Buurtcode": "nan",
         "Gemeente": "Loon op Zand",
         "Netbeheerder": "Enexis",
         "Opgesteld vermogen": 241,
         "Provincie": "Noord-Brabant",
         "_deepnote_index_column": 3820,
         "ï»¿Peildatum": 202001
        },
        {
         "Aantal aansluitingen in CBS-buurt ": 908,
         "Aantal aansluitingen met opwekinstallatie": 98,
         "CBS Buurt ": "t Ven",
         "CBS Buurtcode": "nan",
         "Gemeente": "'s-Hertogenbosch",
         "Netbeheerder": "Enexis",
         "Opgesteld vermogen": 469,
         "Provincie": "Noord-Brabant",
         "_deepnote_index_column": 3835,
         "ï»¿Peildatum": 202001
        },
        {
         "Aantal aansluitingen in CBS-buurt ": 8962,
         "Aantal aansluitingen met opwekinstallatie": 741,
         "CBS Buurt ": "nan",
         "CBS Buurtcode": "nan",
         "Gemeente": "'s-Hertogenbosch",
         "Netbeheerder": "Enexis",
         "Opgesteld vermogen": 3168,
         "Provincie": "Noord-Brabant",
         "_deepnote_index_column": 3836,
         "ï»¿Peildatum": 202001
        }
       ]
      },
      "text/html": [
       "<div>\n",
       "<style scoped>\n",
       "    .dataframe tbody tr th:only-of-type {\n",
       "        vertical-align: middle;\n",
       "    }\n",
       "\n",
       "    .dataframe tbody tr th {\n",
       "        vertical-align: top;\n",
       "    }\n",
       "\n",
       "    .dataframe thead th {\n",
       "        text-align: right;\n",
       "    }\n",
       "</style>\n",
       "<table border=\"1\" class=\"dataframe\">\n",
       "  <thead>\n",
       "    <tr style=\"text-align: right;\">\n",
       "      <th></th>\n",
       "      <th>ï»¿Peildatum</th>\n",
       "      <th>Netbeheerder</th>\n",
       "      <th>Provincie</th>\n",
       "      <th>Gemeente</th>\n",
       "      <th>CBS Buurt</th>\n",
       "      <th>CBS Buurtcode</th>\n",
       "      <th>Aantal aansluitingen in CBS-buurt</th>\n",
       "      <th>Aantal aansluitingen met opwekinstallatie</th>\n",
       "      <th>Opgesteld vermogen</th>\n",
       "    </tr>\n",
       "  </thead>\n",
       "  <tbody>\n",
       "    <tr>\n",
       "      <th>1507</th>\n",
       "      <td>202001.0</td>\n",
       "      <td>Enexis</td>\n",
       "      <td>Noord-Brabant</td>\n",
       "      <td>'s-Hertogenbosch</td>\n",
       "      <td>Lokeren</td>\n",
       "      <td>7961004.0</td>\n",
       "      <td>669.0</td>\n",
       "      <td>53.0</td>\n",
       "      <td>166.0</td>\n",
       "    </tr>\n",
       "    <tr>\n",
       "      <th>1508</th>\n",
       "      <td>202001.0</td>\n",
       "      <td>Enexis</td>\n",
       "      <td>Noord-Brabant</td>\n",
       "      <td>'s-Hertogenbosch</td>\n",
       "      <td>Maasstroom</td>\n",
       "      <td>7961005.0</td>\n",
       "      <td>901.0</td>\n",
       "      <td>112.0</td>\n",
       "      <td>275.0</td>\n",
       "    </tr>\n",
       "    <tr>\n",
       "      <th>1509</th>\n",
       "      <td>202001.0</td>\n",
       "      <td>Enexis</td>\n",
       "      <td>Noord-Brabant</td>\n",
       "      <td>'s-Hertogenbosch</td>\n",
       "      <td>De Staatsliedenbuurt</td>\n",
       "      <td>7961006.0</td>\n",
       "      <td>779.0</td>\n",
       "      <td>88.0</td>\n",
       "      <td>295.0</td>\n",
       "    </tr>\n",
       "    <tr>\n",
       "      <th>1510</th>\n",
       "      <td>202001.0</td>\n",
       "      <td>Enexis</td>\n",
       "      <td>Noord-Brabant</td>\n",
       "      <td>'s-Hertogenbosch</td>\n",
       "      <td>Het Zilverpark</td>\n",
       "      <td>7961007.0</td>\n",
       "      <td>827.0</td>\n",
       "      <td>105.0</td>\n",
       "      <td>405.0</td>\n",
       "    </tr>\n",
       "    <tr>\n",
       "      <th>1511</th>\n",
       "      <td>202001.0</td>\n",
       "      <td>Enexis</td>\n",
       "      <td>Noord-Brabant</td>\n",
       "      <td>'s-Hertogenbosch</td>\n",
       "      <td>Maasvallei</td>\n",
       "      <td>7961008.0</td>\n",
       "      <td>991.0</td>\n",
       "      <td>100.0</td>\n",
       "      <td>314.0</td>\n",
       "    </tr>\n",
       "    <tr>\n",
       "      <th>1512</th>\n",
       "      <td>202001.0</td>\n",
       "      <td>Enexis</td>\n",
       "      <td>Noord-Brabant</td>\n",
       "      <td>'s-Hertogenbosch</td>\n",
       "      <td>Maasoever</td>\n",
       "      <td>7961009.0</td>\n",
       "      <td>1165.0</td>\n",
       "      <td>143.0</td>\n",
       "      <td>563.0</td>\n",
       "    </tr>\n",
       "    <tr>\n",
       "      <th>1513</th>\n",
       "      <td>202001.0</td>\n",
       "      <td>Enexis</td>\n",
       "      <td>Noord-Brabant</td>\n",
       "      <td>'s-Hertogenbosch</td>\n",
       "      <td>Boschveld</td>\n",
       "      <td>7961101.0</td>\n",
       "      <td>1610.0</td>\n",
       "      <td>154.0</td>\n",
       "      <td>295.0</td>\n",
       "    </tr>\n",
       "    <tr>\n",
       "      <th>1514</th>\n",
       "      <td>202001.0</td>\n",
       "      <td>Enexis</td>\n",
       "      <td>Noord-Brabant</td>\n",
       "      <td>'s-Hertogenbosch</td>\n",
       "      <td>Paleiskwartier</td>\n",
       "      <td>7961102.0</td>\n",
       "      <td>2006.0</td>\n",
       "      <td>10.0</td>\n",
       "      <td>51.0</td>\n",
       "    </tr>\n",
       "    <tr>\n",
       "      <th>1515</th>\n",
       "      <td>202001.0</td>\n",
       "      <td>Enexis</td>\n",
       "      <td>Noord-Brabant</td>\n",
       "      <td>'s-Hertogenbosch</td>\n",
       "      <td>Deuteren</td>\n",
       "      <td>7961104.0</td>\n",
       "      <td>874.0</td>\n",
       "      <td>52.0</td>\n",
       "      <td>177.0</td>\n",
       "    </tr>\n",
       "    <tr>\n",
       "      <th>1516</th>\n",
       "      <td>202001.0</td>\n",
       "      <td>Enexis</td>\n",
       "      <td>Noord-Brabant</td>\n",
       "      <td>'s-Hertogenbosch</td>\n",
       "      <td>De Schutskamp</td>\n",
       "      <td>7961106.0</td>\n",
       "      <td>2579.0</td>\n",
       "      <td>98.0</td>\n",
       "      <td>331.0</td>\n",
       "    </tr>\n",
       "    <tr>\n",
       "      <th>1517</th>\n",
       "      <td>202001.0</td>\n",
       "      <td>Enexis</td>\n",
       "      <td>Noord-Brabant</td>\n",
       "      <td>'s-Hertogenbosch</td>\n",
       "      <td>De Kruiskamp</td>\n",
       "      <td>7961107.0</td>\n",
       "      <td>3641.0</td>\n",
       "      <td>188.0</td>\n",
       "      <td>819.0</td>\n",
       "    </tr>\n",
       "    <tr>\n",
       "      <th>1518</th>\n",
       "      <td>202001.0</td>\n",
       "      <td>Enexis</td>\n",
       "      <td>Noord-Brabant</td>\n",
       "      <td>'s-Hertogenbosch</td>\n",
       "      <td>Ertveld</td>\n",
       "      <td>7961111.0</td>\n",
       "      <td>81.0</td>\n",
       "      <td>12.0</td>\n",
       "      <td>47.0</td>\n",
       "    </tr>\n",
       "    <tr>\n",
       "      <th>1519</th>\n",
       "      <td>202001.0</td>\n",
       "      <td>Enexis</td>\n",
       "      <td>Noord-Brabant</td>\n",
       "      <td>'s-Hertogenbosch</td>\n",
       "      <td>Kom Engelen</td>\n",
       "      <td>7961201.0</td>\n",
       "      <td>1112.0</td>\n",
       "      <td>178.0</td>\n",
       "      <td>826.0</td>\n",
       "    </tr>\n",
       "    <tr>\n",
       "      <th>1520</th>\n",
       "      <td>202001.0</td>\n",
       "      <td>Enexis</td>\n",
       "      <td>Noord-Brabant</td>\n",
       "      <td>'s-Hertogenbosch</td>\n",
       "      <td>De Haverleij</td>\n",
       "      <td>7961204.0</td>\n",
       "      <td>974.0</td>\n",
       "      <td>124.0</td>\n",
       "      <td>389.0</td>\n",
       "    </tr>\n",
       "    <tr>\n",
       "      <th>1521</th>\n",
       "      <td>202001.0</td>\n",
       "      <td>Enexis</td>\n",
       "      <td>Noord-Brabant</td>\n",
       "      <td>'s-Hertogenbosch</td>\n",
       "      <td>Bokhoven</td>\n",
       "      <td>7961205.0</td>\n",
       "      <td>128.0</td>\n",
       "      <td>28.0</td>\n",
       "      <td>148.0</td>\n",
       "    </tr>\n",
       "    <tr>\n",
       "      <th>1522</th>\n",
       "      <td>202001.0</td>\n",
       "      <td>Enexis</td>\n",
       "      <td>Noord-Brabant</td>\n",
       "      <td>'s-Hertogenbosch</td>\n",
       "      <td>Kom Nuland</td>\n",
       "      <td>7961301.0</td>\n",
       "      <td>1541.0</td>\n",
       "      <td>246.0</td>\n",
       "      <td>1233.0</td>\n",
       "    </tr>\n",
       "    <tr>\n",
       "      <th>1523</th>\n",
       "      <td>202001.0</td>\n",
       "      <td>Enexis</td>\n",
       "      <td>Noord-Brabant</td>\n",
       "      <td>'s-Hertogenbosch</td>\n",
       "      <td>Heeseind</td>\n",
       "      <td>7961304.0</td>\n",
       "      <td>146.0</td>\n",
       "      <td>27.0</td>\n",
       "      <td>172.0</td>\n",
       "    </tr>\n",
       "    <tr>\n",
       "      <th>1524</th>\n",
       "      <td>202001.0</td>\n",
       "      <td>Enexis</td>\n",
       "      <td>Noord-Brabant</td>\n",
       "      <td>'s-Hertogenbosch</td>\n",
       "      <td>Landelijk gebied Nuland</td>\n",
       "      <td>7961399.0</td>\n",
       "      <td>52.0</td>\n",
       "      <td>10.0</td>\n",
       "      <td>154.0</td>\n",
       "    </tr>\n",
       "    <tr>\n",
       "      <th>1525</th>\n",
       "      <td>202001.0</td>\n",
       "      <td>Enexis</td>\n",
       "      <td>Noord-Brabant</td>\n",
       "      <td>'s-Hertogenbosch</td>\n",
       "      <td>Kom Vinkel</td>\n",
       "      <td>7961401.0</td>\n",
       "      <td>422.0</td>\n",
       "      <td>77.0</td>\n",
       "      <td>438.0</td>\n",
       "    </tr>\n",
       "    <tr>\n",
       "      <th>1526</th>\n",
       "      <td>202001.0</td>\n",
       "      <td>Enexis</td>\n",
       "      <td>Noord-Brabant</td>\n",
       "      <td>'s-Hertogenbosch</td>\n",
       "      <td>Landelijk gebied Vinkel</td>\n",
       "      <td>7961499.0</td>\n",
       "      <td>418.0</td>\n",
       "      <td>71.0</td>\n",
       "      <td>640.0</td>\n",
       "    </tr>\n",
       "    <tr>\n",
       "      <th>1548</th>\n",
       "      <td>202001.0</td>\n",
       "      <td>Enexis</td>\n",
       "      <td>Noord-Brabant</td>\n",
       "      <td>Loon op Zand</td>\n",
       "      <td>Draaiboom</td>\n",
       "      <td>8091001.0</td>\n",
       "      <td>796.0</td>\n",
       "      <td>97.0</td>\n",
       "      <td>391.0</td>\n",
       "    </tr>\n",
       "    <tr>\n",
       "      <th>1549</th>\n",
       "      <td>202001.0</td>\n",
       "      <td>Enexis</td>\n",
       "      <td>Noord-Brabant</td>\n",
       "      <td>Loon op Zand</td>\n",
       "      <td>Hil (noord)</td>\n",
       "      <td>8091005.0</td>\n",
       "      <td>231.0</td>\n",
       "      <td>27.0</td>\n",
       "      <td>84.0</td>\n",
       "    </tr>\n",
       "    <tr>\n",
       "      <th>1550</th>\n",
       "      <td>202001.0</td>\n",
       "      <td>Enexis</td>\n",
       "      <td>Noord-Brabant</td>\n",
       "      <td>Loon op Zand</td>\n",
       "      <td>Hil (zuid)</td>\n",
       "      <td>8091006.0</td>\n",
       "      <td>283.0</td>\n",
       "      <td>34.0</td>\n",
       "      <td>135.0</td>\n",
       "    </tr>\n",
       "    <tr>\n",
       "      <th>1551</th>\n",
       "      <td>202001.0</td>\n",
       "      <td>Enexis</td>\n",
       "      <td>Noord-Brabant</td>\n",
       "      <td>Loon op Zand</td>\n",
       "      <td>Pannenhoef (west)</td>\n",
       "      <td>8091010.0</td>\n",
       "      <td>524.0</td>\n",
       "      <td>24.0</td>\n",
       "      <td>103.0</td>\n",
       "    </tr>\n",
       "    <tr>\n",
       "      <th>1552</th>\n",
       "      <td>202001.0</td>\n",
       "      <td>Enexis</td>\n",
       "      <td>Noord-Brabant</td>\n",
       "      <td>Loon op Zand</td>\n",
       "      <td>Pannenhoef (oost)</td>\n",
       "      <td>8091011.0</td>\n",
       "      <td>325.0</td>\n",
       "      <td>18.0</td>\n",
       "      <td>93.0</td>\n",
       "    </tr>\n",
       "    <tr>\n",
       "      <th>1553</th>\n",
       "      <td>202001.0</td>\n",
       "      <td>Enexis</td>\n",
       "      <td>Noord-Brabant</td>\n",
       "      <td>Loon op Zand</td>\n",
       "      <td>Centrum</td>\n",
       "      <td>8091020.0</td>\n",
       "      <td>287.0</td>\n",
       "      <td>13.0</td>\n",
       "      <td>59.0</td>\n",
       "    </tr>\n",
       "    <tr>\n",
       "      <th>1554</th>\n",
       "      <td>202001.0</td>\n",
       "      <td>Enexis</td>\n",
       "      <td>Noord-Brabant</td>\n",
       "      <td>Loon op Zand</td>\n",
       "      <td>Schrijversbuurt</td>\n",
       "      <td>8091021.0</td>\n",
       "      <td>420.0</td>\n",
       "      <td>30.0</td>\n",
       "      <td>112.0</td>\n",
       "    </tr>\n",
       "    <tr>\n",
       "      <th>1555</th>\n",
       "      <td>202001.0</td>\n",
       "      <td>Enexis</td>\n",
       "      <td>Noord-Brabant</td>\n",
       "      <td>Loon op Zand</td>\n",
       "      <td>Staatsliedenbuurt</td>\n",
       "      <td>8091025.0</td>\n",
       "      <td>343.0</td>\n",
       "      <td>29.0</td>\n",
       "      <td>149.0</td>\n",
       "    </tr>\n",
       "    <tr>\n",
       "      <th>1556</th>\n",
       "      <td>202001.0</td>\n",
       "      <td>Enexis</td>\n",
       "      <td>Noord-Brabant</td>\n",
       "      <td>Loon op Zand</td>\n",
       "      <td>Vossenberg (west)</td>\n",
       "      <td>8091030.0</td>\n",
       "      <td>417.0</td>\n",
       "      <td>36.0</td>\n",
       "      <td>174.0</td>\n",
       "    </tr>\n",
       "    <tr>\n",
       "      <th>1557</th>\n",
       "      <td>202001.0</td>\n",
       "      <td>Enexis</td>\n",
       "      <td>Noord-Brabant</td>\n",
       "      <td>Loon op Zand</td>\n",
       "      <td>Vossenberg (oost)</td>\n",
       "      <td>8091031.0</td>\n",
       "      <td>301.0</td>\n",
       "      <td>27.0</td>\n",
       "      <td>150.0</td>\n",
       "    </tr>\n",
       "    <tr>\n",
       "      <th>1558</th>\n",
       "      <td>202001.0</td>\n",
       "      <td>Enexis</td>\n",
       "      <td>Noord-Brabant</td>\n",
       "      <td>Loon op Zand</td>\n",
       "      <td>De Kets (industrieterrein)</td>\n",
       "      <td>8091035.0</td>\n",
       "      <td>222.0</td>\n",
       "      <td>10.0</td>\n",
       "      <td>167.0</td>\n",
       "    </tr>\n",
       "    <tr>\n",
       "      <th>1559</th>\n",
       "      <td>202001.0</td>\n",
       "      <td>Enexis</td>\n",
       "      <td>Noord-Brabant</td>\n",
       "      <td>Loon op Zand</td>\n",
       "      <td>De Zandschel</td>\n",
       "      <td>8091040.0</td>\n",
       "      <td>279.0</td>\n",
       "      <td>27.0</td>\n",
       "      <td>190.0</td>\n",
       "    </tr>\n",
       "    <tr>\n",
       "      <th>1560</th>\n",
       "      <td>202001.0</td>\n",
       "      <td>Enexis</td>\n",
       "      <td>Noord-Brabant</td>\n",
       "      <td>Loon op Zand</td>\n",
       "      <td>De Baan</td>\n",
       "      <td>8091041.0</td>\n",
       "      <td>200.0</td>\n",
       "      <td>29.0</td>\n",
       "      <td>154.0</td>\n",
       "    </tr>\n",
       "    <tr>\n",
       "      <th>1561</th>\n",
       "      <td>202001.0</td>\n",
       "      <td>Enexis</td>\n",
       "      <td>Noord-Brabant</td>\n",
       "      <td>Loon op Zand</td>\n",
       "      <td>Heikant</td>\n",
       "      <td>8092045.0</td>\n",
       "      <td>568.0</td>\n",
       "      <td>48.0</td>\n",
       "      <td>175.0</td>\n",
       "    </tr>\n",
       "    <tr>\n",
       "      <th>1562</th>\n",
       "      <td>202001.0</td>\n",
       "      <td>Enexis</td>\n",
       "      <td>Noord-Brabant</td>\n",
       "      <td>Loon op Zand</td>\n",
       "      <td>Els (oost)</td>\n",
       "      <td>8092049.0</td>\n",
       "      <td>199.0</td>\n",
       "      <td>15.0</td>\n",
       "      <td>77.0</td>\n",
       "    </tr>\n",
       "    <tr>\n",
       "      <th>1563</th>\n",
       "      <td>202001.0</td>\n",
       "      <td>Enexis</td>\n",
       "      <td>Noord-Brabant</td>\n",
       "      <td>Loon op Zand</td>\n",
       "      <td>Rooi Dorp</td>\n",
       "      <td>8092052.0</td>\n",
       "      <td>562.0</td>\n",
       "      <td>125.0</td>\n",
       "      <td>249.0</td>\n",
       "    </tr>\n",
       "    <tr>\n",
       "      <th>1564</th>\n",
       "      <td>202001.0</td>\n",
       "      <td>Enexis</td>\n",
       "      <td>Noord-Brabant</td>\n",
       "      <td>Loon op Zand</td>\n",
       "      <td>Loonse Vaart</td>\n",
       "      <td>8092055.0</td>\n",
       "      <td>787.0</td>\n",
       "      <td>75.0</td>\n",
       "      <td>219.0</td>\n",
       "    </tr>\n",
       "    <tr>\n",
       "      <th>1565</th>\n",
       "      <td>202001.0</td>\n",
       "      <td>Enexis</td>\n",
       "      <td>Noord-Brabant</td>\n",
       "      <td>Loon op Zand</td>\n",
       "      <td>De Oude Omdraaier</td>\n",
       "      <td>8092058.0</td>\n",
       "      <td>211.0</td>\n",
       "      <td>35.0</td>\n",
       "      <td>163.0</td>\n",
       "    </tr>\n",
       "    <tr>\n",
       "      <th>1566</th>\n",
       "      <td>202001.0</td>\n",
       "      <td>Enexis</td>\n",
       "      <td>Noord-Brabant</td>\n",
       "      <td>Loon op Zand</td>\n",
       "      <td>Prinsessenbuurt</td>\n",
       "      <td>8092061.0</td>\n",
       "      <td>344.0</td>\n",
       "      <td>74.0</td>\n",
       "      <td>362.0</td>\n",
       "    </tr>\n",
       "    <tr>\n",
       "      <th>1567</th>\n",
       "      <td>202001.0</td>\n",
       "      <td>Enexis</td>\n",
       "      <td>Noord-Brabant</td>\n",
       "      <td>Loon op Zand</td>\n",
       "      <td>Oud-Loon</td>\n",
       "      <td>8093070.0</td>\n",
       "      <td>1284.0</td>\n",
       "      <td>104.0</td>\n",
       "      <td>480.0</td>\n",
       "    </tr>\n",
       "    <tr>\n",
       "      <th>1568</th>\n",
       "      <td>202001.0</td>\n",
       "      <td>Enexis</td>\n",
       "      <td>Noord-Brabant</td>\n",
       "      <td>Loon op Zand</td>\n",
       "      <td>Mussenhoek</td>\n",
       "      <td>8093071.0</td>\n",
       "      <td>158.0</td>\n",
       "      <td>30.0</td>\n",
       "      <td>148.0</td>\n",
       "    </tr>\n",
       "    <tr>\n",
       "      <th>1569</th>\n",
       "      <td>202001.0</td>\n",
       "      <td>Enexis</td>\n",
       "      <td>Noord-Brabant</td>\n",
       "      <td>Loon op Zand</td>\n",
       "      <td>Molenwijk (noord)</td>\n",
       "      <td>8093080.0</td>\n",
       "      <td>615.0</td>\n",
       "      <td>69.0</td>\n",
       "      <td>234.0</td>\n",
       "    </tr>\n",
       "    <tr>\n",
       "      <th>1570</th>\n",
       "      <td>202001.0</td>\n",
       "      <td>Enexis</td>\n",
       "      <td>Noord-Brabant</td>\n",
       "      <td>Loon op Zand</td>\n",
       "      <td>Molenwijk (zuid)</td>\n",
       "      <td>8093081.0</td>\n",
       "      <td>589.0</td>\n",
       "      <td>49.0</td>\n",
       "      <td>174.0</td>\n",
       "    </tr>\n",
       "    <tr>\n",
       "      <th>1571</th>\n",
       "      <td>202001.0</td>\n",
       "      <td>Enexis</td>\n",
       "      <td>Noord-Brabant</td>\n",
       "      <td>Loon op Zand</td>\n",
       "      <td>Bergeind</td>\n",
       "      <td>8093090.0</td>\n",
       "      <td>71.0</td>\n",
       "      <td>15.0</td>\n",
       "      <td>249.0</td>\n",
       "    </tr>\n",
       "    <tr>\n",
       "      <th>1572</th>\n",
       "      <td>202001.0</td>\n",
       "      <td>Enexis</td>\n",
       "      <td>Noord-Brabant</td>\n",
       "      <td>Loon op Zand</td>\n",
       "      <td>Oost-Loon</td>\n",
       "      <td>8093091.0</td>\n",
       "      <td>146.0</td>\n",
       "      <td>36.0</td>\n",
       "      <td>224.0</td>\n",
       "    </tr>\n",
       "    <tr>\n",
       "      <th>1573</th>\n",
       "      <td>202001.0</td>\n",
       "      <td>Enexis</td>\n",
       "      <td>Noord-Brabant</td>\n",
       "      <td>Loon op Zand</td>\n",
       "      <td>De Moer</td>\n",
       "      <td>8094095.0</td>\n",
       "      <td>277.0</td>\n",
       "      <td>28.0</td>\n",
       "      <td>200.0</td>\n",
       "    </tr>\n",
       "    <tr>\n",
       "      <th>3789</th>\n",
       "      <td>202001.0</td>\n",
       "      <td>Enexis</td>\n",
       "      <td>Noord-Brabant</td>\n",
       "      <td>Best</td>\n",
       "      <td>NaN</td>\n",
       "      <td>NaN</td>\n",
       "      <td>617.0</td>\n",
       "      <td>143.0</td>\n",
       "      <td>739.0</td>\n",
       "    </tr>\n",
       "    <tr>\n",
       "      <th>3820</th>\n",
       "      <td>202001.0</td>\n",
       "      <td>Enexis</td>\n",
       "      <td>Noord-Brabant</td>\n",
       "      <td>Loon op Zand</td>\n",
       "      <td>NaN</td>\n",
       "      <td>NaN</td>\n",
       "      <td>601.0</td>\n",
       "      <td>41.0</td>\n",
       "      <td>241.0</td>\n",
       "    </tr>\n",
       "    <tr>\n",
       "      <th>3835</th>\n",
       "      <td>202001.0</td>\n",
       "      <td>Enexis</td>\n",
       "      <td>Noord-Brabant</td>\n",
       "      <td>'s-Hertogenbosch</td>\n",
       "      <td>t Ven</td>\n",
       "      <td>NaN</td>\n",
       "      <td>908.0</td>\n",
       "      <td>98.0</td>\n",
       "      <td>469.0</td>\n",
       "    </tr>\n",
       "    <tr>\n",
       "      <th>3836</th>\n",
       "      <td>202001.0</td>\n",
       "      <td>Enexis</td>\n",
       "      <td>Noord-Brabant</td>\n",
       "      <td>'s-Hertogenbosch</td>\n",
       "      <td>NaN</td>\n",
       "      <td>NaN</td>\n",
       "      <td>8962.0</td>\n",
       "      <td>741.0</td>\n",
       "      <td>3168.0</td>\n",
       "    </tr>\n",
       "  </tbody>\n",
       "</table>\n",
       "</div>"
      ],
      "text/plain": [
       "      ï»¿Peildatum Netbeheerder      Provincie          Gemeente  \\\n",
       "1507      202001.0       Enexis  Noord-Brabant  's-Hertogenbosch   \n",
       "1508      202001.0       Enexis  Noord-Brabant  's-Hertogenbosch   \n",
       "1509      202001.0       Enexis  Noord-Brabant  's-Hertogenbosch   \n",
       "1510      202001.0       Enexis  Noord-Brabant  's-Hertogenbosch   \n",
       "1511      202001.0       Enexis  Noord-Brabant  's-Hertogenbosch   \n",
       "1512      202001.0       Enexis  Noord-Brabant  's-Hertogenbosch   \n",
       "1513      202001.0       Enexis  Noord-Brabant  's-Hertogenbosch   \n",
       "1514      202001.0       Enexis  Noord-Brabant  's-Hertogenbosch   \n",
       "1515      202001.0       Enexis  Noord-Brabant  's-Hertogenbosch   \n",
       "1516      202001.0       Enexis  Noord-Brabant  's-Hertogenbosch   \n",
       "1517      202001.0       Enexis  Noord-Brabant  's-Hertogenbosch   \n",
       "1518      202001.0       Enexis  Noord-Brabant  's-Hertogenbosch   \n",
       "1519      202001.0       Enexis  Noord-Brabant  's-Hertogenbosch   \n",
       "1520      202001.0       Enexis  Noord-Brabant  's-Hertogenbosch   \n",
       "1521      202001.0       Enexis  Noord-Brabant  's-Hertogenbosch   \n",
       "1522      202001.0       Enexis  Noord-Brabant  's-Hertogenbosch   \n",
       "1523      202001.0       Enexis  Noord-Brabant  's-Hertogenbosch   \n",
       "1524      202001.0       Enexis  Noord-Brabant  's-Hertogenbosch   \n",
       "1525      202001.0       Enexis  Noord-Brabant  's-Hertogenbosch   \n",
       "1526      202001.0       Enexis  Noord-Brabant  's-Hertogenbosch   \n",
       "1548      202001.0       Enexis  Noord-Brabant      Loon op Zand   \n",
       "1549      202001.0       Enexis  Noord-Brabant      Loon op Zand   \n",
       "1550      202001.0       Enexis  Noord-Brabant      Loon op Zand   \n",
       "1551      202001.0       Enexis  Noord-Brabant      Loon op Zand   \n",
       "1552      202001.0       Enexis  Noord-Brabant      Loon op Zand   \n",
       "1553      202001.0       Enexis  Noord-Brabant      Loon op Zand   \n",
       "1554      202001.0       Enexis  Noord-Brabant      Loon op Zand   \n",
       "1555      202001.0       Enexis  Noord-Brabant      Loon op Zand   \n",
       "1556      202001.0       Enexis  Noord-Brabant      Loon op Zand   \n",
       "1557      202001.0       Enexis  Noord-Brabant      Loon op Zand   \n",
       "1558      202001.0       Enexis  Noord-Brabant      Loon op Zand   \n",
       "1559      202001.0       Enexis  Noord-Brabant      Loon op Zand   \n",
       "1560      202001.0       Enexis  Noord-Brabant      Loon op Zand   \n",
       "1561      202001.0       Enexis  Noord-Brabant      Loon op Zand   \n",
       "1562      202001.0       Enexis  Noord-Brabant      Loon op Zand   \n",
       "1563      202001.0       Enexis  Noord-Brabant      Loon op Zand   \n",
       "1564      202001.0       Enexis  Noord-Brabant      Loon op Zand   \n",
       "1565      202001.0       Enexis  Noord-Brabant      Loon op Zand   \n",
       "1566      202001.0       Enexis  Noord-Brabant      Loon op Zand   \n",
       "1567      202001.0       Enexis  Noord-Brabant      Loon op Zand   \n",
       "1568      202001.0       Enexis  Noord-Brabant      Loon op Zand   \n",
       "1569      202001.0       Enexis  Noord-Brabant      Loon op Zand   \n",
       "1570      202001.0       Enexis  Noord-Brabant      Loon op Zand   \n",
       "1571      202001.0       Enexis  Noord-Brabant      Loon op Zand   \n",
       "1572      202001.0       Enexis  Noord-Brabant      Loon op Zand   \n",
       "1573      202001.0       Enexis  Noord-Brabant      Loon op Zand   \n",
       "3789      202001.0       Enexis  Noord-Brabant              Best   \n",
       "3820      202001.0       Enexis  Noord-Brabant      Loon op Zand   \n",
       "3835      202001.0       Enexis  Noord-Brabant  's-Hertogenbosch   \n",
       "3836      202001.0       Enexis  Noord-Brabant  's-Hertogenbosch   \n",
       "\n",
       "                      CBS Buurt   CBS Buurtcode  \\\n",
       "1507                     Lokeren      7961004.0   \n",
       "1508                  Maasstroom      7961005.0   \n",
       "1509        De Staatsliedenbuurt      7961006.0   \n",
       "1510              Het Zilverpark      7961007.0   \n",
       "1511                  Maasvallei      7961008.0   \n",
       "1512                   Maasoever      7961009.0   \n",
       "1513                   Boschveld      7961101.0   \n",
       "1514              Paleiskwartier      7961102.0   \n",
       "1515                    Deuteren      7961104.0   \n",
       "1516               De Schutskamp      7961106.0   \n",
       "1517                De Kruiskamp      7961107.0   \n",
       "1518                     Ertveld      7961111.0   \n",
       "1519                 Kom Engelen      7961201.0   \n",
       "1520                De Haverleij      7961204.0   \n",
       "1521                    Bokhoven      7961205.0   \n",
       "1522                  Kom Nuland      7961301.0   \n",
       "1523                    Heeseind      7961304.0   \n",
       "1524     Landelijk gebied Nuland      7961399.0   \n",
       "1525                  Kom Vinkel      7961401.0   \n",
       "1526     Landelijk gebied Vinkel      7961499.0   \n",
       "1548                   Draaiboom      8091001.0   \n",
       "1549                 Hil (noord)      8091005.0   \n",
       "1550                  Hil (zuid)      8091006.0   \n",
       "1551           Pannenhoef (west)      8091010.0   \n",
       "1552           Pannenhoef (oost)      8091011.0   \n",
       "1553                     Centrum      8091020.0   \n",
       "1554             Schrijversbuurt      8091021.0   \n",
       "1555           Staatsliedenbuurt      8091025.0   \n",
       "1556           Vossenberg (west)      8091030.0   \n",
       "1557           Vossenberg (oost)      8091031.0   \n",
       "1558  De Kets (industrieterrein)      8091035.0   \n",
       "1559                De Zandschel      8091040.0   \n",
       "1560                     De Baan      8091041.0   \n",
       "1561                     Heikant      8092045.0   \n",
       "1562                  Els (oost)      8092049.0   \n",
       "1563                   Rooi Dorp      8092052.0   \n",
       "1564                Loonse Vaart      8092055.0   \n",
       "1565           De Oude Omdraaier      8092058.0   \n",
       "1566             Prinsessenbuurt      8092061.0   \n",
       "1567                    Oud-Loon      8093070.0   \n",
       "1568                  Mussenhoek      8093071.0   \n",
       "1569           Molenwijk (noord)      8093080.0   \n",
       "1570            Molenwijk (zuid)      8093081.0   \n",
       "1571                    Bergeind      8093090.0   \n",
       "1572                   Oost-Loon      8093091.0   \n",
       "1573                     De Moer      8094095.0   \n",
       "3789                         NaN            NaN   \n",
       "3820                         NaN            NaN   \n",
       "3835                       t Ven            NaN   \n",
       "3836                         NaN            NaN   \n",
       "\n",
       "      Aantal aansluitingen in CBS-buurt   \\\n",
       "1507                               669.0   \n",
       "1508                               901.0   \n",
       "1509                               779.0   \n",
       "1510                               827.0   \n",
       "1511                               991.0   \n",
       "1512                              1165.0   \n",
       "1513                              1610.0   \n",
       "1514                              2006.0   \n",
       "1515                               874.0   \n",
       "1516                              2579.0   \n",
       "1517                              3641.0   \n",
       "1518                                81.0   \n",
       "1519                              1112.0   \n",
       "1520                               974.0   \n",
       "1521                               128.0   \n",
       "1522                              1541.0   \n",
       "1523                               146.0   \n",
       "1524                                52.0   \n",
       "1525                               422.0   \n",
       "1526                               418.0   \n",
       "1548                               796.0   \n",
       "1549                               231.0   \n",
       "1550                               283.0   \n",
       "1551                               524.0   \n",
       "1552                               325.0   \n",
       "1553                               287.0   \n",
       "1554                               420.0   \n",
       "1555                               343.0   \n",
       "1556                               417.0   \n",
       "1557                               301.0   \n",
       "1558                               222.0   \n",
       "1559                               279.0   \n",
       "1560                               200.0   \n",
       "1561                               568.0   \n",
       "1562                               199.0   \n",
       "1563                               562.0   \n",
       "1564                               787.0   \n",
       "1565                               211.0   \n",
       "1566                               344.0   \n",
       "1567                              1284.0   \n",
       "1568                               158.0   \n",
       "1569                               615.0   \n",
       "1570                               589.0   \n",
       "1571                                71.0   \n",
       "1572                               146.0   \n",
       "1573                               277.0   \n",
       "3789                               617.0   \n",
       "3820                               601.0   \n",
       "3835                               908.0   \n",
       "3836                              8962.0   \n",
       "\n",
       "      Aantal aansluitingen met opwekinstallatie  Opgesteld vermogen  \n",
       "1507                                       53.0               166.0  \n",
       "1508                                      112.0               275.0  \n",
       "1509                                       88.0               295.0  \n",
       "1510                                      105.0               405.0  \n",
       "1511                                      100.0               314.0  \n",
       "1512                                      143.0               563.0  \n",
       "1513                                      154.0               295.0  \n",
       "1514                                       10.0                51.0  \n",
       "1515                                       52.0               177.0  \n",
       "1516                                       98.0               331.0  \n",
       "1517                                      188.0               819.0  \n",
       "1518                                       12.0                47.0  \n",
       "1519                                      178.0               826.0  \n",
       "1520                                      124.0               389.0  \n",
       "1521                                       28.0               148.0  \n",
       "1522                                      246.0              1233.0  \n",
       "1523                                       27.0               172.0  \n",
       "1524                                       10.0               154.0  \n",
       "1525                                       77.0               438.0  \n",
       "1526                                       71.0               640.0  \n",
       "1548                                       97.0               391.0  \n",
       "1549                                       27.0                84.0  \n",
       "1550                                       34.0               135.0  \n",
       "1551                                       24.0               103.0  \n",
       "1552                                       18.0                93.0  \n",
       "1553                                       13.0                59.0  \n",
       "1554                                       30.0               112.0  \n",
       "1555                                       29.0               149.0  \n",
       "1556                                       36.0               174.0  \n",
       "1557                                       27.0               150.0  \n",
       "1558                                       10.0               167.0  \n",
       "1559                                       27.0               190.0  \n",
       "1560                                       29.0               154.0  \n",
       "1561                                       48.0               175.0  \n",
       "1562                                       15.0                77.0  \n",
       "1563                                      125.0               249.0  \n",
       "1564                                       75.0               219.0  \n",
       "1565                                       35.0               163.0  \n",
       "1566                                       74.0               362.0  \n",
       "1567                                      104.0               480.0  \n",
       "1568                                       30.0               148.0  \n",
       "1569                                       69.0               234.0  \n",
       "1570                                       49.0               174.0  \n",
       "1571                                       15.0               249.0  \n",
       "1572                                       36.0               224.0  \n",
       "1573                                       28.0               200.0  \n",
       "3789                                      143.0               739.0  \n",
       "3820                                       41.0               241.0  \n",
       "3835                                       98.0               469.0  \n",
       "3836                                      741.0              3168.0  "
      ]
     },
     "execution_count": 10,
     "metadata": {},
     "output_type": "execute_result"
    }
   ],
   "source": [
    "df_decentral_generation.tail(50)"
   ]
  },
  {
   "cell_type": "markdown",
   "metadata": {
    "cell_id": "dda2c276e5b449b9be4f6710b9d2eb8f",
    "deepnote_cell_type": "text-cell-p",
    "is_collapsed": false,
    "tags": []
   },
   "source": [
    "Do the same for the generative power ('opgesteld vermogen'):"
   ]
  },
  {
   "cell_type": "code",
   "execution_count": 11,
   "metadata": {
    "cell_id": "98f216a4fbed424399a2e3414bc07c82",
    "deepnote_cell_height": 356.953125,
    "deepnote_cell_type": "code",
    "deepnote_output_heights": [
     97.96875
    ],
    "deepnote_to_be_reexecuted": false,
    "execution_millis": 2,
    "execution_start": 1652893412356,
    "source_hash": "f57234ca",
    "tags": []
   },
   "outputs": [
    {
     "data": {
      "text/plain": [
       "Gemeente\n",
       "'s-Hertogenbosch    25406.0\n",
       "Best                10147.0\n",
       "Loon op Zand         5156.0\n",
       "Name: Opgesteld vermogen, dtype: float64"
      ]
     },
     "execution_count": 11,
     "metadata": {},
     "output_type": "execute_result"
    }
   ],
   "source": [
    "df_decentral_generation = df_decentral_generation[    \n",
    "    (df_decentral_generation['Gemeente']=='Best') |\n",
    "    (df_decentral_generation['Gemeente']=='Arnhem') |\n",
    "    (df_decentral_generation['Gemeente']==\"'s-Hertogenbosch\") |\n",
    "    (df_decentral_generation['Gemeente']=='Loon op Zand') \n",
    "]\n",
    "\n",
    "totalNumberOfPVConnections = df_decentral_generation.groupby('Gemeente')['Opgesteld vermogen'].sum()\n",
    "\n",
    "totalNumberOfPVConnections"
   ]
  },
  {
   "cell_type": "markdown",
   "metadata": {
    "cell_id": "68af80f61b934b0c9cb164028fbbb0d3",
    "deepnote_cell_type": "text-cell-p",
    "is_collapsed": false,
    "tags": []
   },
   "source": [
    "Add the data to the CBS data and create one graph from it."
   ]
  },
  {
   "cell_type": "code",
   "execution_count": 39,
   "metadata": {
    "cell_id": "2637c0b5e3ef4ed788cc01249d66773b",
    "deepnote_cell_height": 717.875,
    "deepnote_cell_type": "code",
    "deepnote_to_be_reexecuted": false,
    "execution_millis": 55,
    "execution_start": 1652896089743,
    "source_hash": "80ee2e7a",
    "tags": []
   },
   "outputs": [
    {
     "data": {
      "application/vnd.deepnote.dataframe.v3+json": {
       "column_count": 6,
       "columns": [
        {
         "dtype": "int64",
         "name": "ID",
         "stats": {
          "histogram": [
           {
            "bin_end": 11244.1,
            "bin_start": 4950,
            "count": 2
           },
           {
            "bin_end": 17538.2,
            "bin_start": 11244.1,
            "count": 0
           },
           {
            "bin_end": 23832.300000000003,
            "bin_start": 17538.2,
            "count": 0
           },
           {
            "bin_end": 30126.4,
            "bin_start": 23832.300000000003,
            "count": 0
           },
           {
            "bin_end": 36420.5,
            "bin_start": 30126.4,
            "count": 0
           },
           {
            "bin_end": 42714.600000000006,
            "bin_start": 36420.5,
            "count": 0
           },
           {
            "bin_end": 49008.700000000004,
            "bin_start": 42714.600000000006,
            "count": 0
           },
           {
            "bin_end": 55302.8,
            "bin_start": 49008.700000000004,
            "count": 0
           },
           {
            "bin_end": 61596.9,
            "bin_start": 55302.8,
            "count": 0
           },
           {
            "bin_end": 67891,
            "bin_start": 61596.9,
            "count": 3
           }
          ],
          "max": "67891",
          "min": "4950",
          "nan_count": 0,
          "unique_count": 4
         }
        },
        {
         "dtype": "object",
         "name": "BedrijfstakkenWoningen",
         "stats": {
          "categories": [
           {
            "count": 5,
            "name": "Woningen"
           }
          ],
          "nan_count": 0,
          "unique_count": 1
         }
        },
        {
         "dtype": "object",
         "name": "RegioS",
         "stats": {
          "categories": [
           {
            "count": 2,
            "name": "Loon op Zand"
           },
           {
            "count": 1,
            "name": "Best (Enexis 1-1-2020)"
           },
           {
            "count": 2,
            "name": "2 others"
           }
          ],
          "nan_count": 0,
          "unique_count": 4
         }
        },
        {
         "dtype": "object",
         "name": "Perioden",
         "stats": {
          "categories": [
           {
            "count": 3,
            "name": "Enexis 1-1-2020"
           },
           {
            "count": 1,
            "name": "2018"
           },
           {
            "count": 1,
            "name": "2019"
           }
          ],
          "nan_count": 0,
          "unique_count": 3
         }
        },
        {
         "dtype": "float64",
         "name": "AantalInstallaties_1",
         "stats": {
          "histogram": [
           {
            "bin_end": 1318.1,
            "bin_start": 761,
            "count": 3
           },
           {
            "bin_end": 1875.2,
            "bin_start": 1318.1,
            "count": 0
           },
           {
            "bin_end": 2432.3,
            "bin_start": 1875.2,
            "count": 0
           },
           {
            "bin_end": 2989.4,
            "bin_start": 2432.3,
            "count": 1
           },
           {
            "bin_end": 3546.5,
            "bin_start": 2989.4,
            "count": 0
           },
           {
            "bin_end": 4103.6,
            "bin_start": 3546.5,
            "count": 0
           },
           {
            "bin_end": 4660.700000000001,
            "bin_start": 4103.6,
            "count": 0
           },
           {
            "bin_end": 5217.8,
            "bin_start": 4660.700000000001,
            "count": 0
           },
           {
            "bin_end": 5774.900000000001,
            "bin_start": 5217.8,
            "count": 0
           },
           {
            "bin_end": 6332,
            "bin_start": 5774.900000000001,
            "count": 1
           }
          ],
          "max": "6332.0",
          "min": "761.0",
          "nan_count": 0,
          "unique_count": 5
         }
        },
        {
         "dtype": "float64",
         "name": "OpgesteldVermogenVanZonnepanelen_2",
         "stats": {
          "histogram": [
           {
            "bin_end": 4942.7,
            "bin_start": 2669,
            "count": 2
           },
           {
            "bin_end": 7216.4,
            "bin_start": 4942.7,
            "count": 1
           },
           {
            "bin_end": 9490.099999999999,
            "bin_start": 7216.4,
            "count": 0
           },
           {
            "bin_end": 11763.8,
            "bin_start": 9490.099999999999,
            "count": 1
           },
           {
            "bin_end": 14037.5,
            "bin_start": 11763.8,
            "count": 0
           },
           {
            "bin_end": 16311.199999999999,
            "bin_start": 14037.5,
            "count": 0
           },
           {
            "bin_end": 18584.899999999998,
            "bin_start": 16311.199999999999,
            "count": 0
           },
           {
            "bin_end": 20858.6,
            "bin_start": 18584.899999999998,
            "count": 0
           },
           {
            "bin_end": 23132.3,
            "bin_start": 20858.6,
            "count": 0
           },
           {
            "bin_end": 25406,
            "bin_start": 23132.3,
            "count": 1
           }
          ],
          "max": "25406.0",
          "min": "2669.0",
          "nan_count": 0,
          "unique_count": 5
         }
        },
        {
         "dtype": "int64",
         "name": "_deepnote_index_column"
        }
       ],
       "row_count": 5,
       "rows": [
        {
         "AantalInstallaties_1": 761,
         "BedrijfstakkenWoningen": "Woningen",
         "ID": 4950,
         "OpgesteldVermogenVanZonnepanelen_2": 2669,
         "Perioden": "2018",
         "RegioS": "Loon op Zand",
         "_deepnote_index_column": 30
        },
        {
         "AantalInstallaties_1": 1042,
         "BedrijfstakkenWoningen": "Woningen",
         "ID": 4951,
         "OpgesteldVermogenVanZonnepanelen_2": 3914,
         "Perioden": "2019",
         "RegioS": "Loon op Zand",
         "_deepnote_index_column": 31
        },
        {
         "AantalInstallaties_1": 2478,
         "BedrijfstakkenWoningen": "Woningen",
         "ID": 67890,
         "OpgesteldVermogenVanZonnepanelen_2": 10147,
         "Perioden": "Enexis 1-1-2020",
         "RegioS": "Best (Enexis 1-1-2020)",
         "_deepnote_index_column": 32
        },
        {
         "AantalInstallaties_1": 6332,
         "BedrijfstakkenWoningen": "Woningen",
         "ID": 67891,
         "OpgesteldVermogenVanZonnepanelen_2": 25406,
         "Perioden": "Enexis 1-1-2020",
         "RegioS": "'s-Hertogenbosch (Enexis 1-1-2020)",
         "_deepnote_index_column": 33
        },
        {
         "AantalInstallaties_1": 1145,
         "BedrijfstakkenWoningen": "Woningen",
         "ID": 67891,
         "OpgesteldVermogenVanZonnepanelen_2": 5156,
         "Perioden": "Enexis 1-1-2020",
         "RegioS": "Loon op Zand (Enexis 1-1-2020)",
         "_deepnote_index_column": 34
        }
       ]
      },
      "text/html": [
       "<div>\n",
       "<style scoped>\n",
       "    .dataframe tbody tr th:only-of-type {\n",
       "        vertical-align: middle;\n",
       "    }\n",
       "\n",
       "    .dataframe tbody tr th {\n",
       "        vertical-align: top;\n",
       "    }\n",
       "\n",
       "    .dataframe thead th {\n",
       "        text-align: right;\n",
       "    }\n",
       "</style>\n",
       "<table border=\"1\" class=\"dataframe\">\n",
       "  <thead>\n",
       "    <tr style=\"text-align: right;\">\n",
       "      <th></th>\n",
       "      <th>ID</th>\n",
       "      <th>BedrijfstakkenWoningen</th>\n",
       "      <th>RegioS</th>\n",
       "      <th>Perioden</th>\n",
       "      <th>AantalInstallaties_1</th>\n",
       "      <th>OpgesteldVermogenVanZonnepanelen_2</th>\n",
       "    </tr>\n",
       "  </thead>\n",
       "  <tbody>\n",
       "    <tr>\n",
       "      <th>30</th>\n",
       "      <td>4950</td>\n",
       "      <td>Woningen</td>\n",
       "      <td>Loon op Zand</td>\n",
       "      <td>2018</td>\n",
       "      <td>761.0</td>\n",
       "      <td>2669.0</td>\n",
       "    </tr>\n",
       "    <tr>\n",
       "      <th>31</th>\n",
       "      <td>4951</td>\n",
       "      <td>Woningen</td>\n",
       "      <td>Loon op Zand</td>\n",
       "      <td>2019</td>\n",
       "      <td>1042.0</td>\n",
       "      <td>3914.0</td>\n",
       "    </tr>\n",
       "    <tr>\n",
       "      <th>32</th>\n",
       "      <td>67890</td>\n",
       "      <td>Woningen</td>\n",
       "      <td>Best (Enexis 1-1-2020)</td>\n",
       "      <td>Enexis 1-1-2020</td>\n",
       "      <td>2478.0</td>\n",
       "      <td>10147.0</td>\n",
       "    </tr>\n",
       "    <tr>\n",
       "      <th>33</th>\n",
       "      <td>67891</td>\n",
       "      <td>Woningen</td>\n",
       "      <td>'s-Hertogenbosch (Enexis 1-1-2020)</td>\n",
       "      <td>Enexis 1-1-2020</td>\n",
       "      <td>6332.0</td>\n",
       "      <td>25406.0</td>\n",
       "    </tr>\n",
       "    <tr>\n",
       "      <th>34</th>\n",
       "      <td>67891</td>\n",
       "      <td>Woningen</td>\n",
       "      <td>Loon op Zand (Enexis 1-1-2020)</td>\n",
       "      <td>Enexis 1-1-2020</td>\n",
       "      <td>1145.0</td>\n",
       "      <td>5156.0</td>\n",
       "    </tr>\n",
       "  </tbody>\n",
       "</table>\n",
       "</div>"
      ],
      "text/plain": [
       "       ID BedrijfstakkenWoningen                              RegioS  \\\n",
       "30   4950               Woningen                        Loon op Zand   \n",
       "31   4951               Woningen                        Loon op Zand   \n",
       "32  67890               Woningen              Best (Enexis 1-1-2020)   \n",
       "33  67891               Woningen  's-Hertogenbosch (Enexis 1-1-2020)   \n",
       "34  67891               Woningen      Loon op Zand (Enexis 1-1-2020)   \n",
       "\n",
       "           Perioden  AantalInstallaties_1  OpgesteldVermogenVanZonnepanelen_2  \n",
       "30             2018                 761.0                              2669.0  \n",
       "31             2019                1042.0                              3914.0  \n",
       "32  Enexis 1-1-2020                2478.0                             10147.0  \n",
       "33  Enexis 1-1-2020                6332.0                             25406.0  \n",
       "34  Enexis 1-1-2020                1145.0                              5156.0  "
      ]
     },
     "execution_count": 39,
     "metadata": {},
     "output_type": "execute_result"
    }
   ],
   "source": [
    "bestRow = {\"ID\":67890, \"BedrijfstakkenWoningen\":\"Woningen\",\n",
    " \"RegioS\":\"Best (Enexis 1-1-2020)\", \"Perioden\":\"Enexis 1-1-2020\",\n",
    " \"AantalInstallaties_1\":2478.0, \"OpgesteldVermogenVanZonnepanelen_2\":10147.0}\n",
    "\n",
    "sHertogenboschRow = {\"ID\":67891, \"BedrijfstakkenWoningen\":\"Woningen\",\n",
    " \"RegioS\":\"'s-Hertogenbosch (Enexis 1-1-2020)\", \"Perioden\":\"Enexis 1-1-2020\",\n",
    " \"AantalInstallaties_1\":6332.0, \"OpgesteldVermogenVanZonnepanelen_2\":25406}\n",
    "\n",
    "loonOpZandRow = {\"ID\":67891, \"BedrijfstakkenWoningen\":\"Woningen\",\n",
    " \"RegioS\":\"Loon op Zand (Enexis 1-1-2020)\", \"Perioden\":\"Enexis 1-1-2020\",\n",
    " \"AantalInstallaties_1\":1145.0, \"OpgesteldVermogenVanZonnepanelen_2\":5156.0}\n",
    "\n",
    "df = df_zonnestroom_2019.append(bestRow, ignore_index=True)\n",
    "df = df.append(sHertogenboschRow, ignore_index=True)\n",
    "df = df.append(loonOpZandRow, ignore_index=True)\n",
    "\n",
    "df.tail()\n"
   ]
  },
  {
   "cell_type": "code",
   "execution_count": 43,
   "metadata": {
    "cell_id": "d0e92fb819af4e7085f2b84a616ed140",
    "deepnote_app_coordinates": {
     "h": 5,
     "w": 12,
     "x": 0,
     "y": 0
    },
    "deepnote_cell_height": 919.53125,
    "deepnote_cell_type": "code",
    "deepnote_output_heights": [
     606.546875
    ],
    "deepnote_to_be_reexecuted": false,
    "execution_millis": 45,
    "execution_start": 1652896626692,
    "source_hash": "d7ef9226",
    "tags": []
   },
   "outputs": [
    {
     "data": {
      "text/html": [
       "\n",
       "<div id=\"altair-viz-b28196625d9f4c89a3cb4668d594bc33\"></div>\n",
       "<script type=\"text/javascript\">\n",
       "  var VEGA_DEBUG = (typeof VEGA_DEBUG == \"undefined\") ? {} : VEGA_DEBUG;\n",
       "  (function(spec, embedOpt){\n",
       "    let outputDiv = document.currentScript.previousElementSibling;\n",
       "    if (outputDiv.id !== \"altair-viz-b28196625d9f4c89a3cb4668d594bc33\") {\n",
       "      outputDiv = document.getElementById(\"altair-viz-b28196625d9f4c89a3cb4668d594bc33\");\n",
       "    }\n",
       "    const paths = {\n",
       "      \"vega\": \"https://cdn.jsdelivr.net/npm//vega@5?noext\",\n",
       "      \"vega-lib\": \"https://cdn.jsdelivr.net/npm//vega-lib?noext\",\n",
       "      \"vega-lite\": \"https://cdn.jsdelivr.net/npm//vega-lite@4.17.0?noext\",\n",
       "      \"vega-embed\": \"https://cdn.jsdelivr.net/npm//vega-embed@6?noext\",\n",
       "    };\n",
       "\n",
       "    function maybeLoadScript(lib, version) {\n",
       "      var key = `${lib.replace(\"-\", \"\")}_version`;\n",
       "      return (VEGA_DEBUG[key] == version) ?\n",
       "        Promise.resolve(paths[lib]) :\n",
       "        new Promise(function(resolve, reject) {\n",
       "          var s = document.createElement('script');\n",
       "          document.getElementsByTagName(\"head\")[0].appendChild(s);\n",
       "          s.async = true;\n",
       "          s.onload = () => {\n",
       "            VEGA_DEBUG[key] = version;\n",
       "            return resolve(paths[lib]);\n",
       "          };\n",
       "          s.onerror = () => reject(`Error loading script: ${paths[lib]}`);\n",
       "          s.src = paths[lib];\n",
       "        });\n",
       "    }\n",
       "\n",
       "    function showError(err) {\n",
       "      outputDiv.innerHTML = `<div class=\"error\" style=\"color:red;\">${err}</div>`;\n",
       "      throw err;\n",
       "    }\n",
       "\n",
       "    function displayChart(vegaEmbed) {\n",
       "      vegaEmbed(outputDiv, spec, embedOpt)\n",
       "        .catch(err => showError(`Javascript Error: ${err.message}<br>This usually means there's a typo in your chart specification. See the javascript console for the full traceback.`));\n",
       "    }\n",
       "\n",
       "    if(typeof define === \"function\" && define.amd) {\n",
       "      requirejs.config({paths});\n",
       "      require([\"vega-embed\"], displayChart, err => showError(`Error loading script: ${err.message}`));\n",
       "    } else {\n",
       "      maybeLoadScript(\"vega\", \"5\")\n",
       "        .then(() => maybeLoadScript(\"vega-lite\", \"4.17.0\"))\n",
       "        .then(() => maybeLoadScript(\"vega-embed\", \"6\"))\n",
       "        .catch(showError)\n",
       "        .then(() => displayChart(vegaEmbed));\n",
       "    }\n",
       "  })({\"config\": {\"view\": {\"continuousWidth\": 400, \"continuousHeight\": 300}}, \"repeat\": {\"column\": [\"Perioden\"], \"row\": [\"AantalInstallaties_1\", \"OpgesteldVermogenVanZonnepanelen_2\"]}, \"spec\": {\"data\": {\"name\": \"data-26078948ea1e8d33a8073fcd46b8d49f\"}, \"mark\": \"point\", \"encoding\": {\"color\": {\"field\": \"RegioS\", \"type\": \"nominal\"}, \"x\": {\"field\": {\"repeat\": \"column\"}, \"title\": \"Year\", \"type\": \"ordinal\"}, \"y\": {\"field\": {\"repeat\": \"row\"}, \"type\": \"quantitative\"}}, \"height\": 190, \"width\": 375}, \"$schema\": \"https://vega.github.io/schema/vega-lite/v4.17.0.json\", \"datasets\": {\"data-26078948ea1e8d33a8073fcd46b8d49f\": [{\"ID\": 3672, \"BedrijfstakkenWoningen\": \"Woningen\", \"RegioS\": \"Arnhem\", \"Perioden\": \"2012\", \"AantalInstallaties_1\": 336.0, \"OpgesteldVermogenVanZonnepanelen_2\": 694.0}, {\"ID\": 3673, \"BedrijfstakkenWoningen\": \"Woningen\", \"RegioS\": \"Arnhem\", \"Perioden\": \"2013\", \"AantalInstallaties_1\": 778.0, \"OpgesteldVermogenVanZonnepanelen_2\": 2005.0}, {\"ID\": 3674, \"BedrijfstakkenWoningen\": \"Woningen\", \"RegioS\": \"Arnhem\", \"Perioden\": \"2014\", \"AantalInstallaties_1\": 1135.0, \"OpgesteldVermogenVanZonnepanelen_2\": 3124.0}, {\"ID\": 3675, \"BedrijfstakkenWoningen\": \"Woningen\", \"RegioS\": \"Arnhem\", \"Perioden\": \"2015\", \"AantalInstallaties_1\": 1772.0, \"OpgesteldVermogenVanZonnepanelen_2\": 4619.0}, {\"ID\": 3676, \"BedrijfstakkenWoningen\": \"Woningen\", \"RegioS\": \"Arnhem\", \"Perioden\": \"2016\", \"AantalInstallaties_1\": 2530.0, \"OpgesteldVermogenVanZonnepanelen_2\": 7197.0}, {\"ID\": 3677, \"BedrijfstakkenWoningen\": \"Woningen\", \"RegioS\": \"Arnhem\", \"Perioden\": \"2017\", \"AantalInstallaties_1\": 3182.0, \"OpgesteldVermogenVanZonnepanelen_2\": 9199.0}, {\"ID\": 3678, \"BedrijfstakkenWoningen\": \"Woningen\", \"RegioS\": \"Arnhem\", \"Perioden\": \"2018\", \"AantalInstallaties_1\": 4952.0, \"OpgesteldVermogenVanZonnepanelen_2\": 14754.0}, {\"ID\": 3679, \"BedrijfstakkenWoningen\": \"Woningen\", \"RegioS\": \"Arnhem\", \"Perioden\": \"2019\", \"AantalInstallaties_1\": 6384.0, \"OpgesteldVermogenVanZonnepanelen_2\": 20182.0}, {\"ID\": 3816, \"BedrijfstakkenWoningen\": \"Woningen\", \"RegioS\": \"Best\", \"Perioden\": \"2012\", \"AantalInstallaties_1\": 81.0, \"OpgesteldVermogenVanZonnepanelen_2\": 253.0}, {\"ID\": 3817, \"BedrijfstakkenWoningen\": \"Woningen\", \"RegioS\": \"Best\", \"Perioden\": \"2013\", \"AantalInstallaties_1\": 290.0, \"OpgesteldVermogenVanZonnepanelen_2\": 1054.0}, {\"ID\": 3818, \"BedrijfstakkenWoningen\": \"Woningen\", \"RegioS\": \"Best\", \"Perioden\": \"2014\", \"AantalInstallaties_1\": 462.0, \"OpgesteldVermogenVanZonnepanelen_2\": 1630.0}, {\"ID\": 3819, \"BedrijfstakkenWoningen\": \"Woningen\", \"RegioS\": \"Best\", \"Perioden\": \"2015\", \"AantalInstallaties_1\": 597.0, \"OpgesteldVermogenVanZonnepanelen_2\": 2224.0}, {\"ID\": 3820, \"BedrijfstakkenWoningen\": \"Woningen\", \"RegioS\": \"Best\", \"Perioden\": \"2016\", \"AantalInstallaties_1\": 738.0, \"OpgesteldVermogenVanZonnepanelen_2\": 2727.0}, {\"ID\": 3821, \"BedrijfstakkenWoningen\": \"Woningen\", \"RegioS\": \"Best\", \"Perioden\": \"2017\", \"AantalInstallaties_1\": 1023.0, \"OpgesteldVermogenVanZonnepanelen_2\": 3813.0}, {\"ID\": 3822, \"BedrijfstakkenWoningen\": \"Woningen\", \"RegioS\": \"Best\", \"Perioden\": \"2018\", \"AantalInstallaties_1\": 1549.0, \"OpgesteldVermogenVanZonnepanelen_2\": 5660.0}, {\"ID\": 3823, \"BedrijfstakkenWoningen\": \"Woningen\", \"RegioS\": \"Best\", \"Perioden\": \"2019\", \"AantalInstallaties_1\": 2444.0, \"OpgesteldVermogenVanZonnepanelen_2\": 9138.0}, {\"ID\": 4608, \"BedrijfstakkenWoningen\": \"Woningen\", \"RegioS\": \"'s-Hertogenbosch\", \"Perioden\": \"2012\", \"AantalInstallaties_1\": 371.0, \"OpgesteldVermogenVanZonnepanelen_2\": 985.0}, {\"ID\": 4609, \"BedrijfstakkenWoningen\": \"Woningen\", \"RegioS\": \"'s-Hertogenbosch\", \"Perioden\": \"2013\", \"AantalInstallaties_1\": 901.0, \"OpgesteldVermogenVanZonnepanelen_2\": 2859.0}, {\"ID\": 4610, \"BedrijfstakkenWoningen\": \"Woningen\", \"RegioS\": \"'s-Hertogenbosch\", \"Perioden\": \"2014\", \"AantalInstallaties_1\": 1270.0, \"OpgesteldVermogenVanZonnepanelen_2\": 4269.0}, {\"ID\": 4611, \"BedrijfstakkenWoningen\": \"Woningen\", \"RegioS\": \"'s-Hertogenbosch\", \"Perioden\": \"2015\", \"AantalInstallaties_1\": 1687.0, \"OpgesteldVermogenVanZonnepanelen_2\": 5748.0}, {\"ID\": 4612, \"BedrijfstakkenWoningen\": \"Woningen\", \"RegioS\": \"'s-Hertogenbosch\", \"Perioden\": \"2016\", \"AantalInstallaties_1\": 2170.0, \"OpgesteldVermogenVanZonnepanelen_2\": 7464.0}, {\"ID\": 4613, \"BedrijfstakkenWoningen\": \"Woningen\", \"RegioS\": \"'s-Hertogenbosch\", \"Perioden\": \"2017\", \"AantalInstallaties_1\": 2910.0, \"OpgesteldVermogenVanZonnepanelen_2\": 9936.0}, {\"ID\": 4614, \"BedrijfstakkenWoningen\": \"Woningen\", \"RegioS\": \"'s-Hertogenbosch\", \"Perioden\": \"2018\", \"AantalInstallaties_1\": 4103.0, \"OpgesteldVermogenVanZonnepanelen_2\": 14162.0}, {\"ID\": 4615, \"BedrijfstakkenWoningen\": \"Woningen\", \"RegioS\": \"'s-Hertogenbosch\", \"Perioden\": \"2019\", \"AantalInstallaties_1\": 6245.0, \"OpgesteldVermogenVanZonnepanelen_2\": 22106.0}, {\"ID\": 4944, \"BedrijfstakkenWoningen\": \"Woningen\", \"RegioS\": \"Loon op Zand\", \"Perioden\": \"2012\", \"AantalInstallaties_1\": 62.0, \"OpgesteldVermogenVanZonnepanelen_2\": 196.0}, {\"ID\": 4945, \"BedrijfstakkenWoningen\": \"Woningen\", \"RegioS\": \"Loon op Zand\", \"Perioden\": \"2013\", \"AantalInstallaties_1\": 138.0, \"OpgesteldVermogenVanZonnepanelen_2\": 491.0}, {\"ID\": 4946, \"BedrijfstakkenWoningen\": \"Woningen\", \"RegioS\": \"Loon op Zand\", \"Perioden\": \"2014\", \"AantalInstallaties_1\": 209.0, \"OpgesteldVermogenVanZonnepanelen_2\": 772.0}, {\"ID\": 4947, \"BedrijfstakkenWoningen\": \"Woningen\", \"RegioS\": \"Loon op Zand\", \"Perioden\": \"2015\", \"AantalInstallaties_1\": 274.0, \"OpgesteldVermogenVanZonnepanelen_2\": 1062.0}, {\"ID\": 4948, \"BedrijfstakkenWoningen\": \"Woningen\", \"RegioS\": \"Loon op Zand\", \"Perioden\": \"2016\", \"AantalInstallaties_1\": 379.0, \"OpgesteldVermogenVanZonnepanelen_2\": 1424.0}, {\"ID\": 4949, \"BedrijfstakkenWoningen\": \"Woningen\", \"RegioS\": \"Loon op Zand\", \"Perioden\": \"2017\", \"AantalInstallaties_1\": 527.0, \"OpgesteldVermogenVanZonnepanelen_2\": 1878.0}, {\"ID\": 4950, \"BedrijfstakkenWoningen\": \"Woningen\", \"RegioS\": \"Loon op Zand\", \"Perioden\": \"2018\", \"AantalInstallaties_1\": 761.0, \"OpgesteldVermogenVanZonnepanelen_2\": 2669.0}, {\"ID\": 4951, \"BedrijfstakkenWoningen\": \"Woningen\", \"RegioS\": \"Loon op Zand\", \"Perioden\": \"2019\", \"AantalInstallaties_1\": 1042.0, \"OpgesteldVermogenVanZonnepanelen_2\": 3914.0}, {\"ID\": 67890, \"BedrijfstakkenWoningen\": \"Woningen\", \"RegioS\": \"Best (Enexis 1-1-2020)\", \"Perioden\": \"Enexis 1-1-2020\", \"AantalInstallaties_1\": 2478.0, \"OpgesteldVermogenVanZonnepanelen_2\": 10147.0}, {\"ID\": 67891, \"BedrijfstakkenWoningen\": \"Woningen\", \"RegioS\": \"'s-Hertogenbosch (Enexis 1-1-2020)\", \"Perioden\": \"Enexis 1-1-2020\", \"AantalInstallaties_1\": 6332.0, \"OpgesteldVermogenVanZonnepanelen_2\": 25406.0}, {\"ID\": 67891, \"BedrijfstakkenWoningen\": \"Woningen\", \"RegioS\": \"Loon op Zand (Enexis 1-1-2020)\", \"Perioden\": \"Enexis 1-1-2020\", \"AantalInstallaties_1\": 1145.0, \"OpgesteldVermogenVanZonnepanelen_2\": 5156.0}]}}, {\"mode\": \"vega-lite\"});\n",
       "</script>"
      ],
      "text/plain": [
       "alt.RepeatChart(...)"
      ]
     },
     "execution_count": 43,
     "metadata": {},
     "output_type": "execute_result"
    }
   ],
   "source": [
    "combinedDataChart = alt.Chart(df).mark_point().encode(\n",
    "    alt.X(alt.repeat(\"column\"), type='ordinal', title='Year'),\n",
    "    alt.Y(alt.repeat(\"row\"), type='quantitative'),\n",
    "    color='RegioS:N'\n",
    ").properties(\n",
    "    width=375,\n",
    "    height=190\n",
    ").repeat(\n",
    "    column=['Perioden'],\n",
    "    row=['AantalInstallaties_1', 'OpgesteldVermogenVanZonnepanelen_2'],\n",
    "    \n",
    ")\n",
    "combinedDataChart"
   ]
  },
  {
   "cell_type": "markdown",
   "metadata": {
    "cell_id": "a6081b9215614540a96011be8f00a6c8",
    "deepnote_app_coordinates": {
     "h": 3,
     "w": 12,
     "x": 0,
     "y": 108
    },
    "deepnote_cell_type": "text-cell-h2",
    "is_collapsed": false,
    "tags": []
   },
   "source": [
    "## Observations:"
   ]
  },
  {
   "cell_type": "markdown",
   "metadata": {
    "cell_id": "b2b16c9fed424e2f8c1fe92ad593fab0",
    "deepnote_app_coordinates": {
     "h": 2,
     "w": 8,
     "x": 0,
     "y": 131
    },
    "deepnote_cell_type": "text-cell-p",
    "is_collapsed": false,
    "tags": []
   },
   "source": [
    "Comparing municipalities shows the same general form of the data, depending mainly on the size of the municipality."
   ]
  },
  {
   "cell_type": "markdown",
   "metadata": {
    "cell_id": "7c3d7bc55fed49d88ab4827e8687f392",
    "deepnote_app_coordinates": {
     "h": 2,
     "w": 8,
     "x": 0,
     "y": 128
    },
    "deepnote_cell_type": "text-cell-p",
    "is_collapsed": false,
    "tags": []
   },
   "source": [
    "The CBS zonnestroom data 2019 accounts for the data of all of 2019, up to 31-12-2019. The Enexis data is of 1-1-2020, so these values (even though they are spaced 'a year' apart, are about the same information. In the graphs there is no value for Arnhem on 1-1-2020, that is because it is not in the Enexis service area."
   ]
  },
  {
   "cell_type": "markdown",
   "metadata": {
    "cell_id": "49d7b1413dd34a5eb335750cd554299b",
    "deepnote_app_coordinates": {
     "h": 2,
     "w": 8,
     "x": 0,
     "y": 125
    },
    "deepnote_cell_type": "text-cell-p",
    "is_collapsed": false,
    "owner_user_id": "3a407f58-94ec-4c0a-b0a5-c938869484b1",
    "tags": []
   },
   "source": [
    "For the municipalities observed, we see close alignment between the CBS zonnestroom and Enexis data for the number of installations. For the installed power we see that the Enexis values are slightly higher."
   ]
  },
  {
   "cell_type": "markdown",
   "metadata": {
    "created_in_deepnote_cell": true,
    "deepnote_cell_type": "markdown",
    "tags": []
   },
   "source": [
    "<a style='text-decoration:none;line-height:16px;display:flex;color:#5B5B62;padding:10px;justify-content:end;' href='https://deepnote.com?utm_source=created-in-deepnote-cell&projectId=d0604020-40e6-4d7d-a2ba-74ef2b385723' target=\"_blank\">\n",
    "<img alt='Created in deepnote.com' style='display:inline;max-height:16px;margin:0px;margin-right:7.5px;' src='data:image/svg+xml;base64,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' > </img>\n",
    "Created in <span style='font-weight:600;margin-left:4px;'>Deepnote</span></a>"
   ]
  }
 ],
 "metadata": {
  "deepnote": {},
  "deepnote_app_layout": "article",
  "deepnote_execution_queue": [],
  "deepnote_notebook_id": "1390749e-c47b-42ca-940b-336d0fe94e64",
  "interpreter": {
   "hash": "1c56e9006d6b5ce0cef094ebbdbeb39503cd74f132401754f80b9c283ab9d6f3"
  },
  "kernelspec": {
   "display_name": "Python 3.9.7 ('base')",
   "language": "python",
   "name": "python3"
  },
  "language_info": {
   "codemirror_mode": {
    "name": "ipython",
    "version": 3
   },
   "file_extension": ".py",
   "mimetype": "text/x-python",
   "name": "python",
   "nbconvert_exporter": "python",
   "pygments_lexer": "ipython3",
   "version": "3.9.7"
  },
  "orig_nbformat": 4
 },
 "nbformat": 4,
 "nbformat_minor": 2
}
