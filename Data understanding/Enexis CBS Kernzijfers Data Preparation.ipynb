{
 "cells": [
  {
   "cell_type": "markdown",
   "id": "785bc900",
   "metadata": {},
   "source": [
    "# ENEXIS Graduation Project"
   ]
  },
  {
   "cell_type": "markdown",
   "id": "e97c5ba1",
   "metadata": {},
   "source": [
    "# CRISP-DM Phase 2: Data Understanding - CBS demographic Data"
   ]
  },
  {
   "cell_type": "markdown",
   "id": "f98fdd4c",
   "metadata": {},
   "source": [
    "### Collect Initial Data"
   ]
  },
  {
   "cell_type": "code",
   "execution_count": null,
   "id": "039bc40a",
   "metadata": {},
   "outputs": [],
   "source": [
    "import cbsodata\n",
    "import numpy as np\n",
    "import pandas as pd\n",
    "import seaborn as sns\n",
    "import matplotlib.pyplot as plt\n",
    "import nbconvert\n",
    "pd.set_option('display.max_rows', 150)\n",
    "pd.options.mode.chained_assignment = None  # default='warn'"
   ]
  },
  {
   "cell_type": "markdown",
   "id": "1bec6038",
   "metadata": {},
   "source": [
    "Lets select a data set from CBS. One of the most comprehensive sets is \"Kerncijfers wijken en buurten\" which is actualized every year. It contains demographical data but also some data related to energy consumption, which can be linked to Enexis data via CBS area codes (Gemeente, Wijk and Buurt level). \"Kerncijfers wijken en buurten 2019\" is the most recent set containing largely complete data. In the sets of 2020 and 2021 many feature columns are yet empty."
   ]
  },
  {
   "cell_type": "code",
   "execution_count": null,
   "id": "8701908a",
   "metadata": {},
   "outputs": [],
   "source": [
    "datasets = (\n",
    "'85039NED', #Kerncijfers wijken en buurten 2021\n",
    "'84799NED', #Kerncijfers wijken en buurten 2020\n",
    "'84583NED', #Kerncijfers wijken en buurten 2019\n",
    "'84286NED', #Kerncijfers wijken en buurten 2018\n",
    "'83765NED', #Kerncijfers wijken en buurten 2017\n",
    "'83487NED' #Kerncijfers wijken en buurten 2016\n",
    ")"
   ]
  },
  {
   "cell_type": "code",
   "execution_count": null,
   "id": "e1095260",
   "metadata": {},
   "outputs": [],
   "source": [
    "data_years = {'85039NED' : 2021,\n",
    "              '84799NED' : 2020,\n",
    "              '84583NED' : 2019, \n",
    "              '84286NED' : 2018,\n",
    "              '83765NED' : 2017,\n",
    "              '83487NED' : 2016}"
   ]
  },
  {
   "cell_type": "markdown",
   "id": "16d36abf",
   "metadata": {},
   "source": [
    "### Create a dataset with number of households by buurt by year"
   ]
  },
  {
   "cell_type": "markdown",
   "id": "bb757032",
   "metadata": {},
   "source": [
    "First, make a list of gemeenten in Enexis zone"
   ]
  },
  {
   "cell_type": "code",
   "execution_count": null,
   "id": "e64b3fae",
   "metadata": {},
   "outputs": [],
   "source": [
    "c_path = \"../Data/\"\n",
    "v_file = \"Gemeenten_Enexis\" "
   ]
  },
  {
   "cell_type": "code",
   "execution_count": null,
   "id": "233946c4",
   "metadata": {},
   "outputs": [],
   "source": [
    "gem_Enexis     = pd.read_csv(filepath_or_buffer = c_path + v_file + \".csv\",\n",
    "                      encoding           = 'UTF-8')"
   ]
  },
  {
   "cell_type": "code",
   "execution_count": null,
   "id": "417f88ea",
   "metadata": {},
   "outputs": [],
   "source": [
    "gem_Enexis = gem_Enexis['0'].tolist()"
   ]
  },
  {
   "cell_type": "markdown",
   "id": "6e795ff1",
   "metadata": {},
   "source": [
    "Uploading CBS Kerncijfers datasets of 2016 - 2021, merging them, filtering out gemeenten belonging to the Enexis zone and selecting as features only number of households and the variable indicating changes in buurt delimitation (\"IndelingswijzigingWijkenEnBuurten_4\"). "
   ]
  },
  {
   "cell_type": "code",
   "execution_count": null,
   "id": "c0911923",
   "metadata": {},
   "outputs": [],
   "source": [
    "# This function only needs to be run once, to read data from all of the CBS Kerncijfers datasets, and save them to a csv file. \n",
    "# Note it takes quite some time to run.\n",
    "\n",
    "def households():\n",
    "    df_households = pd.DataFrame()\n",
    "    for i in range(len(datasets)):\n",
    "        df_new = pd.DataFrame(cbsodata.get_data(datasets[i]))\n",
    "        df_new = df_new.apply(lambda x: x.str.strip() if x.dtype == \"object\" else x)\n",
    "        df_new = df_new[df_new['SoortRegio_2'] == 'Buurt']\n",
    "        df_new = df_new[df_new['Gemeentenaam_1'].isin(gem_Enexis)]\n",
    "        df_new = df_new.loc[:,['Codering_3','HuishoudensTotaal_28', 'IndelingswijzigingWijkenEnBuurten_4']]\n",
    "        df_new['Year'] = data_years[datasets[i]]\n",
    "        df_households = pd.concat([df_households, df_new], axis = 0)\n",
    "    df_households.to_csv(path_or_buf = c_path + 'CBS_Households.csv', index = False)"
   ]
  },
  {
   "cell_type": "code",
   "execution_count": null,
   "id": "5a4adecc",
   "metadata": {},
   "outputs": [],
   "source": [
    "df_households     = pd.read_csv(filepath_or_buffer = c_path + 'CBS_Households' + \".csv\",\n",
    "                      encoding           = 'UTF-8')"
   ]
  },
  {
   "cell_type": "code",
   "execution_count": null,
   "id": "b371181b",
   "metadata": {},
   "outputs": [],
   "source": [
    "df_households = df_households.sort_values(['Codering_3', 'Year'])"
   ]
  },
  {
   "cell_type": "code",
   "execution_count": null,
   "id": "4f834d78",
   "metadata": {},
   "outputs": [],
   "source": [
    "df_households.head()"
   ]
  },
  {
   "cell_type": "code",
   "execution_count": null,
   "id": "02bfaffd",
   "metadata": {},
   "outputs": [],
   "source": [
    "df_households.info()"
   ]
  },
  {
   "cell_type": "code",
   "execution_count": null,
   "id": "b90fd710",
   "metadata": {},
   "outputs": [],
   "source": [
    "df_households.describe(include = 'all')"
   ]
  },
  {
   "cell_type": "code",
   "execution_count": null,
   "id": "6e26b5f3",
   "metadata": {},
   "outputs": [],
   "source": [
    "df_households.isna().sum()"
   ]
  },
  {
   "cell_type": "code",
   "execution_count": null,
   "id": "4c7e09e2",
   "metadata": {},
   "outputs": [],
   "source": [
    "df_households['IndelingswijzigingWijkenEnBuurten_4'].value_counts()"
   ]
  },
  {
   "cell_type": "markdown",
   "id": "d1b0c4a4",
   "metadata": {},
   "source": [
    "Only buurten with no changes in demarcation will be taken into account (variable IndelingswijzigingWijkenEnBuurten_4 must be equal to 1 or be missing value)."
   ]
  },
  {
   "cell_type": "code",
   "execution_count": null,
   "id": "0517a674",
   "metadata": {},
   "outputs": [],
   "source": [
    "df_households = df_households[df_households['IndelingswijzigingWijkenEnBuurten_4'] == 1]"
   ]
  },
  {
   "cell_type": "code",
   "execution_count": null,
   "id": "49825ce5",
   "metadata": {},
   "outputs": [],
   "source": [
    "df_households.describe(include = 'all')"
   ]
  },
  {
   "cell_type": "code",
   "execution_count": null,
   "id": "40192ec0",
   "metadata": {},
   "outputs": [],
   "source": [
    "# Creating a table with number of households by year in columns, and the buurt as index\n",
    "df_households_pivot = df_households.pivot(index='Codering_3', columns='Year')['HuishoudensTotaal_28']"
   ]
  },
  {
   "cell_type": "code",
   "execution_count": null,
   "id": "4fbc0ddd",
   "metadata": {},
   "outputs": [],
   "source": [
    "df_households_pivot.info()"
   ]
  },
  {
   "cell_type": "code",
   "execution_count": null,
   "id": "43585a0d",
   "metadata": {},
   "outputs": [],
   "source": [
    "df_households_pivot.head()"
   ]
  },
  {
   "cell_type": "code",
   "execution_count": null,
   "id": "4d241631",
   "metadata": {},
   "outputs": [],
   "source": [
    "df_households_pivot.describe()"
   ]
  },
  {
   "cell_type": "code",
   "execution_count": null,
   "id": "ce8d623e",
   "metadata": {},
   "outputs": [],
   "source": [
    "df_households_pivot.isna().sum()"
   ]
  },
  {
   "cell_type": "markdown",
   "id": "45c8f47d",
   "metadata": {},
   "source": [
    "Very large number of buurten has missing number of households, and the number of missing households increases moving back in time. It may be explained by changes in buurten introduced over time. It may have happened that buurten have been merged, divided or borders have been changed, after which a buurt was given a new name and / or code. As a starting point, we will only consider buurten which existed in the freshest dataset, which is 2021, and all other buurten will be deleted. "
   ]
  },
  {
   "cell_type": "code",
   "execution_count": null,
   "id": "e806e17a",
   "metadata": {},
   "outputs": [],
   "source": [
    "df_households_pivot = df_households_pivot[df_households_pivot[2021].notna()]"
   ]
  },
  {
   "cell_type": "markdown",
   "id": "b4d03a7b",
   "metadata": {},
   "source": [
    "Then, we shall select only these, for which the household number future had a non-zero value throughout all the years in the range 2016 - 2021. In these way we ensure that we base our model only on buurten which existed in the same borders in this time period, which means we drop all records with missing values. "
   ]
  },
  {
   "cell_type": "code",
   "execution_count": null,
   "id": "c7e129d0",
   "metadata": {},
   "outputs": [],
   "source": [
    "df_households_pivot = df_households_pivot.dropna()"
   ]
  },
  {
   "cell_type": "code",
   "execution_count": null,
   "id": "20d6dc0c",
   "metadata": {},
   "outputs": [],
   "source": [
    "df_households_pivot.info()"
   ]
  },
  {
   "cell_type": "markdown",
   "id": "20e24adf",
   "metadata": {},
   "source": [
    "We see that out of original 4934 buurten only 3015 remains. There may exist smarter ways to avoid losing almost 40% of all buurten, but we leave it for a later time to refine. For now, we have more than 3000 buurten with continuity of delimitation, which looks still like a fair figure to build a model upon. As the next thing, we shall investigate the number of households in the buurten, and filter out these which have the number of households of 0 or close. We are interested in residential areas, so those with extremy low number of households are probably not truly residential, and moreover our interest is in the PV installed per 100 households, so buurten with such low population would not really matter. Let's first check for buurten with 0 households. "
   ]
  },
  {
   "cell_type": "code",
   "execution_count": null,
   "id": "1bbac443",
   "metadata": {},
   "outputs": [],
   "source": [
    "# Buurten with 0 households\n",
    "df_households_pivot[df_households_pivot[2021] == 0].info()"
   ]
  },
  {
   "cell_type": "code",
   "execution_count": null,
   "id": "fba8213e",
   "metadata": {},
   "outputs": [],
   "source": [
    "# Buurten with number of households of 10 and lower.\n",
    "df_households_pivot[df_households_pivot[2021] <= 10].info()"
   ]
  },
  {
   "cell_type": "code",
   "execution_count": null,
   "id": "0e92d3c2",
   "metadata": {},
   "outputs": [],
   "source": [
    "df_households_pivot[df_households_pivot[2021] <= 10].hist(bins = 50)\n",
    "plt.show()"
   ]
  },
  {
   "cell_type": "markdown",
   "id": "a5b09a63",
   "metadata": {},
   "source": [
    "It seems that with some exceptions these are the same buurten over the years. We shall remove all buurten for which the number of households in 2021 was 10 or lower."
   ]
  },
  {
   "cell_type": "code",
   "execution_count": null,
   "id": "2af25fd1",
   "metadata": {},
   "outputs": [],
   "source": [
    "df_households_pivot = df_households_pivot[df_households_pivot[2021] > 10]"
   ]
  },
  {
   "cell_type": "code",
   "execution_count": null,
   "id": "d4d5ff04",
   "metadata": {},
   "outputs": [],
   "source": [
    "df_households_pivot.info()"
   ]
  },
  {
   "cell_type": "markdown",
   "id": "8e08e13c",
   "metadata": {},
   "source": [
    "Now, we will introduce a new column showing the relative increase (or decrease) of the number of households over time"
   ]
  },
  {
   "cell_type": "code",
   "execution_count": null,
   "id": "ebe1e3b2",
   "metadata": {},
   "outputs": [],
   "source": [
    "df_households_pivot['Household_increase'] = (df_households_pivot[2021] - df_households_pivot[2016]) / df_households_pivot[2021]"
   ]
  },
  {
   "cell_type": "code",
   "execution_count": null,
   "id": "4de56553",
   "metadata": {},
   "outputs": [],
   "source": [
    "df_households_pivot['Household_increase'].hist(bins = 50, range=(-0.5, 0.5))"
   ]
  },
  {
   "cell_type": "markdown",
   "id": "7ffb9e4d",
   "metadata": {},
   "source": [
    "Let's have a brief look at the buurten where the increase was high (e.g. higher than by 20%)"
   ]
  },
  {
   "cell_type": "code",
   "execution_count": null,
   "id": "4e3a6be3",
   "metadata": {},
   "outputs": [],
   "source": [
    "df_households_increasing = df_households_pivot[df_households_pivot['Household_increase'] > 0.2]"
   ]
  },
  {
   "cell_type": "code",
   "execution_count": null,
   "id": "4d0cc957",
   "metadata": {},
   "outputs": [],
   "source": [
    "df_households_increasing.head()"
   ]
  },
  {
   "cell_type": "code",
   "execution_count": null,
   "id": "dd686f3b",
   "metadata": {},
   "outputs": [],
   "source": [
    "df_households_increasing.describe()"
   ]
  },
  {
   "cell_type": "code",
   "execution_count": null,
   "id": "9e8d4ba7",
   "metadata": {},
   "outputs": [],
   "source": [
    "df_households_increasing.mean()[:-1].plot()"
   ]
  },
  {
   "cell_type": "markdown",
   "id": "67bf3348",
   "metadata": {},
   "source": [
    "As expected, these are buurten which show on average a steady household number increase over the years. We are interested in \"static\" buurten, so we shall filter out these neighborhoods where the change (increase or decrease) in household number is not bigger than 10 %."
   ]
  },
  {
   "cell_type": "code",
   "execution_count": null,
   "id": "f385d6e7",
   "metadata": {},
   "outputs": [],
   "source": [
    "df_households_pivot = df_households_pivot[df_households_pivot['Household_increase'].between(-0.1, 0.1)]"
   ]
  },
  {
   "cell_type": "code",
   "execution_count": null,
   "id": "3884ddf1",
   "metadata": {},
   "outputs": [],
   "source": [
    "df_households_pivot.info()"
   ]
  },
  {
   "cell_type": "code",
   "execution_count": null,
   "id": "506ee047",
   "metadata": {},
   "outputs": [],
   "source": [
    "df_households_pivot.mean()[:-1].plot()"
   ]
  },
  {
   "cell_type": "code",
   "execution_count": null,
   "id": "110269c6",
   "metadata": {},
   "outputs": [],
   "source": [
    "df_households_pivot.head()"
   ]
  },
  {
   "cell_type": "markdown",
   "id": "b82a317d",
   "metadata": {},
   "source": [
    "Finally, let's make a list of these \"static\" neighborhoods. Our further EDA and modeling will refer to these neighborhoods only."
   ]
  },
  {
   "cell_type": "code",
   "execution_count": null,
   "id": "0a49433f",
   "metadata": {},
   "outputs": [],
   "source": [
    "buurten_actual = df_households_pivot.index.tolist()"
   ]
  },
  {
   "cell_type": "code",
   "execution_count": null,
   "id": "0eb03e49",
   "metadata": {},
   "outputs": [],
   "source": [
    "buurten_actual"
   ]
  },
  {
   "cell_type": "markdown",
   "id": "889825d2",
   "metadata": {},
   "source": [
    "We will save the list into a new file, 'Gemeenten_Enexis_final.csv'"
   ]
  },
  {
   "cell_type": "code",
   "execution_count": null,
   "id": "3206283d",
   "metadata": {},
   "outputs": [],
   "source": [
    "pd.DataFrame(buurten_actual).to_csv(path_or_buf = c_path + 'Buurten_Enexis_final.csv', index = False)"
   ]
  },
  {
   "cell_type": "markdown",
   "id": "df4451b5",
   "metadata": {},
   "source": [
    "### Preparation of 2019 Kerncijfers dataset"
   ]
  },
  {
   "cell_type": "code",
   "execution_count": null,
   "id": "3971477f",
   "metadata": {},
   "outputs": [],
   "source": [
    "selected_dataset = datasets[2]"
   ]
  },
  {
   "cell_type": "code",
   "execution_count": null,
   "id": "16b3a7c6",
   "metadata": {},
   "outputs": [],
   "source": [
    "df_orig = pd.DataFrame(cbsodata.get_data(selected_dataset))"
   ]
  },
  {
   "cell_type": "code",
   "execution_count": null,
   "id": "dad6295e",
   "metadata": {},
   "outputs": [],
   "source": [
    "df_orig.shape"
   ]
  },
  {
   "cell_type": "code",
   "execution_count": null,
   "id": "e77c061e",
   "metadata": {
    "scrolled": true
   },
   "outputs": [],
   "source": [
    "df_orig.head(5).transpose()"
   ]
  },
  {
   "cell_type": "code",
   "execution_count": null,
   "id": "25b78031",
   "metadata": {},
   "outputs": [],
   "source": [
    "#remove whitespaces from beginning and end of string column labels\n",
    "df_orig = df_orig.apply(lambda x: x.str.strip() if x.dtype == \"object\" else x)   "
   ]
  },
  {
   "cell_type": "markdown",
   "id": "f8308fc3",
   "metadata": {},
   "source": [
    "### Create a subset of 2019 data for further EDA and modeling"
   ]
  },
  {
   "cell_type": "markdown",
   "id": "40633727",
   "metadata": {},
   "source": [
    "For further steps, a subset will be created with selected features, considered to be relevant for PV installations. The analysis will be done on buurt level so only buurt level data will be selected."
   ]
  },
  {
   "cell_type": "code",
   "execution_count": null,
   "id": "aecbd561",
   "metadata": {},
   "outputs": [],
   "source": [
    "df = df_orig[df_orig['SoortRegio_2'] == 'Buurt']"
   ]
  },
  {
   "cell_type": "markdown",
   "id": "cc62219f",
   "metadata": {},
   "source": [
    "Now, we shall take the subset of the data, with our selected, \"static\" buurten of the Enexis zone."
   ]
  },
  {
   "cell_type": "code",
   "execution_count": null,
   "id": "fc4bc795",
   "metadata": {},
   "outputs": [],
   "source": [
    "df = df[df['Codering_3'].isin(buurten_actual)]"
   ]
  },
  {
   "cell_type": "code",
   "execution_count": null,
   "id": "bcab4c2d",
   "metadata": {},
   "outputs": [],
   "source": [
    "df.shape"
   ]
  },
  {
   "cell_type": "code",
   "execution_count": null,
   "id": "d4d7ae2c",
   "metadata": {},
   "outputs": [],
   "source": [
    "df.info()"
   ]
  },
  {
   "cell_type": "code",
   "execution_count": null,
   "id": "e085ce52",
   "metadata": {},
   "outputs": [],
   "source": [
    "df['Gemeentenaam_1'].nunique()"
   ]
  },
  {
   "cell_type": "code",
   "execution_count": null,
   "id": "da340c93",
   "metadata": {},
   "outputs": [],
   "source": [
    "df['Gemeentenaam_1'].value_counts().head()"
   ]
  },
  {
   "cell_type": "code",
   "execution_count": null,
   "id": "8bb94d13",
   "metadata": {},
   "outputs": [],
   "source": [
    "df.describe().T"
   ]
  },
  {
   "cell_type": "code",
   "execution_count": null,
   "id": "4b5f5f26",
   "metadata": {},
   "outputs": [],
   "source": [
    "df.isna().sum()"
   ]
  },
  {
   "cell_type": "markdown",
   "id": "6c51038b",
   "metadata": {},
   "source": [
    "In order to use in the EDA, numeric features have to be intensive variables i.e. such which do not depend on the size of the system. For this reason, two new variables are created by dividing the existing extensive variables `AantalInkomensontvangers_70` and `BedrijfsvestigingenTotaal_91` by number of inhabitants and number of households, respectively. Another new variable is defined to describe average education level, as a kind of weighted average of `OpleidingsniveauLaag_64`, `OpleidingsniveauMiddelbaar_65` and `OpleidingsniveauHoog_66`, with respective weights of 1, 2 and 3. The new variable assumes values in the range of 1 to 3."
   ]
  },
  {
   "cell_type": "code",
   "execution_count": null,
   "id": "4c07e1a7",
   "metadata": {},
   "outputs": [],
   "source": [
    "df['Gemiddeld_opleidingsniveau'] = (df['OpleidingsniveauLaag_64'] * 1 + df['OpleidingsniveauMiddelbaar_65'] * 2 + \n",
    "                                df['OpleidingsniveauHoog_66'] * 3) / (df['OpleidingsniveauLaag_64'] + \n",
    "                                df['OpleidingsniveauMiddelbaar_65'] + df['OpleidingsniveauHoog_66'])"
   ]
  },
  {
   "cell_type": "code",
   "execution_count": null,
   "id": "74690804",
   "metadata": {},
   "outputs": [],
   "source": [
    "df['Percent_inkomensontvangers'] = df['AantalInkomensontvangers_70'] / df['AantalInwoners_5']"
   ]
  },
  {
   "cell_type": "code",
   "execution_count": null,
   "id": "498cde36",
   "metadata": {},
   "outputs": [],
   "source": [
    "df['Bedrijfsvestigingen_per_huishuidens'] = df['BedrijfsvestigingenTotaal_91'] / df['HuishoudensTotaal_28']"
   ]
  },
  {
   "cell_type": "markdown",
   "id": "1f89e518",
   "metadata": {},
   "source": [
    "We now make a slice of the dataframe df, containing only the selected features, and the newly added features. The features are stored in a list object `Selected_CBS_features`."
   ]
  },
  {
   "cell_type": "code",
   "execution_count": null,
   "id": "6567ef52",
   "metadata": {},
   "outputs": [],
   "source": [
    "Selected_CBS_features = ['WijkenEnBuurten',\n",
    " 'Gemeentenaam_1',\n",
    " 'SoortRegio_2',\n",
    " 'Codering_3',\n",
    " 'MeestVoorkomendePostcode_113',\n",
    " 'HuishoudensTotaal_28',\n",
    " 'GemiddeldeHuishoudensgrootte_32',\n",
    " 'Bevolkingsdichtheid_33',\n",
    " 'Woningvoorraad_34',\n",
    " 'GemiddeldeWoningwaarde_35',\n",
    " 'PercentageEengezinswoning_36',\n",
    " 'Koopwoningen_40',\n",
    " 'InBezitWoningcorporatie_42',\n",
    " 'InBezitOverigeVerhuurders_43',\n",
    " 'BouwjaarVanaf2000_46',\n",
    " 'GemiddeldElektriciteitsverbruikTotaal_47',\n",
    " 'GemiddeldAardgasverbruikTotaal_55',\n",
    " 'Gemiddeld_opleidingsniveau',\n",
    " 'Percent_inkomensontvangers',\n",
    " 'Bedrijfsvestigingen_per_huishuidens',\n",
    " 'PersonenautoSPerHuishouden_102',\n",
    " 'AfstandTotSchool_108',\n",
    " 'MateVanStedelijkheid_115']"
   ]
  },
  {
   "cell_type": "code",
   "execution_count": null,
   "id": "870e2348",
   "metadata": {},
   "outputs": [],
   "source": [
    "df = df[Selected_CBS_features]"
   ]
  },
  {
   "cell_type": "markdown",
   "id": "02b3e7c2",
   "metadata": {},
   "source": [
    "### Description of data"
   ]
  },
  {
   "cell_type": "markdown",
   "id": "0830b5d6",
   "metadata": {},
   "source": [
    "We now have the final set of features extracted from CBS dataset. Let's explore its main characteristics."
   ]
  },
  {
   "cell_type": "code",
   "execution_count": null,
   "id": "d522075c",
   "metadata": {},
   "outputs": [],
   "source": [
    "df.info()"
   ]
  },
  {
   "cell_type": "markdown",
   "id": "0d9bbd20",
   "metadata": {},
   "source": [
    "There is a certain amount of missing values, which will need to be handled later. For now we will perform an initial EDA with the set as it is."
   ]
  },
  {
   "cell_type": "code",
   "execution_count": null,
   "id": "e6e7aa29",
   "metadata": {
    "scrolled": true
   },
   "outputs": [],
   "source": [
    "df.describe(include = 'all').transpose()"
   ]
  },
  {
   "cell_type": "code",
   "execution_count": null,
   "id": "c9dae2cd",
   "metadata": {},
   "outputs": [],
   "source": [
    "df.head().transpose()"
   ]
  },
  {
   "cell_type": "markdown",
   "id": "ba56c4a8",
   "metadata": {},
   "source": [
    "Lets first have a look on the distribution of the individual features, using a set of histograms."
   ]
  },
  {
   "cell_type": "code",
   "execution_count": null,
   "id": "4774dfc2",
   "metadata": {},
   "outputs": [],
   "source": [
    "df.drop('Codering_3', axis = 1).hist(bins=25, figsize=(16,14));"
   ]
  },
  {
   "cell_type": "markdown",
   "id": "f648bbc5",
   "metadata": {},
   "source": [
    "Finally, we write the dataset to a csv file, so that it can be used as input file in next stages of analysis."
   ]
  },
  {
   "cell_type": "code",
   "execution_count": null,
   "id": "a7497639",
   "metadata": {},
   "outputs": [],
   "source": [
    "c_path =\"../Data/\""
   ]
  },
  {
   "cell_type": "code",
   "execution_count": null,
   "id": "077db233",
   "metadata": {},
   "outputs": [],
   "source": [
    "df.to_csv(path_or_buf = c_path + 'CBS_Kerncijfers2019_intermediate_dataset.csv', index = False)"
   ]
  },
  {
   "cell_type": "code",
   "execution_count": null,
   "id": "203d5fa3",
   "metadata": {},
   "outputs": [],
   "source": [
    "#nbconvert.PDFExporter('Enexis CBS data EDA v1')"
   ]
  },
  {
   "cell_type": "code",
   "execution_count": null,
   "id": "5eeb0eef",
   "metadata": {},
   "outputs": [],
   "source": []
  }
 ],
 "metadata": {
  "interpreter": {
   "hash": "4b5eed231ec0c115323e225ce5385d6626cfb048417038261eb3d8b8d0f3984b"
  },
  "kernelspec": {
   "display_name": "Python 3.9.7 ('base')",
   "language": "python",
   "name": "python3"
  },
  "language_info": {
   "codemirror_mode": {
    "name": "ipython",
    "version": 3
   },
   "file_extension": ".py",
   "mimetype": "text/x-python",
   "name": "python",
   "nbconvert_exporter": "python",
   "pygments_lexer": "ipython3",
   "version": "3.9.7"
  }
 },
 "nbformat": 4,
 "nbformat_minor": 5
}
