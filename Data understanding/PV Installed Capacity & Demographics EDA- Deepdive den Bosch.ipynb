{
 "cells": [
  {
   "cell_type": "markdown",
   "id": "785bc900",
   "metadata": {},
   "source": [
    "# ENEXIS Graduation Project"
   ]
  },
  {
   "cell_type": "markdown",
   "id": "0a09e445",
   "metadata": {},
   "source": [
    "####  EDA of PV installed capacity"
   ]
  },
  {
   "cell_type": "markdown",
   "id": "04210046",
   "metadata": {},
   "source": [
    "### Contents"
   ]
  },
  {
   "cell_type": "markdown",
   "id": "89768e4f",
   "metadata": {},
   "source": [
    "#### Characteristics of den Bosch - demographic features vs installed PV by buurt\n",
    "   * [1. Reading of PV installed capacity & demographics dataset](#readpv)\n",
    "   * [2. Selection of a specific municipality to focus on : Best](#selbest)\n",
    "   * [3. Demographic characteristics of Best by buurt](#dembest)\n",
    "\n",
    "#### PV installed capacity  - development in time in den Bosch by buurt\n",
    "  \n",
    "   * [1. Total number of installations as function of time](#total)\n",
    "   * [2. Percentage of privately owned houses](#koop)\n",
    "   * [3. Percentage of one family houses](#een)\n",
    "   * [4. Housholds with PV per 100 households in 2022](#pv2022)\n",
    "   * [5. Province](#prov)\n",
    "   * [6. Average electricity consumption](#elec)"
   ]
  },
  {
   "cell_type": "code",
   "execution_count": null,
   "id": "b5e95fb9",
   "metadata": {},
   "outputs": [],
   "source": [
    "import pandas as pd\n",
    "import numpy as np\n",
    "import sys\n",
    "import matplotlib.pyplot as plt\n",
    "import seaborn as sns\n",
    "import cbsodata\n",
    "pd.options.mode.chained_assignment = None  # default='warn'"
   ]
  },
  {
   "cell_type": "markdown",
   "id": "2c829b68",
   "metadata": {},
   "source": [
    "<a id='readpv'></a>\n",
    "#### 1. Reading of PV installed capacity & demographics dataset"
   ]
  },
  {
   "cell_type": "code",
   "execution_count": null,
   "id": "207acc9f",
   "metadata": {},
   "outputs": [],
   "source": [
    "c_path = \"../Data/\"\n",
    "v_file = \"PV installed capacity & demographics\""
   ]
  },
  {
   "cell_type": "code",
   "execution_count": null,
   "id": "c1e5bad0",
   "metadata": {},
   "outputs": [],
   "source": [
    "df     = pd.read_csv(filepath_or_buffer = c_path + v_file + \".csv\",\n",
    "                      encoding           = 'UTF-8')"
   ]
  },
  {
   "cell_type": "code",
   "execution_count": null,
   "id": "6d432977",
   "metadata": {},
   "outputs": [],
   "source": [
    "df.info()"
   ]
  },
  {
   "cell_type": "code",
   "execution_count": null,
   "id": "3b810787",
   "metadata": {},
   "outputs": [],
   "source": [
    "df.shape"
   ]
  },
  {
   "cell_type": "markdown",
   "id": "1669d75a",
   "metadata": {},
   "source": [
    "In order to keep the uniform distance between time points, records at mid-year are removed"
   ]
  },
  {
   "cell_type": "code",
   "execution_count": null,
   "id": "0db42d2a",
   "metadata": {},
   "outputs": [],
   "source": [
    "df.head()"
   ]
  },
  {
   "cell_type": "code",
   "execution_count": null,
   "id": "c5c9eded",
   "metadata": {},
   "outputs": [],
   "source": [
    "df = df.drop(df[df['Year'].isin(['2021-07-01', '2020-07-01'])].index)"
   ]
  },
  {
   "cell_type": "code",
   "execution_count": null,
   "id": "260f6196",
   "metadata": {},
   "outputs": [],
   "source": [
    "df.columns"
   ]
  },
  {
   "cell_type": "code",
   "execution_count": null,
   "id": "cd322e0e",
   "metadata": {},
   "outputs": [],
   "source": [
    "df = df.drop(['WijkenEnBuurten', 'Gemeentenaam_1', 'SoortRegio_2', ], axis = 1)"
   ]
  },
  {
   "cell_type": "code",
   "execution_count": null,
   "id": "2cb6acd8",
   "metadata": {},
   "outputs": [],
   "source": [
    "# Changing the format of `Year1 variable into 4 digit number\n",
    "df['Year'] = df['Year'].apply(lambda x: x[:4])"
   ]
  },
  {
   "cell_type": "code",
   "execution_count": null,
   "id": "b5bb3b10",
   "metadata": {},
   "outputs": [],
   "source": [
    "df = df.sort_values(by = 'Year')"
   ]
  },
  {
   "cell_type": "code",
   "execution_count": null,
   "id": "a3859c53",
   "metadata": {},
   "outputs": [],
   "source": [
    "# storing the original dataset under variable `df_orig`\n",
    "df_orig = df.copy()"
   ]
  },
  {
   "cell_type": "code",
   "execution_count": null,
   "id": "f20b8654",
   "metadata": {},
   "outputs": [],
   "source": [
    "#df = df_orig.copy()"
   ]
  },
  {
   "cell_type": "code",
   "execution_count": null,
   "id": "4dbab4e5",
   "metadata": {},
   "outputs": [],
   "source": [
    "df['GM_NAAM'].unique()"
   ]
  },
  {
   "cell_type": "markdown",
   "id": "8858a4f2",
   "metadata": {},
   "source": [
    "<a id='selbest'></a>\n",
    "#### 2. Selection of a specific municipality to focus on : 's-Hertogenbosch "
   ]
  },
  {
   "cell_type": "code",
   "execution_count": null,
   "id": "b190ec4a",
   "metadata": {},
   "outputs": [],
   "source": [
    "df = df[df['GM_NAAM'] == \"'s-Hertogenbosch\"]"
   ]
  },
  {
   "cell_type": "code",
   "execution_count": null,
   "id": "f40a5e05",
   "metadata": {
    "scrolled": true
   },
   "outputs": [],
   "source": [
    "df.info()"
   ]
  },
  {
   "cell_type": "code",
   "execution_count": null,
   "id": "ae8bc9b2",
   "metadata": {},
   "outputs": [],
   "source": [
    "df['Year'].value_counts()"
   ]
  },
  {
   "cell_type": "markdown",
   "id": "1d9d9a98",
   "metadata": {},
   "source": [
    "It draws attention that there are many missing values in 2020, and also 2021 and 2022. "
   ]
  },
  {
   "cell_type": "code",
   "execution_count": null,
   "id": "ae670ef8",
   "metadata": {},
   "outputs": [],
   "source": [
    "df = df.drop(['BU_2021', 'WK_2021', 'WK_NAAM', 'GM_2021',\n",
    "       'GM_NAAM', 'ProvinciecodePV', 'Provincienaam'], axis = 1)"
   ]
  },
  {
   "cell_type": "code",
   "execution_count": null,
   "id": "1d8c5fc9",
   "metadata": {
    "scrolled": true
   },
   "outputs": [],
   "source": [
    "df.describe(include = 'all').T"
   ]
  },
  {
   "cell_type": "code",
   "execution_count": null,
   "id": "50f7f3e1",
   "metadata": {},
   "outputs": [],
   "source": [
    "df[df.isna().any(axis=1)]"
   ]
  },
  {
   "cell_type": "code",
   "execution_count": null,
   "id": "94227db6",
   "metadata": {},
   "outputs": [],
   "source": [
    "df[df['Opgesteld vermogen'] == 0].T"
   ]
  },
  {
   "cell_type": "code",
   "execution_count": null,
   "id": "2ba00349",
   "metadata": {},
   "outputs": [],
   "source": [
    "df[df['BU_NAAM'] == 'De Sprookjesbuurt'].T"
   ]
  },
  {
   "cell_type": "markdown",
   "id": "55d98bcc",
   "metadata": {},
   "source": [
    "<a id='dembest'></a>\n",
    "#### 3. Demographic characteristics of 's-Hertogenbosch by buurt"
   ]
  },
  {
   "cell_type": "code",
   "execution_count": null,
   "id": "30fe5bd7",
   "metadata": {},
   "outputs": [],
   "source": [
    "df_2022 = df[df['Year'] == '2022']"
   ]
  },
  {
   "cell_type": "code",
   "execution_count": null,
   "id": "bf71611f",
   "metadata": {},
   "outputs": [],
   "source": [
    "df_2022 = df_2022.drop(['Year'], axis = 1)"
   ]
  },
  {
   "cell_type": "code",
   "execution_count": null,
   "id": "00ea29b7",
   "metadata": {},
   "outputs": [],
   "source": [
    "df_2022 = df_2022.sort_values(by = 'Opgesteld_vermogen_per100houshoudens', ascending = False)"
   ]
  },
  {
   "cell_type": "code",
   "execution_count": null,
   "id": "f3032583",
   "metadata": {},
   "outputs": [],
   "source": [
    "df_2022 = df_2022.set_index('BU_NAAM')"
   ]
  },
  {
   "cell_type": "code",
   "execution_count": null,
   "id": "244a759b",
   "metadata": {
    "scrolled": false
   },
   "outputs": [],
   "source": [
    "df_2022.T"
   ]
  },
  {
   "cell_type": "code",
   "execution_count": null,
   "id": "a7d9037a",
   "metadata": {},
   "outputs": [],
   "source": [
    "plt.figure(figsize = (15,10))\n",
    "sns.barplot(data = df_2022, x = df_2022.index, y = 'Opgesteld_vermogen_per100houshoudens', color = 'SteelBlue')\n",
    "sns.barplot(data = df_2022, x = df_2022.index, y = 'PVinstallaties_per100houshoudens', color = 'Red')\n",
    "plt.xticks(rotation = 90)\n",
    "plt.show()"
   ]
  },
  {
   "cell_type": "code",
   "execution_count": null,
   "id": "b61061bb",
   "metadata": {},
   "outputs": [],
   "source": [
    "plt.figure(figsize = (15,6))\n",
    "sns.barplot(data = df_2022, x = df_2022.index, y = 'OV_per_installatie', color = 'SteelBlue')\n",
    "plt.xticks(rotation = 90)\n",
    "plt.show()"
   ]
  },
  {
   "cell_type": "markdown",
   "id": "2a7cfab6",
   "metadata": {},
   "source": [
    "Many buurten with high average OV per installation have names containing \"Bedrijventerrein\" or \"Landelijk gebied\". These buurten are possibly ones with lot of commercial or agricultural activity and therefore not entirely residential character. PV figures in these areas may therefore be contaminated by commercial installations. Such buurten should be removed from the dataset."
   ]
  },
  {
   "cell_type": "code",
   "execution_count": null,
   "id": "6d268c9b",
   "metadata": {},
   "outputs": [],
   "source": [
    "plt.figure(figsize = (15,6))\n",
    "sns.barplot(data = df_2022, x = df_2022.index, y = 'Bevolkingsdichtheid_33', color = 'SteelBlue')\n",
    "plt.xticks(rotation = 90)\n",
    "plt.show()"
   ]
  },
  {
   "cell_type": "code",
   "execution_count": null,
   "id": "108a70b9",
   "metadata": {},
   "outputs": [],
   "source": [
    "plt.figure(figsize = (15,6))\n",
    "sns.barplot(data = df_2022, x = df_2022.index, y = 'GemiddeldeWoningwaarde_35', color = 'SteelBlue')\n",
    "plt.xticks(rotation = 90)\n",
    "plt.show()"
   ]
  },
  {
   "cell_type": "code",
   "execution_count": null,
   "id": "e99f9716",
   "metadata": {},
   "outputs": [],
   "source": [
    "plt.figure(figsize = (15,6))\n",
    "sns.barplot(data = df_2022, x = df_2022.index, y = 'PercentageEengezinswoning_36', color = 'SteelBlue')\n",
    "plt.xticks(rotation = 90)\n",
    "plt.show()"
   ]
  },
  {
   "cell_type": "code",
   "execution_count": null,
   "id": "07cc39c8",
   "metadata": {},
   "outputs": [],
   "source": [
    "plt.figure(figsize = (15,6))\n",
    "sns.barplot(data = df_2022, x = df_2022.index, y = 'Koopwoningen_40', color = 'SteelBlue')\n",
    "plt.xticks(rotation = 90)\n",
    "plt.show()"
   ]
  },
  {
   "cell_type": "code",
   "execution_count": null,
   "id": "3a968fde",
   "metadata": {},
   "outputs": [],
   "source": [
    "plt.figure(figsize = (15,6))\n",
    "sns.barplot(data = df_2022, x = df_2022.index, y = 'BouwjaarVanaf2000_46', color = 'SteelBlue')\n",
    "plt.xticks(rotation = 90)\n",
    "plt.show()"
   ]
  },
  {
   "cell_type": "code",
   "execution_count": null,
   "id": "f5a7e502",
   "metadata": {},
   "outputs": [],
   "source": [
    "plt.figure(figsize = (15,6))\n",
    "sns.barplot(data = df_2022, x = df_2022.index, y = 'GemiddeldElektriciteitsverbruikTotaal_47', color = 'SteelBlue')\n",
    "plt.xticks(rotation = 90)\n",
    "plt.show()"
   ]
  },
  {
   "cell_type": "code",
   "execution_count": null,
   "id": "f44e1c20",
   "metadata": {},
   "outputs": [],
   "source": [
    "plt.figure(figsize = (15,6))\n",
    "sns.barplot(data = df_2022, x = df_2022.index, y = 'Percent_inkomensontvangers', color = 'SteelBlue')\n",
    "plt.xticks(rotation = 90)\n",
    "plt.show()"
   ]
  },
  {
   "cell_type": "markdown",
   "id": "4ce89d17",
   "metadata": {},
   "source": [
    "In one case the \"Percent inkomensontvangers\" is larger than 1. Is it possible or is it a mistake?"
   ]
  },
  {
   "cell_type": "code",
   "execution_count": null,
   "id": "c1212288",
   "metadata": {},
   "outputs": [],
   "source": [
    "plt.figure(figsize = (15,6))\n",
    "sns.barplot(data = df_2022, x = df_2022.index, y = 'Bedrijfsvestigingen_per_huishuidens', color = 'SteelBlue')\n",
    "plt.xticks(rotation = 90)\n",
    "plt.show()"
   ]
  },
  {
   "cell_type": "markdown",
   "id": "1667a764",
   "metadata": {},
   "source": [
    "Again, buurten with high average OV capacity also have typically high number of firms. This is another argument to consider such buurten as not typically residential and therefore filter them out. Let's visualize this correlation."
   ]
  },
  {
   "cell_type": "code",
   "execution_count": null,
   "id": "22ebd01a",
   "metadata": {},
   "outputs": [],
   "source": [
    "plt.figure(figsize = (10,7))\n",
    "sns.scatterplot(data = df_2022, x = 'Bedrijfsvestigingen_per_huishuidens', y = 'OV_per_installatie')"
   ]
  },
  {
   "cell_type": "markdown",
   "id": "7893f56c",
   "metadata": {},
   "source": [
    "Let's investigate the outliers, i.e. buurten with OV > 8 and Bedrijfsvestigingen > 0.8"
   ]
  },
  {
   "cell_type": "code",
   "execution_count": null,
   "id": "895a5827",
   "metadata": {},
   "outputs": [],
   "source": [
    "df_2022[(df_2022['Bedrijfsvestigingen_per_huishuidens'] > 0.8) | (df_2022['OV_per_installatie'] > 8)].T"
   ]
  },
  {
   "cell_type": "markdown",
   "id": "f0f954fe",
   "metadata": {},
   "source": [
    "Typical for this group is:\n",
    "- low total number of households\n",
    "- house value is often missing\n",
    "- high percentage of eengezinswoningen and koopwoningen\n",
    "- high degree of urbanization\n",
    "- buurten with \"bedrijfsterrein\" and \"landelijk gebied\" in the name are all in here"
   ]
  },
  {
   "cell_type": "code",
   "execution_count": null,
   "id": "92743f03",
   "metadata": {},
   "outputs": [],
   "source": [
    "plt.figure(figsize = (15,6))\n",
    "sns.barplot(data = df_2022, x = df_2022.index, y = 'PersonenautoSPerHuishouden_102', color = 'SteelBlue')\n",
    "plt.xticks(rotation = 90)\n",
    "plt.show()"
   ]
  },
  {
   "cell_type": "code",
   "execution_count": null,
   "id": "5e2eba5e",
   "metadata": {},
   "outputs": [],
   "source": [
    "plt.figure(figsize = (15,6))\n",
    "sns.barplot(data = df_2022, x = df_2022.index, y = 'AfstandTotSchool_108', color = 'SteelBlue')\n",
    "plt.xticks(rotation = 90)\n",
    "plt.show()"
   ]
  },
  {
   "cell_type": "code",
   "execution_count": null,
   "id": "cf4ae2ba",
   "metadata": {},
   "outputs": [],
   "source": [
    "plt.figure(figsize = (15,6))\n",
    "sns.barplot(data = df_2022, x = df_2022.index, y = 'MateVanStedelijkheid_115', color = 'SteelBlue')\n",
    "plt.xticks(rotation = 90)\n",
    "plt.show()"
   ]
  },
  {
   "cell_type": "code",
   "execution_count": null,
   "id": "652b7f64",
   "metadata": {},
   "outputs": [],
   "source": [
    "corr_matrix = df_2022.corr().sort_values(by = 'Opgesteld_vermogen_per100houshoudens', ascending = False).transpose()\n",
    "corr_matrix = corr_matrix.sort_values(by = 'Opgesteld_vermogen_per100houshoudens', ascending = False)"
   ]
  },
  {
   "cell_type": "code",
   "execution_count": null,
   "id": "d3651d87",
   "metadata": {
    "scrolled": false
   },
   "outputs": [],
   "source": [
    "plt.figure(figsize = (15,12))\n",
    "sns.heatmap(data = corr_matrix, annot = False, fmt='.2f', cmap = 'RdBu_r', linewidths=.1, square=True, vmax=1, center = 0)"
   ]
  },
  {
   "cell_type": "code",
   "execution_count": null,
   "id": "eb08a29a",
   "metadata": {},
   "outputs": [],
   "source": [
    "#fig, ax = plt.subplots(3, 4, figsize=(15,10))\n",
    "#for i, col in enumerate(df_2022.values):\n",
    "#    _ax=ax[i // 4, i % 4]\n",
    "#    sns.barplot(x='BU_NAAM', y=col, data=df_2022, ax=_ax)\n",
    "#plt.subplots_adjust(wspace=0.4, hspace=0.4)\n",
    "#plt.show()"
   ]
  },
  {
   "cell_type": "code",
   "execution_count": null,
   "id": "eb4b3990",
   "metadata": {},
   "outputs": [],
   "source": [
    "ax = df_2022[['Opgesteld_vermogen_per100houshoudens', 'PVinstallaties_per100houshoudens']].plot.bar(figsize = (15,10))"
   ]
  },
  {
   "cell_type": "code",
   "execution_count": null,
   "id": "2a72c569",
   "metadata": {
    "scrolled": false
   },
   "outputs": [],
   "source": [
    "plt.figure(figsize = (12,8))\n",
    "sns.lineplot(data = df, x = 'Year', y = 'PVinstallaties_per100houshoudens', hue = 'BU_NAAM')"
   ]
  },
  {
   "cell_type": "markdown",
   "id": "1ebcf66f",
   "metadata": {},
   "source": [
    "It remains to explain why for some buurten is the number of installations apparently decreasing"
   ]
  },
  {
   "cell_type": "code",
   "execution_count": null,
   "id": "37f2bc0e",
   "metadata": {},
   "outputs": [],
   "source": [
    "table_Bosch1 = df.groupby('Year').mean()\n",
    "#table_PV1 = table_PV1.reset_index()"
   ]
  },
  {
   "cell_type": "code",
   "execution_count": null,
   "id": "e07f27f8",
   "metadata": {},
   "outputs": [],
   "source": [
    "table_Bosch1.T"
   ]
  },
  {
   "cell_type": "code",
   "execution_count": null,
   "id": "eaf30cc3",
   "metadata": {},
   "outputs": [],
   "source": [
    "sns.lineplot(data = df, x = 'Year', y = 'Opgesteld_vermogen_per100houshoudens')"
   ]
  },
  {
   "cell_type": "code",
   "execution_count": null,
   "id": "19d22d2c",
   "metadata": {},
   "outputs": [],
   "source": [
    "sns.lineplot(data = df, x = 'Year', y = 'PVinstallaties_per100houshoudens')"
   ]
  },
  {
   "cell_type": "markdown",
   "id": "5dd4a8ef",
   "metadata": {},
   "source": [
    "### EDA of PV installed capacity as a function of demographic features"
   ]
  },
  {
   "cell_type": "markdown",
   "id": "11c30227",
   "metadata": {},
   "source": [
    "<a id='total'></a>\n",
    "#### 1. Total number of installations as function of time"
   ]
  },
  {
   "cell_type": "code",
   "execution_count": null,
   "id": "e2bb4e2e",
   "metadata": {},
   "outputs": [],
   "source": [
    "table_PV1 = df.groupby('Year').mean()\n",
    "table_PV1 = table_PV1.reset_index()"
   ]
  },
  {
   "cell_type": "code",
   "execution_count": null,
   "id": "7ca502b1",
   "metadata": {},
   "outputs": [],
   "source": [
    "table_PV1"
   ]
  },
  {
   "cell_type": "code",
   "execution_count": null,
   "id": "f5661aa2",
   "metadata": {},
   "outputs": [],
   "source": [
    "plt.figure(figsize = (12, 7))\n",
    "sns.lineplot(data = table_PV1, x = 'Year', y = 'PVinstallaties_per100houshoudens')"
   ]
  },
  {
   "cell_type": "code",
   "execution_count": null,
   "id": "1224d670",
   "metadata": {},
   "outputs": [],
   "source": [
    "table_PV2 = df.groupby(['Year', 'MateVanStedelijkheid_115']).mean()\n",
    "table_PV2 = table_PV2.reset_index()"
   ]
  },
  {
   "cell_type": "code",
   "execution_count": null,
   "id": "51f2ed29",
   "metadata": {
    "scrolled": true
   },
   "outputs": [],
   "source": [
    "table_PV2.head()"
   ]
  },
  {
   "cell_type": "code",
   "execution_count": null,
   "id": "9c96e8ce",
   "metadata": {},
   "outputs": [],
   "source": [
    "plt.figure(figsize = (12, 7))\n",
    "sns.lineplot(data = table_PV2, x = 'Year', y = 'Opgesteld vermogen', hue = 'MateVanStedelijkheid_115', palette = \"viridis\")"
   ]
  },
  {
   "cell_type": "code",
   "execution_count": null,
   "id": "cffcd79d",
   "metadata": {},
   "outputs": [],
   "source": [
    "plt.figure(figsize = (12, 7))\n",
    "sns.lineplot(data = table_PV2, x = 'Year', y = 'OV_per_installatie', hue = 'MateVanStedelijkheid_115', palette = \"viridis\")"
   ]
  },
  {
   "cell_type": "code",
   "execution_count": null,
   "id": "b705a18f",
   "metadata": {},
   "outputs": [],
   "source": [
    "plt.figure(figsize = (12, 7))\n",
    "sns.lineplot(data = table_PV2, x = 'Year', y = 'Opgesteld_vermogen_per100houshoudens', hue = 'MateVanStedelijkheid_115', \n",
    "             palette = \"viridis\")"
   ]
  },
  {
   "cell_type": "code",
   "execution_count": null,
   "id": "b0bd6825",
   "metadata": {},
   "outputs": [],
   "source": [
    "plt.figure(figsize = (12, 7))\n",
    "sns.lineplot(data = table_PV2, x = 'Year', y = 'PVinstallaties_per100houshoudens', hue = 'MateVanStedelijkheid_115', \n",
    "             palette = \"viridis\")"
   ]
  },
  {
   "cell_type": "markdown",
   "id": "e7afe7f7",
   "metadata": {},
   "source": [
    "<a id='koop'></a>\n",
    "#### 2. Percentage of privately owned houses"
   ]
  },
  {
   "cell_type": "code",
   "execution_count": null,
   "id": "2be3c5f6",
   "metadata": {},
   "outputs": [],
   "source": [
    "bins = [0, 20, 40, 60, 80, np.inf]\n",
    "names = ['<20', '21-40', '41-60', '61-80', '81-100']\n",
    "\n",
    "df['%_Koopwoningen'] = pd.cut(df['Koopwoningen_40'], bins, labels=names)"
   ]
  },
  {
   "cell_type": "code",
   "execution_count": null,
   "id": "a557fb2b",
   "metadata": {},
   "outputs": [],
   "source": [
    "table_PV3 = df.groupby(['Year', '%_Koopwoningen']).mean()\n",
    "table_PV3 = table_PV3.reset_index()"
   ]
  },
  {
   "cell_type": "code",
   "execution_count": null,
   "id": "1b946fdf",
   "metadata": {},
   "outputs": [],
   "source": [
    "plt.figure(figsize = (12, 7))\n",
    "sns.lineplot(data = table_PV3, x = 'Year', y = 'PVinstallaties_per100houshoudens', hue = '%_Koopwoningen', \n",
    "             palette = \"viridis\")"
   ]
  },
  {
   "cell_type": "markdown",
   "id": "21d2753f",
   "metadata": {},
   "source": [
    "<a id='een'></a>\n",
    "#### 3. Percentage of one family houses"
   ]
  },
  {
   "cell_type": "code",
   "execution_count": null,
   "id": "93865fd0",
   "metadata": {},
   "outputs": [],
   "source": [
    "bins = [0, 20, 40, 60, 80, np.inf]\n",
    "names = ['<20', '21-40', '41-60', '61-80', '81-100']\n",
    "\n",
    "df['Perc_Eengezinswoning'] = pd.cut(df['PercentageEengezinswoning_36'], bins, labels=names)\n",
    "df.head()"
   ]
  },
  {
   "cell_type": "code",
   "execution_count": null,
   "id": "f8e6d3c7",
   "metadata": {},
   "outputs": [],
   "source": [
    "table_PV4 = df.groupby(['Year', 'Perc_Eengezinswoning']).mean()\n",
    "table_PV4 = table_PV4.reset_index()"
   ]
  },
  {
   "cell_type": "code",
   "execution_count": null,
   "id": "868b3e34",
   "metadata": {},
   "outputs": [],
   "source": [
    "plt.figure(figsize = (12, 7))\n",
    "sns.lineplot(data = table_PV4, x = 'Year', y = 'PVinstallaties_per100houshoudens', hue = 'Perc_Eengezinswoning', \n",
    "             palette = \"viridis\")"
   ]
  },
  {
   "cell_type": "markdown",
   "id": "d208cc17",
   "metadata": {},
   "source": [
    "<a id='pv2022'></a>\n",
    "#### 4. Housholds with PV per 100 households in 2022"
   ]
  },
  {
   "cell_type": "code",
   "execution_count": null,
   "id": "ddbab18f",
   "metadata": {},
   "outputs": [],
   "source": [
    "df2022 = df[df['Year'] == '2022']"
   ]
  },
  {
   "cell_type": "code",
   "execution_count": null,
   "id": "ea82724d",
   "metadata": {},
   "outputs": [],
   "source": [
    "df2022"
   ]
  },
  {
   "cell_type": "code",
   "execution_count": null,
   "id": "31e81cae",
   "metadata": {},
   "outputs": [],
   "source": [
    "bins = [0, 20, 40, 60, 80, 100, np.inf]\n",
    "names = ['<20', '21-40', '41-60', '61-80', '81-100', '>100']\n",
    "\n",
    "df2022['PVinstallaties_per100houshoudens_groups'] = pd.cut(df2022['PVinstallaties_per100houshoudens'], bins, labels=names)"
   ]
  },
  {
   "cell_type": "code",
   "execution_count": null,
   "id": "3ac4f801",
   "metadata": {},
   "outputs": [],
   "source": [
    "df2022 = df2022[['BU_NAAM', 'PVinstallaties_per100houshoudens_groups']]"
   ]
  },
  {
   "cell_type": "code",
   "execution_count": null,
   "id": "70ce238e",
   "metadata": {},
   "outputs": [],
   "source": [
    "df2022.head()"
   ]
  },
  {
   "cell_type": "code",
   "execution_count": null,
   "id": "ee78a9ad",
   "metadata": {},
   "outputs": [],
   "source": [
    "df = df.merge(df2022, left_on= 'BU_NAAM', right_on = 'BU_NAAM')"
   ]
  },
  {
   "cell_type": "code",
   "execution_count": null,
   "id": "2e308595",
   "metadata": {},
   "outputs": [],
   "source": [
    "df.head()"
   ]
  },
  {
   "cell_type": "code",
   "execution_count": null,
   "id": "deb6b7b8",
   "metadata": {},
   "outputs": [],
   "source": [
    "df['PVinstallaties_per100houshoudens'].nlargest(5)"
   ]
  },
  {
   "cell_type": "code",
   "execution_count": null,
   "id": "1663c90a",
   "metadata": {
    "scrolled": true
   },
   "outputs": [],
   "source": [
    "df[df['PVinstallaties_per100houshoudens'].isin(df['PVinstallaties_per100houshoudens'].nlargest(5))].transpose()"
   ]
  },
  {
   "cell_type": "code",
   "execution_count": null,
   "id": "9dae00ff",
   "metadata": {},
   "outputs": [],
   "source": [
    "df['PVinstallaties_per100houshoudens_groups'].value_counts()"
   ]
  },
  {
   "cell_type": "code",
   "execution_count": null,
   "id": "e293c9d5",
   "metadata": {},
   "outputs": [],
   "source": [
    "table_PV5 = df.groupby(['Year', 'PVinstallaties_per100houshoudens_groups']).mean()\n",
    "table_PV5 = table_PV5.reset_index()"
   ]
  },
  {
   "cell_type": "code",
   "execution_count": null,
   "id": "d93ce1e5",
   "metadata": {
    "scrolled": true
   },
   "outputs": [],
   "source": [
    "table_PV5"
   ]
  },
  {
   "cell_type": "code",
   "execution_count": null,
   "id": "48f9ec48",
   "metadata": {},
   "outputs": [],
   "source": [
    "plt.figure(figsize = (12, 7))\n",
    "ax = sns.lineplot(data = table_PV5, x = 'Year', y = 'PVinstallaties_per100houshoudens', \n",
    "             hue = 'PVinstallaties_per100houshoudens_groups', palette = \"viridis\")\n",
    "ax.set_ylim([0, 100])"
   ]
  },
  {
   "cell_type": "markdown",
   "id": "efb457f7",
   "metadata": {},
   "source": [
    "<a id='elec'></a>\n",
    "#### 6. Average electricity consumption"
   ]
  },
  {
   "cell_type": "code",
   "execution_count": null,
   "id": "65fea8a9",
   "metadata": {},
   "outputs": [],
   "source": [
    "df['GemiddeldElektriciteitsverbruikTotaal_47'].hist(bins = 30)"
   ]
  },
  {
   "cell_type": "code",
   "execution_count": null,
   "id": "3cce34d2",
   "metadata": {
    "scrolled": true
   },
   "outputs": [],
   "source": [
    "bins = [0, 2500, 3000, 3500, 4000, 4500, np.inf]\n",
    "names = ['<2500', '2500-3000', '3000-3500', '3500-4000', '4000-4500', '>4500']\n",
    "\n",
    "df['Elektriciteitsverbruik_bins'] = pd.cut(df['GemiddeldElektriciteitsverbruikTotaal_47'], bins, labels=names)\n",
    "df.head().transpose()"
   ]
  },
  {
   "cell_type": "code",
   "execution_count": null,
   "id": "3b09c97c",
   "metadata": {},
   "outputs": [],
   "source": [
    "df['Elektriciteitsverbruik_bins'].value_counts()"
   ]
  },
  {
   "cell_type": "code",
   "execution_count": null,
   "id": "c84d415a",
   "metadata": {},
   "outputs": [],
   "source": [
    "table_PV7 = df.groupby(['Year', 'Elektriciteitsverbruik_bins']).mean()\n",
    "table_PV7 = table_PV7.reset_index()"
   ]
  },
  {
   "cell_type": "code",
   "execution_count": null,
   "id": "7beb705e",
   "metadata": {},
   "outputs": [],
   "source": [
    "plt.figure(figsize = (12, 7))\n",
    "sns.lineplot(data = table_PV7, x = 'Year', y = 'Opgesteld vermogen', hue = 'Elektriciteitsverbruik_bins', \n",
    "             palette = \"viridis\")"
   ]
  },
  {
   "cell_type": "code",
   "execution_count": null,
   "id": "70ce016a",
   "metadata": {},
   "outputs": [],
   "source": [
    "plt.figure(figsize = (12, 7))\n",
    "sns.lineplot(data = table_PV7, x = 'Year', y = 'PVinstallaties_per100houshoudens', hue = 'Elektriciteitsverbruik_bins', \n",
    "             palette = \"viridis\")"
   ]
  },
  {
   "cell_type": "markdown",
   "id": "a519d8ac",
   "metadata": {},
   "source": [
    "Apparent decrease in the number of installations has to be explained"
   ]
  },
  {
   "cell_type": "code",
   "execution_count": null,
   "id": "e9c82d85",
   "metadata": {},
   "outputs": [],
   "source": []
  }
 ],
 "metadata": {
  "interpreter": {
   "hash": "4b5eed231ec0c115323e225ce5385d6626cfb048417038261eb3d8b8d0f3984b"
  },
  "kernelspec": {
   "display_name": "Python 3.9.7 ('base')",
   "language": "python",
   "name": "python3"
  },
  "language_info": {
   "codemirror_mode": {
    "name": "ipython",
    "version": 3
   },
   "file_extension": ".py",
   "mimetype": "text/x-python",
   "name": "python",
   "nbconvert_exporter": "python",
   "pygments_lexer": "ipython3",
   "version": "3.9.7"
  }
 },
 "nbformat": 4,
 "nbformat_minor": 5
}
